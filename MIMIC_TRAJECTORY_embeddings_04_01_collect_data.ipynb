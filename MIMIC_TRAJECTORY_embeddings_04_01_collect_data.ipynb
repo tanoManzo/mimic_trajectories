{
  "nbformat": 4,
  "nbformat_minor": 0,
  "metadata": {
    "colab": {
      "provenance": [],
      "include_colab_link": true
    },
    "kernelspec": {
      "name": "python3",
      "display_name": "Python 3"
    },
    "language_info": {
      "name": "python"
    }
  },
  "cells": [
    {
      "cell_type": "markdown",
      "metadata": {
        "id": "view-in-github",
        "colab_type": "text"
      },
      "source": [
        "<a href=\"https://colab.research.google.com/github/tanoManzo/mimic_trajectories/blob/dev/MIMIC_TRAJECTORY_embeddings_04_01_collect_data.ipynb\" target=\"_parent\"><img src=\"https://colab.research.google.com/assets/colab-badge.svg\" alt=\"Open In Colab\"/></a>"
      ]
    },
    {
      "cell_type": "markdown",
      "source": [
        "# Data Collection, Embeddings and Attitude"
      ],
      "metadata": {
        "id": "5CSBbeSkyRmq"
      }
    },
    {
      "cell_type": "code",
      "source": [
        "from google.colab import drive\n",
        "drive.mount('/content/drive')"
      ],
      "metadata": {
        "colab": {
          "base_uri": "https://localhost:8080/"
        },
        "id": "GKFaijaIsKBU",
        "outputId": "55b32722-0a3f-42d7-b569-6141e82fd882"
      },
      "execution_count": 1,
      "outputs": [
        {
          "output_type": "stream",
          "name": "stdout",
          "text": [
            "Mounted at /content/drive\n"
          ]
        }
      ]
    },
    {
      "cell_type": "code",
      "execution_count": 2,
      "metadata": {
        "id": "35BpcyS4eWHw"
      },
      "outputs": [],
      "source": [
        "import numpy as np\n",
        "import pandas as pd\n",
        "import seaborn as sns\n",
        "notes_path = \"/content/drive/MyDrive/NIH/Data/\""
      ]
    },
    {
      "cell_type": "code",
      "source": [
        "file_name = \"ICUSTAYS.csv\"\n",
        "df_ward = pd.read_csv(notes_path+file_name)\n",
        "subject_id_tsicu = df_ward[(df_ward['FIRST_CAREUNIT']=='TSICU') & (df_ward['LAST_CAREUNIT']=='TSICU')].SUBJECT_ID.unique()\n",
        "print(f'Number of Subjects in TSICU: {len(subject_id_tsicu)}')"
      ],
      "metadata": {
        "id": "Ti0D5GvITEpa",
        "colab": {
          "base_uri": "https://localhost:8080/"
        },
        "outputId": "84fa8695-03e5-4ec3-9fe5-1fc5c7fe7c24"
      },
      "execution_count": 3,
      "outputs": [
        {
          "output_type": "stream",
          "name": "stdout",
          "text": [
            "Number of Subjects in TSICU: 5418\n"
          ]
        }
      ]
    },
    {
      "cell_type": "code",
      "source": [
        "file_name = \"DIAGNOSES_ICD.csv\"\n",
        "df_icd = pd.read_csv(notes_path+file_name)\n",
        "df_icd_first = df_icd[df_icd['SEQ_NUM']==1]\n",
        "df_icd_first_tsicu = df_icd_first[df_icd_first['SUBJECT_ID'].isin(subject_id_tsicu)]\n",
        "print(f'Number of unique ICD 9 first sequence from TCICU subject: {df_icd_first_tsicu.ICD9_CODE.nunique()}')\n",
        "icd_tsicu = df_icd_first_tsicu.ICD9_CODE.value_counts().nlargest(5)\n",
        "print('Top 5 Popular ICD9 in the TSICU population with duplicates:')\n",
        "print(\"code  #subjects\")\n",
        "icd_tsicu"
      ],
      "metadata": {
        "id": "PFLocK_T-w_x",
        "outputId": "d93f548c-cd04-472a-bed6-cbe92a286fb7",
        "colab": {
          "base_uri": "https://localhost:8080/"
        }
      },
      "execution_count": 4,
      "outputs": [
        {
          "output_type": "stream",
          "name": "stdout",
          "text": [
            "Number of unique ICD 9 first sequence from TCICU subject: 1387\n",
            "Top 5 Popular ICD9 in the TSICU population with duplicates:\n",
            "code  #subjects\n"
          ]
        },
        {
          "output_type": "execute_result",
          "data": {
            "text/plain": [
              "431      190\n",
              "0389     164\n",
              "85221    103\n",
              "51881     81\n",
              "430       79\n",
              "Name: ICD9_CODE, dtype: int64"
            ]
          },
          "metadata": {},
          "execution_count": 4
        }
      ]
    },
    {
      "cell_type": "code",
      "source": [
        "condition = []\n",
        "for item in df_icd['ICD9_CODE'].values:\n",
        "  \n",
        "  if str(item).isdigit():\n",
        "    item = float(item)\n",
        "    if (item>799 and item<1000):\n",
        "      condition.append(True)\n",
        "    else: \n",
        "      condition.append(False)\n",
        "  else:\n",
        "      condition.append(False)\n",
        "\n",
        "df_8xx = df_icd[condition]\n",
        "df_8xx_tsicu = df_8xx[df_8xx['SUBJECT_ID'].isin(subject_id_tsicu)]\n",
        "icd8xx_subjects_ids = df_8xx_tsicu['SUBJECT_ID'].unique()\n",
        "print(f'Number of subjects with a first sequence ICD 9 code [800,900) : {len(icd8xx_subjects_ids)}')"
      ],
      "metadata": {
        "colab": {
          "base_uri": "https://localhost:8080/"
        },
        "id": "6-NdyuwtOgIx",
        "outputId": "4c7a0f42-4617-440d-8017-15e4c0ba7218"
      },
      "execution_count": 5,
      "outputs": [
        {
          "output_type": "stream",
          "name": "stdout",
          "text": [
            "Number of subjects with a first sequence ICD 9 code [800,900) : 272\n"
          ]
        }
      ]
    },
    {
      "cell_type": "code",
      "source": [
        "patients = \"PATIENTS.csv\"\n",
        "df_patients = pd.read_csv(notes_path+patients)\n",
        "df_patients_icd8xx_tsicu = df_patients[df_patients['SUBJECT_ID'].isin(icd8xx_subjects_ids)]\n",
        "\n",
        "print('Subjects Expired (1), Alive (0): ')\n",
        "print(df_patients_icd8xx_tsicu['EXPIRE_FLAG'].value_counts())\n",
        "print(df_patients_icd8xx_tsicu['GENDER'].value_counts())"
      ],
      "metadata": {
        "id": "oz7EmtbWQC31",
        "colab": {
          "base_uri": "https://localhost:8080/"
        },
        "outputId": "1767451a-31d8-4adb-cd61-f38b7c81589e"
      },
      "execution_count": 6,
      "outputs": [
        {
          "output_type": "stream",
          "name": "stdout",
          "text": [
            "Subjects Expired (1), Alive (0): \n",
            "0    159\n",
            "1    113\n",
            "Name: EXPIRE_FLAG, dtype: int64\n",
            "M    153\n",
            "F    119\n",
            "Name: GENDER, dtype: int64\n"
          ]
        }
      ]
    },
    {
      "cell_type": "code",
      "source": [
        "gcs_total = \"NOTES_NURSING_TRAJECTORIES_TSICU_GCS_TOTAL.csv\"\n",
        "df_gcs_total = pd.read_csv(notes_path+gcs_total)\n",
        "df_gcs_total.info()"
      ],
      "metadata": {
        "colab": {
          "base_uri": "https://localhost:8080/"
        },
        "id": "LgKfilA_x6Uw",
        "outputId": "b4ced763-5864-40bd-ae63-76a7918d5669"
      },
      "execution_count": 7,
      "outputs": [
        {
          "output_type": "stream",
          "name": "stdout",
          "text": [
            "<class 'pandas.core.frame.DataFrame'>\n",
            "RangeIndex: 14138 entries, 0 to 14137\n",
            "Data columns (total 15 columns):\n",
            " #   Column        Non-Null Count  Dtype  \n",
            "---  ------        --------------  -----  \n",
            " 0   ROW_ID        14138 non-null  int64  \n",
            " 1   SUBJECT_ID    14138 non-null  int64  \n",
            " 2   HADM_ID       14138 non-null  int64  \n",
            " 3   ICUSTAY_ID    14138 non-null  float64\n",
            " 4   ITEMID        14138 non-null  int64  \n",
            " 5   CHARTTIME     14138 non-null  object \n",
            " 6   STORETIME     14138 non-null  object \n",
            " 7   CGID          14138 non-null  float64\n",
            " 8   VALUE         14137 non-null  float64\n",
            " 9   VALUENUM      14137 non-null  float64\n",
            " 10  VALUEUOM      14138 non-null  object \n",
            " 11  WARNING       0 non-null      float64\n",
            " 12  ERROR         0 non-null      float64\n",
            " 13  RESULTSTATUS  0 non-null      float64\n",
            " 14  STOPPED       14138 non-null  object \n",
            "dtypes: float64(7), int64(4), object(4)\n",
            "memory usage: 1.6+ MB\n"
          ]
        }
      ]
    },
    {
      "cell_type": "code",
      "source": [
        "df_gcs_total_subjects = df_gcs_total[df_gcs_total['SUBJECT_ID'].isin(icd8xx_subjects_ids)]\n",
        "df_gcs_total_subjects['SUBJECT_ID'].nunique()"
      ],
      "metadata": {
        "colab": {
          "base_uri": "https://localhost:8080/"
        },
        "id": "q1aE_OgdyF2R",
        "outputId": "2cbe1d13-43c7-49c5-8b52-be8d7f8e5b37"
      },
      "execution_count": 8,
      "outputs": [
        {
          "output_type": "execute_result",
          "data": {
            "text/plain": [
              "149"
            ]
          },
          "metadata": {},
          "execution_count": 8
        }
      ]
    },
    {
      "cell_type": "code",
      "source": [
        "df_gcs_total_subjects.info()\n",
        "df_gcs_total_subjects.head(1)"
      ],
      "metadata": {
        "id": "Vvmw3CbRN8_l",
        "outputId": "025d261d-7e12-4fa3-dc5f-c4db8cada86e",
        "colab": {
          "base_uri": "https://localhost:8080/",
          "height": 462
        }
      },
      "execution_count": 17,
      "outputs": [
        {
          "output_type": "stream",
          "name": "stdout",
          "text": [
            "<class 'pandas.core.frame.DataFrame'>\n",
            "Int64Index: 14138 entries, 0 to 14137\n",
            "Data columns (total 15 columns):\n",
            " #   Column        Non-Null Count  Dtype  \n",
            "---  ------        --------------  -----  \n",
            " 0   ROW_ID        14138 non-null  int64  \n",
            " 1   SUBJECT_ID    14138 non-null  int64  \n",
            " 2   HADM_ID       14138 non-null  int64  \n",
            " 3   ICUSTAY_ID    14138 non-null  float64\n",
            " 4   ITEMID        14138 non-null  int64  \n",
            " 5   CHARTTIME     14138 non-null  object \n",
            " 6   STORETIME     14138 non-null  object \n",
            " 7   CGID          14138 non-null  float64\n",
            " 8   VALUE         14137 non-null  float64\n",
            " 9   VALUENUM      14137 non-null  float64\n",
            " 10  VALUEUOM      14138 non-null  object \n",
            " 11  WARNING       0 non-null      float64\n",
            " 12  ERROR         0 non-null      float64\n",
            " 13  RESULTSTATUS  0 non-null      float64\n",
            " 14  STOPPED       14138 non-null  object \n",
            "dtypes: float64(7), int64(4), object(4)\n",
            "memory usage: 1.7+ MB\n"
          ]
        },
        {
          "output_type": "execute_result",
          "data": {
            "text/plain": [
              "     ROW_ID  SUBJECT_ID  HADM_ID  ICUSTAY_ID  ITEMID            CHARTTIME  \\\n",
              "0  38382037         778   132827    247130.0     198  2180-04-01 06:00:00   \n",
              "\n",
              "             STORETIME     CGID  VALUE  VALUENUM VALUEUOM  WARNING  ERROR  \\\n",
              "0  2180-04-01 06:25:00  21570.0   15.0      15.0   points      NaN    NaN   \n",
              "\n",
              "   RESULTSTATUS   STOPPED  \n",
              "0           NaN  NotStopd  "
            ],
            "text/html": [
              "\n",
              "  <div id=\"df-70cd79fb-2f5e-4dfa-af7e-43cf90934439\">\n",
              "    <div class=\"colab-df-container\">\n",
              "      <div>\n",
              "<style scoped>\n",
              "    .dataframe tbody tr th:only-of-type {\n",
              "        vertical-align: middle;\n",
              "    }\n",
              "\n",
              "    .dataframe tbody tr th {\n",
              "        vertical-align: top;\n",
              "    }\n",
              "\n",
              "    .dataframe thead th {\n",
              "        text-align: right;\n",
              "    }\n",
              "</style>\n",
              "<table border=\"1\" class=\"dataframe\">\n",
              "  <thead>\n",
              "    <tr style=\"text-align: right;\">\n",
              "      <th></th>\n",
              "      <th>ROW_ID</th>\n",
              "      <th>SUBJECT_ID</th>\n",
              "      <th>HADM_ID</th>\n",
              "      <th>ICUSTAY_ID</th>\n",
              "      <th>ITEMID</th>\n",
              "      <th>CHARTTIME</th>\n",
              "      <th>STORETIME</th>\n",
              "      <th>CGID</th>\n",
              "      <th>VALUE</th>\n",
              "      <th>VALUENUM</th>\n",
              "      <th>VALUEUOM</th>\n",
              "      <th>WARNING</th>\n",
              "      <th>ERROR</th>\n",
              "      <th>RESULTSTATUS</th>\n",
              "      <th>STOPPED</th>\n",
              "    </tr>\n",
              "  </thead>\n",
              "  <tbody>\n",
              "    <tr>\n",
              "      <th>0</th>\n",
              "      <td>38382037</td>\n",
              "      <td>778</td>\n",
              "      <td>132827</td>\n",
              "      <td>247130.0</td>\n",
              "      <td>198</td>\n",
              "      <td>2180-04-01 06:00:00</td>\n",
              "      <td>2180-04-01 06:25:00</td>\n",
              "      <td>21570.0</td>\n",
              "      <td>15.0</td>\n",
              "      <td>15.0</td>\n",
              "      <td>points</td>\n",
              "      <td>NaN</td>\n",
              "      <td>NaN</td>\n",
              "      <td>NaN</td>\n",
              "      <td>NotStopd</td>\n",
              "    </tr>\n",
              "  </tbody>\n",
              "</table>\n",
              "</div>\n",
              "      <button class=\"colab-df-convert\" onclick=\"convertToInteractive('df-70cd79fb-2f5e-4dfa-af7e-43cf90934439')\"\n",
              "              title=\"Convert this dataframe to an interactive table.\"\n",
              "              style=\"display:none;\">\n",
              "        \n",
              "  <svg xmlns=\"http://www.w3.org/2000/svg\" height=\"24px\"viewBox=\"0 0 24 24\"\n",
              "       width=\"24px\">\n",
              "    <path d=\"M0 0h24v24H0V0z\" fill=\"none\"/>\n",
              "    <path d=\"M18.56 5.44l.94 2.06.94-2.06 2.06-.94-2.06-.94-.94-2.06-.94 2.06-2.06.94zm-11 1L8.5 8.5l.94-2.06 2.06-.94-2.06-.94L8.5 2.5l-.94 2.06-2.06.94zm10 10l.94 2.06.94-2.06 2.06-.94-2.06-.94-.94-2.06-.94 2.06-2.06.94z\"/><path d=\"M17.41 7.96l-1.37-1.37c-.4-.4-.92-.59-1.43-.59-.52 0-1.04.2-1.43.59L10.3 9.45l-7.72 7.72c-.78.78-.78 2.05 0 2.83L4 21.41c.39.39.9.59 1.41.59.51 0 1.02-.2 1.41-.59l7.78-7.78 2.81-2.81c.8-.78.8-2.07 0-2.86zM5.41 20L4 18.59l7.72-7.72 1.47 1.35L5.41 20z\"/>\n",
              "  </svg>\n",
              "      </button>\n",
              "      \n",
              "  <style>\n",
              "    .colab-df-container {\n",
              "      display:flex;\n",
              "      flex-wrap:wrap;\n",
              "      gap: 12px;\n",
              "    }\n",
              "\n",
              "    .colab-df-convert {\n",
              "      background-color: #E8F0FE;\n",
              "      border: none;\n",
              "      border-radius: 50%;\n",
              "      cursor: pointer;\n",
              "      display: none;\n",
              "      fill: #1967D2;\n",
              "      height: 32px;\n",
              "      padding: 0 0 0 0;\n",
              "      width: 32px;\n",
              "    }\n",
              "\n",
              "    .colab-df-convert:hover {\n",
              "      background-color: #E2EBFA;\n",
              "      box-shadow: 0px 1px 2px rgba(60, 64, 67, 0.3), 0px 1px 3px 1px rgba(60, 64, 67, 0.15);\n",
              "      fill: #174EA6;\n",
              "    }\n",
              "\n",
              "    [theme=dark] .colab-df-convert {\n",
              "      background-color: #3B4455;\n",
              "      fill: #D2E3FC;\n",
              "    }\n",
              "\n",
              "    [theme=dark] .colab-df-convert:hover {\n",
              "      background-color: #434B5C;\n",
              "      box-shadow: 0px 1px 3px 1px rgba(0, 0, 0, 0.15);\n",
              "      filter: drop-shadow(0px 1px 2px rgba(0, 0, 0, 0.3));\n",
              "      fill: #FFFFFF;\n",
              "    }\n",
              "  </style>\n",
              "\n",
              "      <script>\n",
              "        const buttonEl =\n",
              "          document.querySelector('#df-70cd79fb-2f5e-4dfa-af7e-43cf90934439 button.colab-df-convert');\n",
              "        buttonEl.style.display =\n",
              "          google.colab.kernel.accessAllowed ? 'block' : 'none';\n",
              "\n",
              "        async function convertToInteractive(key) {\n",
              "          const element = document.querySelector('#df-70cd79fb-2f5e-4dfa-af7e-43cf90934439');\n",
              "          const dataTable =\n",
              "            await google.colab.kernel.invokeFunction('convertToInteractive',\n",
              "                                                     [key], {});\n",
              "          if (!dataTable) return;\n",
              "\n",
              "          const docLinkHtml = 'Like what you see? Visit the ' +\n",
              "            '<a target=\"_blank\" href=https://colab.research.google.com/notebooks/data_table.ipynb>data table notebook</a>'\n",
              "            + ' to learn more about interactive tables.';\n",
              "          element.innerHTML = '';\n",
              "          dataTable['output_type'] = 'display_data';\n",
              "          await google.colab.output.renderOutput(dataTable, element);\n",
              "          const docLink = document.createElement('div');\n",
              "          docLink.innerHTML = docLinkHtml;\n",
              "          element.appendChild(docLink);\n",
              "        }\n",
              "      </script>\n",
              "    </div>\n",
              "  </div>\n",
              "  "
            ]
          },
          "metadata": {},
          "execution_count": 17
        }
      ]
    },
    {
      "cell_type": "code",
      "source": [
        "df_patients_icd8xx_tsicu_gcs_scores = df_gcs_total_subjects.groupby(['SUBJECT_ID', 'CGID']).agg(\n",
        "    MAX_SCORE=('VALUE', 'max'),\n",
        "    MIN_SCORE=('VALUE', 'min'),\n",
        "    DELTA_SCORE=('VALUE', lambda x: x.max() - x.min())\n",
        ").reset_index()\n",
        "df_patients_icd8xx_tsicu_gcs_scores.info()"
      ],
      "metadata": {
        "id": "AX_hxO21RSTb",
        "outputId": "e01bb8e4-64a9-4600-d46f-b982a784565a",
        "colab": {
          "base_uri": "https://localhost:8080/"
        }
      },
      "execution_count": 23,
      "outputs": [
        {
          "output_type": "stream",
          "name": "stdout",
          "text": [
            "<class 'pandas.core.frame.DataFrame'>\n",
            "RangeIndex: 2465 entries, 0 to 2464\n",
            "Data columns (total 5 columns):\n",
            " #   Column       Non-Null Count  Dtype  \n",
            "---  ------       --------------  -----  \n",
            " 0   SUBJECT_ID   2465 non-null   int64  \n",
            " 1   CGID         2465 non-null   float64\n",
            " 2   MAX_SCORE    2465 non-null   float64\n",
            " 3   MIN_SCORE    2465 non-null   float64\n",
            " 4   DELTA_SCORE  2465 non-null   float64\n",
            "dtypes: float64(4), int64(1)\n",
            "memory usage: 96.4 KB\n"
          ]
        }
      ]
    },
    {
      "cell_type": "code",
      "source": [
        "PATH_TO_SAVE = \"/content/drive/MyDrive/NIH/Data/\"\n",
        "name_file_to_save = 'NOTES_NURSING_TRAJECTORIES_TSICU_GCS_SUB_CG.csv'\n",
        "df_patients_icd8xx_tsicu_gcs_scores.to_csv(PATH_TO_SAVE+name_file_to_save,index=False)"
      ],
      "metadata": {
        "id": "fzzu9h7pZoWt"
      },
      "execution_count": 26,
      "outputs": []
    },
    {
      "cell_type": "code",
      "source": [
        "df_patients_icd8xx_tsicu_gcs_scores_subjects = df_patients_icd8xx_tsicu_gcs_scores.groupby(['SUBJECT_ID']).agg(\n",
        "    MAX_SCORE=('MAX_SCORE', 'max'),\n",
        "    MIN_SCORE=('MIN_SCORE', 'min'),\n",
        "    CG_COUNT=('SUBJECT_ID', 'count')\n",
        ").reset_index()\n",
        "df_patients_icd8xx_tsicu_gcs_scores_subjects['DELTA_SCORE'] = df_patients_icd8xx_tsicu_gcs_scores_subjects['MAX_SCORE'] - df_patients_icd8xx_tsicu_gcs_scores_subjects['MIN_SCORE']\n",
        "\n",
        "df_patients_icd8xx_tsicu_gcs_scores_subjects.info()"
      ],
      "metadata": {
        "id": "5uf-ZA7mX9Mn",
        "outputId": "a8a371d6-4823-4b56-ad12-29730a791890",
        "colab": {
          "base_uri": "https://localhost:8080/"
        }
      },
      "execution_count": 30,
      "outputs": [
        {
          "output_type": "stream",
          "name": "stdout",
          "text": [
            "<class 'pandas.core.frame.DataFrame'>\n",
            "RangeIndex: 149 entries, 0 to 148\n",
            "Data columns (total 5 columns):\n",
            " #   Column       Non-Null Count  Dtype  \n",
            "---  ------       --------------  -----  \n",
            " 0   SUBJECT_ID   149 non-null    int64  \n",
            " 1   MAX_SCORE    149 non-null    float64\n",
            " 2   MIN_SCORE    149 non-null    float64\n",
            " 3   CG_COUNT     149 non-null    int64  \n",
            " 4   DELTA_SCORE  149 non-null    float64\n",
            "dtypes: float64(3), int64(2)\n",
            "memory usage: 5.9 KB\n"
          ]
        }
      ]
    },
    {
      "cell_type": "code",
      "source": [
        "PATH_TO_SAVE = \"/content/drive/MyDrive/NIH/Data/\"\n",
        "name_file_to_save = 'NOTES_NURSING_TRAJECTORIES_TSICU_GCS_SUB_ONLY.csv'\n",
        "df_patients_icd8xx_tsicu_gcs_scores_subjects.to_csv(PATH_TO_SAVE+name_file_to_save,index=False)"
      ],
      "metadata": {
        "id": "y-teC_WqZufd"
      },
      "execution_count": 31,
      "outputs": []
    },
    {
      "cell_type": "code",
      "source": [
        "sns.set()\n",
        "\n",
        "num_notes = df_patients_icd8xx_tsicu_gcs_scores_subjects['DELTA_SCORE']\n",
        "#print(num_notes)\n",
        "print(f'number of notes: min={num_notes.min()}, max={num_notes.max()}, mean={num_notes.mean()},  median={num_notes.median()}')\n",
        "sns.boxplot(x=num_notes)\n",
        "sns.displot(num_notes)"
      ],
      "metadata": {
        "id": "3-N3a7tXeB1-",
        "outputId": "3151e273-a698-447f-e5a1-324db4192ece",
        "colab": {
          "base_uri": "https://localhost:8080/",
          "height": 977
        }
      },
      "execution_count": 33,
      "outputs": [
        {
          "output_type": "stream",
          "name": "stdout",
          "text": [
            "number of notes: min=0.0, max=12.0, mean=7.147651006711409,  median=8.0\n"
          ]
        },
        {
          "output_type": "execute_result",
          "data": {
            "text/plain": [
              "<seaborn.axisgrid.FacetGrid at 0x7f9c09316860>"
            ]
          },
          "metadata": {},
          "execution_count": 33
        },
        {
          "output_type": "display_data",
          "data": {
            "text/plain": [
              "<Figure size 640x480 with 1 Axes>"
            ],
            "image/png": "[encoded data removed]"
          },
          "metadata": {}
        },
        {
          "output_type": "display_data",
          "data": {
            "text/plain": [
              "<Figure size 500x500 with 1 Axes>"
            ],
            "image/png": "[encoded data removed]"
          },
          "metadata": {}
        }
      ]
    },
    {
      "cell_type": "code",
      "source": [
        "note_events = \"NOTEEVENTS.csv\"\n",
        "df_note_events = pd.read_csv(notes_path+note_events)\n",
        "df_note_events.info()"
      ],
      "metadata": {
        "id": "-nA246kVYBs_",
        "outputId": "1e7108b4-585f-45e9-b616-ac5afffaee06",
        "colab": {
          "base_uri": "https://localhost:8080/"
        }
      },
      "execution_count": 9,
      "outputs": [
        {
          "output_type": "stream",
          "name": "stderr",
          "text": [
            "<ipython-input-9-8fd00f55f791>:2: DtypeWarning: Columns (4,5) have mixed types. Specify dtype option on import or set low_memory=False.\n",
            "  df_note_events = pd.read_csv(notes_path+note_events)\n"
          ]
        },
        {
          "output_type": "stream",
          "name": "stdout",
          "text": [
            "<class 'pandas.core.frame.DataFrame'>\n",
            "RangeIndex: 2083180 entries, 0 to 2083179\n",
            "Data columns (total 11 columns):\n",
            " #   Column       Dtype  \n",
            "---  ------       -----  \n",
            " 0   ROW_ID       int64  \n",
            " 1   SUBJECT_ID   int64  \n",
            " 2   HADM_ID      float64\n",
            " 3   CHARTDATE    object \n",
            " 4   CHARTTIME    object \n",
            " 5   STORETIME    object \n",
            " 6   CATEGORY     object \n",
            " 7   DESCRIPTION  object \n",
            " 8   CGID         float64\n",
            " 9   ISERROR      float64\n",
            " 10  TEXT         object \n",
            "dtypes: float64(3), int64(2), object(6)\n",
            "memory usage: 174.8+ MB\n"
          ]
        }
      ]
    },
    {
      "cell_type": "code",
      "source": [
        "df_note_icd8xx_tsicu = df_note_events[df_note_events['SUBJECT_ID'].isin(icd8xx_subjects_ids)]\n",
        "print(f'Number of total notes: {len(df_note_icd8xx_tsicu)}')\n",
        "df_nursing_progress_note_icd8xx_tsicu = df_note_icd8xx_tsicu[df_note_icd8xx_tsicu['DESCRIPTION']=='Nursing Progress Note']\n",
        "print(f'Number of Nursing Progress Notes: {len(df_nursing_progress_note_icd8xx_tsicu)}')\n",
        "df_discharge_note_icd8xx_tsicu = df_note_icd8xx_tsicu[df_note_icd8xx_tsicu['CATEGORY']=='Discharge summary']\n",
        "print(f'Number of Discharge summary: {len(df_discharge_note_icd8xx_tsicu)}')"
      ],
      "metadata": {
        "id": "DwwYQRkRlZtq",
        "outputId": "e1f962e3-9354-43fe-bdf4-6f955f1775c0",
        "colab": {
          "base_uri": "https://localhost:8080/"
        }
      },
      "execution_count": 10,
      "outputs": [
        {
          "output_type": "stream",
          "name": "stdout",
          "text": [
            "Number of total notes: 26908\n",
            "Number of Nursing Progress Notes: 3765\n",
            "Number of Discharge summary: 678\n"
          ]
        }
      ]
    },
    {
      "cell_type": "code",
      "source": [
        "cgid_icd8xx_tsicu = df_nursing_progress_note_icd8xx_tsicu['CGID'].unique()\n",
        "#print(f'Number of caregivers: {len(cgid_maxicu_tsicu)}')"
      ],
      "metadata": {
        "id": "2bUQdNjco_Ev"
      },
      "execution_count": 12,
      "outputs": []
    },
    {
      "cell_type": "code",
      "source": [
        "caregivers = \"CAREGIVERS.csv\"\n",
        "df_caregivers = pd.read_csv(notes_path+caregivers)\n",
        "df_caregivers[df_caregivers['CGID'].isin(cgid_icd8xx_tsicu)].LABEL.value_counts()"
      ],
      "metadata": {
        "colab": {
          "base_uri": "https://localhost:8080/"
        },
        "id": "nylbIdrdDKTn",
        "outputId": "5ad5735b-eda0-49ba-c7a7-6972af4652f3"
      },
      "execution_count": 13,
      "outputs": [
        {
          "output_type": "execute_result",
          "data": {
            "text/plain": [
              "RN      232\n",
              "RNs       4\n",
              "Rn        4\n",
              "rn        2\n",
              "PCT       1\n",
              "Nurs      1\n",
              "NS        1\n",
              "CoRN      1\n",
              "MD        1\n",
              "RT        1\n",
              "MDs       1\n",
              "RRT       1\n",
              "MS        1\n",
              "Name: LABEL, dtype: int64"
            ]
          },
          "metadata": {},
          "execution_count": 13
        }
      ]
    },
    {
      "cell_type": "code",
      "source": [
        "name_file= \"ADMISSIONS.csv\"\n",
        "df_adm = pd.read_csv(notes_path+name_file)\n",
        "df_adm_icd8xx_tsicu = df_adm[df_adm['SUBJECT_ID'].isin(cgid_icd8xx_tsicu)]\n",
        "df_adm_icd8xx_tsicu"
      ],
      "metadata": {
        "colab": {
          "base_uri": "https://localhost:8080/",
          "height": 834
        },
        "id": "0uSjIRb0Kf7D",
        "outputId": "0a2a0483-2f27-4e02-c11b-217b4f5f5901"
      },
      "execution_count": 14,
      "outputs": [
        {
          "output_type": "execute_result",
          "data": {
            "text/plain": [
              "       ROW_ID  SUBJECT_ID  HADM_ID            ADMITTIME            DISCHTIME  \\\n",
              "14853   17902       14626   148547  2190-07-16 07:15:00  2190-07-22 17:00:00   \n",
              "15023   17936       14657   111125  2200-07-05 19:37:00  2200-07-11 10:45:00   \n",
              "15144   17772       14518   187448  2195-08-26 14:05:00  2195-08-30 14:30:00   \n",
              "15171   17799       14542   132211  2132-07-25 00:54:00  2132-07-29 20:59:00   \n",
              "15396   17329       14151   128499  2135-12-29 11:11:00  2136-04-21 20:07:00   \n",
              "...       ...         ...      ...                  ...                  ...   \n",
              "31181   25878       21202   100711  2147-01-27 17:16:00  2147-02-12 18:12:00   \n",
              "31182   25879       21202   194067  2148-02-13 16:07:00  2148-04-09 16:24:00   \n",
              "31183   25880       21202   104041  2148-09-30 13:05:00  2148-10-13 09:05:00   \n",
              "31185   25882       21204   162306  2148-05-09 21:39:00  2148-05-10 23:04:00   \n",
              "31186   25883       21204   152389  2148-05-17 17:13:00  2148-05-26 15:25:00   \n",
              "\n",
              "                 DEATHTIME ADMISSION_TYPE         ADMISSION_LOCATION  \\\n",
              "14853                  NaN       ELECTIVE  PHYS REFERRAL/NORMAL DELI   \n",
              "15023                  NaN      EMERGENCY       EMERGENCY ROOM ADMIT   \n",
              "15144                  NaN        NEWBORN  PHYS REFERRAL/NORMAL DELI   \n",
              "15171  2132-07-29 20:59:00      EMERGENCY  TRANSFER FROM SKILLED NUR   \n",
              "15396                  NaN        NEWBORN  CLINIC REFERRAL/PREMATURE   \n",
              "...                    ...            ...                        ...   \n",
              "31181                  NaN      EMERGENCY  CLINIC REFERRAL/PREMATURE   \n",
              "31182                  NaN      EMERGENCY  CLINIC REFERRAL/PREMATURE   \n",
              "31183  2148-10-13 09:05:00      EMERGENCY  CLINIC REFERRAL/PREMATURE   \n",
              "31185                  NaN        NEWBORN  CLINIC REFERRAL/PREMATURE   \n",
              "31186                  NaN      EMERGENCY  TRANSFER FROM HOSP/EXTRAM   \n",
              "\n",
              "            DISCHARGE_LOCATION INSURANCE LANGUAGE       RELIGION  \\\n",
              "14853         HOME HEALTH CARE  Medicare      NaN          OTHER   \n",
              "15023                     HOME  Self Pay      NaN          OTHER   \n",
              "15144                     HOME   Private      NaN   UNOBTAINABLE   \n",
              "15171             DEAD/EXPIRED  Medicare     RUSS         JEWISH   \n",
              "15396         HOME HEALTH CARE   Private      NaN            NaN   \n",
              "...                        ...       ...      ...            ...   \n",
              "31181         HOME HEALTH CARE  Medicare     ENGL       CATHOLIC   \n",
              "31182  LONG TERM CARE HOSPITAL  Medicare     ENGL       CATHOLIC   \n",
              "31183             DEAD/EXPIRED  Medicare     ENGL       CATHOLIC   \n",
              "31185      SHORT TERM HOSPITAL   Private      NaN  NOT SPECIFIED   \n",
              "31186      SHORT TERM HOSPITAL   Private      NaN  NOT SPECIFIED   \n",
              "\n",
              "      MARITAL_STATUS                   ETHNICITY            EDREGTIME  \\\n",
              "14853        MARRIED  PATIENT DECLINED TO ANSWER                  NaN   \n",
              "15023       DIVORCED       UNKNOWN/NOT SPECIFIED  2200-07-05 15:43:00   \n",
              "15144            NaN                       ASIAN                  NaN   \n",
              "15171        WIDOWED                       WHITE  2132-07-24 20:38:00   \n",
              "15396            NaN      BLACK/AFRICAN AMERICAN                  NaN   \n",
              "...              ...                         ...                  ...   \n",
              "31181        MARRIED                       WHITE                  NaN   \n",
              "31182        MARRIED                       WHITE                  NaN   \n",
              "31183        MARRIED                       WHITE  2148-09-30 11:04:00   \n",
              "31185            NaN                       WHITE                  NaN   \n",
              "31186            NaN                       WHITE                  NaN   \n",
              "\n",
              "                 EDOUTTIME                                          DIAGNOSIS  \\\n",
              "14853                  NaN  CORONARY ARTERY DISEASE\\CORONARY ARTERY BYPASS...   \n",
              "15023  2200-07-05 21:00:00                                    LUMBAR FRACTURE   \n",
              "15144                  NaN                                            NEWBORN   \n",
              "15171  2132-07-25 03:13:00                 RAPID AFIB-URINARY TRACT INFECTION   \n",
              "15396                  NaN                                            NEWBORN   \n",
              "...                    ...                                                ...   \n",
              "31181                  NaN                                       R/O FLU; AML   \n",
              "31182                  NaN                   (AML) ACUTE MYELOGENOUS LEUKEMIA   \n",
              "31183  2148-09-30 14:33:00                              ALTERED MENTAL STATUS   \n",
              "31185                  NaN                                            NEWBORN   \n",
              "31186                  NaN                                        PREMATURITY   \n",
              "\n",
              "       HOSPITAL_EXPIRE_FLAG  HAS_CHARTEVENTS_DATA  \n",
              "14853                     0                     1  \n",
              "15023                     0                     1  \n",
              "15144                     0                     1  \n",
              "15171                     1                     1  \n",
              "15396                     0                     1  \n",
              "...                     ...                   ...  \n",
              "31181                     0                     1  \n",
              "31182                     0                     1  \n",
              "31183                     1                     1  \n",
              "31185                     0                     1  \n",
              "31186                     0                     1  \n",
              "\n",
              "[321 rows x 19 columns]"
            ],
            "text/html": [
              "\n",
              "  <div id=\"df-52f9fc0b-3503-4388-b4f1-c4eb7679baa7\">\n",
              "    <div class=\"colab-df-container\">\n",
              "      <div>\n",
              "<style scoped>\n",
              "    .dataframe tbody tr th:only-of-type {\n",
              "        vertical-align: middle;\n",
              "    }\n",
              "\n",
              "    .dataframe tbody tr th {\n",
              "        vertical-align: top;\n",
              "    }\n",
              "\n",
              "    .dataframe thead th {\n",
              "        text-align: right;\n",
              "    }\n",
              "</style>\n",
              "<table border=\"1\" class=\"dataframe\">\n",
              "  <thead>\n",
              "    <tr style=\"text-align: right;\">\n",
              "      <th></th>\n",
              "      <th>ROW_ID</th>\n",
              "      <th>SUBJECT_ID</th>\n",
              "      <th>HADM_ID</th>\n",
              "      <th>ADMITTIME</th>\n",
              "      <th>DISCHTIME</th>\n",
              "      <th>DEATHTIME</th>\n",
              "      <th>ADMISSION_TYPE</th>\n",
              "      <th>ADMISSION_LOCATION</th>\n",
              "      <th>DISCHARGE_LOCATION</th>\n",
              "      <th>INSURANCE</th>\n",
              "      <th>LANGUAGE</th>\n",
              "      <th>RELIGION</th>\n",
              "      <th>MARITAL_STATUS</th>\n",
              "      <th>ETHNICITY</th>\n",
              "      <th>EDREGTIME</th>\n",
              "      <th>EDOUTTIME</th>\n",
              "      <th>DIAGNOSIS</th>\n",
              "      <th>HOSPITAL_EXPIRE_FLAG</th>\n",
              "      <th>HAS_CHARTEVENTS_DATA</th>\n",
              "    </tr>\n",
              "  </thead>\n",
              "  <tbody>\n",
              "    <tr>\n",
              "      <th>14853</th>\n",
              "      <td>17902</td>\n",
              "      <td>14626</td>\n",
              "      <td>148547</td>\n",
              "      <td>2190-07-16 07:15:00</td>\n",
              "      <td>2190-07-22 17:00:00</td>\n",
              "      <td>NaN</td>\n",
              "      <td>ELECTIVE</td>\n",
              "      <td>PHYS REFERRAL/NORMAL DELI</td>\n",
              "      <td>HOME HEALTH CARE</td>\n",
              "      <td>Medicare</td>\n",
              "      <td>NaN</td>\n",
              "      <td>OTHER</td>\n",
              "      <td>MARRIED</td>\n",
              "      <td>PATIENT DECLINED TO ANSWER</td>\n",
              "      <td>NaN</td>\n",
              "      <td>NaN</td>\n",
              "      <td>CORONARY ARTERY DISEASE\\CORONARY ARTERY BYPASS...</td>\n",
              "      <td>0</td>\n",
              "      <td>1</td>\n",
              "    </tr>\n",
              "    <tr>\n",
              "      <th>15023</th>\n",
              "      <td>17936</td>\n",
              "      <td>14657</td>\n",
              "      <td>111125</td>\n",
              "      <td>2200-07-05 19:37:00</td>\n",
              "      <td>2200-07-11 10:45:00</td>\n",
              "      <td>NaN</td>\n",
              "      <td>EMERGENCY</td>\n",
              "      <td>EMERGENCY ROOM ADMIT</td>\n",
              "      <td>HOME</td>\n",
              "      <td>Self Pay</td>\n",
              "      <td>NaN</td>\n",
              "      <td>OTHER</td>\n",
              "      <td>DIVORCED</td>\n",
              "      <td>UNKNOWN/NOT SPECIFIED</td>\n",
              "      <td>2200-07-05 15:43:00</td>\n",
              "      <td>2200-07-05 21:00:00</td>\n",
              "      <td>LUMBAR FRACTURE</td>\n",
              "      <td>0</td>\n",
              "      <td>1</td>\n",
              "    </tr>\n",
              "    <tr>\n",
              "      <th>15144</th>\n",
              "      <td>17772</td>\n",
              "      <td>14518</td>\n",
              "      <td>187448</td>\n",
              "      <td>2195-08-26 14:05:00</td>\n",
              "      <td>2195-08-30 14:30:00</td>\n",
              "      <td>NaN</td>\n",
              "      <td>NEWBORN</td>\n",
              "      <td>PHYS REFERRAL/NORMAL DELI</td>\n",
              "      <td>HOME</td>\n",
              "      <td>Private</td>\n",
              "      <td>NaN</td>\n",
              "      <td>UNOBTAINABLE</td>\n",
              "      <td>NaN</td>\n",
              "      <td>ASIAN</td>\n",
              "      <td>NaN</td>\n",
              "      <td>NaN</td>\n",
              "      <td>NEWBORN</td>\n",
              "      <td>0</td>\n",
              "      <td>1</td>\n",
              "    </tr>\n",
              "    <tr>\n",
              "      <th>15171</th>\n",
              "      <td>17799</td>\n",
              "      <td>14542</td>\n",
              "      <td>132211</td>\n",
              "      <td>2132-07-25 00:54:00</td>\n",
              "      <td>2132-07-29 20:59:00</td>\n",
              "      <td>2132-07-29 20:59:00</td>\n",
              "      <td>EMERGENCY</td>\n",
              "      <td>TRANSFER FROM SKILLED NUR</td>\n",
              "      <td>DEAD/EXPIRED</td>\n",
              "      <td>Medicare</td>\n",
              "      <td>RUSS</td>\n",
              "      <td>JEWISH</td>\n",
              "      <td>WIDOWED</td>\n",
              "      <td>WHITE</td>\n",
              "      <td>2132-07-24 20:38:00</td>\n",
              "      <td>2132-07-25 03:13:00</td>\n",
              "      <td>RAPID AFIB-URINARY TRACT INFECTION</td>\n",
              "      <td>1</td>\n",
              "      <td>1</td>\n",
              "    </tr>\n",
              "    <tr>\n",
              "      <th>15396</th>\n",
              "      <td>17329</td>\n",
              "      <td>14151</td>\n",
              "      <td>128499</td>\n",
              "      <td>2135-12-29 11:11:00</td>\n",
              "      <td>2136-04-21 20:07:00</td>\n",
              "      <td>NaN</td>\n",
              "      <td>NEWBORN</td>\n",
              "      <td>CLINIC REFERRAL/PREMATURE</td>\n",
              "      <td>HOME HEALTH CARE</td>\n",
              "      <td>Private</td>\n",
              "      <td>NaN</td>\n",
              "      <td>NaN</td>\n",
              "      <td>NaN</td>\n",
              "      <td>BLACK/AFRICAN AMERICAN</td>\n",
              "      <td>NaN</td>\n",
              "      <td>NaN</td>\n",
              "      <td>NEWBORN</td>\n",
              "      <td>0</td>\n",
              "      <td>1</td>\n",
              "    </tr>\n",
              "    <tr>\n",
              "      <th>...</th>\n",
              "      <td>...</td>\n",
              "      <td>...</td>\n",
              "      <td>...</td>\n",
              "      <td>...</td>\n",
              "      <td>...</td>\n",
              "      <td>...</td>\n",
              "      <td>...</td>\n",
              "      <td>...</td>\n",
              "      <td>...</td>\n",
              "      <td>...</td>\n",
              "      <td>...</td>\n",
              "      <td>...</td>\n",
              "      <td>...</td>\n",
              "      <td>...</td>\n",
              "      <td>...</td>\n",
              "      <td>...</td>\n",
              "      <td>...</td>\n",
              "      <td>...</td>\n",
              "      <td>...</td>\n",
              "    </tr>\n",
              "    <tr>\n",
              "      <th>31181</th>\n",
              "      <td>25878</td>\n",
              "      <td>21202</td>\n",
              "      <td>100711</td>\n",
              "      <td>2147-01-27 17:16:00</td>\n",
              "      <td>2147-02-12 18:12:00</td>\n",
              "      <td>NaN</td>\n",
              "      <td>EMERGENCY</td>\n",
              "      <td>CLINIC REFERRAL/PREMATURE</td>\n",
              "      <td>HOME HEALTH CARE</td>\n",
              "      <td>Medicare</td>\n",
              "      <td>ENGL</td>\n",
              "      <td>CATHOLIC</td>\n",
              "      <td>MARRIED</td>\n",
              "      <td>WHITE</td>\n",
              "      <td>NaN</td>\n",
              "      <td>NaN</td>\n",
              "      <td>R/O FLU; AML</td>\n",
              "      <td>0</td>\n",
              "      <td>1</td>\n",
              "    </tr>\n",
              "    <tr>\n",
              "      <th>31182</th>\n",
              "      <td>25879</td>\n",
              "      <td>21202</td>\n",
              "      <td>194067</td>\n",
              "      <td>2148-02-13 16:07:00</td>\n",
              "      <td>2148-04-09 16:24:00</td>\n",
              "      <td>NaN</td>\n",
              "      <td>EMERGENCY</td>\n",
              "      <td>CLINIC REFERRAL/PREMATURE</td>\n",
              "      <td>LONG TERM CARE HOSPITAL</td>\n",
              "      <td>Medicare</td>\n",
              "      <td>ENGL</td>\n",
              "      <td>CATHOLIC</td>\n",
              "      <td>MARRIED</td>\n",
              "      <td>WHITE</td>\n",
              "      <td>NaN</td>\n",
              "      <td>NaN</td>\n",
              "      <td>(AML) ACUTE MYELOGENOUS LEUKEMIA</td>\n",
              "      <td>0</td>\n",
              "      <td>1</td>\n",
              "    </tr>\n",
              "    <tr>\n",
              "      <th>31183</th>\n",
              "      <td>25880</td>\n",
              "      <td>21202</td>\n",
              "      <td>104041</td>\n",
              "      <td>2148-09-30 13:05:00</td>\n",
              "      <td>2148-10-13 09:05:00</td>\n",
              "      <td>2148-10-13 09:05:00</td>\n",
              "      <td>EMERGENCY</td>\n",
              "      <td>CLINIC REFERRAL/PREMATURE</td>\n",
              "      <td>DEAD/EXPIRED</td>\n",
              "      <td>Medicare</td>\n",
              "      <td>ENGL</td>\n",
              "      <td>CATHOLIC</td>\n",
              "      <td>MARRIED</td>\n",
              "      <td>WHITE</td>\n",
              "      <td>2148-09-30 11:04:00</td>\n",
              "      <td>2148-09-30 14:33:00</td>\n",
              "      <td>ALTERED MENTAL STATUS</td>\n",
              "      <td>1</td>\n",
              "      <td>1</td>\n",
              "    </tr>\n",
              "    <tr>\n",
              "      <th>31185</th>\n",
              "      <td>25882</td>\n",
              "      <td>21204</td>\n",
              "      <td>162306</td>\n",
              "      <td>2148-05-09 21:39:00</td>\n",
              "      <td>2148-05-10 23:04:00</td>\n",
              "      <td>NaN</td>\n",
              "      <td>NEWBORN</td>\n",
              "      <td>CLINIC REFERRAL/PREMATURE</td>\n",
              "      <td>SHORT TERM HOSPITAL</td>\n",
              "      <td>Private</td>\n",
              "      <td>NaN</td>\n",
              "      <td>NOT SPECIFIED</td>\n",
              "      <td>NaN</td>\n",
              "      <td>WHITE</td>\n",
              "      <td>NaN</td>\n",
              "      <td>NaN</td>\n",
              "      <td>NEWBORN</td>\n",
              "      <td>0</td>\n",
              "      <td>1</td>\n",
              "    </tr>\n",
              "    <tr>\n",
              "      <th>31186</th>\n",
              "      <td>25883</td>\n",
              "      <td>21204</td>\n",
              "      <td>152389</td>\n",
              "      <td>2148-05-17 17:13:00</td>\n",
              "      <td>2148-05-26 15:25:00</td>\n",
              "      <td>NaN</td>\n",
              "      <td>EMERGENCY</td>\n",
              "      <td>TRANSFER FROM HOSP/EXTRAM</td>\n",
              "      <td>SHORT TERM HOSPITAL</td>\n",
              "      <td>Private</td>\n",
              "      <td>NaN</td>\n",
              "      <td>NOT SPECIFIED</td>\n",
              "      <td>NaN</td>\n",
              "      <td>WHITE</td>\n",
              "      <td>NaN</td>\n",
              "      <td>NaN</td>\n",
              "      <td>PREMATURITY</td>\n",
              "      <td>0</td>\n",
              "      <td>1</td>\n",
              "    </tr>\n",
              "  </tbody>\n",
              "</table>\n",
              "<p>321 rows × 19 columns</p>\n",
              "</div>\n",
              "      <button class=\"colab-df-convert\" onclick=\"convertToInteractive('df-52f9fc0b-3503-4388-b4f1-c4eb7679baa7')\"\n",
              "              title=\"Convert this dataframe to an interactive table.\"\n",
              "              style=\"display:none;\">\n",
              "        \n",
              "  <svg xmlns=\"http://www.w3.org/2000/svg\" height=\"24px\"viewBox=\"0 0 24 24\"\n",
              "       width=\"24px\">\n",
              "    <path d=\"M0 0h24v24H0V0z\" fill=\"none\"/>\n",
              "    <path d=\"M18.56 5.44l.94 2.06.94-2.06 2.06-.94-2.06-.94-.94-2.06-.94 2.06-2.06.94zm-11 1L8.5 8.5l.94-2.06 2.06-.94-2.06-.94L8.5 2.5l-.94 2.06-2.06.94zm10 10l.94 2.06.94-2.06 2.06-.94-2.06-.94-.94-2.06-.94 2.06-2.06.94z\"/><path d=\"M17.41 7.96l-1.37-1.37c-.4-.4-.92-.59-1.43-.59-.52 0-1.04.2-1.43.59L10.3 9.45l-7.72 7.72c-.78.78-.78 2.05 0 2.83L4 21.41c.39.39.9.59 1.41.59.51 0 1.02-.2 1.41-.59l7.78-7.78 2.81-2.81c.8-.78.8-2.07 0-2.86zM5.41 20L4 18.59l7.72-7.72 1.47 1.35L5.41 20z\"/>\n",
              "  </svg>\n",
              "      </button>\n",
              "      \n",
              "  <style>\n",
              "    .colab-df-container {\n",
              "      display:flex;\n",
              "      flex-wrap:wrap;\n",
              "      gap: 12px;\n",
              "    }\n",
              "\n",
              "    .colab-df-convert {\n",
              "      background-color: #E8F0FE;\n",
              "      border: none;\n",
              "      border-radius: 50%;\n",
              "      cursor: pointer;\n",
              "      display: none;\n",
              "      fill: #1967D2;\n",
              "      height: 32px;\n",
              "      padding: 0 0 0 0;\n",
              "      width: 32px;\n",
              "    }\n",
              "\n",
              "    .colab-df-convert:hover {\n",
              "      background-color: #E2EBFA;\n",
              "      box-shadow: 0px 1px 2px rgba(60, 64, 67, 0.3), 0px 1px 3px 1px rgba(60, 64, 67, 0.15);\n",
              "      fill: #174EA6;\n",
              "    }\n",
              "\n",
              "    [theme=dark] .colab-df-convert {\n",
              "      background-color: #3B4455;\n",
              "      fill: #D2E3FC;\n",
              "    }\n",
              "\n",
              "    [theme=dark] .colab-df-convert:hover {\n",
              "      background-color: #434B5C;\n",
              "      box-shadow: 0px 1px 3px 1px rgba(0, 0, 0, 0.15);\n",
              "      filter: drop-shadow(0px 1px 2px rgba(0, 0, 0, 0.3));\n",
              "      fill: #FFFFFF;\n",
              "    }\n",
              "  </style>\n",
              "\n",
              "      <script>\n",
              "        const buttonEl =\n",
              "          document.querySelector('#df-52f9fc0b-3503-4388-b4f1-c4eb7679baa7 button.colab-df-convert');\n",
              "        buttonEl.style.display =\n",
              "          google.colab.kernel.accessAllowed ? 'block' : 'none';\n",
              "\n",
              "        async function convertToInteractive(key) {\n",
              "          const element = document.querySelector('#df-52f9fc0b-3503-4388-b4f1-c4eb7679baa7');\n",
              "          const dataTable =\n",
              "            await google.colab.kernel.invokeFunction('convertToInteractive',\n",
              "                                                     [key], {});\n",
              "          if (!dataTable) return;\n",
              "\n",
              "          const docLinkHtml = 'Like what you see? Visit the ' +\n",
              "            '<a target=\"_blank\" href=https://colab.research.google.com/notebooks/data_table.ipynb>data table notebook</a>'\n",
              "            + ' to learn more about interactive tables.';\n",
              "          element.innerHTML = '';\n",
              "          dataTable['output_type'] = 'display_data';\n",
              "          await google.colab.output.renderOutput(dataTable, element);\n",
              "          const docLink = document.createElement('div');\n",
              "          docLink.innerHTML = docLinkHtml;\n",
              "          element.appendChild(docLink);\n",
              "        }\n",
              "      </script>\n",
              "    </div>\n",
              "  </div>\n",
              "  "
            ]
          },
          "metadata": {},
          "execution_count": 14
        }
      ]
    },
    {
      "cell_type": "markdown",
      "source": [
        "Report"
      ],
      "metadata": {
        "id": "0p7nLpc1Scta"
      }
    },
    {
      "cell_type": "markdown",
      "source": [],
      "metadata": {
        "id": "Rdyd3vHvScfx"
      }
    },
    {
      "cell_type": "code",
      "source": [
        "print(f'Number of Subjects in TSICU: {len(subject_id_tsicu)}')\n",
        "print(f'Number of subjects with a first sequence ICD 9 code [800,900) : {len(icd8xx_subjects_ids)}')\n",
        "print('')\n",
        "print('Subjects Expired (1), Alive (0): ')\n",
        "print(df_patients_icd8xx_tsicu['EXPIRE_FLAG'].value_counts())\n",
        "print('')\n",
        "print('Gender:')\n",
        "print(df_patients_icd8xx_tsicu['GENDER'].value_counts())\n",
        "print('')\n",
        "print(f'Number of total notes: {len(df_note_icd8xx_tsicu)}')\n",
        "print(f'Number of Nursing Progress Notes: {len(df_nursing_progress_note_icd8xx_tsicu)}')\n",
        "print(f'Number of Discharge summary: {len(df_discharge_note_icd8xx_tsicu)}')\n",
        "print(f'Number of caregivers: {len(cgid_icd8xx_tsicu)}')"
      ],
      "metadata": {
        "colab": {
          "base_uri": "https://localhost:8080/"
        },
        "id": "c4Y-EhXOSb7f",
        "outputId": "d3a959d0-a904-4dae-e06e-fff8fb81c210"
      },
      "execution_count": 15,
      "outputs": [
        {
          "output_type": "stream",
          "name": "stdout",
          "text": [
            "Number of Subjects in TSICU: 5418\n",
            "Number of subjects with a first sequence ICD 9 code [800,900) : 272\n",
            "\n",
            "Subjects Expired (1), Alive (0): \n",
            "0    159\n",
            "1    113\n",
            "Name: EXPIRE_FLAG, dtype: int64\n",
            "\n",
            "Gender:\n",
            "M    153\n",
            "F    119\n",
            "Name: GENDER, dtype: int64\n",
            "\n",
            "Number of total notes: 26908\n",
            "Number of Nursing Progress Notes: 3765\n",
            "Number of Discharge summary: 678\n",
            "Number of caregivers: 251\n"
          ]
        }
      ]
    },
    {
      "cell_type": "markdown",
      "source": [
        "# END\n"
      ],
      "metadata": {
        "id": "hvh4aVTHpaKw"
      }
    },
    {
      "cell_type": "code",
      "source": [
        "print(df_note_events['CATEGORY'].unique())"
      ],
      "metadata": {
        "id": "QbSCiAMObBNm"
      },
      "execution_count": null,
      "outputs": []
    },
    {
      "cell_type": "markdown",
      "source": [
        "## **Data Preprocessing**"
      ],
      "metadata": {
        "id": "qdVDhESt91i2"
      }
    },
    {
      "cell_type": "code",
      "source": [
        "df_note_events.info()"
      ],
      "metadata": {
        "id": "F9Ag0N5BK6KT"
      },
      "execution_count": null,
      "outputs": []
    },
    {
      "cell_type": "markdown",
      "source": [
        "Grab tsicu notes, merge with ward and patients tables"
      ],
      "metadata": {
        "id": "uLpw8TKsChMf"
      }
    },
    {
      "cell_type": "code",
      "source": [
        "# get new type of notes (TSICU)\n",
        "df_notes_TSICU = pd.DataFrame()\n",
        "#df_notes_TSICU = df_notes.merge(df_note_events[['ROW_ID', 'CATEGORY']], on='ROW_ID')\n",
        "df_notes_TSICU = df_note_events.merge(df_caregivers.drop('ROW_ID', axis=1), on='CGID')\n",
        "#df_notes_TSICU = df_notes_TSICU.merge(df_ward.drop('ROW_ID', axis=1), on='SUBJECT_ID')\n",
        "df_notes_TSICU = df_notes_TSICU.merge(df_patients.drop('ROW_ID', axis=1), on='SUBJECT_ID')\n",
        "#df_notes_TSICU = df_notes_TSICU[(df_notes_TSICU['first_careunit'] == 'TSICU') & (df_notes_TSICU['last_careunit'] == 'TSICU')].drop_duplicates()\n",
        "df_notes_TSICU.info()"
      ],
      "metadata": {
        "id": "RfRbbiU85KqG"
      },
      "execution_count": null,
      "outputs": []
    },
    {
      "cell_type": "code",
      "source": [
        "df_notes_TSICU.head(5)"
      ],
      "metadata": {
        "id": "40N9rfNLvz3h"
      },
      "execution_count": null,
      "outputs": []
    },
    {
      "cell_type": "markdown",
      "source": [
        "Join with ICD"
      ],
      "metadata": {
        "id": "bcq_LhnKvl9k"
      }
    },
    {
      "cell_type": "code",
      "source": [
        "icd = \"DIAGNOSES_ICD.csv\"\n",
        "df_icd = pd.read_csv(notes_path+icd)\n",
        "df_icd.columns = df_icd.columns.str.upper()\n",
        "df_icd = df_icd.dropna(subset=['SEQ_NUM'])\n",
        "df_icd['SEQ_NUM'] = df_icd['SEQ_NUM'].astype(int)\n",
        "unique_values = df_icd['SEQ_NUM'].unique()\n",
        "print(\"unique_values: \")\n",
        "print(unique_values)\n",
        "idx = df_icd.groupby(['HADM_ID', 'SUBJECT_ID'])['SEQ_NUM'].idxmin()\n",
        "df_icd = df_icd.loc[idx]\n",
        "df_icd.info()"
      ],
      "metadata": {
        "id": "H5IFwi_7Oe7F"
      },
      "execution_count": null,
      "outputs": []
    },
    {
      "cell_type": "code",
      "source": [
        "df_notes_TSICU = df_notes_TSICU.merge(df_icd[['HADM_ID','ICD9_CODE','SEQ_NUM', 'SUBJECT_ID']], on=['HADM_ID', 'SUBJECT_ID'])\n",
        "df_notes_TSICU.info()"
      ],
      "metadata": {
        "id": "gd1FsvDMvlWL"
      },
      "execution_count": null,
      "outputs": []
    },
    {
      "cell_type": "code",
      "source": [
        "df_notes_TSICU.head(20)"
      ],
      "metadata": {
        "id": "6w5kj2hgHgAY"
      },
      "execution_count": null,
      "outputs": []
    },
    {
      "cell_type": "code",
      "source": [
        "grouping = df_notes_TSICU.groupby(['CGID','SUBJECT_ID']).size()\n",
        "df_notes_TSICU['num_of_notes'] = df_notes_TSICU.set_index(['CGID','SUBJECT_ID']).index.map(grouping)\n",
        "df_notes_TSICU_filtered = df_notes_TSICU[df_notes_TSICU['num_of_notes'] > 1]\n",
        "df_notes_TSICU_filtered.info()"
      ],
      "metadata": {
        "id": "hHCpzCETihOj"
      },
      "execution_count": null,
      "outputs": []
    },
    {
      "cell_type": "code",
      "source": [
        "df_notes_TSICU_filtered.head(10)"
      ],
      "metadata": {
        "id": "eYAfKxm-4vN1"
      },
      "execution_count": null,
      "outputs": []
    },
    {
      "cell_type": "markdown",
      "source": [
        "Filter by number of notes"
      ],
      "metadata": {
        "id": "h3Ax8uzsUjXG"
      }
    },
    {
      "cell_type": "code",
      "source": [
        "gb_notes = df_notes_TSICU_filtered.groupby(['ICD9_CODE'])\n",
        "num_notes = gb_notes['TEXT'].count()\n",
        "\n",
        "print(f'number of notes: min={num_notes.min()}, max={num_notes.max()}, mean={num_notes.mean()},  median={num_notes.median()}')\n",
        "sns.boxplot(x=num_notes)\n",
        "sns.displot(num_notes[((num_notes>2) & (num_notes<100))])"
      ],
      "metadata": {
        "id": "M1zujhFnCzbO"
      },
      "execution_count": null,
      "outputs": []
    },
    {
      "cell_type": "code",
      "source": [
        "df_notes_TSICU_filtered.info()"
      ],
      "metadata": {
        "id": "utacZLLmUfqf"
      },
      "execution_count": null,
      "outputs": []
    },
    {
      "cell_type": "code",
      "source": [
        "icd9_grouping = df_notes_TSICU_filtered.groupby(['ICD9_CODE']).size()\n",
        "df_notes_TSICU_filtered['num_of_conditions'] = df_notes_TSICU_filtered.set_index(['ICD9_CODE']).index.map(icd9_grouping)\n",
        "#df_notes_TSICU_filtered = df_notes_TSICU_filtered[(df_notes_TSICU_filtered['num_of_conditions'] >= 15) & (df_notes_TSICU_filtered['num_of_conditions'] <= 1000)]\n",
        "#df_notes_TSICU_filtered = df_notes_TSICU_filtered[(df_notes_TSICU_filtered['num_of_conditions'] >= 15) & (df_notes_TSICU_filtered['num_of_conditions'] <= 100)]\n",
        "df_notes_TSICU_filtered.info()\n",
        "print(icd9_grouping)"
      ],
      "metadata": {
        "id": "VQtS_ZiRGeEF"
      },
      "execution_count": null,
      "outputs": []
    },
    {
      "cell_type": "code",
      "source": [
        "df_notes_TSICU_dropped_cols = df_notes_TSICU_filtered.drop(['STORETIME','CHARTDATE','CHARTTIME','DOB','DOD','DOD_HOSP','DOD_SSN'], axis=1)\n",
        "df_notes_TSICU_dropped_cols.columns"
      ],
      "metadata": {
        "id": "jfSkON07QFlQ"
      },
      "execution_count": null,
      "outputs": []
    },
    {
      "cell_type": "markdown",
      "source": [
        "select emotional words then filter rows that dont have a minimum number of them"
      ],
      "metadata": {
        "id": "IJasBc1JDJ7G"
      }
    },
    {
      "cell_type": "code",
      "source": [
        "def filter_for_emotional_words(df):\n",
        "  selected_words = ['pain', 'family', 'stable', 'care', 'well', 'social', 'support', 'able', 'decreased', 'warm', 'unable', 'strong', 'intact', 'good', 'times', 'aware', 'eyes', 'tolerated', 'denies', 'tolerating', 'please', 'palpable']\n",
        "  print(\"selected_words list length: \", len(selected_words))\n",
        "  pattern = '|'.join(selected_words)\n",
        "  new_df = df[df['TEXT'].str.contains(pattern, regex=True)].copy()\n",
        "  #filtered_data = df_notes_TSICU[df_notes_TSICU['TEXT'].str.contains(pattern, regex=True)].copy()\n",
        "  new_df['num_search_words'] = new_df['TEXT'].str.count(pattern)\n",
        "  #new_df = new_df[new_df['num_search_words'] >= 0]\n",
        "  new_df.info()\n",
        "  return new_df"
      ],
      "metadata": {
        "id": "io0fnZ6LDJje"
      },
      "execution_count": null,
      "outputs": []
    },
    {
      "cell_type": "code",
      "source": [
        "#filtered_data = filter_for_emotional_words(df_notes_TSICU_dropped_cols)\n",
        "filtered_data = df_notes_TSICU_dropped_cols"
      ],
      "metadata": {
        "id": "lPqYiPgCaw05"
      },
      "execution_count": null,
      "outputs": []
    },
    {
      "cell_type": "markdown",
      "source": [
        "Random selection from sample set"
      ],
      "metadata": {
        "id": "9zgLOVKMmC1c"
      }
    },
    {
      "cell_type": "code",
      "source": [
        "#random_filtered_data = filtered_data.sample(n=50000, random_state=42)\n",
        "random_filtered_data = filtered_data"
      ],
      "metadata": {
        "id": "A2g7uF3_mCja"
      },
      "execution_count": null,
      "outputs": []
    },
    {
      "cell_type": "markdown",
      "source": [
        "Remove similar sentences"
      ],
      "metadata": {
        "id": "T4IGl2_LhAjw"
      }
    },
    {
      "cell_type": "code",
      "source": [
        "from sklearn.feature_extraction.text import TfidfVectorizer\n",
        "from sklearn.metrics.pairwise import cosine_similarity\n",
        "\n",
        "def remove_similar_notes(df):\n",
        "  sentences = df['TEXT'].tolist()\n",
        "  vectorizer = TfidfVectorizer()\n",
        "  tfidf_matrix = vectorizer.fit_transform(sentences)\n",
        "  similarity_threshold = 0.8\n",
        "\n",
        "  similar_indices = []\n",
        "  for i, sentence in enumerate(sentences):  # needs to be max 1000 entries\n",
        "    if any(cosine_similarity(tfidf_matrix[i], tfidf_matrix[j])[0][0] > similarity_threshold for j in range(i)):  # very slow ~10 minutes for 1000 entries, exponential complexity (more than 5 hours if 6000 entries)\n",
        "      similar_indices.append(i)\n",
        "  index_labels = df.index[similar_indices]\n",
        "  df.drop(index_labels, inplace=True)\n",
        "  return df"
      ],
      "metadata": {
        "id": "y_7e8eEAg-8E"
      },
      "execution_count": null,
      "outputs": []
    },
    {
      "cell_type": "markdown",
      "source": [
        "Inverse Document Frequency"
      ],
      "metadata": {
        "id": "kSrdXBqOuXa0"
      }
    },
    {
      "cell_type": "code",
      "source": [
        "vectorizer = TfidfVectorizer(stop_words='english')\n",
        "tfidf_matrix = vectorizer.fit_transform(df_notes_TSICU['TEXT'])\n",
        "\n",
        "feature_names = vectorizer.get_feature_names_out()\n",
        "tfidf_scores = tfidf_matrix.sum(axis=0).A1\n",
        "word_score_dict = dict(zip(feature_names, tfidf_scores))\n",
        "\n",
        "sorted_words = sorted(word_score_dict.items(), key=lambda x: x[1], reverse=True)\n",
        "\n",
        "top_words = sorted_words[:50]"
      ],
      "metadata": {
        "id": "mLycA6V9u2Bk"
      },
      "execution_count": null,
      "outputs": []
    },
    {
      "cell_type": "code",
      "source": [
        "print(\"Rank\\tWord\\t\\t\\tCount\")\n",
        "for rank, (word, score) in enumerate(top_words, start=1):\n",
        "  print(f\"{rank}\\t{word.ljust(20)}\\t{score}\")"
      ],
      "metadata": {
        "id": "CFYY-4Q9yltA"
      },
      "execution_count": null,
      "outputs": []
    },
    {
      "cell_type": "code",
      "source": [
        "#random_filtered_data = remove_similar_notes(random_filtered_data)\n",
        "random_filtered_data.info()"
      ],
      "metadata": {
        "id": "5hR3SznnlFAw"
      },
      "execution_count": null,
      "outputs": []
    },
    {
      "cell_type": "markdown",
      "source": [
        "Find matching conditions for both expired flags"
      ],
      "metadata": {
        "id": "hKqh8rDTZATB"
      }
    },
    {
      "cell_type": "code",
      "source": [
        "def split_set_half_expired(df):\n",
        "  df['EXPIRE_FLAG'] = df['EXPIRE_FLAG'].astype(int)\n",
        "  group_conditions = df.groupby(['ICD9_CODE', 'EXPIRE_FLAG'])\n",
        "  def balance_conditions(g1,g2,size):\n",
        "    size = min(len(g1), len(g2), size)\n",
        "    return g1.sample(n=size, random_state=1), g2.sample(n=size, random_state=1)\n",
        "\n",
        "  rows = []\n",
        "  size = 50000\n",
        "\n",
        "  for drg_desc, group in group_conditions:\n",
        "    icd9, expire = drg_desc\n",
        "    if (icd9, 1-expire) in group_conditions.groups:\n",
        "      paired_group = group_conditions.get_group((icd9, 1-expire))\n",
        "      group_sample1, group_sample2 = balance_conditions(group, paired_group, size)\n",
        "      rows.append(group_sample1)\n",
        "      rows.append(group_sample2)\n",
        "      size -= len(group_sample1)\n",
        "    if size <= 0:\n",
        "      break\n",
        "\n",
        "  new_df = pd.concat(rows)\n",
        "  new_df = new_df.drop_duplicates()\n",
        "\n",
        "  new_df.info()\n",
        "  #print(new_df[['ICD9_CODE', 'EXPIRE_FLAG']])\n",
        "  return new_df\n",
        "\n",
        "  #valid_groups = [key for key, group in group_conditions.groups.keys() if (key[0], key[1], 1 - key[2]) in group_conditions.groups]\n",
        "  #for key in valid_groups:\n",
        "    #pass"
      ],
      "metadata": {
        "id": "CTtgtgvONovy"
      },
      "execution_count": null,
      "outputs": []
    },
    {
      "cell_type": "code",
      "source": [
        "#balanced_data = split_set_half_expired(random_filtered_data)\n",
        "balanced_data = random_filtered_data"
      ],
      "metadata": {
        "id": "JJFzempDgOiy"
      },
      "execution_count": null,
      "outputs": []
    },
    {
      "cell_type": "markdown",
      "source": [
        "Display notes"
      ],
      "metadata": {
        "id": "lnai1UuJCedn"
      }
    },
    {
      "cell_type": "code",
      "source": [
        "pd.set_option('display.max_colwidth', 250)\n",
        "pd.set_option('display.max_rows', None)\n",
        "#print(balanced_data['TEXT'].head(200))\n",
        "pd.reset_option('display.max_colwidth')\n",
        "pd.reset_option('display.max_rows')"
      ],
      "metadata": {
        "id": "dZPZ-AGx-9NA"
      },
      "execution_count": null,
      "outputs": []
    },
    {
      "cell_type": "code",
      "source": [
        "print(balanced_data.columns)\n",
        "print('\\n'+\"Number of rows: \"+str(len(balanced_data)))"
      ],
      "metadata": {
        "id": "cemrUSU8wjMD"
      },
      "execution_count": null,
      "outputs": []
    },
    {
      "cell_type": "code",
      "source": [
        "balanced_data.info()"
      ],
      "metadata": {
        "id": "msI729kSJWJY"
      },
      "execution_count": null,
      "outputs": []
    },
    {
      "cell_type": "code",
      "source": [
        "no_duplicates = balanced_data.sort_values('ROW_ID').drop_duplicates(subset=['CGID', 'SUBJECT_ID'])  \n",
        "no_duplicates = no_duplicates.drop(['TEXT'], axis=1)  # removes text notes\n",
        "no_duplicates.info()"
      ],
      "metadata": {
        "id": "Bze40GhzJai3"
      },
      "execution_count": null,
      "outputs": []
    },
    {
      "cell_type": "markdown",
      "source": [
        "Save to CSV"
      ],
      "metadata": {
        "id": "6hGujs3Fn8Mb"
      }
    },
    {
      "cell_type": "code",
      "source": [
        "# path and name of the cvs file \n",
        "PATH_TO_SAVE = \"/content/drive/MyDrive/NIH/Data/\"\n",
        "name_file_to_save = 'NOTES_NURSING_TRAJECTORIES_TSICU_COUNTS.csv'\n",
        "no_duplicates.to_csv(PATH_TO_SAVE+name_file_to_save,index=False)"
      ],
      "metadata": {
        "id": "metEeEnan7n0"
      },
      "execution_count": null,
      "outputs": []
    },
    {
      "cell_type": "markdown",
      "source": [
        "Gather- top ICD9, # of: patients, deceased, CGs, notes"
      ],
      "metadata": {
        "id": "kGId_c993xlm"
      }
    },
    {
      "cell_type": "code",
      "source": [
        "icd9_max_val = balanced_data['num_of_conditions'].max()\n",
        "icd9_max_df = balanced_data[balanced_data['num_of_conditions'] == icd9_max_val]\n",
        "\n",
        "print(\"Max ICD9 code: \" + icd9_max_df['ICD9_CODE'].unique())\n",
        "print(\"Number of patients: \" + str(icd9_max_df['SUBJECT_ID'].nunique()))\n",
        "print(\"Number of deceased patients: \" + str((icd9_max_df.drop_duplicates(subset='SUBJECT_ID')['EXPIRE_FLAG'] == 1).sum()))\n",
        "print(\"Number of caregivers: \" + str(icd9_max_df['CGID'].nunique()))\n",
        "unique_cgid = icd9_max_df['CGID'].unique()\n",
        "unique_cgid_df = icd9_max_df[icd9_max_df['CGID'].isin(unique_cgid)].drop_duplicates(subset=['CGID', 'LABEL'])\n",
        "unique_cgid_df['LABEL'] = unique_cgid_df['LABEL'].fillna('UNKNOWN')\n",
        "unique_cgid_df['LABEL'] = unique_cgid_df['LABEL'].str.upper()\n",
        "print(\"Caregiver labels: \" + '\\n' + str(unique_cgid_df['LABEL'].value_counts()))\n",
        "print(\"Number of caregivers: \" + str(icd9_max_df['CGID'].nunique()))\n",
        "print(\"Number of notes: \" + str(len(icd9_max_df)))"
      ],
      "metadata": {
        "id": "B5a2aeHR3xHM"
      },
      "execution_count": null,
      "outputs": []
    },
    {
      "cell_type": "markdown",
      "source": [
        "deceased patients for unfiltered set"
      ],
      "metadata": {
        "id": "uC6QUHDWvrvR"
      }
    },
    {
      "cell_type": "code",
      "source": [
        "len(df_notes_TSICU['SUBJECT_ID'].unique())\n",
        "deceased_TSICU = df_notes_TSICU[df_notes_TSICU['EXPIRE_FLAG'] == 1]\n",
        "deceased_TSICU.info()"
      ],
      "metadata": {
        "id": "4quXDt_aieZv"
      },
      "execution_count": null,
      "outputs": []
    },
    {
      "cell_type": "code",
      "source": [
        "sns.set()\n",
        "\n",
        "gb_notes = deceased_TSICU.groupby(['CGID','SUBJECT_ID'])\n",
        "num_notes = gb_notes['TEXT'].count()\n",
        "print(num_notes)\n",
        "print(f'number of notes: min={num_notes.min()}, max={num_notes.max()}, mean={num_notes.mean()},  median={num_notes.median()}')\n",
        "sns.boxplot(x=num_notes)\n",
        "sns.displot(num_notes[((num_notes>2) & (num_notes<15))])"
      ],
      "metadata": {
        "id": "RtIaEm23Ysfg"
      },
      "execution_count": null,
      "outputs": []
    },
    {
      "cell_type": "markdown",
      "source": [
        "Seperate deceased and living"
      ],
      "metadata": {
        "id": "9tJkPVZggBv_"
      }
    },
    {
      "cell_type": "code",
      "source": [
        "deceased_patients = balanced_data[balanced_data['EXPIRE_FLAG'] == 1]\n",
        "deceased_patients.info()"
      ],
      "metadata": {
        "id": "4cfpXZF4fnUG"
      },
      "execution_count": null,
      "outputs": []
    },
    {
      "cell_type": "code",
      "source": [
        "living_patients = balanced_data[balanced_data['EXPIRE_FLAG'] == 0]\n",
        "living_patients.info()"
      ],
      "metadata": {
        "id": "BfFfnIingFO3"
      },
      "execution_count": null,
      "outputs": []
    },
    {
      "cell_type": "markdown",
      "source": [
        "Tokenized words"
      ],
      "metadata": {
        "id": "UU8xrEkoGzNi"
      }
    },
    {
      "cell_type": "code",
      "source": [
        "#text = df_notes_TSICU['TEXT'].str.cat(sep=' ')\n",
        "#words = nltk.word_tokenize(text)  # very slow"
      ],
      "metadata": {
        "id": "YlONNwDeGy9a"
      },
      "execution_count": null,
      "outputs": []
    },
    {
      "cell_type": "markdown",
      "source": [
        "Count words in notes"
      ],
      "metadata": {
        "id": "gyFTOEALCbxX"
      }
    },
    {
      "cell_type": "code",
      "source": [
        "#stopwords = nltk.corpus.stopwords.words('english')\n",
        "#words = [word.lower() for word in words if word.lower() not in stopwords and re.match(r'\\b\\w+\\b', word)]  # also slow but only kinda slow\n",
        "#word_counts = Counter(words)\n",
        "#most_common_words = word_counts.most_common(300)"
      ],
      "metadata": {
        "id": "jtTWXQjy-_Fw"
      },
      "execution_count": null,
      "outputs": []
    },
    {
      "cell_type": "code",
      "source": [
        "#print(\"Rank\\tWord\\t\\t\\tCount\")\n",
        "#for rank, word_count in enumerate(most_common_words, start=1):\n",
        "  #word, count = word_count\n",
        "  #print(f\"{rank}\\t{word.ljust(20)}\\t{count}\")"
      ],
      "metadata": {
        "id": "vtPdb3_iB5T0"
      },
      "execution_count": null,
      "outputs": []
    },
    {
      "cell_type": "markdown",
      "source": [
        "Emotional words"
      ],
      "metadata": {
        "id": "2vLviAGyJmdQ"
      }
    },
    {
      "cell_type": "code",
      "source": [
        "#emotional_words = []\n",
        "#for word_count in most_common_words:\n",
        "  #word = word_count[0]\n",
        "  #synsets = wn.synsets(word)\n",
        "  #if synsets:\n",
        "    #senti_synset = swn.senti_synset(synsets[0].name())\n",
        "    #if senti_synset.pos_score() > 0.45 or senti_synset.neg_score() > 0.45:\n",
        "      #emotional_words.append(word)\n",
        "\n",
        "#emotional_words"
      ],
      "metadata": {
        "id": "4ATr_HSAJlpK"
      },
      "execution_count": null,
      "outputs": []
    },
    {
      "cell_type": "code",
      "source": [
        "#from textblob import TextBlob\n",
        "#emotional_words = []\n",
        "#for word_count in most_common_words:\n",
        "  #word = word_count[0]\n",
        "  #tb = TextBlob(word)\n",
        "  #sentiment = tb.sentiment.polarity\n",
        "  #if abs(sentiment) > 0.35:\n",
        "    #emotional_words.append(word)\n",
        "\n",
        "#emotional_words"
      ],
      "metadata": {
        "id": "ZFtCDPOyRPcq"
      },
      "execution_count": null,
      "outputs": []
    }
  ]
}