{
  "nbformat": 4,
  "nbformat_minor": 0,
  "metadata": {
    "colab": {
      "provenance": [],
      "include_colab_link": true
    },
    "kernelspec": {
      "name": "python3",
      "display_name": "Python 3"
    },
    "language_info": {
      "name": "python"
    }
  },
  "cells": [
    {
      "cell_type": "markdown",
      "metadata": {
        "id": "view-in-github",
        "colab_type": "text"
      },
      "source": [
        "<a href=\"https://colab.research.google.com/github/tanoManzo/mimic_trajectories/blob/dev/MIMIC_TRAJECTORY_embeddings_04_01_collect_data.ipynb\" target=\"_parent\"><img src=\"https://colab.research.google.com/assets/colab-badge.svg\" alt=\"Open In Colab\"/></a>"
      ]
    },
    {
      "cell_type": "markdown",
      "source": [
        "# Data Collection, Embeddings and Attitude"
      ],
      "metadata": {
        "id": "5CSBbeSkyRmq"
      }
    },
    {
      "cell_type": "code",
      "source": [
        "from google.colab import drive\n",
        "drive.mount('/content/drive')"
      ],
      "metadata": {
        "colab": {
          "base_uri": "https://localhost:8080/"
        },
        "id": "GKFaijaIsKBU",
        "outputId": "6f8b9657-4c8b-413c-caea-e4f45e910c0e"
      },
      "execution_count": 2,
      "outputs": [
        {
          "output_type": "stream",
          "name": "stdout",
          "text": [
            "Mounted at /content/drive\n"
          ]
        }
      ]
    },
    {
      "cell_type": "code",
      "execution_count": 3,
      "metadata": {
        "id": "35BpcyS4eWHw"
      },
      "outputs": [],
      "source": [
        "import numpy as np\n",
        "import pandas as pd\n",
        "import seaborn as sns\n",
        "notes_path = \"/content/drive/MyDrive/NIH/Data/\""
      ]
    },
    {
      "cell_type": "code",
      "source": [
        "file_name = \"ICUSTAYS.csv\"\n",
        "df_ward = pd.read_csv(notes_path+file_name)\n",
        "subject_id_tsicu = df_ward[(df_ward['FIRST_CAREUNIT']=='TSICU') & (df_ward['LAST_CAREUNIT']=='TSICU')].SUBJECT_ID.unique()\n",
        "print(f'Number of Subjects in TSICU: {len(subject_id_tsicu)}')"
      ],
      "metadata": {
        "id": "Ti0D5GvITEpa",
        "colab": {
          "base_uri": "https://localhost:8080/"
        },
        "outputId": "ba81469e-fd06-426b-8e26-75c3c6fabf4f"
      },
      "execution_count": 4,
      "outputs": [
        {
          "output_type": "stream",
          "name": "stdout",
          "text": [
            "Number of Subjects in TSICU: 5418\n"
          ]
        }
      ]
    },
    {
      "cell_type": "code",
      "source": [
        "file_name = \"DIAGNOSES_ICD.csv\"\n",
        "df_icd = pd.read_csv(notes_path+file_name)\n",
        "df_icd_first = df_icd[df_icd['SEQ_NUM']==1]\n",
        "df_icd_first_tsicu = df_icd_first[df_icd_first['SUBJECT_ID'].isin(subject_id_tsicu)]\n",
        "print(f'Number of unique ICD 9 first sequence from TCICU subject: {df_icd_first_tsicu.ICD9_CODE.nunique()}')\n",
        "icd_tsicu = df_icd_first_tsicu.ICD9_CODE.value_counts().nlargest(5)\n",
        "print('Top 5 Popular ICD9 in the TSICU population with duplicates:')\n",
        "print(\"code  #subjects\")\n",
        "icd_tsicu"
      ],
      "metadata": {
        "id": "PFLocK_T-w_x",
        "outputId": "e4b26783-5f71-4906-8eda-b316a62774a9",
        "colab": {
          "base_uri": "https://localhost:8080/"
        }
      },
      "execution_count": 5,
      "outputs": [
        {
          "output_type": "stream",
          "name": "stdout",
          "text": [
            "Number of unique ICD 9 first sequence from TCICU subject: 1387\n",
            "Top 5 Popular ICD9 in the TSICU population with duplicates:\n",
            "code  #subjects\n"
          ]
        },
        {
          "output_type": "execute_result",
          "data": {
            "text/plain": [
              "431      190\n",
              "0389     164\n",
              "85221    103\n",
              "51881     81\n",
              "430       79\n",
              "Name: ICD9_CODE, dtype: int64"
            ]
          },
          "metadata": {},
          "execution_count": 5
        }
      ]
    },
    {
      "cell_type": "code",
      "source": [
        "condition = []\n",
        "for item in df_icd['ICD9_CODE'].values:\n",
        "  \n",
        "  if str(item).isdigit():\n",
        "    item = float(item)\n",
        "    if (item>799 and item<1000):\n",
        "      condition.append(True)\n",
        "    else: \n",
        "      condition.append(False)\n",
        "  else:\n",
        "      condition.append(False)\n",
        "\n",
        "df_8xx = df_icd[condition]\n",
        "df_8xx_tsicu = df_8xx[df_8xx['SUBJECT_ID'].isin(subject_id_tsicu)]\n",
        "icd8xx_subjects_ids = df_8xx_tsicu['SUBJECT_ID'].unique()\n",
        "print(f'Number of subjects with a first sequence ICD 9 code [800,900) : {len(icd8xx_subjects_ids)}')"
      ],
      "metadata": {
        "colab": {
          "base_uri": "https://localhost:8080/"
        },
        "id": "6-NdyuwtOgIx",
        "outputId": "dcb94b44-ba97-4ddf-e8b5-fe3d35ced61c"
      },
      "execution_count": 71,
      "outputs": [
        {
          "output_type": "stream",
          "name": "stdout",
          "text": [
            "Number of subjects with a first sequence ICD 9 code [800,900) : 272\n"
          ]
        }
      ]
    },
    {
      "cell_type": "code",
      "source": [
        "print(df_8xx_tsicu['ICD9_CODE'].unique())"
      ],
      "metadata": {
        "colab": {
          "base_uri": "https://localhost:8080/"
        },
        "id": "XlKJEMGhI3VQ",
        "outputId": "69ab75bf-03fa-45cd-b260-8ad811482bbe"
      },
      "execution_count": 75,
      "outputs": [
        {
          "output_type": "stream",
          "name": "stdout",
          "text": [
            "['920' '00845' '938' '936' '0940' '932' '0971' '0993' '937' '00841']\n"
          ]
        }
      ]
    },
    {
      "cell_type": "code",
      "source": [
        "icd8xx_subjects_ids"
      ],
      "metadata": {
        "colab": {
          "base_uri": "https://localhost:8080/"
        },
        "id": "48UW8uR5QiIN",
        "outputId": "815772d9-3504-4f4f-e823-2a8037f6fecd"
      },
      "execution_count": 76,
      "outputs": [
        {
          "output_type": "execute_result",
          "data": {
            "text/plain": [
              "array([  778,  1158,  1258,  2830,  2934,  1602,  2144,  2589,  4579,\n",
              "        4687,  5204,  4787,  5260,  2265,  2397,  1860,  4916,  7024,\n",
              "        4272,  6780,  4306,  4655,  4659,  4097,  5909,  6066,  8359,\n",
              "        5835,  6131,  6973,  5362,  6214,  7637,  7235,  7475,  8655,\n",
              "        8094,  9437, 10381,  9897, 10434,  9984, 12281, 11776,  9763,\n",
              "       13440, 11382, 12653, 15770, 13259, 13249, 13391, 13584, 12623,\n",
              "       13167, 12483, 12943, 14314, 15407, 14970, 17125, 16986, 14754,\n",
              "       14332, 14903, 16946, 16912, 16792, 17610, 16200, 17330, 16757,\n",
              "       18982, 18460, 19059, 18036, 17959, 19133, 21068, 20832, 21273,\n",
              "       17835, 20190, 19533, 24253, 24285, 21413, 21429, 23054, 22026,\n",
              "       21706, 23983, 24481, 24601, 23150, 23632, 24622, 23432, 23476,\n",
              "       26161, 25274, 25175, 23373, 25225, 26130, 26395, 25259, 26274,\n",
              "       27910, 27933, 26868, 27392, 27790, 27947, 29291, 26942, 29374,\n",
              "       26579, 29035, 26492, 28193, 28013, 28868, 28744, 28162, 28170,\n",
              "       30638, 30121, 30134, 29838, 29414, 29481, 30317, 30055, 29493,\n",
              "       30617, 31931, 32440, 31043, 31402, 31524, 31133, 32122, 30989,\n",
              "       32287, 31693, 40461, 31973, 32775, 42196, 30910, 32809, 42454,\n",
              "       40130, 47035, 41269, 41034, 46355, 46489, 51839, 51841, 44874,\n",
              "       50968, 45557, 43673, 45280, 50579, 44731, 48359, 47975, 48718,\n",
              "       51399, 54348, 55704, 56116, 53435, 54054, 52952, 54121, 55642,\n",
              "       55973, 59267, 59889, 60236, 52710, 58720, 58965, 59801, 57337,\n",
              "       58483, 58753, 59841, 64408, 56468, 56683, 56257, 64154, 64485,\n",
              "       62914, 64550, 62774, 68099, 60925, 68919, 68939, 68426, 68162,\n",
              "       68797, 61562, 62004, 67792, 68892, 62183, 62463, 65175, 65558,\n",
              "       66235, 67529, 67533, 67375, 66298, 72083, 71277, 71739, 73454,\n",
              "       69206, 70334, 73059, 69711, 74866, 75492, 76476, 76952, 76693,\n",
              "       74503, 80551, 80361, 81529, 81245, 84731, 86561, 85870, 78251,\n",
              "       79648, 85076, 90805, 90270, 82462, 90369, 90926, 82970, 83095,\n",
              "       90990, 83154, 88782, 86879, 88926, 87607, 92903, 93336, 95104,\n",
              "       95335, 93722, 98511, 98220, 96169, 91536, 98813, 98856, 98878,\n",
              "       97877, 96621])"
            ]
          },
          "metadata": {},
          "execution_count": 76
        }
      ]
    },
    {
      "cell_type": "code",
      "source": [
        "patients = \"PATIENTS.csv\"\n",
        "df_patients = pd.read_csv(notes_path+patients)\n",
        "df_patients_icd8xx_tsicu = df_patients[df_patients['SUBJECT_ID'].isin(icd8xx_subjects_ids)]\n",
        "\n",
        "print('Subjects Expired (1), Alive (0): ')\n",
        "print(df_patients_icd8xx_tsicu['EXPIRE_FLAG'].value_counts())\n",
        "print(df_patients_icd8xx_tsicu['GENDER'].value_counts())"
      ],
      "metadata": {
        "id": "oz7EmtbWQC31",
        "colab": {
          "base_uri": "https://localhost:8080/"
        },
        "outputId": "4d29ac7c-2196-41f3-d5f6-ee13652d6394"
      },
      "execution_count": 7,
      "outputs": [
        {
          "output_type": "stream",
          "name": "stdout",
          "text": [
            "Subjects Expired (1), Alive (0): \n",
            "0    159\n",
            "1    113\n",
            "Name: EXPIRE_FLAG, dtype: int64\n",
            "M    153\n",
            "F    119\n",
            "Name: GENDER, dtype: int64\n"
          ]
        }
      ]
    },
    {
      "cell_type": "code",
      "source": [
        "gcs_total = \"NOTES_NURSING_TRAJECTORIES_TSICU_GCS_TOTAL.csv\"\n",
        "df_gcs_total = pd.read_csv(notes_path+gcs_total)\n",
        "df_gcs_total.info()"
      ],
      "metadata": {
        "colab": {
          "base_uri": "https://localhost:8080/"
        },
        "id": "LgKfilA_x6Uw",
        "outputId": "f04312ce-e954-4095-e87c-2cab0db880a5"
      },
      "execution_count": 9,
      "outputs": [
        {
          "output_type": "stream",
          "name": "stdout",
          "text": [
            "<class 'pandas.core.frame.DataFrame'>\n",
            "RangeIndex: 14138 entries, 0 to 14137\n",
            "Data columns (total 15 columns):\n",
            " #   Column        Non-Null Count  Dtype  \n",
            "---  ------        --------------  -----  \n",
            " 0   ROW_ID        14138 non-null  int64  \n",
            " 1   SUBJECT_ID    14138 non-null  int64  \n",
            " 2   HADM_ID       14138 non-null  int64  \n",
            " 3   ICUSTAY_ID    14138 non-null  float64\n",
            " 4   ITEMID        14138 non-null  int64  \n",
            " 5   CHARTTIME     14138 non-null  object \n",
            " 6   STORETIME     14138 non-null  object \n",
            " 7   CGID          14138 non-null  float64\n",
            " 8   VALUE         14137 non-null  float64\n",
            " 9   VALUENUM      14137 non-null  float64\n",
            " 10  VALUEUOM      14138 non-null  object \n",
            " 11  WARNING       0 non-null      float64\n",
            " 12  ERROR         0 non-null      float64\n",
            " 13  RESULTSTATUS  0 non-null      float64\n",
            " 14  STOPPED       14138 non-null  object \n",
            "dtypes: float64(7), int64(4), object(4)\n",
            "memory usage: 1.6+ MB\n"
          ]
        }
      ]
    },
    {
      "cell_type": "code",
      "source": [
        "df_gcs_total_subjects = df_gcs_total[df_gcs_total['SUBJECT_ID'].isin(icd8xx_subjects_ids)]\n",
        "df_gcs_total_subjects['SUBJECT_ID'].nunique()"
      ],
      "metadata": {
        "colab": {
          "base_uri": "https://localhost:8080/"
        },
        "id": "q1aE_OgdyF2R",
        "outputId": "dbbb835f-b9bb-4674-f6c9-742d03a5be26"
      },
      "execution_count": 11,
      "outputs": [
        {
          "output_type": "execute_result",
          "data": {
            "text/plain": [
              "149"
            ]
          },
          "metadata": {},
          "execution_count": 11
        }
      ]
    },
    {
      "cell_type": "code",
      "source": [
        "df_gcs_total_subjects.info()\n",
        "df_gcs_total_subjects.head(1)"
      ],
      "metadata": {
        "colab": {
          "base_uri": "https://localhost:8080/",
          "height": 463
        },
        "id": "Vvmw3CbRN8_l",
        "outputId": "ff1500be-6000-4adc-f3ca-980156842db8"
      },
      "execution_count": 12,
      "outputs": [
        {
          "output_type": "stream",
          "name": "stdout",
          "text": [
            "<class 'pandas.core.frame.DataFrame'>\n",
            "Int64Index: 14138 entries, 0 to 14137\n",
            "Data columns (total 15 columns):\n",
            " #   Column        Non-Null Count  Dtype  \n",
            "---  ------        --------------  -----  \n",
            " 0   ROW_ID        14138 non-null  int64  \n",
            " 1   SUBJECT_ID    14138 non-null  int64  \n",
            " 2   HADM_ID       14138 non-null  int64  \n",
            " 3   ICUSTAY_ID    14138 non-null  float64\n",
            " 4   ITEMID        14138 non-null  int64  \n",
            " 5   CHARTTIME     14138 non-null  object \n",
            " 6   STORETIME     14138 non-null  object \n",
            " 7   CGID          14138 non-null  float64\n",
            " 8   VALUE         14137 non-null  float64\n",
            " 9   VALUENUM      14137 non-null  float64\n",
            " 10  VALUEUOM      14138 non-null  object \n",
            " 11  WARNING       0 non-null      float64\n",
            " 12  ERROR         0 non-null      float64\n",
            " 13  RESULTSTATUS  0 non-null      float64\n",
            " 14  STOPPED       14138 non-null  object \n",
            "dtypes: float64(7), int64(4), object(4)\n",
            "memory usage: 1.7+ MB\n"
          ]
        },
        {
          "output_type": "execute_result",
          "data": {
            "text/plain": [
              "     ROW_ID  SUBJECT_ID  HADM_ID  ICUSTAY_ID  ITEMID            CHARTTIME  \\\n",
              "0  38382037         778   132827    247130.0     198  2180-04-01 06:00:00   \n",
              "\n",
              "             STORETIME     CGID  VALUE  VALUENUM VALUEUOM  WARNING  ERROR  \\\n",
              "0  2180-04-01 06:25:00  21570.0   15.0      15.0   points      NaN    NaN   \n",
              "\n",
              "   RESULTSTATUS   STOPPED  \n",
              "0           NaN  NotStopd  "
            ],
            "text/html": [
              "\n",
              "  <div id=\"df-a826092b-1e54-4464-8f58-f6eb3100a6cd\">\n",
              "    <div class=\"colab-df-container\">\n",
              "      <div>\n",
              "<style scoped>\n",
              "    .dataframe tbody tr th:only-of-type {\n",
              "        vertical-align: middle;\n",
              "    }\n",
              "\n",
              "    .dataframe tbody tr th {\n",
              "        vertical-align: top;\n",
              "    }\n",
              "\n",
              "    .dataframe thead th {\n",
              "        text-align: right;\n",
              "    }\n",
              "</style>\n",
              "<table border=\"1\" class=\"dataframe\">\n",
              "  <thead>\n",
              "    <tr style=\"text-align: right;\">\n",
              "      <th></th>\n",
              "      <th>ROW_ID</th>\n",
              "      <th>SUBJECT_ID</th>\n",
              "      <th>HADM_ID</th>\n",
              "      <th>ICUSTAY_ID</th>\n",
              "      <th>ITEMID</th>\n",
              "      <th>CHARTTIME</th>\n",
              "      <th>STORETIME</th>\n",
              "      <th>CGID</th>\n",
              "      <th>VALUE</th>\n",
              "      <th>VALUENUM</th>\n",
              "      <th>VALUEUOM</th>\n",
              "      <th>WARNING</th>\n",
              "      <th>ERROR</th>\n",
              "      <th>RESULTSTATUS</th>\n",
              "      <th>STOPPED</th>\n",
              "    </tr>\n",
              "  </thead>\n",
              "  <tbody>\n",
              "    <tr>\n",
              "      <th>0</th>\n",
              "      <td>38382037</td>\n",
              "      <td>778</td>\n",
              "      <td>132827</td>\n",
              "      <td>247130.0</td>\n",
              "      <td>198</td>\n",
              "      <td>2180-04-01 06:00:00</td>\n",
              "      <td>2180-04-01 06:25:00</td>\n",
              "      <td>21570.0</td>\n",
              "      <td>15.0</td>\n",
              "      <td>15.0</td>\n",
              "      <td>points</td>\n",
              "      <td>NaN</td>\n",
              "      <td>NaN</td>\n",
              "      <td>NaN</td>\n",
              "      <td>NotStopd</td>\n",
              "    </tr>\n",
              "  </tbody>\n",
              "</table>\n",
              "</div>\n",
              "      <button class=\"colab-df-convert\" onclick=\"convertToInteractive('df-a826092b-1e54-4464-8f58-f6eb3100a6cd')\"\n",
              "              title=\"Convert this dataframe to an interactive table.\"\n",
              "              style=\"display:none;\">\n",
              "        \n",
              "  <svg xmlns=\"http://www.w3.org/2000/svg\" height=\"24px\"viewBox=\"0 0 24 24\"\n",
              "       width=\"24px\">\n",
              "    <path d=\"M0 0h24v24H0V0z\" fill=\"none\"/>\n",
              "    <path d=\"M18.56 5.44l.94 2.06.94-2.06 2.06-.94-2.06-.94-.94-2.06-.94 2.06-2.06.94zm-11 1L8.5 8.5l.94-2.06 2.06-.94-2.06-.94L8.5 2.5l-.94 2.06-2.06.94zm10 10l.94 2.06.94-2.06 2.06-.94-2.06-.94-.94-2.06-.94 2.06-2.06.94z\"/><path d=\"M17.41 7.96l-1.37-1.37c-.4-.4-.92-.59-1.43-.59-.52 0-1.04.2-1.43.59L10.3 9.45l-7.72 7.72c-.78.78-.78 2.05 0 2.83L4 21.41c.39.39.9.59 1.41.59.51 0 1.02-.2 1.41-.59l7.78-7.78 2.81-2.81c.8-.78.8-2.07 0-2.86zM5.41 20L4 18.59l7.72-7.72 1.47 1.35L5.41 20z\"/>\n",
              "  </svg>\n",
              "      </button>\n",
              "      \n",
              "  <style>\n",
              "    .colab-df-container {\n",
              "      display:flex;\n",
              "      flex-wrap:wrap;\n",
              "      gap: 12px;\n",
              "    }\n",
              "\n",
              "    .colab-df-convert {\n",
              "      background-color: #E8F0FE;\n",
              "      border: none;\n",
              "      border-radius: 50%;\n",
              "      cursor: pointer;\n",
              "      display: none;\n",
              "      fill: #1967D2;\n",
              "      height: 32px;\n",
              "      padding: 0 0 0 0;\n",
              "      width: 32px;\n",
              "    }\n",
              "\n",
              "    .colab-df-convert:hover {\n",
              "      background-color: #E2EBFA;\n",
              "      box-shadow: 0px 1px 2px rgba(60, 64, 67, 0.3), 0px 1px 3px 1px rgba(60, 64, 67, 0.15);\n",
              "      fill: #174EA6;\n",
              "    }\n",
              "\n",
              "    [theme=dark] .colab-df-convert {\n",
              "      background-color: #3B4455;\n",
              "      fill: #D2E3FC;\n",
              "    }\n",
              "\n",
              "    [theme=dark] .colab-df-convert:hover {\n",
              "      background-color: #434B5C;\n",
              "      box-shadow: 0px 1px 3px 1px rgba(0, 0, 0, 0.15);\n",
              "      filter: drop-shadow(0px 1px 2px rgba(0, 0, 0, 0.3));\n",
              "      fill: #FFFFFF;\n",
              "    }\n",
              "  </style>\n",
              "\n",
              "      <script>\n",
              "        const buttonEl =\n",
              "          document.querySelector('#df-a826092b-1e54-4464-8f58-f6eb3100a6cd button.colab-df-convert');\n",
              "        buttonEl.style.display =\n",
              "          google.colab.kernel.accessAllowed ? 'block' : 'none';\n",
              "\n",
              "        async function convertToInteractive(key) {\n",
              "          const element = document.querySelector('#df-a826092b-1e54-4464-8f58-f6eb3100a6cd');\n",
              "          const dataTable =\n",
              "            await google.colab.kernel.invokeFunction('convertToInteractive',\n",
              "                                                     [key], {});\n",
              "          if (!dataTable) return;\n",
              "\n",
              "          const docLinkHtml = 'Like what you see? Visit the ' +\n",
              "            '<a target=\"_blank\" href=https://colab.research.google.com/notebooks/data_table.ipynb>data table notebook</a>'\n",
              "            + ' to learn more about interactive tables.';\n",
              "          element.innerHTML = '';\n",
              "          dataTable['output_type'] = 'display_data';\n",
              "          await google.colab.output.renderOutput(dataTable, element);\n",
              "          const docLink = document.createElement('div');\n",
              "          docLink.innerHTML = docLinkHtml;\n",
              "          element.appendChild(docLink);\n",
              "        }\n",
              "      </script>\n",
              "    </div>\n",
              "  </div>\n",
              "  "
            ]
          },
          "metadata": {},
          "execution_count": 12
        }
      ]
    },
    {
      "cell_type": "code",
      "source": [
        "df_patients_icd8xx_tsicu_gcs_scores = df_gcs_total_subjects.groupby(['SUBJECT_ID', 'HADM_ID']).agg(\n",
        "    MAX_SCORE=('VALUE', 'max'),\n",
        "    MIN_SCORE=('VALUE', 'min'),\n",
        "    DELTA_SCORE=('VALUE', lambda x: x.max() - x.min())\n",
        ").reset_index()\n",
        "df_patients_icd8xx_tsicu_gcs_scores.info()\n",
        "df_patients_icd8xx_tsicu_gcs_scores"
      ],
      "metadata": {
        "colab": {
          "base_uri": "https://localhost:8080/",
          "height": 632
        },
        "id": "AX_hxO21RSTb",
        "outputId": "a1ff8e69-9c9d-49fc-e476-6ae09c15bf10"
      },
      "execution_count": 42,
      "outputs": [
        {
          "output_type": "stream",
          "name": "stdout",
          "text": [
            "<class 'pandas.core.frame.DataFrame'>\n",
            "RangeIndex: 291 entries, 0 to 290\n",
            "Data columns (total 5 columns):\n",
            " #   Column       Non-Null Count  Dtype  \n",
            "---  ------       --------------  -----  \n",
            " 0   SUBJECT_ID   291 non-null    int64  \n",
            " 1   HADM_ID      291 non-null    int64  \n",
            " 2   MAX_SCORE    291 non-null    float64\n",
            " 3   MIN_SCORE    291 non-null    float64\n",
            " 4   DELTA_SCORE  291 non-null    float64\n",
            "dtypes: float64(3), int64(2)\n",
            "memory usage: 11.5 KB\n"
          ]
        },
        {
          "output_type": "execute_result",
          "data": {
            "text/plain": [
              "     SUBJECT_ID  HADM_ID  MAX_SCORE  MIN_SCORE  DELTA_SCORE\n",
              "0           778   132827       15.0       15.0          0.0\n",
              "1          1158   155719       15.0        8.0          7.0\n",
              "2          1158   197072       15.0        3.0         12.0\n",
              "3          1158   197763       14.0        6.0          8.0\n",
              "4          1258   177293       14.0        8.0          6.0\n",
              "..          ...      ...        ...        ...          ...\n",
              "286       32775   115046       15.0       15.0          0.0\n",
              "287       32775   128184       15.0        3.0         12.0\n",
              "288       32775   137148       15.0       15.0          0.0\n",
              "289       32775   172084       15.0       15.0          0.0\n",
              "290       32809   101254       15.0       14.0          1.0\n",
              "\n",
              "[291 rows x 5 columns]"
            ],
            "text/html": [
              "\n",
              "  <div id=\"df-a86237d5-7d79-451d-8984-ea7aa8b7fdba\">\n",
              "    <div class=\"colab-df-container\">\n",
              "      <div>\n",
              "<style scoped>\n",
              "    .dataframe tbody tr th:only-of-type {\n",
              "        vertical-align: middle;\n",
              "    }\n",
              "\n",
              "    .dataframe tbody tr th {\n",
              "        vertical-align: top;\n",
              "    }\n",
              "\n",
              "    .dataframe thead th {\n",
              "        text-align: right;\n",
              "    }\n",
              "</style>\n",
              "<table border=\"1\" class=\"dataframe\">\n",
              "  <thead>\n",
              "    <tr style=\"text-align: right;\">\n",
              "      <th></th>\n",
              "      <th>SUBJECT_ID</th>\n",
              "      <th>HADM_ID</th>\n",
              "      <th>MAX_SCORE</th>\n",
              "      <th>MIN_SCORE</th>\n",
              "      <th>DELTA_SCORE</th>\n",
              "    </tr>\n",
              "  </thead>\n",
              "  <tbody>\n",
              "    <tr>\n",
              "      <th>0</th>\n",
              "      <td>778</td>\n",
              "      <td>132827</td>\n",
              "      <td>15.0</td>\n",
              "      <td>15.0</td>\n",
              "      <td>0.0</td>\n",
              "    </tr>\n",
              "    <tr>\n",
              "      <th>1</th>\n",
              "      <td>1158</td>\n",
              "      <td>155719</td>\n",
              "      <td>15.0</td>\n",
              "      <td>8.0</td>\n",
              "      <td>7.0</td>\n",
              "    </tr>\n",
              "    <tr>\n",
              "      <th>2</th>\n",
              "      <td>1158</td>\n",
              "      <td>197072</td>\n",
              "      <td>15.0</td>\n",
              "      <td>3.0</td>\n",
              "      <td>12.0</td>\n",
              "    </tr>\n",
              "    <tr>\n",
              "      <th>3</th>\n",
              "      <td>1158</td>\n",
              "      <td>197763</td>\n",
              "      <td>14.0</td>\n",
              "      <td>6.0</td>\n",
              "      <td>8.0</td>\n",
              "    </tr>\n",
              "    <tr>\n",
              "      <th>4</th>\n",
              "      <td>1258</td>\n",
              "      <td>177293</td>\n",
              "      <td>14.0</td>\n",
              "      <td>8.0</td>\n",
              "      <td>6.0</td>\n",
              "    </tr>\n",
              "    <tr>\n",
              "      <th>...</th>\n",
              "      <td>...</td>\n",
              "      <td>...</td>\n",
              "      <td>...</td>\n",
              "      <td>...</td>\n",
              "      <td>...</td>\n",
              "    </tr>\n",
              "    <tr>\n",
              "      <th>286</th>\n",
              "      <td>32775</td>\n",
              "      <td>115046</td>\n",
              "      <td>15.0</td>\n",
              "      <td>15.0</td>\n",
              "      <td>0.0</td>\n",
              "    </tr>\n",
              "    <tr>\n",
              "      <th>287</th>\n",
              "      <td>32775</td>\n",
              "      <td>128184</td>\n",
              "      <td>15.0</td>\n",
              "      <td>3.0</td>\n",
              "      <td>12.0</td>\n",
              "    </tr>\n",
              "    <tr>\n",
              "      <th>288</th>\n",
              "      <td>32775</td>\n",
              "      <td>137148</td>\n",
              "      <td>15.0</td>\n",
              "      <td>15.0</td>\n",
              "      <td>0.0</td>\n",
              "    </tr>\n",
              "    <tr>\n",
              "      <th>289</th>\n",
              "      <td>32775</td>\n",
              "      <td>172084</td>\n",
              "      <td>15.0</td>\n",
              "      <td>15.0</td>\n",
              "      <td>0.0</td>\n",
              "    </tr>\n",
              "    <tr>\n",
              "      <th>290</th>\n",
              "      <td>32809</td>\n",
              "      <td>101254</td>\n",
              "      <td>15.0</td>\n",
              "      <td>14.0</td>\n",
              "      <td>1.0</td>\n",
              "    </tr>\n",
              "  </tbody>\n",
              "</table>\n",
              "<p>291 rows × 5 columns</p>\n",
              "</div>\n",
              "      <button class=\"colab-df-convert\" onclick=\"convertToInteractive('df-a86237d5-7d79-451d-8984-ea7aa8b7fdba')\"\n",
              "              title=\"Convert this dataframe to an interactive table.\"\n",
              "              style=\"display:none;\">\n",
              "        \n",
              "  <svg xmlns=\"http://www.w3.org/2000/svg\" height=\"24px\"viewBox=\"0 0 24 24\"\n",
              "       width=\"24px\">\n",
              "    <path d=\"M0 0h24v24H0V0z\" fill=\"none\"/>\n",
              "    <path d=\"M18.56 5.44l.94 2.06.94-2.06 2.06-.94-2.06-.94-.94-2.06-.94 2.06-2.06.94zm-11 1L8.5 8.5l.94-2.06 2.06-.94-2.06-.94L8.5 2.5l-.94 2.06-2.06.94zm10 10l.94 2.06.94-2.06 2.06-.94-2.06-.94-.94-2.06-.94 2.06-2.06.94z\"/><path d=\"M17.41 7.96l-1.37-1.37c-.4-.4-.92-.59-1.43-.59-.52 0-1.04.2-1.43.59L10.3 9.45l-7.72 7.72c-.78.78-.78 2.05 0 2.83L4 21.41c.39.39.9.59 1.41.59.51 0 1.02-.2 1.41-.59l7.78-7.78 2.81-2.81c.8-.78.8-2.07 0-2.86zM5.41 20L4 18.59l7.72-7.72 1.47 1.35L5.41 20z\"/>\n",
              "  </svg>\n",
              "      </button>\n",
              "      \n",
              "  <style>\n",
              "    .colab-df-container {\n",
              "      display:flex;\n",
              "      flex-wrap:wrap;\n",
              "      gap: 12px;\n",
              "    }\n",
              "\n",
              "    .colab-df-convert {\n",
              "      background-color: #E8F0FE;\n",
              "      border: none;\n",
              "      border-radius: 50%;\n",
              "      cursor: pointer;\n",
              "      display: none;\n",
              "      fill: #1967D2;\n",
              "      height: 32px;\n",
              "      padding: 0 0 0 0;\n",
              "      width: 32px;\n",
              "    }\n",
              "\n",
              "    .colab-df-convert:hover {\n",
              "      background-color: #E2EBFA;\n",
              "      box-shadow: 0px 1px 2px rgba(60, 64, 67, 0.3), 0px 1px 3px 1px rgba(60, 64, 67, 0.15);\n",
              "      fill: #174EA6;\n",
              "    }\n",
              "\n",
              "    [theme=dark] .colab-df-convert {\n",
              "      background-color: #3B4455;\n",
              "      fill: #D2E3FC;\n",
              "    }\n",
              "\n",
              "    [theme=dark] .colab-df-convert:hover {\n",
              "      background-color: #434B5C;\n",
              "      box-shadow: 0px 1px 3px 1px rgba(0, 0, 0, 0.15);\n",
              "      filter: drop-shadow(0px 1px 2px rgba(0, 0, 0, 0.3));\n",
              "      fill: #FFFFFF;\n",
              "    }\n",
              "  </style>\n",
              "\n",
              "      <script>\n",
              "        const buttonEl =\n",
              "          document.querySelector('#df-a86237d5-7d79-451d-8984-ea7aa8b7fdba button.colab-df-convert');\n",
              "        buttonEl.style.display =\n",
              "          google.colab.kernel.accessAllowed ? 'block' : 'none';\n",
              "\n",
              "        async function convertToInteractive(key) {\n",
              "          const element = document.querySelector('#df-a86237d5-7d79-451d-8984-ea7aa8b7fdba');\n",
              "          const dataTable =\n",
              "            await google.colab.kernel.invokeFunction('convertToInteractive',\n",
              "                                                     [key], {});\n",
              "          if (!dataTable) return;\n",
              "\n",
              "          const docLinkHtml = 'Like what you see? Visit the ' +\n",
              "            '<a target=\"_blank\" href=https://colab.research.google.com/notebooks/data_table.ipynb>data table notebook</a>'\n",
              "            + ' to learn more about interactive tables.';\n",
              "          element.innerHTML = '';\n",
              "          dataTable['output_type'] = 'display_data';\n",
              "          await google.colab.output.renderOutput(dataTable, element);\n",
              "          const docLink = document.createElement('div');\n",
              "          docLink.innerHTML = docLinkHtml;\n",
              "          element.appendChild(docLink);\n",
              "        }\n",
              "      </script>\n",
              "    </div>\n",
              "  </div>\n",
              "  "
            ]
          },
          "metadata": {},
          "execution_count": 42
        }
      ]
    },
    {
      "cell_type": "code",
      "source": [
        "PATH_TO_SAVE = \"/content/drive/MyDrive/NIH/Data/\"\n",
        "name_file_to_save = 'NOTES_NURSING_TRAJECTORIES_TSICU_GCS_SUB_CG.csv'\n",
        "df_patients_icd8xx_tsicu_gcs_scores.to_csv(PATH_TO_SAVE+name_file_to_save,index=False)"
      ],
      "metadata": {
        "id": "fzzu9h7pZoWt"
      },
      "execution_count": 14,
      "outputs": []
    },
    {
      "cell_type": "code",
      "source": [
        "sns.set()\n",
        "\n",
        "num_notes = df_patients_icd8xx_tsicu_gcs_scores['DELTA_SCORE']\n",
        "#print(num_notes)\n",
        "print(f'number of notes: min={num_notes.min()}, max={num_notes.max()}, mean={num_notes.mean()},  median={num_notes.median()}')\n",
        "sns.boxplot(x=num_notes)\n",
        "sns.displot(num_notes)"
      ],
      "metadata": {
        "colab": {
          "base_uri": "https://localhost:8080/",
          "height": 977
        },
        "id": "3-N3a7tXeB1-",
        "outputId": "f5c19319-6a0d-499a-f8cb-4145428d0e25"
      },
      "execution_count": 15,
      "outputs": [
        {
          "output_type": "stream",
          "name": "stdout",
          "text": [
            "number of notes: min=0.0, max=12.0, mean=1.7975659229208925,  median=0.0\n"
          ]
        },
        {
          "output_type": "execute_result",
          "data": {
            "text/plain": [
              "<seaborn.axisgrid.FacetGrid at 0x7f08d0ecbbb0>"
            ]
          },
          "metadata": {},
          "execution_count": 15
        },
        {
          "output_type": "display_data",
          "data": {
            "text/plain": [
              "<Figure size 640x480 with 1 Axes>"
            ],
            "image/png": "[encoded data removed]"
          },
          "metadata": {}
        },
        {
          "output_type": "display_data",
          "data": {
            "text/plain": [
              "<Figure size 500x500 with 1 Axes>"
            ],
            "image/png": "[encoded data removed]"
          },
          "metadata": {}
        }
      ]
    },
    {
      "cell_type": "code",
      "source": [
        "df_patients_icd8xx_tsicu_gcs_scores_subjects = df_patients_icd8xx_tsicu_gcs_scores.groupby(['SUBJECT_ID']).agg(\n",
        "    MAX_SCORE=('MAX_SCORE', 'max'),\n",
        "    MIN_SCORE=('MIN_SCORE', 'min'),\n",
        "    CG_COUNT=('SUBJECT_ID', 'count')\n",
        ").reset_index()\n",
        "df_patients_icd8xx_tsicu_gcs_scores_subjects['DELTA_SCORE'] = df_patients_icd8xx_tsicu_gcs_scores_subjects['MAX_SCORE'] - df_patients_icd8xx_tsicu_gcs_scores_subjects['MIN_SCORE']\n",
        "\n",
        "df_patients_icd8xx_tsicu_gcs_scores_subjects.info()"
      ],
      "metadata": {
        "colab": {
          "base_uri": "https://localhost:8080/"
        },
        "id": "5uf-ZA7mX9Mn",
        "outputId": "599a6c2f-dec3-439c-a70b-eda473a0cf92"
      },
      "execution_count": 16,
      "outputs": [
        {
          "output_type": "stream",
          "name": "stdout",
          "text": [
            "<class 'pandas.core.frame.DataFrame'>\n",
            "RangeIndex: 149 entries, 0 to 148\n",
            "Data columns (total 5 columns):\n",
            " #   Column       Non-Null Count  Dtype  \n",
            "---  ------       --------------  -----  \n",
            " 0   SUBJECT_ID   149 non-null    int64  \n",
            " 1   MAX_SCORE    149 non-null    float64\n",
            " 2   MIN_SCORE    149 non-null    float64\n",
            " 3   CG_COUNT     149 non-null    int64  \n",
            " 4   DELTA_SCORE  149 non-null    float64\n",
            "dtypes: float64(3), int64(2)\n",
            "memory usage: 5.9 KB\n"
          ]
        }
      ]
    },
    {
      "cell_type": "code",
      "source": [
        "PATH_TO_SAVE = \"/content/drive/MyDrive/NIH/Data/\"\n",
        "name_file_to_save = 'NOTES_NURSING_TRAJECTORIES_TSICU_GCS_SUB_ONLY.csv'\n",
        "df_patients_icd8xx_tsicu_gcs_scores_subjects.to_csv(PATH_TO_SAVE+name_file_to_save,index=False)"
      ],
      "metadata": {
        "id": "y-teC_WqZufd"
      },
      "execution_count": 17,
      "outputs": []
    },
    {
      "cell_type": "code",
      "source": [
        "note_events = \"NOTEEVENTS.csv\"\n",
        "df_note_events = pd.read_csv(notes_path+note_events)\n",
        "df_note_events.info()"
      ],
      "metadata": {
        "id": "-nA246kVYBs_",
        "outputId": "e4f98077-132f-40eb-f808-283cf26f455c",
        "colab": {
          "base_uri": "https://localhost:8080/"
        }
      },
      "execution_count": 45,
      "outputs": [
        {
          "output_type": "stream",
          "name": "stderr",
          "text": [
            "<ipython-input-45-8fd00f55f791>:2: DtypeWarning: Columns (4,5) have mixed types. Specify dtype option on import or set low_memory=False.\n",
            "  df_note_events = pd.read_csv(notes_path+note_events)\n"
          ]
        },
        {
          "output_type": "stream",
          "name": "stdout",
          "text": [
            "<class 'pandas.core.frame.DataFrame'>\n",
            "RangeIndex: 2083180 entries, 0 to 2083179\n",
            "Data columns (total 11 columns):\n",
            " #   Column       Dtype  \n",
            "---  ------       -----  \n",
            " 0   ROW_ID       int64  \n",
            " 1   SUBJECT_ID   int64  \n",
            " 2   HADM_ID      float64\n",
            " 3   CHARTDATE    object \n",
            " 4   CHARTTIME    object \n",
            " 5   STORETIME    object \n",
            " 6   CATEGORY     object \n",
            " 7   DESCRIPTION  object \n",
            " 8   CGID         float64\n",
            " 9   ISERROR      float64\n",
            " 10  TEXT         object \n",
            "dtypes: float64(3), int64(2), object(6)\n",
            "memory usage: 174.8+ MB\n"
          ]
        }
      ]
    },
    {
      "cell_type": "code",
      "source": [
        "df_notes_icd8xx_tsicu_gcs_scores = df_patients_icd8xx_tsicu_gcs_scores.merge(df_note_events, on=['SUBJECT_ID','HADM_ID'], how='inner')\n",
        "df_notes_icd8xx_tsicu_gcs_scores = df_notes_icd8xx_tsicu_gcs_scores.merge(df_patients[['SUBJECT_ID', 'EXPIRE_FLAG']], on=['SUBJECT_ID'], how='inner')\n",
        "df_notes_icd8xx_tsicu_gcs_scores = df_notes_icd8xx_tsicu_gcs_scores.merge(df_8xx_tsicu[['SUBJECT_ID', 'ICD9_CODE','HADM_ID']], on=['SUBJECT_ID','HADM_ID'], how='inner')\n",
        "df_notes_icd8xx_tsicu_gcs_scores = df_notes_icd8xx_tsicu_gcs_scores[df_notes_icd8xx_tsicu_gcs_scores['CATEGORY']=='Nursing/other']\n",
        "df_notes_icd8xx_tsicu_gcs_scores = df_notes_icd8xx_tsicu_gcs_scores[df_notes_icd8xx_tsicu_gcs_scores['DELTA_SCORE'] > 5.0]\n",
        "df_notes_icd8xx_tsicu_gcs_scores = df_notes_icd8xx_tsicu_gcs_scores[df_notes_icd8xx_tsicu_gcs_scores['EXPIRE_FLAG'] == 1]\n",
        "df_notes_icd8xx_tsicu_gcs_scores.info()\n",
        "df_notes_icd8xx_tsicu_gcs_scores"
      ],
      "metadata": {
        "colab": {
          "base_uri": "https://localhost:8080/",
          "height": 4631
        },
        "id": "nqjCql5TjMlG",
        "outputId": "ab897257-e56b-4426-a3e6-85193116a47e"
      },
      "execution_count": 80,
      "outputs": [
        {
          "output_type": "stream",
          "name": "stdout",
          "text": [
            "<class 'pandas.core.frame.DataFrame'>\n",
            "Int64Index: 1614 entries, 15 to 5749\n",
            "Data columns (total 16 columns):\n",
            " #   Column       Non-Null Count  Dtype  \n",
            "---  ------       --------------  -----  \n",
            " 0   SUBJECT_ID   1614 non-null   int64  \n",
            " 1   HADM_ID      1614 non-null   int64  \n",
            " 2   MAX_SCORE    1614 non-null   float64\n",
            " 3   MIN_SCORE    1614 non-null   float64\n",
            " 4   DELTA_SCORE  1614 non-null   float64\n",
            " 5   ROW_ID       1614 non-null   int64  \n",
            " 6   CHARTDATE    1614 non-null   object \n",
            " 7   CHARTTIME    1614 non-null   object \n",
            " 8   STORETIME    1614 non-null   object \n",
            " 9   CATEGORY     1614 non-null   object \n",
            " 10  DESCRIPTION  1614 non-null   object \n",
            " 11  CGID         1614 non-null   float64\n",
            " 12  ISERROR      0 non-null      float64\n",
            " 13  TEXT         1614 non-null   object \n",
            " 14  EXPIRE_FLAG  1614 non-null   int64  \n",
            " 15  ICD9_CODE    1614 non-null   object \n",
            "dtypes: float64(5), int64(4), object(7)\n",
            "memory usage: 214.4+ KB\n"
          ]
        },
        {
          "output_type": "execute_result",
          "data": {
            "text/plain": [
              "      SUBJECT_ID  HADM_ID  MAX_SCORE  MIN_SCORE  DELTA_SCORE   ROW_ID  \\\n",
              "15          1158   197072       15.0        3.0         12.0  1277408   \n",
              "16          1158   197072       15.0        3.0         12.0  1277409   \n",
              "17          1158   197072       15.0        3.0         12.0  1277401   \n",
              "18          1158   197072       15.0        3.0         12.0  1277402   \n",
              "19          1158   197072       15.0        3.0         12.0  1277403   \n",
              "...          ...      ...        ...        ...          ...      ...   \n",
              "5745       32440   194352       13.0        6.0          7.0  1672920   \n",
              "5746       32440   194352       13.0        6.0          7.0  1672921   \n",
              "5747       32440   194352       13.0        6.0          7.0  1672922   \n",
              "5748       32440   194352       13.0        6.0          7.0  1672900   \n",
              "5749       32440   194352       13.0        6.0          7.0  1672901   \n",
              "\n",
              "       CHARTDATE            CHARTTIME            STORETIME       CATEGORY  \\\n",
              "15    2138-11-21  2138-11-21 18:07:00  2138-11-21 18:13:00  Nursing/other   \n",
              "16    2138-11-22  2138-11-22 05:43:00  2138-11-22 05:48:00  Nursing/other   \n",
              "17    2138-11-20  2138-11-20 04:45:00  2138-11-20 05:01:00  Nursing/other   \n",
              "18    2138-11-20  2138-11-20 05:20:00  2138-11-20 05:32:00  Nursing/other   \n",
              "19    2138-11-20  2138-11-20 17:51:00  2138-11-20 18:31:00  Nursing/other   \n",
              "...          ...                  ...                  ...            ...   \n",
              "5745  2170-01-28  2170-01-28 18:15:00  2170-01-28 18:34:00  Nursing/other   \n",
              "5746  2170-01-29  2170-01-29 04:20:00  2170-01-29 04:28:00  Nursing/other   \n",
              "5747  2170-01-29  2170-01-29 17:33:00  2170-01-29 17:51:00  Nursing/other   \n",
              "5748  2170-01-23  2170-01-23 04:19:00  2170-01-23 04:23:00  Nursing/other   \n",
              "5749  2170-01-23  2170-01-23 06:15:00  2170-01-23 06:38:00  Nursing/other   \n",
              "\n",
              "     DESCRIPTION     CGID  ISERROR  \\\n",
              "15        Report  21319.0      NaN   \n",
              "16        Report  19050.0      NaN   \n",
              "17        Report  17706.0      NaN   \n",
              "18        Report  20111.0      NaN   \n",
              "19        Report  17485.0      NaN   \n",
              "...          ...      ...      ...   \n",
              "5745      Report  15900.0      NaN   \n",
              "5746      Report  14212.0      NaN   \n",
              "5747      Report  21189.0      NaN   \n",
              "5748      Report  15807.0      NaN   \n",
              "5749      Report  14605.0      NaN   \n",
              "\n",
              "                                                   TEXT  EXPIRE_FLAG ICD9_CODE  \n",
              "15    Respiratory Care\\nPatient has T tube in place ...            1     00845  \n",
              "16    condition updated\\nVSS; slight discomfort from...            1     00845  \n",
              "17    data: admitted from [**Hospital **] hosp last ...            1     00845  \n",
              "18    Respiratory Therapy\\nPt transfered from OSH fo...            1     00845  \n",
              "19    Post op systems review: please see careview fo...            1     00845  \n",
              "...                                                 ...          ...       ...  \n",
              "5745  NURSING NOTE\\nPLEASE SEE CAREVUE FOR DETAILS\\n...            1       920  \n",
              "5746  Update\\nSee careview for details...\\n\\nNeuro: ...            1       920  \n",
              "5747  Focus: Status Update\\nData:\\nPt waxes and wane...            1       920  \n",
              "5748  Respiratory Care\\nPt intubated on vent support...            1       920  \n",
              "5749  npn 7p-7a (please also see carevue flownotes f...            1       920  \n",
              "\n",
              "[1614 rows x 16 columns]"
            ],
            "text/html": [
              "\n",
              "  <div id=\"df-64f1508d-f92c-44cb-b91d-e961b02fb7b3\">\n",
              "    <div class=\"colab-df-container\">\n",
              "      <div>\n",
              "<style scoped>\n",
              "    .dataframe tbody tr th:only-of-type {\n",
              "        vertical-align: middle;\n",
              "    }\n",
              "\n",
              "    .dataframe tbody tr th {\n",
              "        vertical-align: top;\n",
              "    }\n",
              "\n",
              "    .dataframe thead th {\n",
              "        text-align: right;\n",
              "    }\n",
              "</style>\n",
              "<table border=\"1\" class=\"dataframe\">\n",
              "  <thead>\n",
              "    <tr style=\"text-align: right;\">\n",
              "      <th></th>\n",
              "      <th>SUBJECT_ID</th>\n",
              "      <th>HADM_ID</th>\n",
              "      <th>MAX_SCORE</th>\n",
              "      <th>MIN_SCORE</th>\n",
              "      <th>DELTA_SCORE</th>\n",
              "      <th>ROW_ID</th>\n",
              "      <th>CHARTDATE</th>\n",
              "      <th>CHARTTIME</th>\n",
              "      <th>STORETIME</th>\n",
              "      <th>CATEGORY</th>\n",
              "      <th>DESCRIPTION</th>\n",
              "      <th>CGID</th>\n",
              "      <th>ISERROR</th>\n",
              "      <th>TEXT</th>\n",
              "      <th>EXPIRE_FLAG</th>\n",
              "      <th>ICD9_CODE</th>\n",
              "    </tr>\n",
              "  </thead>\n",
              "  <tbody>\n",
              "    <tr>\n",
              "      <th>15</th>\n",
              "      <td>1158</td>\n",
              "      <td>197072</td>\n",
              "      <td>15.0</td>\n",
              "      <td>3.0</td>\n",
              "      <td>12.0</td>\n",
              "      <td>1277408</td>\n",
              "      <td>2138-11-21</td>\n",
              "      <td>2138-11-21 18:07:00</td>\n",
              "      <td>2138-11-21 18:13:00</td>\n",
              "      <td>Nursing/other</td>\n",
              "      <td>Report</td>\n",
              "      <td>21319.0</td>\n",
              "      <td>NaN</td>\n",
              "      <td>Respiratory Care\\nPatient has T tube in place ...</td>\n",
              "      <td>1</td>\n",
              "      <td>00845</td>\n",
              "    </tr>\n",
              "    <tr>\n",
              "      <th>16</th>\n",
              "      <td>1158</td>\n",
              "      <td>197072</td>\n",
              "      <td>15.0</td>\n",
              "      <td>3.0</td>\n",
              "      <td>12.0</td>\n",
              "      <td>1277409</td>\n",
              "      <td>2138-11-22</td>\n",
              "      <td>2138-11-22 05:43:00</td>\n",
              "      <td>2138-11-22 05:48:00</td>\n",
              "      <td>Nursing/other</td>\n",
              "      <td>Report</td>\n",
              "      <td>19050.0</td>\n",
              "      <td>NaN</td>\n",
              "      <td>condition updated\\nVSS; slight discomfort from...</td>\n",
              "      <td>1</td>\n",
              "      <td>00845</td>\n",
              "    </tr>\n",
              "    <tr>\n",
              "      <th>17</th>\n",
              "      <td>1158</td>\n",
              "      <td>197072</td>\n",
              "      <td>15.0</td>\n",
              "      <td>3.0</td>\n",
              "      <td>12.0</td>\n",
              "      <td>1277401</td>\n",
              "      <td>2138-11-20</td>\n",
              "      <td>2138-11-20 04:45:00</td>\n",
              "      <td>2138-11-20 05:01:00</td>\n",
              "      <td>Nursing/other</td>\n",
              "      <td>Report</td>\n",
              "      <td>17706.0</td>\n",
              "      <td>NaN</td>\n",
              "      <td>data: admitted from [**Hospital **] hosp last ...</td>\n",
              "      <td>1</td>\n",
              "      <td>00845</td>\n",
              "    </tr>\n",
              "    <tr>\n",
              "      <th>18</th>\n",
              "      <td>1158</td>\n",
              "      <td>197072</td>\n",
              "      <td>15.0</td>\n",
              "      <td>3.0</td>\n",
              "      <td>12.0</td>\n",
              "      <td>1277402</td>\n",
              "      <td>2138-11-20</td>\n",
              "      <td>2138-11-20 05:20:00</td>\n",
              "      <td>2138-11-20 05:32:00</td>\n",
              "      <td>Nursing/other</td>\n",
              "      <td>Report</td>\n",
              "      <td>20111.0</td>\n",
              "      <td>NaN</td>\n",
              "      <td>Respiratory Therapy\\nPt transfered from OSH fo...</td>\n",
              "      <td>1</td>\n",
              "      <td>00845</td>\n",
              "    </tr>\n",
              "    <tr>\n",
              "      <th>19</th>\n",
              "      <td>1158</td>\n",
              "      <td>197072</td>\n",
              "      <td>15.0</td>\n",
              "      <td>3.0</td>\n",
              "      <td>12.0</td>\n",
              "      <td>1277403</td>\n",
              "      <td>2138-11-20</td>\n",
              "      <td>2138-11-20 17:51:00</td>\n",
              "      <td>2138-11-20 18:31:00</td>\n",
              "      <td>Nursing/other</td>\n",
              "      <td>Report</td>\n",
              "      <td>17485.0</td>\n",
              "      <td>NaN</td>\n",
              "      <td>Post op systems review: please see careview fo...</td>\n",
              "      <td>1</td>\n",
              "      <td>00845</td>\n",
              "    </tr>\n",
              "    <tr>\n",
              "      <th>...</th>\n",
              "      <td>...</td>\n",
              "      <td>...</td>\n",
              "      <td>...</td>\n",
              "      <td>...</td>\n",
              "      <td>...</td>\n",
              "      <td>...</td>\n",
              "      <td>...</td>\n",
              "      <td>...</td>\n",
              "      <td>...</td>\n",
              "      <td>...</td>\n",
              "      <td>...</td>\n",
              "      <td>...</td>\n",
              "      <td>...</td>\n",
              "      <td>...</td>\n",
              "      <td>...</td>\n",
              "      <td>...</td>\n",
              "    </tr>\n",
              "    <tr>\n",
              "      <th>5745</th>\n",
              "      <td>32440</td>\n",
              "      <td>194352</td>\n",
              "      <td>13.0</td>\n",
              "      <td>6.0</td>\n",
              "      <td>7.0</td>\n",
              "      <td>1672920</td>\n",
              "      <td>2170-01-28</td>\n",
              "      <td>2170-01-28 18:15:00</td>\n",
              "      <td>2170-01-28 18:34:00</td>\n",
              "      <td>Nursing/other</td>\n",
              "      <td>Report</td>\n",
              "      <td>15900.0</td>\n",
              "      <td>NaN</td>\n",
              "      <td>NURSING NOTE\\nPLEASE SEE CAREVUE FOR DETAILS\\n...</td>\n",
              "      <td>1</td>\n",
              "      <td>920</td>\n",
              "    </tr>\n",
              "    <tr>\n",
              "      <th>5746</th>\n",
              "      <td>32440</td>\n",
              "      <td>194352</td>\n",
              "      <td>13.0</td>\n",
              "      <td>6.0</td>\n",
              "      <td>7.0</td>\n",
              "      <td>1672921</td>\n",
              "      <td>2170-01-29</td>\n",
              "      <td>2170-01-29 04:20:00</td>\n",
              "      <td>2170-01-29 04:28:00</td>\n",
              "      <td>Nursing/other</td>\n",
              "      <td>Report</td>\n",
              "      <td>14212.0</td>\n",
              "      <td>NaN</td>\n",
              "      <td>Update\\nSee careview for details...\\n\\nNeuro: ...</td>\n",
              "      <td>1</td>\n",
              "      <td>920</td>\n",
              "    </tr>\n",
              "    <tr>\n",
              "      <th>5747</th>\n",
              "      <td>32440</td>\n",
              "      <td>194352</td>\n",
              "      <td>13.0</td>\n",
              "      <td>6.0</td>\n",
              "      <td>7.0</td>\n",
              "      <td>1672922</td>\n",
              "      <td>2170-01-29</td>\n",
              "      <td>2170-01-29 17:33:00</td>\n",
              "      <td>2170-01-29 17:51:00</td>\n",
              "      <td>Nursing/other</td>\n",
              "      <td>Report</td>\n",
              "      <td>21189.0</td>\n",
              "      <td>NaN</td>\n",
              "      <td>Focus: Status Update\\nData:\\nPt waxes and wane...</td>\n",
              "      <td>1</td>\n",
              "      <td>920</td>\n",
              "    </tr>\n",
              "    <tr>\n",
              "      <th>5748</th>\n",
              "      <td>32440</td>\n",
              "      <td>194352</td>\n",
              "      <td>13.0</td>\n",
              "      <td>6.0</td>\n",
              "      <td>7.0</td>\n",
              "      <td>1672900</td>\n",
              "      <td>2170-01-23</td>\n",
              "      <td>2170-01-23 04:19:00</td>\n",
              "      <td>2170-01-23 04:23:00</td>\n",
              "      <td>Nursing/other</td>\n",
              "      <td>Report</td>\n",
              "      <td>15807.0</td>\n",
              "      <td>NaN</td>\n",
              "      <td>Respiratory Care\\nPt intubated on vent support...</td>\n",
              "      <td>1</td>\n",
              "      <td>920</td>\n",
              "    </tr>\n",
              "    <tr>\n",
              "      <th>5749</th>\n",
              "      <td>32440</td>\n",
              "      <td>194352</td>\n",
              "      <td>13.0</td>\n",
              "      <td>6.0</td>\n",
              "      <td>7.0</td>\n",
              "      <td>1672901</td>\n",
              "      <td>2170-01-23</td>\n",
              "      <td>2170-01-23 06:15:00</td>\n",
              "      <td>2170-01-23 06:38:00</td>\n",
              "      <td>Nursing/other</td>\n",
              "      <td>Report</td>\n",
              "      <td>14605.0</td>\n",
              "      <td>NaN</td>\n",
              "      <td>npn 7p-7a (please also see carevue flownotes f...</td>\n",
              "      <td>1</td>\n",
              "      <td>920</td>\n",
              "    </tr>\n",
              "  </tbody>\n",
              "</table>\n",
              "<p>1614 rows × 16 columns</p>\n",
              "</div>\n",
              "      <button class=\"colab-df-convert\" onclick=\"convertToInteractive('df-64f1508d-f92c-44cb-b91d-e961b02fb7b3')\"\n",
              "              title=\"Convert this dataframe to an interactive table.\"\n",
              "              style=\"display:none;\">\n",
              "        \n",
              "  <svg xmlns=\"http://www.w3.org/2000/svg\" height=\"24px\"viewBox=\"0 0 24 24\"\n",
              "       width=\"24px\">\n",
              "    <path d=\"M0 0h24v24H0V0z\" fill=\"none\"/>\n",
              "    <path d=\"M18.56 5.44l.94 2.06.94-2.06 2.06-.94-2.06-.94-.94-2.06-.94 2.06-2.06.94zm-11 1L8.5 8.5l.94-2.06 2.06-.94-2.06-.94L8.5 2.5l-.94 2.06-2.06.94zm10 10l.94 2.06.94-2.06 2.06-.94-2.06-.94-.94-2.06-.94 2.06-2.06.94z\"/><path d=\"M17.41 7.96l-1.37-1.37c-.4-.4-.92-.59-1.43-.59-.52 0-1.04.2-1.43.59L10.3 9.45l-7.72 7.72c-.78.78-.78 2.05 0 2.83L4 21.41c.39.39.9.59 1.41.59.51 0 1.02-.2 1.41-.59l7.78-7.78 2.81-2.81c.8-.78.8-2.07 0-2.86zM5.41 20L4 18.59l7.72-7.72 1.47 1.35L5.41 20z\"/>\n",
              "  </svg>\n",
              "      </button>\n",
              "      \n",
              "  <style>\n",
              "    .colab-df-container {\n",
              "      display:flex;\n",
              "      flex-wrap:wrap;\n",
              "      gap: 12px;\n",
              "    }\n",
              "\n",
              "    .colab-df-convert {\n",
              "      background-color: #E8F0FE;\n",
              "      border: none;\n",
              "      border-radius: 50%;\n",
              "      cursor: pointer;\n",
              "      display: none;\n",
              "      fill: #1967D2;\n",
              "      height: 32px;\n",
              "      padding: 0 0 0 0;\n",
              "      width: 32px;\n",
              "    }\n",
              "\n",
              "    .colab-df-convert:hover {\n",
              "      background-color: #E2EBFA;\n",
              "      box-shadow: 0px 1px 2px rgba(60, 64, 67, 0.3), 0px 1px 3px 1px rgba(60, 64, 67, 0.15);\n",
              "      fill: #174EA6;\n",
              "    }\n",
              "\n",
              "    [theme=dark] .colab-df-convert {\n",
              "      background-color: #3B4455;\n",
              "      fill: #D2E3FC;\n",
              "    }\n",
              "\n",
              "    [theme=dark] .colab-df-convert:hover {\n",
              "      background-color: #434B5C;\n",
              "      box-shadow: 0px 1px 3px 1px rgba(0, 0, 0, 0.15);\n",
              "      filter: drop-shadow(0px 1px 2px rgba(0, 0, 0, 0.3));\n",
              "      fill: #FFFFFF;\n",
              "    }\n",
              "  </style>\n",
              "\n",
              "      <script>\n",
              "        const buttonEl =\n",
              "          document.querySelector('#df-64f1508d-f92c-44cb-b91d-e961b02fb7b3 button.colab-df-convert');\n",
              "        buttonEl.style.display =\n",
              "          google.colab.kernel.accessAllowed ? 'block' : 'none';\n",
              "\n",
              "        async function convertToInteractive(key) {\n",
              "          const element = document.querySelector('#df-64f1508d-f92c-44cb-b91d-e961b02fb7b3');\n",
              "          const dataTable =\n",
              "            await google.colab.kernel.invokeFunction('convertToInteractive',\n",
              "                                                     [key], {});\n",
              "          if (!dataTable) return;\n",
              "\n",
              "          const docLinkHtml = 'Like what you see? Visit the ' +\n",
              "            '<a target=\"_blank\" href=https://colab.research.google.com/notebooks/data_table.ipynb>data table notebook</a>'\n",
              "            + ' to learn more about interactive tables.';\n",
              "          element.innerHTML = '';\n",
              "          dataTable['output_type'] = 'display_data';\n",
              "          await google.colab.output.renderOutput(dataTable, element);\n",
              "          const docLink = document.createElement('div');\n",
              "          docLink.innerHTML = docLinkHtml;\n",
              "          element.appendChild(docLink);\n",
              "        }\n",
              "      </script>\n",
              "    </div>\n",
              "  </div>\n",
              "  "
            ]
          },
          "metadata": {},
          "execution_count": 80
        }
      ]
    },
    {
      "cell_type": "code",
      "source": [
        "PATH_TO_SAVE = \"/content/drive/MyDrive/NIH/Data/\"\n",
        "name_file_to_save = 'NOTES_NURSING_TRAJECTORIES_TSICU_GCS_HADM.csv'\n",
        "df_notes_icd8xx_tsicu_gcs_scores.to_csv(PATH_TO_SAVE+name_file_to_save,index=False)"
      ],
      "metadata": {
        "id": "598HF4ygze2B"
      },
      "execution_count": 77,
      "outputs": []
    },
    {
      "cell_type": "code",
      "source": [
        "df_note_icd8xx_tsicu = df_note_events[df_note_events['SUBJECT_ID'].isin(icd8xx_subjects_ids)]\n",
        "print(f'Number of total notes: {len(df_note_icd8xx_tsicu)}')\n",
        "df_nursing_progress_note_icd8xx_tsicu = df_note_icd8xx_tsicu[df_note_icd8xx_tsicu['DESCRIPTION']=='Nursing Progress Note']\n",
        "print(f'Number of Nursing Progress Notes: {len(df_nursing_progress_note_icd8xx_tsicu)}')\n",
        "df_discharge_note_icd8xx_tsicu = df_note_icd8xx_tsicu[df_note_icd8xx_tsicu['CATEGORY']=='Discharge summary']\n",
        "print(f'Number of Discharge summary: {len(df_discharge_note_icd8xx_tsicu)}')"
      ],
      "metadata": {
        "id": "DwwYQRkRlZtq"
      },
      "execution_count": null,
      "outputs": []
    },
    {
      "cell_type": "code",
      "source": [
        "cgid_icd8xx_tsicu = df_nursing_progress_note_icd8xx_tsicu['CGID'].unique()\n",
        "#print(f'Number of caregivers: {len(cgid_maxicu_tsicu)}')"
      ],
      "metadata": {
        "id": "2bUQdNjco_Ev"
      },
      "execution_count": null,
      "outputs": []
    },
    {
      "cell_type": "code",
      "source": [
        "caregivers = \"CAREGIVERS.csv\"\n",
        "df_caregivers = pd.read_csv(notes_path+caregivers)\n",
        "df_caregivers[df_caregivers['CGID'].isin(cgid_icd8xx_tsicu)].LABEL.value_counts()"
      ],
      "metadata": {
        "id": "nylbIdrdDKTn"
      },
      "execution_count": null,
      "outputs": []
    },
    {
      "cell_type": "code",
      "source": [
        "name_file= \"ADMISSIONS.csv\"\n",
        "df_adm = pd.read_csv(notes_path+name_file)\n",
        "df_adm_icd8xx_tsicu = df_adm[df_adm['SUBJECT_ID'].isin(cgid_icd8xx_tsicu)]\n",
        "df_adm_icd8xx_tsicu"
      ],
      "metadata": {
        "id": "0uSjIRb0Kf7D"
      },
      "execution_count": null,
      "outputs": []
    },
    {
      "cell_type": "markdown",
      "source": [
        "Report"
      ],
      "metadata": {
        "id": "0p7nLpc1Scta"
      }
    },
    {
      "cell_type": "markdown",
      "source": [],
      "metadata": {
        "id": "Rdyd3vHvScfx"
      }
    },
    {
      "cell_type": "code",
      "source": [
        "print(f'Number of Subjects in TSICU: {len(subject_id_tsicu)}')\n",
        "print(f'Number of subjects with a first sequence ICD 9 code [800,900) : {len(icd8xx_subjects_ids)}')\n",
        "print('')\n",
        "print('Subjects Expired (1), Alive (0): ')\n",
        "print(df_patients_icd8xx_tsicu['EXPIRE_FLAG'].value_counts())\n",
        "print('')\n",
        "print('Gender:')\n",
        "print(df_patients_icd8xx_tsicu['GENDER'].value_counts())\n",
        "print('')\n",
        "print(f'Number of total notes: {len(df_note_icd8xx_tsicu)}')\n",
        "print(f'Number of Nursing Progress Notes: {len(df_nursing_progress_note_icd8xx_tsicu)}')\n",
        "print(f'Number of Discharge summary: {len(df_discharge_note_icd8xx_tsicu)}')\n",
        "print(f'Number of caregivers: {len(cgid_icd8xx_tsicu)}')"
      ],
      "metadata": {
        "id": "c4Y-EhXOSb7f"
      },
      "execution_count": null,
      "outputs": []
    },
    {
      "cell_type": "markdown",
      "source": [
        "# END\n"
      ],
      "metadata": {
        "id": "hvh4aVTHpaKw"
      }
    },
    {
      "cell_type": "code",
      "source": [
        "print(df_note_events['CATEGORY'].unique())"
      ],
      "metadata": {
        "id": "QbSCiAMObBNm"
      },
      "execution_count": null,
      "outputs": []
    },
    {
      "cell_type": "markdown",
      "source": [
        "## **Data Preprocessing**"
      ],
      "metadata": {
        "id": "qdVDhESt91i2"
      }
    },
    {
      "cell_type": "code",
      "source": [
        "df_note_events.info()"
      ],
      "metadata": {
        "id": "F9Ag0N5BK6KT"
      },
      "execution_count": null,
      "outputs": []
    },
    {
      "cell_type": "markdown",
      "source": [
        "Grab tsicu notes, merge with ward and patients tables"
      ],
      "metadata": {
        "id": "uLpw8TKsChMf"
      }
    },
    {
      "cell_type": "code",
      "source": [
        "# get new type of notes (TSICU)\n",
        "df_notes_TSICU = pd.DataFrame()\n",
        "#df_notes_TSICU = df_notes.merge(df_note_events[['ROW_ID', 'CATEGORY']], on='ROW_ID')\n",
        "df_notes_TSICU = df_note_events.merge(df_caregivers.drop('ROW_ID', axis=1), on='CGID')\n",
        "#df_notes_TSICU = df_notes_TSICU.merge(df_ward.drop('ROW_ID', axis=1), on='SUBJECT_ID')\n",
        "df_notes_TSICU = df_notes_TSICU.merge(df_patients.drop('ROW_ID', axis=1), on='SUBJECT_ID')\n",
        "#df_notes_TSICU = df_notes_TSICU[(df_notes_TSICU['first_careunit'] == 'TSICU') & (df_notes_TSICU['last_careunit'] == 'TSICU')].drop_duplicates()\n",
        "df_notes_TSICU.info()"
      ],
      "metadata": {
        "id": "RfRbbiU85KqG"
      },
      "execution_count": null,
      "outputs": []
    },
    {
      "cell_type": "code",
      "source": [
        "df_notes_TSICU.head(5)"
      ],
      "metadata": {
        "id": "40N9rfNLvz3h"
      },
      "execution_count": null,
      "outputs": []
    },
    {
      "cell_type": "markdown",
      "source": [
        "Join with ICD"
      ],
      "metadata": {
        "id": "bcq_LhnKvl9k"
      }
    },
    {
      "cell_type": "code",
      "source": [
        "icd = \"DIAGNOSES_ICD.csv\"\n",
        "df_icd = pd.read_csv(notes_path+icd)\n",
        "df_icd.columns = df_icd.columns.str.upper()\n",
        "df_icd = df_icd.dropna(subset=['SEQ_NUM'])\n",
        "df_icd['SEQ_NUM'] = df_icd['SEQ_NUM'].astype(int)\n",
        "unique_values = df_icd['SEQ_NUM'].unique()\n",
        "print(\"unique_values: \")\n",
        "print(unique_values)\n",
        "idx = df_icd.groupby(['HADM_ID', 'SUBJECT_ID'])['SEQ_NUM'].idxmin()\n",
        "df_icd = df_icd.loc[idx]\n",
        "df_icd.info()"
      ],
      "metadata": {
        "id": "H5IFwi_7Oe7F"
      },
      "execution_count": null,
      "outputs": []
    },
    {
      "cell_type": "code",
      "source": [
        "df_notes_TSICU = df_notes_TSICU.merge(df_icd[['HADM_ID','ICD9_CODE','SEQ_NUM', 'SUBJECT_ID']], on=['HADM_ID', 'SUBJECT_ID'])\n",
        "df_notes_TSICU.info()"
      ],
      "metadata": {
        "id": "gd1FsvDMvlWL"
      },
      "execution_count": null,
      "outputs": []
    },
    {
      "cell_type": "code",
      "source": [
        "df_notes_TSICU.head(20)"
      ],
      "metadata": {
        "id": "6w5kj2hgHgAY"
      },
      "execution_count": null,
      "outputs": []
    },
    {
      "cell_type": "code",
      "source": [
        "grouping = df_notes_TSICU.groupby(['CGID','SUBJECT_ID']).size()\n",
        "df_notes_TSICU['num_of_notes'] = df_notes_TSICU.set_index(['CGID','SUBJECT_ID']).index.map(grouping)\n",
        "df_notes_TSICU_filtered = df_notes_TSICU[df_notes_TSICU['num_of_notes'] > 1]\n",
        "df_notes_TSICU_filtered.info()"
      ],
      "metadata": {
        "id": "hHCpzCETihOj"
      },
      "execution_count": null,
      "outputs": []
    },
    {
      "cell_type": "code",
      "source": [
        "df_notes_TSICU_filtered.head(10)"
      ],
      "metadata": {
        "id": "eYAfKxm-4vN1"
      },
      "execution_count": null,
      "outputs": []
    },
    {
      "cell_type": "markdown",
      "source": [
        "Filter by number of notes"
      ],
      "metadata": {
        "id": "h3Ax8uzsUjXG"
      }
    },
    {
      "cell_type": "code",
      "source": [
        "gb_notes = df_notes_TSICU_filtered.groupby(['ICD9_CODE'])\n",
        "num_notes = gb_notes['TEXT'].count()\n",
        "\n",
        "print(f'number of notes: min={num_notes.min()}, max={num_notes.max()}, mean={num_notes.mean()},  median={num_notes.median()}')\n",
        "sns.boxplot(x=num_notes)\n",
        "sns.displot(num_notes[((num_notes>2) & (num_notes<100))])"
      ],
      "metadata": {
        "id": "M1zujhFnCzbO"
      },
      "execution_count": null,
      "outputs": []
    },
    {
      "cell_type": "code",
      "source": [
        "df_notes_TSICU_filtered.info()"
      ],
      "metadata": {
        "id": "utacZLLmUfqf"
      },
      "execution_count": null,
      "outputs": []
    },
    {
      "cell_type": "code",
      "source": [
        "icd9_grouping = df_notes_TSICU_filtered.groupby(['ICD9_CODE']).size()\n",
        "df_notes_TSICU_filtered['num_of_conditions'] = df_notes_TSICU_filtered.set_index(['ICD9_CODE']).index.map(icd9_grouping)\n",
        "#df_notes_TSICU_filtered = df_notes_TSICU_filtered[(df_notes_TSICU_filtered['num_of_conditions'] >= 15) & (df_notes_TSICU_filtered['num_of_conditions'] <= 1000)]\n",
        "#df_notes_TSICU_filtered = df_notes_TSICU_filtered[(df_notes_TSICU_filtered['num_of_conditions'] >= 15) & (df_notes_TSICU_filtered['num_of_conditions'] <= 100)]\n",
        "df_notes_TSICU_filtered.info()\n",
        "print(icd9_grouping)"
      ],
      "metadata": {
        "id": "VQtS_ZiRGeEF"
      },
      "execution_count": null,
      "outputs": []
    },
    {
      "cell_type": "code",
      "source": [
        "df_notes_TSICU_dropped_cols = df_notes_TSICU_filtered.drop(['STORETIME','CHARTDATE','CHARTTIME','DOB','DOD','DOD_HOSP','DOD_SSN'], axis=1)\n",
        "df_notes_TSICU_dropped_cols.columns"
      ],
      "metadata": {
        "id": "jfSkON07QFlQ"
      },
      "execution_count": null,
      "outputs": []
    },
    {
      "cell_type": "markdown",
      "source": [
        "select emotional words then filter rows that dont have a minimum number of them"
      ],
      "metadata": {
        "id": "IJasBc1JDJ7G"
      }
    },
    {
      "cell_type": "code",
      "source": [
        "def filter_for_emotional_words(df):\n",
        "  selected_words = ['pain', 'family', 'stable', 'care', 'well', 'social', 'support', 'able', 'decreased', 'warm', 'unable', 'strong', 'intact', 'good', 'times', 'aware', 'eyes', 'tolerated', 'denies', 'tolerating', 'please', 'palpable']\n",
        "  print(\"selected_words list length: \", len(selected_words))\n",
        "  pattern = '|'.join(selected_words)\n",
        "  new_df = df[df['TEXT'].str.contains(pattern, regex=True)].copy()\n",
        "  #filtered_data = df_notes_TSICU[df_notes_TSICU['TEXT'].str.contains(pattern, regex=True)].copy()\n",
        "  new_df['num_search_words'] = new_df['TEXT'].str.count(pattern)\n",
        "  #new_df = new_df[new_df['num_search_words'] >= 0]\n",
        "  new_df.info()\n",
        "  return new_df"
      ],
      "metadata": {
        "id": "io0fnZ6LDJje"
      },
      "execution_count": null,
      "outputs": []
    },
    {
      "cell_type": "code",
      "source": [
        "#filtered_data = filter_for_emotional_words(df_notes_TSICU_dropped_cols)\n",
        "filtered_data = df_notes_TSICU_dropped_cols"
      ],
      "metadata": {
        "id": "lPqYiPgCaw05"
      },
      "execution_count": null,
      "outputs": []
    },
    {
      "cell_type": "markdown",
      "source": [
        "Random selection from sample set"
      ],
      "metadata": {
        "id": "9zgLOVKMmC1c"
      }
    },
    {
      "cell_type": "code",
      "source": [
        "#random_filtered_data = filtered_data.sample(n=50000, random_state=42)\n",
        "random_filtered_data = filtered_data"
      ],
      "metadata": {
        "id": "A2g7uF3_mCja"
      },
      "execution_count": null,
      "outputs": []
    },
    {
      "cell_type": "markdown",
      "source": [
        "Remove similar sentences"
      ],
      "metadata": {
        "id": "T4IGl2_LhAjw"
      }
    },
    {
      "cell_type": "code",
      "source": [
        "from sklearn.feature_extraction.text import TfidfVectorizer\n",
        "from sklearn.metrics.pairwise import cosine_similarity\n",
        "\n",
        "def remove_similar_notes(df):\n",
        "  sentences = df['TEXT'].tolist()\n",
        "  vectorizer = TfidfVectorizer()\n",
        "  tfidf_matrix = vectorizer.fit_transform(sentences)\n",
        "  similarity_threshold = 0.8\n",
        "\n",
        "  similar_indices = []\n",
        "  for i, sentence in enumerate(sentences):  # needs to be max 1000 entries\n",
        "    if any(cosine_similarity(tfidf_matrix[i], tfidf_matrix[j])[0][0] > similarity_threshold for j in range(i)):  # very slow ~10 minutes for 1000 entries, exponential complexity (more than 5 hours if 6000 entries)\n",
        "      similar_indices.append(i)\n",
        "  index_labels = df.index[similar_indices]\n",
        "  df.drop(index_labels, inplace=True)\n",
        "  return df"
      ],
      "metadata": {
        "id": "y_7e8eEAg-8E"
      },
      "execution_count": null,
      "outputs": []
    },
    {
      "cell_type": "markdown",
      "source": [
        "Inverse Document Frequency"
      ],
      "metadata": {
        "id": "kSrdXBqOuXa0"
      }
    },
    {
      "cell_type": "code",
      "source": [
        "vectorizer = TfidfVectorizer(stop_words='english')\n",
        "tfidf_matrix = vectorizer.fit_transform(df_notes_TSICU['TEXT'])\n",
        "\n",
        "feature_names = vectorizer.get_feature_names_out()\n",
        "tfidf_scores = tfidf_matrix.sum(axis=0).A1\n",
        "word_score_dict = dict(zip(feature_names, tfidf_scores))\n",
        "\n",
        "sorted_words = sorted(word_score_dict.items(), key=lambda x: x[1], reverse=True)\n",
        "\n",
        "top_words = sorted_words[:50]"
      ],
      "metadata": {
        "id": "mLycA6V9u2Bk"
      },
      "execution_count": null,
      "outputs": []
    },
    {
      "cell_type": "code",
      "source": [
        "print(\"Rank\\tWord\\t\\t\\tCount\")\n",
        "for rank, (word, score) in enumerate(top_words, start=1):\n",
        "  print(f\"{rank}\\t{word.ljust(20)}\\t{score}\")"
      ],
      "metadata": {
        "id": "CFYY-4Q9yltA"
      },
      "execution_count": null,
      "outputs": []
    },
    {
      "cell_type": "code",
      "source": [
        "#random_filtered_data = remove_similar_notes(random_filtered_data)\n",
        "random_filtered_data.info()"
      ],
      "metadata": {
        "id": "5hR3SznnlFAw"
      },
      "execution_count": null,
      "outputs": []
    },
    {
      "cell_type": "markdown",
      "source": [
        "Find matching conditions for both expired flags"
      ],
      "metadata": {
        "id": "hKqh8rDTZATB"
      }
    },
    {
      "cell_type": "code",
      "source": [
        "def split_set_half_expired(df):\n",
        "  df['EXPIRE_FLAG'] = df['EXPIRE_FLAG'].astype(int)\n",
        "  group_conditions = df.groupby(['ICD9_CODE', 'EXPIRE_FLAG'])\n",
        "  def balance_conditions(g1,g2,size):\n",
        "    size = min(len(g1), len(g2), size)\n",
        "    return g1.sample(n=size, random_state=1), g2.sample(n=size, random_state=1)\n",
        "\n",
        "  rows = []\n",
        "  size = 50000\n",
        "\n",
        "  for drg_desc, group in group_conditions:\n",
        "    icd9, expire = drg_desc\n",
        "    if (icd9, 1-expire) in group_conditions.groups:\n",
        "      paired_group = group_conditions.get_group((icd9, 1-expire))\n",
        "      group_sample1, group_sample2 = balance_conditions(group, paired_group, size)\n",
        "      rows.append(group_sample1)\n",
        "      rows.append(group_sample2)\n",
        "      size -= len(group_sample1)\n",
        "    if size <= 0:\n",
        "      break\n",
        "\n",
        "  new_df = pd.concat(rows)\n",
        "  new_df = new_df.drop_duplicates()\n",
        "\n",
        "  new_df.info()\n",
        "  #print(new_df[['ICD9_CODE', 'EXPIRE_FLAG']])\n",
        "  return new_df\n",
        "\n",
        "  #valid_groups = [key for key, group in group_conditions.groups.keys() if (key[0], key[1], 1 - key[2]) in group_conditions.groups]\n",
        "  #for key in valid_groups:\n",
        "    #pass"
      ],
      "metadata": {
        "id": "CTtgtgvONovy"
      },
      "execution_count": null,
      "outputs": []
    },
    {
      "cell_type": "code",
      "source": [
        "#balanced_data = split_set_half_expired(random_filtered_data)\n",
        "balanced_data = random_filtered_data"
      ],
      "metadata": {
        "id": "JJFzempDgOiy"
      },
      "execution_count": null,
      "outputs": []
    },
    {
      "cell_type": "markdown",
      "source": [
        "Display notes"
      ],
      "metadata": {
        "id": "lnai1UuJCedn"
      }
    },
    {
      "cell_type": "code",
      "source": [
        "pd.set_option('display.max_colwidth', 250)\n",
        "pd.set_option('display.max_rows', None)\n",
        "#print(balanced_data['TEXT'].head(200))\n",
        "pd.reset_option('display.max_colwidth')\n",
        "pd.reset_option('display.max_rows')"
      ],
      "metadata": {
        "id": "dZPZ-AGx-9NA"
      },
      "execution_count": null,
      "outputs": []
    },
    {
      "cell_type": "code",
      "source": [
        "print(balanced_data.columns)\n",
        "print('\\n'+\"Number of rows: \"+str(len(balanced_data)))"
      ],
      "metadata": {
        "id": "cemrUSU8wjMD"
      },
      "execution_count": null,
      "outputs": []
    },
    {
      "cell_type": "code",
      "source": [
        "balanced_data.info()"
      ],
      "metadata": {
        "id": "msI729kSJWJY"
      },
      "execution_count": null,
      "outputs": []
    },
    {
      "cell_type": "code",
      "source": [
        "no_duplicates = balanced_data.sort_values('ROW_ID').drop_duplicates(subset=['CGID', 'SUBJECT_ID'])  \n",
        "no_duplicates = no_duplicates.drop(['TEXT'], axis=1)  # removes text notes\n",
        "no_duplicates.info()"
      ],
      "metadata": {
        "id": "Bze40GhzJai3"
      },
      "execution_count": null,
      "outputs": []
    },
    {
      "cell_type": "markdown",
      "source": [
        "Save to CSV"
      ],
      "metadata": {
        "id": "6hGujs3Fn8Mb"
      }
    },
    {
      "cell_type": "code",
      "source": [
        "# path and name of the cvs file \n",
        "PATH_TO_SAVE = \"/content/drive/MyDrive/NIH/Data/\"\n",
        "name_file_to_save = 'NOTES_NURSING_TRAJECTORIES_TSICU_COUNTS.csv'\n",
        "no_duplicates.to_csv(PATH_TO_SAVE+name_file_to_save,index=False)"
      ],
      "metadata": {
        "id": "metEeEnan7n0"
      },
      "execution_count": null,
      "outputs": []
    },
    {
      "cell_type": "markdown",
      "source": [
        "Gather- top ICD9, # of: patients, deceased, CGs, notes"
      ],
      "metadata": {
        "id": "kGId_c993xlm"
      }
    },
    {
      "cell_type": "code",
      "source": [
        "icd9_max_val = balanced_data['num_of_conditions'].max()\n",
        "icd9_max_df = balanced_data[balanced_data['num_of_conditions'] == icd9_max_val]\n",
        "\n",
        "print(\"Max ICD9 code: \" + icd9_max_df['ICD9_CODE'].unique())\n",
        "print(\"Number of patients: \" + str(icd9_max_df['SUBJECT_ID'].nunique()))\n",
        "print(\"Number of deceased patients: \" + str((icd9_max_df.drop_duplicates(subset='SUBJECT_ID')['EXPIRE_FLAG'] == 1).sum()))\n",
        "print(\"Number of caregivers: \" + str(icd9_max_df['CGID'].nunique()))\n",
        "unique_cgid = icd9_max_df['CGID'].unique()\n",
        "unique_cgid_df = icd9_max_df[icd9_max_df['CGID'].isin(unique_cgid)].drop_duplicates(subset=['CGID', 'LABEL'])\n",
        "unique_cgid_df['LABEL'] = unique_cgid_df['LABEL'].fillna('UNKNOWN')\n",
        "unique_cgid_df['LABEL'] = unique_cgid_df['LABEL'].str.upper()\n",
        "print(\"Caregiver labels: \" + '\\n' + str(unique_cgid_df['LABEL'].value_counts()))\n",
        "print(\"Number of caregivers: \" + str(icd9_max_df['CGID'].nunique()))\n",
        "print(\"Number of notes: \" + str(len(icd9_max_df)))"
      ],
      "metadata": {
        "id": "B5a2aeHR3xHM"
      },
      "execution_count": null,
      "outputs": []
    },
    {
      "cell_type": "markdown",
      "source": [
        "deceased patients for unfiltered set"
      ],
      "metadata": {
        "id": "uC6QUHDWvrvR"
      }
    },
    {
      "cell_type": "code",
      "source": [
        "len(df_notes_TSICU['SUBJECT_ID'].unique())\n",
        "deceased_TSICU = df_notes_TSICU[df_notes_TSICU['EXPIRE_FLAG'] == 1]\n",
        "deceased_TSICU.info()"
      ],
      "metadata": {
        "id": "4quXDt_aieZv"
      },
      "execution_count": null,
      "outputs": []
    },
    {
      "cell_type": "code",
      "source": [
        "sns.set()\n",
        "\n",
        "gb_notes = deceased_TSICU.groupby(['CGID','SUBJECT_ID'])\n",
        "num_notes = gb_notes['TEXT'].count()\n",
        "print(num_notes)\n",
        "print(f'number of notes: min={num_notes.min()}, max={num_notes.max()}, mean={num_notes.mean()},  median={num_notes.median()}')\n",
        "sns.boxplot(x=num_notes)\n",
        "sns.displot(num_notes[((num_notes>2) & (num_notes<15))])"
      ],
      "metadata": {
        "id": "RtIaEm23Ysfg"
      },
      "execution_count": null,
      "outputs": []
    },
    {
      "cell_type": "markdown",
      "source": [
        "Seperate deceased and living"
      ],
      "metadata": {
        "id": "9tJkPVZggBv_"
      }
    },
    {
      "cell_type": "code",
      "source": [
        "deceased_patients = balanced_data[balanced_data['EXPIRE_FLAG'] == 1]\n",
        "deceased_patients.info()"
      ],
      "metadata": {
        "id": "4cfpXZF4fnUG"
      },
      "execution_count": null,
      "outputs": []
    },
    {
      "cell_type": "code",
      "source": [
        "living_patients = balanced_data[balanced_data['EXPIRE_FLAG'] == 0]\n",
        "living_patients.info()"
      ],
      "metadata": {
        "id": "BfFfnIingFO3"
      },
      "execution_count": null,
      "outputs": []
    },
    {
      "cell_type": "markdown",
      "source": [
        "Tokenized words"
      ],
      "metadata": {
        "id": "UU8xrEkoGzNi"
      }
    },
    {
      "cell_type": "code",
      "source": [
        "#text = df_notes_TSICU['TEXT'].str.cat(sep=' ')\n",
        "#words = nltk.word_tokenize(text)  # very slow"
      ],
      "metadata": {
        "id": "YlONNwDeGy9a"
      },
      "execution_count": null,
      "outputs": []
    },
    {
      "cell_type": "markdown",
      "source": [
        "Count words in notes"
      ],
      "metadata": {
        "id": "gyFTOEALCbxX"
      }
    },
    {
      "cell_type": "code",
      "source": [
        "#stopwords = nltk.corpus.stopwords.words('english')\n",
        "#words = [word.lower() for word in words if word.lower() not in stopwords and re.match(r'\\b\\w+\\b', word)]  # also slow but only kinda slow\n",
        "#word_counts = Counter(words)\n",
        "#most_common_words = word_counts.most_common(300)"
      ],
      "metadata": {
        "id": "jtTWXQjy-_Fw"
      },
      "execution_count": null,
      "outputs": []
    },
    {
      "cell_type": "code",
      "source": [
        "#print(\"Rank\\tWord\\t\\t\\tCount\")\n",
        "#for rank, word_count in enumerate(most_common_words, start=1):\n",
        "  #word, count = word_count\n",
        "  #print(f\"{rank}\\t{word.ljust(20)}\\t{count}\")"
      ],
      "metadata": {
        "id": "vtPdb3_iB5T0"
      },
      "execution_count": null,
      "outputs": []
    },
    {
      "cell_type": "markdown",
      "source": [
        "Emotional words"
      ],
      "metadata": {
        "id": "2vLviAGyJmdQ"
      }
    },
    {
      "cell_type": "code",
      "source": [
        "#emotional_words = []\n",
        "#for word_count in most_common_words:\n",
        "  #word = word_count[0]\n",
        "  #synsets = wn.synsets(word)\n",
        "  #if synsets:\n",
        "    #senti_synset = swn.senti_synset(synsets[0].name())\n",
        "    #if senti_synset.pos_score() > 0.45 or senti_synset.neg_score() > 0.45:\n",
        "      #emotional_words.append(word)\n",
        "\n",
        "#emotional_words"
      ],
      "metadata": {
        "id": "4ATr_HSAJlpK"
      },
      "execution_count": null,
      "outputs": []
    },
    {
      "cell_type": "code",
      "source": [
        "#from textblob import TextBlob\n",
        "#emotional_words = []\n",
        "#for word_count in most_common_words:\n",
        "  #word = word_count[0]\n",
        "  #tb = TextBlob(word)\n",
        "  #sentiment = tb.sentiment.polarity\n",
        "  #if abs(sentiment) > 0.35:\n",
        "    #emotional_words.append(word)\n",
        "\n",
        "#emotional_words"
      ],
      "metadata": {
        "id": "ZFtCDPOyRPcq"
      },
      "execution_count": null,
      "outputs": []
    }
  ]
}