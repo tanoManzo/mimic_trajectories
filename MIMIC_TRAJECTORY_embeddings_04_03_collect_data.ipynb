{
  "nbformat": 4,
  "nbformat_minor": 0,
  "metadata": {
    "colab": {
      "provenance": [],
      "include_colab_link": true
    },
    "kernelspec": {
      "name": "python3",
      "display_name": "Python 3"
    },
    "language_info": {
      "name": "python"
    }
  },
  "cells": [
    {
      "cell_type": "markdown",
      "metadata": {
        "id": "view-in-github",
        "colab_type": "text"
      },
      "source": [
        "<a href=\"https://colab.research.google.com/github/tanoManzo/mimic_trajectories/blob/dev/MIMIC_TRAJECTORY_embeddings_04_03_collect_data.ipynb\" target=\"_parent\"><img src=\"https://colab.research.google.com/assets/colab-badge.svg\" alt=\"Open In Colab\"/></a>"
      ]
    },
    {
      "cell_type": "markdown",
      "source": [
        "# Data Collection, Embeddings and Attitude"
      ],
      "metadata": {
        "id": "5CSBbeSkyRmq"
      }
    },
    {
      "cell_type": "code",
      "source": [
        "from google.colab import drive\n",
        "drive.mount('/content/drive')"
      ],
      "metadata": {
        "colab": {
          "base_uri": "https://localhost:8080/"
        },
        "id": "GKFaijaIsKBU",
        "outputId": "2d112767-1797-4efc-a737-41572d106db8"
      },
      "execution_count": 1,
      "outputs": [
        {
          "output_type": "stream",
          "name": "stdout",
          "text": [
            "Mounted at /content/drive\n"
          ]
        }
      ]
    },
    {
      "cell_type": "code",
      "execution_count": 2,
      "metadata": {
        "id": "35BpcyS4eWHw"
      },
      "outputs": [],
      "source": [
        "import numpy as np\n",
        "import pandas as pd\n",
        "import seaborn as sns\n",
        "notes_path = \"/content/drive/MyDrive/NIH/Data/\""
      ]
    },
    {
      "cell_type": "code",
      "source": [
        "file_name = \"ICUSTAYS.csv\"\n",
        "df_ward = pd.read_csv(notes_path+file_name)\n",
        "df_ward"
      ],
      "metadata": {
        "colab": {
          "base_uri": "https://localhost:8080/",
          "height": 424
        },
        "id": "pUQn07JZhC3E",
        "outputId": "db174307-da9a-4e15-894f-cb74e23c0ce8"
      },
      "execution_count": 3,
      "outputs": [
        {
          "output_type": "execute_result",
          "data": {
            "text/plain": [
              "       ROW_ID  SUBJECT_ID  HADM_ID  ICUSTAY_ID    DBSOURCE FIRST_CAREUNIT  \\\n",
              "0         365         268   110404      280836     carevue           MICU   \n",
              "1         366         269   106296      206613     carevue           MICU   \n",
              "2         367         270   188028      220345     carevue            CCU   \n",
              "3         368         271   173727      249196     carevue           MICU   \n",
              "4         369         272   164716      210407     carevue            CCU   \n",
              "...       ...         ...      ...         ...         ...            ...   \n",
              "61527   59806       94944   143774      201233  metavision           CSRU   \n",
              "61528   59807       94950   123750      283653  metavision            CCU   \n",
              "61529   59808       94953   196881      241585  metavision           SICU   \n",
              "61530   59809       94954   118475      202802  metavision           CSRU   \n",
              "61531   59810       94956   156386      275346  metavision          TSICU   \n",
              "\n",
              "      LAST_CAREUNIT  FIRST_WARDID  LAST_WARDID               INTIME  \\\n",
              "0              MICU            52           52  2198-02-14 23:27:38   \n",
              "1              MICU            52           52  2170-11-05 11:05:29   \n",
              "2               CCU            57           57  2128-06-24 15:05:20   \n",
              "3              SICU            52           23  2120-08-07 23:12:42   \n",
              "4               CCU            57           57  2186-12-25 21:08:04   \n",
              "...             ...           ...          ...                  ...   \n",
              "61527          CSRU            15           15  2104-04-15 10:18:16   \n",
              "61528           CCU             7            7  2155-12-08 05:33:16   \n",
              "61529          SICU            57           57  2160-03-03 16:09:11   \n",
              "61530          CSRU            15           15  2183-03-25 09:53:10   \n",
              "61531         TSICU            14           14  2157-05-19 02:54:54   \n",
              "\n",
              "                   OUTTIME     LOS  \n",
              "0      2198-02-18 05:26:11  3.2490  \n",
              "1      2170-11-08 17:46:57  3.2788  \n",
              "2      2128-06-27 12:32:29  2.8939  \n",
              "3      2120-08-10 00:39:04  2.0600  \n",
              "4      2186-12-27 12:01:13  1.6202  \n",
              "...                    ...     ...  \n",
              "61527  2104-04-17 14:51:00  2.1894  \n",
              "61528  2155-12-10 17:24:58  2.4942  \n",
              "61529  2160-03-04 14:22:33  0.9259  \n",
              "61530  2183-03-27 17:55:03  2.3346  \n",
              "61531  2157-05-23 14:58:04  4.5022  \n",
              "\n",
              "[61532 rows x 12 columns]"
            ],
            "text/html": [
              "\n",
              "  <div id=\"df-d28395ab-1968-4716-8024-4777782cf4d5\">\n",
              "    <div class=\"colab-df-container\">\n",
              "      <div>\n",
              "<style scoped>\n",
              "    .dataframe tbody tr th:only-of-type {\n",
              "        vertical-align: middle;\n",
              "    }\n",
              "\n",
              "    .dataframe tbody tr th {\n",
              "        vertical-align: top;\n",
              "    }\n",
              "\n",
              "    .dataframe thead th {\n",
              "        text-align: right;\n",
              "    }\n",
              "</style>\n",
              "<table border=\"1\" class=\"dataframe\">\n",
              "  <thead>\n",
              "    <tr style=\"text-align: right;\">\n",
              "      <th></th>\n",
              "      <th>ROW_ID</th>\n",
              "      <th>SUBJECT_ID</th>\n",
              "      <th>HADM_ID</th>\n",
              "      <th>ICUSTAY_ID</th>\n",
              "      <th>DBSOURCE</th>\n",
              "      <th>FIRST_CAREUNIT</th>\n",
              "      <th>LAST_CAREUNIT</th>\n",
              "      <th>FIRST_WARDID</th>\n",
              "      <th>LAST_WARDID</th>\n",
              "      <th>INTIME</th>\n",
              "      <th>OUTTIME</th>\n",
              "      <th>LOS</th>\n",
              "    </tr>\n",
              "  </thead>\n",
              "  <tbody>\n",
              "    <tr>\n",
              "      <th>0</th>\n",
              "      <td>365</td>\n",
              "      <td>268</td>\n",
              "      <td>110404</td>\n",
              "      <td>280836</td>\n",
              "      <td>carevue</td>\n",
              "      <td>MICU</td>\n",
              "      <td>MICU</td>\n",
              "      <td>52</td>\n",
              "      <td>52</td>\n",
              "      <td>2198-02-14 23:27:38</td>\n",
              "      <td>2198-02-18 05:26:11</td>\n",
              "      <td>3.2490</td>\n",
              "    </tr>\n",
              "    <tr>\n",
              "      <th>1</th>\n",
              "      <td>366</td>\n",
              "      <td>269</td>\n",
              "      <td>106296</td>\n",
              "      <td>206613</td>\n",
              "      <td>carevue</td>\n",
              "      <td>MICU</td>\n",
              "      <td>MICU</td>\n",
              "      <td>52</td>\n",
              "      <td>52</td>\n",
              "      <td>2170-11-05 11:05:29</td>\n",
              "      <td>2170-11-08 17:46:57</td>\n",
              "      <td>3.2788</td>\n",
              "    </tr>\n",
              "    <tr>\n",
              "      <th>2</th>\n",
              "      <td>367</td>\n",
              "      <td>270</td>\n",
              "      <td>188028</td>\n",
              "      <td>220345</td>\n",
              "      <td>carevue</td>\n",
              "      <td>CCU</td>\n",
              "      <td>CCU</td>\n",
              "      <td>57</td>\n",
              "      <td>57</td>\n",
              "      <td>2128-06-24 15:05:20</td>\n",
              "      <td>2128-06-27 12:32:29</td>\n",
              "      <td>2.8939</td>\n",
              "    </tr>\n",
              "    <tr>\n",
              "      <th>3</th>\n",
              "      <td>368</td>\n",
              "      <td>271</td>\n",
              "      <td>173727</td>\n",
              "      <td>249196</td>\n",
              "      <td>carevue</td>\n",
              "      <td>MICU</td>\n",
              "      <td>SICU</td>\n",
              "      <td>52</td>\n",
              "      <td>23</td>\n",
              "      <td>2120-08-07 23:12:42</td>\n",
              "      <td>2120-08-10 00:39:04</td>\n",
              "      <td>2.0600</td>\n",
              "    </tr>\n",
              "    <tr>\n",
              "      <th>4</th>\n",
              "      <td>369</td>\n",
              "      <td>272</td>\n",
              "      <td>164716</td>\n",
              "      <td>210407</td>\n",
              "      <td>carevue</td>\n",
              "      <td>CCU</td>\n",
              "      <td>CCU</td>\n",
              "      <td>57</td>\n",
              "      <td>57</td>\n",
              "      <td>2186-12-25 21:08:04</td>\n",
              "      <td>2186-12-27 12:01:13</td>\n",
              "      <td>1.6202</td>\n",
              "    </tr>\n",
              "    <tr>\n",
              "      <th>...</th>\n",
              "      <td>...</td>\n",
              "      <td>...</td>\n",
              "      <td>...</td>\n",
              "      <td>...</td>\n",
              "      <td>...</td>\n",
              "      <td>...</td>\n",
              "      <td>...</td>\n",
              "      <td>...</td>\n",
              "      <td>...</td>\n",
              "      <td>...</td>\n",
              "      <td>...</td>\n",
              "      <td>...</td>\n",
              "    </tr>\n",
              "    <tr>\n",
              "      <th>61527</th>\n",
              "      <td>59806</td>\n",
              "      <td>94944</td>\n",
              "      <td>143774</td>\n",
              "      <td>201233</td>\n",
              "      <td>metavision</td>\n",
              "      <td>CSRU</td>\n",
              "      <td>CSRU</td>\n",
              "      <td>15</td>\n",
              "      <td>15</td>\n",
              "      <td>2104-04-15 10:18:16</td>\n",
              "      <td>2104-04-17 14:51:00</td>\n",
              "      <td>2.1894</td>\n",
              "    </tr>\n",
              "    <tr>\n",
              "      <th>61528</th>\n",
              "      <td>59807</td>\n",
              "      <td>94950</td>\n",
              "      <td>123750</td>\n",
              "      <td>283653</td>\n",
              "      <td>metavision</td>\n",
              "      <td>CCU</td>\n",
              "      <td>CCU</td>\n",
              "      <td>7</td>\n",
              "      <td>7</td>\n",
              "      <td>2155-12-08 05:33:16</td>\n",
              "      <td>2155-12-10 17:24:58</td>\n",
              "      <td>2.4942</td>\n",
              "    </tr>\n",
              "    <tr>\n",
              "      <th>61529</th>\n",
              "      <td>59808</td>\n",
              "      <td>94953</td>\n",
              "      <td>196881</td>\n",
              "      <td>241585</td>\n",
              "      <td>metavision</td>\n",
              "      <td>SICU</td>\n",
              "      <td>SICU</td>\n",
              "      <td>57</td>\n",
              "      <td>57</td>\n",
              "      <td>2160-03-03 16:09:11</td>\n",
              "      <td>2160-03-04 14:22:33</td>\n",
              "      <td>0.9259</td>\n",
              "    </tr>\n",
              "    <tr>\n",
              "      <th>61530</th>\n",
              "      <td>59809</td>\n",
              "      <td>94954</td>\n",
              "      <td>118475</td>\n",
              "      <td>202802</td>\n",
              "      <td>metavision</td>\n",
              "      <td>CSRU</td>\n",
              "      <td>CSRU</td>\n",
              "      <td>15</td>\n",
              "      <td>15</td>\n",
              "      <td>2183-03-25 09:53:10</td>\n",
              "      <td>2183-03-27 17:55:03</td>\n",
              "      <td>2.3346</td>\n",
              "    </tr>\n",
              "    <tr>\n",
              "      <th>61531</th>\n",
              "      <td>59810</td>\n",
              "      <td>94956</td>\n",
              "      <td>156386</td>\n",
              "      <td>275346</td>\n",
              "      <td>metavision</td>\n",
              "      <td>TSICU</td>\n",
              "      <td>TSICU</td>\n",
              "      <td>14</td>\n",
              "      <td>14</td>\n",
              "      <td>2157-05-19 02:54:54</td>\n",
              "      <td>2157-05-23 14:58:04</td>\n",
              "      <td>4.5022</td>\n",
              "    </tr>\n",
              "  </tbody>\n",
              "</table>\n",
              "<p>61532 rows × 12 columns</p>\n",
              "</div>\n",
              "      <button class=\"colab-df-convert\" onclick=\"convertToInteractive('df-d28395ab-1968-4716-8024-4777782cf4d5')\"\n",
              "              title=\"Convert this dataframe to an interactive table.\"\n",
              "              style=\"display:none;\">\n",
              "        \n",
              "  <svg xmlns=\"http://www.w3.org/2000/svg\" height=\"24px\"viewBox=\"0 0 24 24\"\n",
              "       width=\"24px\">\n",
              "    <path d=\"M0 0h24v24H0V0z\" fill=\"none\"/>\n",
              "    <path d=\"M18.56 5.44l.94 2.06.94-2.06 2.06-.94-2.06-.94-.94-2.06-.94 2.06-2.06.94zm-11 1L8.5 8.5l.94-2.06 2.06-.94-2.06-.94L8.5 2.5l-.94 2.06-2.06.94zm10 10l.94 2.06.94-2.06 2.06-.94-2.06-.94-.94-2.06-.94 2.06-2.06.94z\"/><path d=\"M17.41 7.96l-1.37-1.37c-.4-.4-.92-.59-1.43-.59-.52 0-1.04.2-1.43.59L10.3 9.45l-7.72 7.72c-.78.78-.78 2.05 0 2.83L4 21.41c.39.39.9.59 1.41.59.51 0 1.02-.2 1.41-.59l7.78-7.78 2.81-2.81c.8-.78.8-2.07 0-2.86zM5.41 20L4 18.59l7.72-7.72 1.47 1.35L5.41 20z\"/>\n",
              "  </svg>\n",
              "      </button>\n",
              "      \n",
              "  <style>\n",
              "    .colab-df-container {\n",
              "      display:flex;\n",
              "      flex-wrap:wrap;\n",
              "      gap: 12px;\n",
              "    }\n",
              "\n",
              "    .colab-df-convert {\n",
              "      background-color: #E8F0FE;\n",
              "      border: none;\n",
              "      border-radius: 50%;\n",
              "      cursor: pointer;\n",
              "      display: none;\n",
              "      fill: #1967D2;\n",
              "      height: 32px;\n",
              "      padding: 0 0 0 0;\n",
              "      width: 32px;\n",
              "    }\n",
              "\n",
              "    .colab-df-convert:hover {\n",
              "      background-color: #E2EBFA;\n",
              "      box-shadow: 0px 1px 2px rgba(60, 64, 67, 0.3), 0px 1px 3px 1px rgba(60, 64, 67, 0.15);\n",
              "      fill: #174EA6;\n",
              "    }\n",
              "\n",
              "    [theme=dark] .colab-df-convert {\n",
              "      background-color: #3B4455;\n",
              "      fill: #D2E3FC;\n",
              "    }\n",
              "\n",
              "    [theme=dark] .colab-df-convert:hover {\n",
              "      background-color: #434B5C;\n",
              "      box-shadow: 0px 1px 3px 1px rgba(0, 0, 0, 0.15);\n",
              "      filter: drop-shadow(0px 1px 2px rgba(0, 0, 0, 0.3));\n",
              "      fill: #FFFFFF;\n",
              "    }\n",
              "  </style>\n",
              "\n",
              "      <script>\n",
              "        const buttonEl =\n",
              "          document.querySelector('#df-d28395ab-1968-4716-8024-4777782cf4d5 button.colab-df-convert');\n",
              "        buttonEl.style.display =\n",
              "          google.colab.kernel.accessAllowed ? 'block' : 'none';\n",
              "\n",
              "        async function convertToInteractive(key) {\n",
              "          const element = document.querySelector('#df-d28395ab-1968-4716-8024-4777782cf4d5');\n",
              "          const dataTable =\n",
              "            await google.colab.kernel.invokeFunction('convertToInteractive',\n",
              "                                                     [key], {});\n",
              "          if (!dataTable) return;\n",
              "\n",
              "          const docLinkHtml = 'Like what you see? Visit the ' +\n",
              "            '<a target=\"_blank\" href=https://colab.research.google.com/notebooks/data_table.ipynb>data table notebook</a>'\n",
              "            + ' to learn more about interactive tables.';\n",
              "          element.innerHTML = '';\n",
              "          dataTable['output_type'] = 'display_data';\n",
              "          await google.colab.output.renderOutput(dataTable, element);\n",
              "          const docLink = document.createElement('div');\n",
              "          docLink.innerHTML = docLinkHtml;\n",
              "          element.appendChild(docLink);\n",
              "        }\n",
              "      </script>\n",
              "    </div>\n",
              "  </div>\n",
              "  "
            ]
          },
          "metadata": {},
          "execution_count": 3
        }
      ]
    },
    {
      "cell_type": "code",
      "source": [
        "subject_id_csru = df_ward[(df_ward['FIRST_CAREUNIT']=='CSRU') & (df_ward['LAST_CAREUNIT']=='CSRU')].SUBJECT_ID.unique()\n",
        "print(f'Number of Subjects in CSRU: {len(subject_id_csru)}')\n",
        "hosp_stay_id_csru = df_ward[(df_ward['FIRST_CAREUNIT']=='CSRU') & (df_ward['LAST_CAREUNIT']=='CSRU')].HADM_ID.unique()\n",
        "print(f'Number of Hospital stays in CSRU: {len(hosp_stay_id_csru)}')\n",
        "subject_id_micu = df_ward[(df_ward['FIRST_CAREUNIT']=='MICU') & (df_ward['LAST_CAREUNIT']=='MICU')].SUBJECT_ID.unique()\n",
        "print(f'Number of Subjects in MICU: {len(subject_id_micu)}')\n",
        "hosp_stay_id_micu = df_ward[(df_ward['FIRST_CAREUNIT']=='MICU') & (df_ward['LAST_CAREUNIT']=='MICU')].HADM_ID.unique()\n",
        "print(f'Number of Hospital stays in MICU: {len(hosp_stay_id_micu)}')"
      ],
      "metadata": {
        "id": "Ti0D5GvITEpa",
        "colab": {
          "base_uri": "https://localhost:8080/"
        },
        "outputId": "599a4a9d-eb0c-4adf-de27-406b94c77020"
      },
      "execution_count": 18,
      "outputs": [
        {
          "output_type": "stream",
          "name": "stdout",
          "text": [
            "Number of Subjects in CSRU: 7944\n",
            "Number of Hospital stays in CSRU: 8385\n",
            "Number of Subjects in MICU: 14925\n",
            "Number of Hospital stays in MICU: 19165\n"
          ]
        }
      ]
    },
    {
      "cell_type": "code",
      "source": [
        "file_name = \"DIAGNOSES_ICD.csv\"\n",
        "df_icd = pd.read_csv(notes_path+file_name)\n",
        "df_icd_first = df_icd[df_icd['SEQ_NUM']==1]\n",
        "df_icd_first_csru = df_icd_first[df_icd_first['SUBJECT_ID'].isin(subject_id_csru)]\n",
        "print(f'Number of unique ICD 9 first sequence from CSRU subject: {df_icd_first_csru.ICD9_CODE.nunique()}')\n",
        "icd_csru = df_icd_first_csru.ICD9_CODE.value_counts().nlargest(5)\n",
        "print('Top 5 Popular ICD9 in the CSRU population with duplicates:')\n",
        "print(\"code  #subjects\")\n",
        "icd_csru"
      ],
      "metadata": {
        "id": "PFLocK_T-w_x",
        "outputId": "93e7d597-f9f2-4709-ca99-07f854532d71",
        "colab": {
          "base_uri": "https://localhost:8080/"
        }
      },
      "execution_count": 8,
      "outputs": [
        {
          "output_type": "stream",
          "name": "stdout",
          "text": [
            "Number of unique ICD 9 first sequence from CSRU subject: 822\n",
            "Top 5 Popular ICD9 in the CSRU population with duplicates:\n",
            "code  #subjects\n"
          ]
        },
        {
          "output_type": "execute_result",
          "data": {
            "text/plain": [
              "41401    2984\n",
              "4241     1051\n",
              "41071     741\n",
              "4240      530\n",
              "4412      165\n",
              "Name: ICD9_CODE, dtype: int64"
            ]
          },
          "metadata": {},
          "execution_count": 8
        }
      ]
    },
    {
      "cell_type": "code",
      "source": [
        "condition = []\n",
        "for item in df_icd['ICD9_CODE'].values:\n",
        "\n",
        "  if str(item).isdigit():\n",
        "    item = float(item)\n",
        "    if (item>799 and item<1000):\n",
        "      condition.append(True)\n",
        "    else:\n",
        "      condition.append(False)\n",
        "  else:\n",
        "      condition.append(False)\n",
        "\n",
        "df_8xx = df_icd[condition]\n",
        "df_8xx_csru = df_8xx[df_8xx['SUBJECT_ID'].isin(subject_id_csru)]\n",
        "icd8xx_subjects_ids = df_8xx_csru['SUBJECT_ID'].unique()\n",
        "icd8xx_hosp_ids = df_8xx_csru['HADM_ID'].unique()\n",
        "print(f'Number of subjects with a first sequence ICD 9 code [800,900) : {len(icd8xx_subjects_ids)}')\n",
        "print(f'Number of hospital stays with a first sequence ICD 9 code [800,900) : {len(icd8xx_hosp_ids)}')"
      ],
      "metadata": {
        "colab": {
          "base_uri": "https://localhost:8080/"
        },
        "id": "6-NdyuwtOgIx",
        "outputId": "0cad2e6e-8a38-4702-d3be-6947c4955527"
      },
      "execution_count": 9,
      "outputs": [
        {
          "output_type": "stream",
          "name": "stdout",
          "text": [
            "Number of subjects with a first sequence ICD 9 code [800,900) : 170\n",
            "Number of hospital stays with a first sequence ICD 9 code [800,900) : 185\n"
          ]
        }
      ]
    },
    {
      "cell_type": "code",
      "source": [
        "print(df_8xx_csru['ICD9_CODE'].unique())"
      ],
      "metadata": {
        "colab": {
          "base_uri": "https://localhost:8080/"
        },
        "id": "XlKJEMGhI3VQ",
        "outputId": "d3335cdf-d31e-46f8-fdef-8f42b4de2c08"
      },
      "execution_count": 10,
      "outputs": [
        {
          "output_type": "stream",
          "name": "stdout",
          "text": [
            "['00845' '920' '0931' '936' '00863' '0860' '0940' '00843' '990']\n"
          ]
        }
      ]
    },
    {
      "cell_type": "code",
      "source": [
        "patients = \"PATIENTS.csv\"\n",
        "df_patients = pd.read_csv(notes_path+patients)\n",
        "df_patients_icd8xx_csru = df_patients[df_patients['SUBJECT_ID'].isin(icd8xx_subjects_ids)]\n",
        "df_patients_icd8xx_csru.info()\n",
        "print('Subjects Expired (1), Alive (0): ')\n",
        "print(df_patients_icd8xx_csru['EXPIRE_FLAG'].value_counts())\n",
        "print(df_patients_icd8xx_csru['GENDER'].value_counts())"
      ],
      "metadata": {
        "id": "oz7EmtbWQC31",
        "colab": {
          "base_uri": "https://localhost:8080/"
        },
        "outputId": "2131af4e-dc4b-4e19-ac87-5b710c7c1578"
      },
      "execution_count": 11,
      "outputs": [
        {
          "output_type": "stream",
          "name": "stdout",
          "text": [
            "<class 'pandas.core.frame.DataFrame'>\n",
            "Int64Index: 170 entries, 6 to 46449\n",
            "Data columns (total 8 columns):\n",
            " #   Column       Non-Null Count  Dtype \n",
            "---  ------       --------------  ----- \n",
            " 0   ROW_ID       170 non-null    int64 \n",
            " 1   SUBJECT_ID   170 non-null    int64 \n",
            " 2   GENDER       170 non-null    object\n",
            " 3   DOB          170 non-null    object\n",
            " 4   DOD          108 non-null    object\n",
            " 5   DOD_HOSP     69 non-null     object\n",
            " 6   DOD_SSN      85 non-null     object\n",
            " 7   EXPIRE_FLAG  170 non-null    int64 \n",
            "dtypes: int64(3), object(5)\n",
            "memory usage: 12.0+ KB\n",
            "Subjects Expired (1), Alive (0): \n",
            "1    108\n",
            "0     62\n",
            "Name: EXPIRE_FLAG, dtype: int64\n",
            "M    86\n",
            "F    84\n",
            "Name: GENDER, dtype: int64\n"
          ]
        }
      ]
    },
    {
      "cell_type": "code",
      "source": [
        "df_gcs_total_subjects = df_patients_icd8xx_csru[df_patients_icd8xx_csru['SUBJECT_ID'].isin(icd8xx_subjects_ids)]\n",
        "df_gcs_total_subjects['SUBJECT_ID'].nunique()"
      ],
      "metadata": {
        "colab": {
          "base_uri": "https://localhost:8080/"
        },
        "id": "q1aE_OgdyF2R",
        "outputId": "221d8512-dfd7-4654-c0b3-5cfd46f6b02f"
      },
      "execution_count": 12,
      "outputs": [
        {
          "output_type": "execute_result",
          "data": {
            "text/plain": [
              "170"
            ]
          },
          "metadata": {},
          "execution_count": 12
        }
      ]
    },
    {
      "cell_type": "code",
      "source": [
        "note_events = \"NOTEEVENTS.csv\"\n",
        "df_note_events = pd.read_csv(notes_path+note_events)\n",
        "df_note_events.info()"
      ],
      "metadata": {
        "id": "-nA246kVYBs_",
        "outputId": "2a6bb0a8-0f67-41f9-9087-a911938a75d8",
        "colab": {
          "base_uri": "https://localhost:8080/"
        }
      },
      "execution_count": 5,
      "outputs": [
        {
          "output_type": "stream",
          "name": "stderr",
          "text": [
            "<ipython-input-5-8fd00f55f791>:2: DtypeWarning: Columns (4,5) have mixed types. Specify dtype option on import or set low_memory=False.\n",
            "  df_note_events = pd.read_csv(notes_path+note_events)\n"
          ]
        },
        {
          "output_type": "stream",
          "name": "stdout",
          "text": [
            "<class 'pandas.core.frame.DataFrame'>\n",
            "RangeIndex: 2083180 entries, 0 to 2083179\n",
            "Data columns (total 11 columns):\n",
            " #   Column       Dtype  \n",
            "---  ------       -----  \n",
            " 0   ROW_ID       int64  \n",
            " 1   SUBJECT_ID   int64  \n",
            " 2   HADM_ID      float64\n",
            " 3   CHARTDATE    object \n",
            " 4   CHARTTIME    object \n",
            " 5   STORETIME    object \n",
            " 6   CATEGORY     object \n",
            " 7   DESCRIPTION  object \n",
            " 8   CGID         float64\n",
            " 9   ISERROR      float64\n",
            " 10  TEXT         object \n",
            "dtypes: float64(3), int64(2), object(6)\n",
            "memory usage: 174.8+ MB\n"
          ]
        }
      ]
    },
    {
      "cell_type": "code",
      "source": [
        "df_notes_total_hosp_stays_micu = df_note_events[df_note_events['HADM_ID'].isin(hosp_stay_id_micu)]\n",
        "df_notes_total_hosp_stays_micu.sort_values(by=['HADM_ID','CHARTTIME'])\n",
        "df_notes_total_hosp_stays_micu_social_worker = df_notes_total_hosp_stays_micu[df_notes_total_hosp_stays_micu['CATEGORY']=='Social Work']\n",
        "#df_notes_total_hosp_stays_micu.info()\n",
        "print(f'Number of Hospital Stays with Social Worker notes in MICU: {len(df_notes_total_hosp_stays_micu_social_worker.HADM_ID.unique())}')\n",
        "df_notes_total_hosp_stays_csru = df_note_events[df_note_events['HADM_ID'].isin(hosp_stay_id_csru)]\n",
        "df_notes_total_hosp_stays_csru.sort_values(by=['HADM_ID','CHARTTIME'])\n",
        "df_notes_total_hosp_stays_csru_social_worker = df_notes_total_hosp_stays_csru[df_notes_total_hosp_stays_csru['CATEGORY']=='Social Work']\n",
        "#df_notes_total_hosp_stays.info()\n",
        "print(f'Number of Hospital Stays with Social Worker notes in CSRU: {len(df_notes_total_hosp_stays_csru_social_worker.HADM_ID.unique())}')"
      ],
      "metadata": {
        "id": "wmvD2iBE58L4"
      },
      "execution_count": null,
      "outputs": []
    },
    {
      "cell_type": "markdown",
      "source": [
        "Subjects with social worker notes"
      ],
      "metadata": {
        "id": "medOcfci6BQQ"
      }
    },
    {
      "cell_type": "code",
      "source": [
        "df_notes_total_subjects_csru = df_note_events[df_note_events['SUBJECT_ID'].isin(subject_id_csru)]\n",
        "df_notes_total_subjects_csru_social_worker = df_notes_total_subjects_csru[df_notes_total_subjects_csru['CATEGORY']=='Social Work']\n",
        "print(f'Number of Subjects with Social Worker notes in MICU: {len(df_notes_total_subjects_csru_social_worker.SUBJECT_ID.unique())}')"
      ],
      "metadata": {
        "id": "tbNzgHw2JDkt",
        "colab": {
          "base_uri": "https://localhost:8080/"
        },
        "outputId": "2c4d19a4-7590-4b64-894e-d20eae18a367"
      },
      "execution_count": 37,
      "outputs": [
        {
          "output_type": "stream",
          "name": "stdout",
          "text": [
            "Number of Subjects with Social Worker notes in MICU: 107\n"
          ]
        }
      ]
    },
    {
      "cell_type": "code",
      "source": [
        "df_notes_total_subjects_micu = df_note_events[df_note_events['SUBJECT_ID'].isin(subject_id_micu)]\n",
        "df_notes_total_subjects_micu_social_worker = df_notes_total_subjects_micu[df_notes_total_subjects_micu['CATEGORY']=='Social Work']\n",
        "print(f'Number of Subjects with Social Worker notes in MICU: {len(df_notes_total_subjects_micu_social_worker.SUBJECT_ID.unique())}')"
      ],
      "metadata": {
        "id": "TjI5xfQo7dqd",
        "outputId": "e35b2978-cdf9-4775-d8b9-2bb4c156f0c5",
        "colab": {
          "base_uri": "https://localhost:8080/"
        }
      },
      "execution_count": 38,
      "outputs": [
        {
          "output_type": "stream",
          "name": "stdout",
          "text": [
            "Number of Subjects with Social Worker notes in MICU: 707\n"
          ]
        }
      ]
    },
    {
      "cell_type": "code",
      "source": [
        "print(df_note_events['CATEGORY'].unique())"
      ],
      "metadata": {
        "id": "QbSCiAMObBNm",
        "outputId": "39118128-c956-4bc4-ef76-25fca7a82637",
        "colab": {
          "base_uri": "https://localhost:8080/"
        }
      },
      "execution_count": 28,
      "outputs": [
        {
          "output_type": "stream",
          "name": "stdout",
          "text": [
            "['Discharge summary' 'Echo' 'ECG' 'Nursing' 'Physician ' 'Rehab Services'\n",
            " 'Case Management ' 'Respiratory ' 'Nutrition' 'General' 'Social Work'\n",
            " 'Pharmacy' 'Consult' 'Radiology' 'Nursing/other']\n"
          ]
        }
      ]
    },
    {
      "cell_type": "code",
      "source": [
        "import re\n",
        "df_notes_icd8xx_csru_social = df_notes_total_hosp_stays_csru.merge(df_patients[['SUBJECT_ID', 'EXPIRE_FLAG']], on=['SUBJECT_ID'], how='inner')\n",
        "#df_notes_icd8xx_csru_social = df_notes_icd8xx_csru_social.merge(df_8xx_csru[['SUBJECT_ID', 'ICD9_CODE','HADM_ID']], on=['SUBJECT_ID','HADM_ID'], how='inner')\n",
        "df_notes_icd8xx_csru_social = df_notes_icd8xx_csru_social[(df_notes_icd8xx_csru_social['CATEGORY']=='Nursing') | (df_notes_icd8xx_csru_social['CATEGORY']=='Nursing/other') | (df_notes_icd8xx_csru_social['CATEGORY']=='Social Work')]\n",
        "\n",
        "# regex pattern\n",
        "pattern = r'(?i)(social work note:|social work note-|social work note\\n\\n|social work note\\n|social work:|social work-|social work\\n\\n|social work\\n|social:|soc:|soc;|soc-|social-|social -|social \\n|social\\n\\n|social\\n)(.*?)(?:\\n|$)'\n",
        "\n",
        "# grabs multiple results if the pattern shows more than once\n",
        "df_notes_icd8xx_csru_social['SOCIAL'] = df_notes_icd8xx_csru_social['TEXT'].apply(lambda x: ' '.join([match[1] for match in re.findall(pattern, x.lower(), flags=re.DOTALL)]) if re.findall(pattern, x.lower(), flags=re.DOTALL) else '')\n",
        "\n",
        "#df_notes_icd8xx_tsicu_social = df_notes_icd8xx_tsicu_social[df_notes_icd8xx_tsicu_social['TEXT'].str.lower().str.contains('social work', regex=True)] # grabs only \"social work\" examples\n",
        "#df_notes_icd8xx_tsicu_social['SOCIAL'] = df_notes_icd8xx_tsicu_social['TEXT'].str.lower().str.extract(pattern, flags=re.DOTALL)[1]  # grabs only the first result of regex pattern\n",
        "\n",
        "#df_notes_icd8xx_tsicu_social = df_notes_icd8xx_tsicu_social.sort_values(by=['HADM_ID','CHARTTIME']) # for testing\n",
        "#df_notes_icd8xx_tsicu_social = df_notes_icd8xx_tsicu_social[df_notes_icd8xx_tsicu_social['EXPIRE_FLAG'] == 1] # for testing\n",
        "#df_notes_icd8xx_tsicu_social = df_notes_icd8xx_tsicu_social[df_notes_icd8xx_tsicu_social['HADM_ID'] == 108474] # for testing\n",
        "\n",
        "df_notes_icd8xx_csru_social = df_notes_icd8xx_csru_social.sort_values(by='SOCIAL', key=lambda x: x.str.len(), ascending=False)\n",
        "df_notes_icd8xx_csru_social.info()\n",
        "df_notes_icd8xx_csru_social.head(300)"
      ],
      "metadata": {
        "id": "nqjCql5TjMlG",
        "colab": {
          "base_uri": "https://localhost:8080/",
          "height": 771
        },
        "outputId": "46ae469a-3ce1-4550-821d-538bb3283e40"
      },
      "execution_count": 29,
      "outputs": [
        {
          "output_type": "stream",
          "name": "stdout",
          "text": [
            "<class 'pandas.core.frame.DataFrame'>\n",
            "Int64Index: 92154 entries, 36824 to 199898\n",
            "Data columns (total 13 columns):\n",
            " #   Column       Non-Null Count  Dtype  \n",
            "---  ------       --------------  -----  \n",
            " 0   ROW_ID       92154 non-null  int64  \n",
            " 1   SUBJECT_ID   92154 non-null  int64  \n",
            " 2   HADM_ID      92154 non-null  float64\n",
            " 3   CHARTDATE    92154 non-null  object \n",
            " 4   CHARTTIME    92154 non-null  object \n",
            " 5   STORETIME    92154 non-null  object \n",
            " 6   CATEGORY     92154 non-null  object \n",
            " 7   DESCRIPTION  92154 non-null  object \n",
            " 8   CGID         92154 non-null  float64\n",
            " 9   ISERROR      45 non-null     float64\n",
            " 10  TEXT         92154 non-null  object \n",
            " 11  EXPIRE_FLAG  92154 non-null  int64  \n",
            " 12  SOCIAL       92154 non-null  object \n",
            "dtypes: float64(3), int64(3), object(7)\n",
            "memory usage: 9.8+ MB\n"
          ]
        },
        {
          "output_type": "execute_result",
          "data": {
            "text/plain": [
              "         ROW_ID  SUBJECT_ID   HADM_ID   CHARTDATE            CHARTTIME  \\\n",
              "36824   1485985       17081  103931.0  2138-08-13  2138-08-13 15:52:00   \n",
              "26057   1519601       19558  101168.0  2172-09-30  2172-09-30 14:53:00   \n",
              "125737  1527284       20155  152446.0  2143-07-28  2143-07-28 05:24:00   \n",
              "20713   1445244       14019  188498.0  2167-08-11  2167-08-11 15:25:00   \n",
              "48022   1450507       14443  185831.0  2124-09-11  2124-09-11 13:46:00   \n",
              "...         ...         ...       ...         ...                  ...   \n",
              "27035   1308592        3597  162212.0  2128-04-17  2128-04-17 18:44:00   \n",
              "50620   1515459       19206  164924.0  2120-10-01  2120-10-01 12:27:00   \n",
              "60972   1510239       18874  101982.0  2195-10-06  2195-10-06 16:37:00   \n",
              "22238   1272116         803  143339.0  2111-10-17  2111-10-17 04:58:00   \n",
              "36849   1486005       17081  103931.0  2138-08-20  2138-08-20 14:37:00   \n",
              "\n",
              "                  STORETIME       CATEGORY DESCRIPTION     CGID  ISERROR  \\\n",
              "36824   2138-08-13 15:59:00  Nursing/other      Report  17765.0      NaN   \n",
              "26057   2172-09-30 15:02:00  Nursing/other      Report  17765.0      NaN   \n",
              "125737  2143-07-28 06:02:00  Nursing/other      Report  17512.0      NaN   \n",
              "20713   2167-08-11 15:41:00  Nursing/other      Report  17765.0      NaN   \n",
              "48022   2124-09-11 13:55:00  Nursing/other      Report  17765.0      NaN   \n",
              "...                     ...            ...         ...      ...      ...   \n",
              "27035   2128-04-17 18:56:00  Nursing/other      Report  16140.0      NaN   \n",
              "50620   2120-10-01 12:29:00  Nursing/other      Report  17765.0      NaN   \n",
              "60972   2195-10-06 16:39:00  Nursing/other      Report  17765.0      NaN   \n",
              "22238   2111-10-17 05:50:00  Nursing/other      Report  15255.0      NaN   \n",
              "36849   2138-08-20 14:39:00  Nursing/other      Report  17765.0      NaN   \n",
              "\n",
              "                                                     TEXT  EXPIRE_FLAG  \\\n",
              "36824   SOCIAL WORK NOTE:  Met this afternoon for one ...            1   \n",
              "26057   SOCIAL WORK NOTE:  New trauma pt on SICU admit...            0   \n",
              "125737  [** 1176**] NPN\\nSEE 2 NOTES FROM THIS SHIFT, ...            1   \n",
              "20713   SOCIAL WORK NOTE:  New trauma patient on CTIC/...            1   \n",
              "48022   SOCIAL WORK NOTE:  Met with pt's wife, [**Name...            0   \n",
              "...                                                   ...          ...   \n",
              "27035   SICU NPN CONT...\\nGU: urine sent off this AM f...            0   \n",
              "50620   SOCIAL WORK NOTE:  Pt's partner, [**Name (NI) ...            0   \n",
              "60972   SOCIAL WORK NOTE:  Please see ED note from thi...            1   \n",
              "22238   S/P FALL SDH C/SICU NSG ADMIT NOTE.\\nPT ARRIVE...            1   \n",
              "36849   SOCIAL WORK NOTE:  Ethics Consult Service was ...            1   \n",
              "\n",
              "                                                   SOCIAL  \n",
              "36824     met this afternoon for one hour with pt's wi...  \n",
              "26057     new trauma pt on sicu admitted [**9-29**] s/...  \n",
              "125737   son [**name (ni) **] present when bleeding be...  \n",
              "20713     new trauma patient on ctic/sicu.  pt is an u...  \n",
              "48022     met with pt's wife, [**name (ni) 1257**], to...  \n",
              "...                                                   ...  \n",
              "27035    [**name (ni) 25**] wife [**doctor first name ...  \n",
              "50620     pt's partner, [**name (ni) **], mother, [**n...  \n",
              "60972     please see ed note from this sw earlier in a...  \n",
              "22238   pt lives w/ daughter on [**initials (namepatte...  \n",
              "36849     ethics consult service was consulted by orth...  \n",
              "\n",
              "[300 rows x 13 columns]"
            ],
            "text/html": [
              "\n",
              "  <div id=\"df-ee7afdf7-0c5b-40e9-a89b-42e91affebfb\">\n",
              "    <div class=\"colab-df-container\">\n",
              "      <div>\n",
              "<style scoped>\n",
              "    .dataframe tbody tr th:only-of-type {\n",
              "        vertical-align: middle;\n",
              "    }\n",
              "\n",
              "    .dataframe tbody tr th {\n",
              "        vertical-align: top;\n",
              "    }\n",
              "\n",
              "    .dataframe thead th {\n",
              "        text-align: right;\n",
              "    }\n",
              "</style>\n",
              "<table border=\"1\" class=\"dataframe\">\n",
              "  <thead>\n",
              "    <tr style=\"text-align: right;\">\n",
              "      <th></th>\n",
              "      <th>ROW_ID</th>\n",
              "      <th>SUBJECT_ID</th>\n",
              "      <th>HADM_ID</th>\n",
              "      <th>CHARTDATE</th>\n",
              "      <th>CHARTTIME</th>\n",
              "      <th>STORETIME</th>\n",
              "      <th>CATEGORY</th>\n",
              "      <th>DESCRIPTION</th>\n",
              "      <th>CGID</th>\n",
              "      <th>ISERROR</th>\n",
              "      <th>TEXT</th>\n",
              "      <th>EXPIRE_FLAG</th>\n",
              "      <th>SOCIAL</th>\n",
              "    </tr>\n",
              "  </thead>\n",
              "  <tbody>\n",
              "    <tr>\n",
              "      <th>36824</th>\n",
              "      <td>1485985</td>\n",
              "      <td>17081</td>\n",
              "      <td>103931.0</td>\n",
              "      <td>2138-08-13</td>\n",
              "      <td>2138-08-13 15:52:00</td>\n",
              "      <td>2138-08-13 15:59:00</td>\n",
              "      <td>Nursing/other</td>\n",
              "      <td>Report</td>\n",
              "      <td>17765.0</td>\n",
              "      <td>NaN</td>\n",
              "      <td>SOCIAL WORK NOTE:  Met this afternoon for one ...</td>\n",
              "      <td>1</td>\n",
              "      <td>met this afternoon for one hour with pt's wi...</td>\n",
              "    </tr>\n",
              "    <tr>\n",
              "      <th>26057</th>\n",
              "      <td>1519601</td>\n",
              "      <td>19558</td>\n",
              "      <td>101168.0</td>\n",
              "      <td>2172-09-30</td>\n",
              "      <td>2172-09-30 14:53:00</td>\n",
              "      <td>2172-09-30 15:02:00</td>\n",
              "      <td>Nursing/other</td>\n",
              "      <td>Report</td>\n",
              "      <td>17765.0</td>\n",
              "      <td>NaN</td>\n",
              "      <td>SOCIAL WORK NOTE:  New trauma pt on SICU admit...</td>\n",
              "      <td>0</td>\n",
              "      <td>new trauma pt on sicu admitted [**9-29**] s/...</td>\n",
              "    </tr>\n",
              "    <tr>\n",
              "      <th>125737</th>\n",
              "      <td>1527284</td>\n",
              "      <td>20155</td>\n",
              "      <td>152446.0</td>\n",
              "      <td>2143-07-28</td>\n",
              "      <td>2143-07-28 05:24:00</td>\n",
              "      <td>2143-07-28 06:02:00</td>\n",
              "      <td>Nursing/other</td>\n",
              "      <td>Report</td>\n",
              "      <td>17512.0</td>\n",
              "      <td>NaN</td>\n",
              "      <td>[** 1176**] NPN\\nSEE 2 NOTES FROM THIS SHIFT, ...</td>\n",
              "      <td>1</td>\n",
              "      <td>son [**name (ni) **] present when bleeding be...</td>\n",
              "    </tr>\n",
              "    <tr>\n",
              "      <th>20713</th>\n",
              "      <td>1445244</td>\n",
              "      <td>14019</td>\n",
              "      <td>188498.0</td>\n",
              "      <td>2167-08-11</td>\n",
              "      <td>2167-08-11 15:25:00</td>\n",
              "      <td>2167-08-11 15:41:00</td>\n",
              "      <td>Nursing/other</td>\n",
              "      <td>Report</td>\n",
              "      <td>17765.0</td>\n",
              "      <td>NaN</td>\n",
              "      <td>SOCIAL WORK NOTE:  New trauma patient on CTIC/...</td>\n",
              "      <td>1</td>\n",
              "      <td>new trauma patient on ctic/sicu.  pt is an u...</td>\n",
              "    </tr>\n",
              "    <tr>\n",
              "      <th>48022</th>\n",
              "      <td>1450507</td>\n",
              "      <td>14443</td>\n",
              "      <td>185831.0</td>\n",
              "      <td>2124-09-11</td>\n",
              "      <td>2124-09-11 13:46:00</td>\n",
              "      <td>2124-09-11 13:55:00</td>\n",
              "      <td>Nursing/other</td>\n",
              "      <td>Report</td>\n",
              "      <td>17765.0</td>\n",
              "      <td>NaN</td>\n",
              "      <td>SOCIAL WORK NOTE:  Met with pt's wife, [**Name...</td>\n",
              "      <td>0</td>\n",
              "      <td>met with pt's wife, [**name (ni) 1257**], to...</td>\n",
              "    </tr>\n",
              "    <tr>\n",
              "      <th>...</th>\n",
              "      <td>...</td>\n",
              "      <td>...</td>\n",
              "      <td>...</td>\n",
              "      <td>...</td>\n",
              "      <td>...</td>\n",
              "      <td>...</td>\n",
              "      <td>...</td>\n",
              "      <td>...</td>\n",
              "      <td>...</td>\n",
              "      <td>...</td>\n",
              "      <td>...</td>\n",
              "      <td>...</td>\n",
              "      <td>...</td>\n",
              "    </tr>\n",
              "    <tr>\n",
              "      <th>27035</th>\n",
              "      <td>1308592</td>\n",
              "      <td>3597</td>\n",
              "      <td>162212.0</td>\n",
              "      <td>2128-04-17</td>\n",
              "      <td>2128-04-17 18:44:00</td>\n",
              "      <td>2128-04-17 18:56:00</td>\n",
              "      <td>Nursing/other</td>\n",
              "      <td>Report</td>\n",
              "      <td>16140.0</td>\n",
              "      <td>NaN</td>\n",
              "      <td>SICU NPN CONT...\\nGU: urine sent off this AM f...</td>\n",
              "      <td>0</td>\n",
              "      <td>[**name (ni) 25**] wife [**doctor first name ...</td>\n",
              "    </tr>\n",
              "    <tr>\n",
              "      <th>50620</th>\n",
              "      <td>1515459</td>\n",
              "      <td>19206</td>\n",
              "      <td>164924.0</td>\n",
              "      <td>2120-10-01</td>\n",
              "      <td>2120-10-01 12:27:00</td>\n",
              "      <td>2120-10-01 12:29:00</td>\n",
              "      <td>Nursing/other</td>\n",
              "      <td>Report</td>\n",
              "      <td>17765.0</td>\n",
              "      <td>NaN</td>\n",
              "      <td>SOCIAL WORK NOTE:  Pt's partner, [**Name (NI) ...</td>\n",
              "      <td>0</td>\n",
              "      <td>pt's partner, [**name (ni) **], mother, [**n...</td>\n",
              "    </tr>\n",
              "    <tr>\n",
              "      <th>60972</th>\n",
              "      <td>1510239</td>\n",
              "      <td>18874</td>\n",
              "      <td>101982.0</td>\n",
              "      <td>2195-10-06</td>\n",
              "      <td>2195-10-06 16:37:00</td>\n",
              "      <td>2195-10-06 16:39:00</td>\n",
              "      <td>Nursing/other</td>\n",
              "      <td>Report</td>\n",
              "      <td>17765.0</td>\n",
              "      <td>NaN</td>\n",
              "      <td>SOCIAL WORK NOTE:  Please see ED note from thi...</td>\n",
              "      <td>1</td>\n",
              "      <td>please see ed note from this sw earlier in a...</td>\n",
              "    </tr>\n",
              "    <tr>\n",
              "      <th>22238</th>\n",
              "      <td>1272116</td>\n",
              "      <td>803</td>\n",
              "      <td>143339.0</td>\n",
              "      <td>2111-10-17</td>\n",
              "      <td>2111-10-17 04:58:00</td>\n",
              "      <td>2111-10-17 05:50:00</td>\n",
              "      <td>Nursing/other</td>\n",
              "      <td>Report</td>\n",
              "      <td>15255.0</td>\n",
              "      <td>NaN</td>\n",
              "      <td>S/P FALL SDH C/SICU NSG ADMIT NOTE.\\nPT ARRIVE...</td>\n",
              "      <td>1</td>\n",
              "      <td>pt lives w/ daughter on [**initials (namepatte...</td>\n",
              "    </tr>\n",
              "    <tr>\n",
              "      <th>36849</th>\n",
              "      <td>1486005</td>\n",
              "      <td>17081</td>\n",
              "      <td>103931.0</td>\n",
              "      <td>2138-08-20</td>\n",
              "      <td>2138-08-20 14:37:00</td>\n",
              "      <td>2138-08-20 14:39:00</td>\n",
              "      <td>Nursing/other</td>\n",
              "      <td>Report</td>\n",
              "      <td>17765.0</td>\n",
              "      <td>NaN</td>\n",
              "      <td>SOCIAL WORK NOTE:  Ethics Consult Service was ...</td>\n",
              "      <td>1</td>\n",
              "      <td>ethics consult service was consulted by orth...</td>\n",
              "    </tr>\n",
              "  </tbody>\n",
              "</table>\n",
              "<p>300 rows × 13 columns</p>\n",
              "</div>\n",
              "      <button class=\"colab-df-convert\" onclick=\"convertToInteractive('df-ee7afdf7-0c5b-40e9-a89b-42e91affebfb')\"\n",
              "              title=\"Convert this dataframe to an interactive table.\"\n",
              "              style=\"display:none;\">\n",
              "        \n",
              "  <svg xmlns=\"http://www.w3.org/2000/svg\" height=\"24px\"viewBox=\"0 0 24 24\"\n",
              "       width=\"24px\">\n",
              "    <path d=\"M0 0h24v24H0V0z\" fill=\"none\"/>\n",
              "    <path d=\"M18.56 5.44l.94 2.06.94-2.06 2.06-.94-2.06-.94-.94-2.06-.94 2.06-2.06.94zm-11 1L8.5 8.5l.94-2.06 2.06-.94-2.06-.94L8.5 2.5l-.94 2.06-2.06.94zm10 10l.94 2.06.94-2.06 2.06-.94-2.06-.94-.94-2.06-.94 2.06-2.06.94z\"/><path d=\"M17.41 7.96l-1.37-1.37c-.4-.4-.92-.59-1.43-.59-.52 0-1.04.2-1.43.59L10.3 9.45l-7.72 7.72c-.78.78-.78 2.05 0 2.83L4 21.41c.39.39.9.59 1.41.59.51 0 1.02-.2 1.41-.59l7.78-7.78 2.81-2.81c.8-.78.8-2.07 0-2.86zM5.41 20L4 18.59l7.72-7.72 1.47 1.35L5.41 20z\"/>\n",
              "  </svg>\n",
              "      </button>\n",
              "      \n",
              "  <style>\n",
              "    .colab-df-container {\n",
              "      display:flex;\n",
              "      flex-wrap:wrap;\n",
              "      gap: 12px;\n",
              "    }\n",
              "\n",
              "    .colab-df-convert {\n",
              "      background-color: #E8F0FE;\n",
              "      border: none;\n",
              "      border-radius: 50%;\n",
              "      cursor: pointer;\n",
              "      display: none;\n",
              "      fill: #1967D2;\n",
              "      height: 32px;\n",
              "      padding: 0 0 0 0;\n",
              "      width: 32px;\n",
              "    }\n",
              "\n",
              "    .colab-df-convert:hover {\n",
              "      background-color: #E2EBFA;\n",
              "      box-shadow: 0px 1px 2px rgba(60, 64, 67, 0.3), 0px 1px 3px 1px rgba(60, 64, 67, 0.15);\n",
              "      fill: #174EA6;\n",
              "    }\n",
              "\n",
              "    [theme=dark] .colab-df-convert {\n",
              "      background-color: #3B4455;\n",
              "      fill: #D2E3FC;\n",
              "    }\n",
              "\n",
              "    [theme=dark] .colab-df-convert:hover {\n",
              "      background-color: #434B5C;\n",
              "      box-shadow: 0px 1px 3px 1px rgba(0, 0, 0, 0.15);\n",
              "      filter: drop-shadow(0px 1px 2px rgba(0, 0, 0, 0.3));\n",
              "      fill: #FFFFFF;\n",
              "    }\n",
              "  </style>\n",
              "\n",
              "      <script>\n",
              "        const buttonEl =\n",
              "          document.querySelector('#df-ee7afdf7-0c5b-40e9-a89b-42e91affebfb button.colab-df-convert');\n",
              "        buttonEl.style.display =\n",
              "          google.colab.kernel.accessAllowed ? 'block' : 'none';\n",
              "\n",
              "        async function convertToInteractive(key) {\n",
              "          const element = document.querySelector('#df-ee7afdf7-0c5b-40e9-a89b-42e91affebfb');\n",
              "          const dataTable =\n",
              "            await google.colab.kernel.invokeFunction('convertToInteractive',\n",
              "                                                     [key], {});\n",
              "          if (!dataTable) return;\n",
              "\n",
              "          const docLinkHtml = 'Like what you see? Visit the ' +\n",
              "            '<a target=\"_blank\" href=https://colab.research.google.com/notebooks/data_table.ipynb>data table notebook</a>'\n",
              "            + ' to learn more about interactive tables.';\n",
              "          element.innerHTML = '';\n",
              "          dataTable['output_type'] = 'display_data';\n",
              "          await google.colab.output.renderOutput(dataTable, element);\n",
              "          const docLink = document.createElement('div');\n",
              "          docLink.innerHTML = docLinkHtml;\n",
              "          element.appendChild(docLink);\n",
              "        }\n",
              "      </script>\n",
              "    </div>\n",
              "  </div>\n",
              "  "
            ]
          },
          "metadata": {},
          "execution_count": 29
        }
      ]
    },
    {
      "cell_type": "code",
      "source": [
        "import re\n",
        "\n",
        "df_notes_micu_social = df_notes_total_hosp_stays_micu.merge(df_patients[['SUBJECT_ID', 'EXPIRE_FLAG']], on=['SUBJECT_ID'], how='inner')\n",
        "#df_notes_icd8xx_csru_social = df_notes_icd8xx_csru_social.merge(df_8xx_csru[['SUBJECT_ID', 'ICD9_CODE','HADM_ID']], on=['SUBJECT_ID','HADM_ID'], how='inner')\n",
        "df_notes_micu_social = df_notes_micu_social[df_notes_micu_social['CATEGORY']=='Social Work']\n",
        "\n",
        "# regex pattern\n",
        "pattern = r'(?i)(social work note:|social work note-|social work note\\n\\n|social work note\\n|social work:|social work-|social work\\n\\n|social work\\n|social:|soc:|soc;|soc-|social-|social -|social \\n|social\\n\\n|social\\n)(.*?)(?:\\n|$)'\n",
        "\n",
        "# grabs multiple results if the pattern shows more than once\n",
        "df_notes_micu_social['SOCIAL'] = df_notes_micu_social['TEXT'].apply(lambda x: ' '.join([match[1] for match in re.findall(pattern, x.lower(), flags=re.DOTALL)]) if re.findall(pattern, x.lower(), flags=re.DOTALL) else '')\n",
        "\n",
        "#df_notes_icd8xx_tsicu_social = df_notes_icd8xx_tsicu_social[df_notes_icd8xx_tsicu_social['TEXT'].str.lower().str.contains('social work', regex=True)] # grabs only \"social work\" examples\n",
        "#df_notes_icd8xx_tsicu_social['SOCIAL'] = df_notes_icd8xx_tsicu_social['TEXT'].str.lower().str.extract(pattern, flags=re.DOTALL)[1]  # grabs only the first result of regex pattern\n",
        "\n",
        "#df_notes_icd8xx_tsicu_social = df_notes_icd8xx_tsicu_social.sort_values(by=['HADM_ID','CHARTTIME']) # for testing\n",
        "#df_notes_icd8xx_tsicu_social = df_notes_icd8xx_tsicu_social[df_notes_icd8xx_tsicu_social['EXPIRE_FLAG'] == 1] # for testing\n",
        "#df_notes_icd8xx_tsicu_social = df_notes_icd8xx_tsicu_social[df_notes_icd8xx_tsicu_social['HADM_ID'] == 108474] # for testing\n",
        "\n",
        "df_notes_micu_social = df_notes_micu_social.sort_values(by='SOCIAL', key=lambda x: x.str.len(), ascending=False)\n",
        "df_notes_micu_social.info()\n",
        "df_notes_micu_social.head(300)"
      ],
      "metadata": {
        "id": "DCBQMBHC7Wr1",
        "outputId": "a0e522eb-b983-4e4a-b921-cfe3f279c3e0",
        "colab": {
          "base_uri": "https://localhost:8080/",
          "height": 771
        }
      },
      "execution_count": null,
      "outputs": [
        {
          "output_type": "stream",
          "name": "stdout",
          "text": [
            "<class 'pandas.core.frame.DataFrame'>\n",
            "Int64Index: 1352 entries, 404803 to 348365\n",
            "Data columns (total 13 columns):\n",
            " #   Column       Non-Null Count  Dtype  \n",
            "---  ------       --------------  -----  \n",
            " 0   ROW_ID       1352 non-null   int64  \n",
            " 1   SUBJECT_ID   1352 non-null   int64  \n",
            " 2   HADM_ID      1352 non-null   float64\n",
            " 3   CHARTDATE    1352 non-null   object \n",
            " 4   CHARTTIME    1352 non-null   object \n",
            " 5   STORETIME    1352 non-null   object \n",
            " 6   CATEGORY     1352 non-null   object \n",
            " 7   DESCRIPTION  1352 non-null   object \n",
            " 8   CGID         1352 non-null   float64\n",
            " 9   ISERROR      3 non-null      float64\n",
            " 10  TEXT         1352 non-null   object \n",
            " 11  EXPIRE_FLAG  1352 non-null   int64  \n",
            " 12  SOCIAL       1352 non-null   object \n",
            "dtypes: float64(3), int64(3), object(7)\n",
            "memory usage: 147.9+ KB\n"
          ]
        },
        {
          "output_type": "execute_result",
          "data": {
            "text/plain": [
              "        ROW_ID  SUBJECT_ID   HADM_ID   CHARTDATE            CHARTTIME  \\\n",
              "404803  531119       62488  191090.0  2112-03-11  2112-03-09 05:15:00   \n",
              "557223  666648       70516  199605.0  2189-03-27  2189-03-27 19:35:00   \n",
              "557232  666649       70516  199605.0  2189-03-27  2189-03-27 19:35:00   \n",
              "47090   384162        5242  195261.0  2123-07-30  2123-07-30 15:08:00   \n",
              "44016   582207       65901  113793.0  2139-05-14  2139-05-14 14:55:00   \n",
              "...        ...         ...       ...         ...                  ...   \n",
              "380290  542937       43257  135365.0  2158-12-04  2158-12-04 14:30:00   \n",
              "380894  650758       76418  152251.0  2149-12-31  2149-12-31 11:11:00   \n",
              "380604  436927       64292  123357.0  2141-02-13  2141-02-13 15:10:00   \n",
              "380489  539239       91586  165668.0  2107-11-04  2107-11-03 15:28:00   \n",
              "380430  419807       87279  178855.0  2147-11-17  2147-11-16 10:19:00   \n",
              "\n",
              "                  STORETIME     CATEGORY                 DESCRIPTION     CGID  \\\n",
              "404803  2112-03-11 09:54:04  Social Work   Social Work Progress Note  16285.0   \n",
              "557223  2189-03-27 19:35:17  Social Work   Social Work Progress Note  21359.0   \n",
              "557232  2189-03-27 19:54:34  Social Work   Social Work Progress Note  21359.0   \n",
              "47090   2123-07-30 15:08:20  Social Work   Social Work Progress Note  16285.0   \n",
              "44016   2139-05-14 15:23:39  Social Work  Social Work Admission Note  16399.0   \n",
              "...                     ...          ...                         ...      ...   \n",
              "380290  2158-12-04 14:30:41  Social Work  Social Work Admission Note  16399.0   \n",
              "380894  2149-12-31 11:11:48  Social Work   Social Work Progress Note  19926.0   \n",
              "380604  2141-02-13 15:10:39  Social Work  Social Work Admission Note  14081.0   \n",
              "380489  2107-11-04 15:28:31  Social Work  Social Work Admission Note  16399.0   \n",
              "380430  2147-11-17 13:21:10  Social Work  Social Work Admission Note  16399.0   \n",
              "\n",
              "        ISERROR                                               TEXT  \\\n",
              "404803      NaN  Note: This note is from [**2112-3-9**].\\nSocia...   \n",
              "557223      NaN  SOCIAL WORK:  [**First Name8 (NamePattern2) **...   \n",
              "557232      NaN  SOCIAL WORK:  [**First Name8 (NamePattern2) **...   \n",
              "47090       NaN  Social Work\\n   Pt. known to this writer from ...   \n",
              "44016       NaN  Family Information\\n   Next of [**Doctor First...   \n",
              "...         ...                                                ...   \n",
              "380290      NaN  Family Information\\n   Next of [**Doctor First...   \n",
              "380894      NaN  Social Progress Note, Transplant Service: Cont...   \n",
              "380604      NaN  Family Information\\n   Next of [**Doctor First...   \n",
              "380489      NaN  Family Information\\n   Next of [**Doctor First...   \n",
              "380430      NaN  Family Information (10.15-16.08):\\n   Next of ...   \n",
              "\n",
              "        EXPIRE_FLAG                                             SOCIAL  \n",
              "404803            1  [**first name9 (namepattern2) 14366**] [**doct...  \n",
              "557223            1    [**first name8 (namepattern2) **] [**last na...  \n",
              "557232            1    [**first name8 (namepattern2) **] [**last na...  \n",
              "47090             1     pt. known to this writer from 11r. please r...  \n",
              "44016             0     worker for support, but she did not want to...  \n",
              "...             ...                                                ...  \n",
              "380290            0                                                     \n",
              "380894            0                                                     \n",
              "380604            1                                                     \n",
              "380489            1                                                     \n",
              "380430            0                                                     \n",
              "\n",
              "[300 rows x 13 columns]"
            ],
            "text/html": [
              "\n",
              "  <div id=\"df-b3059649-039b-4cc8-808c-5581f40b9951\">\n",
              "    <div class=\"colab-df-container\">\n",
              "      <div>\n",
              "<style scoped>\n",
              "    .dataframe tbody tr th:only-of-type {\n",
              "        vertical-align: middle;\n",
              "    }\n",
              "\n",
              "    .dataframe tbody tr th {\n",
              "        vertical-align: top;\n",
              "    }\n",
              "\n",
              "    .dataframe thead th {\n",
              "        text-align: right;\n",
              "    }\n",
              "</style>\n",
              "<table border=\"1\" class=\"dataframe\">\n",
              "  <thead>\n",
              "    <tr style=\"text-align: right;\">\n",
              "      <th></th>\n",
              "      <th>ROW_ID</th>\n",
              "      <th>SUBJECT_ID</th>\n",
              "      <th>HADM_ID</th>\n",
              "      <th>CHARTDATE</th>\n",
              "      <th>CHARTTIME</th>\n",
              "      <th>STORETIME</th>\n",
              "      <th>CATEGORY</th>\n",
              "      <th>DESCRIPTION</th>\n",
              "      <th>CGID</th>\n",
              "      <th>ISERROR</th>\n",
              "      <th>TEXT</th>\n",
              "      <th>EXPIRE_FLAG</th>\n",
              "      <th>SOCIAL</th>\n",
              "    </tr>\n",
              "  </thead>\n",
              "  <tbody>\n",
              "    <tr>\n",
              "      <th>404803</th>\n",
              "      <td>531119</td>\n",
              "      <td>62488</td>\n",
              "      <td>191090.0</td>\n",
              "      <td>2112-03-11</td>\n",
              "      <td>2112-03-09 05:15:00</td>\n",
              "      <td>2112-03-11 09:54:04</td>\n",
              "      <td>Social Work</td>\n",
              "      <td>Social Work Progress Note</td>\n",
              "      <td>16285.0</td>\n",
              "      <td>NaN</td>\n",
              "      <td>Note: This note is from [**2112-3-9**].\\nSocia...</td>\n",
              "      <td>1</td>\n",
              "      <td>[**first name9 (namepattern2) 14366**] [**doct...</td>\n",
              "    </tr>\n",
              "    <tr>\n",
              "      <th>557223</th>\n",
              "      <td>666648</td>\n",
              "      <td>70516</td>\n",
              "      <td>199605.0</td>\n",
              "      <td>2189-03-27</td>\n",
              "      <td>2189-03-27 19:35:00</td>\n",
              "      <td>2189-03-27 19:35:17</td>\n",
              "      <td>Social Work</td>\n",
              "      <td>Social Work Progress Note</td>\n",
              "      <td>21359.0</td>\n",
              "      <td>NaN</td>\n",
              "      <td>SOCIAL WORK:  [**First Name8 (NamePattern2) **...</td>\n",
              "      <td>1</td>\n",
              "      <td>[**first name8 (namepattern2) **] [**last na...</td>\n",
              "    </tr>\n",
              "    <tr>\n",
              "      <th>557232</th>\n",
              "      <td>666649</td>\n",
              "      <td>70516</td>\n",
              "      <td>199605.0</td>\n",
              "      <td>2189-03-27</td>\n",
              "      <td>2189-03-27 19:35:00</td>\n",
              "      <td>2189-03-27 19:54:34</td>\n",
              "      <td>Social Work</td>\n",
              "      <td>Social Work Progress Note</td>\n",
              "      <td>21359.0</td>\n",
              "      <td>NaN</td>\n",
              "      <td>SOCIAL WORK:  [**First Name8 (NamePattern2) **...</td>\n",
              "      <td>1</td>\n",
              "      <td>[**first name8 (namepattern2) **] [**last na...</td>\n",
              "    </tr>\n",
              "    <tr>\n",
              "      <th>47090</th>\n",
              "      <td>384162</td>\n",
              "      <td>5242</td>\n",
              "      <td>195261.0</td>\n",
              "      <td>2123-07-30</td>\n",
              "      <td>2123-07-30 15:08:00</td>\n",
              "      <td>2123-07-30 15:08:20</td>\n",
              "      <td>Social Work</td>\n",
              "      <td>Social Work Progress Note</td>\n",
              "      <td>16285.0</td>\n",
              "      <td>NaN</td>\n",
              "      <td>Social Work\\n   Pt. known to this writer from ...</td>\n",
              "      <td>1</td>\n",
              "      <td>pt. known to this writer from 11r. please r...</td>\n",
              "    </tr>\n",
              "    <tr>\n",
              "      <th>44016</th>\n",
              "      <td>582207</td>\n",
              "      <td>65901</td>\n",
              "      <td>113793.0</td>\n",
              "      <td>2139-05-14</td>\n",
              "      <td>2139-05-14 14:55:00</td>\n",
              "      <td>2139-05-14 15:23:39</td>\n",
              "      <td>Social Work</td>\n",
              "      <td>Social Work Admission Note</td>\n",
              "      <td>16399.0</td>\n",
              "      <td>NaN</td>\n",
              "      <td>Family Information\\n   Next of [**Doctor First...</td>\n",
              "      <td>0</td>\n",
              "      <td>worker for support, but she did not want to...</td>\n",
              "    </tr>\n",
              "    <tr>\n",
              "      <th>...</th>\n",
              "      <td>...</td>\n",
              "      <td>...</td>\n",
              "      <td>...</td>\n",
              "      <td>...</td>\n",
              "      <td>...</td>\n",
              "      <td>...</td>\n",
              "      <td>...</td>\n",
              "      <td>...</td>\n",
              "      <td>...</td>\n",
              "      <td>...</td>\n",
              "      <td>...</td>\n",
              "      <td>...</td>\n",
              "      <td>...</td>\n",
              "    </tr>\n",
              "    <tr>\n",
              "      <th>380290</th>\n",
              "      <td>542937</td>\n",
              "      <td>43257</td>\n",
              "      <td>135365.0</td>\n",
              "      <td>2158-12-04</td>\n",
              "      <td>2158-12-04 14:30:00</td>\n",
              "      <td>2158-12-04 14:30:41</td>\n",
              "      <td>Social Work</td>\n",
              "      <td>Social Work Admission Note</td>\n",
              "      <td>16399.0</td>\n",
              "      <td>NaN</td>\n",
              "      <td>Family Information\\n   Next of [**Doctor First...</td>\n",
              "      <td>0</td>\n",
              "      <td></td>\n",
              "    </tr>\n",
              "    <tr>\n",
              "      <th>380894</th>\n",
              "      <td>650758</td>\n",
              "      <td>76418</td>\n",
              "      <td>152251.0</td>\n",
              "      <td>2149-12-31</td>\n",
              "      <td>2149-12-31 11:11:00</td>\n",
              "      <td>2149-12-31 11:11:48</td>\n",
              "      <td>Social Work</td>\n",
              "      <td>Social Work Progress Note</td>\n",
              "      <td>19926.0</td>\n",
              "      <td>NaN</td>\n",
              "      <td>Social Progress Note, Transplant Service: Cont...</td>\n",
              "      <td>0</td>\n",
              "      <td></td>\n",
              "    </tr>\n",
              "    <tr>\n",
              "      <th>380604</th>\n",
              "      <td>436927</td>\n",
              "      <td>64292</td>\n",
              "      <td>123357.0</td>\n",
              "      <td>2141-02-13</td>\n",
              "      <td>2141-02-13 15:10:00</td>\n",
              "      <td>2141-02-13 15:10:39</td>\n",
              "      <td>Social Work</td>\n",
              "      <td>Social Work Admission Note</td>\n",
              "      <td>14081.0</td>\n",
              "      <td>NaN</td>\n",
              "      <td>Family Information\\n   Next of [**Doctor First...</td>\n",
              "      <td>1</td>\n",
              "      <td></td>\n",
              "    </tr>\n",
              "    <tr>\n",
              "      <th>380489</th>\n",
              "      <td>539239</td>\n",
              "      <td>91586</td>\n",
              "      <td>165668.0</td>\n",
              "      <td>2107-11-04</td>\n",
              "      <td>2107-11-03 15:28:00</td>\n",
              "      <td>2107-11-04 15:28:31</td>\n",
              "      <td>Social Work</td>\n",
              "      <td>Social Work Admission Note</td>\n",
              "      <td>16399.0</td>\n",
              "      <td>NaN</td>\n",
              "      <td>Family Information\\n   Next of [**Doctor First...</td>\n",
              "      <td>1</td>\n",
              "      <td></td>\n",
              "    </tr>\n",
              "    <tr>\n",
              "      <th>380430</th>\n",
              "      <td>419807</td>\n",
              "      <td>87279</td>\n",
              "      <td>178855.0</td>\n",
              "      <td>2147-11-17</td>\n",
              "      <td>2147-11-16 10:19:00</td>\n",
              "      <td>2147-11-17 13:21:10</td>\n",
              "      <td>Social Work</td>\n",
              "      <td>Social Work Admission Note</td>\n",
              "      <td>16399.0</td>\n",
              "      <td>NaN</td>\n",
              "      <td>Family Information (10.15-16.08):\\n   Next of ...</td>\n",
              "      <td>0</td>\n",
              "      <td></td>\n",
              "    </tr>\n",
              "  </tbody>\n",
              "</table>\n",
              "<p>300 rows × 13 columns</p>\n",
              "</div>\n",
              "      <button class=\"colab-df-convert\" onclick=\"convertToInteractive('df-b3059649-039b-4cc8-808c-5581f40b9951')\"\n",
              "              title=\"Convert this dataframe to an interactive table.\"\n",
              "              style=\"display:none;\">\n",
              "        \n",
              "  <svg xmlns=\"http://www.w3.org/2000/svg\" height=\"24px\"viewBox=\"0 0 24 24\"\n",
              "       width=\"24px\">\n",
              "    <path d=\"M0 0h24v24H0V0z\" fill=\"none\"/>\n",
              "    <path d=\"M18.56 5.44l.94 2.06.94-2.06 2.06-.94-2.06-.94-.94-2.06-.94 2.06-2.06.94zm-11 1L8.5 8.5l.94-2.06 2.06-.94-2.06-.94L8.5 2.5l-.94 2.06-2.06.94zm10 10l.94 2.06.94-2.06 2.06-.94-2.06-.94-.94-2.06-.94 2.06-2.06.94z\"/><path d=\"M17.41 7.96l-1.37-1.37c-.4-.4-.92-.59-1.43-.59-.52 0-1.04.2-1.43.59L10.3 9.45l-7.72 7.72c-.78.78-.78 2.05 0 2.83L4 21.41c.39.39.9.59 1.41.59.51 0 1.02-.2 1.41-.59l7.78-7.78 2.81-2.81c.8-.78.8-2.07 0-2.86zM5.41 20L4 18.59l7.72-7.72 1.47 1.35L5.41 20z\"/>\n",
              "  </svg>\n",
              "      </button>\n",
              "      \n",
              "  <style>\n",
              "    .colab-df-container {\n",
              "      display:flex;\n",
              "      flex-wrap:wrap;\n",
              "      gap: 12px;\n",
              "    }\n",
              "\n",
              "    .colab-df-convert {\n",
              "      background-color: #E8F0FE;\n",
              "      border: none;\n",
              "      border-radius: 50%;\n",
              "      cursor: pointer;\n",
              "      display: none;\n",
              "      fill: #1967D2;\n",
              "      height: 32px;\n",
              "      padding: 0 0 0 0;\n",
              "      width: 32px;\n",
              "    }\n",
              "\n",
              "    .colab-df-convert:hover {\n",
              "      background-color: #E2EBFA;\n",
              "      box-shadow: 0px 1px 2px rgba(60, 64, 67, 0.3), 0px 1px 3px 1px rgba(60, 64, 67, 0.15);\n",
              "      fill: #174EA6;\n",
              "    }\n",
              "\n",
              "    [theme=dark] .colab-df-convert {\n",
              "      background-color: #3B4455;\n",
              "      fill: #D2E3FC;\n",
              "    }\n",
              "\n",
              "    [theme=dark] .colab-df-convert:hover {\n",
              "      background-color: #434B5C;\n",
              "      box-shadow: 0px 1px 3px 1px rgba(0, 0, 0, 0.15);\n",
              "      filter: drop-shadow(0px 1px 2px rgba(0, 0, 0, 0.3));\n",
              "      fill: #FFFFFF;\n",
              "    }\n",
              "  </style>\n",
              "\n",
              "      <script>\n",
              "        const buttonEl =\n",
              "          document.querySelector('#df-b3059649-039b-4cc8-808c-5581f40b9951 button.colab-df-convert');\n",
              "        buttonEl.style.display =\n",
              "          google.colab.kernel.accessAllowed ? 'block' : 'none';\n",
              "\n",
              "        async function convertToInteractive(key) {\n",
              "          const element = document.querySelector('#df-b3059649-039b-4cc8-808c-5581f40b9951');\n",
              "          const dataTable =\n",
              "            await google.colab.kernel.invokeFunction('convertToInteractive',\n",
              "                                                     [key], {});\n",
              "          if (!dataTable) return;\n",
              "\n",
              "          const docLinkHtml = 'Like what you see? Visit the ' +\n",
              "            '<a target=\"_blank\" href=https://colab.research.google.com/notebooks/data_table.ipynb>data table notebook</a>'\n",
              "            + ' to learn more about interactive tables.';\n",
              "          element.innerHTML = '';\n",
              "          dataTable['output_type'] = 'display_data';\n",
              "          await google.colab.output.renderOutput(dataTable, element);\n",
              "          const docLink = document.createElement('div');\n",
              "          docLink.innerHTML = docLinkHtml;\n",
              "          element.appendChild(docLink);\n",
              "        }\n",
              "      </script>\n",
              "    </div>\n",
              "  </div>\n",
              "  "
            ]
          },
          "metadata": {},
          "execution_count": 12
        }
      ]
    },
    {
      "cell_type": "code",
      "source": [
        "PATH_TO_SAVE = \"/content/drive/MyDrive/NIH/Data/\"\n",
        "name_file_to_save = 'NOTES_NURSING_TRAJECTORIES_CSRU_SOCIAL_ONLY_V2.csv'\n",
        "df_notes_icd8xx_csru_social['SOCIAL'].to_csv(PATH_TO_SAVE+name_file_to_save,index=False)"
      ],
      "metadata": {
        "id": "GyvO5twh96tE"
      },
      "execution_count": null,
      "outputs": []
    },
    {
      "cell_type": "code",
      "source": [
        "PATH_TO_SAVE = \"/content/drive/MyDrive/NIH/Data/\"\n",
        "name_file_to_save = 'NOTES_NURSING_TRAJECTORIES_MICU_SOCIAL_WORKER_ONLY.csv'\n",
        "df_notes_micu_social['TEXT'].to_csv(PATH_TO_SAVE+name_file_to_save,index=False)"
      ],
      "metadata": {
        "id": "clPHT1u38qD7"
      },
      "execution_count": null,
      "outputs": []
    },
    {
      "cell_type": "code",
      "source": [
        "PATH_TO_SAVE = \"/content/drive/MyDrive/NIH/Data/\"\n",
        "name_file_to_save = 'NOTES_NURSING_TRAJECTORIES_CSRU_TEXT_ONLY.csv'\n",
        "#df_notes_icd8xx_tsicu_social['TEXT'].to_csv(PATH_TO_SAVE+name_file_to_save,index=False)"
      ],
      "metadata": {
        "id": "fvcOecC4Syrg"
      },
      "execution_count": null,
      "outputs": []
    },
    {
      "cell_type": "code",
      "source": [
        "PATH_TO_SAVE = \"/content/drive/MyDrive/NIH/Data/\"\n",
        "name_file_to_save = 'NOTES_NURSING_TRAJECTORIES_CSRU_GCS_HADM.csv'\n",
        "#df_notes_icd8xx_tsicu_gcs_scores.to_csv(PATH_TO_SAVE+name_file_to_save,index=False)"
      ],
      "metadata": {
        "id": "598HF4ygze2B"
      },
      "execution_count": null,
      "outputs": []
    },
    {
      "cell_type": "code",
      "source": [
        "df_note_icd8xx_tsicu = df_note_events[df_note_events['SUBJECT_ID'].isin(icd8xx_subjects_ids)]\n",
        "print(f'Number of total notes: {len(df_note_icd8xx_tsicu)}')\n",
        "df_nursing_progress_note_icd8xx_tsicu = df_note_icd8xx_tsicu[df_note_icd8xx_tsicu['DESCRIPTION']=='Nursing Progress Note']\n",
        "print(f'Number of Nursing Progress Notes: {len(df_nursing_progress_note_icd8xx_tsicu)}')\n",
        "df_discharge_note_icd8xx_tsicu = df_note_icd8xx_tsicu[(df_note_icd8xx_tsicu['CATEGORY']=='Discharge summary') ]\n",
        "print(f'Number of Discharge summary: {len(df_discharge_note_icd8xx_tsicu)}')"
      ],
      "metadata": {
        "id": "DwwYQRkRlZtq"
      },
      "execution_count": null,
      "outputs": []
    },
    {
      "cell_type": "code",
      "source": [
        "cgid_icd8xx_tsicu = df_nursing_progress_note_icd8xx_tsicu['CGID'].unique()\n",
        "#print(f'Number of caregivers: {len(cgid_maxicu_tsicu)}')"
      ],
      "metadata": {
        "id": "2bUQdNjco_Ev"
      },
      "execution_count": null,
      "outputs": []
    },
    {
      "cell_type": "code",
      "source": [
        "caregivers = \"CAREGIVERS.csv\"\n",
        "df_caregivers = pd.read_csv(notes_path+caregivers)\n",
        "df_caregivers[df_caregivers['CGID'].isin(cgid_icd8xx_tsicu)].LABEL.value_counts()"
      ],
      "metadata": {
        "id": "nylbIdrdDKTn"
      },
      "execution_count": null,
      "outputs": []
    },
    {
      "cell_type": "code",
      "source": [
        "name_file= \"ADMISSIONS.csv\"\n",
        "df_adm = pd.read_csv(notes_path+name_file)\n",
        "df_adm_icd8xx_tsicu = df_adm[df_adm['SUBJECT_ID'].isin(cgid_icd8xx_tsicu)]\n",
        "df_adm_icd8xx_tsicu"
      ],
      "metadata": {
        "id": "0uSjIRb0Kf7D"
      },
      "execution_count": null,
      "outputs": []
    },
    {
      "cell_type": "markdown",
      "source": [
        "Report"
      ],
      "metadata": {
        "id": "0p7nLpc1Scta"
      }
    },
    {
      "cell_type": "markdown",
      "source": [],
      "metadata": {
        "id": "Rdyd3vHvScfx"
      }
    },
    {
      "cell_type": "code",
      "source": [
        "print(f'Number of Subjects in TSICU: {len(subject_id_tsicu)}')\n",
        "print(f'Number of subjects with a first sequence ICD 9 code [800,900) : {len(icd8xx_subjects_ids)}')\n",
        "print('')\n",
        "print('Subjects Expired (1), Alive (0): ')\n",
        "print(df_patients_icd8xx_tsicu['EXPIRE_FLAG'].value_counts())\n",
        "print('')\n",
        "print('Gender:')\n",
        "print(df_patients_icd8xx_tsicu['GENDER'].value_counts())\n",
        "print('')\n",
        "print(f'Number of total notes: {len(df_note_icd8xx_tsicu)}')\n",
        "print(f'Number of Nursing Progress Notes: {len(df_nursing_progress_note_icd8xx_tsicu)}')\n",
        "print(f'Number of Discharge summary: {len(df_discharge_note_icd8xx_tsicu)}')\n",
        "print(f'Number of caregivers: {len(cgid_icd8xx_tsicu)}')"
      ],
      "metadata": {
        "id": "c4Y-EhXOSb7f"
      },
      "execution_count": null,
      "outputs": []
    },
    {
      "cell_type": "markdown",
      "source": [
        "# END\n"
      ],
      "metadata": {
        "id": "hvh4aVTHpaKw"
      }
    },
    {
      "cell_type": "markdown",
      "source": [
        "## **Data Preprocessing**"
      ],
      "metadata": {
        "id": "qdVDhESt91i2"
      }
    },
    {
      "cell_type": "code",
      "source": [
        "df_note_events.info()"
      ],
      "metadata": {
        "id": "F9Ag0N5BK6KT"
      },
      "execution_count": null,
      "outputs": []
    },
    {
      "cell_type": "markdown",
      "source": [
        "Grab tsicu notes, merge with ward and patients tables"
      ],
      "metadata": {
        "id": "uLpw8TKsChMf"
      }
    },
    {
      "cell_type": "code",
      "source": [
        "# get new type of notes (TSICU)\n",
        "df_notes_TSICU = pd.DataFrame()\n",
        "#df_notes_TSICU = df_notes.merge(df_note_events[['ROW_ID', 'CATEGORY']], on='ROW_ID')\n",
        "df_notes_TSICU = df_note_events.merge(df_caregivers.drop('ROW_ID', axis=1), on='CGID')\n",
        "#df_notes_TSICU = df_notes_TSICU.merge(df_ward.drop('ROW_ID', axis=1), on='SUBJECT_ID')\n",
        "df_notes_TSICU = df_notes_TSICU.merge(df_patients.drop('ROW_ID', axis=1), on='SUBJECT_ID')\n",
        "#df_notes_TSICU = df_notes_TSICU[(df_notes_TSICU['first_careunit'] == 'TSICU') & (df_notes_TSICU['last_careunit'] == 'TSICU')].drop_duplicates()\n",
        "df_notes_TSICU.info()"
      ],
      "metadata": {
        "id": "RfRbbiU85KqG"
      },
      "execution_count": null,
      "outputs": []
    },
    {
      "cell_type": "code",
      "source": [
        "df_notes_TSICU.head(5)"
      ],
      "metadata": {
        "id": "40N9rfNLvz3h"
      },
      "execution_count": null,
      "outputs": []
    },
    {
      "cell_type": "markdown",
      "source": [
        "Join with ICD"
      ],
      "metadata": {
        "id": "bcq_LhnKvl9k"
      }
    },
    {
      "cell_type": "code",
      "source": [
        "icd = \"DIAGNOSES_ICD.csv\"\n",
        "df_icd = pd.read_csv(notes_path+icd)\n",
        "df_icd.columns = df_icd.columns.str.upper()\n",
        "df_icd = df_icd.dropna(subset=['SEQ_NUM'])\n",
        "df_icd['SEQ_NUM'] = df_icd['SEQ_NUM'].astype(int)\n",
        "unique_values = df_icd['SEQ_NUM'].unique()\n",
        "print(\"unique_values: \")\n",
        "print(unique_values)\n",
        "idx = df_icd.groupby(['HADM_ID', 'SUBJECT_ID'])['SEQ_NUM'].idxmin()\n",
        "df_icd = df_icd.loc[idx]\n",
        "df_icd.info()"
      ],
      "metadata": {
        "id": "H5IFwi_7Oe7F"
      },
      "execution_count": null,
      "outputs": []
    },
    {
      "cell_type": "code",
      "source": [
        "df_notes_TSICU = df_notes_TSICU.merge(df_icd[['HADM_ID','ICD9_CODE','SEQ_NUM', 'SUBJECT_ID']], on=['HADM_ID', 'SUBJECT_ID'])\n",
        "df_notes_TSICU.info()"
      ],
      "metadata": {
        "id": "gd1FsvDMvlWL"
      },
      "execution_count": null,
      "outputs": []
    },
    {
      "cell_type": "code",
      "source": [
        "df_notes_TSICU.head(20)"
      ],
      "metadata": {
        "id": "6w5kj2hgHgAY"
      },
      "execution_count": null,
      "outputs": []
    },
    {
      "cell_type": "code",
      "source": [
        "grouping = df_notes_TSICU.groupby(['CGID','SUBJECT_ID']).size()\n",
        "df_notes_TSICU['num_of_notes'] = df_notes_TSICU.set_index(['CGID','SUBJECT_ID']).index.map(grouping)\n",
        "df_notes_TSICU_filtered = df_notes_TSICU[df_notes_TSICU['num_of_notes'] > 1]\n",
        "df_notes_TSICU_filtered.info()"
      ],
      "metadata": {
        "id": "hHCpzCETihOj"
      },
      "execution_count": null,
      "outputs": []
    },
    {
      "cell_type": "code",
      "source": [
        "df_notes_TSICU_filtered.head(10)"
      ],
      "metadata": {
        "id": "eYAfKxm-4vN1"
      },
      "execution_count": null,
      "outputs": []
    },
    {
      "cell_type": "markdown",
      "source": [
        "Filter by number of notes"
      ],
      "metadata": {
        "id": "h3Ax8uzsUjXG"
      }
    },
    {
      "cell_type": "code",
      "source": [
        "gb_notes = df_notes_TSICU_filtered.groupby(['ICD9_CODE'])\n",
        "num_notes = gb_notes['TEXT'].count()\n",
        "\n",
        "print(f'number of notes: min={num_notes.min()}, max={num_notes.max()}, mean={num_notes.mean()},  median={num_notes.median()}')\n",
        "sns.boxplot(x=num_notes)\n",
        "sns.displot(num_notes[((num_notes>2) & (num_notes<100))])"
      ],
      "metadata": {
        "id": "M1zujhFnCzbO"
      },
      "execution_count": null,
      "outputs": []
    },
    {
      "cell_type": "code",
      "source": [
        "df_notes_TSICU_filtered.info()"
      ],
      "metadata": {
        "id": "utacZLLmUfqf"
      },
      "execution_count": null,
      "outputs": []
    },
    {
      "cell_type": "code",
      "source": [
        "icd9_grouping = df_notes_TSICU_filtered.groupby(['ICD9_CODE']).size()\n",
        "df_notes_TSICU_filtered['num_of_conditions'] = df_notes_TSICU_filtered.set_index(['ICD9_CODE']).index.map(icd9_grouping)\n",
        "#df_notes_TSICU_filtered = df_notes_TSICU_filtered[(df_notes_TSICU_filtered['num_of_conditions'] >= 15) & (df_notes_TSICU_filtered['num_of_conditions'] <= 1000)]\n",
        "#df_notes_TSICU_filtered = df_notes_TSICU_filtered[(df_notes_TSICU_filtered['num_of_conditions'] >= 15) & (df_notes_TSICU_filtered['num_of_conditions'] <= 100)]\n",
        "df_notes_TSICU_filtered.info()\n",
        "print(icd9_grouping)"
      ],
      "metadata": {
        "id": "VQtS_ZiRGeEF"
      },
      "execution_count": null,
      "outputs": []
    },
    {
      "cell_type": "code",
      "source": [
        "df_notes_TSICU_dropped_cols = df_notes_TSICU_filtered.drop(['STORETIME','CHARTDATE','CHARTTIME','DOB','DOD','DOD_HOSP','DOD_SSN'], axis=1)\n",
        "df_notes_TSICU_dropped_cols.columns"
      ],
      "metadata": {
        "id": "jfSkON07QFlQ"
      },
      "execution_count": null,
      "outputs": []
    },
    {
      "cell_type": "markdown",
      "source": [
        "select emotional words then filter rows that dont have a minimum number of them"
      ],
      "metadata": {
        "id": "IJasBc1JDJ7G"
      }
    },
    {
      "cell_type": "code",
      "source": [
        "def filter_for_emotional_words(df):\n",
        "  selected_words = ['pain', 'family', 'stable', 'care', 'well', 'social', 'support', 'able', 'decreased', 'warm', 'unable', 'strong', 'intact', 'good', 'times', 'aware', 'eyes', 'tolerated', 'denies', 'tolerating', 'please', 'palpable']\n",
        "  print(\"selected_words list length: \", len(selected_words))\n",
        "  pattern = '|'.join(selected_words)\n",
        "  new_df = df[df['TEXT'].str.contains(pattern, regex=True)].copy()\n",
        "  #filtered_data = df_notes_TSICU[df_notes_TSICU['TEXT'].str.contains(pattern, regex=True)].copy()\n",
        "  new_df['num_search_words'] = new_df['TEXT'].str.count(pattern)\n",
        "  #new_df = new_df[new_df['num_search_words'] >= 0]\n",
        "  new_df.info()\n",
        "  return new_df"
      ],
      "metadata": {
        "id": "io0fnZ6LDJje"
      },
      "execution_count": null,
      "outputs": []
    },
    {
      "cell_type": "code",
      "source": [
        "#filtered_data = filter_for_emotional_words(df_notes_TSICU_dropped_cols)\n",
        "filtered_data = df_notes_TSICU_dropped_cols"
      ],
      "metadata": {
        "id": "lPqYiPgCaw05"
      },
      "execution_count": null,
      "outputs": []
    },
    {
      "cell_type": "markdown",
      "source": [
        "Random selection from sample set"
      ],
      "metadata": {
        "id": "9zgLOVKMmC1c"
      }
    },
    {
      "cell_type": "code",
      "source": [
        "#random_filtered_data = filtered_data.sample(n=50000, random_state=42)\n",
        "random_filtered_data = filtered_data"
      ],
      "metadata": {
        "id": "A2g7uF3_mCja"
      },
      "execution_count": null,
      "outputs": []
    },
    {
      "cell_type": "markdown",
      "source": [
        "Remove similar sentences"
      ],
      "metadata": {
        "id": "T4IGl2_LhAjw"
      }
    },
    {
      "cell_type": "code",
      "source": [
        "from sklearn.feature_extraction.text import TfidfVectorizer\n",
        "from sklearn.metrics.pairwise import cosine_similarity\n",
        "\n",
        "def remove_similar_notes(df):\n",
        "  sentences = df['TEXT'].tolist()\n",
        "  vectorizer = TfidfVectorizer()\n",
        "  tfidf_matrix = vectorizer.fit_transform(sentences)\n",
        "  similarity_threshold = 0.8\n",
        "\n",
        "  similar_indices = []\n",
        "  for i, sentence in enumerate(sentences):  # needs to be max 1000 entries\n",
        "    if any(cosine_similarity(tfidf_matrix[i], tfidf_matrix[j])[0][0] > similarity_threshold for j in range(i)):  # very slow ~10 minutes for 1000 entries, exponential complexity (more than 5 hours if 6000 entries)\n",
        "      similar_indices.append(i)\n",
        "  index_labels = df.index[similar_indices]\n",
        "  df.drop(index_labels, inplace=True)\n",
        "  return df"
      ],
      "metadata": {
        "id": "y_7e8eEAg-8E"
      },
      "execution_count": null,
      "outputs": []
    },
    {
      "cell_type": "markdown",
      "source": [
        "Inverse Document Frequency"
      ],
      "metadata": {
        "id": "kSrdXBqOuXa0"
      }
    },
    {
      "cell_type": "code",
      "source": [
        "vectorizer = TfidfVectorizer(stop_words='english')\n",
        "tfidf_matrix = vectorizer.fit_transform(df_notes_icd8xx_tsicu_gcs_scores['TEXT'])\n",
        "\n",
        "feature_names = vectorizer.get_feature_names_out()\n",
        "tfidf_scores = tfidf_matrix.sum(axis=0).A1\n",
        "word_score_dict = dict(zip(feature_names, tfidf_scores))\n",
        "\n",
        "sorted_words = sorted(word_score_dict.items(), key=lambda x: x[1], reverse=True)\n",
        "\n",
        "top_words = sorted_words[:50]"
      ],
      "metadata": {
        "id": "mLycA6V9u2Bk"
      },
      "execution_count": null,
      "outputs": []
    },
    {
      "cell_type": "code",
      "source": [
        "print(\"Rank\\tWord\\t\\t\\tCount\")\n",
        "for rank, (word, score) in enumerate(top_words, start=1):\n",
        "  print(f\"{rank}\\t{word.ljust(20)}\\t{score}\")"
      ],
      "metadata": {
        "id": "CFYY-4Q9yltA"
      },
      "execution_count": null,
      "outputs": []
    },
    {
      "cell_type": "code",
      "source": [
        "#random_filtered_data = remove_similar_notes(random_filtered_data)\n",
        "random_filtered_data.info()"
      ],
      "metadata": {
        "id": "5hR3SznnlFAw"
      },
      "execution_count": null,
      "outputs": []
    },
    {
      "cell_type": "markdown",
      "source": [
        "Find matching conditions for both expired flags"
      ],
      "metadata": {
        "id": "hKqh8rDTZATB"
      }
    },
    {
      "cell_type": "code",
      "source": [
        "def split_set_half_expired(df):\n",
        "  df['EXPIRE_FLAG'] = df['EXPIRE_FLAG'].astype(int)\n",
        "  group_conditions = df.groupby(['ICD9_CODE', 'EXPIRE_FLAG'])\n",
        "  def balance_conditions(g1,g2,size):\n",
        "    size = min(len(g1), len(g2), size)\n",
        "    return g1.sample(n=size, random_state=1), g2.sample(n=size, random_state=1)\n",
        "\n",
        "  rows = []\n",
        "  size = 50000\n",
        "\n",
        "  for drg_desc, group in group_conditions:\n",
        "    icd9, expire = drg_desc\n",
        "    if (icd9, 1-expire) in group_conditions.groups:\n",
        "      paired_group = group_conditions.get_group((icd9, 1-expire))\n",
        "      group_sample1, group_sample2 = balance_conditions(group, paired_group, size)\n",
        "      rows.append(group_sample1)\n",
        "      rows.append(group_sample2)\n",
        "      size -= len(group_sample1)\n",
        "    if size <= 0:\n",
        "      break\n",
        "\n",
        "  new_df = pd.concat(rows)\n",
        "  new_df = new_df.drop_duplicates()\n",
        "\n",
        "  new_df.info()\n",
        "  #print(new_df[['ICD9_CODE', 'EXPIRE_FLAG']])\n",
        "  return new_df\n",
        "\n",
        "  #valid_groups = [key for key, group in group_conditions.groups.keys() if (key[0], key[1], 1 - key[2]) in group_conditions.groups]\n",
        "  #for key in valid_groups:\n",
        "    #pass"
      ],
      "metadata": {
        "id": "CTtgtgvONovy"
      },
      "execution_count": null,
      "outputs": []
    },
    {
      "cell_type": "code",
      "source": [
        "#balanced_data = split_set_half_expired(random_filtered_data)\n",
        "balanced_data = random_filtered_data"
      ],
      "metadata": {
        "id": "JJFzempDgOiy"
      },
      "execution_count": null,
      "outputs": []
    },
    {
      "cell_type": "markdown",
      "source": [
        "Display notes"
      ],
      "metadata": {
        "id": "lnai1UuJCedn"
      }
    },
    {
      "cell_type": "code",
      "source": [
        "pd.set_option('display.max_colwidth', 250)\n",
        "pd.set_option('display.max_rows', None)\n",
        "#print(balanced_data['TEXT'].head(200))\n",
        "pd.reset_option('display.max_colwidth')\n",
        "pd.reset_option('display.max_rows')"
      ],
      "metadata": {
        "id": "dZPZ-AGx-9NA"
      },
      "execution_count": null,
      "outputs": []
    },
    {
      "cell_type": "code",
      "source": [
        "print(balanced_data.columns)\n",
        "print('\\n'+\"Number of rows: \"+str(len(balanced_data)))"
      ],
      "metadata": {
        "id": "cemrUSU8wjMD"
      },
      "execution_count": null,
      "outputs": []
    },
    {
      "cell_type": "code",
      "source": [
        "balanced_data.info()"
      ],
      "metadata": {
        "id": "msI729kSJWJY"
      },
      "execution_count": null,
      "outputs": []
    },
    {
      "cell_type": "code",
      "source": [
        "no_duplicates = balanced_data.sort_values('ROW_ID').drop_duplicates(subset=['CGID', 'SUBJECT_ID'])\n",
        "no_duplicates = no_duplicates.drop(['TEXT'], axis=1)  # removes text notes\n",
        "no_duplicates.info()"
      ],
      "metadata": {
        "id": "Bze40GhzJai3"
      },
      "execution_count": null,
      "outputs": []
    },
    {
      "cell_type": "markdown",
      "source": [
        "Save to CSV"
      ],
      "metadata": {
        "id": "6hGujs3Fn8Mb"
      }
    },
    {
      "cell_type": "code",
      "source": [
        "# path and name of the cvs file\n",
        "PATH_TO_SAVE = \"/content/drive/MyDrive/NIH/Data/\"\n",
        "name_file_to_save = 'NOTES_NURSING_TRAJECTORIES_TSICU_COUNTS.csv'\n",
        "#no_duplicates.to_csv(PATH_TO_SAVE+name_file_to_save,index=False)"
      ],
      "metadata": {
        "id": "metEeEnan7n0"
      },
      "execution_count": null,
      "outputs": []
    },
    {
      "cell_type": "markdown",
      "source": [
        "Gather- top ICD9, # of: patients, deceased, CGs, notes"
      ],
      "metadata": {
        "id": "kGId_c993xlm"
      }
    },
    {
      "cell_type": "code",
      "source": [
        "icd9_max_val = balanced_data['num_of_conditions'].max()\n",
        "icd9_max_df = balanced_data[balanced_data['num_of_conditions'] == icd9_max_val]\n",
        "\n",
        "print(\"Max ICD9 code: \" + icd9_max_df['ICD9_CODE'].unique())\n",
        "print(\"Number of patients: \" + str(icd9_max_df['SUBJECT_ID'].nunique()))\n",
        "print(\"Number of deceased patients: \" + str((icd9_max_df.drop_duplicates(subset='SUBJECT_ID')['EXPIRE_FLAG'] == 1).sum()))\n",
        "print(\"Number of caregivers: \" + str(icd9_max_df['CGID'].nunique()))\n",
        "unique_cgid = icd9_max_df['CGID'].unique()\n",
        "unique_cgid_df = icd9_max_df[icd9_max_df['CGID'].isin(unique_cgid)].drop_duplicates(subset=['CGID', 'LABEL'])\n",
        "unique_cgid_df['LABEL'] = unique_cgid_df['LABEL'].fillna('UNKNOWN')\n",
        "unique_cgid_df['LABEL'] = unique_cgid_df['LABEL'].str.upper()\n",
        "print(\"Caregiver labels: \" + '\\n' + str(unique_cgid_df['LABEL'].value_counts()))\n",
        "print(\"Number of caregivers: \" + str(icd9_max_df['CGID'].nunique()))\n",
        "print(\"Number of notes: \" + str(len(icd9_max_df)))"
      ],
      "metadata": {
        "id": "B5a2aeHR3xHM"
      },
      "execution_count": null,
      "outputs": []
    },
    {
      "cell_type": "markdown",
      "source": [
        "deceased patients for unfiltered set"
      ],
      "metadata": {
        "id": "uC6QUHDWvrvR"
      }
    },
    {
      "cell_type": "code",
      "source": [
        "len(df_notes_TSICU['SUBJECT_ID'].unique())\n",
        "deceased_TSICU = df_notes_TSICU[df_notes_TSICU['EXPIRE_FLAG'] == 1]\n",
        "deceased_TSICU.info()"
      ],
      "metadata": {
        "id": "4quXDt_aieZv"
      },
      "execution_count": null,
      "outputs": []
    },
    {
      "cell_type": "code",
      "source": [
        "sns.set()\n",
        "\n",
        "gb_notes = deceased_TSICU.groupby(['CGID','SUBJECT_ID'])\n",
        "num_notes = gb_notes['TEXT'].count()\n",
        "print(num_notes)\n",
        "print(f'number of notes: min={num_notes.min()}, max={num_notes.max()}, mean={num_notes.mean()},  median={num_notes.median()}')\n",
        "sns.boxplot(x=num_notes)\n",
        "sns.displot(num_notes[((num_notes>2) & (num_notes<15))])"
      ],
      "metadata": {
        "id": "RtIaEm23Ysfg"
      },
      "execution_count": null,
      "outputs": []
    },
    {
      "cell_type": "markdown",
      "source": [
        "Seperate deceased and living"
      ],
      "metadata": {
        "id": "9tJkPVZggBv_"
      }
    },
    {
      "cell_type": "code",
      "source": [
        "deceased_patients = balanced_data[balanced_data['EXPIRE_FLAG'] == 1]\n",
        "deceased_patients.info()"
      ],
      "metadata": {
        "id": "4cfpXZF4fnUG"
      },
      "execution_count": null,
      "outputs": []
    },
    {
      "cell_type": "code",
      "source": [
        "living_patients = balanced_data[balanced_data['EXPIRE_FLAG'] == 0]\n",
        "living_patients.info()"
      ],
      "metadata": {
        "id": "BfFfnIingFO3"
      },
      "execution_count": null,
      "outputs": []
    },
    {
      "cell_type": "markdown",
      "source": [
        "Tokenized words"
      ],
      "metadata": {
        "id": "UU8xrEkoGzNi"
      }
    },
    {
      "cell_type": "code",
      "source": [
        "#text = df_notes_TSICU['TEXT'].str.cat(sep=' ')\n",
        "#words = nltk.word_tokenize(text)  # very slow"
      ],
      "metadata": {
        "id": "YlONNwDeGy9a"
      },
      "execution_count": null,
      "outputs": []
    },
    {
      "cell_type": "markdown",
      "source": [
        "Count words in notes"
      ],
      "metadata": {
        "id": "gyFTOEALCbxX"
      }
    },
    {
      "cell_type": "code",
      "source": [
        "#stopwords = nltk.corpus.stopwords.words('english')\n",
        "#words = [word.lower() for word in words if word.lower() not in stopwords and re.match(r'\\b\\w+\\b', word)]  # also slow but only kinda slow\n",
        "#word_counts = Counter(words)\n",
        "#most_common_words = word_counts.most_common(300)"
      ],
      "metadata": {
        "id": "jtTWXQjy-_Fw"
      },
      "execution_count": null,
      "outputs": []
    },
    {
      "cell_type": "code",
      "source": [
        "#print(\"Rank\\tWord\\t\\t\\tCount\")\n",
        "#for rank, word_count in enumerate(most_common_words, start=1):\n",
        "  #word, count = word_count\n",
        "  #print(f\"{rank}\\t{word.ljust(20)}\\t{count}\")"
      ],
      "metadata": {
        "id": "vtPdb3_iB5T0"
      },
      "execution_count": null,
      "outputs": []
    },
    {
      "cell_type": "markdown",
      "source": [
        "Emotional words"
      ],
      "metadata": {
        "id": "2vLviAGyJmdQ"
      }
    },
    {
      "cell_type": "code",
      "source": [
        "#emotional_words = []\n",
        "#for word_count in most_common_words:\n",
        "  #word = word_count[0]\n",
        "  #synsets = wn.synsets(word)\n",
        "  #if synsets:\n",
        "    #senti_synset = swn.senti_synset(synsets[0].name())\n",
        "    #if senti_synset.pos_score() > 0.45 or senti_synset.neg_score() > 0.45:\n",
        "      #emotional_words.append(word)\n",
        "\n",
        "#emotional_words"
      ],
      "metadata": {
        "id": "4ATr_HSAJlpK"
      },
      "execution_count": null,
      "outputs": []
    },
    {
      "cell_type": "code",
      "source": [
        "#from textblob import TextBlob\n",
        "#emotional_words = []\n",
        "#for word_count in most_common_words:\n",
        "  #word = word_count[0]\n",
        "  #tb = TextBlob(word)\n",
        "  #sentiment = tb.sentiment.polarity\n",
        "  #if abs(sentiment) > 0.35:\n",
        "    #emotional_words.append(word)\n",
        "\n",
        "#emotional_words"
      ],
      "metadata": {
        "id": "ZFtCDPOyRPcq"
      },
      "execution_count": null,
      "outputs": []
    }
  ]
}