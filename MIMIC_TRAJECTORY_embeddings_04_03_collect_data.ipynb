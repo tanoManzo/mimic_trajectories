{
  "nbformat": 4,
  "nbformat_minor": 0,
  "metadata": {
    "colab": {
      "provenance": [],
      "include_colab_link": true
    },
    "kernelspec": {
      "name": "python3",
      "display_name": "Python 3"
    },
    "language_info": {
      "name": "python"
    }
  },
  "cells": [
    {
      "cell_type": "markdown",
      "metadata": {
        "id": "view-in-github",
        "colab_type": "text"
      },
      "source": [
        "<a href=\"https://colab.research.google.com/github/tanoManzo/mimic_trajectories/blob/dev/MIMIC_TRAJECTORY_embeddings_04_03_collect_data.ipynb\" target=\"_parent\"><img src=\"https://colab.research.google.com/assets/colab-badge.svg\" alt=\"Open In Colab\"/></a>"
      ]
    },
    {
      "cell_type": "markdown",
      "source": [
        "# Data Collection, Embeddings and Attitude"
      ],
      "metadata": {
        "id": "5CSBbeSkyRmq"
      }
    },
    {
      "cell_type": "code",
      "source": [
        "from google.colab import drive\n",
        "drive.mount('/content/drive')"
      ],
      "metadata": {
        "colab": {
          "base_uri": "https://localhost:8080/"
        },
        "id": "GKFaijaIsKBU",
        "outputId": "82aafcc5-adee-4dfb-c2af-2bab85c0214c"
      },
      "execution_count": 1,
      "outputs": [
        {
          "output_type": "stream",
          "name": "stdout",
          "text": [
            "Mounted at /content/drive\n"
          ]
        }
      ]
    },
    {
      "cell_type": "code",
      "execution_count": 2,
      "metadata": {
        "id": "35BpcyS4eWHw"
      },
      "outputs": [],
      "source": [
        "import numpy as np\n",
        "import pandas as pd\n",
        "import seaborn as sns\n",
        "notes_path = \"/content/drive/MyDrive/NIH/Data/\""
      ]
    },
    {
      "cell_type": "code",
      "source": [
        "file_name = \"ICUSTAYS.csv\"\n",
        "df_ward = pd.read_csv(notes_path+file_name)\n",
        "df_ward"
      ],
      "metadata": {
        "id": "pUQn07JZhC3E",
        "outputId": "27bedb23-4736-4761-83d3-fe93b775d4d3",
        "colab": {
          "base_uri": "https://localhost:8080/",
          "height": 424
        }
      },
      "execution_count": 3,
      "outputs": [
        {
          "output_type": "execute_result",
          "data": {
            "text/plain": [
              "       ROW_ID  SUBJECT_ID  HADM_ID  ICUSTAY_ID    DBSOURCE FIRST_CAREUNIT  \\\n",
              "0         365         268   110404      280836     carevue           MICU   \n",
              "1         366         269   106296      206613     carevue           MICU   \n",
              "2         367         270   188028      220345     carevue            CCU   \n",
              "3         368         271   173727      249196     carevue           MICU   \n",
              "4         369         272   164716      210407     carevue            CCU   \n",
              "...       ...         ...      ...         ...         ...            ...   \n",
              "61527   59806       94944   143774      201233  metavision           CSRU   \n",
              "61528   59807       94950   123750      283653  metavision            CCU   \n",
              "61529   59808       94953   196881      241585  metavision           SICU   \n",
              "61530   59809       94954   118475      202802  metavision           CSRU   \n",
              "61531   59810       94956   156386      275346  metavision          TSICU   \n",
              "\n",
              "      LAST_CAREUNIT  FIRST_WARDID  LAST_WARDID               INTIME  \\\n",
              "0              MICU            52           52  2198-02-14 23:27:38   \n",
              "1              MICU            52           52  2170-11-05 11:05:29   \n",
              "2               CCU            57           57  2128-06-24 15:05:20   \n",
              "3              SICU            52           23  2120-08-07 23:12:42   \n",
              "4               CCU            57           57  2186-12-25 21:08:04   \n",
              "...             ...           ...          ...                  ...   \n",
              "61527          CSRU            15           15  2104-04-15 10:18:16   \n",
              "61528           CCU             7            7  2155-12-08 05:33:16   \n",
              "61529          SICU            57           57  2160-03-03 16:09:11   \n",
              "61530          CSRU            15           15  2183-03-25 09:53:10   \n",
              "61531         TSICU            14           14  2157-05-19 02:54:54   \n",
              "\n",
              "                   OUTTIME     LOS  \n",
              "0      2198-02-18 05:26:11  3.2490  \n",
              "1      2170-11-08 17:46:57  3.2788  \n",
              "2      2128-06-27 12:32:29  2.8939  \n",
              "3      2120-08-10 00:39:04  2.0600  \n",
              "4      2186-12-27 12:01:13  1.6202  \n",
              "...                    ...     ...  \n",
              "61527  2104-04-17 14:51:00  2.1894  \n",
              "61528  2155-12-10 17:24:58  2.4942  \n",
              "61529  2160-03-04 14:22:33  0.9259  \n",
              "61530  2183-03-27 17:55:03  2.3346  \n",
              "61531  2157-05-23 14:58:04  4.5022  \n",
              "\n",
              "[61532 rows x 12 columns]"
            ],
            "text/html": [
              "\n",
              "  <div id=\"df-800e932a-8795-4ff4-9580-c06d5e8714cd\">\n",
              "    <div class=\"colab-df-container\">\n",
              "      <div>\n",
              "<style scoped>\n",
              "    .dataframe tbody tr th:only-of-type {\n",
              "        vertical-align: middle;\n",
              "    }\n",
              "\n",
              "    .dataframe tbody tr th {\n",
              "        vertical-align: top;\n",
              "    }\n",
              "\n",
              "    .dataframe thead th {\n",
              "        text-align: right;\n",
              "    }\n",
              "</style>\n",
              "<table border=\"1\" class=\"dataframe\">\n",
              "  <thead>\n",
              "    <tr style=\"text-align: right;\">\n",
              "      <th></th>\n",
              "      <th>ROW_ID</th>\n",
              "      <th>SUBJECT_ID</th>\n",
              "      <th>HADM_ID</th>\n",
              "      <th>ICUSTAY_ID</th>\n",
              "      <th>DBSOURCE</th>\n",
              "      <th>FIRST_CAREUNIT</th>\n",
              "      <th>LAST_CAREUNIT</th>\n",
              "      <th>FIRST_WARDID</th>\n",
              "      <th>LAST_WARDID</th>\n",
              "      <th>INTIME</th>\n",
              "      <th>OUTTIME</th>\n",
              "      <th>LOS</th>\n",
              "    </tr>\n",
              "  </thead>\n",
              "  <tbody>\n",
              "    <tr>\n",
              "      <th>0</th>\n",
              "      <td>365</td>\n",
              "      <td>268</td>\n",
              "      <td>110404</td>\n",
              "      <td>280836</td>\n",
              "      <td>carevue</td>\n",
              "      <td>MICU</td>\n",
              "      <td>MICU</td>\n",
              "      <td>52</td>\n",
              "      <td>52</td>\n",
              "      <td>2198-02-14 23:27:38</td>\n",
              "      <td>2198-02-18 05:26:11</td>\n",
              "      <td>3.2490</td>\n",
              "    </tr>\n",
              "    <tr>\n",
              "      <th>1</th>\n",
              "      <td>366</td>\n",
              "      <td>269</td>\n",
              "      <td>106296</td>\n",
              "      <td>206613</td>\n",
              "      <td>carevue</td>\n",
              "      <td>MICU</td>\n",
              "      <td>MICU</td>\n",
              "      <td>52</td>\n",
              "      <td>52</td>\n",
              "      <td>2170-11-05 11:05:29</td>\n",
              "      <td>2170-11-08 17:46:57</td>\n",
              "      <td>3.2788</td>\n",
              "    </tr>\n",
              "    <tr>\n",
              "      <th>2</th>\n",
              "      <td>367</td>\n",
              "      <td>270</td>\n",
              "      <td>188028</td>\n",
              "      <td>220345</td>\n",
              "      <td>carevue</td>\n",
              "      <td>CCU</td>\n",
              "      <td>CCU</td>\n",
              "      <td>57</td>\n",
              "      <td>57</td>\n",
              "      <td>2128-06-24 15:05:20</td>\n",
              "      <td>2128-06-27 12:32:29</td>\n",
              "      <td>2.8939</td>\n",
              "    </tr>\n",
              "    <tr>\n",
              "      <th>3</th>\n",
              "      <td>368</td>\n",
              "      <td>271</td>\n",
              "      <td>173727</td>\n",
              "      <td>249196</td>\n",
              "      <td>carevue</td>\n",
              "      <td>MICU</td>\n",
              "      <td>SICU</td>\n",
              "      <td>52</td>\n",
              "      <td>23</td>\n",
              "      <td>2120-08-07 23:12:42</td>\n",
              "      <td>2120-08-10 00:39:04</td>\n",
              "      <td>2.0600</td>\n",
              "    </tr>\n",
              "    <tr>\n",
              "      <th>4</th>\n",
              "      <td>369</td>\n",
              "      <td>272</td>\n",
              "      <td>164716</td>\n",
              "      <td>210407</td>\n",
              "      <td>carevue</td>\n",
              "      <td>CCU</td>\n",
              "      <td>CCU</td>\n",
              "      <td>57</td>\n",
              "      <td>57</td>\n",
              "      <td>2186-12-25 21:08:04</td>\n",
              "      <td>2186-12-27 12:01:13</td>\n",
              "      <td>1.6202</td>\n",
              "    </tr>\n",
              "    <tr>\n",
              "      <th>...</th>\n",
              "      <td>...</td>\n",
              "      <td>...</td>\n",
              "      <td>...</td>\n",
              "      <td>...</td>\n",
              "      <td>...</td>\n",
              "      <td>...</td>\n",
              "      <td>...</td>\n",
              "      <td>...</td>\n",
              "      <td>...</td>\n",
              "      <td>...</td>\n",
              "      <td>...</td>\n",
              "      <td>...</td>\n",
              "    </tr>\n",
              "    <tr>\n",
              "      <th>61527</th>\n",
              "      <td>59806</td>\n",
              "      <td>94944</td>\n",
              "      <td>143774</td>\n",
              "      <td>201233</td>\n",
              "      <td>metavision</td>\n",
              "      <td>CSRU</td>\n",
              "      <td>CSRU</td>\n",
              "      <td>15</td>\n",
              "      <td>15</td>\n",
              "      <td>2104-04-15 10:18:16</td>\n",
              "      <td>2104-04-17 14:51:00</td>\n",
              "      <td>2.1894</td>\n",
              "    </tr>\n",
              "    <tr>\n",
              "      <th>61528</th>\n",
              "      <td>59807</td>\n",
              "      <td>94950</td>\n",
              "      <td>123750</td>\n",
              "      <td>283653</td>\n",
              "      <td>metavision</td>\n",
              "      <td>CCU</td>\n",
              "      <td>CCU</td>\n",
              "      <td>7</td>\n",
              "      <td>7</td>\n",
              "      <td>2155-12-08 05:33:16</td>\n",
              "      <td>2155-12-10 17:24:58</td>\n",
              "      <td>2.4942</td>\n",
              "    </tr>\n",
              "    <tr>\n",
              "      <th>61529</th>\n",
              "      <td>59808</td>\n",
              "      <td>94953</td>\n",
              "      <td>196881</td>\n",
              "      <td>241585</td>\n",
              "      <td>metavision</td>\n",
              "      <td>SICU</td>\n",
              "      <td>SICU</td>\n",
              "      <td>57</td>\n",
              "      <td>57</td>\n",
              "      <td>2160-03-03 16:09:11</td>\n",
              "      <td>2160-03-04 14:22:33</td>\n",
              "      <td>0.9259</td>\n",
              "    </tr>\n",
              "    <tr>\n",
              "      <th>61530</th>\n",
              "      <td>59809</td>\n",
              "      <td>94954</td>\n",
              "      <td>118475</td>\n",
              "      <td>202802</td>\n",
              "      <td>metavision</td>\n",
              "      <td>CSRU</td>\n",
              "      <td>CSRU</td>\n",
              "      <td>15</td>\n",
              "      <td>15</td>\n",
              "      <td>2183-03-25 09:53:10</td>\n",
              "      <td>2183-03-27 17:55:03</td>\n",
              "      <td>2.3346</td>\n",
              "    </tr>\n",
              "    <tr>\n",
              "      <th>61531</th>\n",
              "      <td>59810</td>\n",
              "      <td>94956</td>\n",
              "      <td>156386</td>\n",
              "      <td>275346</td>\n",
              "      <td>metavision</td>\n",
              "      <td>TSICU</td>\n",
              "      <td>TSICU</td>\n",
              "      <td>14</td>\n",
              "      <td>14</td>\n",
              "      <td>2157-05-19 02:54:54</td>\n",
              "      <td>2157-05-23 14:58:04</td>\n",
              "      <td>4.5022</td>\n",
              "    </tr>\n",
              "  </tbody>\n",
              "</table>\n",
              "<p>61532 rows × 12 columns</p>\n",
              "</div>\n",
              "      <button class=\"colab-df-convert\" onclick=\"convertToInteractive('df-800e932a-8795-4ff4-9580-c06d5e8714cd')\"\n",
              "              title=\"Convert this dataframe to an interactive table.\"\n",
              "              style=\"display:none;\">\n",
              "        \n",
              "  <svg xmlns=\"http://www.w3.org/2000/svg\" height=\"24px\"viewBox=\"0 0 24 24\"\n",
              "       width=\"24px\">\n",
              "    <path d=\"M0 0h24v24H0V0z\" fill=\"none\"/>\n",
              "    <path d=\"M18.56 5.44l.94 2.06.94-2.06 2.06-.94-2.06-.94-.94-2.06-.94 2.06-2.06.94zm-11 1L8.5 8.5l.94-2.06 2.06-.94-2.06-.94L8.5 2.5l-.94 2.06-2.06.94zm10 10l.94 2.06.94-2.06 2.06-.94-2.06-.94-.94-2.06-.94 2.06-2.06.94z\"/><path d=\"M17.41 7.96l-1.37-1.37c-.4-.4-.92-.59-1.43-.59-.52 0-1.04.2-1.43.59L10.3 9.45l-7.72 7.72c-.78.78-.78 2.05 0 2.83L4 21.41c.39.39.9.59 1.41.59.51 0 1.02-.2 1.41-.59l7.78-7.78 2.81-2.81c.8-.78.8-2.07 0-2.86zM5.41 20L4 18.59l7.72-7.72 1.47 1.35L5.41 20z\"/>\n",
              "  </svg>\n",
              "      </button>\n",
              "      \n",
              "  <style>\n",
              "    .colab-df-container {\n",
              "      display:flex;\n",
              "      flex-wrap:wrap;\n",
              "      gap: 12px;\n",
              "    }\n",
              "\n",
              "    .colab-df-convert {\n",
              "      background-color: #E8F0FE;\n",
              "      border: none;\n",
              "      border-radius: 50%;\n",
              "      cursor: pointer;\n",
              "      display: none;\n",
              "      fill: #1967D2;\n",
              "      height: 32px;\n",
              "      padding: 0 0 0 0;\n",
              "      width: 32px;\n",
              "    }\n",
              "\n",
              "    .colab-df-convert:hover {\n",
              "      background-color: #E2EBFA;\n",
              "      box-shadow: 0px 1px 2px rgba(60, 64, 67, 0.3), 0px 1px 3px 1px rgba(60, 64, 67, 0.15);\n",
              "      fill: #174EA6;\n",
              "    }\n",
              "\n",
              "    [theme=dark] .colab-df-convert {\n",
              "      background-color: #3B4455;\n",
              "      fill: #D2E3FC;\n",
              "    }\n",
              "\n",
              "    [theme=dark] .colab-df-convert:hover {\n",
              "      background-color: #434B5C;\n",
              "      box-shadow: 0px 1px 3px 1px rgba(0, 0, 0, 0.15);\n",
              "      filter: drop-shadow(0px 1px 2px rgba(0, 0, 0, 0.3));\n",
              "      fill: #FFFFFF;\n",
              "    }\n",
              "  </style>\n",
              "\n",
              "      <script>\n",
              "        const buttonEl =\n",
              "          document.querySelector('#df-800e932a-8795-4ff4-9580-c06d5e8714cd button.colab-df-convert');\n",
              "        buttonEl.style.display =\n",
              "          google.colab.kernel.accessAllowed ? 'block' : 'none';\n",
              "\n",
              "        async function convertToInteractive(key) {\n",
              "          const element = document.querySelector('#df-800e932a-8795-4ff4-9580-c06d5e8714cd');\n",
              "          const dataTable =\n",
              "            await google.colab.kernel.invokeFunction('convertToInteractive',\n",
              "                                                     [key], {});\n",
              "          if (!dataTable) return;\n",
              "\n",
              "          const docLinkHtml = 'Like what you see? Visit the ' +\n",
              "            '<a target=\"_blank\" href=https://colab.research.google.com/notebooks/data_table.ipynb>data table notebook</a>'\n",
              "            + ' to learn more about interactive tables.';\n",
              "          element.innerHTML = '';\n",
              "          dataTable['output_type'] = 'display_data';\n",
              "          await google.colab.output.renderOutput(dataTable, element);\n",
              "          const docLink = document.createElement('div');\n",
              "          docLink.innerHTML = docLinkHtml;\n",
              "          element.appendChild(docLink);\n",
              "        }\n",
              "      </script>\n",
              "    </div>\n",
              "  </div>\n",
              "  "
            ]
          },
          "metadata": {},
          "execution_count": 3
        }
      ]
    },
    {
      "cell_type": "code",
      "source": [
        "subject_id_csru = df_ward[(df_ward['FIRST_CAREUNIT']=='CSRU') & (df_ward['LAST_CAREUNIT']=='CSRU')].SUBJECT_ID.unique()\n",
        "print(f'Number of Subjects in CSRU: {len(subject_id_csru)}')\n",
        "hosp_stay_id_csru = df_ward[(df_ward['FIRST_CAREUNIT']=='CSRU') & (df_ward['LAST_CAREUNIT']=='CSRU')].HADM_ID.unique()\n",
        "print(f'Number of Hospital stays in CSRU: {len(hosp_stay_id_csru)}')"
      ],
      "metadata": {
        "id": "Ti0D5GvITEpa",
        "colab": {
          "base_uri": "https://localhost:8080/"
        },
        "outputId": "3c769f16-c0bf-4421-8b90-00a67afb1c30"
      },
      "execution_count": 5,
      "outputs": [
        {
          "output_type": "stream",
          "name": "stdout",
          "text": [
            "Number of Subjects in CSRU: 7944\n",
            "Number of Hospital stays in CSRU: 8385\n"
          ]
        }
      ]
    },
    {
      "cell_type": "code",
      "source": [
        "file_name = \"DIAGNOSES_ICD.csv\"\n",
        "df_icd = pd.read_csv(notes_path+file_name)\n",
        "df_icd_first = df_icd[df_icd['SEQ_NUM']==1]\n",
        "df_icd_first_csru = df_icd_first[df_icd_first['SUBJECT_ID'].isin(subject_id_csru)]\n",
        "print(f'Number of unique ICD 9 first sequence from CSRU subject: {df_icd_first_csru.ICD9_CODE.nunique()}')\n",
        "icd_csru = df_icd_first_csru.ICD9_CODE.value_counts().nlargest(5)\n",
        "print('Top 5 Popular ICD9 in the CSRU population with duplicates:')\n",
        "print(\"code  #subjects\")\n",
        "icd_csru"
      ],
      "metadata": {
        "id": "PFLocK_T-w_x",
        "outputId": "e38a8b75-b001-41ba-9592-8f3e36a21436",
        "colab": {
          "base_uri": "https://localhost:8080/"
        }
      },
      "execution_count": 9,
      "outputs": [
        {
          "output_type": "stream",
          "name": "stdout",
          "text": [
            "Number of unique ICD 9 first sequence from CSRU subject: 822\n",
            "Top 5 Popular ICD9 in the CSRU population with duplicates:\n",
            "code  #subjects\n"
          ]
        },
        {
          "output_type": "execute_result",
          "data": {
            "text/plain": [
              "41401    2984\n",
              "4241     1051\n",
              "41071     741\n",
              "4240      530\n",
              "4412      165\n",
              "Name: ICD9_CODE, dtype: int64"
            ]
          },
          "metadata": {},
          "execution_count": 9
        }
      ]
    },
    {
      "cell_type": "code",
      "source": [
        "condition = []\n",
        "for item in df_icd['ICD9_CODE'].values:\n",
        "  \n",
        "  if str(item).isdigit():\n",
        "    item = float(item)\n",
        "    if (item>799 and item<1000):\n",
        "      condition.append(True)\n",
        "    else: \n",
        "      condition.append(False)\n",
        "  else:\n",
        "      condition.append(False)\n",
        "\n",
        "df_8xx = df_icd[condition]\n",
        "df_8xx_csru = df_8xx[df_8xx['SUBJECT_ID'].isin(subject_id_csru)]\n",
        "icd8xx_subjects_ids = df_8xx_csru['SUBJECT_ID'].unique()\n",
        "icd8xx_hosp_ids = df_8xx_csru['HADM_ID'].unique()\n",
        "print(f'Number of subjects with a first sequence ICD 9 code [800,900) : {len(icd8xx_subjects_ids)}')\n",
        "print(f'Number of hospital stays with a first sequence ICD 9 code [800,900) : {len(icd8xx_hosp_ids)}')"
      ],
      "metadata": {
        "colab": {
          "base_uri": "https://localhost:8080/"
        },
        "id": "6-NdyuwtOgIx",
        "outputId": "26525b46-dea4-4942-e775-98b5f0d695fe"
      },
      "execution_count": 12,
      "outputs": [
        {
          "output_type": "stream",
          "name": "stdout",
          "text": [
            "Number of subjects with a first sequence ICD 9 code [800,900) : 170\n",
            "Number of hospital stays with a first sequence ICD 9 code [800,900) : 185\n"
          ]
        }
      ]
    },
    {
      "cell_type": "code",
      "source": [
        "print(df_8xx_csru['ICD9_CODE'].unique())"
      ],
      "metadata": {
        "colab": {
          "base_uri": "https://localhost:8080/"
        },
        "id": "XlKJEMGhI3VQ",
        "outputId": "f72f54c1-0cac-46a6-b074-2a5772ecf30f"
      },
      "execution_count": 13,
      "outputs": [
        {
          "output_type": "stream",
          "name": "stdout",
          "text": [
            "['00845' '920' '0931' '936' '00863' '0860' '0940' '00843' '990']\n"
          ]
        }
      ]
    },
    {
      "cell_type": "code",
      "source": [
        "patients = \"PATIENTS.csv\"\n",
        "df_patients = pd.read_csv(notes_path+patients)\n",
        "df_patients_icd8xx_csru = df_patients[df_patients['SUBJECT_ID'].isin(icd8xx_subjects_ids)]\n",
        "df_patients_icd8xx_csru.info()\n",
        "print('Subjects Expired (1), Alive (0): ')\n",
        "print(df_patients_icd8xx_csru['EXPIRE_FLAG'].value_counts())\n",
        "print(df_patients_icd8xx_csru['GENDER'].value_counts())"
      ],
      "metadata": {
        "id": "oz7EmtbWQC31",
        "colab": {
          "base_uri": "https://localhost:8080/"
        },
        "outputId": "e7f16968-36f1-4f02-ebce-68496763a7cc"
      },
      "execution_count": 15,
      "outputs": [
        {
          "output_type": "stream",
          "name": "stdout",
          "text": [
            "<class 'pandas.core.frame.DataFrame'>\n",
            "Int64Index: 170 entries, 6 to 46449\n",
            "Data columns (total 8 columns):\n",
            " #   Column       Non-Null Count  Dtype \n",
            "---  ------       --------------  ----- \n",
            " 0   ROW_ID       170 non-null    int64 \n",
            " 1   SUBJECT_ID   170 non-null    int64 \n",
            " 2   GENDER       170 non-null    object\n",
            " 3   DOB          170 non-null    object\n",
            " 4   DOD          108 non-null    object\n",
            " 5   DOD_HOSP     69 non-null     object\n",
            " 6   DOD_SSN      85 non-null     object\n",
            " 7   EXPIRE_FLAG  170 non-null    int64 \n",
            "dtypes: int64(3), object(5)\n",
            "memory usage: 12.0+ KB\n",
            "Subjects Expired (1), Alive (0): \n",
            "1    108\n",
            "0     62\n",
            "Name: EXPIRE_FLAG, dtype: int64\n",
            "M    86\n",
            "F    84\n",
            "Name: GENDER, dtype: int64\n"
          ]
        }
      ]
    },
    {
      "cell_type": "code",
      "source": [
        "df_gcs_total_subjects = df_patients_icd8xx_csru[df_patients_icd8xx_csru['SUBJECT_ID'].isin(icd8xx_subjects_ids)]\n",
        "df_gcs_total_subjects['SUBJECT_ID'].nunique()"
      ],
      "metadata": {
        "colab": {
          "base_uri": "https://localhost:8080/"
        },
        "id": "q1aE_OgdyF2R",
        "outputId": "f6386b03-1161-4e4e-cfe9-8171b516e9e9"
      },
      "execution_count": 18,
      "outputs": [
        {
          "output_type": "execute_result",
          "data": {
            "text/plain": [
              "170"
            ]
          },
          "metadata": {},
          "execution_count": 18
        }
      ]
    },
    {
      "cell_type": "code",
      "source": [
        "note_events = \"NOTEEVENTS.csv\"\n",
        "df_note_events = pd.read_csv(notes_path+note_events)\n",
        "df_note_events.info()"
      ],
      "metadata": {
        "id": "-nA246kVYBs_",
        "outputId": "4d83568f-2ade-4359-a87f-63f4b952e822",
        "colab": {
          "base_uri": "https://localhost:8080/"
        }
      },
      "execution_count": 17,
      "outputs": [
        {
          "output_type": "stream",
          "name": "stderr",
          "text": [
            "<ipython-input-17-8fd00f55f791>:2: DtypeWarning: Columns (4,5) have mixed types. Specify dtype option on import or set low_memory=False.\n",
            "  df_note_events = pd.read_csv(notes_path+note_events)\n"
          ]
        },
        {
          "output_type": "stream",
          "name": "stdout",
          "text": [
            "<class 'pandas.core.frame.DataFrame'>\n",
            "RangeIndex: 2083180 entries, 0 to 2083179\n",
            "Data columns (total 11 columns):\n",
            " #   Column       Dtype  \n",
            "---  ------       -----  \n",
            " 0   ROW_ID       int64  \n",
            " 1   SUBJECT_ID   int64  \n",
            " 2   HADM_ID      float64\n",
            " 3   CHARTDATE    object \n",
            " 4   CHARTTIME    object \n",
            " 5   STORETIME    object \n",
            " 6   CATEGORY     object \n",
            " 7   DESCRIPTION  object \n",
            " 8   CGID         float64\n",
            " 9   ISERROR      float64\n",
            " 10  TEXT         object \n",
            "dtypes: float64(3), int64(2), object(6)\n",
            "memory usage: 174.8+ MB\n"
          ]
        }
      ]
    },
    {
      "cell_type": "code",
      "source": [
        "df_notes_total_hosp_stays = df_note_events[df_note_events['HADM_ID'].isin(hosp_stay_id_csru)] \n",
        "df_notes_total_hosp_stays.info()\n",
        "df_notes_total_hosp_stays.sort_values(by=['HADM_ID','CHARTTIME'])"
      ],
      "metadata": {
        "colab": {
          "base_uri": "https://localhost:8080/",
          "height": 736
        },
        "id": "tbNzgHw2JDkt",
        "outputId": "fd4b7986-1f68-4117-e4df-083f9f2b2f5b"
      },
      "execution_count": 19,
      "outputs": [
        {
          "output_type": "stream",
          "name": "stdout",
          "text": [
            "<class 'pandas.core.frame.DataFrame'>\n",
            "Int64Index: 199899 entries, 12 to 2066373\n",
            "Data columns (total 11 columns):\n",
            " #   Column       Non-Null Count   Dtype  \n",
            "---  ------       --------------   -----  \n",
            " 0   ROW_ID       199899 non-null  int64  \n",
            " 1   SUBJECT_ID   199899 non-null  int64  \n",
            " 2   HADM_ID      199899 non-null  float64\n",
            " 3   CHARTDATE    199899 non-null  object \n",
            " 4   CHARTTIME    158570 non-null  object \n",
            " 5   STORETIME    107431 non-null  object \n",
            " 6   CATEGORY     199899 non-null  object \n",
            " 7   DESCRIPTION  199899 non-null  object \n",
            " 8   CGID         107431 non-null  float64\n",
            " 9   ISERROR      117 non-null     float64\n",
            " 10  TEXT         199899 non-null  object \n",
            "dtypes: float64(3), int64(2), object(6)\n",
            "memory usage: 18.3+ MB\n"
          ]
        },
        {
          "output_type": "execute_result",
          "data": {
            "text/plain": [
              "          ROW_ID  SUBJECT_ID   HADM_ID   CHARTDATE            CHARTTIME  \\\n",
              "1174097  1189514         533  100009.0  2162-05-16  2162-05-16 19:23:00   \n",
              "1175338  1189544         533  100009.0  2162-05-17  2162-05-17 08:12:00   \n",
              "1175688  1189637         533  100009.0  2162-05-17  2162-05-17 18:41:00   \n",
              "1175074  1189917         533  100009.0  2162-05-19  2162-05-19 10:35:00   \n",
              "1200296  1190106         533  100009.0  2162-05-20  2162-05-20 14:57:00   \n",
              "...          ...         ...       ...         ...                  ...   \n",
              "1003290  1007611       27200  199998.0  2119-02-23  2119-02-23 15:02:00   \n",
              "39835      33528       27200  199998.0  2119-02-24                  NaN   \n",
              "85118      85349       27200  199998.0  2119-02-20                  NaN   \n",
              "233522    216227       27200  199998.0  2119-02-20                  NaN   \n",
              "233523    216228       27200  199998.0  2119-02-18                  NaN   \n",
              "\n",
              "        STORETIME           CATEGORY                   DESCRIPTION  CGID  \\\n",
              "1174097       NaN          Radiology              CHEST (PA & LAT)   NaN   \n",
              "1175338       NaN          Radiology  VEN DUP EXTEXT BIL (MAP/DVT)   NaN   \n",
              "1175688       NaN          Radiology    CHEST PORT. LINE PLACEMENT   NaN   \n",
              "1175074       NaN          Radiology           CHEST (PORTABLE AP)   NaN   \n",
              "1200296       NaN          Radiology              CHEST (PA & LAT)   NaN   \n",
              "...           ...                ...                           ...   ...   \n",
              "1003290       NaN          Radiology              CHEST (PA & LAT)   NaN   \n",
              "39835         NaN  Discharge summary                        Report   NaN   \n",
              "85118         NaN               Echo                        Report   NaN   \n",
              "233522        NaN                ECG                        Report   NaN   \n",
              "233523        NaN                ECG                        Report   NaN   \n",
              "\n",
              "         ISERROR                                               TEXT  \n",
              "1174097      NaN  [**2162-5-16**] 7:23 PM\\n CHEST (PA & LAT)    ...  \n",
              "1175338      NaN  [**2162-5-17**] 8:12 AM\\n [**Last Name (un) 12...  \n",
              "1175688      NaN  [**2162-5-17**] 6:41 PM\\n CHEST PORT. LINE PLA...  \n",
              "1175074      NaN  [**2162-5-19**] 10:35 AM\\n CHEST (PORTABLE AP)...  \n",
              "1200296      NaN  [**2162-5-20**] 2:57 PM\\n CHEST (PA & LAT)    ...  \n",
              "...          ...                                                ...  \n",
              "1003290      NaN  [**2119-2-23**] 3:02 PM\\n CHEST (PA & LAT)    ...  \n",
              "39835        NaN  Admission Date:  [**2119-2-18**]              ...  \n",
              "85118        NaN  PATIENT/TEST INFORMATION:\\nIndication: Abnorma...  \n",
              "233522       NaN  Sinus rhythm\\nConsider left atrial abnormality...  \n",
              "233523       NaN  Sinus bradycardia. Otherwise, normal tracing. ...  \n",
              "\n",
              "[199899 rows x 11 columns]"
            ],
            "text/html": [
              "\n",
              "  <div id=\"df-99827fde-1d1c-4024-acae-9d02aa23f27e\">\n",
              "    <div class=\"colab-df-container\">\n",
              "      <div>\n",
              "<style scoped>\n",
              "    .dataframe tbody tr th:only-of-type {\n",
              "        vertical-align: middle;\n",
              "    }\n",
              "\n",
              "    .dataframe tbody tr th {\n",
              "        vertical-align: top;\n",
              "    }\n",
              "\n",
              "    .dataframe thead th {\n",
              "        text-align: right;\n",
              "    }\n",
              "</style>\n",
              "<table border=\"1\" class=\"dataframe\">\n",
              "  <thead>\n",
              "    <tr style=\"text-align: right;\">\n",
              "      <th></th>\n",
              "      <th>ROW_ID</th>\n",
              "      <th>SUBJECT_ID</th>\n",
              "      <th>HADM_ID</th>\n",
              "      <th>CHARTDATE</th>\n",
              "      <th>CHARTTIME</th>\n",
              "      <th>STORETIME</th>\n",
              "      <th>CATEGORY</th>\n",
              "      <th>DESCRIPTION</th>\n",
              "      <th>CGID</th>\n",
              "      <th>ISERROR</th>\n",
              "      <th>TEXT</th>\n",
              "    </tr>\n",
              "  </thead>\n",
              "  <tbody>\n",
              "    <tr>\n",
              "      <th>1174097</th>\n",
              "      <td>1189514</td>\n",
              "      <td>533</td>\n",
              "      <td>100009.0</td>\n",
              "      <td>2162-05-16</td>\n",
              "      <td>2162-05-16 19:23:00</td>\n",
              "      <td>NaN</td>\n",
              "      <td>Radiology</td>\n",
              "      <td>CHEST (PA &amp; LAT)</td>\n",
              "      <td>NaN</td>\n",
              "      <td>NaN</td>\n",
              "      <td>[**2162-5-16**] 7:23 PM\\n CHEST (PA &amp; LAT)    ...</td>\n",
              "    </tr>\n",
              "    <tr>\n",
              "      <th>1175338</th>\n",
              "      <td>1189544</td>\n",
              "      <td>533</td>\n",
              "      <td>100009.0</td>\n",
              "      <td>2162-05-17</td>\n",
              "      <td>2162-05-17 08:12:00</td>\n",
              "      <td>NaN</td>\n",
              "      <td>Radiology</td>\n",
              "      <td>VEN DUP EXTEXT BIL (MAP/DVT)</td>\n",
              "      <td>NaN</td>\n",
              "      <td>NaN</td>\n",
              "      <td>[**2162-5-17**] 8:12 AM\\n [**Last Name (un) 12...</td>\n",
              "    </tr>\n",
              "    <tr>\n",
              "      <th>1175688</th>\n",
              "      <td>1189637</td>\n",
              "      <td>533</td>\n",
              "      <td>100009.0</td>\n",
              "      <td>2162-05-17</td>\n",
              "      <td>2162-05-17 18:41:00</td>\n",
              "      <td>NaN</td>\n",
              "      <td>Radiology</td>\n",
              "      <td>CHEST PORT. LINE PLACEMENT</td>\n",
              "      <td>NaN</td>\n",
              "      <td>NaN</td>\n",
              "      <td>[**2162-5-17**] 6:41 PM\\n CHEST PORT. LINE PLA...</td>\n",
              "    </tr>\n",
              "    <tr>\n",
              "      <th>1175074</th>\n",
              "      <td>1189917</td>\n",
              "      <td>533</td>\n",
              "      <td>100009.0</td>\n",
              "      <td>2162-05-19</td>\n",
              "      <td>2162-05-19 10:35:00</td>\n",
              "      <td>NaN</td>\n",
              "      <td>Radiology</td>\n",
              "      <td>CHEST (PORTABLE AP)</td>\n",
              "      <td>NaN</td>\n",
              "      <td>NaN</td>\n",
              "      <td>[**2162-5-19**] 10:35 AM\\n CHEST (PORTABLE AP)...</td>\n",
              "    </tr>\n",
              "    <tr>\n",
              "      <th>1200296</th>\n",
              "      <td>1190106</td>\n",
              "      <td>533</td>\n",
              "      <td>100009.0</td>\n",
              "      <td>2162-05-20</td>\n",
              "      <td>2162-05-20 14:57:00</td>\n",
              "      <td>NaN</td>\n",
              "      <td>Radiology</td>\n",
              "      <td>CHEST (PA &amp; LAT)</td>\n",
              "      <td>NaN</td>\n",
              "      <td>NaN</td>\n",
              "      <td>[**2162-5-20**] 2:57 PM\\n CHEST (PA &amp; LAT)    ...</td>\n",
              "    </tr>\n",
              "    <tr>\n",
              "      <th>...</th>\n",
              "      <td>...</td>\n",
              "      <td>...</td>\n",
              "      <td>...</td>\n",
              "      <td>...</td>\n",
              "      <td>...</td>\n",
              "      <td>...</td>\n",
              "      <td>...</td>\n",
              "      <td>...</td>\n",
              "      <td>...</td>\n",
              "      <td>...</td>\n",
              "      <td>...</td>\n",
              "    </tr>\n",
              "    <tr>\n",
              "      <th>1003290</th>\n",
              "      <td>1007611</td>\n",
              "      <td>27200</td>\n",
              "      <td>199998.0</td>\n",
              "      <td>2119-02-23</td>\n",
              "      <td>2119-02-23 15:02:00</td>\n",
              "      <td>NaN</td>\n",
              "      <td>Radiology</td>\n",
              "      <td>CHEST (PA &amp; LAT)</td>\n",
              "      <td>NaN</td>\n",
              "      <td>NaN</td>\n",
              "      <td>[**2119-2-23**] 3:02 PM\\n CHEST (PA &amp; LAT)    ...</td>\n",
              "    </tr>\n",
              "    <tr>\n",
              "      <th>39835</th>\n",
              "      <td>33528</td>\n",
              "      <td>27200</td>\n",
              "      <td>199998.0</td>\n",
              "      <td>2119-02-24</td>\n",
              "      <td>NaN</td>\n",
              "      <td>NaN</td>\n",
              "      <td>Discharge summary</td>\n",
              "      <td>Report</td>\n",
              "      <td>NaN</td>\n",
              "      <td>NaN</td>\n",
              "      <td>Admission Date:  [**2119-2-18**]              ...</td>\n",
              "    </tr>\n",
              "    <tr>\n",
              "      <th>85118</th>\n",
              "      <td>85349</td>\n",
              "      <td>27200</td>\n",
              "      <td>199998.0</td>\n",
              "      <td>2119-02-20</td>\n",
              "      <td>NaN</td>\n",
              "      <td>NaN</td>\n",
              "      <td>Echo</td>\n",
              "      <td>Report</td>\n",
              "      <td>NaN</td>\n",
              "      <td>NaN</td>\n",
              "      <td>PATIENT/TEST INFORMATION:\\nIndication: Abnorma...</td>\n",
              "    </tr>\n",
              "    <tr>\n",
              "      <th>233522</th>\n",
              "      <td>216227</td>\n",
              "      <td>27200</td>\n",
              "      <td>199998.0</td>\n",
              "      <td>2119-02-20</td>\n",
              "      <td>NaN</td>\n",
              "      <td>NaN</td>\n",
              "      <td>ECG</td>\n",
              "      <td>Report</td>\n",
              "      <td>NaN</td>\n",
              "      <td>NaN</td>\n",
              "      <td>Sinus rhythm\\nConsider left atrial abnormality...</td>\n",
              "    </tr>\n",
              "    <tr>\n",
              "      <th>233523</th>\n",
              "      <td>216228</td>\n",
              "      <td>27200</td>\n",
              "      <td>199998.0</td>\n",
              "      <td>2119-02-18</td>\n",
              "      <td>NaN</td>\n",
              "      <td>NaN</td>\n",
              "      <td>ECG</td>\n",
              "      <td>Report</td>\n",
              "      <td>NaN</td>\n",
              "      <td>NaN</td>\n",
              "      <td>Sinus bradycardia. Otherwise, normal tracing. ...</td>\n",
              "    </tr>\n",
              "  </tbody>\n",
              "</table>\n",
              "<p>199899 rows × 11 columns</p>\n",
              "</div>\n",
              "      <button class=\"colab-df-convert\" onclick=\"convertToInteractive('df-99827fde-1d1c-4024-acae-9d02aa23f27e')\"\n",
              "              title=\"Convert this dataframe to an interactive table.\"\n",
              "              style=\"display:none;\">\n",
              "        \n",
              "  <svg xmlns=\"http://www.w3.org/2000/svg\" height=\"24px\"viewBox=\"0 0 24 24\"\n",
              "       width=\"24px\">\n",
              "    <path d=\"M0 0h24v24H0V0z\" fill=\"none\"/>\n",
              "    <path d=\"M18.56 5.44l.94 2.06.94-2.06 2.06-.94-2.06-.94-.94-2.06-.94 2.06-2.06.94zm-11 1L8.5 8.5l.94-2.06 2.06-.94-2.06-.94L8.5 2.5l-.94 2.06-2.06.94zm10 10l.94 2.06.94-2.06 2.06-.94-2.06-.94-.94-2.06-.94 2.06-2.06.94z\"/><path d=\"M17.41 7.96l-1.37-1.37c-.4-.4-.92-.59-1.43-.59-.52 0-1.04.2-1.43.59L10.3 9.45l-7.72 7.72c-.78.78-.78 2.05 0 2.83L4 21.41c.39.39.9.59 1.41.59.51 0 1.02-.2 1.41-.59l7.78-7.78 2.81-2.81c.8-.78.8-2.07 0-2.86zM5.41 20L4 18.59l7.72-7.72 1.47 1.35L5.41 20z\"/>\n",
              "  </svg>\n",
              "      </button>\n",
              "      \n",
              "  <style>\n",
              "    .colab-df-container {\n",
              "      display:flex;\n",
              "      flex-wrap:wrap;\n",
              "      gap: 12px;\n",
              "    }\n",
              "\n",
              "    .colab-df-convert {\n",
              "      background-color: #E8F0FE;\n",
              "      border: none;\n",
              "      border-radius: 50%;\n",
              "      cursor: pointer;\n",
              "      display: none;\n",
              "      fill: #1967D2;\n",
              "      height: 32px;\n",
              "      padding: 0 0 0 0;\n",
              "      width: 32px;\n",
              "    }\n",
              "\n",
              "    .colab-df-convert:hover {\n",
              "      background-color: #E2EBFA;\n",
              "      box-shadow: 0px 1px 2px rgba(60, 64, 67, 0.3), 0px 1px 3px 1px rgba(60, 64, 67, 0.15);\n",
              "      fill: #174EA6;\n",
              "    }\n",
              "\n",
              "    [theme=dark] .colab-df-convert {\n",
              "      background-color: #3B4455;\n",
              "      fill: #D2E3FC;\n",
              "    }\n",
              "\n",
              "    [theme=dark] .colab-df-convert:hover {\n",
              "      background-color: #434B5C;\n",
              "      box-shadow: 0px 1px 3px 1px rgba(0, 0, 0, 0.15);\n",
              "      filter: drop-shadow(0px 1px 2px rgba(0, 0, 0, 0.3));\n",
              "      fill: #FFFFFF;\n",
              "    }\n",
              "  </style>\n",
              "\n",
              "      <script>\n",
              "        const buttonEl =\n",
              "          document.querySelector('#df-99827fde-1d1c-4024-acae-9d02aa23f27e button.colab-df-convert');\n",
              "        buttonEl.style.display =\n",
              "          google.colab.kernel.accessAllowed ? 'block' : 'none';\n",
              "\n",
              "        async function convertToInteractive(key) {\n",
              "          const element = document.querySelector('#df-99827fde-1d1c-4024-acae-9d02aa23f27e');\n",
              "          const dataTable =\n",
              "            await google.colab.kernel.invokeFunction('convertToInteractive',\n",
              "                                                     [key], {});\n",
              "          if (!dataTable) return;\n",
              "\n",
              "          const docLinkHtml = 'Like what you see? Visit the ' +\n",
              "            '<a target=\"_blank\" href=https://colab.research.google.com/notebooks/data_table.ipynb>data table notebook</a>'\n",
              "            + ' to learn more about interactive tables.';\n",
              "          element.innerHTML = '';\n",
              "          dataTable['output_type'] = 'display_data';\n",
              "          await google.colab.output.renderOutput(dataTable, element);\n",
              "          const docLink = document.createElement('div');\n",
              "          docLink.innerHTML = docLinkHtml;\n",
              "          element.appendChild(docLink);\n",
              "        }\n",
              "      </script>\n",
              "    </div>\n",
              "  </div>\n",
              "  "
            ]
          },
          "metadata": {},
          "execution_count": 19
        }
      ]
    },
    {
      "cell_type": "code",
      "source": [
        "print(df_note_events['CATEGORY'].unique())"
      ],
      "metadata": {
        "id": "QbSCiAMObBNm",
        "outputId": "65ab1ef0-6c6b-490e-dac1-ff44ab03b845",
        "colab": {
          "base_uri": "https://localhost:8080/"
        }
      },
      "execution_count": 20,
      "outputs": [
        {
          "output_type": "stream",
          "name": "stdout",
          "text": [
            "['Discharge summary' 'Echo' 'ECG' 'Nursing' 'Physician ' 'Rehab Services'\n",
            " 'Case Management ' 'Respiratory ' 'Nutrition' 'General' 'Social Work'\n",
            " 'Pharmacy' 'Consult' 'Radiology' 'Nursing/other']\n"
          ]
        }
      ]
    },
    {
      "cell_type": "code",
      "source": [
        "import re\n",
        "df_notes_icd8xx_csru_social = df_notes_total_hosp_stays.merge(df_patients[['SUBJECT_ID', 'EXPIRE_FLAG']], on=['SUBJECT_ID'], how='inner')\n",
        "df_notes_icd8xx_csru_social = df_notes_icd8xx_csru_social.merge(df_8xx_csru[['SUBJECT_ID', 'ICD9_CODE','HADM_ID']], on=['SUBJECT_ID','HADM_ID'], how='inner')\n",
        "df_notes_icd8xx_csru_social = df_notes_icd8xx_csru_social[(df_notes_icd8xx_csru_social['CATEGORY']=='Nursing') | (df_notes_icd8xx_csru_social['CATEGORY']=='Nursing/other') | (df_notes_icd8xx_csru_social['CATEGORY']=='Social Work')]\n",
        "\n",
        "# regex pattern\n",
        "pattern = r'(?i)(social work note:|social work note-|social work note\\n\\n|social work note\\n|social work:|social work-|social work\\n\\n|social work\\n|social:|soc:|soc;|soc-|social-|social -|social \\n|social\\n\\n|social\\n)(.*?)(?:\\n|$)'\n",
        "\n",
        "# grabs multiple results if the pattern shows more than once\n",
        "df_notes_icd8xx_csru_social['SOCIAL'] = df_notes_icd8xx_csru_social['TEXT'].apply(lambda x: ' '.join([match[1] for match in re.findall(pattern, x.lower(), flags=re.DOTALL)]) if re.findall(pattern, x.lower(), flags=re.DOTALL) else '')\n",
        "\n",
        "#df_notes_icd8xx_tsicu_social = df_notes_icd8xx_tsicu_social[df_notes_icd8xx_tsicu_social['TEXT'].str.lower().str.contains('social work', regex=True)] # grabs only \"social work\" examples\n",
        "#df_notes_icd8xx_tsicu_social['SOCIAL'] = df_notes_icd8xx_tsicu_social['TEXT'].str.lower().str.extract(pattern, flags=re.DOTALL)[1]  # grabs only the first result of regex pattern\n",
        "\n",
        "#df_notes_icd8xx_tsicu_social = df_notes_icd8xx_tsicu_social.sort_values(by=['HADM_ID','CHARTTIME']) # for testing\n",
        "#df_notes_icd8xx_tsicu_social = df_notes_icd8xx_tsicu_social[df_notes_icd8xx_tsicu_social['EXPIRE_FLAG'] == 1] # for testing\n",
        "#df_notes_icd8xx_tsicu_social = df_notes_icd8xx_tsicu_social[df_notes_icd8xx_tsicu_social['HADM_ID'] == 108474] # for testing\n",
        "\n",
        "df_notes_icd8xx_tsicu_social = df_notes_icd8xx_csru_social.sort_values(by='SOCIAL', key=lambda x: x.str.len(), ascending=False)\n",
        "df_notes_icd8xx_tsicu_social.info()\n",
        "df_notes_icd8xx_tsicu_social.head(300)"
      ],
      "metadata": {
        "id": "nqjCql5TjMlG"
      },
      "execution_count": null,
      "outputs": []
    },
    {
      "cell_type": "code",
      "source": [
        "PATH_TO_SAVE = \"/content/drive/MyDrive/NIH/Data/\"\n",
        "name_file_to_save = 'NOTES_NURSING_TRAJECTORIES_CSRU_SOCIAL_ONLY.csv'\n",
        "df_notes_icd8xx_tsicu_social['SOCIAL'].to_csv(PATH_TO_SAVE+name_file_to_save,index=False)"
      ],
      "metadata": {
        "id": "GyvO5twh96tE"
      },
      "execution_count": null,
      "outputs": []
    },
    {
      "cell_type": "code",
      "source": [
        "PATH_TO_SAVE = \"/content/drive/MyDrive/NIH/Data/\"\n",
        "name_file_to_save = 'NOTES_NURSING_TRAJECTORIES_TSICU_TEXT_ONLY.csv'\n",
        "#df_notes_icd8xx_tsicu_social['TEXT'].to_csv(PATH_TO_SAVE+name_file_to_save,index=False)"
      ],
      "metadata": {
        "id": "fvcOecC4Syrg"
      },
      "execution_count": null,
      "outputs": []
    },
    {
      "cell_type": "code",
      "source": [
        "PATH_TO_SAVE = \"/content/drive/MyDrive/NIH/Data/\"\n",
        "name_file_to_save = 'NOTES_NURSING_TRAJECTORIES_TSICU_GCS_HADM.csv'\n",
        "#df_notes_icd8xx_tsicu_gcs_scores.to_csv(PATH_TO_SAVE+name_file_to_save,index=False)"
      ],
      "metadata": {
        "id": "598HF4ygze2B"
      },
      "execution_count": null,
      "outputs": []
    },
    {
      "cell_type": "code",
      "source": [
        "df_note_icd8xx_tsicu = df_note_events[df_note_events['SUBJECT_ID'].isin(icd8xx_subjects_ids)]\n",
        "print(f'Number of total notes: {len(df_note_icd8xx_tsicu)}')\n",
        "df_nursing_progress_note_icd8xx_tsicu = df_note_icd8xx_tsicu[df_note_icd8xx_tsicu['DESCRIPTION']=='Nursing Progress Note']\n",
        "print(f'Number of Nursing Progress Notes: {len(df_nursing_progress_note_icd8xx_tsicu)}')\n",
        "df_discharge_note_icd8xx_tsicu = df_note_icd8xx_tsicu[(df_note_icd8xx_tsicu['CATEGORY']=='Discharge summary') ]\n",
        "print(f'Number of Discharge summary: {len(df_discharge_note_icd8xx_tsicu)}')"
      ],
      "metadata": {
        "id": "DwwYQRkRlZtq"
      },
      "execution_count": null,
      "outputs": []
    },
    {
      "cell_type": "code",
      "source": [
        "cgid_icd8xx_tsicu = df_nursing_progress_note_icd8xx_tsicu['CGID'].unique()\n",
        "#print(f'Number of caregivers: {len(cgid_maxicu_tsicu)}')"
      ],
      "metadata": {
        "id": "2bUQdNjco_Ev"
      },
      "execution_count": null,
      "outputs": []
    },
    {
      "cell_type": "code",
      "source": [
        "caregivers = \"CAREGIVERS.csv\"\n",
        "df_caregivers = pd.read_csv(notes_path+caregivers)\n",
        "df_caregivers[df_caregivers['CGID'].isin(cgid_icd8xx_tsicu)].LABEL.value_counts()"
      ],
      "metadata": {
        "id": "nylbIdrdDKTn"
      },
      "execution_count": null,
      "outputs": []
    },
    {
      "cell_type": "code",
      "source": [
        "name_file= \"ADMISSIONS.csv\"\n",
        "df_adm = pd.read_csv(notes_path+name_file)\n",
        "df_adm_icd8xx_tsicu = df_adm[df_adm['SUBJECT_ID'].isin(cgid_icd8xx_tsicu)]\n",
        "df_adm_icd8xx_tsicu"
      ],
      "metadata": {
        "id": "0uSjIRb0Kf7D"
      },
      "execution_count": null,
      "outputs": []
    },
    {
      "cell_type": "markdown",
      "source": [
        "Report"
      ],
      "metadata": {
        "id": "0p7nLpc1Scta"
      }
    },
    {
      "cell_type": "markdown",
      "source": [],
      "metadata": {
        "id": "Rdyd3vHvScfx"
      }
    },
    {
      "cell_type": "code",
      "source": [
        "print(f'Number of Subjects in TSICU: {len(subject_id_tsicu)}')\n",
        "print(f'Number of subjects with a first sequence ICD 9 code [800,900) : {len(icd8xx_subjects_ids)}')\n",
        "print('')\n",
        "print('Subjects Expired (1), Alive (0): ')\n",
        "print(df_patients_icd8xx_tsicu['EXPIRE_FLAG'].value_counts())\n",
        "print('')\n",
        "print('Gender:')\n",
        "print(df_patients_icd8xx_tsicu['GENDER'].value_counts())\n",
        "print('')\n",
        "print(f'Number of total notes: {len(df_note_icd8xx_tsicu)}')\n",
        "print(f'Number of Nursing Progress Notes: {len(df_nursing_progress_note_icd8xx_tsicu)}')\n",
        "print(f'Number of Discharge summary: {len(df_discharge_note_icd8xx_tsicu)}')\n",
        "print(f'Number of caregivers: {len(cgid_icd8xx_tsicu)}')"
      ],
      "metadata": {
        "id": "c4Y-EhXOSb7f"
      },
      "execution_count": null,
      "outputs": []
    },
    {
      "cell_type": "markdown",
      "source": [
        "# END\n"
      ],
      "metadata": {
        "id": "hvh4aVTHpaKw"
      }
    },
    {
      "cell_type": "markdown",
      "source": [
        "## **Data Preprocessing**"
      ],
      "metadata": {
        "id": "qdVDhESt91i2"
      }
    },
    {
      "cell_type": "code",
      "source": [
        "df_note_events.info()"
      ],
      "metadata": {
        "id": "F9Ag0N5BK6KT"
      },
      "execution_count": null,
      "outputs": []
    },
    {
      "cell_type": "markdown",
      "source": [
        "Grab tsicu notes, merge with ward and patients tables"
      ],
      "metadata": {
        "id": "uLpw8TKsChMf"
      }
    },
    {
      "cell_type": "code",
      "source": [
        "# get new type of notes (TSICU)\n",
        "df_notes_TSICU = pd.DataFrame()\n",
        "#df_notes_TSICU = df_notes.merge(df_note_events[['ROW_ID', 'CATEGORY']], on='ROW_ID')\n",
        "df_notes_TSICU = df_note_events.merge(df_caregivers.drop('ROW_ID', axis=1), on='CGID')\n",
        "#df_notes_TSICU = df_notes_TSICU.merge(df_ward.drop('ROW_ID', axis=1), on='SUBJECT_ID')\n",
        "df_notes_TSICU = df_notes_TSICU.merge(df_patients.drop('ROW_ID', axis=1), on='SUBJECT_ID')\n",
        "#df_notes_TSICU = df_notes_TSICU[(df_notes_TSICU['first_careunit'] == 'TSICU') & (df_notes_TSICU['last_careunit'] == 'TSICU')].drop_duplicates()\n",
        "df_notes_TSICU.info()"
      ],
      "metadata": {
        "id": "RfRbbiU85KqG"
      },
      "execution_count": null,
      "outputs": []
    },
    {
      "cell_type": "code",
      "source": [
        "df_notes_TSICU.head(5)"
      ],
      "metadata": {
        "id": "40N9rfNLvz3h"
      },
      "execution_count": null,
      "outputs": []
    },
    {
      "cell_type": "markdown",
      "source": [
        "Join with ICD"
      ],
      "metadata": {
        "id": "bcq_LhnKvl9k"
      }
    },
    {
      "cell_type": "code",
      "source": [
        "icd = \"DIAGNOSES_ICD.csv\"\n",
        "df_icd = pd.read_csv(notes_path+icd)\n",
        "df_icd.columns = df_icd.columns.str.upper()\n",
        "df_icd = df_icd.dropna(subset=['SEQ_NUM'])\n",
        "df_icd['SEQ_NUM'] = df_icd['SEQ_NUM'].astype(int)\n",
        "unique_values = df_icd['SEQ_NUM'].unique()\n",
        "print(\"unique_values: \")\n",
        "print(unique_values)\n",
        "idx = df_icd.groupby(['HADM_ID', 'SUBJECT_ID'])['SEQ_NUM'].idxmin()\n",
        "df_icd = df_icd.loc[idx]\n",
        "df_icd.info()"
      ],
      "metadata": {
        "id": "H5IFwi_7Oe7F"
      },
      "execution_count": null,
      "outputs": []
    },
    {
      "cell_type": "code",
      "source": [
        "df_notes_TSICU = df_notes_TSICU.merge(df_icd[['HADM_ID','ICD9_CODE','SEQ_NUM', 'SUBJECT_ID']], on=['HADM_ID', 'SUBJECT_ID'])\n",
        "df_notes_TSICU.info()"
      ],
      "metadata": {
        "id": "gd1FsvDMvlWL"
      },
      "execution_count": null,
      "outputs": []
    },
    {
      "cell_type": "code",
      "source": [
        "df_notes_TSICU.head(20)"
      ],
      "metadata": {
        "id": "6w5kj2hgHgAY"
      },
      "execution_count": null,
      "outputs": []
    },
    {
      "cell_type": "code",
      "source": [
        "grouping = df_notes_TSICU.groupby(['CGID','SUBJECT_ID']).size()\n",
        "df_notes_TSICU['num_of_notes'] = df_notes_TSICU.set_index(['CGID','SUBJECT_ID']).index.map(grouping)\n",
        "df_notes_TSICU_filtered = df_notes_TSICU[df_notes_TSICU['num_of_notes'] > 1]\n",
        "df_notes_TSICU_filtered.info()"
      ],
      "metadata": {
        "id": "hHCpzCETihOj"
      },
      "execution_count": null,
      "outputs": []
    },
    {
      "cell_type": "code",
      "source": [
        "df_notes_TSICU_filtered.head(10)"
      ],
      "metadata": {
        "id": "eYAfKxm-4vN1"
      },
      "execution_count": null,
      "outputs": []
    },
    {
      "cell_type": "markdown",
      "source": [
        "Filter by number of notes"
      ],
      "metadata": {
        "id": "h3Ax8uzsUjXG"
      }
    },
    {
      "cell_type": "code",
      "source": [
        "gb_notes = df_notes_TSICU_filtered.groupby(['ICD9_CODE'])\n",
        "num_notes = gb_notes['TEXT'].count()\n",
        "\n",
        "print(f'number of notes: min={num_notes.min()}, max={num_notes.max()}, mean={num_notes.mean()},  median={num_notes.median()}')\n",
        "sns.boxplot(x=num_notes)\n",
        "sns.displot(num_notes[((num_notes>2) & (num_notes<100))])"
      ],
      "metadata": {
        "id": "M1zujhFnCzbO"
      },
      "execution_count": null,
      "outputs": []
    },
    {
      "cell_type": "code",
      "source": [
        "df_notes_TSICU_filtered.info()"
      ],
      "metadata": {
        "id": "utacZLLmUfqf"
      },
      "execution_count": null,
      "outputs": []
    },
    {
      "cell_type": "code",
      "source": [
        "icd9_grouping = df_notes_TSICU_filtered.groupby(['ICD9_CODE']).size()\n",
        "df_notes_TSICU_filtered['num_of_conditions'] = df_notes_TSICU_filtered.set_index(['ICD9_CODE']).index.map(icd9_grouping)\n",
        "#df_notes_TSICU_filtered = df_notes_TSICU_filtered[(df_notes_TSICU_filtered['num_of_conditions'] >= 15) & (df_notes_TSICU_filtered['num_of_conditions'] <= 1000)]\n",
        "#df_notes_TSICU_filtered = df_notes_TSICU_filtered[(df_notes_TSICU_filtered['num_of_conditions'] >= 15) & (df_notes_TSICU_filtered['num_of_conditions'] <= 100)]\n",
        "df_notes_TSICU_filtered.info()\n",
        "print(icd9_grouping)"
      ],
      "metadata": {
        "id": "VQtS_ZiRGeEF"
      },
      "execution_count": null,
      "outputs": []
    },
    {
      "cell_type": "code",
      "source": [
        "df_notes_TSICU_dropped_cols = df_notes_TSICU_filtered.drop(['STORETIME','CHARTDATE','CHARTTIME','DOB','DOD','DOD_HOSP','DOD_SSN'], axis=1)\n",
        "df_notes_TSICU_dropped_cols.columns"
      ],
      "metadata": {
        "id": "jfSkON07QFlQ"
      },
      "execution_count": null,
      "outputs": []
    },
    {
      "cell_type": "markdown",
      "source": [
        "select emotional words then filter rows that dont have a minimum number of them"
      ],
      "metadata": {
        "id": "IJasBc1JDJ7G"
      }
    },
    {
      "cell_type": "code",
      "source": [
        "def filter_for_emotional_words(df):\n",
        "  selected_words = ['pain', 'family', 'stable', 'care', 'well', 'social', 'support', 'able', 'decreased', 'warm', 'unable', 'strong', 'intact', 'good', 'times', 'aware', 'eyes', 'tolerated', 'denies', 'tolerating', 'please', 'palpable']\n",
        "  print(\"selected_words list length: \", len(selected_words))\n",
        "  pattern = '|'.join(selected_words)\n",
        "  new_df = df[df['TEXT'].str.contains(pattern, regex=True)].copy()\n",
        "  #filtered_data = df_notes_TSICU[df_notes_TSICU['TEXT'].str.contains(pattern, regex=True)].copy()\n",
        "  new_df['num_search_words'] = new_df['TEXT'].str.count(pattern)\n",
        "  #new_df = new_df[new_df['num_search_words'] >= 0]\n",
        "  new_df.info()\n",
        "  return new_df"
      ],
      "metadata": {
        "id": "io0fnZ6LDJje"
      },
      "execution_count": null,
      "outputs": []
    },
    {
      "cell_type": "code",
      "source": [
        "#filtered_data = filter_for_emotional_words(df_notes_TSICU_dropped_cols)\n",
        "filtered_data = df_notes_TSICU_dropped_cols"
      ],
      "metadata": {
        "id": "lPqYiPgCaw05"
      },
      "execution_count": null,
      "outputs": []
    },
    {
      "cell_type": "markdown",
      "source": [
        "Random selection from sample set"
      ],
      "metadata": {
        "id": "9zgLOVKMmC1c"
      }
    },
    {
      "cell_type": "code",
      "source": [
        "#random_filtered_data = filtered_data.sample(n=50000, random_state=42)\n",
        "random_filtered_data = filtered_data"
      ],
      "metadata": {
        "id": "A2g7uF3_mCja"
      },
      "execution_count": null,
      "outputs": []
    },
    {
      "cell_type": "markdown",
      "source": [
        "Remove similar sentences"
      ],
      "metadata": {
        "id": "T4IGl2_LhAjw"
      }
    },
    {
      "cell_type": "code",
      "source": [
        "from sklearn.feature_extraction.text import TfidfVectorizer\n",
        "from sklearn.metrics.pairwise import cosine_similarity\n",
        "\n",
        "def remove_similar_notes(df):\n",
        "  sentences = df['TEXT'].tolist()\n",
        "  vectorizer = TfidfVectorizer()\n",
        "  tfidf_matrix = vectorizer.fit_transform(sentences)\n",
        "  similarity_threshold = 0.8\n",
        "\n",
        "  similar_indices = []\n",
        "  for i, sentence in enumerate(sentences):  # needs to be max 1000 entries\n",
        "    if any(cosine_similarity(tfidf_matrix[i], tfidf_matrix[j])[0][0] > similarity_threshold for j in range(i)):  # very slow ~10 minutes for 1000 entries, exponential complexity (more than 5 hours if 6000 entries)\n",
        "      similar_indices.append(i)\n",
        "  index_labels = df.index[similar_indices]\n",
        "  df.drop(index_labels, inplace=True)\n",
        "  return df"
      ],
      "metadata": {
        "id": "y_7e8eEAg-8E"
      },
      "execution_count": null,
      "outputs": []
    },
    {
      "cell_type": "markdown",
      "source": [
        "Inverse Document Frequency"
      ],
      "metadata": {
        "id": "kSrdXBqOuXa0"
      }
    },
    {
      "cell_type": "code",
      "source": [
        "vectorizer = TfidfVectorizer(stop_words='english')\n",
        "tfidf_matrix = vectorizer.fit_transform(df_notes_icd8xx_tsicu_gcs_scores['TEXT'])\n",
        "\n",
        "feature_names = vectorizer.get_feature_names_out()\n",
        "tfidf_scores = tfidf_matrix.sum(axis=0).A1\n",
        "word_score_dict = dict(zip(feature_names, tfidf_scores))\n",
        "\n",
        "sorted_words = sorted(word_score_dict.items(), key=lambda x: x[1], reverse=True)\n",
        "\n",
        "top_words = sorted_words[:50]"
      ],
      "metadata": {
        "id": "mLycA6V9u2Bk"
      },
      "execution_count": null,
      "outputs": []
    },
    {
      "cell_type": "code",
      "source": [
        "print(\"Rank\\tWord\\t\\t\\tCount\")\n",
        "for rank, (word, score) in enumerate(top_words, start=1):\n",
        "  print(f\"{rank}\\t{word.ljust(20)}\\t{score}\")"
      ],
      "metadata": {
        "id": "CFYY-4Q9yltA"
      },
      "execution_count": null,
      "outputs": []
    },
    {
      "cell_type": "code",
      "source": [
        "#random_filtered_data = remove_similar_notes(random_filtered_data)\n",
        "random_filtered_data.info()"
      ],
      "metadata": {
        "id": "5hR3SznnlFAw"
      },
      "execution_count": null,
      "outputs": []
    },
    {
      "cell_type": "markdown",
      "source": [
        "Find matching conditions for both expired flags"
      ],
      "metadata": {
        "id": "hKqh8rDTZATB"
      }
    },
    {
      "cell_type": "code",
      "source": [
        "def split_set_half_expired(df):\n",
        "  df['EXPIRE_FLAG'] = df['EXPIRE_FLAG'].astype(int)\n",
        "  group_conditions = df.groupby(['ICD9_CODE', 'EXPIRE_FLAG'])\n",
        "  def balance_conditions(g1,g2,size):\n",
        "    size = min(len(g1), len(g2), size)\n",
        "    return g1.sample(n=size, random_state=1), g2.sample(n=size, random_state=1)\n",
        "\n",
        "  rows = []\n",
        "  size = 50000\n",
        "\n",
        "  for drg_desc, group in group_conditions:\n",
        "    icd9, expire = drg_desc\n",
        "    if (icd9, 1-expire) in group_conditions.groups:\n",
        "      paired_group = group_conditions.get_group((icd9, 1-expire))\n",
        "      group_sample1, group_sample2 = balance_conditions(group, paired_group, size)\n",
        "      rows.append(group_sample1)\n",
        "      rows.append(group_sample2)\n",
        "      size -= len(group_sample1)\n",
        "    if size <= 0:\n",
        "      break\n",
        "\n",
        "  new_df = pd.concat(rows)\n",
        "  new_df = new_df.drop_duplicates()\n",
        "\n",
        "  new_df.info()\n",
        "  #print(new_df[['ICD9_CODE', 'EXPIRE_FLAG']])\n",
        "  return new_df\n",
        "\n",
        "  #valid_groups = [key for key, group in group_conditions.groups.keys() if (key[0], key[1], 1 - key[2]) in group_conditions.groups]\n",
        "  #for key in valid_groups:\n",
        "    #pass"
      ],
      "metadata": {
        "id": "CTtgtgvONovy"
      },
      "execution_count": null,
      "outputs": []
    },
    {
      "cell_type": "code",
      "source": [
        "#balanced_data = split_set_half_expired(random_filtered_data)\n",
        "balanced_data = random_filtered_data"
      ],
      "metadata": {
        "id": "JJFzempDgOiy"
      },
      "execution_count": null,
      "outputs": []
    },
    {
      "cell_type": "markdown",
      "source": [
        "Display notes"
      ],
      "metadata": {
        "id": "lnai1UuJCedn"
      }
    },
    {
      "cell_type": "code",
      "source": [
        "pd.set_option('display.max_colwidth', 250)\n",
        "pd.set_option('display.max_rows', None)\n",
        "#print(balanced_data['TEXT'].head(200))\n",
        "pd.reset_option('display.max_colwidth')\n",
        "pd.reset_option('display.max_rows')"
      ],
      "metadata": {
        "id": "dZPZ-AGx-9NA"
      },
      "execution_count": null,
      "outputs": []
    },
    {
      "cell_type": "code",
      "source": [
        "print(balanced_data.columns)\n",
        "print('\\n'+\"Number of rows: \"+str(len(balanced_data)))"
      ],
      "metadata": {
        "id": "cemrUSU8wjMD"
      },
      "execution_count": null,
      "outputs": []
    },
    {
      "cell_type": "code",
      "source": [
        "balanced_data.info()"
      ],
      "metadata": {
        "id": "msI729kSJWJY"
      },
      "execution_count": null,
      "outputs": []
    },
    {
      "cell_type": "code",
      "source": [
        "no_duplicates = balanced_data.sort_values('ROW_ID').drop_duplicates(subset=['CGID', 'SUBJECT_ID'])  \n",
        "no_duplicates = no_duplicates.drop(['TEXT'], axis=1)  # removes text notes\n",
        "no_duplicates.info()"
      ],
      "metadata": {
        "id": "Bze40GhzJai3"
      },
      "execution_count": null,
      "outputs": []
    },
    {
      "cell_type": "markdown",
      "source": [
        "Save to CSV"
      ],
      "metadata": {
        "id": "6hGujs3Fn8Mb"
      }
    },
    {
      "cell_type": "code",
      "source": [
        "# path and name of the cvs file \n",
        "PATH_TO_SAVE = \"/content/drive/MyDrive/NIH/Data/\"\n",
        "name_file_to_save = 'NOTES_NURSING_TRAJECTORIES_TSICU_COUNTS.csv'\n",
        "#no_duplicates.to_csv(PATH_TO_SAVE+name_file_to_save,index=False)"
      ],
      "metadata": {
        "id": "metEeEnan7n0"
      },
      "execution_count": null,
      "outputs": []
    },
    {
      "cell_type": "markdown",
      "source": [
        "Gather- top ICD9, # of: patients, deceased, CGs, notes"
      ],
      "metadata": {
        "id": "kGId_c993xlm"
      }
    },
    {
      "cell_type": "code",
      "source": [
        "icd9_max_val = balanced_data['num_of_conditions'].max()\n",
        "icd9_max_df = balanced_data[balanced_data['num_of_conditions'] == icd9_max_val]\n",
        "\n",
        "print(\"Max ICD9 code: \" + icd9_max_df['ICD9_CODE'].unique())\n",
        "print(\"Number of patients: \" + str(icd9_max_df['SUBJECT_ID'].nunique()))\n",
        "print(\"Number of deceased patients: \" + str((icd9_max_df.drop_duplicates(subset='SUBJECT_ID')['EXPIRE_FLAG'] == 1).sum()))\n",
        "print(\"Number of caregivers: \" + str(icd9_max_df['CGID'].nunique()))\n",
        "unique_cgid = icd9_max_df['CGID'].unique()\n",
        "unique_cgid_df = icd9_max_df[icd9_max_df['CGID'].isin(unique_cgid)].drop_duplicates(subset=['CGID', 'LABEL'])\n",
        "unique_cgid_df['LABEL'] = unique_cgid_df['LABEL'].fillna('UNKNOWN')\n",
        "unique_cgid_df['LABEL'] = unique_cgid_df['LABEL'].str.upper()\n",
        "print(\"Caregiver labels: \" + '\\n' + str(unique_cgid_df['LABEL'].value_counts()))\n",
        "print(\"Number of caregivers: \" + str(icd9_max_df['CGID'].nunique()))\n",
        "print(\"Number of notes: \" + str(len(icd9_max_df)))"
      ],
      "metadata": {
        "id": "B5a2aeHR3xHM"
      },
      "execution_count": null,
      "outputs": []
    },
    {
      "cell_type": "markdown",
      "source": [
        "deceased patients for unfiltered set"
      ],
      "metadata": {
        "id": "uC6QUHDWvrvR"
      }
    },
    {
      "cell_type": "code",
      "source": [
        "len(df_notes_TSICU['SUBJECT_ID'].unique())\n",
        "deceased_TSICU = df_notes_TSICU[df_notes_TSICU['EXPIRE_FLAG'] == 1]\n",
        "deceased_TSICU.info()"
      ],
      "metadata": {
        "id": "4quXDt_aieZv"
      },
      "execution_count": null,
      "outputs": []
    },
    {
      "cell_type": "code",
      "source": [
        "sns.set()\n",
        "\n",
        "gb_notes = deceased_TSICU.groupby(['CGID','SUBJECT_ID'])\n",
        "num_notes = gb_notes['TEXT'].count()\n",
        "print(num_notes)\n",
        "print(f'number of notes: min={num_notes.min()}, max={num_notes.max()}, mean={num_notes.mean()},  median={num_notes.median()}')\n",
        "sns.boxplot(x=num_notes)\n",
        "sns.displot(num_notes[((num_notes>2) & (num_notes<15))])"
      ],
      "metadata": {
        "id": "RtIaEm23Ysfg"
      },
      "execution_count": null,
      "outputs": []
    },
    {
      "cell_type": "markdown",
      "source": [
        "Seperate deceased and living"
      ],
      "metadata": {
        "id": "9tJkPVZggBv_"
      }
    },
    {
      "cell_type": "code",
      "source": [
        "deceased_patients = balanced_data[balanced_data['EXPIRE_FLAG'] == 1]\n",
        "deceased_patients.info()"
      ],
      "metadata": {
        "id": "4cfpXZF4fnUG"
      },
      "execution_count": null,
      "outputs": []
    },
    {
      "cell_type": "code",
      "source": [
        "living_patients = balanced_data[balanced_data['EXPIRE_FLAG'] == 0]\n",
        "living_patients.info()"
      ],
      "metadata": {
        "id": "BfFfnIingFO3"
      },
      "execution_count": null,
      "outputs": []
    },
    {
      "cell_type": "markdown",
      "source": [
        "Tokenized words"
      ],
      "metadata": {
        "id": "UU8xrEkoGzNi"
      }
    },
    {
      "cell_type": "code",
      "source": [
        "#text = df_notes_TSICU['TEXT'].str.cat(sep=' ')\n",
        "#words = nltk.word_tokenize(text)  # very slow"
      ],
      "metadata": {
        "id": "YlONNwDeGy9a"
      },
      "execution_count": null,
      "outputs": []
    },
    {
      "cell_type": "markdown",
      "source": [
        "Count words in notes"
      ],
      "metadata": {
        "id": "gyFTOEALCbxX"
      }
    },
    {
      "cell_type": "code",
      "source": [
        "#stopwords = nltk.corpus.stopwords.words('english')\n",
        "#words = [word.lower() for word in words if word.lower() not in stopwords and re.match(r'\\b\\w+\\b', word)]  # also slow but only kinda slow\n",
        "#word_counts = Counter(words)\n",
        "#most_common_words = word_counts.most_common(300)"
      ],
      "metadata": {
        "id": "jtTWXQjy-_Fw"
      },
      "execution_count": null,
      "outputs": []
    },
    {
      "cell_type": "code",
      "source": [
        "#print(\"Rank\\tWord\\t\\t\\tCount\")\n",
        "#for rank, word_count in enumerate(most_common_words, start=1):\n",
        "  #word, count = word_count\n",
        "  #print(f\"{rank}\\t{word.ljust(20)}\\t{count}\")"
      ],
      "metadata": {
        "id": "vtPdb3_iB5T0"
      },
      "execution_count": null,
      "outputs": []
    },
    {
      "cell_type": "markdown",
      "source": [
        "Emotional words"
      ],
      "metadata": {
        "id": "2vLviAGyJmdQ"
      }
    },
    {
      "cell_type": "code",
      "source": [
        "#emotional_words = []\n",
        "#for word_count in most_common_words:\n",
        "  #word = word_count[0]\n",
        "  #synsets = wn.synsets(word)\n",
        "  #if synsets:\n",
        "    #senti_synset = swn.senti_synset(synsets[0].name())\n",
        "    #if senti_synset.pos_score() > 0.45 or senti_synset.neg_score() > 0.45:\n",
        "      #emotional_words.append(word)\n",
        "\n",
        "#emotional_words"
      ],
      "metadata": {
        "id": "4ATr_HSAJlpK"
      },
      "execution_count": null,
      "outputs": []
    },
    {
      "cell_type": "code",
      "source": [
        "#from textblob import TextBlob\n",
        "#emotional_words = []\n",
        "#for word_count in most_common_words:\n",
        "  #word = word_count[0]\n",
        "  #tb = TextBlob(word)\n",
        "  #sentiment = tb.sentiment.polarity\n",
        "  #if abs(sentiment) > 0.35:\n",
        "    #emotional_words.append(word)\n",
        "\n",
        "#emotional_words"
      ],
      "metadata": {
        "id": "ZFtCDPOyRPcq"
      },
      "execution_count": null,
      "outputs": []
    }
  ]
}