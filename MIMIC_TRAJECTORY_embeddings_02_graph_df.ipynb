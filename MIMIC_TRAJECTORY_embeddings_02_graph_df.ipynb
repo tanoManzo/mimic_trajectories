{
  "nbformat": 4,
  "nbformat_minor": 0,
  "metadata": {
    "colab": {
      "provenance": [],
      "include_colab_link": true
    },
    "kernelspec": {
      "name": "python3",
      "display_name": "Python 3"
    },
    "language_info": {
      "name": "python"
    }
  },
  "cells": [
    {
      "cell_type": "markdown",
      "metadata": {
        "id": "view-in-github",
        "colab_type": "text"
      },
      "source": [
        "<a href=\"https://colab.research.google.com/github/tanoManzo/mimic_trajectories/blob/dev/MIMIC_TRAJECTORY_embeddings_02_graph_df.ipynb\" target=\"_parent\"><img src=\"https://colab.research.google.com/assets/colab-badge.svg\" alt=\"Open In Colab\"/></a>"
      ]
    },
    {
      "cell_type": "markdown",
      "source": [
        "# Data Collection, Embeddings and Attitude"
      ],
      "metadata": {
        "id": "5CSBbeSkyRmq"
      }
    },
    {
      "cell_type": "code",
      "source": [
        "! pip install transformers -q"
      ],
      "metadata": {
        "id": "mcvHX_-AewgN"
      },
      "execution_count": 19,
      "outputs": []
    },
    {
      "cell_type": "code",
      "execution_count": 20,
      "metadata": {
        "id": "35BpcyS4eWHw"
      },
      "outputs": [],
      "source": [
        "import numpy as np\n",
        "import pandas as pd\n",
        "import torch \n",
        "import torch.nn.functional as F\n",
        "from transformers import AutoTokenizer, AutoModel\n",
        "from transformers import AutoModelForSequenceClassification\n",
        "from sklearn.metrics.pairwise import cosine_similarity"
      ]
    },
    {
      "cell_type": "markdown",
      "source": [
        "load nursing notes subject-caregiver-chartdate"
      ],
      "metadata": {
        "id": "2YFjrsu1tkB2"
      }
    },
    {
      "cell_type": "code",
      "source": [],
      "metadata": {
        "colab": {
          "base_uri": "https://localhost:8080/"
        },
        "id": "sSNmSwI5Ix2P",
        "outputId": "6d43f26d-d602-4bb5-fcb7-e380d2682fc1"
      },
      "execution_count": 22,
      "outputs": [
        {
          "output_type": "stream",
          "name": "stdout",
          "text": [
            "<class 'pandas.core.frame.DataFrame'>\n",
            "RangeIndex: 531675 entries, 0 to 531674\n",
            "Data columns (total 5 columns):\n",
            " #   Column      Non-Null Count   Dtype \n",
            "---  ------      --------------   ----- \n",
            " 0   ROW_ID      531675 non-null  int64 \n",
            " 1   SUBJECT_ID  531675 non-null  int64 \n",
            " 2   CGID        531675 non-null  int64 \n",
            " 3   CHARTDATE   531675 non-null  object\n",
            " 4   TEXT        531675 non-null  object\n",
            "dtypes: int64(3), object(2)\n",
            "memory usage: 20.3+ MB\n"
          ]
        }
      ]
    },
    {
      "cell_type": "markdown",
      "source": [
        "## **Data Preprocessing**"
      ],
      "metadata": {
        "id": "qdVDhESt91i2"
      }
    },
    {
      "cell_type": "markdown",
      "source": [
        "extract nicu notes"
      ],
      "metadata": {
        "id": "WPkdlidbtAAd"
      }
    },
    {
      "cell_type": "code",
      "source": [
        "def nicu_condition(x):\n",
        "  words = ['nicu', 'neonatal']\n",
        "  return any(word in x.lower() for word in words)\n",
        "\n",
        "# get list of subject in nicu    \n",
        "nicu_subject_ids = df_notes[df_notes['TEXT'].apply(lambda x: nicu_condition(x))]['SUBJECT_ID'].unique()\n",
        "\n",
        "# get nicu notes\n",
        "df_notes_nicu = df_notes[df_notes['SUBJECT_ID'].isin(nicu_subject_ids)]\n",
        "df_notes_nicu"
      ],
      "metadata": {
        "colab": {
          "base_uri": "https://localhost:8080/",
          "height": 423
        },
        "id": "PNKC9WAupA3x",
        "outputId": "b84ef3c5-0959-474b-8a5b-013a1a6dc07f"
      },
      "execution_count": 23,
      "outputs": [
        {
          "output_type": "execute_result",
          "data": {
            "text/plain": [
              "         ROW_ID  SUBJECT_ID   CGID   CHARTDATE  \\\n",
              "0       2019399       25397  14720  2187-02-16   \n",
              "5       1792738        7984  14489  2153-08-30   \n",
              "16      2019351       25397  14720  2187-02-08   \n",
              "46      2080962       32392  17603  2199-12-05   \n",
              "60      1740211        4578  14720  2152-08-09   \n",
              "...         ...         ...    ...         ...   \n",
              "531667  1900603       15772  16864  2103-07-04   \n",
              "531668  2034585       26106  19530  2191-05-13   \n",
              "531670  1974281       21464  20104  2189-03-18   \n",
              "531672  1735597        4205  16022  2163-06-11   \n",
              "531674  1916175       16803  14989  2150-07-01   \n",
              "\n",
              "                                                     TEXT  \n",
              "0       Social Work:\\nHad provider meeting this aftern...  \n",
              "5       NICU NURSING FAMILY MEETING AND PARENTING NOTE...  \n",
              "16      Social Work:\\n\\n [**First Name8 (NamePattern2)...  \n",
              "46      NPN DAYS\\nRECEIVED [**Doctor Last Name **] AT ...  \n",
              "60      Social Work:\\nFamily meeting held with mom, Dr...  \n",
              "...                                                   ...  \n",
              "531667  NPN 7a7p cont\\nAgree with the above not writte...  \n",
              "531668  Social Work:\\nPlease refer to note in baby a's...  \n",
              "531670  Procedure Note: UAC removal.\\n\\nUAC removed in...  \n",
              "531672  Addendum\\nAgree with above note and assessment...  \n",
              "531674  Agree with co workers note above, please read ...  \n",
              "\n",
              "[233955 rows x 5 columns]"
            ],
            "text/html": [
              "\n",
              "  <div id=\"df-a50bf7be-2203-4a95-8873-ca21fc28d2c8\">\n",
              "    <div class=\"colab-df-container\">\n",
              "      <div>\n",
              "<style scoped>\n",
              "    .dataframe tbody tr th:only-of-type {\n",
              "        vertical-align: middle;\n",
              "    }\n",
              "\n",
              "    .dataframe tbody tr th {\n",
              "        vertical-align: top;\n",
              "    }\n",
              "\n",
              "    .dataframe thead th {\n",
              "        text-align: right;\n",
              "    }\n",
              "</style>\n",
              "<table border=\"1\" class=\"dataframe\">\n",
              "  <thead>\n",
              "    <tr style=\"text-align: right;\">\n",
              "      <th></th>\n",
              "      <th>ROW_ID</th>\n",
              "      <th>SUBJECT_ID</th>\n",
              "      <th>CGID</th>\n",
              "      <th>CHARTDATE</th>\n",
              "      <th>TEXT</th>\n",
              "    </tr>\n",
              "  </thead>\n",
              "  <tbody>\n",
              "    <tr>\n",
              "      <th>0</th>\n",
              "      <td>2019399</td>\n",
              "      <td>25397</td>\n",
              "      <td>14720</td>\n",
              "      <td>2187-02-16</td>\n",
              "      <td>Social Work:\\nHad provider meeting this aftern...</td>\n",
              "    </tr>\n",
              "    <tr>\n",
              "      <th>5</th>\n",
              "      <td>1792738</td>\n",
              "      <td>7984</td>\n",
              "      <td>14489</td>\n",
              "      <td>2153-08-30</td>\n",
              "      <td>NICU NURSING FAMILY MEETING AND PARENTING NOTE...</td>\n",
              "    </tr>\n",
              "    <tr>\n",
              "      <th>16</th>\n",
              "      <td>2019351</td>\n",
              "      <td>25397</td>\n",
              "      <td>14720</td>\n",
              "      <td>2187-02-08</td>\n",
              "      <td>Social Work:\\n\\n [**First Name8 (NamePattern2)...</td>\n",
              "    </tr>\n",
              "    <tr>\n",
              "      <th>46</th>\n",
              "      <td>2080962</td>\n",
              "      <td>32392</td>\n",
              "      <td>17603</td>\n",
              "      <td>2199-12-05</td>\n",
              "      <td>NPN DAYS\\nRECEIVED [**Doctor Last Name **] AT ...</td>\n",
              "    </tr>\n",
              "    <tr>\n",
              "      <th>60</th>\n",
              "      <td>1740211</td>\n",
              "      <td>4578</td>\n",
              "      <td>14720</td>\n",
              "      <td>2152-08-09</td>\n",
              "      <td>Social Work:\\nFamily meeting held with mom, Dr...</td>\n",
              "    </tr>\n",
              "    <tr>\n",
              "      <th>...</th>\n",
              "      <td>...</td>\n",
              "      <td>...</td>\n",
              "      <td>...</td>\n",
              "      <td>...</td>\n",
              "      <td>...</td>\n",
              "    </tr>\n",
              "    <tr>\n",
              "      <th>531667</th>\n",
              "      <td>1900603</td>\n",
              "      <td>15772</td>\n",
              "      <td>16864</td>\n",
              "      <td>2103-07-04</td>\n",
              "      <td>NPN 7a7p cont\\nAgree with the above not writte...</td>\n",
              "    </tr>\n",
              "    <tr>\n",
              "      <th>531668</th>\n",
              "      <td>2034585</td>\n",
              "      <td>26106</td>\n",
              "      <td>19530</td>\n",
              "      <td>2191-05-13</td>\n",
              "      <td>Social Work:\\nPlease refer to note in baby a's...</td>\n",
              "    </tr>\n",
              "    <tr>\n",
              "      <th>531670</th>\n",
              "      <td>1974281</td>\n",
              "      <td>21464</td>\n",
              "      <td>20104</td>\n",
              "      <td>2189-03-18</td>\n",
              "      <td>Procedure Note: UAC removal.\\n\\nUAC removed in...</td>\n",
              "    </tr>\n",
              "    <tr>\n",
              "      <th>531672</th>\n",
              "      <td>1735597</td>\n",
              "      <td>4205</td>\n",
              "      <td>16022</td>\n",
              "      <td>2163-06-11</td>\n",
              "      <td>Addendum\\nAgree with above note and assessment...</td>\n",
              "    </tr>\n",
              "    <tr>\n",
              "      <th>531674</th>\n",
              "      <td>1916175</td>\n",
              "      <td>16803</td>\n",
              "      <td>14989</td>\n",
              "      <td>2150-07-01</td>\n",
              "      <td>Agree with co workers note above, please read ...</td>\n",
              "    </tr>\n",
              "  </tbody>\n",
              "</table>\n",
              "<p>233955 rows × 5 columns</p>\n",
              "</div>\n",
              "      <button class=\"colab-df-convert\" onclick=\"convertToInteractive('df-a50bf7be-2203-4a95-8873-ca21fc28d2c8')\"\n",
              "              title=\"Convert this dataframe to an interactive table.\"\n",
              "              style=\"display:none;\">\n",
              "        \n",
              "  <svg xmlns=\"http://www.w3.org/2000/svg\" height=\"24px\"viewBox=\"0 0 24 24\"\n",
              "       width=\"24px\">\n",
              "    <path d=\"M0 0h24v24H0V0z\" fill=\"none\"/>\n",
              "    <path d=\"M18.56 5.44l.94 2.06.94-2.06 2.06-.94-2.06-.94-.94-2.06-.94 2.06-2.06.94zm-11 1L8.5 8.5l.94-2.06 2.06-.94-2.06-.94L8.5 2.5l-.94 2.06-2.06.94zm10 10l.94 2.06.94-2.06 2.06-.94-2.06-.94-.94-2.06-.94 2.06-2.06.94z\"/><path d=\"M17.41 7.96l-1.37-1.37c-.4-.4-.92-.59-1.43-.59-.52 0-1.04.2-1.43.59L10.3 9.45l-7.72 7.72c-.78.78-.78 2.05 0 2.83L4 21.41c.39.39.9.59 1.41.59.51 0 1.02-.2 1.41-.59l7.78-7.78 2.81-2.81c.8-.78.8-2.07 0-2.86zM5.41 20L4 18.59l7.72-7.72 1.47 1.35L5.41 20z\"/>\n",
              "  </svg>\n",
              "      </button>\n",
              "      \n",
              "  <style>\n",
              "    .colab-df-container {\n",
              "      display:flex;\n",
              "      flex-wrap:wrap;\n",
              "      gap: 12px;\n",
              "    }\n",
              "\n",
              "    .colab-df-convert {\n",
              "      background-color: #E8F0FE;\n",
              "      border: none;\n",
              "      border-radius: 50%;\n",
              "      cursor: pointer;\n",
              "      display: none;\n",
              "      fill: #1967D2;\n",
              "      height: 32px;\n",
              "      padding: 0 0 0 0;\n",
              "      width: 32px;\n",
              "    }\n",
              "\n",
              "    .colab-df-convert:hover {\n",
              "      background-color: #E2EBFA;\n",
              "      box-shadow: 0px 1px 2px rgba(60, 64, 67, 0.3), 0px 1px 3px 1px rgba(60, 64, 67, 0.15);\n",
              "      fill: #174EA6;\n",
              "    }\n",
              "\n",
              "    [theme=dark] .colab-df-convert {\n",
              "      background-color: #3B4455;\n",
              "      fill: #D2E3FC;\n",
              "    }\n",
              "\n",
              "    [theme=dark] .colab-df-convert:hover {\n",
              "      background-color: #434B5C;\n",
              "      box-shadow: 0px 1px 3px 1px rgba(0, 0, 0, 0.15);\n",
              "      filter: drop-shadow(0px 1px 2px rgba(0, 0, 0, 0.3));\n",
              "      fill: #FFFFFF;\n",
              "    }\n",
              "  </style>\n",
              "\n",
              "      <script>\n",
              "        const buttonEl =\n",
              "          document.querySelector('#df-a50bf7be-2203-4a95-8873-ca21fc28d2c8 button.colab-df-convert');\n",
              "        buttonEl.style.display =\n",
              "          google.colab.kernel.accessAllowed ? 'block' : 'none';\n",
              "\n",
              "        async function convertToInteractive(key) {\n",
              "          const element = document.querySelector('#df-a50bf7be-2203-4a95-8873-ca21fc28d2c8');\n",
              "          const dataTable =\n",
              "            await google.colab.kernel.invokeFunction('convertToInteractive',\n",
              "                                                     [key], {});\n",
              "          if (!dataTable) return;\n",
              "\n",
              "          const docLinkHtml = 'Like what you see? Visit the ' +\n",
              "            '<a target=\"_blank\" href=https://colab.research.google.com/notebooks/data_table.ipynb>data table notebook</a>'\n",
              "            + ' to learn more about interactive tables.';\n",
              "          element.innerHTML = '';\n",
              "          dataTable['output_type'] = 'display_data';\n",
              "          await google.colab.output.renderOutput(dataTable, element);\n",
              "          const docLink = document.createElement('div');\n",
              "          docLink.innerHTML = docLinkHtml;\n",
              "          element.appendChild(docLink);\n",
              "        }\n",
              "      </script>\n",
              "    </div>\n",
              "  </div>\n",
              "  "
            ]
          },
          "metadata": {},
          "execution_count": 23
        }
      ]
    },
    {
      "cell_type": "markdown",
      "source": [
        "## Data exploration "
      ],
      "metadata": {
        "id": "TGpZTurgtr04"
      }
    },
    {
      "cell_type": "markdown",
      "source": [
        "check number of notes per patient/subject"
      ],
      "metadata": {
        "id": "zqNDhb8WKIXn"
      }
    },
    {
      "cell_type": "code",
      "source": [
        "import seaborn as sns\n",
        "sns.set()\n",
        "\n",
        "\n",
        "gb_notes = df_notes_nicu.groupby(['CGID','SUBJECT_ID'])\n",
        "num_notes = gb_notes['TEXT'].count()\n",
        "\n",
        "print(f'number of notes: min={num_notes.min()}, max={num_notes.max()}, mean={num_notes.mean()},  median={num_notes.median()}')\n",
        "sns.boxplot(x=num_notes)"
      ],
      "metadata": {
        "colab": {
          "base_uri": "https://localhost:8080/",
          "height": 493
        },
        "id": "S8E5fCVWtzkz",
        "outputId": "7a200b96-02e3-499e-8eab-123a56af76cb"
      },
      "execution_count": 24,
      "outputs": [
        {
          "output_type": "stream",
          "name": "stdout",
          "text": [
            "number of notes: min=1, max=67, mean=2.425686113904758,  median=1.0\n"
          ]
        },
        {
          "output_type": "execute_result",
          "data": {
            "text/plain": [
              "<Axes: xlabel='TEXT'>"
            ]
          },
          "metadata": {},
          "execution_count": 24
        },
        {
          "output_type": "display_data",
          "data": {
            "text/plain": [
              "<Figure size 640x480 with 1 Axes>"
            ],
            "image/png": "[encoded data removed]"
          },
          "metadata": {}
        }
      ]
    },
    {
      "cell_type": "markdown",
      "source": [
        "check number of caregiver/subject that have between 4 and 15 notes"
      ],
      "metadata": {
        "id": "xML9IkR0KMAK"
      }
    },
    {
      "cell_type": "code",
      "source": [
        "sns.displot(num_notes[((num_notes>2) & (num_notes<15))])"
      ],
      "metadata": {
        "colab": {
          "base_uri": "https://localhost:8080/",
          "height": 518
        },
        "id": "2DRzgXE9zyNg",
        "outputId": "5db5b7d4-fa54-4c63-87cb-11ead88c4ee0"
      },
      "execution_count": 25,
      "outputs": [
        {
          "output_type": "execute_result",
          "data": {
            "text/plain": [
              "<seaborn.axisgrid.FacetGrid at 0x7fe7be9dc6a0>"
            ]
          },
          "metadata": {},
          "execution_count": 25
        },
        {
          "output_type": "display_data",
          "data": {
            "text/plain": [
              "<Figure size 500x500 with 1 Axes>"
            ],
            "image/png": "[encoded data removed]"
          },
          "metadata": {}
        }
      ]
    },
    {
      "cell_type": "markdown",
      "source": [
        "## Embedding and Attitude"
      ],
      "metadata": {
        "id": "U7htBIVewxsv"
      }
    },
    {
      "cell_type": "markdown",
      "source": [
        "### Input data"
      ],
      "metadata": {
        "id": "jiE03maXRL9h"
      }
    },
    {
      "cell_type": "code",
      "source": [
        "cg_subjects_dict = {}\n",
        "caregivers_ids = df_notes_nicu['CGID'].unique()\n",
        "\n",
        "for cg_id in caregivers_ids:\n",
        "  cg_subjects_dict[cg_id] = df_notes_nicu[df_notes_nicu['CGID']==cg_id]['SUBJECT_ID'].unique().tolist()"
      ],
      "metadata": {
        "id": "zM5hKfRJxGci"
      },
      "execution_count": 26,
      "outputs": []
    },
    {
      "cell_type": "code",
      "source": [
        "# loop through len(ids)\n",
        "def create_sentences(cgid=14098, subid=13155):\n",
        "  df_notes_nicu_selected = df_notes_nicu[(df_notes_nicu['CGID'] == cgid) & (df_notes_nicu['SUBJECT_ID'] == subid)].sort_values(by=['CHARTDATE'])\n",
        "  sentences = df_notes_nicu_selected['TEXT'].tolist()\n",
        "  return df_notes_nicu_selected, sentences\n",
        "\n",
        "df_notes_nicu_selected, sentences = create_sentences()"
      ],
      "metadata": {
        "id": "COE0AnxbRbCb"
      },
      "execution_count": 27,
      "outputs": []
    },
    {
      "cell_type": "code",
      "source": [
        "df_notes_nicu_selected"
      ],
      "metadata": {
        "id": "jF4dSd6RsvWv",
        "colab": {
          "base_uri": "https://localhost:8080/",
          "height": 112
        },
        "outputId": "b7b4f5c1-89b2-47aa-e837-32ce45e491a7"
      },
      "execution_count": 28,
      "outputs": [
        {
          "output_type": "execute_result",
          "data": {
            "text/plain": [
              "         ROW_ID  SUBJECT_ID   CGID   CHARTDATE  \\\n",
              "217423  1865577       13155  14098  2154-04-11   \n",
              "49919   1865581       13155  14098  2154-04-12   \n",
              "\n",
              "                                                     TEXT  \n",
              "217423  0700-1900 NPN\\n\\n\\nFEN: Ad lib with a min of 1...  \n",
              "49919   NPN Discharge Note\\n\\n\\nRESP/CV: Infant remain...  "
            ],
            "text/html": [
              "\n",
              "  <div id=\"df-122b5052-669f-4c68-9ae5-65c93c4f1dd7\">\n",
              "    <div class=\"colab-df-container\">\n",
              "      <div>\n",
              "<style scoped>\n",
              "    .dataframe tbody tr th:only-of-type {\n",
              "        vertical-align: middle;\n",
              "    }\n",
              "\n",
              "    .dataframe tbody tr th {\n",
              "        vertical-align: top;\n",
              "    }\n",
              "\n",
              "    .dataframe thead th {\n",
              "        text-align: right;\n",
              "    }\n",
              "</style>\n",
              "<table border=\"1\" class=\"dataframe\">\n",
              "  <thead>\n",
              "    <tr style=\"text-align: right;\">\n",
              "      <th></th>\n",
              "      <th>ROW_ID</th>\n",
              "      <th>SUBJECT_ID</th>\n",
              "      <th>CGID</th>\n",
              "      <th>CHARTDATE</th>\n",
              "      <th>TEXT</th>\n",
              "    </tr>\n",
              "  </thead>\n",
              "  <tbody>\n",
              "    <tr>\n",
              "      <th>217423</th>\n",
              "      <td>1865577</td>\n",
              "      <td>13155</td>\n",
              "      <td>14098</td>\n",
              "      <td>2154-04-11</td>\n",
              "      <td>0700-1900 NPN\\n\\n\\nFEN: Ad lib with a min of 1...</td>\n",
              "    </tr>\n",
              "    <tr>\n",
              "      <th>49919</th>\n",
              "      <td>1865581</td>\n",
              "      <td>13155</td>\n",
              "      <td>14098</td>\n",
              "      <td>2154-04-12</td>\n",
              "      <td>NPN Discharge Note\\n\\n\\nRESP/CV: Infant remain...</td>\n",
              "    </tr>\n",
              "  </tbody>\n",
              "</table>\n",
              "</div>\n",
              "      <button class=\"colab-df-convert\" onclick=\"convertToInteractive('df-122b5052-669f-4c68-9ae5-65c93c4f1dd7')\"\n",
              "              title=\"Convert this dataframe to an interactive table.\"\n",
              "              style=\"display:none;\">\n",
              "        \n",
              "  <svg xmlns=\"http://www.w3.org/2000/svg\" height=\"24px\"viewBox=\"0 0 24 24\"\n",
              "       width=\"24px\">\n",
              "    <path d=\"M0 0h24v24H0V0z\" fill=\"none\"/>\n",
              "    <path d=\"M18.56 5.44l.94 2.06.94-2.06 2.06-.94-2.06-.94-.94-2.06-.94 2.06-2.06.94zm-11 1L8.5 8.5l.94-2.06 2.06-.94-2.06-.94L8.5 2.5l-.94 2.06-2.06.94zm10 10l.94 2.06.94-2.06 2.06-.94-2.06-.94-.94-2.06-.94 2.06-2.06.94z\"/><path d=\"M17.41 7.96l-1.37-1.37c-.4-.4-.92-.59-1.43-.59-.52 0-1.04.2-1.43.59L10.3 9.45l-7.72 7.72c-.78.78-.78 2.05 0 2.83L4 21.41c.39.39.9.59 1.41.59.51 0 1.02-.2 1.41-.59l7.78-7.78 2.81-2.81c.8-.78.8-2.07 0-2.86zM5.41 20L4 18.59l7.72-7.72 1.47 1.35L5.41 20z\"/>\n",
              "  </svg>\n",
              "      </button>\n",
              "      \n",
              "  <style>\n",
              "    .colab-df-container {\n",
              "      display:flex;\n",
              "      flex-wrap:wrap;\n",
              "      gap: 12px;\n",
              "    }\n",
              "\n",
              "    .colab-df-convert {\n",
              "      background-color: #E8F0FE;\n",
              "      border: none;\n",
              "      border-radius: 50%;\n",
              "      cursor: pointer;\n",
              "      display: none;\n",
              "      fill: #1967D2;\n",
              "      height: 32px;\n",
              "      padding: 0 0 0 0;\n",
              "      width: 32px;\n",
              "    }\n",
              "\n",
              "    .colab-df-convert:hover {\n",
              "      background-color: #E2EBFA;\n",
              "      box-shadow: 0px 1px 2px rgba(60, 64, 67, 0.3), 0px 1px 3px 1px rgba(60, 64, 67, 0.15);\n",
              "      fill: #174EA6;\n",
              "    }\n",
              "\n",
              "    [theme=dark] .colab-df-convert {\n",
              "      background-color: #3B4455;\n",
              "      fill: #D2E3FC;\n",
              "    }\n",
              "\n",
              "    [theme=dark] .colab-df-convert:hover {\n",
              "      background-color: #434B5C;\n",
              "      box-shadow: 0px 1px 3px 1px rgba(0, 0, 0, 0.15);\n",
              "      filter: drop-shadow(0px 1px 2px rgba(0, 0, 0, 0.3));\n",
              "      fill: #FFFFFF;\n",
              "    }\n",
              "  </style>\n",
              "\n",
              "      <script>\n",
              "        const buttonEl =\n",
              "          document.querySelector('#df-122b5052-669f-4c68-9ae5-65c93c4f1dd7 button.colab-df-convert');\n",
              "        buttonEl.style.display =\n",
              "          google.colab.kernel.accessAllowed ? 'block' : 'none';\n",
              "\n",
              "        async function convertToInteractive(key) {\n",
              "          const element = document.querySelector('#df-122b5052-669f-4c68-9ae5-65c93c4f1dd7');\n",
              "          const dataTable =\n",
              "            await google.colab.kernel.invokeFunction('convertToInteractive',\n",
              "                                                     [key], {});\n",
              "          if (!dataTable) return;\n",
              "\n",
              "          const docLinkHtml = 'Like what you see? Visit the ' +\n",
              "            '<a target=\"_blank\" href=https://colab.research.google.com/notebooks/data_table.ipynb>data table notebook</a>'\n",
              "            + ' to learn more about interactive tables.';\n",
              "          element.innerHTML = '';\n",
              "          dataTable['output_type'] = 'display_data';\n",
              "          await google.colab.output.renderOutput(dataTable, element);\n",
              "          const docLink = document.createElement('div');\n",
              "          docLink.innerHTML = docLinkHtml;\n",
              "          element.appendChild(docLink);\n",
              "        }\n",
              "      </script>\n",
              "    </div>\n",
              "  </div>\n",
              "  "
            ]
          },
          "metadata": {},
          "execution_count": 28
        }
      ]
    },
    {
      "cell_type": "markdown",
      "source": [
        "### Embeddings "
      ],
      "metadata": {
        "id": "fQeSSVtctxMI"
      }
    },
    {
      "cell_type": "markdown",
      "source": [
        "embedding model"
      ],
      "metadata": {
        "id": "7dBZ5qVKxlop"
      }
    },
    {
      "cell_type": "code",
      "source": [
        "model_ckpt = \"sentence-transformers/all-MiniLM-L6-v2\"\n",
        "tokenizer = AutoTokenizer.from_pretrained(model_ckpt)\n",
        "model = AutoModel.from_pretrained(model_ckpt)"
      ],
      "metadata": {
        "id": "snpP8en7jJPo"
      },
      "execution_count": 29,
      "outputs": []
    },
    {
      "cell_type": "markdown",
      "source": [
        "get embeddings"
      ],
      "metadata": {
        "id": "X4P8uBxzx5tE"
      }
    },
    {
      "cell_type": "code",
      "source": [
        "def create_dist_data(list_of_sentences):  \n",
        "  encoded_input = tokenizer(list_of_sentences, padding=True, truncation=True, return_tensors=\"pt\")\n",
        "  with torch.no_grad():\n",
        "    model_output = model(**encoded_input)\n",
        "  token_embeddings = model_output.last_hidden_state  \n",
        "\n",
        "  def mean_pooling(model_output, attention_mask):\n",
        "    token_embeddings = model_output.last_hidden_state\n",
        "    input_mask_expanded = attention_mask.unsqueeze(-1).expand(token_embeddings.size()).float()\n",
        "    return torch.sum(token_embeddings * input_mask_expanded, 1) / torch.clamp(input_mask_expanded.sum(1), min=1e-9)\n",
        "\n",
        "  # Perform pooling\n",
        "  sentence_embeddings = mean_pooling(model_output, encoded_input['attention_mask'])\n",
        "\n",
        "  # Normalize embeddings\n",
        "  sentence_embeddings = F.normalize(sentence_embeddings, p=2, dim=1)\n",
        "\n",
        "  sentence_embeddings_np = sentence_embeddings.detach().numpy()\n",
        "\n",
        "  scores = np.zeros((sentence_embeddings_np.shape[0],sentence_embeddings_np.shape[0]))\n",
        "  dist = []\n",
        "  for idx in range(sentence_embeddings_np.shape[0]):\n",
        "    scores[idx,:] = cosine_similarity([sentence_embeddings_np[idx]],sentence_embeddings_np)[0]            \n",
        "    if idx < len(sentence_embeddings_np)-1:\n",
        "      dist.append(scores[idx,idx+1])\n",
        "  return dist\n",
        "\n",
        "dist = create_dist_data(sentences)"
      ],
      "metadata": {
        "id": "pRX2x9TJi__Y"
      },
      "execution_count": 30,
      "outputs": []
    },
    {
      "cell_type": "code",
      "source": [
        "dist"
      ],
      "metadata": {
        "id": "ydcWYJ9psIM3",
        "colab": {
          "base_uri": "https://localhost:8080/"
        },
        "outputId": "b6f70e51-29c3-41b4-9c22-9d1d9b7b7802"
      },
      "execution_count": 31,
      "outputs": [
        {
          "output_type": "execute_result",
          "data": {
            "text/plain": [
              "[0.7811174988746643]"
            ]
          },
          "metadata": {},
          "execution_count": 31
        }
      ]
    },
    {
      "cell_type": "markdown",
      "source": [
        "### Attitude "
      ],
      "metadata": {
        "id": "VO0vUgimVt70"
      }
    },
    {
      "cell_type": "markdown",
      "source": [
        "attitude models"
      ],
      "metadata": {
        "id": "fJ436WDDxnry"
      }
    },
    {
      "cell_type": "code",
      "source": [
        "# model name from huggingface.co/model name_id:model_name\n",
        "models_name = {\n",
        "  'roberta':'tanoManzo/roberta-attitude',\n",
        "#  'distilbert':'tanoManzo/distilbert-attitude',\n",
        "#  'minilm':'tanoManzo/minilm-attitude',\n",
        "#  'bloom':'tanoManzo/bloom-attitude'\n",
        "}\n",
        "\n",
        "# load tokenizer and model \n",
        "tokenizers = [AutoTokenizer.from_pretrained(model_name) for model_name in models_name.values()]\n",
        "models= [AutoModelForSequenceClassification.from_pretrained(model_name) for model_name in models_name.values()]"
      ],
      "metadata": {
        "id": "M5I5od_Y4eb0"
      },
      "execution_count": 32,
      "outputs": []
    },
    {
      "cell_type": "code",
      "source": [
        "def create_sentiment_labels(df_notes_nicu_selected, list_of_sentences):\n",
        "  # select dataframe split\n",
        "  df_to_infer = df_notes_nicu_selected\n",
        "\n",
        "  # parameters to set \n",
        "  total_notes = len(df_to_infer)\n",
        "  batch_size = 1\n",
        "  iterations = int(len(df_to_infer)/batch_size)\n",
        "\n",
        "  # start label creation\n",
        "  l_scores = {k:[] for k in models_name.keys()} # dict Model: labels \n",
        "  l_labels = {k:[] for k in models_name.keys()} # dict Model: scoress\n",
        "  #print(iterations)\n",
        "  for iter in range(iterations):\n",
        "    \n",
        "\n",
        "    idx_start = batch_size*iter     # first window sentence idx in the dataframe\n",
        "    idx_end = batch_size*(iter+1)   # last window sentence idx in the dataframe\n",
        "    \n",
        "    # get row sentences for batch\n",
        "    list_of_sentences = list(df_to_infer['TEXT'].iloc[idx_start:idx_end].values)\n",
        "    #print(len(models_name))\n",
        "    for (index, (key, value)) in enumerate(models_name.items()):\n",
        "      \n",
        "      # tokenized input for the model \n",
        "      tokenizer = tokenizers[index]\n",
        "      batch = tokenizer(list_of_sentences, # list of sentence \n",
        "                      padding=True, # add if short \n",
        "                      truncation=True, # remove if long \n",
        "                      max_length=512, # sent length\n",
        "                      return_tensors=\"pt\" # to return pytorch tensor (NO for TF)\n",
        "                      )\n",
        "      #print(batch)        \n",
        "      model = models[index]\n",
        "      with torch.no_grad():\n",
        "        outputs = model(**batch)\n",
        "        predictions = F.softmax(outputs.logits, dim=1)\n",
        "        label_ids = torch.argmax(predictions, dim=1)\n",
        "\n",
        "        labels = [model.config.id2label[label_id] for label_id in label_ids.tolist()]\n",
        "        scores = [round(float(predictions[idx][label_id].item()),4) for idx, label_id in enumerate(label_ids.tolist())]\n",
        "        l_labels[key].extend(labels)\n",
        "        l_scores[key].extend(scores)\n",
        "      #print(l_labels)\n",
        "  return l_labels\n",
        "\n",
        "l_labels = create_sentiment_labels(df_notes_nicu_selected,sentences)"
      ],
      "metadata": {
        "id": "adOU0EN_LFXk"
      },
      "execution_count": 33,
      "outputs": []
    },
    {
      "cell_type": "code",
      "source": [
        "l_labels"
      ],
      "metadata": {
        "id": "5MM2ih6CL_jT",
        "colab": {
          "base_uri": "https://localhost:8080/"
        },
        "outputId": "773707b7-178c-497a-b93e-b020a4c231ea"
      },
      "execution_count": 34,
      "outputs": [
        {
          "output_type": "execute_result",
          "data": {
            "text/plain": [
              "{'roberta': ['Overall Neutral Note', 'Overall Neutral Note']}"
            ]
          },
          "metadata": {},
          "execution_count": 34
        }
      ]
    },
    {
      "cell_type": "code",
      "source": [
        "df_notes_nicu_selected"
      ],
      "metadata": {
        "colab": {
          "base_uri": "https://localhost:8080/",
          "height": 112
        },
        "id": "5KhsJZbKKO38",
        "outputId": "861366ea-89a6-4d5b-bbab-295b514b8174"
      },
      "execution_count": 35,
      "outputs": [
        {
          "output_type": "execute_result",
          "data": {
            "text/plain": [
              "         ROW_ID  SUBJECT_ID   CGID   CHARTDATE  \\\n",
              "217423  1865577       13155  14098  2154-04-11   \n",
              "49919   1865581       13155  14098  2154-04-12   \n",
              "\n",
              "                                                     TEXT  \n",
              "217423  0700-1900 NPN\\n\\n\\nFEN: Ad lib with a min of 1...  \n",
              "49919   NPN Discharge Note\\n\\n\\nRESP/CV: Infant remain...  "
            ],
            "text/html": [
              "\n",
              "  <div id=\"df-95c72131-7a3d-42f7-8255-209a5640b8a2\">\n",
              "    <div class=\"colab-df-container\">\n",
              "      <div>\n",
              "<style scoped>\n",
              "    .dataframe tbody tr th:only-of-type {\n",
              "        vertical-align: middle;\n",
              "    }\n",
              "\n",
              "    .dataframe tbody tr th {\n",
              "        vertical-align: top;\n",
              "    }\n",
              "\n",
              "    .dataframe thead th {\n",
              "        text-align: right;\n",
              "    }\n",
              "</style>\n",
              "<table border=\"1\" class=\"dataframe\">\n",
              "  <thead>\n",
              "    <tr style=\"text-align: right;\">\n",
              "      <th></th>\n",
              "      <th>ROW_ID</th>\n",
              "      <th>SUBJECT_ID</th>\n",
              "      <th>CGID</th>\n",
              "      <th>CHARTDATE</th>\n",
              "      <th>TEXT</th>\n",
              "    </tr>\n",
              "  </thead>\n",
              "  <tbody>\n",
              "    <tr>\n",
              "      <th>217423</th>\n",
              "      <td>1865577</td>\n",
              "      <td>13155</td>\n",
              "      <td>14098</td>\n",
              "      <td>2154-04-11</td>\n",
              "      <td>0700-1900 NPN\\n\\n\\nFEN: Ad lib with a min of 1...</td>\n",
              "    </tr>\n",
              "    <tr>\n",
              "      <th>49919</th>\n",
              "      <td>1865581</td>\n",
              "      <td>13155</td>\n",
              "      <td>14098</td>\n",
              "      <td>2154-04-12</td>\n",
              "      <td>NPN Discharge Note\\n\\n\\nRESP/CV: Infant remain...</td>\n",
              "    </tr>\n",
              "  </tbody>\n",
              "</table>\n",
              "</div>\n",
              "      <button class=\"colab-df-convert\" onclick=\"convertToInteractive('df-95c72131-7a3d-42f7-8255-209a5640b8a2')\"\n",
              "              title=\"Convert this dataframe to an interactive table.\"\n",
              "              style=\"display:none;\">\n",
              "        \n",
              "  <svg xmlns=\"http://www.w3.org/2000/svg\" height=\"24px\"viewBox=\"0 0 24 24\"\n",
              "       width=\"24px\">\n",
              "    <path d=\"M0 0h24v24H0V0z\" fill=\"none\"/>\n",
              "    <path d=\"M18.56 5.44l.94 2.06.94-2.06 2.06-.94-2.06-.94-.94-2.06-.94 2.06-2.06.94zm-11 1L8.5 8.5l.94-2.06 2.06-.94-2.06-.94L8.5 2.5l-.94 2.06-2.06.94zm10 10l.94 2.06.94-2.06 2.06-.94-2.06-.94-.94-2.06-.94 2.06-2.06.94z\"/><path d=\"M17.41 7.96l-1.37-1.37c-.4-.4-.92-.59-1.43-.59-.52 0-1.04.2-1.43.59L10.3 9.45l-7.72 7.72c-.78.78-.78 2.05 0 2.83L4 21.41c.39.39.9.59 1.41.59.51 0 1.02-.2 1.41-.59l7.78-7.78 2.81-2.81c.8-.78.8-2.07 0-2.86zM5.41 20L4 18.59l7.72-7.72 1.47 1.35L5.41 20z\"/>\n",
              "  </svg>\n",
              "      </button>\n",
              "      \n",
              "  <style>\n",
              "    .colab-df-container {\n",
              "      display:flex;\n",
              "      flex-wrap:wrap;\n",
              "      gap: 12px;\n",
              "    }\n",
              "\n",
              "    .colab-df-convert {\n",
              "      background-color: #E8F0FE;\n",
              "      border: none;\n",
              "      border-radius: 50%;\n",
              "      cursor: pointer;\n",
              "      display: none;\n",
              "      fill: #1967D2;\n",
              "      height: 32px;\n",
              "      padding: 0 0 0 0;\n",
              "      width: 32px;\n",
              "    }\n",
              "\n",
              "    .colab-df-convert:hover {\n",
              "      background-color: #E2EBFA;\n",
              "      box-shadow: 0px 1px 2px rgba(60, 64, 67, 0.3), 0px 1px 3px 1px rgba(60, 64, 67, 0.15);\n",
              "      fill: #174EA6;\n",
              "    }\n",
              "\n",
              "    [theme=dark] .colab-df-convert {\n",
              "      background-color: #3B4455;\n",
              "      fill: #D2E3FC;\n",
              "    }\n",
              "\n",
              "    [theme=dark] .colab-df-convert:hover {\n",
              "      background-color: #434B5C;\n",
              "      box-shadow: 0px 1px 3px 1px rgba(0, 0, 0, 0.15);\n",
              "      filter: drop-shadow(0px 1px 2px rgba(0, 0, 0, 0.3));\n",
              "      fill: #FFFFFF;\n",
              "    }\n",
              "  </style>\n",
              "\n",
              "      <script>\n",
              "        const buttonEl =\n",
              "          document.querySelector('#df-95c72131-7a3d-42f7-8255-209a5640b8a2 button.colab-df-convert');\n",
              "        buttonEl.style.display =\n",
              "          google.colab.kernel.accessAllowed ? 'block' : 'none';\n",
              "\n",
              "        async function convertToInteractive(key) {\n",
              "          const element = document.querySelector('#df-95c72131-7a3d-42f7-8255-209a5640b8a2');\n",
              "          const dataTable =\n",
              "            await google.colab.kernel.invokeFunction('convertToInteractive',\n",
              "                                                     [key], {});\n",
              "          if (!dataTable) return;\n",
              "\n",
              "          const docLinkHtml = 'Like what you see? Visit the ' +\n",
              "            '<a target=\"_blank\" href=https://colab.research.google.com/notebooks/data_table.ipynb>data table notebook</a>'\n",
              "            + ' to learn more about interactive tables.';\n",
              "          element.innerHTML = '';\n",
              "          dataTable['output_type'] = 'display_data';\n",
              "          await google.colab.output.renderOutput(dataTable, element);\n",
              "          const docLink = document.createElement('div');\n",
              "          docLink.innerHTML = docLinkHtml;\n",
              "          element.appendChild(docLink);\n",
              "        }\n",
              "      </script>\n",
              "    </div>\n",
              "  </div>\n",
              "  "
            ]
          },
          "metadata": {},
          "execution_count": 35
        }
      ]
    },
    {
      "cell_type": "code",
      "source": [
        "# write data to rows\n",
        "#df_to_plot = pd.DataFrame(columns = ['CGID','SUBJECT_ID','emb_distance','attitudes'])\n",
        "#cgid = 14098\n",
        "#for subject_id in cg_subjects_dict[cgid]:\n",
        "  ##df_notes_nicu_selected, sentence = create_sentences(cgid=cgid, subid=subject_id)\n",
        "  #dist = create_dist_data(sentence)\n",
        "  #l_labels = create_sentiment_labels(df_notes_nicu_selected,sentence)\n",
        "  #print([cgid, subject_id, dist, list(*l_labels.values())])\n",
        "  #df_to_plot.loc[len(df_to_plot)] = [cgid, subject_id, dist, list(*l_labels.values())]"
      ],
      "metadata": {
        "id": "ee31TE4AkySL"
      },
      "execution_count": 37,
      "outputs": []
    },
    {
      "cell_type": "code",
      "source": [
        "# path and name of the cvs file \n",
        "#PATH_TO_SAVE = \"/content/drive/MyDrive/NIH/Data/\"\n",
        "#name_file_to_save = 'NOTES_NURSING_TRAJECTORIES_singleCG.csv'\n",
        "#df_to_plot.to_csv(PATH_TO_SAVE+name_file_to_save,index=False)"
      ],
      "metadata": {
        "id": "RBhRYzc_MRSm"
      },
      "execution_count": 38,
      "outputs": []
    },
    {
      "cell_type": "code",
      "source": [
        "#df_to_plot"
      ],
      "metadata": {
        "id": "71I2l1ABarJK"
      },
      "execution_count": 39,
      "outputs": []
    },
    {
      "cell_type": "markdown",
      "source": [
        "# END \n"
      ],
      "metadata": {
        "id": "TBxF7fIKdkh2"
      }
    },
    {
      "cell_type": "code",
      "source": [
        "from google.colab import drive\n",
        "drive.mount('/content/drive')\n",
        "notes_path = \"/content/drive/MyDrive/NIH/Data/\"\n",
        "notes_name = \"NOTES_NURSING_TRAJECTORIES_singleCG.csv\"\n",
        "df_notes = pd.read_csv(notes_path+notes_name)\n",
        "df_notes.info()"
      ],
      "metadata": {
        "colab": {
          "base_uri": "https://localhost:8080/",
          "height": 380
        },
        "id": "GKFaijaIsKBU",
        "outputId": "9f8d3ff7-331b-4b52-c88f-a4c15a42a110"
      },
      "execution_count": 42,
      "outputs": [
        {
          "output_type": "stream",
          "name": "stdout",
          "text": [
            "Drive already mounted at /content/drive; to attempt to forcibly remount, call drive.mount(\"/content/drive\", force_remount=True).\n"
          ]
        },
        {
          "output_type": "error",
          "ename": "FileNotFoundError",
          "evalue": "ignored",
          "traceback": [
            "\u001b[0;31m---------------------------------------------------------------------------\u001b[0m",
            "\u001b[0;31mFileNotFoundError\u001b[0m                         Traceback (most recent call last)",
            "\u001b[0;32m<ipython-input-42-e23c954ca86f>\u001b[0m in \u001b[0;36m<cell line: 5>\u001b[0;34m()\u001b[0m\n\u001b[1;32m      3\u001b[0m \u001b[0mnotes_path\u001b[0m \u001b[0;34m=\u001b[0m \u001b[0;34m\"/content/drive/MyDrive/NIH/Data/\"\u001b[0m\u001b[0;34m\u001b[0m\u001b[0;34m\u001b[0m\u001b[0m\n\u001b[1;32m      4\u001b[0m \u001b[0mnotes_name\u001b[0m \u001b[0;34m=\u001b[0m \u001b[0;34m\"NOTES_NURSING_TRAJECTORIES_singleCG.csv\"\u001b[0m\u001b[0;34m\u001b[0m\u001b[0;34m\u001b[0m\u001b[0m\n\u001b[0;32m----> 5\u001b[0;31m \u001b[0mdf_notes\u001b[0m \u001b[0;34m=\u001b[0m \u001b[0mpd\u001b[0m\u001b[0;34m.\u001b[0m\u001b[0mread_csv\u001b[0m\u001b[0;34m(\u001b[0m\u001b[0mnotes_path\u001b[0m\u001b[0;34m+\u001b[0m\u001b[0mnotes_name\u001b[0m\u001b[0;34m)\u001b[0m\u001b[0;34m\u001b[0m\u001b[0;34m\u001b[0m\u001b[0m\n\u001b[0m\u001b[1;32m      6\u001b[0m \u001b[0mdf_notes\u001b[0m\u001b[0;34m.\u001b[0m\u001b[0minfo\u001b[0m\u001b[0;34m(\u001b[0m\u001b[0;34m)\u001b[0m\u001b[0;34m\u001b[0m\u001b[0;34m\u001b[0m\u001b[0m\n",
            "\u001b[0;32m/usr/local/lib/python3.9/dist-packages/pandas/util/_decorators.py\u001b[0m in \u001b[0;36mwrapper\u001b[0;34m(*args, **kwargs)\u001b[0m\n\u001b[1;32m    209\u001b[0m                 \u001b[0;32melse\u001b[0m\u001b[0;34m:\u001b[0m\u001b[0;34m\u001b[0m\u001b[0;34m\u001b[0m\u001b[0m\n\u001b[1;32m    210\u001b[0m                     \u001b[0mkwargs\u001b[0m\u001b[0;34m[\u001b[0m\u001b[0mnew_arg_name\u001b[0m\u001b[0;34m]\u001b[0m \u001b[0;34m=\u001b[0m \u001b[0mnew_arg_value\u001b[0m\u001b[0;34m\u001b[0m\u001b[0;34m\u001b[0m\u001b[0m\n\u001b[0;32m--> 211\u001b[0;31m             \u001b[0;32mreturn\u001b[0m \u001b[0mfunc\u001b[0m\u001b[0;34m(\u001b[0m\u001b[0;34m*\u001b[0m\u001b[0margs\u001b[0m\u001b[0;34m,\u001b[0m \u001b[0;34m**\u001b[0m\u001b[0mkwargs\u001b[0m\u001b[0;34m)\u001b[0m\u001b[0;34m\u001b[0m\u001b[0;34m\u001b[0m\u001b[0m\n\u001b[0m\u001b[1;32m    212\u001b[0m \u001b[0;34m\u001b[0m\u001b[0m\n\u001b[1;32m    213\u001b[0m         \u001b[0;32mreturn\u001b[0m \u001b[0mcast\u001b[0m\u001b[0;34m(\u001b[0m\u001b[0mF\u001b[0m\u001b[0;34m,\u001b[0m \u001b[0mwrapper\u001b[0m\u001b[0;34m)\u001b[0m\u001b[0;34m\u001b[0m\u001b[0;34m\u001b[0m\u001b[0m\n",
            "\u001b[0;32m/usr/local/lib/python3.9/dist-packages/pandas/util/_decorators.py\u001b[0m in \u001b[0;36mwrapper\u001b[0;34m(*args, **kwargs)\u001b[0m\n\u001b[1;32m    329\u001b[0m                     \u001b[0mstacklevel\u001b[0m\u001b[0;34m=\u001b[0m\u001b[0mfind_stack_level\u001b[0m\u001b[0;34m(\u001b[0m\u001b[0;34m)\u001b[0m\u001b[0;34m,\u001b[0m\u001b[0;34m\u001b[0m\u001b[0;34m\u001b[0m\u001b[0m\n\u001b[1;32m    330\u001b[0m                 )\n\u001b[0;32m--> 331\u001b[0;31m             \u001b[0;32mreturn\u001b[0m \u001b[0mfunc\u001b[0m\u001b[0;34m(\u001b[0m\u001b[0;34m*\u001b[0m\u001b[0margs\u001b[0m\u001b[0;34m,\u001b[0m \u001b[0;34m**\u001b[0m\u001b[0mkwargs\u001b[0m\u001b[0;34m)\u001b[0m\u001b[0;34m\u001b[0m\u001b[0;34m\u001b[0m\u001b[0m\n\u001b[0m\u001b[1;32m    332\u001b[0m \u001b[0;34m\u001b[0m\u001b[0m\n\u001b[1;32m    333\u001b[0m         \u001b[0;31m# error: \"Callable[[VarArg(Any), KwArg(Any)], Any]\" has no\u001b[0m\u001b[0;34m\u001b[0m\u001b[0;34m\u001b[0m\u001b[0m\n",
            "\u001b[0;32m/usr/local/lib/python3.9/dist-packages/pandas/io/parsers/readers.py\u001b[0m in \u001b[0;36mread_csv\u001b[0;34m(filepath_or_buffer, sep, delimiter, header, names, index_col, usecols, squeeze, prefix, mangle_dupe_cols, dtype, engine, converters, true_values, false_values, skipinitialspace, skiprows, skipfooter, nrows, na_values, keep_default_na, na_filter, verbose, skip_blank_lines, parse_dates, infer_datetime_format, keep_date_col, date_parser, dayfirst, cache_dates, iterator, chunksize, compression, thousands, decimal, lineterminator, quotechar, quoting, doublequote, escapechar, comment, encoding, encoding_errors, dialect, error_bad_lines, warn_bad_lines, on_bad_lines, delim_whitespace, low_memory, memory_map, float_precision, storage_options)\u001b[0m\n\u001b[1;32m    948\u001b[0m     \u001b[0mkwds\u001b[0m\u001b[0;34m.\u001b[0m\u001b[0mupdate\u001b[0m\u001b[0;34m(\u001b[0m\u001b[0mkwds_defaults\u001b[0m\u001b[0;34m)\u001b[0m\u001b[0;34m\u001b[0m\u001b[0;34m\u001b[0m\u001b[0m\n\u001b[1;32m    949\u001b[0m \u001b[0;34m\u001b[0m\u001b[0m\n\u001b[0;32m--> 950\u001b[0;31m     \u001b[0;32mreturn\u001b[0m \u001b[0m_read\u001b[0m\u001b[0;34m(\u001b[0m\u001b[0mfilepath_or_buffer\u001b[0m\u001b[0;34m,\u001b[0m \u001b[0mkwds\u001b[0m\u001b[0;34m)\u001b[0m\u001b[0;34m\u001b[0m\u001b[0;34m\u001b[0m\u001b[0m\n\u001b[0m\u001b[1;32m    951\u001b[0m \u001b[0;34m\u001b[0m\u001b[0m\n\u001b[1;32m    952\u001b[0m \u001b[0;34m\u001b[0m\u001b[0m\n",
            "\u001b[0;32m/usr/local/lib/python3.9/dist-packages/pandas/io/parsers/readers.py\u001b[0m in \u001b[0;36m_read\u001b[0;34m(filepath_or_buffer, kwds)\u001b[0m\n\u001b[1;32m    603\u001b[0m \u001b[0;34m\u001b[0m\u001b[0m\n\u001b[1;32m    604\u001b[0m     \u001b[0;31m# Create the parser.\u001b[0m\u001b[0;34m\u001b[0m\u001b[0;34m\u001b[0m\u001b[0m\n\u001b[0;32m--> 605\u001b[0;31m     \u001b[0mparser\u001b[0m \u001b[0;34m=\u001b[0m \u001b[0mTextFileReader\u001b[0m\u001b[0;34m(\u001b[0m\u001b[0mfilepath_or_buffer\u001b[0m\u001b[0;34m,\u001b[0m \u001b[0;34m**\u001b[0m\u001b[0mkwds\u001b[0m\u001b[0;34m)\u001b[0m\u001b[0;34m\u001b[0m\u001b[0;34m\u001b[0m\u001b[0m\n\u001b[0m\u001b[1;32m    606\u001b[0m \u001b[0;34m\u001b[0m\u001b[0m\n\u001b[1;32m    607\u001b[0m     \u001b[0;32mif\u001b[0m \u001b[0mchunksize\u001b[0m \u001b[0;32mor\u001b[0m \u001b[0miterator\u001b[0m\u001b[0;34m:\u001b[0m\u001b[0;34m\u001b[0m\u001b[0;34m\u001b[0m\u001b[0m\n",
            "\u001b[0;32m/usr/local/lib/python3.9/dist-packages/pandas/io/parsers/readers.py\u001b[0m in \u001b[0;36m__init__\u001b[0;34m(self, f, engine, **kwds)\u001b[0m\n\u001b[1;32m   1440\u001b[0m \u001b[0;34m\u001b[0m\u001b[0m\n\u001b[1;32m   1441\u001b[0m         \u001b[0mself\u001b[0m\u001b[0;34m.\u001b[0m\u001b[0mhandles\u001b[0m\u001b[0;34m:\u001b[0m \u001b[0mIOHandles\u001b[0m \u001b[0;34m|\u001b[0m \u001b[0;32mNone\u001b[0m \u001b[0;34m=\u001b[0m \u001b[0;32mNone\u001b[0m\u001b[0;34m\u001b[0m\u001b[0;34m\u001b[0m\u001b[0m\n\u001b[0;32m-> 1442\u001b[0;31m         \u001b[0mself\u001b[0m\u001b[0;34m.\u001b[0m\u001b[0m_engine\u001b[0m \u001b[0;34m=\u001b[0m \u001b[0mself\u001b[0m\u001b[0;34m.\u001b[0m\u001b[0m_make_engine\u001b[0m\u001b[0;34m(\u001b[0m\u001b[0mf\u001b[0m\u001b[0;34m,\u001b[0m \u001b[0mself\u001b[0m\u001b[0;34m.\u001b[0m\u001b[0mengine\u001b[0m\u001b[0;34m)\u001b[0m\u001b[0;34m\u001b[0m\u001b[0;34m\u001b[0m\u001b[0m\n\u001b[0m\u001b[1;32m   1443\u001b[0m \u001b[0;34m\u001b[0m\u001b[0m\n\u001b[1;32m   1444\u001b[0m     \u001b[0;32mdef\u001b[0m \u001b[0mclose\u001b[0m\u001b[0;34m(\u001b[0m\u001b[0mself\u001b[0m\u001b[0;34m)\u001b[0m \u001b[0;34m->\u001b[0m \u001b[0;32mNone\u001b[0m\u001b[0;34m:\u001b[0m\u001b[0;34m\u001b[0m\u001b[0;34m\u001b[0m\u001b[0m\n",
            "\u001b[0;32m/usr/local/lib/python3.9/dist-packages/pandas/io/parsers/readers.py\u001b[0m in \u001b[0;36m_make_engine\u001b[0;34m(self, f, engine)\u001b[0m\n\u001b[1;32m   1733\u001b[0m                 \u001b[0;32mif\u001b[0m \u001b[0;34m\"b\"\u001b[0m \u001b[0;32mnot\u001b[0m \u001b[0;32min\u001b[0m \u001b[0mmode\u001b[0m\u001b[0;34m:\u001b[0m\u001b[0;34m\u001b[0m\u001b[0;34m\u001b[0m\u001b[0m\n\u001b[1;32m   1734\u001b[0m                     \u001b[0mmode\u001b[0m \u001b[0;34m+=\u001b[0m \u001b[0;34m\"b\"\u001b[0m\u001b[0;34m\u001b[0m\u001b[0;34m\u001b[0m\u001b[0m\n\u001b[0;32m-> 1735\u001b[0;31m             self.handles = get_handle(\n\u001b[0m\u001b[1;32m   1736\u001b[0m                 \u001b[0mf\u001b[0m\u001b[0;34m,\u001b[0m\u001b[0;34m\u001b[0m\u001b[0;34m\u001b[0m\u001b[0m\n\u001b[1;32m   1737\u001b[0m                 \u001b[0mmode\u001b[0m\u001b[0;34m,\u001b[0m\u001b[0;34m\u001b[0m\u001b[0;34m\u001b[0m\u001b[0m\n",
            "\u001b[0;32m/usr/local/lib/python3.9/dist-packages/pandas/io/common.py\u001b[0m in \u001b[0;36mget_handle\u001b[0;34m(path_or_buf, mode, encoding, compression, memory_map, is_text, errors, storage_options)\u001b[0m\n\u001b[1;32m    854\u001b[0m         \u001b[0;32mif\u001b[0m \u001b[0mioargs\u001b[0m\u001b[0;34m.\u001b[0m\u001b[0mencoding\u001b[0m \u001b[0;32mand\u001b[0m \u001b[0;34m\"b\"\u001b[0m \u001b[0;32mnot\u001b[0m \u001b[0;32min\u001b[0m \u001b[0mioargs\u001b[0m\u001b[0;34m.\u001b[0m\u001b[0mmode\u001b[0m\u001b[0;34m:\u001b[0m\u001b[0;34m\u001b[0m\u001b[0;34m\u001b[0m\u001b[0m\n\u001b[1;32m    855\u001b[0m             \u001b[0;31m# Encoding\u001b[0m\u001b[0;34m\u001b[0m\u001b[0;34m\u001b[0m\u001b[0m\n\u001b[0;32m--> 856\u001b[0;31m             handle = open(\n\u001b[0m\u001b[1;32m    857\u001b[0m                 \u001b[0mhandle\u001b[0m\u001b[0;34m,\u001b[0m\u001b[0;34m\u001b[0m\u001b[0;34m\u001b[0m\u001b[0m\n\u001b[1;32m    858\u001b[0m                 \u001b[0mioargs\u001b[0m\u001b[0;34m.\u001b[0m\u001b[0mmode\u001b[0m\u001b[0;34m,\u001b[0m\u001b[0;34m\u001b[0m\u001b[0;34m\u001b[0m\u001b[0m\n",
            "\u001b[0;31mFileNotFoundError\u001b[0m: [Errno 2] No such file or directory: '/content/drive/MyDrive/NIH/Data/NOTES_NURSING_TRAJECTORIES_singleCG.csv'"
          ]
        }
      ]
    },
    {
      "cell_type": "markdown",
      "source": [
        "# **Add labels to graph**"
      ],
      "metadata": {
        "id": "8qUKwL5oFefq"
      }
    },
    {
      "cell_type": "code",
      "source": [
        "import matplotlib.pyplot as plt\n",
        "from matplotlib.patches import Rectangle\n",
        "from matplotlib.ticker import MaxNLocator"
      ],
      "metadata": {
        "id": "kZU78_dTND92"
      },
      "execution_count": 40,
      "outputs": []
    },
    {
      "cell_type": "code",
      "source": [
        "sns.scatterplot(dist)\n",
        "model_labels = l_labels['roberta']\n",
        "labels_dict = {'Overall Neutral Note': '0', 'Overall Negative Note': 'N', 'Overall Positive Note': 'P'}\n",
        "graph_labels = [labels_dict[label] for label in model_labels]\n",
        "\n",
        "# Add sentiment next to points\n",
        "for index, row in enumerate(dist):\n",
        "\n",
        "  x_position = index - 0.15\n",
        "  x2_position = index + 0.075\n",
        "  y_position = dist[index] - 0.0075\n",
        "  plt.text(x_position, y_position, graph_labels[index], fontsize=10, color='red')\n",
        "  plt.text(x2_position, y_position, graph_labels[index+1], fontsize=10, color='red')\n",
        "\n",
        "# Title and x/y axes\n",
        "plt.title(\"Sentence Comparison of Cosine Similarity and Sentiment\")\n",
        "plt.xlabel(\"Sentence Comparison\")\n",
        "plt.ylabel(\"Cosine Similarity\")\n",
        "\n",
        "# X-axis tick marks\n",
        "ax = plt.gca()\n",
        "ax.xaxis.set_major_locator(MaxNLocator(integer=True))\n",
        "new_ticks = [str(i) for i in range(len(graph_labels))]\n",
        "ax.set_xticklabels(new_ticks)\n",
        "\n",
        "# Legend\n",
        "legend_handles = [Rectangle((0, 0), 0, 0, alpha=0, label=f\"{short_label}: {original_label}\") \n",
        "                  for original_label, short_label in labels_dict.items()]\n",
        "#legend_handles = [Text(0, 0, label=f\"{short_label}: {original_label}\") for original_label, short_label in labels_dict.items()]\n",
        "\n",
        "# legend to right of graph\n",
        "#plt.legend(handles=legend_handles, loc='center left', bbox_to_anchor=(1, 0.5), title='Sentiment')\n",
        "\n",
        "# legend under graph\n",
        "plt.legend(handles=legend_handles, loc='upper center', bbox_to_anchor=(0.5, -0.15), ncol=len(labels_dict), title='Sentence Sentiment')\n",
        "\n",
        "plt.show()"
      ],
      "metadata": {
        "id": "9Z9DIHlyBB_Q",
        "outputId": "a3feda18-e9ca-4218-ae44-0d7d802f78cf",
        "colab": {
          "base_uri": "https://localhost:8080/",
          "height": 579
        }
      },
      "execution_count": 41,
      "outputs": [
        {
          "output_type": "stream",
          "name": "stderr",
          "text": [
            "<ipython-input-41-92d161f0cb53>:24: UserWarning: FixedFormatter should only be used together with FixedLocator\n",
            "  ax.set_xticklabels(new_ticks)\n"
          ]
        },
        {
          "output_type": "display_data",
          "data": {
            "text/plain": [
              "<Figure size 640x480 with 1 Axes>"
            ],
            "image/png": "[encoded data removed]"
          },
          "metadata": {}
        }
      ]
    },
    {
      "cell_type": "code",
      "source": [
        "sns.scatterplot(dist)\n",
        "model_labels = l_labels['roberta']\n",
        "labels_dict = {'Overall Neutral Note': '0', 'Overall Negative Note': 'N', 'Overall Positive Note': 'P'}\n",
        "graph_labels = [labels_dict[label] for label in model_labels]\n",
        "\n",
        "# Add sentiment next to points\n",
        "plt.text(-0.15, dist[0]-.0075, graph_labels[0], fontsize=10, color='red')\n",
        "for index, row in enumerate(dist):\n",
        "  if index == 0:\n",
        "    continue\n",
        "  x_position = index - 0.5\n",
        "  x2_position = index + 0.075\n",
        "  y_position = (dist[index] + dist[index-1] - 0.0075)/2\n",
        "  plt.text(x_position, y_position, graph_labels[index], fontsize=10, color='red')\n",
        "plt.text(len(dist)-1+0.075, dist[len(dist)-1]-0.0075, graph_labels[len(dist)], fontsize=10, color='red')\n",
        "\n",
        "# Title and x/y axes\n",
        "plt.title(\"Sentence Comparison of Cosine Similarity and Sentiment\")\n",
        "plt.xlabel(\"Sentence Comparison\")\n",
        "plt.ylabel(\"Cosine Similarity\")\n",
        "\n",
        "# X-axis tick marks\n",
        "ax = plt.gca()\n",
        "ax.xaxis.set_major_locator(MaxNLocator(integer=True))\n",
        "new_ticks = [str(i) for i in range(len(graph_labels))]\n",
        "ax.set_xticklabels(new_ticks)\n",
        "\n",
        "# Legend\n",
        "legend_handles = [Rectangle((0, 0), 0, 0, alpha=0, label=f\"{short_label}: {original_label}\") \n",
        "                  for original_label, short_label in labels_dict.items()]\n",
        "#legend_handles = [Text(0, 0, label=f\"{short_label}: {original_label}\") for original_label, short_label in labels_dict.items()]\n",
        "\n",
        "# legend to right of graph\n",
        "#plt.legend(handles=legend_handles, loc='center left', bbox_to_anchor=(1, 0.5), title='Sentiment')\n",
        "\n",
        "# legend under graph\n",
        "plt.legend(handles=legend_handles, loc='upper center', bbox_to_anchor=(0.5, -0.15), ncol=len(labels_dict), title='Sentence Sentiment')\n",
        "\n",
        "plt.show()"
      ],
      "metadata": {
        "id": "zusfEyYdNBuG"
      },
      "execution_count": null,
      "outputs": []
    },
    {
      "cell_type": "markdown",
      "source": [
        "## Clustering "
      ],
      "metadata": {
        "id": "_Sp2Zjlsrpb8"
      }
    },
    {
      "cell_type": "code",
      "source": [
        "import pandas as pd\n",
        "import numpy as np\n",
        "from sklearn.cluster import KMeans"
      ],
      "metadata": {
        "id": "BLITj_bchkU8"
      },
      "execution_count": null,
      "outputs": []
    },
    {
      "cell_type": "code",
      "source": [
        "clustering_model = KMeans(n_clusters=3)\n",
        "clustering_model.fit(sentence_embeddings_np)\n",
        "cluster_assignment = clustering_model.labels_\n",
        "print(cluster_assignment)"
      ],
      "metadata": {
        "id": "lYJw_xlwplLP"
      },
      "execution_count": null,
      "outputs": []
    },
    {
      "cell_type": "code",
      "source": [
        "clustered_sentences = {}\n",
        "for sentence_id, cluster_id in enumerate(cluster_assignment):\n",
        "    if cluster_id not in clustered_sentences:\n",
        "        clustered_sentences[cluster_id] = []\n",
        "\n",
        "    clustered_sentences[cluster_id].append(sentences[sentence_id])\n",
        "clustered_sentences"
      ],
      "metadata": {
        "id": "MK4a3n8hp0ix"
      },
      "execution_count": null,
      "outputs": []
    },
    {
      "cell_type": "code",
      "source": [
        "from scipy.spatial.distance import cdist\n",
        "\n",
        "distortions = []\n",
        "inertias = []\n",
        "mapping1 = {}\n",
        "mapping2 = {}\n",
        "K = range(1, 6)\n",
        "X = sentence_embeddings_np \n",
        "for k in K:\n",
        "    # Building and fitting the model\n",
        "    kmeanModel = KMeans(n_clusters=k).fit(X)\n",
        "    kmeanModel.fit(X)\n",
        "  \n",
        "    distortions.append(sum(np.min(cdist(X, kmeanModel.cluster_centers_,\n",
        "                                        'cosine'), axis=1)) / X.shape[0])\n",
        "    inertias.append(kmeanModel.inertia_)\n",
        "  \n",
        "    mapping1[k] = sum(np.min(cdist(X, kmeanModel.cluster_centers_,\n",
        "                                   'euclidean'), axis=1)) / X.shape[0]\n",
        "    mapping2[k] = kmeanModel.inertia_"
      ],
      "metadata": {
        "id": "91vBRnW5tRAN"
      },
      "execution_count": null,
      "outputs": []
    },
    {
      "cell_type": "code",
      "source": [
        "import matplotlib.pyplot as plt\n",
        "plt.plot(K, distortions, 'bx-')\n",
        "plt.xlabel('Values of K')\n",
        "plt.ylabel('Distortion')\n",
        "plt.title('The Elbow Method using Distortion')\n",
        "plt.show()"
      ],
      "metadata": {
        "id": "igGVOyMJtlD_"
      },
      "execution_count": null,
      "outputs": []
    }
  ]
}