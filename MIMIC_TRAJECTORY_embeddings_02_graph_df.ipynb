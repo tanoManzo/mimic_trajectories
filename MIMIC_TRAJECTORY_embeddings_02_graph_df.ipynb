{
  "nbformat": 4,
  "nbformat_minor": 0,
  "metadata": {
    "colab": {
      "provenance": [],
      "include_colab_link": true
    },
    "kernelspec": {
      "name": "python3",
      "display_name": "Python 3"
    },
    "language_info": {
      "name": "python"
    }
  },
  "cells": [
    {
      "cell_type": "markdown",
      "metadata": {
        "id": "view-in-github",
        "colab_type": "text"
      },
      "source": [
        "<a href=\"https://colab.research.google.com/github/tanoManzo/mimic_trajectories/blob/dev/MIMIC_TRAJECTORY_embeddings_02_graph_df.ipynb\" target=\"_parent\"><img src=\"https://colab.research.google.com/assets/colab-badge.svg\" alt=\"Open In Colab\"/></a>"
      ]
    },
    {
      "cell_type": "markdown",
      "source": [
        "# Data Collection, Embeddings and Attitude"
      ],
      "metadata": {
        "id": "5CSBbeSkyRmq"
      }
    },
    {
      "cell_type": "code",
      "source": [
        "! pip install transformers -q"
      ],
      "metadata": {
        "id": "mcvHX_-AewgN",
        "colab": {
          "base_uri": "https://localhost:8080/"
        },
        "outputId": "b55d24d8-3f39-420f-f2f8-1ddd93f6f26c"
      },
      "execution_count": null,
      "outputs": [
        {
          "output_type": "stream",
          "name": "stdout",
          "text": [
            "\u001b[2K     \u001b[90m━━━━━━━━━━━━━━━━━━━━━━━━━━━━━━━━━━━━━━━━\u001b[0m \u001b[32m7.0/7.0 MB\u001b[0m \u001b[31m46.4 MB/s\u001b[0m eta \u001b[36m0:00:00\u001b[0m\n",
            "\u001b[2K     \u001b[90m━━━━━━━━━━━━━━━━━━━━━━━━━━━━━━━━━━━━━━━━\u001b[0m \u001b[32m7.8/7.8 MB\u001b[0m \u001b[31m31.7 MB/s\u001b[0m eta \u001b[36m0:00:00\u001b[0m\n",
            "\u001b[2K     \u001b[90m━━━━━━━━━━━━━━━━━━━━━━━━━━━━━━━━━━━━━━\u001b[0m \u001b[32m224.2/224.2 kB\u001b[0m \u001b[31m11.2 MB/s\u001b[0m eta \u001b[36m0:00:00\u001b[0m\n",
            "\u001b[?25h"
          ]
        }
      ]
    },
    {
      "cell_type": "code",
      "execution_count": null,
      "metadata": {
        "id": "35BpcyS4eWHw"
      },
      "outputs": [],
      "source": [
        "import numpy as np\n",
        "import pandas as pd\n",
        "import torch \n",
        "import torch.nn.functional as F\n",
        "from transformers import AutoTokenizer, AutoModel\n",
        "from transformers import AutoModelForSequenceClassification\n",
        "from sklearn.metrics.pairwise import cosine_similarity"
      ]
    },
    {
      "cell_type": "markdown",
      "source": [
        "load nursing notes subject-caregiver-chartdate"
      ],
      "metadata": {
        "id": "2YFjrsu1tkB2"
      }
    },
    {
      "cell_type": "code",
      "source": [
        "from google.colab import drive\n",
        "drive.mount('/content/drive')"
      ],
      "metadata": {
        "colab": {
          "base_uri": "https://localhost:8080/"
        },
        "id": "GKFaijaIsKBU",
        "outputId": "e036806d-e865-4d26-b871-aaba2134d024"
      },
      "execution_count": null,
      "outputs": [
        {
          "output_type": "stream",
          "name": "stdout",
          "text": [
            "Mounted at /content/drive\n"
          ]
        }
      ]
    },
    {
      "cell_type": "code",
      "source": [
        "notes_path = \"/content/drive/MyDrive/NIH/Data/\"\n",
        "notes_name = \"NOTES_NURSING_TRAJECTORIES_01.csv\"\n",
        "df_notes = pd.read_csv(notes_path+notes_name)\n",
        "df_notes.info()"
      ],
      "metadata": {
        "colab": {
          "base_uri": "https://localhost:8080/"
        },
        "id": "sSNmSwI5Ix2P",
        "outputId": "9857ab04-5b10-4f8a-afe4-3c95c39d25f9"
      },
      "execution_count": null,
      "outputs": [
        {
          "output_type": "stream",
          "name": "stdout",
          "text": [
            "<class 'pandas.core.frame.DataFrame'>\n",
            "RangeIndex: 531675 entries, 0 to 531674\n",
            "Data columns (total 5 columns):\n",
            " #   Column      Non-Null Count   Dtype \n",
            "---  ------      --------------   ----- \n",
            " 0   ROW_ID      531675 non-null  int64 \n",
            " 1   SUBJECT_ID  531675 non-null  int64 \n",
            " 2   CGID        531675 non-null  int64 \n",
            " 3   CHARTDATE   531675 non-null  object\n",
            " 4   TEXT        531675 non-null  object\n",
            "dtypes: int64(3), object(2)\n",
            "memory usage: 20.3+ MB\n"
          ]
        }
      ]
    },
    {
      "cell_type": "markdown",
      "source": [
        "## **Data Preprocessing**"
      ],
      "metadata": {
        "id": "qdVDhESt91i2"
      }
    },
    {
      "cell_type": "markdown",
      "source": [
        "extract nicu notes"
      ],
      "metadata": {
        "id": "WPkdlidbtAAd"
      }
    },
    {
      "cell_type": "code",
      "source": [
        "def nicu_condition(x):\n",
        "  words = ['nicu', 'neonatal']\n",
        "  return any(word in x.lower() for word in words)\n",
        "\n",
        "# get list of subject in nicu    \n",
        "nicu_subject_ids = df_notes[df_notes['TEXT'].apply(lambda x: nicu_condition(x))]['SUBJECT_ID'].unique()\n",
        "\n",
        "# get nicu notes\n",
        "df_notes_nicu = df_notes[df_notes['SUBJECT_ID'].isin(nicu_subject_ids)]\n",
        "df_notes_nicu"
      ],
      "metadata": {
        "colab": {
          "base_uri": "https://localhost:8080/",
          "height": 423
        },
        "id": "PNKC9WAupA3x",
        "outputId": "d81b01c9-5ecf-4ac1-a38b-8f60943451e4"
      },
      "execution_count": null,
      "outputs": [
        {
          "output_type": "execute_result",
          "data": {
            "text/plain": [
              "         ROW_ID  SUBJECT_ID   CGID   CHARTDATE  \\\n",
              "0       2019399       25397  14720  2187-02-16   \n",
              "5       1792738        7984  14489  2153-08-30   \n",
              "16      2019351       25397  14720  2187-02-08   \n",
              "46      2080962       32392  17603  2199-12-05   \n",
              "60      1740211        4578  14720  2152-08-09   \n",
              "...         ...         ...    ...         ...   \n",
              "531667  1900603       15772  16864  2103-07-04   \n",
              "531668  2034585       26106  19530  2191-05-13   \n",
              "531670  1974281       21464  20104  2189-03-18   \n",
              "531672  1735597        4205  16022  2163-06-11   \n",
              "531674  1916175       16803  14989  2150-07-01   \n",
              "\n",
              "                                                     TEXT  \n",
              "0       Social Work:\\nHad provider meeting this aftern...  \n",
              "5       NICU NURSING FAMILY MEETING AND PARENTING NOTE...  \n",
              "16      Social Work:\\n\\n [**First Name8 (NamePattern2)...  \n",
              "46      NPN DAYS\\nRECEIVED [**Doctor Last Name **] AT ...  \n",
              "60      Social Work:\\nFamily meeting held with mom, Dr...  \n",
              "...                                                   ...  \n",
              "531667  NPN 7a7p cont\\nAgree with the above not writte...  \n",
              "531668  Social Work:\\nPlease refer to note in baby a's...  \n",
              "531670  Procedure Note: UAC removal.\\n\\nUAC removed in...  \n",
              "531672  Addendum\\nAgree with above note and assessment...  \n",
              "531674  Agree with co workers note above, please read ...  \n",
              "\n",
              "[233955 rows x 5 columns]"
            ],
            "text/html": [
              "\n",
              "  <div id=\"df-733bba1a-69e0-4b56-ace6-4abd47cbc397\">\n",
              "    <div class=\"colab-df-container\">\n",
              "      <div>\n",
              "<style scoped>\n",
              "    .dataframe tbody tr th:only-of-type {\n",
              "        vertical-align: middle;\n",
              "    }\n",
              "\n",
              "    .dataframe tbody tr th {\n",
              "        vertical-align: top;\n",
              "    }\n",
              "\n",
              "    .dataframe thead th {\n",
              "        text-align: right;\n",
              "    }\n",
              "</style>\n",
              "<table border=\"1\" class=\"dataframe\">\n",
              "  <thead>\n",
              "    <tr style=\"text-align: right;\">\n",
              "      <th></th>\n",
              "      <th>ROW_ID</th>\n",
              "      <th>SUBJECT_ID</th>\n",
              "      <th>CGID</th>\n",
              "      <th>CHARTDATE</th>\n",
              "      <th>TEXT</th>\n",
              "    </tr>\n",
              "  </thead>\n",
              "  <tbody>\n",
              "    <tr>\n",
              "      <th>0</th>\n",
              "      <td>2019399</td>\n",
              "      <td>25397</td>\n",
              "      <td>14720</td>\n",
              "      <td>2187-02-16</td>\n",
              "      <td>Social Work:\\nHad provider meeting this aftern...</td>\n",
              "    </tr>\n",
              "    <tr>\n",
              "      <th>5</th>\n",
              "      <td>1792738</td>\n",
              "      <td>7984</td>\n",
              "      <td>14489</td>\n",
              "      <td>2153-08-30</td>\n",
              "      <td>NICU NURSING FAMILY MEETING AND PARENTING NOTE...</td>\n",
              "    </tr>\n",
              "    <tr>\n",
              "      <th>16</th>\n",
              "      <td>2019351</td>\n",
              "      <td>25397</td>\n",
              "      <td>14720</td>\n",
              "      <td>2187-02-08</td>\n",
              "      <td>Social Work:\\n\\n [**First Name8 (NamePattern2)...</td>\n",
              "    </tr>\n",
              "    <tr>\n",
              "      <th>46</th>\n",
              "      <td>2080962</td>\n",
              "      <td>32392</td>\n",
              "      <td>17603</td>\n",
              "      <td>2199-12-05</td>\n",
              "      <td>NPN DAYS\\nRECEIVED [**Doctor Last Name **] AT ...</td>\n",
              "    </tr>\n",
              "    <tr>\n",
              "      <th>60</th>\n",
              "      <td>1740211</td>\n",
              "      <td>4578</td>\n",
              "      <td>14720</td>\n",
              "      <td>2152-08-09</td>\n",
              "      <td>Social Work:\\nFamily meeting held with mom, Dr...</td>\n",
              "    </tr>\n",
              "    <tr>\n",
              "      <th>...</th>\n",
              "      <td>...</td>\n",
              "      <td>...</td>\n",
              "      <td>...</td>\n",
              "      <td>...</td>\n",
              "      <td>...</td>\n",
              "    </tr>\n",
              "    <tr>\n",
              "      <th>531667</th>\n",
              "      <td>1900603</td>\n",
              "      <td>15772</td>\n",
              "      <td>16864</td>\n",
              "      <td>2103-07-04</td>\n",
              "      <td>NPN 7a7p cont\\nAgree with the above not writte...</td>\n",
              "    </tr>\n",
              "    <tr>\n",
              "      <th>531668</th>\n",
              "      <td>2034585</td>\n",
              "      <td>26106</td>\n",
              "      <td>19530</td>\n",
              "      <td>2191-05-13</td>\n",
              "      <td>Social Work:\\nPlease refer to note in baby a's...</td>\n",
              "    </tr>\n",
              "    <tr>\n",
              "      <th>531670</th>\n",
              "      <td>1974281</td>\n",
              "      <td>21464</td>\n",
              "      <td>20104</td>\n",
              "      <td>2189-03-18</td>\n",
              "      <td>Procedure Note: UAC removal.\\n\\nUAC removed in...</td>\n",
              "    </tr>\n",
              "    <tr>\n",
              "      <th>531672</th>\n",
              "      <td>1735597</td>\n",
              "      <td>4205</td>\n",
              "      <td>16022</td>\n",
              "      <td>2163-06-11</td>\n",
              "      <td>Addendum\\nAgree with above note and assessment...</td>\n",
              "    </tr>\n",
              "    <tr>\n",
              "      <th>531674</th>\n",
              "      <td>1916175</td>\n",
              "      <td>16803</td>\n",
              "      <td>14989</td>\n",
              "      <td>2150-07-01</td>\n",
              "      <td>Agree with co workers note above, please read ...</td>\n",
              "    </tr>\n",
              "  </tbody>\n",
              "</table>\n",
              "<p>233955 rows × 5 columns</p>\n",
              "</div>\n",
              "      <button class=\"colab-df-convert\" onclick=\"convertToInteractive('df-733bba1a-69e0-4b56-ace6-4abd47cbc397')\"\n",
              "              title=\"Convert this dataframe to an interactive table.\"\n",
              "              style=\"display:none;\">\n",
              "        \n",
              "  <svg xmlns=\"http://www.w3.org/2000/svg\" height=\"24px\"viewBox=\"0 0 24 24\"\n",
              "       width=\"24px\">\n",
              "    <path d=\"M0 0h24v24H0V0z\" fill=\"none\"/>\n",
              "    <path d=\"M18.56 5.44l.94 2.06.94-2.06 2.06-.94-2.06-.94-.94-2.06-.94 2.06-2.06.94zm-11 1L8.5 8.5l.94-2.06 2.06-.94-2.06-.94L8.5 2.5l-.94 2.06-2.06.94zm10 10l.94 2.06.94-2.06 2.06-.94-2.06-.94-.94-2.06-.94 2.06-2.06.94z\"/><path d=\"M17.41 7.96l-1.37-1.37c-.4-.4-.92-.59-1.43-.59-.52 0-1.04.2-1.43.59L10.3 9.45l-7.72 7.72c-.78.78-.78 2.05 0 2.83L4 21.41c.39.39.9.59 1.41.59.51 0 1.02-.2 1.41-.59l7.78-7.78 2.81-2.81c.8-.78.8-2.07 0-2.86zM5.41 20L4 18.59l7.72-7.72 1.47 1.35L5.41 20z\"/>\n",
              "  </svg>\n",
              "      </button>\n",
              "      \n",
              "  <style>\n",
              "    .colab-df-container {\n",
              "      display:flex;\n",
              "      flex-wrap:wrap;\n",
              "      gap: 12px;\n",
              "    }\n",
              "\n",
              "    .colab-df-convert {\n",
              "      background-color: #E8F0FE;\n",
              "      border: none;\n",
              "      border-radius: 50%;\n",
              "      cursor: pointer;\n",
              "      display: none;\n",
              "      fill: #1967D2;\n",
              "      height: 32px;\n",
              "      padding: 0 0 0 0;\n",
              "      width: 32px;\n",
              "    }\n",
              "\n",
              "    .colab-df-convert:hover {\n",
              "      background-color: #E2EBFA;\n",
              "      box-shadow: 0px 1px 2px rgba(60, 64, 67, 0.3), 0px 1px 3px 1px rgba(60, 64, 67, 0.15);\n",
              "      fill: #174EA6;\n",
              "    }\n",
              "\n",
              "    [theme=dark] .colab-df-convert {\n",
              "      background-color: #3B4455;\n",
              "      fill: #D2E3FC;\n",
              "    }\n",
              "\n",
              "    [theme=dark] .colab-df-convert:hover {\n",
              "      background-color: #434B5C;\n",
              "      box-shadow: 0px 1px 3px 1px rgba(0, 0, 0, 0.15);\n",
              "      filter: drop-shadow(0px 1px 2px rgba(0, 0, 0, 0.3));\n",
              "      fill: #FFFFFF;\n",
              "    }\n",
              "  </style>\n",
              "\n",
              "      <script>\n",
              "        const buttonEl =\n",
              "          document.querySelector('#df-733bba1a-69e0-4b56-ace6-4abd47cbc397 button.colab-df-convert');\n",
              "        buttonEl.style.display =\n",
              "          google.colab.kernel.accessAllowed ? 'block' : 'none';\n",
              "\n",
              "        async function convertToInteractive(key) {\n",
              "          const element = document.querySelector('#df-733bba1a-69e0-4b56-ace6-4abd47cbc397');\n",
              "          const dataTable =\n",
              "            await google.colab.kernel.invokeFunction('convertToInteractive',\n",
              "                                                     [key], {});\n",
              "          if (!dataTable) return;\n",
              "\n",
              "          const docLinkHtml = 'Like what you see? Visit the ' +\n",
              "            '<a target=\"_blank\" href=https://colab.research.google.com/notebooks/data_table.ipynb>data table notebook</a>'\n",
              "            + ' to learn more about interactive tables.';\n",
              "          element.innerHTML = '';\n",
              "          dataTable['output_type'] = 'display_data';\n",
              "          await google.colab.output.renderOutput(dataTable, element);\n",
              "          const docLink = document.createElement('div');\n",
              "          docLink.innerHTML = docLinkHtml;\n",
              "          element.appendChild(docLink);\n",
              "        }\n",
              "      </script>\n",
              "    </div>\n",
              "  </div>\n",
              "  "
            ]
          },
          "metadata": {},
          "execution_count": 23
        }
      ]
    },
    {
      "cell_type": "markdown",
      "source": [
        "## Data exploration "
      ],
      "metadata": {
        "id": "TGpZTurgtr04"
      }
    },
    {
      "cell_type": "markdown",
      "source": [
        "check number of notes per patient/subject"
      ],
      "metadata": {
        "id": "zqNDhb8WKIXn"
      }
    },
    {
      "cell_type": "code",
      "source": [
        "import seaborn as sns\n",
        "sns.set()\n",
        "\n",
        "\n",
        "gb_notes = df_notes_nicu.groupby(['CGID','SUBJECT_ID'])\n",
        "num_notes = gb_notes['TEXT'].count()\n",
        "\n",
        "print(f'number of notes: min={num_notes.min()}, max={num_notes.max()}, mean={num_notes.mean()},  median={num_notes.median()}')\n",
        "sns.boxplot(x=num_notes)"
      ],
      "metadata": {
        "colab": {
          "base_uri": "https://localhost:8080/",
          "height": 494
        },
        "id": "S8E5fCVWtzkz",
        "outputId": "bdc97c7a-0e62-4e67-da34-2dc0c455a5c7"
      },
      "execution_count": null,
      "outputs": [
        {
          "output_type": "stream",
          "name": "stdout",
          "text": [
            "number of notes: min=1, max=67, mean=2.425686113904758,  median=1.0\n"
          ]
        },
        {
          "output_type": "execute_result",
          "data": {
            "text/plain": [
              "<Axes: xlabel='TEXT'>"
            ]
          },
          "metadata": {},
          "execution_count": 24
        },
        {
          "output_type": "display_data",
          "data": {
            "text/plain": [
              "<Figure size 640x480 with 1 Axes>"
            ],
            "image/png": "[encoded data removed]"
          },
          "metadata": {}
        }
      ]
    },
    {
      "cell_type": "markdown",
      "source": [
        "check number of caregiver/subject that have between 4 and 15 notes"
      ],
      "metadata": {
        "id": "xML9IkR0KMAK"
      }
    },
    {
      "cell_type": "code",
      "source": [
        "sns.displot(num_notes[((num_notes>2) & (num_notes<15))])"
      ],
      "metadata": {
        "colab": {
          "base_uri": "https://localhost:8080/",
          "height": 519
        },
        "id": "2DRzgXE9zyNg",
        "outputId": "f6f258c6-8c52-4c6d-906b-2cd0042cc796"
      },
      "execution_count": null,
      "outputs": [
        {
          "output_type": "execute_result",
          "data": {
            "text/plain": [
              "<seaborn.axisgrid.FacetGrid at 0x7f876676e2b0>"
            ]
          },
          "metadata": {},
          "execution_count": 48
        },
        {
          "output_type": "display_data",
          "data": {
            "text/plain": [
              "<Figure size 500x500 with 1 Axes>"
            ],
            "image/png": "[encoded data removed]"
          },
          "metadata": {}
        }
      ]
    },
    {
      "cell_type": "markdown",
      "source": [
        "## Embedding and Attitude"
      ],
      "metadata": {
        "id": "U7htBIVewxsv"
      }
    },
    {
      "cell_type": "markdown",
      "source": [
        "### Input data"
      ],
      "metadata": {
        "id": "jiE03maXRL9h"
      }
    },
    {
      "cell_type": "code",
      "source": [
        "cg_subjects_dict = {}\n",
        "caregivers_ids = df_notes_nicu['CGID'].unique()\n",
        "\n",
        "for cg_id in caregivers_ids:\n",
        "  cg_subjects_dict[cg_id] = df_notes_nicu[df_notes_nicu['CGID']==cg_id]['SUBJECT_ID'].unique().tolist()"
      ],
      "metadata": {
        "id": "zM5hKfRJxGci"
      },
      "execution_count": null,
      "outputs": []
    },
    {
      "cell_type": "code",
      "source": [
        "# loop through len(ids)\n",
        "def create_sentences(cgid=14098, subid=13155):\n",
        "  df_notes_nicu_selected = df_notes_nicu[(df_notes_nicu['CGID'] == cgid) & (df_notes_nicu['SUBJECT_ID'] == subid)].sort_values(by=['CHARTDATE'])\n",
        "  sentences = df_notes_nicu_selected['TEXT'].tolist()\n",
        "  return df_notes_nicu_selected, sentences\n",
        "\n",
        "df_notes_nicu_selected, sentences = create_sentences()"
      ],
      "metadata": {
        "id": "COE0AnxbRbCb"
      },
      "execution_count": null,
      "outputs": []
    },
    {
      "cell_type": "code",
      "source": [
        "df_notes_nicu_selected"
      ],
      "metadata": {
        "id": "jF4dSd6RsvWv",
        "colab": {
          "base_uri": "https://localhost:8080/",
          "height": 112
        },
        "outputId": "d966ebad-6ae3-4fd6-fb96-17e5718c1754"
      },
      "execution_count": null,
      "outputs": [
        {
          "output_type": "execute_result",
          "data": {
            "text/plain": [
              "         ROW_ID  SUBJECT_ID   CGID   CHARTDATE  \\\n",
              "217423  1865577       13155  14098  2154-04-11   \n",
              "49919   1865581       13155  14098  2154-04-12   \n",
              "\n",
              "                                                     TEXT  \n",
              "217423  0700-1900 NPN\\n\\n\\nFEN: Ad lib with a min of 1...  \n",
              "49919   NPN Discharge Note\\n\\n\\nRESP/CV: Infant remain...  "
            ],
            "text/html": [
              "\n",
              "  <div id=\"df-148d38cf-68b1-4806-8119-2d980cf19a68\">\n",
              "    <div class=\"colab-df-container\">\n",
              "      <div>\n",
              "<style scoped>\n",
              "    .dataframe tbody tr th:only-of-type {\n",
              "        vertical-align: middle;\n",
              "    }\n",
              "\n",
              "    .dataframe tbody tr th {\n",
              "        vertical-align: top;\n",
              "    }\n",
              "\n",
              "    .dataframe thead th {\n",
              "        text-align: right;\n",
              "    }\n",
              "</style>\n",
              "<table border=\"1\" class=\"dataframe\">\n",
              "  <thead>\n",
              "    <tr style=\"text-align: right;\">\n",
              "      <th></th>\n",
              "      <th>ROW_ID</th>\n",
              "      <th>SUBJECT_ID</th>\n",
              "      <th>CGID</th>\n",
              "      <th>CHARTDATE</th>\n",
              "      <th>TEXT</th>\n",
              "    </tr>\n",
              "  </thead>\n",
              "  <tbody>\n",
              "    <tr>\n",
              "      <th>217423</th>\n",
              "      <td>1865577</td>\n",
              "      <td>13155</td>\n",
              "      <td>14098</td>\n",
              "      <td>2154-04-11</td>\n",
              "      <td>0700-1900 NPN\\n\\n\\nFEN: Ad lib with a min of 1...</td>\n",
              "    </tr>\n",
              "    <tr>\n",
              "      <th>49919</th>\n",
              "      <td>1865581</td>\n",
              "      <td>13155</td>\n",
              "      <td>14098</td>\n",
              "      <td>2154-04-12</td>\n",
              "      <td>NPN Discharge Note\\n\\n\\nRESP/CV: Infant remain...</td>\n",
              "    </tr>\n",
              "  </tbody>\n",
              "</table>\n",
              "</div>\n",
              "      <button class=\"colab-df-convert\" onclick=\"convertToInteractive('df-148d38cf-68b1-4806-8119-2d980cf19a68')\"\n",
              "              title=\"Convert this dataframe to an interactive table.\"\n",
              "              style=\"display:none;\">\n",
              "        \n",
              "  <svg xmlns=\"http://www.w3.org/2000/svg\" height=\"24px\"viewBox=\"0 0 24 24\"\n",
              "       width=\"24px\">\n",
              "    <path d=\"M0 0h24v24H0V0z\" fill=\"none\"/>\n",
              "    <path d=\"M18.56 5.44l.94 2.06.94-2.06 2.06-.94-2.06-.94-.94-2.06-.94 2.06-2.06.94zm-11 1L8.5 8.5l.94-2.06 2.06-.94-2.06-.94L8.5 2.5l-.94 2.06-2.06.94zm10 10l.94 2.06.94-2.06 2.06-.94-2.06-.94-.94-2.06-.94 2.06-2.06.94z\"/><path d=\"M17.41 7.96l-1.37-1.37c-.4-.4-.92-.59-1.43-.59-.52 0-1.04.2-1.43.59L10.3 9.45l-7.72 7.72c-.78.78-.78 2.05 0 2.83L4 21.41c.39.39.9.59 1.41.59.51 0 1.02-.2 1.41-.59l7.78-7.78 2.81-2.81c.8-.78.8-2.07 0-2.86zM5.41 20L4 18.59l7.72-7.72 1.47 1.35L5.41 20z\"/>\n",
              "  </svg>\n",
              "      </button>\n",
              "      \n",
              "  <style>\n",
              "    .colab-df-container {\n",
              "      display:flex;\n",
              "      flex-wrap:wrap;\n",
              "      gap: 12px;\n",
              "    }\n",
              "\n",
              "    .colab-df-convert {\n",
              "      background-color: #E8F0FE;\n",
              "      border: none;\n",
              "      border-radius: 50%;\n",
              "      cursor: pointer;\n",
              "      display: none;\n",
              "      fill: #1967D2;\n",
              "      height: 32px;\n",
              "      padding: 0 0 0 0;\n",
              "      width: 32px;\n",
              "    }\n",
              "\n",
              "    .colab-df-convert:hover {\n",
              "      background-color: #E2EBFA;\n",
              "      box-shadow: 0px 1px 2px rgba(60, 64, 67, 0.3), 0px 1px 3px 1px rgba(60, 64, 67, 0.15);\n",
              "      fill: #174EA6;\n",
              "    }\n",
              "\n",
              "    [theme=dark] .colab-df-convert {\n",
              "      background-color: #3B4455;\n",
              "      fill: #D2E3FC;\n",
              "    }\n",
              "\n",
              "    [theme=dark] .colab-df-convert:hover {\n",
              "      background-color: #434B5C;\n",
              "      box-shadow: 0px 1px 3px 1px rgba(0, 0, 0, 0.15);\n",
              "      filter: drop-shadow(0px 1px 2px rgba(0, 0, 0, 0.3));\n",
              "      fill: #FFFFFF;\n",
              "    }\n",
              "  </style>\n",
              "\n",
              "      <script>\n",
              "        const buttonEl =\n",
              "          document.querySelector('#df-148d38cf-68b1-4806-8119-2d980cf19a68 button.colab-df-convert');\n",
              "        buttonEl.style.display =\n",
              "          google.colab.kernel.accessAllowed ? 'block' : 'none';\n",
              "\n",
              "        async function convertToInteractive(key) {\n",
              "          const element = document.querySelector('#df-148d38cf-68b1-4806-8119-2d980cf19a68');\n",
              "          const dataTable =\n",
              "            await google.colab.kernel.invokeFunction('convertToInteractive',\n",
              "                                                     [key], {});\n",
              "          if (!dataTable) return;\n",
              "\n",
              "          const docLinkHtml = 'Like what you see? Visit the ' +\n",
              "            '<a target=\"_blank\" href=https://colab.research.google.com/notebooks/data_table.ipynb>data table notebook</a>'\n",
              "            + ' to learn more about interactive tables.';\n",
              "          element.innerHTML = '';\n",
              "          dataTable['output_type'] = 'display_data';\n",
              "          await google.colab.output.renderOutput(dataTable, element);\n",
              "          const docLink = document.createElement('div');\n",
              "          docLink.innerHTML = docLinkHtml;\n",
              "          element.appendChild(docLink);\n",
              "        }\n",
              "      </script>\n",
              "    </div>\n",
              "  </div>\n",
              "  "
            ]
          },
          "metadata": {},
          "execution_count": 132
        }
      ]
    },
    {
      "cell_type": "markdown",
      "source": [
        "### Embeddings "
      ],
      "metadata": {
        "id": "fQeSSVtctxMI"
      }
    },
    {
      "cell_type": "markdown",
      "source": [
        "embedding model"
      ],
      "metadata": {
        "id": "7dBZ5qVKxlop"
      }
    },
    {
      "cell_type": "code",
      "source": [
        "model_ckpt = \"sentence-transformers/all-MiniLM-L6-v2\"\n",
        "tokenizer = AutoTokenizer.from_pretrained(model_ckpt)\n",
        "model = AutoModel.from_pretrained(model_ckpt)"
      ],
      "metadata": {
        "id": "snpP8en7jJPo"
      },
      "execution_count": null,
      "outputs": []
    },
    {
      "cell_type": "markdown",
      "source": [
        "get embeddings"
      ],
      "metadata": {
        "id": "X4P8uBxzx5tE"
      }
    },
    {
      "cell_type": "code",
      "source": [
        "def create_dist_data(list_of_sentences):  \n",
        "  encoded_input = tokenizer(list_of_sentences, padding=True, truncation=True, return_tensors=\"pt\")\n",
        "  with torch.no_grad():\n",
        "    model_output = model(**encoded_input)\n",
        "  token_embeddings = model_output.last_hidden_state  \n",
        "\n",
        "  def mean_pooling(model_output, attention_mask):\n",
        "    token_embeddings = model_output.last_hidden_state\n",
        "    input_mask_expanded = attention_mask.unsqueeze(-1).expand(token_embeddings.size()).float()\n",
        "    return torch.sum(token_embeddings * input_mask_expanded, 1) / torch.clamp(input_mask_expanded.sum(1), min=1e-9)\n",
        "\n",
        "  # Perform pooling\n",
        "  sentence_embeddings = mean_pooling(model_output, encoded_input['attention_mask'])\n",
        "\n",
        "  # Normalize embeddings\n",
        "  sentence_embeddings = F.normalize(sentence_embeddings, p=2, dim=1)\n",
        "\n",
        "  sentence_embeddings_np = sentence_embeddings.detach().numpy()\n",
        "\n",
        "  scores = np.zeros((sentence_embeddings_np.shape[0],sentence_embeddings_np.shape[0]))\n",
        "  dist = []\n",
        "  for idx in range(sentence_embeddings_np.shape[0]):\n",
        "    scores[idx,:] = cosine_similarity([sentence_embeddings_np[idx]],sentence_embeddings_np)[0]            \n",
        "    if idx < len(sentence_embeddings_np)-1:\n",
        "      dist.append(scores[idx,idx+1])\n",
        "  return dist\n",
        "\n",
        "dist = create_dist_data(sentences)"
      ],
      "metadata": {
        "id": "pRX2x9TJi__Y"
      },
      "execution_count": null,
      "outputs": []
    },
    {
      "cell_type": "code",
      "source": [
        "dist"
      ],
      "metadata": {
        "id": "ydcWYJ9psIM3",
        "colab": {
          "base_uri": "https://localhost:8080/"
        },
        "outputId": "1cba5531-5f7f-4e80-bda4-6046c0f4b0d5"
      },
      "execution_count": null,
      "outputs": [
        {
          "output_type": "execute_result",
          "data": {
            "text/plain": [
              "[0.7811174392700195]"
            ]
          },
          "metadata": {},
          "execution_count": 86
        }
      ]
    },
    {
      "cell_type": "markdown",
      "source": [
        "### Attitude "
      ],
      "metadata": {
        "id": "VO0vUgimVt70"
      }
    },
    {
      "cell_type": "markdown",
      "source": [
        "attitude models"
      ],
      "metadata": {
        "id": "fJ436WDDxnry"
      }
    },
    {
      "cell_type": "code",
      "source": [
        "# model name from huggingface.co/model name_id:model_name\n",
        "models_name = {\n",
        "  'roberta':'tanoManzo/roberta-attitude',\n",
        "#  'distilbert':'tanoManzo/distilbert-attitude',\n",
        "#  'minilm':'tanoManzo/minilm-attitude',\n",
        "#  'bloom':'tanoManzo/bloom-attitude'\n",
        "}\n",
        "\n",
        "# load tokenizer and model \n",
        "tokenizers = [AutoTokenizer.from_pretrained(model_name) for model_name in models_name.values()]\n",
        "models= [AutoModelForSequenceClassification.from_pretrained(model_name) for model_name in models_name.values()]"
      ],
      "metadata": {
        "id": "M5I5od_Y4eb0"
      },
      "execution_count": null,
      "outputs": []
    },
    {
      "cell_type": "code",
      "source": [
        "def create_sentiment_labels(df_notes_nicu_selected, list_of_sentences):\n",
        "  # select dataframe split\n",
        "  df_to_infer = df_notes_nicu_selected\n",
        "\n",
        "  # parameters to set \n",
        "  total_notes = len(df_to_infer)\n",
        "  batch_size = 1\n",
        "  iterations = int(len(df_to_infer)/batch_size)\n",
        "\n",
        "  # start label creation\n",
        "  l_scores = {k:[] for k in models_name.keys()} # dict Model: labels \n",
        "  l_labels = {k:[] for k in models_name.keys()} # dict Model: scoress\n",
        "  #print(iterations)\n",
        "  for iter in range(iterations):\n",
        "    \n",
        "\n",
        "    idx_start = batch_size*iter     # first window sentence idx in the dataframe\n",
        "    idx_end = batch_size*(iter+1)   # last window sentence idx in the dataframe\n",
        "    \n",
        "    # get row sentences for batch\n",
        "    list_of_sentences = list(df_to_infer['TEXT'].iloc[idx_start:idx_end].values)\n",
        "    #print(len(models_name))\n",
        "    for (index, (key, value)) in enumerate(models_name.items()):\n",
        "      \n",
        "      # tokenized input for the model \n",
        "      tokenizer = tokenizers[index]\n",
        "      batch = tokenizer(list_of_sentences, # list of sentence \n",
        "                      padding=True, # add if short \n",
        "                      truncation=True, # remove if long \n",
        "                      max_length=512, # sent length\n",
        "                      return_tensors=\"pt\" # to return pytorch tensor (NO for TF)\n",
        "                      )\n",
        "      #print(batch)        \n",
        "      model = models[index]\n",
        "      with torch.no_grad():\n",
        "        outputs = model(**batch)\n",
        "        predictions = F.softmax(outputs.logits, dim=1)\n",
        "        label_ids = torch.argmax(predictions, dim=1)\n",
        "\n",
        "        labels = [model.config.id2label[label_id] for label_id in label_ids.tolist()]\n",
        "        scores = [round(float(predictions[idx][label_id].item()),4) for idx, label_id in enumerate(label_ids.tolist())]\n",
        "        l_labels[key].extend(labels)\n",
        "        l_scores[key].extend(scores)\n",
        "      #print(l_labels)\n",
        "  return l_labels\n",
        "\n",
        "l_labels = create_sentiment_labels(df_notes_nicu_selected,sentences)"
      ],
      "metadata": {
        "id": "adOU0EN_LFXk"
      },
      "execution_count": null,
      "outputs": []
    },
    {
      "cell_type": "code",
      "source": [
        "l_labels"
      ],
      "metadata": {
        "id": "5MM2ih6CL_jT",
        "colab": {
          "base_uri": "https://localhost:8080/"
        },
        "outputId": "39de40c2-0ceb-43ae-bc50-cbeb90ed9bf4"
      },
      "execution_count": null,
      "outputs": [
        {
          "output_type": "execute_result",
          "data": {
            "text/plain": [
              "{'roberta': ['Overall Neutral Note', 'Overall Neutral Note']}"
            ]
          },
          "metadata": {},
          "execution_count": 96
        }
      ]
    },
    {
      "cell_type": "code",
      "source": [
        "df_notes_nicu_selected"
      ],
      "metadata": {
        "colab": {
          "base_uri": "https://localhost:8080/",
          "height": 363
        },
        "id": "5KhsJZbKKO38",
        "outputId": "19efe9f0-aaf0-4b76-e05c-6b7d951775c5"
      },
      "execution_count": null,
      "outputs": [
        {
          "output_type": "execute_result",
          "data": {
            "text/plain": [
              "         ROW_ID  SUBJECT_ID   CGID   CHARTDATE  \\\n",
              "444896  1807104        9167  14098  2181-07-12   \n",
              "504537  1807110        9167  14098  2181-07-13   \n",
              "504578  1807135        9167  14098  2181-07-18   \n",
              "52855   1807145        9167  14098  2181-07-19   \n",
              "348301  1807178        9167  14098  2181-07-26   \n",
              "180321  1807198        9167  14098  2181-07-29   \n",
              "156527  1807205        9167  14098  2181-07-30   \n",
              "349714  1807226        9167  14098  2181-08-03   \n",
              "336484  1807230        9167  14098  2181-08-04   \n",
              "415094  1807245        9167  14098  2181-08-07   \n",
              "\n",
              "                                                     TEXT  \n",
              "444896  1900-0700 NPN\\nI have examined baby boy [**Nam...  \n",
              "504537  1900-0700 NPN\\nI have examined baby boy [**Nam...  \n",
              "504578  1900-0700 NPN\\nI have examined baby boy [**Nam...  \n",
              "52855   1900-0700 NPN\\n\\n\\nFEN: Weight=1.855kg (+55 gr...  \n",
              "348301  1900-0700 NPN\\n\\n\\nFEN: Weight=1.985kg (+5 gra...  \n",
              "180321  1900-0700 NPN\\n\\n\\nRESP: Infant received orall...  \n",
              "156527  1900-0700 NPN\\n\\n\\nFEN: Weight=2.175kg (-25 gr...  \n",
              "349714  1900-0700 NPN\\n\\n\\nFEN: Weight=2.280 kg (+95 g...  \n",
              "336484  1900-0700 NPN\\n\\n\\nFEN: Weight=2.285 kg (+5 gr...  \n",
              "415094  0700-1900 NPN\\nFEN: Ad lib with a [** **] of 1...  "
            ],
            "text/html": [
              "\n",
              "  <div id=\"df-a95c30bd-272e-40ed-964c-3d6e2bc4e0bb\">\n",
              "    <div class=\"colab-df-container\">\n",
              "      <div>\n",
              "<style scoped>\n",
              "    .dataframe tbody tr th:only-of-type {\n",
              "        vertical-align: middle;\n",
              "    }\n",
              "\n",
              "    .dataframe tbody tr th {\n",
              "        vertical-align: top;\n",
              "    }\n",
              "\n",
              "    .dataframe thead th {\n",
              "        text-align: right;\n",
              "    }\n",
              "</style>\n",
              "<table border=\"1\" class=\"dataframe\">\n",
              "  <thead>\n",
              "    <tr style=\"text-align: right;\">\n",
              "      <th></th>\n",
              "      <th>ROW_ID</th>\n",
              "      <th>SUBJECT_ID</th>\n",
              "      <th>CGID</th>\n",
              "      <th>CHARTDATE</th>\n",
              "      <th>TEXT</th>\n",
              "    </tr>\n",
              "  </thead>\n",
              "  <tbody>\n",
              "    <tr>\n",
              "      <th>444896</th>\n",
              "      <td>1807104</td>\n",
              "      <td>9167</td>\n",
              "      <td>14098</td>\n",
              "      <td>2181-07-12</td>\n",
              "      <td>1900-0700 NPN\\nI have examined baby boy [**Nam...</td>\n",
              "    </tr>\n",
              "    <tr>\n",
              "      <th>504537</th>\n",
              "      <td>1807110</td>\n",
              "      <td>9167</td>\n",
              "      <td>14098</td>\n",
              "      <td>2181-07-13</td>\n",
              "      <td>1900-0700 NPN\\nI have examined baby boy [**Nam...</td>\n",
              "    </tr>\n",
              "    <tr>\n",
              "      <th>504578</th>\n",
              "      <td>1807135</td>\n",
              "      <td>9167</td>\n",
              "      <td>14098</td>\n",
              "      <td>2181-07-18</td>\n",
              "      <td>1900-0700 NPN\\nI have examined baby boy [**Nam...</td>\n",
              "    </tr>\n",
              "    <tr>\n",
              "      <th>52855</th>\n",
              "      <td>1807145</td>\n",
              "      <td>9167</td>\n",
              "      <td>14098</td>\n",
              "      <td>2181-07-19</td>\n",
              "      <td>1900-0700 NPN\\n\\n\\nFEN: Weight=1.855kg (+55 gr...</td>\n",
              "    </tr>\n",
              "    <tr>\n",
              "      <th>348301</th>\n",
              "      <td>1807178</td>\n",
              "      <td>9167</td>\n",
              "      <td>14098</td>\n",
              "      <td>2181-07-26</td>\n",
              "      <td>1900-0700 NPN\\n\\n\\nFEN: Weight=1.985kg (+5 gra...</td>\n",
              "    </tr>\n",
              "    <tr>\n",
              "      <th>180321</th>\n",
              "      <td>1807198</td>\n",
              "      <td>9167</td>\n",
              "      <td>14098</td>\n",
              "      <td>2181-07-29</td>\n",
              "      <td>1900-0700 NPN\\n\\n\\nRESP: Infant received orall...</td>\n",
              "    </tr>\n",
              "    <tr>\n",
              "      <th>156527</th>\n",
              "      <td>1807205</td>\n",
              "      <td>9167</td>\n",
              "      <td>14098</td>\n",
              "      <td>2181-07-30</td>\n",
              "      <td>1900-0700 NPN\\n\\n\\nFEN: Weight=2.175kg (-25 gr...</td>\n",
              "    </tr>\n",
              "    <tr>\n",
              "      <th>349714</th>\n",
              "      <td>1807226</td>\n",
              "      <td>9167</td>\n",
              "      <td>14098</td>\n",
              "      <td>2181-08-03</td>\n",
              "      <td>1900-0700 NPN\\n\\n\\nFEN: Weight=2.280 kg (+95 g...</td>\n",
              "    </tr>\n",
              "    <tr>\n",
              "      <th>336484</th>\n",
              "      <td>1807230</td>\n",
              "      <td>9167</td>\n",
              "      <td>14098</td>\n",
              "      <td>2181-08-04</td>\n",
              "      <td>1900-0700 NPN\\n\\n\\nFEN: Weight=2.285 kg (+5 gr...</td>\n",
              "    </tr>\n",
              "    <tr>\n",
              "      <th>415094</th>\n",
              "      <td>1807245</td>\n",
              "      <td>9167</td>\n",
              "      <td>14098</td>\n",
              "      <td>2181-08-07</td>\n",
              "      <td>0700-1900 NPN\\nFEN: Ad lib with a [** **] of 1...</td>\n",
              "    </tr>\n",
              "  </tbody>\n",
              "</table>\n",
              "</div>\n",
              "      <button class=\"colab-df-convert\" onclick=\"convertToInteractive('df-a95c30bd-272e-40ed-964c-3d6e2bc4e0bb')\"\n",
              "              title=\"Convert this dataframe to an interactive table.\"\n",
              "              style=\"display:none;\">\n",
              "        \n",
              "  <svg xmlns=\"http://www.w3.org/2000/svg\" height=\"24px\"viewBox=\"0 0 24 24\"\n",
              "       width=\"24px\">\n",
              "    <path d=\"M0 0h24v24H0V0z\" fill=\"none\"/>\n",
              "    <path d=\"M18.56 5.44l.94 2.06.94-2.06 2.06-.94-2.06-.94-.94-2.06-.94 2.06-2.06.94zm-11 1L8.5 8.5l.94-2.06 2.06-.94-2.06-.94L8.5 2.5l-.94 2.06-2.06.94zm10 10l.94 2.06.94-2.06 2.06-.94-2.06-.94-.94-2.06-.94 2.06-2.06.94z\"/><path d=\"M17.41 7.96l-1.37-1.37c-.4-.4-.92-.59-1.43-.59-.52 0-1.04.2-1.43.59L10.3 9.45l-7.72 7.72c-.78.78-.78 2.05 0 2.83L4 21.41c.39.39.9.59 1.41.59.51 0 1.02-.2 1.41-.59l7.78-7.78 2.81-2.81c.8-.78.8-2.07 0-2.86zM5.41 20L4 18.59l7.72-7.72 1.47 1.35L5.41 20z\"/>\n",
              "  </svg>\n",
              "      </button>\n",
              "      \n",
              "  <style>\n",
              "    .colab-df-container {\n",
              "      display:flex;\n",
              "      flex-wrap:wrap;\n",
              "      gap: 12px;\n",
              "    }\n",
              "\n",
              "    .colab-df-convert {\n",
              "      background-color: #E8F0FE;\n",
              "      border: none;\n",
              "      border-radius: 50%;\n",
              "      cursor: pointer;\n",
              "      display: none;\n",
              "      fill: #1967D2;\n",
              "      height: 32px;\n",
              "      padding: 0 0 0 0;\n",
              "      width: 32px;\n",
              "    }\n",
              "\n",
              "    .colab-df-convert:hover {\n",
              "      background-color: #E2EBFA;\n",
              "      box-shadow: 0px 1px 2px rgba(60, 64, 67, 0.3), 0px 1px 3px 1px rgba(60, 64, 67, 0.15);\n",
              "      fill: #174EA6;\n",
              "    }\n",
              "\n",
              "    [theme=dark] .colab-df-convert {\n",
              "      background-color: #3B4455;\n",
              "      fill: #D2E3FC;\n",
              "    }\n",
              "\n",
              "    [theme=dark] .colab-df-convert:hover {\n",
              "      background-color: #434B5C;\n",
              "      box-shadow: 0px 1px 3px 1px rgba(0, 0, 0, 0.15);\n",
              "      filter: drop-shadow(0px 1px 2px rgba(0, 0, 0, 0.3));\n",
              "      fill: #FFFFFF;\n",
              "    }\n",
              "  </style>\n",
              "\n",
              "      <script>\n",
              "        const buttonEl =\n",
              "          document.querySelector('#df-a95c30bd-272e-40ed-964c-3d6e2bc4e0bb button.colab-df-convert');\n",
              "        buttonEl.style.display =\n",
              "          google.colab.kernel.accessAllowed ? 'block' : 'none';\n",
              "\n",
              "        async function convertToInteractive(key) {\n",
              "          const element = document.querySelector('#df-a95c30bd-272e-40ed-964c-3d6e2bc4e0bb');\n",
              "          const dataTable =\n",
              "            await google.colab.kernel.invokeFunction('convertToInteractive',\n",
              "                                                     [key], {});\n",
              "          if (!dataTable) return;\n",
              "\n",
              "          const docLinkHtml = 'Like what you see? Visit the ' +\n",
              "            '<a target=\"_blank\" href=https://colab.research.google.com/notebooks/data_table.ipynb>data table notebook</a>'\n",
              "            + ' to learn more about interactive tables.';\n",
              "          element.innerHTML = '';\n",
              "          dataTable['output_type'] = 'display_data';\n",
              "          await google.colab.output.renderOutput(dataTable, element);\n",
              "          const docLink = document.createElement('div');\n",
              "          docLink.innerHTML = docLinkHtml;\n",
              "          element.appendChild(docLink);\n",
              "        }\n",
              "      </script>\n",
              "    </div>\n",
              "  </div>\n",
              "  "
            ]
          },
          "metadata": {},
          "execution_count": 101
        }
      ]
    },
    {
      "cell_type": "code",
      "source": [
        "# write data to rows\n",
        "df_to_plot = pd.DataFrame(columns = ['CGID','SUBJECT_ID','emb_distance','attitudes'])\n",
        "cgid = 14098\n",
        "for subject_id in cg_subjects_dict[cgid]:\n",
        "  df_notes_nicu_selected, sentence = create_sentences(cgid=cgid, subid=subject_id)\n",
        "  dist = create_dist_data(sentence)\n",
        "  l_labels = create_sentiment_labels(df_notes_nicu_selected,sentence)\n",
        "  print([cgid, subject_id, dist, list(*l_labels.values())])\n",
        "  df_to_plot.loc[len(df_to_plot)] = [cgid, subject_id, dist, list(*l_labels.values())]"
      ],
      "metadata": {
        "colab": {
          "base_uri": "https://localhost:8080/"
        },
        "id": "ee31TE4AkySL",
        "outputId": "60a71c03-2c6c-4239-bc95-46cc248be250"
      },
      "execution_count": null,
      "outputs": [
        {
          "output_type": "stream",
          "name": "stdout",
          "text": [
            "[14098, 13155, [0.7811174392700195], ['Overall Neutral Note', 'Overall Neutral Note']]\n",
            "[14098, 9167, [0.8762198686599731, 0.9771097302436829, 0.39668411016464233, 0.7279915809631348, 0.731563925743103, 0.8322478532791138, 0.7187952995300293, 0.9078134298324585, 0.506513237953186], ['Overall Neutral Note', 'Overall Neutral Note', 'Overall Neutral Note', 'Overall Neutral Note', 'Overall Neutral Note', 'Overall Neutral Note', 'Overall Neutral Note', 'Overall Neutral Note', 'Overall Neutral Note', 'Overall Neutral Note']]\n",
            "[14098, 478, [0.7966984510421753, 0.8368499279022217], ['Overall Neutral Note', 'Overall Neutral Note', 'Overall Neutral Note']]\n",
            "[14098, 2465, [], ['Overall Neutral Note']]\n",
            "[14098, 15836, [], ['Overall Neutral Note']]\n",
            "[14098, 2575, [0.7647846937179565, 0.9429589509963989, 0.7400617599487305, 0.8496228456497192], ['Overall Neutral Note', 'Overall Neutral Note', 'Overall Neutral Note', 'Overall Neutral Note', 'Overall Neutral Note']]\n",
            "[14098, 6764, [0.8720456957817078, 0.7830241918563843, 0.718140721321106], ['Overall Neutral Note', 'Overall Neutral Note', 'Overall Neutral Note', 'Overall Neutral Note']]\n",
            "[14098, 17153, [0.6817046403884888, 0.8931940197944641], ['Overall Neutral Note', 'Overall Neutral Note', 'Overall Neutral Note']]\n",
            "[14098, 20281, [0.7263323664665222, 0.8887982368469238, 0.9531145691871643], ['Overall Neutral Note', 'Overall Neutral Note', 'Overall Neutral Note', 'Overall Neutral Note']]\n",
            "[14098, 5322, [0.8862109184265137], ['Overall Neutral Note', 'Overall Neutral Note']]\n",
            "[14098, 3638, [], ['Overall Neutral Note']]\n",
            "[14098, 12652, [], ['Overall Neutral Note']]\n",
            "[14098, 16955, [], ['Overall Neutral Note']]\n",
            "[14098, 20887, [0.6702281832695007, 0.7151654362678528], ['Overall Neutral Note', 'Overall Neutral Note', 'Overall Neutral Note']]\n",
            "[14098, 4205, [0.8974815607070923, 0.9690094590187073, 0.49631887674331665, 0.8341439962387085], ['Overall Neutral Note', 'Overall Neutral Note', 'Overall Neutral Note', 'Overall Neutral Note', 'Overall Neutral Note']]\n",
            "[14098, 24527, [], ['Overall Neutral Note']]\n",
            "[14098, 18039, [], ['Overall Neutral Note']]\n",
            "[14098, 2624, [0.8608500957489014], ['Overall Neutral Note', 'Overall Neutral Note']]\n",
            "[14098, 10824, [], ['Overall Neutral Note']]\n",
            "[14098, 2970, [0.6778712868690491], ['Overall Neutral Note', 'Overall Neutral Note']]\n",
            "[14098, 4604, [0.904295802116394, 0.6088258028030396, 0.5710594058036804, 0.375185489654541, 0.3882571756839752], ['Overall Neutral Note', 'Overall Neutral Note', 'Overall Neutral Note', 'Overall Neutral Note', 'Overall Neutral Note', 'Overall Neutral Note']]\n",
            "[14098, 19968, [0.704662561416626], ['Overall Neutral Note', 'Overall Neutral Note']]\n",
            "[14098, 7170, [0.7835803031921387, 0.775310754776001], ['Overall Neutral Note', 'Overall Neutral Note', 'Overall Neutral Note']]\n",
            "[14098, 23655, [0.9179718494415283, 0.8885588645935059, 0.7158154249191284], ['Overall Neutral Note', 'Overall Neutral Note', 'Overall Neutral Note', 'Overall Neutral Note']]\n",
            "[14098, 15865, [0.9699621200561523, 0.8330931663513184, 0.9390037059783936, 0.8416427373886108, 0.8074948787689209, 0.9188003540039062, 0.81929612159729, 0.9048293232917786, 0.9386789798736572, 0.9236627221107483, 0.9380110502243042, 0.935671329498291, 0.9438267946243286], ['Overall Neutral Note', 'Overall Neutral Note', 'Overall Neutral Note', 'Overall Neutral Note', 'Overall Neutral Note', 'Overall Neutral Note', 'Overall Neutral Note', 'Overall Neutral Note', 'Overall Neutral Note', 'Overall Neutral Note', 'Overall Neutral Note', 'Overall Neutral Note', 'Overall Neutral Note', 'Overall Neutral Note']]\n",
            "[14098, 22408, [], ['Overall Neutral Note']]\n",
            "[14098, 10318, [0.7113268375396729, 0.1565370112657547, 0.23945073783397675, 0.72840815782547, 0.8124637603759766, 0.8859057426452637, 0.8587028980255127, 0.8697620630264282], ['Overall Neutral Note', 'Overall Neutral Note', 'Overall Neutral Note', 'Overall Neutral Note', 'Overall Neutral Note', 'Overall Neutral Note', 'Overall Neutral Note', 'Overall Neutral Note', 'Overall Neutral Note']]\n",
            "[14098, 20911, [0.9309201240539551, 0.8377481698989868, 0.9404911994934082, 0.9107325673103333, 0.9493265151977539, 0.8791524171829224, 0.86052405834198, 0.8988678455352783, 0.9037321209907532, 0.8982667326927185, 0.8523856401443481, 0.9270287752151489], ['Overall Neutral Note', 'Overall Neutral Note', 'Overall Neutral Note', 'Overall Neutral Note', 'Overall Neutral Note', 'Overall Neutral Note', 'Overall Neutral Note', 'Overall Neutral Note', 'Overall Neutral Note', 'Overall Neutral Note', 'Overall Neutral Note', 'Overall Neutral Note', 'Overall Neutral Note']]\n",
            "[14098, 24437, [], ['Overall Neutral Note']]\n",
            "[14098, 12029, [], ['Overall Neutral Note']]\n",
            "[14098, 15845, [], ['Overall Neutral Note']]\n",
            "[14098, 3453, [0.7440802454948425], ['Overall Neutral Note', 'Overall Neutral Note']]\n",
            "[14098, 21287, [0.9624095559120178], ['Overall Neutral Note', 'Overall Neutral Note']]\n",
            "[14098, 4019, [], ['Overall Neutral Note']]\n",
            "[14098, 15037, [0.7758606672286987, 0.8496650457382202], ['Overall Neutral Note', 'Overall Neutral Note', 'Overall Neutral Note']]\n",
            "[14098, 3027, [0.8942110538482666, 0.7379454374313354, 0.9059883952140808, 0.9103527665138245, 0.9429745078086853], ['Overall Neutral Note', 'Overall Neutral Note', 'Overall Neutral Note', 'Overall Neutral Note', 'Overall Neutral Note', 'Overall Neutral Note']]\n",
            "[14098, 25625, [0.9605815410614014, 0.9001392126083374, 0.8971146941184998, 0.9033252596855164, 0.8499021530151367], ['Overall Neutral Note', 'Overall Neutral Note', 'Overall Neutral Note', 'Overall Neutral Note', 'Overall Neutral Note', 'Overall Neutral Note']]\n",
            "[14098, 8577, [0.19867637753486633, 0.22150520980358124, 0.8771011829376221], ['Overall Neutral Note', 'Overall Neutral Note', 'Overall Neutral Note', 'Overall Neutral Note']]\n",
            "[14098, 4769, [0.7109625339508057, 0.8384655117988586], ['Overall Neutral Note', 'Overall Neutral Note', 'Overall Neutral Note']]\n",
            "[14098, 25783, [], ['Overall Neutral Note']]\n",
            "[14098, 19115, [0.9309172034263611, 0.7899659872055054, 0.927295982837677, 0.8728229403495789, 0.871628999710083, 0.8714192509651184, 0.932674765586853, 0.9151986837387085], ['Overall Neutral Note', 'Overall Neutral Note', 'Overall Neutral Note', 'Overall Neutral Note', 'Overall Neutral Note', 'Overall Neutral Note', 'Overall Neutral Note', 'Overall Neutral Note', 'Overall Neutral Note']]\n",
            "[14098, 12802, [0.8975116014480591, 0.18452319502830505, 0.23381179571151733, 0.9799638390541077, 0.26522693037986755, 0.28082162141799927, 0.9368654489517212, 0.9103540182113647, 0.9531805515289307, 0.914506733417511, 0.9422030448913574, 0.9023973941802979], ['Overall Neutral Note', 'Overall Neutral Note', 'Overall Neutral Note', 'Overall Neutral Note', 'Overall Neutral Note', 'Overall Neutral Note', 'Overall Neutral Note', 'Overall Neutral Note', 'Overall Neutral Note', 'Overall Neutral Note', 'Overall Neutral Note', 'Overall Neutral Note', 'Overall Neutral Note']]\n",
            "[14098, 24203, [], ['Overall Neutral Note']]\n",
            "[14098, 5341, [0.7674001455307007, 0.9037669897079468], ['Overall Neutral Note', 'Overall Neutral Note', 'Overall Neutral Note']]\n",
            "[14098, 3170, [0.7450816035270691, 0.4350600838661194, 0.47638195753097534, 0.9119705557823181, 0.9761311411857605, 0.8625083565711975, 0.9430458545684814, 0.9757348895072937, 0.9655107259750366, 0.8737399578094482, 0.8628902435302734, 0.9312705993652344], ['Overall Neutral Note', 'Overall Neutral Note', 'Overall Neutral Note', 'Overall Neutral Note', 'Overall Neutral Note', 'Overall Neutral Note', 'Overall Neutral Note', 'Overall Neutral Note', 'Overall Neutral Note', 'Overall Neutral Note', 'Overall Neutral Note', 'Overall Neutral Note', 'Overall Neutral Note']]\n",
            "[14098, 18040, [0.8957865238189697], ['Overall Neutral Note', 'Overall Neutral Note']]\n",
            "[14098, 7268, [0.8727350234985352], ['Overall Neutral Note', 'Overall Neutral Note']]\n",
            "[14098, 21984, [], ['Overall Neutral Note']]\n",
            "[14098, 3001, [0.8875932693481445, 0.8979614973068237, 0.9008307456970215, 0.8820191621780396], ['Overall Neutral Note', 'Overall Neutral Note', 'Overall Neutral Note', 'Overall Neutral Note', 'Overall Neutral Note']]\n",
            "[14098, 11240, [0.7879312634468079], ['Overall Neutral Note', 'Overall Neutral Note']]\n",
            "[14098, 13527, [0.9284396171569824, 0.6289048790931702, 0.11050137877464294], ['Overall Neutral Note', 'Overall Neutral Note', 'Overall Neutral Note', 'Overall Neutral Note']]\n",
            "[14098, 7850, [0.6640886664390564, 0.8300511837005615, 0.8023842573165894, 0.799364447593689, 0.8800574541091919, 0.9292222857475281], ['Overall Neutral Note', 'Overall Neutral Note', 'Overall Neutral Note', 'Overall Neutral Note', 'Overall Neutral Note', 'Overall Neutral Note', 'Overall Neutral Note']]\n",
            "[14098, 1373, [0.9648778438568115, 0.8521108627319336, 0.8297762274742126, 0.3115021884441376, 0.9975818395614624, 0.3789498805999756, 0.8906164169311523, 0.8700886964797974, 0.8559550046920776, 0.9337576627731323, 0.9237903356552124], ['Overall Neutral Note', 'Overall Neutral Note', 'Overall Neutral Note', 'Overall Neutral Note', 'Overall Neutral Note', 'Overall Neutral Note', 'Overall Neutral Note', 'Overall Neutral Note', 'Overall Neutral Note', 'Overall Neutral Note', 'Overall Neutral Note', 'Overall Neutral Note']]\n",
            "[14098, 3578, [0.8077888488769531, 0.8749547004699707], ['Overall Neutral Note', 'Overall Neutral Note', 'Overall Neutral Note']]\n",
            "[14098, 851, [0.9052823185920715], ['Overall Neutral Note', 'Overall Neutral Note']]\n",
            "[14098, 14746, [0.8859377503395081, 0.9497273564338684, 0.8372433185577393, 0.9091378450393677, 0.9455604553222656], ['Overall Neutral Note', 'Overall Neutral Note', 'Overall Neutral Note', 'Overall Neutral Note', 'Overall Neutral Note', 'Overall Neutral Note']]\n",
            "[14098, 3504, [], ['Overall Neutral Note']]\n",
            "[14098, 23932, [0.8597503900527954, 0.4662414789199829], ['Overall Neutral Note', 'Overall Neutral Note', 'Overall Neutral Note']]\n",
            "[14098, 14801, [], ['Overall Neutral Note']]\n",
            "[14098, 6372, [0.8905187845230103, 0.9120345115661621, 0.8279670476913452], ['Overall Neutral Note', 'Overall Neutral Note', 'Overall Neutral Note', 'Overall Neutral Note']]\n",
            "[14098, 19557, [], ['Overall Neutral Note']]\n",
            "[14098, 13058, [0.7760265469551086], ['Overall Neutral Note', 'Overall Neutral Note']]\n",
            "[14098, 20811, [0.6163697242736816, 0.8090916872024536], ['Overall Neutral Note', 'Overall Neutral Note', 'Overall Neutral Note']]\n",
            "[14098, 7285, [0.8547301292419434], ['Overall Neutral Note', 'Overall Neutral Note']]\n",
            "[14098, 1204, [], ['Overall Neutral Note']]\n",
            "[14098, 24240, [0.6218675374984741, 0.8825489282608032, 0.4721766710281372, 0.35304123163223267], ['Overall Neutral Note', 'Overall Neutral Note', 'Overall Neutral Note', 'Overall Neutral Note', 'Overall Neutral Note']]\n",
            "[14098, 713, [], ['Overall Neutral Note']]\n",
            "[14098, 4315, [0.9538589715957642, 0.704630970954895], ['Overall Neutral Note', 'Overall Neutral Note', 'Overall Neutral Note']]\n",
            "[14098, 4447, [0.74556565284729, 0.7711776494979858, 0.9173969030380249, 0.9321363568305969], ['Overall Neutral Note', 'Overall Neutral Note', 'Overall Neutral Note', 'Overall Neutral Note', 'Overall Neutral Note']]\n",
            "[14098, 5290, [0.9326475858688354, 0.9339083433151245, 0.8873963356018066, 0.9035980701446533, 0.9213610887527466, 0.9489609599113464, 0.9338091611862183, 0.9136829376220703], ['Overall Neutral Note', 'Overall Neutral Note', 'Overall Neutral Note', 'Overall Neutral Note', 'Overall Neutral Note', 'Overall Neutral Note', 'Overall Neutral Note', 'Overall Neutral Note', 'Overall Neutral Note']]\n",
            "[14098, 8164, [], ['Overall Neutral Note']]\n",
            "[14098, 9631, [0.9715651273727417, 0.8867965340614319, 0.8293476104736328, 0.8407251834869385, 0.8501842021942139, 0.9554823637008667, 0.7342838048934937, 0.8603118062019348, 0.8402210474014282, 0.27499228715896606, 0.32420316338539124], ['Overall Neutral Note', 'Overall Neutral Note', 'Overall Neutral Note', 'Overall Neutral Note', 'Overall Neutral Note', 'Overall Neutral Note', 'Overall Neutral Note', 'Overall Neutral Note', 'Overall Neutral Note', 'Overall Neutral Note', 'Overall Neutral Note', 'Overall Neutral Note']]\n",
            "[14098, 8387, [0.6951116323471069], ['Overall Neutral Note', 'Overall Neutral Note']]\n",
            "[14098, 18714, [0.4441802203655243], ['Overall Neutral Note', 'Overall Neutral Note']]\n",
            "[14098, 8462, [0.7896643877029419, 0.7701081037521362, 0.8771650791168213, 0.8727269768714905, 0.41854187846183777, 0.49494990706443787], ['Overall Neutral Note', 'Overall Neutral Note', 'Overall Neutral Note', 'Overall Neutral Note', 'Overall Neutral Note', 'Overall Neutral Note', 'Overall Neutral Note']]\n",
            "[14098, 6095, [], ['Overall Neutral Note']]\n",
            "[14098, 13698, [], ['Overall Neutral Note']]\n",
            "[14098, 6611, [0.46610599756240845], ['Overall Neutral Note', 'Overall Negative Note']]\n",
            "[14098, 26163, [], ['Overall Neutral Note']]\n",
            "[14098, 20532, [], ['Overall Neutral Note']]\n",
            "[14098, 10008, [0.9404711723327637, 0.9512346386909485, 0.9274808168411255, 0.9376074075698853, 0.9156443476676941, 0.9421554207801819, 0.9536570310592651, 0.8972917199134827, 0.9602274298667908, 0.8631982803344727, 0.96201491355896], ['Overall Neutral Note', 'Overall Neutral Note', 'Overall Neutral Note', 'Overall Neutral Note', 'Overall Neutral Note', 'Overall Neutral Note', 'Overall Neutral Note', 'Overall Neutral Note', 'Overall Neutral Note', 'Overall Neutral Note', 'Overall Neutral Note', 'Overall Neutral Note']]\n",
            "[14098, 17494, [0.9271968007087708, 0.8968849182128906, 0.36145246028900146, 0.3468549847602844, 0.9460747241973877, 0.9842545986175537, 0.935344398021698], ['Overall Neutral Note', 'Overall Neutral Note', 'Overall Neutral Note', 'Overall Neutral Note', 'Overall Neutral Note', 'Overall Neutral Note', 'Overall Neutral Note', 'Overall Neutral Note']]\n",
            "[14098, 14001, [0.7125890851020813], ['Overall Neutral Note', 'Overall Neutral Note']]\n",
            "[14098, 5894, [], ['Overall Neutral Note']]\n",
            "[14098, 14303, [0.8625814318656921], ['Overall Neutral Note', 'Overall Neutral Note']]\n",
            "[14098, 1154, [0.911405086517334, 0.8599166870117188, 0.9195417165756226, 0.8957502245903015, 0.39736950397491455, 0.4325180649757385], ['Overall Neutral Note', 'Overall Neutral Note', 'Overall Neutral Note', 'Overall Neutral Note', 'Overall Neutral Note', 'Overall Neutral Note', 'Overall Neutral Note']]\n",
            "[14098, 17975, [], ['Overall Neutral Note']]\n",
            "[14098, 8468, [0.9368156790733337, 0.4536835551261902, 0.4613074064254761, 0.9117447137832642, 0.846230149269104, 0.9064342975616455, 0.9520692825317383, 0.92884761095047], ['Overall Neutral Note', 'Overall Neutral Note', 'Overall Neutral Note', 'Overall Neutral Note', 'Overall Neutral Note', 'Overall Neutral Note', 'Overall Neutral Note', 'Overall Neutral Note', 'Overall Neutral Note']]\n",
            "[14098, 9684, [0.8781601190567017, 0.8338314294815063, 0.9041517376899719], ['Overall Neutral Note', 'Overall Neutral Note', 'Overall Neutral Note', 'Overall Neutral Note']]\n",
            "[14098, 13300, [0.5264078974723816], ['Overall Neutral Note', 'Overall Neutral Note']]\n",
            "[14098, 20676, [], ['Overall Neutral Note']]\n",
            "[14098, 16956, [0.8273974657058716], ['Overall Neutral Note', 'Overall Neutral Note']]\n",
            "[14098, 9911, [0.9368264675140381], ['Overall Neutral Note', 'Overall Neutral Note']]\n",
            "[14098, 2218, [], ['Overall Neutral Note']]\n",
            "[14098, 21680, [0.8732848167419434], ['Overall Neutral Note', 'Overall Neutral Note']]\n",
            "[14098, 3916, [], ['Overall Neutral Note']]\n",
            "[14098, 17057, [], ['Overall Neutral Note']]\n",
            "[14098, 6188, [0.816389799118042, 0.9847294092178345, 0.21627727150917053, 0.21563610434532166, 0.9584755897521973], ['Overall Neutral Note', 'Overall Neutral Note', 'Overall Neutral Note', 'Overall Neutral Note', 'Overall Neutral Note', 'Overall Neutral Note']]\n",
            "[14098, 6380, [0.9551781415939331, 0.9540913105010986, 0.8519107103347778, 0.8989382386207581, 0.8666871786117554], ['Overall Neutral Note', 'Overall Neutral Note', 'Overall Neutral Note', 'Overall Neutral Note', 'Overall Neutral Note', 'Overall Neutral Note']]\n",
            "[14098, 7838, [0.8435738682746887], ['Overall Neutral Note', 'Overall Neutral Note']]\n",
            "[14098, 16957, [0.8370224237442017, 0.8747045993804932, 0.838873028755188], ['Overall Neutral Note', 'Overall Neutral Note', 'Overall Neutral Note', 'Overall Neutral Note']]\n",
            "[14098, 4380, [], ['Overall Neutral Note']]\n",
            "[14098, 21790, [], ['Overall Neutral Note']]\n",
            "[14098, 11022, [0.9574601650238037], ['Overall Neutral Note', 'Overall Neutral Note']]\n",
            "[14098, 14133, [0.9303377866744995], ['Overall Neutral Note', 'Overall Neutral Note']]\n",
            "[14098, 12264, [], ['Overall Neutral Note']]\n",
            "[14098, 11739, [0.9589470028877258, 0.5084857940673828, 0.7550387978553772, 0.2467890977859497, 0.9593961238861084, 0.9077231884002686], ['Overall Neutral Note', 'Overall Neutral Note', 'Overall Neutral Note', 'Overall Neutral Note', 'Overall Neutral Note', 'Overall Neutral Note', 'Overall Neutral Note']]\n",
            "[14098, 19112, [0.816536545753479, 0.18218953907489777, 1.0000001192092896, 1.0000001192092896, 0.9716125726699829, 0.9896239042282104, 0.45208290219306946, 0.6435284614562988], ['Overall Neutral Note', 'Overall Neutral Note', 'Overall Neutral Note', 'Overall Neutral Note', 'Overall Neutral Note', 'Overall Neutral Note', 'Overall Neutral Note', 'Overall Neutral Note', 'Overall Neutral Note']]\n",
            "[14098, 8520, [0.939192533493042], ['Overall Neutral Note', 'Overall Neutral Note']]\n",
            "[14098, 6267, [], ['Overall Neutral Note']]\n",
            "[14098, 9928, [0.9346246123313904, 0.9229503870010376, 0.8412388563156128, 0.7967410683631897, 0.7524551153182983, 0.4995272755622864, 0.5439168214797974], ['Overall Neutral Note', 'Overall Neutral Note', 'Overall Neutral Note', 'Overall Neutral Note', 'Overall Neutral Note', 'Overall Neutral Note', 'Overall Neutral Note', 'Overall Neutral Note']]\n",
            "[14098, 5792, [], ['Overall Neutral Note']]\n",
            "[14098, 10590, [0.920607328414917], ['Overall Neutral Note', 'Overall Neutral Note']]\n",
            "[14098, 18703, [0.3295782804489136, 0.6546669006347656, 0.7745726108551025], ['Overall Neutral Note', 'Overall Neutral Note', 'Overall Neutral Note', 'Overall Neutral Note']]\n",
            "[14098, 18107, [0.883581817150116, 0.8855658769607544], ['Overall Neutral Note', 'Overall Neutral Note', 'Overall Neutral Note']]\n",
            "[14098, 18354, [0.6087854504585266], ['Overall Neutral Note', 'Overall Neutral Note']]\n",
            "[14098, 21917, [0.9524785876274109], ['Overall Neutral Note', 'Overall Neutral Note']]\n",
            "[14098, 17871, [], ['Overall Neutral Note']]\n",
            "[14098, 13658, [0.44135043025016785, 0.9455069303512573], ['Overall Neutral Note', 'Overall Neutral Note', 'Overall Neutral Note']]\n",
            "[14098, 12276, [], ['Overall Neutral Note']]\n",
            "[14098, 25387, [0.9224023818969727], ['Overall Neutral Note', 'Overall Neutral Note']]\n",
            "[14098, 8555, [0.7739360332489014, 0.8594547510147095, 0.8808723092079163], ['Overall Neutral Note', 'Overall Neutral Note', 'Overall Neutral Note', 'Overall Neutral Note']]\n",
            "[14098, 5640, [], ['Overall Neutral Note']]\n",
            "[14098, 11690, [0.91347736120224, 0.20210810005664825, 0.1440967619419098], ['Overall Neutral Note', 'Overall Neutral Note', 'Overall Neutral Note', 'Overall Neutral Note']]\n",
            "[14098, 12939, [0.9122427701950073, 0.14285701513290405, 0.14483392238616943, 0.5733895301818848], ['Overall Neutral Note', 'Overall Neutral Note', 'Overall Neutral Note', 'Overall Neutral Note', 'Overall Neutral Note']]\n",
            "[14098, 12096, [0.9453160762786865, 0.9321871995925903], ['Overall Neutral Note', 'Overall Neutral Note', 'Overall Neutral Note']]\n",
            "[14098, 24456, [0.36155351996421814], ['Overall Neutral Note', 'Overall Neutral Note']]\n",
            "[14098, 3709, [0.8295778036117554, 0.8515613675117493, 0.8018723130226135, 0.9603680372238159, 0.864534854888916, 0.8959447741508484], ['Overall Neutral Note', 'Overall Neutral Note', 'Overall Neutral Note', 'Overall Neutral Note', 'Overall Neutral Note', 'Overall Neutral Note', 'Overall Neutral Note']]\n",
            "[14098, 1878, [], ['Overall Neutral Note']]\n",
            "[14098, 5315, [0.9308832883834839, 0.9234390258789062, 0.9432902336120605, 0.20591305196285248, 0.545744776725769, 0.607509434223175, 0.8912547826766968, 0.8748126029968262], ['Overall Neutral Note', 'Overall Neutral Note', 'Overall Neutral Note', 'Overall Neutral Note', 'Overall Neutral Note', 'Overall Neutral Note', 'Overall Neutral Note', 'Overall Neutral Note', 'Overall Neutral Note']]\n",
            "[14098, 25243, [0.29472991824150085], ['Overall Neutral Note', 'Overall Neutral Note']]\n",
            "[14098, 2618, [0.9256738424301147, 0.8893884420394897], ['Overall Neutral Note', 'Overall Neutral Note', 'Overall Neutral Note']]\n",
            "[14098, 18220, [0.8792675733566284, 0.8425612449645996], ['Overall Neutral Note', 'Overall Neutral Note', 'Overall Neutral Note']]\n",
            "[14098, 14032, [0.7128942012786865], ['Overall Neutral Note', 'Overall Neutral Note']]\n",
            "[14098, 17076, [0.8370895385742188], ['Overall Neutral Note', 'Overall Neutral Note']]\n",
            "[14098, 25842, [0.903886079788208, 0.5601518154144287], ['Overall Neutral Note', 'Overall Neutral Note', 'Overall Neutral Note']]\n",
            "[14098, 2163, [], ['Overall Neutral Note']]\n",
            "[14098, 2249, [], ['Overall Neutral Note']]\n",
            "[14098, 25651, [0.9363589882850647, 0.9789440631866455, 0.707760214805603, 0.5651427507400513], ['Overall Neutral Note', 'Overall Neutral Note', 'Overall Neutral Note', 'Overall Neutral Note', 'Overall Neutral Note']]\n",
            "[14098, 1520, [], ['Overall Neutral Note']]\n",
            "[14098, 21976, [0.9649491310119629, 0.8552724123001099, 0.8741873502731323, 0.42905423045158386, 0.32988420128822327, 0.9230688810348511, 0.8597797751426697, 0.885860800743103, 0.8512516617774963, 0.9188047647476196, 0.8945037722587585], ['Overall Neutral Note', 'Overall Neutral Note', 'Overall Neutral Note', 'Overall Neutral Note', 'Overall Neutral Note', 'Overall Neutral Note', 'Overall Neutral Note', 'Overall Neutral Note', 'Overall Neutral Note', 'Overall Neutral Note', 'Overall Neutral Note', 'Overall Neutral Note']]\n",
            "[14098, 15241, [], ['Overall Neutral Note']]\n",
            "[14098, 9617, [0.884867787361145, 0.7740545272827148, 0.95766681432724], ['Overall Neutral Note', 'Overall Neutral Note', 'Overall Neutral Note', 'Overall Neutral Note']]\n",
            "[14098, 10722, [], ['Overall Neutral Note']]\n",
            "[14098, 20956, [0.9357845783233643], ['Overall Neutral Note', 'Overall Neutral Note']]\n",
            "[14098, 11062, [], ['Overall Neutral Note']]\n",
            "[14098, 6769, [0.6360856294631958, 0.24351555109024048, 0.21577578783035278, 0.8563961982727051, 0.8787010908126831], ['Overall Neutral Note', 'Overall Neutral Note', 'Overall Neutral Note', 'Overall Neutral Note', 'Overall Neutral Note', 'Overall Neutral Note']]\n",
            "[14098, 13617, [0.8823858499526978, 0.7729842066764832], ['Overall Neutral Note', 'Overall Neutral Note', 'Overall Neutral Note']]\n",
            "[14098, 633, [0.2277408093214035], ['Overall Neutral Note', 'Overall Neutral Note']]\n",
            "[14098, 25535, [0.2334449291229248, 1.000000238418579], ['Overall Neutral Note', 'Overall Neutral Note', 'Overall Neutral Note']]\n",
            "[14098, 18412, [], ['Overall Neutral Note']]\n",
            "[14098, 18372, [], ['Overall Neutral Note']]\n",
            "[14098, 22188, [], ['Overall Neutral Note']]\n",
            "[14098, 10882, [0.9283233880996704, 0.9277632236480713], ['Overall Neutral Note', 'Overall Neutral Note', 'Overall Neutral Note']]\n",
            "[14098, 5106, [0.8889455199241638, 0.9631150960922241, 0.9545111656188965, 0.9579862356185913], ['Overall Neutral Note', 'Overall Neutral Note', 'Overall Neutral Note', 'Overall Neutral Note', 'Overall Neutral Note']]\n",
            "[14098, 8858, [0.9128506779670715, 0.6533981561660767], ['Overall Neutral Note', 'Overall Neutral Note', 'Overall Neutral Note']]\n",
            "[14098, 13170, [0.9475936889648438], ['Overall Neutral Note', 'Overall Neutral Note']]\n",
            "[14098, 26512, [0.8530820608139038, 0.8364852666854858], ['Overall Neutral Note', 'Overall Neutral Note', 'Overall Neutral Note']]\n",
            "[14098, 19849, [0.3526780903339386, 0.8718621730804443, 0.8854722380638123, 0.9068090915679932, 0.8724414110183716, 0.9155982136726379, 0.9166755676269531, 0.908925473690033, 0.8306829333305359, 0.8999256491661072, 0.8431791067123413], ['Overall Neutral Note', 'Overall Neutral Note', 'Overall Neutral Note', 'Overall Neutral Note', 'Overall Neutral Note', 'Overall Neutral Note', 'Overall Neutral Note', 'Overall Neutral Note', 'Overall Neutral Note', 'Overall Neutral Note', 'Overall Neutral Note', 'Overall Neutral Note']]\n",
            "[14098, 8030, [], ['Overall Neutral Note']]\n",
            "[14098, 26699, [], ['Overall Neutral Note']]\n",
            "[14098, 26541, [0.911624014377594, 0.9681084156036377, 0.9810553789138794, 0.8195126056671143, 0.9888201951980591, 0.9792256951332092, 0.9689622521400452, 0.8675538301467896, 0.8722478151321411, 0.8016469478607178, 0.9457643032073975], ['Overall Neutral Note', 'Overall Neutral Note', 'Overall Neutral Note', 'Overall Neutral Note', 'Overall Neutral Note', 'Overall Neutral Note', 'Overall Neutral Note', 'Overall Neutral Note', 'Overall Neutral Note', 'Overall Neutral Note', 'Overall Neutral Note', 'Overall Neutral Note']]\n",
            "[14098, 17527, [0.8204723596572876, 0.9439750909805298], ['Overall Neutral Note', 'Overall Neutral Note', 'Overall Neutral Note']]\n",
            "[14098, 18226, [0.3997308611869812], ['Overall Neutral Note', 'Overall Neutral Note']]\n",
            "[14098, 16029, [], ['Overall Neutral Note']]\n",
            "[14098, 24733, [0.8942599296569824, 0.9349513053894043], ['Overall Neutral Note', 'Overall Neutral Note', 'Overall Neutral Note']]\n",
            "[14098, 18946, [], ['Overall Neutral Note']]\n",
            "[14098, 15915, [0.9127649068832397], ['Overall Neutral Note', 'Overall Neutral Note']]\n",
            "[14098, 10488, [0.9326889514923096, 0.9711663722991943, 0.9586880207061768, 0.9735805988311768], ['Overall Neutral Note', 'Overall Neutral Note', 'Overall Neutral Note', 'Overall Neutral Note', 'Overall Neutral Note']]\n",
            "[14098, 10176, [0.8206018209457397, 0.8976359963417053, 0.8883414268493652, 0.9541217088699341, 0.10943280160427094, 0.12600377202033997], ['Overall Neutral Note', 'Overall Neutral Note', 'Overall Neutral Note', 'Overall Neutral Note', 'Overall Neutral Note', 'Overall Neutral Note', 'Overall Neutral Note']]\n",
            "[14098, 7081, [], ['Overall Neutral Note']]\n",
            "[14098, 3755, [0.49808791279792786, 0.9592858552932739], ['Overall Neutral Note', 'Overall Neutral Note', 'Overall Neutral Note']]\n",
            "[14098, 13065, [], ['Overall Neutral Note']]\n",
            "[14098, 21073, [0.922335147857666, 0.8796283006668091, 0.7840629816055298, 0.47822287678718567], ['Overall Neutral Note', 'Overall Neutral Note', 'Overall Neutral Note', 'Overall Neutral Note', 'Overall Neutral Note']]\n",
            "[14098, 9530, [0.9320751428604126, 0.9250102043151855], ['Overall Neutral Note', 'Overall Neutral Note', 'Overall Neutral Note']]\n",
            "[14098, 22734, [0.9577526450157166], ['Overall Neutral Note', 'Overall Neutral Note']]\n",
            "[14098, 21768, [], ['Overall Neutral Note']]\n",
            "[14098, 25366, [], ['Overall Neutral Note']]\n",
            "[14098, 7657, [0.8802704215049744, 0.2356233149766922, 0.9029938578605652], ['Overall Neutral Note', 'Overall Neutral Note', 'Overall Neutral Note', 'Overall Neutral Note']]\n",
            "[14098, 10533, [], ['Overall Neutral Note']]\n",
            "[14098, 19304, [], ['Overall Neutral Note']]\n",
            "[14098, 7859, [0.9332551956176758], ['Overall Neutral Note', 'Overall Neutral Note']]\n",
            "[14098, 656, [0.8410895466804504], ['Overall Neutral Note', 'Overall Neutral Note']]\n",
            "[14098, 1697, [0.8187767267227173], ['Overall Neutral Note', 'Overall Neutral Note']]\n",
            "[14098, 7467, [0.48448070883750916], ['Overall Neutral Note', 'Overall Neutral Note']]\n",
            "[14098, 22378, [0.2711482644081116, 0.8363654613494873], ['Overall Neutral Note', 'Overall Neutral Note', 'Overall Neutral Note']]\n",
            "[14098, 12922, [0.27348947525024414, 0.12138085067272186], ['Overall Neutral Note', 'Overall Neutral Note', 'Overall Neutral Note']]\n",
            "[14098, 20870, [], ['Overall Neutral Note']]\n",
            "[14098, 23071, [], ['Overall Neutral Note']]\n",
            "[14098, 7044, [0.29075703024864197], ['Overall Neutral Note', 'Overall Neutral Note']]\n",
            "[14098, 10141, [0.9653668403625488], ['Overall Neutral Note', 'Overall Neutral Note']]\n",
            "[14098, 14479, [], ['Overall Neutral Note']]\n",
            "[14098, 7759, [0.956934928894043], ['Overall Neutral Note', 'Overall Neutral Note']]\n",
            "[14098, 8564, [], ['Overall Neutral Note']]\n",
            "[14098, 6329, [], ['Overall Neutral Note']]\n",
            "[14098, 3476, [0.821727454662323], ['Overall Neutral Note', 'Overall Neutral Note']]\n",
            "[14098, 20700, [], ['Overall Neutral Note']]\n",
            "[14098, 20723, [], ['Overall Neutral Note']]\n",
            "[14098, 17225, [0.3781750500202179], ['Overall Neutral Note', 'Overall Neutral Note']]\n",
            "[14098, 12846, [], ['Overall Neutral Note']]\n",
            "[14098, 22574, [0.9503394365310669], ['Overall Neutral Note', 'Overall Neutral Note']]\n",
            "[14098, 21519, [0.8952519297599792], ['Overall Neutral Note', 'Overall Neutral Note']]\n",
            "[14098, 18305, [], ['Overall Neutral Note']]\n",
            "[14098, 22744, [], ['Overall Neutral Note']]\n",
            "[14098, 3697, [0.9846981763839722, 0.9814316630363464], ['Overall Neutral Note', 'Overall Neutral Note', 'Overall Neutral Note']]\n",
            "[14098, 1150, [0.8891727328300476, 0.971796989440918, 0.9386071562767029, 0.4112494885921478, 0.3988499641418457, 0.949113130569458, 0.9432273507118225], ['Overall Neutral Note', 'Overall Neutral Note', 'Overall Neutral Note', 'Overall Neutral Note', 'Overall Neutral Note', 'Overall Neutral Note', 'Overall Neutral Note', 'Overall Neutral Note']]\n",
            "[14098, 11436, [0.9544525742530823, 0.9406641721725464], ['Overall Neutral Note', 'Overall Neutral Note', 'Overall Neutral Note']]\n",
            "[14098, 24661, [], ['Overall Neutral Note']]\n",
            "[14098, 5699, [], ['Overall Neutral Note']]\n",
            "[14098, 14262, [], ['Overall Neutral Note']]\n",
            "[14098, 13206, [], ['Overall Neutral Note']]\n",
            "[14098, 12891, [], ['Overall Neutral Note']]\n",
            "[14098, 24709, [0.9645796418190002], ['Overall Neutral Note', 'Overall Neutral Note']]\n",
            "[14098, 2439, [1.0, 0.5152035355567932, 0.6185677647590637, 0.9159862995147705], ['Overall Neutral Note', 'Overall Neutral Note', 'Overall Neutral Note', 'Overall Neutral Note', 'Overall Neutral Note']]\n",
            "[14098, 25906, [], ['Overall Neutral Note']]\n",
            "[14098, 7057, [0.9746481776237488, 0.9343425035476685, 0.9428025484085083], ['Overall Neutral Note', 'Overall Neutral Note', 'Overall Neutral Note', 'Overall Neutral Note']]\n",
            "[14098, 8480, [], ['Overall Neutral Note']]\n",
            "[14098, 16328, [], ['Overall Neutral Note']]\n",
            "[14098, 8826, [], ['Overall Neutral Note']]\n",
            "[14098, 139, [0.4115092158317566], ['Overall Neutral Note', 'Overall Neutral Note']]\n",
            "[14098, 3083, [0.05710659921169281], ['Overall Neutral Note', 'Overall Neutral Note']]\n",
            "[14098, 9660, [0.8934308290481567], ['Overall Neutral Note', 'Overall Neutral Note']]\n",
            "[14098, 15069, [], ['Overall Neutral Note']]\n",
            "[14098, 18488, [], ['Overall Neutral Note']]\n",
            "[14098, 8176, [0.8840091824531555], ['Overall Neutral Note', 'Overall Neutral Note']]\n",
            "[14098, 7249, [1.000000238418579, 0.9963014125823975, 0.2994939982891083], ['Overall Neutral Note', 'Overall Neutral Note', 'Overall Neutral Note', 'Overall Neutral Note']]\n",
            "[14098, 20962, [], ['Overall Neutral Note']]\n",
            "[14098, 15443, [], ['Overall Neutral Note']]\n",
            "[14098, 26305, [0.46267980337142944], ['Overall Neutral Note', 'Overall Neutral Note']]\n",
            "[14098, 23630, [], ['Overall Neutral Note']]\n",
            "[14098, 2277, [], ['Overall Neutral Note']]\n",
            "[14098, 8544, [], ['Overall Neutral Note']]\n",
            "[14098, 20397, [], ['Overall Neutral Note']]\n",
            "[14098, 23732, [], ['Overall Neutral Note']]\n",
            "[14098, 7579, [], ['Overall Neutral Note']]\n",
            "[14098, 22813, [], ['Overall Neutral Note']]\n",
            "[14098, 6250, [0.9746357202529907, 0.9083185195922852], ['Overall Neutral Note', 'Overall Neutral Note', 'Overall Neutral Note']]\n",
            "[14098, 9854, [], ['Overall Neutral Note']]\n",
            "[14098, 16842, [], ['Overall Neutral Note']]\n",
            "[14098, 12214, [0.39046984910964966], ['Overall Neutral Note', 'Overall Neutral Note']]\n",
            "[14098, 16835, [], ['Overall Neutral Note']]\n",
            "[14098, 21190, [], ['Overall Neutral Note']]\n",
            "[14098, 17315, [], ['Overall Neutral Note']]\n",
            "[14098, 20762, [0.3326108753681183, 0.3326108753681183, 0.7945743203163147, 0.5271116495132446], ['Overall Neutral Note', 'Overall Neutral Note', 'Overall Neutral Note', 'Overall Neutral Note', 'Overall Neutral Note']]\n",
            "[14098, 21950, [], ['Overall Neutral Note']]\n",
            "[14098, 9220, [], ['Overall Neutral Note']]\n",
            "[14098, 20934, [], ['Overall Neutral Note']]\n",
            "[14098, 474, [], ['Overall Neutral Note']]\n",
            "[14098, 12420, [], ['Overall Neutral Note']]\n",
            "[14098, 15973, [], ['Overall Neutral Note']]\n",
            "[14098, 22488, [], ['Overall Neutral Note']]\n",
            "[14098, 11435, [], ['Overall Neutral Note']]\n",
            "[14098, 23776, [], ['Overall Neutral Note']]\n",
            "[14098, 3907, [], ['Overall Neutral Note']]\n",
            "[14098, 17584, [0.935127854347229], ['Overall Neutral Note', 'Overall Neutral Note']]\n",
            "[14098, 9223, [0.7145020365715027], ['Overall Neutral Note', 'Overall Neutral Note']]\n",
            "[14098, 20773, [], ['Overall Neutral Note']]\n",
            "[14098, 3271, [0.4514756500720978], ['Overall Neutral Note', 'Overall Neutral Note']]\n",
            "[14098, 11530, [], ['Overall Neutral Note']]\n",
            "[14098, 1776, [], ['Overall Neutral Note']]\n",
            "[14098, 5706, [], ['Overall Neutral Note']]\n",
            "[14098, 1655, [], ['Overall Neutral Note']]\n",
            "[14098, 24642, [], ['Overall Neutral Note']]\n",
            "[14098, 23576, [], ['Overall Neutral Note']]\n",
            "[14098, 15950, [], ['Overall Neutral Note']]\n",
            "[14098, 24162, [], ['Overall Neutral Note']]\n",
            "[14098, 19958, [], ['Overall Neutral Note']]\n",
            "[14098, 14424, [0.5398304462432861], ['Overall Neutral Note', 'Overall Neutral Note']]\n",
            "[14098, 21755, [], ['Overall Neutral Note']]\n",
            "[14098, 12636, [], ['Overall Neutral Note']]\n",
            "[14098, 4919, [], ['Overall Neutral Note']]\n"
          ]
        }
      ]
    },
    {
      "cell_type": "code",
      "source": [
        "# path and name of the cvs file \n",
        "PATH_TO_SAVE = \"/content/drive/MyDrive/NIH/Data/\"\n",
        "name_file_to_save = 'NOTES_NURSING_TRAJECTORIES_singleCG.csv'\n",
        "df_to_plot.to_csv(PATH_TO_SAVE+name_file_to_save,index=False)"
      ],
      "metadata": {
        "id": "RBhRYzc_MRSm"
      },
      "execution_count": null,
      "outputs": []
    },
    {
      "cell_type": "code",
      "source": [
        "df_to_plot"
      ],
      "metadata": {
        "colab": {
          "base_uri": "https://localhost:8080/",
          "height": 423
        },
        "id": "71I2l1ABarJK",
        "outputId": "8c0e88ab-307b-407f-8034-cbb3ba58183d"
      },
      "execution_count": null,
      "outputs": [
        {
          "output_type": "execute_result",
          "data": {
            "text/plain": [
              "      CGID  SUBJECT_ID                                       emb_distance  \\\n",
              "0    14098       13155                               [0.7811174392700195]   \n",
              "1    14098        9167  [0.8762198686599731, 0.9771097302436829, 0.396...   \n",
              "2    14098         478           [0.7966984510421753, 0.8368499279022217]   \n",
              "3    14098        2465                                                 []   \n",
              "4    14098       15836                                                 []   \n",
              "..     ...         ...                                                ...   \n",
              "266  14098       19958                                                 []   \n",
              "267  14098       14424                               [0.5398304462432861]   \n",
              "268  14098       21755                                                 []   \n",
              "269  14098       12636                                                 []   \n",
              "270  14098        4919                                                 []   \n",
              "\n",
              "                                             attitudes  \n",
              "0         [Overall Neutral Note, Overall Neutral Note]  \n",
              "1    [Overall Neutral Note, Overall Neutral Note, O...  \n",
              "2    [Overall Neutral Note, Overall Neutral Note, O...  \n",
              "3                               [Overall Neutral Note]  \n",
              "4                               [Overall Neutral Note]  \n",
              "..                                                 ...  \n",
              "266                             [Overall Neutral Note]  \n",
              "267       [Overall Neutral Note, Overall Neutral Note]  \n",
              "268                             [Overall Neutral Note]  \n",
              "269                             [Overall Neutral Note]  \n",
              "270                             [Overall Neutral Note]  \n",
              "\n",
              "[271 rows x 4 columns]"
            ],
            "text/html": [
              "\n",
              "  <div id=\"df-9106d03d-a322-461b-b9e3-e97911070f29\">\n",
              "    <div class=\"colab-df-container\">\n",
              "      <div>\n",
              "<style scoped>\n",
              "    .dataframe tbody tr th:only-of-type {\n",
              "        vertical-align: middle;\n",
              "    }\n",
              "\n",
              "    .dataframe tbody tr th {\n",
              "        vertical-align: top;\n",
              "    }\n",
              "\n",
              "    .dataframe thead th {\n",
              "        text-align: right;\n",
              "    }\n",
              "</style>\n",
              "<table border=\"1\" class=\"dataframe\">\n",
              "  <thead>\n",
              "    <tr style=\"text-align: right;\">\n",
              "      <th></th>\n",
              "      <th>CGID</th>\n",
              "      <th>SUBJECT_ID</th>\n",
              "      <th>emb_distance</th>\n",
              "      <th>attitudes</th>\n",
              "    </tr>\n",
              "  </thead>\n",
              "  <tbody>\n",
              "    <tr>\n",
              "      <th>0</th>\n",
              "      <td>14098</td>\n",
              "      <td>13155</td>\n",
              "      <td>[0.7811174392700195]</td>\n",
              "      <td>[Overall Neutral Note, Overall Neutral Note]</td>\n",
              "    </tr>\n",
              "    <tr>\n",
              "      <th>1</th>\n",
              "      <td>14098</td>\n",
              "      <td>9167</td>\n",
              "      <td>[0.8762198686599731, 0.9771097302436829, 0.396...</td>\n",
              "      <td>[Overall Neutral Note, Overall Neutral Note, O...</td>\n",
              "    </tr>\n",
              "    <tr>\n",
              "      <th>2</th>\n",
              "      <td>14098</td>\n",
              "      <td>478</td>\n",
              "      <td>[0.7966984510421753, 0.8368499279022217]</td>\n",
              "      <td>[Overall Neutral Note, Overall Neutral Note, O...</td>\n",
              "    </tr>\n",
              "    <tr>\n",
              "      <th>3</th>\n",
              "      <td>14098</td>\n",
              "      <td>2465</td>\n",
              "      <td>[]</td>\n",
              "      <td>[Overall Neutral Note]</td>\n",
              "    </tr>\n",
              "    <tr>\n",
              "      <th>4</th>\n",
              "      <td>14098</td>\n",
              "      <td>15836</td>\n",
              "      <td>[]</td>\n",
              "      <td>[Overall Neutral Note]</td>\n",
              "    </tr>\n",
              "    <tr>\n",
              "      <th>...</th>\n",
              "      <td>...</td>\n",
              "      <td>...</td>\n",
              "      <td>...</td>\n",
              "      <td>...</td>\n",
              "    </tr>\n",
              "    <tr>\n",
              "      <th>266</th>\n",
              "      <td>14098</td>\n",
              "      <td>19958</td>\n",
              "      <td>[]</td>\n",
              "      <td>[Overall Neutral Note]</td>\n",
              "    </tr>\n",
              "    <tr>\n",
              "      <th>267</th>\n",
              "      <td>14098</td>\n",
              "      <td>14424</td>\n",
              "      <td>[0.5398304462432861]</td>\n",
              "      <td>[Overall Neutral Note, Overall Neutral Note]</td>\n",
              "    </tr>\n",
              "    <tr>\n",
              "      <th>268</th>\n",
              "      <td>14098</td>\n",
              "      <td>21755</td>\n",
              "      <td>[]</td>\n",
              "      <td>[Overall Neutral Note]</td>\n",
              "    </tr>\n",
              "    <tr>\n",
              "      <th>269</th>\n",
              "      <td>14098</td>\n",
              "      <td>12636</td>\n",
              "      <td>[]</td>\n",
              "      <td>[Overall Neutral Note]</td>\n",
              "    </tr>\n",
              "    <tr>\n",
              "      <th>270</th>\n",
              "      <td>14098</td>\n",
              "      <td>4919</td>\n",
              "      <td>[]</td>\n",
              "      <td>[Overall Neutral Note]</td>\n",
              "    </tr>\n",
              "  </tbody>\n",
              "</table>\n",
              "<p>271 rows × 4 columns</p>\n",
              "</div>\n",
              "      <button class=\"colab-df-convert\" onclick=\"convertToInteractive('df-9106d03d-a322-461b-b9e3-e97911070f29')\"\n",
              "              title=\"Convert this dataframe to an interactive table.\"\n",
              "              style=\"display:none;\">\n",
              "        \n",
              "  <svg xmlns=\"http://www.w3.org/2000/svg\" height=\"24px\"viewBox=\"0 0 24 24\"\n",
              "       width=\"24px\">\n",
              "    <path d=\"M0 0h24v24H0V0z\" fill=\"none\"/>\n",
              "    <path d=\"M18.56 5.44l.94 2.06.94-2.06 2.06-.94-2.06-.94-.94-2.06-.94 2.06-2.06.94zm-11 1L8.5 8.5l.94-2.06 2.06-.94-2.06-.94L8.5 2.5l-.94 2.06-2.06.94zm10 10l.94 2.06.94-2.06 2.06-.94-2.06-.94-.94-2.06-.94 2.06-2.06.94z\"/><path d=\"M17.41 7.96l-1.37-1.37c-.4-.4-.92-.59-1.43-.59-.52 0-1.04.2-1.43.59L10.3 9.45l-7.72 7.72c-.78.78-.78 2.05 0 2.83L4 21.41c.39.39.9.59 1.41.59.51 0 1.02-.2 1.41-.59l7.78-7.78 2.81-2.81c.8-.78.8-2.07 0-2.86zM5.41 20L4 18.59l7.72-7.72 1.47 1.35L5.41 20z\"/>\n",
              "  </svg>\n",
              "      </button>\n",
              "      \n",
              "  <style>\n",
              "    .colab-df-container {\n",
              "      display:flex;\n",
              "      flex-wrap:wrap;\n",
              "      gap: 12px;\n",
              "    }\n",
              "\n",
              "    .colab-df-convert {\n",
              "      background-color: #E8F0FE;\n",
              "      border: none;\n",
              "      border-radius: 50%;\n",
              "      cursor: pointer;\n",
              "      display: none;\n",
              "      fill: #1967D2;\n",
              "      height: 32px;\n",
              "      padding: 0 0 0 0;\n",
              "      width: 32px;\n",
              "    }\n",
              "\n",
              "    .colab-df-convert:hover {\n",
              "      background-color: #E2EBFA;\n",
              "      box-shadow: 0px 1px 2px rgba(60, 64, 67, 0.3), 0px 1px 3px 1px rgba(60, 64, 67, 0.15);\n",
              "      fill: #174EA6;\n",
              "    }\n",
              "\n",
              "    [theme=dark] .colab-df-convert {\n",
              "      background-color: #3B4455;\n",
              "      fill: #D2E3FC;\n",
              "    }\n",
              "\n",
              "    [theme=dark] .colab-df-convert:hover {\n",
              "      background-color: #434B5C;\n",
              "      box-shadow: 0px 1px 3px 1px rgba(0, 0, 0, 0.15);\n",
              "      filter: drop-shadow(0px 1px 2px rgba(0, 0, 0, 0.3));\n",
              "      fill: #FFFFFF;\n",
              "    }\n",
              "  </style>\n",
              "\n",
              "      <script>\n",
              "        const buttonEl =\n",
              "          document.querySelector('#df-9106d03d-a322-461b-b9e3-e97911070f29 button.colab-df-convert');\n",
              "        buttonEl.style.display =\n",
              "          google.colab.kernel.accessAllowed ? 'block' : 'none';\n",
              "\n",
              "        async function convertToInteractive(key) {\n",
              "          const element = document.querySelector('#df-9106d03d-a322-461b-b9e3-e97911070f29');\n",
              "          const dataTable =\n",
              "            await google.colab.kernel.invokeFunction('convertToInteractive',\n",
              "                                                     [key], {});\n",
              "          if (!dataTable) return;\n",
              "\n",
              "          const docLinkHtml = 'Like what you see? Visit the ' +\n",
              "            '<a target=\"_blank\" href=https://colab.research.google.com/notebooks/data_table.ipynb>data table notebook</a>'\n",
              "            + ' to learn more about interactive tables.';\n",
              "          element.innerHTML = '';\n",
              "          dataTable['output_type'] = 'display_data';\n",
              "          await google.colab.output.renderOutput(dataTable, element);\n",
              "          const docLink = document.createElement('div');\n",
              "          docLink.innerHTML = docLinkHtml;\n",
              "          element.appendChild(docLink);\n",
              "        }\n",
              "      </script>\n",
              "    </div>\n",
              "  </div>\n",
              "  "
            ]
          },
          "metadata": {},
          "execution_count": 141
        }
      ]
    },
    {
      "cell_type": "markdown",
      "source": [
        "# END \n"
      ],
      "metadata": {
        "id": "TBxF7fIKdkh2"
      }
    },
    {
      "cell_type": "markdown",
      "source": [
        "# **Add labels to graph**"
      ],
      "metadata": {
        "id": "8qUKwL5oFefq"
      }
    },
    {
      "cell_type": "code",
      "source": [
        "import matplotlib.pyplot as plt\n",
        "from matplotlib.patches import Rectangle\n",
        "from matplotlib.ticker import MaxNLocator"
      ],
      "metadata": {
        "id": "kZU78_dTND92"
      },
      "execution_count": null,
      "outputs": []
    },
    {
      "cell_type": "code",
      "source": [
        "sns.scatterplot(dist)\n",
        "model_labels = l_labels['roberta']\n",
        "labels_dict = {'Overall Neutral Note': '0', 'Overall Negative Note': 'N', 'Overall Positive Note': 'P'}\n",
        "graph_labels = [labels_dict[label] for label in model_labels]\n",
        "\n",
        "# Add sentiment next to points\n",
        "for index, row in enumerate(dist):\n",
        "\n",
        "  x_position = index - 0.15\n",
        "  x2_position = index + 0.075\n",
        "  y_position = dist[index] - 0.0075\n",
        "  plt.text(x_position, y_position, graph_labels[index], fontsize=10, color='red')\n",
        "  plt.text(x2_position, y_position, graph_labels[index+1], fontsize=10, color='red')\n",
        "\n",
        "# Title and x/y axes\n",
        "plt.title(\"Sentence Comparison of Cosine Similarity and Sentiment\")\n",
        "plt.xlabel(\"Sentence Comparison\")\n",
        "plt.ylabel(\"Cosine Similarity\")\n",
        "\n",
        "# X-axis tick marks\n",
        "ax = plt.gca()\n",
        "ax.xaxis.set_major_locator(MaxNLocator(integer=True))\n",
        "new_ticks = [str(i) for i in range(len(graph_labels))]\n",
        "ax.set_xticklabels(new_ticks)\n",
        "\n",
        "# Legend\n",
        "legend_handles = [Rectangle((0, 0), 0, 0, alpha=0, label=f\"{short_label}: {original_label}\") \n",
        "                  for original_label, short_label in labels_dict.items()]\n",
        "#legend_handles = [Text(0, 0, label=f\"{short_label}: {original_label}\") for original_label, short_label in labels_dict.items()]\n",
        "\n",
        "# legend to right of graph\n",
        "#plt.legend(handles=legend_handles, loc='center left', bbox_to_anchor=(1, 0.5), title='Sentiment')\n",
        "\n",
        "# legend under graph\n",
        "plt.legend(handles=legend_handles, loc='upper center', bbox_to_anchor=(0.5, -0.15), ncol=len(labels_dict), title='Sentence Sentiment')\n",
        "\n",
        "plt.show()"
      ],
      "metadata": {
        "id": "9Z9DIHlyBB_Q"
      },
      "execution_count": null,
      "outputs": []
    },
    {
      "cell_type": "code",
      "source": [
        "sns.scatterplot(dist)\n",
        "model_labels = l_labels['roberta']\n",
        "labels_dict = {'Overall Neutral Note': '0', 'Overall Negative Note': 'N', 'Overall Positive Note': 'P'}\n",
        "graph_labels = [labels_dict[label] for label in model_labels]\n",
        "\n",
        "# Add sentiment next to points\n",
        "plt.text(-0.15, dist[0]-.0075, graph_labels[0], fontsize=10, color='red')\n",
        "for index, row in enumerate(dist):\n",
        "  if index == 0:\n",
        "    continue\n",
        "  x_position = index - 0.5\n",
        "  x2_position = index + 0.075\n",
        "  y_position = (dist[index] + dist[index-1] - 0.0075)/2\n",
        "  plt.text(x_position, y_position, graph_labels[index], fontsize=10, color='red')\n",
        "plt.text(len(dist)-1+0.075, dist[len(dist)-1]-0.0075, graph_labels[len(dist)], fontsize=10, color='red')\n",
        "\n",
        "# Title and x/y axes\n",
        "plt.title(\"Sentence Comparison of Cosine Similarity and Sentiment\")\n",
        "plt.xlabel(\"Sentence Comparison\")\n",
        "plt.ylabel(\"Cosine Similarity\")\n",
        "\n",
        "# X-axis tick marks\n",
        "ax = plt.gca()\n",
        "ax.xaxis.set_major_locator(MaxNLocator(integer=True))\n",
        "new_ticks = [str(i) for i in range(len(graph_labels))]\n",
        "ax.set_xticklabels(new_ticks)\n",
        "\n",
        "# Legend\n",
        "legend_handles = [Rectangle((0, 0), 0, 0, alpha=0, label=f\"{short_label}: {original_label}\") \n",
        "                  for original_label, short_label in labels_dict.items()]\n",
        "#legend_handles = [Text(0, 0, label=f\"{short_label}: {original_label}\") for original_label, short_label in labels_dict.items()]\n",
        "\n",
        "# legend to right of graph\n",
        "#plt.legend(handles=legend_handles, loc='center left', bbox_to_anchor=(1, 0.5), title='Sentiment')\n",
        "\n",
        "# legend under graph\n",
        "plt.legend(handles=legend_handles, loc='upper center', bbox_to_anchor=(0.5, -0.15), ncol=len(labels_dict), title='Sentence Sentiment')\n",
        "\n",
        "plt.show()"
      ],
      "metadata": {
        "id": "zusfEyYdNBuG"
      },
      "execution_count": null,
      "outputs": []
    },
    {
      "cell_type": "markdown",
      "source": [
        "## Clustering "
      ],
      "metadata": {
        "id": "_Sp2Zjlsrpb8"
      }
    },
    {
      "cell_type": "code",
      "source": [
        "import pandas as pd\n",
        "import numpy as np\n",
        "from sklearn.cluster import KMeans"
      ],
      "metadata": {
        "id": "BLITj_bchkU8"
      },
      "execution_count": null,
      "outputs": []
    },
    {
      "cell_type": "code",
      "source": [
        "clustering_model = KMeans(n_clusters=3)\n",
        "clustering_model.fit(sentence_embeddings_np)\n",
        "cluster_assignment = clustering_model.labels_\n",
        "print(cluster_assignment)"
      ],
      "metadata": {
        "id": "lYJw_xlwplLP"
      },
      "execution_count": null,
      "outputs": []
    },
    {
      "cell_type": "code",
      "source": [
        "clustered_sentences = {}\n",
        "for sentence_id, cluster_id in enumerate(cluster_assignment):\n",
        "    if cluster_id not in clustered_sentences:\n",
        "        clustered_sentences[cluster_id] = []\n",
        "\n",
        "    clustered_sentences[cluster_id].append(sentences[sentence_id])\n",
        "clustered_sentences"
      ],
      "metadata": {
        "id": "MK4a3n8hp0ix"
      },
      "execution_count": null,
      "outputs": []
    },
    {
      "cell_type": "code",
      "source": [
        "from scipy.spatial.distance import cdist\n",
        "\n",
        "distortions = []\n",
        "inertias = []\n",
        "mapping1 = {}\n",
        "mapping2 = {}\n",
        "K = range(1, 6)\n",
        "X = sentence_embeddings_np \n",
        "for k in K:\n",
        "    # Building and fitting the model\n",
        "    kmeanModel = KMeans(n_clusters=k).fit(X)\n",
        "    kmeanModel.fit(X)\n",
        "  \n",
        "    distortions.append(sum(np.min(cdist(X, kmeanModel.cluster_centers_,\n",
        "                                        'cosine'), axis=1)) / X.shape[0])\n",
        "    inertias.append(kmeanModel.inertia_)\n",
        "  \n",
        "    mapping1[k] = sum(np.min(cdist(X, kmeanModel.cluster_centers_,\n",
        "                                   'euclidean'), axis=1)) / X.shape[0]\n",
        "    mapping2[k] = kmeanModel.inertia_"
      ],
      "metadata": {
        "id": "91vBRnW5tRAN"
      },
      "execution_count": null,
      "outputs": []
    },
    {
      "cell_type": "code",
      "source": [
        "import matplotlib.pyplot as plt\n",
        "plt.plot(K, distortions, 'bx-')\n",
        "plt.xlabel('Values of K')\n",
        "plt.ylabel('Distortion')\n",
        "plt.title('The Elbow Method using Distortion')\n",
        "plt.show()"
      ],
      "metadata": {
        "id": "igGVOyMJtlD_"
      },
      "execution_count": null,
      "outputs": []
    }
  ]
}