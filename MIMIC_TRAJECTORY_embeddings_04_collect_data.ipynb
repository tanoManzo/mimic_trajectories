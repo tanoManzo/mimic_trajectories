{
  "nbformat": 4,
  "nbformat_minor": 0,
  "metadata": {
    "colab": {
      "provenance": [],
      "include_colab_link": true
    },
    "kernelspec": {
      "name": "python3",
      "display_name": "Python 3"
    },
    "language_info": {
      "name": "python"
    }
  },
  "cells": [
    {
      "cell_type": "markdown",
      "metadata": {
        "id": "view-in-github",
        "colab_type": "text"
      },
      "source": [
        "<a href=\"https://colab.research.google.com/github/tanoManzo/mimic_trajectories/blob/dev/MIMIC_TRAJECTORY_embeddings_04_collect_data.ipynb\" target=\"_parent\"><img src=\"https://colab.research.google.com/assets/colab-badge.svg\" alt=\"Open In Colab\"/></a>"
      ]
    },
    {
      "cell_type": "markdown",
      "source": [
        "# Data Collection, Embeddings and Attitude"
      ],
      "metadata": {
        "id": "5CSBbeSkyRmq"
      }
    },
    {
      "cell_type": "code",
      "source": [
        "from google.colab import drive\n",
        "drive.mount('/content/drive')"
      ],
      "metadata": {
        "colab": {
          "base_uri": "https://localhost:8080/"
        },
        "id": "GKFaijaIsKBU",
        "outputId": "36cf6377-fb97-48cf-b2d6-b00562df99c1"
      },
      "execution_count": 1,
      "outputs": [
        {
          "output_type": "stream",
          "name": "stdout",
          "text": [
            "Drive already mounted at /content/drive; to attempt to forcibly remount, call drive.mount(\"/content/drive\", force_remount=True).\n"
          ]
        }
      ]
    },
    {
      "cell_type": "code",
      "execution_count": 2,
      "metadata": {
        "id": "35BpcyS4eWHw"
      },
      "outputs": [],
      "source": [
        "import numpy as np\n",
        "import pandas as pd\n",
        "import seaborn as sns\n",
        "notes_path = \"/content/drive/MyDrive/NIH/Data/\""
      ]
    },
    {
      "cell_type": "code",
      "source": [
        "d_items = \"D_ITEMS.csv\"\n",
        "df_d_items = pd.read_csv(notes_path+d_items)\n",
        "df_d_items.info()"
      ],
      "metadata": {
        "id": "C-8Gl0cVh4-U",
        "outputId": "e71b8116-0213-427e-b2e7-1fecd4daaee6",
        "colab": {
          "base_uri": "https://localhost:8080/"
        }
      },
      "execution_count": 7,
      "outputs": [
        {
          "output_type": "stream",
          "name": "stdout",
          "text": [
            "<class 'pandas.core.frame.DataFrame'>\n",
            "RangeIndex: 12487 entries, 0 to 12486\n",
            "Data columns (total 10 columns):\n",
            " #   Column        Non-Null Count  Dtype  \n",
            "---  ------        --------------  -----  \n",
            " 0   ROW_ID        12487 non-null  int64  \n",
            " 1   ITEMID        12487 non-null  int64  \n",
            " 2   LABEL         12483 non-null  object \n",
            " 3   ABBREVIATION  2992 non-null   object \n",
            " 4   DBSOURCE      12487 non-null  object \n",
            " 5   LINKSTO       12487 non-null  object \n",
            " 6   CATEGORY      6049 non-null   object \n",
            " 7   UNITNAME      1234 non-null   object \n",
            " 8   PARAM_TYPE    2992 non-null   object \n",
            " 9   CONCEPTID     0 non-null      float64\n",
            "dtypes: float64(1), int64(2), object(7)\n",
            "memory usage: 975.7+ KB\n"
          ]
        }
      ]
    },
    {
      "cell_type": "code",
      "source": [
        "df_d_items = df_d_items[df_d_items['LABEL'].notna()]\n",
        "#print(df_d_items[df_d_items['LABEL'].str.contains('lods', case=False)])  # empty\n",
        "#print(df_d_items[df_d_items['LABEL'].str.contains('saps', case=False)])  # empty\n",
        "#print(df_d_items[df_d_items['LABEL'].str.contains('oasis', case=False)])  # empty\n",
        "#print(df_d_items[df_d_items['LABEL'].str.contains('sofa', case=False)])  # ROW_ID = 14750 SOFA Score \n",
        "#print(df_d_items[df_d_items['LABEL'].str.contains('sap', case=False)])  # ROW_ID = 14516 GcsApacheIIScore\n",
        "#print(df_d_items[df_d_items['LABEL'].str.contains('aps', case=False)])  # ROW_ID = 14701 MapScore_ApacheIV & ROW_ID = 14673 APS\n",
        "#print(df_d_items[(df_d_items['ITEMID'] == 226996) | (df_d_items['ITEMID'] == 227024) | (df_d_items['ITEMID'] == 226755)].to_string(index=False) )\n",
        "print(df_d_items[df_d_items['LABEL'].str.contains('score', case=False)])  # many\n",
        "itemidscores = df_d_items[df_d_items['LABEL'].str.contains('score', case=False)]['ITEMID'].tolist()\n",
        "print(itemidscores)"
      ],
      "metadata": {
        "colab": {
          "base_uri": "https://localhost:8080/"
        },
        "id": "OcXflaoAisHs",
        "outputId": "f3b0adbd-cc7d-4f8c-c789-a425f0f28133"
      },
      "execution_count": 42,
      "outputs": [
        {
          "output_type": "stream",
          "name": "stdout",
          "text": [
            "       ROW_ID  ITEMID                    LABEL             ABBREVIATION  \\\n",
            "355        92      87             Braden Score                      NaN   \n",
            "1360     1489    4490                NAS Score                      NaN   \n",
            "1404      585     628           Sedation Score                      NaN   \n",
            "2565     2019    5927                NAS score                      NaN   \n",
            "9412    14728  227051         RRScore_ApacheIV         RRScore_ApacheIV   \n",
            "9414    14730  227053     SodiumScore_ApacheIV     SodiumScore_ApacheIV   \n",
            "9416    14732  227055       TempScore_ApacheIV       TempScore_ApacheIV   \n",
            "9419    14735  227059      UrineScore_ApacheIV      UrineScore_ApacheIV   \n",
            "9423    14739  227063        WBCScore_ApacheIV        WBCScore_ApacheIV   \n",
            "9481    14658  226980        AgeScore_ApacheIV        AgeScore_ApacheIV   \n",
            "9483    14660  226982    AlbuminScore_ApacheIV    AlbuminScore_ApacheIV   \n",
            "9667    14676  226999       BiliScore_ApacheIV       BiliScore_ApacheIV   \n",
            "9669    14678  227001        BunScore_ApacheIV        BunScore_ApacheIV   \n",
            "9672    14681  227004    ChronicScore_ApacheIV    ChronicScore_ApacheIV   \n",
            "9674    14683  227006      CreatScore_ApacheIV      CreatScore_ApacheIV   \n",
            "9681    14690  227013        GcsScore_ApacheIV        GcsScore_ApacheIV   \n",
            "9684    14693  227016    GlucoseScore_ApacheIV    GlucoseScore_ApacheIV   \n",
            "9687    14696  227019         HrScore_ApacheIV         HrScore_ApacheIV   \n",
            "9688    14697  227020         HtScore_ApacheIV         HtScore_ApacheIV   \n",
            "9692    14701  227024        MapScore_ApacheIV        MapScore_ApacheIV   \n",
            "9703    14712  227035     OxygenScore_ApacheIV     OxygenScore_ApacheIV   \n",
            "9706    14715  227038    PHPaCO2Score_ApacheIV    PHPaCO2Score_ApacheIV   \n",
            "10067   14750  227428               SOFA Score               SOFA Score   \n",
            "11933   14524  226763          HrApacheIIScore          HrApacheIIScore   \n",
            "11935   14526  226765         MapApacheIIScore         MapApacheIIScore   \n",
            "11937   14528  226767      OxygenApacheIIScore      OxygenApacheIIScore   \n",
            "11938   14529  226768          PhApacheIIScore          PhApacheIIScore   \n",
            "11941   14532  226771   PotassiumApacheIIScore   PotassiumApacheIIScore   \n",
            "11943   14534  226773          RrApacheIIScore          RrApacheIIScore   \n",
            "11945   14536  226775      SodiumApacheIIScore      SodiumApacheIIScore   \n",
            "11947   14538  226777        TempApacheIIScore        TempApacheIIScore   \n",
            "11949   14540  226779         WbcApacheIIScore         WbcApacheIIScore   \n",
            "12307   14499  226738         AgeApacheIIScore         AgeApacheIIScore   \n",
            "12474   14510  226749         ChpApacheIIScore         ChpApacheIIScore   \n",
            "12476   14512  226751  CreatinineApacheIIScore  CreatinineApacheIIScore   \n",
            "12478   14514  226753          DswfApacheScore          DswfApacheScore   \n",
            "12480   14516  226755         GcsApacheIIScore         GcsApacheIIScore   \n",
            "12485   14521  226760                HCO3Score                HCO3Score   \n",
            "12486   14522  226761  HematocritApacheIIScore  HematocritApacheIIScore   \n",
            "\n",
            "         DBSOURCE      LINKSTO                CATEGORY UNITNAME PARAM_TYPE  \\\n",
            "355       carevue  chartevents                     NaN      NaN        NaN   \n",
            "1360      carevue  chartevents                     NaN      NaN        NaN   \n",
            "1404      carevue  chartevents                     NaN      NaN        NaN   \n",
            "2565      carevue  chartevents                     NaN      NaN        NaN   \n",
            "9412   metavision  chartevents  Scores - APACHE IV (2)     None    Numeric   \n",
            "9414   metavision  chartevents  Scores - APACHE IV (2)     None    Numeric   \n",
            "9416   metavision  chartevents  Scores - APACHE IV (2)     None    Numeric   \n",
            "9419   metavision  chartevents  Scores - APACHE IV (2)     None    Numeric   \n",
            "9423   metavision  chartevents  Scores - APACHE IV (2)     None    Numeric   \n",
            "9481   metavision  chartevents  Scores - APACHE IV (2)     None    Numeric   \n",
            "9483   metavision  chartevents  Scores - APACHE IV (2)     None    Numeric   \n",
            "9667   metavision  chartevents  Scores - APACHE IV (2)     None    Numeric   \n",
            "9669   metavision  chartevents  Scores - APACHE IV (2)     None    Numeric   \n",
            "9672   metavision  chartevents  Scores - APACHE IV (2)     None    Numeric   \n",
            "9674   metavision  chartevents  Scores - APACHE IV (2)     None    Numeric   \n",
            "9681   metavision  chartevents  Scores - APACHE IV (2)     None    Numeric   \n",
            "9684   metavision  chartevents  Scores - APACHE IV (2)     None    Numeric   \n",
            "9687   metavision  chartevents  Scores - APACHE IV (2)     None    Numeric   \n",
            "9688   metavision  chartevents  Scores - APACHE IV (2)     None    Numeric   \n",
            "9692   metavision  chartevents  Scores - APACHE IV (2)     None    Numeric   \n",
            "9703   metavision  chartevents  Scores - APACHE IV (2)     None    Numeric   \n",
            "9706   metavision  chartevents  Scores - APACHE IV (2)     None    Numeric   \n",
            "10067  metavision  chartevents                 General     None    Numeric   \n",
            "11933  metavision  chartevents      Scores - APACHE II     None    Numeric   \n",
            "11935  metavision  chartevents      Scores - APACHE II     None    Numeric   \n",
            "11937  metavision  chartevents      Scores - APACHE II     None    Numeric   \n",
            "11938  metavision  chartevents      Scores - APACHE II     None    Numeric   \n",
            "11941  metavision  chartevents      Scores - APACHE II     None    Numeric   \n",
            "11943  metavision  chartevents      Scores - APACHE II     None    Numeric   \n",
            "11945  metavision  chartevents      Scores - APACHE II     None    Numeric   \n",
            "11947  metavision  chartevents      Scores - APACHE II     None    Numeric   \n",
            "11949  metavision  chartevents      Scores - APACHE II     None    Numeric   \n",
            "12307  metavision  chartevents      Scores - APACHE II     None    Numeric   \n",
            "12474  metavision  chartevents      Scores - APACHE II     None    Numeric   \n",
            "12476  metavision  chartevents      Scores - APACHE II     None    Numeric   \n",
            "12478  metavision  chartevents      Scores - APACHE II     None    Numeric   \n",
            "12480  metavision  chartevents      Scores - APACHE II     None    Numeric   \n",
            "12485  metavision  chartevents      Scores - APACHE II     None    Numeric   \n",
            "12486  metavision  chartevents      Scores - APACHE II     None    Numeric   \n",
            "\n",
            "       CONCEPTID  \n",
            "355          NaN  \n",
            "1360         NaN  \n",
            "1404         NaN  \n",
            "2565         NaN  \n",
            "9412         NaN  \n",
            "9414         NaN  \n",
            "9416         NaN  \n",
            "9419         NaN  \n",
            "9423         NaN  \n",
            "9481         NaN  \n",
            "9483         NaN  \n",
            "9667         NaN  \n",
            "9669         NaN  \n",
            "9672         NaN  \n",
            "9674         NaN  \n",
            "9681         NaN  \n",
            "9684         NaN  \n",
            "9687         NaN  \n",
            "9688         NaN  \n",
            "9692         NaN  \n",
            "9703         NaN  \n",
            "9706         NaN  \n",
            "10067        NaN  \n",
            "11933        NaN  \n",
            "11935        NaN  \n",
            "11937        NaN  \n",
            "11938        NaN  \n",
            "11941        NaN  \n",
            "11943        NaN  \n",
            "11945        NaN  \n",
            "11947        NaN  \n",
            "11949        NaN  \n",
            "12307        NaN  \n",
            "12474        NaN  \n",
            "12476        NaN  \n",
            "12478        NaN  \n",
            "12480        NaN  \n",
            "12485        NaN  \n",
            "12486        NaN  \n",
            "[87, 4490, 628, 5927, 227051, 227053, 227055, 227059, 227063, 226980, 226982, 226999, 227001, 227004, 227006, 227013, 227016, 227019, 227020, 227024, 227035, 227038, 227428, 226763, 226765, 226767, 226768, 226771, 226773, 226775, 226777, 226779, 226738, 226749, 226751, 226753, 226755, 226760, 226761]\n"
          ]
        }
      ]
    },
    {
      "cell_type": "code",
      "source": [
        "chunksize = 10 ** 6\n",
        "df_chart_events_scores = pd.DataFrame()\n",
        "chart_events = \"CHARTEVENTS.csv.gz\"\n",
        "\n",
        "for chunk in  pd.read_csv(notes_path+chart_events, chunksize=chunksize):\n",
        "  chunk_df = chunk[chunk['ITEMID'].isin(itemidscores)]\n",
        "  if not chunk_df.empty:\n",
        "    #print(chunk_df)\n",
        "    df_chart_events_scores = pd.concat([df_chart_events_scores,chunk_df])\n",
        "\n",
        "df_chart_events_scores.info()\n",
        "PATH_TO_SAVE = \"/content/drive/MyDrive/NIH/Data/\"\n",
        "name_file_to_save = 'NOTES_NURSING_TRAJECTORIES_TSICU_SCORES.csv'\n",
        "df_chart_events_scores.to_csv(PATH_TO_SAVE+name_file_to_save,index=False)"
      ],
      "metadata": {
        "id": "vY1Jg2_Et0Uf",
        "outputId": "a391b04f-301e-423d-ef35-3eabb5d2cfeb",
        "colab": {
          "base_uri": "https://localhost:8080/"
        }
      },
      "execution_count": 39,
      "outputs": [
        {
          "output_type": "stream",
          "name": "stderr",
          "text": [
            "<ipython-input-39-8b034373c872>:5: DtypeWarning: Columns (13) have mixed types. Specify dtype option on import or set low_memory=False.\n",
            "  for chunk in  pd.read_csv(notes_path+chart_events, chunksize=chunksize):\n",
            "<ipython-input-39-8b034373c872>:5: DtypeWarning: Columns (8,10,14) have mixed types. Specify dtype option on import or set low_memory=False.\n",
            "  for chunk in  pd.read_csv(notes_path+chart_events, chunksize=chunksize):\n",
            "<ipython-input-39-8b034373c872>:5: DtypeWarning: Columns (8) have mixed types. Specify dtype option on import or set low_memory=False.\n",
            "  for chunk in  pd.read_csv(notes_path+chart_events, chunksize=chunksize):\n"
          ]
        },
        {
          "output_type": "stream",
          "name": "stdout",
          "text": [
            "<class 'pandas.core.frame.DataFrame'>\n",
            "Int64Index: 351918 entries, 86459 to 193776279\n",
            "Data columns (total 15 columns):\n",
            " #   Column        Non-Null Count   Dtype  \n",
            "---  ------        --------------   -----  \n",
            " 0   ROW_ID        351918 non-null  int64  \n",
            " 1   SUBJECT_ID    351918 non-null  int64  \n",
            " 2   HADM_ID       351918 non-null  int64  \n",
            " 3   ICUSTAY_ID    351550 non-null  float64\n",
            " 4   ITEMID        351918 non-null  int64  \n",
            " 5   CHARTTIME     351918 non-null  object \n",
            " 6   STORETIME     351918 non-null  object \n",
            " 7   CGID          351918 non-null  float64\n",
            " 8   VALUE         350741 non-null  object \n",
            " 9   VALUENUM      342525 non-null  float64\n",
            " 10  VALUEUOM      342103 non-null  object \n",
            " 11  WARNING       444 non-null     float64\n",
            " 12  ERROR         444 non-null     float64\n",
            " 13  RESULTSTATUS  0 non-null       object \n",
            " 14  STOPPED       351421 non-null  object \n",
            "dtypes: float64(5), int64(4), object(6)\n",
            "memory usage: 43.0+ MB\n"
          ]
        }
      ]
    },
    {
      "cell_type": "code",
      "source": [
        "df_chart_events_scores.ITEMID.value_counts()"
      ],
      "metadata": {
        "id": "FL0t5E63FVFB",
        "outputId": "9f53461f-c990-4ce9-8766-40bd7c3dd9e9",
        "colab": {
          "base_uri": "https://localhost:8080/"
        }
      },
      "execution_count": 43,
      "outputs": [
        {
          "output_type": "execute_result",
          "data": {
            "text/plain": [
              "87        342103\n",
              "628         9318\n",
              "4490          49\n",
              "226738        20\n",
              "226768        19\n",
              "226779        19\n",
              "226777        19\n",
              "226773        19\n",
              "226771        19\n",
              "226775        19\n",
              "226767        19\n",
              "226765        19\n",
              "226763        19\n",
              "226761        19\n",
              "226760        19\n",
              "226755        19\n",
              "226751        19\n",
              "226753        15\n",
              "226749        15\n",
              "227035         8\n",
              "227063         8\n",
              "227059         8\n",
              "227055         8\n",
              "227053         8\n",
              "227051         8\n",
              "227038         8\n",
              "227001         8\n",
              "227024         8\n",
              "227020         8\n",
              "227019         8\n",
              "227016         8\n",
              "227013         8\n",
              "227006         8\n",
              "227004         8\n",
              "226999         8\n",
              "226982         8\n",
              "226980         8\n",
              "5927           4\n",
              "227428         3\n",
              "Name: ITEMID, dtype: int64"
            ]
          },
          "metadata": {},
          "execution_count": 43
        }
      ]
    },
    {
      "cell_type": "code",
      "source": [
        "file_name = \"ICUSTAYS.csv\"\n",
        "df_ward = pd.read_csv(notes_path+file_name)\n",
        "subject_id_tsicu = df_ward[(df_ward['FIRST_CAREUNIT']=='TSICU') & (df_ward['LAST_CAREUNIT']=='TSICU')].SUBJECT_ID.unique()\n",
        "print(f'Number of Subjects in TSICU: {len(subject_id_tsicu)}')"
      ],
      "metadata": {
        "id": "Ti0D5GvITEpa",
        "colab": {
          "base_uri": "https://localhost:8080/"
        },
        "outputId": "bdc539e6-a16a-46d9-ec68-059f6c7bf25d"
      },
      "execution_count": 3,
      "outputs": [
        {
          "output_type": "stream",
          "name": "stdout",
          "text": [
            "Number of Subjects in TSICU: 5418\n"
          ]
        }
      ]
    },
    {
      "cell_type": "code",
      "source": [
        "file_name = \"DIAGNOSES_ICD.csv\"\n",
        "df_icd = pd.read_csv(notes_path+file_name)\n",
        "df_icd_first = df_icd[df_icd['SEQ_NUM']==1]\n",
        "df_icd_first_tsicu = df_icd_first[df_icd_first['SUBJECT_ID'].isin(subject_id_tsicu)]\n",
        "print(f'Number of unique ICD 9 first sequence from TCICU subject: {df_icd_first_tsicu.ICD9_CODE.nunique()}')\n",
        "icd_tsicu = df_icd_first_tsicu.ICD9_CODE.value_counts().nlargest(5)\n",
        "print('Top 5 Popular ICD9 in the TSICU population with duplicates:')\n",
        "print(\"code  #subjects\")\n",
        "icd_tsicu"
      ],
      "metadata": {
        "id": "PFLocK_T-w_x",
        "outputId": "1530e697-dcd8-45d4-dcaf-3d1a96132ce7",
        "colab": {
          "base_uri": "https://localhost:8080/"
        }
      },
      "execution_count": 4,
      "outputs": [
        {
          "output_type": "stream",
          "name": "stdout",
          "text": [
            "Number of unique ICD 9 first sequence from TCICU subject: 1387\n",
            "Top 5 Popular ICD9 in the TSICU population with duplicates:\n",
            "code  #subjects\n"
          ]
        },
        {
          "output_type": "execute_result",
          "data": {
            "text/plain": [
              "431      190\n",
              "0389     164\n",
              "85221    103\n",
              "51881     81\n",
              "430       79\n",
              "Name: ICD9_CODE, dtype: int64"
            ]
          },
          "metadata": {},
          "execution_count": 4
        }
      ]
    },
    {
      "cell_type": "code",
      "source": [
        "condition = []\n",
        "for item in df_icd_first['ICD9_CODE'].values:\n",
        "  if item.isdigit():\n",
        "    item = float(item)\n",
        "    if (item>799 and item<900):\n",
        "      condition.append(True)\n",
        "    else: \n",
        "      condition.append(False)\n",
        "  else:\n",
        "      condition.append(False)\n",
        "\n",
        "\n",
        "icd8xxfirst_subjects_ids = df_icd_first[condition]['SUBJECT_ID'].unique()\n",
        "print(f'Number of subjects with a first sequence ICD 9 code [800,900) : {len(icd8xxfirst_subjects_ids)}')"
      ],
      "metadata": {
        "colab": {
          "base_uri": "https://localhost:8080/"
        },
        "id": "6-NdyuwtOgIx",
        "outputId": "fff4fb45-9d03-4937-8f72-445159d408dc"
      },
      "execution_count": 5,
      "outputs": [
        {
          "output_type": "stream",
          "name": "stdout",
          "text": [
            "Number of subjects with a first sequence ICD 9 code [800,900) : 154\n"
          ]
        }
      ]
    },
    {
      "cell_type": "code",
      "source": [
        "patients = \"PATIENTS.csv\"\n",
        "df_patients = pd.read_csv(notes_path+patients)\n",
        "df_patients_icd8xx_tsicu = df_patients[df_patients['SUBJECT_ID'].isin(icd8xxfirst_subjects_ids)]\n",
        "\n",
        "print('Subjects Expired (1), Alive (0): ')\n",
        "print(df_patients_icd8xx_tsicu['EXPIRE_FLAG'].value_counts())\n",
        "print(df_patients_icd8xx_tsicu['GENDER'].value_counts())"
      ],
      "metadata": {
        "id": "oz7EmtbWQC31",
        "colab": {
          "base_uri": "https://localhost:8080/"
        },
        "outputId": "ae667e6e-ce89-4024-f53c-a36875c69410"
      },
      "execution_count": 6,
      "outputs": [
        {
          "output_type": "stream",
          "name": "stdout",
          "text": [
            "Subjects Expired (1), Alive (0): \n",
            "1    87\n",
            "0    67\n",
            "Name: EXPIRE_FLAG, dtype: int64\n",
            "F    87\n",
            "M    67\n",
            "Name: GENDER, dtype: int64\n"
          ]
        }
      ]
    },
    {
      "cell_type": "code",
      "source": [
        "note_events = \"NOTEEVENTS.csv\"\n",
        "df_note_events = pd.read_csv(notes_path+note_events)\n",
        "df_note_events.info()"
      ],
      "metadata": {
        "id": "-nA246kVYBs_",
        "outputId": "988482a1-c6ae-42d6-dd2d-3180047ef187",
        "colab": {
          "base_uri": "https://localhost:8080/"
        }
      },
      "execution_count": 7,
      "outputs": [
        {
          "output_type": "stream",
          "name": "stderr",
          "text": [
            "<ipython-input-7-8fd00f55f791>:2: DtypeWarning: Columns (4,5) have mixed types. Specify dtype option on import or set low_memory=False.\n",
            "  df_note_events = pd.read_csv(notes_path+note_events)\n"
          ]
        },
        {
          "output_type": "stream",
          "name": "stdout",
          "text": [
            "<class 'pandas.core.frame.DataFrame'>\n",
            "RangeIndex: 2083180 entries, 0 to 2083179\n",
            "Data columns (total 11 columns):\n",
            " #   Column       Dtype  \n",
            "---  ------       -----  \n",
            " 0   ROW_ID       int64  \n",
            " 1   SUBJECT_ID   int64  \n",
            " 2   HADM_ID      float64\n",
            " 3   CHARTDATE    object \n",
            " 4   CHARTTIME    object \n",
            " 5   STORETIME    object \n",
            " 6   CATEGORY     object \n",
            " 7   DESCRIPTION  object \n",
            " 8   CGID         float64\n",
            " 9   ISERROR      float64\n",
            " 10  TEXT         object \n",
            "dtypes: float64(3), int64(2), object(6)\n",
            "memory usage: 174.8+ MB\n"
          ]
        }
      ]
    },
    {
      "cell_type": "code",
      "source": [
        "df_note_icd8xx_tsicu = df_note_events[df_note_events['SUBJECT_ID'].isin(icd8xxfirst_subjects_ids)]\n",
        "print(f'Number of total notes: {len(df_note_icd8xx_tsicu)}')\n",
        "df_nursing_progress_note_icd8xx_tsicu = df_note_icd8xx_tsicu[df_note_icd8xx_tsicu['DESCRIPTION']=='Nursing Progress Note']\n",
        "print(f'Number of Nursing Progress Notes: {len(df_nursing_progress_note_icd8xx_tsicu)}')\n",
        "df_discharge_note_icd8xx_tsicu = df_note_icd8xx_tsicu[df_note_icd8xx_tsicu['CATEGORY']=='Discharge summary']\n",
        "print(f'Number of Discharge summary: {len(df_discharge_note_icd8xx_tsicu)}')"
      ],
      "metadata": {
        "id": "DwwYQRkRlZtq",
        "outputId": "0525c383-6135-4673-b04b-cb847407d3ff",
        "colab": {
          "base_uri": "https://localhost:8080/"
        }
      },
      "execution_count": 8,
      "outputs": [
        {
          "output_type": "stream",
          "name": "stdout",
          "text": [
            "Number of total notes: 18648\n",
            "Number of Nursing Progress Notes: 4317\n",
            "Number of Discharge summary: 439\n"
          ]
        }
      ]
    },
    {
      "cell_type": "code",
      "source": [
        "cgid_icd8xx_tsicu = df_nursing_progress_note_icd8xx_tsicu['CGID'].unique()\n",
        "print(f'Number of caregivers: {len(df_nursing_progress_note_icd8xx_tsicu)}')"
      ],
      "metadata": {
        "id": "2bUQdNjco_Ev",
        "outputId": "b34799b0-ee5f-4506-9448-dd5dc8dc3ccc",
        "colab": {
          "base_uri": "https://localhost:8080/"
        }
      },
      "execution_count": 9,
      "outputs": [
        {
          "output_type": "stream",
          "name": "stdout",
          "text": [
            "Number of caregivers: 4317\n"
          ]
        }
      ]
    },
    {
      "cell_type": "code",
      "source": [
        "caregivers = \"CAREGIVERS.csv\"\n",
        "df_caregivers = pd.read_csv(notes_path+caregivers)\n",
        "df_caregivers[df_caregivers['CGID'].isin(cgid_icd8xx_tsicu)].LABEL.value_counts()"
      ],
      "metadata": {
        "colab": {
          "base_uri": "https://localhost:8080/"
        },
        "id": "nylbIdrdDKTn",
        "outputId": "6bc2b9ee-103a-4610-ffd2-7d5b47f7ce9a"
      },
      "execution_count": 10,
      "outputs": [
        {
          "output_type": "execute_result",
          "data": {
            "text/plain": [
              "RN      237\n",
              "RNs       4\n",
              "Rn        3\n",
              "PCT       2\n",
              "Nurs      1\n",
              "CoRN      1\n",
              "rn        1\n",
              "Res       1\n",
              "MS        1\n",
              "Name: LABEL, dtype: int64"
            ]
          },
          "metadata": {},
          "execution_count": 10
        }
      ]
    },
    {
      "cell_type": "code",
      "source": [
        "name_file= \"ADMISSIONS.csv\"\n",
        "df_adm = pd.read_csv(notes_path+name_file)\n",
        "df_adm_icd8xx_tsicu = df_adm[df_adm['SUBJECT_ID'].isin(cgid_icd8xx_tsicu)]\n",
        "df_adm_icd8xx_tsicu"
      ],
      "metadata": {
        "colab": {
          "base_uri": "https://localhost:8080/",
          "height": 834
        },
        "id": "0uSjIRb0Kf7D",
        "outputId": "cafd3f5c-2ddc-4853-a463-6513ce1abcef"
      },
      "execution_count": 11,
      "outputs": [
        {
          "output_type": "execute_result",
          "data": {
            "text/plain": [
              "       ROW_ID  SUBJECT_ID  HADM_ID            ADMITTIME            DISCHTIME  \\\n",
              "14285   17998       14714   142710  2150-03-07 21:50:00  2150-03-14 19:00:00   \n",
              "14286   17999       14714   115276  2151-01-12 17:35:00  2151-01-19 17:16:00   \n",
              "14293   18006       14719   106692  2125-12-03 13:00:00  2125-12-20 12:44:00   \n",
              "14853   17902       14626   148547  2190-07-16 07:15:00  2190-07-22 17:00:00   \n",
              "15023   17936       14657   111125  2200-07-05 19:37:00  2200-07-11 10:45:00   \n",
              "...       ...         ...      ...                  ...                  ...   \n",
              "27638   26001       21297   134084  2111-08-21 08:46:00  2111-08-25 11:20:00   \n",
              "27639   26002       21297   111349  2111-08-26 16:35:00  2111-08-29 18:00:00   \n",
              "27737   26233       21476   176844  2102-09-20 14:56:00  2102-09-23 19:15:00   \n",
              "28046   26196       21452   108178  2119-01-26 18:12:00  2119-02-13 11:13:00   \n",
              "28047   26197       21452   133978  2122-12-27 07:04:00  2123-01-02 15:00:00   \n",
              "\n",
              "      DEATHTIME ADMISSION_TYPE         ADMISSION_LOCATION DISCHARGE_LOCATION  \\\n",
              "14285       NaN      EMERGENCY       EMERGENCY ROOM ADMIT               HOME   \n",
              "14286       NaN      EMERGENCY       EMERGENCY ROOM ADMIT               HOME   \n",
              "14293       NaN       ELECTIVE  PHYS REFERRAL/NORMAL DELI                SNF   \n",
              "14853       NaN       ELECTIVE  PHYS REFERRAL/NORMAL DELI   HOME HEALTH CARE   \n",
              "15023       NaN      EMERGENCY       EMERGENCY ROOM ADMIT               HOME   \n",
              "...         ...            ...                        ...                ...   \n",
              "27638       NaN        NEWBORN  PHYS REFERRAL/NORMAL DELI               HOME   \n",
              "27639       NaN      EMERGENCY  PHYS REFERRAL/NORMAL DELI               HOME   \n",
              "27737       NaN      EMERGENCY       EMERGENCY ROOM ADMIT   HOME HEALTH CARE   \n",
              "28046       NaN      EMERGENCY       EMERGENCY ROOM ADMIT   HOME HEALTH CARE   \n",
              "28047       NaN      EMERGENCY       EMERGENCY ROOM ADMIT                SNF   \n",
              "\n",
              "      INSURANCE LANGUAGE           RELIGION MARITAL_STATUS  \\\n",
              "14285  Medicare     SPAN           CATHOLIC       DIVORCED   \n",
              "14286  Medicare     SPAN           CATHOLIC       DIVORCED   \n",
              "14293  Medicare      NaN           CATHOLIC        WIDOWED   \n",
              "14853  Medicare      NaN              OTHER        MARRIED   \n",
              "15023  Self Pay      NaN              OTHER       DIVORCED   \n",
              "...         ...      ...                ...            ...   \n",
              "27638   Private      NaN       UNOBTAINABLE            NaN   \n",
              "27639   Private      NaN       UNOBTAINABLE            NaN   \n",
              "27737  Medicare     ENGL  PROTESTANT QUAKER      SEPARATED   \n",
              "28046   Private      NaN           CATHOLIC        MARRIED   \n",
              "28047   Private      NaN           CATHOLIC        MARRIED   \n",
              "\n",
              "                            ETHNICITY            EDREGTIME  \\\n",
              "14285  HISPANIC/LATINO - PUERTO RICAN  2150-03-07 18:00:00   \n",
              "14286  HISPANIC/LATINO - PUERTO RICAN  2151-01-12 12:57:00   \n",
              "14293                           WHITE                  NaN   \n",
              "14853      PATIENT DECLINED TO ANSWER                  NaN   \n",
              "15023           UNKNOWN/NOT SPECIFIED  2200-07-05 15:43:00   \n",
              "...                               ...                  ...   \n",
              "27638           UNKNOWN/NOT SPECIFIED                  NaN   \n",
              "27639           UNKNOWN/NOT SPECIFIED                  NaN   \n",
              "27737          BLACK/AFRICAN AMERICAN  2102-09-20 11:45:00   \n",
              "28046                           WHITE  2119-01-26 13:56:00   \n",
              "28047                           WHITE  2122-12-27 01:10:00   \n",
              "\n",
              "                 EDOUTTIME                                          DIAGNOSIS  \\\n",
              "14285  2150-03-07 22:50:00                                              FEVER   \n",
              "14286  2151-01-12 19:57:00                                        HYPOTENSION   \n",
              "14293                  NaN                                   CAROTID STENOSIS   \n",
              "14853                  NaN  CORONARY ARTERY DISEASE\\CORONARY ARTERY BYPASS...   \n",
              "15023  2200-07-05 21:00:00                                    LUMBAR FRACTURE   \n",
              "...                    ...                                                ...   \n",
              "27638                  NaN                                            NEWBORN   \n",
              "27639                  NaN                                 HYPERBILIRUBINEMIA   \n",
              "27737  2102-09-20 16:07:00                                   STROKE;TELEMETRY   \n",
              "28046  2119-01-26 19:38:00                     R/O OBSTRUCTION-ABDOMINAL PAIN   \n",
              "28047  2122-12-27 08:36:00                                          UROSEPSIS   \n",
              "\n",
              "       HOSPITAL_EXPIRE_FLAG  HAS_CHARTEVENTS_DATA  \n",
              "14285                     0                     0  \n",
              "14286                     0                     1  \n",
              "14293                     0                     1  \n",
              "14853                     0                     1  \n",
              "15023                     0                     1  \n",
              "...                     ...                   ...  \n",
              "27638                     0                     0  \n",
              "27639                     0                     1  \n",
              "27737                     0                     1  \n",
              "28046                     0                     1  \n",
              "28047                     0                     1  \n",
              "\n",
              "[314 rows x 19 columns]"
            ],
            "text/html": [
              "\n",
              "  <div id=\"df-d58a57ff-1611-48ee-93fc-c7a3e205b21c\">\n",
              "    <div class=\"colab-df-container\">\n",
              "      <div>\n",
              "<style scoped>\n",
              "    .dataframe tbody tr th:only-of-type {\n",
              "        vertical-align: middle;\n",
              "    }\n",
              "\n",
              "    .dataframe tbody tr th {\n",
              "        vertical-align: top;\n",
              "    }\n",
              "\n",
              "    .dataframe thead th {\n",
              "        text-align: right;\n",
              "    }\n",
              "</style>\n",
              "<table border=\"1\" class=\"dataframe\">\n",
              "  <thead>\n",
              "    <tr style=\"text-align: right;\">\n",
              "      <th></th>\n",
              "      <th>ROW_ID</th>\n",
              "      <th>SUBJECT_ID</th>\n",
              "      <th>HADM_ID</th>\n",
              "      <th>ADMITTIME</th>\n",
              "      <th>DISCHTIME</th>\n",
              "      <th>DEATHTIME</th>\n",
              "      <th>ADMISSION_TYPE</th>\n",
              "      <th>ADMISSION_LOCATION</th>\n",
              "      <th>DISCHARGE_LOCATION</th>\n",
              "      <th>INSURANCE</th>\n",
              "      <th>LANGUAGE</th>\n",
              "      <th>RELIGION</th>\n",
              "      <th>MARITAL_STATUS</th>\n",
              "      <th>ETHNICITY</th>\n",
              "      <th>EDREGTIME</th>\n",
              "      <th>EDOUTTIME</th>\n",
              "      <th>DIAGNOSIS</th>\n",
              "      <th>HOSPITAL_EXPIRE_FLAG</th>\n",
              "      <th>HAS_CHARTEVENTS_DATA</th>\n",
              "    </tr>\n",
              "  </thead>\n",
              "  <tbody>\n",
              "    <tr>\n",
              "      <th>14285</th>\n",
              "      <td>17998</td>\n",
              "      <td>14714</td>\n",
              "      <td>142710</td>\n",
              "      <td>2150-03-07 21:50:00</td>\n",
              "      <td>2150-03-14 19:00:00</td>\n",
              "      <td>NaN</td>\n",
              "      <td>EMERGENCY</td>\n",
              "      <td>EMERGENCY ROOM ADMIT</td>\n",
              "      <td>HOME</td>\n",
              "      <td>Medicare</td>\n",
              "      <td>SPAN</td>\n",
              "      <td>CATHOLIC</td>\n",
              "      <td>DIVORCED</td>\n",
              "      <td>HISPANIC/LATINO - PUERTO RICAN</td>\n",
              "      <td>2150-03-07 18:00:00</td>\n",
              "      <td>2150-03-07 22:50:00</td>\n",
              "      <td>FEVER</td>\n",
              "      <td>0</td>\n",
              "      <td>0</td>\n",
              "    </tr>\n",
              "    <tr>\n",
              "      <th>14286</th>\n",
              "      <td>17999</td>\n",
              "      <td>14714</td>\n",
              "      <td>115276</td>\n",
              "      <td>2151-01-12 17:35:00</td>\n",
              "      <td>2151-01-19 17:16:00</td>\n",
              "      <td>NaN</td>\n",
              "      <td>EMERGENCY</td>\n",
              "      <td>EMERGENCY ROOM ADMIT</td>\n",
              "      <td>HOME</td>\n",
              "      <td>Medicare</td>\n",
              "      <td>SPAN</td>\n",
              "      <td>CATHOLIC</td>\n",
              "      <td>DIVORCED</td>\n",
              "      <td>HISPANIC/LATINO - PUERTO RICAN</td>\n",
              "      <td>2151-01-12 12:57:00</td>\n",
              "      <td>2151-01-12 19:57:00</td>\n",
              "      <td>HYPOTENSION</td>\n",
              "      <td>0</td>\n",
              "      <td>1</td>\n",
              "    </tr>\n",
              "    <tr>\n",
              "      <th>14293</th>\n",
              "      <td>18006</td>\n",
              "      <td>14719</td>\n",
              "      <td>106692</td>\n",
              "      <td>2125-12-03 13:00:00</td>\n",
              "      <td>2125-12-20 12:44:00</td>\n",
              "      <td>NaN</td>\n",
              "      <td>ELECTIVE</td>\n",
              "      <td>PHYS REFERRAL/NORMAL DELI</td>\n",
              "      <td>SNF</td>\n",
              "      <td>Medicare</td>\n",
              "      <td>NaN</td>\n",
              "      <td>CATHOLIC</td>\n",
              "      <td>WIDOWED</td>\n",
              "      <td>WHITE</td>\n",
              "      <td>NaN</td>\n",
              "      <td>NaN</td>\n",
              "      <td>CAROTID STENOSIS</td>\n",
              "      <td>0</td>\n",
              "      <td>1</td>\n",
              "    </tr>\n",
              "    <tr>\n",
              "      <th>14853</th>\n",
              "      <td>17902</td>\n",
              "      <td>14626</td>\n",
              "      <td>148547</td>\n",
              "      <td>2190-07-16 07:15:00</td>\n",
              "      <td>2190-07-22 17:00:00</td>\n",
              "      <td>NaN</td>\n",
              "      <td>ELECTIVE</td>\n",
              "      <td>PHYS REFERRAL/NORMAL DELI</td>\n",
              "      <td>HOME HEALTH CARE</td>\n",
              "      <td>Medicare</td>\n",
              "      <td>NaN</td>\n",
              "      <td>OTHER</td>\n",
              "      <td>MARRIED</td>\n",
              "      <td>PATIENT DECLINED TO ANSWER</td>\n",
              "      <td>NaN</td>\n",
              "      <td>NaN</td>\n",
              "      <td>CORONARY ARTERY DISEASE\\CORONARY ARTERY BYPASS...</td>\n",
              "      <td>0</td>\n",
              "      <td>1</td>\n",
              "    </tr>\n",
              "    <tr>\n",
              "      <th>15023</th>\n",
              "      <td>17936</td>\n",
              "      <td>14657</td>\n",
              "      <td>111125</td>\n",
              "      <td>2200-07-05 19:37:00</td>\n",
              "      <td>2200-07-11 10:45:00</td>\n",
              "      <td>NaN</td>\n",
              "      <td>EMERGENCY</td>\n",
              "      <td>EMERGENCY ROOM ADMIT</td>\n",
              "      <td>HOME</td>\n",
              "      <td>Self Pay</td>\n",
              "      <td>NaN</td>\n",
              "      <td>OTHER</td>\n",
              "      <td>DIVORCED</td>\n",
              "      <td>UNKNOWN/NOT SPECIFIED</td>\n",
              "      <td>2200-07-05 15:43:00</td>\n",
              "      <td>2200-07-05 21:00:00</td>\n",
              "      <td>LUMBAR FRACTURE</td>\n",
              "      <td>0</td>\n",
              "      <td>1</td>\n",
              "    </tr>\n",
              "    <tr>\n",
              "      <th>...</th>\n",
              "      <td>...</td>\n",
              "      <td>...</td>\n",
              "      <td>...</td>\n",
              "      <td>...</td>\n",
              "      <td>...</td>\n",
              "      <td>...</td>\n",
              "      <td>...</td>\n",
              "      <td>...</td>\n",
              "      <td>...</td>\n",
              "      <td>...</td>\n",
              "      <td>...</td>\n",
              "      <td>...</td>\n",
              "      <td>...</td>\n",
              "      <td>...</td>\n",
              "      <td>...</td>\n",
              "      <td>...</td>\n",
              "      <td>...</td>\n",
              "      <td>...</td>\n",
              "      <td>...</td>\n",
              "    </tr>\n",
              "    <tr>\n",
              "      <th>27638</th>\n",
              "      <td>26001</td>\n",
              "      <td>21297</td>\n",
              "      <td>134084</td>\n",
              "      <td>2111-08-21 08:46:00</td>\n",
              "      <td>2111-08-25 11:20:00</td>\n",
              "      <td>NaN</td>\n",
              "      <td>NEWBORN</td>\n",
              "      <td>PHYS REFERRAL/NORMAL DELI</td>\n",
              "      <td>HOME</td>\n",
              "      <td>Private</td>\n",
              "      <td>NaN</td>\n",
              "      <td>UNOBTAINABLE</td>\n",
              "      <td>NaN</td>\n",
              "      <td>UNKNOWN/NOT SPECIFIED</td>\n",
              "      <td>NaN</td>\n",
              "      <td>NaN</td>\n",
              "      <td>NEWBORN</td>\n",
              "      <td>0</td>\n",
              "      <td>0</td>\n",
              "    </tr>\n",
              "    <tr>\n",
              "      <th>27639</th>\n",
              "      <td>26002</td>\n",
              "      <td>21297</td>\n",
              "      <td>111349</td>\n",
              "      <td>2111-08-26 16:35:00</td>\n",
              "      <td>2111-08-29 18:00:00</td>\n",
              "      <td>NaN</td>\n",
              "      <td>EMERGENCY</td>\n",
              "      <td>PHYS REFERRAL/NORMAL DELI</td>\n",
              "      <td>HOME</td>\n",
              "      <td>Private</td>\n",
              "      <td>NaN</td>\n",
              "      <td>UNOBTAINABLE</td>\n",
              "      <td>NaN</td>\n",
              "      <td>UNKNOWN/NOT SPECIFIED</td>\n",
              "      <td>NaN</td>\n",
              "      <td>NaN</td>\n",
              "      <td>HYPERBILIRUBINEMIA</td>\n",
              "      <td>0</td>\n",
              "      <td>1</td>\n",
              "    </tr>\n",
              "    <tr>\n",
              "      <th>27737</th>\n",
              "      <td>26233</td>\n",
              "      <td>21476</td>\n",
              "      <td>176844</td>\n",
              "      <td>2102-09-20 14:56:00</td>\n",
              "      <td>2102-09-23 19:15:00</td>\n",
              "      <td>NaN</td>\n",
              "      <td>EMERGENCY</td>\n",
              "      <td>EMERGENCY ROOM ADMIT</td>\n",
              "      <td>HOME HEALTH CARE</td>\n",
              "      <td>Medicare</td>\n",
              "      <td>ENGL</td>\n",
              "      <td>PROTESTANT QUAKER</td>\n",
              "      <td>SEPARATED</td>\n",
              "      <td>BLACK/AFRICAN AMERICAN</td>\n",
              "      <td>2102-09-20 11:45:00</td>\n",
              "      <td>2102-09-20 16:07:00</td>\n",
              "      <td>STROKE;TELEMETRY</td>\n",
              "      <td>0</td>\n",
              "      <td>1</td>\n",
              "    </tr>\n",
              "    <tr>\n",
              "      <th>28046</th>\n",
              "      <td>26196</td>\n",
              "      <td>21452</td>\n",
              "      <td>108178</td>\n",
              "      <td>2119-01-26 18:12:00</td>\n",
              "      <td>2119-02-13 11:13:00</td>\n",
              "      <td>NaN</td>\n",
              "      <td>EMERGENCY</td>\n",
              "      <td>EMERGENCY ROOM ADMIT</td>\n",
              "      <td>HOME HEALTH CARE</td>\n",
              "      <td>Private</td>\n",
              "      <td>NaN</td>\n",
              "      <td>CATHOLIC</td>\n",
              "      <td>MARRIED</td>\n",
              "      <td>WHITE</td>\n",
              "      <td>2119-01-26 13:56:00</td>\n",
              "      <td>2119-01-26 19:38:00</td>\n",
              "      <td>R/O OBSTRUCTION-ABDOMINAL PAIN</td>\n",
              "      <td>0</td>\n",
              "      <td>1</td>\n",
              "    </tr>\n",
              "    <tr>\n",
              "      <th>28047</th>\n",
              "      <td>26197</td>\n",
              "      <td>21452</td>\n",
              "      <td>133978</td>\n",
              "      <td>2122-12-27 07:04:00</td>\n",
              "      <td>2123-01-02 15:00:00</td>\n",
              "      <td>NaN</td>\n",
              "      <td>EMERGENCY</td>\n",
              "      <td>EMERGENCY ROOM ADMIT</td>\n",
              "      <td>SNF</td>\n",
              "      <td>Private</td>\n",
              "      <td>NaN</td>\n",
              "      <td>CATHOLIC</td>\n",
              "      <td>MARRIED</td>\n",
              "      <td>WHITE</td>\n",
              "      <td>2122-12-27 01:10:00</td>\n",
              "      <td>2122-12-27 08:36:00</td>\n",
              "      <td>UROSEPSIS</td>\n",
              "      <td>0</td>\n",
              "      <td>1</td>\n",
              "    </tr>\n",
              "  </tbody>\n",
              "</table>\n",
              "<p>314 rows × 19 columns</p>\n",
              "</div>\n",
              "      <button class=\"colab-df-convert\" onclick=\"convertToInteractive('df-d58a57ff-1611-48ee-93fc-c7a3e205b21c')\"\n",
              "              title=\"Convert this dataframe to an interactive table.\"\n",
              "              style=\"display:none;\">\n",
              "        \n",
              "  <svg xmlns=\"http://www.w3.org/2000/svg\" height=\"24px\"viewBox=\"0 0 24 24\"\n",
              "       width=\"24px\">\n",
              "    <path d=\"M0 0h24v24H0V0z\" fill=\"none\"/>\n",
              "    <path d=\"M18.56 5.44l.94 2.06.94-2.06 2.06-.94-2.06-.94-.94-2.06-.94 2.06-2.06.94zm-11 1L8.5 8.5l.94-2.06 2.06-.94-2.06-.94L8.5 2.5l-.94 2.06-2.06.94zm10 10l.94 2.06.94-2.06 2.06-.94-2.06-.94-.94-2.06-.94 2.06-2.06.94z\"/><path d=\"M17.41 7.96l-1.37-1.37c-.4-.4-.92-.59-1.43-.59-.52 0-1.04.2-1.43.59L10.3 9.45l-7.72 7.72c-.78.78-.78 2.05 0 2.83L4 21.41c.39.39.9.59 1.41.59.51 0 1.02-.2 1.41-.59l7.78-7.78 2.81-2.81c.8-.78.8-2.07 0-2.86zM5.41 20L4 18.59l7.72-7.72 1.47 1.35L5.41 20z\"/>\n",
              "  </svg>\n",
              "      </button>\n",
              "      \n",
              "  <style>\n",
              "    .colab-df-container {\n",
              "      display:flex;\n",
              "      flex-wrap:wrap;\n",
              "      gap: 12px;\n",
              "    }\n",
              "\n",
              "    .colab-df-convert {\n",
              "      background-color: #E8F0FE;\n",
              "      border: none;\n",
              "      border-radius: 50%;\n",
              "      cursor: pointer;\n",
              "      display: none;\n",
              "      fill: #1967D2;\n",
              "      height: 32px;\n",
              "      padding: 0 0 0 0;\n",
              "      width: 32px;\n",
              "    }\n",
              "\n",
              "    .colab-df-convert:hover {\n",
              "      background-color: #E2EBFA;\n",
              "      box-shadow: 0px 1px 2px rgba(60, 64, 67, 0.3), 0px 1px 3px 1px rgba(60, 64, 67, 0.15);\n",
              "      fill: #174EA6;\n",
              "    }\n",
              "\n",
              "    [theme=dark] .colab-df-convert {\n",
              "      background-color: #3B4455;\n",
              "      fill: #D2E3FC;\n",
              "    }\n",
              "\n",
              "    [theme=dark] .colab-df-convert:hover {\n",
              "      background-color: #434B5C;\n",
              "      box-shadow: 0px 1px 3px 1px rgba(0, 0, 0, 0.15);\n",
              "      filter: drop-shadow(0px 1px 2px rgba(0, 0, 0, 0.3));\n",
              "      fill: #FFFFFF;\n",
              "    }\n",
              "  </style>\n",
              "\n",
              "      <script>\n",
              "        const buttonEl =\n",
              "          document.querySelector('#df-d58a57ff-1611-48ee-93fc-c7a3e205b21c button.colab-df-convert');\n",
              "        buttonEl.style.display =\n",
              "          google.colab.kernel.accessAllowed ? 'block' : 'none';\n",
              "\n",
              "        async function convertToInteractive(key) {\n",
              "          const element = document.querySelector('#df-d58a57ff-1611-48ee-93fc-c7a3e205b21c');\n",
              "          const dataTable =\n",
              "            await google.colab.kernel.invokeFunction('convertToInteractive',\n",
              "                                                     [key], {});\n",
              "          if (!dataTable) return;\n",
              "\n",
              "          const docLinkHtml = 'Like what you see? Visit the ' +\n",
              "            '<a target=\"_blank\" href=https://colab.research.google.com/notebooks/data_table.ipynb>data table notebook</a>'\n",
              "            + ' to learn more about interactive tables.';\n",
              "          element.innerHTML = '';\n",
              "          dataTable['output_type'] = 'display_data';\n",
              "          await google.colab.output.renderOutput(dataTable, element);\n",
              "          const docLink = document.createElement('div');\n",
              "          docLink.innerHTML = docLinkHtml;\n",
              "          element.appendChild(docLink);\n",
              "        }\n",
              "      </script>\n",
              "    </div>\n",
              "  </div>\n",
              "  "
            ]
          },
          "metadata": {},
          "execution_count": 11
        }
      ]
    },
    {
      "cell_type": "markdown",
      "source": [
        "Report"
      ],
      "metadata": {
        "id": "0p7nLpc1Scta"
      }
    },
    {
      "cell_type": "code",
      "source": [
        "print(f'Number of Subjects in TSICU: {len(subject_id_tsicu)}')\n",
        "print(f'Number of subjects with a first sequence ICD 9 code [800,900) : {len(icd8xxfirst_subjects_ids)}')\n",
        "print('')\n",
        "print('Subjects Expired (1), Alive (0): ')\n",
        "print(df_patients_icd8xx_tsicu['EXPIRE_FLAG'].value_counts())\n",
        "print('')\n",
        "print('Gender:')\n",
        "print(df_patients_icd8xx_tsicu['GENDER'].value_counts())\n",
        "print('')\n",
        "print(f'Number of total notes: {len(df_note_icd8xx_tsicu)}')\n",
        "print(f'Number of Nursing Progress Notes: {len(df_nursing_progress_note_icd8xx_tsicu)}')\n",
        "print(f'Number of Discharge summary: {len(df_discharge_note_icd8xx_tsicu)}')\n",
        "#print(f'Number of caregivers: {len(cgid_maxicu_tsicu)}')"
      ],
      "metadata": {
        "id": "c4Y-EhXOSb7f",
        "outputId": "82b9eb1a-2517-4692-dbfa-5fe35a6436c1",
        "colab": {
          "base_uri": "https://localhost:8080/"
        }
      },
      "execution_count": 12,
      "outputs": [
        {
          "output_type": "stream",
          "name": "stdout",
          "text": [
            "Number of Subjects in TSICU: 5418\n",
            "Number of subjects with a first sequence ICD 9 code [800,900) : 154\n",
            "\n",
            "Subjects Expired (1), Alive (0): \n",
            "1    87\n",
            "0    67\n",
            "Name: EXPIRE_FLAG, dtype: int64\n",
            "\n",
            "Gender:\n",
            "F    87\n",
            "M    67\n",
            "Name: GENDER, dtype: int64\n",
            "\n",
            "Number of total notes: 18648\n",
            "Number of Nursing Progress Notes: 4317\n",
            "Number of Discharge summary: 439\n"
          ]
        }
      ]
    },
    {
      "cell_type": "markdown",
      "source": [
        "Calculate oasis score"
      ],
      "metadata": {
        "id": "1C_60UW1t0oA"
      }
    },
    {
      "cell_type": "code",
      "source": [
        "output_events = \"OUTPUTEVENTS.csv\"\n",
        "df_output_events = pd.read_csv(notes_path+output_events)\n",
        "df_output_events.info()"
      ],
      "metadata": {
        "id": "NlUt95CciMn3",
        "outputId": "281999b3-9c9a-486f-ba55-c72666bd6de5",
        "colab": {
          "base_uri": "https://localhost:8080/"
        }
      },
      "execution_count": 13,
      "outputs": [
        {
          "output_type": "stream",
          "name": "stdout",
          "text": [
            "<class 'pandas.core.frame.DataFrame'>\n",
            "RangeIndex: 4349218 entries, 0 to 4349217\n",
            "Data columns (total 13 columns):\n",
            " #   Column      Dtype  \n",
            "---  ------      -----  \n",
            " 0   ROW_ID      int64  \n",
            " 1   SUBJECT_ID  int64  \n",
            " 2   HADM_ID     float64\n",
            " 3   ICUSTAY_ID  float64\n",
            " 4   CHARTTIME   object \n",
            " 5   ITEMID      int64  \n",
            " 6   VALUE       float64\n",
            " 7   VALUEUOM    object \n",
            " 8   STORETIME   object \n",
            " 9   CGID        int64  \n",
            " 10  STOPPED     float64\n",
            " 11  NEWBOTTLE   float64\n",
            " 12  ISERROR     float64\n",
            "dtypes: float64(6), int64(4), object(3)\n",
            "memory usage: 431.4+ MB\n"
          ]
        }
      ]
    },
    {
      "cell_type": "code",
      "source": [
        "def compute_oasis(pd_dataframe):\n",
        "    \"\"\"\n",
        "    Authors link: https://alistairewj.github.io/project/oasis/\n",
        "    Github link: https://gist.github.com/tompollard/d4c216d0c4ad30481c99\n",
        "\n",
        "    Takes Pandas DataFrame as an argument and computes Oxford Acute \n",
        "    Severity of Illness Score (OASIS) (http://oasisicu.com/)\n",
        "    \n",
        "    The DataFrame should include only measurements taken over the first 24h \n",
        "    from admission. pd_dataframe should contain the following columns:\n",
        "    \n",
        "    'prelos' => Pre-ICU length of stay, hours\n",
        "    'age' => Age of patient, years\n",
        "    'GCS_total' => Total Glasgow Coma Scale for patient\n",
        "    'hrate' => All heart rate measurements\n",
        "    'MAP' => All mean arterial blood pressure measurements\n",
        "    'resp_rate' => All respiratory rate measurements\n",
        "    'temp_c' => All temperature measurements, C\n",
        "    'urine' => Total urine output over 24 h (note, not consecutive measurements)\n",
        "    'ventilated' => Is patient ventilated? (y,n)\n",
        "    'admission_type' => Type of admission (elective, urgent, emergency) \n",
        "    \n",
        "    Reference:\n",
        "    Johnson AE, Kramer AA, Clifford GD. A new severity of illness scale \n",
        "    using a subset of Acute Physiology And Chronic Health Evaluation \n",
        "    data elements shows comparable predictive accuracy.\n",
        "    Crit Care Med. 2013 Jul;41(7):1711-8. doi: 10.1097/CCM.0b013e31828a24fe\n",
        "    http://www.ncbi.nlm.nih.gov/pubmed/23660729\n",
        "    \"\"\"\n",
        "    \n",
        "    # 10 variables\n",
        "    oasis_score, oasis_prelos, oasis_age, oasis_gcs, oasis_hr, oasis_map, oasis_resp, \\\n",
        "        oasis_temp, oasis_urine, oasis_vent, oasis_surg = 0,0,0,0,0,0,0,0,0,0,0   \n",
        "    # Pre-ICU length of stay, hours\n",
        "    for val in pd_dataframe['prelos']:\n",
        "        if val >= 4.95 and val <= 24.0:\n",
        "            oasis_prelos = np.nanmax([0,oasis_prelos])\n",
        "        elif val > 311.8:\n",
        "            oasis_prelos = np.nanmax([1,oasis_prelos])\n",
        "        elif val > 24.0 and val <= 311.8:\n",
        "            oasis_prelos = np.nanmax([2,oasis_prelos])\n",
        "        elif val >= 0.17 and val < 4.95:\n",
        "            oasis_prelos = np.nanmax([3,oasis_prelos])\n",
        "        elif val < 0.17:\n",
        "            oasis_prelos = np.nanmax([5,oasis_prelos])\n",
        "        else:\n",
        "            oasis_prelos = np.nanmax([np.nan,oasis_prelos])  \n",
        "    if pd_dataframe['prelos'].isnull().all():\n",
        "        oasis_prelos = np.nan \n",
        "    # Age, years\n",
        "    for val in pd_dataframe['age']:\n",
        "        if val < 24:\n",
        "            oasis_age = np.nanmax([0,oasis_age])\n",
        "        elif val >= 24 and val <= 53:\n",
        "            oasis_age = np.nanmax([3,oasis_age])\n",
        "        elif val > 53 and val <= 77:\n",
        "            oasis_age = np.nanmax([6,oasis_age])\n",
        "        elif val > 77 and val <= 89:\n",
        "            oasis_age = np.nanmax([9,oasis_age])\n",
        "        elif val > 89:\n",
        "            oasis_age = np.nanmax([7,oasis_age])\n",
        "        else:\n",
        "            oasis_age = np.nanmax([np.nan,oasis_age])\n",
        "    if pd_dataframe['age'].isnull().all():\n",
        "        oasis_age = np.nan \n",
        "    # Glasgow Coma Scale\n",
        "    for val in pd_dataframe['GCS_total']:\n",
        "        if val == 15:\n",
        "            oasis_gcs = np.nanmax([0,oasis_gcs])\n",
        "        elif val == 14:\n",
        "            oasis_gcs = np.nanmax([3,oasis_gcs])\n",
        "        elif val >= 8 and val <= 13:\n",
        "            oasis_gcs = np.nanmax([4,oasis_gcs])\n",
        "        elif val >= 3 and val <= 7:\n",
        "            oasis_gcs = np.nanmax([10,oasis_gcs])\n",
        "        else:\n",
        "            oasis_gcs = np.nanmax([np.nan,oasis_gcs])\n",
        "    if pd_dataframe['GCS_total'].isnull().all():\n",
        "        oasis_gcs = np.nan     \n",
        "    # Heart rate\n",
        "    for val in pd_dataframe['hrate']:\n",
        "        if val >= 33 and val <= 88:\n",
        "            oasis_hr = np.nanmax([0,oasis_hr])\n",
        "        elif val > 88 and val <= 106:\n",
        "            oasis_hr = np.nanmax([1,oasis_hr])\n",
        "        elif val > 106 and val <= 125:\n",
        "            oasis_hr = np.nanmax([3,oasis_hr])\n",
        "        elif val < 33:\n",
        "            oasis_hr = np.nanmax([4,oasis_hr])\n",
        "        elif val > 125:\n",
        "            oasis_hr = np.nanmax([6,oasis_hr])\n",
        "        else:\n",
        "            oasis_hr = np.nanmax([np.nan,oasis_hr])\n",
        "    if pd_dataframe['hrate'].isnull().all():\n",
        "        oasis_hr = np.nan \n",
        "    # Mean arterial pressure\n",
        "    for val in pd_dataframe['MAP']:\n",
        "        if val >=61.33 and val <= 143.44:\n",
        "            oasis_map = np.nanmax([0,oasis_map])\n",
        "        elif val >= 51.0 and val < 61.33:\n",
        "            oasis_map = np.nanmax([2,oasis_map])\n",
        "        elif (val >= 20.65 and val < 51.0) or (val > 143.44):\n",
        "            oasis_map = np.nanmax([3,oasis_map])\n",
        "        elif val < 20.65:\n",
        "            oasis_map = np.nanmax([4,oasis_map])\n",
        "        else:\n",
        "            oasis_map = np.nanmax([np.nan,oasis_map])\n",
        "    if pd_dataframe['MAP'].isnull().all():\n",
        "        oasis_map = np.nan \n",
        "    # Respiratory Rate\n",
        "    for val in pd_dataframe['resp_rate']:\n",
        "        if val >=13 and val <= 22:\n",
        "            oasis_resp = np.nanmax([0,oasis_resp])\n",
        "        elif (val >= 6 and val <= 12) or (val >= 23 and val <= 30):\n",
        "            oasis_resp = np.nanmax([1,oasis_resp])\n",
        "        elif val > 30 and val <= 44:\n",
        "            oasis_resp = np.nanmax([6,oasis_resp])\n",
        "        elif val > 44:\n",
        "            oasis_resp = np.nanmax([9,oasis_resp])\n",
        "        elif val < 6:\n",
        "            oasis_resp = np.nanmax([10,oasis_resp])\n",
        "        else:\n",
        "            oasis_resp = np.nanmax([np.nan,oasis_resp])\n",
        "    if pd_dataframe['resp_rate'].isnull().all():\n",
        "        oasis_resp = np.nan \n",
        "    # Temperature, C\n",
        "    for val in pd_dataframe['temp_c']:\n",
        "        if val >= 36.40 and val <= 36.88:\n",
        "            oasis_temp = np.nanmax([0,oasis_temp])\n",
        "        elif (val >= 35.94 and val < 36.40) or (val > 36.88 and val <= 39.88):\n",
        "            oasis_temp = np.nanmax([2,oasis_temp])\n",
        "        elif val < 33.22:\n",
        "            oasis_temp = np.nanmax([3,oasis_temp])            \n",
        "        elif val >= 33.22 and val < 35.94:\n",
        "            oasis_temp = np.nanmax([4,oasis_temp])\n",
        "        elif val > 39.88:\n",
        "            oasis_temp = np.nanmax([6,oasis_temp])\n",
        "        else:\n",
        "            oasis_temp = np.nanmax([np.nan,oasis_temp])\n",
        "    if pd_dataframe['temp_c'].isnull().all():\n",
        "        oasis_temp = np.nan \n",
        "    # Urine output, cc/day (total over 24h)\n",
        "    val = np.max(pd_dataframe['urine'])\n",
        "    if val >=2544.0 and val <= 6896.0:\n",
        "        oasis_urine = np.nanmax([0,oasis_urine])\n",
        "    elif val >= 1427.0 and val < 2544.0:\n",
        "        oasis_urine = np.nanmax([1,oasis_urine])\n",
        "    elif val >= 671.0 and val < 1427.0:\n",
        "        oasis_urine = np.nanmax([5,oasis_urine])\n",
        "    elif val > 6896.0:\n",
        "        oasis_urine = np.nanmax([8,oasis_urine])\n",
        "    elif val < 671:\n",
        "        oasis_urine = np.nanmax([10,oasis_urine])\n",
        "    else:\n",
        "        oasis_urine = np.nanmax([np.nan,oasis_urine])\n",
        "    if pd_dataframe['urine'].isnull().all():\n",
        "        oasis_urine = np.nan \n",
        "    # Ventilated y/n\n",
        "    for val in pd_dataframe['ventilated']:\n",
        "        if val == 'n':\n",
        "            oasis_vent = np.nanmax([0,oasis_vent])\n",
        "        elif val == 'y':\n",
        "            oasis_vent = np.nanmax([9,oasis_vent])\n",
        "        else:\n",
        "            oasis_vent = np.nanmax([np.nan,oasis_vent])\n",
        "    if pd_dataframe['ventilated'].isnull().all():\n",
        "        oasis_vent = np.nan \n",
        "    # Elective surgery y/n\n",
        "    for val in pd_dataframe['admission_type']:\n",
        "        if val == 'elective':\n",
        "            oasis_surg = np.nanmax([0,oasis_surg])\n",
        "        elif val in ['urgent','emergency']:\n",
        "            oasis_surg = np.nanmax([6,oasis_surg])\n",
        "        else:\n",
        "            oasis_surg = np.nanmax([np.nan,oasis_surg])\n",
        "    if pd_dataframe['admission_type'].isnull().all():\n",
        "        oasis_surg = np.nan \n",
        "    # Return sum\n",
        "    oasis_score = sum([oasis_prelos, oasis_age, oasis_gcs, oasis_hr, oasis_map, oasis_resp, \\\n",
        "        oasis_temp, oasis_urine, oasis_vent, oasis_surg])\n",
        "    return oasis_score"
      ],
      "metadata": {
        "id": "lOqjWl1xncmg"
      },
      "execution_count": null,
      "outputs": []
    },
    {
      "cell_type": "markdown",
      "source": [
        "# END\n"
      ],
      "metadata": {
        "id": "hvh4aVTHpaKw"
      }
    },
    {
      "cell_type": "code",
      "source": [
        "print(df_note_events['CATEGORY'].unique())"
      ],
      "metadata": {
        "id": "QbSCiAMObBNm"
      },
      "execution_count": null,
      "outputs": []
    },
    {
      "cell_type": "markdown",
      "source": [
        "## **Data Preprocessing**"
      ],
      "metadata": {
        "id": "qdVDhESt91i2"
      }
    },
    {
      "cell_type": "code",
      "source": [
        "df_note_events.info()"
      ],
      "metadata": {
        "id": "F9Ag0N5BK6KT"
      },
      "execution_count": null,
      "outputs": []
    },
    {
      "cell_type": "markdown",
      "source": [
        "Grab tsicu notes, merge with ward and patients tables"
      ],
      "metadata": {
        "id": "uLpw8TKsChMf"
      }
    },
    {
      "cell_type": "code",
      "source": [
        "# get new type of notes (TSICU)\n",
        "df_notes_TSICU = pd.DataFrame()\n",
        "#df_notes_TSICU = df_notes.merge(df_note_events[['ROW_ID', 'CATEGORY']], on='ROW_ID')\n",
        "df_notes_TSICU = df_note_events.merge(df_caregivers.drop('ROW_ID', axis=1), on='CGID')\n",
        "#df_notes_TSICU = df_notes_TSICU.merge(df_ward.drop('ROW_ID', axis=1), on='SUBJECT_ID')\n",
        "df_notes_TSICU = df_notes_TSICU.merge(df_patients.drop('ROW_ID', axis=1), on='SUBJECT_ID')\n",
        "#df_notes_TSICU = df_notes_TSICU[(df_notes_TSICU['first_careunit'] == 'TSICU') & (df_notes_TSICU['last_careunit'] == 'TSICU')].drop_duplicates()\n",
        "df_notes_TSICU.info()"
      ],
      "metadata": {
        "id": "RfRbbiU85KqG"
      },
      "execution_count": null,
      "outputs": []
    },
    {
      "cell_type": "code",
      "source": [
        "df_notes_TSICU.head(5)"
      ],
      "metadata": {
        "id": "40N9rfNLvz3h"
      },
      "execution_count": null,
      "outputs": []
    },
    {
      "cell_type": "markdown",
      "source": [
        "Join with ICD"
      ],
      "metadata": {
        "id": "bcq_LhnKvl9k"
      }
    },
    {
      "cell_type": "code",
      "source": [
        "icd = \"DIAGNOSES_ICD.csv\"\n",
        "df_icd = pd.read_csv(notes_path+icd)\n",
        "df_icd.columns = df_icd.columns.str.upper()\n",
        "df_icd = df_icd.dropna(subset=['SEQ_NUM'])\n",
        "df_icd['SEQ_NUM'] = df_icd['SEQ_NUM'].astype(int)\n",
        "unique_values = df_icd['SEQ_NUM'].unique()\n",
        "print(\"unique_values: \")\n",
        "print(unique_values)\n",
        "idx = df_icd.groupby(['HADM_ID', 'SUBJECT_ID'])['SEQ_NUM'].idxmin()\n",
        "df_icd = df_icd.loc[idx]\n",
        "df_icd.info()"
      ],
      "metadata": {
        "id": "H5IFwi_7Oe7F"
      },
      "execution_count": null,
      "outputs": []
    },
    {
      "cell_type": "code",
      "source": [
        "df_notes_TSICU = df_notes_TSICU.merge(df_icd[['HADM_ID','ICD9_CODE','SEQ_NUM', 'SUBJECT_ID']], on=['HADM_ID', 'SUBJECT_ID'])\n",
        "df_notes_TSICU.info()"
      ],
      "metadata": {
        "id": "gd1FsvDMvlWL"
      },
      "execution_count": null,
      "outputs": []
    },
    {
      "cell_type": "code",
      "source": [
        "df_notes_TSICU.head(20)"
      ],
      "metadata": {
        "id": "6w5kj2hgHgAY"
      },
      "execution_count": null,
      "outputs": []
    },
    {
      "cell_type": "code",
      "source": [
        "grouping = df_notes_TSICU.groupby(['CGID','SUBJECT_ID']).size()\n",
        "df_notes_TSICU['num_of_notes'] = df_notes_TSICU.set_index(['CGID','SUBJECT_ID']).index.map(grouping)\n",
        "df_notes_TSICU_filtered = df_notes_TSICU[df_notes_TSICU['num_of_notes'] > 1]\n",
        "df_notes_TSICU_filtered.info()"
      ],
      "metadata": {
        "id": "hHCpzCETihOj"
      },
      "execution_count": null,
      "outputs": []
    },
    {
      "cell_type": "code",
      "source": [
        "df_notes_TSICU_filtered.head(10)"
      ],
      "metadata": {
        "id": "eYAfKxm-4vN1"
      },
      "execution_count": null,
      "outputs": []
    },
    {
      "cell_type": "markdown",
      "source": [
        "Filter by number of notes"
      ],
      "metadata": {
        "id": "h3Ax8uzsUjXG"
      }
    },
    {
      "cell_type": "code",
      "source": [
        "gb_notes = df_notes_TSICU_filtered.groupby(['ICD9_CODE'])\n",
        "num_notes = gb_notes['TEXT'].count()\n",
        "\n",
        "print(f'number of notes: min={num_notes.min()}, max={num_notes.max()}, mean={num_notes.mean()},  median={num_notes.median()}')\n",
        "sns.boxplot(x=num_notes)\n",
        "sns.displot(num_notes[((num_notes>2) & (num_notes<100))])"
      ],
      "metadata": {
        "id": "M1zujhFnCzbO"
      },
      "execution_count": null,
      "outputs": []
    },
    {
      "cell_type": "code",
      "source": [
        "df_notes_TSICU_filtered.info()"
      ],
      "metadata": {
        "id": "utacZLLmUfqf"
      },
      "execution_count": null,
      "outputs": []
    },
    {
      "cell_type": "code",
      "source": [
        "icd9_grouping = df_notes_TSICU_filtered.groupby(['ICD9_CODE']).size()\n",
        "df_notes_TSICU_filtered['num_of_conditions'] = df_notes_TSICU_filtered.set_index(['ICD9_CODE']).index.map(icd9_grouping)\n",
        "#df_notes_TSICU_filtered = df_notes_TSICU_filtered[(df_notes_TSICU_filtered['num_of_conditions'] >= 15) & (df_notes_TSICU_filtered['num_of_conditions'] <= 1000)]\n",
        "#df_notes_TSICU_filtered = df_notes_TSICU_filtered[(df_notes_TSICU_filtered['num_of_conditions'] >= 15) & (df_notes_TSICU_filtered['num_of_conditions'] <= 100)]\n",
        "df_notes_TSICU_filtered.info()\n",
        "print(icd9_grouping)"
      ],
      "metadata": {
        "id": "VQtS_ZiRGeEF"
      },
      "execution_count": null,
      "outputs": []
    },
    {
      "cell_type": "code",
      "source": [
        "df_notes_TSICU_dropped_cols = df_notes_TSICU_filtered.drop(['STORETIME','CHARTDATE','CHARTTIME','DOB','DOD','DOD_HOSP','DOD_SSN'], axis=1)\n",
        "df_notes_TSICU_dropped_cols.columns"
      ],
      "metadata": {
        "id": "jfSkON07QFlQ"
      },
      "execution_count": null,
      "outputs": []
    },
    {
      "cell_type": "markdown",
      "source": [
        "select emotional words then filter rows that dont have a minimum number of them"
      ],
      "metadata": {
        "id": "IJasBc1JDJ7G"
      }
    },
    {
      "cell_type": "code",
      "source": [
        "def filter_for_emotional_words(df):\n",
        "  selected_words = ['pain', 'family', 'stable', 'care', 'well', 'social', 'support', 'able', 'decreased', 'warm', 'unable', 'strong', 'intact', 'good', 'times', 'aware', 'eyes', 'tolerated', 'denies', 'tolerating', 'please', 'palpable']\n",
        "  print(\"selected_words list length: \", len(selected_words))\n",
        "  pattern = '|'.join(selected_words)\n",
        "  new_df = df[df['TEXT'].str.contains(pattern, regex=True)].copy()\n",
        "  #filtered_data = df_notes_TSICU[df_notes_TSICU['TEXT'].str.contains(pattern, regex=True)].copy()\n",
        "  new_df['num_search_words'] = new_df['TEXT'].str.count(pattern)\n",
        "  #new_df = new_df[new_df['num_search_words'] >= 0]\n",
        "  new_df.info()\n",
        "  return new_df"
      ],
      "metadata": {
        "id": "io0fnZ6LDJje"
      },
      "execution_count": null,
      "outputs": []
    },
    {
      "cell_type": "code",
      "source": [
        "#filtered_data = filter_for_emotional_words(df_notes_TSICU_dropped_cols)\n",
        "filtered_data = df_notes_TSICU_dropped_cols"
      ],
      "metadata": {
        "id": "lPqYiPgCaw05"
      },
      "execution_count": null,
      "outputs": []
    },
    {
      "cell_type": "markdown",
      "source": [
        "Random selection from sample set"
      ],
      "metadata": {
        "id": "9zgLOVKMmC1c"
      }
    },
    {
      "cell_type": "code",
      "source": [
        "#random_filtered_data = filtered_data.sample(n=50000, random_state=42)\n",
        "random_filtered_data = filtered_data"
      ],
      "metadata": {
        "id": "A2g7uF3_mCja"
      },
      "execution_count": null,
      "outputs": []
    },
    {
      "cell_type": "markdown",
      "source": [
        "Remove similar sentences"
      ],
      "metadata": {
        "id": "T4IGl2_LhAjw"
      }
    },
    {
      "cell_type": "code",
      "source": [
        "from sklearn.feature_extraction.text import TfidfVectorizer\n",
        "from sklearn.metrics.pairwise import cosine_similarity\n",
        "\n",
        "def remove_similar_notes(df):\n",
        "  sentences = df['TEXT'].tolist()\n",
        "  vectorizer = TfidfVectorizer()\n",
        "  tfidf_matrix = vectorizer.fit_transform(sentences)\n",
        "  similarity_threshold = 0.8\n",
        "\n",
        "  similar_indices = []\n",
        "  for i, sentence in enumerate(sentences):  # needs to be max 1000 entries\n",
        "    if any(cosine_similarity(tfidf_matrix[i], tfidf_matrix[j])[0][0] > similarity_threshold for j in range(i)):  # very slow ~10 minutes for 1000 entries, exponential complexity (more than 5 hours if 6000 entries)\n",
        "      similar_indices.append(i)\n",
        "  index_labels = df.index[similar_indices]\n",
        "  df.drop(index_labels, inplace=True)\n",
        "  return df"
      ],
      "metadata": {
        "id": "y_7e8eEAg-8E"
      },
      "execution_count": null,
      "outputs": []
    },
    {
      "cell_type": "markdown",
      "source": [
        "Inverse Document Frequency"
      ],
      "metadata": {
        "id": "kSrdXBqOuXa0"
      }
    },
    {
      "cell_type": "code",
      "source": [
        "vectorizer = TfidfVectorizer(stop_words='english')\n",
        "tfidf_matrix = vectorizer.fit_transform(df_notes_TSICU['TEXT'])\n",
        "\n",
        "feature_names = vectorizer.get_feature_names_out()\n",
        "tfidf_scores = tfidf_matrix.sum(axis=0).A1\n",
        "word_score_dict = dict(zip(feature_names, tfidf_scores))\n",
        "\n",
        "sorted_words = sorted(word_score_dict.items(), key=lambda x: x[1], reverse=True)\n",
        "\n",
        "top_words = sorted_words[:50]"
      ],
      "metadata": {
        "id": "mLycA6V9u2Bk"
      },
      "execution_count": null,
      "outputs": []
    },
    {
      "cell_type": "code",
      "source": [
        "print(\"Rank\\tWord\\t\\t\\tCount\")\n",
        "for rank, (word, score) in enumerate(top_words, start=1):\n",
        "  print(f\"{rank}\\t{word.ljust(20)}\\t{score}\")"
      ],
      "metadata": {
        "id": "CFYY-4Q9yltA"
      },
      "execution_count": null,
      "outputs": []
    },
    {
      "cell_type": "code",
      "source": [
        "#random_filtered_data = remove_similar_notes(random_filtered_data)\n",
        "random_filtered_data.info()"
      ],
      "metadata": {
        "id": "5hR3SznnlFAw"
      },
      "execution_count": null,
      "outputs": []
    },
    {
      "cell_type": "markdown",
      "source": [
        "Find matching conditions for both expired flags"
      ],
      "metadata": {
        "id": "hKqh8rDTZATB"
      }
    },
    {
      "cell_type": "code",
      "source": [
        "def split_set_half_expired(df):\n",
        "  df['EXPIRE_FLAG'] = df['EXPIRE_FLAG'].astype(int)\n",
        "  group_conditions = df.groupby(['ICD9_CODE', 'EXPIRE_FLAG'])\n",
        "  def balance_conditions(g1,g2,size):\n",
        "    size = min(len(g1), len(g2), size)\n",
        "    return g1.sample(n=size, random_state=1), g2.sample(n=size, random_state=1)\n",
        "\n",
        "  rows = []\n",
        "  size = 50000\n",
        "\n",
        "  for drg_desc, group in group_conditions:\n",
        "    icd9, expire = drg_desc\n",
        "    if (icd9, 1-expire) in group_conditions.groups:\n",
        "      paired_group = group_conditions.get_group((icd9, 1-expire))\n",
        "      group_sample1, group_sample2 = balance_conditions(group, paired_group, size)\n",
        "      rows.append(group_sample1)\n",
        "      rows.append(group_sample2)\n",
        "      size -= len(group_sample1)\n",
        "    if size <= 0:\n",
        "      break\n",
        "\n",
        "  new_df = pd.concat(rows)\n",
        "  new_df = new_df.drop_duplicates()\n",
        "\n",
        "  new_df.info()\n",
        "  #print(new_df[['ICD9_CODE', 'EXPIRE_FLAG']])\n",
        "  return new_df\n",
        "\n",
        "  #valid_groups = [key for key, group in group_conditions.groups.keys() if (key[0], key[1], 1 - key[2]) in group_conditions.groups]\n",
        "  #for key in valid_groups:\n",
        "    #pass"
      ],
      "metadata": {
        "id": "CTtgtgvONovy"
      },
      "execution_count": null,
      "outputs": []
    },
    {
      "cell_type": "code",
      "source": [
        "#balanced_data = split_set_half_expired(random_filtered_data)\n",
        "balanced_data = random_filtered_data"
      ],
      "metadata": {
        "id": "JJFzempDgOiy"
      },
      "execution_count": null,
      "outputs": []
    },
    {
      "cell_type": "markdown",
      "source": [
        "Display notes"
      ],
      "metadata": {
        "id": "lnai1UuJCedn"
      }
    },
    {
      "cell_type": "code",
      "source": [
        "pd.set_option('display.max_colwidth', 250)\n",
        "pd.set_option('display.max_rows', None)\n",
        "#print(balanced_data['TEXT'].head(200))\n",
        "pd.reset_option('display.max_colwidth')\n",
        "pd.reset_option('display.max_rows')"
      ],
      "metadata": {
        "id": "dZPZ-AGx-9NA"
      },
      "execution_count": null,
      "outputs": []
    },
    {
      "cell_type": "code",
      "source": [
        "print(balanced_data.columns)\n",
        "print('\\n'+\"Number of rows: \"+str(len(balanced_data)))"
      ],
      "metadata": {
        "id": "cemrUSU8wjMD"
      },
      "execution_count": null,
      "outputs": []
    },
    {
      "cell_type": "code",
      "source": [
        "balanced_data.info()"
      ],
      "metadata": {
        "id": "msI729kSJWJY"
      },
      "execution_count": null,
      "outputs": []
    },
    {
      "cell_type": "code",
      "source": [
        "no_duplicates = balanced_data.sort_values('ROW_ID').drop_duplicates(subset=['CGID', 'SUBJECT_ID'])  \n",
        "no_duplicates = no_duplicates.drop(['TEXT'], axis=1)  # removes text notes\n",
        "no_duplicates.info()"
      ],
      "metadata": {
        "id": "Bze40GhzJai3"
      },
      "execution_count": null,
      "outputs": []
    },
    {
      "cell_type": "markdown",
      "source": [
        "Save to CSV"
      ],
      "metadata": {
        "id": "6hGujs3Fn8Mb"
      }
    },
    {
      "cell_type": "code",
      "source": [
        "# path and name of the cvs file \n",
        "PATH_TO_SAVE = \"/content/drive/MyDrive/NIH/Data/\"\n",
        "name_file_to_save = 'NOTES_NURSING_TRAJECTORIES_TSICU_COUNTS.csv'\n",
        "no_duplicates.to_csv(PATH_TO_SAVE+name_file_to_save,index=False)"
      ],
      "metadata": {
        "id": "metEeEnan7n0"
      },
      "execution_count": null,
      "outputs": []
    },
    {
      "cell_type": "markdown",
      "source": [
        "Gather- top ICD9, # of: patients, deceased, CGs, notes"
      ],
      "metadata": {
        "id": "kGId_c993xlm"
      }
    },
    {
      "cell_type": "code",
      "source": [
        "icd9_max_val = balanced_data['num_of_conditions'].max()\n",
        "icd9_max_df = balanced_data[balanced_data['num_of_conditions'] == icd9_max_val]\n",
        "\n",
        "print(\"Max ICD9 code: \" + icd9_max_df['ICD9_CODE'].unique())\n",
        "print(\"Number of patients: \" + str(icd9_max_df['SUBJECT_ID'].nunique()))\n",
        "print(\"Number of deceased patients: \" + str((icd9_max_df.drop_duplicates(subset='SUBJECT_ID')['EXPIRE_FLAG'] == 1).sum()))\n",
        "print(\"Number of caregivers: \" + str(icd9_max_df['CGID'].nunique()))\n",
        "unique_cgid = icd9_max_df['CGID'].unique()\n",
        "unique_cgid_df = icd9_max_df[icd9_max_df['CGID'].isin(unique_cgid)].drop_duplicates(subset=['CGID', 'LABEL'])\n",
        "unique_cgid_df['LABEL'] = unique_cgid_df['LABEL'].fillna('UNKNOWN')\n",
        "unique_cgid_df['LABEL'] = unique_cgid_df['LABEL'].str.upper()\n",
        "print(\"Caregiver labels: \" + '\\n' + str(unique_cgid_df['LABEL'].value_counts()))\n",
        "print(\"Number of caregivers: \" + str(icd9_max_df['CGID'].nunique()))\n",
        "print(\"Number of notes: \" + str(len(icd9_max_df)))"
      ],
      "metadata": {
        "id": "B5a2aeHR3xHM"
      },
      "execution_count": null,
      "outputs": []
    },
    {
      "cell_type": "markdown",
      "source": [
        "deceased patients for unfiltered set"
      ],
      "metadata": {
        "id": "uC6QUHDWvrvR"
      }
    },
    {
      "cell_type": "code",
      "source": [
        "len(df_notes_TSICU['SUBJECT_ID'].unique())\n",
        "deceased_TSICU = df_notes_TSICU[df_notes_TSICU['EXPIRE_FLAG'] == 1]\n",
        "deceased_TSICU.info()"
      ],
      "metadata": {
        "id": "4quXDt_aieZv"
      },
      "execution_count": null,
      "outputs": []
    },
    {
      "cell_type": "code",
      "source": [
        "sns.set()\n",
        "\n",
        "gb_notes = deceased_TSICU.groupby(['CGID','SUBJECT_ID'])\n",
        "num_notes = gb_notes['TEXT'].count()\n",
        "print(num_notes)\n",
        "print(f'number of notes: min={num_notes.min()}, max={num_notes.max()}, mean={num_notes.mean()},  median={num_notes.median()}')\n",
        "sns.boxplot(x=num_notes)\n",
        "sns.displot(num_notes[((num_notes>2) & (num_notes<15))])"
      ],
      "metadata": {
        "id": "RtIaEm23Ysfg"
      },
      "execution_count": null,
      "outputs": []
    },
    {
      "cell_type": "markdown",
      "source": [
        "Seperate deceased and living"
      ],
      "metadata": {
        "id": "9tJkPVZggBv_"
      }
    },
    {
      "cell_type": "code",
      "source": [
        "deceased_patients = balanced_data[balanced_data['EXPIRE_FLAG'] == 1]\n",
        "deceased_patients.info()"
      ],
      "metadata": {
        "id": "4cfpXZF4fnUG"
      },
      "execution_count": null,
      "outputs": []
    },
    {
      "cell_type": "code",
      "source": [
        "living_patients = balanced_data[balanced_data['EXPIRE_FLAG'] == 0]\n",
        "living_patients.info()"
      ],
      "metadata": {
        "id": "BfFfnIingFO3"
      },
      "execution_count": null,
      "outputs": []
    },
    {
      "cell_type": "markdown",
      "source": [
        "Tokenized words"
      ],
      "metadata": {
        "id": "UU8xrEkoGzNi"
      }
    },
    {
      "cell_type": "code",
      "source": [
        "#text = df_notes_TSICU['TEXT'].str.cat(sep=' ')\n",
        "#words = nltk.word_tokenize(text)  # very slow"
      ],
      "metadata": {
        "id": "YlONNwDeGy9a"
      },
      "execution_count": null,
      "outputs": []
    },
    {
      "cell_type": "markdown",
      "source": [
        "Count words in notes"
      ],
      "metadata": {
        "id": "gyFTOEALCbxX"
      }
    },
    {
      "cell_type": "code",
      "source": [
        "#stopwords = nltk.corpus.stopwords.words('english')\n",
        "#words = [word.lower() for word in words if word.lower() not in stopwords and re.match(r'\\b\\w+\\b', word)]  # also slow but only kinda slow\n",
        "#word_counts = Counter(words)\n",
        "#most_common_words = word_counts.most_common(300)"
      ],
      "metadata": {
        "id": "jtTWXQjy-_Fw"
      },
      "execution_count": null,
      "outputs": []
    },
    {
      "cell_type": "code",
      "source": [
        "#print(\"Rank\\tWord\\t\\t\\tCount\")\n",
        "#for rank, word_count in enumerate(most_common_words, start=1):\n",
        "  #word, count = word_count\n",
        "  #print(f\"{rank}\\t{word.ljust(20)}\\t{count}\")"
      ],
      "metadata": {
        "id": "vtPdb3_iB5T0"
      },
      "execution_count": null,
      "outputs": []
    },
    {
      "cell_type": "markdown",
      "source": [
        "Emotional words"
      ],
      "metadata": {
        "id": "2vLviAGyJmdQ"
      }
    },
    {
      "cell_type": "code",
      "source": [
        "#emotional_words = []\n",
        "#for word_count in most_common_words:\n",
        "  #word = word_count[0]\n",
        "  #synsets = wn.synsets(word)\n",
        "  #if synsets:\n",
        "    #senti_synset = swn.senti_synset(synsets[0].name())\n",
        "    #if senti_synset.pos_score() > 0.45 or senti_synset.neg_score() > 0.45:\n",
        "      #emotional_words.append(word)\n",
        "\n",
        "#emotional_words"
      ],
      "metadata": {
        "id": "4ATr_HSAJlpK"
      },
      "execution_count": null,
      "outputs": []
    },
    {
      "cell_type": "code",
      "source": [
        "#from textblob import TextBlob\n",
        "#emotional_words = []\n",
        "#for word_count in most_common_words:\n",
        "  #word = word_count[0]\n",
        "  #tb = TextBlob(word)\n",
        "  #sentiment = tb.sentiment.polarity\n",
        "  #if abs(sentiment) > 0.35:\n",
        "    #emotional_words.append(word)\n",
        "\n",
        "#emotional_words"
      ],
      "metadata": {
        "id": "ZFtCDPOyRPcq"
      },
      "execution_count": null,
      "outputs": []
    }
  ]
}