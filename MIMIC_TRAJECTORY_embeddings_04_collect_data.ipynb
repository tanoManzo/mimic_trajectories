{
  "nbformat": 4,
  "nbformat_minor": 0,
  "metadata": {
    "colab": {
      "provenance": [],
      "include_colab_link": true
    },
    "kernelspec": {
      "name": "python3",
      "display_name": "Python 3"
    },
    "language_info": {
      "name": "python"
    }
  },
  "cells": [
    {
      "cell_type": "markdown",
      "metadata": {
        "id": "view-in-github",
        "colab_type": "text"
      },
      "source": [
        "<a href=\"https://colab.research.google.com/github/tanoManzo/mimic_trajectories/blob/dev/MIMIC_TRAJECTORY_embeddings_04_collect_data.ipynb\" target=\"_parent\"><img src=\"https://colab.research.google.com/assets/colab-badge.svg\" alt=\"Open In Colab\"/></a>"
      ]
    },
    {
      "cell_type": "markdown",
      "source": [
        "# Data Collection, Embeddings and Attitude"
      ],
      "metadata": {
        "id": "5CSBbeSkyRmq"
      }
    },
    {
      "cell_type": "code",
      "source": [
        "from google.colab import drive\n",
        "drive.mount('/content/drive')"
      ],
      "metadata": {
        "colab": {
          "base_uri": "https://localhost:8080/"
        },
        "id": "GKFaijaIsKBU",
        "outputId": "9c65a13a-6ac1-4c28-a24b-0024a842a652"
      },
      "execution_count": 1,
      "outputs": [
        {
          "output_type": "stream",
          "name": "stdout",
          "text": [
            "Mounted at /content/drive\n"
          ]
        }
      ]
    },
    {
      "cell_type": "code",
      "execution_count": 2,
      "metadata": {
        "id": "35BpcyS4eWHw"
      },
      "outputs": [],
      "source": [
        "import numpy as np\n",
        "import pandas as pd\n",
        "import seaborn as sns\n",
        "notes_path = \"/content/drive/MyDrive/NIH/Data/\""
      ]
    },
    {
      "cell_type": "code",
      "source": [
        "file_name = \"ICUSTAYS.csv\"\n",
        "df_ward = pd.read_csv(notes_path+file_name)\n",
        "subject_id_tsicu = df_ward[(df_ward['FIRST_CAREUNIT']=='TSICU') & (df_ward['LAST_CAREUNIT']=='TSICU')].SUBJECT_ID.unique()\n",
        "print(f'Number of Subjects in TSICU: {len(subject_id_tsicu)}')"
      ],
      "metadata": {
        "id": "Ti0D5GvITEpa",
        "colab": {
          "base_uri": "https://localhost:8080/"
        },
        "outputId": "2e1b05f0-c0d7-4ff8-d792-12946f959af0"
      },
      "execution_count": 3,
      "outputs": [
        {
          "output_type": "stream",
          "name": "stdout",
          "text": [
            "Number of Subjects in TSICU: 5418\n"
          ]
        }
      ]
    },
    {
      "cell_type": "code",
      "source": [
        "file_name = \"DIAGNOSES_ICD.csv\"\n",
        "df_icd = pd.read_csv(notes_path+file_name)\n",
        "df_icd_first = df_icd[df_icd['SEQ_NUM']==1]\n",
        "df_icd_first_tsicu = df_icd_first[df_icd_first['SUBJECT_ID'].isin(subject_id_tsicu)]\n",
        "print(f'Number of unique ICD 9 first sequence from TCICU subject: {df_icd_first_tsicu.ICD9_CODE.nunique()}')\n",
        "icd_tsicu = df_icd_first_tsicu.ICD9_CODE.value_counts().nlargest(5)\n",
        "print('Top 5 Popular ICD9 in the TSICU population with duplicates:')\n",
        "print(\"code  #subjects\")\n",
        "icd_tsicu"
      ],
      "metadata": {
        "id": "PFLocK_T-w_x",
        "outputId": "cd5ebf80-2c19-4993-a13d-69c0431b17bf",
        "colab": {
          "base_uri": "https://localhost:8080/"
        }
      },
      "execution_count": 4,
      "outputs": [
        {
          "output_type": "stream",
          "name": "stdout",
          "text": [
            "Number of unique ICD 9 first sequence from TCICU subject: 1387\n",
            "Top 5 Popular ICD9 in the TSICU population with duplicates:\n",
            "code  #subjects\n"
          ]
        },
        {
          "output_type": "execute_result",
          "data": {
            "text/plain": [
              "431      190\n",
              "0389     164\n",
              "85221    103\n",
              "51881     81\n",
              "430       79\n",
              "Name: ICD9_CODE, dtype: int64"
            ]
          },
          "metadata": {},
          "execution_count": 4
        }
      ]
    },
    {
      "cell_type": "code",
      "source": [
        "condition = []\n",
        "for item in df_icd_first['ICD9_CODE'].values:\n",
        "  if item.isdigit():\n",
        "    item = float(item)\n",
        "    if (item>799 and item<900):\n",
        "      condition.append(True)\n",
        "    else: \n",
        "      condition.append(False)\n",
        "  else:\n",
        "      condition.append(False)\n",
        "\n",
        "\n",
        "icd8xxfirst_subjects_ids = df_icd_first[condition]['SUBJECT_ID'].unique()\n",
        "print(f'Number of subjects with a first sequence ICD 9 code [800,900) : {len(icd8xxfirst_subjects_ids)}')"
      ],
      "metadata": {
        "colab": {
          "base_uri": "https://localhost:8080/"
        },
        "id": "6-NdyuwtOgIx",
        "outputId": "a1542171-7210-4625-88f4-47ca15fac3c7"
      },
      "execution_count": 63,
      "outputs": [
        {
          "output_type": "stream",
          "name": "stdout",
          "text": [
            "Number of subjects with a first sequence ICD 9 code [800,900) : 154\n"
          ]
        }
      ]
    },
    {
      "cell_type": "code",
      "source": [
        "patients = \"PATIENTS.csv\"\n",
        "df_patients = pd.read_csv(notes_path+patients)\n",
        "df_patients_icd8xx_tsicu = df_patients[df_patients['SUBJECT_ID'].isin(icd8xxfirst_subjects_ids)]\n",
        "\n",
        "print('Subjects Expired (1), Alive (0): ')\n",
        "print(df_patients_icd8xx_tsicu['EXPIRE_FLAG'].value_counts())\n",
        "print(df_patients_icd8xx_tsicu['GENDER'].value_counts())"
      ],
      "metadata": {
        "id": "oz7EmtbWQC31",
        "colab": {
          "base_uri": "https://localhost:8080/"
        },
        "outputId": "882b592d-34ad-4d52-fa65-66e97549cdef"
      },
      "execution_count": 47,
      "outputs": [
        {
          "output_type": "stream",
          "name": "stdout",
          "text": [
            "Subjects Expired (1), Alive (0): \n",
            "1    87\n",
            "0    67\n",
            "Name: EXPIRE_FLAG, dtype: int64\n",
            "F    87\n",
            "M    67\n",
            "Name: GENDER, dtype: int64\n"
          ]
        }
      ]
    },
    {
      "cell_type": "code",
      "source": [
        "note_events = \"NOTEEVENTS.csv\"\n",
        "df_note_events = pd.read_csv(notes_path+note_events)\n",
        "df_note_events.info()"
      ],
      "metadata": {
        "id": "-nA246kVYBs_",
        "outputId": "624726b0-dee1-4abc-b570-7831ff6db44e",
        "colab": {
          "base_uri": "https://localhost:8080/"
        }
      },
      "execution_count": 10,
      "outputs": [
        {
          "output_type": "stream",
          "name": "stderr",
          "text": [
            "<ipython-input-10-8fd00f55f791>:2: DtypeWarning: Columns (4,5) have mixed types. Specify dtype option on import or set low_memory=False.\n",
            "  df_note_events = pd.read_csv(notes_path+note_events)\n"
          ]
        },
        {
          "output_type": "stream",
          "name": "stdout",
          "text": [
            "<class 'pandas.core.frame.DataFrame'>\n",
            "RangeIndex: 2083180 entries, 0 to 2083179\n",
            "Data columns (total 11 columns):\n",
            " #   Column       Dtype  \n",
            "---  ------       -----  \n",
            " 0   ROW_ID       int64  \n",
            " 1   SUBJECT_ID   int64  \n",
            " 2   HADM_ID      float64\n",
            " 3   CHARTDATE    object \n",
            " 4   CHARTTIME    object \n",
            " 5   STORETIME    object \n",
            " 6   CATEGORY     object \n",
            " 7   DESCRIPTION  object \n",
            " 8   CGID         float64\n",
            " 9   ISERROR      float64\n",
            " 10  TEXT         object \n",
            "dtypes: float64(3), int64(2), object(6)\n",
            "memory usage: 174.8+ MB\n"
          ]
        }
      ]
    },
    {
      "cell_type": "code",
      "source": [
        "df_note_icd8xx_tsicu = df_note_events[df_note_events['SUBJECT_ID'].isin(icd8xxfirst_subjects_ids)]\n",
        "print(f'Number of total notes: {len(df_note_icdxxx_tsicu)}')\n",
        "df_nursing_progress_note_icd8xx_tsicu = df_note_icdxxx_tsicu[df_note_icdxxx_tsicu['DESCRIPTION']=='Nursing Progress Note']\n",
        "print(f'Number of Nursing Progress Notes: {len(df_nursing_progress_note_icd8xx_tsicu)}')\n",
        "df_discharge_note_icd8xx_tsicu = df_note_icd8xx_tsicu[df_note_icd8xx_tsicu['CATEGORY']=='Discharge summary']\n",
        "print(f'Number of Discharge summary: {len(df_discharge_note_icd8xx_tsicu)}')"
      ],
      "metadata": {
        "id": "DwwYQRkRlZtq",
        "outputId": "b7028f7c-76f1-45a2-97c6-5eda4ba4e75f",
        "colab": {
          "base_uri": "https://localhost:8080/"
        }
      },
      "execution_count": 50,
      "outputs": [
        {
          "output_type": "stream",
          "name": "stdout",
          "text": [
            "Number of total notes: 18648\n",
            "Number of Nursing Progress Notes: 4317\n",
            "Number of Discharge summary: 439\n"
          ]
        }
      ]
    },
    {
      "cell_type": "code",
      "source": [
        "cgid_icd8xx_tsicu = df_nursing_progress_note_icd8xx_tsicu['CGID'].unique()\n",
        "print(f'Number of caregivers: {len(cgid_maxicu_tsicu)}')"
      ],
      "metadata": {
        "id": "2bUQdNjco_Ev",
        "outputId": "b44be9b3-c0e3-4dd8-f26a-67c843cf09ca",
        "colab": {
          "base_uri": "https://localhost:8080/"
        }
      },
      "execution_count": 53,
      "outputs": [
        {
          "output_type": "stream",
          "name": "stdout",
          "text": [
            "Number of caregivers: 251\n"
          ]
        }
      ]
    },
    {
      "cell_type": "code",
      "source": [
        "caregivers = \"CAREGIVERS.csv\"\n",
        "df_caregivers = pd.read_csv(notes_path+caregivers)\n",
        "df_caregivers[df_caregivers['CGID'].isin(cgid_icd8xx_tsicu)].LABEL.value_counts()"
      ],
      "metadata": {
        "colab": {
          "base_uri": "https://localhost:8080/"
        },
        "id": "nylbIdrdDKTn",
        "outputId": "5b4a6cd4-2fd2-42bc-e4af-2f86b202923c"
      },
      "execution_count": 54,
      "outputs": [
        {
          "output_type": "execute_result",
          "data": {
            "text/plain": [
              "RN      237\n",
              "RNs       4\n",
              "Rn        3\n",
              "PCT       2\n",
              "Nurs      1\n",
              "CoRN      1\n",
              "rn        1\n",
              "Res       1\n",
              "MS        1\n",
              "Name: LABEL, dtype: int64"
            ]
          },
          "metadata": {},
          "execution_count": 54
        }
      ]
    },
    {
      "cell_type": "code",
      "source": [
        "name_file= \"ADMISSIONS.csv\"\n",
        "df_adm = pd.read_csv(notes_path+name_file)\n",
        "df_adm_icd8xx_tsicu = df_adm[df_adm['SUBJECT_ID'].isin(cgid_icd8xx_tsicu)]\n",
        "df_adm_icd8xx_tsicu"
      ],
      "metadata": {
        "colab": {
          "base_uri": "https://localhost:8080/",
          "height": 834
        },
        "id": "0uSjIRb0Kf7D",
        "outputId": "71647d6d-cd1b-4392-8c9b-cce7f9c0dfee"
      },
      "execution_count": 55,
      "outputs": [
        {
          "output_type": "execute_result",
          "data": {
            "text/plain": [
              "       ROW_ID  SUBJECT_ID  HADM_ID            ADMITTIME            DISCHTIME  \\\n",
              "14285   17998       14714   142710  2150-03-07 21:50:00  2150-03-14 19:00:00   \n",
              "14286   17999       14714   115276  2151-01-12 17:35:00  2151-01-19 17:16:00   \n",
              "14293   18006       14719   106692  2125-12-03 13:00:00  2125-12-20 12:44:00   \n",
              "14853   17902       14626   148547  2190-07-16 07:15:00  2190-07-22 17:00:00   \n",
              "15023   17936       14657   111125  2200-07-05 19:37:00  2200-07-11 10:45:00   \n",
              "...       ...         ...      ...                  ...                  ...   \n",
              "27638   26001       21297   134084  2111-08-21 08:46:00  2111-08-25 11:20:00   \n",
              "27639   26002       21297   111349  2111-08-26 16:35:00  2111-08-29 18:00:00   \n",
              "27737   26233       21476   176844  2102-09-20 14:56:00  2102-09-23 19:15:00   \n",
              "28046   26196       21452   108178  2119-01-26 18:12:00  2119-02-13 11:13:00   \n",
              "28047   26197       21452   133978  2122-12-27 07:04:00  2123-01-02 15:00:00   \n",
              "\n",
              "      DEATHTIME ADMISSION_TYPE         ADMISSION_LOCATION DISCHARGE_LOCATION  \\\n",
              "14285       NaN      EMERGENCY       EMERGENCY ROOM ADMIT               HOME   \n",
              "14286       NaN      EMERGENCY       EMERGENCY ROOM ADMIT               HOME   \n",
              "14293       NaN       ELECTIVE  PHYS REFERRAL/NORMAL DELI                SNF   \n",
              "14853       NaN       ELECTIVE  PHYS REFERRAL/NORMAL DELI   HOME HEALTH CARE   \n",
              "15023       NaN      EMERGENCY       EMERGENCY ROOM ADMIT               HOME   \n",
              "...         ...            ...                        ...                ...   \n",
              "27638       NaN        NEWBORN  PHYS REFERRAL/NORMAL DELI               HOME   \n",
              "27639       NaN      EMERGENCY  PHYS REFERRAL/NORMAL DELI               HOME   \n",
              "27737       NaN      EMERGENCY       EMERGENCY ROOM ADMIT   HOME HEALTH CARE   \n",
              "28046       NaN      EMERGENCY       EMERGENCY ROOM ADMIT   HOME HEALTH CARE   \n",
              "28047       NaN      EMERGENCY       EMERGENCY ROOM ADMIT                SNF   \n",
              "\n",
              "      INSURANCE LANGUAGE           RELIGION MARITAL_STATUS  \\\n",
              "14285  Medicare     SPAN           CATHOLIC       DIVORCED   \n",
              "14286  Medicare     SPAN           CATHOLIC       DIVORCED   \n",
              "14293  Medicare      NaN           CATHOLIC        WIDOWED   \n",
              "14853  Medicare      NaN              OTHER        MARRIED   \n",
              "15023  Self Pay      NaN              OTHER       DIVORCED   \n",
              "...         ...      ...                ...            ...   \n",
              "27638   Private      NaN       UNOBTAINABLE            NaN   \n",
              "27639   Private      NaN       UNOBTAINABLE            NaN   \n",
              "27737  Medicare     ENGL  PROTESTANT QUAKER      SEPARATED   \n",
              "28046   Private      NaN           CATHOLIC        MARRIED   \n",
              "28047   Private      NaN           CATHOLIC        MARRIED   \n",
              "\n",
              "                            ETHNICITY            EDREGTIME  \\\n",
              "14285  HISPANIC/LATINO - PUERTO RICAN  2150-03-07 18:00:00   \n",
              "14286  HISPANIC/LATINO - PUERTO RICAN  2151-01-12 12:57:00   \n",
              "14293                           WHITE                  NaN   \n",
              "14853      PATIENT DECLINED TO ANSWER                  NaN   \n",
              "15023           UNKNOWN/NOT SPECIFIED  2200-07-05 15:43:00   \n",
              "...                               ...                  ...   \n",
              "27638           UNKNOWN/NOT SPECIFIED                  NaN   \n",
              "27639           UNKNOWN/NOT SPECIFIED                  NaN   \n",
              "27737          BLACK/AFRICAN AMERICAN  2102-09-20 11:45:00   \n",
              "28046                           WHITE  2119-01-26 13:56:00   \n",
              "28047                           WHITE  2122-12-27 01:10:00   \n",
              "\n",
              "                 EDOUTTIME                                          DIAGNOSIS  \\\n",
              "14285  2150-03-07 22:50:00                                              FEVER   \n",
              "14286  2151-01-12 19:57:00                                        HYPOTENSION   \n",
              "14293                  NaN                                   CAROTID STENOSIS   \n",
              "14853                  NaN  CORONARY ARTERY DISEASE\\CORONARY ARTERY BYPASS...   \n",
              "15023  2200-07-05 21:00:00                                    LUMBAR FRACTURE   \n",
              "...                    ...                                                ...   \n",
              "27638                  NaN                                            NEWBORN   \n",
              "27639                  NaN                                 HYPERBILIRUBINEMIA   \n",
              "27737  2102-09-20 16:07:00                                   STROKE;TELEMETRY   \n",
              "28046  2119-01-26 19:38:00                     R/O OBSTRUCTION-ABDOMINAL PAIN   \n",
              "28047  2122-12-27 08:36:00                                          UROSEPSIS   \n",
              "\n",
              "       HOSPITAL_EXPIRE_FLAG  HAS_CHARTEVENTS_DATA  \n",
              "14285                     0                     0  \n",
              "14286                     0                     1  \n",
              "14293                     0                     1  \n",
              "14853                     0                     1  \n",
              "15023                     0                     1  \n",
              "...                     ...                   ...  \n",
              "27638                     0                     0  \n",
              "27639                     0                     1  \n",
              "27737                     0                     1  \n",
              "28046                     0                     1  \n",
              "28047                     0                     1  \n",
              "\n",
              "[314 rows x 19 columns]"
            ],
            "text/html": [
              "\n",
              "  <div id=\"df-ed969f2d-f390-49d5-822b-c874e3a68db6\">\n",
              "    <div class=\"colab-df-container\">\n",
              "      <div>\n",
              "<style scoped>\n",
              "    .dataframe tbody tr th:only-of-type {\n",
              "        vertical-align: middle;\n",
              "    }\n",
              "\n",
              "    .dataframe tbody tr th {\n",
              "        vertical-align: top;\n",
              "    }\n",
              "\n",
              "    .dataframe thead th {\n",
              "        text-align: right;\n",
              "    }\n",
              "</style>\n",
              "<table border=\"1\" class=\"dataframe\">\n",
              "  <thead>\n",
              "    <tr style=\"text-align: right;\">\n",
              "      <th></th>\n",
              "      <th>ROW_ID</th>\n",
              "      <th>SUBJECT_ID</th>\n",
              "      <th>HADM_ID</th>\n",
              "      <th>ADMITTIME</th>\n",
              "      <th>DISCHTIME</th>\n",
              "      <th>DEATHTIME</th>\n",
              "      <th>ADMISSION_TYPE</th>\n",
              "      <th>ADMISSION_LOCATION</th>\n",
              "      <th>DISCHARGE_LOCATION</th>\n",
              "      <th>INSURANCE</th>\n",
              "      <th>LANGUAGE</th>\n",
              "      <th>RELIGION</th>\n",
              "      <th>MARITAL_STATUS</th>\n",
              "      <th>ETHNICITY</th>\n",
              "      <th>EDREGTIME</th>\n",
              "      <th>EDOUTTIME</th>\n",
              "      <th>DIAGNOSIS</th>\n",
              "      <th>HOSPITAL_EXPIRE_FLAG</th>\n",
              "      <th>HAS_CHARTEVENTS_DATA</th>\n",
              "    </tr>\n",
              "  </thead>\n",
              "  <tbody>\n",
              "    <tr>\n",
              "      <th>14285</th>\n",
              "      <td>17998</td>\n",
              "      <td>14714</td>\n",
              "      <td>142710</td>\n",
              "      <td>2150-03-07 21:50:00</td>\n",
              "      <td>2150-03-14 19:00:00</td>\n",
              "      <td>NaN</td>\n",
              "      <td>EMERGENCY</td>\n",
              "      <td>EMERGENCY ROOM ADMIT</td>\n",
              "      <td>HOME</td>\n",
              "      <td>Medicare</td>\n",
              "      <td>SPAN</td>\n",
              "      <td>CATHOLIC</td>\n",
              "      <td>DIVORCED</td>\n",
              "      <td>HISPANIC/LATINO - PUERTO RICAN</td>\n",
              "      <td>2150-03-07 18:00:00</td>\n",
              "      <td>2150-03-07 22:50:00</td>\n",
              "      <td>FEVER</td>\n",
              "      <td>0</td>\n",
              "      <td>0</td>\n",
              "    </tr>\n",
              "    <tr>\n",
              "      <th>14286</th>\n",
              "      <td>17999</td>\n",
              "      <td>14714</td>\n",
              "      <td>115276</td>\n",
              "      <td>2151-01-12 17:35:00</td>\n",
              "      <td>2151-01-19 17:16:00</td>\n",
              "      <td>NaN</td>\n",
              "      <td>EMERGENCY</td>\n",
              "      <td>EMERGENCY ROOM ADMIT</td>\n",
              "      <td>HOME</td>\n",
              "      <td>Medicare</td>\n",
              "      <td>SPAN</td>\n",
              "      <td>CATHOLIC</td>\n",
              "      <td>DIVORCED</td>\n",
              "      <td>HISPANIC/LATINO - PUERTO RICAN</td>\n",
              "      <td>2151-01-12 12:57:00</td>\n",
              "      <td>2151-01-12 19:57:00</td>\n",
              "      <td>HYPOTENSION</td>\n",
              "      <td>0</td>\n",
              "      <td>1</td>\n",
              "    </tr>\n",
              "    <tr>\n",
              "      <th>14293</th>\n",
              "      <td>18006</td>\n",
              "      <td>14719</td>\n",
              "      <td>106692</td>\n",
              "      <td>2125-12-03 13:00:00</td>\n",
              "      <td>2125-12-20 12:44:00</td>\n",
              "      <td>NaN</td>\n",
              "      <td>ELECTIVE</td>\n",
              "      <td>PHYS REFERRAL/NORMAL DELI</td>\n",
              "      <td>SNF</td>\n",
              "      <td>Medicare</td>\n",
              "      <td>NaN</td>\n",
              "      <td>CATHOLIC</td>\n",
              "      <td>WIDOWED</td>\n",
              "      <td>WHITE</td>\n",
              "      <td>NaN</td>\n",
              "      <td>NaN</td>\n",
              "      <td>CAROTID STENOSIS</td>\n",
              "      <td>0</td>\n",
              "      <td>1</td>\n",
              "    </tr>\n",
              "    <tr>\n",
              "      <th>14853</th>\n",
              "      <td>17902</td>\n",
              "      <td>14626</td>\n",
              "      <td>148547</td>\n",
              "      <td>2190-07-16 07:15:00</td>\n",
              "      <td>2190-07-22 17:00:00</td>\n",
              "      <td>NaN</td>\n",
              "      <td>ELECTIVE</td>\n",
              "      <td>PHYS REFERRAL/NORMAL DELI</td>\n",
              "      <td>HOME HEALTH CARE</td>\n",
              "      <td>Medicare</td>\n",
              "      <td>NaN</td>\n",
              "      <td>OTHER</td>\n",
              "      <td>MARRIED</td>\n",
              "      <td>PATIENT DECLINED TO ANSWER</td>\n",
              "      <td>NaN</td>\n",
              "      <td>NaN</td>\n",
              "      <td>CORONARY ARTERY DISEASE\\CORONARY ARTERY BYPASS...</td>\n",
              "      <td>0</td>\n",
              "      <td>1</td>\n",
              "    </tr>\n",
              "    <tr>\n",
              "      <th>15023</th>\n",
              "      <td>17936</td>\n",
              "      <td>14657</td>\n",
              "      <td>111125</td>\n",
              "      <td>2200-07-05 19:37:00</td>\n",
              "      <td>2200-07-11 10:45:00</td>\n",
              "      <td>NaN</td>\n",
              "      <td>EMERGENCY</td>\n",
              "      <td>EMERGENCY ROOM ADMIT</td>\n",
              "      <td>HOME</td>\n",
              "      <td>Self Pay</td>\n",
              "      <td>NaN</td>\n",
              "      <td>OTHER</td>\n",
              "      <td>DIVORCED</td>\n",
              "      <td>UNKNOWN/NOT SPECIFIED</td>\n",
              "      <td>2200-07-05 15:43:00</td>\n",
              "      <td>2200-07-05 21:00:00</td>\n",
              "      <td>LUMBAR FRACTURE</td>\n",
              "      <td>0</td>\n",
              "      <td>1</td>\n",
              "    </tr>\n",
              "    <tr>\n",
              "      <th>...</th>\n",
              "      <td>...</td>\n",
              "      <td>...</td>\n",
              "      <td>...</td>\n",
              "      <td>...</td>\n",
              "      <td>...</td>\n",
              "      <td>...</td>\n",
              "      <td>...</td>\n",
              "      <td>...</td>\n",
              "      <td>...</td>\n",
              "      <td>...</td>\n",
              "      <td>...</td>\n",
              "      <td>...</td>\n",
              "      <td>...</td>\n",
              "      <td>...</td>\n",
              "      <td>...</td>\n",
              "      <td>...</td>\n",
              "      <td>...</td>\n",
              "      <td>...</td>\n",
              "      <td>...</td>\n",
              "    </tr>\n",
              "    <tr>\n",
              "      <th>27638</th>\n",
              "      <td>26001</td>\n",
              "      <td>21297</td>\n",
              "      <td>134084</td>\n",
              "      <td>2111-08-21 08:46:00</td>\n",
              "      <td>2111-08-25 11:20:00</td>\n",
              "      <td>NaN</td>\n",
              "      <td>NEWBORN</td>\n",
              "      <td>PHYS REFERRAL/NORMAL DELI</td>\n",
              "      <td>HOME</td>\n",
              "      <td>Private</td>\n",
              "      <td>NaN</td>\n",
              "      <td>UNOBTAINABLE</td>\n",
              "      <td>NaN</td>\n",
              "      <td>UNKNOWN/NOT SPECIFIED</td>\n",
              "      <td>NaN</td>\n",
              "      <td>NaN</td>\n",
              "      <td>NEWBORN</td>\n",
              "      <td>0</td>\n",
              "      <td>0</td>\n",
              "    </tr>\n",
              "    <tr>\n",
              "      <th>27639</th>\n",
              "      <td>26002</td>\n",
              "      <td>21297</td>\n",
              "      <td>111349</td>\n",
              "      <td>2111-08-26 16:35:00</td>\n",
              "      <td>2111-08-29 18:00:00</td>\n",
              "      <td>NaN</td>\n",
              "      <td>EMERGENCY</td>\n",
              "      <td>PHYS REFERRAL/NORMAL DELI</td>\n",
              "      <td>HOME</td>\n",
              "      <td>Private</td>\n",
              "      <td>NaN</td>\n",
              "      <td>UNOBTAINABLE</td>\n",
              "      <td>NaN</td>\n",
              "      <td>UNKNOWN/NOT SPECIFIED</td>\n",
              "      <td>NaN</td>\n",
              "      <td>NaN</td>\n",
              "      <td>HYPERBILIRUBINEMIA</td>\n",
              "      <td>0</td>\n",
              "      <td>1</td>\n",
              "    </tr>\n",
              "    <tr>\n",
              "      <th>27737</th>\n",
              "      <td>26233</td>\n",
              "      <td>21476</td>\n",
              "      <td>176844</td>\n",
              "      <td>2102-09-20 14:56:00</td>\n",
              "      <td>2102-09-23 19:15:00</td>\n",
              "      <td>NaN</td>\n",
              "      <td>EMERGENCY</td>\n",
              "      <td>EMERGENCY ROOM ADMIT</td>\n",
              "      <td>HOME HEALTH CARE</td>\n",
              "      <td>Medicare</td>\n",
              "      <td>ENGL</td>\n",
              "      <td>PROTESTANT QUAKER</td>\n",
              "      <td>SEPARATED</td>\n",
              "      <td>BLACK/AFRICAN AMERICAN</td>\n",
              "      <td>2102-09-20 11:45:00</td>\n",
              "      <td>2102-09-20 16:07:00</td>\n",
              "      <td>STROKE;TELEMETRY</td>\n",
              "      <td>0</td>\n",
              "      <td>1</td>\n",
              "    </tr>\n",
              "    <tr>\n",
              "      <th>28046</th>\n",
              "      <td>26196</td>\n",
              "      <td>21452</td>\n",
              "      <td>108178</td>\n",
              "      <td>2119-01-26 18:12:00</td>\n",
              "      <td>2119-02-13 11:13:00</td>\n",
              "      <td>NaN</td>\n",
              "      <td>EMERGENCY</td>\n",
              "      <td>EMERGENCY ROOM ADMIT</td>\n",
              "      <td>HOME HEALTH CARE</td>\n",
              "      <td>Private</td>\n",
              "      <td>NaN</td>\n",
              "      <td>CATHOLIC</td>\n",
              "      <td>MARRIED</td>\n",
              "      <td>WHITE</td>\n",
              "      <td>2119-01-26 13:56:00</td>\n",
              "      <td>2119-01-26 19:38:00</td>\n",
              "      <td>R/O OBSTRUCTION-ABDOMINAL PAIN</td>\n",
              "      <td>0</td>\n",
              "      <td>1</td>\n",
              "    </tr>\n",
              "    <tr>\n",
              "      <th>28047</th>\n",
              "      <td>26197</td>\n",
              "      <td>21452</td>\n",
              "      <td>133978</td>\n",
              "      <td>2122-12-27 07:04:00</td>\n",
              "      <td>2123-01-02 15:00:00</td>\n",
              "      <td>NaN</td>\n",
              "      <td>EMERGENCY</td>\n",
              "      <td>EMERGENCY ROOM ADMIT</td>\n",
              "      <td>SNF</td>\n",
              "      <td>Private</td>\n",
              "      <td>NaN</td>\n",
              "      <td>CATHOLIC</td>\n",
              "      <td>MARRIED</td>\n",
              "      <td>WHITE</td>\n",
              "      <td>2122-12-27 01:10:00</td>\n",
              "      <td>2122-12-27 08:36:00</td>\n",
              "      <td>UROSEPSIS</td>\n",
              "      <td>0</td>\n",
              "      <td>1</td>\n",
              "    </tr>\n",
              "  </tbody>\n",
              "</table>\n",
              "<p>314 rows × 19 columns</p>\n",
              "</div>\n",
              "      <button class=\"colab-df-convert\" onclick=\"convertToInteractive('df-ed969f2d-f390-49d5-822b-c874e3a68db6')\"\n",
              "              title=\"Convert this dataframe to an interactive table.\"\n",
              "              style=\"display:none;\">\n",
              "        \n",
              "  <svg xmlns=\"http://www.w3.org/2000/svg\" height=\"24px\"viewBox=\"0 0 24 24\"\n",
              "       width=\"24px\">\n",
              "    <path d=\"M0 0h24v24H0V0z\" fill=\"none\"/>\n",
              "    <path d=\"M18.56 5.44l.94 2.06.94-2.06 2.06-.94-2.06-.94-.94-2.06-.94 2.06-2.06.94zm-11 1L8.5 8.5l.94-2.06 2.06-.94-2.06-.94L8.5 2.5l-.94 2.06-2.06.94zm10 10l.94 2.06.94-2.06 2.06-.94-2.06-.94-.94-2.06-.94 2.06-2.06.94z\"/><path d=\"M17.41 7.96l-1.37-1.37c-.4-.4-.92-.59-1.43-.59-.52 0-1.04.2-1.43.59L10.3 9.45l-7.72 7.72c-.78.78-.78 2.05 0 2.83L4 21.41c.39.39.9.59 1.41.59.51 0 1.02-.2 1.41-.59l7.78-7.78 2.81-2.81c.8-.78.8-2.07 0-2.86zM5.41 20L4 18.59l7.72-7.72 1.47 1.35L5.41 20z\"/>\n",
              "  </svg>\n",
              "      </button>\n",
              "      \n",
              "  <style>\n",
              "    .colab-df-container {\n",
              "      display:flex;\n",
              "      flex-wrap:wrap;\n",
              "      gap: 12px;\n",
              "    }\n",
              "\n",
              "    .colab-df-convert {\n",
              "      background-color: #E8F0FE;\n",
              "      border: none;\n",
              "      border-radius: 50%;\n",
              "      cursor: pointer;\n",
              "      display: none;\n",
              "      fill: #1967D2;\n",
              "      height: 32px;\n",
              "      padding: 0 0 0 0;\n",
              "      width: 32px;\n",
              "    }\n",
              "\n",
              "    .colab-df-convert:hover {\n",
              "      background-color: #E2EBFA;\n",
              "      box-shadow: 0px 1px 2px rgba(60, 64, 67, 0.3), 0px 1px 3px 1px rgba(60, 64, 67, 0.15);\n",
              "      fill: #174EA6;\n",
              "    }\n",
              "\n",
              "    [theme=dark] .colab-df-convert {\n",
              "      background-color: #3B4455;\n",
              "      fill: #D2E3FC;\n",
              "    }\n",
              "\n",
              "    [theme=dark] .colab-df-convert:hover {\n",
              "      background-color: #434B5C;\n",
              "      box-shadow: 0px 1px 3px 1px rgba(0, 0, 0, 0.15);\n",
              "      filter: drop-shadow(0px 1px 2px rgba(0, 0, 0, 0.3));\n",
              "      fill: #FFFFFF;\n",
              "    }\n",
              "  </style>\n",
              "\n",
              "      <script>\n",
              "        const buttonEl =\n",
              "          document.querySelector('#df-ed969f2d-f390-49d5-822b-c874e3a68db6 button.colab-df-convert');\n",
              "        buttonEl.style.display =\n",
              "          google.colab.kernel.accessAllowed ? 'block' : 'none';\n",
              "\n",
              "        async function convertToInteractive(key) {\n",
              "          const element = document.querySelector('#df-ed969f2d-f390-49d5-822b-c874e3a68db6');\n",
              "          const dataTable =\n",
              "            await google.colab.kernel.invokeFunction('convertToInteractive',\n",
              "                                                     [key], {});\n",
              "          if (!dataTable) return;\n",
              "\n",
              "          const docLinkHtml = 'Like what you see? Visit the ' +\n",
              "            '<a target=\"_blank\" href=https://colab.research.google.com/notebooks/data_table.ipynb>data table notebook</a>'\n",
              "            + ' to learn more about interactive tables.';\n",
              "          element.innerHTML = '';\n",
              "          dataTable['output_type'] = 'display_data';\n",
              "          await google.colab.output.renderOutput(dataTable, element);\n",
              "          const docLink = document.createElement('div');\n",
              "          docLink.innerHTML = docLinkHtml;\n",
              "          element.appendChild(docLink);\n",
              "        }\n",
              "      </script>\n",
              "    </div>\n",
              "  </div>\n",
              "  "
            ]
          },
          "metadata": {},
          "execution_count": 55
        }
      ]
    },
    {
      "cell_type": "markdown",
      "source": [
        "Report"
      ],
      "metadata": {
        "id": "0p7nLpc1Scta"
      }
    },
    {
      "cell_type": "markdown",
      "source": [],
      "metadata": {
        "id": "Rdyd3vHvScfx"
      }
    },
    {
      "cell_type": "code",
      "source": [
        "print(f'Number of Subjects in TSICU: {len(subject_id_tsicu)}')\n",
        "print(f'Number of subjects with a first sequence ICD 9 code [800,900) : {len(icd8xxfirst_subjects_ids)}')\n",
        "print('')\n",
        "print('Subjects Expired (1), Alive (0): ')\n",
        "print(df_patients_icd8xx_tsicu['EXPIRE_FLAG'].value_counts())\n",
        "print('')\n",
        "print('Gender:')\n",
        "print(df_patients_icd8xx_tsicu['GENDER'].value_counts())\n",
        "print('')\n",
        "print(f'Number of total notes: {len(df_note_icdxxx_tsicu)}')\n",
        "print(f'Number of Nursing Progress Notes: {len(df_nursing_progress_note_icd8xx_tsicu)}')\n",
        "print(f'Number of Discharge summary: {len(df_discharge_note_icd8xx_tsicu)}')\n",
        "print(f'Number of caregivers: {len(cgid_maxicu_tsicu)}')"
      ],
      "metadata": {
        "id": "c4Y-EhXOSb7f",
        "outputId": "baa89c0f-7afc-4b7f-8918-e46fd9f5e476",
        "colab": {
          "base_uri": "https://localhost:8080/"
        }
      },
      "execution_count": 64,
      "outputs": [
        {
          "output_type": "stream",
          "name": "stdout",
          "text": [
            "Number of Subjects in TSICU: 5418\n",
            "Number of subjects with a first sequence ICD 9 code [800,900) : 154\n",
            "\n",
            "Subjects Expired (1), Alive (0): \n",
            "1    87\n",
            "0    67\n",
            "Name: EXPIRE_FLAG, dtype: int64\n",
            "\n",
            "Gender:\n",
            "F    87\n",
            "M    67\n",
            "Name: GENDER, dtype: int64\n",
            "\n",
            "Number of total notes: 18648\n",
            "Number of Nursing Progress Notes: 4317\n",
            "Number of Discharge summary: 439\n",
            "Number of caregivers: 251\n"
          ]
        }
      ]
    },
    {
      "cell_type": "markdown",
      "source": [
        "# END\n"
      ],
      "metadata": {
        "id": "hvh4aVTHpaKw"
      }
    },
    {
      "cell_type": "code",
      "source": [
        "print(df_note_events['CATEGORY'].unique())"
      ],
      "metadata": {
        "id": "QbSCiAMObBNm",
        "outputId": "7df8b593-9132-4731-eed7-8426e0e27730",
        "colab": {
          "base_uri": "https://localhost:8080/"
        }
      },
      "execution_count": null,
      "outputs": [
        {
          "output_type": "stream",
          "name": "stdout",
          "text": [
            "['Discharge summary' 'Echo' 'ECG' 'Nursing' 'Physician ' 'Rehab Services'\n",
            " 'Case Management ' 'Respiratory ' 'Nutrition' 'General' 'Social Work'\n",
            " 'Pharmacy' 'Consult' 'Radiology' 'Nursing/other']\n"
          ]
        }
      ]
    },
    {
      "cell_type": "markdown",
      "source": [
        "## **Data Preprocessing**"
      ],
      "metadata": {
        "id": "qdVDhESt91i2"
      }
    },
    {
      "cell_type": "code",
      "source": [
        "df_note_events.info()"
      ],
      "metadata": {
        "colab": {
          "base_uri": "https://localhost:8080/"
        },
        "id": "F9Ag0N5BK6KT",
        "outputId": "cce5c2a8-9ec2-45c9-a3ab-64cc15a058ce"
      },
      "execution_count": null,
      "outputs": [
        {
          "output_type": "stream",
          "name": "stdout",
          "text": [
            "<class 'pandas.core.frame.DataFrame'>\n",
            "RangeIndex: 2083180 entries, 0 to 2083179\n",
            "Data columns (total 11 columns):\n",
            " #   Column       Dtype  \n",
            "---  ------       -----  \n",
            " 0   ROW_ID       int64  \n",
            " 1   SUBJECT_ID   int64  \n",
            " 2   HADM_ID      float64\n",
            " 3   CHARTDATE    object \n",
            " 4   CHARTTIME    object \n",
            " 5   STORETIME    object \n",
            " 6   CATEGORY     object \n",
            " 7   DESCRIPTION  object \n",
            " 8   CGID         float64\n",
            " 9   ISERROR      float64\n",
            " 10  TEXT         object \n",
            "dtypes: float64(3), int64(2), object(6)\n",
            "memory usage: 174.8+ MB\n"
          ]
        }
      ]
    },
    {
      "cell_type": "markdown",
      "source": [
        "Grab tsicu notes, merge with ward and patients tables"
      ],
      "metadata": {
        "id": "uLpw8TKsChMf"
      }
    },
    {
      "cell_type": "code",
      "source": [
        "# get new type of notes (TSICU)\n",
        "df_notes_TSICU = pd.DataFrame()\n",
        "#df_notes_TSICU = df_notes.merge(df_note_events[['ROW_ID', 'CATEGORY']], on='ROW_ID')\n",
        "df_notes_TSICU = df_note_events.merge(df_caregivers.drop('ROW_ID', axis=1), on='CGID')\n",
        "#df_notes_TSICU = df_notes_TSICU.merge(df_ward.drop('ROW_ID', axis=1), on='SUBJECT_ID')\n",
        "df_notes_TSICU = df_notes_TSICU.merge(df_patients.drop('ROW_ID', axis=1), on='SUBJECT_ID')\n",
        "#df_notes_TSICU = df_notes_TSICU[(df_notes_TSICU['first_careunit'] == 'TSICU') & (df_notes_TSICU['last_careunit'] == 'TSICU')].drop_duplicates()\n",
        "df_notes_TSICU.info()"
      ],
      "metadata": {
        "id": "RfRbbiU85KqG",
        "colab": {
          "base_uri": "https://localhost:8080/"
        },
        "outputId": "9dae494a-adac-496b-d6ad-f0dd83a5b403"
      },
      "execution_count": null,
      "outputs": [
        {
          "output_type": "stream",
          "name": "stdout",
          "text": [
            "<class 'pandas.core.frame.DataFrame'>\n",
            "Int64Index: 1246404 entries, 0 to 1246403\n",
            "Data columns (total 19 columns):\n",
            " #   Column         Non-Null Count    Dtype  \n",
            "---  ------         --------------    -----  \n",
            " 0   ROW_ID         1246404 non-null  int64  \n",
            " 1   SUBJECT_ID     1246404 non-null  int64  \n",
            " 2   HADM_ID        1240545 non-null  float64\n",
            " 3   CHARTDATE      1246404 non-null  object \n",
            " 4   CHARTTIME      1244335 non-null  object \n",
            " 5   STORETIME      1246404 non-null  object \n",
            " 6   CATEGORY       1246404 non-null  object \n",
            " 7   DESCRIPTION_x  1246404 non-null  object \n",
            " 8   CGID           1246404 non-null  float64\n",
            " 9   ISERROR        886 non-null      float64\n",
            " 10  TEXT           1246404 non-null  object \n",
            " 11  LABEL          1212686 non-null  object \n",
            " 12  DESCRIPTION_y  853491 non-null   object \n",
            " 13  GENDER         1246404 non-null  object \n",
            " 14  DOB            1246404 non-null  object \n",
            " 15  DOD            485473 non-null   object \n",
            " 16  DOD_HOSP       336532 non-null   object \n",
            " 17  DOD_SSN        409948 non-null   object \n",
            " 18  EXPIRE_FLAG    1246404 non-null  int64  \n",
            "dtypes: float64(3), int64(3), object(13)\n",
            "memory usage: 190.2+ MB\n"
          ]
        }
      ]
    },
    {
      "cell_type": "code",
      "source": [
        "df_notes_TSICU.head(5)"
      ],
      "metadata": {
        "id": "40N9rfNLvz3h",
        "outputId": "970ddf62-f71f-45cf-dd4d-6f399e8e909b",
        "colab": {
          "base_uri": "https://localhost:8080/",
          "height": 337
        }
      },
      "execution_count": null,
      "outputs": [
        {
          "output_type": "execute_result",
          "data": {
            "text/plain": [
              "   ROW_ID  SUBJECT_ID   HADM_ID   CHARTDATE            CHARTTIME  \\\n",
              "0  316234       29075  179159.0  2116-02-07  2116-02-07 14:08:00   \n",
              "1  316140       29075  179159.0  2116-02-06  2116-02-06 05:06:00   \n",
              "2  316249       29075  179159.0  2116-02-07  2116-02-07 17:21:00   \n",
              "3  316183       29075  179159.0  2116-02-06  2116-02-06 16:52:00   \n",
              "4  316238       29075  179159.0  2116-02-07  2116-02-07 15:37:00   \n",
              "\n",
              "             STORETIME    CATEGORY                     DESCRIPTION_x     CGID  \\\n",
              "0  2116-02-07 14:08:20     Nursing             Nursing Transfer Note  20808.0   \n",
              "1  2116-02-06 08:36:56     Nursing             Nursing Transfer Note  20808.0   \n",
              "2  2116-02-07 17:21:31     Nursing             Nursing Progress Note  20808.0   \n",
              "3  2116-02-06 16:52:53     Nursing             Nursing Progress Note  20808.0   \n",
              "4  2116-02-07 15:37:10  Physician   Physician Resident Progress Note  21203.0   \n",
              "\n",
              "   ISERROR                                               TEXT LABEL  \\\n",
              "0      NaN  67M w/ h/o multiplemyeloma Dx [**2111**], neur...    RN   \n",
              "1      1.0  .H/O back pain\\n   Assessment:\\n   Action:\\n  ...    RN   \n",
              "2      NaN  Gastrointestinal bleed, lower (Hematochezia, B...    RN   \n",
              "3      NaN  .H/O back pain\\n   Assessment:\\n   c/o back pa...    RN   \n",
              "4      NaN  Chief Complaint:\\n   24 Hour Events:\\n   EGD d...    MD   \n",
              "\n",
              "           DESCRIPTION_y GENDER                  DOB                  DOD  \\\n",
              "0                     RN      M  2048-04-19 00:00:00  2116-03-30 00:00:00   \n",
              "1                     RN      M  2048-04-19 00:00:00  2116-03-30 00:00:00   \n",
              "2                     RN      M  2048-04-19 00:00:00  2116-03-30 00:00:00   \n",
              "3                     RN      M  2048-04-19 00:00:00  2116-03-30 00:00:00   \n",
              "4  Resident/Fellow/PA/NP      M  2048-04-19 00:00:00  2116-03-30 00:00:00   \n",
              "\n",
              "              DOD_HOSP              DOD_SSN  EXPIRE_FLAG  \n",
              "0  2116-03-30 00:00:00  2116-03-30 00:00:00            1  \n",
              "1  2116-03-30 00:00:00  2116-03-30 00:00:00            1  \n",
              "2  2116-03-30 00:00:00  2116-03-30 00:00:00            1  \n",
              "3  2116-03-30 00:00:00  2116-03-30 00:00:00            1  \n",
              "4  2116-03-30 00:00:00  2116-03-30 00:00:00            1  "
            ],
            "text/html": [
              "\n",
              "  <div id=\"df-7d10214e-8444-4b34-b848-de66fd7323bd\">\n",
              "    <div class=\"colab-df-container\">\n",
              "      <div>\n",
              "<style scoped>\n",
              "    .dataframe tbody tr th:only-of-type {\n",
              "        vertical-align: middle;\n",
              "    }\n",
              "\n",
              "    .dataframe tbody tr th {\n",
              "        vertical-align: top;\n",
              "    }\n",
              "\n",
              "    .dataframe thead th {\n",
              "        text-align: right;\n",
              "    }\n",
              "</style>\n",
              "<table border=\"1\" class=\"dataframe\">\n",
              "  <thead>\n",
              "    <tr style=\"text-align: right;\">\n",
              "      <th></th>\n",
              "      <th>ROW_ID</th>\n",
              "      <th>SUBJECT_ID</th>\n",
              "      <th>HADM_ID</th>\n",
              "      <th>CHARTDATE</th>\n",
              "      <th>CHARTTIME</th>\n",
              "      <th>STORETIME</th>\n",
              "      <th>CATEGORY</th>\n",
              "      <th>DESCRIPTION_x</th>\n",
              "      <th>CGID</th>\n",
              "      <th>ISERROR</th>\n",
              "      <th>TEXT</th>\n",
              "      <th>LABEL</th>\n",
              "      <th>DESCRIPTION_y</th>\n",
              "      <th>GENDER</th>\n",
              "      <th>DOB</th>\n",
              "      <th>DOD</th>\n",
              "      <th>DOD_HOSP</th>\n",
              "      <th>DOD_SSN</th>\n",
              "      <th>EXPIRE_FLAG</th>\n",
              "    </tr>\n",
              "  </thead>\n",
              "  <tbody>\n",
              "    <tr>\n",
              "      <th>0</th>\n",
              "      <td>316234</td>\n",
              "      <td>29075</td>\n",
              "      <td>179159.0</td>\n",
              "      <td>2116-02-07</td>\n",
              "      <td>2116-02-07 14:08:00</td>\n",
              "      <td>2116-02-07 14:08:20</td>\n",
              "      <td>Nursing</td>\n",
              "      <td>Nursing Transfer Note</td>\n",
              "      <td>20808.0</td>\n",
              "      <td>NaN</td>\n",
              "      <td>67M w/ h/o multiplemyeloma Dx [**2111**], neur...</td>\n",
              "      <td>RN</td>\n",
              "      <td>RN</td>\n",
              "      <td>M</td>\n",
              "      <td>2048-04-19 00:00:00</td>\n",
              "      <td>2116-03-30 00:00:00</td>\n",
              "      <td>2116-03-30 00:00:00</td>\n",
              "      <td>2116-03-30 00:00:00</td>\n",
              "      <td>1</td>\n",
              "    </tr>\n",
              "    <tr>\n",
              "      <th>1</th>\n",
              "      <td>316140</td>\n",
              "      <td>29075</td>\n",
              "      <td>179159.0</td>\n",
              "      <td>2116-02-06</td>\n",
              "      <td>2116-02-06 05:06:00</td>\n",
              "      <td>2116-02-06 08:36:56</td>\n",
              "      <td>Nursing</td>\n",
              "      <td>Nursing Transfer Note</td>\n",
              "      <td>20808.0</td>\n",
              "      <td>1.0</td>\n",
              "      <td>.H/O back pain\\n   Assessment:\\n   Action:\\n  ...</td>\n",
              "      <td>RN</td>\n",
              "      <td>RN</td>\n",
              "      <td>M</td>\n",
              "      <td>2048-04-19 00:00:00</td>\n",
              "      <td>2116-03-30 00:00:00</td>\n",
              "      <td>2116-03-30 00:00:00</td>\n",
              "      <td>2116-03-30 00:00:00</td>\n",
              "      <td>1</td>\n",
              "    </tr>\n",
              "    <tr>\n",
              "      <th>2</th>\n",
              "      <td>316249</td>\n",
              "      <td>29075</td>\n",
              "      <td>179159.0</td>\n",
              "      <td>2116-02-07</td>\n",
              "      <td>2116-02-07 17:21:00</td>\n",
              "      <td>2116-02-07 17:21:31</td>\n",
              "      <td>Nursing</td>\n",
              "      <td>Nursing Progress Note</td>\n",
              "      <td>20808.0</td>\n",
              "      <td>NaN</td>\n",
              "      <td>Gastrointestinal bleed, lower (Hematochezia, B...</td>\n",
              "      <td>RN</td>\n",
              "      <td>RN</td>\n",
              "      <td>M</td>\n",
              "      <td>2048-04-19 00:00:00</td>\n",
              "      <td>2116-03-30 00:00:00</td>\n",
              "      <td>2116-03-30 00:00:00</td>\n",
              "      <td>2116-03-30 00:00:00</td>\n",
              "      <td>1</td>\n",
              "    </tr>\n",
              "    <tr>\n",
              "      <th>3</th>\n",
              "      <td>316183</td>\n",
              "      <td>29075</td>\n",
              "      <td>179159.0</td>\n",
              "      <td>2116-02-06</td>\n",
              "      <td>2116-02-06 16:52:00</td>\n",
              "      <td>2116-02-06 16:52:53</td>\n",
              "      <td>Nursing</td>\n",
              "      <td>Nursing Progress Note</td>\n",
              "      <td>20808.0</td>\n",
              "      <td>NaN</td>\n",
              "      <td>.H/O back pain\\n   Assessment:\\n   c/o back pa...</td>\n",
              "      <td>RN</td>\n",
              "      <td>RN</td>\n",
              "      <td>M</td>\n",
              "      <td>2048-04-19 00:00:00</td>\n",
              "      <td>2116-03-30 00:00:00</td>\n",
              "      <td>2116-03-30 00:00:00</td>\n",
              "      <td>2116-03-30 00:00:00</td>\n",
              "      <td>1</td>\n",
              "    </tr>\n",
              "    <tr>\n",
              "      <th>4</th>\n",
              "      <td>316238</td>\n",
              "      <td>29075</td>\n",
              "      <td>179159.0</td>\n",
              "      <td>2116-02-07</td>\n",
              "      <td>2116-02-07 15:37:00</td>\n",
              "      <td>2116-02-07 15:37:10</td>\n",
              "      <td>Physician</td>\n",
              "      <td>Physician Resident Progress Note</td>\n",
              "      <td>21203.0</td>\n",
              "      <td>NaN</td>\n",
              "      <td>Chief Complaint:\\n   24 Hour Events:\\n   EGD d...</td>\n",
              "      <td>MD</td>\n",
              "      <td>Resident/Fellow/PA/NP</td>\n",
              "      <td>M</td>\n",
              "      <td>2048-04-19 00:00:00</td>\n",
              "      <td>2116-03-30 00:00:00</td>\n",
              "      <td>2116-03-30 00:00:00</td>\n",
              "      <td>2116-03-30 00:00:00</td>\n",
              "      <td>1</td>\n",
              "    </tr>\n",
              "  </tbody>\n",
              "</table>\n",
              "</div>\n",
              "      <button class=\"colab-df-convert\" onclick=\"convertToInteractive('df-7d10214e-8444-4b34-b848-de66fd7323bd')\"\n",
              "              title=\"Convert this dataframe to an interactive table.\"\n",
              "              style=\"display:none;\">\n",
              "        \n",
              "  <svg xmlns=\"http://www.w3.org/2000/svg\" height=\"24px\"viewBox=\"0 0 24 24\"\n",
              "       width=\"24px\">\n",
              "    <path d=\"M0 0h24v24H0V0z\" fill=\"none\"/>\n",
              "    <path d=\"M18.56 5.44l.94 2.06.94-2.06 2.06-.94-2.06-.94-.94-2.06-.94 2.06-2.06.94zm-11 1L8.5 8.5l.94-2.06 2.06-.94-2.06-.94L8.5 2.5l-.94 2.06-2.06.94zm10 10l.94 2.06.94-2.06 2.06-.94-2.06-.94-.94-2.06-.94 2.06-2.06.94z\"/><path d=\"M17.41 7.96l-1.37-1.37c-.4-.4-.92-.59-1.43-.59-.52 0-1.04.2-1.43.59L10.3 9.45l-7.72 7.72c-.78.78-.78 2.05 0 2.83L4 21.41c.39.39.9.59 1.41.59.51 0 1.02-.2 1.41-.59l7.78-7.78 2.81-2.81c.8-.78.8-2.07 0-2.86zM5.41 20L4 18.59l7.72-7.72 1.47 1.35L5.41 20z\"/>\n",
              "  </svg>\n",
              "      </button>\n",
              "      \n",
              "  <style>\n",
              "    .colab-df-container {\n",
              "      display:flex;\n",
              "      flex-wrap:wrap;\n",
              "      gap: 12px;\n",
              "    }\n",
              "\n",
              "    .colab-df-convert {\n",
              "      background-color: #E8F0FE;\n",
              "      border: none;\n",
              "      border-radius: 50%;\n",
              "      cursor: pointer;\n",
              "      display: none;\n",
              "      fill: #1967D2;\n",
              "      height: 32px;\n",
              "      padding: 0 0 0 0;\n",
              "      width: 32px;\n",
              "    }\n",
              "\n",
              "    .colab-df-convert:hover {\n",
              "      background-color: #E2EBFA;\n",
              "      box-shadow: 0px 1px 2px rgba(60, 64, 67, 0.3), 0px 1px 3px 1px rgba(60, 64, 67, 0.15);\n",
              "      fill: #174EA6;\n",
              "    }\n",
              "\n",
              "    [theme=dark] .colab-df-convert {\n",
              "      background-color: #3B4455;\n",
              "      fill: #D2E3FC;\n",
              "    }\n",
              "\n",
              "    [theme=dark] .colab-df-convert:hover {\n",
              "      background-color: #434B5C;\n",
              "      box-shadow: 0px 1px 3px 1px rgba(0, 0, 0, 0.15);\n",
              "      filter: drop-shadow(0px 1px 2px rgba(0, 0, 0, 0.3));\n",
              "      fill: #FFFFFF;\n",
              "    }\n",
              "  </style>\n",
              "\n",
              "      <script>\n",
              "        const buttonEl =\n",
              "          document.querySelector('#df-7d10214e-8444-4b34-b848-de66fd7323bd button.colab-df-convert');\n",
              "        buttonEl.style.display =\n",
              "          google.colab.kernel.accessAllowed ? 'block' : 'none';\n",
              "\n",
              "        async function convertToInteractive(key) {\n",
              "          const element = document.querySelector('#df-7d10214e-8444-4b34-b848-de66fd7323bd');\n",
              "          const dataTable =\n",
              "            await google.colab.kernel.invokeFunction('convertToInteractive',\n",
              "                                                     [key], {});\n",
              "          if (!dataTable) return;\n",
              "\n",
              "          const docLinkHtml = 'Like what you see? Visit the ' +\n",
              "            '<a target=\"_blank\" href=https://colab.research.google.com/notebooks/data_table.ipynb>data table notebook</a>'\n",
              "            + ' to learn more about interactive tables.';\n",
              "          element.innerHTML = '';\n",
              "          dataTable['output_type'] = 'display_data';\n",
              "          await google.colab.output.renderOutput(dataTable, element);\n",
              "          const docLink = document.createElement('div');\n",
              "          docLink.innerHTML = docLinkHtml;\n",
              "          element.appendChild(docLink);\n",
              "        }\n",
              "      </script>\n",
              "    </div>\n",
              "  </div>\n",
              "  "
            ]
          },
          "metadata": {},
          "execution_count": 15
        }
      ]
    },
    {
      "cell_type": "markdown",
      "source": [
        "Join with ICD"
      ],
      "metadata": {
        "id": "bcq_LhnKvl9k"
      }
    },
    {
      "cell_type": "code",
      "source": [
        "icd = \"DIAGNOSES_ICD.csv\"\n",
        "df_icd = pd.read_csv(notes_path+icd)\n",
        "df_icd.columns = df_icd.columns.str.upper()\n",
        "df_icd = df_icd.dropna(subset=['SEQ_NUM'])\n",
        "df_icd['SEQ_NUM'] = df_icd['SEQ_NUM'].astype(int)\n",
        "unique_values = df_icd['SEQ_NUM'].unique()\n",
        "print(\"unique_values: \")\n",
        "print(unique_values)\n",
        "idx = df_icd.groupby(['HADM_ID', 'SUBJECT_ID'])['SEQ_NUM'].idxmin()\n",
        "df_icd = df_icd.loc[idx]\n",
        "df_icd.info()"
      ],
      "metadata": {
        "colab": {
          "base_uri": "https://localhost:8080/"
        },
        "id": "H5IFwi_7Oe7F",
        "outputId": "411cc661-44ff-4e9f-ae8d-c53f4ac41c39"
      },
      "execution_count": null,
      "outputs": [
        {
          "output_type": "stream",
          "name": "stdout",
          "text": [
            "unique_values: \n",
            "[ 1  2  3  4  5  6  7  8  9 10 11 12 13 14 15 16 17 18 19 20 21 22 23 24\n",
            " 25 26 27 28 29 30 31 32 33 34 35 36 37 38 39]\n",
            "<class 'pandas.core.frame.DataFrame'>\n",
            "Int64Index: 58929 entries, 462245 to 374673\n",
            "Data columns (total 5 columns):\n",
            " #   Column      Non-Null Count  Dtype \n",
            "---  ------      --------------  ----- \n",
            " 0   ROW_ID      58929 non-null  int64 \n",
            " 1   SUBJECT_ID  58929 non-null  int64 \n",
            " 2   HADM_ID     58929 non-null  int64 \n",
            " 3   SEQ_NUM     58929 non-null  int64 \n",
            " 4   ICD9_CODE   58929 non-null  object\n",
            "dtypes: int64(4), object(1)\n",
            "memory usage: 2.7+ MB\n"
          ]
        }
      ]
    },
    {
      "cell_type": "code",
      "source": [
        "df_notes_TSICU = df_notes_TSICU.merge(df_icd[['HADM_ID','ICD9_CODE','SEQ_NUM', 'SUBJECT_ID']], on=['HADM_ID', 'SUBJECT_ID'])\n",
        "df_notes_TSICU.info()"
      ],
      "metadata": {
        "id": "gd1FsvDMvlWL",
        "outputId": "202053f2-7712-468a-cf85-23203f4c91bc",
        "colab": {
          "base_uri": "https://localhost:8080/"
        }
      },
      "execution_count": null,
      "outputs": [
        {
          "output_type": "stream",
          "name": "stdout",
          "text": [
            "<class 'pandas.core.frame.DataFrame'>\n",
            "Int64Index: 1240477 entries, 0 to 1240476\n",
            "Data columns (total 21 columns):\n",
            " #   Column         Non-Null Count    Dtype  \n",
            "---  ------         --------------    -----  \n",
            " 0   ROW_ID         1240477 non-null  int64  \n",
            " 1   SUBJECT_ID     1240477 non-null  int64  \n",
            " 2   HADM_ID        1240477 non-null  float64\n",
            " 3   CHARTDATE      1240477 non-null  object \n",
            " 4   CHARTTIME      1240477 non-null  object \n",
            " 5   STORETIME      1240477 non-null  object \n",
            " 6   CATEGORY       1240477 non-null  object \n",
            " 7   DESCRIPTION_x  1240477 non-null  object \n",
            " 8   CGID           1240477 non-null  float64\n",
            " 9   ISERROR        879 non-null      float64\n",
            " 10  TEXT           1240477 non-null  object \n",
            " 11  LABEL          1206875 non-null  object \n",
            " 12  DESCRIPTION_y  847984 non-null   object \n",
            " 13  GENDER         1240477 non-null  object \n",
            " 14  DOB            1240477 non-null  object \n",
            " 15  DOD            482275 non-null   object \n",
            " 16  DOD_HOSP       333983 non-null   object \n",
            " 17  DOD_SSN        407401 non-null   object \n",
            " 18  EXPIRE_FLAG    1240477 non-null  int64  \n",
            " 19  ICD9_CODE      1240477 non-null  object \n",
            " 20  SEQ_NUM        1240477 non-null  int64  \n",
            "dtypes: float64(3), int64(4), object(14)\n",
            "memory usage: 208.2+ MB\n"
          ]
        }
      ]
    },
    {
      "cell_type": "code",
      "source": [
        "df_notes_TSICU.head(20)"
      ],
      "metadata": {
        "colab": {
          "base_uri": "https://localhost:8080/",
          "height": 1000
        },
        "id": "6w5kj2hgHgAY",
        "outputId": "fc0713a2-d870-4f90-d4e0-3bfa2eb59554"
      },
      "execution_count": null,
      "outputs": [
        {
          "output_type": "execute_result",
          "data": {
            "text/plain": [
              "    ROW_ID  SUBJECT_ID   HADM_ID   CHARTDATE            CHARTTIME  \\\n",
              "0   316234       29075  179159.0  2116-02-07  2116-02-07 14:08:00   \n",
              "1   316140       29075  179159.0  2116-02-06  2116-02-06 05:06:00   \n",
              "2   316249       29075  179159.0  2116-02-07  2116-02-07 17:21:00   \n",
              "3   316183       29075  179159.0  2116-02-06  2116-02-06 16:52:00   \n",
              "4   316238       29075  179159.0  2116-02-07  2116-02-07 15:37:00   \n",
              "5   316241       29075  179159.0  2116-02-07  2116-02-07 15:37:00   \n",
              "6   316242       29075  179159.0  2116-02-07  2116-02-07 15:37:00   \n",
              "7   316124       29075  179159.0  2116-02-06  2116-02-06 05:03:00   \n",
              "8   316113       29075  179159.0  2116-02-06  2116-02-06 05:03:00   \n",
              "9   316114       29075  179159.0  2116-02-06  2116-02-06 05:03:00   \n",
              "10  316115       29075  179159.0  2116-02-06  2116-02-06 05:06:00   \n",
              "11  316203       29075  179159.0  2116-02-07  2116-02-07 04:12:00   \n",
              "12  316205       29075  179159.0  2116-02-07  2116-02-07 04:12:00   \n",
              "13  316259       29075  179159.0  2116-02-07  2116-02-07 14:08:00   \n",
              "14  316260       29075  179159.0  2116-02-07  2116-02-07 22:04:00   \n",
              "15  316106       29075  179159.0  2116-02-06  2116-02-06 00:25:00   \n",
              "16  316107       29075  179159.0  2116-02-06  2116-02-06 00:25:00   \n",
              "17  316102       29075  179159.0  2116-02-06  2116-02-06 00:25:00   \n",
              "18  316104       29075  179159.0  2116-02-06  2116-02-06 00:25:00   \n",
              "19  316108       29075  179159.0  2116-02-06  2116-02-06 03:50:00   \n",
              "\n",
              "              STORETIME    CATEGORY                       DESCRIPTION_x  \\\n",
              "0   2116-02-07 14:08:20     Nursing               Nursing Transfer Note   \n",
              "1   2116-02-06 08:36:56     Nursing               Nursing Transfer Note   \n",
              "2   2116-02-07 17:21:31     Nursing               Nursing Progress Note   \n",
              "3   2116-02-06 16:52:53     Nursing               Nursing Progress Note   \n",
              "4   2116-02-07 15:37:10  Physician     Physician Resident Progress Note   \n",
              "5   2116-02-07 16:05:26  Physician     Physician Resident Progress Note   \n",
              "6   2116-02-07 16:08:06  Physician     Physician Resident Progress Note   \n",
              "7   2116-02-06 06:58:35     Nursing               Nursing Progress Note   \n",
              "8   2116-02-06 05:03:29     Nursing               Nursing Progress Note   \n",
              "9   2116-02-06 05:05:39     Nursing               Nursing Progress Note   \n",
              "10  2116-02-06 05:06:11     Nursing               Nursing Transfer Note   \n",
              "11  2116-02-07 04:12:08     Nursing               Nursing Progress Note   \n",
              "12  2116-02-07 06:08:11     Nursing               Nursing Progress Note   \n",
              "13  2116-02-07 21:46:28     Nursing               Nursing Transfer Note   \n",
              "14  2116-02-07 22:04:39     Nursing               Nursing Transfer Note   \n",
              "15  2116-02-06 02:40:50  Physician    Physician Resident Admission Note   \n",
              "16  2116-02-06 02:50:40  Physician    Physician Resident Admission Note   \n",
              "17  2116-02-06 00:25:44  Physician    Physician Resident Admission Note   \n",
              "18  2116-02-06 02:06:40  Physician    Physician Resident Admission Note   \n",
              "19  2116-02-06 03:50:46  Physician   Physician Attending Admission Note   \n",
              "\n",
              "       CGID  ISERROR  ... LABEL          DESCRIPTION_y GENDER  \\\n",
              "0   20808.0      NaN  ...    RN                     RN      M   \n",
              "1   20808.0      1.0  ...    RN                     RN      M   \n",
              "2   20808.0      NaN  ...    RN                     RN      M   \n",
              "3   20808.0      NaN  ...    RN                     RN      M   \n",
              "4   21203.0      NaN  ...    MD  Resident/Fellow/PA/NP      M   \n",
              "5   21203.0      NaN  ...    MD  Resident/Fellow/PA/NP      M   \n",
              "6   21203.0      NaN  ...    MD  Resident/Fellow/PA/NP      M   \n",
              "7   14419.0      NaN  ...    RN                     RN      M   \n",
              "8   14419.0      NaN  ...    RN                     RN      M   \n",
              "9   14419.0      NaN  ...    RN                     RN      M   \n",
              "10  14419.0      NaN  ...    RN                     RN      M   \n",
              "11  18469.0      NaN  ...    RN                     RN      M   \n",
              "12  18469.0      NaN  ...    RN                     RN      M   \n",
              "13  18469.0      NaN  ...    RN                     RN      M   \n",
              "14  18469.0      NaN  ...    RN                     RN      M   \n",
              "15  16198.0      NaN  ...   MDs  Resident/Fellow/PA/NP      M   \n",
              "16  16198.0      NaN  ...   MDs  Resident/Fellow/PA/NP      M   \n",
              "17  16198.0      NaN  ...   MDs  Resident/Fellow/PA/NP      M   \n",
              "18  16198.0      NaN  ...   MDs  Resident/Fellow/PA/NP      M   \n",
              "19  19777.0      NaN  ...    MD              Attending      M   \n",
              "\n",
              "                    DOB                  DOD             DOD_HOSP  \\\n",
              "0   2048-04-19 00:00:00  2116-03-30 00:00:00  2116-03-30 00:00:00   \n",
              "1   2048-04-19 00:00:00  2116-03-30 00:00:00  2116-03-30 00:00:00   \n",
              "2   2048-04-19 00:00:00  2116-03-30 00:00:00  2116-03-30 00:00:00   \n",
              "3   2048-04-19 00:00:00  2116-03-30 00:00:00  2116-03-30 00:00:00   \n",
              "4   2048-04-19 00:00:00  2116-03-30 00:00:00  2116-03-30 00:00:00   \n",
              "5   2048-04-19 00:00:00  2116-03-30 00:00:00  2116-03-30 00:00:00   \n",
              "6   2048-04-19 00:00:00  2116-03-30 00:00:00  2116-03-30 00:00:00   \n",
              "7   2048-04-19 00:00:00  2116-03-30 00:00:00  2116-03-30 00:00:00   \n",
              "8   2048-04-19 00:00:00  2116-03-30 00:00:00  2116-03-30 00:00:00   \n",
              "9   2048-04-19 00:00:00  2116-03-30 00:00:00  2116-03-30 00:00:00   \n",
              "10  2048-04-19 00:00:00  2116-03-30 00:00:00  2116-03-30 00:00:00   \n",
              "11  2048-04-19 00:00:00  2116-03-30 00:00:00  2116-03-30 00:00:00   \n",
              "12  2048-04-19 00:00:00  2116-03-30 00:00:00  2116-03-30 00:00:00   \n",
              "13  2048-04-19 00:00:00  2116-03-30 00:00:00  2116-03-30 00:00:00   \n",
              "14  2048-04-19 00:00:00  2116-03-30 00:00:00  2116-03-30 00:00:00   \n",
              "15  2048-04-19 00:00:00  2116-03-30 00:00:00  2116-03-30 00:00:00   \n",
              "16  2048-04-19 00:00:00  2116-03-30 00:00:00  2116-03-30 00:00:00   \n",
              "17  2048-04-19 00:00:00  2116-03-30 00:00:00  2116-03-30 00:00:00   \n",
              "18  2048-04-19 00:00:00  2116-03-30 00:00:00  2116-03-30 00:00:00   \n",
              "19  2048-04-19 00:00:00  2116-03-30 00:00:00  2116-03-30 00:00:00   \n",
              "\n",
              "                DOD_SSN EXPIRE_FLAG  ICD9_CODE SEQ_NUM  \n",
              "0   2116-03-30 00:00:00           1       5789       1  \n",
              "1   2116-03-30 00:00:00           1       5789       1  \n",
              "2   2116-03-30 00:00:00           1       5789       1  \n",
              "3   2116-03-30 00:00:00           1       5789       1  \n",
              "4   2116-03-30 00:00:00           1       5789       1  \n",
              "5   2116-03-30 00:00:00           1       5789       1  \n",
              "6   2116-03-30 00:00:00           1       5789       1  \n",
              "7   2116-03-30 00:00:00           1       5789       1  \n",
              "8   2116-03-30 00:00:00           1       5789       1  \n",
              "9   2116-03-30 00:00:00           1       5789       1  \n",
              "10  2116-03-30 00:00:00           1       5789       1  \n",
              "11  2116-03-30 00:00:00           1       5789       1  \n",
              "12  2116-03-30 00:00:00           1       5789       1  \n",
              "13  2116-03-30 00:00:00           1       5789       1  \n",
              "14  2116-03-30 00:00:00           1       5789       1  \n",
              "15  2116-03-30 00:00:00           1       5789       1  \n",
              "16  2116-03-30 00:00:00           1       5789       1  \n",
              "17  2116-03-30 00:00:00           1       5789       1  \n",
              "18  2116-03-30 00:00:00           1       5789       1  \n",
              "19  2116-03-30 00:00:00           1       5789       1  \n",
              "\n",
              "[20 rows x 21 columns]"
            ],
            "text/html": [
              "\n",
              "  <div id=\"df-1dffc18b-db15-4188-a613-f40f642f9dd2\">\n",
              "    <div class=\"colab-df-container\">\n",
              "      <div>\n",
              "<style scoped>\n",
              "    .dataframe tbody tr th:only-of-type {\n",
              "        vertical-align: middle;\n",
              "    }\n",
              "\n",
              "    .dataframe tbody tr th {\n",
              "        vertical-align: top;\n",
              "    }\n",
              "\n",
              "    .dataframe thead th {\n",
              "        text-align: right;\n",
              "    }\n",
              "</style>\n",
              "<table border=\"1\" class=\"dataframe\">\n",
              "  <thead>\n",
              "    <tr style=\"text-align: right;\">\n",
              "      <th></th>\n",
              "      <th>ROW_ID</th>\n",
              "      <th>SUBJECT_ID</th>\n",
              "      <th>HADM_ID</th>\n",
              "      <th>CHARTDATE</th>\n",
              "      <th>CHARTTIME</th>\n",
              "      <th>STORETIME</th>\n",
              "      <th>CATEGORY</th>\n",
              "      <th>DESCRIPTION_x</th>\n",
              "      <th>CGID</th>\n",
              "      <th>ISERROR</th>\n",
              "      <th>...</th>\n",
              "      <th>LABEL</th>\n",
              "      <th>DESCRIPTION_y</th>\n",
              "      <th>GENDER</th>\n",
              "      <th>DOB</th>\n",
              "      <th>DOD</th>\n",
              "      <th>DOD_HOSP</th>\n",
              "      <th>DOD_SSN</th>\n",
              "      <th>EXPIRE_FLAG</th>\n",
              "      <th>ICD9_CODE</th>\n",
              "      <th>SEQ_NUM</th>\n",
              "    </tr>\n",
              "  </thead>\n",
              "  <tbody>\n",
              "    <tr>\n",
              "      <th>0</th>\n",
              "      <td>316234</td>\n",
              "      <td>29075</td>\n",
              "      <td>179159.0</td>\n",
              "      <td>2116-02-07</td>\n",
              "      <td>2116-02-07 14:08:00</td>\n",
              "      <td>2116-02-07 14:08:20</td>\n",
              "      <td>Nursing</td>\n",
              "      <td>Nursing Transfer Note</td>\n",
              "      <td>20808.0</td>\n",
              "      <td>NaN</td>\n",
              "      <td>...</td>\n",
              "      <td>RN</td>\n",
              "      <td>RN</td>\n",
              "      <td>M</td>\n",
              "      <td>2048-04-19 00:00:00</td>\n",
              "      <td>2116-03-30 00:00:00</td>\n",
              "      <td>2116-03-30 00:00:00</td>\n",
              "      <td>2116-03-30 00:00:00</td>\n",
              "      <td>1</td>\n",
              "      <td>5789</td>\n",
              "      <td>1</td>\n",
              "    </tr>\n",
              "    <tr>\n",
              "      <th>1</th>\n",
              "      <td>316140</td>\n",
              "      <td>29075</td>\n",
              "      <td>179159.0</td>\n",
              "      <td>2116-02-06</td>\n",
              "      <td>2116-02-06 05:06:00</td>\n",
              "      <td>2116-02-06 08:36:56</td>\n",
              "      <td>Nursing</td>\n",
              "      <td>Nursing Transfer Note</td>\n",
              "      <td>20808.0</td>\n",
              "      <td>1.0</td>\n",
              "      <td>...</td>\n",
              "      <td>RN</td>\n",
              "      <td>RN</td>\n",
              "      <td>M</td>\n",
              "      <td>2048-04-19 00:00:00</td>\n",
              "      <td>2116-03-30 00:00:00</td>\n",
              "      <td>2116-03-30 00:00:00</td>\n",
              "      <td>2116-03-30 00:00:00</td>\n",
              "      <td>1</td>\n",
              "      <td>5789</td>\n",
              "      <td>1</td>\n",
              "    </tr>\n",
              "    <tr>\n",
              "      <th>2</th>\n",
              "      <td>316249</td>\n",
              "      <td>29075</td>\n",
              "      <td>179159.0</td>\n",
              "      <td>2116-02-07</td>\n",
              "      <td>2116-02-07 17:21:00</td>\n",
              "      <td>2116-02-07 17:21:31</td>\n",
              "      <td>Nursing</td>\n",
              "      <td>Nursing Progress Note</td>\n",
              "      <td>20808.0</td>\n",
              "      <td>NaN</td>\n",
              "      <td>...</td>\n",
              "      <td>RN</td>\n",
              "      <td>RN</td>\n",
              "      <td>M</td>\n",
              "      <td>2048-04-19 00:00:00</td>\n",
              "      <td>2116-03-30 00:00:00</td>\n",
              "      <td>2116-03-30 00:00:00</td>\n",
              "      <td>2116-03-30 00:00:00</td>\n",
              "      <td>1</td>\n",
              "      <td>5789</td>\n",
              "      <td>1</td>\n",
              "    </tr>\n",
              "    <tr>\n",
              "      <th>3</th>\n",
              "      <td>316183</td>\n",
              "      <td>29075</td>\n",
              "      <td>179159.0</td>\n",
              "      <td>2116-02-06</td>\n",
              "      <td>2116-02-06 16:52:00</td>\n",
              "      <td>2116-02-06 16:52:53</td>\n",
              "      <td>Nursing</td>\n",
              "      <td>Nursing Progress Note</td>\n",
              "      <td>20808.0</td>\n",
              "      <td>NaN</td>\n",
              "      <td>...</td>\n",
              "      <td>RN</td>\n",
              "      <td>RN</td>\n",
              "      <td>M</td>\n",
              "      <td>2048-04-19 00:00:00</td>\n",
              "      <td>2116-03-30 00:00:00</td>\n",
              "      <td>2116-03-30 00:00:00</td>\n",
              "      <td>2116-03-30 00:00:00</td>\n",
              "      <td>1</td>\n",
              "      <td>5789</td>\n",
              "      <td>1</td>\n",
              "    </tr>\n",
              "    <tr>\n",
              "      <th>4</th>\n",
              "      <td>316238</td>\n",
              "      <td>29075</td>\n",
              "      <td>179159.0</td>\n",
              "      <td>2116-02-07</td>\n",
              "      <td>2116-02-07 15:37:00</td>\n",
              "      <td>2116-02-07 15:37:10</td>\n",
              "      <td>Physician</td>\n",
              "      <td>Physician Resident Progress Note</td>\n",
              "      <td>21203.0</td>\n",
              "      <td>NaN</td>\n",
              "      <td>...</td>\n",
              "      <td>MD</td>\n",
              "      <td>Resident/Fellow/PA/NP</td>\n",
              "      <td>M</td>\n",
              "      <td>2048-04-19 00:00:00</td>\n",
              "      <td>2116-03-30 00:00:00</td>\n",
              "      <td>2116-03-30 00:00:00</td>\n",
              "      <td>2116-03-30 00:00:00</td>\n",
              "      <td>1</td>\n",
              "      <td>5789</td>\n",
              "      <td>1</td>\n",
              "    </tr>\n",
              "    <tr>\n",
              "      <th>5</th>\n",
              "      <td>316241</td>\n",
              "      <td>29075</td>\n",
              "      <td>179159.0</td>\n",
              "      <td>2116-02-07</td>\n",
              "      <td>2116-02-07 15:37:00</td>\n",
              "      <td>2116-02-07 16:05:26</td>\n",
              "      <td>Physician</td>\n",
              "      <td>Physician Resident Progress Note</td>\n",
              "      <td>21203.0</td>\n",
              "      <td>NaN</td>\n",
              "      <td>...</td>\n",
              "      <td>MD</td>\n",
              "      <td>Resident/Fellow/PA/NP</td>\n",
              "      <td>M</td>\n",
              "      <td>2048-04-19 00:00:00</td>\n",
              "      <td>2116-03-30 00:00:00</td>\n",
              "      <td>2116-03-30 00:00:00</td>\n",
              "      <td>2116-03-30 00:00:00</td>\n",
              "      <td>1</td>\n",
              "      <td>5789</td>\n",
              "      <td>1</td>\n",
              "    </tr>\n",
              "    <tr>\n",
              "      <th>6</th>\n",
              "      <td>316242</td>\n",
              "      <td>29075</td>\n",
              "      <td>179159.0</td>\n",
              "      <td>2116-02-07</td>\n",
              "      <td>2116-02-07 15:37:00</td>\n",
              "      <td>2116-02-07 16:08:06</td>\n",
              "      <td>Physician</td>\n",
              "      <td>Physician Resident Progress Note</td>\n",
              "      <td>21203.0</td>\n",
              "      <td>NaN</td>\n",
              "      <td>...</td>\n",
              "      <td>MD</td>\n",
              "      <td>Resident/Fellow/PA/NP</td>\n",
              "      <td>M</td>\n",
              "      <td>2048-04-19 00:00:00</td>\n",
              "      <td>2116-03-30 00:00:00</td>\n",
              "      <td>2116-03-30 00:00:00</td>\n",
              "      <td>2116-03-30 00:00:00</td>\n",
              "      <td>1</td>\n",
              "      <td>5789</td>\n",
              "      <td>1</td>\n",
              "    </tr>\n",
              "    <tr>\n",
              "      <th>7</th>\n",
              "      <td>316124</td>\n",
              "      <td>29075</td>\n",
              "      <td>179159.0</td>\n",
              "      <td>2116-02-06</td>\n",
              "      <td>2116-02-06 05:03:00</td>\n",
              "      <td>2116-02-06 06:58:35</td>\n",
              "      <td>Nursing</td>\n",
              "      <td>Nursing Progress Note</td>\n",
              "      <td>14419.0</td>\n",
              "      <td>NaN</td>\n",
              "      <td>...</td>\n",
              "      <td>RN</td>\n",
              "      <td>RN</td>\n",
              "      <td>M</td>\n",
              "      <td>2048-04-19 00:00:00</td>\n",
              "      <td>2116-03-30 00:00:00</td>\n",
              "      <td>2116-03-30 00:00:00</td>\n",
              "      <td>2116-03-30 00:00:00</td>\n",
              "      <td>1</td>\n",
              "      <td>5789</td>\n",
              "      <td>1</td>\n",
              "    </tr>\n",
              "    <tr>\n",
              "      <th>8</th>\n",
              "      <td>316113</td>\n",
              "      <td>29075</td>\n",
              "      <td>179159.0</td>\n",
              "      <td>2116-02-06</td>\n",
              "      <td>2116-02-06 05:03:00</td>\n",
              "      <td>2116-02-06 05:03:29</td>\n",
              "      <td>Nursing</td>\n",
              "      <td>Nursing Progress Note</td>\n",
              "      <td>14419.0</td>\n",
              "      <td>NaN</td>\n",
              "      <td>...</td>\n",
              "      <td>RN</td>\n",
              "      <td>RN</td>\n",
              "      <td>M</td>\n",
              "      <td>2048-04-19 00:00:00</td>\n",
              "      <td>2116-03-30 00:00:00</td>\n",
              "      <td>2116-03-30 00:00:00</td>\n",
              "      <td>2116-03-30 00:00:00</td>\n",
              "      <td>1</td>\n",
              "      <td>5789</td>\n",
              "      <td>1</td>\n",
              "    </tr>\n",
              "    <tr>\n",
              "      <th>9</th>\n",
              "      <td>316114</td>\n",
              "      <td>29075</td>\n",
              "      <td>179159.0</td>\n",
              "      <td>2116-02-06</td>\n",
              "      <td>2116-02-06 05:03:00</td>\n",
              "      <td>2116-02-06 05:05:39</td>\n",
              "      <td>Nursing</td>\n",
              "      <td>Nursing Progress Note</td>\n",
              "      <td>14419.0</td>\n",
              "      <td>NaN</td>\n",
              "      <td>...</td>\n",
              "      <td>RN</td>\n",
              "      <td>RN</td>\n",
              "      <td>M</td>\n",
              "      <td>2048-04-19 00:00:00</td>\n",
              "      <td>2116-03-30 00:00:00</td>\n",
              "      <td>2116-03-30 00:00:00</td>\n",
              "      <td>2116-03-30 00:00:00</td>\n",
              "      <td>1</td>\n",
              "      <td>5789</td>\n",
              "      <td>1</td>\n",
              "    </tr>\n",
              "    <tr>\n",
              "      <th>10</th>\n",
              "      <td>316115</td>\n",
              "      <td>29075</td>\n",
              "      <td>179159.0</td>\n",
              "      <td>2116-02-06</td>\n",
              "      <td>2116-02-06 05:06:00</td>\n",
              "      <td>2116-02-06 05:06:11</td>\n",
              "      <td>Nursing</td>\n",
              "      <td>Nursing Transfer Note</td>\n",
              "      <td>14419.0</td>\n",
              "      <td>NaN</td>\n",
              "      <td>...</td>\n",
              "      <td>RN</td>\n",
              "      <td>RN</td>\n",
              "      <td>M</td>\n",
              "      <td>2048-04-19 00:00:00</td>\n",
              "      <td>2116-03-30 00:00:00</td>\n",
              "      <td>2116-03-30 00:00:00</td>\n",
              "      <td>2116-03-30 00:00:00</td>\n",
              "      <td>1</td>\n",
              "      <td>5789</td>\n",
              "      <td>1</td>\n",
              "    </tr>\n",
              "    <tr>\n",
              "      <th>11</th>\n",
              "      <td>316203</td>\n",
              "      <td>29075</td>\n",
              "      <td>179159.0</td>\n",
              "      <td>2116-02-07</td>\n",
              "      <td>2116-02-07 04:12:00</td>\n",
              "      <td>2116-02-07 04:12:08</td>\n",
              "      <td>Nursing</td>\n",
              "      <td>Nursing Progress Note</td>\n",
              "      <td>18469.0</td>\n",
              "      <td>NaN</td>\n",
              "      <td>...</td>\n",
              "      <td>RN</td>\n",
              "      <td>RN</td>\n",
              "      <td>M</td>\n",
              "      <td>2048-04-19 00:00:00</td>\n",
              "      <td>2116-03-30 00:00:00</td>\n",
              "      <td>2116-03-30 00:00:00</td>\n",
              "      <td>2116-03-30 00:00:00</td>\n",
              "      <td>1</td>\n",
              "      <td>5789</td>\n",
              "      <td>1</td>\n",
              "    </tr>\n",
              "    <tr>\n",
              "      <th>12</th>\n",
              "      <td>316205</td>\n",
              "      <td>29075</td>\n",
              "      <td>179159.0</td>\n",
              "      <td>2116-02-07</td>\n",
              "      <td>2116-02-07 04:12:00</td>\n",
              "      <td>2116-02-07 06:08:11</td>\n",
              "      <td>Nursing</td>\n",
              "      <td>Nursing Progress Note</td>\n",
              "      <td>18469.0</td>\n",
              "      <td>NaN</td>\n",
              "      <td>...</td>\n",
              "      <td>RN</td>\n",
              "      <td>RN</td>\n",
              "      <td>M</td>\n",
              "      <td>2048-04-19 00:00:00</td>\n",
              "      <td>2116-03-30 00:00:00</td>\n",
              "      <td>2116-03-30 00:00:00</td>\n",
              "      <td>2116-03-30 00:00:00</td>\n",
              "      <td>1</td>\n",
              "      <td>5789</td>\n",
              "      <td>1</td>\n",
              "    </tr>\n",
              "    <tr>\n",
              "      <th>13</th>\n",
              "      <td>316259</td>\n",
              "      <td>29075</td>\n",
              "      <td>179159.0</td>\n",
              "      <td>2116-02-07</td>\n",
              "      <td>2116-02-07 14:08:00</td>\n",
              "      <td>2116-02-07 21:46:28</td>\n",
              "      <td>Nursing</td>\n",
              "      <td>Nursing Transfer Note</td>\n",
              "      <td>18469.0</td>\n",
              "      <td>NaN</td>\n",
              "      <td>...</td>\n",
              "      <td>RN</td>\n",
              "      <td>RN</td>\n",
              "      <td>M</td>\n",
              "      <td>2048-04-19 00:00:00</td>\n",
              "      <td>2116-03-30 00:00:00</td>\n",
              "      <td>2116-03-30 00:00:00</td>\n",
              "      <td>2116-03-30 00:00:00</td>\n",
              "      <td>1</td>\n",
              "      <td>5789</td>\n",
              "      <td>1</td>\n",
              "    </tr>\n",
              "    <tr>\n",
              "      <th>14</th>\n",
              "      <td>316260</td>\n",
              "      <td>29075</td>\n",
              "      <td>179159.0</td>\n",
              "      <td>2116-02-07</td>\n",
              "      <td>2116-02-07 22:04:00</td>\n",
              "      <td>2116-02-07 22:04:39</td>\n",
              "      <td>Nursing</td>\n",
              "      <td>Nursing Transfer Note</td>\n",
              "      <td>18469.0</td>\n",
              "      <td>NaN</td>\n",
              "      <td>...</td>\n",
              "      <td>RN</td>\n",
              "      <td>RN</td>\n",
              "      <td>M</td>\n",
              "      <td>2048-04-19 00:00:00</td>\n",
              "      <td>2116-03-30 00:00:00</td>\n",
              "      <td>2116-03-30 00:00:00</td>\n",
              "      <td>2116-03-30 00:00:00</td>\n",
              "      <td>1</td>\n",
              "      <td>5789</td>\n",
              "      <td>1</td>\n",
              "    </tr>\n",
              "    <tr>\n",
              "      <th>15</th>\n",
              "      <td>316106</td>\n",
              "      <td>29075</td>\n",
              "      <td>179159.0</td>\n",
              "      <td>2116-02-06</td>\n",
              "      <td>2116-02-06 00:25:00</td>\n",
              "      <td>2116-02-06 02:40:50</td>\n",
              "      <td>Physician</td>\n",
              "      <td>Physician Resident Admission Note</td>\n",
              "      <td>16198.0</td>\n",
              "      <td>NaN</td>\n",
              "      <td>...</td>\n",
              "      <td>MDs</td>\n",
              "      <td>Resident/Fellow/PA/NP</td>\n",
              "      <td>M</td>\n",
              "      <td>2048-04-19 00:00:00</td>\n",
              "      <td>2116-03-30 00:00:00</td>\n",
              "      <td>2116-03-30 00:00:00</td>\n",
              "      <td>2116-03-30 00:00:00</td>\n",
              "      <td>1</td>\n",
              "      <td>5789</td>\n",
              "      <td>1</td>\n",
              "    </tr>\n",
              "    <tr>\n",
              "      <th>16</th>\n",
              "      <td>316107</td>\n",
              "      <td>29075</td>\n",
              "      <td>179159.0</td>\n",
              "      <td>2116-02-06</td>\n",
              "      <td>2116-02-06 00:25:00</td>\n",
              "      <td>2116-02-06 02:50:40</td>\n",
              "      <td>Physician</td>\n",
              "      <td>Physician Resident Admission Note</td>\n",
              "      <td>16198.0</td>\n",
              "      <td>NaN</td>\n",
              "      <td>...</td>\n",
              "      <td>MDs</td>\n",
              "      <td>Resident/Fellow/PA/NP</td>\n",
              "      <td>M</td>\n",
              "      <td>2048-04-19 00:00:00</td>\n",
              "      <td>2116-03-30 00:00:00</td>\n",
              "      <td>2116-03-30 00:00:00</td>\n",
              "      <td>2116-03-30 00:00:00</td>\n",
              "      <td>1</td>\n",
              "      <td>5789</td>\n",
              "      <td>1</td>\n",
              "    </tr>\n",
              "    <tr>\n",
              "      <th>17</th>\n",
              "      <td>316102</td>\n",
              "      <td>29075</td>\n",
              "      <td>179159.0</td>\n",
              "      <td>2116-02-06</td>\n",
              "      <td>2116-02-06 00:25:00</td>\n",
              "      <td>2116-02-06 00:25:44</td>\n",
              "      <td>Physician</td>\n",
              "      <td>Physician Resident Admission Note</td>\n",
              "      <td>16198.0</td>\n",
              "      <td>NaN</td>\n",
              "      <td>...</td>\n",
              "      <td>MDs</td>\n",
              "      <td>Resident/Fellow/PA/NP</td>\n",
              "      <td>M</td>\n",
              "      <td>2048-04-19 00:00:00</td>\n",
              "      <td>2116-03-30 00:00:00</td>\n",
              "      <td>2116-03-30 00:00:00</td>\n",
              "      <td>2116-03-30 00:00:00</td>\n",
              "      <td>1</td>\n",
              "      <td>5789</td>\n",
              "      <td>1</td>\n",
              "    </tr>\n",
              "    <tr>\n",
              "      <th>18</th>\n",
              "      <td>316104</td>\n",
              "      <td>29075</td>\n",
              "      <td>179159.0</td>\n",
              "      <td>2116-02-06</td>\n",
              "      <td>2116-02-06 00:25:00</td>\n",
              "      <td>2116-02-06 02:06:40</td>\n",
              "      <td>Physician</td>\n",
              "      <td>Physician Resident Admission Note</td>\n",
              "      <td>16198.0</td>\n",
              "      <td>NaN</td>\n",
              "      <td>...</td>\n",
              "      <td>MDs</td>\n",
              "      <td>Resident/Fellow/PA/NP</td>\n",
              "      <td>M</td>\n",
              "      <td>2048-04-19 00:00:00</td>\n",
              "      <td>2116-03-30 00:00:00</td>\n",
              "      <td>2116-03-30 00:00:00</td>\n",
              "      <td>2116-03-30 00:00:00</td>\n",
              "      <td>1</td>\n",
              "      <td>5789</td>\n",
              "      <td>1</td>\n",
              "    </tr>\n",
              "    <tr>\n",
              "      <th>19</th>\n",
              "      <td>316108</td>\n",
              "      <td>29075</td>\n",
              "      <td>179159.0</td>\n",
              "      <td>2116-02-06</td>\n",
              "      <td>2116-02-06 03:50:00</td>\n",
              "      <td>2116-02-06 03:50:46</td>\n",
              "      <td>Physician</td>\n",
              "      <td>Physician Attending Admission Note</td>\n",
              "      <td>19777.0</td>\n",
              "      <td>NaN</td>\n",
              "      <td>...</td>\n",
              "      <td>MD</td>\n",
              "      <td>Attending</td>\n",
              "      <td>M</td>\n",
              "      <td>2048-04-19 00:00:00</td>\n",
              "      <td>2116-03-30 00:00:00</td>\n",
              "      <td>2116-03-30 00:00:00</td>\n",
              "      <td>2116-03-30 00:00:00</td>\n",
              "      <td>1</td>\n",
              "      <td>5789</td>\n",
              "      <td>1</td>\n",
              "    </tr>\n",
              "  </tbody>\n",
              "</table>\n",
              "<p>20 rows × 21 columns</p>\n",
              "</div>\n",
              "      <button class=\"colab-df-convert\" onclick=\"convertToInteractive('df-1dffc18b-db15-4188-a613-f40f642f9dd2')\"\n",
              "              title=\"Convert this dataframe to an interactive table.\"\n",
              "              style=\"display:none;\">\n",
              "        \n",
              "  <svg xmlns=\"http://www.w3.org/2000/svg\" height=\"24px\"viewBox=\"0 0 24 24\"\n",
              "       width=\"24px\">\n",
              "    <path d=\"M0 0h24v24H0V0z\" fill=\"none\"/>\n",
              "    <path d=\"M18.56 5.44l.94 2.06.94-2.06 2.06-.94-2.06-.94-.94-2.06-.94 2.06-2.06.94zm-11 1L8.5 8.5l.94-2.06 2.06-.94-2.06-.94L8.5 2.5l-.94 2.06-2.06.94zm10 10l.94 2.06.94-2.06 2.06-.94-2.06-.94-.94-2.06-.94 2.06-2.06.94z\"/><path d=\"M17.41 7.96l-1.37-1.37c-.4-.4-.92-.59-1.43-.59-.52 0-1.04.2-1.43.59L10.3 9.45l-7.72 7.72c-.78.78-.78 2.05 0 2.83L4 21.41c.39.39.9.59 1.41.59.51 0 1.02-.2 1.41-.59l7.78-7.78 2.81-2.81c.8-.78.8-2.07 0-2.86zM5.41 20L4 18.59l7.72-7.72 1.47 1.35L5.41 20z\"/>\n",
              "  </svg>\n",
              "      </button>\n",
              "      \n",
              "  <style>\n",
              "    .colab-df-container {\n",
              "      display:flex;\n",
              "      flex-wrap:wrap;\n",
              "      gap: 12px;\n",
              "    }\n",
              "\n",
              "    .colab-df-convert {\n",
              "      background-color: #E8F0FE;\n",
              "      border: none;\n",
              "      border-radius: 50%;\n",
              "      cursor: pointer;\n",
              "      display: none;\n",
              "      fill: #1967D2;\n",
              "      height: 32px;\n",
              "      padding: 0 0 0 0;\n",
              "      width: 32px;\n",
              "    }\n",
              "\n",
              "    .colab-df-convert:hover {\n",
              "      background-color: #E2EBFA;\n",
              "      box-shadow: 0px 1px 2px rgba(60, 64, 67, 0.3), 0px 1px 3px 1px rgba(60, 64, 67, 0.15);\n",
              "      fill: #174EA6;\n",
              "    }\n",
              "\n",
              "    [theme=dark] .colab-df-convert {\n",
              "      background-color: #3B4455;\n",
              "      fill: #D2E3FC;\n",
              "    }\n",
              "\n",
              "    [theme=dark] .colab-df-convert:hover {\n",
              "      background-color: #434B5C;\n",
              "      box-shadow: 0px 1px 3px 1px rgba(0, 0, 0, 0.15);\n",
              "      filter: drop-shadow(0px 1px 2px rgba(0, 0, 0, 0.3));\n",
              "      fill: #FFFFFF;\n",
              "    }\n",
              "  </style>\n",
              "\n",
              "      <script>\n",
              "        const buttonEl =\n",
              "          document.querySelector('#df-1dffc18b-db15-4188-a613-f40f642f9dd2 button.colab-df-convert');\n",
              "        buttonEl.style.display =\n",
              "          google.colab.kernel.accessAllowed ? 'block' : 'none';\n",
              "\n",
              "        async function convertToInteractive(key) {\n",
              "          const element = document.querySelector('#df-1dffc18b-db15-4188-a613-f40f642f9dd2');\n",
              "          const dataTable =\n",
              "            await google.colab.kernel.invokeFunction('convertToInteractive',\n",
              "                                                     [key], {});\n",
              "          if (!dataTable) return;\n",
              "\n",
              "          const docLinkHtml = 'Like what you see? Visit the ' +\n",
              "            '<a target=\"_blank\" href=https://colab.research.google.com/notebooks/data_table.ipynb>data table notebook</a>'\n",
              "            + ' to learn more about interactive tables.';\n",
              "          element.innerHTML = '';\n",
              "          dataTable['output_type'] = 'display_data';\n",
              "          await google.colab.output.renderOutput(dataTable, element);\n",
              "          const docLink = document.createElement('div');\n",
              "          docLink.innerHTML = docLinkHtml;\n",
              "          element.appendChild(docLink);\n",
              "        }\n",
              "      </script>\n",
              "    </div>\n",
              "  </div>\n",
              "  "
            ]
          },
          "metadata": {},
          "execution_count": 18
        }
      ]
    },
    {
      "cell_type": "code",
      "source": [
        "grouping = df_notes_TSICU.groupby(['CGID','SUBJECT_ID']).size()\n",
        "df_notes_TSICU['num_of_notes'] = df_notes_TSICU.set_index(['CGID','SUBJECT_ID']).index.map(grouping)\n",
        "df_notes_TSICU_filtered = df_notes_TSICU[df_notes_TSICU['num_of_notes'] > 1]\n",
        "df_notes_TSICU_filtered.info()"
      ],
      "metadata": {
        "id": "hHCpzCETihOj",
        "colab": {
          "base_uri": "https://localhost:8080/"
        },
        "outputId": "82f6c32f-0f24-4f75-ce69-badf44d918e5"
      },
      "execution_count": null,
      "outputs": [
        {
          "output_type": "stream",
          "name": "stdout",
          "text": [
            "<class 'pandas.core.frame.DataFrame'>\n",
            "Int64Index: 999592 entries, 0 to 1240437\n",
            "Data columns (total 22 columns):\n",
            " #   Column         Non-Null Count   Dtype  \n",
            "---  ------         --------------   -----  \n",
            " 0   ROW_ID         999592 non-null  int64  \n",
            " 1   SUBJECT_ID     999592 non-null  int64  \n",
            " 2   HADM_ID        999592 non-null  float64\n",
            " 3   CHARTDATE      999592 non-null  object \n",
            " 4   CHARTTIME      999592 non-null  object \n",
            " 5   STORETIME      999592 non-null  object \n",
            " 6   CATEGORY       999592 non-null  object \n",
            " 7   DESCRIPTION_x  999592 non-null  object \n",
            " 8   CGID           999592 non-null  float64\n",
            " 9   ISERROR        860 non-null     float64\n",
            " 10  TEXT           999592 non-null  object \n",
            " 11  LABEL          967855 non-null  object \n",
            " 12  DESCRIPTION_y  690997 non-null  object \n",
            " 13  GENDER         999592 non-null  object \n",
            " 14  DOB            999592 non-null  object \n",
            " 15  DOD            392445 non-null  object \n",
            " 16  DOD_HOSP       276056 non-null  object \n",
            " 17  DOD_SSN        328635 non-null  object \n",
            " 18  EXPIRE_FLAG    999592 non-null  int64  \n",
            " 19  ICD9_CODE      999592 non-null  object \n",
            " 20  SEQ_NUM        999592 non-null  int64  \n",
            " 21  num_of_notes   999592 non-null  int64  \n",
            "dtypes: float64(3), int64(5), object(14)\n",
            "memory usage: 175.4+ MB\n"
          ]
        }
      ]
    },
    {
      "cell_type": "code",
      "source": [
        "df_notes_TSICU_filtered.head(10)"
      ],
      "metadata": {
        "id": "eYAfKxm-4vN1",
        "colab": {
          "base_uri": "https://localhost:8080/",
          "height": 610
        },
        "outputId": "c0f427bd-16aa-44dd-ba20-1bda6901d9fd"
      },
      "execution_count": null,
      "outputs": [
        {
          "output_type": "execute_result",
          "data": {
            "text/plain": [
              "   ROW_ID  SUBJECT_ID   HADM_ID   CHARTDATE            CHARTTIME  \\\n",
              "0  316234       29075  179159.0  2116-02-07  2116-02-07 14:08:00   \n",
              "1  316140       29075  179159.0  2116-02-06  2116-02-06 05:06:00   \n",
              "2  316249       29075  179159.0  2116-02-07  2116-02-07 17:21:00   \n",
              "3  316183       29075  179159.0  2116-02-06  2116-02-06 16:52:00   \n",
              "4  316238       29075  179159.0  2116-02-07  2116-02-07 15:37:00   \n",
              "5  316241       29075  179159.0  2116-02-07  2116-02-07 15:37:00   \n",
              "6  316242       29075  179159.0  2116-02-07  2116-02-07 15:37:00   \n",
              "7  316124       29075  179159.0  2116-02-06  2116-02-06 05:03:00   \n",
              "8  316113       29075  179159.0  2116-02-06  2116-02-06 05:03:00   \n",
              "9  316114       29075  179159.0  2116-02-06  2116-02-06 05:03:00   \n",
              "\n",
              "             STORETIME    CATEGORY                     DESCRIPTION_x     CGID  \\\n",
              "0  2116-02-07 14:08:20     Nursing             Nursing Transfer Note  20808.0   \n",
              "1  2116-02-06 08:36:56     Nursing             Nursing Transfer Note  20808.0   \n",
              "2  2116-02-07 17:21:31     Nursing             Nursing Progress Note  20808.0   \n",
              "3  2116-02-06 16:52:53     Nursing             Nursing Progress Note  20808.0   \n",
              "4  2116-02-07 15:37:10  Physician   Physician Resident Progress Note  21203.0   \n",
              "5  2116-02-07 16:05:26  Physician   Physician Resident Progress Note  21203.0   \n",
              "6  2116-02-07 16:08:06  Physician   Physician Resident Progress Note  21203.0   \n",
              "7  2116-02-06 06:58:35     Nursing             Nursing Progress Note  14419.0   \n",
              "8  2116-02-06 05:03:29     Nursing             Nursing Progress Note  14419.0   \n",
              "9  2116-02-06 05:05:39     Nursing             Nursing Progress Note  14419.0   \n",
              "\n",
              "   ISERROR  ...          DESCRIPTION_y GENDER                  DOB  \\\n",
              "0      NaN  ...                     RN      M  2048-04-19 00:00:00   \n",
              "1      1.0  ...                     RN      M  2048-04-19 00:00:00   \n",
              "2      NaN  ...                     RN      M  2048-04-19 00:00:00   \n",
              "3      NaN  ...                     RN      M  2048-04-19 00:00:00   \n",
              "4      NaN  ...  Resident/Fellow/PA/NP      M  2048-04-19 00:00:00   \n",
              "5      NaN  ...  Resident/Fellow/PA/NP      M  2048-04-19 00:00:00   \n",
              "6      NaN  ...  Resident/Fellow/PA/NP      M  2048-04-19 00:00:00   \n",
              "7      NaN  ...                     RN      M  2048-04-19 00:00:00   \n",
              "8      NaN  ...                     RN      M  2048-04-19 00:00:00   \n",
              "9      NaN  ...                     RN      M  2048-04-19 00:00:00   \n",
              "\n",
              "                   DOD             DOD_HOSP              DOD_SSN EXPIRE_FLAG  \\\n",
              "0  2116-03-30 00:00:00  2116-03-30 00:00:00  2116-03-30 00:00:00           1   \n",
              "1  2116-03-30 00:00:00  2116-03-30 00:00:00  2116-03-30 00:00:00           1   \n",
              "2  2116-03-30 00:00:00  2116-03-30 00:00:00  2116-03-30 00:00:00           1   \n",
              "3  2116-03-30 00:00:00  2116-03-30 00:00:00  2116-03-30 00:00:00           1   \n",
              "4  2116-03-30 00:00:00  2116-03-30 00:00:00  2116-03-30 00:00:00           1   \n",
              "5  2116-03-30 00:00:00  2116-03-30 00:00:00  2116-03-30 00:00:00           1   \n",
              "6  2116-03-30 00:00:00  2116-03-30 00:00:00  2116-03-30 00:00:00           1   \n",
              "7  2116-03-30 00:00:00  2116-03-30 00:00:00  2116-03-30 00:00:00           1   \n",
              "8  2116-03-30 00:00:00  2116-03-30 00:00:00  2116-03-30 00:00:00           1   \n",
              "9  2116-03-30 00:00:00  2116-03-30 00:00:00  2116-03-30 00:00:00           1   \n",
              "\n",
              "  ICD9_CODE  SEQ_NUM num_of_notes  \n",
              "0      5789        1            4  \n",
              "1      5789        1            4  \n",
              "2      5789        1            4  \n",
              "3      5789        1            4  \n",
              "4      5789        1            3  \n",
              "5      5789        1            3  \n",
              "6      5789        1            3  \n",
              "7      5789        1            4  \n",
              "8      5789        1            4  \n",
              "9      5789        1            4  \n",
              "\n",
              "[10 rows x 22 columns]"
            ],
            "text/html": [
              "\n",
              "  <div id=\"df-43bbb2c1-bc9d-4aff-9aaa-c6e81d149a3e\">\n",
              "    <div class=\"colab-df-container\">\n",
              "      <div>\n",
              "<style scoped>\n",
              "    .dataframe tbody tr th:only-of-type {\n",
              "        vertical-align: middle;\n",
              "    }\n",
              "\n",
              "    .dataframe tbody tr th {\n",
              "        vertical-align: top;\n",
              "    }\n",
              "\n",
              "    .dataframe thead th {\n",
              "        text-align: right;\n",
              "    }\n",
              "</style>\n",
              "<table border=\"1\" class=\"dataframe\">\n",
              "  <thead>\n",
              "    <tr style=\"text-align: right;\">\n",
              "      <th></th>\n",
              "      <th>ROW_ID</th>\n",
              "      <th>SUBJECT_ID</th>\n",
              "      <th>HADM_ID</th>\n",
              "      <th>CHARTDATE</th>\n",
              "      <th>CHARTTIME</th>\n",
              "      <th>STORETIME</th>\n",
              "      <th>CATEGORY</th>\n",
              "      <th>DESCRIPTION_x</th>\n",
              "      <th>CGID</th>\n",
              "      <th>ISERROR</th>\n",
              "      <th>...</th>\n",
              "      <th>DESCRIPTION_y</th>\n",
              "      <th>GENDER</th>\n",
              "      <th>DOB</th>\n",
              "      <th>DOD</th>\n",
              "      <th>DOD_HOSP</th>\n",
              "      <th>DOD_SSN</th>\n",
              "      <th>EXPIRE_FLAG</th>\n",
              "      <th>ICD9_CODE</th>\n",
              "      <th>SEQ_NUM</th>\n",
              "      <th>num_of_notes</th>\n",
              "    </tr>\n",
              "  </thead>\n",
              "  <tbody>\n",
              "    <tr>\n",
              "      <th>0</th>\n",
              "      <td>316234</td>\n",
              "      <td>29075</td>\n",
              "      <td>179159.0</td>\n",
              "      <td>2116-02-07</td>\n",
              "      <td>2116-02-07 14:08:00</td>\n",
              "      <td>2116-02-07 14:08:20</td>\n",
              "      <td>Nursing</td>\n",
              "      <td>Nursing Transfer Note</td>\n",
              "      <td>20808.0</td>\n",
              "      <td>NaN</td>\n",
              "      <td>...</td>\n",
              "      <td>RN</td>\n",
              "      <td>M</td>\n",
              "      <td>2048-04-19 00:00:00</td>\n",
              "      <td>2116-03-30 00:00:00</td>\n",
              "      <td>2116-03-30 00:00:00</td>\n",
              "      <td>2116-03-30 00:00:00</td>\n",
              "      <td>1</td>\n",
              "      <td>5789</td>\n",
              "      <td>1</td>\n",
              "      <td>4</td>\n",
              "    </tr>\n",
              "    <tr>\n",
              "      <th>1</th>\n",
              "      <td>316140</td>\n",
              "      <td>29075</td>\n",
              "      <td>179159.0</td>\n",
              "      <td>2116-02-06</td>\n",
              "      <td>2116-02-06 05:06:00</td>\n",
              "      <td>2116-02-06 08:36:56</td>\n",
              "      <td>Nursing</td>\n",
              "      <td>Nursing Transfer Note</td>\n",
              "      <td>20808.0</td>\n",
              "      <td>1.0</td>\n",
              "      <td>...</td>\n",
              "      <td>RN</td>\n",
              "      <td>M</td>\n",
              "      <td>2048-04-19 00:00:00</td>\n",
              "      <td>2116-03-30 00:00:00</td>\n",
              "      <td>2116-03-30 00:00:00</td>\n",
              "      <td>2116-03-30 00:00:00</td>\n",
              "      <td>1</td>\n",
              "      <td>5789</td>\n",
              "      <td>1</td>\n",
              "      <td>4</td>\n",
              "    </tr>\n",
              "    <tr>\n",
              "      <th>2</th>\n",
              "      <td>316249</td>\n",
              "      <td>29075</td>\n",
              "      <td>179159.0</td>\n",
              "      <td>2116-02-07</td>\n",
              "      <td>2116-02-07 17:21:00</td>\n",
              "      <td>2116-02-07 17:21:31</td>\n",
              "      <td>Nursing</td>\n",
              "      <td>Nursing Progress Note</td>\n",
              "      <td>20808.0</td>\n",
              "      <td>NaN</td>\n",
              "      <td>...</td>\n",
              "      <td>RN</td>\n",
              "      <td>M</td>\n",
              "      <td>2048-04-19 00:00:00</td>\n",
              "      <td>2116-03-30 00:00:00</td>\n",
              "      <td>2116-03-30 00:00:00</td>\n",
              "      <td>2116-03-30 00:00:00</td>\n",
              "      <td>1</td>\n",
              "      <td>5789</td>\n",
              "      <td>1</td>\n",
              "      <td>4</td>\n",
              "    </tr>\n",
              "    <tr>\n",
              "      <th>3</th>\n",
              "      <td>316183</td>\n",
              "      <td>29075</td>\n",
              "      <td>179159.0</td>\n",
              "      <td>2116-02-06</td>\n",
              "      <td>2116-02-06 16:52:00</td>\n",
              "      <td>2116-02-06 16:52:53</td>\n",
              "      <td>Nursing</td>\n",
              "      <td>Nursing Progress Note</td>\n",
              "      <td>20808.0</td>\n",
              "      <td>NaN</td>\n",
              "      <td>...</td>\n",
              "      <td>RN</td>\n",
              "      <td>M</td>\n",
              "      <td>2048-04-19 00:00:00</td>\n",
              "      <td>2116-03-30 00:00:00</td>\n",
              "      <td>2116-03-30 00:00:00</td>\n",
              "      <td>2116-03-30 00:00:00</td>\n",
              "      <td>1</td>\n",
              "      <td>5789</td>\n",
              "      <td>1</td>\n",
              "      <td>4</td>\n",
              "    </tr>\n",
              "    <tr>\n",
              "      <th>4</th>\n",
              "      <td>316238</td>\n",
              "      <td>29075</td>\n",
              "      <td>179159.0</td>\n",
              "      <td>2116-02-07</td>\n",
              "      <td>2116-02-07 15:37:00</td>\n",
              "      <td>2116-02-07 15:37:10</td>\n",
              "      <td>Physician</td>\n",
              "      <td>Physician Resident Progress Note</td>\n",
              "      <td>21203.0</td>\n",
              "      <td>NaN</td>\n",
              "      <td>...</td>\n",
              "      <td>Resident/Fellow/PA/NP</td>\n",
              "      <td>M</td>\n",
              "      <td>2048-04-19 00:00:00</td>\n",
              "      <td>2116-03-30 00:00:00</td>\n",
              "      <td>2116-03-30 00:00:00</td>\n",
              "      <td>2116-03-30 00:00:00</td>\n",
              "      <td>1</td>\n",
              "      <td>5789</td>\n",
              "      <td>1</td>\n",
              "      <td>3</td>\n",
              "    </tr>\n",
              "    <tr>\n",
              "      <th>5</th>\n",
              "      <td>316241</td>\n",
              "      <td>29075</td>\n",
              "      <td>179159.0</td>\n",
              "      <td>2116-02-07</td>\n",
              "      <td>2116-02-07 15:37:00</td>\n",
              "      <td>2116-02-07 16:05:26</td>\n",
              "      <td>Physician</td>\n",
              "      <td>Physician Resident Progress Note</td>\n",
              "      <td>21203.0</td>\n",
              "      <td>NaN</td>\n",
              "      <td>...</td>\n",
              "      <td>Resident/Fellow/PA/NP</td>\n",
              "      <td>M</td>\n",
              "      <td>2048-04-19 00:00:00</td>\n",
              "      <td>2116-03-30 00:00:00</td>\n",
              "      <td>2116-03-30 00:00:00</td>\n",
              "      <td>2116-03-30 00:00:00</td>\n",
              "      <td>1</td>\n",
              "      <td>5789</td>\n",
              "      <td>1</td>\n",
              "      <td>3</td>\n",
              "    </tr>\n",
              "    <tr>\n",
              "      <th>6</th>\n",
              "      <td>316242</td>\n",
              "      <td>29075</td>\n",
              "      <td>179159.0</td>\n",
              "      <td>2116-02-07</td>\n",
              "      <td>2116-02-07 15:37:00</td>\n",
              "      <td>2116-02-07 16:08:06</td>\n",
              "      <td>Physician</td>\n",
              "      <td>Physician Resident Progress Note</td>\n",
              "      <td>21203.0</td>\n",
              "      <td>NaN</td>\n",
              "      <td>...</td>\n",
              "      <td>Resident/Fellow/PA/NP</td>\n",
              "      <td>M</td>\n",
              "      <td>2048-04-19 00:00:00</td>\n",
              "      <td>2116-03-30 00:00:00</td>\n",
              "      <td>2116-03-30 00:00:00</td>\n",
              "      <td>2116-03-30 00:00:00</td>\n",
              "      <td>1</td>\n",
              "      <td>5789</td>\n",
              "      <td>1</td>\n",
              "      <td>3</td>\n",
              "    </tr>\n",
              "    <tr>\n",
              "      <th>7</th>\n",
              "      <td>316124</td>\n",
              "      <td>29075</td>\n",
              "      <td>179159.0</td>\n",
              "      <td>2116-02-06</td>\n",
              "      <td>2116-02-06 05:03:00</td>\n",
              "      <td>2116-02-06 06:58:35</td>\n",
              "      <td>Nursing</td>\n",
              "      <td>Nursing Progress Note</td>\n",
              "      <td>14419.0</td>\n",
              "      <td>NaN</td>\n",
              "      <td>...</td>\n",
              "      <td>RN</td>\n",
              "      <td>M</td>\n",
              "      <td>2048-04-19 00:00:00</td>\n",
              "      <td>2116-03-30 00:00:00</td>\n",
              "      <td>2116-03-30 00:00:00</td>\n",
              "      <td>2116-03-30 00:00:00</td>\n",
              "      <td>1</td>\n",
              "      <td>5789</td>\n",
              "      <td>1</td>\n",
              "      <td>4</td>\n",
              "    </tr>\n",
              "    <tr>\n",
              "      <th>8</th>\n",
              "      <td>316113</td>\n",
              "      <td>29075</td>\n",
              "      <td>179159.0</td>\n",
              "      <td>2116-02-06</td>\n",
              "      <td>2116-02-06 05:03:00</td>\n",
              "      <td>2116-02-06 05:03:29</td>\n",
              "      <td>Nursing</td>\n",
              "      <td>Nursing Progress Note</td>\n",
              "      <td>14419.0</td>\n",
              "      <td>NaN</td>\n",
              "      <td>...</td>\n",
              "      <td>RN</td>\n",
              "      <td>M</td>\n",
              "      <td>2048-04-19 00:00:00</td>\n",
              "      <td>2116-03-30 00:00:00</td>\n",
              "      <td>2116-03-30 00:00:00</td>\n",
              "      <td>2116-03-30 00:00:00</td>\n",
              "      <td>1</td>\n",
              "      <td>5789</td>\n",
              "      <td>1</td>\n",
              "      <td>4</td>\n",
              "    </tr>\n",
              "    <tr>\n",
              "      <th>9</th>\n",
              "      <td>316114</td>\n",
              "      <td>29075</td>\n",
              "      <td>179159.0</td>\n",
              "      <td>2116-02-06</td>\n",
              "      <td>2116-02-06 05:03:00</td>\n",
              "      <td>2116-02-06 05:05:39</td>\n",
              "      <td>Nursing</td>\n",
              "      <td>Nursing Progress Note</td>\n",
              "      <td>14419.0</td>\n",
              "      <td>NaN</td>\n",
              "      <td>...</td>\n",
              "      <td>RN</td>\n",
              "      <td>M</td>\n",
              "      <td>2048-04-19 00:00:00</td>\n",
              "      <td>2116-03-30 00:00:00</td>\n",
              "      <td>2116-03-30 00:00:00</td>\n",
              "      <td>2116-03-30 00:00:00</td>\n",
              "      <td>1</td>\n",
              "      <td>5789</td>\n",
              "      <td>1</td>\n",
              "      <td>4</td>\n",
              "    </tr>\n",
              "  </tbody>\n",
              "</table>\n",
              "<p>10 rows × 22 columns</p>\n",
              "</div>\n",
              "      <button class=\"colab-df-convert\" onclick=\"convertToInteractive('df-43bbb2c1-bc9d-4aff-9aaa-c6e81d149a3e')\"\n",
              "              title=\"Convert this dataframe to an interactive table.\"\n",
              "              style=\"display:none;\">\n",
              "        \n",
              "  <svg xmlns=\"http://www.w3.org/2000/svg\" height=\"24px\"viewBox=\"0 0 24 24\"\n",
              "       width=\"24px\">\n",
              "    <path d=\"M0 0h24v24H0V0z\" fill=\"none\"/>\n",
              "    <path d=\"M18.56 5.44l.94 2.06.94-2.06 2.06-.94-2.06-.94-.94-2.06-.94 2.06-2.06.94zm-11 1L8.5 8.5l.94-2.06 2.06-.94-2.06-.94L8.5 2.5l-.94 2.06-2.06.94zm10 10l.94 2.06.94-2.06 2.06-.94-2.06-.94-.94-2.06-.94 2.06-2.06.94z\"/><path d=\"M17.41 7.96l-1.37-1.37c-.4-.4-.92-.59-1.43-.59-.52 0-1.04.2-1.43.59L10.3 9.45l-7.72 7.72c-.78.78-.78 2.05 0 2.83L4 21.41c.39.39.9.59 1.41.59.51 0 1.02-.2 1.41-.59l7.78-7.78 2.81-2.81c.8-.78.8-2.07 0-2.86zM5.41 20L4 18.59l7.72-7.72 1.47 1.35L5.41 20z\"/>\n",
              "  </svg>\n",
              "      </button>\n",
              "      \n",
              "  <style>\n",
              "    .colab-df-container {\n",
              "      display:flex;\n",
              "      flex-wrap:wrap;\n",
              "      gap: 12px;\n",
              "    }\n",
              "\n",
              "    .colab-df-convert {\n",
              "      background-color: #E8F0FE;\n",
              "      border: none;\n",
              "      border-radius: 50%;\n",
              "      cursor: pointer;\n",
              "      display: none;\n",
              "      fill: #1967D2;\n",
              "      height: 32px;\n",
              "      padding: 0 0 0 0;\n",
              "      width: 32px;\n",
              "    }\n",
              "\n",
              "    .colab-df-convert:hover {\n",
              "      background-color: #E2EBFA;\n",
              "      box-shadow: 0px 1px 2px rgba(60, 64, 67, 0.3), 0px 1px 3px 1px rgba(60, 64, 67, 0.15);\n",
              "      fill: #174EA6;\n",
              "    }\n",
              "\n",
              "    [theme=dark] .colab-df-convert {\n",
              "      background-color: #3B4455;\n",
              "      fill: #D2E3FC;\n",
              "    }\n",
              "\n",
              "    [theme=dark] .colab-df-convert:hover {\n",
              "      background-color: #434B5C;\n",
              "      box-shadow: 0px 1px 3px 1px rgba(0, 0, 0, 0.15);\n",
              "      filter: drop-shadow(0px 1px 2px rgba(0, 0, 0, 0.3));\n",
              "      fill: #FFFFFF;\n",
              "    }\n",
              "  </style>\n",
              "\n",
              "      <script>\n",
              "        const buttonEl =\n",
              "          document.querySelector('#df-43bbb2c1-bc9d-4aff-9aaa-c6e81d149a3e button.colab-df-convert');\n",
              "        buttonEl.style.display =\n",
              "          google.colab.kernel.accessAllowed ? 'block' : 'none';\n",
              "\n",
              "        async function convertToInteractive(key) {\n",
              "          const element = document.querySelector('#df-43bbb2c1-bc9d-4aff-9aaa-c6e81d149a3e');\n",
              "          const dataTable =\n",
              "            await google.colab.kernel.invokeFunction('convertToInteractive',\n",
              "                                                     [key], {});\n",
              "          if (!dataTable) return;\n",
              "\n",
              "          const docLinkHtml = 'Like what you see? Visit the ' +\n",
              "            '<a target=\"_blank\" href=https://colab.research.google.com/notebooks/data_table.ipynb>data table notebook</a>'\n",
              "            + ' to learn more about interactive tables.';\n",
              "          element.innerHTML = '';\n",
              "          dataTable['output_type'] = 'display_data';\n",
              "          await google.colab.output.renderOutput(dataTable, element);\n",
              "          const docLink = document.createElement('div');\n",
              "          docLink.innerHTML = docLinkHtml;\n",
              "          element.appendChild(docLink);\n",
              "        }\n",
              "      </script>\n",
              "    </div>\n",
              "  </div>\n",
              "  "
            ]
          },
          "metadata": {},
          "execution_count": 20
        }
      ]
    },
    {
      "cell_type": "markdown",
      "source": [
        "Filter by number of notes"
      ],
      "metadata": {
        "id": "h3Ax8uzsUjXG"
      }
    },
    {
      "cell_type": "code",
      "source": [
        "gb_notes = df_notes_TSICU_filtered.groupby(['ICD9_CODE'])\n",
        "num_notes = gb_notes['TEXT'].count()\n",
        "\n",
        "print(f'number of notes: min={num_notes.min()}, max={num_notes.max()}, mean={num_notes.mean()},  median={num_notes.median()}')\n",
        "sns.boxplot(x=num_notes)\n",
        "sns.displot(num_notes[((num_notes>2) & (num_notes<100))])"
      ],
      "metadata": {
        "id": "M1zujhFnCzbO",
        "colab": {
          "base_uri": "https://localhost:8080/",
          "height": 973
        },
        "outputId": "57e15195-d3e2-4dbf-99f8-ac9f96478997"
      },
      "execution_count": null,
      "outputs": [
        {
          "output_type": "stream",
          "name": "stdout",
          "text": [
            "number of notes: min=1, max=122367, mean=454.7734303912648,  median=48.0\n"
          ]
        },
        {
          "output_type": "execute_result",
          "data": {
            "text/plain": [
              "<seaborn.axisgrid.FacetGrid at 0x7f3b749d48b0>"
            ]
          },
          "metadata": {},
          "execution_count": 21
        },
        {
          "output_type": "display_data",
          "data": {
            "text/plain": [
              "<Figure size 640x480 with 1 Axes>"
            ],
            "image/png": "[encoded data removed]"
          },
          "metadata": {}
        },
        {
          "output_type": "display_data",
          "data": {
            "text/plain": [
              "<Figure size 500x500 with 1 Axes>"
            ],
            "image/png": "[encoded data removed]"
          },
          "metadata": {}
        }
      ]
    },
    {
      "cell_type": "code",
      "source": [
        "df_notes_TSICU_filtered.info()"
      ],
      "metadata": {
        "colab": {
          "base_uri": "https://localhost:8080/"
        },
        "id": "utacZLLmUfqf",
        "outputId": "5246f069-3141-4ace-9919-ad39dcd24e14"
      },
      "execution_count": null,
      "outputs": [
        {
          "output_type": "stream",
          "name": "stdout",
          "text": [
            "<class 'pandas.core.frame.DataFrame'>\n",
            "Int64Index: 999592 entries, 0 to 1240437\n",
            "Data columns (total 22 columns):\n",
            " #   Column         Non-Null Count   Dtype  \n",
            "---  ------         --------------   -----  \n",
            " 0   ROW_ID         999592 non-null  int64  \n",
            " 1   SUBJECT_ID     999592 non-null  int64  \n",
            " 2   HADM_ID        999592 non-null  float64\n",
            " 3   CHARTDATE      999592 non-null  object \n",
            " 4   CHARTTIME      999592 non-null  object \n",
            " 5   STORETIME      999592 non-null  object \n",
            " 6   CATEGORY       999592 non-null  object \n",
            " 7   DESCRIPTION_x  999592 non-null  object \n",
            " 8   CGID           999592 non-null  float64\n",
            " 9   ISERROR        860 non-null     float64\n",
            " 10  TEXT           999592 non-null  object \n",
            " 11  LABEL          967855 non-null  object \n",
            " 12  DESCRIPTION_y  690997 non-null  object \n",
            " 13  GENDER         999592 non-null  object \n",
            " 14  DOB            999592 non-null  object \n",
            " 15  DOD            392445 non-null  object \n",
            " 16  DOD_HOSP       276056 non-null  object \n",
            " 17  DOD_SSN        328635 non-null  object \n",
            " 18  EXPIRE_FLAG    999592 non-null  int64  \n",
            " 19  ICD9_CODE      999592 non-null  object \n",
            " 20  SEQ_NUM        999592 non-null  int64  \n",
            " 21  num_of_notes   999592 non-null  int64  \n",
            "dtypes: float64(3), int64(5), object(14)\n",
            "memory usage: 175.4+ MB\n"
          ]
        }
      ]
    },
    {
      "cell_type": "code",
      "source": [
        "icd9_grouping = df_notes_TSICU_filtered.groupby(['ICD9_CODE']).size()\n",
        "df_notes_TSICU_filtered['num_of_conditions'] = df_notes_TSICU_filtered.set_index(['ICD9_CODE']).index.map(icd9_grouping)\n",
        "#df_notes_TSICU_filtered = df_notes_TSICU_filtered[(df_notes_TSICU_filtered['num_of_conditions'] >= 15) & (df_notes_TSICU_filtered['num_of_conditions'] <= 1000)]\n",
        "#df_notes_TSICU_filtered = df_notes_TSICU_filtered[(df_notes_TSICU_filtered['num_of_conditions'] >= 15) & (df_notes_TSICU_filtered['num_of_conditions'] <= 100)]\n",
        "df_notes_TSICU_filtered.info()\n",
        "print(icd9_grouping)"
      ],
      "metadata": {
        "id": "VQtS_ZiRGeEF",
        "colab": {
          "base_uri": "https://localhost:8080/"
        },
        "outputId": "33db9eef-fc2c-4536-a154-f2b316985559"
      },
      "execution_count": null,
      "outputs": [
        {
          "output_type": "stream",
          "name": "stderr",
          "text": [
            "<ipython-input-23-2f58a0fcdd04>:2: SettingWithCopyWarning: \n",
            "A value is trying to be set on a copy of a slice from a DataFrame.\n",
            "Try using .loc[row_indexer,col_indexer] = value instead\n",
            "\n",
            "See the caveats in the documentation: https://pandas.pydata.org/pandas-docs/stable/user_guide/indexing.html#returning-a-view-versus-a-copy\n",
            "  df_notes_TSICU_filtered['num_of_conditions'] = df_notes_TSICU_filtered.set_index(['ICD9_CODE']).index.map(icd9_grouping)\n"
          ]
        },
        {
          "output_type": "stream",
          "name": "stdout",
          "text": [
            "<class 'pandas.core.frame.DataFrame'>\n",
            "Int64Index: 999592 entries, 0 to 1240437\n",
            "Data columns (total 23 columns):\n",
            " #   Column             Non-Null Count   Dtype  \n",
            "---  ------             --------------   -----  \n",
            " 0   ROW_ID             999592 non-null  int64  \n",
            " 1   SUBJECT_ID         999592 non-null  int64  \n",
            " 2   HADM_ID            999592 non-null  float64\n",
            " 3   CHARTDATE          999592 non-null  object \n",
            " 4   CHARTTIME          999592 non-null  object \n",
            " 5   STORETIME          999592 non-null  object \n",
            " 6   CATEGORY           999592 non-null  object \n",
            " 7   DESCRIPTION_x      999592 non-null  object \n",
            " 8   CGID               999592 non-null  float64\n",
            " 9   ISERROR            860 non-null     float64\n",
            " 10  TEXT               999592 non-null  object \n",
            " 11  LABEL              967855 non-null  object \n",
            " 12  DESCRIPTION_y      690997 non-null  object \n",
            " 13  GENDER             999592 non-null  object \n",
            " 14  DOB                999592 non-null  object \n",
            " 15  DOD                392445 non-null  object \n",
            " 16  DOD_HOSP           276056 non-null  object \n",
            " 17  DOD_SSN            328635 non-null  object \n",
            " 18  EXPIRE_FLAG        999592 non-null  int64  \n",
            " 19  ICD9_CODE          999592 non-null  object \n",
            " 20  SEQ_NUM            999592 non-null  int64  \n",
            " 21  num_of_notes       999592 non-null  int64  \n",
            " 22  num_of_conditions  999592 non-null  int64  \n",
            "dtypes: float64(3), int64(6), object(14)\n",
            "memory usage: 183.0+ MB\n",
            "ICD9_CODE\n",
            "0031       81\n",
            "0051       62\n",
            "0059       10\n",
            "00845    2675\n",
            "0085       14\n",
            "         ... \n",
            "V5841       2\n",
            "V5849      93\n",
            "V596       13\n",
            "V660       11\n",
            "V714       19\n",
            "Length: 2198, dtype: int64\n"
          ]
        }
      ]
    },
    {
      "cell_type": "code",
      "source": [
        "df_notes_TSICU_dropped_cols = df_notes_TSICU_filtered.drop(['STORETIME','CHARTDATE','CHARTTIME','DOB','DOD','DOD_HOSP','DOD_SSN'], axis=1)\n",
        "df_notes_TSICU_dropped_cols.columns"
      ],
      "metadata": {
        "id": "jfSkON07QFlQ",
        "colab": {
          "base_uri": "https://localhost:8080/"
        },
        "outputId": "e39807da-e17d-41b9-fa77-9edc7f9da51c"
      },
      "execution_count": null,
      "outputs": [
        {
          "output_type": "execute_result",
          "data": {
            "text/plain": [
              "Index(['ROW_ID', 'SUBJECT_ID', 'HADM_ID', 'CATEGORY', 'DESCRIPTION_x', 'CGID',\n",
              "       'ISERROR', 'TEXT', 'LABEL', 'DESCRIPTION_y', 'GENDER', 'EXPIRE_FLAG',\n",
              "       'ICD9_CODE', 'SEQ_NUM', 'num_of_notes', 'num_of_conditions'],\n",
              "      dtype='object')"
            ]
          },
          "metadata": {},
          "execution_count": 24
        }
      ]
    },
    {
      "cell_type": "markdown",
      "source": [
        "select emotional words then filter rows that dont have a minimum number of them"
      ],
      "metadata": {
        "id": "IJasBc1JDJ7G"
      }
    },
    {
      "cell_type": "code",
      "source": [
        "def filter_for_emotional_words(df):\n",
        "  selected_words = ['pain', 'family', 'stable', 'care', 'well', 'social', 'support', 'able', 'decreased', 'warm', 'unable', 'strong', 'intact', 'good', 'times', 'aware', 'eyes', 'tolerated', 'denies', 'tolerating', 'please', 'palpable']\n",
        "  print(\"selected_words list length: \", len(selected_words))\n",
        "  pattern = '|'.join(selected_words)\n",
        "  new_df = df[df['TEXT'].str.contains(pattern, regex=True)].copy()\n",
        "  #filtered_data = df_notes_TSICU[df_notes_TSICU['TEXT'].str.contains(pattern, regex=True)].copy()\n",
        "  new_df['num_search_words'] = new_df['TEXT'].str.count(pattern)\n",
        "  #new_df = new_df[new_df['num_search_words'] >= 0]\n",
        "  new_df.info()\n",
        "  return new_df"
      ],
      "metadata": {
        "id": "io0fnZ6LDJje"
      },
      "execution_count": null,
      "outputs": []
    },
    {
      "cell_type": "code",
      "source": [
        "#filtered_data = filter_for_emotional_words(df_notes_TSICU_dropped_cols)\n",
        "filtered_data = df_notes_TSICU_dropped_cols"
      ],
      "metadata": {
        "id": "lPqYiPgCaw05"
      },
      "execution_count": null,
      "outputs": []
    },
    {
      "cell_type": "markdown",
      "source": [
        "Random selection from sample set"
      ],
      "metadata": {
        "id": "9zgLOVKMmC1c"
      }
    },
    {
      "cell_type": "code",
      "source": [
        "#random_filtered_data = filtered_data.sample(n=50000, random_state=42)\n",
        "random_filtered_data = filtered_data"
      ],
      "metadata": {
        "id": "A2g7uF3_mCja"
      },
      "execution_count": null,
      "outputs": []
    },
    {
      "cell_type": "markdown",
      "source": [
        "Remove similar sentences"
      ],
      "metadata": {
        "id": "T4IGl2_LhAjw"
      }
    },
    {
      "cell_type": "code",
      "source": [
        "from sklearn.feature_extraction.text import TfidfVectorizer\n",
        "from sklearn.metrics.pairwise import cosine_similarity\n",
        "\n",
        "def remove_similar_notes(df):\n",
        "  sentences = df['TEXT'].tolist()\n",
        "  vectorizer = TfidfVectorizer()\n",
        "  tfidf_matrix = vectorizer.fit_transform(sentences)\n",
        "  similarity_threshold = 0.8\n",
        "\n",
        "  similar_indices = []\n",
        "  for i, sentence in enumerate(sentences):  # needs to be max 1000 entries\n",
        "    if any(cosine_similarity(tfidf_matrix[i], tfidf_matrix[j])[0][0] > similarity_threshold for j in range(i)):  # very slow ~10 minutes for 1000 entries, exponential complexity (more than 5 hours if 6000 entries)\n",
        "      similar_indices.append(i)\n",
        "  index_labels = df.index[similar_indices]\n",
        "  df.drop(index_labels, inplace=True)\n",
        "  return df"
      ],
      "metadata": {
        "id": "y_7e8eEAg-8E"
      },
      "execution_count": null,
      "outputs": []
    },
    {
      "cell_type": "markdown",
      "source": [
        "Inverse Document Frequency"
      ],
      "metadata": {
        "id": "kSrdXBqOuXa0"
      }
    },
    {
      "cell_type": "code",
      "source": [
        "vectorizer = TfidfVectorizer(stop_words='english')\n",
        "tfidf_matrix = vectorizer.fit_transform(df_notes_TSICU['TEXT'])\n",
        "\n",
        "feature_names = vectorizer.get_feature_names_out()\n",
        "tfidf_scores = tfidf_matrix.sum(axis=0).A1\n",
        "word_score_dict = dict(zip(feature_names, tfidf_scores))\n",
        "\n",
        "sorted_words = sorted(word_score_dict.items(), key=lambda x: x[1], reverse=True)\n",
        "\n",
        "top_words = sorted_words[:50]"
      ],
      "metadata": {
        "id": "mLycA6V9u2Bk",
        "colab": {
          "base_uri": "https://localhost:8080/",
          "height": 380
        },
        "outputId": "c1141f69-046e-45fc-8877-25e526cf47c8"
      },
      "execution_count": null,
      "outputs": [
        {
          "output_type": "error",
          "ename": "KeyboardInterrupt",
          "evalue": "ignored",
          "traceback": [
            "\u001b[0;31m---------------------------------------------------------------------------\u001b[0m",
            "\u001b[0;31mKeyboardInterrupt\u001b[0m                         Traceback (most recent call last)",
            "\u001b[0;32m<ipython-input-42-5bd7c47d09e9>\u001b[0m in \u001b[0;36m<cell line: 2>\u001b[0;34m()\u001b[0m\n\u001b[1;32m      1\u001b[0m \u001b[0mvectorizer\u001b[0m \u001b[0;34m=\u001b[0m \u001b[0mTfidfVectorizer\u001b[0m\u001b[0;34m(\u001b[0m\u001b[0mstop_words\u001b[0m\u001b[0;34m=\u001b[0m\u001b[0;34m'english'\u001b[0m\u001b[0;34m)\u001b[0m\u001b[0;34m\u001b[0m\u001b[0;34m\u001b[0m\u001b[0m\n\u001b[0;32m----> 2\u001b[0;31m \u001b[0mtfidf_matrix\u001b[0m \u001b[0;34m=\u001b[0m \u001b[0mvectorizer\u001b[0m\u001b[0;34m.\u001b[0m\u001b[0mfit_transform\u001b[0m\u001b[0;34m(\u001b[0m\u001b[0mdf_notes_TSICU\u001b[0m\u001b[0;34m[\u001b[0m\u001b[0;34m'TEXT'\u001b[0m\u001b[0;34m]\u001b[0m\u001b[0;34m)\u001b[0m\u001b[0;34m\u001b[0m\u001b[0;34m\u001b[0m\u001b[0m\n\u001b[0m\u001b[1;32m      3\u001b[0m \u001b[0;34m\u001b[0m\u001b[0m\n\u001b[1;32m      4\u001b[0m \u001b[0mfeature_names\u001b[0m \u001b[0;34m=\u001b[0m \u001b[0mvectorizer\u001b[0m\u001b[0;34m.\u001b[0m\u001b[0mget_feature_names_out\u001b[0m\u001b[0;34m(\u001b[0m\u001b[0;34m)\u001b[0m\u001b[0;34m\u001b[0m\u001b[0;34m\u001b[0m\u001b[0m\n\u001b[1;32m      5\u001b[0m \u001b[0mtfidf_scores\u001b[0m \u001b[0;34m=\u001b[0m \u001b[0mtfidf_matrix\u001b[0m\u001b[0;34m.\u001b[0m\u001b[0msum\u001b[0m\u001b[0;34m(\u001b[0m\u001b[0maxis\u001b[0m\u001b[0;34m=\u001b[0m\u001b[0;36m0\u001b[0m\u001b[0;34m)\u001b[0m\u001b[0;34m.\u001b[0m\u001b[0mA1\u001b[0m\u001b[0;34m\u001b[0m\u001b[0;34m\u001b[0m\u001b[0m\n",
            "\u001b[0;32m/usr/local/lib/python3.10/dist-packages/sklearn/feature_extraction/text.py\u001b[0m in \u001b[0;36mfit_transform\u001b[0;34m(self, raw_documents, y)\u001b[0m\n\u001b[1;32m   2131\u001b[0m             \u001b[0msublinear_tf\u001b[0m\u001b[0;34m=\u001b[0m\u001b[0mself\u001b[0m\u001b[0;34m.\u001b[0m\u001b[0msublinear_tf\u001b[0m\u001b[0;34m,\u001b[0m\u001b[0;34m\u001b[0m\u001b[0;34m\u001b[0m\u001b[0m\n\u001b[1;32m   2132\u001b[0m         )\n\u001b[0;32m-> 2133\u001b[0;31m         \u001b[0mX\u001b[0m \u001b[0;34m=\u001b[0m \u001b[0msuper\u001b[0m\u001b[0;34m(\u001b[0m\u001b[0;34m)\u001b[0m\u001b[0;34m.\u001b[0m\u001b[0mfit_transform\u001b[0m\u001b[0;34m(\u001b[0m\u001b[0mraw_documents\u001b[0m\u001b[0;34m)\u001b[0m\u001b[0;34m\u001b[0m\u001b[0;34m\u001b[0m\u001b[0m\n\u001b[0m\u001b[1;32m   2134\u001b[0m         \u001b[0mself\u001b[0m\u001b[0;34m.\u001b[0m\u001b[0m_tfidf\u001b[0m\u001b[0;34m.\u001b[0m\u001b[0mfit\u001b[0m\u001b[0;34m(\u001b[0m\u001b[0mX\u001b[0m\u001b[0;34m)\u001b[0m\u001b[0;34m\u001b[0m\u001b[0;34m\u001b[0m\u001b[0m\n\u001b[1;32m   2135\u001b[0m         \u001b[0;31m# X is already a transformed view of raw_documents so\u001b[0m\u001b[0;34m\u001b[0m\u001b[0;34m\u001b[0m\u001b[0m\n",
            "\u001b[0;32m/usr/local/lib/python3.10/dist-packages/sklearn/feature_extraction/text.py\u001b[0m in \u001b[0;36mfit_transform\u001b[0;34m(self, raw_documents, y)\u001b[0m\n\u001b[1;32m   1386\u001b[0m                     \u001b[0;32mbreak\u001b[0m\u001b[0;34m\u001b[0m\u001b[0;34m\u001b[0m\u001b[0m\n\u001b[1;32m   1387\u001b[0m \u001b[0;34m\u001b[0m\u001b[0m\n\u001b[0;32m-> 1388\u001b[0;31m         \u001b[0mvocabulary\u001b[0m\u001b[0;34m,\u001b[0m \u001b[0mX\u001b[0m \u001b[0;34m=\u001b[0m \u001b[0mself\u001b[0m\u001b[0;34m.\u001b[0m\u001b[0m_count_vocab\u001b[0m\u001b[0;34m(\u001b[0m\u001b[0mraw_documents\u001b[0m\u001b[0;34m,\u001b[0m \u001b[0mself\u001b[0m\u001b[0;34m.\u001b[0m\u001b[0mfixed_vocabulary_\u001b[0m\u001b[0;34m)\u001b[0m\u001b[0;34m\u001b[0m\u001b[0;34m\u001b[0m\u001b[0m\n\u001b[0m\u001b[1;32m   1389\u001b[0m \u001b[0;34m\u001b[0m\u001b[0m\n\u001b[1;32m   1390\u001b[0m         \u001b[0;32mif\u001b[0m \u001b[0mself\u001b[0m\u001b[0;34m.\u001b[0m\u001b[0mbinary\u001b[0m\u001b[0;34m:\u001b[0m\u001b[0;34m\u001b[0m\u001b[0;34m\u001b[0m\u001b[0m\n",
            "\u001b[0;32m/usr/local/lib/python3.10/dist-packages/sklearn/feature_extraction/text.py\u001b[0m in \u001b[0;36m_count_vocab\u001b[0;34m(self, raw_documents, fixed_vocab)\u001b[0m\n\u001b[1;32m   1273\u001b[0m         \u001b[0;32mfor\u001b[0m \u001b[0mdoc\u001b[0m \u001b[0;32min\u001b[0m \u001b[0mraw_documents\u001b[0m\u001b[0;34m:\u001b[0m\u001b[0;34m\u001b[0m\u001b[0;34m\u001b[0m\u001b[0m\n\u001b[1;32m   1274\u001b[0m             \u001b[0mfeature_counter\u001b[0m \u001b[0;34m=\u001b[0m \u001b[0;34m{\u001b[0m\u001b[0;34m}\u001b[0m\u001b[0;34m\u001b[0m\u001b[0;34m\u001b[0m\u001b[0m\n\u001b[0;32m-> 1275\u001b[0;31m             \u001b[0;32mfor\u001b[0m \u001b[0mfeature\u001b[0m \u001b[0;32min\u001b[0m \u001b[0manalyze\u001b[0m\u001b[0;34m(\u001b[0m\u001b[0mdoc\u001b[0m\u001b[0;34m)\u001b[0m\u001b[0;34m:\u001b[0m\u001b[0;34m\u001b[0m\u001b[0;34m\u001b[0m\u001b[0m\n\u001b[0m\u001b[1;32m   1276\u001b[0m                 \u001b[0;32mtry\u001b[0m\u001b[0;34m:\u001b[0m\u001b[0;34m\u001b[0m\u001b[0;34m\u001b[0m\u001b[0m\n\u001b[1;32m   1277\u001b[0m                     \u001b[0mfeature_idx\u001b[0m \u001b[0;34m=\u001b[0m \u001b[0mvocabulary\u001b[0m\u001b[0;34m[\u001b[0m\u001b[0mfeature\u001b[0m\u001b[0;34m]\u001b[0m\u001b[0;34m\u001b[0m\u001b[0;34m\u001b[0m\u001b[0m\n",
            "\u001b[0;32m/usr/local/lib/python3.10/dist-packages/sklearn/feature_extraction/text.py\u001b[0m in \u001b[0;36m_analyze\u001b[0;34m(doc, analyzer, tokenizer, ngrams, preprocessor, decoder, stop_words)\u001b[0m\n\u001b[1;32m    109\u001b[0m     \u001b[0;32melse\u001b[0m\u001b[0;34m:\u001b[0m\u001b[0;34m\u001b[0m\u001b[0;34m\u001b[0m\u001b[0m\n\u001b[1;32m    110\u001b[0m         \u001b[0;32mif\u001b[0m \u001b[0mpreprocessor\u001b[0m \u001b[0;32mis\u001b[0m \u001b[0;32mnot\u001b[0m \u001b[0;32mNone\u001b[0m\u001b[0;34m:\u001b[0m\u001b[0;34m\u001b[0m\u001b[0;34m\u001b[0m\u001b[0m\n\u001b[0;32m--> 111\u001b[0;31m             \u001b[0mdoc\u001b[0m \u001b[0;34m=\u001b[0m \u001b[0mpreprocessor\u001b[0m\u001b[0;34m(\u001b[0m\u001b[0mdoc\u001b[0m\u001b[0;34m)\u001b[0m\u001b[0;34m\u001b[0m\u001b[0;34m\u001b[0m\u001b[0m\n\u001b[0m\u001b[1;32m    112\u001b[0m         \u001b[0;32mif\u001b[0m \u001b[0mtokenizer\u001b[0m \u001b[0;32mis\u001b[0m \u001b[0;32mnot\u001b[0m \u001b[0;32mNone\u001b[0m\u001b[0;34m:\u001b[0m\u001b[0;34m\u001b[0m\u001b[0;34m\u001b[0m\u001b[0m\n\u001b[1;32m    113\u001b[0m             \u001b[0mdoc\u001b[0m \u001b[0;34m=\u001b[0m \u001b[0mtokenizer\u001b[0m\u001b[0;34m(\u001b[0m\u001b[0mdoc\u001b[0m\u001b[0;34m)\u001b[0m\u001b[0;34m\u001b[0m\u001b[0;34m\u001b[0m\u001b[0m\n",
            "\u001b[0;32m/usr/local/lib/python3.10/dist-packages/sklearn/feature_extraction/text.py\u001b[0m in \u001b[0;36m_preprocess\u001b[0;34m(doc, accent_function, lower)\u001b[0m\n\u001b[1;32m     67\u001b[0m     \"\"\"\n\u001b[1;32m     68\u001b[0m     \u001b[0;32mif\u001b[0m \u001b[0mlower\u001b[0m\u001b[0;34m:\u001b[0m\u001b[0;34m\u001b[0m\u001b[0;34m\u001b[0m\u001b[0m\n\u001b[0;32m---> 69\u001b[0;31m         \u001b[0mdoc\u001b[0m \u001b[0;34m=\u001b[0m \u001b[0mdoc\u001b[0m\u001b[0;34m.\u001b[0m\u001b[0mlower\u001b[0m\u001b[0;34m(\u001b[0m\u001b[0;34m)\u001b[0m\u001b[0;34m\u001b[0m\u001b[0;34m\u001b[0m\u001b[0m\n\u001b[0m\u001b[1;32m     70\u001b[0m     \u001b[0;32mif\u001b[0m \u001b[0maccent_function\u001b[0m \u001b[0;32mis\u001b[0m \u001b[0;32mnot\u001b[0m \u001b[0;32mNone\u001b[0m\u001b[0;34m:\u001b[0m\u001b[0;34m\u001b[0m\u001b[0;34m\u001b[0m\u001b[0m\n\u001b[1;32m     71\u001b[0m         \u001b[0mdoc\u001b[0m \u001b[0;34m=\u001b[0m \u001b[0maccent_function\u001b[0m\u001b[0;34m(\u001b[0m\u001b[0mdoc\u001b[0m\u001b[0;34m)\u001b[0m\u001b[0;34m\u001b[0m\u001b[0;34m\u001b[0m\u001b[0m\n",
            "\u001b[0;31mKeyboardInterrupt\u001b[0m: "
          ]
        }
      ]
    },
    {
      "cell_type": "code",
      "source": [
        "print(\"Rank\\tWord\\t\\t\\tCount\")\n",
        "for rank, (word, score) in enumerate(top_words, start=1):\n",
        "  print(f\"{rank}\\t{word.ljust(20)}\\t{score}\")"
      ],
      "metadata": {
        "id": "CFYY-4Q9yltA",
        "colab": {
          "base_uri": "https://localhost:8080/",
          "height": 217
        },
        "outputId": "3eabd91b-4060-435e-8d2c-220de6ebc1bd"
      },
      "execution_count": null,
      "outputs": [
        {
          "output_type": "stream",
          "name": "stdout",
          "text": [
            "Rank\tWord\t\t\tCount\n"
          ]
        },
        {
          "output_type": "error",
          "ename": "NameError",
          "evalue": "ignored",
          "traceback": [
            "\u001b[0;31m---------------------------------------------------------------------------\u001b[0m",
            "\u001b[0;31mNameError\u001b[0m                                 Traceback (most recent call last)",
            "\u001b[0;32m<ipython-input-26-2f57ef9a80f9>\u001b[0m in \u001b[0;36m<cell line: 2>\u001b[0;34m()\u001b[0m\n\u001b[1;32m      1\u001b[0m \u001b[0mprint\u001b[0m\u001b[0;34m(\u001b[0m\u001b[0;34m\"Rank\\tWord\\t\\t\\tCount\"\u001b[0m\u001b[0;34m)\u001b[0m\u001b[0;34m\u001b[0m\u001b[0;34m\u001b[0m\u001b[0m\n\u001b[0;32m----> 2\u001b[0;31m \u001b[0;32mfor\u001b[0m \u001b[0mrank\u001b[0m\u001b[0;34m,\u001b[0m \u001b[0;34m(\u001b[0m\u001b[0mword\u001b[0m\u001b[0;34m,\u001b[0m \u001b[0mscore\u001b[0m\u001b[0;34m)\u001b[0m \u001b[0;32min\u001b[0m \u001b[0menumerate\u001b[0m\u001b[0;34m(\u001b[0m\u001b[0mtop_words\u001b[0m\u001b[0;34m,\u001b[0m \u001b[0mstart\u001b[0m\u001b[0;34m=\u001b[0m\u001b[0;36m1\u001b[0m\u001b[0;34m)\u001b[0m\u001b[0;34m:\u001b[0m\u001b[0;34m\u001b[0m\u001b[0;34m\u001b[0m\u001b[0m\n\u001b[0m\u001b[1;32m      3\u001b[0m   \u001b[0mprint\u001b[0m\u001b[0;34m(\u001b[0m\u001b[0;34mf\"{rank}\\t{word.ljust(20)}\\t{score}\"\u001b[0m\u001b[0;34m)\u001b[0m\u001b[0;34m\u001b[0m\u001b[0;34m\u001b[0m\u001b[0m\n",
            "\u001b[0;31mNameError\u001b[0m: name 'top_words' is not defined"
          ]
        }
      ]
    },
    {
      "cell_type": "code",
      "source": [
        "#random_filtered_data = remove_similar_notes(random_filtered_data)\n",
        "random_filtered_data.info()"
      ],
      "metadata": {
        "id": "5hR3SznnlFAw",
        "colab": {
          "base_uri": "https://localhost:8080/"
        },
        "outputId": "f551d3da-c083-458f-c08f-8340c346f48d"
      },
      "execution_count": null,
      "outputs": [
        {
          "output_type": "stream",
          "name": "stdout",
          "text": [
            "<class 'pandas.core.frame.DataFrame'>\n",
            "Int64Index: 999592 entries, 0 to 1240437\n",
            "Data columns (total 16 columns):\n",
            " #   Column             Non-Null Count   Dtype  \n",
            "---  ------             --------------   -----  \n",
            " 0   ROW_ID             999592 non-null  int64  \n",
            " 1   SUBJECT_ID         999592 non-null  int64  \n",
            " 2   HADM_ID            999592 non-null  float64\n",
            " 3   CATEGORY           999592 non-null  object \n",
            " 4   DESCRIPTION_x      999592 non-null  object \n",
            " 5   CGID               999592 non-null  float64\n",
            " 6   ISERROR            860 non-null     float64\n",
            " 7   TEXT               999592 non-null  object \n",
            " 8   LABEL              967855 non-null  object \n",
            " 9   DESCRIPTION_y      690997 non-null  object \n",
            " 10  GENDER             999592 non-null  object \n",
            " 11  EXPIRE_FLAG        999592 non-null  int64  \n",
            " 12  ICD9_CODE          999592 non-null  object \n",
            " 13  SEQ_NUM            999592 non-null  int64  \n",
            " 14  num_of_notes       999592 non-null  int64  \n",
            " 15  num_of_conditions  999592 non-null  int64  \n",
            "dtypes: float64(3), int64(6), object(7)\n",
            "memory usage: 129.6+ MB\n"
          ]
        }
      ]
    },
    {
      "cell_type": "markdown",
      "source": [
        "Find matching conditions for both expired flags"
      ],
      "metadata": {
        "id": "hKqh8rDTZATB"
      }
    },
    {
      "cell_type": "code",
      "source": [
        "def split_set_half_expired(df):\n",
        "  df['EXPIRE_FLAG'] = df['EXPIRE_FLAG'].astype(int)\n",
        "  group_conditions = df.groupby(['ICD9_CODE', 'EXPIRE_FLAG'])\n",
        "  def balance_conditions(g1,g2,size):\n",
        "    size = min(len(g1), len(g2), size)\n",
        "    return g1.sample(n=size, random_state=1), g2.sample(n=size, random_state=1)\n",
        "\n",
        "  rows = []\n",
        "  size = 50000\n",
        "\n",
        "  for drg_desc, group in group_conditions:\n",
        "    icd9, expire = drg_desc\n",
        "    if (icd9, 1-expire) in group_conditions.groups:\n",
        "      paired_group = group_conditions.get_group((icd9, 1-expire))\n",
        "      group_sample1, group_sample2 = balance_conditions(group, paired_group, size)\n",
        "      rows.append(group_sample1)\n",
        "      rows.append(group_sample2)\n",
        "      size -= len(group_sample1)\n",
        "    if size <= 0:\n",
        "      break\n",
        "\n",
        "  new_df = pd.concat(rows)\n",
        "  new_df = new_df.drop_duplicates()\n",
        "\n",
        "  new_df.info()\n",
        "  #print(new_df[['ICD9_CODE', 'EXPIRE_FLAG']])\n",
        "  return new_df\n",
        "\n",
        "  #valid_groups = [key for key, group in group_conditions.groups.keys() if (key[0], key[1], 1 - key[2]) in group_conditions.groups]\n",
        "  #for key in valid_groups:\n",
        "    #pass"
      ],
      "metadata": {
        "id": "CTtgtgvONovy"
      },
      "execution_count": null,
      "outputs": []
    },
    {
      "cell_type": "code",
      "source": [
        "#balanced_data = split_set_half_expired(random_filtered_data)\n",
        "balanced_data = random_filtered_data"
      ],
      "metadata": {
        "id": "JJFzempDgOiy"
      },
      "execution_count": null,
      "outputs": []
    },
    {
      "cell_type": "markdown",
      "source": [
        "Display notes"
      ],
      "metadata": {
        "id": "lnai1UuJCedn"
      }
    },
    {
      "cell_type": "code",
      "source": [
        "pd.set_option('display.max_colwidth', 250)\n",
        "pd.set_option('display.max_rows', None)\n",
        "#print(balanced_data['TEXT'].head(200))\n",
        "pd.reset_option('display.max_colwidth')\n",
        "pd.reset_option('display.max_rows')"
      ],
      "metadata": {
        "id": "dZPZ-AGx-9NA"
      },
      "execution_count": null,
      "outputs": []
    },
    {
      "cell_type": "code",
      "source": [
        "print(balanced_data.columns)\n",
        "print('\\n'+\"Number of rows: \"+str(len(balanced_data)))"
      ],
      "metadata": {
        "id": "cemrUSU8wjMD",
        "colab": {
          "base_uri": "https://localhost:8080/"
        },
        "outputId": "1a6b6fcf-048c-40be-d95f-71adc5841b9a"
      },
      "execution_count": null,
      "outputs": [
        {
          "output_type": "stream",
          "name": "stdout",
          "text": [
            "Index(['ROW_ID', 'SUBJECT_ID', 'HADM_ID', 'CATEGORY', 'DESCRIPTION_x', 'CGID',\n",
            "       'ISERROR', 'TEXT', 'LABEL', 'DESCRIPTION_y', 'GENDER', 'EXPIRE_FLAG',\n",
            "       'ICD9_CODE', 'SEQ_NUM', 'num_of_notes', 'num_of_conditions'],\n",
            "      dtype='object')\n",
            "\n",
            "Number of rows: 999592\n"
          ]
        }
      ]
    },
    {
      "cell_type": "code",
      "source": [
        "balanced_data.info()"
      ],
      "metadata": {
        "id": "msI729kSJWJY",
        "outputId": "7ae1ce4b-dede-4ca9-d854-29cfdb2c08e0",
        "colab": {
          "base_uri": "https://localhost:8080/"
        }
      },
      "execution_count": null,
      "outputs": [
        {
          "output_type": "stream",
          "name": "stdout",
          "text": [
            "<class 'pandas.core.frame.DataFrame'>\n",
            "Int64Index: 999592 entries, 0 to 1240437\n",
            "Data columns (total 16 columns):\n",
            " #   Column             Non-Null Count   Dtype  \n",
            "---  ------             --------------   -----  \n",
            " 0   ROW_ID             999592 non-null  int64  \n",
            " 1   SUBJECT_ID         999592 non-null  int64  \n",
            " 2   HADM_ID            999592 non-null  float64\n",
            " 3   CATEGORY           999592 non-null  object \n",
            " 4   DESCRIPTION_x      999592 non-null  object \n",
            " 5   CGID               999592 non-null  float64\n",
            " 6   ISERROR            860 non-null     float64\n",
            " 7   TEXT               999592 non-null  object \n",
            " 8   LABEL              967855 non-null  object \n",
            " 9   DESCRIPTION_y      690997 non-null  object \n",
            " 10  GENDER             999592 non-null  object \n",
            " 11  EXPIRE_FLAG        999592 non-null  int64  \n",
            " 12  ICD9_CODE          999592 non-null  object \n",
            " 13  SEQ_NUM            999592 non-null  int64  \n",
            " 14  num_of_notes       999592 non-null  int64  \n",
            " 15  num_of_conditions  999592 non-null  int64  \n",
            "dtypes: float64(3), int64(6), object(7)\n",
            "memory usage: 129.6+ MB\n"
          ]
        }
      ]
    },
    {
      "cell_type": "code",
      "source": [
        "no_duplicates = balanced_data.sort_values('ROW_ID').drop_duplicates(subset=['CGID', 'SUBJECT_ID'])  \n",
        "no_duplicates = no_duplicates.drop(['TEXT'], axis=1)  # removes text notes\n",
        "no_duplicates.info()"
      ],
      "metadata": {
        "id": "Bze40GhzJai3",
        "outputId": "84ca87ba-07fd-4148-d172-8722e05c78c2",
        "colab": {
          "base_uri": "https://localhost:8080/"
        }
      },
      "execution_count": null,
      "outputs": [
        {
          "output_type": "stream",
          "name": "stdout",
          "text": [
            "<class 'pandas.core.frame.DataFrame'>\n",
            "Int64Index: 240122 entries, 288502 to 1183477\n",
            "Data columns (total 15 columns):\n",
            " #   Column             Non-Null Count   Dtype  \n",
            "---  ------             --------------   -----  \n",
            " 0   ROW_ID             240122 non-null  int64  \n",
            " 1   SUBJECT_ID         240122 non-null  int64  \n",
            " 2   HADM_ID            240122 non-null  float64\n",
            " 3   CATEGORY           240122 non-null  object \n",
            " 4   DESCRIPTION_x      240122 non-null  object \n",
            " 5   CGID               240122 non-null  float64\n",
            " 6   ISERROR            32 non-null      float64\n",
            " 7   LABEL              236091 non-null  object \n",
            " 8   DESCRIPTION_y      166351 non-null  object \n",
            " 9   GENDER             240122 non-null  object \n",
            " 10  EXPIRE_FLAG        240122 non-null  int64  \n",
            " 11  ICD9_CODE          240122 non-null  object \n",
            " 12  SEQ_NUM            240122 non-null  int64  \n",
            " 13  num_of_notes       240122 non-null  int64  \n",
            " 14  num_of_conditions  240122 non-null  int64  \n",
            "dtypes: float64(3), int64(6), object(6)\n",
            "memory usage: 29.3+ MB\n"
          ]
        }
      ]
    },
    {
      "cell_type": "markdown",
      "source": [
        "Save to CSV"
      ],
      "metadata": {
        "id": "6hGujs3Fn8Mb"
      }
    },
    {
      "cell_type": "code",
      "source": [
        "# path and name of the cvs file \n",
        "PATH_TO_SAVE = \"/content/drive/MyDrive/NIH/Data/\"\n",
        "name_file_to_save = 'NOTES_NURSING_TRAJECTORIES_TSICU_COUNTS.csv'\n",
        "no_duplicates.to_csv(PATH_TO_SAVE+name_file_to_save,index=False)"
      ],
      "metadata": {
        "id": "metEeEnan7n0"
      },
      "execution_count": null,
      "outputs": []
    },
    {
      "cell_type": "markdown",
      "source": [
        "Gather- top ICD9, # of: patients, deceased, CGs, notes"
      ],
      "metadata": {
        "id": "kGId_c993xlm"
      }
    },
    {
      "cell_type": "code",
      "source": [
        "icd9_max_val = balanced_data['num_of_conditions'].max()\n",
        "icd9_max_df = balanced_data[balanced_data['num_of_conditions'] == icd9_max_val]\n",
        "\n",
        "print(\"Max ICD9 code: \" + icd9_max_df['ICD9_CODE'].unique())\n",
        "print(\"Number of patients: \" + str(icd9_max_df['SUBJECT_ID'].nunique()))\n",
        "print(\"Number of deceased patients: \" + str((icd9_max_df.drop_duplicates(subset='SUBJECT_ID')['EXPIRE_FLAG'] == 1).sum()))\n",
        "print(\"Number of caregivers: \" + str(icd9_max_df['CGID'].nunique()))\n",
        "unique_cgid = icd9_max_df['CGID'].unique()\n",
        "unique_cgid_df = icd9_max_df[icd9_max_df['CGID'].isin(unique_cgid)].drop_duplicates(subset=['CGID', 'LABEL'])\n",
        "unique_cgid_df['LABEL'] = unique_cgid_df['LABEL'].fillna('UNKNOWN')\n",
        "unique_cgid_df['LABEL'] = unique_cgid_df['LABEL'].str.upper()\n",
        "print(\"Caregiver labels: \" + '\\n' + str(unique_cgid_df['LABEL'].value_counts()))\n",
        "print(\"Number of caregivers: \" + str(icd9_max_df['CGID'].nunique()))\n",
        "print(\"Number of notes: \" + str(len(icd9_max_df)))"
      ],
      "metadata": {
        "id": "B5a2aeHR3xHM",
        "outputId": "f3d6b6d3-fd7b-482e-aea9-6cc9585684a9",
        "colab": {
          "base_uri": "https://localhost:8080/"
        }
      },
      "execution_count": null,
      "outputs": [
        {
          "output_type": "stream",
          "name": "stdout",
          "text": [
            "['Max ICD9 code: V3001']\n",
            "Number of patients: 1692\n",
            "Number of deceased patients: 21\n",
            "Number of caregivers: 357\n",
            "Caregiver labels: \n",
            "RN         158\n",
            "MD          60\n",
            "PCA         31\n",
            "RRT         21\n",
            "MSIV        10\n",
            "RNC          9\n",
            "LICSW        9\n",
            "NP           7\n",
            "NNP          7\n",
            "SNP          7\n",
            "COWKER       4\n",
            "STNUIV       3\n",
            "SNNP         3\n",
            "SN           3\n",
            "UNKNOWN      3\n",
            "HMSIV        2\n",
            "MEDST        1\n",
            "SW INT       1\n",
            "HMS IV       1\n",
            "COWKR        1\n",
            "NSV          1\n",
            "MSV          1\n",
            "CO-WKR       1\n",
            "MS,RD        1\n",
            "RD/LDN       1\n",
            "PRACST       1\n",
            "STNUR        1\n",
            "CRS          1\n",
            "SWINT        1\n",
            "MS           1\n",
            "RD,LDN       1\n",
            "CCRN         1\n",
            "RT           1\n",
            "OTR/L        1\n",
            "PT           1\n",
            "STNRS        1\n",
            "Name: LABEL, dtype: int64\n",
            "Number of caregivers: 357\n",
            "Number of notes: 122367\n"
          ]
        }
      ]
    },
    {
      "cell_type": "markdown",
      "source": [
        "deceased patients for unfiltered set"
      ],
      "metadata": {
        "id": "uC6QUHDWvrvR"
      }
    },
    {
      "cell_type": "code",
      "source": [
        "len(df_notes_TSICU['SUBJECT_ID'].unique())\n",
        "deceased_TSICU = df_notes_TSICU[df_notes_TSICU['EXPIRE_FLAG'] == 1]\n",
        "deceased_TSICU.info()"
      ],
      "metadata": {
        "id": "4quXDt_aieZv"
      },
      "execution_count": null,
      "outputs": []
    },
    {
      "cell_type": "code",
      "source": [
        "sns.set()\n",
        "\n",
        "gb_notes = deceased_TSICU.groupby(['CGID','SUBJECT_ID'])\n",
        "num_notes = gb_notes['TEXT'].count()\n",
        "print(num_notes)\n",
        "print(f'number of notes: min={num_notes.min()}, max={num_notes.max()}, mean={num_notes.mean()},  median={num_notes.median()}')\n",
        "sns.boxplot(x=num_notes)\n",
        "sns.displot(num_notes[((num_notes>2) & (num_notes<15))])"
      ],
      "metadata": {
        "id": "RtIaEm23Ysfg"
      },
      "execution_count": null,
      "outputs": []
    },
    {
      "cell_type": "markdown",
      "source": [
        "Seperate deceased and living"
      ],
      "metadata": {
        "id": "9tJkPVZggBv_"
      }
    },
    {
      "cell_type": "code",
      "source": [
        "deceased_patients = balanced_data[balanced_data['EXPIRE_FLAG'] == 1]\n",
        "deceased_patients.info()"
      ],
      "metadata": {
        "id": "4cfpXZF4fnUG"
      },
      "execution_count": null,
      "outputs": []
    },
    {
      "cell_type": "code",
      "source": [
        "living_patients = balanced_data[balanced_data['EXPIRE_FLAG'] == 0]\n",
        "living_patients.info()"
      ],
      "metadata": {
        "id": "BfFfnIingFO3"
      },
      "execution_count": null,
      "outputs": []
    },
    {
      "cell_type": "markdown",
      "source": [
        "Tokenized words"
      ],
      "metadata": {
        "id": "UU8xrEkoGzNi"
      }
    },
    {
      "cell_type": "code",
      "source": [
        "#text = df_notes_TSICU['TEXT'].str.cat(sep=' ')\n",
        "#words = nltk.word_tokenize(text)  # very slow"
      ],
      "metadata": {
        "id": "YlONNwDeGy9a"
      },
      "execution_count": null,
      "outputs": []
    },
    {
      "cell_type": "markdown",
      "source": [
        "Count words in notes"
      ],
      "metadata": {
        "id": "gyFTOEALCbxX"
      }
    },
    {
      "cell_type": "code",
      "source": [
        "#stopwords = nltk.corpus.stopwords.words('english')\n",
        "#words = [word.lower() for word in words if word.lower() not in stopwords and re.match(r'\\b\\w+\\b', word)]  # also slow but only kinda slow\n",
        "#word_counts = Counter(words)\n",
        "#most_common_words = word_counts.most_common(300)"
      ],
      "metadata": {
        "id": "jtTWXQjy-_Fw"
      },
      "execution_count": null,
      "outputs": []
    },
    {
      "cell_type": "code",
      "source": [
        "#print(\"Rank\\tWord\\t\\t\\tCount\")\n",
        "#for rank, word_count in enumerate(most_common_words, start=1):\n",
        "  #word, count = word_count\n",
        "  #print(f\"{rank}\\t{word.ljust(20)}\\t{count}\")"
      ],
      "metadata": {
        "id": "vtPdb3_iB5T0"
      },
      "execution_count": null,
      "outputs": []
    },
    {
      "cell_type": "markdown",
      "source": [
        "Emotional words"
      ],
      "metadata": {
        "id": "2vLviAGyJmdQ"
      }
    },
    {
      "cell_type": "code",
      "source": [
        "#emotional_words = []\n",
        "#for word_count in most_common_words:\n",
        "  #word = word_count[0]\n",
        "  #synsets = wn.synsets(word)\n",
        "  #if synsets:\n",
        "    #senti_synset = swn.senti_synset(synsets[0].name())\n",
        "    #if senti_synset.pos_score() > 0.45 or senti_synset.neg_score() > 0.45:\n",
        "      #emotional_words.append(word)\n",
        "\n",
        "#emotional_words"
      ],
      "metadata": {
        "id": "4ATr_HSAJlpK"
      },
      "execution_count": null,
      "outputs": []
    },
    {
      "cell_type": "code",
      "source": [
        "#from textblob import TextBlob\n",
        "#emotional_words = []\n",
        "#for word_count in most_common_words:\n",
        "  #word = word_count[0]\n",
        "  #tb = TextBlob(word)\n",
        "  #sentiment = tb.sentiment.polarity\n",
        "  #if abs(sentiment) > 0.35:\n",
        "    #emotional_words.append(word)\n",
        "\n",
        "#emotional_words"
      ],
      "metadata": {
        "id": "ZFtCDPOyRPcq"
      },
      "execution_count": null,
      "outputs": []
    }
  ]
}