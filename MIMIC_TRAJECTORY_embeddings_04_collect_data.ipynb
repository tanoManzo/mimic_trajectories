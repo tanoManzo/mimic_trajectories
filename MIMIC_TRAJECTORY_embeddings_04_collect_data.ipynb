{
  "nbformat": 4,
  "nbformat_minor": 0,
  "metadata": {
    "colab": {
      "provenance": [],
      "include_colab_link": true
    },
    "kernelspec": {
      "name": "python3",
      "display_name": "Python 3"
    },
    "language_info": {
      "name": "python"
    }
  },
  "cells": [
    {
      "cell_type": "markdown",
      "metadata": {
        "id": "view-in-github",
        "colab_type": "text"
      },
      "source": [
        "<a href=\"https://colab.research.google.com/github/tanoManzo/mimic_trajectories/blob/dev/MIMIC_TRAJECTORY_embeddings_04_collect_data.ipynb\" target=\"_parent\"><img src=\"https://colab.research.google.com/assets/colab-badge.svg\" alt=\"Open In Colab\"/></a>"
      ]
    },
    {
      "cell_type": "markdown",
      "source": [
        "# Data Collection, Embeddings and Attitude"
      ],
      "metadata": {
        "id": "5CSBbeSkyRmq"
      }
    },
    {
      "cell_type": "markdown",
      "source": [
        "analyzing words in future dataset"
      ],
      "metadata": {
        "id": "saHXQ4P-6zpR"
      }
    },
    {
      "cell_type": "code",
      "source": [
        "!pip install nltk"
      ],
      "metadata": {
        "id": "kBFj_8TI-2MG",
        "colab": {
          "base_uri": "https://localhost:8080/"
        },
        "outputId": "974b72fc-aeb4-4b9f-a994-2bb858a39641"
      },
      "execution_count": 1,
      "outputs": [
        {
          "output_type": "stream",
          "name": "stdout",
          "text": [
            "Looking in indexes: https://pypi.org/simple, https://us-python.pkg.dev/colab-wheels/public/simple/\n",
            "Requirement already satisfied: nltk in /usr/local/lib/python3.10/dist-packages (3.8.1)\n",
            "Requirement already satisfied: click in /usr/local/lib/python3.10/dist-packages (from nltk) (8.1.3)\n",
            "Requirement already satisfied: joblib in /usr/local/lib/python3.10/dist-packages (from nltk) (1.2.0)\n",
            "Requirement already satisfied: regex>=2021.8.3 in /usr/local/lib/python3.10/dist-packages (from nltk) (2022.10.31)\n",
            "Requirement already satisfied: tqdm in /usr/local/lib/python3.10/dist-packages (from nltk) (4.65.0)\n"
          ]
        }
      ]
    },
    {
      "cell_type": "markdown",
      "source": [
        "imports for counting words"
      ],
      "metadata": {
        "id": "P8-8j1UnCo4n"
      }
    },
    {
      "cell_type": "code",
      "source": [
        "import re\n",
        "from collections import Counter\n",
        "\n",
        "from sklearn.feature_extraction.text import TfidfVectorizer\n",
        "\n",
        "import nltk\n",
        "nltk.download('punkt')\n",
        "nltk.download('stopwords')\n",
        "nltk.download('wordnet')\n",
        "nltk.download('sentiwordnet')\n",
        "from nltk.corpus import wordnet as wn\n",
        "from nltk.corpus import sentiwordnet as swn\n",
        "from nltk.tokenize import word_tokenize\n",
        "from nltk.corpus import stopwords"
      ],
      "metadata": {
        "id": "nPjR7flk_xYx",
        "colab": {
          "base_uri": "https://localhost:8080/"
        },
        "outputId": "4e7baccb-7865-43d6-dcee-e987b6971ca4"
      },
      "execution_count": 3,
      "outputs": [
        {
          "output_type": "stream",
          "name": "stderr",
          "text": [
            "[nltk_data] Downloading package punkt to /root/nltk_data...\n",
            "[nltk_data]   Unzipping tokenizers/punkt.zip.\n",
            "[nltk_data] Downloading package stopwords to /root/nltk_data...\n",
            "[nltk_data]   Unzipping corpora/stopwords.zip.\n",
            "[nltk_data] Downloading package wordnet to /root/nltk_data...\n",
            "[nltk_data] Downloading package sentiwordnet to /root/nltk_data...\n",
            "[nltk_data]   Unzipping corpora/sentiwordnet.zip.\n"
          ]
        }
      ]
    },
    {
      "cell_type": "code",
      "source": [
        "! pip install transformers -q"
      ],
      "metadata": {
        "id": "mcvHX_-AewgN",
        "outputId": "7bdfb025-6049-4cc8-a9ed-8224158e53ee",
        "colab": {
          "base_uri": "https://localhost:8080/"
        }
      },
      "execution_count": 4,
      "outputs": [
        {
          "output_type": "stream",
          "name": "stdout",
          "text": [
            "\u001b[2K     \u001b[90m━━━━━━━━━━━━━━━━━━━━━━━━━━━━━━━━━━━━━━━━\u001b[0m \u001b[32m7.1/7.1 MB\u001b[0m \u001b[31m20.8 MB/s\u001b[0m eta \u001b[36m0:00:00\u001b[0m\n",
            "\u001b[2K     \u001b[90m━━━━━━━━━━━━━━━━━━━━━━━━━━━━━━━━━━━━━━\u001b[0m \u001b[32m224.5/224.5 kB\u001b[0m \u001b[31m15.7 MB/s\u001b[0m eta \u001b[36m0:00:00\u001b[0m\n",
            "\u001b[2K     \u001b[90m━━━━━━━━━━━━━━━━━━━━━━━━━━━━━━━━━━━━━━━━\u001b[0m \u001b[32m7.8/7.8 MB\u001b[0m \u001b[31m73.8 MB/s\u001b[0m eta \u001b[36m0:00:00\u001b[0m\n",
            "\u001b[?25h"
          ]
        }
      ]
    },
    {
      "cell_type": "code",
      "execution_count": 5,
      "metadata": {
        "id": "35BpcyS4eWHw"
      },
      "outputs": [],
      "source": [
        "import numpy as np\n",
        "import pandas as pd\n",
        "import torch\n",
        "import torch.nn.functional as F\n",
        "from transformers import AutoTokenizer, AutoModel\n",
        "from transformers import AutoModelForSequenceClassification\n",
        "import seaborn as sns"
      ]
    },
    {
      "cell_type": "markdown",
      "source": [
        "load nursing notes subject-caregiver-chartdate"
      ],
      "metadata": {
        "id": "2YFjrsu1tkB2"
      }
    },
    {
      "cell_type": "code",
      "source": [
        "from google.colab import drive\n",
        "drive.mount('/content/drive')"
      ],
      "metadata": {
        "colab": {
          "base_uri": "https://localhost:8080/"
        },
        "id": "GKFaijaIsKBU",
        "outputId": "a938b656-000c-498e-d31e-2f26f4cbcfcd"
      },
      "execution_count": 2,
      "outputs": [
        {
          "output_type": "stream",
          "name": "stdout",
          "text": [
            "Mounted at /content/drive\n"
          ]
        }
      ]
    },
    {
      "cell_type": "code",
      "source": [
        "!ls \"/content/drive\""
      ],
      "metadata": {
        "id": "9535CEWmpmKB",
        "outputId": "ba8330c0-2a5d-4f21-db09-352b1f4614b6",
        "colab": {
          "base_uri": "https://localhost:8080/"
        }
      },
      "execution_count": 6,
      "outputs": [
        {
          "output_type": "stream",
          "name": "stdout",
          "text": [
            "MyDrive\n"
          ]
        }
      ]
    },
    {
      "cell_type": "code",
      "source": [
        "notes_path = \"/content/drive/MyDrive/NIH/Data/\"\n",
        "notes_name = \"NOTES_NURSING_TRAJECTORIES_01.csv\"\n",
        "df_notes = pd.read_csv(notes_path+notes_name)\n",
        "df_notes.info()"
      ],
      "metadata": {
        "colab": {
          "base_uri": "https://localhost:8080/"
        },
        "id": "sSNmSwI5Ix2P",
        "outputId": "12b7cb8b-6ad2-418b-ea37-4e4f59fce8f6"
      },
      "execution_count": 6,
      "outputs": [
        {
          "output_type": "stream",
          "name": "stdout",
          "text": [
            "<class 'pandas.core.frame.DataFrame'>\n",
            "RangeIndex: 531675 entries, 0 to 531674\n",
            "Data columns (total 5 columns):\n",
            " #   Column      Non-Null Count   Dtype \n",
            "---  ------      --------------   ----- \n",
            " 0   ROW_ID      531675 non-null  int64 \n",
            " 1   SUBJECT_ID  531675 non-null  int64 \n",
            " 2   CGID        531675 non-null  int64 \n",
            " 3   CHARTDATE   531675 non-null  object\n",
            " 4   TEXT        531675 non-null  object\n",
            "dtypes: int64(3), object(2)\n",
            "memory usage: 20.3+ MB\n"
          ]
        }
      ]
    },
    {
      "cell_type": "code",
      "source": [
        "note_events = \"NOTEEVENTS.csv\"\n",
        "df_note_events = pd.read_csv(notes_path+note_events)\n",
        "df_note_events.info()"
      ],
      "metadata": {
        "id": "-nA246kVYBs_",
        "outputId": "6dc5af9d-2f75-4095-c1e0-4bda89ea8cd4",
        "colab": {
          "base_uri": "https://localhost:8080/"
        }
      },
      "execution_count": 7,
      "outputs": [
        {
          "output_type": "stream",
          "name": "stderr",
          "text": [
            "<ipython-input-7-8fd00f55f791>:2: DtypeWarning: Columns (4,5) have mixed types. Specify dtype option on import or set low_memory=False.\n",
            "  df_note_events = pd.read_csv(notes_path+note_events)\n"
          ]
        },
        {
          "output_type": "stream",
          "name": "stdout",
          "text": [
            "<class 'pandas.core.frame.DataFrame'>\n",
            "RangeIndex: 2083180 entries, 0 to 2083179\n",
            "Data columns (total 11 columns):\n",
            " #   Column       Dtype  \n",
            "---  ------       -----  \n",
            " 0   ROW_ID       int64  \n",
            " 1   SUBJECT_ID   int64  \n",
            " 2   HADM_ID      float64\n",
            " 3   CHARTDATE    object \n",
            " 4   CHARTTIME    object \n",
            " 5   STORETIME    object \n",
            " 6   CATEGORY     object \n",
            " 7   DESCRIPTION  object \n",
            " 8   CGID         float64\n",
            " 9   ISERROR      float64\n",
            " 10  TEXT         object \n",
            "dtypes: float64(3), int64(2), object(6)\n",
            "memory usage: 174.8+ MB\n"
          ]
        }
      ]
    },
    {
      "cell_type": "code",
      "source": [
        "print(df_note_events['CATEGORY'].unique())"
      ],
      "metadata": {
        "id": "QbSCiAMObBNm",
        "outputId": "9e137ffb-f8a1-4cfb-fb8d-7cda2709ec77",
        "colab": {
          "base_uri": "https://localhost:8080/"
        }
      },
      "execution_count": 8,
      "outputs": [
        {
          "output_type": "stream",
          "name": "stdout",
          "text": [
            "['Discharge summary' 'Echo' 'ECG' 'Nursing' 'Physician ' 'Rehab Services'\n",
            " 'Case Management ' 'Respiratory ' 'Nutrition' 'General' 'Social Work'\n",
            " 'Pharmacy' 'Consult' 'Radiology' 'Nursing/other']\n"
          ]
        }
      ]
    },
    {
      "cell_type": "code",
      "source": [
        "patients = \"PATIENTS.csv\"\n",
        "df_patients = pd.read_csv(notes_path+patients)\n",
        "df_patients.info()"
      ],
      "metadata": {
        "id": "oz7EmtbWQC31",
        "colab": {
          "base_uri": "https://localhost:8080/"
        },
        "outputId": "22e66aeb-9455-4e5a-e9e5-7cb449b053a7"
      },
      "execution_count": 9,
      "outputs": [
        {
          "output_type": "stream",
          "name": "stdout",
          "text": [
            "<class 'pandas.core.frame.DataFrame'>\n",
            "RangeIndex: 46520 entries, 0 to 46519\n",
            "Data columns (total 8 columns):\n",
            " #   Column       Non-Null Count  Dtype \n",
            "---  ------       --------------  ----- \n",
            " 0   ROW_ID       46520 non-null  int64 \n",
            " 1   SUBJECT_ID   46520 non-null  int64 \n",
            " 2   GENDER       46520 non-null  object\n",
            " 3   DOB          46520 non-null  object\n",
            " 4   DOD          15759 non-null  object\n",
            " 5   DOD_HOSP     9974 non-null   object\n",
            " 6   DOD_SSN      13378 non-null  object\n",
            " 7   EXPIRE_FLAG  46520 non-null  int64 \n",
            "dtypes: int64(3), object(5)\n",
            "memory usage: 2.8+ MB\n"
          ]
        }
      ]
    },
    {
      "cell_type": "code",
      "source": [
        "caregivers = \"CAREGIVERS.csv\"\n",
        "df_caregivers = pd.read_csv(notes_path+caregivers)\n",
        "df_caregivers.info()"
      ],
      "metadata": {
        "colab": {
          "base_uri": "https://localhost:8080/"
        },
        "id": "nylbIdrdDKTn",
        "outputId": "da0e13ef-83e4-4c4b-dc81-906543bd3514"
      },
      "execution_count": 10,
      "outputs": [
        {
          "output_type": "stream",
          "name": "stdout",
          "text": [
            "<class 'pandas.core.frame.DataFrame'>\n",
            "RangeIndex: 7567 entries, 0 to 7566\n",
            "Data columns (total 4 columns):\n",
            " #   Column       Non-Null Count  Dtype \n",
            "---  ------       --------------  ----- \n",
            " 0   ROW_ID       7567 non-null   int64 \n",
            " 1   CGID         7567 non-null   int64 \n",
            " 2   LABEL        7518 non-null   object\n",
            " 3   DESCRIPTION  5155 non-null   object\n",
            "dtypes: int64(2), object(2)\n",
            "memory usage: 236.6+ KB\n"
          ]
        }
      ]
    },
    {
      "cell_type": "code",
      "source": [
        "ward_name = \"ICUSTAYS.csv\"\n",
        "df_ward = pd.read_csv(notes_path+ward_name)\n",
        "df_ward.info()\n",
        "df_ward['first_careunit'].unique()\n",
        "df_ward['ROW_ID'] = df_ward['row_id']\n",
        "df_ward['SUBJECT_ID'] = df_ward['subject_id']"
      ],
      "metadata": {
        "id": "Ti0D5GvITEpa",
        "colab": {
          "base_uri": "https://localhost:8080/"
        },
        "outputId": "963ee36e-3d9e-4f0a-eef9-537431c44846"
      },
      "execution_count": 22,
      "outputs": [
        {
          "output_type": "stream",
          "name": "stdout",
          "text": [
            "<class 'pandas.core.frame.DataFrame'>\n",
            "RangeIndex: 136 entries, 0 to 135\n",
            "Data columns (total 12 columns):\n",
            " #   Column          Non-Null Count  Dtype  \n",
            "---  ------          --------------  -----  \n",
            " 0   row_id          136 non-null    int64  \n",
            " 1   subject_id      136 non-null    int64  \n",
            " 2   hadm_id         136 non-null    int64  \n",
            " 3   icustay_id      136 non-null    int64  \n",
            " 4   dbsource        136 non-null    object \n",
            " 5   first_careunit  136 non-null    object \n",
            " 6   last_careunit   136 non-null    object \n",
            " 7   first_wardid    136 non-null    int64  \n",
            " 8   last_wardid     136 non-null    int64  \n",
            " 9   intime          136 non-null    object \n",
            " 10  outtime         136 non-null    object \n",
            " 11  los             136 non-null    float64\n",
            "dtypes: float64(1), int64(6), object(5)\n",
            "memory usage: 12.9+ KB\n"
          ]
        }
      ]
    },
    {
      "cell_type": "code",
      "source": [
        "icd = \"DIAGNOSES_ICD.csv\"\n",
        "df_icd = pd.read_csv(notes_path+icd)\n",
        "df_icd.columns = df_icd.columns.str.upper()\n",
        "df_icd = df_icd.dropna(subset=['SEQ_NUM'])\n",
        "df_icd['SEQ_NUM'] = df_icd['SEQ_NUM'].astype(int)\n",
        "unique_values = df_icd['SEQ_NUM'].unique()\n",
        "print(\"unique_values: \")\n",
        "print(unique_values)\n",
        "idx = df_icd.groupby(['HADM_ID', 'SUBJECT_ID'])['SEQ_NUM'].idxmin()\n",
        "df_icd = df_icd.loc[idx]\n",
        "df_icd.info()\n"
      ],
      "metadata": {
        "id": "PFLocK_T-w_x",
        "outputId": "38fea33d-af16-4018-b36e-6f03a99b05b9",
        "colab": {
          "base_uri": "https://localhost:8080/"
        }
      },
      "execution_count": 11,
      "outputs": [
        {
          "output_type": "stream",
          "name": "stdout",
          "text": [
            "unique_values: \n",
            "[ 1  2  3  4  5  6  7  8  9 10 11 12 13 14 15 16 17 18 19 20 21 22 23 24\n",
            " 25 26 27 28 29 30 31 32 33 34 35 36 37]\n",
            "<class 'pandas.core.frame.DataFrame'>\n",
            "Int64Index: 129 entries, 230 to 71\n",
            "Data columns (total 5 columns):\n",
            " #   Column      Non-Null Count  Dtype \n",
            "---  ------      --------------  ----- \n",
            " 0   ROW_ID      129 non-null    int64 \n",
            " 1   SUBJECT_ID  129 non-null    int64 \n",
            " 2   HADM_ID     129 non-null    int64 \n",
            " 3   SEQ_NUM     129 non-null    int64 \n",
            " 4   ICD9_CODE   129 non-null    object\n",
            "dtypes: int64(4), object(1)\n",
            "memory usage: 6.0+ KB\n"
          ]
        }
      ]
    },
    {
      "cell_type": "markdown",
      "source": [
        "## **Data Preprocessing**"
      ],
      "metadata": {
        "id": "qdVDhESt91i2"
      }
    },
    {
      "cell_type": "markdown",
      "source": [
        "Grab tsicu notes, merge with ward and patients tables"
      ],
      "metadata": {
        "id": "uLpw8TKsChMf"
      }
    },
    {
      "cell_type": "code",
      "source": [
        "# get new type of notes (TSICU)\n",
        "df_notes_TSICU = pd.DataFrame()\n",
        "df_notes_TSICU = df_notes.merge(df_note_events[['ROW_ID', 'CATEGORY']], on='ROW_ID')\n",
        "df_notes_TSICU = df_notes_TSICU.merge(df_caregivers.drop('ROW_ID', axis=1), on='CGID')\n",
        "df_notes_TSICU = df_notes_TSICU.merge(df_ward.drop('ROW_ID', axis=1), on='SUBJECT_ID')\n",
        "df_notes_TSICU = df_notes_TSICU.merge(df_patients.drop('ROW_ID', axis=1), on='SUBJECT_ID')\n",
        "df_notes_TSICU = df_notes_TSICU[(df_notes_TSICU['first_careunit'] == 'TSICU') & (df_notes_TSICU['last_careunit'] == 'TSICU')].drop_duplicates()\n",
        "df_notes_TSICU.info()"
      ],
      "metadata": {
        "id": "RfRbbiU85KqG",
        "colab": {
          "base_uri": "https://localhost:8080/"
        },
        "outputId": "e04114fc-b7f5-4356-ba6d-41cc835cd27d"
      },
      "execution_count": 24,
      "outputs": [
        {
          "output_type": "stream",
          "name": "stdout",
          "text": [
            "<class 'pandas.core.frame.DataFrame'>\n",
            "Int64Index: 65 entries, 775 to 908\n",
            "Data columns (total 26 columns):\n",
            " #   Column          Non-Null Count  Dtype  \n",
            "---  ------          --------------  -----  \n",
            " 0   ROW_ID          65 non-null     int64  \n",
            " 1   SUBJECT_ID      65 non-null     int64  \n",
            " 2   CGID            65 non-null     int64  \n",
            " 3   CHARTDATE       65 non-null     object \n",
            " 4   TEXT            65 non-null     object \n",
            " 5   CATEGORY        65 non-null     object \n",
            " 6   LABEL           64 non-null     object \n",
            " 7   DESCRIPTION     29 non-null     object \n",
            " 8   row_id          65 non-null     int64  \n",
            " 9   subject_id      65 non-null     int64  \n",
            " 10  hadm_id         65 non-null     int64  \n",
            " 11  icustay_id      65 non-null     int64  \n",
            " 12  dbsource        65 non-null     object \n",
            " 13  first_careunit  65 non-null     object \n",
            " 14  last_careunit   65 non-null     object \n",
            " 15  first_wardid    65 non-null     int64  \n",
            " 16  last_wardid     65 non-null     int64  \n",
            " 17  intime          65 non-null     object \n",
            " 18  outtime         65 non-null     object \n",
            " 19  los             65 non-null     float64\n",
            " 20  GENDER          65 non-null     object \n",
            " 21  DOB             65 non-null     object \n",
            " 22  DOD             65 non-null     object \n",
            " 23  DOD_HOSP        5 non-null      object \n",
            " 24  DOD_SSN         60 non-null     object \n",
            " 25  EXPIRE_FLAG     65 non-null     int64  \n",
            "dtypes: float64(1), int64(10), object(15)\n",
            "memory usage: 13.7+ KB\n"
          ]
        }
      ]
    },
    {
      "cell_type": "code",
      "source": [
        "df_notes_TSICU.head(5)"
      ],
      "metadata": {
        "id": "40N9rfNLvz3h",
        "outputId": "66d02a55-1376-473b-e95b-b48121694268",
        "colab": {
          "base_uri": "https://localhost:8080/",
          "height": 681
        }
      },
      "execution_count": 25,
      "outputs": [
        {
          "output_type": "execute_result",
          "data": {
            "text/plain": [
              "      ROW_ID  SUBJECT_ID   CGID   CHARTDATE  \\\n",
              "775  1395715       10127  19087  2198-07-03   \n",
              "776  1395759       10127  19087  2198-07-13   \n",
              "777  1395751       10127  19087  2198-07-11   \n",
              "778  1395746       10127  19087  2198-07-10   \n",
              "779  1395698       10127  18792  2198-06-29   \n",
              "\n",
              "                                                  TEXT       CATEGORY LABEL  \\\n",
              "775  TSICU Nursing Progress Note\\nNeuro - Alert, fo...  Nursing/other    RN   \n",
              "776  TSICU Nursing Progress Note\\nNeuro - Remains w...  Nursing/other    RN   \n",
              "777  TSICU Nursing Progress Note\\nNeuro - Awake and...  Nursing/other    RN   \n",
              "778  TSICU Nursing Progress Note\\nNeuro - Alert, no...  Nursing/other    RN   \n",
              "779  TSICU NPN 7p-7a\\nS/O-\\n\\n[**Name (NI) 248**] p...  Nursing/other    RN   \n",
              "\n",
              "    DESCRIPTION  row_id  subject_id  ...  last_wardid               intime  \\\n",
              "775         NaN   12870       10127  ...           14  2198-06-28 05:35:32   \n",
              "776         NaN   12870       10127  ...           14  2198-06-28 05:35:32   \n",
              "777         NaN   12870       10127  ...           14  2198-06-28 05:35:32   \n",
              "778         NaN   12870       10127  ...           14  2198-06-28 05:35:32   \n",
              "779          RN   12870       10127  ...           14  2198-06-28 05:35:32   \n",
              "\n",
              "                 outtime      los GENDER                  DOB  \\\n",
              "775  2198-07-20 14:56:23  22.3895      F  2181-04-19 00:00:00   \n",
              "776  2198-07-20 14:56:23  22.3895      F  2181-04-19 00:00:00   \n",
              "777  2198-07-20 14:56:23  22.3895      F  2181-04-19 00:00:00   \n",
              "778  2198-07-20 14:56:23  22.3895      F  2181-04-19 00:00:00   \n",
              "779  2198-07-20 14:56:23  22.3895      F  2181-04-19 00:00:00   \n",
              "\n",
              "                     DOD DOD_HOSP              DOD_SSN  EXPIRE_FLAG  \n",
              "775  2201-11-08 00:00:00      NaN  2201-11-08 00:00:00            1  \n",
              "776  2201-11-08 00:00:00      NaN  2201-11-08 00:00:00            1  \n",
              "777  2201-11-08 00:00:00      NaN  2201-11-08 00:00:00            1  \n",
              "778  2201-11-08 00:00:00      NaN  2201-11-08 00:00:00            1  \n",
              "779  2201-11-08 00:00:00      NaN  2201-11-08 00:00:00            1  \n",
              "\n",
              "[5 rows x 26 columns]"
            ],
            "text/html": [
              "\n",
              "  <div id=\"df-4042b10d-e90e-4071-b249-b595e4d5de2f\">\n",
              "    <div class=\"colab-df-container\">\n",
              "      <div>\n",
              "<style scoped>\n",
              "    .dataframe tbody tr th:only-of-type {\n",
              "        vertical-align: middle;\n",
              "    }\n",
              "\n",
              "    .dataframe tbody tr th {\n",
              "        vertical-align: top;\n",
              "    }\n",
              "\n",
              "    .dataframe thead th {\n",
              "        text-align: right;\n",
              "    }\n",
              "</style>\n",
              "<table border=\"1\" class=\"dataframe\">\n",
              "  <thead>\n",
              "    <tr style=\"text-align: right;\">\n",
              "      <th></th>\n",
              "      <th>ROW_ID</th>\n",
              "      <th>SUBJECT_ID</th>\n",
              "      <th>CGID</th>\n",
              "      <th>CHARTDATE</th>\n",
              "      <th>TEXT</th>\n",
              "      <th>CATEGORY</th>\n",
              "      <th>LABEL</th>\n",
              "      <th>DESCRIPTION</th>\n",
              "      <th>row_id</th>\n",
              "      <th>subject_id</th>\n",
              "      <th>...</th>\n",
              "      <th>last_wardid</th>\n",
              "      <th>intime</th>\n",
              "      <th>outtime</th>\n",
              "      <th>los</th>\n",
              "      <th>GENDER</th>\n",
              "      <th>DOB</th>\n",
              "      <th>DOD</th>\n",
              "      <th>DOD_HOSP</th>\n",
              "      <th>DOD_SSN</th>\n",
              "      <th>EXPIRE_FLAG</th>\n",
              "    </tr>\n",
              "  </thead>\n",
              "  <tbody>\n",
              "    <tr>\n",
              "      <th>775</th>\n",
              "      <td>1395715</td>\n",
              "      <td>10127</td>\n",
              "      <td>19087</td>\n",
              "      <td>2198-07-03</td>\n",
              "      <td>TSICU Nursing Progress Note\\nNeuro - Alert, fo...</td>\n",
              "      <td>Nursing/other</td>\n",
              "      <td>RN</td>\n",
              "      <td>NaN</td>\n",
              "      <td>12870</td>\n",
              "      <td>10127</td>\n",
              "      <td>...</td>\n",
              "      <td>14</td>\n",
              "      <td>2198-06-28 05:35:32</td>\n",
              "      <td>2198-07-20 14:56:23</td>\n",
              "      <td>22.3895</td>\n",
              "      <td>F</td>\n",
              "      <td>2181-04-19 00:00:00</td>\n",
              "      <td>2201-11-08 00:00:00</td>\n",
              "      <td>NaN</td>\n",
              "      <td>2201-11-08 00:00:00</td>\n",
              "      <td>1</td>\n",
              "    </tr>\n",
              "    <tr>\n",
              "      <th>776</th>\n",
              "      <td>1395759</td>\n",
              "      <td>10127</td>\n",
              "      <td>19087</td>\n",
              "      <td>2198-07-13</td>\n",
              "      <td>TSICU Nursing Progress Note\\nNeuro - Remains w...</td>\n",
              "      <td>Nursing/other</td>\n",
              "      <td>RN</td>\n",
              "      <td>NaN</td>\n",
              "      <td>12870</td>\n",
              "      <td>10127</td>\n",
              "      <td>...</td>\n",
              "      <td>14</td>\n",
              "      <td>2198-06-28 05:35:32</td>\n",
              "      <td>2198-07-20 14:56:23</td>\n",
              "      <td>22.3895</td>\n",
              "      <td>F</td>\n",
              "      <td>2181-04-19 00:00:00</td>\n",
              "      <td>2201-11-08 00:00:00</td>\n",
              "      <td>NaN</td>\n",
              "      <td>2201-11-08 00:00:00</td>\n",
              "      <td>1</td>\n",
              "    </tr>\n",
              "    <tr>\n",
              "      <th>777</th>\n",
              "      <td>1395751</td>\n",
              "      <td>10127</td>\n",
              "      <td>19087</td>\n",
              "      <td>2198-07-11</td>\n",
              "      <td>TSICU Nursing Progress Note\\nNeuro - Awake and...</td>\n",
              "      <td>Nursing/other</td>\n",
              "      <td>RN</td>\n",
              "      <td>NaN</td>\n",
              "      <td>12870</td>\n",
              "      <td>10127</td>\n",
              "      <td>...</td>\n",
              "      <td>14</td>\n",
              "      <td>2198-06-28 05:35:32</td>\n",
              "      <td>2198-07-20 14:56:23</td>\n",
              "      <td>22.3895</td>\n",
              "      <td>F</td>\n",
              "      <td>2181-04-19 00:00:00</td>\n",
              "      <td>2201-11-08 00:00:00</td>\n",
              "      <td>NaN</td>\n",
              "      <td>2201-11-08 00:00:00</td>\n",
              "      <td>1</td>\n",
              "    </tr>\n",
              "    <tr>\n",
              "      <th>778</th>\n",
              "      <td>1395746</td>\n",
              "      <td>10127</td>\n",
              "      <td>19087</td>\n",
              "      <td>2198-07-10</td>\n",
              "      <td>TSICU Nursing Progress Note\\nNeuro - Alert, no...</td>\n",
              "      <td>Nursing/other</td>\n",
              "      <td>RN</td>\n",
              "      <td>NaN</td>\n",
              "      <td>12870</td>\n",
              "      <td>10127</td>\n",
              "      <td>...</td>\n",
              "      <td>14</td>\n",
              "      <td>2198-06-28 05:35:32</td>\n",
              "      <td>2198-07-20 14:56:23</td>\n",
              "      <td>22.3895</td>\n",
              "      <td>F</td>\n",
              "      <td>2181-04-19 00:00:00</td>\n",
              "      <td>2201-11-08 00:00:00</td>\n",
              "      <td>NaN</td>\n",
              "      <td>2201-11-08 00:00:00</td>\n",
              "      <td>1</td>\n",
              "    </tr>\n",
              "    <tr>\n",
              "      <th>779</th>\n",
              "      <td>1395698</td>\n",
              "      <td>10127</td>\n",
              "      <td>18792</td>\n",
              "      <td>2198-06-29</td>\n",
              "      <td>TSICU NPN 7p-7a\\nS/O-\\n\\n[**Name (NI) 248**] p...</td>\n",
              "      <td>Nursing/other</td>\n",
              "      <td>RN</td>\n",
              "      <td>RN</td>\n",
              "      <td>12870</td>\n",
              "      <td>10127</td>\n",
              "      <td>...</td>\n",
              "      <td>14</td>\n",
              "      <td>2198-06-28 05:35:32</td>\n",
              "      <td>2198-07-20 14:56:23</td>\n",
              "      <td>22.3895</td>\n",
              "      <td>F</td>\n",
              "      <td>2181-04-19 00:00:00</td>\n",
              "      <td>2201-11-08 00:00:00</td>\n",
              "      <td>NaN</td>\n",
              "      <td>2201-11-08 00:00:00</td>\n",
              "      <td>1</td>\n",
              "    </tr>\n",
              "  </tbody>\n",
              "</table>\n",
              "<p>5 rows × 26 columns</p>\n",
              "</div>\n",
              "      <button class=\"colab-df-convert\" onclick=\"convertToInteractive('df-4042b10d-e90e-4071-b249-b595e4d5de2f')\"\n",
              "              title=\"Convert this dataframe to an interactive table.\"\n",
              "              style=\"display:none;\">\n",
              "        \n",
              "  <svg xmlns=\"http://www.w3.org/2000/svg\" height=\"24px\"viewBox=\"0 0 24 24\"\n",
              "       width=\"24px\">\n",
              "    <path d=\"M0 0h24v24H0V0z\" fill=\"none\"/>\n",
              "    <path d=\"M18.56 5.44l.94 2.06.94-2.06 2.06-.94-2.06-.94-.94-2.06-.94 2.06-2.06.94zm-11 1L8.5 8.5l.94-2.06 2.06-.94-2.06-.94L8.5 2.5l-.94 2.06-2.06.94zm10 10l.94 2.06.94-2.06 2.06-.94-2.06-.94-.94-2.06-.94 2.06-2.06.94z\"/><path d=\"M17.41 7.96l-1.37-1.37c-.4-.4-.92-.59-1.43-.59-.52 0-1.04.2-1.43.59L10.3 9.45l-7.72 7.72c-.78.78-.78 2.05 0 2.83L4 21.41c.39.39.9.59 1.41.59.51 0 1.02-.2 1.41-.59l7.78-7.78 2.81-2.81c.8-.78.8-2.07 0-2.86zM5.41 20L4 18.59l7.72-7.72 1.47 1.35L5.41 20z\"/>\n",
              "  </svg>\n",
              "      </button>\n",
              "      \n",
              "  <style>\n",
              "    .colab-df-container {\n",
              "      display:flex;\n",
              "      flex-wrap:wrap;\n",
              "      gap: 12px;\n",
              "    }\n",
              "\n",
              "    .colab-df-convert {\n",
              "      background-color: #E8F0FE;\n",
              "      border: none;\n",
              "      border-radius: 50%;\n",
              "      cursor: pointer;\n",
              "      display: none;\n",
              "      fill: #1967D2;\n",
              "      height: 32px;\n",
              "      padding: 0 0 0 0;\n",
              "      width: 32px;\n",
              "    }\n",
              "\n",
              "    .colab-df-convert:hover {\n",
              "      background-color: #E2EBFA;\n",
              "      box-shadow: 0px 1px 2px rgba(60, 64, 67, 0.3), 0px 1px 3px 1px rgba(60, 64, 67, 0.15);\n",
              "      fill: #174EA6;\n",
              "    }\n",
              "\n",
              "    [theme=dark] .colab-df-convert {\n",
              "      background-color: #3B4455;\n",
              "      fill: #D2E3FC;\n",
              "    }\n",
              "\n",
              "    [theme=dark] .colab-df-convert:hover {\n",
              "      background-color: #434B5C;\n",
              "      box-shadow: 0px 1px 3px 1px rgba(0, 0, 0, 0.15);\n",
              "      filter: drop-shadow(0px 1px 2px rgba(0, 0, 0, 0.3));\n",
              "      fill: #FFFFFF;\n",
              "    }\n",
              "  </style>\n",
              "\n",
              "      <script>\n",
              "        const buttonEl =\n",
              "          document.querySelector('#df-4042b10d-e90e-4071-b249-b595e4d5de2f button.colab-df-convert');\n",
              "        buttonEl.style.display =\n",
              "          google.colab.kernel.accessAllowed ? 'block' : 'none';\n",
              "\n",
              "        async function convertToInteractive(key) {\n",
              "          const element = document.querySelector('#df-4042b10d-e90e-4071-b249-b595e4d5de2f');\n",
              "          const dataTable =\n",
              "            await google.colab.kernel.invokeFunction('convertToInteractive',\n",
              "                                                     [key], {});\n",
              "          if (!dataTable) return;\n",
              "\n",
              "          const docLinkHtml = 'Like what you see? Visit the ' +\n",
              "            '<a target=\"_blank\" href=https://colab.research.google.com/notebooks/data_table.ipynb>data table notebook</a>'\n",
              "            + ' to learn more about interactive tables.';\n",
              "          element.innerHTML = '';\n",
              "          dataTable['output_type'] = 'display_data';\n",
              "          await google.colab.output.renderOutput(dataTable, element);\n",
              "          const docLink = document.createElement('div');\n",
              "          docLink.innerHTML = docLinkHtml;\n",
              "          element.appendChild(docLink);\n",
              "        }\n",
              "      </script>\n",
              "    </div>\n",
              "  </div>\n",
              "  "
            ]
          },
          "metadata": {},
          "execution_count": 25
        }
      ]
    },
    {
      "cell_type": "markdown",
      "source": [
        "Join with ICD"
      ],
      "metadata": {
        "id": "bcq_LhnKvl9k"
      }
    },
    {
      "cell_type": "code",
      "source": [
        "df_notes_TSICU = df_notes_TSICU.merge(df_icd[['HADM_ID','ICD9_CODE','SEQ_NUM', 'SUBJECT_ID']], on=['HADM_ID', 'SUBJECT_ID'])\n",
        "df_notes_TSICU.info()"
      ],
      "metadata": {
        "id": "gd1FsvDMvlWL",
        "outputId": "09e3d2b0-2826-4d00-996b-a2da5a8db4a9",
        "colab": {
          "base_uri": "https://localhost:8080/",
          "height": 329
        }
      },
      "execution_count": 26,
      "outputs": [
        {
          "output_type": "error",
          "ename": "KeyError",
          "evalue": "ignored",
          "traceback": [
            "\u001b[0;31m---------------------------------------------------------------------------\u001b[0m",
            "\u001b[0;31mKeyError\u001b[0m                                  Traceback (most recent call last)",
            "\u001b[0;32m<ipython-input-26-48276f089e39>\u001b[0m in \u001b[0;36m<cell line: 1>\u001b[0;34m()\u001b[0m\n\u001b[0;32m----> 1\u001b[0;31m \u001b[0mdf_notes_TSICU\u001b[0m \u001b[0;34m=\u001b[0m \u001b[0mdf_notes_TSICU\u001b[0m\u001b[0;34m.\u001b[0m\u001b[0mmerge\u001b[0m\u001b[0;34m(\u001b[0m\u001b[0mdf_icd\u001b[0m\u001b[0;34m[\u001b[0m\u001b[0;34m[\u001b[0m\u001b[0;34m'HADM_ID'\u001b[0m\u001b[0;34m,\u001b[0m\u001b[0;34m'ICD9_CODE'\u001b[0m\u001b[0;34m,\u001b[0m\u001b[0;34m'SEQ_NUM'\u001b[0m\u001b[0;34m,\u001b[0m \u001b[0;34m'SUBJECT_ID'\u001b[0m\u001b[0;34m]\u001b[0m\u001b[0;34m]\u001b[0m\u001b[0;34m,\u001b[0m \u001b[0mon\u001b[0m\u001b[0;34m=\u001b[0m\u001b[0;34m[\u001b[0m\u001b[0;34m'HADM_ID'\u001b[0m\u001b[0;34m,\u001b[0m \u001b[0;34m'SUBJECT_ID'\u001b[0m\u001b[0;34m]\u001b[0m\u001b[0;34m)\u001b[0m\u001b[0;34m\u001b[0m\u001b[0;34m\u001b[0m\u001b[0m\n\u001b[0m\u001b[1;32m      2\u001b[0m \u001b[0mdf_notes_TSICU\u001b[0m\u001b[0;34m.\u001b[0m\u001b[0minfo\u001b[0m\u001b[0;34m(\u001b[0m\u001b[0;34m)\u001b[0m\u001b[0;34m\u001b[0m\u001b[0;34m\u001b[0m\u001b[0m\n",
            "\u001b[0;32m/usr/local/lib/python3.10/dist-packages/pandas/core/frame.py\u001b[0m in \u001b[0;36mmerge\u001b[0;34m(self, right, how, on, left_on, right_on, left_index, right_index, sort, suffixes, copy, indicator, validate)\u001b[0m\n\u001b[1;32m  10091\u001b[0m         \u001b[0;32mfrom\u001b[0m \u001b[0mpandas\u001b[0m\u001b[0;34m.\u001b[0m\u001b[0mcore\u001b[0m\u001b[0;34m.\u001b[0m\u001b[0mreshape\u001b[0m\u001b[0;34m.\u001b[0m\u001b[0mmerge\u001b[0m \u001b[0;32mimport\u001b[0m \u001b[0mmerge\u001b[0m\u001b[0;34m\u001b[0m\u001b[0;34m\u001b[0m\u001b[0m\n\u001b[1;32m  10092\u001b[0m \u001b[0;34m\u001b[0m\u001b[0m\n\u001b[0;32m> 10093\u001b[0;31m         return merge(\n\u001b[0m\u001b[1;32m  10094\u001b[0m             \u001b[0mself\u001b[0m\u001b[0;34m,\u001b[0m\u001b[0;34m\u001b[0m\u001b[0;34m\u001b[0m\u001b[0m\n\u001b[1;32m  10095\u001b[0m             \u001b[0mright\u001b[0m\u001b[0;34m,\u001b[0m\u001b[0;34m\u001b[0m\u001b[0;34m\u001b[0m\u001b[0m\n",
            "\u001b[0;32m/usr/local/lib/python3.10/dist-packages/pandas/core/reshape/merge.py\u001b[0m in \u001b[0;36mmerge\u001b[0;34m(left, right, how, on, left_on, right_on, left_index, right_index, sort, suffixes, copy, indicator, validate)\u001b[0m\n\u001b[1;32m    108\u001b[0m     \u001b[0mvalidate\u001b[0m\u001b[0;34m:\u001b[0m \u001b[0mstr\u001b[0m \u001b[0;34m|\u001b[0m \u001b[0;32mNone\u001b[0m \u001b[0;34m=\u001b[0m \u001b[0;32mNone\u001b[0m\u001b[0;34m,\u001b[0m\u001b[0;34m\u001b[0m\u001b[0;34m\u001b[0m\u001b[0m\n\u001b[1;32m    109\u001b[0m ) -> DataFrame:\n\u001b[0;32m--> 110\u001b[0;31m     op = _MergeOperation(\n\u001b[0m\u001b[1;32m    111\u001b[0m         \u001b[0mleft\u001b[0m\u001b[0;34m,\u001b[0m\u001b[0;34m\u001b[0m\u001b[0;34m\u001b[0m\u001b[0m\n\u001b[1;32m    112\u001b[0m         \u001b[0mright\u001b[0m\u001b[0;34m,\u001b[0m\u001b[0;34m\u001b[0m\u001b[0;34m\u001b[0m\u001b[0m\n",
            "\u001b[0;32m/usr/local/lib/python3.10/dist-packages/pandas/core/reshape/merge.py\u001b[0m in \u001b[0;36m__init__\u001b[0;34m(self, left, right, how, on, left_on, right_on, axis, left_index, right_index, sort, suffixes, indicator, validate)\u001b[0m\n\u001b[1;32m    701\u001b[0m             \u001b[0mself\u001b[0m\u001b[0;34m.\u001b[0m\u001b[0mright_join_keys\u001b[0m\u001b[0;34m,\u001b[0m\u001b[0;34m\u001b[0m\u001b[0;34m\u001b[0m\u001b[0m\n\u001b[1;32m    702\u001b[0m             \u001b[0mself\u001b[0m\u001b[0;34m.\u001b[0m\u001b[0mjoin_names\u001b[0m\u001b[0;34m,\u001b[0m\u001b[0;34m\u001b[0m\u001b[0;34m\u001b[0m\u001b[0m\n\u001b[0;32m--> 703\u001b[0;31m         ) = self._get_merge_keys()\n\u001b[0m\u001b[1;32m    704\u001b[0m \u001b[0;34m\u001b[0m\u001b[0m\n\u001b[1;32m    705\u001b[0m         \u001b[0;31m# validate the merge keys dtypes. We may need to coerce\u001b[0m\u001b[0;34m\u001b[0m\u001b[0;34m\u001b[0m\u001b[0m\n",
            "\u001b[0;32m/usr/local/lib/python3.10/dist-packages/pandas/core/reshape/merge.py\u001b[0m in \u001b[0;36m_get_merge_keys\u001b[0;34m(self)\u001b[0m\n\u001b[1;32m   1177\u001b[0m                         \u001b[0;31m#  the latter of which will raise\u001b[0m\u001b[0;34m\u001b[0m\u001b[0;34m\u001b[0m\u001b[0m\n\u001b[1;32m   1178\u001b[0m                         \u001b[0mlk\u001b[0m \u001b[0;34m=\u001b[0m \u001b[0mcast\u001b[0m\u001b[0;34m(\u001b[0m\u001b[0mHashable\u001b[0m\u001b[0;34m,\u001b[0m \u001b[0mlk\u001b[0m\u001b[0;34m)\u001b[0m\u001b[0;34m\u001b[0m\u001b[0;34m\u001b[0m\u001b[0m\n\u001b[0;32m-> 1179\u001b[0;31m                         \u001b[0mleft_keys\u001b[0m\u001b[0;34m.\u001b[0m\u001b[0mappend\u001b[0m\u001b[0;34m(\u001b[0m\u001b[0mleft\u001b[0m\u001b[0;34m.\u001b[0m\u001b[0m_get_label_or_level_values\u001b[0m\u001b[0;34m(\u001b[0m\u001b[0mlk\u001b[0m\u001b[0;34m)\u001b[0m\u001b[0;34m)\u001b[0m\u001b[0;34m\u001b[0m\u001b[0;34m\u001b[0m\u001b[0m\n\u001b[0m\u001b[1;32m   1180\u001b[0m                         \u001b[0mjoin_names\u001b[0m\u001b[0;34m.\u001b[0m\u001b[0mappend\u001b[0m\u001b[0;34m(\u001b[0m\u001b[0mlk\u001b[0m\u001b[0;34m)\u001b[0m\u001b[0;34m\u001b[0m\u001b[0;34m\u001b[0m\u001b[0m\n\u001b[1;32m   1181\u001b[0m                     \u001b[0;32melse\u001b[0m\u001b[0;34m:\u001b[0m\u001b[0;34m\u001b[0m\u001b[0;34m\u001b[0m\u001b[0m\n",
            "\u001b[0;32m/usr/local/lib/python3.10/dist-packages/pandas/core/generic.py\u001b[0m in \u001b[0;36m_get_label_or_level_values\u001b[0;34m(self, key, axis)\u001b[0m\n\u001b[1;32m   1848\u001b[0m             )\n\u001b[1;32m   1849\u001b[0m         \u001b[0;32melse\u001b[0m\u001b[0;34m:\u001b[0m\u001b[0;34m\u001b[0m\u001b[0;34m\u001b[0m\u001b[0m\n\u001b[0;32m-> 1850\u001b[0;31m             \u001b[0;32mraise\u001b[0m \u001b[0mKeyError\u001b[0m\u001b[0;34m(\u001b[0m\u001b[0mkey\u001b[0m\u001b[0;34m)\u001b[0m\u001b[0;34m\u001b[0m\u001b[0;34m\u001b[0m\u001b[0m\n\u001b[0m\u001b[1;32m   1851\u001b[0m \u001b[0;34m\u001b[0m\u001b[0m\n\u001b[1;32m   1852\u001b[0m         \u001b[0;31m# Check for duplicates\u001b[0m\u001b[0;34m\u001b[0m\u001b[0;34m\u001b[0m\u001b[0m\n",
            "\u001b[0;31mKeyError\u001b[0m: 'HADM_ID'"
          ]
        }
      ]
    },
    {
      "cell_type": "code",
      "source": [
        "df_notes_TSICU.head(20)"
      ],
      "metadata": {
        "colab": {
          "base_uri": "https://localhost:8080/",
          "height": 1000
        },
        "id": "6w5kj2hgHgAY",
        "outputId": "adccdc1b-6d92-43de-a059-64cfdb89fe30"
      },
      "execution_count": 27,
      "outputs": [
        {
          "output_type": "execute_result",
          "data": {
            "text/plain": [
              "      ROW_ID  SUBJECT_ID   CGID   CHARTDATE  \\\n",
              "775  1395715       10127  19087  2198-07-03   \n",
              "776  1395759       10127  19087  2198-07-13   \n",
              "777  1395751       10127  19087  2198-07-11   \n",
              "778  1395746       10127  19087  2198-07-10   \n",
              "779  1395698       10127  18792  2198-06-29   \n",
              "780  1395693       10127  18792  2198-06-28   \n",
              "781  1395744       10127  16140  2198-07-10   \n",
              "782  1395724       10127  15709  2198-07-05   \n",
              "783  1395772       10127  15709  2198-07-17   \n",
              "784  1395729       10127  15709  2198-07-06   \n",
              "785  1395732       10127  15709  2198-07-07   \n",
              "786  1395753       10127  15709  2198-07-12   \n",
              "787  1395749       10127  15709  2198-07-11   \n",
              "788  1395707       10127  15286  2198-07-01   \n",
              "789  1395703       10127  15286  2198-06-30   \n",
              "790  1395778       10127  18784  2198-07-18   \n",
              "791  1395766       10127  14562  2198-07-15   \n",
              "792  1395762       10127  14562  2198-07-14   \n",
              "793  1395771       10127  15047  2198-07-16   \n",
              "794  1395781       10127  18941  2198-07-19   \n",
              "\n",
              "                                                  TEXT       CATEGORY LABEL  \\\n",
              "775  TSICU Nursing Progress Note\\nNeuro - Alert, fo...  Nursing/other    RN   \n",
              "776  TSICU Nursing Progress Note\\nNeuro - Remains w...  Nursing/other    RN   \n",
              "777  TSICU Nursing Progress Note\\nNeuro - Awake and...  Nursing/other    RN   \n",
              "778  TSICU Nursing Progress Note\\nNeuro - Alert, no...  Nursing/other    RN   \n",
              "779  TSICU NPN 7p-7a\\nS/O-\\n\\n[**Name (NI) 248**] p...  Nursing/other    RN   \n",
              "780  TSICU Admitting Note\\nPlease see FHPA and care...  Nursing/other    RN   \n",
              "781  [**Name (NI) 2000**] NPN\\nPt remains in the T-...  Nursing/other    RN   \n",
              "782  NPN 7pm-7am\\n\\nROS:  (See Carevue for exact ch...  Nursing/other   RNs   \n",
              "783  NPN 7pm-7am\\n\\nEvents of Shift:  MRI/MRA with ...  Nursing/other   RNs   \n",
              "784  NPN 7pm-7am\\nROS: See carevue for exacts\\n\\nNe...  Nursing/other   RNs   \n",
              "785  NPN 7p-7am\\n\\n17 yr old female. --> NKDA. --> ...  Nursing/other   RNs   \n",
              "786  NPN 7pm-7am\\n\\nROS: (See carevue for exact dat...  Nursing/other   RNs   \n",
              "787  NPN 7pm-7am\\n\\nROS: See carevue for exacts\\n\\n...  Nursing/other   RNs   \n",
              "788  NPN 7pm-7am\\n\\nEvents- around 2330 pt sats dro...  Nursing/other    RN   \n",
              "789  NPN 11p-7a\\n\\nNo significant events overnight....  Nursing/other    RN   \n",
              "790  cv: hr 80's to 54 nsr no ectopy. sbp decreased...  Nursing/other    RN   \n",
              "791  NPN 0700-1900\\nNEURO: Overall affect depressed...  Nursing/other    RN   \n",
              "792  NPN 0700-1900\\nNEURO: Pt alert and interactive...  Nursing/other    RN   \n",
              "793  NPN 0700-1900;\\nevents ; temp spike to 105.9 r...  Nursing/other    RN   \n",
              "794  TSICU NPN 1900-0700\\nREVIEW OF SYSTEMS:\\n\\nNEU...  Nursing/other    RN   \n",
              "\n",
              "    DESCRIPTION  row_id  subject_id  ...  last_wardid               intime  \\\n",
              "775         NaN   12870       10127  ...           14  2198-06-28 05:35:32   \n",
              "776         NaN   12870       10127  ...           14  2198-06-28 05:35:32   \n",
              "777         NaN   12870       10127  ...           14  2198-06-28 05:35:32   \n",
              "778         NaN   12870       10127  ...           14  2198-06-28 05:35:32   \n",
              "779          RN   12870       10127  ...           14  2198-06-28 05:35:32   \n",
              "780          RN   12870       10127  ...           14  2198-06-28 05:35:32   \n",
              "781         NaN   12870       10127  ...           14  2198-06-28 05:35:32   \n",
              "782          RN   12870       10127  ...           14  2198-06-28 05:35:32   \n",
              "783          RN   12870       10127  ...           14  2198-06-28 05:35:32   \n",
              "784          RN   12870       10127  ...           14  2198-06-28 05:35:32   \n",
              "785          RN   12870       10127  ...           14  2198-06-28 05:35:32   \n",
              "786          RN   12870       10127  ...           14  2198-06-28 05:35:32   \n",
              "787          RN   12870       10127  ...           14  2198-06-28 05:35:32   \n",
              "788          RN   12870       10127  ...           14  2198-06-28 05:35:32   \n",
              "789          RN   12870       10127  ...           14  2198-06-28 05:35:32   \n",
              "790          RN   12870       10127  ...           14  2198-06-28 05:35:32   \n",
              "791         NaN   12870       10127  ...           14  2198-06-28 05:35:32   \n",
              "792         NaN   12870       10127  ...           14  2198-06-28 05:35:32   \n",
              "793          RN   12870       10127  ...           14  2198-06-28 05:35:32   \n",
              "794          RN   12870       10127  ...           14  2198-06-28 05:35:32   \n",
              "\n",
              "                 outtime      los GENDER                  DOB  \\\n",
              "775  2198-07-20 14:56:23  22.3895      F  2181-04-19 00:00:00   \n",
              "776  2198-07-20 14:56:23  22.3895      F  2181-04-19 00:00:00   \n",
              "777  2198-07-20 14:56:23  22.3895      F  2181-04-19 00:00:00   \n",
              "778  2198-07-20 14:56:23  22.3895      F  2181-04-19 00:00:00   \n",
              "779  2198-07-20 14:56:23  22.3895      F  2181-04-19 00:00:00   \n",
              "780  2198-07-20 14:56:23  22.3895      F  2181-04-19 00:00:00   \n",
              "781  2198-07-20 14:56:23  22.3895      F  2181-04-19 00:00:00   \n",
              "782  2198-07-20 14:56:23  22.3895      F  2181-04-19 00:00:00   \n",
              "783  2198-07-20 14:56:23  22.3895      F  2181-04-19 00:00:00   \n",
              "784  2198-07-20 14:56:23  22.3895      F  2181-04-19 00:00:00   \n",
              "785  2198-07-20 14:56:23  22.3895      F  2181-04-19 00:00:00   \n",
              "786  2198-07-20 14:56:23  22.3895      F  2181-04-19 00:00:00   \n",
              "787  2198-07-20 14:56:23  22.3895      F  2181-04-19 00:00:00   \n",
              "788  2198-07-20 14:56:23  22.3895      F  2181-04-19 00:00:00   \n",
              "789  2198-07-20 14:56:23  22.3895      F  2181-04-19 00:00:00   \n",
              "790  2198-07-20 14:56:23  22.3895      F  2181-04-19 00:00:00   \n",
              "791  2198-07-20 14:56:23  22.3895      F  2181-04-19 00:00:00   \n",
              "792  2198-07-20 14:56:23  22.3895      F  2181-04-19 00:00:00   \n",
              "793  2198-07-20 14:56:23  22.3895      F  2181-04-19 00:00:00   \n",
              "794  2198-07-20 14:56:23  22.3895      F  2181-04-19 00:00:00   \n",
              "\n",
              "                     DOD DOD_HOSP              DOD_SSN  EXPIRE_FLAG  \n",
              "775  2201-11-08 00:00:00      NaN  2201-11-08 00:00:00            1  \n",
              "776  2201-11-08 00:00:00      NaN  2201-11-08 00:00:00            1  \n",
              "777  2201-11-08 00:00:00      NaN  2201-11-08 00:00:00            1  \n",
              "778  2201-11-08 00:00:00      NaN  2201-11-08 00:00:00            1  \n",
              "779  2201-11-08 00:00:00      NaN  2201-11-08 00:00:00            1  \n",
              "780  2201-11-08 00:00:00      NaN  2201-11-08 00:00:00            1  \n",
              "781  2201-11-08 00:00:00      NaN  2201-11-08 00:00:00            1  \n",
              "782  2201-11-08 00:00:00      NaN  2201-11-08 00:00:00            1  \n",
              "783  2201-11-08 00:00:00      NaN  2201-11-08 00:00:00            1  \n",
              "784  2201-11-08 00:00:00      NaN  2201-11-08 00:00:00            1  \n",
              "785  2201-11-08 00:00:00      NaN  2201-11-08 00:00:00            1  \n",
              "786  2201-11-08 00:00:00      NaN  2201-11-08 00:00:00            1  \n",
              "787  2201-11-08 00:00:00      NaN  2201-11-08 00:00:00            1  \n",
              "788  2201-11-08 00:00:00      NaN  2201-11-08 00:00:00            1  \n",
              "789  2201-11-08 00:00:00      NaN  2201-11-08 00:00:00            1  \n",
              "790  2201-11-08 00:00:00      NaN  2201-11-08 00:00:00            1  \n",
              "791  2201-11-08 00:00:00      NaN  2201-11-08 00:00:00            1  \n",
              "792  2201-11-08 00:00:00      NaN  2201-11-08 00:00:00            1  \n",
              "793  2201-11-08 00:00:00      NaN  2201-11-08 00:00:00            1  \n",
              "794  2201-11-08 00:00:00      NaN  2201-11-08 00:00:00            1  \n",
              "\n",
              "[20 rows x 26 columns]"
            ],
            "text/html": [
              "\n",
              "  <div id=\"df-b44a92df-29a7-4165-acbe-c2a7279548bc\">\n",
              "    <div class=\"colab-df-container\">\n",
              "      <div>\n",
              "<style scoped>\n",
              "    .dataframe tbody tr th:only-of-type {\n",
              "        vertical-align: middle;\n",
              "    }\n",
              "\n",
              "    .dataframe tbody tr th {\n",
              "        vertical-align: top;\n",
              "    }\n",
              "\n",
              "    .dataframe thead th {\n",
              "        text-align: right;\n",
              "    }\n",
              "</style>\n",
              "<table border=\"1\" class=\"dataframe\">\n",
              "  <thead>\n",
              "    <tr style=\"text-align: right;\">\n",
              "      <th></th>\n",
              "      <th>ROW_ID</th>\n",
              "      <th>SUBJECT_ID</th>\n",
              "      <th>CGID</th>\n",
              "      <th>CHARTDATE</th>\n",
              "      <th>TEXT</th>\n",
              "      <th>CATEGORY</th>\n",
              "      <th>LABEL</th>\n",
              "      <th>DESCRIPTION</th>\n",
              "      <th>row_id</th>\n",
              "      <th>subject_id</th>\n",
              "      <th>...</th>\n",
              "      <th>last_wardid</th>\n",
              "      <th>intime</th>\n",
              "      <th>outtime</th>\n",
              "      <th>los</th>\n",
              "      <th>GENDER</th>\n",
              "      <th>DOB</th>\n",
              "      <th>DOD</th>\n",
              "      <th>DOD_HOSP</th>\n",
              "      <th>DOD_SSN</th>\n",
              "      <th>EXPIRE_FLAG</th>\n",
              "    </tr>\n",
              "  </thead>\n",
              "  <tbody>\n",
              "    <tr>\n",
              "      <th>775</th>\n",
              "      <td>1395715</td>\n",
              "      <td>10127</td>\n",
              "      <td>19087</td>\n",
              "      <td>2198-07-03</td>\n",
              "      <td>TSICU Nursing Progress Note\\nNeuro - Alert, fo...</td>\n",
              "      <td>Nursing/other</td>\n",
              "      <td>RN</td>\n",
              "      <td>NaN</td>\n",
              "      <td>12870</td>\n",
              "      <td>10127</td>\n",
              "      <td>...</td>\n",
              "      <td>14</td>\n",
              "      <td>2198-06-28 05:35:32</td>\n",
              "      <td>2198-07-20 14:56:23</td>\n",
              "      <td>22.3895</td>\n",
              "      <td>F</td>\n",
              "      <td>2181-04-19 00:00:00</td>\n",
              "      <td>2201-11-08 00:00:00</td>\n",
              "      <td>NaN</td>\n",
              "      <td>2201-11-08 00:00:00</td>\n",
              "      <td>1</td>\n",
              "    </tr>\n",
              "    <tr>\n",
              "      <th>776</th>\n",
              "      <td>1395759</td>\n",
              "      <td>10127</td>\n",
              "      <td>19087</td>\n",
              "      <td>2198-07-13</td>\n",
              "      <td>TSICU Nursing Progress Note\\nNeuro - Remains w...</td>\n",
              "      <td>Nursing/other</td>\n",
              "      <td>RN</td>\n",
              "      <td>NaN</td>\n",
              "      <td>12870</td>\n",
              "      <td>10127</td>\n",
              "      <td>...</td>\n",
              "      <td>14</td>\n",
              "      <td>2198-06-28 05:35:32</td>\n",
              "      <td>2198-07-20 14:56:23</td>\n",
              "      <td>22.3895</td>\n",
              "      <td>F</td>\n",
              "      <td>2181-04-19 00:00:00</td>\n",
              "      <td>2201-11-08 00:00:00</td>\n",
              "      <td>NaN</td>\n",
              "      <td>2201-11-08 00:00:00</td>\n",
              "      <td>1</td>\n",
              "    </tr>\n",
              "    <tr>\n",
              "      <th>777</th>\n",
              "      <td>1395751</td>\n",
              "      <td>10127</td>\n",
              "      <td>19087</td>\n",
              "      <td>2198-07-11</td>\n",
              "      <td>TSICU Nursing Progress Note\\nNeuro - Awake and...</td>\n",
              "      <td>Nursing/other</td>\n",
              "      <td>RN</td>\n",
              "      <td>NaN</td>\n",
              "      <td>12870</td>\n",
              "      <td>10127</td>\n",
              "      <td>...</td>\n",
              "      <td>14</td>\n",
              "      <td>2198-06-28 05:35:32</td>\n",
              "      <td>2198-07-20 14:56:23</td>\n",
              "      <td>22.3895</td>\n",
              "      <td>F</td>\n",
              "      <td>2181-04-19 00:00:00</td>\n",
              "      <td>2201-11-08 00:00:00</td>\n",
              "      <td>NaN</td>\n",
              "      <td>2201-11-08 00:00:00</td>\n",
              "      <td>1</td>\n",
              "    </tr>\n",
              "    <tr>\n",
              "      <th>778</th>\n",
              "      <td>1395746</td>\n",
              "      <td>10127</td>\n",
              "      <td>19087</td>\n",
              "      <td>2198-07-10</td>\n",
              "      <td>TSICU Nursing Progress Note\\nNeuro - Alert, no...</td>\n",
              "      <td>Nursing/other</td>\n",
              "      <td>RN</td>\n",
              "      <td>NaN</td>\n",
              "      <td>12870</td>\n",
              "      <td>10127</td>\n",
              "      <td>...</td>\n",
              "      <td>14</td>\n",
              "      <td>2198-06-28 05:35:32</td>\n",
              "      <td>2198-07-20 14:56:23</td>\n",
              "      <td>22.3895</td>\n",
              "      <td>F</td>\n",
              "      <td>2181-04-19 00:00:00</td>\n",
              "      <td>2201-11-08 00:00:00</td>\n",
              "      <td>NaN</td>\n",
              "      <td>2201-11-08 00:00:00</td>\n",
              "      <td>1</td>\n",
              "    </tr>\n",
              "    <tr>\n",
              "      <th>779</th>\n",
              "      <td>1395698</td>\n",
              "      <td>10127</td>\n",
              "      <td>18792</td>\n",
              "      <td>2198-06-29</td>\n",
              "      <td>TSICU NPN 7p-7a\\nS/O-\\n\\n[**Name (NI) 248**] p...</td>\n",
              "      <td>Nursing/other</td>\n",
              "      <td>RN</td>\n",
              "      <td>RN</td>\n",
              "      <td>12870</td>\n",
              "      <td>10127</td>\n",
              "      <td>...</td>\n",
              "      <td>14</td>\n",
              "      <td>2198-06-28 05:35:32</td>\n",
              "      <td>2198-07-20 14:56:23</td>\n",
              "      <td>22.3895</td>\n",
              "      <td>F</td>\n",
              "      <td>2181-04-19 00:00:00</td>\n",
              "      <td>2201-11-08 00:00:00</td>\n",
              "      <td>NaN</td>\n",
              "      <td>2201-11-08 00:00:00</td>\n",
              "      <td>1</td>\n",
              "    </tr>\n",
              "    <tr>\n",
              "      <th>780</th>\n",
              "      <td>1395693</td>\n",
              "      <td>10127</td>\n",
              "      <td>18792</td>\n",
              "      <td>2198-06-28</td>\n",
              "      <td>TSICU Admitting Note\\nPlease see FHPA and care...</td>\n",
              "      <td>Nursing/other</td>\n",
              "      <td>RN</td>\n",
              "      <td>RN</td>\n",
              "      <td>12870</td>\n",
              "      <td>10127</td>\n",
              "      <td>...</td>\n",
              "      <td>14</td>\n",
              "      <td>2198-06-28 05:35:32</td>\n",
              "      <td>2198-07-20 14:56:23</td>\n",
              "      <td>22.3895</td>\n",
              "      <td>F</td>\n",
              "      <td>2181-04-19 00:00:00</td>\n",
              "      <td>2201-11-08 00:00:00</td>\n",
              "      <td>NaN</td>\n",
              "      <td>2201-11-08 00:00:00</td>\n",
              "      <td>1</td>\n",
              "    </tr>\n",
              "    <tr>\n",
              "      <th>781</th>\n",
              "      <td>1395744</td>\n",
              "      <td>10127</td>\n",
              "      <td>16140</td>\n",
              "      <td>2198-07-10</td>\n",
              "      <td>[**Name (NI) 2000**] NPN\\nPt remains in the T-...</td>\n",
              "      <td>Nursing/other</td>\n",
              "      <td>RN</td>\n",
              "      <td>NaN</td>\n",
              "      <td>12870</td>\n",
              "      <td>10127</td>\n",
              "      <td>...</td>\n",
              "      <td>14</td>\n",
              "      <td>2198-06-28 05:35:32</td>\n",
              "      <td>2198-07-20 14:56:23</td>\n",
              "      <td>22.3895</td>\n",
              "      <td>F</td>\n",
              "      <td>2181-04-19 00:00:00</td>\n",
              "      <td>2201-11-08 00:00:00</td>\n",
              "      <td>NaN</td>\n",
              "      <td>2201-11-08 00:00:00</td>\n",
              "      <td>1</td>\n",
              "    </tr>\n",
              "    <tr>\n",
              "      <th>782</th>\n",
              "      <td>1395724</td>\n",
              "      <td>10127</td>\n",
              "      <td>15709</td>\n",
              "      <td>2198-07-05</td>\n",
              "      <td>NPN 7pm-7am\\n\\nROS:  (See Carevue for exact ch...</td>\n",
              "      <td>Nursing/other</td>\n",
              "      <td>RNs</td>\n",
              "      <td>RN</td>\n",
              "      <td>12870</td>\n",
              "      <td>10127</td>\n",
              "      <td>...</td>\n",
              "      <td>14</td>\n",
              "      <td>2198-06-28 05:35:32</td>\n",
              "      <td>2198-07-20 14:56:23</td>\n",
              "      <td>22.3895</td>\n",
              "      <td>F</td>\n",
              "      <td>2181-04-19 00:00:00</td>\n",
              "      <td>2201-11-08 00:00:00</td>\n",
              "      <td>NaN</td>\n",
              "      <td>2201-11-08 00:00:00</td>\n",
              "      <td>1</td>\n",
              "    </tr>\n",
              "    <tr>\n",
              "      <th>783</th>\n",
              "      <td>1395772</td>\n",
              "      <td>10127</td>\n",
              "      <td>15709</td>\n",
              "      <td>2198-07-17</td>\n",
              "      <td>NPN 7pm-7am\\n\\nEvents of Shift:  MRI/MRA with ...</td>\n",
              "      <td>Nursing/other</td>\n",
              "      <td>RNs</td>\n",
              "      <td>RN</td>\n",
              "      <td>12870</td>\n",
              "      <td>10127</td>\n",
              "      <td>...</td>\n",
              "      <td>14</td>\n",
              "      <td>2198-06-28 05:35:32</td>\n",
              "      <td>2198-07-20 14:56:23</td>\n",
              "      <td>22.3895</td>\n",
              "      <td>F</td>\n",
              "      <td>2181-04-19 00:00:00</td>\n",
              "      <td>2201-11-08 00:00:00</td>\n",
              "      <td>NaN</td>\n",
              "      <td>2201-11-08 00:00:00</td>\n",
              "      <td>1</td>\n",
              "    </tr>\n",
              "    <tr>\n",
              "      <th>784</th>\n",
              "      <td>1395729</td>\n",
              "      <td>10127</td>\n",
              "      <td>15709</td>\n",
              "      <td>2198-07-06</td>\n",
              "      <td>NPN 7pm-7am\\nROS: See carevue for exacts\\n\\nNe...</td>\n",
              "      <td>Nursing/other</td>\n",
              "      <td>RNs</td>\n",
              "      <td>RN</td>\n",
              "      <td>12870</td>\n",
              "      <td>10127</td>\n",
              "      <td>...</td>\n",
              "      <td>14</td>\n",
              "      <td>2198-06-28 05:35:32</td>\n",
              "      <td>2198-07-20 14:56:23</td>\n",
              "      <td>22.3895</td>\n",
              "      <td>F</td>\n",
              "      <td>2181-04-19 00:00:00</td>\n",
              "      <td>2201-11-08 00:00:00</td>\n",
              "      <td>NaN</td>\n",
              "      <td>2201-11-08 00:00:00</td>\n",
              "      <td>1</td>\n",
              "    </tr>\n",
              "    <tr>\n",
              "      <th>785</th>\n",
              "      <td>1395732</td>\n",
              "      <td>10127</td>\n",
              "      <td>15709</td>\n",
              "      <td>2198-07-07</td>\n",
              "      <td>NPN 7p-7am\\n\\n17 yr old female. --&gt; NKDA. --&gt; ...</td>\n",
              "      <td>Nursing/other</td>\n",
              "      <td>RNs</td>\n",
              "      <td>RN</td>\n",
              "      <td>12870</td>\n",
              "      <td>10127</td>\n",
              "      <td>...</td>\n",
              "      <td>14</td>\n",
              "      <td>2198-06-28 05:35:32</td>\n",
              "      <td>2198-07-20 14:56:23</td>\n",
              "      <td>22.3895</td>\n",
              "      <td>F</td>\n",
              "      <td>2181-04-19 00:00:00</td>\n",
              "      <td>2201-11-08 00:00:00</td>\n",
              "      <td>NaN</td>\n",
              "      <td>2201-11-08 00:00:00</td>\n",
              "      <td>1</td>\n",
              "    </tr>\n",
              "    <tr>\n",
              "      <th>786</th>\n",
              "      <td>1395753</td>\n",
              "      <td>10127</td>\n",
              "      <td>15709</td>\n",
              "      <td>2198-07-12</td>\n",
              "      <td>NPN 7pm-7am\\n\\nROS: (See carevue for exact dat...</td>\n",
              "      <td>Nursing/other</td>\n",
              "      <td>RNs</td>\n",
              "      <td>RN</td>\n",
              "      <td>12870</td>\n",
              "      <td>10127</td>\n",
              "      <td>...</td>\n",
              "      <td>14</td>\n",
              "      <td>2198-06-28 05:35:32</td>\n",
              "      <td>2198-07-20 14:56:23</td>\n",
              "      <td>22.3895</td>\n",
              "      <td>F</td>\n",
              "      <td>2181-04-19 00:00:00</td>\n",
              "      <td>2201-11-08 00:00:00</td>\n",
              "      <td>NaN</td>\n",
              "      <td>2201-11-08 00:00:00</td>\n",
              "      <td>1</td>\n",
              "    </tr>\n",
              "    <tr>\n",
              "      <th>787</th>\n",
              "      <td>1395749</td>\n",
              "      <td>10127</td>\n",
              "      <td>15709</td>\n",
              "      <td>2198-07-11</td>\n",
              "      <td>NPN 7pm-7am\\n\\nROS: See carevue for exacts\\n\\n...</td>\n",
              "      <td>Nursing/other</td>\n",
              "      <td>RNs</td>\n",
              "      <td>RN</td>\n",
              "      <td>12870</td>\n",
              "      <td>10127</td>\n",
              "      <td>...</td>\n",
              "      <td>14</td>\n",
              "      <td>2198-06-28 05:35:32</td>\n",
              "      <td>2198-07-20 14:56:23</td>\n",
              "      <td>22.3895</td>\n",
              "      <td>F</td>\n",
              "      <td>2181-04-19 00:00:00</td>\n",
              "      <td>2201-11-08 00:00:00</td>\n",
              "      <td>NaN</td>\n",
              "      <td>2201-11-08 00:00:00</td>\n",
              "      <td>1</td>\n",
              "    </tr>\n",
              "    <tr>\n",
              "      <th>788</th>\n",
              "      <td>1395707</td>\n",
              "      <td>10127</td>\n",
              "      <td>15286</td>\n",
              "      <td>2198-07-01</td>\n",
              "      <td>NPN 7pm-7am\\n\\nEvents- around 2330 pt sats dro...</td>\n",
              "      <td>Nursing/other</td>\n",
              "      <td>RN</td>\n",
              "      <td>RN</td>\n",
              "      <td>12870</td>\n",
              "      <td>10127</td>\n",
              "      <td>...</td>\n",
              "      <td>14</td>\n",
              "      <td>2198-06-28 05:35:32</td>\n",
              "      <td>2198-07-20 14:56:23</td>\n",
              "      <td>22.3895</td>\n",
              "      <td>F</td>\n",
              "      <td>2181-04-19 00:00:00</td>\n",
              "      <td>2201-11-08 00:00:00</td>\n",
              "      <td>NaN</td>\n",
              "      <td>2201-11-08 00:00:00</td>\n",
              "      <td>1</td>\n",
              "    </tr>\n",
              "    <tr>\n",
              "      <th>789</th>\n",
              "      <td>1395703</td>\n",
              "      <td>10127</td>\n",
              "      <td>15286</td>\n",
              "      <td>2198-06-30</td>\n",
              "      <td>NPN 11p-7a\\n\\nNo significant events overnight....</td>\n",
              "      <td>Nursing/other</td>\n",
              "      <td>RN</td>\n",
              "      <td>RN</td>\n",
              "      <td>12870</td>\n",
              "      <td>10127</td>\n",
              "      <td>...</td>\n",
              "      <td>14</td>\n",
              "      <td>2198-06-28 05:35:32</td>\n",
              "      <td>2198-07-20 14:56:23</td>\n",
              "      <td>22.3895</td>\n",
              "      <td>F</td>\n",
              "      <td>2181-04-19 00:00:00</td>\n",
              "      <td>2201-11-08 00:00:00</td>\n",
              "      <td>NaN</td>\n",
              "      <td>2201-11-08 00:00:00</td>\n",
              "      <td>1</td>\n",
              "    </tr>\n",
              "    <tr>\n",
              "      <th>790</th>\n",
              "      <td>1395778</td>\n",
              "      <td>10127</td>\n",
              "      <td>18784</td>\n",
              "      <td>2198-07-18</td>\n",
              "      <td>cv: hr 80's to 54 nsr no ectopy. sbp decreased...</td>\n",
              "      <td>Nursing/other</td>\n",
              "      <td>RN</td>\n",
              "      <td>RN</td>\n",
              "      <td>12870</td>\n",
              "      <td>10127</td>\n",
              "      <td>...</td>\n",
              "      <td>14</td>\n",
              "      <td>2198-06-28 05:35:32</td>\n",
              "      <td>2198-07-20 14:56:23</td>\n",
              "      <td>22.3895</td>\n",
              "      <td>F</td>\n",
              "      <td>2181-04-19 00:00:00</td>\n",
              "      <td>2201-11-08 00:00:00</td>\n",
              "      <td>NaN</td>\n",
              "      <td>2201-11-08 00:00:00</td>\n",
              "      <td>1</td>\n",
              "    </tr>\n",
              "    <tr>\n",
              "      <th>791</th>\n",
              "      <td>1395766</td>\n",
              "      <td>10127</td>\n",
              "      <td>14562</td>\n",
              "      <td>2198-07-15</td>\n",
              "      <td>NPN 0700-1900\\nNEURO: Overall affect depressed...</td>\n",
              "      <td>Nursing/other</td>\n",
              "      <td>RN</td>\n",
              "      <td>NaN</td>\n",
              "      <td>12870</td>\n",
              "      <td>10127</td>\n",
              "      <td>...</td>\n",
              "      <td>14</td>\n",
              "      <td>2198-06-28 05:35:32</td>\n",
              "      <td>2198-07-20 14:56:23</td>\n",
              "      <td>22.3895</td>\n",
              "      <td>F</td>\n",
              "      <td>2181-04-19 00:00:00</td>\n",
              "      <td>2201-11-08 00:00:00</td>\n",
              "      <td>NaN</td>\n",
              "      <td>2201-11-08 00:00:00</td>\n",
              "      <td>1</td>\n",
              "    </tr>\n",
              "    <tr>\n",
              "      <th>792</th>\n",
              "      <td>1395762</td>\n",
              "      <td>10127</td>\n",
              "      <td>14562</td>\n",
              "      <td>2198-07-14</td>\n",
              "      <td>NPN 0700-1900\\nNEURO: Pt alert and interactive...</td>\n",
              "      <td>Nursing/other</td>\n",
              "      <td>RN</td>\n",
              "      <td>NaN</td>\n",
              "      <td>12870</td>\n",
              "      <td>10127</td>\n",
              "      <td>...</td>\n",
              "      <td>14</td>\n",
              "      <td>2198-06-28 05:35:32</td>\n",
              "      <td>2198-07-20 14:56:23</td>\n",
              "      <td>22.3895</td>\n",
              "      <td>F</td>\n",
              "      <td>2181-04-19 00:00:00</td>\n",
              "      <td>2201-11-08 00:00:00</td>\n",
              "      <td>NaN</td>\n",
              "      <td>2201-11-08 00:00:00</td>\n",
              "      <td>1</td>\n",
              "    </tr>\n",
              "    <tr>\n",
              "      <th>793</th>\n",
              "      <td>1395771</td>\n",
              "      <td>10127</td>\n",
              "      <td>15047</td>\n",
              "      <td>2198-07-16</td>\n",
              "      <td>NPN 0700-1900;\\nevents ; temp spike to 105.9 r...</td>\n",
              "      <td>Nursing/other</td>\n",
              "      <td>RN</td>\n",
              "      <td>RN</td>\n",
              "      <td>12870</td>\n",
              "      <td>10127</td>\n",
              "      <td>...</td>\n",
              "      <td>14</td>\n",
              "      <td>2198-06-28 05:35:32</td>\n",
              "      <td>2198-07-20 14:56:23</td>\n",
              "      <td>22.3895</td>\n",
              "      <td>F</td>\n",
              "      <td>2181-04-19 00:00:00</td>\n",
              "      <td>2201-11-08 00:00:00</td>\n",
              "      <td>NaN</td>\n",
              "      <td>2201-11-08 00:00:00</td>\n",
              "      <td>1</td>\n",
              "    </tr>\n",
              "    <tr>\n",
              "      <th>794</th>\n",
              "      <td>1395781</td>\n",
              "      <td>10127</td>\n",
              "      <td>18941</td>\n",
              "      <td>2198-07-19</td>\n",
              "      <td>TSICU NPN 1900-0700\\nREVIEW OF SYSTEMS:\\n\\nNEU...</td>\n",
              "      <td>Nursing/other</td>\n",
              "      <td>RN</td>\n",
              "      <td>RN</td>\n",
              "      <td>12870</td>\n",
              "      <td>10127</td>\n",
              "      <td>...</td>\n",
              "      <td>14</td>\n",
              "      <td>2198-06-28 05:35:32</td>\n",
              "      <td>2198-07-20 14:56:23</td>\n",
              "      <td>22.3895</td>\n",
              "      <td>F</td>\n",
              "      <td>2181-04-19 00:00:00</td>\n",
              "      <td>2201-11-08 00:00:00</td>\n",
              "      <td>NaN</td>\n",
              "      <td>2201-11-08 00:00:00</td>\n",
              "      <td>1</td>\n",
              "    </tr>\n",
              "  </tbody>\n",
              "</table>\n",
              "<p>20 rows × 26 columns</p>\n",
              "</div>\n",
              "      <button class=\"colab-df-convert\" onclick=\"convertToInteractive('df-b44a92df-29a7-4165-acbe-c2a7279548bc')\"\n",
              "              title=\"Convert this dataframe to an interactive table.\"\n",
              "              style=\"display:none;\">\n",
              "        \n",
              "  <svg xmlns=\"http://www.w3.org/2000/svg\" height=\"24px\"viewBox=\"0 0 24 24\"\n",
              "       width=\"24px\">\n",
              "    <path d=\"M0 0h24v24H0V0z\" fill=\"none\"/>\n",
              "    <path d=\"M18.56 5.44l.94 2.06.94-2.06 2.06-.94-2.06-.94-.94-2.06-.94 2.06-2.06.94zm-11 1L8.5 8.5l.94-2.06 2.06-.94-2.06-.94L8.5 2.5l-.94 2.06-2.06.94zm10 10l.94 2.06.94-2.06 2.06-.94-2.06-.94-.94-2.06-.94 2.06-2.06.94z\"/><path d=\"M17.41 7.96l-1.37-1.37c-.4-.4-.92-.59-1.43-.59-.52 0-1.04.2-1.43.59L10.3 9.45l-7.72 7.72c-.78.78-.78 2.05 0 2.83L4 21.41c.39.39.9.59 1.41.59.51 0 1.02-.2 1.41-.59l7.78-7.78 2.81-2.81c.8-.78.8-2.07 0-2.86zM5.41 20L4 18.59l7.72-7.72 1.47 1.35L5.41 20z\"/>\n",
              "  </svg>\n",
              "      </button>\n",
              "      \n",
              "  <style>\n",
              "    .colab-df-container {\n",
              "      display:flex;\n",
              "      flex-wrap:wrap;\n",
              "      gap: 12px;\n",
              "    }\n",
              "\n",
              "    .colab-df-convert {\n",
              "      background-color: #E8F0FE;\n",
              "      border: none;\n",
              "      border-radius: 50%;\n",
              "      cursor: pointer;\n",
              "      display: none;\n",
              "      fill: #1967D2;\n",
              "      height: 32px;\n",
              "      padding: 0 0 0 0;\n",
              "      width: 32px;\n",
              "    }\n",
              "\n",
              "    .colab-df-convert:hover {\n",
              "      background-color: #E2EBFA;\n",
              "      box-shadow: 0px 1px 2px rgba(60, 64, 67, 0.3), 0px 1px 3px 1px rgba(60, 64, 67, 0.15);\n",
              "      fill: #174EA6;\n",
              "    }\n",
              "\n",
              "    [theme=dark] .colab-df-convert {\n",
              "      background-color: #3B4455;\n",
              "      fill: #D2E3FC;\n",
              "    }\n",
              "\n",
              "    [theme=dark] .colab-df-convert:hover {\n",
              "      background-color: #434B5C;\n",
              "      box-shadow: 0px 1px 3px 1px rgba(0, 0, 0, 0.15);\n",
              "      filter: drop-shadow(0px 1px 2px rgba(0, 0, 0, 0.3));\n",
              "      fill: #FFFFFF;\n",
              "    }\n",
              "  </style>\n",
              "\n",
              "      <script>\n",
              "        const buttonEl =\n",
              "          document.querySelector('#df-b44a92df-29a7-4165-acbe-c2a7279548bc button.colab-df-convert');\n",
              "        buttonEl.style.display =\n",
              "          google.colab.kernel.accessAllowed ? 'block' : 'none';\n",
              "\n",
              "        async function convertToInteractive(key) {\n",
              "          const element = document.querySelector('#df-b44a92df-29a7-4165-acbe-c2a7279548bc');\n",
              "          const dataTable =\n",
              "            await google.colab.kernel.invokeFunction('convertToInteractive',\n",
              "                                                     [key], {});\n",
              "          if (!dataTable) return;\n",
              "\n",
              "          const docLinkHtml = 'Like what you see? Visit the ' +\n",
              "            '<a target=\"_blank\" href=https://colab.research.google.com/notebooks/data_table.ipynb>data table notebook</a>'\n",
              "            + ' to learn more about interactive tables.';\n",
              "          element.innerHTML = '';\n",
              "          dataTable['output_type'] = 'display_data';\n",
              "          await google.colab.output.renderOutput(dataTable, element);\n",
              "          const docLink = document.createElement('div');\n",
              "          docLink.innerHTML = docLinkHtml;\n",
              "          element.appendChild(docLink);\n",
              "        }\n",
              "      </script>\n",
              "    </div>\n",
              "  </div>\n",
              "  "
            ]
          },
          "metadata": {},
          "execution_count": 27
        }
      ]
    },
    {
      "cell_type": "code",
      "source": [
        "grouping = df_notes_TSICU.groupby(['CGID','SUBJECT_ID']).size()\n",
        "df_notes_TSICU['num_of_notes'] = df_notes_TSICU.set_index(['CGID','SUBJECT_ID']).index.map(grouping)\n",
        "df_notes_TSICU_filtered = df_notes_TSICU[df_notes_TSICU['num_of_notes'] > 1]\n",
        "df_notes_TSICU_filtered.info()"
      ],
      "metadata": {
        "id": "hHCpzCETihOj",
        "colab": {
          "base_uri": "https://localhost:8080/"
        },
        "outputId": "44b1ecd5-3d3f-4b67-c89e-fa9f08cc36c0"
      },
      "execution_count": null,
      "outputs": [
        {
          "output_type": "stream",
          "name": "stdout",
          "text": [
            "<class 'pandas.core.frame.DataFrame'>\n",
            "Int64Index: 34283 entries, 0 to 48418\n",
            "Data columns (total 27 columns):\n",
            " #   Column          Non-Null Count  Dtype  \n",
            "---  ------          --------------  -----  \n",
            " 0   ROW_ID          34283 non-null  int64  \n",
            " 1   SUBJECT_ID      34283 non-null  int64  \n",
            " 2   CGID            34283 non-null  int64  \n",
            " 3   CHARTDATE       34283 non-null  object \n",
            " 4   TEXT            34283 non-null  object \n",
            " 5   CATEGORY        34283 non-null  object \n",
            " 6   LABEL           31732 non-null  object \n",
            " 7   DESCRIPTION     19285 non-null  object \n",
            " 8   HADM_ID         34283 non-null  int64  \n",
            " 9   ICUSTAY_ID      34283 non-null  int64  \n",
            " 10  DBSOURCE        34283 non-null  object \n",
            " 11  FIRST_CAREUNIT  34283 non-null  object \n",
            " 12  LAST_CAREUNIT   34283 non-null  object \n",
            " 13  FIRST_WARDID    34283 non-null  int64  \n",
            " 14  LAST_WARDID     34283 non-null  int64  \n",
            " 15  INTIME          34283 non-null  object \n",
            " 16  OUTTIME         34283 non-null  object \n",
            " 17  LOS             34283 non-null  float64\n",
            " 18  GENDER          34283 non-null  object \n",
            " 19  DOB             34283 non-null  object \n",
            " 20  DOD             19216 non-null  object \n",
            " 21  DOD_HOSP        11608 non-null  object \n",
            " 22  DOD_SSN         17514 non-null  object \n",
            " 23  EXPIRE_FLAG     34283 non-null  int64  \n",
            " 24  ICD9_CODE       34283 non-null  object \n",
            " 25  SEQ_NUM         34283 non-null  int64  \n",
            " 26  num_of_notes    34283 non-null  int64  \n",
            "dtypes: float64(1), int64(10), object(16)\n",
            "memory usage: 7.3+ MB\n"
          ]
        }
      ]
    },
    {
      "cell_type": "code",
      "source": [
        "df_notes_TSICU_filtered.head(10)"
      ],
      "metadata": {
        "id": "eYAfKxm-4vN1",
        "colab": {
          "base_uri": "https://localhost:8080/",
          "height": 610
        },
        "outputId": "5e2f629b-ec71-48fc-e626-0153e8340cb4"
      },
      "execution_count": null,
      "outputs": [
        {
          "output_type": "execute_result",
          "data": {
            "text/plain": [
              "     ROW_ID  SUBJECT_ID   CGID   CHARTDATE  \\\n",
              "0   1554291       22312  18679  2127-12-07   \n",
              "1   1554293       22312  18679  2127-12-08   \n",
              "12  1596525       25658  18240  2178-10-30   \n",
              "13  1596532       25658  18240  2178-11-02   \n",
              "14  1596511       25658  21058  2178-03-03   \n",
              "15  1596509       25658  21058  2178-03-02   \n",
              "16  1596569       25658  20866  2179-01-17   \n",
              "17  1596578       25658  20866  2179-01-19   \n",
              "18  1596561       25658  20866  2179-01-15   \n",
              "19  1596566       25658  20866  2179-01-16   \n",
              "\n",
              "                                                 TEXT       CATEGORY LABEL  \\\n",
              "0   NSG ADM NOTE-MICU\\nMrs.[**Known lastname 662**...  Nursing/other    RN   \n",
              "1   NPN-MICU\\nMrs [**Known lastname 662**] has bee...  Nursing/other    RN   \n",
              "12  CCU Nursing Admission Note 1130-1900\\nSee CCU ...  Nursing/other    RN   \n",
              "13  CCU Nursing Progress Note 0700-1500\\nS:  winci...  Nursing/other    RN   \n",
              "14  S: \"My legs look swollen all the time.\"\\n\\nO:C...  Nursing/other    RN   \n",
              "15  ADDENDUM:CV: SECOND CPK NEGATIVE (115) NPO MID...  Nursing/other    RN   \n",
              "16  CCU Nursing MICU border progress Note 7am-7pm\\...  Nursing/other    RN   \n",
              "17  CCU Nursing Progress Note  7am-7pm\\nS: Orally ...  Nursing/other    RN   \n",
              "18  CCU Nursing Progress Note 1500-1900\\nS:  Orall...  Nursing/other    RN   \n",
              "19  CCU Nursing Progress Note 0700-1900\\nS:  Orall...  Nursing/other    RN   \n",
              "\n",
              "   DESCRIPTION  HADM_ID  ICUSTAY_ID  ...     LOS GENDER                  DOB  \\\n",
              "0           RN   158950      217912  ...  1.8809      F  2054-07-11 00:00:00   \n",
              "1           RN   158950      217912  ...  1.8809      F  2054-07-11 00:00:00   \n",
              "12          RN   172975      290945  ...  2.8200      M  2110-03-24 00:00:00   \n",
              "13          RN   172975      290945  ...  2.8200      M  2110-03-24 00:00:00   \n",
              "14          RN   172975      290945  ...  2.8200      M  2110-03-24 00:00:00   \n",
              "15          RN   172975      290945  ...  2.8200      M  2110-03-24 00:00:00   \n",
              "16          RN   172975      290945  ...  2.8200      M  2110-03-24 00:00:00   \n",
              "17          RN   172975      290945  ...  2.8200      M  2110-03-24 00:00:00   \n",
              "18          RN   172975      290945  ...  2.8200      M  2110-03-24 00:00:00   \n",
              "19          RN   172975      290945  ...  2.8200      M  2110-03-24 00:00:00   \n",
              "\n",
              "                    DOD             DOD_HOSP              DOD_SSN EXPIRE_FLAG  \\\n",
              "0   2128-11-05 00:00:00                  NaN  2128-11-05 00:00:00           1   \n",
              "1   2128-11-05 00:00:00                  NaN  2128-11-05 00:00:00           1   \n",
              "12  2179-02-10 00:00:00  2179-02-10 00:00:00  2179-02-10 00:00:00           1   \n",
              "13  2179-02-10 00:00:00  2179-02-10 00:00:00  2179-02-10 00:00:00           1   \n",
              "14  2179-02-10 00:00:00  2179-02-10 00:00:00  2179-02-10 00:00:00           1   \n",
              "15  2179-02-10 00:00:00  2179-02-10 00:00:00  2179-02-10 00:00:00           1   \n",
              "16  2179-02-10 00:00:00  2179-02-10 00:00:00  2179-02-10 00:00:00           1   \n",
              "17  2179-02-10 00:00:00  2179-02-10 00:00:00  2179-02-10 00:00:00           1   \n",
              "18  2179-02-10 00:00:00  2179-02-10 00:00:00  2179-02-10 00:00:00           1   \n",
              "19  2179-02-10 00:00:00  2179-02-10 00:00:00  2179-02-10 00:00:00           1   \n",
              "\n",
              "    ICD9_CODE SEQ_NUM num_of_notes  \n",
              "0       56089       1            2  \n",
              "1       56089       1            2  \n",
              "12      99661       1            2  \n",
              "13      99661       1            2  \n",
              "14      99661       1            2  \n",
              "15      99661       1            2  \n",
              "16      99661       1            5  \n",
              "17      99661       1            5  \n",
              "18      99661       1            5  \n",
              "19      99661       1            5  \n",
              "\n",
              "[10 rows x 27 columns]"
            ],
            "text/html": [
              "\n",
              "  <div id=\"df-99e91375-ab28-4811-b34b-d7542fdb820a\">\n",
              "    <div class=\"colab-df-container\">\n",
              "      <div>\n",
              "<style scoped>\n",
              "    .dataframe tbody tr th:only-of-type {\n",
              "        vertical-align: middle;\n",
              "    }\n",
              "\n",
              "    .dataframe tbody tr th {\n",
              "        vertical-align: top;\n",
              "    }\n",
              "\n",
              "    .dataframe thead th {\n",
              "        text-align: right;\n",
              "    }\n",
              "</style>\n",
              "<table border=\"1\" class=\"dataframe\">\n",
              "  <thead>\n",
              "    <tr style=\"text-align: right;\">\n",
              "      <th></th>\n",
              "      <th>ROW_ID</th>\n",
              "      <th>SUBJECT_ID</th>\n",
              "      <th>CGID</th>\n",
              "      <th>CHARTDATE</th>\n",
              "      <th>TEXT</th>\n",
              "      <th>CATEGORY</th>\n",
              "      <th>LABEL</th>\n",
              "      <th>DESCRIPTION</th>\n",
              "      <th>HADM_ID</th>\n",
              "      <th>ICUSTAY_ID</th>\n",
              "      <th>...</th>\n",
              "      <th>LOS</th>\n",
              "      <th>GENDER</th>\n",
              "      <th>DOB</th>\n",
              "      <th>DOD</th>\n",
              "      <th>DOD_HOSP</th>\n",
              "      <th>DOD_SSN</th>\n",
              "      <th>EXPIRE_FLAG</th>\n",
              "      <th>ICD9_CODE</th>\n",
              "      <th>SEQ_NUM</th>\n",
              "      <th>num_of_notes</th>\n",
              "    </tr>\n",
              "  </thead>\n",
              "  <tbody>\n",
              "    <tr>\n",
              "      <th>0</th>\n",
              "      <td>1554291</td>\n",
              "      <td>22312</td>\n",
              "      <td>18679</td>\n",
              "      <td>2127-12-07</td>\n",
              "      <td>NSG ADM NOTE-MICU\\nMrs.[**Known lastname 662**...</td>\n",
              "      <td>Nursing/other</td>\n",
              "      <td>RN</td>\n",
              "      <td>RN</td>\n",
              "      <td>158950</td>\n",
              "      <td>217912</td>\n",
              "      <td>...</td>\n",
              "      <td>1.8809</td>\n",
              "      <td>F</td>\n",
              "      <td>2054-07-11 00:00:00</td>\n",
              "      <td>2128-11-05 00:00:00</td>\n",
              "      <td>NaN</td>\n",
              "      <td>2128-11-05 00:00:00</td>\n",
              "      <td>1</td>\n",
              "      <td>56089</td>\n",
              "      <td>1</td>\n",
              "      <td>2</td>\n",
              "    </tr>\n",
              "    <tr>\n",
              "      <th>1</th>\n",
              "      <td>1554293</td>\n",
              "      <td>22312</td>\n",
              "      <td>18679</td>\n",
              "      <td>2127-12-08</td>\n",
              "      <td>NPN-MICU\\nMrs [**Known lastname 662**] has bee...</td>\n",
              "      <td>Nursing/other</td>\n",
              "      <td>RN</td>\n",
              "      <td>RN</td>\n",
              "      <td>158950</td>\n",
              "      <td>217912</td>\n",
              "      <td>...</td>\n",
              "      <td>1.8809</td>\n",
              "      <td>F</td>\n",
              "      <td>2054-07-11 00:00:00</td>\n",
              "      <td>2128-11-05 00:00:00</td>\n",
              "      <td>NaN</td>\n",
              "      <td>2128-11-05 00:00:00</td>\n",
              "      <td>1</td>\n",
              "      <td>56089</td>\n",
              "      <td>1</td>\n",
              "      <td>2</td>\n",
              "    </tr>\n",
              "    <tr>\n",
              "      <th>12</th>\n",
              "      <td>1596525</td>\n",
              "      <td>25658</td>\n",
              "      <td>18240</td>\n",
              "      <td>2178-10-30</td>\n",
              "      <td>CCU Nursing Admission Note 1130-1900\\nSee CCU ...</td>\n",
              "      <td>Nursing/other</td>\n",
              "      <td>RN</td>\n",
              "      <td>RN</td>\n",
              "      <td>172975</td>\n",
              "      <td>290945</td>\n",
              "      <td>...</td>\n",
              "      <td>2.8200</td>\n",
              "      <td>M</td>\n",
              "      <td>2110-03-24 00:00:00</td>\n",
              "      <td>2179-02-10 00:00:00</td>\n",
              "      <td>2179-02-10 00:00:00</td>\n",
              "      <td>2179-02-10 00:00:00</td>\n",
              "      <td>1</td>\n",
              "      <td>99661</td>\n",
              "      <td>1</td>\n",
              "      <td>2</td>\n",
              "    </tr>\n",
              "    <tr>\n",
              "      <th>13</th>\n",
              "      <td>1596532</td>\n",
              "      <td>25658</td>\n",
              "      <td>18240</td>\n",
              "      <td>2178-11-02</td>\n",
              "      <td>CCU Nursing Progress Note 0700-1500\\nS:  winci...</td>\n",
              "      <td>Nursing/other</td>\n",
              "      <td>RN</td>\n",
              "      <td>RN</td>\n",
              "      <td>172975</td>\n",
              "      <td>290945</td>\n",
              "      <td>...</td>\n",
              "      <td>2.8200</td>\n",
              "      <td>M</td>\n",
              "      <td>2110-03-24 00:00:00</td>\n",
              "      <td>2179-02-10 00:00:00</td>\n",
              "      <td>2179-02-10 00:00:00</td>\n",
              "      <td>2179-02-10 00:00:00</td>\n",
              "      <td>1</td>\n",
              "      <td>99661</td>\n",
              "      <td>1</td>\n",
              "      <td>2</td>\n",
              "    </tr>\n",
              "    <tr>\n",
              "      <th>14</th>\n",
              "      <td>1596511</td>\n",
              "      <td>25658</td>\n",
              "      <td>21058</td>\n",
              "      <td>2178-03-03</td>\n",
              "      <td>S: \"My legs look swollen all the time.\"\\n\\nO:C...</td>\n",
              "      <td>Nursing/other</td>\n",
              "      <td>RN</td>\n",
              "      <td>RN</td>\n",
              "      <td>172975</td>\n",
              "      <td>290945</td>\n",
              "      <td>...</td>\n",
              "      <td>2.8200</td>\n",
              "      <td>M</td>\n",
              "      <td>2110-03-24 00:00:00</td>\n",
              "      <td>2179-02-10 00:00:00</td>\n",
              "      <td>2179-02-10 00:00:00</td>\n",
              "      <td>2179-02-10 00:00:00</td>\n",
              "      <td>1</td>\n",
              "      <td>99661</td>\n",
              "      <td>1</td>\n",
              "      <td>2</td>\n",
              "    </tr>\n",
              "    <tr>\n",
              "      <th>15</th>\n",
              "      <td>1596509</td>\n",
              "      <td>25658</td>\n",
              "      <td>21058</td>\n",
              "      <td>2178-03-02</td>\n",
              "      <td>ADDENDUM:CV: SECOND CPK NEGATIVE (115) NPO MID...</td>\n",
              "      <td>Nursing/other</td>\n",
              "      <td>RN</td>\n",
              "      <td>RN</td>\n",
              "      <td>172975</td>\n",
              "      <td>290945</td>\n",
              "      <td>...</td>\n",
              "      <td>2.8200</td>\n",
              "      <td>M</td>\n",
              "      <td>2110-03-24 00:00:00</td>\n",
              "      <td>2179-02-10 00:00:00</td>\n",
              "      <td>2179-02-10 00:00:00</td>\n",
              "      <td>2179-02-10 00:00:00</td>\n",
              "      <td>1</td>\n",
              "      <td>99661</td>\n",
              "      <td>1</td>\n",
              "      <td>2</td>\n",
              "    </tr>\n",
              "    <tr>\n",
              "      <th>16</th>\n",
              "      <td>1596569</td>\n",
              "      <td>25658</td>\n",
              "      <td>20866</td>\n",
              "      <td>2179-01-17</td>\n",
              "      <td>CCU Nursing MICU border progress Note 7am-7pm\\...</td>\n",
              "      <td>Nursing/other</td>\n",
              "      <td>RN</td>\n",
              "      <td>RN</td>\n",
              "      <td>172975</td>\n",
              "      <td>290945</td>\n",
              "      <td>...</td>\n",
              "      <td>2.8200</td>\n",
              "      <td>M</td>\n",
              "      <td>2110-03-24 00:00:00</td>\n",
              "      <td>2179-02-10 00:00:00</td>\n",
              "      <td>2179-02-10 00:00:00</td>\n",
              "      <td>2179-02-10 00:00:00</td>\n",
              "      <td>1</td>\n",
              "      <td>99661</td>\n",
              "      <td>1</td>\n",
              "      <td>5</td>\n",
              "    </tr>\n",
              "    <tr>\n",
              "      <th>17</th>\n",
              "      <td>1596578</td>\n",
              "      <td>25658</td>\n",
              "      <td>20866</td>\n",
              "      <td>2179-01-19</td>\n",
              "      <td>CCU Nursing Progress Note  7am-7pm\\nS: Orally ...</td>\n",
              "      <td>Nursing/other</td>\n",
              "      <td>RN</td>\n",
              "      <td>RN</td>\n",
              "      <td>172975</td>\n",
              "      <td>290945</td>\n",
              "      <td>...</td>\n",
              "      <td>2.8200</td>\n",
              "      <td>M</td>\n",
              "      <td>2110-03-24 00:00:00</td>\n",
              "      <td>2179-02-10 00:00:00</td>\n",
              "      <td>2179-02-10 00:00:00</td>\n",
              "      <td>2179-02-10 00:00:00</td>\n",
              "      <td>1</td>\n",
              "      <td>99661</td>\n",
              "      <td>1</td>\n",
              "      <td>5</td>\n",
              "    </tr>\n",
              "    <tr>\n",
              "      <th>18</th>\n",
              "      <td>1596561</td>\n",
              "      <td>25658</td>\n",
              "      <td>20866</td>\n",
              "      <td>2179-01-15</td>\n",
              "      <td>CCU Nursing Progress Note 1500-1900\\nS:  Orall...</td>\n",
              "      <td>Nursing/other</td>\n",
              "      <td>RN</td>\n",
              "      <td>RN</td>\n",
              "      <td>172975</td>\n",
              "      <td>290945</td>\n",
              "      <td>...</td>\n",
              "      <td>2.8200</td>\n",
              "      <td>M</td>\n",
              "      <td>2110-03-24 00:00:00</td>\n",
              "      <td>2179-02-10 00:00:00</td>\n",
              "      <td>2179-02-10 00:00:00</td>\n",
              "      <td>2179-02-10 00:00:00</td>\n",
              "      <td>1</td>\n",
              "      <td>99661</td>\n",
              "      <td>1</td>\n",
              "      <td>5</td>\n",
              "    </tr>\n",
              "    <tr>\n",
              "      <th>19</th>\n",
              "      <td>1596566</td>\n",
              "      <td>25658</td>\n",
              "      <td>20866</td>\n",
              "      <td>2179-01-16</td>\n",
              "      <td>CCU Nursing Progress Note 0700-1900\\nS:  Orall...</td>\n",
              "      <td>Nursing/other</td>\n",
              "      <td>RN</td>\n",
              "      <td>RN</td>\n",
              "      <td>172975</td>\n",
              "      <td>290945</td>\n",
              "      <td>...</td>\n",
              "      <td>2.8200</td>\n",
              "      <td>M</td>\n",
              "      <td>2110-03-24 00:00:00</td>\n",
              "      <td>2179-02-10 00:00:00</td>\n",
              "      <td>2179-02-10 00:00:00</td>\n",
              "      <td>2179-02-10 00:00:00</td>\n",
              "      <td>1</td>\n",
              "      <td>99661</td>\n",
              "      <td>1</td>\n",
              "      <td>5</td>\n",
              "    </tr>\n",
              "  </tbody>\n",
              "</table>\n",
              "<p>10 rows × 27 columns</p>\n",
              "</div>\n",
              "      <button class=\"colab-df-convert\" onclick=\"convertToInteractive('df-99e91375-ab28-4811-b34b-d7542fdb820a')\"\n",
              "              title=\"Convert this dataframe to an interactive table.\"\n",
              "              style=\"display:none;\">\n",
              "        \n",
              "  <svg xmlns=\"http://www.w3.org/2000/svg\" height=\"24px\"viewBox=\"0 0 24 24\"\n",
              "       width=\"24px\">\n",
              "    <path d=\"M0 0h24v24H0V0z\" fill=\"none\"/>\n",
              "    <path d=\"M18.56 5.44l.94 2.06.94-2.06 2.06-.94-2.06-.94-.94-2.06-.94 2.06-2.06.94zm-11 1L8.5 8.5l.94-2.06 2.06-.94-2.06-.94L8.5 2.5l-.94 2.06-2.06.94zm10 10l.94 2.06.94-2.06 2.06-.94-2.06-.94-.94-2.06-.94 2.06-2.06.94z\"/><path d=\"M17.41 7.96l-1.37-1.37c-.4-.4-.92-.59-1.43-.59-.52 0-1.04.2-1.43.59L10.3 9.45l-7.72 7.72c-.78.78-.78 2.05 0 2.83L4 21.41c.39.39.9.59 1.41.59.51 0 1.02-.2 1.41-.59l7.78-7.78 2.81-2.81c.8-.78.8-2.07 0-2.86zM5.41 20L4 18.59l7.72-7.72 1.47 1.35L5.41 20z\"/>\n",
              "  </svg>\n",
              "      </button>\n",
              "      \n",
              "  <style>\n",
              "    .colab-df-container {\n",
              "      display:flex;\n",
              "      flex-wrap:wrap;\n",
              "      gap: 12px;\n",
              "    }\n",
              "\n",
              "    .colab-df-convert {\n",
              "      background-color: #E8F0FE;\n",
              "      border: none;\n",
              "      border-radius: 50%;\n",
              "      cursor: pointer;\n",
              "      display: none;\n",
              "      fill: #1967D2;\n",
              "      height: 32px;\n",
              "      padding: 0 0 0 0;\n",
              "      width: 32px;\n",
              "    }\n",
              "\n",
              "    .colab-df-convert:hover {\n",
              "      background-color: #E2EBFA;\n",
              "      box-shadow: 0px 1px 2px rgba(60, 64, 67, 0.3), 0px 1px 3px 1px rgba(60, 64, 67, 0.15);\n",
              "      fill: #174EA6;\n",
              "    }\n",
              "\n",
              "    [theme=dark] .colab-df-convert {\n",
              "      background-color: #3B4455;\n",
              "      fill: #D2E3FC;\n",
              "    }\n",
              "\n",
              "    [theme=dark] .colab-df-convert:hover {\n",
              "      background-color: #434B5C;\n",
              "      box-shadow: 0px 1px 3px 1px rgba(0, 0, 0, 0.15);\n",
              "      filter: drop-shadow(0px 1px 2px rgba(0, 0, 0, 0.3));\n",
              "      fill: #FFFFFF;\n",
              "    }\n",
              "  </style>\n",
              "\n",
              "      <script>\n",
              "        const buttonEl =\n",
              "          document.querySelector('#df-99e91375-ab28-4811-b34b-d7542fdb820a button.colab-df-convert');\n",
              "        buttonEl.style.display =\n",
              "          google.colab.kernel.accessAllowed ? 'block' : 'none';\n",
              "\n",
              "        async function convertToInteractive(key) {\n",
              "          const element = document.querySelector('#df-99e91375-ab28-4811-b34b-d7542fdb820a');\n",
              "          const dataTable =\n",
              "            await google.colab.kernel.invokeFunction('convertToInteractive',\n",
              "                                                     [key], {});\n",
              "          if (!dataTable) return;\n",
              "\n",
              "          const docLinkHtml = 'Like what you see? Visit the ' +\n",
              "            '<a target=\"_blank\" href=https://colab.research.google.com/notebooks/data_table.ipynb>data table notebook</a>'\n",
              "            + ' to learn more about interactive tables.';\n",
              "          element.innerHTML = '';\n",
              "          dataTable['output_type'] = 'display_data';\n",
              "          await google.colab.output.renderOutput(dataTable, element);\n",
              "          const docLink = document.createElement('div');\n",
              "          docLink.innerHTML = docLinkHtml;\n",
              "          element.appendChild(docLink);\n",
              "        }\n",
              "      </script>\n",
              "    </div>\n",
              "  </div>\n",
              "  "
            ]
          },
          "metadata": {},
          "execution_count": 198
        }
      ]
    },
    {
      "cell_type": "markdown",
      "source": [
        "Filter by number of notes"
      ],
      "metadata": {
        "id": "h3Ax8uzsUjXG"
      }
    },
    {
      "cell_type": "code",
      "source": [
        "gb_notes = df_notes_TSICU_filtered.groupby(['ICD9_CODE'])\n",
        "num_notes = gb_notes['TEXT'].count()\n",
        "\n",
        "print(f'number of notes: min={num_notes.min()}, max={num_notes.max()}, mean={num_notes.mean()},  median={num_notes.median()}')\n",
        "sns.boxplot(x=num_notes)\n",
        "sns.displot(num_notes[((num_notes>2) & (num_notes<100))])"
      ],
      "metadata": {
        "id": "M1zujhFnCzbO",
        "colab": {
          "base_uri": "https://localhost:8080/",
          "height": 977
        },
        "outputId": "90fa16df-9d9e-4993-f2e2-992cb913b870"
      },
      "execution_count": null,
      "outputs": [
        {
          "output_type": "stream",
          "name": "stdout",
          "text": [
            "number of notes: min=2, max=1292, mean=50.86498516320475,  median=18.0\n"
          ]
        },
        {
          "output_type": "execute_result",
          "data": {
            "text/plain": [
              "<seaborn.axisgrid.FacetGrid at 0x7fc1f3c25bd0>"
            ]
          },
          "metadata": {},
          "execution_count": 199
        },
        {
          "output_type": "display_data",
          "data": {
            "text/plain": [
              "<Figure size 640x480 with 1 Axes>"
            ],
            "image/png": "[encoded data removed]"
          },
          "metadata": {}
        },
        {
          "output_type": "display_data",
          "data": {
            "text/plain": [
              "<Figure size 500x500 with 1 Axes>"
            ],
            "image/png": "[encoded data removed]"
          },
          "metadata": {}
        }
      ]
    },
    {
      "cell_type": "code",
      "source": [
        "df_notes_TSICU_filtered.info()"
      ],
      "metadata": {
        "colab": {
          "base_uri": "https://localhost:8080/"
        },
        "id": "utacZLLmUfqf",
        "outputId": "6893787a-ddff-499d-af1e-6ec13baa788e"
      },
      "execution_count": null,
      "outputs": [
        {
          "output_type": "stream",
          "name": "stdout",
          "text": [
            "<class 'pandas.core.frame.DataFrame'>\n",
            "Int64Index: 34283 entries, 0 to 48418\n",
            "Data columns (total 27 columns):\n",
            " #   Column          Non-Null Count  Dtype  \n",
            "---  ------          --------------  -----  \n",
            " 0   ROW_ID          34283 non-null  int64  \n",
            " 1   SUBJECT_ID      34283 non-null  int64  \n",
            " 2   CGID            34283 non-null  int64  \n",
            " 3   CHARTDATE       34283 non-null  object \n",
            " 4   TEXT            34283 non-null  object \n",
            " 5   CATEGORY        34283 non-null  object \n",
            " 6   LABEL           31732 non-null  object \n",
            " 7   DESCRIPTION     19285 non-null  object \n",
            " 8   HADM_ID         34283 non-null  int64  \n",
            " 9   ICUSTAY_ID      34283 non-null  int64  \n",
            " 10  DBSOURCE        34283 non-null  object \n",
            " 11  FIRST_CAREUNIT  34283 non-null  object \n",
            " 12  LAST_CAREUNIT   34283 non-null  object \n",
            " 13  FIRST_WARDID    34283 non-null  int64  \n",
            " 14  LAST_WARDID     34283 non-null  int64  \n",
            " 15  INTIME          34283 non-null  object \n",
            " 16  OUTTIME         34283 non-null  object \n",
            " 17  LOS             34283 non-null  float64\n",
            " 18  GENDER          34283 non-null  object \n",
            " 19  DOB             34283 non-null  object \n",
            " 20  DOD             19216 non-null  object \n",
            " 21  DOD_HOSP        11608 non-null  object \n",
            " 22  DOD_SSN         17514 non-null  object \n",
            " 23  EXPIRE_FLAG     34283 non-null  int64  \n",
            " 24  ICD9_CODE       34283 non-null  object \n",
            " 25  SEQ_NUM         34283 non-null  int64  \n",
            " 26  num_of_notes    34283 non-null  int64  \n",
            "dtypes: float64(1), int64(10), object(16)\n",
            "memory usage: 7.3+ MB\n"
          ]
        }
      ]
    },
    {
      "cell_type": "code",
      "source": [
        "icd9_grouping = df_notes_TSICU_filtered.groupby(['ICD9_CODE']).size()\n",
        "df_notes_TSICU_filtered['num_of_conditions'] = df_notes_TSICU_filtered.set_index(['ICD9_CODE']).index.map(icd9_grouping)\n",
        "#df_notes_TSICU_filtered = df_notes_TSICU_filtered[(df_notes_TSICU_filtered['num_of_conditions'] >= 15) & (df_notes_TSICU_filtered['num_of_conditions'] <= 1000)]\n",
        "#df_notes_TSICU_filtered = df_notes_TSICU_filtered[(df_notes_TSICU_filtered['num_of_conditions'] >= 15) & (df_notes_TSICU_filtered['num_of_conditions'] <= 100)]\n",
        "df_notes_TSICU_filtered.info()\n",
        "print(icd9_grouping)"
      ],
      "metadata": {
        "id": "VQtS_ZiRGeEF",
        "colab": {
          "base_uri": "https://localhost:8080/"
        },
        "outputId": "86715f3c-8e38-4c2b-d3fc-e70a3ee684bd"
      },
      "execution_count": null,
      "outputs": [
        {
          "output_type": "stream",
          "name": "stdout",
          "text": [
            "<class 'pandas.core.frame.DataFrame'>\n",
            "Int64Index: 34283 entries, 0 to 48418\n",
            "Data columns (total 28 columns):\n",
            " #   Column             Non-Null Count  Dtype  \n",
            "---  ------             --------------  -----  \n",
            " 0   ROW_ID             34283 non-null  int64  \n",
            " 1   SUBJECT_ID         34283 non-null  int64  \n",
            " 2   CGID               34283 non-null  int64  \n",
            " 3   CHARTDATE          34283 non-null  object \n",
            " 4   TEXT               34283 non-null  object \n",
            " 5   CATEGORY           34283 non-null  object \n",
            " 6   LABEL              31732 non-null  object \n",
            " 7   DESCRIPTION        19285 non-null  object \n",
            " 8   HADM_ID            34283 non-null  int64  \n",
            " 9   ICUSTAY_ID         34283 non-null  int64  \n",
            " 10  DBSOURCE           34283 non-null  object \n",
            " 11  FIRST_CAREUNIT     34283 non-null  object \n",
            " 12  LAST_CAREUNIT      34283 non-null  object \n",
            " 13  FIRST_WARDID       34283 non-null  int64  \n",
            " 14  LAST_WARDID        34283 non-null  int64  \n",
            " 15  INTIME             34283 non-null  object \n",
            " 16  OUTTIME            34283 non-null  object \n",
            " 17  LOS                34283 non-null  float64\n",
            " 18  GENDER             34283 non-null  object \n",
            " 19  DOB                34283 non-null  object \n",
            " 20  DOD                19216 non-null  object \n",
            " 21  DOD_HOSP           11608 non-null  object \n",
            " 22  DOD_SSN            17514 non-null  object \n",
            " 23  EXPIRE_FLAG        34283 non-null  int64  \n",
            " 24  ICD9_CODE          34283 non-null  object \n",
            " 25  SEQ_NUM            34283 non-null  int64  \n",
            " 26  num_of_notes       34283 non-null  int64  \n",
            " 27  num_of_conditions  34283 non-null  int64  \n",
            "dtypes: float64(1), int64(11), object(16)\n",
            "memory usage: 7.6+ MB\n",
            "ICD9_CODE\n",
            "00845    134\n",
            "01504      2\n",
            "0380      34\n",
            "03811     83\n",
            "0383      91\n",
            "        ... \n",
            "V51        4\n",
            "V550      20\n",
            "V552     120\n",
            "V553     117\n",
            "V714       6\n",
            "Length: 674, dtype: int64\n"
          ]
        },
        {
          "output_type": "stream",
          "name": "stderr",
          "text": [
            "<ipython-input-201-2f58a0fcdd04>:2: SettingWithCopyWarning: \n",
            "A value is trying to be set on a copy of a slice from a DataFrame.\n",
            "Try using .loc[row_indexer,col_indexer] = value instead\n",
            "\n",
            "See the caveats in the documentation: https://pandas.pydata.org/pandas-docs/stable/user_guide/indexing.html#returning-a-view-versus-a-copy\n",
            "  df_notes_TSICU_filtered['num_of_conditions'] = df_notes_TSICU_filtered.set_index(['ICD9_CODE']).index.map(icd9_grouping)\n"
          ]
        }
      ]
    },
    {
      "cell_type": "code",
      "source": [
        "df_notes_TSICU_dropped_cols = df_notes_TSICU_filtered.drop(['FIRST_CAREUNIT', 'LAST_CAREUNIT', 'FIRST_WARDID','LAST_WARDID','INTIME', 'OUTTIME', 'DBSOURCE','DOB','DOD','DOD_HOSP','DOD_SSN','CHARTDATE'], axis=1)\n",
        "df_notes_TSICU_dropped_cols.head(10)"
      ],
      "metadata": {
        "id": "jfSkON07QFlQ",
        "colab": {
          "base_uri": "https://localhost:8080/",
          "height": 363
        },
        "outputId": "a5518c48-8e98-4e27-e71d-a02fa1a44ece"
      },
      "execution_count": null,
      "outputs": [
        {
          "output_type": "execute_result",
          "data": {
            "text/plain": [
              "     ROW_ID  SUBJECT_ID   CGID  \\\n",
              "0   1554291       22312  18679   \n",
              "1   1554293       22312  18679   \n",
              "12  1596525       25658  18240   \n",
              "13  1596532       25658  18240   \n",
              "14  1596511       25658  21058   \n",
              "15  1596509       25658  21058   \n",
              "16  1596569       25658  20866   \n",
              "17  1596578       25658  20866   \n",
              "18  1596561       25658  20866   \n",
              "19  1596566       25658  20866   \n",
              "\n",
              "                                                 TEXT       CATEGORY LABEL  \\\n",
              "0   NSG ADM NOTE-MICU\\nMrs.[**Known lastname 662**...  Nursing/other    RN   \n",
              "1   NPN-MICU\\nMrs [**Known lastname 662**] has bee...  Nursing/other    RN   \n",
              "12  CCU Nursing Admission Note 1130-1900\\nSee CCU ...  Nursing/other    RN   \n",
              "13  CCU Nursing Progress Note 0700-1500\\nS:  winci...  Nursing/other    RN   \n",
              "14  S: \"My legs look swollen all the time.\"\\n\\nO:C...  Nursing/other    RN   \n",
              "15  ADDENDUM:CV: SECOND CPK NEGATIVE (115) NPO MID...  Nursing/other    RN   \n",
              "16  CCU Nursing MICU border progress Note 7am-7pm\\...  Nursing/other    RN   \n",
              "17  CCU Nursing Progress Note  7am-7pm\\nS: Orally ...  Nursing/other    RN   \n",
              "18  CCU Nursing Progress Note 1500-1900\\nS:  Orall...  Nursing/other    RN   \n",
              "19  CCU Nursing Progress Note 0700-1900\\nS:  Orall...  Nursing/other    RN   \n",
              "\n",
              "   DESCRIPTION  HADM_ID  ICUSTAY_ID     LOS GENDER  EXPIRE_FLAG ICD9_CODE  \\\n",
              "0           RN   158950      217912  1.8809      F            1     56089   \n",
              "1           RN   158950      217912  1.8809      F            1     56089   \n",
              "12          RN   172975      290945  2.8200      M            1     99661   \n",
              "13          RN   172975      290945  2.8200      M            1     99661   \n",
              "14          RN   172975      290945  2.8200      M            1     99661   \n",
              "15          RN   172975      290945  2.8200      M            1     99661   \n",
              "16          RN   172975      290945  2.8200      M            1     99661   \n",
              "17          RN   172975      290945  2.8200      M            1     99661   \n",
              "18          RN   172975      290945  2.8200      M            1     99661   \n",
              "19          RN   172975      290945  2.8200      M            1     99661   \n",
              "\n",
              "    SEQ_NUM  num_of_notes  num_of_conditions  \n",
              "0         1             2                  4  \n",
              "1         1             2                  4  \n",
              "12        1             2                 41  \n",
              "13        1             2                 41  \n",
              "14        1             2                 41  \n",
              "15        1             2                 41  \n",
              "16        1             5                 41  \n",
              "17        1             5                 41  \n",
              "18        1             5                 41  \n",
              "19        1             5                 41  "
            ],
            "text/html": [
              "\n",
              "  <div id=\"df-1d97eb97-0f85-4bba-b041-a5833e59c440\">\n",
              "    <div class=\"colab-df-container\">\n",
              "      <div>\n",
              "<style scoped>\n",
              "    .dataframe tbody tr th:only-of-type {\n",
              "        vertical-align: middle;\n",
              "    }\n",
              "\n",
              "    .dataframe tbody tr th {\n",
              "        vertical-align: top;\n",
              "    }\n",
              "\n",
              "    .dataframe thead th {\n",
              "        text-align: right;\n",
              "    }\n",
              "</style>\n",
              "<table border=\"1\" class=\"dataframe\">\n",
              "  <thead>\n",
              "    <tr style=\"text-align: right;\">\n",
              "      <th></th>\n",
              "      <th>ROW_ID</th>\n",
              "      <th>SUBJECT_ID</th>\n",
              "      <th>CGID</th>\n",
              "      <th>TEXT</th>\n",
              "      <th>CATEGORY</th>\n",
              "      <th>LABEL</th>\n",
              "      <th>DESCRIPTION</th>\n",
              "      <th>HADM_ID</th>\n",
              "      <th>ICUSTAY_ID</th>\n",
              "      <th>LOS</th>\n",
              "      <th>GENDER</th>\n",
              "      <th>EXPIRE_FLAG</th>\n",
              "      <th>ICD9_CODE</th>\n",
              "      <th>SEQ_NUM</th>\n",
              "      <th>num_of_notes</th>\n",
              "      <th>num_of_conditions</th>\n",
              "    </tr>\n",
              "  </thead>\n",
              "  <tbody>\n",
              "    <tr>\n",
              "      <th>0</th>\n",
              "      <td>1554291</td>\n",
              "      <td>22312</td>\n",
              "      <td>18679</td>\n",
              "      <td>NSG ADM NOTE-MICU\\nMrs.[**Known lastname 662**...</td>\n",
              "      <td>Nursing/other</td>\n",
              "      <td>RN</td>\n",
              "      <td>RN</td>\n",
              "      <td>158950</td>\n",
              "      <td>217912</td>\n",
              "      <td>1.8809</td>\n",
              "      <td>F</td>\n",
              "      <td>1</td>\n",
              "      <td>56089</td>\n",
              "      <td>1</td>\n",
              "      <td>2</td>\n",
              "      <td>4</td>\n",
              "    </tr>\n",
              "    <tr>\n",
              "      <th>1</th>\n",
              "      <td>1554293</td>\n",
              "      <td>22312</td>\n",
              "      <td>18679</td>\n",
              "      <td>NPN-MICU\\nMrs [**Known lastname 662**] has bee...</td>\n",
              "      <td>Nursing/other</td>\n",
              "      <td>RN</td>\n",
              "      <td>RN</td>\n",
              "      <td>158950</td>\n",
              "      <td>217912</td>\n",
              "      <td>1.8809</td>\n",
              "      <td>F</td>\n",
              "      <td>1</td>\n",
              "      <td>56089</td>\n",
              "      <td>1</td>\n",
              "      <td>2</td>\n",
              "      <td>4</td>\n",
              "    </tr>\n",
              "    <tr>\n",
              "      <th>12</th>\n",
              "      <td>1596525</td>\n",
              "      <td>25658</td>\n",
              "      <td>18240</td>\n",
              "      <td>CCU Nursing Admission Note 1130-1900\\nSee CCU ...</td>\n",
              "      <td>Nursing/other</td>\n",
              "      <td>RN</td>\n",
              "      <td>RN</td>\n",
              "      <td>172975</td>\n",
              "      <td>290945</td>\n",
              "      <td>2.8200</td>\n",
              "      <td>M</td>\n",
              "      <td>1</td>\n",
              "      <td>99661</td>\n",
              "      <td>1</td>\n",
              "      <td>2</td>\n",
              "      <td>41</td>\n",
              "    </tr>\n",
              "    <tr>\n",
              "      <th>13</th>\n",
              "      <td>1596532</td>\n",
              "      <td>25658</td>\n",
              "      <td>18240</td>\n",
              "      <td>CCU Nursing Progress Note 0700-1500\\nS:  winci...</td>\n",
              "      <td>Nursing/other</td>\n",
              "      <td>RN</td>\n",
              "      <td>RN</td>\n",
              "      <td>172975</td>\n",
              "      <td>290945</td>\n",
              "      <td>2.8200</td>\n",
              "      <td>M</td>\n",
              "      <td>1</td>\n",
              "      <td>99661</td>\n",
              "      <td>1</td>\n",
              "      <td>2</td>\n",
              "      <td>41</td>\n",
              "    </tr>\n",
              "    <tr>\n",
              "      <th>14</th>\n",
              "      <td>1596511</td>\n",
              "      <td>25658</td>\n",
              "      <td>21058</td>\n",
              "      <td>S: \"My legs look swollen all the time.\"\\n\\nO:C...</td>\n",
              "      <td>Nursing/other</td>\n",
              "      <td>RN</td>\n",
              "      <td>RN</td>\n",
              "      <td>172975</td>\n",
              "      <td>290945</td>\n",
              "      <td>2.8200</td>\n",
              "      <td>M</td>\n",
              "      <td>1</td>\n",
              "      <td>99661</td>\n",
              "      <td>1</td>\n",
              "      <td>2</td>\n",
              "      <td>41</td>\n",
              "    </tr>\n",
              "    <tr>\n",
              "      <th>15</th>\n",
              "      <td>1596509</td>\n",
              "      <td>25658</td>\n",
              "      <td>21058</td>\n",
              "      <td>ADDENDUM:CV: SECOND CPK NEGATIVE (115) NPO MID...</td>\n",
              "      <td>Nursing/other</td>\n",
              "      <td>RN</td>\n",
              "      <td>RN</td>\n",
              "      <td>172975</td>\n",
              "      <td>290945</td>\n",
              "      <td>2.8200</td>\n",
              "      <td>M</td>\n",
              "      <td>1</td>\n",
              "      <td>99661</td>\n",
              "      <td>1</td>\n",
              "      <td>2</td>\n",
              "      <td>41</td>\n",
              "    </tr>\n",
              "    <tr>\n",
              "      <th>16</th>\n",
              "      <td>1596569</td>\n",
              "      <td>25658</td>\n",
              "      <td>20866</td>\n",
              "      <td>CCU Nursing MICU border progress Note 7am-7pm\\...</td>\n",
              "      <td>Nursing/other</td>\n",
              "      <td>RN</td>\n",
              "      <td>RN</td>\n",
              "      <td>172975</td>\n",
              "      <td>290945</td>\n",
              "      <td>2.8200</td>\n",
              "      <td>M</td>\n",
              "      <td>1</td>\n",
              "      <td>99661</td>\n",
              "      <td>1</td>\n",
              "      <td>5</td>\n",
              "      <td>41</td>\n",
              "    </tr>\n",
              "    <tr>\n",
              "      <th>17</th>\n",
              "      <td>1596578</td>\n",
              "      <td>25658</td>\n",
              "      <td>20866</td>\n",
              "      <td>CCU Nursing Progress Note  7am-7pm\\nS: Orally ...</td>\n",
              "      <td>Nursing/other</td>\n",
              "      <td>RN</td>\n",
              "      <td>RN</td>\n",
              "      <td>172975</td>\n",
              "      <td>290945</td>\n",
              "      <td>2.8200</td>\n",
              "      <td>M</td>\n",
              "      <td>1</td>\n",
              "      <td>99661</td>\n",
              "      <td>1</td>\n",
              "      <td>5</td>\n",
              "      <td>41</td>\n",
              "    </tr>\n",
              "    <tr>\n",
              "      <th>18</th>\n",
              "      <td>1596561</td>\n",
              "      <td>25658</td>\n",
              "      <td>20866</td>\n",
              "      <td>CCU Nursing Progress Note 1500-1900\\nS:  Orall...</td>\n",
              "      <td>Nursing/other</td>\n",
              "      <td>RN</td>\n",
              "      <td>RN</td>\n",
              "      <td>172975</td>\n",
              "      <td>290945</td>\n",
              "      <td>2.8200</td>\n",
              "      <td>M</td>\n",
              "      <td>1</td>\n",
              "      <td>99661</td>\n",
              "      <td>1</td>\n",
              "      <td>5</td>\n",
              "      <td>41</td>\n",
              "    </tr>\n",
              "    <tr>\n",
              "      <th>19</th>\n",
              "      <td>1596566</td>\n",
              "      <td>25658</td>\n",
              "      <td>20866</td>\n",
              "      <td>CCU Nursing Progress Note 0700-1900\\nS:  Orall...</td>\n",
              "      <td>Nursing/other</td>\n",
              "      <td>RN</td>\n",
              "      <td>RN</td>\n",
              "      <td>172975</td>\n",
              "      <td>290945</td>\n",
              "      <td>2.8200</td>\n",
              "      <td>M</td>\n",
              "      <td>1</td>\n",
              "      <td>99661</td>\n",
              "      <td>1</td>\n",
              "      <td>5</td>\n",
              "      <td>41</td>\n",
              "    </tr>\n",
              "  </tbody>\n",
              "</table>\n",
              "</div>\n",
              "      <button class=\"colab-df-convert\" onclick=\"convertToInteractive('df-1d97eb97-0f85-4bba-b041-a5833e59c440')\"\n",
              "              title=\"Convert this dataframe to an interactive table.\"\n",
              "              style=\"display:none;\">\n",
              "        \n",
              "  <svg xmlns=\"http://www.w3.org/2000/svg\" height=\"24px\"viewBox=\"0 0 24 24\"\n",
              "       width=\"24px\">\n",
              "    <path d=\"M0 0h24v24H0V0z\" fill=\"none\"/>\n",
              "    <path d=\"M18.56 5.44l.94 2.06.94-2.06 2.06-.94-2.06-.94-.94-2.06-.94 2.06-2.06.94zm-11 1L8.5 8.5l.94-2.06 2.06-.94-2.06-.94L8.5 2.5l-.94 2.06-2.06.94zm10 10l.94 2.06.94-2.06 2.06-.94-2.06-.94-.94-2.06-.94 2.06-2.06.94z\"/><path d=\"M17.41 7.96l-1.37-1.37c-.4-.4-.92-.59-1.43-.59-.52 0-1.04.2-1.43.59L10.3 9.45l-7.72 7.72c-.78.78-.78 2.05 0 2.83L4 21.41c.39.39.9.59 1.41.59.51 0 1.02-.2 1.41-.59l7.78-7.78 2.81-2.81c.8-.78.8-2.07 0-2.86zM5.41 20L4 18.59l7.72-7.72 1.47 1.35L5.41 20z\"/>\n",
              "  </svg>\n",
              "      </button>\n",
              "      \n",
              "  <style>\n",
              "    .colab-df-container {\n",
              "      display:flex;\n",
              "      flex-wrap:wrap;\n",
              "      gap: 12px;\n",
              "    }\n",
              "\n",
              "    .colab-df-convert {\n",
              "      background-color: #E8F0FE;\n",
              "      border: none;\n",
              "      border-radius: 50%;\n",
              "      cursor: pointer;\n",
              "      display: none;\n",
              "      fill: #1967D2;\n",
              "      height: 32px;\n",
              "      padding: 0 0 0 0;\n",
              "      width: 32px;\n",
              "    }\n",
              "\n",
              "    .colab-df-convert:hover {\n",
              "      background-color: #E2EBFA;\n",
              "      box-shadow: 0px 1px 2px rgba(60, 64, 67, 0.3), 0px 1px 3px 1px rgba(60, 64, 67, 0.15);\n",
              "      fill: #174EA6;\n",
              "    }\n",
              "\n",
              "    [theme=dark] .colab-df-convert {\n",
              "      background-color: #3B4455;\n",
              "      fill: #D2E3FC;\n",
              "    }\n",
              "\n",
              "    [theme=dark] .colab-df-convert:hover {\n",
              "      background-color: #434B5C;\n",
              "      box-shadow: 0px 1px 3px 1px rgba(0, 0, 0, 0.15);\n",
              "      filter: drop-shadow(0px 1px 2px rgba(0, 0, 0, 0.3));\n",
              "      fill: #FFFFFF;\n",
              "    }\n",
              "  </style>\n",
              "\n",
              "      <script>\n",
              "        const buttonEl =\n",
              "          document.querySelector('#df-1d97eb97-0f85-4bba-b041-a5833e59c440 button.colab-df-convert');\n",
              "        buttonEl.style.display =\n",
              "          google.colab.kernel.accessAllowed ? 'block' : 'none';\n",
              "\n",
              "        async function convertToInteractive(key) {\n",
              "          const element = document.querySelector('#df-1d97eb97-0f85-4bba-b041-a5833e59c440');\n",
              "          const dataTable =\n",
              "            await google.colab.kernel.invokeFunction('convertToInteractive',\n",
              "                                                     [key], {});\n",
              "          if (!dataTable) return;\n",
              "\n",
              "          const docLinkHtml = 'Like what you see? Visit the ' +\n",
              "            '<a target=\"_blank\" href=https://colab.research.google.com/notebooks/data_table.ipynb>data table notebook</a>'\n",
              "            + ' to learn more about interactive tables.';\n",
              "          element.innerHTML = '';\n",
              "          dataTable['output_type'] = 'display_data';\n",
              "          await google.colab.output.renderOutput(dataTable, element);\n",
              "          const docLink = document.createElement('div');\n",
              "          docLink.innerHTML = docLinkHtml;\n",
              "          element.appendChild(docLink);\n",
              "        }\n",
              "      </script>\n",
              "    </div>\n",
              "  </div>\n",
              "  "
            ]
          },
          "metadata": {},
          "execution_count": 202
        }
      ]
    },
    {
      "cell_type": "markdown",
      "source": [
        "Inverse Document Frequency"
      ],
      "metadata": {
        "id": "kSrdXBqOuXa0"
      }
    },
    {
      "cell_type": "code",
      "source": [
        "vectorizer = TfidfVectorizer(stop_words='english')\n",
        "tfidf_matrix = vectorizer.fit_transform(df_notes_TSICU['TEXT'])\n",
        "\n",
        "feature_names = vectorizer.get_feature_names_out()\n",
        "tfidf_scores = tfidf_matrix.sum(axis=0).A1\n",
        "word_score_dict = dict(zip(feature_names, tfidf_scores))\n",
        "\n",
        "sorted_words = sorted(word_score_dict.items(), key=lambda x: x[1], reverse=True)\n",
        "\n",
        "top_words = sorted_words[:50]"
      ],
      "metadata": {
        "id": "mLycA6V9u2Bk"
      },
      "execution_count": null,
      "outputs": []
    },
    {
      "cell_type": "code",
      "source": [
        "print(\"Rank\\tWord\\t\\t\\tCount\")\n",
        "for rank, (word, score) in enumerate(top_words, start=1):\n",
        "  print(f\"{rank}\\t{word.ljust(20)}\\t{score}\")"
      ],
      "metadata": {
        "id": "CFYY-4Q9yltA",
        "colab": {
          "base_uri": "https://localhost:8080/"
        },
        "outputId": "04aa5f8b-a4b0-4bc5-ab03-dab1adcd9e65"
      },
      "execution_count": null,
      "outputs": [
        {
          "output_type": "stream",
          "name": "stdout",
          "text": [
            "Rank\tWord\t\t\tCount\n",
            "1\tpt                  \t3858.6903894772577\n",
            "2\thr                  \t1471.2297840163665\n",
            "3\tpain                \t1164.7940882023267\n",
            "4\tremains             \t1117.4422691304126\n",
            "5\tcont                \t1066.8040470247731\n",
            "6\tni                  \t1064.6198456445675\n",
            "7\tclear               \t1048.9647714021357\n",
            "8\tresp                \t1043.7994178984986\n",
            "9\tneuro               \t1034.694601057851\n",
            "10\tplan                \t1028.8010630778783\n",
            "11\tgiven               \t1027.131281857696\n",
            "12\ttoday               \t1025.5294101764566\n",
            "13\tnoted               \t1000.4239611589693\n",
            "14\tskin                \t998.9591517978259\n",
            "15\tcare                \t981.4243721169329\n",
            "16\tbs                  \t980.7880331487136\n",
            "17\tstable              \t963.3350924689521\n",
            "18\tfamily              \t932.8899041885629\n",
            "19\tintact              \t924.4465732530525\n",
            "20\tabd                 \t916.9799870140897\n",
            "21\tvent                \t901.7520471083034\n",
            "22\t100                 \t875.3529533254998\n",
            "23\tmonitor             \t868.2895431277631\n",
            "24\tsecretions          \t865.4468673521218\n",
            "25\tcontinue            \t848.9059660529008\n",
            "26\tyellow              \t841.6757341287495\n",
            "27\tnote                \t830.4263085184771\n",
            "28\tgi                  \t828.3048989198736\n",
            "29\tsupport             \t782.0460572261804\n",
            "30\ttube                \t775.6873781857886\n",
            "31\tshift               \t775.3636286491661\n",
            "32\tbp                  \t770.4333408422008\n",
            "33\tcv                  \t757.3921656901684\n",
            "34\tgu                  \t755.1236309302823\n",
            "35\tgtt                 \t754.1042916234758\n",
            "36\tleft                \t752.8296397915734\n",
            "37\ttrach               \t751.3412306525862\n",
            "38\turine               \t751.0577911084144\n",
            "39\tcontinues           \t721.7869109646288\n",
            "40\tiv                  \t709.234988954341\n",
            "41\tgood                \t708.1167274621725\n",
            "42\tdrainage            \t707.8875696400777\n",
            "43\tsoft                \t683.0329036732734\n",
            "44\tfoley               \t683.0090556610046\n",
            "45\trespiratory         \t682.9990985638507\n",
            "46\tright               \t680.4017255832694\n",
            "47\tdraining            \t680.2721200215974\n",
            "48\tsocial              \t679.0472930768207\n",
            "49\tsats                \t674.42301025116\n",
            "50\tpatient             \t672.9377766992458\n"
          ]
        }
      ]
    },
    {
      "cell_type": "markdown",
      "source": [
        "select emotional words then filter rows that dont have a minimum number of them"
      ],
      "metadata": {
        "id": "IJasBc1JDJ7G"
      }
    },
    {
      "cell_type": "code",
      "source": [
        "def filter_for_emotional_words(df):\n",
        "  selected_words = ['pain', 'family', 'stable', 'care', 'well', 'social', 'support', 'able', 'decreased', 'warm', 'unable', 'strong', 'intact', 'good', 'times', 'aware', 'eyes', 'tolerated', 'denies', 'tolerating', 'please', 'palpable']\n",
        "  print(\"selected_words list length: \", len(selected_words))\n",
        "  pattern = '|'.join(selected_words)\n",
        "  new_df = df[df['TEXT'].str.contains(pattern, regex=True)].copy()\n",
        "  #filtered_data = df_notes_TSICU[df_notes_TSICU['TEXT'].str.contains(pattern, regex=True)].copy()\n",
        "  new_df['num_search_words'] = new_df['TEXT'].str.count(pattern)\n",
        "  #new_df = new_df[new_df['num_search_words'] >= 0]\n",
        "  new_df.info()\n",
        "  return new_df"
      ],
      "metadata": {
        "id": "io0fnZ6LDJje"
      },
      "execution_count": null,
      "outputs": []
    },
    {
      "cell_type": "code",
      "source": [
        "#filtered_data = filter_for_emotional_words(df_notes_TSICU_dropped_cols)\n",
        "filtered_data = df_notes_TSICU_dropped_cols"
      ],
      "metadata": {
        "id": "lPqYiPgCaw05"
      },
      "execution_count": null,
      "outputs": []
    },
    {
      "cell_type": "markdown",
      "source": [
        "Random selection from sample set"
      ],
      "metadata": {
        "id": "9zgLOVKMmC1c"
      }
    },
    {
      "cell_type": "code",
      "source": [
        "#random_filtered_data = filtered_data.sample(n=50000, random_state=42)\n",
        "random_filtered_data = filtered_data"
      ],
      "metadata": {
        "id": "A2g7uF3_mCja"
      },
      "execution_count": null,
      "outputs": []
    },
    {
      "cell_type": "markdown",
      "source": [
        "Remove similar sentences"
      ],
      "metadata": {
        "id": "T4IGl2_LhAjw"
      }
    },
    {
      "cell_type": "code",
      "source": [
        "from sklearn.feature_extraction.text import TfidfVectorizer\n",
        "from sklearn.metrics.pairwise import cosine_similarity\n",
        "\n",
        "def remove_similar_notes(df):\n",
        "  sentences = df['TEXT'].tolist()\n",
        "  vectorizer = TfidfVectorizer()\n",
        "  tfidf_matrix = vectorizer.fit_transform(sentences)\n",
        "  similarity_threshold = 0.8\n",
        "\n",
        "  similar_indices = []\n",
        "  for i, sentence in enumerate(sentences):  # needs to be max 1000 entries\n",
        "    if any(cosine_similarity(tfidf_matrix[i], tfidf_matrix[j])[0][0] > similarity_threshold for j in range(i)):  # very slow ~10 minutes for 1000 entries, exponential complexity (more than 5 hours if 6000 entries)\n",
        "      similar_indices.append(i)\n",
        "  index_labels = df.index[similar_indices]\n",
        "  df.drop(index_labels, inplace=True)\n",
        "  return df"
      ],
      "metadata": {
        "id": "y_7e8eEAg-8E"
      },
      "execution_count": null,
      "outputs": []
    },
    {
      "cell_type": "code",
      "source": [
        "#random_filtered_data = remove_similar_notes(random_filtered_data)\n",
        "random_filtered_data.info()"
      ],
      "metadata": {
        "id": "5hR3SznnlFAw",
        "colab": {
          "base_uri": "https://localhost:8080/"
        },
        "outputId": "89f3a202-7779-424c-ef1c-4e74b4ce41cd"
      },
      "execution_count": null,
      "outputs": [
        {
          "output_type": "stream",
          "name": "stdout",
          "text": [
            "<class 'pandas.core.frame.DataFrame'>\n",
            "Int64Index: 34283 entries, 0 to 48418\n",
            "Data columns (total 16 columns):\n",
            " #   Column             Non-Null Count  Dtype  \n",
            "---  ------             --------------  -----  \n",
            " 0   ROW_ID             34283 non-null  int64  \n",
            " 1   SUBJECT_ID         34283 non-null  int64  \n",
            " 2   CGID               34283 non-null  int64  \n",
            " 3   TEXT               34283 non-null  object \n",
            " 4   CATEGORY           34283 non-null  object \n",
            " 5   LABEL              31732 non-null  object \n",
            " 6   DESCRIPTION        19285 non-null  object \n",
            " 7   HADM_ID            34283 non-null  int64  \n",
            " 8   ICUSTAY_ID         34283 non-null  int64  \n",
            " 9   LOS                34283 non-null  float64\n",
            " 10  GENDER             34283 non-null  object \n",
            " 11  EXPIRE_FLAG        34283 non-null  int64  \n",
            " 12  ICD9_CODE          34283 non-null  object \n",
            " 13  SEQ_NUM            34283 non-null  int64  \n",
            " 14  num_of_notes       34283 non-null  int64  \n",
            " 15  num_of_conditions  34283 non-null  int64  \n",
            "dtypes: float64(1), int64(9), object(6)\n",
            "memory usage: 4.4+ MB\n"
          ]
        }
      ]
    },
    {
      "cell_type": "markdown",
      "source": [
        "Find matching conditions for both expired flags"
      ],
      "metadata": {
        "id": "hKqh8rDTZATB"
      }
    },
    {
      "cell_type": "code",
      "source": [
        "def split_set_half_expired(df):\n",
        "  df['EXPIRE_FLAG'] = df['EXPIRE_FLAG'].astype(int)\n",
        "  group_conditions = df.groupby(['ICD9_CODE', 'EXPIRE_FLAG'])\n",
        "  def balance_conditions(g1,g2,size):\n",
        "    size = min(len(g1), len(g2), size)\n",
        "    return g1.sample(n=size, random_state=1), g2.sample(n=size, random_state=1)\n",
        "\n",
        "  rows = []\n",
        "  size = 50000\n",
        "\n",
        "  for drg_desc, group in group_conditions:\n",
        "    icd9, expire = drg_desc\n",
        "    if (icd9, 1-expire) in group_conditions.groups:\n",
        "      paired_group = group_conditions.get_group((icd9, 1-expire))\n",
        "      group_sample1, group_sample2 = balance_conditions(group, paired_group, size)\n",
        "      rows.append(group_sample1)\n",
        "      rows.append(group_sample2)\n",
        "      size -= len(group_sample1)\n",
        "    if size <= 0:\n",
        "      break\n",
        "\n",
        "  new_df = pd.concat(rows)\n",
        "  new_df = new_df.drop_duplicates()\n",
        "\n",
        "  new_df.info()\n",
        "  #print(new_df[['ICD9_CODE', 'EXPIRE_FLAG']])\n",
        "  return new_df\n",
        "\n",
        "  #valid_groups = [key for key, group in group_conditions.groups.keys() if (key[0], key[1], 1 - key[2]) in group_conditions.groups]\n",
        "  #for key in valid_groups:\n",
        "    #pass"
      ],
      "metadata": {
        "id": "CTtgtgvONovy"
      },
      "execution_count": null,
      "outputs": []
    },
    {
      "cell_type": "code",
      "source": [
        "#balanced_data = split_set_half_expired(random_filtered_data)\n",
        "balanced_data = random_filtered_data"
      ],
      "metadata": {
        "id": "JJFzempDgOiy"
      },
      "execution_count": null,
      "outputs": []
    },
    {
      "cell_type": "markdown",
      "source": [
        "Display notes"
      ],
      "metadata": {
        "id": "lnai1UuJCedn"
      }
    },
    {
      "cell_type": "code",
      "source": [
        "pd.set_option('display.max_colwidth', 250)\n",
        "pd.set_option('display.max_rows', None)\n",
        "#print(balanced_data['TEXT'].head(200))\n",
        "pd.reset_option('display.max_colwidth')\n",
        "pd.reset_option('display.max_rows')"
      ],
      "metadata": {
        "id": "dZPZ-AGx-9NA"
      },
      "execution_count": null,
      "outputs": []
    },
    {
      "cell_type": "code",
      "source": [
        "print(balanced_data.columns)\n",
        "print('\\n'+\"Number of rows: \"+str(len(balanced_data)))"
      ],
      "metadata": {
        "id": "cemrUSU8wjMD",
        "colab": {
          "base_uri": "https://localhost:8080/"
        },
        "outputId": "ab43ec82-c4e9-4789-b41e-b412c897b0cc"
      },
      "execution_count": null,
      "outputs": [
        {
          "output_type": "stream",
          "name": "stdout",
          "text": [
            "Index(['ROW_ID', 'SUBJECT_ID', 'CGID', 'TEXT', 'CATEGORY', 'LABEL',\n",
            "       'DESCRIPTION', 'HADM_ID', 'ICUSTAY_ID', 'LOS', 'GENDER', 'EXPIRE_FLAG',\n",
            "       'ICD9_CODE', 'SEQ_NUM', 'num_of_notes', 'num_of_conditions'],\n",
            "      dtype='object')\n",
            "\n",
            "Number of rows: 34283\n"
          ]
        }
      ]
    },
    {
      "cell_type": "code",
      "source": [
        "balanced_data.info()"
      ],
      "metadata": {
        "id": "msI729kSJWJY",
        "outputId": "2815f4f3-3fd3-4d4f-dfcf-57533e5a9e44",
        "colab": {
          "base_uri": "https://localhost:8080/"
        }
      },
      "execution_count": null,
      "outputs": [
        {
          "output_type": "stream",
          "name": "stdout",
          "text": [
            "<class 'pandas.core.frame.DataFrame'>\n",
            "Int64Index: 34283 entries, 0 to 48418\n",
            "Data columns (total 16 columns):\n",
            " #   Column             Non-Null Count  Dtype  \n",
            "---  ------             --------------  -----  \n",
            " 0   ROW_ID             34283 non-null  int64  \n",
            " 1   SUBJECT_ID         34283 non-null  int64  \n",
            " 2   CGID               34283 non-null  int64  \n",
            " 3   TEXT               34283 non-null  object \n",
            " 4   CATEGORY           34283 non-null  object \n",
            " 5   LABEL              31732 non-null  object \n",
            " 6   DESCRIPTION        19285 non-null  object \n",
            " 7   HADM_ID            34283 non-null  int64  \n",
            " 8   ICUSTAY_ID         34283 non-null  int64  \n",
            " 9   LOS                34283 non-null  float64\n",
            " 10  GENDER             34283 non-null  object \n",
            " 11  EXPIRE_FLAG        34283 non-null  int64  \n",
            " 12  ICD9_CODE          34283 non-null  object \n",
            " 13  SEQ_NUM            34283 non-null  int64  \n",
            " 14  num_of_notes       34283 non-null  int64  \n",
            " 15  num_of_conditions  34283 non-null  int64  \n",
            "dtypes: float64(1), int64(9), object(6)\n",
            "memory usage: 4.4+ MB\n"
          ]
        }
      ]
    },
    {
      "cell_type": "code",
      "source": [
        "no_duplicates = balanced_data.sort_values('ROW_ID').drop_duplicates(subset=['CGID', 'SUBJECT_ID'])\n",
        "no_duplicates.info()"
      ],
      "metadata": {
        "id": "Bze40GhzJai3",
        "outputId": "14ff4df6-778e-4b06-cd17-d6de941ec465",
        "colab": {
          "base_uri": "https://localhost:8080/"
        }
      },
      "execution_count": null,
      "outputs": [
        {
          "output_type": "stream",
          "name": "stdout",
          "text": [
            "<class 'pandas.core.frame.DataFrame'>\n",
            "Int64Index: 9852 entries, 26046 to 46600\n",
            "Data columns (total 16 columns):\n",
            " #   Column             Non-Null Count  Dtype  \n",
            "---  ------             --------------  -----  \n",
            " 0   ROW_ID             9852 non-null   int64  \n",
            " 1   SUBJECT_ID         9852 non-null   int64  \n",
            " 2   CGID               9852 non-null   int64  \n",
            " 3   TEXT               9852 non-null   object \n",
            " 4   CATEGORY           9852 non-null   object \n",
            " 5   LABEL              9471 non-null   object \n",
            " 6   DESCRIPTION        5744 non-null   object \n",
            " 7   HADM_ID            9852 non-null   int64  \n",
            " 8   ICUSTAY_ID         9852 non-null   int64  \n",
            " 9   LOS                9852 non-null   float64\n",
            " 10  GENDER             9852 non-null   object \n",
            " 11  EXPIRE_FLAG        9852 non-null   int64  \n",
            " 12  ICD9_CODE          9852 non-null   object \n",
            " 13  SEQ_NUM            9852 non-null   int64  \n",
            " 14  num_of_notes       9852 non-null   int64  \n",
            " 15  num_of_conditions  9852 non-null   int64  \n",
            "dtypes: float64(1), int64(9), object(6)\n",
            "memory usage: 1.3+ MB\n"
          ]
        }
      ]
    },
    {
      "cell_type": "markdown",
      "source": [
        "Save to CSV"
      ],
      "metadata": {
        "id": "6hGujs3Fn8Mb"
      }
    },
    {
      "cell_type": "code",
      "source": [
        "# path and name of the cvs file \n",
        "PATH_TO_SAVE = \"/content/drive/MyDrive/NIH/Data/\"\n",
        "name_file_to_save = 'NOTES_NURSING_TRAJECTORIES_TSICU_COUNTS.csv'\n",
        "no_duplicates.to_csv(PATH_TO_SAVE+name_file_to_save,index=False)"
      ],
      "metadata": {
        "id": "metEeEnan7n0"
      },
      "execution_count": null,
      "outputs": []
    },
    {
      "cell_type": "markdown",
      "source": [
        "Gather- top ICD9, # of: patients, deceased, CGs, notes"
      ],
      "metadata": {
        "id": "kGId_c993xlm"
      }
    },
    {
      "cell_type": "code",
      "source": [
        "icd9_max_val = balanced_data['num_of_conditions'].max()\n",
        "icd9_max_df = balanced_data[balanced_data['num_of_conditions'] == icd9_max_val]\n",
        "\n",
        "print(\"Max ICD9 code: \" + icd9_max_df['ICD9_CODE'].unique())\n",
        "print(\"Number of patients: \" + str(icd9_max_df['SUBJECT_ID'].nunique()))\n",
        "print(\"Number of deceased patients: \" + str((icd9_max_df.drop_duplicates(subset='SUBJECT_ID')['EXPIRE_FLAG'] == 1).sum()))\n",
        "print(\"Number of caregivers: \" + str(icd9_max_df['CGID'].nunique()))\n",
        "unique_cgid = icd9_max_df['CGID'].unique()\n",
        "unique_cgid_df = icd9_max_df[icd9_max_df['CGID'].isin(unique_cgid)].drop_duplicates(subset=['CGID', 'LABEL'])\n",
        "unique_cgid_df['LABEL'] = unique_cgid_df['LABEL'].fillna('UNKNOWN')\n",
        "unique_cgid_df['LABEL'] = unique_cgid_df['LABEL'].str.upper()\n",
        "print(\"Caregiver labels: \" + '\\n' + str(unique_cgid_df['LABEL'].value_counts()))\n",
        "print(\"Number of caregivers: \" + str(icd9_max_df['CGID'].nunique()))\n",
        "print(\"Number of notes: \" + str(len(icd9_max_df)))"
      ],
      "metadata": {
        "id": "B5a2aeHR3xHM",
        "outputId": "169e2289-c8fa-40ec-daa4-e61bdd0ae406",
        "colab": {
          "base_uri": "https://localhost:8080/"
        }
      },
      "execution_count": null,
      "outputs": [
        {
          "output_type": "stream",
          "name": "stdout",
          "text": [
            "['Max ICD9 code: 5770']\n",
            "Number of patients: 18\n",
            "Number of deceased patients: 6\n",
            "Number of caregivers: 152\n",
            "Caregiver labels: \n",
            "RN         126\n",
            "RRT         17\n",
            "UNKNOWN      2\n",
            "RNC          1\n",
            "MD           1\n",
            "CRT          1\n",
            "RNS          1\n",
            "RRTS         1\n",
            "RT           1\n",
            "MS           1\n",
            "Name: LABEL, dtype: int64\n",
            "Number of caregivers: 152\n",
            "Number of notes: 1292\n"
          ]
        }
      ]
    },
    {
      "cell_type": "markdown",
      "source": [
        "deceased patients for unfiltered set"
      ],
      "metadata": {
        "id": "uC6QUHDWvrvR"
      }
    },
    {
      "cell_type": "code",
      "source": [
        "len(df_notes_TSICU['SUBJECT_ID'].unique())\n",
        "deceased_TSICU = df_notes_TSICU[df_notes_TSICU['EXPIRE_FLAG'] == 1]\n",
        "deceased_TSICU.info()"
      ],
      "metadata": {
        "id": "4quXDt_aieZv",
        "colab": {
          "base_uri": "https://localhost:8080/"
        },
        "outputId": "da7f838f-6df0-4a09-e608-a042ea44449d"
      },
      "execution_count": null,
      "outputs": [
        {
          "output_type": "stream",
          "name": "stdout",
          "text": [
            "<class 'pandas.core.frame.DataFrame'>\n",
            "Int64Index: 26007 entries, 0 to 48440\n",
            "Data columns (total 27 columns):\n",
            " #   Column          Non-Null Count  Dtype  \n",
            "---  ------          --------------  -----  \n",
            " 0   ROW_ID          26007 non-null  int64  \n",
            " 1   SUBJECT_ID      26007 non-null  int64  \n",
            " 2   CGID            26007 non-null  int64  \n",
            " 3   CHARTDATE       26007 non-null  object \n",
            " 4   TEXT            26007 non-null  object \n",
            " 5   CATEGORY        26007 non-null  object \n",
            " 6   LABEL           24425 non-null  object \n",
            " 7   DESCRIPTION     15027 non-null  object \n",
            " 8   HADM_ID         26007 non-null  int64  \n",
            " 9   ICUSTAY_ID      26007 non-null  int64  \n",
            " 10  DBSOURCE        26007 non-null  object \n",
            " 11  FIRST_CAREUNIT  26007 non-null  object \n",
            " 12  LAST_CAREUNIT   26007 non-null  object \n",
            " 13  FIRST_WARDID    26007 non-null  int64  \n",
            " 14  LAST_WARDID     26007 non-null  int64  \n",
            " 15  INTIME          26007 non-null  object \n",
            " 16  OUTTIME         26007 non-null  object \n",
            " 17  LOS             26007 non-null  float64\n",
            " 18  GENDER          26007 non-null  object \n",
            " 19  DOB             26007 non-null  object \n",
            " 20  DOD             26007 non-null  object \n",
            " 21  DOD_HOSP        15625 non-null  object \n",
            " 22  DOD_SSN         23606 non-null  object \n",
            " 23  EXPIRE_FLAG     26007 non-null  int64  \n",
            " 24  ICD9_CODE       26007 non-null  object \n",
            " 25  SEQ_NUM         26007 non-null  int64  \n",
            " 26  num_of_notes    26007 non-null  int64  \n",
            "dtypes: float64(1), int64(10), object(16)\n",
            "memory usage: 5.6+ MB\n"
          ]
        }
      ]
    },
    {
      "cell_type": "code",
      "source": [
        "sns.set()\n",
        "\n",
        "gb_notes = deceased_TSICU.groupby(['CGID','SUBJECT_ID'])\n",
        "num_notes = gb_notes['TEXT'].count()\n",
        "print(num_notes)\n",
        "print(f'number of notes: min={num_notes.min()}, max={num_notes.max()}, mean={num_notes.mean()},  median={num_notes.median()}')\n",
        "sns.boxplot(x=num_notes)\n",
        "sns.displot(num_notes[((num_notes>2) & (num_notes<15))])"
      ],
      "metadata": {
        "id": "RtIaEm23Ysfg",
        "colab": {
          "base_uri": "https://localhost:8080/",
          "height": 1000
        },
        "outputId": "cb249744-aedc-4d01-e565-6be97b1e099f"
      },
      "execution_count": null,
      "outputs": [
        {
          "output_type": "stream",
          "name": "stdout",
          "text": [
            "CGID   SUBJECT_ID\n",
            "14020  27301          1\n",
            "       27755          1\n",
            "       28447          2\n",
            "       29414          4\n",
            "       29691          1\n",
            "                     ..\n",
            "21570  26224          7\n",
            "       26294          2\n",
            "       26308          2\n",
            "       26419          4\n",
            "       26429         10\n",
            "Name: TEXT, Length: 12108, dtype: int64\n",
            "number of notes: min=1, max=124, mean=2.1479187314172448,  median=1.0\n"
          ]
        },
        {
          "output_type": "execute_result",
          "data": {
            "text/plain": [
              "<seaborn.axisgrid.FacetGrid at 0x7fc1e3dcb4f0>"
            ]
          },
          "metadata": {},
          "execution_count": 219
        },
        {
          "output_type": "display_data",
          "data": {
            "text/plain": [
              "<Figure size 640x480 with 1 Axes>"
            ],
            "image/png": "[encoded data removed]"
          },
          "metadata": {}
        },
        {
          "output_type": "display_data",
          "data": {
            "text/plain": [
              "<Figure size 500x500 with 1 Axes>"
            ],
            "image/png": "[encoded data removed]"
          },
          "metadata": {}
        }
      ]
    },
    {
      "cell_type": "markdown",
      "source": [
        "Seperate deceased and living"
      ],
      "metadata": {
        "id": "9tJkPVZggBv_"
      }
    },
    {
      "cell_type": "code",
      "source": [
        "deceased_patients = balanced_data[balanced_data['EXPIRE_FLAG'] == 1]\n",
        "deceased_patients.info()"
      ],
      "metadata": {
        "id": "4cfpXZF4fnUG",
        "colab": {
          "base_uri": "https://localhost:8080/"
        },
        "outputId": "63c7ef54-b543-4f7e-e656-ea9e3d9bf32c"
      },
      "execution_count": null,
      "outputs": [
        {
          "output_type": "stream",
          "name": "stdout",
          "text": [
            "<class 'pandas.core.frame.DataFrame'>\n",
            "Int64Index: 19216 entries, 0 to 48418\n",
            "Data columns (total 16 columns):\n",
            " #   Column             Non-Null Count  Dtype  \n",
            "---  ------             --------------  -----  \n",
            " 0   ROW_ID             19216 non-null  int64  \n",
            " 1   SUBJECT_ID         19216 non-null  int64  \n",
            " 2   CGID               19216 non-null  int64  \n",
            " 3   TEXT               19216 non-null  object \n",
            " 4   CATEGORY           19216 non-null  object \n",
            " 5   LABEL              17723 non-null  object \n",
            " 6   DESCRIPTION        10894 non-null  object \n",
            " 7   HADM_ID            19216 non-null  int64  \n",
            " 8   ICUSTAY_ID         19216 non-null  int64  \n",
            " 9   LOS                19216 non-null  float64\n",
            " 10  GENDER             19216 non-null  object \n",
            " 11  EXPIRE_FLAG        19216 non-null  int64  \n",
            " 12  ICD9_CODE          19216 non-null  object \n",
            " 13  SEQ_NUM            19216 non-null  int64  \n",
            " 14  num_of_notes       19216 non-null  int64  \n",
            " 15  num_of_conditions  19216 non-null  int64  \n",
            "dtypes: float64(1), int64(9), object(6)\n",
            "memory usage: 2.5+ MB\n"
          ]
        }
      ]
    },
    {
      "cell_type": "code",
      "source": [
        "living_patients = balanced_data[balanced_data['EXPIRE_FLAG'] == 0]\n",
        "living_patients.info()"
      ],
      "metadata": {
        "id": "BfFfnIingFO3",
        "colab": {
          "base_uri": "https://localhost:8080/"
        },
        "outputId": "832a84e8-c16f-443c-9a6b-abb27895e2fa"
      },
      "execution_count": null,
      "outputs": [
        {
          "output_type": "stream",
          "name": "stdout",
          "text": [
            "<class 'pandas.core.frame.DataFrame'>\n",
            "Int64Index: 15067 entries, 77 to 48398\n",
            "Data columns (total 16 columns):\n",
            " #   Column             Non-Null Count  Dtype  \n",
            "---  ------             --------------  -----  \n",
            " 0   ROW_ID             15067 non-null  int64  \n",
            " 1   SUBJECT_ID         15067 non-null  int64  \n",
            " 2   CGID               15067 non-null  int64  \n",
            " 3   TEXT               15067 non-null  object \n",
            " 4   CATEGORY           15067 non-null  object \n",
            " 5   LABEL              14009 non-null  object \n",
            " 6   DESCRIPTION        8391 non-null   object \n",
            " 7   HADM_ID            15067 non-null  int64  \n",
            " 8   ICUSTAY_ID         15067 non-null  int64  \n",
            " 9   LOS                15067 non-null  float64\n",
            " 10  GENDER             15067 non-null  object \n",
            " 11  EXPIRE_FLAG        15067 non-null  int64  \n",
            " 12  ICD9_CODE          15067 non-null  object \n",
            " 13  SEQ_NUM            15067 non-null  int64  \n",
            " 14  num_of_notes       15067 non-null  int64  \n",
            " 15  num_of_conditions  15067 non-null  int64  \n",
            "dtypes: float64(1), int64(9), object(6)\n",
            "memory usage: 2.0+ MB\n"
          ]
        }
      ]
    },
    {
      "cell_type": "markdown",
      "source": [
        "Tokenized words"
      ],
      "metadata": {
        "id": "UU8xrEkoGzNi"
      }
    },
    {
      "cell_type": "code",
      "source": [
        "#text = df_notes_TSICU['TEXT'].str.cat(sep=' ')\n",
        "#words = nltk.word_tokenize(text)  # very slow"
      ],
      "metadata": {
        "id": "YlONNwDeGy9a"
      },
      "execution_count": null,
      "outputs": []
    },
    {
      "cell_type": "markdown",
      "source": [
        "Count words in notes"
      ],
      "metadata": {
        "id": "gyFTOEALCbxX"
      }
    },
    {
      "cell_type": "code",
      "source": [
        "#stopwords = nltk.corpus.stopwords.words('english')\n",
        "#words = [word.lower() for word in words if word.lower() not in stopwords and re.match(r'\\b\\w+\\b', word)]  # also slow but only kinda slow\n",
        "#word_counts = Counter(words)\n",
        "#most_common_words = word_counts.most_common(300)"
      ],
      "metadata": {
        "id": "jtTWXQjy-_Fw"
      },
      "execution_count": null,
      "outputs": []
    },
    {
      "cell_type": "code",
      "source": [
        "#print(\"Rank\\tWord\\t\\t\\tCount\")\n",
        "#for rank, word_count in enumerate(most_common_words, start=1):\n",
        "  #word, count = word_count\n",
        "  #print(f\"{rank}\\t{word.ljust(20)}\\t{count}\")"
      ],
      "metadata": {
        "id": "vtPdb3_iB5T0"
      },
      "execution_count": null,
      "outputs": []
    },
    {
      "cell_type": "markdown",
      "source": [
        "Emotional words"
      ],
      "metadata": {
        "id": "2vLviAGyJmdQ"
      }
    },
    {
      "cell_type": "code",
      "source": [
        "#emotional_words = []\n",
        "#for word_count in most_common_words:\n",
        "  #word = word_count[0]\n",
        "  #synsets = wn.synsets(word)\n",
        "  #if synsets:\n",
        "    #senti_synset = swn.senti_synset(synsets[0].name())\n",
        "    #if senti_synset.pos_score() > 0.45 or senti_synset.neg_score() > 0.45:\n",
        "      #emotional_words.append(word)\n",
        "\n",
        "#emotional_words"
      ],
      "metadata": {
        "id": "4ATr_HSAJlpK"
      },
      "execution_count": null,
      "outputs": []
    },
    {
      "cell_type": "code",
      "source": [
        "#from textblob import TextBlob\n",
        "#emotional_words = []\n",
        "#for word_count in most_common_words:\n",
        "  #word = word_count[0]\n",
        "  #tb = TextBlob(word)\n",
        "  #sentiment = tb.sentiment.polarity\n",
        "  #if abs(sentiment) > 0.35:\n",
        "    #emotional_words.append(word)\n",
        "\n",
        "#emotional_words"
      ],
      "metadata": {
        "id": "ZFtCDPOyRPcq"
      },
      "execution_count": null,
      "outputs": []
    }
  ]
}