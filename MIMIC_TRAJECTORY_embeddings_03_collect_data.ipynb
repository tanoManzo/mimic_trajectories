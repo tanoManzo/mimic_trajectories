{
  "nbformat": 4,
  "nbformat_minor": 0,
  "metadata": {
    "colab": {
      "provenance": [],
      "include_colab_link": true
    },
    "kernelspec": {
      "name": "python3",
      "display_name": "Python 3"
    },
    "language_info": {
      "name": "python"
    }
  },
  "cells": [
    {
      "cell_type": "markdown",
      "metadata": {
        "id": "view-in-github",
        "colab_type": "text"
      },
      "source": [
        "<a href=\"https://colab.research.google.com/github/tanoManzo/mimic_trajectories/blob/dev/MIMIC_TRAJECTORY_embeddings_03_collect_data.ipynb\" target=\"_parent\"><img src=\"https://colab.research.google.com/assets/colab-badge.svg\" alt=\"Open In Colab\"/></a>"
      ]
    },
    {
      "cell_type": "markdown",
      "source": [
        "# Data Collection, Embeddings and Attitude"
      ],
      "metadata": {
        "id": "5CSBbeSkyRmq"
      }
    },
    {
      "cell_type": "code",
      "source": [
        "! pip install transformers -q"
      ],
      "metadata": {
        "id": "mcvHX_-AewgN"
      },
      "execution_count": 83,
      "outputs": []
    },
    {
      "cell_type": "code",
      "execution_count": 84,
      "metadata": {
        "id": "35BpcyS4eWHw"
      },
      "outputs": [],
      "source": [
        "import numpy as np\n",
        "import pandas as pd\n",
        "import torch\n",
        "import torch.nn.functional as F\n",
        "from transformers import AutoTokenizer, AutoModel\n",
        "from transformers import AutoModelForSequenceClassification"
      ]
    },
    {
      "cell_type": "markdown",
      "source": [
        "load nursing notes subject-caregiver-chartdate"
      ],
      "metadata": {
        "id": "2YFjrsu1tkB2"
      }
    },
    {
      "cell_type": "code",
      "source": [
        "from google.colab import drive\n",
        "drive.mount('/content/drive')"
      ],
      "metadata": {
        "colab": {
          "base_uri": "https://localhost:8080/"
        },
        "id": "GKFaijaIsKBU",
        "outputId": "ab9e2de6-9dc8-4f79-bbd3-31f990e7c5bc"
      },
      "execution_count": 85,
      "outputs": [
        {
          "output_type": "stream",
          "name": "stdout",
          "text": [
            "Drive already mounted at /content/drive; to attempt to forcibly remount, call drive.mount(\"/content/drive\", force_remount=True).\n"
          ]
        }
      ]
    },
    {
      "cell_type": "code",
      "source": [
        "notes_path = \"/content/drive/MyDrive/NIH/Data/\"\n",
        "notes_name = \"NOTES_NURSING_TRAJECTORIES_01.csv\"\n",
        "df_notes = pd.read_csv(notes_path+notes_name)\n",
        "df_notes.info()"
      ],
      "metadata": {
        "colab": {
          "base_uri": "https://localhost:8080/"
        },
        "id": "sSNmSwI5Ix2P",
        "outputId": "19fb71f2-21c3-42e1-ecc3-fe32becf884b"
      },
      "execution_count": 86,
      "outputs": [
        {
          "output_type": "stream",
          "name": "stdout",
          "text": [
            "<class 'pandas.core.frame.DataFrame'>\n",
            "RangeIndex: 531675 entries, 0 to 531674\n",
            "Data columns (total 5 columns):\n",
            " #   Column      Non-Null Count   Dtype \n",
            "---  ------      --------------   ----- \n",
            " 0   ROW_ID      531675 non-null  int64 \n",
            " 1   SUBJECT_ID  531675 non-null  int64 \n",
            " 2   CGID        531675 non-null  int64 \n",
            " 3   CHARTDATE   531675 non-null  object\n",
            " 4   TEXT        531675 non-null  object\n",
            "dtypes: int64(3), object(2)\n",
            "memory usage: 20.3+ MB\n"
          ]
        }
      ]
    },
    {
      "cell_type": "code",
      "source": [
        "patients = \"PATIENTS.csv\"\n",
        "df_patients = pd.read_csv(notes_path+patients)\n",
        "df_patients.info()\n"
      ],
      "metadata": {
        "id": "oz7EmtbWQC31",
        "colab": {
          "base_uri": "https://localhost:8080/"
        },
        "outputId": "63dbb599-552d-4999-c4aa-77b4763b6459"
      },
      "execution_count": 87,
      "outputs": [
        {
          "output_type": "stream",
          "name": "stdout",
          "text": [
            "<class 'pandas.core.frame.DataFrame'>\n",
            "RangeIndex: 46520 entries, 0 to 46519\n",
            "Data columns (total 8 columns):\n",
            " #   Column       Non-Null Count  Dtype \n",
            "---  ------       --------------  ----- \n",
            " 0   ROW_ID       46520 non-null  int64 \n",
            " 1   SUBJECT_ID   46520 non-null  int64 \n",
            " 2   GENDER       46520 non-null  object\n",
            " 3   DOB          46520 non-null  object\n",
            " 4   DOD          15759 non-null  object\n",
            " 5   DOD_HOSP     9974 non-null   object\n",
            " 6   DOD_SSN      13378 non-null  object\n",
            " 7   EXPIRE_FLAG  46520 non-null  int64 \n",
            "dtypes: int64(3), object(5)\n",
            "memory usage: 2.8+ MB\n"
          ]
        }
      ]
    },
    {
      "cell_type": "code",
      "source": [
        "ward_name = \"ICUSTAYS.csv\"\n",
        "df_ward = pd.read_csv(notes_path+ward_name)\n",
        "df_ward.info()\n",
        "df_ward['FIRST_CAREUNIT'].unique()"
      ],
      "metadata": {
        "id": "Ti0D5GvITEpa",
        "colab": {
          "base_uri": "https://localhost:8080/"
        },
        "outputId": "85682027-f3be-4454-da00-ff84ba747853"
      },
      "execution_count": 88,
      "outputs": [
        {
          "output_type": "stream",
          "name": "stdout",
          "text": [
            "<class 'pandas.core.frame.DataFrame'>\n",
            "RangeIndex: 61532 entries, 0 to 61531\n",
            "Data columns (total 12 columns):\n",
            " #   Column          Non-Null Count  Dtype  \n",
            "---  ------          --------------  -----  \n",
            " 0   ROW_ID          61532 non-null  int64  \n",
            " 1   SUBJECT_ID      61532 non-null  int64  \n",
            " 2   HADM_ID         61532 non-null  int64  \n",
            " 3   ICUSTAY_ID      61532 non-null  int64  \n",
            " 4   DBSOURCE        61532 non-null  object \n",
            " 5   FIRST_CAREUNIT  61532 non-null  object \n",
            " 6   LAST_CAREUNIT   61532 non-null  object \n",
            " 7   FIRST_WARDID    61532 non-null  int64  \n",
            " 8   LAST_WARDID     61532 non-null  int64  \n",
            " 9   INTIME          61532 non-null  object \n",
            " 10  OUTTIME         61522 non-null  object \n",
            " 11  LOS             61522 non-null  float64\n",
            "dtypes: float64(1), int64(6), object(5)\n",
            "memory usage: 5.6+ MB\n"
          ]
        },
        {
          "output_type": "execute_result",
          "data": {
            "text/plain": [
              "array(['MICU', 'CCU', 'NICU', 'TSICU', 'SICU', 'CSRU'], dtype=object)"
            ]
          },
          "metadata": {},
          "execution_count": 88
        }
      ]
    },
    {
      "cell_type": "code",
      "source": [
        "drg = \"DRGCODES.csv\"\n",
        "df_drg = pd.read_csv(notes_path+drg)\n",
        "df_drg.info()"
      ],
      "metadata": {
        "id": "PFLocK_T-w_x",
        "outputId": "9b9901f5-cef3-4a84-df12-769f3f1c8389",
        "colab": {
          "base_uri": "https://localhost:8080/"
        }
      },
      "execution_count": 89,
      "outputs": [
        {
          "output_type": "stream",
          "name": "stdout",
          "text": [
            "<class 'pandas.core.frame.DataFrame'>\n",
            "RangeIndex: 125557 entries, 0 to 125556\n",
            "Data columns (total 8 columns):\n",
            " #   Column         Non-Null Count   Dtype  \n",
            "---  ------         --------------   -----  \n",
            " 0   ROW_ID         125557 non-null  int64  \n",
            " 1   SUBJECT_ID     125557 non-null  int64  \n",
            " 2   HADM_ID        125557 non-null  int64  \n",
            " 3   DRG_TYPE       125557 non-null  object \n",
            " 4   DRG_CODE       125557 non-null  int64  \n",
            " 5   DESCRIPTION    125494 non-null  object \n",
            " 6   DRG_SEVERITY   66634 non-null   float64\n",
            " 7   DRG_MORTALITY  66634 non-null   float64\n",
            "dtypes: float64(2), int64(4), object(2)\n",
            "memory usage: 7.7+ MB\n"
          ]
        }
      ]
    },
    {
      "cell_type": "markdown",
      "source": [
        "## **Data Preprocessing**"
      ],
      "metadata": {
        "id": "qdVDhESt91i2"
      }
    },
    {
      "cell_type": "markdown",
      "source": [
        "analyzing words in future dataset"
      ],
      "metadata": {
        "id": "saHXQ4P-6zpR"
      }
    },
    {
      "cell_type": "code",
      "source": [
        "!pip install nltk"
      ],
      "metadata": {
        "id": "kBFj_8TI-2MG",
        "colab": {
          "base_uri": "https://localhost:8080/"
        },
        "outputId": "820f6aeb-a8aa-4c31-fe8d-7558e8b3cbf9"
      },
      "execution_count": 90,
      "outputs": [
        {
          "output_type": "stream",
          "name": "stdout",
          "text": [
            "Looking in indexes: https://pypi.org/simple, https://us-python.pkg.dev/colab-wheels/public/simple/\n",
            "Requirement already satisfied: nltk in /usr/local/lib/python3.10/dist-packages (3.8.1)\n",
            "Requirement already satisfied: click in /usr/local/lib/python3.10/dist-packages (from nltk) (8.1.3)\n",
            "Requirement already satisfied: joblib in /usr/local/lib/python3.10/dist-packages (from nltk) (1.2.0)\n",
            "Requirement already satisfied: regex>=2021.8.3 in /usr/local/lib/python3.10/dist-packages (from nltk) (2022.10.31)\n",
            "Requirement already satisfied: tqdm in /usr/local/lib/python3.10/dist-packages (from nltk) (4.65.0)\n"
          ]
        }
      ]
    },
    {
      "cell_type": "markdown",
      "source": [
        "imports for counting words"
      ],
      "metadata": {
        "id": "P8-8j1UnCo4n"
      }
    },
    {
      "cell_type": "code",
      "source": [
        "import re\n",
        "from collections import Counter\n",
        "\n",
        "from sklearn.feature_extraction.text import TfidfVectorizer\n",
        "\n",
        "import nltk\n",
        "nltk.download('punkt')\n",
        "nltk.download('stopwords')\n",
        "nltk.download('wordnet')\n",
        "nltk.download('sentiwordnet')\n",
        "from nltk.corpus import wordnet as wn\n",
        "from nltk.corpus import sentiwordnet as swn\n",
        "from nltk.tokenize import word_tokenize\n",
        "from nltk.corpus import stopwords"
      ],
      "metadata": {
        "id": "nPjR7flk_xYx",
        "colab": {
          "base_uri": "https://localhost:8080/"
        },
        "outputId": "947844b0-b75b-48f0-a17e-ab507687b31d"
      },
      "execution_count": 91,
      "outputs": [
        {
          "output_type": "stream",
          "name": "stderr",
          "text": [
            "[nltk_data] Downloading package punkt to /root/nltk_data...\n",
            "[nltk_data]   Package punkt is already up-to-date!\n",
            "[nltk_data] Downloading package stopwords to /root/nltk_data...\n",
            "[nltk_data]   Package stopwords is already up-to-date!\n",
            "[nltk_data] Downloading package wordnet to /root/nltk_data...\n",
            "[nltk_data]   Package wordnet is already up-to-date!\n",
            "[nltk_data] Downloading package sentiwordnet to /root/nltk_data...\n",
            "[nltk_data]   Package sentiwordnet is already up-to-date!\n"
          ]
        }
      ]
    },
    {
      "cell_type": "markdown",
      "source": [
        "Grab tsicu notes, merge with drg codes"
      ],
      "metadata": {
        "id": "uLpw8TKsChMf"
      }
    },
    {
      "cell_type": "code",
      "source": [
        "# get new type of notes (TSICU)\n",
        "df_notes_TSICU = df_notes.merge(df_ward.drop('ROW_ID', axis=1), on='SUBJECT_ID')\n",
        "df_notes_TSICU = df_notes_TSICU.merge(df_patients.drop('ROW_ID', axis=1), on='SUBJECT_ID')\n",
        "df_notes_TSICU = df_notes_TSICU.merge(df_drg[['HADM_ID','DRG_CODE','DESCRIPTION']], on=['HADM_ID'])\n",
        "df_notes_TSICU = df_notes_TSICU[(df_notes_TSICU['FIRST_CAREUNIT'] == 'TSICU') & (df_notes_TSICU['LAST_CAREUNIT'] == 'TSICU')].drop_duplicates()\n",
        "df_notes_TSICU.info()\n",
        "df_notes_TSICU.head(5)\n",
        "#print(df_drg[df_drg.duplicated(['HADM_ID'], keep=False)])"
      ],
      "metadata": {
        "id": "RfRbbiU85KqG",
        "colab": {
          "base_uri": "https://localhost:8080/",
          "height": 973
        },
        "outputId": "102da67f-cc8b-419a-cf48-caac1b69abea"
      },
      "execution_count": 92,
      "outputs": [
        {
          "output_type": "stream",
          "name": "stdout",
          "text": [
            "<class 'pandas.core.frame.DataFrame'>\n",
            "Int64Index: 76081 entries, 5852 to 1502532\n",
            "Data columns (total 23 columns):\n",
            " #   Column          Non-Null Count  Dtype  \n",
            "---  ------          --------------  -----  \n",
            " 0   ROW_ID          76081 non-null  int64  \n",
            " 1   SUBJECT_ID      76081 non-null  int64  \n",
            " 2   CGID            76081 non-null  int64  \n",
            " 3   CHARTDATE       76081 non-null  object \n",
            " 4   TEXT            76081 non-null  object \n",
            " 5   HADM_ID         76081 non-null  int64  \n",
            " 6   ICUSTAY_ID      76081 non-null  int64  \n",
            " 7   DBSOURCE        76081 non-null  object \n",
            " 8   FIRST_CAREUNIT  76081 non-null  object \n",
            " 9   LAST_CAREUNIT   76081 non-null  object \n",
            " 10  FIRST_WARDID    76081 non-null  int64  \n",
            " 11  LAST_WARDID     76081 non-null  int64  \n",
            " 12  INTIME          76081 non-null  object \n",
            " 13  OUTTIME         76081 non-null  object \n",
            " 14  LOS             76081 non-null  float64\n",
            " 15  GENDER          76081 non-null  object \n",
            " 16  DOB             76081 non-null  object \n",
            " 17  DOD             39241 non-null  object \n",
            " 18  DOD_HOSP        23712 non-null  object \n",
            " 19  DOD_SSN         35796 non-null  object \n",
            " 20  EXPIRE_FLAG     76081 non-null  int64  \n",
            " 21  DRG_CODE        76081 non-null  int64  \n",
            " 22  DESCRIPTION     75826 non-null  object \n",
            "dtypes: float64(1), int64(9), object(13)\n",
            "memory usage: 13.9+ MB\n"
          ]
        },
        {
          "output_type": "execute_result",
          "data": {
            "text/plain": [
              "       ROW_ID  SUBJECT_ID   CGID   CHARTDATE  \\\n",
              "5852  1373553        8406  17765  2149-04-28   \n",
              "5853  1373550        8406  16140  2149-04-27   \n",
              "5854  1373547        8406  16140  2149-04-26   \n",
              "5855  1373567        8406  15659  2149-05-01   \n",
              "5856  1373633        8406  21570  2149-07-02   \n",
              "\n",
              "                                                   TEXT  HADM_ID  ICUSTAY_ID  \\\n",
              "5852  SOCIAL WORK NOTE:\\n\\nNew trauma pt on T-SICU f...   114444      239553   \n",
              "5853  SICU NPN\\nROS:\\nNeuro: Neuro exam unchanged th...   114444      239553   \n",
              "5854  SICU NPN\\nPt hemodynamicallly unstable today, ...   114444      239553   \n",
              "5855  T/SICU NSG PROGRESS NOTE.\\n0700>>[**2076**]\\n\\...   114444      239553   \n",
              "5856  Nursing Progress Note.\\n\\nCV: The pt has been ...   114444      239553   \n",
              "\n",
              "     DBSOURCE FIRST_CAREUNIT LAST_CAREUNIT  ...              OUTTIME      LOS  \\\n",
              "5852  carevue          TSICU         TSICU  ...  2149-05-22 14:04:55  26.6668   \n",
              "5853  carevue          TSICU         TSICU  ...  2149-05-22 14:04:55  26.6668   \n",
              "5854  carevue          TSICU         TSICU  ...  2149-05-22 14:04:55  26.6668   \n",
              "5855  carevue          TSICU         TSICU  ...  2149-05-22 14:04:55  26.6668   \n",
              "5856  carevue          TSICU         TSICU  ...  2149-05-22 14:04:55  26.6668   \n",
              "\n",
              "     GENDER                  DOB                  DOD             DOD_HOSP  \\\n",
              "5852      F  2117-06-28 00:00:00  2149-09-07 00:00:00  2149-09-07 00:00:00   \n",
              "5853      F  2117-06-28 00:00:00  2149-09-07 00:00:00  2149-09-07 00:00:00   \n",
              "5854      F  2117-06-28 00:00:00  2149-09-07 00:00:00  2149-09-07 00:00:00   \n",
              "5855      F  2117-06-28 00:00:00  2149-09-07 00:00:00  2149-09-07 00:00:00   \n",
              "5856      F  2117-06-28 00:00:00  2149-09-07 00:00:00  2149-09-07 00:00:00   \n",
              "\n",
              "                  DOD_SSN EXPIRE_FLAG DRG_CODE  \\\n",
              "5852  2149-09-07 00:00:00           1      483   \n",
              "5853  2149-09-07 00:00:00           1      483   \n",
              "5854  2149-09-07 00:00:00           1      483   \n",
              "5855  2149-09-07 00:00:00           1      483   \n",
              "5856  2149-09-07 00:00:00           1      483   \n",
              "\n",
              "                                            DESCRIPTION  \n",
              "5852  TRACHEOSTOMY WITH MECHANICAL VENTILATION 96+ H...  \n",
              "5853  TRACHEOSTOMY WITH MECHANICAL VENTILATION 96+ H...  \n",
              "5854  TRACHEOSTOMY WITH MECHANICAL VENTILATION 96+ H...  \n",
              "5855  TRACHEOSTOMY WITH MECHANICAL VENTILATION 96+ H...  \n",
              "5856  TRACHEOSTOMY WITH MECHANICAL VENTILATION 96+ H...  \n",
              "\n",
              "[5 rows x 23 columns]"
            ],
            "text/html": [
              "\n",
              "  <div id=\"df-4c257e7d-bf84-4b34-9b87-ead5047a5dc1\">\n",
              "    <div class=\"colab-df-container\">\n",
              "      <div>\n",
              "<style scoped>\n",
              "    .dataframe tbody tr th:only-of-type {\n",
              "        vertical-align: middle;\n",
              "    }\n",
              "\n",
              "    .dataframe tbody tr th {\n",
              "        vertical-align: top;\n",
              "    }\n",
              "\n",
              "    .dataframe thead th {\n",
              "        text-align: right;\n",
              "    }\n",
              "</style>\n",
              "<table border=\"1\" class=\"dataframe\">\n",
              "  <thead>\n",
              "    <tr style=\"text-align: right;\">\n",
              "      <th></th>\n",
              "      <th>ROW_ID</th>\n",
              "      <th>SUBJECT_ID</th>\n",
              "      <th>CGID</th>\n",
              "      <th>CHARTDATE</th>\n",
              "      <th>TEXT</th>\n",
              "      <th>HADM_ID</th>\n",
              "      <th>ICUSTAY_ID</th>\n",
              "      <th>DBSOURCE</th>\n",
              "      <th>FIRST_CAREUNIT</th>\n",
              "      <th>LAST_CAREUNIT</th>\n",
              "      <th>...</th>\n",
              "      <th>OUTTIME</th>\n",
              "      <th>LOS</th>\n",
              "      <th>GENDER</th>\n",
              "      <th>DOB</th>\n",
              "      <th>DOD</th>\n",
              "      <th>DOD_HOSP</th>\n",
              "      <th>DOD_SSN</th>\n",
              "      <th>EXPIRE_FLAG</th>\n",
              "      <th>DRG_CODE</th>\n",
              "      <th>DESCRIPTION</th>\n",
              "    </tr>\n",
              "  </thead>\n",
              "  <tbody>\n",
              "    <tr>\n",
              "      <th>5852</th>\n",
              "      <td>1373553</td>\n",
              "      <td>8406</td>\n",
              "      <td>17765</td>\n",
              "      <td>2149-04-28</td>\n",
              "      <td>SOCIAL WORK NOTE:\\n\\nNew trauma pt on T-SICU f...</td>\n",
              "      <td>114444</td>\n",
              "      <td>239553</td>\n",
              "      <td>carevue</td>\n",
              "      <td>TSICU</td>\n",
              "      <td>TSICU</td>\n",
              "      <td>...</td>\n",
              "      <td>2149-05-22 14:04:55</td>\n",
              "      <td>26.6668</td>\n",
              "      <td>F</td>\n",
              "      <td>2117-06-28 00:00:00</td>\n",
              "      <td>2149-09-07 00:00:00</td>\n",
              "      <td>2149-09-07 00:00:00</td>\n",
              "      <td>2149-09-07 00:00:00</td>\n",
              "      <td>1</td>\n",
              "      <td>483</td>\n",
              "      <td>TRACHEOSTOMY WITH MECHANICAL VENTILATION 96+ H...</td>\n",
              "    </tr>\n",
              "    <tr>\n",
              "      <th>5853</th>\n",
              "      <td>1373550</td>\n",
              "      <td>8406</td>\n",
              "      <td>16140</td>\n",
              "      <td>2149-04-27</td>\n",
              "      <td>SICU NPN\\nROS:\\nNeuro: Neuro exam unchanged th...</td>\n",
              "      <td>114444</td>\n",
              "      <td>239553</td>\n",
              "      <td>carevue</td>\n",
              "      <td>TSICU</td>\n",
              "      <td>TSICU</td>\n",
              "      <td>...</td>\n",
              "      <td>2149-05-22 14:04:55</td>\n",
              "      <td>26.6668</td>\n",
              "      <td>F</td>\n",
              "      <td>2117-06-28 00:00:00</td>\n",
              "      <td>2149-09-07 00:00:00</td>\n",
              "      <td>2149-09-07 00:00:00</td>\n",
              "      <td>2149-09-07 00:00:00</td>\n",
              "      <td>1</td>\n",
              "      <td>483</td>\n",
              "      <td>TRACHEOSTOMY WITH MECHANICAL VENTILATION 96+ H...</td>\n",
              "    </tr>\n",
              "    <tr>\n",
              "      <th>5854</th>\n",
              "      <td>1373547</td>\n",
              "      <td>8406</td>\n",
              "      <td>16140</td>\n",
              "      <td>2149-04-26</td>\n",
              "      <td>SICU NPN\\nPt hemodynamicallly unstable today, ...</td>\n",
              "      <td>114444</td>\n",
              "      <td>239553</td>\n",
              "      <td>carevue</td>\n",
              "      <td>TSICU</td>\n",
              "      <td>TSICU</td>\n",
              "      <td>...</td>\n",
              "      <td>2149-05-22 14:04:55</td>\n",
              "      <td>26.6668</td>\n",
              "      <td>F</td>\n",
              "      <td>2117-06-28 00:00:00</td>\n",
              "      <td>2149-09-07 00:00:00</td>\n",
              "      <td>2149-09-07 00:00:00</td>\n",
              "      <td>2149-09-07 00:00:00</td>\n",
              "      <td>1</td>\n",
              "      <td>483</td>\n",
              "      <td>TRACHEOSTOMY WITH MECHANICAL VENTILATION 96+ H...</td>\n",
              "    </tr>\n",
              "    <tr>\n",
              "      <th>5855</th>\n",
              "      <td>1373567</td>\n",
              "      <td>8406</td>\n",
              "      <td>15659</td>\n",
              "      <td>2149-05-01</td>\n",
              "      <td>T/SICU NSG PROGRESS NOTE.\\n0700&gt;&gt;[**2076**]\\n\\...</td>\n",
              "      <td>114444</td>\n",
              "      <td>239553</td>\n",
              "      <td>carevue</td>\n",
              "      <td>TSICU</td>\n",
              "      <td>TSICU</td>\n",
              "      <td>...</td>\n",
              "      <td>2149-05-22 14:04:55</td>\n",
              "      <td>26.6668</td>\n",
              "      <td>F</td>\n",
              "      <td>2117-06-28 00:00:00</td>\n",
              "      <td>2149-09-07 00:00:00</td>\n",
              "      <td>2149-09-07 00:00:00</td>\n",
              "      <td>2149-09-07 00:00:00</td>\n",
              "      <td>1</td>\n",
              "      <td>483</td>\n",
              "      <td>TRACHEOSTOMY WITH MECHANICAL VENTILATION 96+ H...</td>\n",
              "    </tr>\n",
              "    <tr>\n",
              "      <th>5856</th>\n",
              "      <td>1373633</td>\n",
              "      <td>8406</td>\n",
              "      <td>21570</td>\n",
              "      <td>2149-07-02</td>\n",
              "      <td>Nursing Progress Note.\\n\\nCV: The pt has been ...</td>\n",
              "      <td>114444</td>\n",
              "      <td>239553</td>\n",
              "      <td>carevue</td>\n",
              "      <td>TSICU</td>\n",
              "      <td>TSICU</td>\n",
              "      <td>...</td>\n",
              "      <td>2149-05-22 14:04:55</td>\n",
              "      <td>26.6668</td>\n",
              "      <td>F</td>\n",
              "      <td>2117-06-28 00:00:00</td>\n",
              "      <td>2149-09-07 00:00:00</td>\n",
              "      <td>2149-09-07 00:00:00</td>\n",
              "      <td>2149-09-07 00:00:00</td>\n",
              "      <td>1</td>\n",
              "      <td>483</td>\n",
              "      <td>TRACHEOSTOMY WITH MECHANICAL VENTILATION 96+ H...</td>\n",
              "    </tr>\n",
              "  </tbody>\n",
              "</table>\n",
              "<p>5 rows × 23 columns</p>\n",
              "</div>\n",
              "      <button class=\"colab-df-convert\" onclick=\"convertToInteractive('df-4c257e7d-bf84-4b34-9b87-ead5047a5dc1')\"\n",
              "              title=\"Convert this dataframe to an interactive table.\"\n",
              "              style=\"display:none;\">\n",
              "        \n",
              "  <svg xmlns=\"http://www.w3.org/2000/svg\" height=\"24px\"viewBox=\"0 0 24 24\"\n",
              "       width=\"24px\">\n",
              "    <path d=\"M0 0h24v24H0V0z\" fill=\"none\"/>\n",
              "    <path d=\"M18.56 5.44l.94 2.06.94-2.06 2.06-.94-2.06-.94-.94-2.06-.94 2.06-2.06.94zm-11 1L8.5 8.5l.94-2.06 2.06-.94-2.06-.94L8.5 2.5l-.94 2.06-2.06.94zm10 10l.94 2.06.94-2.06 2.06-.94-2.06-.94-.94-2.06-.94 2.06-2.06.94z\"/><path d=\"M17.41 7.96l-1.37-1.37c-.4-.4-.92-.59-1.43-.59-.52 0-1.04.2-1.43.59L10.3 9.45l-7.72 7.72c-.78.78-.78 2.05 0 2.83L4 21.41c.39.39.9.59 1.41.59.51 0 1.02-.2 1.41-.59l7.78-7.78 2.81-2.81c.8-.78.8-2.07 0-2.86zM5.41 20L4 18.59l7.72-7.72 1.47 1.35L5.41 20z\"/>\n",
              "  </svg>\n",
              "      </button>\n",
              "      \n",
              "  <style>\n",
              "    .colab-df-container {\n",
              "      display:flex;\n",
              "      flex-wrap:wrap;\n",
              "      gap: 12px;\n",
              "    }\n",
              "\n",
              "    .colab-df-convert {\n",
              "      background-color: #E8F0FE;\n",
              "      border: none;\n",
              "      border-radius: 50%;\n",
              "      cursor: pointer;\n",
              "      display: none;\n",
              "      fill: #1967D2;\n",
              "      height: 32px;\n",
              "      padding: 0 0 0 0;\n",
              "      width: 32px;\n",
              "    }\n",
              "\n",
              "    .colab-df-convert:hover {\n",
              "      background-color: #E2EBFA;\n",
              "      box-shadow: 0px 1px 2px rgba(60, 64, 67, 0.3), 0px 1px 3px 1px rgba(60, 64, 67, 0.15);\n",
              "      fill: #174EA6;\n",
              "    }\n",
              "\n",
              "    [theme=dark] .colab-df-convert {\n",
              "      background-color: #3B4455;\n",
              "      fill: #D2E3FC;\n",
              "    }\n",
              "\n",
              "    [theme=dark] .colab-df-convert:hover {\n",
              "      background-color: #434B5C;\n",
              "      box-shadow: 0px 1px 3px 1px rgba(0, 0, 0, 0.15);\n",
              "      filter: drop-shadow(0px 1px 2px rgba(0, 0, 0, 0.3));\n",
              "      fill: #FFFFFF;\n",
              "    }\n",
              "  </style>\n",
              "\n",
              "      <script>\n",
              "        const buttonEl =\n",
              "          document.querySelector('#df-4c257e7d-bf84-4b34-9b87-ead5047a5dc1 button.colab-df-convert');\n",
              "        buttonEl.style.display =\n",
              "          google.colab.kernel.accessAllowed ? 'block' : 'none';\n",
              "\n",
              "        async function convertToInteractive(key) {\n",
              "          const element = document.querySelector('#df-4c257e7d-bf84-4b34-9b87-ead5047a5dc1');\n",
              "          const dataTable =\n",
              "            await google.colab.kernel.invokeFunction('convertToInteractive',\n",
              "                                                     [key], {});\n",
              "          if (!dataTable) return;\n",
              "\n",
              "          const docLinkHtml = 'Like what you see? Visit the ' +\n",
              "            '<a target=\"_blank\" href=https://colab.research.google.com/notebooks/data_table.ipynb>data table notebook</a>'\n",
              "            + ' to learn more about interactive tables.';\n",
              "          element.innerHTML = '';\n",
              "          dataTable['output_type'] = 'display_data';\n",
              "          await google.colab.output.renderOutput(dataTable, element);\n",
              "          const docLink = document.createElement('div');\n",
              "          docLink.innerHTML = docLinkHtml;\n",
              "          element.appendChild(docLink);\n",
              "        }\n",
              "      </script>\n",
              "    </div>\n",
              "  </div>\n",
              "  "
            ]
          },
          "metadata": {},
          "execution_count": 92
        }
      ]
    },
    {
      "cell_type": "code",
      "source": [
        "len(df_notes_TSICU['CGID'].unique())\n",
        "deceased_TSICU = df_notes_TSICU[df_notes_TSICU['EXPIRE_FLAG'] == 1]\n",
        "deceased_TSICU.info()"
      ],
      "metadata": {
        "id": "4quXDt_aieZv",
        "outputId": "c4b1cee3-ae19-4627-fe60-3866ed8972db",
        "colab": {
          "base_uri": "https://localhost:8080/"
        }
      },
      "execution_count": 93,
      "outputs": [
        {
          "output_type": "stream",
          "name": "stdout",
          "text": [
            "<class 'pandas.core.frame.DataFrame'>\n",
            "Int64Index: 39241 entries, 5852 to 1502042\n",
            "Data columns (total 23 columns):\n",
            " #   Column          Non-Null Count  Dtype  \n",
            "---  ------          --------------  -----  \n",
            " 0   ROW_ID          39241 non-null  int64  \n",
            " 1   SUBJECT_ID      39241 non-null  int64  \n",
            " 2   CGID            39241 non-null  int64  \n",
            " 3   CHARTDATE       39241 non-null  object \n",
            " 4   TEXT            39241 non-null  object \n",
            " 5   HADM_ID         39241 non-null  int64  \n",
            " 6   ICUSTAY_ID      39241 non-null  int64  \n",
            " 7   DBSOURCE        39241 non-null  object \n",
            " 8   FIRST_CAREUNIT  39241 non-null  object \n",
            " 9   LAST_CAREUNIT   39241 non-null  object \n",
            " 10  FIRST_WARDID    39241 non-null  int64  \n",
            " 11  LAST_WARDID     39241 non-null  int64  \n",
            " 12  INTIME          39241 non-null  object \n",
            " 13  OUTTIME         39241 non-null  object \n",
            " 14  LOS             39241 non-null  float64\n",
            " 15  GENDER          39241 non-null  object \n",
            " 16  DOB             39241 non-null  object \n",
            " 17  DOD             39241 non-null  object \n",
            " 18  DOD_HOSP        23712 non-null  object \n",
            " 19  DOD_SSN         35796 non-null  object \n",
            " 20  EXPIRE_FLAG     39241 non-null  int64  \n",
            " 21  DRG_CODE        39241 non-null  int64  \n",
            " 22  DESCRIPTION     39190 non-null  object \n",
            "dtypes: float64(1), int64(9), object(13)\n",
            "memory usage: 7.2+ MB\n"
          ]
        }
      ]
    },
    {
      "cell_type": "code",
      "source": [
        "import seaborn as sns\n",
        "sns.set()\n",
        "\n",
        "\n",
        "gb_notes = deceased_TSICU.groupby(['CGID','SUBJECT_ID'])\n",
        "num_notes = gb_notes['TEXT'].count()\n",
        "\n",
        "print(f'number of notes: min={num_notes.min()}, max={num_notes.max()}, mean={num_notes.mean()},  median={num_notes.median()}')\n",
        "sns.boxplot(x=num_notes)\n",
        "sns.displot(num_notes[((num_notes>2) & (num_notes<15))])"
      ],
      "metadata": {
        "id": "RtIaEm23Ysfg",
        "outputId": "8ecb42ff-1898-4390-8ef4-754b0def2f23",
        "colab": {
          "base_uri": "https://localhost:8080/",
          "height": 977
        }
      },
      "execution_count": 94,
      "outputs": [
        {
          "output_type": "stream",
          "name": "stdout",
          "text": [
            "number of notes: min=1, max=124, mean=3.2422539866148887,  median=2.0\n"
          ]
        },
        {
          "output_type": "execute_result",
          "data": {
            "text/plain": [
              "<seaborn.axisgrid.FacetGrid at 0x7f310e615510>"
            ]
          },
          "metadata": {},
          "execution_count": 94
        },
        {
          "output_type": "display_data",
          "data": {
            "text/plain": [
              "<Figure size 640x480 with 1 Axes>"
            ],
            "image/png": "[encoded data removed]"
          },
          "metadata": {}
        },
        {
          "output_type": "display_data",
          "data": {
            "text/plain": [
              "<Figure size 500x500 with 1 Axes>"
            ],
            "image/png": "[encoded data removed]"
          },
          "metadata": {}
        }
      ]
    },
    {
      "cell_type": "code",
      "source": [
        "grouping = df_notes_TSICU.groupby(['CGID','SUBJECT_ID']).size()\n",
        "df_notes_TSICU['num_of_notes'] = df_notes_TSICU.set_index(['CGID','SUBJECT_ID']).index.map(grouping)\n",
        "df_notes_TSICU_filtered = df_notes_TSICU[df_notes_TSICU['num_of_notes'] >= 4]\n",
        "df_notes_TSICU_filtered.info()"
      ],
      "metadata": {
        "id": "hHCpzCETihOj",
        "outputId": "870e7db8-c5dc-4cd6-a455-3fb2de7941b4",
        "colab": {
          "base_uri": "https://localhost:8080/"
        }
      },
      "execution_count": 95,
      "outputs": [
        {
          "output_type": "stream",
          "name": "stdout",
          "text": [
            "<class 'pandas.core.frame.DataFrame'>\n",
            "Int64Index: 46630 entries, 5852 to 1498544\n",
            "Data columns (total 24 columns):\n",
            " #   Column          Non-Null Count  Dtype  \n",
            "---  ------          --------------  -----  \n",
            " 0   ROW_ID          46630 non-null  int64  \n",
            " 1   SUBJECT_ID      46630 non-null  int64  \n",
            " 2   CGID            46630 non-null  int64  \n",
            " 3   CHARTDATE       46630 non-null  object \n",
            " 4   TEXT            46630 non-null  object \n",
            " 5   HADM_ID         46630 non-null  int64  \n",
            " 6   ICUSTAY_ID      46630 non-null  int64  \n",
            " 7   DBSOURCE        46630 non-null  object \n",
            " 8   FIRST_CAREUNIT  46630 non-null  object \n",
            " 9   LAST_CAREUNIT   46630 non-null  object \n",
            " 10  FIRST_WARDID    46630 non-null  int64  \n",
            " 11  LAST_WARDID     46630 non-null  int64  \n",
            " 12  INTIME          46630 non-null  object \n",
            " 13  OUTTIME         46630 non-null  object \n",
            " 14  LOS             46630 non-null  float64\n",
            " 15  GENDER          46630 non-null  object \n",
            " 16  DOB             46630 non-null  object \n",
            " 17  DOD             24554 non-null  object \n",
            " 18  DOD_HOSP        14958 non-null  object \n",
            " 19  DOD_SSN         22635 non-null  object \n",
            " 20  EXPIRE_FLAG     46630 non-null  int64  \n",
            " 21  DRG_CODE        46630 non-null  int64  \n",
            " 22  DESCRIPTION     46513 non-null  object \n",
            " 23  num_of_notes    46630 non-null  int64  \n",
            "dtypes: float64(1), int64(10), object(13)\n",
            "memory usage: 8.9+ MB\n"
          ]
        }
      ]
    },
    {
      "cell_type": "code",
      "source": [
        "df_notes_TSICU_filtered.head(10)"
      ],
      "metadata": {
        "id": "eYAfKxm-4vN1",
        "outputId": "811d433d-c0d2-4d16-956e-f59faf16088f",
        "colab": {
          "base_uri": "https://localhost:8080/",
          "height": 783
        }
      },
      "execution_count": 96,
      "outputs": [
        {
          "output_type": "execute_result",
          "data": {
            "text/plain": [
              "       ROW_ID  SUBJECT_ID   CGID   CHARTDATE  \\\n",
              "5852  1373553        8406  17765  2149-04-28   \n",
              "5853  1373550        8406  16140  2149-04-27   \n",
              "5854  1373547        8406  16140  2149-04-26   \n",
              "5855  1373567        8406  15659  2149-05-01   \n",
              "5856  1373633        8406  21570  2149-07-02   \n",
              "5858  1373595        8406  16140  2149-05-09   \n",
              "5859  1373584        8406  16140  2149-05-06   \n",
              "5860  1373638        8406  21570  2149-07-04   \n",
              "5861  1373604        8406  18078  2149-05-13   \n",
              "5862  1373560        8406  16140  2149-04-30   \n",
              "\n",
              "                                                   TEXT  HADM_ID  ICUSTAY_ID  \\\n",
              "5852  SOCIAL WORK NOTE:\\n\\nNew trauma pt on T-SICU f...   114444      239553   \n",
              "5853  SICU NPN\\nROS:\\nNeuro: Neuro exam unchanged th...   114444      239553   \n",
              "5854  SICU NPN\\nPt hemodynamicallly unstable today, ...   114444      239553   \n",
              "5855  T/SICU NSG PROGRESS NOTE.\\n0700>>[**2076**]\\n\\...   114444      239553   \n",
              "5856  Nursing Progress Note.\\n\\nCV: The pt has been ...   114444      239553   \n",
              "5858  SICU NPN\\nPt remains in the ICU s/p MVC on [**...   114444      239553   \n",
              "5859  SICU NPN\\nROS:\\nNeuro: Pt opens eyes inconsist...   114444      239553   \n",
              "5860  PMICU Nursing Progress Note 7p-7a\\nEvents\\n\\n ...   114444      239553   \n",
              "5861  TRAUMA ICU NURSING PROGRESS NOTE\\n\\nREVIEW OF ...   114444      239553   \n",
              "5862  SICU NPN\\nPt remains critically ill s/p MVC\\n\\...   114444      239553   \n",
              "\n",
              "     DBSOURCE FIRST_CAREUNIT LAST_CAREUNIT  ...      LOS  GENDER  \\\n",
              "5852  carevue          TSICU         TSICU  ...  26.6668       F   \n",
              "5853  carevue          TSICU         TSICU  ...  26.6668       F   \n",
              "5854  carevue          TSICU         TSICU  ...  26.6668       F   \n",
              "5855  carevue          TSICU         TSICU  ...  26.6668       F   \n",
              "5856  carevue          TSICU         TSICU  ...  26.6668       F   \n",
              "5858  carevue          TSICU         TSICU  ...  26.6668       F   \n",
              "5859  carevue          TSICU         TSICU  ...  26.6668       F   \n",
              "5860  carevue          TSICU         TSICU  ...  26.6668       F   \n",
              "5861  carevue          TSICU         TSICU  ...  26.6668       F   \n",
              "5862  carevue          TSICU         TSICU  ...  26.6668       F   \n",
              "\n",
              "                      DOB                  DOD             DOD_HOSP  \\\n",
              "5852  2117-06-28 00:00:00  2149-09-07 00:00:00  2149-09-07 00:00:00   \n",
              "5853  2117-06-28 00:00:00  2149-09-07 00:00:00  2149-09-07 00:00:00   \n",
              "5854  2117-06-28 00:00:00  2149-09-07 00:00:00  2149-09-07 00:00:00   \n",
              "5855  2117-06-28 00:00:00  2149-09-07 00:00:00  2149-09-07 00:00:00   \n",
              "5856  2117-06-28 00:00:00  2149-09-07 00:00:00  2149-09-07 00:00:00   \n",
              "5858  2117-06-28 00:00:00  2149-09-07 00:00:00  2149-09-07 00:00:00   \n",
              "5859  2117-06-28 00:00:00  2149-09-07 00:00:00  2149-09-07 00:00:00   \n",
              "5860  2117-06-28 00:00:00  2149-09-07 00:00:00  2149-09-07 00:00:00   \n",
              "5861  2117-06-28 00:00:00  2149-09-07 00:00:00  2149-09-07 00:00:00   \n",
              "5862  2117-06-28 00:00:00  2149-09-07 00:00:00  2149-09-07 00:00:00   \n",
              "\n",
              "                  DOD_SSN EXPIRE_FLAG DRG_CODE  \\\n",
              "5852  2149-09-07 00:00:00           1      483   \n",
              "5853  2149-09-07 00:00:00           1      483   \n",
              "5854  2149-09-07 00:00:00           1      483   \n",
              "5855  2149-09-07 00:00:00           1      483   \n",
              "5856  2149-09-07 00:00:00           1      483   \n",
              "5858  2149-09-07 00:00:00           1      483   \n",
              "5859  2149-09-07 00:00:00           1      483   \n",
              "5860  2149-09-07 00:00:00           1      483   \n",
              "5861  2149-09-07 00:00:00           1      483   \n",
              "5862  2149-09-07 00:00:00           1      483   \n",
              "\n",
              "                                            DESCRIPTION num_of_notes  \n",
              "5852  TRACHEOSTOMY WITH MECHANICAL VENTILATION 96+ H...           11  \n",
              "5853  TRACHEOSTOMY WITH MECHANICAL VENTILATION 96+ H...            8  \n",
              "5854  TRACHEOSTOMY WITH MECHANICAL VENTILATION 96+ H...            8  \n",
              "5855  TRACHEOSTOMY WITH MECHANICAL VENTILATION 96+ H...            4  \n",
              "5856  TRACHEOSTOMY WITH MECHANICAL VENTILATION 96+ H...           13  \n",
              "5858  TRACHEOSTOMY WITH MECHANICAL VENTILATION 96+ H...            8  \n",
              "5859  TRACHEOSTOMY WITH MECHANICAL VENTILATION 96+ H...            8  \n",
              "5860  TRACHEOSTOMY WITH MECHANICAL VENTILATION 96+ H...           13  \n",
              "5861  TRACHEOSTOMY WITH MECHANICAL VENTILATION 96+ H...           10  \n",
              "5862  TRACHEOSTOMY WITH MECHANICAL VENTILATION 96+ H...            8  \n",
              "\n",
              "[10 rows x 24 columns]"
            ],
            "text/html": [
              "\n",
              "  <div id=\"df-10bf96ca-8281-417d-8c70-5eaf6cab9b01\">\n",
              "    <div class=\"colab-df-container\">\n",
              "      <div>\n",
              "<style scoped>\n",
              "    .dataframe tbody tr th:only-of-type {\n",
              "        vertical-align: middle;\n",
              "    }\n",
              "\n",
              "    .dataframe tbody tr th {\n",
              "        vertical-align: top;\n",
              "    }\n",
              "\n",
              "    .dataframe thead th {\n",
              "        text-align: right;\n",
              "    }\n",
              "</style>\n",
              "<table border=\"1\" class=\"dataframe\">\n",
              "  <thead>\n",
              "    <tr style=\"text-align: right;\">\n",
              "      <th></th>\n",
              "      <th>ROW_ID</th>\n",
              "      <th>SUBJECT_ID</th>\n",
              "      <th>CGID</th>\n",
              "      <th>CHARTDATE</th>\n",
              "      <th>TEXT</th>\n",
              "      <th>HADM_ID</th>\n",
              "      <th>ICUSTAY_ID</th>\n",
              "      <th>DBSOURCE</th>\n",
              "      <th>FIRST_CAREUNIT</th>\n",
              "      <th>LAST_CAREUNIT</th>\n",
              "      <th>...</th>\n",
              "      <th>LOS</th>\n",
              "      <th>GENDER</th>\n",
              "      <th>DOB</th>\n",
              "      <th>DOD</th>\n",
              "      <th>DOD_HOSP</th>\n",
              "      <th>DOD_SSN</th>\n",
              "      <th>EXPIRE_FLAG</th>\n",
              "      <th>DRG_CODE</th>\n",
              "      <th>DESCRIPTION</th>\n",
              "      <th>num_of_notes</th>\n",
              "    </tr>\n",
              "  </thead>\n",
              "  <tbody>\n",
              "    <tr>\n",
              "      <th>5852</th>\n",
              "      <td>1373553</td>\n",
              "      <td>8406</td>\n",
              "      <td>17765</td>\n",
              "      <td>2149-04-28</td>\n",
              "      <td>SOCIAL WORK NOTE:\\n\\nNew trauma pt on T-SICU f...</td>\n",
              "      <td>114444</td>\n",
              "      <td>239553</td>\n",
              "      <td>carevue</td>\n",
              "      <td>TSICU</td>\n",
              "      <td>TSICU</td>\n",
              "      <td>...</td>\n",
              "      <td>26.6668</td>\n",
              "      <td>F</td>\n",
              "      <td>2117-06-28 00:00:00</td>\n",
              "      <td>2149-09-07 00:00:00</td>\n",
              "      <td>2149-09-07 00:00:00</td>\n",
              "      <td>2149-09-07 00:00:00</td>\n",
              "      <td>1</td>\n",
              "      <td>483</td>\n",
              "      <td>TRACHEOSTOMY WITH MECHANICAL VENTILATION 96+ H...</td>\n",
              "      <td>11</td>\n",
              "    </tr>\n",
              "    <tr>\n",
              "      <th>5853</th>\n",
              "      <td>1373550</td>\n",
              "      <td>8406</td>\n",
              "      <td>16140</td>\n",
              "      <td>2149-04-27</td>\n",
              "      <td>SICU NPN\\nROS:\\nNeuro: Neuro exam unchanged th...</td>\n",
              "      <td>114444</td>\n",
              "      <td>239553</td>\n",
              "      <td>carevue</td>\n",
              "      <td>TSICU</td>\n",
              "      <td>TSICU</td>\n",
              "      <td>...</td>\n",
              "      <td>26.6668</td>\n",
              "      <td>F</td>\n",
              "      <td>2117-06-28 00:00:00</td>\n",
              "      <td>2149-09-07 00:00:00</td>\n",
              "      <td>2149-09-07 00:00:00</td>\n",
              "      <td>2149-09-07 00:00:00</td>\n",
              "      <td>1</td>\n",
              "      <td>483</td>\n",
              "      <td>TRACHEOSTOMY WITH MECHANICAL VENTILATION 96+ H...</td>\n",
              "      <td>8</td>\n",
              "    </tr>\n",
              "    <tr>\n",
              "      <th>5854</th>\n",
              "      <td>1373547</td>\n",
              "      <td>8406</td>\n",
              "      <td>16140</td>\n",
              "      <td>2149-04-26</td>\n",
              "      <td>SICU NPN\\nPt hemodynamicallly unstable today, ...</td>\n",
              "      <td>114444</td>\n",
              "      <td>239553</td>\n",
              "      <td>carevue</td>\n",
              "      <td>TSICU</td>\n",
              "      <td>TSICU</td>\n",
              "      <td>...</td>\n",
              "      <td>26.6668</td>\n",
              "      <td>F</td>\n",
              "      <td>2117-06-28 00:00:00</td>\n",
              "      <td>2149-09-07 00:00:00</td>\n",
              "      <td>2149-09-07 00:00:00</td>\n",
              "      <td>2149-09-07 00:00:00</td>\n",
              "      <td>1</td>\n",
              "      <td>483</td>\n",
              "      <td>TRACHEOSTOMY WITH MECHANICAL VENTILATION 96+ H...</td>\n",
              "      <td>8</td>\n",
              "    </tr>\n",
              "    <tr>\n",
              "      <th>5855</th>\n",
              "      <td>1373567</td>\n",
              "      <td>8406</td>\n",
              "      <td>15659</td>\n",
              "      <td>2149-05-01</td>\n",
              "      <td>T/SICU NSG PROGRESS NOTE.\\n0700&gt;&gt;[**2076**]\\n\\...</td>\n",
              "      <td>114444</td>\n",
              "      <td>239553</td>\n",
              "      <td>carevue</td>\n",
              "      <td>TSICU</td>\n",
              "      <td>TSICU</td>\n",
              "      <td>...</td>\n",
              "      <td>26.6668</td>\n",
              "      <td>F</td>\n",
              "      <td>2117-06-28 00:00:00</td>\n",
              "      <td>2149-09-07 00:00:00</td>\n",
              "      <td>2149-09-07 00:00:00</td>\n",
              "      <td>2149-09-07 00:00:00</td>\n",
              "      <td>1</td>\n",
              "      <td>483</td>\n",
              "      <td>TRACHEOSTOMY WITH MECHANICAL VENTILATION 96+ H...</td>\n",
              "      <td>4</td>\n",
              "    </tr>\n",
              "    <tr>\n",
              "      <th>5856</th>\n",
              "      <td>1373633</td>\n",
              "      <td>8406</td>\n",
              "      <td>21570</td>\n",
              "      <td>2149-07-02</td>\n",
              "      <td>Nursing Progress Note.\\n\\nCV: The pt has been ...</td>\n",
              "      <td>114444</td>\n",
              "      <td>239553</td>\n",
              "      <td>carevue</td>\n",
              "      <td>TSICU</td>\n",
              "      <td>TSICU</td>\n",
              "      <td>...</td>\n",
              "      <td>26.6668</td>\n",
              "      <td>F</td>\n",
              "      <td>2117-06-28 00:00:00</td>\n",
              "      <td>2149-09-07 00:00:00</td>\n",
              "      <td>2149-09-07 00:00:00</td>\n",
              "      <td>2149-09-07 00:00:00</td>\n",
              "      <td>1</td>\n",
              "      <td>483</td>\n",
              "      <td>TRACHEOSTOMY WITH MECHANICAL VENTILATION 96+ H...</td>\n",
              "      <td>13</td>\n",
              "    </tr>\n",
              "    <tr>\n",
              "      <th>5858</th>\n",
              "      <td>1373595</td>\n",
              "      <td>8406</td>\n",
              "      <td>16140</td>\n",
              "      <td>2149-05-09</td>\n",
              "      <td>SICU NPN\\nPt remains in the ICU s/p MVC on [**...</td>\n",
              "      <td>114444</td>\n",
              "      <td>239553</td>\n",
              "      <td>carevue</td>\n",
              "      <td>TSICU</td>\n",
              "      <td>TSICU</td>\n",
              "      <td>...</td>\n",
              "      <td>26.6668</td>\n",
              "      <td>F</td>\n",
              "      <td>2117-06-28 00:00:00</td>\n",
              "      <td>2149-09-07 00:00:00</td>\n",
              "      <td>2149-09-07 00:00:00</td>\n",
              "      <td>2149-09-07 00:00:00</td>\n",
              "      <td>1</td>\n",
              "      <td>483</td>\n",
              "      <td>TRACHEOSTOMY WITH MECHANICAL VENTILATION 96+ H...</td>\n",
              "      <td>8</td>\n",
              "    </tr>\n",
              "    <tr>\n",
              "      <th>5859</th>\n",
              "      <td>1373584</td>\n",
              "      <td>8406</td>\n",
              "      <td>16140</td>\n",
              "      <td>2149-05-06</td>\n",
              "      <td>SICU NPN\\nROS:\\nNeuro: Pt opens eyes inconsist...</td>\n",
              "      <td>114444</td>\n",
              "      <td>239553</td>\n",
              "      <td>carevue</td>\n",
              "      <td>TSICU</td>\n",
              "      <td>TSICU</td>\n",
              "      <td>...</td>\n",
              "      <td>26.6668</td>\n",
              "      <td>F</td>\n",
              "      <td>2117-06-28 00:00:00</td>\n",
              "      <td>2149-09-07 00:00:00</td>\n",
              "      <td>2149-09-07 00:00:00</td>\n",
              "      <td>2149-09-07 00:00:00</td>\n",
              "      <td>1</td>\n",
              "      <td>483</td>\n",
              "      <td>TRACHEOSTOMY WITH MECHANICAL VENTILATION 96+ H...</td>\n",
              "      <td>8</td>\n",
              "    </tr>\n",
              "    <tr>\n",
              "      <th>5860</th>\n",
              "      <td>1373638</td>\n",
              "      <td>8406</td>\n",
              "      <td>21570</td>\n",
              "      <td>2149-07-04</td>\n",
              "      <td>PMICU Nursing Progress Note 7p-7a\\nEvents\\n\\n ...</td>\n",
              "      <td>114444</td>\n",
              "      <td>239553</td>\n",
              "      <td>carevue</td>\n",
              "      <td>TSICU</td>\n",
              "      <td>TSICU</td>\n",
              "      <td>...</td>\n",
              "      <td>26.6668</td>\n",
              "      <td>F</td>\n",
              "      <td>2117-06-28 00:00:00</td>\n",
              "      <td>2149-09-07 00:00:00</td>\n",
              "      <td>2149-09-07 00:00:00</td>\n",
              "      <td>2149-09-07 00:00:00</td>\n",
              "      <td>1</td>\n",
              "      <td>483</td>\n",
              "      <td>TRACHEOSTOMY WITH MECHANICAL VENTILATION 96+ H...</td>\n",
              "      <td>13</td>\n",
              "    </tr>\n",
              "    <tr>\n",
              "      <th>5861</th>\n",
              "      <td>1373604</td>\n",
              "      <td>8406</td>\n",
              "      <td>18078</td>\n",
              "      <td>2149-05-13</td>\n",
              "      <td>TRAUMA ICU NURSING PROGRESS NOTE\\n\\nREVIEW OF ...</td>\n",
              "      <td>114444</td>\n",
              "      <td>239553</td>\n",
              "      <td>carevue</td>\n",
              "      <td>TSICU</td>\n",
              "      <td>TSICU</td>\n",
              "      <td>...</td>\n",
              "      <td>26.6668</td>\n",
              "      <td>F</td>\n",
              "      <td>2117-06-28 00:00:00</td>\n",
              "      <td>2149-09-07 00:00:00</td>\n",
              "      <td>2149-09-07 00:00:00</td>\n",
              "      <td>2149-09-07 00:00:00</td>\n",
              "      <td>1</td>\n",
              "      <td>483</td>\n",
              "      <td>TRACHEOSTOMY WITH MECHANICAL VENTILATION 96+ H...</td>\n",
              "      <td>10</td>\n",
              "    </tr>\n",
              "    <tr>\n",
              "      <th>5862</th>\n",
              "      <td>1373560</td>\n",
              "      <td>8406</td>\n",
              "      <td>16140</td>\n",
              "      <td>2149-04-30</td>\n",
              "      <td>SICU NPN\\nPt remains critically ill s/p MVC\\n\\...</td>\n",
              "      <td>114444</td>\n",
              "      <td>239553</td>\n",
              "      <td>carevue</td>\n",
              "      <td>TSICU</td>\n",
              "      <td>TSICU</td>\n",
              "      <td>...</td>\n",
              "      <td>26.6668</td>\n",
              "      <td>F</td>\n",
              "      <td>2117-06-28 00:00:00</td>\n",
              "      <td>2149-09-07 00:00:00</td>\n",
              "      <td>2149-09-07 00:00:00</td>\n",
              "      <td>2149-09-07 00:00:00</td>\n",
              "      <td>1</td>\n",
              "      <td>483</td>\n",
              "      <td>TRACHEOSTOMY WITH MECHANICAL VENTILATION 96+ H...</td>\n",
              "      <td>8</td>\n",
              "    </tr>\n",
              "  </tbody>\n",
              "</table>\n",
              "<p>10 rows × 24 columns</p>\n",
              "</div>\n",
              "      <button class=\"colab-df-convert\" onclick=\"convertToInteractive('df-10bf96ca-8281-417d-8c70-5eaf6cab9b01')\"\n",
              "              title=\"Convert this dataframe to an interactive table.\"\n",
              "              style=\"display:none;\">\n",
              "        \n",
              "  <svg xmlns=\"http://www.w3.org/2000/svg\" height=\"24px\"viewBox=\"0 0 24 24\"\n",
              "       width=\"24px\">\n",
              "    <path d=\"M0 0h24v24H0V0z\" fill=\"none\"/>\n",
              "    <path d=\"M18.56 5.44l.94 2.06.94-2.06 2.06-.94-2.06-.94-.94-2.06-.94 2.06-2.06.94zm-11 1L8.5 8.5l.94-2.06 2.06-.94-2.06-.94L8.5 2.5l-.94 2.06-2.06.94zm10 10l.94 2.06.94-2.06 2.06-.94-2.06-.94-.94-2.06-.94 2.06-2.06.94z\"/><path d=\"M17.41 7.96l-1.37-1.37c-.4-.4-.92-.59-1.43-.59-.52 0-1.04.2-1.43.59L10.3 9.45l-7.72 7.72c-.78.78-.78 2.05 0 2.83L4 21.41c.39.39.9.59 1.41.59.51 0 1.02-.2 1.41-.59l7.78-7.78 2.81-2.81c.8-.78.8-2.07 0-2.86zM5.41 20L4 18.59l7.72-7.72 1.47 1.35L5.41 20z\"/>\n",
              "  </svg>\n",
              "      </button>\n",
              "      \n",
              "  <style>\n",
              "    .colab-df-container {\n",
              "      display:flex;\n",
              "      flex-wrap:wrap;\n",
              "      gap: 12px;\n",
              "    }\n",
              "\n",
              "    .colab-df-convert {\n",
              "      background-color: #E8F0FE;\n",
              "      border: none;\n",
              "      border-radius: 50%;\n",
              "      cursor: pointer;\n",
              "      display: none;\n",
              "      fill: #1967D2;\n",
              "      height: 32px;\n",
              "      padding: 0 0 0 0;\n",
              "      width: 32px;\n",
              "    }\n",
              "\n",
              "    .colab-df-convert:hover {\n",
              "      background-color: #E2EBFA;\n",
              "      box-shadow: 0px 1px 2px rgba(60, 64, 67, 0.3), 0px 1px 3px 1px rgba(60, 64, 67, 0.15);\n",
              "      fill: #174EA6;\n",
              "    }\n",
              "\n",
              "    [theme=dark] .colab-df-convert {\n",
              "      background-color: #3B4455;\n",
              "      fill: #D2E3FC;\n",
              "    }\n",
              "\n",
              "    [theme=dark] .colab-df-convert:hover {\n",
              "      background-color: #434B5C;\n",
              "      box-shadow: 0px 1px 3px 1px rgba(0, 0, 0, 0.15);\n",
              "      filter: drop-shadow(0px 1px 2px rgba(0, 0, 0, 0.3));\n",
              "      fill: #FFFFFF;\n",
              "    }\n",
              "  </style>\n",
              "\n",
              "      <script>\n",
              "        const buttonEl =\n",
              "          document.querySelector('#df-10bf96ca-8281-417d-8c70-5eaf6cab9b01 button.colab-df-convert');\n",
              "        buttonEl.style.display =\n",
              "          google.colab.kernel.accessAllowed ? 'block' : 'none';\n",
              "\n",
              "        async function convertToInteractive(key) {\n",
              "          const element = document.querySelector('#df-10bf96ca-8281-417d-8c70-5eaf6cab9b01');\n",
              "          const dataTable =\n",
              "            await google.colab.kernel.invokeFunction('convertToInteractive',\n",
              "                                                     [key], {});\n",
              "          if (!dataTable) return;\n",
              "\n",
              "          const docLinkHtml = 'Like what you see? Visit the ' +\n",
              "            '<a target=\"_blank\" href=https://colab.research.google.com/notebooks/data_table.ipynb>data table notebook</a>'\n",
              "            + ' to learn more about interactive tables.';\n",
              "          element.innerHTML = '';\n",
              "          dataTable['output_type'] = 'display_data';\n",
              "          await google.colab.output.renderOutput(dataTable, element);\n",
              "          const docLink = document.createElement('div');\n",
              "          docLink.innerHTML = docLinkHtml;\n",
              "          element.appendChild(docLink);\n",
              "        }\n",
              "      </script>\n",
              "    </div>\n",
              "  </div>\n",
              "  "
            ]
          },
          "metadata": {},
          "execution_count": 96
        }
      ]
    },
    {
      "cell_type": "code",
      "source": [
        "gb_notes = df_notes_TSICU_filtered.groupby(['DRG_CODE','DESCRIPTION'])\n",
        "num_notes = gb_notes['TEXT'].count()\n",
        "\n",
        "print(f'number of notes: min={num_notes.min()}, max={num_notes.max()}, mean={num_notes.mean()},  median={num_notes.median()}')\n",
        "sns.boxplot(x=num_notes)\n",
        "sns.displot(num_notes[((num_notes>2) & (num_notes<100))])"
      ],
      "metadata": {
        "id": "M1zujhFnCzbO",
        "outputId": "bc16c42c-e56a-4efa-be50-d4b09f34cd60",
        "colab": {
          "base_uri": "https://localhost:8080/",
          "height": 977
        }
      },
      "execution_count": 97,
      "outputs": [
        {
          "output_type": "stream",
          "name": "stdout",
          "text": [
            "number of notes: min=2, max=4626, mean=78.04194630872483,  median=19.0\n"
          ]
        },
        {
          "output_type": "execute_result",
          "data": {
            "text/plain": [
              "<seaborn.axisgrid.FacetGrid at 0x7f3128e0ae60>"
            ]
          },
          "metadata": {},
          "execution_count": 97
        },
        {
          "output_type": "display_data",
          "data": {
            "text/plain": [
              "<Figure size 640x480 with 1 Axes>"
            ],
            "image/png": "[encoded data removed]"
          },
          "metadata": {}
        },
        {
          "output_type": "display_data",
          "data": {
            "text/plain": [
              "<Figure size 500x500 with 1 Axes>"
            ],
            "image/png": "[encoded data removed]"
          },
          "metadata": {}
        }
      ]
    },
    {
      "cell_type": "code",
      "source": [
        "drg_grouping = df_notes_TSICU_filtered.groupby(['DRG_CODE','DESCRIPTION']).size()\n",
        "df_notes_TSICU_filtered['num_of_conditions'] = df_notes_TSICU_filtered.set_index(['DRG_CODE','DESCRIPTION']).index.map(drg_grouping)\n",
        "df_notes_TSICU_filtered = df_notes_TSICU_filtered[(df_notes_TSICU_filtered['num_of_conditions'] >= 15) & (df_notes_TSICU_filtered['num_of_conditions'] <= 1000)]\n",
        "#df_notes_TSICU_filtered = df_notes_TSICU_filtered[(df_notes_TSICU_filtered['num_of_conditions'] >= 15) & (df_notes_TSICU_filtered['num_of_conditions'] <= 100)]\n",
        "df_notes_TSICU_filtered.info()"
      ],
      "metadata": {
        "id": "VQtS_ZiRGeEF",
        "outputId": "a9bb0561-9047-44c0-e51d-6e48be131ec4",
        "colab": {
          "base_uri": "https://localhost:8080/"
        }
      },
      "execution_count": 98,
      "outputs": [
        {
          "output_type": "stream",
          "name": "stdout",
          "text": [
            "<class 'pandas.core.frame.DataFrame'>\n",
            "Int64Index: 31190 entries, 9588 to 1498544\n",
            "Data columns (total 25 columns):\n",
            " #   Column             Non-Null Count  Dtype  \n",
            "---  ------             --------------  -----  \n",
            " 0   ROW_ID             31190 non-null  int64  \n",
            " 1   SUBJECT_ID         31190 non-null  int64  \n",
            " 2   CGID               31190 non-null  int64  \n",
            " 3   CHARTDATE          31190 non-null  object \n",
            " 4   TEXT               31190 non-null  object \n",
            " 5   HADM_ID            31190 non-null  int64  \n",
            " 6   ICUSTAY_ID         31190 non-null  int64  \n",
            " 7   DBSOURCE           31190 non-null  object \n",
            " 8   FIRST_CAREUNIT     31190 non-null  object \n",
            " 9   LAST_CAREUNIT      31190 non-null  object \n",
            " 10  FIRST_WARDID       31190 non-null  int64  \n",
            " 11  LAST_WARDID        31190 non-null  int64  \n",
            " 12  INTIME             31190 non-null  object \n",
            " 13  OUTTIME            31190 non-null  object \n",
            " 14  LOS                31190 non-null  float64\n",
            " 15  GENDER             31190 non-null  object \n",
            " 16  DOB                31190 non-null  object \n",
            " 17  DOD                17542 non-null  object \n",
            " 18  DOD_HOSP           10851 non-null  object \n",
            " 19  DOD_SSN            16120 non-null  object \n",
            " 20  EXPIRE_FLAG        31190 non-null  int64  \n",
            " 21  DRG_CODE           31190 non-null  int64  \n",
            " 22  DESCRIPTION        31190 non-null  object \n",
            " 23  num_of_notes       31190 non-null  int64  \n",
            " 24  num_of_conditions  31190 non-null  float64\n",
            "dtypes: float64(2), int64(10), object(13)\n",
            "memory usage: 6.2+ MB\n"
          ]
        },
        {
          "output_type": "stream",
          "name": "stderr",
          "text": [
            "<ipython-input-98-038e1e973d97>:2: SettingWithCopyWarning: \n",
            "A value is trying to be set on a copy of a slice from a DataFrame.\n",
            "Try using .loc[row_indexer,col_indexer] = value instead\n",
            "\n",
            "See the caveats in the documentation: https://pandas.pydata.org/pandas-docs/stable/user_guide/indexing.html#returning-a-view-versus-a-copy\n",
            "  df_notes_TSICU_filtered['num_of_conditions'] = df_notes_TSICU_filtered.set_index(['DRG_CODE','DESCRIPTION']).index.map(drg_grouping)\n"
          ]
        }
      ]
    },
    {
      "cell_type": "code",
      "source": [
        "df_notes_TSICU_dropped_cols = df_notes_TSICU_filtered.drop(['FIRST_CAREUNIT', 'LAST_CAREUNIT', 'FIRST_WARDID','LAST_WARDID','INTIME', 'OUTTIME', 'DBSOURCE','DOB','DOD','DOD_HOSP','DOD_SSN','CHARTDATE'], axis=1)\n",
        "df_notes_TSICU_dropped_cols.head(10)"
      ],
      "metadata": {
        "id": "jfSkON07QFlQ",
        "outputId": "843fb704-33a4-4c1d-999d-24fc87dce8ce",
        "colab": {
          "base_uri": "https://localhost:8080/",
          "height": 363
        }
      },
      "execution_count": 99,
      "outputs": [
        {
          "output_type": "execute_result",
          "data": {
            "text/plain": [
              "       ROW_ID  SUBJECT_ID   CGID  \\\n",
              "9588  1596525       25658  18240   \n",
              "9589  1596525       25658  18240   \n",
              "9592  1596532       25658  18240   \n",
              "9593  1596532       25658  18240   \n",
              "9596  1596569       25658  20866   \n",
              "9597  1596569       25658  20866   \n",
              "9612  1596568       25658  16057   \n",
              "9613  1596568       25658  16057   \n",
              "9616  1596578       25658  20866   \n",
              "9617  1596578       25658  20866   \n",
              "\n",
              "                                                   TEXT  HADM_ID  ICUSTAY_ID  \\\n",
              "9588  CCU Nursing Admission Note 1130-1900\\nSee CCU ...   172975      290945   \n",
              "9589  CCU Nursing Admission Note 1130-1900\\nSee CCU ...   172975      290945   \n",
              "9592  CCU Nursing Progress Note 0700-1500\\nS:  winci...   172975      290945   \n",
              "9593  CCU Nursing Progress Note 0700-1500\\nS:  winci...   172975      290945   \n",
              "9596  CCU Nursing MICU border progress Note 7am-7pm\\...   172975      290945   \n",
              "9597  CCU Nursing MICU border progress Note 7am-7pm\\...   172975      290945   \n",
              "9612  CCU Porgress note 1900-0700\\nRESP:- Remains or...   172975      290945   \n",
              "9613  CCU Porgress note 1900-0700\\nRESP:- Remains or...   172975      290945   \n",
              "9616  CCU Nursing Progress Note  7am-7pm\\nS: Orally ...   172975      290945   \n",
              "9617  CCU Nursing Progress Note  7am-7pm\\nS: Orally ...   172975      290945   \n",
              "\n",
              "       LOS GENDER  EXPIRE_FLAG  DRG_CODE  \\\n",
              "9588  2.82      M            1      1774   \n",
              "9589  2.82      M            1       117   \n",
              "9592  2.82      M            1      1774   \n",
              "9593  2.82      M            1       117   \n",
              "9596  2.82      M            1      1774   \n",
              "9597  2.82      M            1       117   \n",
              "9612  2.82      M            1      1774   \n",
              "9613  2.82      M            1       117   \n",
              "9616  2.82      M            1      1774   \n",
              "9617  2.82      M            1       117   \n",
              "\n",
              "                                            DESCRIPTION  num_of_notes  \\\n",
              "9588  Cardiac Pacemaker & Defibrillator Revision Exc...             4   \n",
              "9589  CARDIAC PACEMAKER REVISION EXCEPT DEVICE REPLA...             4   \n",
              "9592  Cardiac Pacemaker & Defibrillator Revision Exc...             4   \n",
              "9593  CARDIAC PACEMAKER REVISION EXCEPT DEVICE REPLA...             4   \n",
              "9596  Cardiac Pacemaker & Defibrillator Revision Exc...            10   \n",
              "9597  CARDIAC PACEMAKER REVISION EXCEPT DEVICE REPLA...            10   \n",
              "9612  Cardiac Pacemaker & Defibrillator Revision Exc...             4   \n",
              "9613  CARDIAC PACEMAKER REVISION EXCEPT DEVICE REPLA...             4   \n",
              "9616  Cardiac Pacemaker & Defibrillator Revision Exc...            10   \n",
              "9617  CARDIAC PACEMAKER REVISION EXCEPT DEVICE REPLA...            10   \n",
              "\n",
              "      num_of_conditions  \n",
              "9588               41.0  \n",
              "9589               41.0  \n",
              "9592               41.0  \n",
              "9593               41.0  \n",
              "9596               41.0  \n",
              "9597               41.0  \n",
              "9612               41.0  \n",
              "9613               41.0  \n",
              "9616               41.0  \n",
              "9617               41.0  "
            ],
            "text/html": [
              "\n",
              "  <div id=\"df-daf8aeb5-7d63-4ad2-bfbb-6790fac04dfb\">\n",
              "    <div class=\"colab-df-container\">\n",
              "      <div>\n",
              "<style scoped>\n",
              "    .dataframe tbody tr th:only-of-type {\n",
              "        vertical-align: middle;\n",
              "    }\n",
              "\n",
              "    .dataframe tbody tr th {\n",
              "        vertical-align: top;\n",
              "    }\n",
              "\n",
              "    .dataframe thead th {\n",
              "        text-align: right;\n",
              "    }\n",
              "</style>\n",
              "<table border=\"1\" class=\"dataframe\">\n",
              "  <thead>\n",
              "    <tr style=\"text-align: right;\">\n",
              "      <th></th>\n",
              "      <th>ROW_ID</th>\n",
              "      <th>SUBJECT_ID</th>\n",
              "      <th>CGID</th>\n",
              "      <th>TEXT</th>\n",
              "      <th>HADM_ID</th>\n",
              "      <th>ICUSTAY_ID</th>\n",
              "      <th>LOS</th>\n",
              "      <th>GENDER</th>\n",
              "      <th>EXPIRE_FLAG</th>\n",
              "      <th>DRG_CODE</th>\n",
              "      <th>DESCRIPTION</th>\n",
              "      <th>num_of_notes</th>\n",
              "      <th>num_of_conditions</th>\n",
              "    </tr>\n",
              "  </thead>\n",
              "  <tbody>\n",
              "    <tr>\n",
              "      <th>9588</th>\n",
              "      <td>1596525</td>\n",
              "      <td>25658</td>\n",
              "      <td>18240</td>\n",
              "      <td>CCU Nursing Admission Note 1130-1900\\nSee CCU ...</td>\n",
              "      <td>172975</td>\n",
              "      <td>290945</td>\n",
              "      <td>2.82</td>\n",
              "      <td>M</td>\n",
              "      <td>1</td>\n",
              "      <td>1774</td>\n",
              "      <td>Cardiac Pacemaker &amp; Defibrillator Revision Exc...</td>\n",
              "      <td>4</td>\n",
              "      <td>41.0</td>\n",
              "    </tr>\n",
              "    <tr>\n",
              "      <th>9589</th>\n",
              "      <td>1596525</td>\n",
              "      <td>25658</td>\n",
              "      <td>18240</td>\n",
              "      <td>CCU Nursing Admission Note 1130-1900\\nSee CCU ...</td>\n",
              "      <td>172975</td>\n",
              "      <td>290945</td>\n",
              "      <td>2.82</td>\n",
              "      <td>M</td>\n",
              "      <td>1</td>\n",
              "      <td>117</td>\n",
              "      <td>CARDIAC PACEMAKER REVISION EXCEPT DEVICE REPLA...</td>\n",
              "      <td>4</td>\n",
              "      <td>41.0</td>\n",
              "    </tr>\n",
              "    <tr>\n",
              "      <th>9592</th>\n",
              "      <td>1596532</td>\n",
              "      <td>25658</td>\n",
              "      <td>18240</td>\n",
              "      <td>CCU Nursing Progress Note 0700-1500\\nS:  winci...</td>\n",
              "      <td>172975</td>\n",
              "      <td>290945</td>\n",
              "      <td>2.82</td>\n",
              "      <td>M</td>\n",
              "      <td>1</td>\n",
              "      <td>1774</td>\n",
              "      <td>Cardiac Pacemaker &amp; Defibrillator Revision Exc...</td>\n",
              "      <td>4</td>\n",
              "      <td>41.0</td>\n",
              "    </tr>\n",
              "    <tr>\n",
              "      <th>9593</th>\n",
              "      <td>1596532</td>\n",
              "      <td>25658</td>\n",
              "      <td>18240</td>\n",
              "      <td>CCU Nursing Progress Note 0700-1500\\nS:  winci...</td>\n",
              "      <td>172975</td>\n",
              "      <td>290945</td>\n",
              "      <td>2.82</td>\n",
              "      <td>M</td>\n",
              "      <td>1</td>\n",
              "      <td>117</td>\n",
              "      <td>CARDIAC PACEMAKER REVISION EXCEPT DEVICE REPLA...</td>\n",
              "      <td>4</td>\n",
              "      <td>41.0</td>\n",
              "    </tr>\n",
              "    <tr>\n",
              "      <th>9596</th>\n",
              "      <td>1596569</td>\n",
              "      <td>25658</td>\n",
              "      <td>20866</td>\n",
              "      <td>CCU Nursing MICU border progress Note 7am-7pm\\...</td>\n",
              "      <td>172975</td>\n",
              "      <td>290945</td>\n",
              "      <td>2.82</td>\n",
              "      <td>M</td>\n",
              "      <td>1</td>\n",
              "      <td>1774</td>\n",
              "      <td>Cardiac Pacemaker &amp; Defibrillator Revision Exc...</td>\n",
              "      <td>10</td>\n",
              "      <td>41.0</td>\n",
              "    </tr>\n",
              "    <tr>\n",
              "      <th>9597</th>\n",
              "      <td>1596569</td>\n",
              "      <td>25658</td>\n",
              "      <td>20866</td>\n",
              "      <td>CCU Nursing MICU border progress Note 7am-7pm\\...</td>\n",
              "      <td>172975</td>\n",
              "      <td>290945</td>\n",
              "      <td>2.82</td>\n",
              "      <td>M</td>\n",
              "      <td>1</td>\n",
              "      <td>117</td>\n",
              "      <td>CARDIAC PACEMAKER REVISION EXCEPT DEVICE REPLA...</td>\n",
              "      <td>10</td>\n",
              "      <td>41.0</td>\n",
              "    </tr>\n",
              "    <tr>\n",
              "      <th>9612</th>\n",
              "      <td>1596568</td>\n",
              "      <td>25658</td>\n",
              "      <td>16057</td>\n",
              "      <td>CCU Porgress note 1900-0700\\nRESP:- Remains or...</td>\n",
              "      <td>172975</td>\n",
              "      <td>290945</td>\n",
              "      <td>2.82</td>\n",
              "      <td>M</td>\n",
              "      <td>1</td>\n",
              "      <td>1774</td>\n",
              "      <td>Cardiac Pacemaker &amp; Defibrillator Revision Exc...</td>\n",
              "      <td>4</td>\n",
              "      <td>41.0</td>\n",
              "    </tr>\n",
              "    <tr>\n",
              "      <th>9613</th>\n",
              "      <td>1596568</td>\n",
              "      <td>25658</td>\n",
              "      <td>16057</td>\n",
              "      <td>CCU Porgress note 1900-0700\\nRESP:- Remains or...</td>\n",
              "      <td>172975</td>\n",
              "      <td>290945</td>\n",
              "      <td>2.82</td>\n",
              "      <td>M</td>\n",
              "      <td>1</td>\n",
              "      <td>117</td>\n",
              "      <td>CARDIAC PACEMAKER REVISION EXCEPT DEVICE REPLA...</td>\n",
              "      <td>4</td>\n",
              "      <td>41.0</td>\n",
              "    </tr>\n",
              "    <tr>\n",
              "      <th>9616</th>\n",
              "      <td>1596578</td>\n",
              "      <td>25658</td>\n",
              "      <td>20866</td>\n",
              "      <td>CCU Nursing Progress Note  7am-7pm\\nS: Orally ...</td>\n",
              "      <td>172975</td>\n",
              "      <td>290945</td>\n",
              "      <td>2.82</td>\n",
              "      <td>M</td>\n",
              "      <td>1</td>\n",
              "      <td>1774</td>\n",
              "      <td>Cardiac Pacemaker &amp; Defibrillator Revision Exc...</td>\n",
              "      <td>10</td>\n",
              "      <td>41.0</td>\n",
              "    </tr>\n",
              "    <tr>\n",
              "      <th>9617</th>\n",
              "      <td>1596578</td>\n",
              "      <td>25658</td>\n",
              "      <td>20866</td>\n",
              "      <td>CCU Nursing Progress Note  7am-7pm\\nS: Orally ...</td>\n",
              "      <td>172975</td>\n",
              "      <td>290945</td>\n",
              "      <td>2.82</td>\n",
              "      <td>M</td>\n",
              "      <td>1</td>\n",
              "      <td>117</td>\n",
              "      <td>CARDIAC PACEMAKER REVISION EXCEPT DEVICE REPLA...</td>\n",
              "      <td>10</td>\n",
              "      <td>41.0</td>\n",
              "    </tr>\n",
              "  </tbody>\n",
              "</table>\n",
              "</div>\n",
              "      <button class=\"colab-df-convert\" onclick=\"convertToInteractive('df-daf8aeb5-7d63-4ad2-bfbb-6790fac04dfb')\"\n",
              "              title=\"Convert this dataframe to an interactive table.\"\n",
              "              style=\"display:none;\">\n",
              "        \n",
              "  <svg xmlns=\"http://www.w3.org/2000/svg\" height=\"24px\"viewBox=\"0 0 24 24\"\n",
              "       width=\"24px\">\n",
              "    <path d=\"M0 0h24v24H0V0z\" fill=\"none\"/>\n",
              "    <path d=\"M18.56 5.44l.94 2.06.94-2.06 2.06-.94-2.06-.94-.94-2.06-.94 2.06-2.06.94zm-11 1L8.5 8.5l.94-2.06 2.06-.94-2.06-.94L8.5 2.5l-.94 2.06-2.06.94zm10 10l.94 2.06.94-2.06 2.06-.94-2.06-.94-.94-2.06-.94 2.06-2.06.94z\"/><path d=\"M17.41 7.96l-1.37-1.37c-.4-.4-.92-.59-1.43-.59-.52 0-1.04.2-1.43.59L10.3 9.45l-7.72 7.72c-.78.78-.78 2.05 0 2.83L4 21.41c.39.39.9.59 1.41.59.51 0 1.02-.2 1.41-.59l7.78-7.78 2.81-2.81c.8-.78.8-2.07 0-2.86zM5.41 20L4 18.59l7.72-7.72 1.47 1.35L5.41 20z\"/>\n",
              "  </svg>\n",
              "      </button>\n",
              "      \n",
              "  <style>\n",
              "    .colab-df-container {\n",
              "      display:flex;\n",
              "      flex-wrap:wrap;\n",
              "      gap: 12px;\n",
              "    }\n",
              "\n",
              "    .colab-df-convert {\n",
              "      background-color: #E8F0FE;\n",
              "      border: none;\n",
              "      border-radius: 50%;\n",
              "      cursor: pointer;\n",
              "      display: none;\n",
              "      fill: #1967D2;\n",
              "      height: 32px;\n",
              "      padding: 0 0 0 0;\n",
              "      width: 32px;\n",
              "    }\n",
              "\n",
              "    .colab-df-convert:hover {\n",
              "      background-color: #E2EBFA;\n",
              "      box-shadow: 0px 1px 2px rgba(60, 64, 67, 0.3), 0px 1px 3px 1px rgba(60, 64, 67, 0.15);\n",
              "      fill: #174EA6;\n",
              "    }\n",
              "\n",
              "    [theme=dark] .colab-df-convert {\n",
              "      background-color: #3B4455;\n",
              "      fill: #D2E3FC;\n",
              "    }\n",
              "\n",
              "    [theme=dark] .colab-df-convert:hover {\n",
              "      background-color: #434B5C;\n",
              "      box-shadow: 0px 1px 3px 1px rgba(0, 0, 0, 0.15);\n",
              "      filter: drop-shadow(0px 1px 2px rgba(0, 0, 0, 0.3));\n",
              "      fill: #FFFFFF;\n",
              "    }\n",
              "  </style>\n",
              "\n",
              "      <script>\n",
              "        const buttonEl =\n",
              "          document.querySelector('#df-daf8aeb5-7d63-4ad2-bfbb-6790fac04dfb button.colab-df-convert');\n",
              "        buttonEl.style.display =\n",
              "          google.colab.kernel.accessAllowed ? 'block' : 'none';\n",
              "\n",
              "        async function convertToInteractive(key) {\n",
              "          const element = document.querySelector('#df-daf8aeb5-7d63-4ad2-bfbb-6790fac04dfb');\n",
              "          const dataTable =\n",
              "            await google.colab.kernel.invokeFunction('convertToInteractive',\n",
              "                                                     [key], {});\n",
              "          if (!dataTable) return;\n",
              "\n",
              "          const docLinkHtml = 'Like what you see? Visit the ' +\n",
              "            '<a target=\"_blank\" href=https://colab.research.google.com/notebooks/data_table.ipynb>data table notebook</a>'\n",
              "            + ' to learn more about interactive tables.';\n",
              "          element.innerHTML = '';\n",
              "          dataTable['output_type'] = 'display_data';\n",
              "          await google.colab.output.renderOutput(dataTable, element);\n",
              "          const docLink = document.createElement('div');\n",
              "          docLink.innerHTML = docLinkHtml;\n",
              "          element.appendChild(docLink);\n",
              "        }\n",
              "      </script>\n",
              "    </div>\n",
              "  </div>\n",
              "  "
            ]
          },
          "metadata": {},
          "execution_count": 99
        }
      ]
    },
    {
      "cell_type": "markdown",
      "source": [
        "Inverse Document Frequency"
      ],
      "metadata": {
        "id": "kSrdXBqOuXa0"
      }
    },
    {
      "cell_type": "code",
      "source": [
        "vectorizer = TfidfVectorizer(stop_words='english')\n",
        "tfidf_matrix = vectorizer.fit_transform(df_notes_TSICU['TEXT'])\n",
        "\n",
        "feature_names = vectorizer.get_feature_names_out()\n",
        "tfidf_scores = tfidf_matrix.sum(axis=0).A1\n",
        "word_score_dict = dict(zip(feature_names, tfidf_scores))\n",
        "\n",
        "sorted_words = sorted(word_score_dict.items(), key=lambda x: x[1], reverse=True)\n",
        "\n",
        "top_words = sorted_words[:50]"
      ],
      "metadata": {
        "id": "mLycA6V9u2Bk"
      },
      "execution_count": 100,
      "outputs": []
    },
    {
      "cell_type": "code",
      "source": [
        "print(\"Rank\\tWord\\t\\t\\tCount\")\n",
        "for rank, (word, score) in enumerate(top_words, start=1):\n",
        "  print(f\"{rank}\\t{word.ljust(20)}\\t{score}\")"
      ],
      "metadata": {
        "id": "CFYY-4Q9yltA",
        "outputId": "d2662a07-776d-4505-be04-429292a5bcaf",
        "colab": {
          "base_uri": "https://localhost:8080/"
        }
      },
      "execution_count": 101,
      "outputs": [
        {
          "output_type": "stream",
          "name": "stdout",
          "text": [
            "Rank\tWord\t\t\tCount\n",
            "1\tpt                  \t6093.873452297718\n",
            "2\thr                  \t2283.181418535095\n",
            "3\tpain                \t1884.1704653104784\n",
            "4\tremains             \t1732.7571098150909\n",
            "5\tcont                \t1664.4634772162976\n",
            "6\tclear               \t1656.7091417740567\n",
            "7\tneuro               \t1638.1922727755152\n",
            "8\tplan                \t1638.1199395216502\n",
            "9\ttoday               \t1619.1763844453537\n",
            "10\tgiven               \t1616.600220865886\n",
            "11\tresp                \t1610.6901235755283\n",
            "12\tnoted               \t1589.9260047936693\n",
            "13\tcare                \t1569.4829446541048\n",
            "14\tni                  \t1569.2185323167025\n",
            "15\tskin                \t1563.0282437416504\n",
            "16\tbs                  \t1536.2014121600587\n",
            "17\tfamily              \t1463.8397708598718\n",
            "18\tintact              \t1457.8158198905746\n",
            "19\tstable              \t1446.7863915673556\n",
            "20\tabd                 \t1426.9796433205524\n",
            "21\tvent                \t1386.8122999108916\n",
            "22\tmonitor             \t1382.0993343173104\n",
            "23\t100                 \t1366.579047041778\n",
            "24\tsecretions          \t1364.5362463064616\n",
            "25\tcontinue            \t1357.6489932488935\n",
            "26\tyellow              \t1323.9900860682583\n",
            "27\tgi                  \t1300.4403601890508\n",
            "28\tnote                \t1270.7861569242739\n",
            "29\tshift               \t1255.5853159107817\n",
            "30\ttrach               \t1223.225617949413\n",
            "31\ttube                \t1206.1834669325117\n",
            "32\tsupport             \t1198.931270370344\n",
            "33\tgtt                 \t1198.325458609773\n",
            "34\tbp                  \t1195.0911527963463\n",
            "35\tleft                \t1193.404714517191\n",
            "36\tcv                  \t1188.792149443924\n",
            "37\turine               \t1188.2196140911806\n",
            "38\tgu                  \t1187.9188081915997\n",
            "39\trespiratory         \t1111.2670865173543\n",
            "40\tcontinues           \t1110.1921619704428\n",
            "41\tgood                \t1100.530163427133\n",
            "42\tright               \t1099.1436792028867\n",
            "43\tpatient             \t1094.1813861456192\n",
            "44\tdrainage            \t1093.045215306203\n",
            "45\tfoley               \t1085.5308854947102\n",
            "46\tiv                  \t1075.988691779355\n",
            "47\tsoft                \t1073.355565344114\n",
            "48\tdraining            \t1071.1977442525115\n",
            "49\tsocial              \t1059.606048807248\n",
            "50\tsats                \t1044.7599075857165\n"
          ]
        }
      ]
    },
    {
      "cell_type": "markdown",
      "source": [
        "select emotional words then filter rows that dont have a minimum number of them"
      ],
      "metadata": {
        "id": "IJasBc1JDJ7G"
      }
    },
    {
      "cell_type": "code",
      "source": [
        "selected_words = ['pain', 'family', 'stable', 'care', 'well', 'social', 'support', 'able', 'decreased', 'warm', 'unable', 'strong', 'intact', 'good', 'times', 'aware', 'eyes', 'tolerated', 'denies', 'tolerating', 'please', 'palpable']\n",
        "print(\"selected_words list length: \", len(selected_words))\n",
        "pattern = '|'.join(selected_words)\n",
        "filtered_data = df_notes_TSICU_dropped_cols[df_notes_TSICU_dropped_cols['TEXT'].str.contains(pattern, regex=True)].copy()\n",
        "#filtered_data = df_notes_TSICU[df_notes_TSICU['TEXT'].str.contains(pattern, regex=True)].copy()\n",
        "filtered_data['num_search_words'] = filtered_data['TEXT'].str.count(pattern)\n",
        "filtered_data = filtered_data[filtered_data['num_search_words'] >= 10]\n",
        "filtered_data.info()"
      ],
      "metadata": {
        "id": "io0fnZ6LDJje",
        "outputId": "2515b26b-b4d8-43fe-8386-3df8fcab3a28",
        "colab": {
          "base_uri": "https://localhost:8080/"
        }
      },
      "execution_count": 102,
      "outputs": [
        {
          "output_type": "stream",
          "name": "stdout",
          "text": [
            "selected_words list length:  22\n",
            "<class 'pandas.core.frame.DataFrame'>\n",
            "Int64Index: 6436 entries, 9588 to 1476318\n",
            "Data columns (total 14 columns):\n",
            " #   Column             Non-Null Count  Dtype  \n",
            "---  ------             --------------  -----  \n",
            " 0   ROW_ID             6436 non-null   int64  \n",
            " 1   SUBJECT_ID         6436 non-null   int64  \n",
            " 2   CGID               6436 non-null   int64  \n",
            " 3   TEXT               6436 non-null   object \n",
            " 4   HADM_ID            6436 non-null   int64  \n",
            " 5   ICUSTAY_ID         6436 non-null   int64  \n",
            " 6   LOS                6436 non-null   float64\n",
            " 7   GENDER             6436 non-null   object \n",
            " 8   EXPIRE_FLAG        6436 non-null   int64  \n",
            " 9   DRG_CODE           6436 non-null   int64  \n",
            " 10  DESCRIPTION        6436 non-null   object \n",
            " 11  num_of_notes       6436 non-null   int64  \n",
            " 12  num_of_conditions  6436 non-null   float64\n",
            " 13  num_search_words   6436 non-null   int64  \n",
            "dtypes: float64(2), int64(9), object(3)\n",
            "memory usage: 754.2+ KB\n"
          ]
        }
      ]
    },
    {
      "cell_type": "markdown",
      "source": [
        "Random selection from sample set"
      ],
      "metadata": {
        "id": "9zgLOVKMmC1c"
      }
    },
    {
      "cell_type": "code",
      "source": [
        "random_filtered_data = filtered_data.sample(n=1000, random_state=42)"
      ],
      "metadata": {
        "id": "A2g7uF3_mCja"
      },
      "execution_count": 103,
      "outputs": []
    },
    {
      "cell_type": "markdown",
      "source": [
        "Remove similar sentences"
      ],
      "metadata": {
        "id": "T4IGl2_LhAjw"
      }
    },
    {
      "cell_type": "code",
      "source": [
        "from sklearn.feature_extraction.text import TfidfVectorizer\n",
        "from sklearn.metrics.pairwise import cosine_similarity\n",
        "\n",
        "sentences = random_filtered_data['TEXT'].tolist()\n",
        "vectorizer = TfidfVectorizer()\n",
        "tfidf_matrix = vectorizer.fit_transform(sentences)\n",
        "similarity_threshold = 0.8\n",
        "\n",
        "similar_indices = []\n",
        "for i, sentence in enumerate(sentences):  # needs to be max 1000 entries\n",
        "  if any(cosine_similarity(tfidf_matrix[i], tfidf_matrix[j])[0][0] > similarity_threshold for j in range(i)):  # very slow ~10 minutes for 1000 entries, exponential complexity (more than 5 hours if 6000 entries)\n",
        "    similar_indices.append(i)"
      ],
      "metadata": {
        "id": "y_7e8eEAg-8E"
      },
      "execution_count": 104,
      "outputs": []
    },
    {
      "cell_type": "code",
      "source": [
        "index_labels = random_filtered_data.index[similar_indices]\n",
        "random_filtered_data.drop(index_labels, inplace=True)\n",
        "\n",
        "random_filtered_data.info()"
      ],
      "metadata": {
        "id": "5hR3SznnlFAw",
        "outputId": "c9400fb5-7b25-41d9-adc7-6d122fb2e196",
        "colab": {
          "base_uri": "https://localhost:8080/"
        }
      },
      "execution_count": 105,
      "outputs": [
        {
          "output_type": "stream",
          "name": "stdout",
          "text": [
            "<class 'pandas.core.frame.DataFrame'>\n",
            "Int64Index: 884 entries, 958940 to 903016\n",
            "Data columns (total 14 columns):\n",
            " #   Column             Non-Null Count  Dtype  \n",
            "---  ------             --------------  -----  \n",
            " 0   ROW_ID             884 non-null    int64  \n",
            " 1   SUBJECT_ID         884 non-null    int64  \n",
            " 2   CGID               884 non-null    int64  \n",
            " 3   TEXT               884 non-null    object \n",
            " 4   HADM_ID            884 non-null    int64  \n",
            " 5   ICUSTAY_ID         884 non-null    int64  \n",
            " 6   LOS                884 non-null    float64\n",
            " 7   GENDER             884 non-null    object \n",
            " 8   EXPIRE_FLAG        884 non-null    int64  \n",
            " 9   DRG_CODE           884 non-null    int64  \n",
            " 10  DESCRIPTION        884 non-null    object \n",
            " 11  num_of_notes       884 non-null    int64  \n",
            " 12  num_of_conditions  884 non-null    float64\n",
            " 13  num_search_words   884 non-null    int64  \n",
            "dtypes: float64(2), int64(9), object(3)\n",
            "memory usage: 103.6+ KB\n"
          ]
        }
      ]
    },
    {
      "cell_type": "markdown",
      "source": [
        "Find matching conditions for both expired flags"
      ],
      "metadata": {
        "id": "hKqh8rDTZATB"
      }
    },
    {
      "cell_type": "code",
      "source": [
        "random_filtered_data['EXPIRE_FLAG'] = random_filtered_data['EXPIRE_FLAG'].astype(int)\n",
        "group_conditions = random_filtered_data.groupby(['DRG_CODE', 'DESCRIPTION', 'EXPIRE_FLAG'])\n",
        "def balance_conditions(g1,g2,size):\n",
        "  size = min(len(g1), len(g2), size)\n",
        "  return g1.sample(n=size, random_state=1), g2.sample(n=size, random_state=1)\n",
        "\n",
        "rows = []\n",
        "size = 200\n",
        "\n",
        "for drg_desc, group in group_conditions:\n",
        "  drg, descr, expire = drg_desc\n",
        "  if (drg, descr, 1-expire) in group_conditions.groups:\n",
        "    paired_group = group_conditions.get_group((drg, descr, 1-expire))\n",
        "    group_sample1, group_sample2 = balance_conditions(group, paired_group, size)\n",
        "    rows.append(group_sample1)\n",
        "    rows.append(group_sample2)\n",
        "    size -= len(group_sample1)\n",
        "  if size <= 0:\n",
        "    break\n",
        "\n",
        "balanced_data = pd.concat(rows)\n",
        "balanced_data = balanced_data.drop_duplicates()\n",
        "\n",
        "balanced_data.info()\n",
        "print(balanced_data[['DRG_CODE', 'DESCRIPTION', 'EXPIRE_FLAG']])\n",
        "\n",
        "#valid_groups = [key for key, group in group_conditions.groups.keys() if (key[0], key[1], 1 - key[2]) in group_conditions.groups]\n",
        "#for key in valid_groups:\n",
        "  #pass"
      ],
      "metadata": {
        "id": "CTtgtgvONovy",
        "outputId": "565dcd7e-516e-4877-931f-3ee9124095b6",
        "colab": {
          "base_uri": "https://localhost:8080/"
        }
      },
      "execution_count": 121,
      "outputs": [
        {
          "output_type": "stream",
          "name": "stdout",
          "text": [
            "<class 'pandas.core.frame.DataFrame'>\n",
            "Int64Index: 206 entries, 925738 to 828150\n",
            "Data columns (total 14 columns):\n",
            " #   Column             Non-Null Count  Dtype  \n",
            "---  ------             --------------  -----  \n",
            " 0   ROW_ID             206 non-null    int64  \n",
            " 1   SUBJECT_ID         206 non-null    int64  \n",
            " 2   CGID               206 non-null    int64  \n",
            " 3   TEXT               206 non-null    object \n",
            " 4   HADM_ID            206 non-null    int64  \n",
            " 5   ICUSTAY_ID         206 non-null    int64  \n",
            " 6   LOS                206 non-null    float64\n",
            " 7   GENDER             206 non-null    object \n",
            " 8   EXPIRE_FLAG        206 non-null    int64  \n",
            " 9   DRG_CODE           206 non-null    int64  \n",
            " 10  DESCRIPTION        206 non-null    object \n",
            " 11  num_of_notes       206 non-null    int64  \n",
            " 12  num_of_conditions  206 non-null    float64\n",
            " 13  num_search_words   206 non-null    int64  \n",
            "dtypes: float64(2), int64(9), object(3)\n",
            "memory usage: 24.1+ KB\n",
            "         DRG_CODE                                        DESCRIPTION  \\\n",
            "925738          1  CRANIOTOMY AGE >17 WITH COMPLICATIONS, COMORBI...   \n",
            "757380          1  CRANIOTOMY AGE >17 WITH COMPLICATIONS, COMORBI...   \n",
            "1077316         1  CRANIOTOMY AGE >17 WITH COMPLICATIONS, COMORBI...   \n",
            "925728          1  CRANIOTOMY AGE >17 WITH COMPLICATIONS, COMORBI...   \n",
            "502702          1  CRANIOTOMY AGE >17 WITH COMPLICATIONS, COMORBI...   \n",
            "...           ...                                                ...   \n",
            "409264       2213               Major Small & Large Bowel Procedures   \n",
            "409240       2213               Major Small & Large Bowel Procedures   \n",
            "409266       2213               Major Small & Large Bowel Procedures   \n",
            "772391       2213               Major Small & Large Bowel Procedures   \n",
            "828150       2213               Major Small & Large Bowel Procedures   \n",
            "\n",
            "         EXPIRE_FLAG  \n",
            "925738             0  \n",
            "757380             0  \n",
            "1077316            0  \n",
            "925728             0  \n",
            "502702             0  \n",
            "...              ...  \n",
            "409264             1  \n",
            "409240             1  \n",
            "409266             1  \n",
            "772391             1  \n",
            "828150             1  \n",
            "\n",
            "[206 rows x 3 columns]\n"
          ]
        }
      ]
    },
    {
      "cell_type": "markdown",
      "source": [
        "Seperate deceased and living"
      ],
      "metadata": {
        "id": "9tJkPVZggBv_"
      }
    },
    {
      "cell_type": "code",
      "source": [
        "deceased_patients = balanced_data[balanced_data['EXPIRE_FLAG'] == 1]\n",
        "deceased_patients.info()"
      ],
      "metadata": {
        "id": "4cfpXZF4fnUG",
        "outputId": "3c8dbc17-e91d-4595-899a-366e5da105e9",
        "colab": {
          "base_uri": "https://localhost:8080/"
        }
      },
      "execution_count": 122,
      "outputs": [
        {
          "output_type": "stream",
          "name": "stdout",
          "text": [
            "<class 'pandas.core.frame.DataFrame'>\n",
            "Int64Index: 103 entries, 525068 to 828150\n",
            "Data columns (total 14 columns):\n",
            " #   Column             Non-Null Count  Dtype  \n",
            "---  ------             --------------  -----  \n",
            " 0   ROW_ID             103 non-null    int64  \n",
            " 1   SUBJECT_ID         103 non-null    int64  \n",
            " 2   CGID               103 non-null    int64  \n",
            " 3   TEXT               103 non-null    object \n",
            " 4   HADM_ID            103 non-null    int64  \n",
            " 5   ICUSTAY_ID         103 non-null    int64  \n",
            " 6   LOS                103 non-null    float64\n",
            " 7   GENDER             103 non-null    object \n",
            " 8   EXPIRE_FLAG        103 non-null    int64  \n",
            " 9   DRG_CODE           103 non-null    int64  \n",
            " 10  DESCRIPTION        103 non-null    object \n",
            " 11  num_of_notes       103 non-null    int64  \n",
            " 12  num_of_conditions  103 non-null    float64\n",
            " 13  num_search_words   103 non-null    int64  \n",
            "dtypes: float64(2), int64(9), object(3)\n",
            "memory usage: 12.1+ KB\n"
          ]
        }
      ]
    },
    {
      "cell_type": "code",
      "source": [
        "living_patients = balanced_data[balanced_data['EXPIRE_FLAG'] == 0]\n",
        "living_patients.info()"
      ],
      "metadata": {
        "id": "BfFfnIingFO3",
        "outputId": "f92fb57f-6725-4b7d-f982-2191196afe9e",
        "colab": {
          "base_uri": "https://localhost:8080/"
        }
      },
      "execution_count": 123,
      "outputs": [
        {
          "output_type": "stream",
          "name": "stdout",
          "text": [
            "<class 'pandas.core.frame.DataFrame'>\n",
            "Int64Index: 103 entries, 925738 to 831060\n",
            "Data columns (total 14 columns):\n",
            " #   Column             Non-Null Count  Dtype  \n",
            "---  ------             --------------  -----  \n",
            " 0   ROW_ID             103 non-null    int64  \n",
            " 1   SUBJECT_ID         103 non-null    int64  \n",
            " 2   CGID               103 non-null    int64  \n",
            " 3   TEXT               103 non-null    object \n",
            " 4   HADM_ID            103 non-null    int64  \n",
            " 5   ICUSTAY_ID         103 non-null    int64  \n",
            " 6   LOS                103 non-null    float64\n",
            " 7   GENDER             103 non-null    object \n",
            " 8   EXPIRE_FLAG        103 non-null    int64  \n",
            " 9   DRG_CODE           103 non-null    int64  \n",
            " 10  DESCRIPTION        103 non-null    object \n",
            " 11  num_of_notes       103 non-null    int64  \n",
            " 12  num_of_conditions  103 non-null    float64\n",
            " 13  num_search_words   103 non-null    int64  \n",
            "dtypes: float64(2), int64(9), object(3)\n",
            "memory usage: 12.1+ KB\n"
          ]
        }
      ]
    },
    {
      "cell_type": "markdown",
      "source": [
        "Display notes"
      ],
      "metadata": {
        "id": "lnai1UuJCedn"
      }
    },
    {
      "cell_type": "code",
      "source": [
        "pd.set_option('display.max_colwidth', 250)\n",
        "pd.set_option('display.max_rows', None)\n",
        "print(balanced_data['TEXT'].head(200))\n",
        "pd.reset_option('display.max_colwidth')\n",
        "pd.reset_option('display.max_rows')"
      ],
      "metadata": {
        "id": "dZPZ-AGx-9NA",
        "outputId": "aac84cdc-20f7-458a-80a4-8a9074866ccb",
        "colab": {
          "base_uri": "https://localhost:8080/"
        }
      },
      "execution_count": 124,
      "outputs": [
        {
          "output_type": "stream",
          "name": "stdout",
          "text": [
            "925738     T/SICU Nursing Progress Note\\nS: \"Take it easy:\\nO: Neuro: continues with [**Last Name (un) **] monitor with icp 0-5cm with excellent waveform.  Moving all extremities but moves L leg very little.  Follows commands.  At times responds verbally bu...\n",
            "757380     TSICU Nursing Progress Note\\nNeuro - Remains intubated and sedated.  Lightened Q2H for neuro exams.  Off propofol and fentanyl for ~3 hours at beginning of shift, however began to be restless and back on.  When lightened MAE's, opens eyes to voic...\n",
            "1077316    T-SICU admission note [**2122**]-0700\\n60yo male found down between 2 parked cars, +ETOH.  Arrived in ER with GCS 13, decreased MS [**First Name (Titles) **] [**Last Name (Titles) **], intubated.  Injuries: non-depressed R skull fx, traumatic R f...\n",
            "925728     TSICU NPN 11p-7a\\nS/o -\\n[**Name (NI) **] pt sedated on propofol 0-30mcgs/min also receiving intermittant doses of fentanyl 25mcgs over night.  Pt opens right eye to voice, follows simple commands to raise hands, move leg and stick out tounge.\\nN...\n",
            "502702     SOCIAL WORK NOTE:\\n\\nSpoke with pt's family today to offer continued support.  All seem in better spirits as they report that they think that today has been a more stable day for pt and they seem to be feeling increasingly hopeful.  This SW then ...\n",
            "757374     TSICU Nursing Progress Note\\nNeuro - Remains intubated and sedated on propfol and fentanyl.  Lightened Q1H for neuro exams.  Pt arouse, sit upright in bed.  MAE's, intermittently follows commands.  Intact corneals, PERRLA, intact cough and impair...\n",
            "525068     T-SICU Nsg note\\n  I called pt's [**First Name8 (NamePattern2) **] [**Doctor First Name 4339**] this am to inform her that pt no longer had cough nor movement of limbs.  [**Doctor First Name 4339**] said she would be coming to hospital soon.\\n   ...\n",
            "684267     T/SICU RN Progress Note\\nNeuro:  On 25mcg fentanyl/hr, to painful sternal rub localizes with L upper extremity, withdraws slighlty with all other extremities to painful stimuli.  Does not open eyes, pupils equal and reactive, imp corneals and gag...\n",
            "228171     T-SICU NPN 0700-1900\\nPlease see carevue for specifics.\\nROS:\\nNeuro: A+Ox2-3, confuses year (\"[**2127**], [**2177**]\") and name of hospital (\"[**Hospital1 2552**] or [**Hospital3 576**]\").  Follows commands, MAE's, conts. RUE weakness.  Pupils e...\n",
            "406967     TSICU NPN 0700-1900\\nREVIEW OF SYTEMS:\\n\\nNEURO: Pt remains unresponsive. No sedation given today. Does not open eyes, does not follow commands, no spontanous movements noted. Posturing noted to painful stimuli in BUE. Triple flexion noted to BLE...\n",
            "684259     T/SICU RN Progress Note\\nNeuro:  Remains on fentanyl drip.  Pupils equal and reactive, to painful stimuli moves L lower extremitiy slightly, and min. to upper extremity.  No movement noted in R side, eyes do not open, no spontaneous movement.  Di...\n",
            "442545     t/sicu nursing note 7p-7a\\nreview of systems\\n\\nneuro: propofol weaned off this am. pt not opening eyes. pupils 2-4mm/bsk bilat. impaired corneals and gag. +cough. withdraws to pain with all extremeties r>l. not following commands. rare spontaneo...\n",
            "719649     TSICU NPN 7p-7a\\nS/O-\\n\\n[**Name (NI) **] pt mildly sedated w/ low dose propofol, fentanyl 50mcgs x's two over the shift for back discomfort.  Pt much more comfortable tonight w/ improved resp status, no ativan required.  Pt slightly stronger, ab...\n",
            "1060765    Nursing Progress Note 7a-7p\\nPt had a busy day. neuro: A+O X3. Able to hold up both arms but braces one with another for strength. Lower extremities stronger. Speech slurred. Right eye droop. Weak gag and weak cough.\\nCV: VSS. See careview. no c/...\n",
            "22504      Nursing Progress Note\\nSee Carevue for Specific Data.\\n\\nSignificant Events: Ketamine gtt discontinued in afternoon d/t pt extremely hyperdynamic (HR 120's, BP 170-190's systolic, MAP >100). Pt not very alert, increasingly agitated/anxious, not d...\n",
            "22496      ***TSICU NURSING PROGRESS NOTE 7A-7P***\\n--please see carevue for exact data--\\n\\nEVENTS: (1)Pt currently in OR for debridement, wash out, ?wound vac replacement? of R arm--> MD [**Doctor Last Name 277**] in this AM to assess R arm open fasciotom...\n",
            "778787     7P - 7A S/P AVR; hx aortic dissect. repair x 1 yr.\\n\\nN: alert & oriented x 3, mae, fc, pupils asymmetric d/t hx left eye [**Doctor First Name 4**]. pt medicated approx 2100 for [**6-12**] incisional pain in chest, percocet 1 tab given with good ...\n",
            "720998     T-SICU NPN/admission note\\n\\nAllergies: NKA\\n\\nPMH: legally blind, chronic gait and balance problems, spinal stenosis, L foot drop (wears brace).\\n\\nSocial: Pt lives alone at Senior Life, [**Street Address(2) 6164**]. Apt 15J.  Pt is independent,...\n",
            "728637     Nursing condition update:\\nNeuro: Remains sedated on Propofol gtt, following commands. PERLA. Denies pain by nodding head.\\n\\nRESP: Lung sounds coarse throughout, ABGs reflect worsening met. acidosis. IPS increased to 15 w/some improvement.  No o...\n",
            "564994     Nursing Progress Note 7am-7pm\\n\\nROS: See carevue for exact data\\n\\nN: Pt with poor neuro exam. Pt unarousable, no spont movement of any ext's. Triple flexion noted to lower ext's to pain, no w/drawal to pain noted to upper extremities. Pupils 3m...\n",
            "610451     NPN: 7p-7a\\n\\nNeuro: PERRLA 2mm brisk on R and sluggish on L, corneal reflex intact on L and impaired on R, impaired gag reflex and intact cough reflex, abnormal decerebrate posturing with R UE to painful stimuli and Flexor withdrawl to R LE with...\n",
            "143838     Nursing Progress Note\\nSee Carevue for Specific Data.\\n\\nSignificant Events: HR increased from 105 to 130's rapidly, BP remained the same then increased, then decreased.  Neo continues to increase to maintain adequate BP. Fluid boluses x2 (500cc ...\n",
            "585367     Admission Note\\nAdmission to TSICU from floor note:\\nSee Carevue for specific data.\\n\\nPt s/p fall on ice, with left sided weakness.  Brought to hospital one week later-CT showed right SDH.  Pt had craniotomy and evacuation.  Pt was alert and ori...\n",
            "1113323    T-SICU NPN 0700-1900\\nPlease see carevue for specifics.\\n\\nEvents: To OR this am for change of L POC; accessed w/ 20g 3/4in. needle this afternoon.  To MRI, tol. well, initial results ->edema, to receive 12mg IV decadronx1 in addition to standing...\n",
            "540258     Nursing Progress Note\\nS/O- neuro exam unchanged, inconsistantly follows commands with upper ext, lower extrem, moving constantly, moving uppers purposefully., arms remain restrained. pupils at 4 and reactive. opens eyes occas, but not always to ...\n",
            "451006     NURSING PROGRESS NOTE 7P-7A\\n\\nREVIEW OF SYSTEMS:\\n\\nNEURO-Neuro checks q1hour. Pt currently sedated on Propofol at 50mcg/kg/min for increased RR. Fentanyl given PRN. Neuro exam unchanged on or off Propofol. Left pupil 7 and non-reactive (optic n...\n",
            "639970     nursing progress note\\n\\nneuro: pt easier to arouse when sedation lightened today, becoming active w/in [**6-4**] min.  perrla, 4-5mm. mae, good strength noted. no eye opening, no following of commands, no communication of any kind. withdraws to ...\n",
            "639976     nursing progress note\\n\\nneuro: remains very lightly sedated w/ propofol, lightened for serial neuro exam, taking very long time to arouse.  moving all extrem well, good strength noted, equal.  perrla, 3-5mm bilat. corneals, gag, cough intact.  l...\n",
            "741459     T/SICU NSG NOTE\\n0700>>[**2129**]\\n\\nEVENTS: repeat head CT: follow-up\\n        maxillosinus CT: to assess orbital fractures\\n        Optholmology consult obtained; pupils dilated for assessment\\n        Cervical & thoraco-lumbar spine cleared by...\n",
            "588752     NPN-MICU\\nMr [**Known lastname 11485**] has been extubated to comfort.\\n\\nResp: pt was trialed on PSV and did okay-RR 36, TV 265, RSBI sl improved at 94(120),NIF up to -15. He [**Known lastname **] to diures on lasix drip. A family meeting was he...\n",
            "427377     T-SICU NPN/admission\\n\\nAllergies: PCN\\n\\nPMH: COPD, IDDM, Hepatitis B, HTN, depression, anxiety, recurrent LE cellulitis, morbid obesity, OA, hernia, ? eye surgery, ? old burr hole sites, old SDH.\\nMeds: insulin 70/30, effexor lasix\\nHistory thu...\n",
            "461992     NPN 7pm-7am\\n\\nROS: See carevue for exacts.\\n\\nN: Pt sedated on propofol at 20 mcg/kg/min. Lightened for exams. Pt needs 20-30 min arousal from propofol for adequate exam. Pupils equal and reactive at 3mm bilaterally, briskfully reactive. Pt foll...\n",
            "932307     NPN: return from OR\\npatient returned from OR 2100 s/p trach (#8 fensestrated), PEG, ORIF of mandible & closed reduction of mandible. received 4 liters IVF & 2 Units PRBC during case, EBL 450cc, u/o 3050. Jaw wired, wire cutters at bedside; elast...\n",
            "545282     NPN 1900-0700\\nPlease see carevue for specific charting of vs and data.\\n\\nNEURO: Alert, neuro exam intact, MAEs. Dilaudid PRN with good pain control-? PCA may be appropriate alternative. Pt telling wife last [**Name2 (NI) **] \"just let me die\" p...\n",
            "545268     T-SICU NPN 0700-[**2030**]\\nPlease see carevue for specifics.\\n\\nEvents:  hct 24.4 (24.3 from 22.2)\\nCT of pelvis done d/t drop in hct, awaiting formal read.\\nTo OR this afternoon for trach/peg/IVC filter.\\n\\nROS:\\nNeuro: Sedated on propofol gtt,...\n",
            "947777     nursing progress note\\n\\nevents: to OR this early am for trach/PEG procedures. intra/post op courses uneventful.  pt returned to [**Location 610**] paralyzed, sedated.  over course of shift, able to wean propofol, neuro exam slowly brightening.\\n...\n",
            "545278     NPN 7am-7pm\\n\\nSee carevue for exact data and vs\\n\\nEvents for today: Trache collar\\n\\nROS:\\n\\nN: Pt off propofol, awakes to stimulus, following commands a bit more consistently as the day continues. MAE's, able to give thumbs up, nod yes and no ...\n",
            "254011     Nursing Progress Note, 1900-0730\\n* Please refer to careview for specifics.\\n\\nPt had uneventful night, pt status quo. Remains on lasix & insulin gtt.\\n\\nROS:\\n\\nRESP: CPAP + PS, peep 5, PS 12, FiO2 30%, Tv 310, RR 14-30, SpO2 92-97%. ABG 7.37/70...\n",
            "183655     Nursing Progress Note\\nPt spiked temp to 102.2 at beginning of shift. HO [** 6139**] aware. Pt last pan cultured evening of [**7-18**]. Tylenol given with good effect.\\n\\nNeuro: Neuro exam unchanged throughout shift. Pt not sedated. Opens eyes on...\n",
            "183671     Nursing Progress Note\\nEvents: Pt to neuro-angio this morning to evaluate vasospasms, received 10mg IA verapamil. Head CT post-angio, unchanged.\\n\\nNeuro: Pt not sedated. Best neuro exam; Pt opens eyes to stimuli, conjugate gaze, does not track. ...\n",
            "351054     NPN 7am-7pm\\n\\n65 yr old male s/p pedestrian struck.\\n\\nROS: See carevue for exact data\\n\\nN: Remains sedated on propofol/fentanyl for pain. Drips weaned today for possible extubation. Neuro exam with no large improvements. Pt spont moving all ex...\n",
            "351086     Nursing Progress Note:\\nPlease refer to CareVue for details.\\n   Pt lethargic this morning; more alert in the afternoon when daughter visited. [**Name2 (NI) 1254**]. Clear speech. Follows commands and moves all extremities. Oriented x2-3. +gag/co...\n",
            "901172     t/sicu nursing note 7p-7a\\nreview of systems\\n\\nneuro: pt alert and following commands consistantly with all extremeties. able to communicate by writing and mouthing words. unable to assess orientation d/t intubation and pt at times writing inapp...\n",
            "901175     SOCIAL WORK NOTE:\\n\\nReceived RN referral for family support due to pt's mother, [**Name (NI) 7422**], and aunt, [**Name (NI) **], present outside unit and upset about not being able to visit patient.  Met with pt's mother and aunt in waiting roo...\n",
            "857046     npn\\ns=mouths the words--i'd like a pillow under my arm.\\n\\no=awake, alert, moves all extremities.  oriented and able to make her needs known by mouthing words.  no neuro deficits noted.\\n\\ncv=monitor pattern nsr with rate 80's.  no ectopy noted....\n",
            "790899     T/Sicu Nsg Note-\\n0700>>1500-\\n\\nNeuro- alert, oriented, appropriate...communicating by note writing.\\n...mae's, follows commands, +sensation.\\n\\n...Pain mngmnt with prn ms04 5mg with effect. Pain is abdominal/incisional..and... occurs with activ...\n",
            "840851     npn\\n\\nN: Pt sedated on propoful gtt. When lightened, mae's and fc's consistently. Nods y/n to questions. Given morphine prn for c/o pain. Unable to elicit exact origin of pain. Nodding yes to pain everywhere.\\n\\nCV: Hd stable. See carevue for he...\n",
            "896311     TSICU NPN 7p-7a\\nS/O-\\n\\n[**Name (NI) **] pt still sedated on propofol at 10mcgs//kg/min and fentanyl at 50mcgs min, pt does open eyes to voice, when lightened from propofol completely , slightly brighter, not following commands yet w/drawing all...\n",
            "327135     T/SICU NSG NOTE\\n0700>>1900\\n\\nEVENTS: EXTUBATED @ 1615!!\\n        HALDOL dosing started for ?? hallucinations w/mso4\\n        WEANING [** 6462**] slowly as tolerated\\n        AORTIC dissection RULED OUT;lopressor d/c'd\\n\\nNeuro- consistently fol...\n",
            "1027865    Nursing Progress Note:\\nPlease refer to CareVue for details.\\n   Pt stable overnight. Neuro unchanged. A&Ox3. MAE; follows commands. Diphenhydramine 25mg IVx1 @ bedtime w/ good effect. Pt c/o BLE pain when CPM machine on; Percocet 2 tabs PO w/ go...\n",
            "327139     TSICU 11p-7a\\nPt w/ stable night post AKA, colostomy/PEG, ureter stenting, and IVC filter placement.  Pt now on rotorest bed for L2 fx.\\n\\nS/O-\\n\\n[**Name (NI) **] pt on morphine gtt at 10-12 mg hr and midazolam 4-6mg/hr, Pt initially readily res...\n",
            "782287     npn=\\ns=intubated.\\n\\no=awake, alert, moves all extremities. assists with turns in bed.  follows commands--very pleasant.\\n\\ncv=monitor pattern nsr with rate 80's.  no vea.  sbp continues elevated 150--170.  given additional hydralazine as ordere...\n",
            "327157     NPN 0700-[**Numeric Identifier 3134**]\\n [**Name (NI) 1240**] Pt to OR this am at 1000 for abd washout and closure with vac placement and T11-L3 posterior fusion, epidural placed. Returned to ICU at 1700. Pt had EBL 950cc and UO 1380. Crystalloid...\n",
            "782270     NPN TRAUMA SICU\\n\\nREVIEW OF SYSTEMS:\\n\\nNEURO:\\n[** **] most of shift, sleeping in short intervals. Calm and appropriate behavior, nodding appropriately to questions asked, follows commands, given dilaudid boluses for pain control.\\nCV:\\nST thro...\n",
            "506059     See carevue for objective data.\\n\\nRemains sedated on prn ativan IV-opens eyes to pain but does not follow commands.\\nNSR/SB with occasional PAC and isolated 4 beat run of VT that was self-limiting. Neo weaned to off at 10AM. Maintaining BP witho...\n",
            "1121625    pmicu nsg admission/progress note\\n\\n\\n   pt is an 83yow woman who had a polyectopy done in the gi unit on [**9-12**]. on [**9-18**], she presented to the ew after passing brbpr x several days and w/new fever and rlq pain. an abd ct confirmed app...\n",
            "625329     Condition Update\\nD: See carevue flowsheet for specifics\\n Patient continues to run low-grade temp with tmax 100.3, WBC is coming down. Continues on broad spectrum antibiotics and anti-fungal-vanco trough drawn prior to 1600 dose. HCT has been tr...\n",
            "13725      TSICU NPN 7a-7p:\\n\\nReview of Systems:\\n\\nNeuro: Sedated with ativan PRN and medicated with morphine for pain. Tries to open her eyes to verbal stim. and will try to blink in answer to questions. MAE spontaneously and to commands intermittently. ...\n",
            "654831     T/SICU Nursing 19-07\\nSee CareVue for specific data.\\n\\nROS/\\nNeuro: Fentanyl gtt infusing for pain; midazolem gtt suspended at start of shift for best neuro exam, never restarted as patient remained calm and appeared comfortable with infusion of...\n",
            "625221     Tsicu npn\\nO: ROS\\n\\nneuro: Pt alert and oriented x2, mae and follows commands consistently.  c/o lge amt pain, aching all over, abd pain and back pain. Using ms04 pca w/ moderate effect. Sedated postintubation initially with midaz (ineffective),...\n",
            "663757     Nursing Progress Note:\\nPlease refer to CareVue for specifics.\\n\\nPt condition unchanged overnight.\\n\\nOn exam:\\n\\nRESP:\\nRemains intubated and ventilated with PS 5/5 40%, tolerating well, good ABGs.  Breath sounds diminished bibasally and Rt upp...\n",
            "503730     D: Please see careview for assessment and other data.  Neuro: Pt on propofol ggt at 15mcg/kg/min with good sedation level. Pt opens eyes to verbal stimuli and nods head appropriately to questions. Pt denies pain or other distress and sleeps unles...\n",
            "526364     NPN 1900-0700\\n   Pt is a 66yo male transferred form OSH [**1-31**] with necrotizing pancreatitis. Has remained sedated and intubated.\\n   [**Name (NI) **] Pt weaned from sedation. Fent gtt decrease prior to this shift and off in early am. Given ...\n",
            "1387631    npn 1900-0730\\nROS: see carevue for details\\n\\nNeuro: patient A&Ox3, pleasant & cooperative with care. c/o constant dull pain to abdomen, worsening with coughing, deep breathing & movement. using dilaudid PCA appropriately. mae, moves well in bed...\n",
            "526410     nursing progress note\\n\\nneuro: pt alert, agitated, restless at times. moving all extrem, strong. perrla, 3-4mm bilat. following commands inconsistently, difficult to get pt to focus long enough to carry out commands. needs much redirecting.  spe...\n",
            "526338     Nursing Progress Note 7P-7A\\n\\nPlease see CareVue for exact data.\\n\\nPt admitted at OSH for abdominal pain where CT showed gallstones. He was admitted to floor and later developed increased WOB, poor UOP and hypotension, transfered to ICU on BiPa...\n",
            "305659     TSICU Nursing Progress Note 7a-7p:\\n\\nReview of Systems:\\n\\nNeuro: Sedated on Propofol. D/C briefly, pt more awake with increased grimacing. Transplant team requested that pt be left on propofol for now for comfort. Medicating with Dilaudid 2mg q...\n",
            "1170717    TSICU Nursing Progress Note\\nNeuro - Alert and oriented x3.  MAE's lifts and holds uppers, lift and falls back lowers.  Follows commands consistenly.  Spontaneous movement purposeful.\\n\\nPain - Continues on PCA pump with good effect.  Pt complain...\n",
            "914473     TSICU Nursing Admission Note\\nPt admitted s/p Whipple procedure due to pancreatic mass.  In OR briefly on Neo for low BP.  Came out without any vasopressors.  EBL 1500, urine 2500.  6000 liters cyrstaloid in, 4 units PRBC's, 250cc cell [**Doctor ...\n",
            "865029     S-Intubated but nods head yes/no appropriately\\n\\nO-Opens eyes to voice and follows commands consistently.  Remains on propofol at 20 mcg/kg/min. Medicated with MSO4 IV Q3 hours for complaints of abd pain with good effect. Intubated and trial of ...\n",
            "486484     Condition Update\\nAssessment:\\nPlease see carevue for details\\n\\n Neuro: Pt [**Name (NI) **], unable to assess orientation but pt will nod to yes/no questions appropriately and follows all commands. [**Last Name (LF) 1545**], [**First Name3 (LF) ...\n",
            "486442     Update\\nO: See carevue flowsheet for specifics.\\nGi/Endo:Pt remains on insulin gtt. Glucoses less labile w addition of nph insulin given earlier today. Glargine to start in a.m. [**First Name8 (NamePattern2) **] [**Last Name (un) 167**]. Continue...\n",
            "486454     TSICU NPN 7p-7a\\nS/O\\n\\n[**Name (NI) 57**]  Pt more confused tonight, oriented to person, knows he is in [**Location (un) **] in the hospital, has difficulty w/ the name of the hospital, but remembers that he has pancreatitis, however just saying...\n",
            "398514     Tsicu NPN 7p-7a\\nS/o-\\n\\n[**Name (NI) 248**] pt very lethargic and tired, minimal eye opening unless specificallyy addressed.  Does con't to follow commands consistently yet very weak w/ movement of extremities.  Medicated times one w/ dilaudid 1...\n",
            "398166     Nursing Progress Note.\\n\\nRESP: Pt remains off MV support on 50% CSTM c no c/o SOB or dyspnea.  The pt has now been off the MV for over 34 hours.  In addition, the pts Passe Muir valve has been in place all day.  Pt has no diff articutaling full ...\n",
            "115084     SICU NPN\\nPt remains critically ill in the ICU s/p gallstone induced pancreatitis complicated by pt's cardiac status.\\n\\nROS:\\nNeuro: Pt remains sedated on propofol, 40mcg/kg/min. Pt will occ open eyes during turning or suctioning, MAE but does n...\n",
            "917014     nursing progress note\\n\\nneuro: lightly sedated w/ propofol, following commands, nodding and shaking head, writing to communicate. moving all extrem, c/o intermittent pain to lower back, freq prn dosing fentanyl effective. perrla, optho consult o...\n",
            "276354     pmicu nursing progress 7a-7p\\nreview of systems\\nCV-has had no further bursts of rapid hr-was restarted on sotalol po tid as well as po dilt, iv dilt was decreased from 15-10mgs/hr, then 5 mgs/hr after sotalol kicked in, then d/cd when po dilt ki...\n",
            "874742     NPN 7a-7p\\nPt oriented to self consistently, believes she is at someone's house and has to get a cab so she can go home, does not re-orient.  Spanish speaking employee in to see if some of confusion is language barrier, explained impending OR to ...\n",
            "1113318    T-SICU NPN/admission note 1600-1900\\n\\nUniversal precautions\\nNKDA\\n\\nPMH: malignant melanoma w/brain mets, s/p R mastectomy with chemo/radiation ('[**06**]), s/p port-a-cath placement\\nMeds: Keppra, dexamethasone, ativan\\nSocial: Marine biologis...\n",
            "745846     TSICU NPN 7p-7a\\nS/O-\\n\\n[**Name (NI) 57**] pt con't very lethargic, propofol off at the beginning of the shift and only on briefly over night for ETT rotation.  Pt eyes and face very edematous [**3-1**]+ edema.  Pupils con't equal and reactive a...\n",
            "840471     See Carevue for specific data.\\n\\nSignificant Events: Pt had MRI of head/wand study AND functional MRI of head in preparation for surgery on Wed [**1-21**].  Mannitol 25mg q6 initiated today, IV fluid discontinued to dry pt.\\n\\nNeuro: Pt is alert...\n",
            "1132013    Progress Note, 0700-[**2106**]\\n42 y.o.m.    NKDA    Universal Precautions    Full Code\\n\\nHx seizure disorder- [**2183-12-1**], L temporal lobe craniotomy to evaluate for location of seizures. On [**2183-12-3**] was transferred from [**Hospital ...\n",
            "1178735    Nursing Note\\nSee Flowsheet\\n\\nNeuro: Pt. arousing to voice this am, opening eyes. Pt. localizes with upper extremities to sternal rub, withdraws to pain with lower extremities.  Pt. does not follow commands.  Right pupil 3mm and brisk, left pupi...\n",
            "599374     T/SICU RN Progress Note\\nNeuro:  Patient with c/o increasing pain in bilateral lower extrimeties overnight with increasing anxiety and aggitation.  Fentanyl and propofol drips increased with effect.  Eyes open to voice, follows commands.\\n\\nCV:  ...\n",
            "747047     TSICU Nursing Progress Note\\nEvents:  Repeat head CT 0830, showed no change from previous scan.  C-spine flexion/extension films.  \"Essentialy normal\" however uppon flexion of neck pt reported some pain in neck.  Per neurosurg team to remain in C...\n",
            "930618     T/SICU RN Progress Note\\nNeuro:  Patient remains intubated alert and gesturing and writing appropriately.  Able to move upper extremities without any difficulty.  Lower extremities splinted able to wiggle toes.\\n\\nCV:  HR 60-70's NSR denies chest...\n",
            "758677     ccu npn\\no-id-  t max 99.3po. cont. on abx.\\ncv- hr 80-90s sr, no vea. bp 108-124/. k-4.2, mg 1.9, replaced with 2 amps iv x1. dig level 1.0. hct 31.2, inr 3.7. started on po digoxin.\\nresp- on face tent, changed to 4l n/c with sats 93-96. mild t...\n",
            "597448     nursing/admit note\\npt 43 yo male s/p [**2131**]5 feet while painting with a friend. pt landed on feet, sustained very signif left ankle fx, alert, appropriate in ED. to OR last night for ORIF of left ankle. pt unable to wean from vent, oxygenati...\n",
            "1396163    TSICU NPN 11p-7a\\nS/O-\\n\\n[**Name (NI) 248**] pt very lethargic overall, sleeping most of shift yet arousable, When awakened pt slightly opens eyes, PERL at 4mm, he moves right arm purposefully, left arm limited by splint. Able to wiggle toes on ...\n",
            "549190     NPN 7a-7p\\nPt much more alert, states last name, just says \"[**Last Name (un) **]\" to questions of where she is, and year.  Pt also much more verbal, confused statements at times, but more reliable in stating if she hurts and where, etc.  Moving ...\n",
            "549124     ***TSICU NURSING ADMISSION NOTE 7A-7P***\\n--please see carevue for exact data--\\n\\nPMH: CAD, DM, HTN, CABG [**2176**], korsakoff dementia, proteinuria, hypercholexterolemia, L TKR\\n      -[**2-20**]: perforated diverticulitis s/p hartmanns proced...\n",
            "1476309    nursing admit/progress note\\n\\npt is a 33 yo s/p through and through GSW to the abdomen during an invasion/robbery in his home. initially taken to [**Hospital3 4070**], immed medflighted to [**Hospital1 40**]. hemodynamically stable, taken to OR ...\n",
            "887364     NPN\\n\\nn: Pt a/ox3. Pleasant/cooperative. C/O [**2156-2-1**] pain. Repositioning helpful in pain reduction. Pt c/[**Initials (NamePattern4) **] [**Last Name (NamePattern4) 130**] pain in neck, rt chest and back. Epidural changed back to APS 10 sl...\n",
            "918740     ccu nursing progress note\\ns: \"that took a long time...i just slept through it\" red tag scan\\no: pls see carevue flowsheet for complete vs/data/events\\nid: afeb\\ncv: hr 60-90s sr. freq pvcs at beginning of shift but decreased. will add lopressor ...\n",
            "828163     NPN TSICU 0700-1900\\nreview of systems:\\n\\nNeuro: Pt primary language is french but is able to communicate in english. A/O times 3. Moves all extreimites and follows commands. Pt gets anxious at times due to Bipap mask. Abd and back pain being we...\n",
            "1200577    Nursing Note--A Shift\\nPlease see Carevue for complete assessment and specifics:\\n\\nNEURO: Lethargic. Ox3. Has short periods of confusion but reorients easily. Answers questions appropriately. Follows commands. MAE in bed. Initiates conversation....\n",
            "790440     T/SICU RN Admit/Progress Note\\nPatient admitted from the PACU s/p R kidney transplant.  Arrived in T/SICU at 0130 in bed alert and oriented.\\n\\nPMH:  HTN, Renal Failure, a-fib, hypothyroid, EF 70%, s/p open chole, L AV fistula, dependent on dialy...\n",
            "711648     S-\"I have wounds all over my body\"\\n\\nO-Alert and oriented X 3.  SR-ST with no ectopy.  Tachycardic when\\nawake and care provided (?pain/? Hct 26).  L/S clear and slightly diminished at the bases.  Compliant with IS and coughing and deep breathin...\n",
            "425267     NPN  7A-7P\\nPt. remains in ICU for sepsis monitoring, awaiting OR for planned washout of wounds.\\n\\nROS:\\n\\nNEURO:\\nChange of shift, pt found to be anxious and nodding yes to pain as well as anxiety.  Morphine dose increased and ativan prn order ...\n",
            "869555     npn 7a-7p\\n\\nneuro:intact.following commands.able to mouth words over ett.denied pain.up to chair x 4h.\\n\\ncv:sbp 100-120s.sr,pacs-frequency decreased during shift.cvp 4-7, increased to 20 at 1700.given 40mg lasix w/ good effect.lytes repleted.\\n...\n",
            "800633     nuero: pt does open his eyes when you call his name, pt  not following any commands. pt does withdraw from painful stimuli.  pupils equal and reactive to light.   pt recieving diluadid and ativan for pain and anxiety with good effect.\\n\\npulm: pt...\n",
            "800647     NPN\\nPt sedated.PERRLA. not following commands. nonverbal secondary to ET tube. LSCTA diminished RLL sats 93-96% throughout shift on SIMV/PSV of 5 @ RR of 24. last ABG's improved since RR inc. from 20 to 24. please refer to flowsheet. sxn for sm ...\n",
            "1081121    NPN 0700-1900\\n  Pt extubated this am. On Face tent and tolerating well. 100% o2 sat even on RA, mist kept for comfort. Pt has very quiet voice and unable to understand her. ABGs WNL and RR 20s. Pt has weak to mod cough and sounds very congested ...\n",
            "1165817    nursing note 7p-7a\\nsee admission history. see flowsheet for details.\\n\\nneuro: gag intact. good cough reflex noted. corneal reflexes intact. pt withdraws to painful stimuli. pt sedated on propofol @ 50mcg/kg/min. no purposeful movement noted.not...\n",
            "1259069    Neuro: alert and oriented. MAE. oob to comode with assist x2. denied dizziness or weakness.\\nCV: initially Hr > 95 lopressor 100mg po given at [**2173**] with effect hr < 95 most of night and SBP < 175. at 5am 10mg of hydralazine given for SBP 17...\n",
            "976214     nursing progress note\\n\\nneuro: awake, alert, following commands consistently. mae w/ good strength. perrla, 2mm. c/o intermit. pain to shoulders, back. given prn fentanyl w/ good effect. mildly sedated w/ prn midaz, d/t discomfort w/ ett.\\n\\nres...\n",
            "545219     Nursing Progress Note\\nSee Carevue for Specific Data.\\n\\nSignificant Events: Fentanyl gtt decreased to 175mcg/hr.  Arterial line placement attempted by Dr. [**Last Name (STitle) 422**] (HO) multiple times without success.\\n\\nNeuro: Pt lightly sed...\n",
            "1115359    adm note\\nrussian speaking 81 y/o, s/p fall [**3-3**] 10feet off balcony, witnessed by family, no LOC, was ambulatory after the fall, brought by family to ED, was intubated for aggitation and for CT scans, found he had neg head scan but had C1 an...\n",
            "529326     SICU NPN\\nS-\"I just get so scared.\"\\n\\nSEE CAREVUE FOR ALL OBJECTIVE DATA AND TRENDS IN FLOWSHEETS.\\n\\nO-Uneventful shift. VSS. Panic attack times one with extra dose of Ativan given in addition to PRN. Otherwise pleasant and cooperative with car...\n",
            "252130     NPN (1900-0700) Review of Systems:\\n\\nNeuro: Pt remains confused and agitated, oriented x1-2 to person and occaisonally place. Pt continues to answer questions inappropiately at times, attempts to sit up in bed, get oob and pull out tubes. Pt pul...\n",
            "484214     TSICU NPN 7a-7P:\\n\\nEvents: Pt restless on and off throughout the day 2nd to pain. CXR worsening. ABGs with compensatory mechanisms in place. On assist/control and unable to change to decreased support due to tachypnea and changes in vital signs....\n",
            "15114      Nursing Note [**2163-1-9**] at 1630\\n\\nNeuro : alert and oriented * 3// c/o throbbing pain in LLE, at all times. Pain consult done and pt. to start Dilaudid PCA, dose 0.25mg//6 minute lockout// no basal rate// one hour max 2mg// awaiting PCA pump...\n",
            "147279     review carevue for additional data\\nAllergy: tegretol\\nCode: Full\\n\\n50 yo female with extensive medical history transfered in from [** 104**] after I&D of posterior lumbar wound and VAC dressing.\\n\\nEvents: extubated and stable on o2 50% on face...\n",
            "960742     T-SICU NPN 0700-1900\\nEvents: pt extubated this am; remains on high flow face mask at 95%, additional nc weaned off.  O2 sats high 80s-low 90's, acceptable per team.  Diuresed with lasix.  Confused this am, now oriented to self, place, not date o...\n",
            "390056     TSICU NPN 0700-1900\\nEVENTS:\\n\\nCT of R ankle -- ordered per Ortho (will need to be taken to OR for repair in future)\\n\\nSwelling noted to face/neck/lips/tounge this am, worsening throughout the day. TSICU HO and attending aware, Trauma resident ...\n",
            "59723      npn 7p-7a:\\n  ccu nsg progress note:\\ns/o: neuro---conts on propofol gtt for sedation, initially at 65mcg, pt grimacing to painful stimuli, gtt weaned down to 46mcg, pt spon opens eyes, conts to grimace to painful stimuli, is not able to purposef...\n",
            "912870     nursing progress note\\nneuro: pt remains sedated, when lightened alert, opens eyes spont. moving x4, weak to ble. nods and shakes head to ques., follows commands. denies pain.\\n\\nresp: remains w/ ac mode vent support, 70% 400x25, peep 10. note la...\n",
            "248074     T-SICU NURSING NOTE\\nROS/\\n\\nNeuro: Pt awake, interactive, mouthing words at times. Moves all extremities on bed minimally. MS 4mg x 1 for pain this am. Pain med changed to percocet prn today.\\n\\nCV: SR no ectopy. BP stable. Weak palp pp BLE. Ven...\n",
            "248095     T-SICU Nursing Note\\nROS/\\n\\nNeuro: Sedated on Propofol gtt. Pt opens eyes to voice, grimaces when sedation lightened. PERRLA. No movement extremities noted. C collar intact.\\n\\nCV: SR no ectopy. Levo to keep MAP > 60. Swan placed this afternoon ...\n",
            "248061     T/Sicu Nsg Progress Note\\n0700>>19:30\\n\\nPt with flat affect this morning- little response to questions/comments; no facial expressions; not focusing on speaker as unsual. C/o not sleeping well and just wanting to sleep. Pt allowed to have room d...\n",
            "924618     SICU NPN\\nEvents: Pt continues on pentobarb gtt with ICP and EEG monitoring.  PEJ placed this PM under angio guidance; Temp spike to 104.5\\n\\nROS:\\nNeuro:  ICPs up and down, floating up to 30's but back down relatively quickly to 16-24.  Neurosur...\n",
            "855818     T-SICU NURSING NOTE\\nPt confused as to place & time this am when first awakened, oriented rest of day. Pt denies pain, tolerating activity well. Turning, coughing, OOB to chiar twice today, Stand pivot to chair with 2 assist. Pt [** **] activity ...\n",
            "855713     NPN (0700-1530) Review of Systems:\\n\\nNeuro: Pt [**Name (NI) 139**]3, follows commands and mouths words appropriately. Pt deneis pain but c/o of nausea and abcominal cramping. SICU team awre. IV Zofran given c moderate releif per pt.\\n\\nCV: ST ch...\n",
            "489660     NPN (0700-[**2041**]) Review of Systems:\\n\\nNeuro: Pt sedated on IV dilaudid and ativan, rates unchanged. Pupils 3mm and briskly reactive, +corneals, +impaired cough. No spontaneous movmement, not following commands. ICP=[**9-9**] and CPP=70-80s ...\n",
            "855792     npn\\ns=i'm still awake.\\n\\no=dozing off and on, even after ambien and dilaudid.  slept well during the evening, then periodically awakened overnight.  complained of abdominal pain and sedated with dilaudid.\\n\\ncv=monitor=st. no ectopy. sbp wnl. i...\n",
            "709957     t/sicu nursing note 7a-3p\\nreview of systems\\n\\nneuro: remains on propofol and fentanyl gtt for sedation. not lightened this am d/t tenuous resp status and then to or for procedure. stat head ct done prior to or which revealed no change. vent dra...\n",
            "668175     resp: o2 sats 99-100% on room air coughs but not raising secretions.lungs clear but diminished at bases.\\n\\ngi: pos bowel sounds .no bm. npo.\\n\\ngu: pt pulled out catheter at about 7 pm. did not void and became restless~ 2400. attempted bedpan bu...\n",
            "208145     T-SICU nsg note\\nneuro- pt following commands at times and able to speak his name when asked. pt told where he was and situation was explained. pt thought the year was \"[**2107**]\". good hand grasp and can wiggle toes. mitts applied due to pt gra...\n",
            "678619     NPN 7p-7am\\n\\nROS: See carevue for exact data.\\n\\nN: Pt arrived back from OR at 7pm. Pt still paralyzed, becoming hyperdynamic, started on propofol for better sedation. When lightened pt will open her eyes, but not following commands. No purposef...\n",
            "550490     NPN 0700-1900\\n[**Name (NI) **] pt intact. cont to c/o pain with movement. pain consult done and recommended basal rate which team was not comfortable with. While pt does often yell out in pain it is associated with movement and he is often drift...\n",
            "436903     NPN: 7p-7a\\n\\nNeuro: Pt is A + O x 4, following all commands, slow to respond to questions, coarse wraspy voice, MAE's, PERRLA 3mm and brisk, denies paresthesias.\\n\\nPain: Methadone gabapentin and roxicet PO with fair tol, primary c/o pain in in ...\n",
            "436909     T/SICU Nursing Admission Note\\n55 year old male presents to [**Hospital1 40**] via OSH s/p fall from ladder where he was trimming trees with the ladder propped in the bed of his truck and up against the tree. Multiple thoracic and lumbar fracture...\n",
            "590132     NPN (1900-0700) Review of Systems:\\n\\nNeuro: Pt remains confused, oriented to person only. Reoriented with little effect. PERRL. MAE. Pt c/o of pain and moans, Pt medicated with IV MSO4 c releif. Pt also c episodes of agitation and yelling out, p...\n",
            "527167     NPN 7a-7p\\n\\nEvents: Wean off pressure support; tol decrease in PEEP from 10 to 8cm H2O---> blood gas WNL's. Tol further decrease in PEEP from 8 to 5 cmH2O----> blood gas WNL's. Tol decrease in Psupp from 15 to 10. Slight increase in RR, Slight d...\n",
            "590133     [** 1196**] PROGRESS NOTE\\nNEURO: Alert to voice.  Communicates via nodding and gesturing wuth right hand.  Left side remains with minimal spontaneous movement.  Localizes to stimuli. Able to fully open right eye and half of left eye. Pupils 3mm/...\n",
            "735704     Altered Neuro Status\\n\\nPt occasionally opens eyes, moves left arm purposefully, moves left leg. Right side moved on bed x1-otherwise only extends to pain. No commands followed. Cough and gag weak. PERLA 3mm. Cervical collar intact. Dilantin and ...\n",
            "568143     TSICU NPN:\\nNEURO: Alert and mouthing words appropriately.  Bilat. hearing aides intact and functional. Pt. denies any pain - no pain meds given.  Easily arousable to voice. MAE. PERL 3mm and brisk. Cervical collar on and halo still on.\\nCV: Tmax...\n",
            "483558     T/SICu NSG NOTE\\n0700>>1900\\n\\nEVENTS: cervical MRI deferred for now per Dr [**Last Name (STitle) 872**]\\n        fever; positive for Klebsiella in sputum culture> ancef\\n        confusion and delirium\\n\\nNEURO: patient is inconsistent in orienta...\n",
            "483580     nursing progress note\\n\\nneuro: pt remains sedated w/ propofol, waking through at times, moving all extrem strongly. perrla, 3-4mm and accomodating.  no following of commands, turns head in direction of voice, no communication.  given prn doses o...\n",
            "302189     NPN 7am-7pm\\n\\nROS: See carevue for exact data and vital signs.\\n\\nN: Pt on ativan and fentanyl q2 hrs for comfort. Pupils bilat equal and reactive. Pt will follow commands inconsistently. Difficult to assess appropriateness, At times will nod ye...\n",
            "494328     Admission Note:\\n\\npt admitted to hospital [**2116-10-12**] for surgery s/p thoracic metastatic tumor, posterior decompression stabilization segmental spinal T6-7, T2-9 fusion.\\n\\nReason for present illness: Pt is s/p chemo therapy for breast can...\n",
            "655615     neuro: Klonopin started for shaking tremors and has had several doses. Pt. Is much improved and has not required ativan. Pt. is calm and has slept extremley well. Awakes to stimuli and has very minimal tremulous episodes. Denies pain.\\ncv/resp co...\n",
            "655563     T/SICU NSG PROGRESS NOTE\\n0700>>1900\\n\\nEVENTS: PEEP weaned to 5cm and tolerated\\n        EPS consult w/change in meds to manage afib.\\n        diuresed\\n        increased stooling\\n        OOB>chair; PT rx resummed\\n\\nNEURO- alert/responds appro...\n",
            "655447     TSICU NPN:\\nNEURO: Opens eyes spontaneously, follows commands and MAE UE>LE. Denies pain. Able to mouth some words and nods or shakes head appropriately to questions. PERL 3mm and brisk.\\nCV: Tmax 100.5 po. Received on diltiazem gtt. and continue...\n",
            "1086606    NPN 1900-0730\\nNEURO: patient lightly sedated on propofol. when lightened opens eyes, follows commands and moves all extremities. nods appropriately to questions and attempts to mouth words. PERLA [**3-19**], briskly reactive dilantin as ordered....\n",
            "812432     T-SICU NPN 0700-1900\\n\\nNeuro: Sedated on propofol with prn ativan/roxicet with (+) effect.  Pupils 3-4mm, equal and briskly reactive.  +corneals, impaired gag, strong cough.  MAE's spontaneously, RUE>LUE non-purposefully.  No tracking noted, bli...\n",
            "188679     Tsicu npn\\nO: ROS\\n\\nNeuro: Pt remains restless when awake, thrashing and attempting to self-extubate. Cont to open eyes to speech and follow commands consistently attempting to mouth words and nodding appropriately but unable to calm pt down. At...\n",
            "188705     NPN, 1900-0700\\nneuro: opens eyes to voice, follows commands inconsistently. MAE equally and strongly.  Very anxious and restless at times, angry and attempting to self-extubate; med w/ ativan x 2 w/ fair effect. Fentanyl increased to 100mcg for ...\n",
            "658895     T-SICU NPN 0700-1900\\nPlease see carevue for specifics.\\nROS:\\nNeuro: Alert, this am, pt able to write \"[**2135**]\" and show 3 fingers when asked to show what number month it is; mouthing and gesturing appropriately to make needs known.  Nods yes...\n",
            "566137     TSICU Nursing Progress Note\\nNeuro - Pt remains intubated and sedated on propofol and fentanyl gtts.  When lightened pt will MAE's purposefully, however will not follow commands or open eyes to any stimuli.  Gag and cough remain intact.  PERRLA a...\n",
            "566143     Nursing Progress Note\\nReview of systems: see carevue for specific details\\n\\nSkin: head lac with staples intact-no drainage. chin with duoderm,old R CT site with intact DSD, Left flank in between skin folds-stage 2 pressure sore with allevyn pla...\n",
            "566121     T/SICU NSG NOTE\\n0700>>1900\\n\\nEVENTS: antibiotic therapy discontinued\\n        Tracheostomy mask over 24 hours; ventilator removed from room\\n\\n\\nNEURO- less responsive this shift: opening eyes this am but not since then. Rare spontaneous moveme...\n",
            "658909     TSICU Nursing Progress Note\\nNeuro - Alert, MAE's weakly, follows commands.  Pupils R round and reactive to light, Left with cataract slight reaction noted to light.  Intact cough and gag.\\n\\nCV - HR 80-100's sinus rhythm, no ectopy noted.  ABP 1...\n",
            "566139     TSICU Nursing Progress Note\\nNeuro - Pt remains intubated and sedated on propofol and fentanyl gtts.  When lightened for exam will move all extremities purposefully, however will not follow commands and will not open eyes to any stimulation.  Pt ...\n",
            "406589     NPN 1900-0700\\n\\nNeuro: Alert, pupils equal and reactive.  [**Last Name (ambig) 1001**], [**Last Name (ambig) **]>BLE's.  Strong gag and cough.  Conts. fentanyl patch as ordered with adequate pain control per pt, no prn pain meds. given overnoc. ...\n",
            "581778     TSICU NPN 0700-1900\\nNEURO: Remains off sedation-neuro exam essentially unchanged throughout day. Localizes with RUE,moves RLE on bed, and LUE/LLE triple flexion to nailbed pressure. Will hold up thumb or two fingers to command and to communicate...\n",
            "581766     TSICU NPN\\nNEURO: Pt remains sedated on Propofol for BP control/comfort. Q1 hr exams off Propofol-pt waxes/weans. Best exam showing pt consistantly following commands (squeezing hand, thumb's up, wiggles toes)and MAE's (R>L) and RUE demonstrates ...\n",
            "766816     T-SICU NPN 1900-0700\\nPlease see carevue for specifics.\\nROS:\\nNeuro: Sedated on propofol gtt, lightened for neuro checks.  Pupils 3-5mm, briskly reactive, L>R.  +corneals, gag and cough.  Moving RUE/RLE with good strength, withdraws LLE with occ...\n",
            "331833     TSICU Nursing Progress Note\\nNeuro - Pt remains off all sedation.  Receiving PRN pain medication.  Fentanyl 25mcg a few times this shift with + effect.  Continues to follow commands consistently with right side.  Wiggles toes, puts up thumb, and ...\n",
            "331829     TSICU Nursing Progress Note\\nNeuro - Pt remains intubated, off continuous sedation, intermittent fentanyl and midazolam for pain and sedation.  Started po ativan as well for sedation/anxiety.  Best neuro exam pt will open eyes to pain.  Does NOT ...\n",
            "904167     focus hemodynmics\\ndata: neuro: admitted to the sicu from the ed. unresponsive. pupils [**1-30**] and react sluggishly. no movement in legs  only feet move  when painful stimuli adminsistered. arms move to painful stimuli. head incision intact. g...\n",
            "766818     NPN: [**5-/2041**]\\nROS: SEE CAREVUE FOR DETAILS\\n\\nNEURO: Patient remains sedated on propofol. when lightened from sedation patient moves right extremities spontaneously & briskly with good strength. patient is purposeful with right arm to ETT. ...\n",
            "904283     nsg.progress notes:\\nsee flow sheet for specific:\\nNeuro:Unarousable,PERL,posturing with stimulation,extension of LE with pain.Started on Morphin GTT 5mg @ 1530 for extubation.\\nCV: NSR HR 65-75,no ectopy,BP wnl ,po lopressor with effect.Inj.lasi...\n",
            "1202129    NPN 7p-7am\\n\\nRos: See carevue for exact data\\n\\n76 yr old female admitted [**10-25**] for unwitnessed fall, small SDH\\n\\nN: Pt oriented to self only. Lethargic, sundowning, confused. Agitated, pulling at tubes and lines. Plan for MRI this evenin...\n",
            "921958     SICU NPN\\nPlease see admit note\\n\\nROS:\\nNeuro: Pt with improved neuro exam this PM. Eyes opening spontaneously, +corneals, pupils still sl uneven but reactive. Pt with strong cough/gag, able to tongue out bite block. Pt w/d all extremities to pa...\n",
            "230587     T/SICU NURSING PROGRESS NOTE\\n\\nPLEASE SEE CAREVUE FOR EXACT DATA\\n\\nREVIEW OF SYSTEMS:\\n\\nNEURO-Pt remains on continuous Pentobarbital infusion currently at 0.5mg/kg/hr, attempting to wean 0.5mg q8hours as tolerated per EEG, last weaned at 1600....\n",
            "230615     NPN:  Review of Systems\\nNeuro:  No sedatives or pain medication has been given.  Pt appears comfortable, HR and BP stable.  Occasional opening of eyes.  PERRL.  No movement of arms or legs.  No response w/ painful stimuli.  No seizures observed....\n",
            "131364     Nursing Progress Note 1900-0700 hours:\\n** DNR/DNI\\n\\n** allergy: sulfa, pcn, amoxicillin, lipitor, naprosyn, crstor, shellfish, chocolate\\n\\n** Access: R arm # 18 piv, L arm picc\\n\\n** Pls see FHP and admit note for data\\n\\nNEURO: A & O x3.  Tra...\n",
            "131384     T/SICU Nursing [**7-17**]\\nNeuro: [**Month/Year (2) 19**], complaining of anxiety through most of shift. Restless, resisting some care, constantly trying to pull at lines, etc. Follows commands consistently and is appropriate with non-verbal comm...\n",
            "183751     T/SICU NURSING PROGRESS NOTE\\n\\nPLEASE SEE CAREVUE FOR EXACT DATA:\\n\\nREVIEW OF SYSTEMS:\\n\\nNEURO-Pt sedated on Propofol at 50mcgs/hr and Fentanyl gtt at 50mcgs/hr. Off sedation pt will open eyes to voice and follow commands, becomes agitated and...\n",
            "183749     T/SICU Nursing [**7-16**]\\nEvents:\\n-Extubated. Trach & PEG cancelled.\\n\\nNeuro: Alert & oriented to self, [**Location (un) **], sometimes year, never hospital or situation. Ongoing visual hallucinations, often talking to a person named [**Name (...\n",
            "917192     Tsicu npn\\nO: ros\\n\\nNeuro: Sedated on propofol gtt and receiving ms04 and ativan prn w/ gd effect. Arousable on propofol w/ stimulation. Best neuro exam off propofol; MAE BUE > BLE, able to lift and hold arms off bed.  Nodding appropriately, abl...\n",
            "917182     TSICU NPN 7p-7a\\nS/O-\\n\\n[**Name (NI) **] pt sedated on propofol at 20mcgs/kg/min, when lightened for assessment and even occaisionally on the 20mcgs pt opens eyes to voice, more focused off the propofol yet eyes frequently deviating slightly upw...\n",
            "385544     TSICU NPN 1900-0700\\nNeuro: Pt A/Ox2-3 (self/place) slightly disoriented at times however re-orients easily. Follows commands appropriately and MAE's. No c/o pain at all overnight only reports slight discomfort at abd incisional site and 1mg IV D...\n",
            "838599     0700-1900\\nSee carview for details:\\n\\nNeuro:  Opens eyes to voice and stimulation.  MAE.  Follows commands although at times uncooperative.  Oriented to self, hospital, month and year.\\n\\nPain: Fentanyl gtts weaned off.  To start prn Fentanyl IV...\n",
            "409231     Nursing Admission Note\\n\\n69 y.o male  Allergie: Shellfish, NKDA\\n\\nPMH: Triple A \"95\"\\n     Mi in  \"84 &86\" with angioplasty, Another MI ?87-88 with angioplasty and stent placement. Hx of kidney stones, Anxiety/panic d/o. Hx of heavy smoker, alc...\n",
            "409301     NPN: [**7-/2108**]\\nROS: see carevue details\\n\\nNEURO: cont. to open eyes to voice. cont. on EEG monitoring. cont. on valproate, dilantin, and keppra. does not follow commands. withdraws to pain with lower extremities. ?focal seizure this am with...\n",
            "592552     TSICU NPN 7a-7p:\\n\\nReview of Systems:\\n\\nNeuro: Alert and interactive. Follows commands. MAE well and purposefully. Not oriented this AM and periodically throughout the day, unable to calm pt down-talking around tube, HR, RR, and BP up. Medicate...\n",
            "592558     SICU NPN\\nPt remains in the SICU s/p perforated diverticulum, c/b sepsis, resp failure, ATN.....\\n\\nNeuro: Pt much more oriented today, speech very clear. Pt able to stand with assist of PT/OT X2 today; Pt denies any pain, medicated with tylenol ...\n",
            "161962     neuro: febrile 100.7. pt sedated on propofol @ 25mck/kg/min and fentanyl @ 50mcg/kg/min. Weakly withdraws to painful stimuli to upper extremties bilaterally. Pupils PERL but sluggish. Pt not following commands. Opens eyes with painful stimuli. Co...\n",
            "161965     Nursing Admission Note\\n\\nPt admitted to ED with c/o week long RLE swelling. Pt has had baseline swelling since Cabg in 00 but now worsening. Pt also c/o SOB with non-productive cough. Lactate 7.2 on arrival. Resp decompensation. Intubated requir...\n",
            "638734     NPN 7a-7p\\n\\nevents- vent weaned to Peep 5 ps 8 on Cpap. tol well. diuresed. cont to be febrile.\\n\\nneuro- pt on 25mcg fent /hr. tol pain well.  is able to communicate pain by nodding. refuses fent bolus at times. follows commands, MAE. perl. tra...\n",
            "779131     Admission Note\\n\\nPt is a 42 yo male admitted to the TSICU for serial Hct checks (q 4 hrs) for a grade II splenic laceration. Pt was \"playing rough\" with a friend while in a pre-release program from [**Location (un) 4161**]Jail 3 days ago. Pt not...\n",
            "472427     ***TSICU NURSING PROGRESS NOTE 7A-7P***\\n--please see carevue for exact data--\\n\\nEVENTS: (1)pt extubated this AM->currently on face tent 50% FiO2 (2)Midazolam & Fentanyl gtts discontinued (3)A-line discontinued\\n\\nROS:\\n\\nNEURO: pt on Ketamine g...\n",
            "452634     Nursing Progress Note\\nSee Carevue for specific data.\\n\\nSignificant Events: Pt had CT scan done in AM: remains unchanged.  [**Last Name (un) 1547**] bolt removed by neuro-[**Doctor First Name 130**] team: no longer monitoring ICP/CPP d/t stable ...\n",
            "871578     NPN:\\n\\nEVENTS: Call out to floor pending eval from thoracic team---> gradual decompensation in respiratory function since discontinuing epidural---> tachypnea and tachycardia associated with uncontrolled pain to R chest wall---> pt will remain i...\n",
            "90359      TSICU NPN  0700-1900\\nEVENTS:\\n\\nBronch 0800 -- minimal secretions, repaired site intact.\\n\\nAt 0900, pt noted to be sitting straight up in bed, SATS decreasing to low 80's. ET tube intact, breath sounds present bilaterally. Pt continued to furth...\n",
            "1199560    Nursing Progress Note 0700-1900\\nReview of Systems:\\n\\nNeuro: Pt slept until am, then AAO X [**1-10**]. Pt OOB to chair by standing and shuffling a few steps, requiring great encouragement and freq resting. He also transferred to commode with min...\n",
            "912885     TSICU NPN 0700-1900\\nREVIEW OF SYSTEMS:\\n\\nNEURO: Lightly sedated on Propofol @ 30mcg/kg/min. Pt opens eyes to voice, following commands. Extremities weak, moves on bed when asked. Positive cough and gag. Pupils 3mm, reactive to light (left pupil...\n",
            "114415     Nursing Note: 0700-1900 pt full code.\\n\\nNeuro: pt currently sedated versed 3mg/hr, fentanyl 350mcs/hr. daily wake up done at 1300. versed was off and fentanyl rate reduced. pt did not open eyes, but nodded head in reponse to stimulation and voic...\n",
            "985309     NPN [**8-/2113**]\\nEVENTS: patient to CT for chest scan this am to evaluate hemothorax. CT placed this afternoon > patient was sedated with 150 mcg fentanyl and 2mg versed (in divided doses over 1.5 hrs). patient became apneic and O2 sat dropped ...\n",
            "503146     NPN 0700-1900\\nPLEASE SEEK CAREVUE FOR SPECIFIC DETAILS\\n\\nEVENTS:  Extubated late this am with no complications. Pt slow to arouse and required encouragement to C/DB, however has improved greatly  as day progressed. Initial ABG sent post-extubat...\n",
            "428568     NPN, 1900-0700\\nneuro: paralytic off 2200, fentanyl off 0200.  Pt has slowly awakened: eyes open to voice command, or gentle physical prompt. Localizes to sternal rub. Disconjugate gaze, no tracking; PERRLA, no corneal rxcs. Has not moved except ...\n",
            "918699     Nursing Progress Note\\nSee Carevue for specifics\\n\\nNeuro:AOX3. pleasant and cooperative with care. PERRL. Able to lift and hold all extremities for a few seconds. Generalized weakness.PT continues to follow. Pt reports abdominal incisional pain ...\n",
            "171905     TSICU Nursing Progress Note\\nEvents: Ileoscopy at bedside.\\n\\nNeuro - When able to have translator pt is A&Ox3.  MAE's to command.  Able to communicate needs with gesturing.  Reports pain in abdomen.  given 2mg dilaudid x2 with + effect.  OOB to ...\n",
            "831063     npn 7p-7a (please also see carevue flownotes for objective data)\\n\\n37M w/ crohn's dz, EC fistula, peristomal abcess, now s/p ileostomy resection and re-site\\nAdmitted to T-SICU post-op due to pain control, high narcotic requirements\\n\\n[**9-20**...\n",
            "171893     Nursing Progress Note:\\nPlease refer to CareVue for details.\\n   Pt alert; unable to assess orientation at times d/t language barrier (pt [**Name (NI) **] speaking only; able to say \"pain\" and \"cold\"). Interpreter called x2 to discuss extubation,...\n",
            "1128153    T-SICU NPN 1900-0700\\n\\nNeuro: Sedated on propofol gtt; dilaudid 1mg q2-3hrs prn overnoc for pain with (+) effect. Opens eyes to command and sticks out tongue to command inconsistently, localizes with extremities; when lightened, becomes quickly ...\n",
            "831060     Nursing (0700-1900)\\nSee flowsheet for details.\\n\\nOverall pt. is slowly improving in terms of his pain; today was a good day.  Pain level has been \"6 1/2-8 [**12-21**]\" throughout shift (this is tolerable for him) with one exception - at 4pm his...\n",
            "Name: TEXT, dtype: object\n"
          ]
        }
      ]
    },
    {
      "cell_type": "code",
      "source": [
        "print(balanced_data.head(200))"
      ],
      "metadata": {
        "id": "cemrUSU8wjMD",
        "outputId": "7706b53d-0b53-4bc1-9112-b67b994b2097",
        "colab": {
          "base_uri": "https://localhost:8080/"
        }
      },
      "execution_count": 125,
      "outputs": [
        {
          "output_type": "stream",
          "name": "stdout",
          "text": [
            "          ROW_ID  SUBJECT_ID   CGID  \\\n",
            "925738   1296910        2649  17704   \n",
            "757380   1341919        6055  19087   \n",
            "1077316  1301104        3018  15355   \n",
            "925728   1296918        2649  18792   \n",
            "502702   1443443       13871  17765   \n",
            "...          ...         ...    ...   \n",
            "171905   1366731        7801  19087   \n",
            "831063   1657178       30750  14605   \n",
            "171893   1366712        7801  14418   \n",
            "1128153  1306703        3425  15355   \n",
            "831060   1657179       30750  18522   \n",
            "\n",
            "                                                      TEXT  HADM_ID  \\\n",
            "925738   T/SICU Nursing Progress Note\\nS: \"Take it easy...   197327   \n",
            "757380   TSICU Nursing Progress Note\\nNeuro - Remains i...   177723   \n",
            "1077316  T-SICU admission note [**2122**]-0700\\n60yo ma...   160704   \n",
            "925728   TSICU NPN 11p-7a\\nS/o -\\n[**Name (NI) **] pt s...   197327   \n",
            "502702   SOCIAL WORK NOTE:\\n\\nSpoke with pt's family to...   149004   \n",
            "...                                                    ...      ...   \n",
            "171905   TSICU Nursing Progress Note\\nEvents: Ileoscopy...   139115   \n",
            "831063   npn 7p-7a (please also see carevue flownotes f...   145962   \n",
            "171893   Nursing Progress Note:\\nPlease refer to CareVu...   139115   \n",
            "1128153  T-SICU NPN 1900-0700\\n\\nNeuro: Sedated on prop...   158813   \n",
            "831060   Nursing (0700-1900)\\nSee flowsheet for details...   145962   \n",
            "\n",
            "         ICUSTAY_ID      LOS GENDER  EXPIRE_FLAG  DRG_CODE  \\\n",
            "925738       271014   5.7028      M            0         1   \n",
            "757380       248905   4.4081      M            0         1   \n",
            "1077316      283932   2.0139      M            0         1   \n",
            "925728       266069   2.9280      M            0         1   \n",
            "502702       240789  13.8914      M            0         1   \n",
            "...             ...      ...    ...          ...       ...   \n",
            "171905       232894   3.0228      F            0      2213   \n",
            "831063       219972   3.0955      M            0      2213   \n",
            "171893       232894   3.0228      F            0      2213   \n",
            "1128153      240691   1.8645      M            0      2213   \n",
            "831060       219972   3.0955      M            0      2213   \n",
            "\n",
            "                                               DESCRIPTION  num_of_notes  \\\n",
            "925738   CRANIOTOMY AGE >17 WITH COMPLICATIONS, COMORBI...             6   \n",
            "757380   CRANIOTOMY AGE >17 WITH COMPLICATIONS, COMORBI...             6   \n",
            "1077316  CRANIOTOMY AGE >17 WITH COMPLICATIONS, COMORBI...             4   \n",
            "925728   CRANIOTOMY AGE >17 WITH COMPLICATIONS, COMORBI...             4   \n",
            "502702   CRANIOTOMY AGE >17 WITH COMPLICATIONS, COMORBI...             9   \n",
            "...                                                    ...           ...   \n",
            "171905                Major Small & Large Bowel Procedures             8   \n",
            "831063                Major Small & Large Bowel Procedures             4   \n",
            "171893                Major Small & Large Bowel Procedures             8   \n",
            "1128153               Major Small & Large Bowel Procedures             6   \n",
            "831060                Major Small & Large Bowel Procedures             4   \n",
            "\n",
            "         num_of_conditions  num_search_words  \n",
            "925738               595.0                10  \n",
            "757380               595.0                14  \n",
            "1077316              595.0                12  \n",
            "925728               595.0                12  \n",
            "502702               595.0                10  \n",
            "...                    ...               ...  \n",
            "171905               403.0                18  \n",
            "831063               403.0                13  \n",
            "171893               403.0                20  \n",
            "1128153              403.0                16  \n",
            "831060               403.0                12  \n",
            "\n",
            "[200 rows x 14 columns]\n"
          ]
        }
      ]
    },
    {
      "cell_type": "markdown",
      "source": [
        "Save to CSV"
      ],
      "metadata": {
        "id": "6hGujs3Fn8Mb"
      }
    },
    {
      "cell_type": "code",
      "source": [
        "# path and name of the cvs file \n",
        "PATH_TO_SAVE = \"/content/drive/MyDrive/NIH/Data/\"\n",
        "name_file_to_save = 'NOTES_NURSING_TRAJECTORIES_TSICU_test.csv'\n",
        "balanced_data.to_csv(PATH_TO_SAVE+name_file_to_save,index=False)"
      ],
      "metadata": {
        "id": "metEeEnan7n0"
      },
      "execution_count": 126,
      "outputs": []
    },
    {
      "cell_type": "markdown",
      "source": [
        "Tokenized words"
      ],
      "metadata": {
        "id": "UU8xrEkoGzNi"
      }
    },
    {
      "cell_type": "code",
      "source": [
        "#text = df_notes_TSICU['TEXT'].str.cat(sep=' ')\n",
        "#words = nltk.word_tokenize(text)  # very slow"
      ],
      "metadata": {
        "id": "YlONNwDeGy9a"
      },
      "execution_count": 111,
      "outputs": []
    },
    {
      "cell_type": "markdown",
      "source": [
        "Count words in notes"
      ],
      "metadata": {
        "id": "gyFTOEALCbxX"
      }
    },
    {
      "cell_type": "code",
      "source": [
        "#stopwords = nltk.corpus.stopwords.words('english')\n",
        "#words = [word.lower() for word in words if word.lower() not in stopwords and re.match(r'\\b\\w+\\b', word)]  # also slow but only kinda slow\n",
        "#word_counts = Counter(words)\n",
        "#most_common_words = word_counts.most_common(300)"
      ],
      "metadata": {
        "id": "jtTWXQjy-_Fw"
      },
      "execution_count": 112,
      "outputs": []
    },
    {
      "cell_type": "code",
      "source": [
        "#print(\"Rank\\tWord\\t\\t\\tCount\")\n",
        "#for rank, word_count in enumerate(most_common_words, start=1):\n",
        "  #word, count = word_count\n",
        "  #print(f\"{rank}\\t{word.ljust(20)}\\t{count}\")"
      ],
      "metadata": {
        "id": "vtPdb3_iB5T0"
      },
      "execution_count": 113,
      "outputs": []
    },
    {
      "cell_type": "markdown",
      "source": [
        "Emotional words"
      ],
      "metadata": {
        "id": "2vLviAGyJmdQ"
      }
    },
    {
      "cell_type": "code",
      "source": [
        "#emotional_words = []\n",
        "#for word_count in most_common_words:\n",
        "  #word = word_count[0]\n",
        "  #synsets = wn.synsets(word)\n",
        "  #if synsets:\n",
        "    #senti_synset = swn.senti_synset(synsets[0].name())\n",
        "    #if senti_synset.pos_score() > 0.45 or senti_synset.neg_score() > 0.45:\n",
        "      #emotional_words.append(word)\n",
        "\n",
        "#emotional_words"
      ],
      "metadata": {
        "id": "4ATr_HSAJlpK"
      },
      "execution_count": 114,
      "outputs": []
    },
    {
      "cell_type": "code",
      "source": [
        "#from textblob import TextBlob\n",
        "#emotional_words = []\n",
        "#for word_count in most_common_words:\n",
        "  #word = word_count[0]\n",
        "  #tb = TextBlob(word)\n",
        "  #sentiment = tb.sentiment.polarity\n",
        "  #if abs(sentiment) > 0.35:\n",
        "    #emotional_words.append(word)\n",
        "\n",
        "#emotional_words"
      ],
      "metadata": {
        "id": "ZFtCDPOyRPcq"
      },
      "execution_count": 115,
      "outputs": []
    }
  ]
}