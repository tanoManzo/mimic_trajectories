{
  "nbformat": 4,
  "nbformat_minor": 0,
  "metadata": {
    "colab": {
      "provenance": [],
      "include_colab_link": true
    },
    "kernelspec": {
      "name": "python3",
      "display_name": "Python 3"
    },
    "language_info": {
      "name": "python"
    }
  },
  "cells": [
    {
      "cell_type": "markdown",
      "metadata": {
        "id": "view-in-github",
        "colab_type": "text"
      },
      "source": [
        "<a href=\"https://colab.research.google.com/github/tanoManzo/mimic_trajectories/blob/dev/MIMIC_TRAJECTORY_embeddings_03_collect_data.ipynb\" target=\"_parent\"><img src=\"https://colab.research.google.com/assets/colab-badge.svg\" alt=\"Open In Colab\"/></a>"
      ]
    },
    {
      "cell_type": "markdown",
      "source": [
        "# Data Collection, Embeddings and Attitude"
      ],
      "metadata": {
        "id": "5CSBbeSkyRmq"
      }
    },
    {
      "cell_type": "code",
      "source": [
        "! pip install transformers -q"
      ],
      "metadata": {
        "id": "mcvHX_-AewgN"
      },
      "execution_count": 94,
      "outputs": []
    },
    {
      "cell_type": "code",
      "execution_count": 95,
      "metadata": {
        "id": "35BpcyS4eWHw"
      },
      "outputs": [],
      "source": [
        "import numpy as np\n",
        "import pandas as pd\n",
        "import torch\n",
        "import torch.nn.functional as F\n",
        "from transformers import AutoTokenizer, AutoModel\n",
        "from transformers import AutoModelForSequenceClassification"
      ]
    },
    {
      "cell_type": "markdown",
      "source": [
        "load nursing notes subject-caregiver-chartdate"
      ],
      "metadata": {
        "id": "2YFjrsu1tkB2"
      }
    },
    {
      "cell_type": "code",
      "source": [
        "from google.colab import drive\n",
        "drive.mount('/content/drive')"
      ],
      "metadata": {
        "colab": {
          "base_uri": "https://localhost:8080/"
        },
        "id": "GKFaijaIsKBU",
        "outputId": "56cac709-f5c9-44a8-b7de-67728652e3fb"
      },
      "execution_count": 96,
      "outputs": [
        {
          "output_type": "stream",
          "name": "stdout",
          "text": [
            "Drive already mounted at /content/drive; to attempt to forcibly remount, call drive.mount(\"/content/drive\", force_remount=True).\n"
          ]
        }
      ]
    },
    {
      "cell_type": "code",
      "source": [
        "notes_path = \"/content/drive/MyDrive/NIH/Data/\"\n",
        "notes_name = \"NOTES_NURSING_TRAJECTORIES_01.csv\"\n",
        "df_notes = pd.read_csv(notes_path+notes_name)\n",
        "df_notes.info()"
      ],
      "metadata": {
        "colab": {
          "base_uri": "https://localhost:8080/"
        },
        "id": "sSNmSwI5Ix2P",
        "outputId": "0d089780-1d88-4b12-8bd8-bce8e810ef68"
      },
      "execution_count": 97,
      "outputs": [
        {
          "output_type": "stream",
          "name": "stdout",
          "text": [
            "<class 'pandas.core.frame.DataFrame'>\n",
            "RangeIndex: 531675 entries, 0 to 531674\n",
            "Data columns (total 5 columns):\n",
            " #   Column      Non-Null Count   Dtype \n",
            "---  ------      --------------   ----- \n",
            " 0   ROW_ID      531675 non-null  int64 \n",
            " 1   SUBJECT_ID  531675 non-null  int64 \n",
            " 2   CGID        531675 non-null  int64 \n",
            " 3   CHARTDATE   531675 non-null  object\n",
            " 4   TEXT        531675 non-null  object\n",
            "dtypes: int64(3), object(2)\n",
            "memory usage: 20.3+ MB\n"
          ]
        }
      ]
    },
    {
      "cell_type": "code",
      "source": [
        "patients = \"PATIENTS.csv\"\n",
        "df_patients = pd.read_csv(notes_path+patients)\n",
        "df_patients.info()\n"
      ],
      "metadata": {
        "id": "oz7EmtbWQC31",
        "colab": {
          "base_uri": "https://localhost:8080/"
        },
        "outputId": "759f5894-042f-473e-8e3d-036b8f43a5b1"
      },
      "execution_count": 98,
      "outputs": [
        {
          "output_type": "stream",
          "name": "stdout",
          "text": [
            "<class 'pandas.core.frame.DataFrame'>\n",
            "RangeIndex: 46520 entries, 0 to 46519\n",
            "Data columns (total 8 columns):\n",
            " #   Column       Non-Null Count  Dtype \n",
            "---  ------       --------------  ----- \n",
            " 0   ROW_ID       46520 non-null  int64 \n",
            " 1   SUBJECT_ID   46520 non-null  int64 \n",
            " 2   GENDER       46520 non-null  object\n",
            " 3   DOB          46520 non-null  object\n",
            " 4   DOD          15759 non-null  object\n",
            " 5   DOD_HOSP     9974 non-null   object\n",
            " 6   DOD_SSN      13378 non-null  object\n",
            " 7   EXPIRE_FLAG  46520 non-null  int64 \n",
            "dtypes: int64(3), object(5)\n",
            "memory usage: 2.8+ MB\n"
          ]
        }
      ]
    },
    {
      "cell_type": "code",
      "source": [
        "ward_name = \"ICUSTAYS.csv\"\n",
        "df_ward = pd.read_csv(notes_path+ward_name)\n",
        "df_ward.info()\n",
        "df_ward['FIRST_CAREUNIT'].unique()"
      ],
      "metadata": {
        "id": "Ti0D5GvITEpa",
        "colab": {
          "base_uri": "https://localhost:8080/"
        },
        "outputId": "1f6ec441-3659-4b8a-86cd-3b41f128e64c"
      },
      "execution_count": 99,
      "outputs": [
        {
          "output_type": "stream",
          "name": "stdout",
          "text": [
            "<class 'pandas.core.frame.DataFrame'>\n",
            "RangeIndex: 61532 entries, 0 to 61531\n",
            "Data columns (total 12 columns):\n",
            " #   Column          Non-Null Count  Dtype  \n",
            "---  ------          --------------  -----  \n",
            " 0   ROW_ID          61532 non-null  int64  \n",
            " 1   SUBJECT_ID      61532 non-null  int64  \n",
            " 2   HADM_ID         61532 non-null  int64  \n",
            " 3   ICUSTAY_ID      61532 non-null  int64  \n",
            " 4   DBSOURCE        61532 non-null  object \n",
            " 5   FIRST_CAREUNIT  61532 non-null  object \n",
            " 6   LAST_CAREUNIT   61532 non-null  object \n",
            " 7   FIRST_WARDID    61532 non-null  int64  \n",
            " 8   LAST_WARDID     61532 non-null  int64  \n",
            " 9   INTIME          61532 non-null  object \n",
            " 10  OUTTIME         61522 non-null  object \n",
            " 11  LOS             61522 non-null  float64\n",
            "dtypes: float64(1), int64(6), object(5)\n",
            "memory usage: 5.6+ MB\n"
          ]
        },
        {
          "output_type": "execute_result",
          "data": {
            "text/plain": [
              "array(['MICU', 'CCU', 'NICU', 'TSICU', 'SICU', 'CSRU'], dtype=object)"
            ]
          },
          "metadata": {},
          "execution_count": 99
        }
      ]
    },
    {
      "cell_type": "code",
      "source": [
        "drg = \"DRGCODES.csv\"\n",
        "df_drg = pd.read_csv(notes_path+drg)\n",
        "df_drg.info()"
      ],
      "metadata": {
        "id": "PFLocK_T-w_x",
        "outputId": "f7721694-f0a4-4b01-bc61-2b8d644d9932",
        "colab": {
          "base_uri": "https://localhost:8080/"
        }
      },
      "execution_count": 100,
      "outputs": [
        {
          "output_type": "stream",
          "name": "stdout",
          "text": [
            "<class 'pandas.core.frame.DataFrame'>\n",
            "RangeIndex: 125557 entries, 0 to 125556\n",
            "Data columns (total 8 columns):\n",
            " #   Column         Non-Null Count   Dtype  \n",
            "---  ------         --------------   -----  \n",
            " 0   ROW_ID         125557 non-null  int64  \n",
            " 1   SUBJECT_ID     125557 non-null  int64  \n",
            " 2   HADM_ID        125557 non-null  int64  \n",
            " 3   DRG_TYPE       125557 non-null  object \n",
            " 4   DRG_CODE       125557 non-null  int64  \n",
            " 5   DESCRIPTION    125494 non-null  object \n",
            " 6   DRG_SEVERITY   66634 non-null   float64\n",
            " 7   DRG_MORTALITY  66634 non-null   float64\n",
            "dtypes: float64(2), int64(4), object(2)\n",
            "memory usage: 7.7+ MB\n"
          ]
        }
      ]
    },
    {
      "cell_type": "markdown",
      "source": [
        "## **Data Preprocessing**"
      ],
      "metadata": {
        "id": "qdVDhESt91i2"
      }
    },
    {
      "cell_type": "markdown",
      "source": [
        "analyzing words in future dataset"
      ],
      "metadata": {
        "id": "saHXQ4P-6zpR"
      }
    },
    {
      "cell_type": "code",
      "source": [
        "!pip install nltk"
      ],
      "metadata": {
        "id": "kBFj_8TI-2MG",
        "colab": {
          "base_uri": "https://localhost:8080/"
        },
        "outputId": "8f24ac44-46d9-42ef-9a48-328cc4660ac2"
      },
      "execution_count": 101,
      "outputs": [
        {
          "output_type": "stream",
          "name": "stdout",
          "text": [
            "Looking in indexes: https://pypi.org/simple, https://us-python.pkg.dev/colab-wheels/public/simple/\n",
            "Requirement already satisfied: nltk in /usr/local/lib/python3.10/dist-packages (3.8.1)\n",
            "Requirement already satisfied: click in /usr/local/lib/python3.10/dist-packages (from nltk) (8.1.3)\n",
            "Requirement already satisfied: joblib in /usr/local/lib/python3.10/dist-packages (from nltk) (1.2.0)\n",
            "Requirement already satisfied: regex>=2021.8.3 in /usr/local/lib/python3.10/dist-packages (from nltk) (2022.10.31)\n",
            "Requirement already satisfied: tqdm in /usr/local/lib/python3.10/dist-packages (from nltk) (4.65.0)\n"
          ]
        }
      ]
    },
    {
      "cell_type": "markdown",
      "source": [
        "imports for counting words"
      ],
      "metadata": {
        "id": "P8-8j1UnCo4n"
      }
    },
    {
      "cell_type": "code",
      "source": [
        "import re\n",
        "from collections import Counter\n",
        "\n",
        "from sklearn.feature_extraction.text import TfidfVectorizer\n",
        "\n",
        "import nltk\n",
        "nltk.download('punkt')\n",
        "nltk.download('stopwords')\n",
        "nltk.download('wordnet')\n",
        "nltk.download('sentiwordnet')\n",
        "from nltk.corpus import wordnet as wn\n",
        "from nltk.corpus import sentiwordnet as swn\n",
        "from nltk.tokenize import word_tokenize\n",
        "from nltk.corpus import stopwords"
      ],
      "metadata": {
        "id": "nPjR7flk_xYx",
        "colab": {
          "base_uri": "https://localhost:8080/"
        },
        "outputId": "8f4cea52-4947-4aa5-f5de-f3527f33f7b8"
      },
      "execution_count": 102,
      "outputs": [
        {
          "output_type": "stream",
          "name": "stderr",
          "text": [
            "[nltk_data] Downloading package punkt to /root/nltk_data...\n",
            "[nltk_data]   Package punkt is already up-to-date!\n",
            "[nltk_data] Downloading package stopwords to /root/nltk_data...\n",
            "[nltk_data]   Package stopwords is already up-to-date!\n",
            "[nltk_data] Downloading package wordnet to /root/nltk_data...\n",
            "[nltk_data]   Package wordnet is already up-to-date!\n",
            "[nltk_data] Downloading package sentiwordnet to /root/nltk_data...\n",
            "[nltk_data]   Package sentiwordnet is already up-to-date!\n"
          ]
        }
      ]
    },
    {
      "cell_type": "markdown",
      "source": [
        "Grab tsicu notes, merge with drg codes"
      ],
      "metadata": {
        "id": "uLpw8TKsChMf"
      }
    },
    {
      "cell_type": "code",
      "source": [
        "# get new type of notes (TSICU)\n",
        "df_notes_TSICU = df_notes.merge(df_ward.drop('ROW_ID', axis=1), on='SUBJECT_ID')\n",
        "df_notes_TSICU = df_notes_TSICU.merge(df_patients.drop('ROW_ID', axis=1), on='SUBJECT_ID')\n",
        "df_notes_TSICU = df_notes_TSICU.merge(df_drg[['HADM_ID','DRG_CODE','DESCRIPTION']], on=['HADM_ID'])\n",
        "df_notes_TSICU = df_notes_TSICU[(df_notes_TSICU['FIRST_CAREUNIT'] == 'TSICU') & (df_notes_TSICU['LAST_CAREUNIT'] == 'TSICU')].drop_duplicates()\n",
        "df_notes_TSICU.info()\n",
        "df_notes_TSICU.head(5)\n",
        "#print(df_drg[df_drg.duplicated(['HADM_ID'], keep=False)])"
      ],
      "metadata": {
        "id": "RfRbbiU85KqG",
        "colab": {
          "base_uri": "https://localhost:8080/",
          "height": 973
        },
        "outputId": "d1249a01-df51-4f20-b7c8-2d50ced34307"
      },
      "execution_count": 103,
      "outputs": [
        {
          "output_type": "stream",
          "name": "stdout",
          "text": [
            "<class 'pandas.core.frame.DataFrame'>\n",
            "Int64Index: 76081 entries, 5852 to 1502532\n",
            "Data columns (total 23 columns):\n",
            " #   Column          Non-Null Count  Dtype  \n",
            "---  ------          --------------  -----  \n",
            " 0   ROW_ID          76081 non-null  int64  \n",
            " 1   SUBJECT_ID      76081 non-null  int64  \n",
            " 2   CGID            76081 non-null  int64  \n",
            " 3   CHARTDATE       76081 non-null  object \n",
            " 4   TEXT            76081 non-null  object \n",
            " 5   HADM_ID         76081 non-null  int64  \n",
            " 6   ICUSTAY_ID      76081 non-null  int64  \n",
            " 7   DBSOURCE        76081 non-null  object \n",
            " 8   FIRST_CAREUNIT  76081 non-null  object \n",
            " 9   LAST_CAREUNIT   76081 non-null  object \n",
            " 10  FIRST_WARDID    76081 non-null  int64  \n",
            " 11  LAST_WARDID     76081 non-null  int64  \n",
            " 12  INTIME          76081 non-null  object \n",
            " 13  OUTTIME         76081 non-null  object \n",
            " 14  LOS             76081 non-null  float64\n",
            " 15  GENDER          76081 non-null  object \n",
            " 16  DOB             76081 non-null  object \n",
            " 17  DOD             39241 non-null  object \n",
            " 18  DOD_HOSP        23712 non-null  object \n",
            " 19  DOD_SSN         35796 non-null  object \n",
            " 20  EXPIRE_FLAG     76081 non-null  int64  \n",
            " 21  DRG_CODE        76081 non-null  int64  \n",
            " 22  DESCRIPTION     75826 non-null  object \n",
            "dtypes: float64(1), int64(9), object(13)\n",
            "memory usage: 13.9+ MB\n"
          ]
        },
        {
          "output_type": "execute_result",
          "data": {
            "text/plain": [
              "       ROW_ID  SUBJECT_ID   CGID   CHARTDATE  \\\n",
              "5852  1373553        8406  17765  2149-04-28   \n",
              "5853  1373550        8406  16140  2149-04-27   \n",
              "5854  1373547        8406  16140  2149-04-26   \n",
              "5855  1373567        8406  15659  2149-05-01   \n",
              "5856  1373633        8406  21570  2149-07-02   \n",
              "\n",
              "                                                   TEXT  HADM_ID  ICUSTAY_ID  \\\n",
              "5852  SOCIAL WORK NOTE:\\n\\nNew trauma pt on T-SICU f...   114444      239553   \n",
              "5853  SICU NPN\\nROS:\\nNeuro: Neuro exam unchanged th...   114444      239553   \n",
              "5854  SICU NPN\\nPt hemodynamicallly unstable today, ...   114444      239553   \n",
              "5855  T/SICU NSG PROGRESS NOTE.\\n0700>>[**2076**]\\n\\...   114444      239553   \n",
              "5856  Nursing Progress Note.\\n\\nCV: The pt has been ...   114444      239553   \n",
              "\n",
              "     DBSOURCE FIRST_CAREUNIT LAST_CAREUNIT  ...              OUTTIME      LOS  \\\n",
              "5852  carevue          TSICU         TSICU  ...  2149-05-22 14:04:55  26.6668   \n",
              "5853  carevue          TSICU         TSICU  ...  2149-05-22 14:04:55  26.6668   \n",
              "5854  carevue          TSICU         TSICU  ...  2149-05-22 14:04:55  26.6668   \n",
              "5855  carevue          TSICU         TSICU  ...  2149-05-22 14:04:55  26.6668   \n",
              "5856  carevue          TSICU         TSICU  ...  2149-05-22 14:04:55  26.6668   \n",
              "\n",
              "     GENDER                  DOB                  DOD             DOD_HOSP  \\\n",
              "5852      F  2117-06-28 00:00:00  2149-09-07 00:00:00  2149-09-07 00:00:00   \n",
              "5853      F  2117-06-28 00:00:00  2149-09-07 00:00:00  2149-09-07 00:00:00   \n",
              "5854      F  2117-06-28 00:00:00  2149-09-07 00:00:00  2149-09-07 00:00:00   \n",
              "5855      F  2117-06-28 00:00:00  2149-09-07 00:00:00  2149-09-07 00:00:00   \n",
              "5856      F  2117-06-28 00:00:00  2149-09-07 00:00:00  2149-09-07 00:00:00   \n",
              "\n",
              "                  DOD_SSN EXPIRE_FLAG DRG_CODE  \\\n",
              "5852  2149-09-07 00:00:00           1      483   \n",
              "5853  2149-09-07 00:00:00           1      483   \n",
              "5854  2149-09-07 00:00:00           1      483   \n",
              "5855  2149-09-07 00:00:00           1      483   \n",
              "5856  2149-09-07 00:00:00           1      483   \n",
              "\n",
              "                                            DESCRIPTION  \n",
              "5852  TRACHEOSTOMY WITH MECHANICAL VENTILATION 96+ H...  \n",
              "5853  TRACHEOSTOMY WITH MECHANICAL VENTILATION 96+ H...  \n",
              "5854  TRACHEOSTOMY WITH MECHANICAL VENTILATION 96+ H...  \n",
              "5855  TRACHEOSTOMY WITH MECHANICAL VENTILATION 96+ H...  \n",
              "5856  TRACHEOSTOMY WITH MECHANICAL VENTILATION 96+ H...  \n",
              "\n",
              "[5 rows x 23 columns]"
            ],
            "text/html": [
              "\n",
              "  <div id=\"df-13e73b5b-6299-4a4a-829c-d51896c69e95\">\n",
              "    <div class=\"colab-df-container\">\n",
              "      <div>\n",
              "<style scoped>\n",
              "    .dataframe tbody tr th:only-of-type {\n",
              "        vertical-align: middle;\n",
              "    }\n",
              "\n",
              "    .dataframe tbody tr th {\n",
              "        vertical-align: top;\n",
              "    }\n",
              "\n",
              "    .dataframe thead th {\n",
              "        text-align: right;\n",
              "    }\n",
              "</style>\n",
              "<table border=\"1\" class=\"dataframe\">\n",
              "  <thead>\n",
              "    <tr style=\"text-align: right;\">\n",
              "      <th></th>\n",
              "      <th>ROW_ID</th>\n",
              "      <th>SUBJECT_ID</th>\n",
              "      <th>CGID</th>\n",
              "      <th>CHARTDATE</th>\n",
              "      <th>TEXT</th>\n",
              "      <th>HADM_ID</th>\n",
              "      <th>ICUSTAY_ID</th>\n",
              "      <th>DBSOURCE</th>\n",
              "      <th>FIRST_CAREUNIT</th>\n",
              "      <th>LAST_CAREUNIT</th>\n",
              "      <th>...</th>\n",
              "      <th>OUTTIME</th>\n",
              "      <th>LOS</th>\n",
              "      <th>GENDER</th>\n",
              "      <th>DOB</th>\n",
              "      <th>DOD</th>\n",
              "      <th>DOD_HOSP</th>\n",
              "      <th>DOD_SSN</th>\n",
              "      <th>EXPIRE_FLAG</th>\n",
              "      <th>DRG_CODE</th>\n",
              "      <th>DESCRIPTION</th>\n",
              "    </tr>\n",
              "  </thead>\n",
              "  <tbody>\n",
              "    <tr>\n",
              "      <th>5852</th>\n",
              "      <td>1373553</td>\n",
              "      <td>8406</td>\n",
              "      <td>17765</td>\n",
              "      <td>2149-04-28</td>\n",
              "      <td>SOCIAL WORK NOTE:\\n\\nNew trauma pt on T-SICU f...</td>\n",
              "      <td>114444</td>\n",
              "      <td>239553</td>\n",
              "      <td>carevue</td>\n",
              "      <td>TSICU</td>\n",
              "      <td>TSICU</td>\n",
              "      <td>...</td>\n",
              "      <td>2149-05-22 14:04:55</td>\n",
              "      <td>26.6668</td>\n",
              "      <td>F</td>\n",
              "      <td>2117-06-28 00:00:00</td>\n",
              "      <td>2149-09-07 00:00:00</td>\n",
              "      <td>2149-09-07 00:00:00</td>\n",
              "      <td>2149-09-07 00:00:00</td>\n",
              "      <td>1</td>\n",
              "      <td>483</td>\n",
              "      <td>TRACHEOSTOMY WITH MECHANICAL VENTILATION 96+ H...</td>\n",
              "    </tr>\n",
              "    <tr>\n",
              "      <th>5853</th>\n",
              "      <td>1373550</td>\n",
              "      <td>8406</td>\n",
              "      <td>16140</td>\n",
              "      <td>2149-04-27</td>\n",
              "      <td>SICU NPN\\nROS:\\nNeuro: Neuro exam unchanged th...</td>\n",
              "      <td>114444</td>\n",
              "      <td>239553</td>\n",
              "      <td>carevue</td>\n",
              "      <td>TSICU</td>\n",
              "      <td>TSICU</td>\n",
              "      <td>...</td>\n",
              "      <td>2149-05-22 14:04:55</td>\n",
              "      <td>26.6668</td>\n",
              "      <td>F</td>\n",
              "      <td>2117-06-28 00:00:00</td>\n",
              "      <td>2149-09-07 00:00:00</td>\n",
              "      <td>2149-09-07 00:00:00</td>\n",
              "      <td>2149-09-07 00:00:00</td>\n",
              "      <td>1</td>\n",
              "      <td>483</td>\n",
              "      <td>TRACHEOSTOMY WITH MECHANICAL VENTILATION 96+ H...</td>\n",
              "    </tr>\n",
              "    <tr>\n",
              "      <th>5854</th>\n",
              "      <td>1373547</td>\n",
              "      <td>8406</td>\n",
              "      <td>16140</td>\n",
              "      <td>2149-04-26</td>\n",
              "      <td>SICU NPN\\nPt hemodynamicallly unstable today, ...</td>\n",
              "      <td>114444</td>\n",
              "      <td>239553</td>\n",
              "      <td>carevue</td>\n",
              "      <td>TSICU</td>\n",
              "      <td>TSICU</td>\n",
              "      <td>...</td>\n",
              "      <td>2149-05-22 14:04:55</td>\n",
              "      <td>26.6668</td>\n",
              "      <td>F</td>\n",
              "      <td>2117-06-28 00:00:00</td>\n",
              "      <td>2149-09-07 00:00:00</td>\n",
              "      <td>2149-09-07 00:00:00</td>\n",
              "      <td>2149-09-07 00:00:00</td>\n",
              "      <td>1</td>\n",
              "      <td>483</td>\n",
              "      <td>TRACHEOSTOMY WITH MECHANICAL VENTILATION 96+ H...</td>\n",
              "    </tr>\n",
              "    <tr>\n",
              "      <th>5855</th>\n",
              "      <td>1373567</td>\n",
              "      <td>8406</td>\n",
              "      <td>15659</td>\n",
              "      <td>2149-05-01</td>\n",
              "      <td>T/SICU NSG PROGRESS NOTE.\\n0700&gt;&gt;[**2076**]\\n\\...</td>\n",
              "      <td>114444</td>\n",
              "      <td>239553</td>\n",
              "      <td>carevue</td>\n",
              "      <td>TSICU</td>\n",
              "      <td>TSICU</td>\n",
              "      <td>...</td>\n",
              "      <td>2149-05-22 14:04:55</td>\n",
              "      <td>26.6668</td>\n",
              "      <td>F</td>\n",
              "      <td>2117-06-28 00:00:00</td>\n",
              "      <td>2149-09-07 00:00:00</td>\n",
              "      <td>2149-09-07 00:00:00</td>\n",
              "      <td>2149-09-07 00:00:00</td>\n",
              "      <td>1</td>\n",
              "      <td>483</td>\n",
              "      <td>TRACHEOSTOMY WITH MECHANICAL VENTILATION 96+ H...</td>\n",
              "    </tr>\n",
              "    <tr>\n",
              "      <th>5856</th>\n",
              "      <td>1373633</td>\n",
              "      <td>8406</td>\n",
              "      <td>21570</td>\n",
              "      <td>2149-07-02</td>\n",
              "      <td>Nursing Progress Note.\\n\\nCV: The pt has been ...</td>\n",
              "      <td>114444</td>\n",
              "      <td>239553</td>\n",
              "      <td>carevue</td>\n",
              "      <td>TSICU</td>\n",
              "      <td>TSICU</td>\n",
              "      <td>...</td>\n",
              "      <td>2149-05-22 14:04:55</td>\n",
              "      <td>26.6668</td>\n",
              "      <td>F</td>\n",
              "      <td>2117-06-28 00:00:00</td>\n",
              "      <td>2149-09-07 00:00:00</td>\n",
              "      <td>2149-09-07 00:00:00</td>\n",
              "      <td>2149-09-07 00:00:00</td>\n",
              "      <td>1</td>\n",
              "      <td>483</td>\n",
              "      <td>TRACHEOSTOMY WITH MECHANICAL VENTILATION 96+ H...</td>\n",
              "    </tr>\n",
              "  </tbody>\n",
              "</table>\n",
              "<p>5 rows × 23 columns</p>\n",
              "</div>\n",
              "      <button class=\"colab-df-convert\" onclick=\"convertToInteractive('df-13e73b5b-6299-4a4a-829c-d51896c69e95')\"\n",
              "              title=\"Convert this dataframe to an interactive table.\"\n",
              "              style=\"display:none;\">\n",
              "        \n",
              "  <svg xmlns=\"http://www.w3.org/2000/svg\" height=\"24px\"viewBox=\"0 0 24 24\"\n",
              "       width=\"24px\">\n",
              "    <path d=\"M0 0h24v24H0V0z\" fill=\"none\"/>\n",
              "    <path d=\"M18.56 5.44l.94 2.06.94-2.06 2.06-.94-2.06-.94-.94-2.06-.94 2.06-2.06.94zm-11 1L8.5 8.5l.94-2.06 2.06-.94-2.06-.94L8.5 2.5l-.94 2.06-2.06.94zm10 10l.94 2.06.94-2.06 2.06-.94-2.06-.94-.94-2.06-.94 2.06-2.06.94z\"/><path d=\"M17.41 7.96l-1.37-1.37c-.4-.4-.92-.59-1.43-.59-.52 0-1.04.2-1.43.59L10.3 9.45l-7.72 7.72c-.78.78-.78 2.05 0 2.83L4 21.41c.39.39.9.59 1.41.59.51 0 1.02-.2 1.41-.59l7.78-7.78 2.81-2.81c.8-.78.8-2.07 0-2.86zM5.41 20L4 18.59l7.72-7.72 1.47 1.35L5.41 20z\"/>\n",
              "  </svg>\n",
              "      </button>\n",
              "      \n",
              "  <style>\n",
              "    .colab-df-container {\n",
              "      display:flex;\n",
              "      flex-wrap:wrap;\n",
              "      gap: 12px;\n",
              "    }\n",
              "\n",
              "    .colab-df-convert {\n",
              "      background-color: #E8F0FE;\n",
              "      border: none;\n",
              "      border-radius: 50%;\n",
              "      cursor: pointer;\n",
              "      display: none;\n",
              "      fill: #1967D2;\n",
              "      height: 32px;\n",
              "      padding: 0 0 0 0;\n",
              "      width: 32px;\n",
              "    }\n",
              "\n",
              "    .colab-df-convert:hover {\n",
              "      background-color: #E2EBFA;\n",
              "      box-shadow: 0px 1px 2px rgba(60, 64, 67, 0.3), 0px 1px 3px 1px rgba(60, 64, 67, 0.15);\n",
              "      fill: #174EA6;\n",
              "    }\n",
              "\n",
              "    [theme=dark] .colab-df-convert {\n",
              "      background-color: #3B4455;\n",
              "      fill: #D2E3FC;\n",
              "    }\n",
              "\n",
              "    [theme=dark] .colab-df-convert:hover {\n",
              "      background-color: #434B5C;\n",
              "      box-shadow: 0px 1px 3px 1px rgba(0, 0, 0, 0.15);\n",
              "      filter: drop-shadow(0px 1px 2px rgba(0, 0, 0, 0.3));\n",
              "      fill: #FFFFFF;\n",
              "    }\n",
              "  </style>\n",
              "\n",
              "      <script>\n",
              "        const buttonEl =\n",
              "          document.querySelector('#df-13e73b5b-6299-4a4a-829c-d51896c69e95 button.colab-df-convert');\n",
              "        buttonEl.style.display =\n",
              "          google.colab.kernel.accessAllowed ? 'block' : 'none';\n",
              "\n",
              "        async function convertToInteractive(key) {\n",
              "          const element = document.querySelector('#df-13e73b5b-6299-4a4a-829c-d51896c69e95');\n",
              "          const dataTable =\n",
              "            await google.colab.kernel.invokeFunction('convertToInteractive',\n",
              "                                                     [key], {});\n",
              "          if (!dataTable) return;\n",
              "\n",
              "          const docLinkHtml = 'Like what you see? Visit the ' +\n",
              "            '<a target=\"_blank\" href=https://colab.research.google.com/notebooks/data_table.ipynb>data table notebook</a>'\n",
              "            + ' to learn more about interactive tables.';\n",
              "          element.innerHTML = '';\n",
              "          dataTable['output_type'] = 'display_data';\n",
              "          await google.colab.output.renderOutput(dataTable, element);\n",
              "          const docLink = document.createElement('div');\n",
              "          docLink.innerHTML = docLinkHtml;\n",
              "          element.appendChild(docLink);\n",
              "        }\n",
              "      </script>\n",
              "    </div>\n",
              "  </div>\n",
              "  "
            ]
          },
          "metadata": {},
          "execution_count": 103
        }
      ]
    },
    {
      "cell_type": "code",
      "source": [
        "len(df_notes_TSICU['CGID'].unique())\n",
        "deceased_TSICU = df_notes_TSICU[df_notes_TSICU['EXPIRE_FLAG'] == 1]\n",
        "deceased_TSICU.info()"
      ],
      "metadata": {
        "id": "4quXDt_aieZv",
        "outputId": "ab082b03-515d-4c18-d4bc-0bb41ecdcd45",
        "colab": {
          "base_uri": "https://localhost:8080/"
        }
      },
      "execution_count": 104,
      "outputs": [
        {
          "output_type": "stream",
          "name": "stdout",
          "text": [
            "<class 'pandas.core.frame.DataFrame'>\n",
            "Int64Index: 39241 entries, 5852 to 1502042\n",
            "Data columns (total 23 columns):\n",
            " #   Column          Non-Null Count  Dtype  \n",
            "---  ------          --------------  -----  \n",
            " 0   ROW_ID          39241 non-null  int64  \n",
            " 1   SUBJECT_ID      39241 non-null  int64  \n",
            " 2   CGID            39241 non-null  int64  \n",
            " 3   CHARTDATE       39241 non-null  object \n",
            " 4   TEXT            39241 non-null  object \n",
            " 5   HADM_ID         39241 non-null  int64  \n",
            " 6   ICUSTAY_ID      39241 non-null  int64  \n",
            " 7   DBSOURCE        39241 non-null  object \n",
            " 8   FIRST_CAREUNIT  39241 non-null  object \n",
            " 9   LAST_CAREUNIT   39241 non-null  object \n",
            " 10  FIRST_WARDID    39241 non-null  int64  \n",
            " 11  LAST_WARDID     39241 non-null  int64  \n",
            " 12  INTIME          39241 non-null  object \n",
            " 13  OUTTIME         39241 non-null  object \n",
            " 14  LOS             39241 non-null  float64\n",
            " 15  GENDER          39241 non-null  object \n",
            " 16  DOB             39241 non-null  object \n",
            " 17  DOD             39241 non-null  object \n",
            " 18  DOD_HOSP        23712 non-null  object \n",
            " 19  DOD_SSN         35796 non-null  object \n",
            " 20  EXPIRE_FLAG     39241 non-null  int64  \n",
            " 21  DRG_CODE        39241 non-null  int64  \n",
            " 22  DESCRIPTION     39190 non-null  object \n",
            "dtypes: float64(1), int64(9), object(13)\n",
            "memory usage: 7.2+ MB\n"
          ]
        }
      ]
    },
    {
      "cell_type": "code",
      "source": [
        "import seaborn as sns\n",
        "sns.set()\n",
        "\n",
        "\n",
        "gb_notes = deceased_TSICU.groupby(['CGID','SUBJECT_ID'])\n",
        "num_notes = gb_notes['TEXT'].count()\n",
        "\n",
        "print(f'number of notes: min={num_notes.min()}, max={num_notes.max()}, mean={num_notes.mean()},  median={num_notes.median()}')\n",
        "sns.boxplot(x=num_notes)\n",
        "sns.displot(num_notes[((num_notes>2) & (num_notes<15))])"
      ],
      "metadata": {
        "id": "RtIaEm23Ysfg",
        "outputId": "a507dc92-e50e-493d-e38f-b8789c8811b9",
        "colab": {
          "base_uri": "https://localhost:8080/",
          "height": 977
        }
      },
      "execution_count": 105,
      "outputs": [
        {
          "output_type": "stream",
          "name": "stdout",
          "text": [
            "number of notes: min=1, max=124, mean=3.2422539866148887,  median=2.0\n"
          ]
        },
        {
          "output_type": "execute_result",
          "data": {
            "text/plain": [
              "<seaborn.axisgrid.FacetGrid at 0x7fc37cf8b910>"
            ]
          },
          "metadata": {},
          "execution_count": 105
        },
        {
          "output_type": "display_data",
          "data": {
            "text/plain": [
              "<Figure size 640x480 with 1 Axes>"
            ],
            "image/png": "[encoded data removed]"
          },
          "metadata": {}
        },
        {
          "output_type": "display_data",
          "data": {
            "text/plain": [
              "<Figure size 500x500 with 1 Axes>"
            ],
            "image/png": "[encoded data removed]"
          },
          "metadata": {}
        }
      ]
    },
    {
      "cell_type": "code",
      "source": [
        "grouping = df_notes_TSICU.groupby(['CGID','SUBJECT_ID']).size()\n",
        "df_notes_TSICU['num_of_notes'] = df_notes_TSICU.set_index(['CGID','SUBJECT_ID']).index.map(grouping)\n",
        "df_notes_TSICU_filtered = df_notes_TSICU[df_notes_TSICU['num_of_notes'] >= 4]\n",
        "df_notes_TSICU_filtered.info()"
      ],
      "metadata": {
        "id": "hHCpzCETihOj",
        "outputId": "35f05385-8cb3-4952-f2c1-2873831332c0",
        "colab": {
          "base_uri": "https://localhost:8080/"
        }
      },
      "execution_count": 106,
      "outputs": [
        {
          "output_type": "stream",
          "name": "stdout",
          "text": [
            "<class 'pandas.core.frame.DataFrame'>\n",
            "Int64Index: 46630 entries, 5852 to 1498544\n",
            "Data columns (total 24 columns):\n",
            " #   Column          Non-Null Count  Dtype  \n",
            "---  ------          --------------  -----  \n",
            " 0   ROW_ID          46630 non-null  int64  \n",
            " 1   SUBJECT_ID      46630 non-null  int64  \n",
            " 2   CGID            46630 non-null  int64  \n",
            " 3   CHARTDATE       46630 non-null  object \n",
            " 4   TEXT            46630 non-null  object \n",
            " 5   HADM_ID         46630 non-null  int64  \n",
            " 6   ICUSTAY_ID      46630 non-null  int64  \n",
            " 7   DBSOURCE        46630 non-null  object \n",
            " 8   FIRST_CAREUNIT  46630 non-null  object \n",
            " 9   LAST_CAREUNIT   46630 non-null  object \n",
            " 10  FIRST_WARDID    46630 non-null  int64  \n",
            " 11  LAST_WARDID     46630 non-null  int64  \n",
            " 12  INTIME          46630 non-null  object \n",
            " 13  OUTTIME         46630 non-null  object \n",
            " 14  LOS             46630 non-null  float64\n",
            " 15  GENDER          46630 non-null  object \n",
            " 16  DOB             46630 non-null  object \n",
            " 17  DOD             24554 non-null  object \n",
            " 18  DOD_HOSP        14958 non-null  object \n",
            " 19  DOD_SSN         22635 non-null  object \n",
            " 20  EXPIRE_FLAG     46630 non-null  int64  \n",
            " 21  DRG_CODE        46630 non-null  int64  \n",
            " 22  DESCRIPTION     46513 non-null  object \n",
            " 23  num_of_notes    46630 non-null  int64  \n",
            "dtypes: float64(1), int64(10), object(13)\n",
            "memory usage: 8.9+ MB\n"
          ]
        }
      ]
    },
    {
      "cell_type": "code",
      "source": [
        "df_notes_TSICU_filtered.head(10)"
      ],
      "metadata": {
        "id": "eYAfKxm-4vN1",
        "outputId": "9f443c32-052c-4581-cce7-c40b990f477d",
        "colab": {
          "base_uri": "https://localhost:8080/",
          "height": 783
        }
      },
      "execution_count": 107,
      "outputs": [
        {
          "output_type": "execute_result",
          "data": {
            "text/plain": [
              "       ROW_ID  SUBJECT_ID   CGID   CHARTDATE  \\\n",
              "5852  1373553        8406  17765  2149-04-28   \n",
              "5853  1373550        8406  16140  2149-04-27   \n",
              "5854  1373547        8406  16140  2149-04-26   \n",
              "5855  1373567        8406  15659  2149-05-01   \n",
              "5856  1373633        8406  21570  2149-07-02   \n",
              "5858  1373595        8406  16140  2149-05-09   \n",
              "5859  1373584        8406  16140  2149-05-06   \n",
              "5860  1373638        8406  21570  2149-07-04   \n",
              "5861  1373604        8406  18078  2149-05-13   \n",
              "5862  1373560        8406  16140  2149-04-30   \n",
              "\n",
              "                                                   TEXT  HADM_ID  ICUSTAY_ID  \\\n",
              "5852  SOCIAL WORK NOTE:\\n\\nNew trauma pt on T-SICU f...   114444      239553   \n",
              "5853  SICU NPN\\nROS:\\nNeuro: Neuro exam unchanged th...   114444      239553   \n",
              "5854  SICU NPN\\nPt hemodynamicallly unstable today, ...   114444      239553   \n",
              "5855  T/SICU NSG PROGRESS NOTE.\\n0700>>[**2076**]\\n\\...   114444      239553   \n",
              "5856  Nursing Progress Note.\\n\\nCV: The pt has been ...   114444      239553   \n",
              "5858  SICU NPN\\nPt remains in the ICU s/p MVC on [**...   114444      239553   \n",
              "5859  SICU NPN\\nROS:\\nNeuro: Pt opens eyes inconsist...   114444      239553   \n",
              "5860  PMICU Nursing Progress Note 7p-7a\\nEvents\\n\\n ...   114444      239553   \n",
              "5861  TRAUMA ICU NURSING PROGRESS NOTE\\n\\nREVIEW OF ...   114444      239553   \n",
              "5862  SICU NPN\\nPt remains critically ill s/p MVC\\n\\...   114444      239553   \n",
              "\n",
              "     DBSOURCE FIRST_CAREUNIT LAST_CAREUNIT  ...      LOS  GENDER  \\\n",
              "5852  carevue          TSICU         TSICU  ...  26.6668       F   \n",
              "5853  carevue          TSICU         TSICU  ...  26.6668       F   \n",
              "5854  carevue          TSICU         TSICU  ...  26.6668       F   \n",
              "5855  carevue          TSICU         TSICU  ...  26.6668       F   \n",
              "5856  carevue          TSICU         TSICU  ...  26.6668       F   \n",
              "5858  carevue          TSICU         TSICU  ...  26.6668       F   \n",
              "5859  carevue          TSICU         TSICU  ...  26.6668       F   \n",
              "5860  carevue          TSICU         TSICU  ...  26.6668       F   \n",
              "5861  carevue          TSICU         TSICU  ...  26.6668       F   \n",
              "5862  carevue          TSICU         TSICU  ...  26.6668       F   \n",
              "\n",
              "                      DOB                  DOD             DOD_HOSP  \\\n",
              "5852  2117-06-28 00:00:00  2149-09-07 00:00:00  2149-09-07 00:00:00   \n",
              "5853  2117-06-28 00:00:00  2149-09-07 00:00:00  2149-09-07 00:00:00   \n",
              "5854  2117-06-28 00:00:00  2149-09-07 00:00:00  2149-09-07 00:00:00   \n",
              "5855  2117-06-28 00:00:00  2149-09-07 00:00:00  2149-09-07 00:00:00   \n",
              "5856  2117-06-28 00:00:00  2149-09-07 00:00:00  2149-09-07 00:00:00   \n",
              "5858  2117-06-28 00:00:00  2149-09-07 00:00:00  2149-09-07 00:00:00   \n",
              "5859  2117-06-28 00:00:00  2149-09-07 00:00:00  2149-09-07 00:00:00   \n",
              "5860  2117-06-28 00:00:00  2149-09-07 00:00:00  2149-09-07 00:00:00   \n",
              "5861  2117-06-28 00:00:00  2149-09-07 00:00:00  2149-09-07 00:00:00   \n",
              "5862  2117-06-28 00:00:00  2149-09-07 00:00:00  2149-09-07 00:00:00   \n",
              "\n",
              "                  DOD_SSN EXPIRE_FLAG DRG_CODE  \\\n",
              "5852  2149-09-07 00:00:00           1      483   \n",
              "5853  2149-09-07 00:00:00           1      483   \n",
              "5854  2149-09-07 00:00:00           1      483   \n",
              "5855  2149-09-07 00:00:00           1      483   \n",
              "5856  2149-09-07 00:00:00           1      483   \n",
              "5858  2149-09-07 00:00:00           1      483   \n",
              "5859  2149-09-07 00:00:00           1      483   \n",
              "5860  2149-09-07 00:00:00           1      483   \n",
              "5861  2149-09-07 00:00:00           1      483   \n",
              "5862  2149-09-07 00:00:00           1      483   \n",
              "\n",
              "                                            DESCRIPTION num_of_notes  \n",
              "5852  TRACHEOSTOMY WITH MECHANICAL VENTILATION 96+ H...           11  \n",
              "5853  TRACHEOSTOMY WITH MECHANICAL VENTILATION 96+ H...            8  \n",
              "5854  TRACHEOSTOMY WITH MECHANICAL VENTILATION 96+ H...            8  \n",
              "5855  TRACHEOSTOMY WITH MECHANICAL VENTILATION 96+ H...            4  \n",
              "5856  TRACHEOSTOMY WITH MECHANICAL VENTILATION 96+ H...           13  \n",
              "5858  TRACHEOSTOMY WITH MECHANICAL VENTILATION 96+ H...            8  \n",
              "5859  TRACHEOSTOMY WITH MECHANICAL VENTILATION 96+ H...            8  \n",
              "5860  TRACHEOSTOMY WITH MECHANICAL VENTILATION 96+ H...           13  \n",
              "5861  TRACHEOSTOMY WITH MECHANICAL VENTILATION 96+ H...           10  \n",
              "5862  TRACHEOSTOMY WITH MECHANICAL VENTILATION 96+ H...            8  \n",
              "\n",
              "[10 rows x 24 columns]"
            ],
            "text/html": [
              "\n",
              "  <div id=\"df-25b80eeb-4f3d-43a6-9d28-915b7f8eda15\">\n",
              "    <div class=\"colab-df-container\">\n",
              "      <div>\n",
              "<style scoped>\n",
              "    .dataframe tbody tr th:only-of-type {\n",
              "        vertical-align: middle;\n",
              "    }\n",
              "\n",
              "    .dataframe tbody tr th {\n",
              "        vertical-align: top;\n",
              "    }\n",
              "\n",
              "    .dataframe thead th {\n",
              "        text-align: right;\n",
              "    }\n",
              "</style>\n",
              "<table border=\"1\" class=\"dataframe\">\n",
              "  <thead>\n",
              "    <tr style=\"text-align: right;\">\n",
              "      <th></th>\n",
              "      <th>ROW_ID</th>\n",
              "      <th>SUBJECT_ID</th>\n",
              "      <th>CGID</th>\n",
              "      <th>CHARTDATE</th>\n",
              "      <th>TEXT</th>\n",
              "      <th>HADM_ID</th>\n",
              "      <th>ICUSTAY_ID</th>\n",
              "      <th>DBSOURCE</th>\n",
              "      <th>FIRST_CAREUNIT</th>\n",
              "      <th>LAST_CAREUNIT</th>\n",
              "      <th>...</th>\n",
              "      <th>LOS</th>\n",
              "      <th>GENDER</th>\n",
              "      <th>DOB</th>\n",
              "      <th>DOD</th>\n",
              "      <th>DOD_HOSP</th>\n",
              "      <th>DOD_SSN</th>\n",
              "      <th>EXPIRE_FLAG</th>\n",
              "      <th>DRG_CODE</th>\n",
              "      <th>DESCRIPTION</th>\n",
              "      <th>num_of_notes</th>\n",
              "    </tr>\n",
              "  </thead>\n",
              "  <tbody>\n",
              "    <tr>\n",
              "      <th>5852</th>\n",
              "      <td>1373553</td>\n",
              "      <td>8406</td>\n",
              "      <td>17765</td>\n",
              "      <td>2149-04-28</td>\n",
              "      <td>SOCIAL WORK NOTE:\\n\\nNew trauma pt on T-SICU f...</td>\n",
              "      <td>114444</td>\n",
              "      <td>239553</td>\n",
              "      <td>carevue</td>\n",
              "      <td>TSICU</td>\n",
              "      <td>TSICU</td>\n",
              "      <td>...</td>\n",
              "      <td>26.6668</td>\n",
              "      <td>F</td>\n",
              "      <td>2117-06-28 00:00:00</td>\n",
              "      <td>2149-09-07 00:00:00</td>\n",
              "      <td>2149-09-07 00:00:00</td>\n",
              "      <td>2149-09-07 00:00:00</td>\n",
              "      <td>1</td>\n",
              "      <td>483</td>\n",
              "      <td>TRACHEOSTOMY WITH MECHANICAL VENTILATION 96+ H...</td>\n",
              "      <td>11</td>\n",
              "    </tr>\n",
              "    <tr>\n",
              "      <th>5853</th>\n",
              "      <td>1373550</td>\n",
              "      <td>8406</td>\n",
              "      <td>16140</td>\n",
              "      <td>2149-04-27</td>\n",
              "      <td>SICU NPN\\nROS:\\nNeuro: Neuro exam unchanged th...</td>\n",
              "      <td>114444</td>\n",
              "      <td>239553</td>\n",
              "      <td>carevue</td>\n",
              "      <td>TSICU</td>\n",
              "      <td>TSICU</td>\n",
              "      <td>...</td>\n",
              "      <td>26.6668</td>\n",
              "      <td>F</td>\n",
              "      <td>2117-06-28 00:00:00</td>\n",
              "      <td>2149-09-07 00:00:00</td>\n",
              "      <td>2149-09-07 00:00:00</td>\n",
              "      <td>2149-09-07 00:00:00</td>\n",
              "      <td>1</td>\n",
              "      <td>483</td>\n",
              "      <td>TRACHEOSTOMY WITH MECHANICAL VENTILATION 96+ H...</td>\n",
              "      <td>8</td>\n",
              "    </tr>\n",
              "    <tr>\n",
              "      <th>5854</th>\n",
              "      <td>1373547</td>\n",
              "      <td>8406</td>\n",
              "      <td>16140</td>\n",
              "      <td>2149-04-26</td>\n",
              "      <td>SICU NPN\\nPt hemodynamicallly unstable today, ...</td>\n",
              "      <td>114444</td>\n",
              "      <td>239553</td>\n",
              "      <td>carevue</td>\n",
              "      <td>TSICU</td>\n",
              "      <td>TSICU</td>\n",
              "      <td>...</td>\n",
              "      <td>26.6668</td>\n",
              "      <td>F</td>\n",
              "      <td>2117-06-28 00:00:00</td>\n",
              "      <td>2149-09-07 00:00:00</td>\n",
              "      <td>2149-09-07 00:00:00</td>\n",
              "      <td>2149-09-07 00:00:00</td>\n",
              "      <td>1</td>\n",
              "      <td>483</td>\n",
              "      <td>TRACHEOSTOMY WITH MECHANICAL VENTILATION 96+ H...</td>\n",
              "      <td>8</td>\n",
              "    </tr>\n",
              "    <tr>\n",
              "      <th>5855</th>\n",
              "      <td>1373567</td>\n",
              "      <td>8406</td>\n",
              "      <td>15659</td>\n",
              "      <td>2149-05-01</td>\n",
              "      <td>T/SICU NSG PROGRESS NOTE.\\n0700&gt;&gt;[**2076**]\\n\\...</td>\n",
              "      <td>114444</td>\n",
              "      <td>239553</td>\n",
              "      <td>carevue</td>\n",
              "      <td>TSICU</td>\n",
              "      <td>TSICU</td>\n",
              "      <td>...</td>\n",
              "      <td>26.6668</td>\n",
              "      <td>F</td>\n",
              "      <td>2117-06-28 00:00:00</td>\n",
              "      <td>2149-09-07 00:00:00</td>\n",
              "      <td>2149-09-07 00:00:00</td>\n",
              "      <td>2149-09-07 00:00:00</td>\n",
              "      <td>1</td>\n",
              "      <td>483</td>\n",
              "      <td>TRACHEOSTOMY WITH MECHANICAL VENTILATION 96+ H...</td>\n",
              "      <td>4</td>\n",
              "    </tr>\n",
              "    <tr>\n",
              "      <th>5856</th>\n",
              "      <td>1373633</td>\n",
              "      <td>8406</td>\n",
              "      <td>21570</td>\n",
              "      <td>2149-07-02</td>\n",
              "      <td>Nursing Progress Note.\\n\\nCV: The pt has been ...</td>\n",
              "      <td>114444</td>\n",
              "      <td>239553</td>\n",
              "      <td>carevue</td>\n",
              "      <td>TSICU</td>\n",
              "      <td>TSICU</td>\n",
              "      <td>...</td>\n",
              "      <td>26.6668</td>\n",
              "      <td>F</td>\n",
              "      <td>2117-06-28 00:00:00</td>\n",
              "      <td>2149-09-07 00:00:00</td>\n",
              "      <td>2149-09-07 00:00:00</td>\n",
              "      <td>2149-09-07 00:00:00</td>\n",
              "      <td>1</td>\n",
              "      <td>483</td>\n",
              "      <td>TRACHEOSTOMY WITH MECHANICAL VENTILATION 96+ H...</td>\n",
              "      <td>13</td>\n",
              "    </tr>\n",
              "    <tr>\n",
              "      <th>5858</th>\n",
              "      <td>1373595</td>\n",
              "      <td>8406</td>\n",
              "      <td>16140</td>\n",
              "      <td>2149-05-09</td>\n",
              "      <td>SICU NPN\\nPt remains in the ICU s/p MVC on [**...</td>\n",
              "      <td>114444</td>\n",
              "      <td>239553</td>\n",
              "      <td>carevue</td>\n",
              "      <td>TSICU</td>\n",
              "      <td>TSICU</td>\n",
              "      <td>...</td>\n",
              "      <td>26.6668</td>\n",
              "      <td>F</td>\n",
              "      <td>2117-06-28 00:00:00</td>\n",
              "      <td>2149-09-07 00:00:00</td>\n",
              "      <td>2149-09-07 00:00:00</td>\n",
              "      <td>2149-09-07 00:00:00</td>\n",
              "      <td>1</td>\n",
              "      <td>483</td>\n",
              "      <td>TRACHEOSTOMY WITH MECHANICAL VENTILATION 96+ H...</td>\n",
              "      <td>8</td>\n",
              "    </tr>\n",
              "    <tr>\n",
              "      <th>5859</th>\n",
              "      <td>1373584</td>\n",
              "      <td>8406</td>\n",
              "      <td>16140</td>\n",
              "      <td>2149-05-06</td>\n",
              "      <td>SICU NPN\\nROS:\\nNeuro: Pt opens eyes inconsist...</td>\n",
              "      <td>114444</td>\n",
              "      <td>239553</td>\n",
              "      <td>carevue</td>\n",
              "      <td>TSICU</td>\n",
              "      <td>TSICU</td>\n",
              "      <td>...</td>\n",
              "      <td>26.6668</td>\n",
              "      <td>F</td>\n",
              "      <td>2117-06-28 00:00:00</td>\n",
              "      <td>2149-09-07 00:00:00</td>\n",
              "      <td>2149-09-07 00:00:00</td>\n",
              "      <td>2149-09-07 00:00:00</td>\n",
              "      <td>1</td>\n",
              "      <td>483</td>\n",
              "      <td>TRACHEOSTOMY WITH MECHANICAL VENTILATION 96+ H...</td>\n",
              "      <td>8</td>\n",
              "    </tr>\n",
              "    <tr>\n",
              "      <th>5860</th>\n",
              "      <td>1373638</td>\n",
              "      <td>8406</td>\n",
              "      <td>21570</td>\n",
              "      <td>2149-07-04</td>\n",
              "      <td>PMICU Nursing Progress Note 7p-7a\\nEvents\\n\\n ...</td>\n",
              "      <td>114444</td>\n",
              "      <td>239553</td>\n",
              "      <td>carevue</td>\n",
              "      <td>TSICU</td>\n",
              "      <td>TSICU</td>\n",
              "      <td>...</td>\n",
              "      <td>26.6668</td>\n",
              "      <td>F</td>\n",
              "      <td>2117-06-28 00:00:00</td>\n",
              "      <td>2149-09-07 00:00:00</td>\n",
              "      <td>2149-09-07 00:00:00</td>\n",
              "      <td>2149-09-07 00:00:00</td>\n",
              "      <td>1</td>\n",
              "      <td>483</td>\n",
              "      <td>TRACHEOSTOMY WITH MECHANICAL VENTILATION 96+ H...</td>\n",
              "      <td>13</td>\n",
              "    </tr>\n",
              "    <tr>\n",
              "      <th>5861</th>\n",
              "      <td>1373604</td>\n",
              "      <td>8406</td>\n",
              "      <td>18078</td>\n",
              "      <td>2149-05-13</td>\n",
              "      <td>TRAUMA ICU NURSING PROGRESS NOTE\\n\\nREVIEW OF ...</td>\n",
              "      <td>114444</td>\n",
              "      <td>239553</td>\n",
              "      <td>carevue</td>\n",
              "      <td>TSICU</td>\n",
              "      <td>TSICU</td>\n",
              "      <td>...</td>\n",
              "      <td>26.6668</td>\n",
              "      <td>F</td>\n",
              "      <td>2117-06-28 00:00:00</td>\n",
              "      <td>2149-09-07 00:00:00</td>\n",
              "      <td>2149-09-07 00:00:00</td>\n",
              "      <td>2149-09-07 00:00:00</td>\n",
              "      <td>1</td>\n",
              "      <td>483</td>\n",
              "      <td>TRACHEOSTOMY WITH MECHANICAL VENTILATION 96+ H...</td>\n",
              "      <td>10</td>\n",
              "    </tr>\n",
              "    <tr>\n",
              "      <th>5862</th>\n",
              "      <td>1373560</td>\n",
              "      <td>8406</td>\n",
              "      <td>16140</td>\n",
              "      <td>2149-04-30</td>\n",
              "      <td>SICU NPN\\nPt remains critically ill s/p MVC\\n\\...</td>\n",
              "      <td>114444</td>\n",
              "      <td>239553</td>\n",
              "      <td>carevue</td>\n",
              "      <td>TSICU</td>\n",
              "      <td>TSICU</td>\n",
              "      <td>...</td>\n",
              "      <td>26.6668</td>\n",
              "      <td>F</td>\n",
              "      <td>2117-06-28 00:00:00</td>\n",
              "      <td>2149-09-07 00:00:00</td>\n",
              "      <td>2149-09-07 00:00:00</td>\n",
              "      <td>2149-09-07 00:00:00</td>\n",
              "      <td>1</td>\n",
              "      <td>483</td>\n",
              "      <td>TRACHEOSTOMY WITH MECHANICAL VENTILATION 96+ H...</td>\n",
              "      <td>8</td>\n",
              "    </tr>\n",
              "  </tbody>\n",
              "</table>\n",
              "<p>10 rows × 24 columns</p>\n",
              "</div>\n",
              "      <button class=\"colab-df-convert\" onclick=\"convertToInteractive('df-25b80eeb-4f3d-43a6-9d28-915b7f8eda15')\"\n",
              "              title=\"Convert this dataframe to an interactive table.\"\n",
              "              style=\"display:none;\">\n",
              "        \n",
              "  <svg xmlns=\"http://www.w3.org/2000/svg\" height=\"24px\"viewBox=\"0 0 24 24\"\n",
              "       width=\"24px\">\n",
              "    <path d=\"M0 0h24v24H0V0z\" fill=\"none\"/>\n",
              "    <path d=\"M18.56 5.44l.94 2.06.94-2.06 2.06-.94-2.06-.94-.94-2.06-.94 2.06-2.06.94zm-11 1L8.5 8.5l.94-2.06 2.06-.94-2.06-.94L8.5 2.5l-.94 2.06-2.06.94zm10 10l.94 2.06.94-2.06 2.06-.94-2.06-.94-.94-2.06-.94 2.06-2.06.94z\"/><path d=\"M17.41 7.96l-1.37-1.37c-.4-.4-.92-.59-1.43-.59-.52 0-1.04.2-1.43.59L10.3 9.45l-7.72 7.72c-.78.78-.78 2.05 0 2.83L4 21.41c.39.39.9.59 1.41.59.51 0 1.02-.2 1.41-.59l7.78-7.78 2.81-2.81c.8-.78.8-2.07 0-2.86zM5.41 20L4 18.59l7.72-7.72 1.47 1.35L5.41 20z\"/>\n",
              "  </svg>\n",
              "      </button>\n",
              "      \n",
              "  <style>\n",
              "    .colab-df-container {\n",
              "      display:flex;\n",
              "      flex-wrap:wrap;\n",
              "      gap: 12px;\n",
              "    }\n",
              "\n",
              "    .colab-df-convert {\n",
              "      background-color: #E8F0FE;\n",
              "      border: none;\n",
              "      border-radius: 50%;\n",
              "      cursor: pointer;\n",
              "      display: none;\n",
              "      fill: #1967D2;\n",
              "      height: 32px;\n",
              "      padding: 0 0 0 0;\n",
              "      width: 32px;\n",
              "    }\n",
              "\n",
              "    .colab-df-convert:hover {\n",
              "      background-color: #E2EBFA;\n",
              "      box-shadow: 0px 1px 2px rgba(60, 64, 67, 0.3), 0px 1px 3px 1px rgba(60, 64, 67, 0.15);\n",
              "      fill: #174EA6;\n",
              "    }\n",
              "\n",
              "    [theme=dark] .colab-df-convert {\n",
              "      background-color: #3B4455;\n",
              "      fill: #D2E3FC;\n",
              "    }\n",
              "\n",
              "    [theme=dark] .colab-df-convert:hover {\n",
              "      background-color: #434B5C;\n",
              "      box-shadow: 0px 1px 3px 1px rgba(0, 0, 0, 0.15);\n",
              "      filter: drop-shadow(0px 1px 2px rgba(0, 0, 0, 0.3));\n",
              "      fill: #FFFFFF;\n",
              "    }\n",
              "  </style>\n",
              "\n",
              "      <script>\n",
              "        const buttonEl =\n",
              "          document.querySelector('#df-25b80eeb-4f3d-43a6-9d28-915b7f8eda15 button.colab-df-convert');\n",
              "        buttonEl.style.display =\n",
              "          google.colab.kernel.accessAllowed ? 'block' : 'none';\n",
              "\n",
              "        async function convertToInteractive(key) {\n",
              "          const element = document.querySelector('#df-25b80eeb-4f3d-43a6-9d28-915b7f8eda15');\n",
              "          const dataTable =\n",
              "            await google.colab.kernel.invokeFunction('convertToInteractive',\n",
              "                                                     [key], {});\n",
              "          if (!dataTable) return;\n",
              "\n",
              "          const docLinkHtml = 'Like what you see? Visit the ' +\n",
              "            '<a target=\"_blank\" href=https://colab.research.google.com/notebooks/data_table.ipynb>data table notebook</a>'\n",
              "            + ' to learn more about interactive tables.';\n",
              "          element.innerHTML = '';\n",
              "          dataTable['output_type'] = 'display_data';\n",
              "          await google.colab.output.renderOutput(dataTable, element);\n",
              "          const docLink = document.createElement('div');\n",
              "          docLink.innerHTML = docLinkHtml;\n",
              "          element.appendChild(docLink);\n",
              "        }\n",
              "      </script>\n",
              "    </div>\n",
              "  </div>\n",
              "  "
            ]
          },
          "metadata": {},
          "execution_count": 107
        }
      ]
    },
    {
      "cell_type": "code",
      "source": [
        "gb_notes = df_notes_TSICU_filtered.groupby(['DRG_CODE','DESCRIPTION'])\n",
        "num_notes = gb_notes['TEXT'].count()\n",
        "\n",
        "print(f'number of notes: min={num_notes.min()}, max={num_notes.max()}, mean={num_notes.mean()},  median={num_notes.median()}')\n",
        "sns.boxplot(x=num_notes)\n",
        "sns.displot(num_notes[((num_notes>2) & (num_notes<100))])"
      ],
      "metadata": {
        "id": "M1zujhFnCzbO",
        "outputId": "54837377-9ec1-4ed3-a8ea-fba2c08fe15d",
        "colab": {
          "base_uri": "https://localhost:8080/",
          "height": 977
        }
      },
      "execution_count": 108,
      "outputs": [
        {
          "output_type": "stream",
          "name": "stdout",
          "text": [
            "number of notes: min=2, max=4626, mean=78.04194630872483,  median=19.0\n"
          ]
        },
        {
          "output_type": "execute_result",
          "data": {
            "text/plain": [
              "<seaborn.axisgrid.FacetGrid at 0x7fc37cf88eb0>"
            ]
          },
          "metadata": {},
          "execution_count": 108
        },
        {
          "output_type": "display_data",
          "data": {
            "text/plain": [
              "<Figure size 640x480 with 1 Axes>"
            ],
            "image/png": "[encoded data removed]"
          },
          "metadata": {}
        },
        {
          "output_type": "display_data",
          "data": {
            "text/plain": [
              "<Figure size 500x500 with 1 Axes>"
            ],
            "image/png": "[encoded data removed]"
          },
          "metadata": {}
        }
      ]
    },
    {
      "cell_type": "code",
      "source": [
        "drg_grouping = df_notes_TSICU_filtered.groupby(['DRG_CODE','DESCRIPTION']).size()\n",
        "df_notes_TSICU_filtered['num_of_conditions'] = df_notes_TSICU_filtered.set_index(['DRG_CODE','DESCRIPTION']).index.map(drg_grouping)\n",
        "df_notes_TSICU_filtered = df_notes_TSICU_filtered[(df_notes_TSICU_filtered['num_of_conditions'] >= 15) & (df_notes_TSICU_filtered['num_of_conditions'] <= 1000)]\n",
        "#df_notes_TSICU_filtered = df_notes_TSICU_filtered[(df_notes_TSICU_filtered['num_of_conditions'] >= 15) & (df_notes_TSICU_filtered['num_of_conditions'] <= 100)]\n",
        "df_notes_TSICU_filtered.info()"
      ],
      "metadata": {
        "id": "VQtS_ZiRGeEF",
        "outputId": "cce495e9-c289-4c4b-e709-013d8db5cf44",
        "colab": {
          "base_uri": "https://localhost:8080/"
        }
      },
      "execution_count": 109,
      "outputs": [
        {
          "output_type": "stream",
          "name": "stderr",
          "text": [
            "<ipython-input-109-038e1e973d97>:2: SettingWithCopyWarning: \n",
            "A value is trying to be set on a copy of a slice from a DataFrame.\n",
            "Try using .loc[row_indexer,col_indexer] = value instead\n",
            "\n",
            "See the caveats in the documentation: https://pandas.pydata.org/pandas-docs/stable/user_guide/indexing.html#returning-a-view-versus-a-copy\n",
            "  df_notes_TSICU_filtered['num_of_conditions'] = df_notes_TSICU_filtered.set_index(['DRG_CODE','DESCRIPTION']).index.map(drg_grouping)\n"
          ]
        },
        {
          "output_type": "stream",
          "name": "stdout",
          "text": [
            "<class 'pandas.core.frame.DataFrame'>\n",
            "Int64Index: 31190 entries, 9588 to 1498544\n",
            "Data columns (total 25 columns):\n",
            " #   Column             Non-Null Count  Dtype  \n",
            "---  ------             --------------  -----  \n",
            " 0   ROW_ID             31190 non-null  int64  \n",
            " 1   SUBJECT_ID         31190 non-null  int64  \n",
            " 2   CGID               31190 non-null  int64  \n",
            " 3   CHARTDATE          31190 non-null  object \n",
            " 4   TEXT               31190 non-null  object \n",
            " 5   HADM_ID            31190 non-null  int64  \n",
            " 6   ICUSTAY_ID         31190 non-null  int64  \n",
            " 7   DBSOURCE           31190 non-null  object \n",
            " 8   FIRST_CAREUNIT     31190 non-null  object \n",
            " 9   LAST_CAREUNIT      31190 non-null  object \n",
            " 10  FIRST_WARDID       31190 non-null  int64  \n",
            " 11  LAST_WARDID        31190 non-null  int64  \n",
            " 12  INTIME             31190 non-null  object \n",
            " 13  OUTTIME            31190 non-null  object \n",
            " 14  LOS                31190 non-null  float64\n",
            " 15  GENDER             31190 non-null  object \n",
            " 16  DOB                31190 non-null  object \n",
            " 17  DOD                17542 non-null  object \n",
            " 18  DOD_HOSP           10851 non-null  object \n",
            " 19  DOD_SSN            16120 non-null  object \n",
            " 20  EXPIRE_FLAG        31190 non-null  int64  \n",
            " 21  DRG_CODE           31190 non-null  int64  \n",
            " 22  DESCRIPTION        31190 non-null  object \n",
            " 23  num_of_notes       31190 non-null  int64  \n",
            " 24  num_of_conditions  31190 non-null  float64\n",
            "dtypes: float64(2), int64(10), object(13)\n",
            "memory usage: 6.2+ MB\n"
          ]
        }
      ]
    },
    {
      "cell_type": "code",
      "source": [
        "df_notes_TSICU_dropped_cols = df_notes_TSICU_filtered.drop(['FIRST_CAREUNIT', 'LAST_CAREUNIT', 'FIRST_WARDID','LAST_WARDID','INTIME', 'OUTTIME', 'DBSOURCE','DOB','DOD','DOD_HOSP','DOD_SSN','CHARTDATE'], axis=1)\n",
        "df_notes_TSICU_dropped_cols.head(10)"
      ],
      "metadata": {
        "id": "jfSkON07QFlQ",
        "outputId": "455ffb86-1c4a-4f7a-c2df-c6d56158968a",
        "colab": {
          "base_uri": "https://localhost:8080/",
          "height": 363
        }
      },
      "execution_count": 110,
      "outputs": [
        {
          "output_type": "execute_result",
          "data": {
            "text/plain": [
              "       ROW_ID  SUBJECT_ID   CGID  \\\n",
              "9588  1596525       25658  18240   \n",
              "9589  1596525       25658  18240   \n",
              "9592  1596532       25658  18240   \n",
              "9593  1596532       25658  18240   \n",
              "9596  1596569       25658  20866   \n",
              "9597  1596569       25658  20866   \n",
              "9612  1596568       25658  16057   \n",
              "9613  1596568       25658  16057   \n",
              "9616  1596578       25658  20866   \n",
              "9617  1596578       25658  20866   \n",
              "\n",
              "                                                   TEXT  HADM_ID  ICUSTAY_ID  \\\n",
              "9588  CCU Nursing Admission Note 1130-1900\\nSee CCU ...   172975      290945   \n",
              "9589  CCU Nursing Admission Note 1130-1900\\nSee CCU ...   172975      290945   \n",
              "9592  CCU Nursing Progress Note 0700-1500\\nS:  winci...   172975      290945   \n",
              "9593  CCU Nursing Progress Note 0700-1500\\nS:  winci...   172975      290945   \n",
              "9596  CCU Nursing MICU border progress Note 7am-7pm\\...   172975      290945   \n",
              "9597  CCU Nursing MICU border progress Note 7am-7pm\\...   172975      290945   \n",
              "9612  CCU Porgress note 1900-0700\\nRESP:- Remains or...   172975      290945   \n",
              "9613  CCU Porgress note 1900-0700\\nRESP:- Remains or...   172975      290945   \n",
              "9616  CCU Nursing Progress Note  7am-7pm\\nS: Orally ...   172975      290945   \n",
              "9617  CCU Nursing Progress Note  7am-7pm\\nS: Orally ...   172975      290945   \n",
              "\n",
              "       LOS GENDER  EXPIRE_FLAG  DRG_CODE  \\\n",
              "9588  2.82      M            1      1774   \n",
              "9589  2.82      M            1       117   \n",
              "9592  2.82      M            1      1774   \n",
              "9593  2.82      M            1       117   \n",
              "9596  2.82      M            1      1774   \n",
              "9597  2.82      M            1       117   \n",
              "9612  2.82      M            1      1774   \n",
              "9613  2.82      M            1       117   \n",
              "9616  2.82      M            1      1774   \n",
              "9617  2.82      M            1       117   \n",
              "\n",
              "                                            DESCRIPTION  num_of_notes  \\\n",
              "9588  Cardiac Pacemaker & Defibrillator Revision Exc...             4   \n",
              "9589  CARDIAC PACEMAKER REVISION EXCEPT DEVICE REPLA...             4   \n",
              "9592  Cardiac Pacemaker & Defibrillator Revision Exc...             4   \n",
              "9593  CARDIAC PACEMAKER REVISION EXCEPT DEVICE REPLA...             4   \n",
              "9596  Cardiac Pacemaker & Defibrillator Revision Exc...            10   \n",
              "9597  CARDIAC PACEMAKER REVISION EXCEPT DEVICE REPLA...            10   \n",
              "9612  Cardiac Pacemaker & Defibrillator Revision Exc...             4   \n",
              "9613  CARDIAC PACEMAKER REVISION EXCEPT DEVICE REPLA...             4   \n",
              "9616  Cardiac Pacemaker & Defibrillator Revision Exc...            10   \n",
              "9617  CARDIAC PACEMAKER REVISION EXCEPT DEVICE REPLA...            10   \n",
              "\n",
              "      num_of_conditions  \n",
              "9588               41.0  \n",
              "9589               41.0  \n",
              "9592               41.0  \n",
              "9593               41.0  \n",
              "9596               41.0  \n",
              "9597               41.0  \n",
              "9612               41.0  \n",
              "9613               41.0  \n",
              "9616               41.0  \n",
              "9617               41.0  "
            ],
            "text/html": [
              "\n",
              "  <div id=\"df-e4283bb7-b05f-4b3c-995f-22271d19e20c\">\n",
              "    <div class=\"colab-df-container\">\n",
              "      <div>\n",
              "<style scoped>\n",
              "    .dataframe tbody tr th:only-of-type {\n",
              "        vertical-align: middle;\n",
              "    }\n",
              "\n",
              "    .dataframe tbody tr th {\n",
              "        vertical-align: top;\n",
              "    }\n",
              "\n",
              "    .dataframe thead th {\n",
              "        text-align: right;\n",
              "    }\n",
              "</style>\n",
              "<table border=\"1\" class=\"dataframe\">\n",
              "  <thead>\n",
              "    <tr style=\"text-align: right;\">\n",
              "      <th></th>\n",
              "      <th>ROW_ID</th>\n",
              "      <th>SUBJECT_ID</th>\n",
              "      <th>CGID</th>\n",
              "      <th>TEXT</th>\n",
              "      <th>HADM_ID</th>\n",
              "      <th>ICUSTAY_ID</th>\n",
              "      <th>LOS</th>\n",
              "      <th>GENDER</th>\n",
              "      <th>EXPIRE_FLAG</th>\n",
              "      <th>DRG_CODE</th>\n",
              "      <th>DESCRIPTION</th>\n",
              "      <th>num_of_notes</th>\n",
              "      <th>num_of_conditions</th>\n",
              "    </tr>\n",
              "  </thead>\n",
              "  <tbody>\n",
              "    <tr>\n",
              "      <th>9588</th>\n",
              "      <td>1596525</td>\n",
              "      <td>25658</td>\n",
              "      <td>18240</td>\n",
              "      <td>CCU Nursing Admission Note 1130-1900\\nSee CCU ...</td>\n",
              "      <td>172975</td>\n",
              "      <td>290945</td>\n",
              "      <td>2.82</td>\n",
              "      <td>M</td>\n",
              "      <td>1</td>\n",
              "      <td>1774</td>\n",
              "      <td>Cardiac Pacemaker &amp; Defibrillator Revision Exc...</td>\n",
              "      <td>4</td>\n",
              "      <td>41.0</td>\n",
              "    </tr>\n",
              "    <tr>\n",
              "      <th>9589</th>\n",
              "      <td>1596525</td>\n",
              "      <td>25658</td>\n",
              "      <td>18240</td>\n",
              "      <td>CCU Nursing Admission Note 1130-1900\\nSee CCU ...</td>\n",
              "      <td>172975</td>\n",
              "      <td>290945</td>\n",
              "      <td>2.82</td>\n",
              "      <td>M</td>\n",
              "      <td>1</td>\n",
              "      <td>117</td>\n",
              "      <td>CARDIAC PACEMAKER REVISION EXCEPT DEVICE REPLA...</td>\n",
              "      <td>4</td>\n",
              "      <td>41.0</td>\n",
              "    </tr>\n",
              "    <tr>\n",
              "      <th>9592</th>\n",
              "      <td>1596532</td>\n",
              "      <td>25658</td>\n",
              "      <td>18240</td>\n",
              "      <td>CCU Nursing Progress Note 0700-1500\\nS:  winci...</td>\n",
              "      <td>172975</td>\n",
              "      <td>290945</td>\n",
              "      <td>2.82</td>\n",
              "      <td>M</td>\n",
              "      <td>1</td>\n",
              "      <td>1774</td>\n",
              "      <td>Cardiac Pacemaker &amp; Defibrillator Revision Exc...</td>\n",
              "      <td>4</td>\n",
              "      <td>41.0</td>\n",
              "    </tr>\n",
              "    <tr>\n",
              "      <th>9593</th>\n",
              "      <td>1596532</td>\n",
              "      <td>25658</td>\n",
              "      <td>18240</td>\n",
              "      <td>CCU Nursing Progress Note 0700-1500\\nS:  winci...</td>\n",
              "      <td>172975</td>\n",
              "      <td>290945</td>\n",
              "      <td>2.82</td>\n",
              "      <td>M</td>\n",
              "      <td>1</td>\n",
              "      <td>117</td>\n",
              "      <td>CARDIAC PACEMAKER REVISION EXCEPT DEVICE REPLA...</td>\n",
              "      <td>4</td>\n",
              "      <td>41.0</td>\n",
              "    </tr>\n",
              "    <tr>\n",
              "      <th>9596</th>\n",
              "      <td>1596569</td>\n",
              "      <td>25658</td>\n",
              "      <td>20866</td>\n",
              "      <td>CCU Nursing MICU border progress Note 7am-7pm\\...</td>\n",
              "      <td>172975</td>\n",
              "      <td>290945</td>\n",
              "      <td>2.82</td>\n",
              "      <td>M</td>\n",
              "      <td>1</td>\n",
              "      <td>1774</td>\n",
              "      <td>Cardiac Pacemaker &amp; Defibrillator Revision Exc...</td>\n",
              "      <td>10</td>\n",
              "      <td>41.0</td>\n",
              "    </tr>\n",
              "    <tr>\n",
              "      <th>9597</th>\n",
              "      <td>1596569</td>\n",
              "      <td>25658</td>\n",
              "      <td>20866</td>\n",
              "      <td>CCU Nursing MICU border progress Note 7am-7pm\\...</td>\n",
              "      <td>172975</td>\n",
              "      <td>290945</td>\n",
              "      <td>2.82</td>\n",
              "      <td>M</td>\n",
              "      <td>1</td>\n",
              "      <td>117</td>\n",
              "      <td>CARDIAC PACEMAKER REVISION EXCEPT DEVICE REPLA...</td>\n",
              "      <td>10</td>\n",
              "      <td>41.0</td>\n",
              "    </tr>\n",
              "    <tr>\n",
              "      <th>9612</th>\n",
              "      <td>1596568</td>\n",
              "      <td>25658</td>\n",
              "      <td>16057</td>\n",
              "      <td>CCU Porgress note 1900-0700\\nRESP:- Remains or...</td>\n",
              "      <td>172975</td>\n",
              "      <td>290945</td>\n",
              "      <td>2.82</td>\n",
              "      <td>M</td>\n",
              "      <td>1</td>\n",
              "      <td>1774</td>\n",
              "      <td>Cardiac Pacemaker &amp; Defibrillator Revision Exc...</td>\n",
              "      <td>4</td>\n",
              "      <td>41.0</td>\n",
              "    </tr>\n",
              "    <tr>\n",
              "      <th>9613</th>\n",
              "      <td>1596568</td>\n",
              "      <td>25658</td>\n",
              "      <td>16057</td>\n",
              "      <td>CCU Porgress note 1900-0700\\nRESP:- Remains or...</td>\n",
              "      <td>172975</td>\n",
              "      <td>290945</td>\n",
              "      <td>2.82</td>\n",
              "      <td>M</td>\n",
              "      <td>1</td>\n",
              "      <td>117</td>\n",
              "      <td>CARDIAC PACEMAKER REVISION EXCEPT DEVICE REPLA...</td>\n",
              "      <td>4</td>\n",
              "      <td>41.0</td>\n",
              "    </tr>\n",
              "    <tr>\n",
              "      <th>9616</th>\n",
              "      <td>1596578</td>\n",
              "      <td>25658</td>\n",
              "      <td>20866</td>\n",
              "      <td>CCU Nursing Progress Note  7am-7pm\\nS: Orally ...</td>\n",
              "      <td>172975</td>\n",
              "      <td>290945</td>\n",
              "      <td>2.82</td>\n",
              "      <td>M</td>\n",
              "      <td>1</td>\n",
              "      <td>1774</td>\n",
              "      <td>Cardiac Pacemaker &amp; Defibrillator Revision Exc...</td>\n",
              "      <td>10</td>\n",
              "      <td>41.0</td>\n",
              "    </tr>\n",
              "    <tr>\n",
              "      <th>9617</th>\n",
              "      <td>1596578</td>\n",
              "      <td>25658</td>\n",
              "      <td>20866</td>\n",
              "      <td>CCU Nursing Progress Note  7am-7pm\\nS: Orally ...</td>\n",
              "      <td>172975</td>\n",
              "      <td>290945</td>\n",
              "      <td>2.82</td>\n",
              "      <td>M</td>\n",
              "      <td>1</td>\n",
              "      <td>117</td>\n",
              "      <td>CARDIAC PACEMAKER REVISION EXCEPT DEVICE REPLA...</td>\n",
              "      <td>10</td>\n",
              "      <td>41.0</td>\n",
              "    </tr>\n",
              "  </tbody>\n",
              "</table>\n",
              "</div>\n",
              "      <button class=\"colab-df-convert\" onclick=\"convertToInteractive('df-e4283bb7-b05f-4b3c-995f-22271d19e20c')\"\n",
              "              title=\"Convert this dataframe to an interactive table.\"\n",
              "              style=\"display:none;\">\n",
              "        \n",
              "  <svg xmlns=\"http://www.w3.org/2000/svg\" height=\"24px\"viewBox=\"0 0 24 24\"\n",
              "       width=\"24px\">\n",
              "    <path d=\"M0 0h24v24H0V0z\" fill=\"none\"/>\n",
              "    <path d=\"M18.56 5.44l.94 2.06.94-2.06 2.06-.94-2.06-.94-.94-2.06-.94 2.06-2.06.94zm-11 1L8.5 8.5l.94-2.06 2.06-.94-2.06-.94L8.5 2.5l-.94 2.06-2.06.94zm10 10l.94 2.06.94-2.06 2.06-.94-2.06-.94-.94-2.06-.94 2.06-2.06.94z\"/><path d=\"M17.41 7.96l-1.37-1.37c-.4-.4-.92-.59-1.43-.59-.52 0-1.04.2-1.43.59L10.3 9.45l-7.72 7.72c-.78.78-.78 2.05 0 2.83L4 21.41c.39.39.9.59 1.41.59.51 0 1.02-.2 1.41-.59l7.78-7.78 2.81-2.81c.8-.78.8-2.07 0-2.86zM5.41 20L4 18.59l7.72-7.72 1.47 1.35L5.41 20z\"/>\n",
              "  </svg>\n",
              "      </button>\n",
              "      \n",
              "  <style>\n",
              "    .colab-df-container {\n",
              "      display:flex;\n",
              "      flex-wrap:wrap;\n",
              "      gap: 12px;\n",
              "    }\n",
              "\n",
              "    .colab-df-convert {\n",
              "      background-color: #E8F0FE;\n",
              "      border: none;\n",
              "      border-radius: 50%;\n",
              "      cursor: pointer;\n",
              "      display: none;\n",
              "      fill: #1967D2;\n",
              "      height: 32px;\n",
              "      padding: 0 0 0 0;\n",
              "      width: 32px;\n",
              "    }\n",
              "\n",
              "    .colab-df-convert:hover {\n",
              "      background-color: #E2EBFA;\n",
              "      box-shadow: 0px 1px 2px rgba(60, 64, 67, 0.3), 0px 1px 3px 1px rgba(60, 64, 67, 0.15);\n",
              "      fill: #174EA6;\n",
              "    }\n",
              "\n",
              "    [theme=dark] .colab-df-convert {\n",
              "      background-color: #3B4455;\n",
              "      fill: #D2E3FC;\n",
              "    }\n",
              "\n",
              "    [theme=dark] .colab-df-convert:hover {\n",
              "      background-color: #434B5C;\n",
              "      box-shadow: 0px 1px 3px 1px rgba(0, 0, 0, 0.15);\n",
              "      filter: drop-shadow(0px 1px 2px rgba(0, 0, 0, 0.3));\n",
              "      fill: #FFFFFF;\n",
              "    }\n",
              "  </style>\n",
              "\n",
              "      <script>\n",
              "        const buttonEl =\n",
              "          document.querySelector('#df-e4283bb7-b05f-4b3c-995f-22271d19e20c button.colab-df-convert');\n",
              "        buttonEl.style.display =\n",
              "          google.colab.kernel.accessAllowed ? 'block' : 'none';\n",
              "\n",
              "        async function convertToInteractive(key) {\n",
              "          const element = document.querySelector('#df-e4283bb7-b05f-4b3c-995f-22271d19e20c');\n",
              "          const dataTable =\n",
              "            await google.colab.kernel.invokeFunction('convertToInteractive',\n",
              "                                                     [key], {});\n",
              "          if (!dataTable) return;\n",
              "\n",
              "          const docLinkHtml = 'Like what you see? Visit the ' +\n",
              "            '<a target=\"_blank\" href=https://colab.research.google.com/notebooks/data_table.ipynb>data table notebook</a>'\n",
              "            + ' to learn more about interactive tables.';\n",
              "          element.innerHTML = '';\n",
              "          dataTable['output_type'] = 'display_data';\n",
              "          await google.colab.output.renderOutput(dataTable, element);\n",
              "          const docLink = document.createElement('div');\n",
              "          docLink.innerHTML = docLinkHtml;\n",
              "          element.appendChild(docLink);\n",
              "        }\n",
              "      </script>\n",
              "    </div>\n",
              "  </div>\n",
              "  "
            ]
          },
          "metadata": {},
          "execution_count": 110
        }
      ]
    },
    {
      "cell_type": "markdown",
      "source": [
        "Inverse Document Frequency"
      ],
      "metadata": {
        "id": "kSrdXBqOuXa0"
      }
    },
    {
      "cell_type": "code",
      "source": [
        "group_conditions = df_notes_TSICU_dropped_cols.groupby(['EXPIRE_FLAG', 'DRG_CODE', 'DESCRIPTION'])\n",
        "valid_groups = [key for key, group in group_conditions if (key[:-1], 1 - key[-1]) in group_conditions.groups]\n",
        "for key in valid_groups:\n",
        "  pass"
      ],
      "metadata": {
        "id": "CTtgtgvONovy",
        "outputId": "71c6e762-c752-4942-fd99-59fe4d4ff62d",
        "colab": {
          "base_uri": "https://localhost:8080/",
          "height": 321
        }
      },
      "execution_count": 127,
      "outputs": [
        {
          "output_type": "error",
          "ename": "TypeError",
          "evalue": "ignored",
          "traceback": [
            "\u001b[0;31m---------------------------------------------------------------------------\u001b[0m",
            "\u001b[0;31mTypeError\u001b[0m                                 Traceback (most recent call last)",
            "\u001b[0;32m<ipython-input-127-c61b888d3eb0>\u001b[0m in \u001b[0;36m<cell line: 2>\u001b[0;34m()\u001b[0m\n\u001b[1;32m      1\u001b[0m \u001b[0mgroup_conditions\u001b[0m \u001b[0;34m=\u001b[0m \u001b[0mdf_notes_TSICU_dropped_cols\u001b[0m\u001b[0;34m.\u001b[0m\u001b[0mgroupby\u001b[0m\u001b[0;34m(\u001b[0m\u001b[0;34m[\u001b[0m\u001b[0;34m'EXPIRE_FLAG'\u001b[0m\u001b[0;34m,\u001b[0m \u001b[0;34m'DRG_CODE'\u001b[0m\u001b[0;34m,\u001b[0m \u001b[0;34m'DESCRIPTION'\u001b[0m\u001b[0;34m]\u001b[0m\u001b[0;34m)\u001b[0m\u001b[0;34m\u001b[0m\u001b[0;34m\u001b[0m\u001b[0m\n\u001b[0;32m----> 2\u001b[0;31m \u001b[0mvalid_groups\u001b[0m \u001b[0;34m=\u001b[0m \u001b[0;34m[\u001b[0m\u001b[0mkey\u001b[0m \u001b[0;32mfor\u001b[0m \u001b[0mkey\u001b[0m\u001b[0;34m,\u001b[0m \u001b[0mgroup\u001b[0m \u001b[0;32min\u001b[0m \u001b[0mgroup_conditions\u001b[0m \u001b[0;32mif\u001b[0m \u001b[0;34m(\u001b[0m\u001b[0mkey\u001b[0m\u001b[0;34m[\u001b[0m\u001b[0;34m:\u001b[0m\u001b[0;34m-\u001b[0m\u001b[0;36m1\u001b[0m\u001b[0;34m]\u001b[0m\u001b[0;34m,\u001b[0m \u001b[0;36m1\u001b[0m \u001b[0;34m-\u001b[0m \u001b[0mkey\u001b[0m\u001b[0;34m[\u001b[0m\u001b[0;34m-\u001b[0m\u001b[0;36m1\u001b[0m\u001b[0;34m]\u001b[0m\u001b[0;34m)\u001b[0m \u001b[0;32min\u001b[0m \u001b[0mgroup_conditions\u001b[0m\u001b[0;34m.\u001b[0m\u001b[0mgroups\u001b[0m\u001b[0;34m]\u001b[0m\u001b[0;34m\u001b[0m\u001b[0;34m\u001b[0m\u001b[0m\n\u001b[0m\u001b[1;32m      3\u001b[0m \u001b[0;32mfor\u001b[0m \u001b[0mkey\u001b[0m \u001b[0;32min\u001b[0m \u001b[0mvalid_groups\u001b[0m\u001b[0;34m:\u001b[0m\u001b[0;34m\u001b[0m\u001b[0;34m\u001b[0m\u001b[0m\n\u001b[1;32m      4\u001b[0m   \u001b[0;32mpass\u001b[0m\u001b[0;34m\u001b[0m\u001b[0;34m\u001b[0m\u001b[0m\n",
            "\u001b[0;32m<ipython-input-127-c61b888d3eb0>\u001b[0m in \u001b[0;36m<listcomp>\u001b[0;34m(.0)\u001b[0m\n\u001b[1;32m      1\u001b[0m \u001b[0mgroup_conditions\u001b[0m \u001b[0;34m=\u001b[0m \u001b[0mdf_notes_TSICU_dropped_cols\u001b[0m\u001b[0;34m.\u001b[0m\u001b[0mgroupby\u001b[0m\u001b[0;34m(\u001b[0m\u001b[0;34m[\u001b[0m\u001b[0;34m'EXPIRE_FLAG'\u001b[0m\u001b[0;34m,\u001b[0m \u001b[0;34m'DRG_CODE'\u001b[0m\u001b[0;34m,\u001b[0m \u001b[0;34m'DESCRIPTION'\u001b[0m\u001b[0;34m]\u001b[0m\u001b[0;34m)\u001b[0m\u001b[0;34m\u001b[0m\u001b[0;34m\u001b[0m\u001b[0m\n\u001b[0;32m----> 2\u001b[0;31m \u001b[0mvalid_groups\u001b[0m \u001b[0;34m=\u001b[0m \u001b[0;34m[\u001b[0m\u001b[0mkey\u001b[0m \u001b[0;32mfor\u001b[0m \u001b[0mkey\u001b[0m\u001b[0;34m,\u001b[0m \u001b[0mgroup\u001b[0m \u001b[0;32min\u001b[0m \u001b[0mgroup_conditions\u001b[0m \u001b[0;32mif\u001b[0m \u001b[0;34m(\u001b[0m\u001b[0mkey\u001b[0m\u001b[0;34m[\u001b[0m\u001b[0;34m:\u001b[0m\u001b[0;34m-\u001b[0m\u001b[0;36m1\u001b[0m\u001b[0;34m]\u001b[0m\u001b[0;34m,\u001b[0m \u001b[0;36m1\u001b[0m \u001b[0;34m-\u001b[0m \u001b[0mkey\u001b[0m\u001b[0;34m[\u001b[0m\u001b[0;34m-\u001b[0m\u001b[0;36m1\u001b[0m\u001b[0;34m]\u001b[0m\u001b[0;34m)\u001b[0m \u001b[0;32min\u001b[0m \u001b[0mgroup_conditions\u001b[0m\u001b[0;34m.\u001b[0m\u001b[0mgroups\u001b[0m\u001b[0;34m]\u001b[0m\u001b[0;34m\u001b[0m\u001b[0;34m\u001b[0m\u001b[0m\n\u001b[0m\u001b[1;32m      3\u001b[0m \u001b[0;32mfor\u001b[0m \u001b[0mkey\u001b[0m \u001b[0;32min\u001b[0m \u001b[0mvalid_groups\u001b[0m\u001b[0;34m:\u001b[0m\u001b[0;34m\u001b[0m\u001b[0;34m\u001b[0m\u001b[0m\n\u001b[1;32m      4\u001b[0m   \u001b[0;32mpass\u001b[0m\u001b[0;34m\u001b[0m\u001b[0;34m\u001b[0m\u001b[0m\n",
            "\u001b[0;31mTypeError\u001b[0m: unsupported operand type(s) for -: 'int' and 'str'"
          ]
        }
      ]
    },
    {
      "cell_type": "code",
      "source": [
        "vectorizer = TfidfVectorizer(stop_words='english')\n",
        "tfidf_matrix = vectorizer.fit_transform(df_notes_TSICU['TEXT'])\n",
        "\n",
        "feature_names = vectorizer.get_feature_names_out()\n",
        "tfidf_scores = tfidf_matrix.sum(axis=0).A1\n",
        "word_score_dict = dict(zip(feature_names, tfidf_scores))\n",
        "\n",
        "sorted_words = sorted(word_score_dict.items(), key=lambda x: x[1], reverse=True)\n",
        "\n",
        "top_words = sorted_words[:50]"
      ],
      "metadata": {
        "id": "mLycA6V9u2Bk"
      },
      "execution_count": 111,
      "outputs": []
    },
    {
      "cell_type": "code",
      "source": [
        "print(\"Rank\\tWord\\t\\t\\tCount\")\n",
        "for rank, (word, score) in enumerate(top_words, start=1):\n",
        "  print(f\"{rank}\\t{word.ljust(20)}\\t{score}\")"
      ],
      "metadata": {
        "id": "CFYY-4Q9yltA",
        "outputId": "93543053-696e-450a-876f-44035eb621f9",
        "colab": {
          "base_uri": "https://localhost:8080/"
        }
      },
      "execution_count": 112,
      "outputs": [
        {
          "output_type": "stream",
          "name": "stdout",
          "text": [
            "Rank\tWord\t\t\tCount\n",
            "1\tpt                  \t6093.873452297718\n",
            "2\thr                  \t2283.181418535095\n",
            "3\tpain                \t1884.1704653104784\n",
            "4\tremains             \t1732.7571098150909\n",
            "5\tcont                \t1664.4634772162976\n",
            "6\tclear               \t1656.7091417740567\n",
            "7\tneuro               \t1638.1922727755152\n",
            "8\tplan                \t1638.1199395216502\n",
            "9\ttoday               \t1619.1763844453537\n",
            "10\tgiven               \t1616.600220865886\n",
            "11\tresp                \t1610.6901235755283\n",
            "12\tnoted               \t1589.9260047936693\n",
            "13\tcare                \t1569.4829446541048\n",
            "14\tni                  \t1569.2185323167025\n",
            "15\tskin                \t1563.0282437416504\n",
            "16\tbs                  \t1536.2014121600587\n",
            "17\tfamily              \t1463.8397708598718\n",
            "18\tintact              \t1457.8158198905746\n",
            "19\tstable              \t1446.7863915673556\n",
            "20\tabd                 \t1426.9796433205524\n",
            "21\tvent                \t1386.8122999108916\n",
            "22\tmonitor             \t1382.0993343173104\n",
            "23\t100                 \t1366.579047041778\n",
            "24\tsecretions          \t1364.5362463064616\n",
            "25\tcontinue            \t1357.6489932488935\n",
            "26\tyellow              \t1323.9900860682583\n",
            "27\tgi                  \t1300.4403601890508\n",
            "28\tnote                \t1270.7861569242739\n",
            "29\tshift               \t1255.5853159107817\n",
            "30\ttrach               \t1223.225617949413\n",
            "31\ttube                \t1206.1834669325117\n",
            "32\tsupport             \t1198.931270370344\n",
            "33\tgtt                 \t1198.325458609773\n",
            "34\tbp                  \t1195.0911527963463\n",
            "35\tleft                \t1193.404714517191\n",
            "36\tcv                  \t1188.792149443924\n",
            "37\turine               \t1188.2196140911806\n",
            "38\tgu                  \t1187.9188081915997\n",
            "39\trespiratory         \t1111.2670865173543\n",
            "40\tcontinues           \t1110.1921619704428\n",
            "41\tgood                \t1100.530163427133\n",
            "42\tright               \t1099.1436792028867\n",
            "43\tpatient             \t1094.1813861456192\n",
            "44\tdrainage            \t1093.045215306203\n",
            "45\tfoley               \t1085.5308854947102\n",
            "46\tiv                  \t1075.988691779355\n",
            "47\tsoft                \t1073.355565344114\n",
            "48\tdraining            \t1071.1977442525115\n",
            "49\tsocial              \t1059.606048807248\n",
            "50\tsats                \t1044.7599075857165\n"
          ]
        }
      ]
    },
    {
      "cell_type": "markdown",
      "source": [
        "select emotional words then filter rows that dont have a minimum number of them"
      ],
      "metadata": {
        "id": "IJasBc1JDJ7G"
      }
    },
    {
      "cell_type": "code",
      "source": [
        "selected_words = ['pain', 'family', 'stable', 'care', 'well', 'social', 'support', 'able', 'decreased', 'warm', 'unable', 'strong', 'intact', 'good', 'times', 'aware', 'eyes', 'tolerated', 'denies', 'tolerating', 'please', 'palpable']\n",
        "print(\"selected_words list length: \", len(selected_words))\n",
        "pattern = '|'.join(selected_words)\n",
        "filtered_data = df_notes_TSICU_dropped_cols[df_notes_TSICU_dropped_cols['TEXT'].str.contains(pattern, regex=True)].copy()\n",
        "#filtered_data = df_notes_TSICU[df_notes_TSICU['TEXT'].str.contains(pattern, regex=True)].copy()\n",
        "filtered_data['num_search_words'] = filtered_data['TEXT'].str.count(pattern)\n",
        "filtered_data = filtered_data[filtered_data['num_search_words'] >= 10]\n",
        "filtered_data.info()"
      ],
      "metadata": {
        "id": "io0fnZ6LDJje",
        "outputId": "836f3291-8651-4d90-af0e-3d5f4ddaced7",
        "colab": {
          "base_uri": "https://localhost:8080/"
        }
      },
      "execution_count": 113,
      "outputs": [
        {
          "output_type": "stream",
          "name": "stdout",
          "text": [
            "selected_words list length:  22\n",
            "<class 'pandas.core.frame.DataFrame'>\n",
            "Int64Index: 6436 entries, 9588 to 1476318\n",
            "Data columns (total 14 columns):\n",
            " #   Column             Non-Null Count  Dtype  \n",
            "---  ------             --------------  -----  \n",
            " 0   ROW_ID             6436 non-null   int64  \n",
            " 1   SUBJECT_ID         6436 non-null   int64  \n",
            " 2   CGID               6436 non-null   int64  \n",
            " 3   TEXT               6436 non-null   object \n",
            " 4   HADM_ID            6436 non-null   int64  \n",
            " 5   ICUSTAY_ID         6436 non-null   int64  \n",
            " 6   LOS                6436 non-null   float64\n",
            " 7   GENDER             6436 non-null   object \n",
            " 8   EXPIRE_FLAG        6436 non-null   int64  \n",
            " 9   DRG_CODE           6436 non-null   int64  \n",
            " 10  DESCRIPTION        6436 non-null   object \n",
            " 11  num_of_notes       6436 non-null   int64  \n",
            " 12  num_of_conditions  6436 non-null   float64\n",
            " 13  num_search_words   6436 non-null   int64  \n",
            "dtypes: float64(2), int64(9), object(3)\n",
            "memory usage: 754.2+ KB\n"
          ]
        }
      ]
    },
    {
      "cell_type": "markdown",
      "source": [
        "Random selection from sample set"
      ],
      "metadata": {
        "id": "9zgLOVKMmC1c"
      }
    },
    {
      "cell_type": "code",
      "source": [
        "filtered_data = filtered_data.sample(n=250, random_state=42)"
      ],
      "metadata": {
        "id": "A2g7uF3_mCja"
      },
      "execution_count": 114,
      "outputs": []
    },
    {
      "cell_type": "markdown",
      "source": [
        "Seperate deceased and living"
      ],
      "metadata": {
        "id": "9tJkPVZggBv_"
      }
    },
    {
      "cell_type": "code",
      "source": [
        "deceased_patients = filtered_data[filtered_data['EXPIRE_FLAG'] == 1]\n",
        "deceased_patients.info()"
      ],
      "metadata": {
        "id": "4cfpXZF4fnUG",
        "outputId": "b75e7925-f84f-443b-8db2-40fbf8b05648",
        "colab": {
          "base_uri": "https://localhost:8080/"
        }
      },
      "execution_count": 115,
      "outputs": [
        {
          "output_type": "stream",
          "name": "stdout",
          "text": [
            "<class 'pandas.core.frame.DataFrame'>\n",
            "Int64Index: 124 entries, 131376 to 409264\n",
            "Data columns (total 14 columns):\n",
            " #   Column             Non-Null Count  Dtype  \n",
            "---  ------             --------------  -----  \n",
            " 0   ROW_ID             124 non-null    int64  \n",
            " 1   SUBJECT_ID         124 non-null    int64  \n",
            " 2   CGID               124 non-null    int64  \n",
            " 3   TEXT               124 non-null    object \n",
            " 4   HADM_ID            124 non-null    int64  \n",
            " 5   ICUSTAY_ID         124 non-null    int64  \n",
            " 6   LOS                124 non-null    float64\n",
            " 7   GENDER             124 non-null    object \n",
            " 8   EXPIRE_FLAG        124 non-null    int64  \n",
            " 9   DRG_CODE           124 non-null    int64  \n",
            " 10  DESCRIPTION        124 non-null    object \n",
            " 11  num_of_notes       124 non-null    int64  \n",
            " 12  num_of_conditions  124 non-null    float64\n",
            " 13  num_search_words   124 non-null    int64  \n",
            "dtypes: float64(2), int64(9), object(3)\n",
            "memory usage: 14.5+ KB\n"
          ]
        }
      ]
    },
    {
      "cell_type": "code",
      "source": [
        "living_patients = filtered_data[filtered_data['EXPIRE_FLAG'] == 0]\n",
        "living_patients.info()"
      ],
      "metadata": {
        "id": "BfFfnIingFO3",
        "outputId": "c6c462ed-09cb-4d34-ef28-21330abd4ac4",
        "colab": {
          "base_uri": "https://localhost:8080/"
        }
      },
      "execution_count": 116,
      "outputs": [
        {
          "output_type": "stream",
          "name": "stdout",
          "text": [
            "<class 'pandas.core.frame.DataFrame'>\n",
            "Int64Index: 126 entries, 958940 to 655447\n",
            "Data columns (total 14 columns):\n",
            " #   Column             Non-Null Count  Dtype  \n",
            "---  ------             --------------  -----  \n",
            " 0   ROW_ID             126 non-null    int64  \n",
            " 1   SUBJECT_ID         126 non-null    int64  \n",
            " 2   CGID               126 non-null    int64  \n",
            " 3   TEXT               126 non-null    object \n",
            " 4   HADM_ID            126 non-null    int64  \n",
            " 5   ICUSTAY_ID         126 non-null    int64  \n",
            " 6   LOS                126 non-null    float64\n",
            " 7   GENDER             126 non-null    object \n",
            " 8   EXPIRE_FLAG        126 non-null    int64  \n",
            " 9   DRG_CODE           126 non-null    int64  \n",
            " 10  DESCRIPTION        126 non-null    object \n",
            " 11  num_of_notes       126 non-null    int64  \n",
            " 12  num_of_conditions  126 non-null    float64\n",
            " 13  num_search_words   126 non-null    int64  \n",
            "dtypes: float64(2), int64(9), object(3)\n",
            "memory usage: 14.8+ KB\n"
          ]
        }
      ]
    },
    {
      "cell_type": "markdown",
      "source": [
        "Remove similar sentences"
      ],
      "metadata": {
        "id": "T4IGl2_LhAjw"
      }
    },
    {
      "cell_type": "code",
      "source": [
        "from sklearn.feature_extraction.text import TfidfVectorizer\n",
        "from sklearn.metrics.pairwise import cosine_similarity\n",
        "\n",
        "sentences = filtered_data['TEXT'].tolist()\n",
        "vectorizer = TfidfVectorizer()\n",
        "tfidf_matrix = vectorizer.fit_transform(sentences)\n",
        "similarity_threshold = 0.8\n",
        "\n",
        "similar_indices = []\n",
        "for i, sentence in enumerate(sentences):  # needs to be the last step with max 1000 entries\n",
        "  if any(cosine_similarity(tfidf_matrix[i], tfidf_matrix[j])[0][0] > similarity_threshold for j in range(i)):  # very slow ~8 minutes for 1000 entries, exponential complexity (more than 5 hours if 6000 entries)\n",
        "    similar_indices.append(i)"
      ],
      "metadata": {
        "id": "y_7e8eEAg-8E"
      },
      "execution_count": 117,
      "outputs": []
    },
    {
      "cell_type": "code",
      "source": [
        "index_labels = filtered_data.index[similar_indices]\n",
        "filtered_data.drop(index_labels, inplace=True)\n",
        "\n",
        "filtered_data.info()"
      ],
      "metadata": {
        "id": "5hR3SznnlFAw",
        "outputId": "cdd250e5-425f-4a91-fa1d-eaf0d5ccc897",
        "colab": {
          "base_uri": "https://localhost:8080/"
        }
      },
      "execution_count": 118,
      "outputs": [
        {
          "output_type": "stream",
          "name": "stdout",
          "text": [
            "<class 'pandas.core.frame.DataFrame'>\n",
            "Int64Index: 240 entries, 958940 to 409264\n",
            "Data columns (total 14 columns):\n",
            " #   Column             Non-Null Count  Dtype  \n",
            "---  ------             --------------  -----  \n",
            " 0   ROW_ID             240 non-null    int64  \n",
            " 1   SUBJECT_ID         240 non-null    int64  \n",
            " 2   CGID               240 non-null    int64  \n",
            " 3   TEXT               240 non-null    object \n",
            " 4   HADM_ID            240 non-null    int64  \n",
            " 5   ICUSTAY_ID         240 non-null    int64  \n",
            " 6   LOS                240 non-null    float64\n",
            " 7   GENDER             240 non-null    object \n",
            " 8   EXPIRE_FLAG        240 non-null    int64  \n",
            " 9   DRG_CODE           240 non-null    int64  \n",
            " 10  DESCRIPTION        240 non-null    object \n",
            " 11  num_of_notes       240 non-null    int64  \n",
            " 12  num_of_conditions  240 non-null    float64\n",
            " 13  num_search_words   240 non-null    int64  \n",
            "dtypes: float64(2), int64(9), object(3)\n",
            "memory usage: 28.1+ KB\n"
          ]
        }
      ]
    },
    {
      "cell_type": "markdown",
      "source": [
        "Display notes"
      ],
      "metadata": {
        "id": "lnai1UuJCedn"
      }
    },
    {
      "cell_type": "code",
      "source": [
        "pd.set_option('display.max_colwidth', 250)\n",
        "pd.set_option('display.max_rows', None)\n",
        "print(filtered_data['TEXT'].head(200))\n",
        "pd.reset_option('display.max_colwidth')\n",
        "pd.reset_option('display.max_rows')"
      ],
      "metadata": {
        "id": "dZPZ-AGx-9NA",
        "outputId": "a89eda73-a3e2-4f1a-a2ce-8124be9a2c41",
        "colab": {
          "base_uri": "https://localhost:8080/"
        }
      },
      "execution_count": 119,
      "outputs": [
        {
          "output_type": "stream",
          "name": "stdout",
          "text": [
            "958940     Nursing Note 7p-7a\\n\\nROS: See carevue for exact data\\n\\nN: Pt easily arousable. Bizarre comments noted throughout the night, obvious confusion, but easily re-orienting. Oriented x2-3. MAE's, follows commands. Pupils 3 mm brisk/bilat. Speech clea...\n",
            "545278     NPN 7am-7pm\\n\\nSee carevue for exact data and vs\\n\\nEvents for today: Trache collar\\n\\nROS:\\n\\nN: Pt off propofol, awakes to stimulus, following commands a bit more consistently as the day continues. MAE's, able to give thumbs up, nod yes and no ...\n",
            "131376     NPN 1900-0500\\n  [**Name (NI) **] Pt alert and orientated to person, rarely orientated to place. Does answer questions appropriately at times esp concerning pain. Able to communicate \"sore belly\". Treated with dilaudid SC. He was unable to fall a...\n",
            "599096     Nursing (1900-0700)\\nSee flow sheet for details.  Assessment ongoing.  Received pt. in delusional state, stated he was seeing red, white and blue spots on the wall and that the door was upside down.  Unable to present reality to pt. upon initial ...\n",
            "838433     NPN 7p-7am\\n\\nROS : See carevue for exact data\\n\\nEvents of today:\\nColonoscopy at bedside\\nPre and Post KUB\\n\\nN: Mental status waxing and wanes. Periods of orientation to periods of complete delirium/agitation. Pt yelling out at times, refusing...\n",
            "802884     TSICU Nursing Progress Note\\nNeuro - Pt alert, gesturing to make needs known.  Not speaking.  Pupils surgical, briskly reactive.  Very weak gag.  Moving BUE with good strenght.  Lifting LLE off bed to stimulation, only slight movement of RLE.  Fo...\n",
            "753831     NPN 0700-1900\\n Events- MRI of cervical spine done. Plastics sutured more areas of scalp at bedside.\\n\\n[**Name (NI) **] Pt easily arousable on 60mcg/kg/min of propofol and able to FCs and MAEs. Throughoutday gradually needed to increase sedation...\n",
            "343762     [** 1719**] NPN 7p-7a\\nS/O-\\n\\n[**Name (NI) **] pt alert and nodding appropriately to questions, attempting to mouth words, Pt c/o pain around trach and also c/o of feeling the need to urinate after receiving lasix dose.  At times pt tapping bed ...\n",
            "838437     TSICU Nursing Progress Note\\nNeuro - A&O x3.  MAE's with good strength.  Follows commands consistently.  In am complained of pain in abdomen, however in afternoon pt has reported no pain.\\n\\nCV - HR 80-110 sinus rhythm, no ectopy noted.  ABP 100-...\n",
            "343872     Nursing Progress Note\\nSee Carevue for specific data.\\n\\nSignificant Events: CT scan; spontaneous breathing trial--> did not tolerate: sats down to 85%, RR 35bpm, back on CPAP + PS.  PS down from 10 to 8.\\n\\nNeuro: Pt is on Propofol, currently 50...\n",
            "230642     NPN: [**8-/2071**]\\nNEURO: slightly improved neuro exam this morning/afternoon > opening his eyes to stimulation > deviated upward gaze, not tracking. grimaces to pain (oral airway placement, thermometer placement, sternal rub). spontaneously mov...\n",
            "269499     Nursing Progress Note:\\nPlease refer to CareVue for details.\\n   Pt alert. Slept off and on this afternoon; easily arousable to voice. PERRLA. Follows commands inconsistently. Pt squeezes RN's hands and moves toes to command at times. PERRLA. Mou...\n",
            "347087     Nursing Note 7pm-7am\\n\\nROS: See caevue for exact data\\n\\nN: Pt remains lethargic, arousable to voice/stimuli. No sedation. Times 2 doses of morphine IVP for pain (grimacing) total 4mg. Will follow commands inconsistently with repetitive promptin...\n",
            "230816     Admit Note\\n   Pt is a 43yo firefighter responding to accident scene and was struck by oncoming car at highspeed. On arrival to EW he was in cardiac arrest and CPR in progress. EMS report large volume blood loss at scene. Pulse returned after 30m...\n",
            "684259     T/SICU RN Progress Note\\nNeuro:  Remains on fentanyl drip.  Pupils equal and reactive, to painful stimuli moves L lower extremitiy slightly, and min. to upper extremity.  No movement noted in R side, eyes do not open, no spontaneous movement.  Di...\n",
            "429758     NURSING PROGRESS NOTE 7A-7P\\n\\nPLEASE SEE CAREVIEW FOR EXACT DATA\\n\\nREVIEW OF SYSTEMS:\\n\\nNEURO-Pt alert and oriented to self and place, unable to recall year/month. Difficult to understand speech, increasingly agitated throughout shift. Pupils ...\n",
            "398514     Tsicu NPN 7p-7a\\nS/o-\\n\\n[**Name (NI) 248**] pt very lethargic and tired, minimal eye opening unless specificallyy addressed.  Does con't to follow commands consistently yet very weak w/ movement of extremities.  Medicated times one w/ dilaudid 1...\n",
            "568143     TSICU NPN:\\nNEURO: Alert and mouthing words appropriately.  Bilat. hearing aides intact and functional. Pt. denies any pain - no pain meds given.  Easily arousable to voice. MAE. PERL 3mm and brisk. Cervical collar on and halo still on.\\nCV: Tmax...\n",
            "1077319    T-SICU NPN 1900-0700\\nSee carevue for specifics.\\n[** **]:\\nNeuro: Sleeping most of noc; arousable to voice, opens eyes spontaneously, MAE's, follows commands consistently.  Oriented to self only; states he is in [**Hospital1 **] (also states thi...\n",
            "208145     T-SICU nsg note\\nneuro- pt following commands at times and able to speak his name when asked. pt told where he was and situation was explained. pt thought the year was \"[**2107**]\". good hand grasp and can wiggle toes. mitts applied due to pt gra...\n",
            "525099     NPN\\n\\nNeuro:  Pt is a little more responsive today than yesterday. She responds a little more readily  to painful stimuli, she started to cough this afternoon - a faily strong cough from secreations from the back of her throat, she has been moan...\n",
            "584870     T-SICU NPN 0700-1900\\nPlease see carevue for specifics.\\nROS:\\nNeuro: Exam unchanged since yesterday. Pupils equal and reactive, +gag, cough, and corneals.  Withdraws all extremities to nailbed pressure.  [** **]. facial grimace, brief crying at ...\n",
            "162348     Nursing (1900-0700)\\nSee flowsheet for details.\\n\\nOverall, pt. has had a better night than previous.  She has been slightly confused to time of day, and has made a few odd comments such as, \"are there doughnuts over there in that bag?\", but she ...\n",
            "930283     T/SICU Nursing 19-07\\nNeuro: Exam unchanged. RUE localizes to LUE nailbed pressure. LUE postures to nailbed pressure. Bilat LE's withdraw to pain. PERRL. Left corneal reflex impaired to absent, right intact. Gag, cough intact.\\n\\nPain: Treated fo...\n",
            "343705     T/SICU RN Progress Note\\nEvents:  Patient to CT at [**2084**] for CT/U/S guided drainage of fluid collection in RUQ.  Vitals stable, required fentanyl for pain/sedation during procedure, remained on trach collar through procedure.  Pigtail drain ...\n",
            "162345     NPN: 7p-7a\\n\\nNeuro: Alert and oriented to person and place but not time or situation, wraspy soft voice, follows simple commands well, MAE's on bed, PERRL, no sedation required, pt c/o no pain at rest.\\n\\nCV: NSR with occassional PVC's, L radial...\n",
            "385544     TSICU NPN 1900-0700\\nNeuro: Pt A/Ox2-3 (self/place) slightly disoriented at times however re-orients easily. Follows commands appropriately and MAE's. No c/o pain at all overnight only reports slight discomfort at abd incisional site and 1mg IV D...\n",
            "354207     SOCIAL WORK NOTE:\\n\\nMet with pt's wife, [**Name (NI) **], at length this afternoon to offer continued support.  She had just received word that pt might need further surgery and this was understandably very upsetting for her.  She is struggling ...\n",
            "1050418    T-SICU Nsg Note\\nRemains sedated on propofol, rate up to 50mcg/kg/min, as pt was awake and uncomfortable with ET tube and wrist restraints.  Pt also c/o throat and neck pain frequently, bolused with fentanyl and drip increased to 50mcg/hr with go...\n",
            "831060     Nursing (0700-1900)\\nSee flowsheet for details.\\n\\nOverall pt. is slowly improving in terms of his pain; today was a good day.  Pain level has been \"6 1/2-8 [**12-21**]\" throughout shift (this is tolerable for him) with one exception - at 4pm his...\n",
            "490685     T/SICU NSG NOTE\\n0700>>1900\\n\\nEVENTS: decreased PEEP; desaturated\\n        Physical therapy working on transfer activities with effect.\\n\\nNEURO-A&O, cooperative; emotional visit with siblings. Patient asking physical therapists if paralysis is ...\n",
            "565957     TSICU Nursing Progress Note\\nNeuro - Alert and oriented X [**12-27**].  Slightly confused at times.  Discontinued morphine today due to visual side effects, started Fentanyl PRN for pain control.  MAE's, lifts and holds uppers, and moves on bed l...\n",
            "621891     7p-7a Nursing Note\\nGeneral: Patient exhibiting improved feelings of wellbeing- smiling, highly involved in own care (such as repositioning, brushing own teeth), frequent use of the \"thumbs up\" sign.  Slept in short naps throughout the night.\\n\\n...\n",
            "545268     T-SICU NPN 0700-[**2030**]\\nPlease see carevue for specifics.\\n\\nEvents:  hct 24.4 (24.3 from 22.2)\\nCT of pelvis done d/t drop in hct, awaiting formal read.\\nTo OR this afternoon for trach/peg/IVC filter.\\n\\nROS:\\nNeuro: Sedated on propofol gtt,...\n",
            "549164     PLEASE SEE CAREVUE FOR SPECIFICS.\\n\\nNEURO: Pt remains lightly sedated on propofolol 30mcg and fentanyl dripp 50mcg. Awakens to voice easily, follow commands, moves lower ext's mostly spontaneously.Tried to wean down on propofol but pt seems unco...\n",
            "655456     NPN 0700-1900\\n\\nNeuro: Dozing throughout the day, awakens easily, denies pain; answers yes and no questions, collar in place; able to move upper extremities but very weak, moves lower extremities very little; continues to be anxious at times wit...\n",
            "782903     [** 1719**] NPN 11p-7a\\nS/O-\\n\\nPt returned from the OR at 11pm ICP initially in the low 40's yet acutely rising to 80 over period of 40minutes, neuro [**Doctor First Name **] and [**Doctor First Name 1719**] in to evaluate pt and dose of 25grams...\n",
            "132203     TSICU Nursing Progress Note\\nNeuro - Pt continues to be somewhat sedated.  Arouses easily to voice.  Talking with parents, somewhat hoarse.  Moving all extremities to command.  Tearful when talking with parents.\\n\\nCV - Generalized edema.  Strong...\n",
            "169955     MICU Nursing Note 1900-0700\\nEvents:  Hct down to 28.6---transfused with 1 unit pRBC overnight, golden diarrhea with small specs blood and guiac positive.  Hemodynamically stable overnight.\\n\\nNeuro:  A+Ox3, pleasant and cooperative, PEARL, movin...\n",
            "115084     SICU NPN\\nPt remains critically ill in the ICU s/p gallstone induced pancreatitis complicated by pt's cardiac status.\\n\\nROS:\\nNeuro: Pt remains sedated on propofol, 40mcg/kg/min. Pt will occ open eyes during turning or suctioning, MAE but does n...\n",
            "782941     NPN:  Review of Systems\\nNeuro: Oriented to person/ occasionally aware that she is in the hospital. Speech at times mumbled/ can't understand and than very clear at other times. Becomes agitated w/ nursing care/ cries leave me alone. Settles some...\n",
            "836893     Nursing admission note\\n36 yo female admitted s/p ped struck. PMH sig for ectopic pregnancy in '[**99**], and recent hypotension of unknown origin. Pt was hit by a [**Doctor Last Name **] going approx 35 mph, witnessed by sister, -LOC. Pt initial...\n",
            "484210     TSICU Nursing Progress Note 7a-7p:\\n\\nReveiew of Systems:\\n\\nNeuro: Receiving Ativan q 4 hours with one extra dose of 2mg for increased restlessness prior to CT scan. Fentanyl gtt need increased throughout the shift and changed to Dilaudid gtt at...\n",
            "279421     MICU Nursing Progress note 1900-0700\\nResp: Originally w/ trach mask but had periods of apnea w/ hypertension and feeling short of breath, put on vent on MMV 50%/8PEEP/8PS -feels more comfortable and vitals more stable. LS-coarse w/ dim bases. O2...\n",
            "790900     T/SICU Nursing Progress Note\\nS:\\nO: neuro: quite awake, mouthing words, aware of time,place, calm\\nC/o pain especially with suctioning and turning.  Medicated with morphine 5 mg iv approx Q1-2 hours with good effect.\\nCVS: tachycardic initially ...\n",
            "623605     T-SICU nsg admission note\\n  Pt was partying last night, admits to drinking about 20 beers and shots as well as smoking marajuana.  Tox screen + for etOH and cocaine.  Pt fell off second story balcony and landed on head per witnesses.  No loss of...\n",
            "22481      Nursing Progress Note, 1900-0730\\nPlease review careview for specifics.\\n\\nShift Events: Hyperdynamic at times, requiring versed prn for anxiety, continues on fentanyl gtt for pain control. Febrile overnoc, Tmax 100.9, given PO tylenol with good ...\n",
            "404999     TSICU NPN 11p-7a\\nS/O-\\n\\n[**Name (NI) **] pt sedated on propofol at 40mcgs/kg/min and receiving fentanyl at 75mcgs hr for pain.  When lighted pt opens eyes readily, gaze con't disconjugate w/ right eye deviating laterally, pupils briskly reactiv...\n",
            "90359      TSICU NPN  0700-1900\\nEVENTS:\\n\\nBronch 0800 -- minimal secretions, repaired site intact.\\n\\nAt 0900, pt noted to be sitting straight up in bed, SATS decreasing to low 80's. ET tube intact, breath sounds present bilaterally. Pt continued to furth...\n",
            "658897     T/SICU Shift Report 1900-0730\\n83 Year Old Male     NKA      DNR/DNI      Contact Precautions\\n\\nAdmission [**2136-3-1**] - S/P Cardiac/respiratory arrest\\n\\nPMH - Arrhythmias\\n      CAD\\n      MI - CABG [**2123**]\\n      Diabetes\\n\\nPatient admi...\n",
            "999819     See [**Month (only) **] and carevue for detailed documentation\\n\\nNeuro: Patient lethargic, arouses easily to voice. Oriented. Talking with family, asking approp. questions to staff. c/o HA in am, treated with tylenol and fentanyl with good relie...\n",
            "114414     MICU NPN for 7a-7p:   Full Code   NKDA\\n\\n                     Please see flowsheet for more details\\n\\nNeuro:  Increased c/o of pain at trach site by nodding yes when asked if in pain today.  Given several small boluses of fentanyl w/ good effec...\n",
            "840866     NPN 1900-0730\\nROS: see carevue for details\\n\\nNEURO: patient lightly sedated on propofol. when prop. off patient is alert & follows commands. moves all extremities weakly. nods yes to pain, tolerates  morphine with good pain control. PERLA [**2-...\n",
            "852820     NPN TSICU 0700-1900\\nEVENTS:\\n\\n-Pt made DNR today.\\n\\nREVIEW OF SYSTEMS:\\n\\nNeuro: Pt is off sedation but only opens eyes to painful stimuli. Pt is withdrawing to pain with all extremities. Non pourposeful movements with lower extremities and mo...\n",
            "131371     Nursing Progress Note 1900-0700 hours:\\n** DNR/DNI\\n\\n** Allergy: sulfa, pcn, amoxicillin, lipitor, naprosyn, crestor, shellfish, chocolate\\n\\n** access: left arm picc, left sc dialysis line\\n\\npls see FHp and admit note for hx.\\n\\nNEURO: [** **]...\n",
            "902136     T-SICU NPN 0700-1900\\nPlease see carevue for specifics.\\nROS:\\nNeuro: Sedated on propofol and fentanyl gtts, easily aorusable, MAE's, follows commands consistently.  Pupils equal and reactive.  Able to nod/shake head yes/no to simple questions.  ...\n",
            "192851     T/SICU NSG NOTE\\n0700>>1900\\n\\nEVENTS: Hemodialysis today: minimal ultrafiltraion- 250cc per primary team.\\n        Restless behavior returned by end of dialysis.\\n\\nNEURO- lethargic most of day; now restless & impatient at end of dialysis. Orien...\n",
            "710217     ***TSICU NURSING PROGRESS NOTE 7P-7A***\\n--please see carevue for exact data--\\n\\n\\nEVENTS: Esmolol gtt restarted @ approx 0500 for consistent SBPs >120 (130-140s)\\n\\n*ROS:\\n\\nNEURO: pt not on sedation. no change in neuro exam. pt unable to commu...\n",
            "228171     T-SICU NPN 0700-1900\\nPlease see carevue for specifics.\\nROS:\\nNeuro: A+Ox2-3, confuses year (\"[**2127**], [**2177**]\") and name of hospital (\"[**Hospital1 2552**] or [**Hospital3 576**]\").  Follows commands, MAE's, conts. RUE weakness.  Pupils e...\n",
            "231152     NPN 7p-7a\\n\\nevents- pt desatting in beginning of shift down to 87. decreased breath sounds, sx large amt thick tan sputum. CXR revielved no pnumo or change scince earlier CXR. ABG slight metabolic alkalosis. but pao2 down to 70. MD notified, pt ...\n",
            "26477      Nursing; 0700-1900\\nPt remains intubated with a #7 ET tube, 22cm at lip line.  Propofol turned off for approx 2 hours today.  Pt. woke up quickly.  Followed simple commands such as squeeze fingers on command, wiggle toes.  Pt. continued to become...\n",
            "896230     NPN: [**6-/2043**]\\nEVENTS: patient travelled to [**Hospital Ward Name **] for ERCP under general anethesia. Upon arrival to [**Hospital Ward Name **] patient with temp to 103.3. patient stable throughout case, although remained with baseline tac...\n",
            "566639     nsg note cont\\n0700>>1900\\n\\n   compression boots, sc heparin, multipodus boots in use.\\n   IVC filter...will need to be retrieved ? when\\n\\n[**Name (NI) **] PT visits initiated today. Ortho [**Name (NI) **] called to revise RUE splint and obtain...\n",
            "887271     Admission Note\\nPatient presented to the ED today with fever and pleuritic pain with deep inspiration.  Pt is s/p radical esophagectomy on [**5-3**] with TSICU admission then.\\n\\nPatient arrives to the ICU with [**Name8 (MD) **] RN on monitor.  T...\n",
            "172086     nursing progress note\\n\\nneuro: remains alert, resting off and on.  perrla, 3-4mm. denies visual disturbances although very photophobic. follows commands, L sided neglect evident at times. ? short term memory deficit suspected, continues to remai...\n",
            "566650     TSICU NPN 0700-1900\\nREVIEW OF SYSTEMS:\\n\\nNEURO: Pt more awake today, versed gtt initially weaned off, but restarted this evening due to increased agitation. PRN ativan also given. Morphine gtt for pain. Pt opens eyes spontanously, following com...\n",
            "623850     NPN 7a-7p\\n\\nNeuro: R pupil 6mm and L pupil 4 mm brisk in reaction to light, Neurosurgery and ICU team aware of pupillary changes, intact protective reflexes, spont opens eyes, conjugate gaze but pt will not visually track, spont writhing or uppe...\n",
            "597471     npn 1900-0700\\nneuro:confused,combative,restless.ox1 only.speech garbled and incoherent.conts on ativan gtt at 4mg/hr w/ little change in mental status or behavior.given 5mg ivp haldol after very agitated w/ good effect.sedated but aroused to voi...\n",
            "386153     Nursing Progress Note\\nNEURO: Pt trached and on pressure support ventilation. [** **] to voice, mostly asleep, PERRL 3-4mm, follows all commmands with generalized weakness. No signs of agitation. Spontaneous movement noted of all extremities.\\n\\n...\n",
            "871578     NPN:\\n\\nEVENTS: Call out to floor pending eval from thoracic team---> gradual decompensation in respiratory function since discontinuing epidural---> tachypnea and tachycardia associated with uncontrolled pain to R chest wall---> pt will remain i...\n",
            "526406     nursing progress note\\n\\nneuro: sedated w/ midaz, adjusted d/t pt's being wide eyed, uncomfortable w/ ett last eve, tol well at 4mg/h. fentanyl drip cont, pt shakes head no to ques of pain when lightened. following commands, mae weakly.\\n\\nresp: ...\n",
            "15114      Nursing Note [**2163-1-9**] at 1630\\n\\nNeuro : alert and oriented * 3// c/o throbbing pain in LLE, at all times. Pain consult done and pt. to start Dilaudid PCA, dose 0.25mg//6 minute lockout// no basal rate// one hour max 2mg// awaiting PCA pump...\n",
            "606417     Review of systems:\\n\\nNEURO: PT calm/ativan gtt at 1 mg/hr. opens eyes spontaneously and to voice. Does not follow commands(Portuguese speaking), MAE X4-weak, localizes/withdraws all extremities to tactile stimulation, PERRL 4mm bsk. No seizure a...\n",
            "772391     TSICU Nursing Progress Note\\n\\nReview Of systems:\\n\\nNeuro:\\nAlert and anxious this morning - started on haldol and given fentanyl for pain management with good effect.  Currently [** **] but arousable to voice, follows simple commands and nodds ...\n",
            "265887     Admit Note\\n25 y.o.m transfered from [**Hospital3 **] for acute abd pain & ? perforation from disimpaction. Pt presented w/ rigid abd & Temp of 101.5. Pt had c/o nausea & abd pain yesterday, whereupon his abd was found firm & distended - pt was d...\n",
            "925728     TSICU NPN 11p-7a\\nS/o -\\n[**Name (NI) **] pt sedated on propofol 0-30mcgs/min also receiving intermittant doses of fentanyl 25mcgs over night.  Pt opens right eye to voice, follows simple commands to raise hands, move leg and stick out tounge.\\nN...\n",
            "1115359    adm note\\nrussian speaking 81 y/o, s/p fall [**3-3**] 10feet off balcony, witnessed by family, no LOC, was ambulatory after the fall, brought by family to ED, was intubated for aggitation and for CT scans, found he had neg head scan but had C1 an...\n",
            "659377     T-SICU NPN 0700-1900\\nPlease see carevue for specifics.\\nROS:\\nNeuro: Sedated on fentanyl and propofol gtts.  Lightened for neuro exam.  Opens eyes, appears to be trying to nod head yes/no very faintly to some questions.  Non-purposeful, spontane...\n",
            "678619     NPN 7p-7am\\n\\nROS: See carevue for exact data.\\n\\nN: Pt arrived back from OR at 7pm. Pt still paralyzed, becoming hyperdynamic, started on propofol for better sedation. When lightened pt will open her eyes, but not following commands. No purposef...\n",
            "1113323    T-SICU NPN 0700-1900\\nPlease see carevue for specifics.\\n\\nEvents: To OR this am for change of L POC; accessed w/ 20g 3/4in. needle this afternoon.  To MRI, tol. well, initial results ->edema, to receive 12mg IV decadronx1 in addition to standing...\n",
            "828163     NPN TSICU 0700-1900\\nreview of systems:\\n\\nNeuro: Pt primary language is french but is able to communicate in english. A/O times 3. Moves all extreimites and follows commands. Pt gets anxious at times due to Bipap mask. Abd and back pain being we...\n",
            "230811     NPN 0700-1900\\nPLEASE SEE CAREVUE FOR SPECIFIC VS\\n\\nNEURO Remains unresponsive. Eyes closed for much of day/not blinking as much as noted yesterday. +[** **]/PERRLA [**3-16**] brisk. Cough/gag absent. EEG [**Month/Day (3) 2382**] into adjust lea...\n",
            "265823     NPN 7p-7am\\n\\nROS: See carevue for exact data.\\n\\nPt arrived back from OR at 19:00.\\n\\nProcedure: Posterior thoracolumbar fusion, IVC filter plcmt to right groin.\\n\\nN: Pt not reversed, first neuro exam obtained at 9pm. No change from earlier ass...\n",
            "901172     t/sicu nursing note 7p-7a\\nreview of systems\\n\\nneuro: pt alert and following commands consistantly with all extremeties. able to communicate by writing and mouthing words. unable to assess orientation d/t intubation and pt at times writing inapp...\n",
            "655041     ***[** 610**] NURSING ADMISSION NOTE 1500-1900***\\n--please see carevue for exact data--\\n\\n50yoF @ work as home health aide, sudden onset R sided facial droop & weakness. to OSH, Head CT--> L basal ganglia bleed, pt intubated & tx to [**Hospital...\n",
            "236541     T-SICU NPN 1900-0700\\nPlease see carevue for specifics.\\n\\n72yo male with extensive PMH who was at extended care facility for alt. MS and found to have pneumonia/urosepsis.  Head CT -> SAH.\\nDc'd to nursing home, but returned to [**Hospital1 **] ...\n",
            "836902     T-SICU Nsg note\\nEvents - R pleural CT placed\\n\\nNeuro - pt sedated - arouses to voice, answers orientation questions, falls back to sleep in between sentences.  On 12cc/hr bupivicaine per epidural.  Ketorolac given q 6.  Neurontin started today....\n",
            "248061     T/Sicu Nsg Progress Note\\n0700>>19:30\\n\\nPt with flat affect this morning- little response to questions/comments; no facial expressions; not focusing on speaker as unsual. C/o not sleeping well and just wanting to sleep. Pt allowed to have room d...\n",
            "671895     T-SICU NPN 1900-0700\\nSee carevue for specifics.\\nNeuro: sedated on propofol and fentanyl gtts; requiring increased sedation titration overnoc for restlessness/agitation, attempting to sit up.  Opens eyes spontaneously with all sedation on, follo...\n",
            "828190     nursing progress note\\n\\nneuro: alert, oriented x3 last evening, becoming slightly more confused and agitated w/ presence of hallucinations and nightmares assoc. w/ morphine use. pca d/c'd, given haldol x1 w/ very good effect. pt able to sleep fo...\n",
            "154205     NURSING PROGRESS NOTE\\n\\nPLEASE SEE CAREVUE FOR SPECIFICS\\n\\nNEURO: A&Ox3. Mouthing words, writing on clipboard as needed. Cooperative in care. Constistantly in pain, majority in abdomen. Attempting to wean off Fentanyl drip, currently at 125mcg/...\n",
            "26543      T-SICU NPN 0700-1900\\nsee carevue for specifics.\\nROS:\\nNeuro: Sedated on propofol and fentanyl gtts.  Opens eyes to tactile stimulation, does not follow commands.  Pupils 2mm, equal and reactive.  +corneals, gag and cough.  More awake and biting...\n",
            "533919     NPN 0700-1900\\nPLEASE SEE CAREVUE FOR SPECIFIC DATA\\n\\nEVENTS/RAD: RIJ CVL placed with ultrasound this am by TSICU team, pt remained stable throughout procedure and didnt require any additional tx-CXR confirmed proper placement of CVL. Pt travele...\n",
            "701311     NPN 7a-7pm\\n\\nROS: See carevue and transfer note for exact data\\n\\nN: Pt with periods of confusion to periods of alertness and orientation x3. MAE, follows commands. Pt will often moan, yell out, state \" I just want to go home\", or \"Why are they ...\n",
            "512050     TSICU Nursing Progress Note\\nNeuro - Pt slept in long naps throughout night.  A&Ox3 when awake.  MAE's spontaneously and to command with good strength.  Denies pain mostly, if left thumb squeezed she will complain of pain, however no intervention...\n",
            "1005029    NPN 7a-7p\\n\\nevents- TLS cleared, pt off logroll.\\n\\n[**Name (NI) 248**] pt opens eyes to noxious stimuli and closes eyes tight to pain. will not focus or track for hospital personel. does not follow commands in english or spanish. pt was able to...\n",
            "526414     T-SICU nsg note\\n   Neuro status changing.  Initially alert, Ox1, but able to converse on a topic.  Lethargic at times, despite attempts to keep pt awake, pt falling asleep during PT exercises.  This evening, pt talking spont but I cannot underst...\n",
            "1199560    Nursing Progress Note 0700-1900\\nReview of Systems:\\n\\nNeuro: Pt slept until am, then AAO X [**1-10**]. Pt OOB to chair by standing and shuffling a few steps, requiring great encouragement and freq resting. He also transferred to commode with min...\n",
            "1408066    NPN 1900-0700\\nPLEASE SEE CAREVUE FOR EXACT DATA\\n\\nNEURO: Alert, able to state name at times, unaware of place or date. Pt appearing less anxious/ confused this am after Ativan dose increased-slept for most of night. Medicated with 50mcg fentany...\n",
            "164149     please see carevue for details of care\\n\\npt intubated this AM, communicates intermittently by nodding to questions re: pain, name. Moves all extremities, inconsistently follows commands. Pupils 3 mm equal & reactive. Denies pain, fentanyl gtt in...\n",
            "59723      npn 7p-7a:\\n  ccu nsg progress note:\\ns/o: neuro---conts on propofol gtt for sedation, initially at 65mcg, pt grimacing to painful stimuli, gtt weaned down to 46mcg, pt spon opens eyes, conts to grimace to painful stimuli, is not able to purposef...\n",
            "709956     [** 1196**] npn 7p-7a\\nS/[**Name (NI) **]\\n[**Name (NI) **]  Pt [**Name (NI) 467**] and anxious, oriented times 2, appropriate about current events w/ his care.  Pt c/o pain in his arms and legs.  Pt con't on fentanyl gtt at 300mcgs/hr, methadone...\n",
            "406589     NPN 1900-0700\\n\\nNeuro: Alert, pupils equal and reactive.  [**Last Name (ambig) 1001**], [**Last Name (ambig) **]>BLE's.  Strong gag and cough.  Conts. fentanyl patch as ordered with adequate pain control per pt, no prn pain meds. given overnoc. ...\n",
            "269479     Update\\nO:See carevue flowsheet for specific.\\nResp:Breathing discoordinate w vent & poor abg at begin of shift on cmv mode.Vent settings tv450 fio2 50% peep 10 rr 24 initially . Paralyzed w cisatricurium w immed improvement in ventilation. Acido...\n",
            "255713     Nursing Progress Note\\nSee Carevue for specific data.\\n\\nSignificant Events: Pt made comfortable for the shift with PRN Dilaudid and Ativan.  Pt required og suction to clear secretions.\\n\\nNeuro: Pt unchanged throughout night, continues on q2hr n...\n",
            "444132     TSICU NPN 7p-7a\\nS/O\\n\\n[**Name (NI) 57**] pt alert and oriented times three, appropriately verbalizing about lose of leg and expressing wishes to get moving again soon w/ prosthesis.  Pt complaining of some phantom foot pain on right, constant a...\n",
            "924618     SICU NPN\\nEvents: Pt continues on pentobarb gtt with ICP and EEG monitoring.  PEJ placed this PM under angio guidance; Temp spike to 104.5\\n\\nROS:\\nNeuro:  ICPs up and down, floating up to 30's but back down relatively quickly to 16-24.  Neurosur...\n",
            "655464     Nursing Progress Note.\\nPlease refer to CareVue for specifics.\\n\\nEvents today:\\nSeen by neurology.\\nEEG done.\\nCommenced on Vancomycin.\\n\\nNEURO:\\nNo sedation. Remains mostly unresponsive. Exam waxing and [**Doctor Last Name **]. To loud voice t...\n",
            "545282     NPN 1900-0700\\nPlease see carevue for specific charting of vs and data.\\n\\nNEURO: Alert, neuro exam intact, MAEs. Dilaudid PRN with good pain control-? PCA may be appropriate alternative. Pt telling wife last [**Name2 (NI) **] \"just let me die\" p...\n",
            "914473     TSICU Nursing Admission Note\\nPt admitted s/p Whipple procedure due to pancreatic mass.  In OR briefly on Neo for low BP.  Came out without any vasopressors.  EBL 1500, urine 2500.  6000 liters cyrstaloid in, 4 units PRBC's, 250cc cell [**Doctor ...\n",
            "489658     NPN (0700-1530) Reivew of Systems:\\n\\nNeuro: Pt remains paralyzed on Cisaturicuriam and sedated on IV MSO4 and ativan. Unable to obtain complete neuro exam 2' facial swelling and inability to open or view eyes accurately. This am, pupils 3mm in s...\n",
            "559019     NPN 0700-1900\\nPLEASE REFER TO CAREVUE FOR EXACT DATA\\n\\nNEURO: Continuous video EEG monitoring still recording. Dilantin  re-bolused, though Neurology recommending to d/c. Jerky/tremulous activity appears to be seconadry to myoclonus rather than...\n",
            "782287     npn=\\ns=intubated.\\n\\no=awake, alert, moves all extremities. assists with turns in bed.  follows commands--very pleasant.\\n\\ncv=monitor pattern nsr with rate 80's.  no vea.  sbp continues elevated 150--170.  given additional hydralazine as ordere...\n",
            "530760     TSICU Nursing Progress Note\\nNeuro - remains intubated, not sedated.  Q1H neuro checks.  s/p L craniotomy.  Does not open eyes, postures all four extremities.  right pupil 1mm, left 2mm, nonreactive.  Impaired gag, intact cough.  No improvement. ...\n",
            "701323     TSICU Nursing Progress Note\\nNeuro - Pt slept some through night.  Confused, attempting to remove C-[** 5539**] and get OOB.  Said she wasnted to go upstairs.  Did not remember she was in hospital.  Given total of 2mg haldol with + effect.  This ...\n",
            "567126     Nursing Progress Note\\n[**Name (NI) **] Pt sedated on Propofol, ^ to 20mcg overnight for comfort w/effect.Fentanyl remains @ 120mcg, pt arouses to voice, looks to speaker, follows commands intermittently.Pain w/movement,repositioning,comfortable ...\n",
            "937897     T-SICU NURSING NOTE\\nROS/\\n\\nNeuro: Awake, MAE, nodding appropriately to questions. Denies pain when asked. Fent gtt continues at 50mcg/cc. [** **] infusion dc'd.\\n\\nCV: SR no ectopy. Pt hypertensive when in resp distress. Hypotensive this aftern...\n",
            "131342     Progress Note, 0700-[**2060**]\\nShift Events: - Trial extubation @ 1300 successful\\n              - Lasix gtt resumed\\n\\nReview of Systems:\\n\\nRESP: Extubated @ 1300, pt maintaining airway very well. Face tent @ 12L, FiO2 35%. SpO2 97-100%, RR 15...\n",
            "183751     T/SICU NURSING PROGRESS NOTE\\n\\nPLEASE SEE CAREVUE FOR EXACT DATA:\\n\\nREVIEW OF SYSTEMS:\\n\\nNEURO-Pt sedated on Propofol at 50mcgs/hr and Fentanyl gtt at 50mcgs/hr. Off sedation pt will open eyes to voice and follow commands, becomes agitated and...\n",
            "607649     TSICU NPN 1900-0700\\nREVIEW OF SYSTEMS:\\n\\nNEURO: Pt sedated on Fentanyl gtt at 100mcg/hr and PRN Ativan. Pt opens eyes to stimulation and at times voice. Pt did follow commands this am by sticking out tounge when asked. Pupils equal and reactive...\n",
            "869480     TSICU ADM NOTE\\nPt 83 yo female s/p I+D of abd wall abscess on [**2152-12-21**]. Pt is well known to [**Hospital1 10**], current hospital course is as follows:\\n[**2152-11-26**]: antrectomy, vagotomy, bilroth II, ligation of bleeding ulcer, splen...\n",
            "559597     Nursing Progress Note 0700-1900\\n*Full Code\\n\\n*Access: 18g L hand PIV, 18g Rwrist PIV, 20g Rhand PIV, RSC Quinton (HD)\\n\\n*Allergies: ACE Inhibitors\\n\\n**Admit to micu for monitoring.  Pt was home and became very weak, unable to ambulate to comm...\n",
            "999838     RN \"A\":\\nNeuro:\\nAOx3.Follows commands.MAE.Conversing this morning.Pleasant.Denies pain.Left foot is sensitive at time.Apperance unchanged.Participates in care.Does need encouragement to mobilize.PT OOB to chair.Stand and pivite.Tolerates well.OO...\n",
            "883869     NPN 0700-1900\\n[**Name (NI) 745**] pt went to OR at 0730 for Abd closure. Unable to sucessfully close would but did washout and partial closure with mesh. Pt tolerated procedure well.\\n\\n[**Name (NI) 248**] Pt opens eyes spont, pupils sluggish re...\n",
            "506028     T-SICU NPN 0700-1900\\nPlease see carevue for specifics.\\nROS:\\nNeuro: Alert, oriented to self, not to place, time or situation.  Pleasant, not combative.  MAE's, follows commands consistently, picks at gown, O2 probe; less restless with restraint...\n",
            "583132     T-SICU NPN 1900-0700\\nPlease see carevue for specifics.\\n\\nEvents:\\nReturned from OR approx. 1800 yesterday s/p RUE/LUE exploration with tendon/artery repair.\\ntmax 102.4po, pan cultured, tylenol given.  +yellow/tan nasal drainage\\nPlaced on CPAP...\n",
            "1257262    NPN\\nPlease see carevue for further details\\nAlert, moving all extremities well. Currently denies pain. Intubated, vent weaned to [**5-12**] and tolerated SBT for approximately 2 hours this afternoon. Blood gases unchanged, though improving alkal...\n",
            "626257     Tsicu npn 7p-7a\\nS/O\\n[**Name (NI) **] pt con't sedated on Mso4 4-5mghr and ativan 1mg hr IV gtts, pt opens eyes to voice, not specifically following any commands yet MAE's spontaneously, lifting arms at times and moving legs on bed, left leg mor...\n",
            "429732     T/SICU NURSING PROGRESS NOTE\\n\\nPLEASE SEE CAREVUE FOR EXACT DATA\\n\\nNO SIGNIFICANT EVENTS OVERNIGHT\\n\\nREVIEW OF SYSTEMS\\n\\nNEURO-Pt with PMH of schizoaffective d/o and mild MR. Pupils [**1-28**] bilaterally and brisk, strong cough and gag. MAE'...\n",
            "472427     ***TSICU NURSING PROGRESS NOTE 7A-7P***\\n--please see carevue for exact data--\\n\\nEVENTS: (1)pt extubated this AM->currently on face tent 50% FiO2 (2)Midazolam & Fentanyl gtts discontinued (3)A-line discontinued\\n\\nROS:\\n\\nNEURO: pt on Ketamine g...\n",
            "568156     nursing prog note\\n\\nneuro: pt remains sedated, intubated. lightened for neuro exam.  mae, follows commands consistently. pupils equal, sluggish reaction to light, nods and shakes head to questions. denies pain. halo cervical traction partially i...\n",
            "327087     TSICU NPN 11p-7a\\nevents- returned from OR at 10pm s/r revision of ex fix on right leg, now incorperating the right ankle, temp spike and reculturing over night.\\n\\n[**Name (NI) **] pt very alert, at times slightly restless.  Follows commands con...\n",
            "857046     npn\\ns=mouths the words--i'd like a pillow under my arm.\\n\\no=awake, alert, moves all extremities.  oriented and able to make her needs known by mouthing words.  no neuro deficits noted.\\n\\ncv=monitor pattern nsr with rate 80's.  no ectopy noted....\n",
            "429655     T/SICU NSG NOTE\\n1900>>0700\\n\\nEVENTS: no significant changes/events overnight\\n        daily wake-up and rsbi performed\\n        tube feeds advanced\\n\\nNEURO- alert alt w/naps after ativan dosing. Does not follow commands but mae's with normal s...\n",
            "747047     TSICU Nursing Progress Note\\nEvents:  Repeat head CT 0830, showed no change from previous scan.  C-spine flexion/extension films.  \"Essentialy normal\" however uppon flexion of neck pt reported some pain in neck.  Per neurosurg team to remain in C...\n",
            "623829     Nursing Progress Note, 0700-[**2052**]\\nPlease refer to careview for specifics.\\n\\nShift Events: Pt has been tolerating trach mask since 10AM today with no evidence of resp compromise.\\n\\nROS:\\n\\nRESP: Trach #8, pt has been tolerating trach mask ...\n",
            "169969     Cont'd NPN 1900-0700:\\nFamily members arrived in and talked to HO, the pt stayed over night in ICU and she is to be discharged to hebro-rehab in the morning. The family assisted this nurse in giving pt her meds, hooking her to the monitor and pro...\n",
            "314876     TSICU NPN 1630-1900\\nPLEASE SEE CAREVUE FOR SPECIFIC DATA\\nFULL code-followed bt Trauma, Ortho, Plastic surgery.\\n46 y/o male S/P high speed-unrestrained MVC vs bridge embankment (BAC 152) during police pursuit. Intubation attempted during [**Loc...\n",
            "699433     t-sicu nsg note\\nneuro- opens eyes to voice when sleeping, otherwise alert, follows commands, mae's, 2 episodes of sz activity from [**2044**]-[**2144**] lasting ~1-3mins, head ct obtained.\\n\\nresp- bs cta, strong productive cough, swallows secre...\n",
            "1072211    Npn 1900-0700\\n Neuro- Exam unchanged from previous shift. Moves BUEs L>R, moves LLEs on bed. No movement of RLE noted. Pupils equal and sluggish reaction to light. Both eyes swollen and red/purple, R eye originally without hematoma, now + racoon...\n",
            "747167     TSICU NSG ADMISSION NOTE\\nO: 55 y/o male w/  renal ca s/p nephrectomy [**2190**] w/ radiation. [**6-21**] Pt was dxed w/ mets to spine w/ extradural mass at T5 and kyphotic collapse at T10 thought to be related to radiation.  Pt was scheduled for...\n",
            "830839     ccu nursing progress note\\ns: Did they remove my heart?\\no: pls see carevue flowsheet for complete vs/data/events\\ncv: remains in sr w rate 80-90s. bp 95-110/50-60 via l rad aline. ausc 10pts lower. sm pulsus 6-10pts noted on aline.\\npericardial ...\n",
            "659369     Nursing Progress Note\\n1900-0730\\n\\n39 year old woman s/p physical and sexual assault in home on [**2112-4-21**]. Transferred from outside hospital.  Pt admitted with multiple facial fractures and lacerations and 4th degree perineal laceration wh...\n",
            "782917     [** 1719**] NPN 7p-7a\\nS/o-\\n\\n[**Name (NI) **] pt con't to brighten, frequent spontaneous eye opening.  Pupils w/ left slightly larger than right yet both briskly rx at 4-5mm, ventriculostomy at 15cm above the tragus and open for drain, putting ...\n",
            "429990     T/SICU NSG NOTE\\n0700>>1900\\n\\nEVENTS: converted to NSR; amioderone drip continues.\\n        tube feedings initiated\\n        insulin drip therapy initiated for elevated blood glucose levels.\\n\\nNEURO- continues to respond to stimulation and voic...\n",
            "710196     NPN 7a-7p\\n\\nevents- informational family meeting today. 2 daughters, son, 2 grandchildren, son-in-law, ICU team, nuerology, soc. work and nursing in attendance.\\n\\nneuro- pt not on sedation. attempts to open eyes when stimulated or call name. gr...\n",
            "483558     T/SICu NSG NOTE\\n0700>>1900\\n\\nEVENTS: cervical MRI deferred for now per Dr [**Last Name (STitle) 872**]\\n        fever; positive for Klebsiella in sputum culture> ancef\\n        confusion and delirium\\n\\nNEURO: patient is inconsistent in orienta...\n",
            "549109     Nursing Progress Note\\nSee Carevue for Specific Data.\\n\\nSignificant Events: Insulin [** 172**] discontinued, pt on RISS.  Ultrasound done of lower extremities to assess for clots/need for IVC filter placement. Heparin [** 172**] turned down to 7...\n",
            "664015     Pt arrived from [**Hospital Ward Name **] 2 last eve with resp distress/increased work of breathing. Hx of GERD with return of symptoms. ? reflux of acid ontyo vocal cords.\\nPt. has collasped vocal cords causing stridor requiring bipap/heliox rx....\n",
            "701317     NPN 7p-7a\\n\\nEvents: See above note, remains full treatment/DNR/DNI.\\n\\nNeuro: Obtunded/Lethargic, arousable to voice and tactile stimulation, purposeful mov't B UE's, weak LE's but able to move on bed, impaired sensation all extremities, PERRLA ...\n",
            "327091     cv:pt pulled aline out at the start of the shift. bp stable hr tachy to 111. no ectopy.\\n\\nneuro: pt agitated at times. demanding to get oob and get going. pt informed that his r leg is still in apparatus and that he cannot get oob until the r le...\n",
            "701335     NPN\\nplease see carevue for further details\\nN: Alert, oriented, speech muffled at times. pupils 1-2 mm briskly reactive. lifts and holds BUE, moves BLE on bed. Multiple bruises to head and bilateral extremities. [**Location (un) 298**] J [**Loca...\n",
            "314874     Tsicu npn\\nO: ROS\\n\\nNeuro: Cont on propofol and fent gtt and initially waking agitated and thrashing. Increased fentanyl w/ improved pain control. Now arousable easily to voice, MAE and consistently follows commands. Nodding appropriately to que...\n",
            "478135     TSICU Nursing Progress Note\\nNeuro - Pt remains intubated and sedated.  Midaz gtt off this am, changed to PRN.  Continues on fentanyl gtt for pain control.  When lightened will open eyes to voice, MAE's to pain.  Follows commands intermittently, ...\n",
            "766625     T-SICU NPN 0700-[**2030**]\\nPlease see carevue for specifics.\\nROS:\\nNeuro: This am, opening eyes spontaneously, not fc's, does faintly move extremities to stimulation, turns.  Pupils equal and reactive, no gag, very impaired cough.  Medicated wi...\n",
            "320902     TSICU NPN 7p-7a\\nEvents of the night:\\n- pt received from the OR at [**2121**] S/P IVC filter placement and L1-L2 posterior fusion, new hemovac drain in place from back incision.\\n- pt light so weaned to PSV over night and put to Trach mask at 6a...\n",
            "549124     ***TSICU NURSING ADMISSION NOTE 7A-7P***\\n--please see carevue for exact data--\\n\\nPMH: CAD, DM, HTN, CABG [**2176**], korsakoff dementia, proteinuria, hypercholexterolemia, L TKR\\n      -[**2-20**]: perforated diverticulitis s/p hartmanns proced...\n",
            "429617     TSICU NPN 7p-7a\\nEvents of shift:\\n     - Remained extubated w/ q 4hr nebs for wheezing\\n     - Taken off Kinair bed and placed on ICU bed for better positioning for pulmonary care\\n     - Restarted on TF's\\n     - Albumin 5% x's one for hypotens...\n",
            "1393248    FOCUSED NURSING NOTE\\n60 y.o. female with notable Hx HTN, spinal stenosis and anxiety admitted to SICU B s/p Posterior extension of spinal fusion T10-L2. Recevied in SICU intubated/ventilated for close hemodynamic monitoring in light of large blo...\n",
            "744025     NPN: [**7-/2068**]\\nEVENTS: patient extubated this afternoon to 40% face tent. +cuff leak, no stridor noted post extubation. LS clear, diminished. initial [**Year (4 digits) 1555**] post extubation, poor (see carevue for exact numbers), oxygen in...\n",
            "351054     NPN 7am-7pm\\n\\n65 yr old male s/p pedestrian struck.\\n\\nROS: See carevue for exact data\\n\\nN: Remains sedated on propofol/fentanyl for pain. Drips weaned today for possible extubation. Neuro exam with no large improvements. Pt spont moving all ex...\n",
            "566121     T/SICU NSG NOTE\\n0700>>1900\\n\\nEVENTS: antibiotic therapy discontinued\\n        Tracheostomy mask over 24 hours; ventilator removed from room\\n\\n\\nNEURO- less responsive this shift: opening eyes this am but not since then. Rare spontaneous moveme...\n",
            "265935     NPN 7a-7pm\\n\\nRos: See carevue for exact data\\n\\nN: Pt using dry erase board to communicate, also nods yes and no to questions. Pt oriented to self, hosp, yr. Pupils equal/reactive, following commands. gag impaired. [** 2702**] at bedside. Cerv c...\n",
            "838527     NPN 7am-7pm\\n\\nevents- pt extubated this afternoon.\\n\\n[**Name (NI) **] pt A&O MAE. follows commands. dilaudid changed to IV for pain control.\\n\\nCV- HR ST. in the low 100's lopressor started po. and given X1 prn. no ectopy. SBP 86-120's map abov...\n",
            "638749     NPN 7a-7p\\n\\nevents- central line placed for better access and fluid managment. CTA done to assess for source of hematuria. inital read neg, upon further eval ? right kidney bleed, to angio for embolization and IVC filter placment. no bleed found...\n",
            "409240     nursing progress note\\n\\nneuro: sedation increased last eve d/t poor ventilation, inability to provide physical care. neuro exam stable throughout shift, pt opening eyes faintly w/ sternal rub, unable to at this time d/t orbital edema. no communi...\n",
            "461999     TSICU Nursing Progress Note\\nNeuro - Currently intubated and sedated on propofol.  When lightened takes 45-60 min for best neuro exam.  MAE's to simple commands, opens eyes, shakes head yes and no intermittently.  PERRLA 2mm brisk.  Intact cough ...\n",
            "526353     T/SICU Shift Report 0700-[**2096**]\\n66 Year Old Male    NKA     Contact Precautions - MRSA   FULL CODE\\n\\nAdmission [**1-31**] - Acute Pancreatitis\\nReadmission [**2-13**] - Line sepsis\\nReadmission [**2-20**] - Vomiting/?aspiration\\n\\nPMH - Pro...\n",
            "878140     Nursing Progress Note:\\nPlease refer to CareVue for details.\\n   Neuro exam q2hr. Ppf gtt off this AM for vent weaning, but pt became very agitated. Pt attempting to tongue out and pull out ETT. Lorazepam 1mg IV given x1 without effect, so Ppf gt...\n",
            "278087     NPN 1900-0700 TSICU\\nReview of systems:\\n\\nNeuro: Fentanyl gtt weaned off at beginning of shift. PRN Fentanyl and Roxicett ordered for pain control. Pt's right pupil 4mm and left pupil 6mm, both nonreactive. Positve corneal reflexes. Pt moves all...\n",
            "795972     NPN 7a-7pm\\n\\nEvents of today:\\n\\nExtubated 11 a.m.\\nCX\\n\\nROS: See carevue for exact data\\n\\nN: Alert and oriented x3, unremarkable exam, MAE's, follows commands. Head bleed s/p from MVC .Initially sedated on propofol while intubated, then d/c'd...\n",
            "564995     NPN 1900-0700\\nPLEASE SEE CAREVUE FOR SPECIFIC DETAILS\\n\\nROS:\\n\\nNEURO: Remains unarousable. Coneals/cough/gag absent, pupils 3-4mm and non-reactive. Triple flexion present in LE's only,and much less pronounced than seen yesterday. No movement o...\n",
            "912885     TSICU NPN 0700-1900\\nREVIEW OF SYSTEMS:\\n\\nNEURO: Lightly sedated on Propofol @ 30mcg/kg/min. Pt opens eyes to voice, following commands. Extremities weak, moves on bed when asked. Positive cough and gag. Pupils 3mm, reactive to light (left pupil...\n",
            "175955     T/SICU Nursing Progress Note\\nS:Pt nods to questions, at times attempts to mouth words\\nO: Review of systems\\nNeuro: Initially pt quite agitated, was in perpetual motion pulling at everything and resisting any nursing care. He was tapping on the ...\n",
            "162014     TSICU NPN 11p-7a\\nS/O\\n\\n[**Name (NI) **] pt sedated on fentanyl 200mcgs/hr, midazolam 3-4mg hr, and propofol weaned down to 10mcgs/kg/min over night.  Benadryl 25mg IVP given times one for rash at 2am.  Pt very sedated, no spontaneous eye  openi...\n",
            "131384     T/SICU Nursing [**7-17**]\\nNeuro: [**Month/Year (2) 19**], complaining of anxiety through most of shift. Restless, resisting some care, constantly trying to pull at lines, etc. Follows commands consistently and is appropriate with non-verbal comm...\n",
            "805674     Nursing Progress Note\\nSee Careview/ICU flow sheet for frequent VS and Assessments.\\n\\nNEURO:  Pt. remains on propofol gtt. lightly sedated.  Opens eyes spontaneously and moves all extremeties with apparently good strength. PERRLA.  Does not foll...\n",
            "930618     T/SICU RN Progress Note\\nNeuro:  Patient remains intubated alert and gesturing and writing appropriately.  Able to move upper extremities without any difficulty.  Lower extremities splinted able to wiggle toes.\\n\\nCV:  HR 60-70's NSR denies chest...\n",
            "834517     neuro: pt open her eyes when you call her name. pt following commands. pt communicating by mouthing words and writing on board. pt c/o abd. pain, dr. [**First Name (STitle) 788**] called and aware, dr. [**Last Name (STitle) 10675**] called and aw...\n",
            "429702     Nursing Progress Note\\nReview of Systems:\\n\\nSkin: Anasarka. skin warm. Occasionally moist from weeping wounds. Coccyx slightly red with no open areas. abd midline dressing -open with W-D dressing and [**Last Name (un) **]. straps - needs reinfor...\n",
            "230972     firefighter struck by car, anoxic brain, bil leg and r. arm fx + grafts , seizures : in phenobarb coma\\n\\nassessment as noted in carevue\\n\\nres: on a/c, ls coarse, no changes in settings, abg wnl, suctioned for mod amnt thick yellow\\n\\nneuro:no c...\n",
            "840844     T-SICU NPN 1900-0700\\n71yo male with elevated Creatinine by routine screen at PCP, [**Name Initial (NameIs) **]. US ->AAA.  CT at OSH revealed 5.4 to 6cm juxtarenal AAA.  Pt asymptomatic, no [**Name Initial (NameIs) **] pain.  Admit [**2179-11-21...\n",
            "472419     Admission and Nursing Note\\nSee FHP for admission data\\n\\nPt. admitted to TSICU after a fall down [**6-15**] stairs.  Pt. fell at home after power went out, janitor of apartment complex found him down.  Pt. taken to [**Hospital1 40**] with large ...\n",
            "631924     NPN 0700-1900;\\n weaned to trach collar  still hyoertensive and agitated at times using lopressor and hyralazine for hypertension added nitopaste 1\"  q6hrs prn.\\n\\nros; neuro; more alert,  asking for a cigarette and to drive home communicating wi...\n",
            "483406     NPN 7a-7p\\nPt's temp has trended down, and he has been afebrile since 800. He has been given 650mg Tylenol Q4H. Pt received 500cc Fluid bolus this am for low u/o and increased levophed requirements. Pt did become more wheezy t/o the day and start...\n",
            "654831     T/SICU Nursing 19-07\\nSee CareVue for specific data.\\n\\nROS/\\nNeuro: Fentanyl gtt infusing for pain; midazolem gtt suspended at start of shift for best neuro exam, never restarted as patient remained calm and appeared comfortable with infusion of...\n",
            "921958     SICU NPN\\nPlease see admit note\\n\\nROS:\\nNeuro: Pt with improved neuro exam this PM. Eyes opening spontaneously, +corneals, pupils still sl uneven but reactive. Pt with strong cough/gag, able to tongue out bite block. Pt w/d all extremities to pa...\n",
            "567679     TSICU Nursing Progress note\\nNeuro - Alert, non-verbal.  Follows commands with the left side, not following with right side.  Withdraws right foot to pain, no movement of right arm.  PERRL, tracks light inconsistently.  Cough and gag very inconsi...\n",
            "597448     nursing/admit note\\npt 43 yo male s/p [**2131**]5 feet while painting with a friend. pt landed on feet, sustained very signif left ankle fx, alert, appropriate in ED. to OR last night for ORIF of left ankle. pt unable to wean from vent, oxygenati...\n",
            "1257228    npn\\nneuro: pt restless off and on thrashing head back and forth consistently nodding head no to any questions, propofol off, and pt dosed with fent and ativan in small doses over multiple times with calming affect. at times pt will follow comman...\n",
            "896300     TSICU NPN 7p-7a\\n[**Name (NI) **]  Pt converted back to SR, gradually weaning levo over night.  Attempted diuresis w/ 20 mg lasix IVP w/ minimal results, Rising creat this AM, vultiple vent changes per eophageal balloon protocol for increased PaC...\n",
            "161998     TSICU Nsg Admit Note\\n  Pt is A 35y/o male involved in motorcycle crash [**12-8**], pt was helmeted at time of accident.  He was medflighted from near [**Location (un) 1251**] and admitted through the EW.  Pt already intubated yet awake and respo...\n",
            "265836     Nursing (0700-1900)\\nSee flowsheet for details.\\n\\nToday's events:\\nVentilator wean.\\nRPCT removal.\\nFever.\\nTube feedings resumed.\\n\\nNeuro exams done Q4hrs per neurosurgery.  Pt. lightens quickly and easily from propofol gtt.  Pt. following com...\n",
            "1086606    NPN 1900-0730\\nNEURO: patient lightly sedated on propofol. when lightened opens eyes, follows commands and moves all extremities. nods appropriately to questions and attempts to mouth words. PERLA [**3-19**], briskly reactive dilantin as ordered....\n",
            "1397405    Tsicu npn\\nO: ros\\nNeuro: arousable to voice, opens eyes, mae and follows commands. sedated on low dose propofol. receiving ms04 prn for pain and ativan given x1 for restlessness.\\n\\nCV: hr 90's nsr rare apc's. Cont on lopressor 2.5mg iv q6hrs. N...\n",
            "390050     T-SICU NPN 1900-0700\\nPlease see carevue for specifics.\\n\\nEvents [** **]: tmax 101.1; pan cultured\\n       conts. high residuals, PEG clamped\\n       slowly weaning sedation as tol.\\n       Conts. to require 100%FIO2 for turning, tol. care bette...\n",
            "526364     NPN 1900-0700\\n   Pt is a 66yo male transferred form OSH [**1-31**] with necrotizing pancreatitis. Has remained sedated and intubated.\\n   [**Name (NI) **] Pt weaned from sedation. Fent gtt decrease prior to this shift and off in early am. Given ...\n",
            "847120     nursing progress note\\n\\nevents: pt to OR this afternoon for ex fix placement of right tib/fib and wrist. returned after 2hrs, uneventful operative course.\\n\\nneuro: prior to OR pt neuro exam stable, opening eyes only to painful stimulus, perrla....\n",
            "745851     Tsicu 7p-7a\\nS/O\\n\\n[**Name (NI) 57**] pt con't very somulent, no sedation or narcotics given this shift.  Pt rouses occaisionally to voice w/ very slight eye opening yet usually requiring more stimulation such as shaking her arm and calling her ...\n",
            "537654     NPN 7p-7a\\npt post ORIF with pinning of left humerous after GSW [**4-13**]. monitored for stated cocaine ingestion.  extubated [**4-13**]. tol well. A&O. anxious, talkative, and questioning. police at bedside pt under arrest but not yet arrigned....\n",
            "Name: TEXT, dtype: object\n"
          ]
        }
      ]
    },
    {
      "cell_type": "markdown",
      "source": [
        "Save to CSV"
      ],
      "metadata": {
        "id": "6hGujs3Fn8Mb"
      }
    },
    {
      "cell_type": "code",
      "source": [
        "# path and name of the cvs file \n",
        "PATH_TO_SAVE = \"/content/drive/MyDrive/NIH/Data/\"\n",
        "name_file_to_save = 'NOTES_NURSING_TRAJECTORIES_TSICU.csv'\n",
        "#filtered_data.to_csv(PATH_TO_SAVE+name_file_to_save,index=False)"
      ],
      "metadata": {
        "id": "metEeEnan7n0"
      },
      "execution_count": 120,
      "outputs": []
    },
    {
      "cell_type": "markdown",
      "source": [
        "Tokenized words"
      ],
      "metadata": {
        "id": "UU8xrEkoGzNi"
      }
    },
    {
      "cell_type": "code",
      "source": [
        "#text = df_notes_TSICU['TEXT'].str.cat(sep=' ')\n",
        "#words = nltk.word_tokenize(text)  # very slow"
      ],
      "metadata": {
        "id": "YlONNwDeGy9a"
      },
      "execution_count": 121,
      "outputs": []
    },
    {
      "cell_type": "markdown",
      "source": [
        "Count words in notes"
      ],
      "metadata": {
        "id": "gyFTOEALCbxX"
      }
    },
    {
      "cell_type": "code",
      "source": [
        "#stopwords = nltk.corpus.stopwords.words('english')\n",
        "#words = [word.lower() for word in words if word.lower() not in stopwords and re.match(r'\\b\\w+\\b', word)]  # also slow but only kinda slow\n",
        "#word_counts = Counter(words)\n",
        "#most_common_words = word_counts.most_common(300)"
      ],
      "metadata": {
        "id": "jtTWXQjy-_Fw"
      },
      "execution_count": 122,
      "outputs": []
    },
    {
      "cell_type": "code",
      "source": [
        "#print(\"Rank\\tWord\\t\\t\\tCount\")\n",
        "#for rank, word_count in enumerate(most_common_words, start=1):\n",
        "  #word, count = word_count\n",
        "  #print(f\"{rank}\\t{word.ljust(20)}\\t{count}\")"
      ],
      "metadata": {
        "id": "vtPdb3_iB5T0"
      },
      "execution_count": 123,
      "outputs": []
    },
    {
      "cell_type": "markdown",
      "source": [
        "Emotional words"
      ],
      "metadata": {
        "id": "2vLviAGyJmdQ"
      }
    },
    {
      "cell_type": "code",
      "source": [
        "#emotional_words = []\n",
        "#for word_count in most_common_words:\n",
        "  #word = word_count[0]\n",
        "  #synsets = wn.synsets(word)\n",
        "  #if synsets:\n",
        "    #senti_synset = swn.senti_synset(synsets[0].name())\n",
        "    #if senti_synset.pos_score() > 0.45 or senti_synset.neg_score() > 0.45:\n",
        "      #emotional_words.append(word)\n",
        "\n",
        "#emotional_words"
      ],
      "metadata": {
        "id": "4ATr_HSAJlpK"
      },
      "execution_count": 124,
      "outputs": []
    },
    {
      "cell_type": "code",
      "source": [
        "#from textblob import TextBlob\n",
        "#emotional_words = []\n",
        "#for word_count in most_common_words:\n",
        "  #word = word_count[0]\n",
        "  #tb = TextBlob(word)\n",
        "  #sentiment = tb.sentiment.polarity\n",
        "  #if abs(sentiment) > 0.35:\n",
        "    #emotional_words.append(word)\n",
        "\n",
        "#emotional_words"
      ],
      "metadata": {
        "id": "ZFtCDPOyRPcq"
      },
      "execution_count": 125,
      "outputs": []
    }
  ]
}