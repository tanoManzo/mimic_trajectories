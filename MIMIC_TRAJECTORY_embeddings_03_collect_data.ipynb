{
  "nbformat": 4,
  "nbformat_minor": 0,
  "metadata": {
    "colab": {
      "provenance": [],
      "include_colab_link": true
    },
    "kernelspec": {
      "name": "python3",
      "display_name": "Python 3"
    },
    "language_info": {
      "name": "python"
    }
  },
  "cells": [
    {
      "cell_type": "markdown",
      "metadata": {
        "id": "view-in-github",
        "colab_type": "text"
      },
      "source": [
        "<a href=\"https://colab.research.google.com/github/tanoManzo/mimic_trajectories/blob/dev/MIMIC_TRAJECTORY_embeddings_03_collect_data.ipynb\" target=\"_parent\"><img src=\"https://colab.research.google.com/assets/colab-badge.svg\" alt=\"Open In Colab\"/></a>"
      ]
    },
    {
      "cell_type": "markdown",
      "source": [
        "# Data Collection, Embeddings and Attitude"
      ],
      "metadata": {
        "id": "5CSBbeSkyRmq"
      }
    },
    {
      "cell_type": "code",
      "source": [
        "! pip install transformers -q"
      ],
      "metadata": {
        "id": "mcvHX_-AewgN"
      },
      "execution_count": 38,
      "outputs": []
    },
    {
      "cell_type": "code",
      "execution_count": 39,
      "metadata": {
        "id": "35BpcyS4eWHw"
      },
      "outputs": [],
      "source": [
        "import numpy as np\n",
        "import pandas as pd\n",
        "import torch\n",
        "import torch.nn.functional as F\n",
        "from transformers import AutoTokenizer, AutoModel\n",
        "from transformers import AutoModelForSequenceClassification"
      ]
    },
    {
      "cell_type": "markdown",
      "source": [
        "load nursing notes subject-caregiver-chartdate"
      ],
      "metadata": {
        "id": "2YFjrsu1tkB2"
      }
    },
    {
      "cell_type": "code",
      "source": [
        "from google.colab import drive\n",
        "drive.mount('/content/drive')"
      ],
      "metadata": {
        "colab": {
          "base_uri": "https://localhost:8080/"
        },
        "id": "GKFaijaIsKBU",
        "outputId": "3d1d84ff-a28e-4714-b9e4-57d2388195ca"
      },
      "execution_count": 40,
      "outputs": [
        {
          "output_type": "stream",
          "name": "stdout",
          "text": [
            "Drive already mounted at /content/drive; to attempt to forcibly remount, call drive.mount(\"/content/drive\", force_remount=True).\n"
          ]
        }
      ]
    },
    {
      "cell_type": "code",
      "source": [
        "notes_path = \"/content/drive/MyDrive/NIH/Data/\"\n",
        "notes_name = \"NOTES_NURSING_TRAJECTORIES_01.csv\"\n",
        "df_notes = pd.read_csv(notes_path+notes_name)\n",
        "df_notes.info()"
      ],
      "metadata": {
        "colab": {
          "base_uri": "https://localhost:8080/"
        },
        "id": "sSNmSwI5Ix2P",
        "outputId": "b6d7c291-0444-4927-80b4-b0524e6c7c87"
      },
      "execution_count": 41,
      "outputs": [
        {
          "output_type": "stream",
          "name": "stdout",
          "text": [
            "<class 'pandas.core.frame.DataFrame'>\n",
            "RangeIndex: 531675 entries, 0 to 531674\n",
            "Data columns (total 5 columns):\n",
            " #   Column      Non-Null Count   Dtype \n",
            "---  ------      --------------   ----- \n",
            " 0   ROW_ID      531675 non-null  int64 \n",
            " 1   SUBJECT_ID  531675 non-null  int64 \n",
            " 2   CGID        531675 non-null  int64 \n",
            " 3   CHARTDATE   531675 non-null  object\n",
            " 4   TEXT        531675 non-null  object\n",
            "dtypes: int64(3), object(2)\n",
            "memory usage: 20.3+ MB\n"
          ]
        }
      ]
    },
    {
      "cell_type": "code",
      "source": [
        "patients = \"PATIENTS.csv\"\n",
        "df_patients = pd.read_csv(notes_path+patients)\n",
        "df_patients.info()\n"
      ],
      "metadata": {
        "id": "oz7EmtbWQC31",
        "colab": {
          "base_uri": "https://localhost:8080/"
        },
        "outputId": "b841e18d-2f79-4a9b-bb43-58b4ca598e32"
      },
      "execution_count": 42,
      "outputs": [
        {
          "output_type": "stream",
          "name": "stdout",
          "text": [
            "<class 'pandas.core.frame.DataFrame'>\n",
            "RangeIndex: 46520 entries, 0 to 46519\n",
            "Data columns (total 8 columns):\n",
            " #   Column       Non-Null Count  Dtype \n",
            "---  ------       --------------  ----- \n",
            " 0   ROW_ID       46520 non-null  int64 \n",
            " 1   SUBJECT_ID   46520 non-null  int64 \n",
            " 2   GENDER       46520 non-null  object\n",
            " 3   DOB          46520 non-null  object\n",
            " 4   DOD          15759 non-null  object\n",
            " 5   DOD_HOSP     9974 non-null   object\n",
            " 6   DOD_SSN      13378 non-null  object\n",
            " 7   EXPIRE_FLAG  46520 non-null  int64 \n",
            "dtypes: int64(3), object(5)\n",
            "memory usage: 2.8+ MB\n"
          ]
        }
      ]
    },
    {
      "cell_type": "code",
      "source": [
        "ward_name = \"ICUSTAYS.csv\"\n",
        "df_ward = pd.read_csv(notes_path+ward_name)\n",
        "df_ward.info()\n",
        "df_ward['FIRST_CAREUNIT'].unique()"
      ],
      "metadata": {
        "id": "Ti0D5GvITEpa",
        "colab": {
          "base_uri": "https://localhost:8080/"
        },
        "outputId": "d4c30fc5-ea2d-4acc-e355-691ae8e00cda"
      },
      "execution_count": 43,
      "outputs": [
        {
          "output_type": "stream",
          "name": "stdout",
          "text": [
            "<class 'pandas.core.frame.DataFrame'>\n",
            "RangeIndex: 61532 entries, 0 to 61531\n",
            "Data columns (total 12 columns):\n",
            " #   Column          Non-Null Count  Dtype  \n",
            "---  ------          --------------  -----  \n",
            " 0   ROW_ID          61532 non-null  int64  \n",
            " 1   SUBJECT_ID      61532 non-null  int64  \n",
            " 2   HADM_ID         61532 non-null  int64  \n",
            " 3   ICUSTAY_ID      61532 non-null  int64  \n",
            " 4   DBSOURCE        61532 non-null  object \n",
            " 5   FIRST_CAREUNIT  61532 non-null  object \n",
            " 6   LAST_CAREUNIT   61532 non-null  object \n",
            " 7   FIRST_WARDID    61532 non-null  int64  \n",
            " 8   LAST_WARDID     61532 non-null  int64  \n",
            " 9   INTIME          61532 non-null  object \n",
            " 10  OUTTIME         61522 non-null  object \n",
            " 11  LOS             61522 non-null  float64\n",
            "dtypes: float64(1), int64(6), object(5)\n",
            "memory usage: 5.6+ MB\n"
          ]
        },
        {
          "output_type": "execute_result",
          "data": {
            "text/plain": [
              "array(['MICU', 'CCU', 'NICU', 'TSICU', 'SICU', 'CSRU'], dtype=object)"
            ]
          },
          "metadata": {},
          "execution_count": 43
        }
      ]
    },
    {
      "cell_type": "code",
      "source": [
        "drg = \"DRGCODES.csv\"\n",
        "df_drg = pd.read_csv(notes_path+drg)\n",
        "df_drg.info()"
      ],
      "metadata": {
        "id": "PFLocK_T-w_x",
        "outputId": "56b7cfed-2a6c-453a-86ee-c50f661cf8c7",
        "colab": {
          "base_uri": "https://localhost:8080/"
        }
      },
      "execution_count": 53,
      "outputs": [
        {
          "output_type": "stream",
          "name": "stdout",
          "text": [
            "<class 'pandas.core.frame.DataFrame'>\n",
            "RangeIndex: 125557 entries, 0 to 125556\n",
            "Data columns (total 8 columns):\n",
            " #   Column         Non-Null Count   Dtype  \n",
            "---  ------         --------------   -----  \n",
            " 0   ROW_ID         125557 non-null  int64  \n",
            " 1   SUBJECT_ID     125557 non-null  int64  \n",
            " 2   HADM_ID        125557 non-null  int64  \n",
            " 3   DRG_TYPE       125557 non-null  object \n",
            " 4   DRG_CODE       125557 non-null  int64  \n",
            " 5   DESCRIPTION    125494 non-null  object \n",
            " 6   DRG_SEVERITY   66634 non-null   float64\n",
            " 7   DRG_MORTALITY  66634 non-null   float64\n",
            "dtypes: float64(2), int64(4), object(2)\n",
            "memory usage: 7.7+ MB\n"
          ]
        }
      ]
    },
    {
      "cell_type": "markdown",
      "source": [
        "## **Data Preprocessing**"
      ],
      "metadata": {
        "id": "qdVDhESt91i2"
      }
    },
    {
      "cell_type": "markdown",
      "source": [
        "analyzing words in future dataset"
      ],
      "metadata": {
        "id": "saHXQ4P-6zpR"
      }
    },
    {
      "cell_type": "code",
      "source": [
        "!pip install nltk"
      ],
      "metadata": {
        "id": "kBFj_8TI-2MG",
        "colab": {
          "base_uri": "https://localhost:8080/"
        },
        "outputId": "0422ec26-3c42-4eb2-bcaa-9ba33b9faa5e"
      },
      "execution_count": 45,
      "outputs": [
        {
          "output_type": "stream",
          "name": "stdout",
          "text": [
            "Looking in indexes: https://pypi.org/simple, https://us-python.pkg.dev/colab-wheels/public/simple/\n",
            "Requirement already satisfied: nltk in /usr/local/lib/python3.10/dist-packages (3.8.1)\n",
            "Requirement already satisfied: click in /usr/local/lib/python3.10/dist-packages (from nltk) (8.1.3)\n",
            "Requirement already satisfied: joblib in /usr/local/lib/python3.10/dist-packages (from nltk) (1.2.0)\n",
            "Requirement already satisfied: regex>=2021.8.3 in /usr/local/lib/python3.10/dist-packages (from nltk) (2022.10.31)\n",
            "Requirement already satisfied: tqdm in /usr/local/lib/python3.10/dist-packages (from nltk) (4.65.0)\n"
          ]
        }
      ]
    },
    {
      "cell_type": "markdown",
      "source": [
        "imports for counting words"
      ],
      "metadata": {
        "id": "P8-8j1UnCo4n"
      }
    },
    {
      "cell_type": "code",
      "source": [
        "import re\n",
        "from collections import Counter\n",
        "\n",
        "from sklearn.feature_extraction.text import TfidfVectorizer\n",
        "\n",
        "import nltk\n",
        "nltk.download('punkt')\n",
        "nltk.download('stopwords')\n",
        "nltk.download('wordnet')\n",
        "nltk.download('sentiwordnet')\n",
        "from nltk.corpus import wordnet as wn\n",
        "from nltk.corpus import sentiwordnet as swn\n",
        "from nltk.tokenize import word_tokenize\n",
        "from nltk.corpus import stopwords"
      ],
      "metadata": {
        "id": "nPjR7flk_xYx",
        "colab": {
          "base_uri": "https://localhost:8080/"
        },
        "outputId": "8fe4fad4-5595-4e1b-ecff-3e87f304385f"
      },
      "execution_count": 46,
      "outputs": [
        {
          "output_type": "stream",
          "name": "stderr",
          "text": [
            "[nltk_data] Downloading package punkt to /root/nltk_data...\n",
            "[nltk_data]   Package punkt is already up-to-date!\n",
            "[nltk_data] Downloading package stopwords to /root/nltk_data...\n",
            "[nltk_data]   Package stopwords is already up-to-date!\n",
            "[nltk_data] Downloading package wordnet to /root/nltk_data...\n",
            "[nltk_data]   Package wordnet is already up-to-date!\n",
            "[nltk_data] Downloading package sentiwordnet to /root/nltk_data...\n",
            "[nltk_data]   Package sentiwordnet is already up-to-date!\n"
          ]
        }
      ]
    },
    {
      "cell_type": "markdown",
      "source": [
        "Grab tsicu notes, merge with drg codes"
      ],
      "metadata": {
        "id": "uLpw8TKsChMf"
      }
    },
    {
      "cell_type": "code",
      "source": [
        "# get new type of notes (TSICU)\n",
        "df_notes_TSICU = df_notes.merge(df_ward.drop('ROW_ID', axis=1), on='SUBJECT_ID')\n",
        "df_notes_TSICU = df_notes_TSICU.merge(df_patients.drop('ROW_ID', axis=1), on='SUBJECT_ID')\n",
        "df_notes_TSICU = df_notes_TSICU.merge(df_drg[['HADM_ID','DRG_CODE','DESCRIPTION']], on=['HADM_ID'])\n",
        "df_notes_TSICU = df_notes_TSICU[df_notes_TSICU['FIRST_CAREUNIT'] == 'TSICU'].drop_duplicates()\n",
        "df_notes_TSICU.info()\n",
        "df_notes_TSICU.head(5)\n",
        "#print(df_drg[df_drg.duplicated(['HADM_ID'], keep=False)])"
      ],
      "metadata": {
        "id": "RfRbbiU85KqG",
        "colab": {
          "base_uri": "https://localhost:8080/",
          "height": 1000
        },
        "outputId": "ad979a72-43cf-453d-b8f8-af46acdf5460"
      },
      "execution_count": 81,
      "outputs": [
        {
          "output_type": "stream",
          "name": "stdout",
          "text": [
            "<class 'pandas.core.frame.DataFrame'>\n",
            "Int64Index: 98089 entries, 5852 to 1502532\n",
            "Data columns (total 23 columns):\n",
            " #   Column          Non-Null Count  Dtype  \n",
            "---  ------          --------------  -----  \n",
            " 0   ROW_ID          98089 non-null  int64  \n",
            " 1   SUBJECT_ID      98089 non-null  int64  \n",
            " 2   CGID            98089 non-null  int64  \n",
            " 3   CHARTDATE       98089 non-null  object \n",
            " 4   TEXT            98089 non-null  object \n",
            " 5   HADM_ID         98089 non-null  int64  \n",
            " 6   ICUSTAY_ID      98089 non-null  int64  \n",
            " 7   DBSOURCE        98089 non-null  object \n",
            " 8   FIRST_CAREUNIT  98089 non-null  object \n",
            " 9   LAST_CAREUNIT   98089 non-null  object \n",
            " 10  FIRST_WARDID    98089 non-null  int64  \n",
            " 11  LAST_WARDID     98089 non-null  int64  \n",
            " 12  INTIME          98089 non-null  object \n",
            " 13  OUTTIME         98089 non-null  object \n",
            " 14  LOS             98089 non-null  float64\n",
            " 15  GENDER          98089 non-null  object \n",
            " 16  DOB             98089 non-null  object \n",
            " 17  DOD             54794 non-null  object \n",
            " 18  DOD_HOSP        33280 non-null  object \n",
            " 19  DOD_SSN         50032 non-null  object \n",
            " 20  EXPIRE_FLAG     98089 non-null  int64  \n",
            " 21  DRG_CODE        98089 non-null  int64  \n",
            " 22  DESCRIPTION     97751 non-null  object \n",
            "dtypes: float64(1), int64(9), object(13)\n",
            "memory usage: 18.0+ MB\n"
          ]
        },
        {
          "output_type": "execute_result",
          "data": {
            "text/plain": [
              "       ROW_ID  SUBJECT_ID   CGID   CHARTDATE  \\\n",
              "5852  1373553        8406  17765  2149-04-28   \n",
              "5853  1373550        8406  16140  2149-04-27   \n",
              "5854  1373547        8406  16140  2149-04-26   \n",
              "5855  1373567        8406  15659  2149-05-01   \n",
              "5856  1373633        8406  21570  2149-07-02   \n",
              "\n",
              "                                                   TEXT  HADM_ID  ICUSTAY_ID  \\\n",
              "5852  SOCIAL WORK NOTE:\\n\\nNew trauma pt on T-SICU f...   114444      239553   \n",
              "5853  SICU NPN\\nROS:\\nNeuro: Neuro exam unchanged th...   114444      239553   \n",
              "5854  SICU NPN\\nPt hemodynamicallly unstable today, ...   114444      239553   \n",
              "5855  T/SICU NSG PROGRESS NOTE.\\n0700>>[**2076**]\\n\\...   114444      239553   \n",
              "5856  Nursing Progress Note.\\n\\nCV: The pt has been ...   114444      239553   \n",
              "\n",
              "     DBSOURCE FIRST_CAREUNIT LAST_CAREUNIT  ...              OUTTIME      LOS  \\\n",
              "5852  carevue          TSICU         TSICU  ...  2149-05-22 14:04:55  26.6668   \n",
              "5853  carevue          TSICU         TSICU  ...  2149-05-22 14:04:55  26.6668   \n",
              "5854  carevue          TSICU         TSICU  ...  2149-05-22 14:04:55  26.6668   \n",
              "5855  carevue          TSICU         TSICU  ...  2149-05-22 14:04:55  26.6668   \n",
              "5856  carevue          TSICU         TSICU  ...  2149-05-22 14:04:55  26.6668   \n",
              "\n",
              "     GENDER                  DOB                  DOD             DOD_HOSP  \\\n",
              "5852      F  2117-06-28 00:00:00  2149-09-07 00:00:00  2149-09-07 00:00:00   \n",
              "5853      F  2117-06-28 00:00:00  2149-09-07 00:00:00  2149-09-07 00:00:00   \n",
              "5854      F  2117-06-28 00:00:00  2149-09-07 00:00:00  2149-09-07 00:00:00   \n",
              "5855      F  2117-06-28 00:00:00  2149-09-07 00:00:00  2149-09-07 00:00:00   \n",
              "5856      F  2117-06-28 00:00:00  2149-09-07 00:00:00  2149-09-07 00:00:00   \n",
              "\n",
              "                  DOD_SSN EXPIRE_FLAG DRG_CODE  \\\n",
              "5852  2149-09-07 00:00:00           1      483   \n",
              "5853  2149-09-07 00:00:00           1      483   \n",
              "5854  2149-09-07 00:00:00           1      483   \n",
              "5855  2149-09-07 00:00:00           1      483   \n",
              "5856  2149-09-07 00:00:00           1      483   \n",
              "\n",
              "                                            DESCRIPTION  \n",
              "5852  TRACHEOSTOMY WITH MECHANICAL VENTILATION 96+ H...  \n",
              "5853  TRACHEOSTOMY WITH MECHANICAL VENTILATION 96+ H...  \n",
              "5854  TRACHEOSTOMY WITH MECHANICAL VENTILATION 96+ H...  \n",
              "5855  TRACHEOSTOMY WITH MECHANICAL VENTILATION 96+ H...  \n",
              "5856  TRACHEOSTOMY WITH MECHANICAL VENTILATION 96+ H...  \n",
              "\n",
              "[5 rows x 23 columns]"
            ],
            "text/html": [
              "\n",
              "  <div id=\"df-e32fdd1f-3546-445b-98f4-80c476fa44ba\">\n",
              "    <div class=\"colab-df-container\">\n",
              "      <div>\n",
              "<style scoped>\n",
              "    .dataframe tbody tr th:only-of-type {\n",
              "        vertical-align: middle;\n",
              "    }\n",
              "\n",
              "    .dataframe tbody tr th {\n",
              "        vertical-align: top;\n",
              "    }\n",
              "\n",
              "    .dataframe thead th {\n",
              "        text-align: right;\n",
              "    }\n",
              "</style>\n",
              "<table border=\"1\" class=\"dataframe\">\n",
              "  <thead>\n",
              "    <tr style=\"text-align: right;\">\n",
              "      <th></th>\n",
              "      <th>ROW_ID</th>\n",
              "      <th>SUBJECT_ID</th>\n",
              "      <th>CGID</th>\n",
              "      <th>CHARTDATE</th>\n",
              "      <th>TEXT</th>\n",
              "      <th>HADM_ID</th>\n",
              "      <th>ICUSTAY_ID</th>\n",
              "      <th>DBSOURCE</th>\n",
              "      <th>FIRST_CAREUNIT</th>\n",
              "      <th>LAST_CAREUNIT</th>\n",
              "      <th>...</th>\n",
              "      <th>OUTTIME</th>\n",
              "      <th>LOS</th>\n",
              "      <th>GENDER</th>\n",
              "      <th>DOB</th>\n",
              "      <th>DOD</th>\n",
              "      <th>DOD_HOSP</th>\n",
              "      <th>DOD_SSN</th>\n",
              "      <th>EXPIRE_FLAG</th>\n",
              "      <th>DRG_CODE</th>\n",
              "      <th>DESCRIPTION</th>\n",
              "    </tr>\n",
              "  </thead>\n",
              "  <tbody>\n",
              "    <tr>\n",
              "      <th>5852</th>\n",
              "      <td>1373553</td>\n",
              "      <td>8406</td>\n",
              "      <td>17765</td>\n",
              "      <td>2149-04-28</td>\n",
              "      <td>SOCIAL WORK NOTE:\\n\\nNew trauma pt on T-SICU f...</td>\n",
              "      <td>114444</td>\n",
              "      <td>239553</td>\n",
              "      <td>carevue</td>\n",
              "      <td>TSICU</td>\n",
              "      <td>TSICU</td>\n",
              "      <td>...</td>\n",
              "      <td>2149-05-22 14:04:55</td>\n",
              "      <td>26.6668</td>\n",
              "      <td>F</td>\n",
              "      <td>2117-06-28 00:00:00</td>\n",
              "      <td>2149-09-07 00:00:00</td>\n",
              "      <td>2149-09-07 00:00:00</td>\n",
              "      <td>2149-09-07 00:00:00</td>\n",
              "      <td>1</td>\n",
              "      <td>483</td>\n",
              "      <td>TRACHEOSTOMY WITH MECHANICAL VENTILATION 96+ H...</td>\n",
              "    </tr>\n",
              "    <tr>\n",
              "      <th>5853</th>\n",
              "      <td>1373550</td>\n",
              "      <td>8406</td>\n",
              "      <td>16140</td>\n",
              "      <td>2149-04-27</td>\n",
              "      <td>SICU NPN\\nROS:\\nNeuro: Neuro exam unchanged th...</td>\n",
              "      <td>114444</td>\n",
              "      <td>239553</td>\n",
              "      <td>carevue</td>\n",
              "      <td>TSICU</td>\n",
              "      <td>TSICU</td>\n",
              "      <td>...</td>\n",
              "      <td>2149-05-22 14:04:55</td>\n",
              "      <td>26.6668</td>\n",
              "      <td>F</td>\n",
              "      <td>2117-06-28 00:00:00</td>\n",
              "      <td>2149-09-07 00:00:00</td>\n",
              "      <td>2149-09-07 00:00:00</td>\n",
              "      <td>2149-09-07 00:00:00</td>\n",
              "      <td>1</td>\n",
              "      <td>483</td>\n",
              "      <td>TRACHEOSTOMY WITH MECHANICAL VENTILATION 96+ H...</td>\n",
              "    </tr>\n",
              "    <tr>\n",
              "      <th>5854</th>\n",
              "      <td>1373547</td>\n",
              "      <td>8406</td>\n",
              "      <td>16140</td>\n",
              "      <td>2149-04-26</td>\n",
              "      <td>SICU NPN\\nPt hemodynamicallly unstable today, ...</td>\n",
              "      <td>114444</td>\n",
              "      <td>239553</td>\n",
              "      <td>carevue</td>\n",
              "      <td>TSICU</td>\n",
              "      <td>TSICU</td>\n",
              "      <td>...</td>\n",
              "      <td>2149-05-22 14:04:55</td>\n",
              "      <td>26.6668</td>\n",
              "      <td>F</td>\n",
              "      <td>2117-06-28 00:00:00</td>\n",
              "      <td>2149-09-07 00:00:00</td>\n",
              "      <td>2149-09-07 00:00:00</td>\n",
              "      <td>2149-09-07 00:00:00</td>\n",
              "      <td>1</td>\n",
              "      <td>483</td>\n",
              "      <td>TRACHEOSTOMY WITH MECHANICAL VENTILATION 96+ H...</td>\n",
              "    </tr>\n",
              "    <tr>\n",
              "      <th>5855</th>\n",
              "      <td>1373567</td>\n",
              "      <td>8406</td>\n",
              "      <td>15659</td>\n",
              "      <td>2149-05-01</td>\n",
              "      <td>T/SICU NSG PROGRESS NOTE.\\n0700&gt;&gt;[**2076**]\\n\\...</td>\n",
              "      <td>114444</td>\n",
              "      <td>239553</td>\n",
              "      <td>carevue</td>\n",
              "      <td>TSICU</td>\n",
              "      <td>TSICU</td>\n",
              "      <td>...</td>\n",
              "      <td>2149-05-22 14:04:55</td>\n",
              "      <td>26.6668</td>\n",
              "      <td>F</td>\n",
              "      <td>2117-06-28 00:00:00</td>\n",
              "      <td>2149-09-07 00:00:00</td>\n",
              "      <td>2149-09-07 00:00:00</td>\n",
              "      <td>2149-09-07 00:00:00</td>\n",
              "      <td>1</td>\n",
              "      <td>483</td>\n",
              "      <td>TRACHEOSTOMY WITH MECHANICAL VENTILATION 96+ H...</td>\n",
              "    </tr>\n",
              "    <tr>\n",
              "      <th>5856</th>\n",
              "      <td>1373633</td>\n",
              "      <td>8406</td>\n",
              "      <td>21570</td>\n",
              "      <td>2149-07-02</td>\n",
              "      <td>Nursing Progress Note.\\n\\nCV: The pt has been ...</td>\n",
              "      <td>114444</td>\n",
              "      <td>239553</td>\n",
              "      <td>carevue</td>\n",
              "      <td>TSICU</td>\n",
              "      <td>TSICU</td>\n",
              "      <td>...</td>\n",
              "      <td>2149-05-22 14:04:55</td>\n",
              "      <td>26.6668</td>\n",
              "      <td>F</td>\n",
              "      <td>2117-06-28 00:00:00</td>\n",
              "      <td>2149-09-07 00:00:00</td>\n",
              "      <td>2149-09-07 00:00:00</td>\n",
              "      <td>2149-09-07 00:00:00</td>\n",
              "      <td>1</td>\n",
              "      <td>483</td>\n",
              "      <td>TRACHEOSTOMY WITH MECHANICAL VENTILATION 96+ H...</td>\n",
              "    </tr>\n",
              "  </tbody>\n",
              "</table>\n",
              "<p>5 rows × 23 columns</p>\n",
              "</div>\n",
              "      <button class=\"colab-df-convert\" onclick=\"convertToInteractive('df-e32fdd1f-3546-445b-98f4-80c476fa44ba')\"\n",
              "              title=\"Convert this dataframe to an interactive table.\"\n",
              "              style=\"display:none;\">\n",
              "        \n",
              "  <svg xmlns=\"http://www.w3.org/2000/svg\" height=\"24px\"viewBox=\"0 0 24 24\"\n",
              "       width=\"24px\">\n",
              "    <path d=\"M0 0h24v24H0V0z\" fill=\"none\"/>\n",
              "    <path d=\"M18.56 5.44l.94 2.06.94-2.06 2.06-.94-2.06-.94-.94-2.06-.94 2.06-2.06.94zm-11 1L8.5 8.5l.94-2.06 2.06-.94-2.06-.94L8.5 2.5l-.94 2.06-2.06.94zm10 10l.94 2.06.94-2.06 2.06-.94-2.06-.94-.94-2.06-.94 2.06-2.06.94z\"/><path d=\"M17.41 7.96l-1.37-1.37c-.4-.4-.92-.59-1.43-.59-.52 0-1.04.2-1.43.59L10.3 9.45l-7.72 7.72c-.78.78-.78 2.05 0 2.83L4 21.41c.39.39.9.59 1.41.59.51 0 1.02-.2 1.41-.59l7.78-7.78 2.81-2.81c.8-.78.8-2.07 0-2.86zM5.41 20L4 18.59l7.72-7.72 1.47 1.35L5.41 20z\"/>\n",
              "  </svg>\n",
              "      </button>\n",
              "      \n",
              "  <style>\n",
              "    .colab-df-container {\n",
              "      display:flex;\n",
              "      flex-wrap:wrap;\n",
              "      gap: 12px;\n",
              "    }\n",
              "\n",
              "    .colab-df-convert {\n",
              "      background-color: #E8F0FE;\n",
              "      border: none;\n",
              "      border-radius: 50%;\n",
              "      cursor: pointer;\n",
              "      display: none;\n",
              "      fill: #1967D2;\n",
              "      height: 32px;\n",
              "      padding: 0 0 0 0;\n",
              "      width: 32px;\n",
              "    }\n",
              "\n",
              "    .colab-df-convert:hover {\n",
              "      background-color: #E2EBFA;\n",
              "      box-shadow: 0px 1px 2px rgba(60, 64, 67, 0.3), 0px 1px 3px 1px rgba(60, 64, 67, 0.15);\n",
              "      fill: #174EA6;\n",
              "    }\n",
              "\n",
              "    [theme=dark] .colab-df-convert {\n",
              "      background-color: #3B4455;\n",
              "      fill: #D2E3FC;\n",
              "    }\n",
              "\n",
              "    [theme=dark] .colab-df-convert:hover {\n",
              "      background-color: #434B5C;\n",
              "      box-shadow: 0px 1px 3px 1px rgba(0, 0, 0, 0.15);\n",
              "      filter: drop-shadow(0px 1px 2px rgba(0, 0, 0, 0.3));\n",
              "      fill: #FFFFFF;\n",
              "    }\n",
              "  </style>\n",
              "\n",
              "      <script>\n",
              "        const buttonEl =\n",
              "          document.querySelector('#df-e32fdd1f-3546-445b-98f4-80c476fa44ba button.colab-df-convert');\n",
              "        buttonEl.style.display =\n",
              "          google.colab.kernel.accessAllowed ? 'block' : 'none';\n",
              "\n",
              "        async function convertToInteractive(key) {\n",
              "          const element = document.querySelector('#df-e32fdd1f-3546-445b-98f4-80c476fa44ba');\n",
              "          const dataTable =\n",
              "            await google.colab.kernel.invokeFunction('convertToInteractive',\n",
              "                                                     [key], {});\n",
              "          if (!dataTable) return;\n",
              "\n",
              "          const docLinkHtml = 'Like what you see? Visit the ' +\n",
              "            '<a target=\"_blank\" href=https://colab.research.google.com/notebooks/data_table.ipynb>data table notebook</a>'\n",
              "            + ' to learn more about interactive tables.';\n",
              "          element.innerHTML = '';\n",
              "          dataTable['output_type'] = 'display_data';\n",
              "          await google.colab.output.renderOutput(dataTable, element);\n",
              "          const docLink = document.createElement('div');\n",
              "          docLink.innerHTML = docLinkHtml;\n",
              "          element.appendChild(docLink);\n",
              "        }\n",
              "      </script>\n",
              "    </div>\n",
              "  </div>\n",
              "  "
            ]
          },
          "metadata": {},
          "execution_count": 81
        }
      ]
    },
    {
      "cell_type": "code",
      "source": [
        "len(df_notes_TSICU['CGID'].unique())\n",
        "deceased_TSICU = df_notes_TSICU[df_notes_TSICU['EXPIRE_FLAG'] == 1]\n",
        "deceased_TSICU.info()"
      ],
      "metadata": {
        "id": "4quXDt_aieZv"
      },
      "execution_count": null,
      "outputs": []
    },
    {
      "cell_type": "code",
      "source": [
        "import seaborn as sns\n",
        "sns.set()\n",
        "\n",
        "\n",
        "gb_notes = deceased_TSICU.groupby(['CGID','SUBJECT_ID'])\n",
        "num_notes = gb_notes['TEXT'].count()\n",
        "\n",
        "print(f'number of notes: min={num_notes.min()}, max={num_notes.max()}, mean={num_notes.mean()},  median={num_notes.median()}')\n",
        "sns.boxplot(x=num_notes)\n",
        "sns.displot(num_notes[((num_notes>2) & (num_notes<15))])"
      ],
      "metadata": {
        "id": "RtIaEm23Ysfg"
      },
      "execution_count": null,
      "outputs": []
    },
    {
      "cell_type": "code",
      "source": [
        "grouping = df_notes_TSICU.groupby(['CGID','SUBJECT_ID']).size()\n",
        "df_notes_TSICU['num_of_notes'] = df_notes_TSICU.set_index(['CGID','SUBJECT_ID']).index.map(grouping)\n",
        "df_notes_TSICU_filtered = df_notes_TSICU[df_notes_TSICU['num_of_notes'] == 6]\n",
        "df_notes_TSICU_filtered.info()\n",
        "df_notes_TSICU_filtered.head(1)"
      ],
      "metadata": {
        "id": "hHCpzCETihOj"
      },
      "execution_count": null,
      "outputs": []
    },
    {
      "cell_type": "markdown",
      "source": [
        "Inverse Document Frequency"
      ],
      "metadata": {
        "id": "kSrdXBqOuXa0"
      }
    },
    {
      "cell_type": "code",
      "source": [
        "vectorizer = TfidfVectorizer(stop_words='english')\n",
        "tfidf_matrix = vectorizer.fit_transform(df_notes_TSICU['TEXT'])\n",
        "\n",
        "feature_names = vectorizer.get_feature_names_out()\n",
        "tfidf_scores = tfidf_matrix.sum(axis=0).A1\n",
        "word_score_dict = dict(zip(feature_names, tfidf_scores))\n",
        "\n",
        "sorted_words = sorted(word_score_dict.items(), key=lambda x: x[1], reverse=True)\n",
        "\n",
        "top_words = sorted_words[:50]"
      ],
      "metadata": {
        "id": "mLycA6V9u2Bk"
      },
      "execution_count": null,
      "outputs": []
    },
    {
      "cell_type": "code",
      "source": [
        "print(\"Rank\\tWord\\t\\t\\tCount\")\n",
        "for rank, (word, score) in enumerate(top_words, start=1):\n",
        "  print(f\"{rank}\\t{word.ljust(20)}\\t{score}\")"
      ],
      "metadata": {
        "id": "CFYY-4Q9yltA"
      },
      "execution_count": null,
      "outputs": []
    },
    {
      "cell_type": "markdown",
      "source": [
        "Tokenized words"
      ],
      "metadata": {
        "id": "UU8xrEkoGzNi"
      }
    },
    {
      "cell_type": "code",
      "source": [
        "#text = df_notes_TSICU['TEXT'].str.cat(sep=' ')\n",
        "#words = nltk.word_tokenize(text)  # very slow"
      ],
      "metadata": {
        "id": "YlONNwDeGy9a"
      },
      "execution_count": null,
      "outputs": []
    },
    {
      "cell_type": "markdown",
      "source": [
        "Count words in notes"
      ],
      "metadata": {
        "id": "gyFTOEALCbxX"
      }
    },
    {
      "cell_type": "code",
      "source": [
        "#stopwords = nltk.corpus.stopwords.words('english')\n",
        "#words = [word.lower() for word in words if word.lower() not in stopwords and re.match(r'\\b\\w+\\b', word)]  # also slow but only kinda slow\n",
        "#word_counts = Counter(words)\n",
        "#most_common_words = word_counts.most_common(300)"
      ],
      "metadata": {
        "id": "jtTWXQjy-_Fw"
      },
      "execution_count": null,
      "outputs": []
    },
    {
      "cell_type": "code",
      "source": [
        "#print(\"Rank\\tWord\\t\\t\\tCount\")\n",
        "#for rank, word_count in enumerate(most_common_words, start=1):\n",
        "  #word, count = word_count\n",
        "  #print(f\"{rank}\\t{word.ljust(20)}\\t{count}\")"
      ],
      "metadata": {
        "id": "vtPdb3_iB5T0"
      },
      "execution_count": null,
      "outputs": []
    },
    {
      "cell_type": "markdown",
      "source": [
        "Emotional words"
      ],
      "metadata": {
        "id": "2vLviAGyJmdQ"
      }
    },
    {
      "cell_type": "code",
      "source": [
        "#emotional_words = []\n",
        "#for word_count in most_common_words:\n",
        "  #word = word_count[0]\n",
        "  #synsets = wn.synsets(word)\n",
        "  #if synsets:\n",
        "    #senti_synset = swn.senti_synset(synsets[0].name())\n",
        "    #if senti_synset.pos_score() > 0.45 or senti_synset.neg_score() > 0.45:\n",
        "      #emotional_words.append(word)\n",
        "\n",
        "#emotional_words"
      ],
      "metadata": {
        "id": "4ATr_HSAJlpK"
      },
      "execution_count": null,
      "outputs": []
    },
    {
      "cell_type": "code",
      "source": [
        "#from textblob import TextBlob\n",
        "#emotional_words = []\n",
        "#for word_count in most_common_words:\n",
        "  #word = word_count[0]\n",
        "  #tb = TextBlob(word)\n",
        "  #sentiment = tb.sentiment.polarity\n",
        "  #if abs(sentiment) > 0.35:\n",
        "    #emotional_words.append(word)\n",
        "\n",
        "#emotional_words"
      ],
      "metadata": {
        "id": "ZFtCDPOyRPcq"
      },
      "execution_count": null,
      "outputs": []
    },
    {
      "cell_type": "markdown",
      "source": [
        "select emotional words then filter rows that dont have a minimum number of them"
      ],
      "metadata": {
        "id": "IJasBc1JDJ7G"
      }
    },
    {
      "cell_type": "code",
      "source": [
        "selected_words = ['pain', 'family', 'stable', 'care', 'well', 'social', 'support', 'able', 'decreased', 'warm', 'unable', 'strong', 'intact', 'good', 'times', 'aware', 'eyes', 'tolerated', 'denies', 'tolerating', 'please', 'palpable']\n",
        "print(\"selected_words list length: \", len(selected_words))\n",
        "pattern = '|'.join(selected_words)\n",
        "filtered_data = df_notes_TSICU[df_notes_TSICU['TEXT'].str.contains(pattern, regex=True)].copy()\n",
        "filtered_data['num_search_words'] = filtered_data['TEXT'].str.count(pattern)\n",
        "filtered_data = filtered_data[filtered_data['num_search_words'] >= 18]\n",
        "filtered_data.info()"
      ],
      "metadata": {
        "id": "io0fnZ6LDJje"
      },
      "execution_count": null,
      "outputs": []
    },
    {
      "cell_type": "markdown",
      "source": [
        "Remove similar sentences"
      ],
      "metadata": {
        "id": "T4IGl2_LhAjw"
      }
    },
    {
      "cell_type": "code",
      "source": [
        "from sklearn.feature_extraction.text import TfidfVectorizer\n",
        "from sklearn.metrics.pairwise import cosine_similarity\n",
        "\n",
        "sentences = filtered_data['TEXT'].tolist()\n",
        "vectorizer = TfidfVectorizer()\n",
        "tfidf_matrix = vectorizer.fit_transform(sentences)\n",
        "similarity_threshold = 0.8\n",
        "\n",
        "similar_indices = []\n",
        "for i, sentence in enumerate(sentences):\n",
        "  if any(cosine_similarity(tfidf_matrix[i], tfidf_matrix[j])[0][0] > similarity_threshold for j in range(i)):  # very slow ~8 minutes\n",
        "    similar_indices.append(i)"
      ],
      "metadata": {
        "id": "y_7e8eEAg-8E"
      },
      "execution_count": null,
      "outputs": []
    },
    {
      "cell_type": "code",
      "source": [
        "index_labels = filtered_data.index[similar_indices]\n",
        "filtered_data.drop(index_labels, inplace=True)\n",
        "\n",
        "filtered_data.info()"
      ],
      "metadata": {
        "id": "5hR3SznnlFAw"
      },
      "execution_count": null,
      "outputs": []
    },
    {
      "cell_type": "markdown",
      "source": [
        "Seperate deceased and living"
      ],
      "metadata": {
        "id": "9tJkPVZggBv_"
      }
    },
    {
      "cell_type": "code",
      "source": [
        "deceased_patients = filtered_data[filtered_data['EXPIRE_FLAG'] == 1]\n",
        "deceased_patients.info()"
      ],
      "metadata": {
        "id": "4cfpXZF4fnUG"
      },
      "execution_count": null,
      "outputs": []
    },
    {
      "cell_type": "code",
      "source": [
        "living_patients = filtered_data[filtered_data['EXPIRE_FLAG'] == 0]\n",
        "living_patients.info()"
      ],
      "metadata": {
        "id": "BfFfnIingFO3"
      },
      "execution_count": null,
      "outputs": []
    },
    {
      "cell_type": "markdown",
      "source": [
        "Random selection from sample set"
      ],
      "metadata": {
        "id": "9zgLOVKMmC1c"
      }
    },
    {
      "cell_type": "code",
      "source": [
        "filtered_data = filtered_data.sample(n=200, random_state=42)"
      ],
      "metadata": {
        "id": "A2g7uF3_mCja"
      },
      "execution_count": null,
      "outputs": []
    },
    {
      "cell_type": "markdown",
      "source": [
        "Display notes"
      ],
      "metadata": {
        "id": "lnai1UuJCedn"
      }
    },
    {
      "cell_type": "code",
      "source": [
        "pd.set_option('display.max_colwidth', 250)\n",
        "pd.set_option('display.max_rows', None)\n",
        "print(filtered_data['TEXT'].head(200))\n",
        "pd.reset_option('display.max_colwidth')\n",
        "pd.reset_option('display.max_rows')"
      ],
      "metadata": {
        "id": "dZPZ-AGx-9NA"
      },
      "execution_count": null,
      "outputs": []
    },
    {
      "cell_type": "markdown",
      "source": [
        "Save to CSV"
      ],
      "metadata": {
        "id": "6hGujs3Fn8Mb"
      }
    },
    {
      "cell_type": "code",
      "source": [
        "# path and name of the cvs file \n",
        "PATH_TO_SAVE = \"/content/drive/MyDrive/NIH/Data/\"\n",
        "name_file_to_save = 'NOTES_NURSING_TRAJECTORIES_TSICU.csv'\n",
        "#filtered_data.to_csv(PATH_TO_SAVE+name_file_to_save,index=False)"
      ],
      "metadata": {
        "id": "metEeEnan7n0"
      },
      "execution_count": null,
      "outputs": []
    }
  ]
}