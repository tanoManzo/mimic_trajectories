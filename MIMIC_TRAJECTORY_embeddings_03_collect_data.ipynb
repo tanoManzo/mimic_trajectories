{
  "nbformat": 4,
  "nbformat_minor": 0,
  "metadata": {
    "colab": {
      "provenance": [],
      "include_colab_link": true
    },
    "kernelspec": {
      "name": "python3",
      "display_name": "Python 3"
    },
    "language_info": {
      "name": "python"
    }
  },
  "cells": [
    {
      "cell_type": "markdown",
      "metadata": {
        "id": "view-in-github",
        "colab_type": "text"
      },
      "source": [
        "<a href=\"https://colab.research.google.com/github/tanoManzo/mimic_trajectories/blob/dev/MIMIC_TRAJECTORY_embeddings_03_collect_data.ipynb\" target=\"_parent\"><img src=\"https://colab.research.google.com/assets/colab-badge.svg\" alt=\"Open In Colab\"/></a>"
      ]
    },
    {
      "cell_type": "markdown",
      "source": [
        "# Data Collection, Embeddings and Attitude"
      ],
      "metadata": {
        "id": "5CSBbeSkyRmq"
      }
    },
    {
      "cell_type": "code",
      "source": [
        "! pip install transformers -q"
      ],
      "metadata": {
        "id": "mcvHX_-AewgN",
        "colab": {
          "base_uri": "https://localhost:8080/"
        },
        "outputId": "c7001d33-7d6a-4f24-ea30-981631b203b1"
      },
      "execution_count": 2,
      "outputs": [
        {
          "output_type": "stream",
          "name": "stdout",
          "text": [
            "\u001b[2K     \u001b[90m━━━━━━━━━━━━━━━━━━━━━━━━━━━━━━━━━━━━━━━━\u001b[0m \u001b[32m7.1/7.1 MB\u001b[0m \u001b[31m24.9 MB/s\u001b[0m eta \u001b[36m0:00:00\u001b[0m\n",
            "\u001b[2K     \u001b[90m━━━━━━━━━━━━━━━━━━━━━━━━━━━━━━━━━━━━━━━\u001b[0m \u001b[32m224.5/224.5 kB\u001b[0m \u001b[31m5.8 MB/s\u001b[0m eta \u001b[36m0:00:00\u001b[0m\n",
            "\u001b[2K     \u001b[90m━━━━━━━━━━━━━━━━━━━━━━━━━━━━━━━━━━━━━━━━\u001b[0m \u001b[32m7.8/7.8 MB\u001b[0m \u001b[31m31.9 MB/s\u001b[0m eta \u001b[36m0:00:00\u001b[0m\n",
            "\u001b[?25h"
          ]
        }
      ]
    },
    {
      "cell_type": "code",
      "execution_count": 3,
      "metadata": {
        "id": "35BpcyS4eWHw"
      },
      "outputs": [],
      "source": [
        "import numpy as np\n",
        "import pandas as pd\n",
        "import torch\n",
        "import torch.nn.functional as F\n",
        "from transformers import AutoTokenizer, AutoModel\n",
        "from transformers import AutoModelForSequenceClassification"
      ]
    },
    {
      "cell_type": "markdown",
      "source": [
        "load nursing notes subject-caregiver-chartdate"
      ],
      "metadata": {
        "id": "2YFjrsu1tkB2"
      }
    },
    {
      "cell_type": "code",
      "source": [
        "from google.colab import drive\n",
        "drive.mount('/content/drive')"
      ],
      "metadata": {
        "colab": {
          "base_uri": "https://localhost:8080/"
        },
        "id": "GKFaijaIsKBU",
        "outputId": "d1c876e9-1b17-47e4-8519-799e7d984b87"
      },
      "execution_count": 4,
      "outputs": [
        {
          "output_type": "stream",
          "name": "stdout",
          "text": [
            "Mounted at /content/drive\n"
          ]
        }
      ]
    },
    {
      "cell_type": "code",
      "source": [
        "notes_path = \"/content/drive/MyDrive/NIH/Data/\"\n",
        "notes_name = \"NOTES_NURSING_TRAJECTORIES_01.csv\"\n",
        "df_notes = pd.read_csv(notes_path+notes_name)\n",
        "df_notes.info()"
      ],
      "metadata": {
        "colab": {
          "base_uri": "https://localhost:8080/"
        },
        "id": "sSNmSwI5Ix2P",
        "outputId": "05d4ebb2-de65-4ffa-bf94-3e4631ace611"
      },
      "execution_count": 5,
      "outputs": [
        {
          "output_type": "stream",
          "name": "stdout",
          "text": [
            "<class 'pandas.core.frame.DataFrame'>\n",
            "RangeIndex: 531675 entries, 0 to 531674\n",
            "Data columns (total 5 columns):\n",
            " #   Column      Non-Null Count   Dtype \n",
            "---  ------      --------------   ----- \n",
            " 0   ROW_ID      531675 non-null  int64 \n",
            " 1   SUBJECT_ID  531675 non-null  int64 \n",
            " 2   CGID        531675 non-null  int64 \n",
            " 3   CHARTDATE   531675 non-null  object\n",
            " 4   TEXT        531675 non-null  object\n",
            "dtypes: int64(3), object(2)\n",
            "memory usage: 20.3+ MB\n"
          ]
        }
      ]
    },
    {
      "cell_type": "code",
      "source": [
        "patients = \"PATIENTS.csv\"\n",
        "df_patients = pd.read_csv(notes_path+patients)\n",
        "df_patients.info()\n"
      ],
      "metadata": {
        "id": "oz7EmtbWQC31",
        "colab": {
          "base_uri": "https://localhost:8080/"
        },
        "outputId": "75f646e7-cd9e-4174-e05f-c6f3d9a35f9e"
      },
      "execution_count": 6,
      "outputs": [
        {
          "output_type": "stream",
          "name": "stdout",
          "text": [
            "<class 'pandas.core.frame.DataFrame'>\n",
            "RangeIndex: 46520 entries, 0 to 46519\n",
            "Data columns (total 8 columns):\n",
            " #   Column       Non-Null Count  Dtype \n",
            "---  ------       --------------  ----- \n",
            " 0   ROW_ID       46520 non-null  int64 \n",
            " 1   SUBJECT_ID   46520 non-null  int64 \n",
            " 2   GENDER       46520 non-null  object\n",
            " 3   DOB          46520 non-null  object\n",
            " 4   DOD          15759 non-null  object\n",
            " 5   DOD_HOSP     9974 non-null   object\n",
            " 6   DOD_SSN      13378 non-null  object\n",
            " 7   EXPIRE_FLAG  46520 non-null  int64 \n",
            "dtypes: int64(3), object(5)\n",
            "memory usage: 2.8+ MB\n"
          ]
        }
      ]
    },
    {
      "cell_type": "code",
      "source": [
        "ward_name = \"ICUSTAYS.csv\"\n",
        "df_ward = pd.read_csv(notes_path+ward_name)\n",
        "df_ward.info()\n",
        "df_ward['FIRST_CAREUNIT'].unique()"
      ],
      "metadata": {
        "id": "Ti0D5GvITEpa",
        "colab": {
          "base_uri": "https://localhost:8080/"
        },
        "outputId": "ba49935c-5e8c-496e-903b-f9d695e5ddf1"
      },
      "execution_count": 7,
      "outputs": [
        {
          "output_type": "stream",
          "name": "stdout",
          "text": [
            "<class 'pandas.core.frame.DataFrame'>\n",
            "RangeIndex: 61532 entries, 0 to 61531\n",
            "Data columns (total 12 columns):\n",
            " #   Column          Non-Null Count  Dtype  \n",
            "---  ------          --------------  -----  \n",
            " 0   ROW_ID          61532 non-null  int64  \n",
            " 1   SUBJECT_ID      61532 non-null  int64  \n",
            " 2   HADM_ID         61532 non-null  int64  \n",
            " 3   ICUSTAY_ID      61532 non-null  int64  \n",
            " 4   DBSOURCE        61532 non-null  object \n",
            " 5   FIRST_CAREUNIT  61532 non-null  object \n",
            " 6   LAST_CAREUNIT   61532 non-null  object \n",
            " 7   FIRST_WARDID    61532 non-null  int64  \n",
            " 8   LAST_WARDID     61532 non-null  int64  \n",
            " 9   INTIME          61532 non-null  object \n",
            " 10  OUTTIME         61522 non-null  object \n",
            " 11  LOS             61522 non-null  float64\n",
            "dtypes: float64(1), int64(6), object(5)\n",
            "memory usage: 5.6+ MB\n"
          ]
        },
        {
          "output_type": "execute_result",
          "data": {
            "text/plain": [
              "array(['MICU', 'CCU', 'NICU', 'TSICU', 'SICU', 'CSRU'], dtype=object)"
            ]
          },
          "metadata": {},
          "execution_count": 7
        }
      ]
    },
    {
      "cell_type": "markdown",
      "source": [
        "## **Data Preprocessing**"
      ],
      "metadata": {
        "id": "qdVDhESt91i2"
      }
    },
    {
      "cell_type": "markdown",
      "source": [
        "analyzing words in future dataset"
      ],
      "metadata": {
        "id": "saHXQ4P-6zpR"
      }
    },
    {
      "cell_type": "code",
      "source": [
        "!pip install nltk"
      ],
      "metadata": {
        "id": "kBFj_8TI-2MG",
        "colab": {
          "base_uri": "https://localhost:8080/"
        },
        "outputId": "0871179f-a6fc-40c5-e2c3-b02daa266343"
      },
      "execution_count": 8,
      "outputs": [
        {
          "output_type": "stream",
          "name": "stdout",
          "text": [
            "Looking in indexes: https://pypi.org/simple, https://us-python.pkg.dev/colab-wheels/public/simple/\n",
            "Requirement already satisfied: nltk in /usr/local/lib/python3.10/dist-packages (3.8.1)\n",
            "Requirement already satisfied: click in /usr/local/lib/python3.10/dist-packages (from nltk) (8.1.3)\n",
            "Requirement already satisfied: joblib in /usr/local/lib/python3.10/dist-packages (from nltk) (1.2.0)\n",
            "Requirement already satisfied: regex>=2021.8.3 in /usr/local/lib/python3.10/dist-packages (from nltk) (2022.10.31)\n",
            "Requirement already satisfied: tqdm in /usr/local/lib/python3.10/dist-packages (from nltk) (4.65.0)\n"
          ]
        }
      ]
    },
    {
      "cell_type": "markdown",
      "source": [
        "imports for counting words"
      ],
      "metadata": {
        "id": "P8-8j1UnCo4n"
      }
    },
    {
      "cell_type": "code",
      "source": [
        "import re\n",
        "from collections import Counter\n",
        "\n",
        "from sklearn.feature_extraction.text import TfidfVectorizer\n",
        "\n",
        "import nltk\n",
        "nltk.download('punkt')\n",
        "nltk.download('stopwords')\n",
        "nltk.download('wordnet')\n",
        "nltk.download('sentiwordnet')\n",
        "from nltk.corpus import wordnet as wn\n",
        "from nltk.corpus import sentiwordnet as swn\n",
        "from nltk.tokenize import word_tokenize\n",
        "from nltk.corpus import stopwords"
      ],
      "metadata": {
        "id": "nPjR7flk_xYx",
        "colab": {
          "base_uri": "https://localhost:8080/"
        },
        "outputId": "6f277445-342f-4ae1-b191-b2e01b5bf4ea"
      },
      "execution_count": 9,
      "outputs": [
        {
          "output_type": "stream",
          "name": "stderr",
          "text": [
            "[nltk_data] Downloading package punkt to /root/nltk_data...\n",
            "[nltk_data]   Unzipping tokenizers/punkt.zip.\n",
            "[nltk_data] Downloading package stopwords to /root/nltk_data...\n",
            "[nltk_data]   Unzipping corpora/stopwords.zip.\n",
            "[nltk_data] Downloading package wordnet to /root/nltk_data...\n",
            "[nltk_data] Downloading package sentiwordnet to /root/nltk_data...\n",
            "[nltk_data]   Unzipping corpora/sentiwordnet.zip.\n"
          ]
        }
      ]
    },
    {
      "cell_type": "markdown",
      "source": [
        "Grab tsicu notes"
      ],
      "metadata": {
        "id": "uLpw8TKsChMf"
      }
    },
    {
      "cell_type": "code",
      "source": [
        "# get new type of notes (TSICU)\n",
        "df_notes_TSICU = df_notes.merge(df_ward, on='SUBJECT_ID')\n",
        "df_notes_TSICU = df_notes_TSICU.merge(df_patients, on='SUBJECT_ID')\n",
        "\n",
        "df_notes_TSICU = df_notes_TSICU[df_notes_TSICU['FIRST_CAREUNIT'] == 'TSICU']\n",
        "df_notes_TSICU.info()\n",
        "df_notes_TSICU.head(5)"
      ],
      "metadata": {
        "id": "RfRbbiU85KqG",
        "colab": {
          "base_uri": "https://localhost:8080/",
          "height": 886
        },
        "outputId": "9c897d3c-b1cc-4a39-d150-1bc0e52d9e7f"
      },
      "execution_count": 10,
      "outputs": [
        {
          "output_type": "stream",
          "name": "stdout",
          "text": [
            "<class 'pandas.core.frame.DataFrame'>\n",
            "Int64Index: 64489 entries, 3299 to 908600\n",
            "Data columns (total 23 columns):\n",
            " #   Column          Non-Null Count  Dtype  \n",
            "---  ------          --------------  -----  \n",
            " 0   ROW_ID_x        64489 non-null  int64  \n",
            " 1   SUBJECT_ID      64489 non-null  int64  \n",
            " 2   CGID            64489 non-null  int64  \n",
            " 3   CHARTDATE       64489 non-null  object \n",
            " 4   TEXT            64489 non-null  object \n",
            " 5   ROW_ID_y        64489 non-null  int64  \n",
            " 6   HADM_ID         64489 non-null  int64  \n",
            " 7   ICUSTAY_ID      64489 non-null  int64  \n",
            " 8   DBSOURCE        64489 non-null  object \n",
            " 9   FIRST_CAREUNIT  64489 non-null  object \n",
            " 10  LAST_CAREUNIT   64489 non-null  object \n",
            " 11  FIRST_WARDID    64489 non-null  int64  \n",
            " 12  LAST_WARDID     64489 non-null  int64  \n",
            " 13  INTIME          64489 non-null  object \n",
            " 14  OUTTIME         64489 non-null  object \n",
            " 15  LOS             64489 non-null  float64\n",
            " 16  ROW_ID          64489 non-null  int64  \n",
            " 17  GENDER          64489 non-null  object \n",
            " 18  DOB             64489 non-null  object \n",
            " 19  DOD             37373 non-null  object \n",
            " 20  DOD_HOSP        22199 non-null  object \n",
            " 21  DOD_SSN         34181 non-null  object \n",
            " 22  EXPIRE_FLAG     64489 non-null  int64  \n",
            "dtypes: float64(1), int64(10), object(12)\n",
            "memory usage: 11.8+ MB\n"
          ]
        },
        {
          "output_type": "execute_result",
          "data": {
            "text/plain": [
              "      ROW_ID_x  SUBJECT_ID   CGID   CHARTDATE  \\\n",
              "3299   1373553        8406  17765  2149-04-28   \n",
              "3301   1373550        8406  16140  2149-04-27   \n",
              "3303   1373547        8406  16140  2149-04-26   \n",
              "3305   1373567        8406  15659  2149-05-01   \n",
              "3307   1373633        8406  21570  2149-07-02   \n",
              "\n",
              "                                                   TEXT  ROW_ID_y  HADM_ID  \\\n",
              "3299  SOCIAL WORK NOTE:\\n\\nNew trauma pt on T-SICU f...     10680   114444   \n",
              "3301  SICU NPN\\nROS:\\nNeuro: Neuro exam unchanged th...     10680   114444   \n",
              "3303  SICU NPN\\nPt hemodynamicallly unstable today, ...     10680   114444   \n",
              "3305  T/SICU NSG PROGRESS NOTE.\\n0700>>[**2076**]\\n\\...     10680   114444   \n",
              "3307  Nursing Progress Note.\\n\\nCV: The pt has been ...     10680   114444   \n",
              "\n",
              "      ICUSTAY_ID DBSOURCE FIRST_CAREUNIT  ...               INTIME  \\\n",
              "3299      239553  carevue          TSICU  ...  2149-04-25 22:04:41   \n",
              "3301      239553  carevue          TSICU  ...  2149-04-25 22:04:41   \n",
              "3303      239553  carevue          TSICU  ...  2149-04-25 22:04:41   \n",
              "3305      239553  carevue          TSICU  ...  2149-04-25 22:04:41   \n",
              "3307      239553  carevue          TSICU  ...  2149-04-25 22:04:41   \n",
              "\n",
              "                  OUTTIME      LOS ROW_ID GENDER                  DOB  \\\n",
              "3299  2149-05-22 14:04:55  26.6668   7950      F  2117-06-28 00:00:00   \n",
              "3301  2149-05-22 14:04:55  26.6668   7950      F  2117-06-28 00:00:00   \n",
              "3303  2149-05-22 14:04:55  26.6668   7950      F  2117-06-28 00:00:00   \n",
              "3305  2149-05-22 14:04:55  26.6668   7950      F  2117-06-28 00:00:00   \n",
              "3307  2149-05-22 14:04:55  26.6668   7950      F  2117-06-28 00:00:00   \n",
              "\n",
              "                      DOD             DOD_HOSP              DOD_SSN  \\\n",
              "3299  2149-09-07 00:00:00  2149-09-07 00:00:00  2149-09-07 00:00:00   \n",
              "3301  2149-09-07 00:00:00  2149-09-07 00:00:00  2149-09-07 00:00:00   \n",
              "3303  2149-09-07 00:00:00  2149-09-07 00:00:00  2149-09-07 00:00:00   \n",
              "3305  2149-09-07 00:00:00  2149-09-07 00:00:00  2149-09-07 00:00:00   \n",
              "3307  2149-09-07 00:00:00  2149-09-07 00:00:00  2149-09-07 00:00:00   \n",
              "\n",
              "     EXPIRE_FLAG  \n",
              "3299           1  \n",
              "3301           1  \n",
              "3303           1  \n",
              "3305           1  \n",
              "3307           1  \n",
              "\n",
              "[5 rows x 23 columns]"
            ],
            "text/html": [
              "\n",
              "  <div id=\"df-93e6d266-fc26-47d4-9f09-9c7881614380\">\n",
              "    <div class=\"colab-df-container\">\n",
              "      <div>\n",
              "<style scoped>\n",
              "    .dataframe tbody tr th:only-of-type {\n",
              "        vertical-align: middle;\n",
              "    }\n",
              "\n",
              "    .dataframe tbody tr th {\n",
              "        vertical-align: top;\n",
              "    }\n",
              "\n",
              "    .dataframe thead th {\n",
              "        text-align: right;\n",
              "    }\n",
              "</style>\n",
              "<table border=\"1\" class=\"dataframe\">\n",
              "  <thead>\n",
              "    <tr style=\"text-align: right;\">\n",
              "      <th></th>\n",
              "      <th>ROW_ID_x</th>\n",
              "      <th>SUBJECT_ID</th>\n",
              "      <th>CGID</th>\n",
              "      <th>CHARTDATE</th>\n",
              "      <th>TEXT</th>\n",
              "      <th>ROW_ID_y</th>\n",
              "      <th>HADM_ID</th>\n",
              "      <th>ICUSTAY_ID</th>\n",
              "      <th>DBSOURCE</th>\n",
              "      <th>FIRST_CAREUNIT</th>\n",
              "      <th>...</th>\n",
              "      <th>INTIME</th>\n",
              "      <th>OUTTIME</th>\n",
              "      <th>LOS</th>\n",
              "      <th>ROW_ID</th>\n",
              "      <th>GENDER</th>\n",
              "      <th>DOB</th>\n",
              "      <th>DOD</th>\n",
              "      <th>DOD_HOSP</th>\n",
              "      <th>DOD_SSN</th>\n",
              "      <th>EXPIRE_FLAG</th>\n",
              "    </tr>\n",
              "  </thead>\n",
              "  <tbody>\n",
              "    <tr>\n",
              "      <th>3299</th>\n",
              "      <td>1373553</td>\n",
              "      <td>8406</td>\n",
              "      <td>17765</td>\n",
              "      <td>2149-04-28</td>\n",
              "      <td>SOCIAL WORK NOTE:\\n\\nNew trauma pt on T-SICU f...</td>\n",
              "      <td>10680</td>\n",
              "      <td>114444</td>\n",
              "      <td>239553</td>\n",
              "      <td>carevue</td>\n",
              "      <td>TSICU</td>\n",
              "      <td>...</td>\n",
              "      <td>2149-04-25 22:04:41</td>\n",
              "      <td>2149-05-22 14:04:55</td>\n",
              "      <td>26.6668</td>\n",
              "      <td>7950</td>\n",
              "      <td>F</td>\n",
              "      <td>2117-06-28 00:00:00</td>\n",
              "      <td>2149-09-07 00:00:00</td>\n",
              "      <td>2149-09-07 00:00:00</td>\n",
              "      <td>2149-09-07 00:00:00</td>\n",
              "      <td>1</td>\n",
              "    </tr>\n",
              "    <tr>\n",
              "      <th>3301</th>\n",
              "      <td>1373550</td>\n",
              "      <td>8406</td>\n",
              "      <td>16140</td>\n",
              "      <td>2149-04-27</td>\n",
              "      <td>SICU NPN\\nROS:\\nNeuro: Neuro exam unchanged th...</td>\n",
              "      <td>10680</td>\n",
              "      <td>114444</td>\n",
              "      <td>239553</td>\n",
              "      <td>carevue</td>\n",
              "      <td>TSICU</td>\n",
              "      <td>...</td>\n",
              "      <td>2149-04-25 22:04:41</td>\n",
              "      <td>2149-05-22 14:04:55</td>\n",
              "      <td>26.6668</td>\n",
              "      <td>7950</td>\n",
              "      <td>F</td>\n",
              "      <td>2117-06-28 00:00:00</td>\n",
              "      <td>2149-09-07 00:00:00</td>\n",
              "      <td>2149-09-07 00:00:00</td>\n",
              "      <td>2149-09-07 00:00:00</td>\n",
              "      <td>1</td>\n",
              "    </tr>\n",
              "    <tr>\n",
              "      <th>3303</th>\n",
              "      <td>1373547</td>\n",
              "      <td>8406</td>\n",
              "      <td>16140</td>\n",
              "      <td>2149-04-26</td>\n",
              "      <td>SICU NPN\\nPt hemodynamicallly unstable today, ...</td>\n",
              "      <td>10680</td>\n",
              "      <td>114444</td>\n",
              "      <td>239553</td>\n",
              "      <td>carevue</td>\n",
              "      <td>TSICU</td>\n",
              "      <td>...</td>\n",
              "      <td>2149-04-25 22:04:41</td>\n",
              "      <td>2149-05-22 14:04:55</td>\n",
              "      <td>26.6668</td>\n",
              "      <td>7950</td>\n",
              "      <td>F</td>\n",
              "      <td>2117-06-28 00:00:00</td>\n",
              "      <td>2149-09-07 00:00:00</td>\n",
              "      <td>2149-09-07 00:00:00</td>\n",
              "      <td>2149-09-07 00:00:00</td>\n",
              "      <td>1</td>\n",
              "    </tr>\n",
              "    <tr>\n",
              "      <th>3305</th>\n",
              "      <td>1373567</td>\n",
              "      <td>8406</td>\n",
              "      <td>15659</td>\n",
              "      <td>2149-05-01</td>\n",
              "      <td>T/SICU NSG PROGRESS NOTE.\\n0700&gt;&gt;[**2076**]\\n\\...</td>\n",
              "      <td>10680</td>\n",
              "      <td>114444</td>\n",
              "      <td>239553</td>\n",
              "      <td>carevue</td>\n",
              "      <td>TSICU</td>\n",
              "      <td>...</td>\n",
              "      <td>2149-04-25 22:04:41</td>\n",
              "      <td>2149-05-22 14:04:55</td>\n",
              "      <td>26.6668</td>\n",
              "      <td>7950</td>\n",
              "      <td>F</td>\n",
              "      <td>2117-06-28 00:00:00</td>\n",
              "      <td>2149-09-07 00:00:00</td>\n",
              "      <td>2149-09-07 00:00:00</td>\n",
              "      <td>2149-09-07 00:00:00</td>\n",
              "      <td>1</td>\n",
              "    </tr>\n",
              "    <tr>\n",
              "      <th>3307</th>\n",
              "      <td>1373633</td>\n",
              "      <td>8406</td>\n",
              "      <td>21570</td>\n",
              "      <td>2149-07-02</td>\n",
              "      <td>Nursing Progress Note.\\n\\nCV: The pt has been ...</td>\n",
              "      <td>10680</td>\n",
              "      <td>114444</td>\n",
              "      <td>239553</td>\n",
              "      <td>carevue</td>\n",
              "      <td>TSICU</td>\n",
              "      <td>...</td>\n",
              "      <td>2149-04-25 22:04:41</td>\n",
              "      <td>2149-05-22 14:04:55</td>\n",
              "      <td>26.6668</td>\n",
              "      <td>7950</td>\n",
              "      <td>F</td>\n",
              "      <td>2117-06-28 00:00:00</td>\n",
              "      <td>2149-09-07 00:00:00</td>\n",
              "      <td>2149-09-07 00:00:00</td>\n",
              "      <td>2149-09-07 00:00:00</td>\n",
              "      <td>1</td>\n",
              "    </tr>\n",
              "  </tbody>\n",
              "</table>\n",
              "<p>5 rows × 23 columns</p>\n",
              "</div>\n",
              "      <button class=\"colab-df-convert\" onclick=\"convertToInteractive('df-93e6d266-fc26-47d4-9f09-9c7881614380')\"\n",
              "              title=\"Convert this dataframe to an interactive table.\"\n",
              "              style=\"display:none;\">\n",
              "        \n",
              "  <svg xmlns=\"http://www.w3.org/2000/svg\" height=\"24px\"viewBox=\"0 0 24 24\"\n",
              "       width=\"24px\">\n",
              "    <path d=\"M0 0h24v24H0V0z\" fill=\"none\"/>\n",
              "    <path d=\"M18.56 5.44l.94 2.06.94-2.06 2.06-.94-2.06-.94-.94-2.06-.94 2.06-2.06.94zm-11 1L8.5 8.5l.94-2.06 2.06-.94-2.06-.94L8.5 2.5l-.94 2.06-2.06.94zm10 10l.94 2.06.94-2.06 2.06-.94-2.06-.94-.94-2.06-.94 2.06-2.06.94z\"/><path d=\"M17.41 7.96l-1.37-1.37c-.4-.4-.92-.59-1.43-.59-.52 0-1.04.2-1.43.59L10.3 9.45l-7.72 7.72c-.78.78-.78 2.05 0 2.83L4 21.41c.39.39.9.59 1.41.59.51 0 1.02-.2 1.41-.59l7.78-7.78 2.81-2.81c.8-.78.8-2.07 0-2.86zM5.41 20L4 18.59l7.72-7.72 1.47 1.35L5.41 20z\"/>\n",
              "  </svg>\n",
              "      </button>\n",
              "      \n",
              "  <style>\n",
              "    .colab-df-container {\n",
              "      display:flex;\n",
              "      flex-wrap:wrap;\n",
              "      gap: 12px;\n",
              "    }\n",
              "\n",
              "    .colab-df-convert {\n",
              "      background-color: #E8F0FE;\n",
              "      border: none;\n",
              "      border-radius: 50%;\n",
              "      cursor: pointer;\n",
              "      display: none;\n",
              "      fill: #1967D2;\n",
              "      height: 32px;\n",
              "      padding: 0 0 0 0;\n",
              "      width: 32px;\n",
              "    }\n",
              "\n",
              "    .colab-df-convert:hover {\n",
              "      background-color: #E2EBFA;\n",
              "      box-shadow: 0px 1px 2px rgba(60, 64, 67, 0.3), 0px 1px 3px 1px rgba(60, 64, 67, 0.15);\n",
              "      fill: #174EA6;\n",
              "    }\n",
              "\n",
              "    [theme=dark] .colab-df-convert {\n",
              "      background-color: #3B4455;\n",
              "      fill: #D2E3FC;\n",
              "    }\n",
              "\n",
              "    [theme=dark] .colab-df-convert:hover {\n",
              "      background-color: #434B5C;\n",
              "      box-shadow: 0px 1px 3px 1px rgba(0, 0, 0, 0.15);\n",
              "      filter: drop-shadow(0px 1px 2px rgba(0, 0, 0, 0.3));\n",
              "      fill: #FFFFFF;\n",
              "    }\n",
              "  </style>\n",
              "\n",
              "      <script>\n",
              "        const buttonEl =\n",
              "          document.querySelector('#df-93e6d266-fc26-47d4-9f09-9c7881614380 button.colab-df-convert');\n",
              "        buttonEl.style.display =\n",
              "          google.colab.kernel.accessAllowed ? 'block' : 'none';\n",
              "\n",
              "        async function convertToInteractive(key) {\n",
              "          const element = document.querySelector('#df-93e6d266-fc26-47d4-9f09-9c7881614380');\n",
              "          const dataTable =\n",
              "            await google.colab.kernel.invokeFunction('convertToInteractive',\n",
              "                                                     [key], {});\n",
              "          if (!dataTable) return;\n",
              "\n",
              "          const docLinkHtml = 'Like what you see? Visit the ' +\n",
              "            '<a target=\"_blank\" href=https://colab.research.google.com/notebooks/data_table.ipynb>data table notebook</a>'\n",
              "            + ' to learn more about interactive tables.';\n",
              "          element.innerHTML = '';\n",
              "          dataTable['output_type'] = 'display_data';\n",
              "          await google.colab.output.renderOutput(dataTable, element);\n",
              "          const docLink = document.createElement('div');\n",
              "          docLink.innerHTML = docLinkHtml;\n",
              "          element.appendChild(docLink);\n",
              "        }\n",
              "      </script>\n",
              "    </div>\n",
              "  </div>\n",
              "  "
            ]
          },
          "metadata": {},
          "execution_count": 10
        }
      ]
    },
    {
      "cell_type": "code",
      "source": [
        "len(df_notes_TSICU['CGID'].unique())\n",
        "deceased_TSICU = df_notes_TSICU[df_notes_TSICU['EXPIRE_FLAG'] == 1]\n",
        "deceased_TSICU.info()"
      ],
      "metadata": {
        "id": "4quXDt_aieZv",
        "outputId": "3c2b881d-1ce4-492a-f1f3-37d542bb0d2b",
        "colab": {
          "base_uri": "https://localhost:8080/"
        }
      },
      "execution_count": 11,
      "outputs": [
        {
          "output_type": "stream",
          "name": "stdout",
          "text": [
            "<class 'pandas.core.frame.DataFrame'>\n",
            "Int64Index: 37373 entries, 3299 to 908271\n",
            "Data columns (total 23 columns):\n",
            " #   Column          Non-Null Count  Dtype  \n",
            "---  ------          --------------  -----  \n",
            " 0   ROW_ID_x        37373 non-null  int64  \n",
            " 1   SUBJECT_ID      37373 non-null  int64  \n",
            " 2   CGID            37373 non-null  int64  \n",
            " 3   CHARTDATE       37373 non-null  object \n",
            " 4   TEXT            37373 non-null  object \n",
            " 5   ROW_ID_y        37373 non-null  int64  \n",
            " 6   HADM_ID         37373 non-null  int64  \n",
            " 7   ICUSTAY_ID      37373 non-null  int64  \n",
            " 8   DBSOURCE        37373 non-null  object \n",
            " 9   FIRST_CAREUNIT  37373 non-null  object \n",
            " 10  LAST_CAREUNIT   37373 non-null  object \n",
            " 11  FIRST_WARDID    37373 non-null  int64  \n",
            " 12  LAST_WARDID     37373 non-null  int64  \n",
            " 13  INTIME          37373 non-null  object \n",
            " 14  OUTTIME         37373 non-null  object \n",
            " 15  LOS             37373 non-null  float64\n",
            " 16  ROW_ID          37373 non-null  int64  \n",
            " 17  GENDER          37373 non-null  object \n",
            " 18  DOB             37373 non-null  object \n",
            " 19  DOD             37373 non-null  object \n",
            " 20  DOD_HOSP        22199 non-null  object \n",
            " 21  DOD_SSN         34181 non-null  object \n",
            " 22  EXPIRE_FLAG     37373 non-null  int64  \n",
            "dtypes: float64(1), int64(10), object(12)\n",
            "memory usage: 6.8+ MB\n"
          ]
        }
      ]
    },
    {
      "cell_type": "code",
      "source": [
        "import seaborn as sns\n",
        "sns.set()\n",
        "\n",
        "\n",
        "gb_notes = deceased_TSICU.groupby(['CGID','SUBJECT_ID'])\n",
        "num_notes = gb_notes['TEXT'].count()\n",
        "\n",
        "print(f'number of notes: min={num_notes.min()}, max={num_notes.max()}, mean={num_notes.mean()},  median={num_notes.median()}')\n",
        "sns.boxplot(x=num_notes)\n",
        "sns.displot(num_notes[((num_notes>2) & (num_notes<15))])"
      ],
      "metadata": {
        "id": "RtIaEm23Ysfg",
        "outputId": "1666e956-2fb5-438c-d198-23a40b21f5fa",
        "colab": {
          "base_uri": "https://localhost:8080/",
          "height": 977
        }
      },
      "execution_count": 28,
      "outputs": [
        {
          "output_type": "stream",
          "name": "stdout",
          "text": [
            "number of notes: min=1, max=124, mean=2.246648632401563,  median=1.0\n"
          ]
        },
        {
          "output_type": "execute_result",
          "data": {
            "text/plain": [
              "<seaborn.axisgrid.FacetGrid at 0x7fcf10701ab0>"
            ]
          },
          "metadata": {},
          "execution_count": 28
        },
        {
          "output_type": "display_data",
          "data": {
            "text/plain": [
              "<Figure size 640x480 with 1 Axes>"
            ],
            "image/png": "[encoded data removed]"
          },
          "metadata": {}
        },
        {
          "output_type": "display_data",
          "data": {
            "text/plain": [
              "<Figure size 500x500 with 1 Axes>"
            ],
            "image/png": "[encoded data removed]"
          },
          "metadata": {}
        }
      ]
    },
    {
      "cell_type": "markdown",
      "source": [
        "Tokenized words"
      ],
      "metadata": {
        "id": "UU8xrEkoGzNi"
      }
    },
    {
      "cell_type": "code",
      "source": [
        "text = df_notes_TSICU['TEXT'].str.cat(sep=' ')\n",
        "words = nltk.word_tokenize(text)  # very slow"
      ],
      "metadata": {
        "id": "YlONNwDeGy9a"
      },
      "execution_count": 12,
      "outputs": []
    },
    {
      "cell_type": "markdown",
      "source": [
        "Count words in notes"
      ],
      "metadata": {
        "id": "gyFTOEALCbxX"
      }
    },
    {
      "cell_type": "code",
      "source": [
        "stopwords = nltk.corpus.stopwords.words('english')\n",
        "words = [word.lower() for word in words if word.lower() not in stopwords and re.match(r'\\b\\w+\\b', word)]  # also slow but only kinda slow\n",
        "word_counts = Counter(words)\n",
        "most_common_words = word_counts.most_common(300)"
      ],
      "metadata": {
        "id": "jtTWXQjy-_Fw"
      },
      "execution_count": 13,
      "outputs": []
    },
    {
      "cell_type": "code",
      "source": [
        "print(\"Rank\\tWord\\t\\t\\tCount\")\n",
        "for rank, word_count in enumerate(most_common_words, start=1):\n",
        "  word, count = word_count\n",
        "  print(f\"{rank}\\t{word.ljust(20)}\\t{count}\")"
      ],
      "metadata": {
        "id": "vtPdb3_iB5T0",
        "outputId": "bf5d0cce-e52f-42e4-8d5e-fdff5993be05",
        "colab": {
          "base_uri": "https://localhost:8080/"
        }
      },
      "execution_count": 14,
      "outputs": [
        {
          "output_type": "stream",
          "name": "stdout",
          "text": [
            "Rank\tWord\t\t\tCount\n",
            "1\tpt                  \t233934\n",
            "2\tname                \t80561\n",
            "3\tneuro               \t50021\n",
            "4\tpain                \t46231\n",
            "5\tresp                \t46147\n",
            "6\tlast                \t44212\n",
            "7\tw/                  \t43408\n",
            "8\tclear               \t41598\n",
            "9\tskin                \t41015\n",
            "10\tgiven               \t40421\n",
            "11\tnoted               \t39361\n",
            "12\tplan                \t39199\n",
            "13\tremains             \t38264\n",
            "14\tni                  \t37903\n",
            "15\tabd                 \t37879\n",
            "16\ttoday               \t37056\n",
            "17\thr                  \t35193\n",
            "18\tcont                \t34830\n",
            "19\tfamily              \t34374\n",
            "20\tper                 \t33163\n",
            "21\tintact              \t32685\n",
            "22\tstable              \t32535\n",
            "23\tmonitor             \t32259\n",
            "24\tgi                  \t32161\n",
            "25\turine               \t31159\n",
            "26\tnote                \t29924\n",
            "27\tcv                  \t29359\n",
            "28\tbp                  \t28695\n",
            "29\tbs                  \t28635\n",
            "30\tsecretions          \t28519\n",
            "31\tyellow              \t28268\n",
            "32\tthick               \t27445\n",
            "33\tcare                \t27319\n",
            "34\tfoley               \t27126\n",
            "35\tsee                 \t26180\n",
            "36\tcontinue            \t25889\n",
            "37\twell                \t25509\n",
            "38\tsoft                \t25173\n",
            "39\tvent                \t24832\n",
            "40\tgtt                 \t24713\n",
            "41\tleft                \t24609\n",
            "42\tgu                  \t24276\n",
            "43\tshift               \t23753\n",
            "44\tcommands            \t23746\n",
            "45\tiv                  \t23695\n",
            "46\tsocial              \t23153\n",
            "47\t2                   \t22794\n",
            "48\tsats                \t22739\n",
            "49\tid                  \t22251\n",
            "50\tdraining            \t21960\n",
            "51\tdrainage            \t21935\n",
            "52\tsupport             \t21890\n",
            "53\tr                   \t21613\n",
            "54\tsbp                 \t21606\n",
            "55\thct                 \t21413\n",
            "56\tright               \t20937\n",
            "57\ttube                \t20871\n",
            "58\tgood                \t20557\n",
            "59\tcontinues           \t20489\n",
            "60\tstatus              \t20231\n",
            "61\tsounds              \t20150\n",
            "62\tstool               \t20120\n",
            "63\tcough               \t19863\n",
            "64\tgoal                \t19791\n",
            "65\tl                   \t18938\n",
            "66\tsmall               \t18866\n",
            "67\tvia                 \t18828\n",
            "68\tendo                \t17963\n",
            "69\ttimes               \t17882\n",
            "70\tabg                 \t17679\n",
            "71\tnursing             \t17671\n",
            "72\tct                  \t17628\n",
            "73\tcoarse              \t17626\n",
            "74\tback                \t17615\n",
            "75\tincreased           \t17608\n",
            "76\tfluid               \t17260\n",
            "77\ttrach               \t17091\n",
            "78\tplaced              \t17014\n",
            "79\ttf                  \t16824\n",
            "80\tpulses              \t16756\n",
            "81\tectopy              \t16694\n",
            "82\tx                   \t16386\n",
            "83\tbed                 \t16366\n",
            "84\tfollow              \t16191\n",
            "85\tblood               \t16178\n",
            "86\tnpn                 \t15954\n",
            "87\teffect              \t15789\n",
            "88\tordered             \t15738\n",
            "89\tteam                \t15702\n",
            "90\tfirst               \t15677\n",
            "91\tamts                \t15620\n",
            "92\table                \t15443\n",
            "93\tstitle              \t15424\n",
            "94\tamt                 \t15421\n",
            "95\trr                  \t15392\n",
            "96\ttime                \t15315\n",
            "97\tsputum              \t15249\n",
            "98\tprn                 \t15150\n",
            "99\tpatient             \t15142\n",
            "100\tstarted             \t15090\n",
            "101\tinsulin             \t15034\n",
            "102\twean                \t14863\n",
            "103\tpropofol            \t14772\n",
            "104\tlow                 \t14665\n",
            "105\tplace               \t14474\n",
            "106\tchanged             \t14354\n",
            "107\twnl                 \t14245\n",
            "108\tadequate            \t14200\n",
            "109\tsuctioned           \t14114\n",
            "110\to2                  \t14064\n",
            "111\tbases               \t14027\n",
            "112\tlasix               \t13816\n",
            "113\taware               \t13786\n",
            "114\tsite                \t13762\n",
            "115\tls                  \t13639\n",
            "116\tnsr                 \t13608\n",
            "117\t1                   \t13544\n",
            "118\tpo                  \t13494\n",
            "119\teyes                \t13404\n",
            "120\tprogress            \t13400\n",
            "121\thead                \t13306\n",
            "122\tnight               \t13233\n",
            "123\tun                  \t13201\n",
            "124\tdiminished          \t13199\n",
            "125\trate                \t13190\n",
            "126\talert               \t13130\n",
            "127\tthroughout          \t12976\n",
            "128\textremities         \t12955\n",
            "129\tafebrile            \t12846\n",
            "130\tc/o                 \t12838\n",
            "131\tcarevue             \t12698\n",
            "132\tu/o                 \t12672\n",
            "133\tdone                \t12638\n",
            "134\tmae                 \t12463\n",
            "135\tbowel               \t12292\n",
            "136\tnpo                 \t12228\n",
            "137\ttolerated           \t12148\n",
            "138\tlopressor           \t12036\n",
            "139\tlytes               \t12013\n",
            "140\tline                \t11975\n",
            "141\t40                  \t11975\n",
            "142\ts/p                 \t11803\n",
            "143\tchanges             \t11785\n",
            "144\tday                 \t11640\n",
            "145\tdose                \t11614\n",
            "146\toutput              \t11495\n",
            "147\talso                \t11479\n",
            "148\topen                \t11454\n",
            "149\tsent                \t11391\n",
            "150\tfentanyl            \t11372\n",
            "151\tdistended           \t11240\n",
            "152\tovernight           \t11217\n",
            "153\t100                 \t11132\n",
            "154\tmd                  \t11112\n",
            "155\tfollows             \t11090\n",
            "156\tminimal             \t10935\n",
            "157\tdue                 \t10917\n",
            "158\twife                \t10887\n",
            "159\trepleted            \t10776\n",
            "160\tbm                  \t10754\n",
            "161\tpeep                \t10674\n",
            "162\tlungs               \t10662\n",
            "163\tfollowing           \t10649\n",
            "164\tneeded              \t10569\n",
            "165\tamounts             \t10520\n",
            "166\ttemp                \t10485\n",
            "167\tchest               \t10472\n",
            "168\tcurrently           \t10415\n",
            "169\t3                   \t10361\n",
            "170\tativan              \t10348\n",
            "171\tsedated             \t10303\n",
            "172\t50                  \t10244\n",
            "173\theparin             \t10215\n",
            "174\tdry                 \t10186\n",
            "175\tpresent             \t10118\n",
            "176\tp                   \t10116\n",
            "177\tupper               \t10089\n",
            "178\tintubated           \t10058\n",
            "179\tlarge               \t10035\n",
            "180\tmaintain            \t9983\n",
            "181\tcvp                 \t9928\n",
            "182\tslightly            \t9823\n",
            "183\tlabs                \t9771\n",
            "184\tdecreased           \t9723\n",
            "185\thospital1           \t9658\n",
            "186\tvisit               \t9631\n",
            "187\tcoverage            \t9626\n",
            "188\tdr.                 \t9592\n",
            "189\tedema               \t9549\n",
            "190\twbc                 \t9523\n",
            "191\tpatent              \t9485\n",
            "192\tdenies              \t9411\n",
            "193\tsedation            \t9403\n",
            "194\ttmax                \t9350\n",
            "195\ttolerating          \t9314\n",
            "196\treceived            \t9302\n",
            "197\tafternoon           \t9208\n",
            "198\t4                   \t9196\n",
            "199\t5                   \t9111\n",
            "200\tmovement            \t9095\n",
            "201\tdoctor              \t8976\n",
            "202\tbilat               \t8874\n",
            "203\ttol                 \t8865\n",
            "204\twithout             \t8827\n",
            "205\tbrown               \t8762\n",
            "206\toriented            \t8709\n",
            "207\trespiratory         \t8695\n",
            "208\tside                \t8654\n",
            "209\tplease              \t8651\n",
            "210\tpending             \t8627\n",
            "211\tarm                 \t8627\n",
            "212\twarm                \t8605\n",
            "213\tngt                 \t8597\n",
            "214\theme                \t8518\n",
            "215\td/c                 \t8397\n",
            "216\twhite               \t8362\n",
            "217\tfio2                \t8325\n",
            "218\t20                  \t8324\n",
            "219\tquestions           \t8306\n",
            "220\tx1                  \t8288\n",
            "221\tunable              \t8262\n",
            "222\tlower               \t8255\n",
            "223\tx2                  \t8235\n",
            "224\tupdated             \t8230\n",
            "225\tstrong              \t8211\n",
            "226\tdsg                 \t8184\n",
            "227\tcalled              \t8182\n",
            "228\tsm                  \t8167\n",
            "229\tincision            \t8121\n",
            "230\tpalpable            \t8005\n",
            "231\tpressure            \t7982\n",
            "232\tmeds                \t7982\n",
            "233\tdressing            \t7968\n",
            "234\tchange              \t7890\n",
            "235\t60                  \t7885\n",
            "236\tweaned              \t7860\n",
            "237\td/t                 \t7853\n",
            "238\tsx                  \t7844\n",
            "239\tapplied             \t7837\n",
            "240\tabdomen             \t7797\n",
            "241\tmoves               \t7780\n",
            "242\toob                 \t7779\n",
            "243\tpupils              \t7766\n",
            "244\ttransfer            \t7759\n",
            "245\t10                  \t7745\n",
            "246\tq                   \t7679\n",
            "247\treview              \t7664\n",
            "248\tarea                \t7645\n",
            "249\ttsicu               \t7554\n",
            "250\tsince               \t7553\n",
            "251\tmod                 \t7459\n",
            "252\tevents              \t7458\n",
            "253\tbolus               \t7418\n",
            "254\tstill               \t7411\n",
            "255\tsat                 \t7328\n",
            "256\tvanco               \t7327\n",
            "257\twound               \t7279\n",
            "258\thigh                \t7272\n",
            "259\tdrain               \t7261\n",
            "260\tivf                 \t7249\n",
            "261\tmap                 \t7172\n",
            "262\tmg                  \t7156\n",
            "263\tfull                \t7143\n",
            "264\ttomorrow            \t7122\n",
            "265\tlung                \t7115\n",
            "266\tcontrol             \t7111\n",
            "267\triss                \t7093\n",
            "268\tupdate              \t7085\n",
            "269\thours               \t7079\n",
            "270\tmultiple            \t7063\n",
            "271\tsystems             \t7017\n",
            "272\thospital            \t6975\n",
            "273\tcontact             \t6935\n",
            "274\tneed                \t6912\n",
            "275\tcollar              \t6867\n",
            "276\tone                 \t6842\n",
            "277\tplacement           \t6825\n",
            "278\tcurrent             \t6818\n",
            "279\trenal               \t6772\n",
            "280\tcpap                \t6743\n",
            "281\tnew                 \t6727\n",
            "282\tsr                  \t6715\n",
            "283\timproved            \t6712\n",
            "284\tchair               \t6683\n",
            "285\tkeep                \t6679\n",
            "286\tresults             \t6668\n",
            "287\tscant               \t6656\n",
            "288\tmoderate            \t6618\n",
            "289\tactivity            \t6616\n",
            "290\tfloor               \t6615\n",
            "291\trequired            \t6614\n",
            "292\tc                   \t6608\n",
            "293\tair                 \t6563\n",
            "294\tcath                \t6511\n",
            "295\tevening             \t6511\n",
            "296\tns                  \t6478\n",
            "297\trt                  \t6476\n",
            "298\tleg                 \t6472\n",
            "299\tdata                \t6454\n",
            "300\topens               \t6429\n"
          ]
        }
      ]
    },
    {
      "cell_type": "markdown",
      "source": [
        "Inverse Document Frequency"
      ],
      "metadata": {
        "id": "kSrdXBqOuXa0"
      }
    },
    {
      "cell_type": "code",
      "source": [
        "vectorizer = TfidfVectorizer(stop_words='english')\n",
        "tfidf_matrix = vectorizer.fit_transform(df_notes_TSICU['TEXT'])\n",
        "\n",
        "feature_names = vectorizer.get_feature_names_out()\n",
        "tfidf_scores = tfidf_matrix.sum(axis=0).A1\n",
        "word_score_dict = dict(zip(feature_names, tfidf_scores))\n",
        "\n",
        "sorted_words = sorted(word_score_dict.items(), key=lambda x: x[1], reverse=True)\n",
        "\n",
        "top_words = sorted_words[:50]"
      ],
      "metadata": {
        "id": "mLycA6V9u2Bk"
      },
      "execution_count": 15,
      "outputs": []
    },
    {
      "cell_type": "code",
      "source": [
        "print(\"Rank\\tWord\\t\\t\\tCount\")\n",
        "for rank, (word, score) in enumerate(top_words, start=1):\n",
        "  print(f\"{rank}\\t{word.ljust(20)}\\t{score}\")"
      ],
      "metadata": {
        "colab": {
          "base_uri": "https://localhost:8080/"
        },
        "id": "CFYY-4Q9yltA",
        "outputId": "f4b7b244-95a1-4259-ec3e-119fd7be2628"
      },
      "execution_count": 16,
      "outputs": [
        {
          "output_type": "stream",
          "name": "stdout",
          "text": [
            "Rank\tWord\t\t\tCount\n",
            "1\tpt                  \t5120.6346907039715\n",
            "2\thr                  \t1985.533230799199\n",
            "3\tremains             \t1522.365676633596\n",
            "4\tpain                \t1467.9090567022035\n",
            "5\tcont                \t1418.4796590824176\n",
            "6\tresp                \t1405.1509409334062\n",
            "7\tni                  \t1380.3922807642487\n",
            "8\tneuro               \t1377.0307482898295\n",
            "9\tclear               \t1369.9844259522297\n",
            "10\tplan                \t1369.3321443718278\n",
            "11\tgiven               \t1367.6293191237949\n",
            "12\ttoday               \t1367.215370941138\n",
            "13\tnoted               \t1329.686856777338\n",
            "14\tcare                \t1326.1447529447835\n",
            "15\tbs                  \t1289.1099007571552\n",
            "16\tskin                \t1288.4366864370118\n",
            "17\tvent                \t1247.5624746323606\n",
            "18\tstable              \t1236.0010676164445\n",
            "19\tfamily              \t1208.086066905245\n",
            "20\tabd                 \t1187.8305175157504\n",
            "21\tsecretions          \t1173.234002344446\n",
            "22\tintact              \t1168.5370588594335\n",
            "23\t100                 \t1159.6395879823021\n",
            "24\tcontinue            \t1136.4842807337222\n",
            "25\tmonitor             \t1135.771980232153\n",
            "26\tyellow              \t1128.1291213093684\n",
            "27\tnote                \t1098.7021356448847\n",
            "28\tgi                  \t1094.6958582222128\n",
            "29\tbp                  \t1041.3028667616582\n",
            "30\ttube                \t1036.9874788855884\n",
            "31\tshift               \t1034.9158865288282\n",
            "32\tgtt                 \t1025.915502601129\n",
            "33\tsupport             \t1019.0279088817208\n",
            "34\ttrach               \t1012.7678584776049\n",
            "35\tgu                  \t1001.9805020852164\n",
            "36\turine               \t999.8937066817404\n",
            "37\tcv                  \t996.0447743749695\n",
            "38\tcontinues           \t965.8140319452385\n",
            "39\tleft                \t965.3213971685826\n",
            "40\tiv                  \t956.5543394949899\n",
            "41\tgood                \t939.1790966390972\n",
            "42\trespiratory         \t932.2578425933027\n",
            "43\tfoley               \t910.1696781028352\n",
            "44\tpatient             \t905.3167108804482\n",
            "45\tsoft                \t902.941034580501\n",
            "46\tsbp                 \t897.2857736605376\n",
            "47\tdraining            \t896.4889201732185\n",
            "48\tabg                 \t892.8291890550754\n",
            "49\tdrainage            \t888.7580280957325\n",
            "50\tsats                \t886.2498723609264\n"
          ]
        }
      ]
    },
    {
      "cell_type": "markdown",
      "source": [
        "Emotional words"
      ],
      "metadata": {
        "id": "2vLviAGyJmdQ"
      }
    },
    {
      "cell_type": "code",
      "source": [
        "emotional_words = []\n",
        "for word_count in most_common_words:\n",
        "  word = word_count[0]\n",
        "  synsets = wn.synsets(word)\n",
        "  if synsets:\n",
        "    senti_synset = swn.senti_synset(synsets[0].name())\n",
        "    if senti_synset.pos_score() > 0.45 or senti_synset.neg_score() > 0.45:\n",
        "      emotional_words.append(word)\n",
        "\n",
        "emotional_words"
      ],
      "metadata": {
        "id": "4ATr_HSAJlpK",
        "outputId": "a4d3a450-72ce-44f1-e1f0-f3b676fffdca",
        "colab": {
          "base_uri": "https://localhost:8080/"
        }
      },
      "execution_count": 17,
      "outputs": [
        {
          "output_type": "execute_result",
          "data": {
            "text/plain": [
              "['pain',\n",
              " 'intact',\n",
              " 'good',\n",
              " 'stool',\n",
              " 'times',\n",
              " 'aware',\n",
              " 'eyes',\n",
              " 'tolerated',\n",
              " 'edema',\n",
              " 'denies',\n",
              " 'tolerating',\n",
              " 'please',\n",
              " 'unable',\n",
              " 'strong',\n",
              " 'palpable']"
            ]
          },
          "metadata": {},
          "execution_count": 17
        }
      ]
    },
    {
      "cell_type": "code",
      "source": [
        "from textblob import TextBlob\n",
        "emotional_words = []\n",
        "for word_count in most_common_words:\n",
        "  word = word_count[0]\n",
        "  tb = TextBlob(word)\n",
        "  sentiment = tb.sentiment.polarity\n",
        "  if abs(sentiment) > 0.35:\n",
        "    emotional_words.append(word)\n",
        "\n",
        "emotional_words"
      ],
      "metadata": {
        "id": "ZFtCDPOyRPcq",
        "outputId": "3fa9676b-e0e8-458c-b1d1-a5be83b58362",
        "colab": {
          "base_uri": "https://localhost:8080/"
        }
      },
      "execution_count": 18,
      "outputs": [
        {
          "output_type": "execute_result",
          "data": {
            "text/plain": [
              "['good', 'able', 'decreased', 'warm', 'unable', 'strong']"
            ]
          },
          "metadata": {},
          "execution_count": 18
        }
      ]
    },
    {
      "cell_type": "markdown",
      "source": [
        "select emotional words then filter rows that dont have a minimum number of them"
      ],
      "metadata": {
        "id": "IJasBc1JDJ7G"
      }
    },
    {
      "cell_type": "code",
      "source": [
        "selected_words = ['pain', 'family', 'stable', 'care', 'well', 'social', 'support', 'able', 'decreased', 'warm', 'unable', 'strong', 'intact', 'good', 'times', 'aware', 'eyes', 'tolerated', 'denies', 'tolerating', 'please', 'palpable']\n",
        "print(\"selected_words list length: \", len(selected_words))\n",
        "pattern = '|'.join(selected_words)\n",
        "filtered_data = df_notes_TSICU[df_notes_TSICU['TEXT'].str.contains(pattern, regex=True)].copy()\n",
        "filtered_data['num_search_words'] = filtered_data['TEXT'].str.count(pattern)\n",
        "filtered_data = filtered_data[filtered_data['num_search_words'] >= 18]\n",
        "filtered_data.info()"
      ],
      "metadata": {
        "id": "io0fnZ6LDJje",
        "outputId": "fbccf52d-445f-4f49-e8de-cfec056174af",
        "colab": {
          "base_uri": "https://localhost:8080/"
        }
      },
      "execution_count": 19,
      "outputs": [
        {
          "output_type": "stream",
          "name": "stdout",
          "text": [
            "selected_words list length:  22\n",
            "<class 'pandas.core.frame.DataFrame'>\n",
            "Int64Index: 954 entries, 4437 to 870351\n",
            "Data columns (total 24 columns):\n",
            " #   Column            Non-Null Count  Dtype  \n",
            "---  ------            --------------  -----  \n",
            " 0   ROW_ID_x          954 non-null    int64  \n",
            " 1   SUBJECT_ID        954 non-null    int64  \n",
            " 2   CGID              954 non-null    int64  \n",
            " 3   CHARTDATE         954 non-null    object \n",
            " 4   TEXT              954 non-null    object \n",
            " 5   ROW_ID_y          954 non-null    int64  \n",
            " 6   HADM_ID           954 non-null    int64  \n",
            " 7   ICUSTAY_ID        954 non-null    int64  \n",
            " 8   DBSOURCE          954 non-null    object \n",
            " 9   FIRST_CAREUNIT    954 non-null    object \n",
            " 10  LAST_CAREUNIT     954 non-null    object \n",
            " 11  FIRST_WARDID      954 non-null    int64  \n",
            " 12  LAST_WARDID       954 non-null    int64  \n",
            " 13  INTIME            954 non-null    object \n",
            " 14  OUTTIME           954 non-null    object \n",
            " 15  LOS               954 non-null    float64\n",
            " 16  ROW_ID            954 non-null    int64  \n",
            " 17  GENDER            954 non-null    object \n",
            " 18  DOB               954 non-null    object \n",
            " 19  DOD               452 non-null    object \n",
            " 20  DOD_HOSP          253 non-null    object \n",
            " 21  DOD_SSN           415 non-null    object \n",
            " 22  EXPIRE_FLAG       954 non-null    int64  \n",
            " 23  num_search_words  954 non-null    int64  \n",
            "dtypes: float64(1), int64(11), object(12)\n",
            "memory usage: 186.3+ KB\n"
          ]
        }
      ]
    },
    {
      "cell_type": "markdown",
      "source": [
        "Remove similar sentences"
      ],
      "metadata": {
        "id": "T4IGl2_LhAjw"
      }
    },
    {
      "cell_type": "code",
      "source": [
        "from sklearn.feature_extraction.text import TfidfVectorizer\n",
        "from sklearn.metrics.pairwise import cosine_similarity\n",
        "\n",
        "sentences = filtered_data['TEXT'].tolist()\n",
        "vectorizer = TfidfVectorizer()\n",
        "tfidf_matrix = vectorizer.fit_transform(sentences)\n",
        "similarity_threshold = 0.8\n",
        "\n",
        "similar_indices = []\n",
        "for i, sentence in enumerate(sentences):\n",
        "  if any(cosine_similarity(tfidf_matrix[i], tfidf_matrix[j])[0][0] > similarity_threshold for j in range(i)):  # very slow ~8 minutes\n",
        "    similar_indices.append(i)"
      ],
      "metadata": {
        "id": "y_7e8eEAg-8E"
      },
      "execution_count": 20,
      "outputs": []
    },
    {
      "cell_type": "code",
      "source": [
        "index_labels = filtered_data.index[similar_indices]\n",
        "filtered_data.drop(index_labels, inplace=True)\n",
        "\n",
        "filtered_data.info()"
      ],
      "metadata": {
        "id": "5hR3SznnlFAw",
        "outputId": "b3fcb354-387a-426e-dc1b-5b6ef34bc3ae",
        "colab": {
          "base_uri": "https://localhost:8080/"
        }
      },
      "execution_count": 21,
      "outputs": [
        {
          "output_type": "stream",
          "name": "stdout",
          "text": [
            "<class 'pandas.core.frame.DataFrame'>\n",
            "Int64Index: 842 entries, 4437 to 870351\n",
            "Data columns (total 24 columns):\n",
            " #   Column            Non-Null Count  Dtype  \n",
            "---  ------            --------------  -----  \n",
            " 0   ROW_ID_x          842 non-null    int64  \n",
            " 1   SUBJECT_ID        842 non-null    int64  \n",
            " 2   CGID              842 non-null    int64  \n",
            " 3   CHARTDATE         842 non-null    object \n",
            " 4   TEXT              842 non-null    object \n",
            " 5   ROW_ID_y          842 non-null    int64  \n",
            " 6   HADM_ID           842 non-null    int64  \n",
            " 7   ICUSTAY_ID        842 non-null    int64  \n",
            " 8   DBSOURCE          842 non-null    object \n",
            " 9   FIRST_CAREUNIT    842 non-null    object \n",
            " 10  LAST_CAREUNIT     842 non-null    object \n",
            " 11  FIRST_WARDID      842 non-null    int64  \n",
            " 12  LAST_WARDID       842 non-null    int64  \n",
            " 13  INTIME            842 non-null    object \n",
            " 14  OUTTIME           842 non-null    object \n",
            " 15  LOS               842 non-null    float64\n",
            " 16  ROW_ID            842 non-null    int64  \n",
            " 17  GENDER            842 non-null    object \n",
            " 18  DOB               842 non-null    object \n",
            " 19  DOD               387 non-null    object \n",
            " 20  DOD_HOSP          219 non-null    object \n",
            " 21  DOD_SSN           352 non-null    object \n",
            " 22  EXPIRE_FLAG       842 non-null    int64  \n",
            " 23  num_search_words  842 non-null    int64  \n",
            "dtypes: float64(1), int64(11), object(12)\n",
            "memory usage: 164.5+ KB\n"
          ]
        }
      ]
    },
    {
      "cell_type": "markdown",
      "source": [
        "Seperate deceased and living"
      ],
      "metadata": {
        "id": "9tJkPVZggBv_"
      }
    },
    {
      "cell_type": "code",
      "source": [
        "deceased_patients = filtered_data[filtered_data['EXPIRE_FLAG'] == 1]\n",
        "deceased_patients.info()"
      ],
      "metadata": {
        "colab": {
          "base_uri": "https://localhost:8080/"
        },
        "id": "4cfpXZF4fnUG",
        "outputId": "34955503-d6ae-4b6d-ad98-9f1f2ebc501d"
      },
      "execution_count": 22,
      "outputs": [
        {
          "output_type": "stream",
          "name": "stdout",
          "text": [
            "<class 'pandas.core.frame.DataFrame'>\n",
            "Int64Index: 387 entries, 4437 to 767790\n",
            "Data columns (total 24 columns):\n",
            " #   Column            Non-Null Count  Dtype  \n",
            "---  ------            --------------  -----  \n",
            " 0   ROW_ID_x          387 non-null    int64  \n",
            " 1   SUBJECT_ID        387 non-null    int64  \n",
            " 2   CGID              387 non-null    int64  \n",
            " 3   CHARTDATE         387 non-null    object \n",
            " 4   TEXT              387 non-null    object \n",
            " 5   ROW_ID_y          387 non-null    int64  \n",
            " 6   HADM_ID           387 non-null    int64  \n",
            " 7   ICUSTAY_ID        387 non-null    int64  \n",
            " 8   DBSOURCE          387 non-null    object \n",
            " 9   FIRST_CAREUNIT    387 non-null    object \n",
            " 10  LAST_CAREUNIT     387 non-null    object \n",
            " 11  FIRST_WARDID      387 non-null    int64  \n",
            " 12  LAST_WARDID       387 non-null    int64  \n",
            " 13  INTIME            387 non-null    object \n",
            " 14  OUTTIME           387 non-null    object \n",
            " 15  LOS               387 non-null    float64\n",
            " 16  ROW_ID            387 non-null    int64  \n",
            " 17  GENDER            387 non-null    object \n",
            " 18  DOB               387 non-null    object \n",
            " 19  DOD               387 non-null    object \n",
            " 20  DOD_HOSP          219 non-null    object \n",
            " 21  DOD_SSN           352 non-null    object \n",
            " 22  EXPIRE_FLAG       387 non-null    int64  \n",
            " 23  num_search_words  387 non-null    int64  \n",
            "dtypes: float64(1), int64(11), object(12)\n",
            "memory usage: 75.6+ KB\n"
          ]
        }
      ]
    },
    {
      "cell_type": "code",
      "source": [
        "living_patients = filtered_data[filtered_data['EXPIRE_FLAG'] == 0]\n",
        "living_patients.info()"
      ],
      "metadata": {
        "colab": {
          "base_uri": "https://localhost:8080/"
        },
        "id": "BfFfnIingFO3",
        "outputId": "dd7e5480-233d-461e-8f98-7823ec21d435"
      },
      "execution_count": 23,
      "outputs": [
        {
          "output_type": "stream",
          "name": "stdout",
          "text": [
            "<class 'pandas.core.frame.DataFrame'>\n",
            "Int64Index: 455 entries, 8541 to 870351\n",
            "Data columns (total 24 columns):\n",
            " #   Column            Non-Null Count  Dtype  \n",
            "---  ------            --------------  -----  \n",
            " 0   ROW_ID_x          455 non-null    int64  \n",
            " 1   SUBJECT_ID        455 non-null    int64  \n",
            " 2   CGID              455 non-null    int64  \n",
            " 3   CHARTDATE         455 non-null    object \n",
            " 4   TEXT              455 non-null    object \n",
            " 5   ROW_ID_y          455 non-null    int64  \n",
            " 6   HADM_ID           455 non-null    int64  \n",
            " 7   ICUSTAY_ID        455 non-null    int64  \n",
            " 8   DBSOURCE          455 non-null    object \n",
            " 9   FIRST_CAREUNIT    455 non-null    object \n",
            " 10  LAST_CAREUNIT     455 non-null    object \n",
            " 11  FIRST_WARDID      455 non-null    int64  \n",
            " 12  LAST_WARDID       455 non-null    int64  \n",
            " 13  INTIME            455 non-null    object \n",
            " 14  OUTTIME           455 non-null    object \n",
            " 15  LOS               455 non-null    float64\n",
            " 16  ROW_ID            455 non-null    int64  \n",
            " 17  GENDER            455 non-null    object \n",
            " 18  DOB               455 non-null    object \n",
            " 19  DOD               0 non-null      object \n",
            " 20  DOD_HOSP          0 non-null      object \n",
            " 21  DOD_SSN           0 non-null      object \n",
            " 22  EXPIRE_FLAG       455 non-null    int64  \n",
            " 23  num_search_words  455 non-null    int64  \n",
            "dtypes: float64(1), int64(11), object(12)\n",
            "memory usage: 88.9+ KB\n"
          ]
        }
      ]
    },
    {
      "cell_type": "markdown",
      "source": [
        "Random selection from sample set"
      ],
      "metadata": {
        "id": "9zgLOVKMmC1c"
      }
    },
    {
      "cell_type": "code",
      "source": [
        "filtered_data = filtered_data.sample(n=200, random_state=42)"
      ],
      "metadata": {
        "id": "A2g7uF3_mCja"
      },
      "execution_count": 24,
      "outputs": []
    },
    {
      "cell_type": "markdown",
      "source": [
        "Display notes"
      ],
      "metadata": {
        "id": "lnai1UuJCedn"
      }
    },
    {
      "cell_type": "code",
      "source": [
        "pd.set_option('display.max_colwidth', 250)\n",
        "pd.set_option('display.max_rows', None)\n",
        "print(filtered_data['TEXT'].head(200))\n",
        "pd.reset_option('display.max_colwidth')\n",
        "pd.reset_option('display.max_rows')"
      ],
      "metadata": {
        "id": "dZPZ-AGx-9NA",
        "outputId": "193f95e8-d14c-4c07-b5cb-4520f99eec00",
        "colab": {
          "base_uri": "https://localhost:8080/"
        }
      },
      "execution_count": 25,
      "outputs": [
        {
          "output_type": "stream",
          "name": "stdout",
          "text": [
            "352473    nursing progress note\\n\\nneuro: exam improving throughout course of night, pt currently opening eyes spont, turning head in direction of voice at times.  perrla, 4mm. following commands more consistently, cough strong, gag improving.  no seizure ...\n",
            "221711    Review of systems:\\n\\nEvent notes:\\n\\n~2130 Bp decreased to 80s, levo gtt started and pt went into a sustained Vtach, Pulse palpable throughout, H.O. aware and called to bed side. Pt converted back to ST on own. 150 mg bolus of Amiodarone given p...\n",
            "442472    TSICU Nursing Progress Note 7a-7p:\\n\\nReview of Systems:\\n\\nNeuro: Alert and oriented x3. MAE well and purposefully. Follows commands. Strength getting better throughout shift. Able to assist with turning. Pain control issues persist, but pt stat...\n",
            "552981    ***TSICU NURSING PROGRESS NOTE 7A-7P**\\n-please see carevue for exact data--\\n\\nEVENTS: (1)pt on trach collar since early this AM, fentanyl gtt discontined-- since gtt d/c'd, pt coughing consistently w/ secs-mins of rest w/ inc agitation & tachy ...\n",
            "96439     52 yr old male s/p MVA x 1 mos ago, ejected. Mult issues/surgeries, currently stable.\\n\\n**ROS: SEE CAREVUE FOR EXACT DATA AND VITAL SIGNS**\\n\\nN: Pt awake, alert, dozing in naps. Follows commands, appears very bright. Communicating through facia...\n",
            "237879    TSICU NPN 7p-7a\\ns/o-\\n[**Name (NI) 248**] Pt alert and oriented times 3, con't to be appropriately frustrated, angry and weepy w/ his condition and limitations.  Given ativan 1mg IV x's 2 over the course of the shift to help pt relax and sleep, ...\n",
            "679815    NPN TRAUMA SICU\\n\\nREVIEW OF SYSTEMS\\n\\nNeuro:\\nArousable to voice, following commands, MAE, hand grips strong and equal.  Cammino bolt removed around 8PM by Neuro [**Doctor First Name **] with ICP prior removal 16-19.  PERRLA Positive gag/cough....\n",
            "96523     Nsg Progress Note 0700-1900\\n\\nResp - Pt sent to OR at 0745 for trach placement.  Bovine 7 placed without difficulty.  Area around trach is intact and with small amt bright red blood.  BS cl bilat and decreased at bases.  Suctioned for small amt ...\n",
            "346275    nursing progress note\\n\\nneuro: pt alert, sleepy at times w/ pain meds. improving orientation throughout day, able to state month and year, \"hospital\" although unsure of name. weakly moving extrem, very deconditioned.  cough and gag improving. de...\n",
            "73921     TSICU NSG ADMIT NOTE\\n   Pt is a 46 y/o male unrestrained passenger in a head on MVC w/ speed of approx 40MPH, airbag deployed and pt w/ positive LOC at the scene, not ambulatory at the scene secondary to leg weakness.  Brought to OSH where x-ray...\n",
            "301218    Nursing Prog Note 7a-7p\\nPt's BP labile today, tachycardic throughout shift. Requiring fluid resuscitation throughout shift as well. Total 4500cc boluses since 0900, BP improves with fluid, trends down once bolus complete. Tachycardia responsive ...\n",
            "221789    NPN 7am-7pm\\n\\nevents- TEE done to eval for source of infection. heart function normal. no infection noted. Family meeting today to update family of status and answer any questions, unable to make prognosis as of this point but will cont to infor...\n",
            "766469    ***TSICU NURSING NOTE 7P-7A***\\n--please see carevue for exact data--\\n\\nROS:\\n\\nNEURO: pt A&Ox3. MAE's, follows all commands. PERRLA. strong cough/+gag. Epidural @T6-T7, Dilaudid 10mcg/ml & .1% Bupivicaine @ 8cc/hr. pt has not c/o pain. no senso...\n",
            "300616    Nursing Progress Note\\nSee Carevue for Specific Data.\\n\\nSignificant Events: Pt extubated at 11:15 AM-uneventful, tolerating RA without ventilatory/oxygen support well. Pt fitted and given helmet to be worn when OOB. Pt OOB to chair via [**Doctor...\n",
            "376707    nursing prog note\\n\\nneuro: ativan effect wearing off at beginning of shift, pt anxious, c/o pain to neck. given fentanyl w/ good effect prn. perrla, attempting to nod/shake head to questions. speaking through talking trach well, voice intact. hi...\n",
            "224001    T-SICU NPN 0700-1900\\nSee careview for specifics.\\nROS:\\n\\nNeuro: Sedated on propofol and fentanyl gtts.  When lightened, opens eyes, faint squeeze of hands, wiggles toes. Pupils 2mm, equal and reactive.  C-collar remains in place.  NEOPS in toda...\n",
            "667351    Tsicu npn\\nO: ROS\\n\\nNeuro: Pt more alert and able to consistently follow commands. Nodding appropriately to questions and assisting with turning. Propofol and fentanyl weaned off and pt given 1mg ativan for agitation w/ good effect. Calm and app...\n",
            "245163    Nsg Progress Note 7am-Present\\n\\nEvents: Or at 1530--> Trach/Peg/Filter\\n\\n59 yr old woman admitted on [**7-13**] after high speed [**Month/Year (2) 1086**], Tboned, medflighted to [**Hospital1 40**]. Poor neuro exam.\\n\\nInjuries: SAH, Left clavi...\n",
            "357188    Nursing Progress Note\\nSee Carevue for specific details.\\n\\nSignificant Events: appropriate behavior for entire shift; dsg changed by plastics resident; foley catheter discontinued; q1hr vascular checks continue on left hand fingers.  Heparin gtt...\n",
            "379678    Nursing Progress Note\\n1900-0730\\n\\n39 year old woman s/p traumatic assault on [**4-21**]. Sustained multiple facial fractures, 4th degree perineal tear (repaired [**4-21**])\\n\\nPMHx: hypothyroid, liver failure with hospitalization x1month\\n\\nAll...\n",
            "288009    Review of systems:\\n\\nNeuro: Pt awake most of shift, difficulty in sleeping, pain control a [**Last Name **] problem, pt constantly moaning, grimacing in pain despite using PCA. Ativan given in attempt to relax pt X 2. Surgical resident notified ...\n",
            "119953    Nursing Progress Note\\nSee Carevue for Specific Data.\\n\\nSignificant Events: Pt napped intermittently throughout day-reported that pt did not sleep much overnight.  Pt started on Lopressor 10mg q4hrs for occasional HTN. Foley draining bloody urin...\n",
            "96967     npn 0700-1900;\\n\\nevents ; converted to nsr around 10 am  after recising a couple of boluses of fentanyl. for pain. pt nods head yes or no to comfort.\\n ct scan of chest r/o PE but pt has large bilateral pleural effusions. to be tapped in am.\\nca...\n",
            "315400    T-SICU NPN 0700-1900\\nPlease see carevue for specifics.\\n20yo female, restrained passenger in high speed rollover, partially ejected, GCS 6 at scene, combative, intubated and medflighted to [**Hospital1 10**].  Injuries; B SDH, bilat. pulmonary c...\n",
            "221104    T/SICU NSG NOTE\\n0700>>1900\\n\\nEVENTS:  repeat cervical spine CT done; Halo adjustments by Dr [**Last Name (STitle) 7806**]\\n         [**Name (STitle) **] mode changed to PSV: tolerated!\\n         Sedation weaned off\\n         Blood glucose mngmn...\n",
            "295356    T/Sicu Nsg Progress Note\\n0700>>[**2056**]\\n\\nEVENTS- OFF vent support > 24 hours now!\\n        Tolerating PASSE-MUIR valve ALL day!\\n        Medically accepted by rehab-[**Hospital1 **]- transfer probably early next week.\\n\\nNeuro- more alert to...\n",
            "443009    TSICU NPN (0700-1900)\\nREVIEW of SYSTEMS\\n\\nNeuro----Neurologically unchanged for duration of shift.  Arouses with verbal stimuli, opening eyes, following simple commands fairly consistently.  At times needs several prompting attempts, but will f...\n",
            "285591    TSICU NPN 7p-7a\\nS/O\\n\\n[**Name (NI) 57**] pt arouses easily to voice, opens eyes, con't on morphine gtt at 3mg hr for pain, pt slow to respond to specific questions yet does nod yes and no appropriately when asked about pain. Denies pain when at...\n",
            "318859    Nursing Progress Note\\nPatient continues to be critically ill, although hemodynamically somewhat more stable today. BP not as labile, titration of Levophed downward over course of day successful. Remains paralyzed and sedated, multiple changes ma...\n",
            "257269    nursing prog note\\n\\nevents: pt with unchanged neuro status, exam remains very poor off of all sedation/paralytics, icp's at times unmanageable, cpp goal not met d/t high icp's. pt's bp labile at times, family meeting w/ Dr. [**Last Name (STitle)...\n",
            "415457    Nursing Prog. Note\\nBP continues to be labile, as low as MAP 54, as high as 180s systolic with movement or stimulation. Pt appears comfortable tonight, resting well. Resp status stable, O2 sats 97-100 % consistently.\\n\\nAwakens to voice, occas. s...\n",
            "270008    T-SICU NPN 1900-0730\\nPlease see carevue for specifics.\\n\\n23yo male s/p multiple GSW's to  L chest, L hand, L thigh x2 while riding his bike.  Transferred from [**Hospital 814**] Hospital.  OR [**2102-7-12**] s/p exp. lap, L fem. [**Doctor Last ...\n",
            "120009    T-SICU NPN 0700-1900\\nPlease see carevue for specifics.\\n\\nEvents: Started po amio, advancing TF to goal.  Lasix gtt, goal 2L negative.  Conts. heparin gtt, goal PTT 60-70.  Awaiting 3rd c-diff sample.\\n\\nROS:\\nNeuro: Alert, able to mouth words t...\n",
            "743499    T/SICU NPN\\nBrief ROS and days events-\\nNeuro: Pt. is intubated so unable to communicate clearly, he does, however try to mouth words frequently. He's nodding appropriately and following commands. He is pleasant and cooperative all shift. He atte...\n",
            "576145    nursing progress note\\n\\nneuro: drowsy w/ dilaudid use, easily aroused for pulm toileting. pain improved w/ start of toradol dosing, able to slightly wean dilaudid pca settings as result. pt stating \"it's ok\" when asked level of pain.\\n\\nresp: co...\n",
            "135942    TSICU NPN 7a-7pm\\n\\nEvents of shift:\\n\\nRepeat head CT scan at 12 noon-->Showed no change per neurosurg/ICU team, Neuro exam changed to q2hr.\\nCspine xrays of chest and abdomen to evaluate loss of teeth--> one in nasal pharynx.\\nNasally bronch'd ...\n",
            "184502    Nursing progress Note\\nEvents: Pt temp spiked to 101.5. Blood cultures drawn. Bilateral CT removed, ?bilat sm pneumo's on initial CXR, repeat CXR done, results pending.\\n\\nNeuro: Pt alert or arousing to voice. Consistently following commands. MAE...\n",
            "82167     SICU NPN\\nPt remains in the ICU intubated and sedated s/p pedestrian struck with significant spinal cord injury.\\n\\nNeuro: Pt remains sedated on propofol, with PRN morphine for pain.  When lightened, pt able to nod yes and no appropriately, very ...\n",
            "723956    NPN T-SICU 1900-0700\\n\\nNeuro:  A+Ox3, asking appropriate questions and able to effectively communicate needs.  MAE's. MSO4 pca for pain control, settings [**2122-2-4**] - needs encouragement to use prior to cough/deep breathe exercises and posit...\n",
            "489506    T-SICU NPN/admission note\\nSee carevue for specifics.\\n\\n27 yo male was at friend's graduation party, dove from boat into shallow water, unable to move legs.  Pt was pulled from water by friends (one is an [**Name (NI) **]) and placed on table.  ...\n",
            "154662    nursing progress note\\n\\nneuro: remains lethargic although staying awake for longer periods. speech clearer today, oriented x3, able to state full name, month, year, and \"intensive care\" when asked location.  recognizes family, friends. following...\n",
            "105838    NPN: [**5-/2053**]\\nEVENTS: perc trach placed at bedside today. patient was sedated with propofol and fentanyl for procedure. vecuronium x2 for paralysis. anesthesia, surgery and respitory therapy at bedside t/o. vital signs stable throughout. ai...\n",
            "313084    NPN 1900-0700\\nPlease see carevue for specific charting of vs and data.\\n\\nNEURO: Alert, neuro exam intact, MAEs. Dilaudid PRN with good pain control-? PCA may be appropriate alternative. Pt telling wife last [**Name2 (NI) **] \"just let me die\" p...\n",
            "290098    ***TSICU NURSING PROGRESS NOTE 7A-7P***\\n--please see carevue for exact data--\\n\\nEVENTS: (1)HCT 18 @ change of shift, 2 units PRBCs given, HCT 26, new results pending (2)pt on trach collar x8hrs, tol extremely well, no issues, placed back on CPA...\n",
            "696598    a: post op day 1\\nn: pt with mild agitation while intubated, calm and appropriate when extubated. pt c/o pain initially of [**2136-8-3**]. mso4 given, then fentanyl and pca dilaudid started at 9am.  with increasing doses, pt with good effect. mos...\n",
            "247294    NPN 7p-7a\\n\\nNeuro: Alert this night shift to person only, confused at times stating \"I'm going to the back door now,\" and \"I am in [**Location (un) 439**].\" Follows all simple commnads, MAE's on bed, L UE stronger than R UE, weak LE's, possible ...\n",
            "533067    nursing progress note\\n\\nneuro: exam remains unchanged, able to wiggle toes intermittently on command to both feet, a+ox3, following commands approp. no motor function to bue, sensation impaired, sensation to ble intact. perrla, 3mm. c/o pain to ...\n",
            "364359    SICU NPN\\nROS:\\nNeuro: Pt much calmer today, did have periods of anxiety but was able to calm down with encouragement and verbal reassurance.  Pt noted to be quite sedated after methadone dose, SICU team made aware. Pt c/o stinging pain in R thig...\n",
            "53792     TSICU NPN 11p-7a\\nS/O-\\n\\n[**Name (NI) 248**] pt awake and appropriate in communications, mouthing words clearly, asking about his Mother, asking if she had been in.  C/O pain in neck medicated w/ dilaudid 1mg IVP times two during the course of t...\n",
            "845429    nursing progress note\\n\\nevents: returned from OR at 2400, nasally intubated and sedated. intra op course uneventful, mandible wired shut, neck incisions x2 w/ sutures, penrose drain intact, draining copious amts serosang drainage.  hemodynamics ...\n",
            "327159    nursing prog note 7a-3p\\nday's events: perc trach placed this am, #6.0 perc intact, sm amt bloody drainage to site. pt tol procedure well.\\n\\nneuro: alert, following commands, nodding and shaking head to ques., moving ext on bed, lifting arms ind...\n",
            "254679    Nursing Progress Note\\nPt continues with unstable hemodynamics overnight. Remains lightly sedated and intubated. Returned from angio procedure, gelfoam embolization of right iliac artery, at 2200. Patient's VS as per angio flowsheet,note very lab...\n",
            "111552    Nursing Progress Note\\nSee Careview for specific details.\\n\\nSignificant Events: Dip in BP after Ativan administered-given fluid blous. Attempted wean from vent to extubate to avoid trach/PEG procedure.  Weaned off pressure support to CPAP, toler...\n",
            "307537    nursing prog. note\\nday's events: repeat head ct this am, no change noted per neurosurgery from previous scan. neuro exam unchanged. remains unresponsive, occas. spont. moving.\\n\\nno eye opening noted, no following of commands. moves lle and rue ...\n",
            "811716    nursing progress note\\n\\nneuro: a+ox3, moving all extrem well, adjusting and repositioning in bed on own.  pain minimal, using morphine pca well, pain level acceptable per pt. at times uncomfortable d/t need for chin tilt (surgical sutures in pla...\n",
            "698097    nursing prog note\\nneuro: lethargic, speech at times diff. to understand. oriented x2 at best, requires prompting at times.  moving bue minimally, strength very weak. perrla, size 3mm. remains on fentanyl infusion, rate increased d/t many c/o pai...\n",
            "362799    nursing progress note\\n\\nevents: CT head repeated this am d/t worsening? neuro exam, no change in R frontal contusion as per radiology wet read. while in CT scanner, pt spont. moving ble and left arm, eyes open during travel. dilaudid prn w/ good...\n",
            "313083    NPN 1900-0700\\nNEURO: Alert-difficult to assess orientation due to trach/non-verbal, communicating appropriately though. Medicated with IVP Dilaudid 1mg and tylenol with good pain control and ativan for comfort as well. MAEs/PERRLA.\\nLumbar drain...\n",
            "242015    T-SICU NPN 0700-1900\\nPlease see carevue for specifics.\\nPt to OR at 0800 this am.  s/p D+E and I+D of R ankle with min EBL.\\n\\nNeuro: A+OX3, forgetful at times.  MAE's, follows commands.  Pt teary at times regarding loss of pregnancy, emotional ...\n",
            "572794    nursing prog note\\nneuro: pt alert, oriented, very pleasant. moving x4, good sensation to ble. denies pain to surgical sites.\\n\\nresp: pt w/ improved resp status, weaned from cpap+ps to 6l face mask o2 currently. o2 sats, abg's stable. ls remain ...\n",
            "103634    Nursing Progress Note 1900-0700 hours:\\n** DNR/may intubate, ventilate\\n\\n** allergy: nkda\\n\\n** access: # 20 piv\\n\\nPt is a 67y M, pmh: squamous cell CA of themouth 25 years ago s/p surgical reconstruction to lower jaw with flap and radiation in...\n",
            "687121    T-SICU NPN 0700-1900\\nPlease see carevue for specifics.\\n\\n\\n23yo s/p rollover MVC, ejected 50ft with L temp. skull fx, sm. L intraparenchymal hemorrhage, sm. L SDH, L orbital fx, grade II (per ICU team) splenic lac, L clavicular fx with ? pulmon...\n",
            "379518    T/SICU NSG NOTE\\n0700>>1900\\n\\nEVENTS: OOB to chair today\\n        pain therapy adjusted with improved pain control\\n        pelvic JP drain removed\\n\\nNEURO- alert and appropriate; pt stating he felt confused this am but was able to state place/...\n",
            "386587    T-SICU NPN 0700-1900\\nsee carevue for specifics.\\nROS:\\nNeuro: Lightly sedated on fentanyl gtt, currently being weaned, methadone 30mg po BID started this am.   Opens eyes spontaneously, follows commands inconsistently, ex. wiggles toes bilat, ab...\n",
            "401573    T/Sicu NSg Note\\n0700>>>1900\\n\\nEVENTS- To radiology for placement of post-pyloric feeding tube\\n        Trophic tube feeds started\\n        TPN restarted tonight\\n        fentanyl drip d/c'd..prn dosing\\n        PEEP decreased to 10cm...talking ...\n",
            "96519     Nurse Progress Note 0700-1900\\n\\nEvents: Pt placed on tach mask.  Continue to trial as pt tolerates, speech and swallow following unable to tolerate PMV today D/T bronchospasm.  Pain control with IV Morphine pre abd DNG change and PRN. [**Doctor ...\n",
            "511972    Tsicu nsg admit note\\nO: 70 y/o male admitted to hospital [**11-7**] w/ acute cholecystitis. Went to the OR [**11-8**] s/p open chole and laprascopic liver bx. Recovered in tsicu and was transferred to floor on [**11-10**].  LFT's remained elevat...\n",
            "559521    Nursing Progress Note 7a-7p:\\n\\nReview of Systems:\\n\\nNeuro: Awake, alert and oriented. MAE well. No neuro deficits noted. Equal strength in all extremities. C/O numbness left fingertips this afternoon. Per pain team, bupivicaine in epidural decr...\n",
            "547921    NPN 7am-7pm\\n\\ns: I don't know where I am?\\no: please see careview for vitals and objective data. pt with witness aspiration resp failure on floor.\\nneuro: pt sp basal ganglia bleed, neuro unchanged, pt alert at times, confused, at times he knows...\n",
            "826488    7a-7p\\nneuro: alert, opens eyes spontaneously, MAE with equal strength, follows commands. Primarily Albanian speaking, family translates, oriented x3.\\n\\ncv: permanent pacer a-sensing v-pacing, 90-105 this am, started po lopressor [**Hospital1 10...\n",
            "585146    nursing progress note\\n\\nneuro: a+ox3, mae. epidural in place for pain control w/ 0.5% bupiv&dilaudid effective. pt rates pain [**1-17**] for shift when moving, zero when at rest. true dermatome level approx T6-T9 level.  attempted to sit on edge...\n",
            "325944    T/SICU NURSING PROGRESS NOTE\\n\\nPLEASE SEE CAREVUE FOR EXACT DATA\\n\\nREVIEW OF SYSTEMS:\\n\\nNEURO-Pt lightly sedated on Midazolam gtt at 3mg/hr (gtt increased from 1.5mg/hr at beginning of shift due to increased agitation and attempted self extuba...\n",
            "275713    Nursing Progress Note\\n[**6-15**]   1900->0730\\n\\nS/O\\n\\nNEURO: Received pt on Dilaudid PCA -> see CareVue and MARs for settings and doses.Pain control effective except when LUE needs dressing changes or movement -> fentanyl 25mcg given for dress...\n",
            "302437    T-SICU NPN 1900-0700\\nPlease see carevue for specifics.\\nROS:\\nNeuro: Mental status waxes and wanes.  Opened eyes x1, unable to repeat.  Pupils equal and reactive.  Reaches purposefully with BUE's for ett, caregiver inconsistently, withdraws [**N...\n",
            "587104    SICU NPN\\nPt extubated this AM after tolerating weaning protocol well.  Pt remains in the ICU due to extensive surgery and large ammt necrotic bowel for close monitoring.\\n\\nNeuro: Pt extubated at 11am.  Initially alert and oriented X2, now A+O X...\n",
            "93700     [**5-/2045**] NPN:\\nEVENTS: patient extubated this morning over a cook catheter with Dr. [**Last Name (STitle) **] [**Last Name (NamePattern4) 341**] at bedside. tolerated well and able to cough up thick secretions into mouth. Initially post extu...\n",
            "511687    Nursing Note 7am-7pm\\n\\nROS: See carevue for exact data\\n\\nEvents of today--> Extubated 1400\\n                   Cspine/TLS cleared\\n                   Social work involvement\\n                   Serial Hct's\\n\\n22 yr old admitted [**12-3**] afte...\n",
            "376700    T-SICU NPN 0700-1900\\nPlease see carevue for specifics.\\n76yo female s/p fall from 15ft with C2 fracture, quadraplegic.\\nNeuro: Alert, oriented to self, hospital \"[**2147-2-21**]\", was not aware it is spring time.  Able to mouth words to communic...\n",
            "261016    nursing prog note\\nneuro: pt off paralytics as of last afternoon, sedated at present. icp's remain labile with stimulation, although pt settles very quickly after rest. exams done with sedation, perrla, size 2-4mm bilat, opens eyes to voice, turn...\n",
            "245058    Nursing Progress Note\\n1430-[**2043**]\\n\\n[**Age over 90 1578**] year old woman with colitis admitted from the floor following conversion to rapid a-fib (this am) with hypotension and respiratory distress this afternoon.  Pt is DNR/DNI\\n\\nPMHx: P...\n",
            "220990    T/SICU NSG PROGRESS NOTE\\n0700>>1900\\n\\nEVENTS: dobutamine weaned & discontinued\\n        ARDS study completed\\n        PEEP weaned to 15cm\\n\\nNeuro- sedated with fentanyl infusion @ 150mcg/hr. PRN ativan provided ~ q 4-6/hr for additional sedati...\n",
            "826139    nursing admit/progress note\\n\\npt is a 44 yo female who fell down 7 stairs while at work, landing and sliding down on back and striking head on banister. no LOC, no c/o sob/distress, only L sided chest pain.  CT revealed sm. L hemo/pneumothorax, ...\n",
            "78200     [**4-29**] Day shift\\nNOTE: carevue down last eve, please see chart for [**Name8 (MD) **] RN note from [**2138-4-29**]\\n\\n\\n\\nT-SICU NPN 1900-0700\\nPlease see carevue for specifics.\\nROS:\\nNeuro:  [**Month/Day/Year 19**], MAE's, follows commands ...\n",
            "76120     [** 1078**] Nursing Progress Note\\nNeuro - Sedated on midaz and fentanyl gtts.  Pt appears comfortable currently.  Pt alert even on current sedation but calm.  Pt nodding head to questions and attempting to mouth words.  Through help of [** 648**...\n",
            "448569    NPN 1100-1900\\nPlease see carevue for specific data\\n\\nNEURO: Pt asleep for most of the day, does arouse to voice command and although non-compliant with much of care, is able to follow commands. MAE's- upper extremities with fair strength-locali...\n",
            "489637    T-SICU Nsg note\\n  To CT for repeat head CT at 0930. [**Location (un) **] says very little change from previous CT, no extension of bleeding, no shift.  Chest and plain films of L ribs, showing 1 rib fx, L posterior.\\n      Pt is alert or easily ...\n",
            "292628    T/SICU NSG NOTE\\n0700>>[**2114**]\\n\\nEVENTS: DNI STATUS DECIDED BY FAMILY TODAY.\\n        NO feeding tube or nutritional support per family decision.\\n        dilantin dosing dc/d'\\n        hypertonic saline for low serum Na\\n\\nNEURO: remains som...\n",
            "577780    Nursing Progress Note:\\nPlease refer to CareVue for details.\\nNeuro: Neuro exam q2hr; no changes. A&Ox3. MAE; follows commands. Pupils brisk; R<L pupil at times (svc aware). See CareVue for details. Pt anxious and restless. Sitter at bedside; pt ...\n",
            "376863    Nursing Progress Note.\\nPlease refer to CareVue for details.\\n\\nEVENTS OVERNIGHT:\\nRested on a/c, now on PSV.\\n\\nRESP:\\nOn PSV at commencement of shift, pt restless, agitated, unresponsive to ativan. Rested on a/c overnight. Now weaned back to PS...\n",
            "519610    nursing progress note\\n\\nneuro: pt remains unable to signif. move lower extremeties, occas able to tense muscles to thighs, no other movements.  sensation transient, beginning mid thigh. using pca dilaudid well, pain tolerable per pt. denies head...\n",
            "155739    Nursing Progress Note 7p-7a:\\n\\nReview of Systems:\\n\\nNeuro: Pt is sedated on Propofol and Fentanyl. Opens eyes only slightly and with pain. PERL 4-5mm. Moves extremities spontaneously and to noxious stimuli, only on the bed. Less UE motion noted...\n",
            "100252    Nursing Progress Admit Note 0000-0700\\n\\nThis is a 53 year old female with ESRD on HD, severe PVD s/p multiple LE bypass who was admitted on [**2191-7-2**] for left lower extremity pain without an explainable cause.  SHe has had consults from ID,...\n",
            "101174    TSICU Nursing Progress Note\\nEvents: Ileoscopy at bedside.\\n\\nNeuro - When able to have translator pt is A&Ox3.  MAE's to command.  Able to communicate needs with gesturing.  Reports pain in abdomen.  given 2mg dilaudid x2 with + effect.  OOB to ...\n",
            "363245    nursing progress note\\n\\nneuro: confused this am to situation, making inappropriate comments at times, able to answer orientation questions, but very confused in conversation.  dilaudid pca stopped, pt denying pain and using very little med overn...\n",
            "371720    pmicu nursing progress 7a-7p\\nreview of systems\\nCV-vs have been stable.on po diltiazem and tolerating well.\\n\\nRESP- wearing trach collar at 70% with o2 sats 98-100%.has been sx a few times for scant amt thin white secretions, no plugs today.lun...\n",
            "483409    T-SICU NPN 0700-1900\\nPlease see carevue for specifics.\\nROS\\r:\\nNeuro: A+Ox3, MAE's, follows commands.  Pupils equal and reactive.  c/o pain this am, PCA increased to 0.25mg q6 minutes with 2.5mg lockout with effect.  Conts. bupivicaine 0.1% epi...\n",
            "437134    Nursing Progress Note\\nS/[**Name (NI) **] pt readmitted from OR to TSICU,  OR procedures performed are as follows: left femoral IM nail, I&D left tibia,closed reduction, perc. pinning L 2nd metatarsal, repair of foreheadlacs, left scleral wound c...\n",
            "217310    T-SICU NPN 1900-0700\\nPlease see carevue for specifics.\\n25yo male s/p MCC with T spinous process fx's, rib fx's, scapula fx, pulmonary contusions, exp. lap., partial hepatatectomy.  Trach [**2159-7-11**]\\nROS:\\nNeuro: Alert->easily arousable on ...\n",
            "418243    TSICU NPN 7p-7a\\nS/O\\n\\n[**Name (NI) **] pt light on 20mcgs/kg/min of propofol at the beginning of the shift, mouthing words and sticking out tounge to command.  Pt getting frustrated w/ attempts at communication and trembling slightly, when aske...\n",
            "378585    T/SICU NSG ADMISSION NOTE\\n0900>>[**2108**]\\n\\n15 yo male with GSW to RL abdomen transferred via [**Location (un) **] from [**Hospital3 2011**] s/p repair of injuries.\\n\\nInjuries: >transection of right external iliac artery and vein\\n          >...\n",
            "215682    NPN (2300-0700) REview of Systems:\\n\\nNeuro: Pt alert, opens eyes, follows commands, nodds head to questions. PERRL. MAE. Pt deneis pain. C Spine collar intact. Pt medicated with IV ativan 1mg for anxiety.\\n\\nCV: NSR c hr=60-80s, no ectopy. SBP=1...\n",
            "331748    nursing prog note\\nevents: pt changed to face mask o2 this am, immediately becoming tachycardic, tachypneic, o2 sats initially stable. pt c/o \" belly cramping\" to abdomen, stated \" i have to go to the bathroom!\" to commode, unable to move bowels....\n",
            "255084    T/Sicu Nsg Note\\n0700>>[**2172**]\\n\\nneuro No significant changes- see previous notation and careview assessment.\\n..cont to response to voice or command; no significant spontneous activity observed. cont to show some increase purposeful movement...\n",
            "285722    ROS:\\n\\nNeuro:  Propofol Dcd early this shift. Pt intermittently dosed on/off throughout shift, when pt awake-she is very agitated, squirming on bed, trying to talk/mouth words. Picture board/letter board brought in in attempt to reduce frustrati...\n",
            "178607    nursing progress note\\n\\nneuro: pt remains intubated, sedated. propofol weaned slightly w/ change to cpap, pt at times resistent to any stimulus, opening eyes spont. perrla, 2mm. inconsist. follows commands. fentanyl boluses given prn for turns w...\n",
            "481692    T-SICU NPN/admission 1230-1900\\n\\n82 yo female s/p fall at home, unwitnessed, ?LOC.  Son heard \"thud\", went upstairs, found pt. down, alert, c/o headache.  ? fell hitting head on coffee table.  Pt back in bed, cont. c/o of headache/neck pain, son...\n",
            "281841    TSICU Nsg Admit note\\n   Pt is a 24 y/o male involved in MVC where he was an unresterained driver hit by another vehicle, did not lose consciousness at the scene yet increasingly agitated at OSH so intubated for airway protection and medflighted ...\n",
            "251533    TSICU NPN 7p-7a\\nS/O -\\n\\n[**Name (NI) 248**] pt initially off propofol, not opening eyes to command yet making attempts, PERL at 3-4mm, Right eye w/ brisk corneal yet left eye con't w/ impaired corneal. Pt moving right arm w/ full strength and v...\n",
            "459077    TSICU nsg admit Note\\n     Pt is an 18y/o high speed restrained MCV, air bags deployed and pt w/ ? LOC.   20 minute extrication.  Pt awake at scene, c/o low back pain, pelvic pain, head pain and nausea.  Brought to [**Hospital1 95**], one restrai...\n",
            "200106    NPN 7 AM- 3 PM\\n\\nS: Pt intubated and sedated\\n\\no: please see careview for vitals and other objective data\\n\\nPt is sp fall with intracranial hemorrage, was extubated, however\\nhad resp distress on floor and was reintubated and sent to CCU under...\n",
            "8548      T-SICU Nsg Note\\nNeuro - PERRL, strong cough, unable to elict gag, legs rotate internally with trapezius squeeze.  Fingernail bed pressure causes arms to rotate internally with slight extension.  Stroking soles of feet, toes go up.  Toenail bed p...\n",
            "96332     nursing progress note\\n\\nneuro: a+ox3, able to answer orientation questions but confused conversation noted at times, following commands well. very impulsive, at times difficult to deal with, noncompliant.  pt pulling at lines, wires, successfull...\n",
            "589316    nursing admit/progress note\\n\\npt 22 yo male admitted overnight, stabbed x3 to abdomen/chest sustaining liver, spleen, stomach, diaphragm lacerations. pt underwent ex lap, splenectomy, left thoracotomy, lac repairs in OR, w/ 3000ml blood loss.  f...\n",
            "668455    nursing prog. note\\nevents: continue to await floor bed availability, pt doing well, neuro status slightly improved this pm, becoming more oriented.\\n\\npt alert, oriented x2 at best. remains confused to place/time. note much wernicke's aphasia, w...\n",
            "236792    Nursing Progress Note\\nPatient continues with agitation intermittently, note increased pain with movements. VS reactive to episodes of agitation as well.\\n\\nNot following commands consistently, opens eyes spont, perrla 3mm. Moving UE frequently, ...\n",
            "354014    T-SICU NPN 0700-1900\\nEvents: facial CT done this afternoon.  C-collar dc'd per Dr. [**Last Name (STitle) 2223**].  Weaned to trach mask, tol. well.  OOB to chair x3hrs this am.\\nSee carevue for specifics.\\n\\nNeuro: Alert, sleeping on/off in afte...\n",
            "432806    Nursing Progress Note:\\nPlease refer to CareVue and transfer note for specifics.\\n\\nNeuro: Intact. A&Ox3; MAE. Follows commands. Clear speech. PERRLA. Anxious and teary at times about current health course and hospital stay. Emotional support pro...\n",
            "111557    Tsicu npn\\nO:   Events: Pt was extubated today after stable abg on 5psv. Labored breathing pattern but well saturated on 70% face tent. Fentanyl given for pain w/ sl improvement. After abt 1 hr pt became htn, tachy, diaphoretic and agitated c/o b...\n",
            "491992    T-SICU NPN 1900-0700\\n71yo male with elevated Creatinine by routine screen at PCP, [**Name Initial (NameIs) **]. US ->AAA.  CT at OSH revealed 5.4 to 6cm juxtarenal AAA.  Pt asymptomatic, no [**Name Initial (NameIs) **] pain.  Admit [**2179-11-21...\n",
            "101168    Nursing Progress Note:\\nPlease refer to CareVue for details.\\n   Pt alert; unable to assess orientation at times d/t language barrier (pt [**Name (NI) **] speaking only; able to say \"pain\" and \"cold\"). Interpreter called x2 to discuss extubation,...\n",
            "370452    T-SICU nsg Admission NOte\\n  Pt was standing between 2 parked cars when another car struck the parked cars and smashed pt's legs.  R tib fib  open fx and arterial injury.  L distal femur & proximal tib fx and open wound to L knee.  R foot cold & ...\n",
            "516962    TSICU NPN 7p-7a\\nUneventful night, awaiting MRI , ROS as follows:\\n\\n[**Name (NI) **] pt alert and oriented times three, appropriate at all times, PERL at 4-5mm, briskly rx.  Right eye con't hemmorhagic yet pt denies any visual disturbances and e...\n",
            "716269    nursing progress note\\n\\npt doing well, weaned to trach collar o2, tol very well. managing own airway well w/ strong cough. oob to chair via [**Doctor Last Name 219**], tol well. improvement noted to neuro exam.\\n\\nneuro: alert, appropriate, mout...\n",
            "266622    Nursing Progress Note\\n1900-0730\\n\\n83 year old woman admitted to [**Hospital1 41**] on [**2145-4-12**] for increasing rt foot pain.  EKG changes noted on admission to cath lab for stents placed to Rt iliac and LSC on [**4-14**] sudden onset of L...\n",
            "512632    T-SICU NPN 0700-1900\\nPlease see carevue for specifics.\\nROS\\nNeuro: A+Ox3, MAE's, fc's.  Conts. hydromorphone/bupivicaine epidural at 10cc/hr with good pain control per pt report.  Site with old blood under dsg, no new drainage.  Levels remain i...\n",
            "337597    T-SICU NPN 1900-0700\\nSee carevue for specifics.\\nNeuro: Opens eyes to voice, able to stick out tongue, open/close eyes to command rarely and inconsistently.  Blinks to threat, ? tracking speaker x1 overnoc, not repeated.  Very faint spontaneous ...\n",
            "347085    CCU NPN 0700-1900 MICU pt\\nS: \" Can I have some strawberry ice cream?\"\\n\\nO/EVENTS: 64 y/o male with lung ca with mets to vertebrae at C2 and T4, ESRD on HD 3x/week presented to HD [**3-7**] with increasing SOB, ? MS changes-> pt to ED. In ED, ? ...\n",
            "105828    T-SICU NPN 0700-1900\\nPlease see carevue for specifics.\\nROS:\\nNeuro: Waxes and wanes.  [** 418**] most of day, follows commands inconsistently such as showing thumbs up, fingers, wiggling toes on R less today than yesterday.  L side with minimal...\n",
            "13813     Nursing Progress Note\\nSee Carevue for Specific Data.\\n\\nSignificant Events: Pt to OR for wash out/exploratory/packing.  Pt had low BP to 70's systolic when returned to unit, not resolved by fluid resuscitation. Neo started, multiple fluid boluse...\n",
            "493867    T-SICU NPN 0700-[**2109**]\\nPlease see carevue for specifics.\\n\\nEvents: Tol. vent changes well thus far.  No desats with turning.\\nL knee lac. sutures dc'd, steri-strips in place.\\n\\nROS:\\nNeuro: Sleepy this am, alert this afternoon.  Able to bl...\n",
            "238127    T/SICU NSG NOTE\\n0700>>[**2087**]\\n\\nEVENTS: elective intubation for MRI\\n        now extubated\\n        lower blood pressure when sedated; labaetalol off since am.\\n        fluid bolus x1 for low urine output and blood pressure.\\n\\nNEURO-waking ...\n",
            "552977    T-SICU NPN 0700-1900\\nPlease see carevue for specifics.\\n\\nROS:\\nNeuro: Sedated on propofol and fentanyl gtts, lightened for neuro exams.  Pupils 3-4mm, equal, sluggish; becoming increasingly difficult to fully assess d/t L sided facial/sclera ed...\n",
            "135923    T/Sicu Nsg Note\\n0700>>[**2174**]\\n\\nEvents- weaning attempt>>>unsuccessful>>psv overnight.\\n        temp spike to 101.8>>more cultures\\n        Not tolerating trophic feeds>>>reglan.\\n        OOB to chair by lift>>tolerated well\\n        TCD>>>6...\n",
            "690433    T-SICU NPN 0700-1900\\n\\nPlease see carevue for specifics.\\n\\nROS:\\nNeuro: Opens eyes to verbal stimuli, pupils equal and reactive.  Withdraws all extremities to nailbed pressure, rare spontaneous lateral movement noted to BUE's, occ. wiggles toes...\n",
            "225311    NPN 7pm-7am\\n\\nROS: See carevue for exact data\\n\\nN: Pt sleeping in naps. Spont opens eyes--> opens eyes with stimulus.\\nPupils unequal, but briskly reactive 6/4mm at times pupils appeared equal. MAE's, left side localizing to pain, able to lift ...\n",
            "61383     SICU NPN\\nROS\\nNeuro: Pt alert and oriented today after sedation d/c'd and pt extubated. Pt moves all extremities, good strength and intact sensation. Dr. [**Last Name (STitle) 287**] up to see pt, able to raise HOB as pt tolerates, will have TLS...\n",
            "634012    Admission Note:\\n\\nPt admitted to [**Hospital1 41**] from OSH S/P head on collision/MVC. Pt denies LOC, restrained and air bags deployed. Initial Sat was 80% and pt C.O. SOB, CXR revealed pulmonary contusion on right side.\\n\\nOther injuries: CT s...\n",
            "297583    TSICU NPN 7p-7a\\nS/O-\\n\\n[**Name (NI) **] pt is now opening eyes slightly to voice, not tracking or focusing specifically but consistently opening eyes to voice and stimulation, PERLA at 5mm, corneals brisk tonight. Pt not moving extremities spon...\n",
            "569583    TSICU NSG Admit Note\\n   Pt is a 72 y/o male admitted from [**Location (un) 1064**] [**Hospital 6530**] Hosp yesterday where he was admitted after having sudden onset of an acute headache which was 10 out of 10 on pain scale, CT at OSH showed SAH...\n",
            "489269    nursing prog. note\\nday's events: pt off sedation today, only requiring propofol and mso4 with increased agitation at times, after coughing/sx. repeat eeg performed, results to icu team and neurology. neuro consult team in to speak to family re: ...\n",
            "105816    NPN 7pm-7am\\nROS: See Carevue for exact data\\n\\nNeuro: Pt's neuro exam waxes and wanes. Pt with periods of restlessness & agitation. Pt sedated on Propofol titrated up to 100mcg/kg/min for better control of his sedation. Neuro exam q2 hrs. x1 epi...\n",
            "566088    Nursing Progress Note:\\nPlease refer to CareVue for details.\\n   Pt lethargic, but easily arousable to voice. PERRLA; briskly reactive. Oriented x2 (to person and \"[**Hospital3 576**] Hospital\"). Pt stated that year is \"[**2150**].\" Clear speech....\n",
            "279862    Assessment Note MICU\\nN - Upon initial assessment Mr. [**Known lastname 8657**] is noted to be awake and oriented x 3, slightly confused at times but he will correct himself when he provides an incorrect answer when RN assesses his orientation. H...\n",
            "368557    FOCUSED NURSING NOTE\\nSee carevue flowsheet for further details\\n\\nNEURO: Noted somnolence today- O x 2- obeys all commands with generalized weakness and much pain with any movement of extremities.\\nPEERL, 3-4mm. Mild confusion at times.\\n\\nSEPSI...\n",
            "408281    T-SICU NURSING PROGRESS NOTE\\nEvents: Line changed over a wire at 10:30am without difficulty.  Approx 1 hour later, pt c/o SOB, stating \"I'm not getting enough oxygen\".  Resp rate 30-38, shallow, no change from earlier assessment. O2 sat 96-98% o...\n",
            "322157    T-SICU NPN 0700-1900\\n\\nPlease see carevue for specifics.\\nROS:\\nNeuro: Alert, follows commands conistently, MAE's, very deconditioned.  He is aware he's in a hospital, does not know city/date, recognizes family, able to state family phone number...\n",
            "539936    TSICU NPN 7p-7a\\nS/O-\\n\\nPt post coiling procedure for large left fronto temporal aneurysm yesterday. Initially agitated after the procedure requiring repeat head CT which showed no bleed. Pt more calm and cooperative over the night shift yet not...\n",
            "682053    TSICU NPN 1900-0700\\nNEURO:  A/Ox1-2 (self/time),MAEs, following all commands consistantly although mildly agitated at times-attempting to get OOB. Ativan given Q2-3 hrs with good effect, and Fentanyl continues with what appears to be adequate pa...\n",
            "506143    TSICU Nsg Admit note\\n   Pt is an 86y/o woman who reportedly fell at home and was brought to [**Hospital **] Hosp by EMS.  Pt initially was found to be awake w/ nose bleed and vomiting, not particularly verbal but some ? as to baseline mental sta...\n",
            "332616    T-SICU NPN 0700-1900\\nPlease see carevue for specifics.\\n\\nEvents: Clonidine patch dc'd, precidex gtt initiated with +effect, fentanyl gtt being slowly weaned.  Pt with decreased agitation, improved hemodynamics, see flowsheet.  To receive diamox...\n",
            "377763    T/Sicu Nsg Progress Note\\n0700>>1600\\n\\nEVENTS- haldol x1 w/effct for 1 episode agitation\\n        ENT scoped x2 with stable airway status\\n        To remain in ICU until am for cont airway monitoring.\\n\\nNeuro- oriented x1, generally pleasant & ...\n",
            "221134    NPN 7a-7P\\nSee carevue for specifics:\\nNeuro status unchanged, quadreplegic able to shrug shoulders, Alert,  able to let needs known by mouthing words and blinking to yes/no questions. No spon movement below shoulder level, passive ROM done. Halo...\n",
            "206503    CCU Nursing Progress Note: 1900-0700:\\nS-\"Tell [**First Name11 (Name Pattern1) **] [**Initial (NamePattern1) **] [**Last Name (NamePattern1) **] him.\"\\n\\nSEE CAREVUE FOR ALL OBJECTIVE DATA AND TRENDS IN VS\\n\\nO-MS:Initially recieved very sedate, ...\n",
            "235427    T/Sicu Nsg Progress Note\\n0700>>[**2035**]\\n\\nEVENTS: lethargic today-elevated WBC, temp to 101\\n        c/o pain but is inconsistent with location and can not qualify level or type..? left flank per ICU resident exam.\\n        MRI/MRA not done y...\n",
            "11323     SOCIAL WORK NOTE:\\n\\nPLEASE NOTE PT'S COMPLEX FAMILY SITUATION WHICH [**Month (only) 12**] REQUIRE CONTINUED ASSISTANCE OVER THE WEEKEND:\\n\\nNew trauma pt on T-SICU.  Pt known to this SW from ED (assisted by SW [**First Name4 (NamePattern1) 165**...\n",
            "483406    T/SICU NPN:  0700-1500\\nS:  \"It's(pain) better.\"\\n\\nO:  System Review:\\n\\nNeuro:  awake, alert, oriented x 3  calm and pleasant manner\\n\\nCVS:  lopressor increased to 10mg q4hrs  HR 90>>>70's NSR  no ectopy\\nCPK's #2 and #3 sent  SBP 100-130's  S...\n",
            "167022    TSICU Nursing Progress Note 7a-7p:\\n\\nEvents:\\nPt to OR today for closure of open abdominal wound, removal of packing. Removed JP drains. Hemodynamically stable. No more blood products required this shift. Fluid bolus x1 for BP 90s systolic. Rece...\n",
            "281146    NPN (0700-1530) Reivew of Systems:\\n\\nNeuro: Pt remains paralyzed on Cisaturicuriam and sedated on IV MSO4 and ativan. Unable to obtain complete neuro exam 2' facial swelling and inability to open or view eyes accurately. This am, pupils 3mm in s...\n",
            "115804    Nursing Progress Note:\\nPlease refer to CareVue for details.\\n   Pt sleepy/lethargic overnight, but easily arousable to voice. Oriented x3. Pt mouths words and writes on clipboard to make needs known. Pleasant and cooperative with care. Follows c...\n",
            "327429    NPN-MICU\\nMs [**Known lastname 7593**] has been very uncomfortable today.\\n\\nPain Control:pt has been A&Ox3 all day but intermittently is she cont to be inconsolable with her pain-all from her leg. She cont on her Bupivacaine epidural(concentrati...\n",
            "334449    TSICU Nursing Progress Note 7a-7p:\\n\\nReview of Systems:\\n\\nNeuro: Pt minimally responsive to voice. Eyelids flutter and occasionally slightly open with speech. Not following any commands this shift. MAE weakly and  spontaneously. Hand very stiff...\n",
            "281862    T-SICU NPN 0700-[**2122**]\\n\\nEvents: Pt conts. with dip in o2sats this am.  To CT for drain placement with re-expansion of lung and 10cc pleural fluid out per Dr.[**Name (NI) 7313**] note.\\n\\nROS:\\nNeuro: Alert, able to mouth words and and nod h...\n",
            "340336    TSICU NPN 7p-7a\\nS/O-\\n\\n[**Name (NI) **] pt initially on precedex at .6mcg/kg/hr, attempted to turn off secondary to pt extubated and very somulent, gtt off for 2-hours during this period pt's family visited, pt initially still very lethargic, n...\n",
            "5597      T-SICU NPN/admission note\\n\\nAllergies: *** Heparin ***\\nPMH: CAD, PVD, s/p fem-fem. bypass with graft, s/o CABG '[**63**] w/stents, s/p VT ablation and AICD implantation [**2-16**] (presented this admission after AICD fired 3 times).  MRSA bacte...\n",
            "292915    nursing progress note\\n\\nneuro: initially this am pt able to open eyes to name, following commands consistently, mae weakly, overbreathing vent by 10-12 bpm, appearing very uncomfortable.  midaz drip initiated w/ good effect, pt much more restful...\n",
            "333729    Admission Note -\\nPatient arrives from the [** 313**] at 1630 with [**Name8 (MD) 313**] RN [**Doctor First Name 423**] and tech.  He was already on ICU bed and attached to monitor with VS as documented in carevue.\\n\\nN - Patient is sleepy but wak...\n",
            "568938    nursing progress note\\n\\nneuro: lightened for neuro exams, moving all extrem, good strength. [** **], 3mm. following commands consistently, nods and shakes head to communicate. denies pain, low dose fentanyl drip started, pt appears comfortable. ...\n",
            "213916    [** 1196**] NPN (1900-0700)\\nReview of Systems:\\n\\nNeuro---A&Ox2-3, cooperative, follows commands.  At times has delayed responses to questions.  Becomes irritable with frequent requests i.e. cough, IS, DB.  Restless, fidgety at beginning of shif...\n",
            "636139    Nursing Progress Note:\\nPlease refer to CareVue for details.\\n\\nNeuro: Pt A&Ox3. Mouths words/writes on paper when on CPAP. Tolerated Passe-Muir valve; clear speech. Asks approp questions. Consistently follows commands and MAE. Pt anxious at time...\n",
            "340649    Nursing Progress Note.\\nPlease refer to CareVue for specifics.\\n\\nNEURO:\\nRemains sedated on propofol. Wakes quickly for exams. Opens eyes and regards examiner. PEARL. Obeys commands (squeeze & release, wiggle toes) inconsistently with weakness. ...\n",
            "662251    T-SICU Nursing Note\\nPlease see carevue flowsheet for data.\\n\\nROS/\\n\\nNeuro: Awake,alert, oriented x 3. Patient reports [**2166-7-10**] LLE pain at rest and [**10-12**] with activity. Pt refusing pain medication at beginning of shift. RN spoke w...\n",
            "375036    NPN 1900-0700\\nPLEASE SEE CAREVUE FOR SPECIFIC DATA\\n\\nNEURO: C-collar intact. Continues on Dilantin-level pending. Propofol off, and Ativan/Fentanyl being used for comfort with what appears to be good effect. Neuro exam remained unchanged for th...\n",
            "247298    nursing progress note\\n\\nneuro: alert, oriented x3 at best, able to state full name, month, year, \"hospital\" although does not remember name. moving L arm well, all other limbs on bed. perrla. speech very difficult to understand, whispering/garbl...\n",
            "292921    TSICU NPN 0700-1900\\nPLEASE SEE CAREVUE FOR SPECIFIC DATA\\n\\nNEURO: Pt fairly alert for most of the day/ lethargic at times. MAE's, UE's>[**Name (NI) 2207**], pt deconditioned and needs assistance with ROM. Follows commands appropriately however ...\n",
            "690534    NPN [**6-/2100**]\\nROS: See carevue for details\\n\\nNEURO/MOBILITY: patient alert & oriented x1-2, occasionally will know that he is in the hospital. follows all commands, talks off and on about things that are completely unrelated to his hospital...\n",
            "359703    T/SICU NSG NOTE\\n0700>>[**2042**]\\n\\nEVENTS: To OR for repair of left hip dislocation/fracture; removal of traction.\\n        Extubated\\n        APS and CPS consultations for pain management.\\n        TLS cleared; logroll status discontinued\\n   ...\n",
            "745944    ***TSICU NURSING PROGRESS NOTE 7A-7P***\\n--please see carevue for exact data--\\n\\nEVENTS: (1)pt extubated @ 0830, tolerated well. currently on 6L NC (2)epidural removed/discontinued by ortho spine\\n\\n*ROS:\\n\\nNEURO: pt on Fentanyl gtt @ 175mcg/hr...\n",
            "507514    Condition update\\nSee careview for objective data/trends:\\n\\nSedated on fentanyl and versed gtt.  Fentanyl gtt decreased this am and pt open eyes to name, localizing with LUE and moving all extremities on bed.  Difficulty tolerating PEEP with fen...\n",
            "105533    T-SICU NPN 0700-1900\\nPlease see carevue for specifics.\\n66yo male admitted to [**Hospital1 95**] [**Location (un) 1097**] [**2-18**] with n/v, severe abd pain,fever, chills.  Diagnosed with acute pancreatitis, coag neg septicemia, MRSA pna while...\n",
            "161187    Nursing Progress Note\\nSee Carevue for specific data.\\n\\nSignificant Events: Pt spiked temp-Tmax 102.7 (last temp 101.7), received Tylenol x2, continuing to cool pt down, cultures sent.  Lots of family/friends in to visit today, father spoke with...\n",
            "491996    npn\\n\\nN: Pt sedated on propoful gtt. When lightened, mae's and fc's consistently. Nods y/n to questions. Given morphine prn for c/o pain. Unable to elicit exact origin of pain. Nodding yes to pain everywhere.\\n\\nCV: Hd stable. See carevue for he...\n",
            "463873    T/Sicu Nsg Note\\n0700>>[**2120**]\\n\\nS-  Russian speaking only; communicating via family members who have been present throughout the day. Pt states she has abd pain with coughing and moving, but does not want pain med. She is able to perform act...\n",
            "306363    micu/sicu nsg note: 07:00-19:00\\nevents: breathing comfortable this shift per pt. \"the breathing is not my problem. my back is very uncomfortable when i move.\" sp02 dropping to low 80s with movement but noted to be low when pt lying on her side o...\n",
            "290088    ***TSICU NURSING PROGRESS NOTE 7A-7P***\\n--please see carevue for exact data--\\n\\nEVENTS: (1)Pt extubated this AM, desats to 70s while on face tent, pt placed on 70% Hi Flow Mask, weaned down to 40%. most recent ABG (1700) 7.49/CO2 31/O2 56/24/1-...\n",
            "217309    T-SICU NPN 0700-1900\\nPlease see carevue for specifics.\\n\\n25yo male s/p motorcycle accident s/p exp. lap and partial hepatectomy, CT's placed, bilat. pulmonary contusions, multiple rib fx's with slow vent wean.\\nROS:\\nNeuro: Sedated on ativan an...\n",
            "496338    TSIICU NPN 7p-7a\\nS/O-\\n\\n[**Name (NI) **] pt alert and oriented times three visiting with family during the evening, voice soft and pt c/o soreness in throat yet denies any other pain.  Given methadone as scheduled and requested something for an...\n",
            "468298    NPN 0700-1900\\nNEURO: Alert/dozing throughout day, follows all commands, MAEs with good equal strength.+cough/gag. PERRLA. Medicated with Fentanyl IVP twice for incisional pain . Dilantin bolus given this afternoon and dosing changed to tid. No s...\n",
            "154593    TSICU NPN 7a-7pm\\n\\nROS: See carevue for exact data\\n\\nEvents of the day: Uneventful\\n\\nN: Pt sleepy most of the day but easily arousable. Pleasant, following commands. Periods of agitation but easily reoriented and talked down. Agitation increas...\n",
            "322147    T-SICU NPN 0700-1900\\nPlease see carevue for specifics.\\n\\nROS:\\nNeuro: Sleeping peacefully on/off today.  Opens eyes and occ. moves BUE's non-purposefully, does not fc's or track speaker, occ. raises eyebrows to verbal stimuli.  1mg dilaudid for...\n",
            "723552    T-SICU NPN 1900-0700\\nSee carevue for specifics.\\nROS:\\nNeuro: Sedated on propofol and fentanyl gtts; lightened x1 per HO.  Opens eyes upon request, pupils equal and reactive, MAE's, follows commands.  Denies pain with care/activity.\\nCV: HR 80-1...\n",
            "368551    FOCUSED NURSING ASSESSMENT\\nPlease see carevue for full details, especially extensive [** 3269**] care.\\n\\nNEURO: Decr LOC throughout day, oriented to self x 1, incomprehensible words at times, inconsistently follows commands. Facial expressions ...\n",
            "96397     T-SICU NPN 1900-0730\\nPlease see carevue for specifics.\\nROS:\\nNeuro: Alert at times, alternating with periods of sleep, easily arousable to verbal stimuli.  Pupils 4-6mm, briskly reactive.  +corneals, impaired gag and cough.  Pt able to follow c...\n",
            "340659    nursing progress note\\n\\nneuro: remains restless, at times agitated. moving all extrem constantly. follows commands, nods and shakes head to questions. denies pain, although appears to favor right leg at times. given haldol and ativan intermitten...\n",
            "453105    nursing admit/progress note\\n\\npt is a 20 yo female s/p mva, (? fell asleep at wheel, striking side of oncoming vehicle) sustaining traumatic near amputation LUE, bilat pulm contusions, left rib fx, cervical fx's, bilat clavicle fx's, right scapu...\n",
            "364438    T/SICU NPN:\\nBrief ROS:\\n[**Name (NI) 57**] Pt. remains intermittantly responsive, she will partake in mouth care by opening mouth on command but may then just bite suction cath. She has been able to squeeze and move toes on command. She does not...\n",
            "258404    [** **] NPN 11p-7a\\nS/O-\\n\\n[**Name (NI) **] pt sedated on propofol gtt at 10-20mcgs/kg/min as well as getting intermittant doses of morphine IVP for pain.  She rouses readily to voice or spontaneously, PERL at 3mm, pt moving all extremities and ...\n",
            "746171    REVIEW OF SYSTEMS:\\n\\nNEURO: Pt slept throughout most of shift, easily awoken or awoke [**Last Name (LF) 8964**], [**First Name3 (LF) 20**] X 4, follows commands, PERRL 3mm/bsk. Pt has good/equal strength bilaterally in all 4 extremities, denies ...\n",
            "406642    Nursing Progress Note:\\nPlease refer to CareVue for details.\\n   Pt is s/p left VP shunt and removal of intraventricular drain. Returned to SICU post-op at approx 2045. Upon arrival, Ppf gtt stopped, pt unarousable, and on CMV vent setting. [**Na...\n",
            "481693    T-SICU NPN 0700-1900\\n\\nEvents: pt extubated approx. 0930 over cook cath, tol. well.\\nOOB to chair with PT and this RN x few hours.\\n\\nNeuro: Sleeping, easily arousable to verbal stimuli.  Follows commands consistently, MAE's, oriented to self, [...\n",
            "264320    nursing prog. note\\npt remains alert although unresponsive to stimulus. remains intubated, tol. CPAP+PS mode vent. stable hemodynamics ongoing.\\n\\nalert, opening eyes spont., no tracking, no following commands, withdraws to pain to extrem. moves ...\n",
            "Name: TEXT, dtype: object\n"
          ]
        }
      ]
    },
    {
      "cell_type": "markdown",
      "source": [
        "Save to CSV"
      ],
      "metadata": {
        "id": "6hGujs3Fn8Mb"
      }
    },
    {
      "cell_type": "code",
      "source": [
        "# path and name of the cvs file \n",
        "PATH_TO_SAVE = \"/content/drive/MyDrive/NIH/Data/\"\n",
        "name_file_to_save = 'NOTES_NURSING_TRAJECTORIES_TSICU.csv'\n",
        "#filtered_data.to_csv(PATH_TO_SAVE+name_file_to_save,index=False)"
      ],
      "metadata": {
        "id": "metEeEnan7n0"
      },
      "execution_count": 26,
      "outputs": []
    }
  ]
}