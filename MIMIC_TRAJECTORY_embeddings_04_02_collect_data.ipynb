{
  "nbformat": 4,
  "nbformat_minor": 0,
  "metadata": {
    "colab": {
      "provenance": [],
      "include_colab_link": true
    },
    "kernelspec": {
      "name": "python3",
      "display_name": "Python 3"
    },
    "language_info": {
      "name": "python"
    }
  },
  "cells": [
    {
      "cell_type": "markdown",
      "metadata": {
        "id": "view-in-github",
        "colab_type": "text"
      },
      "source": [
        "<a href=\"https://colab.research.google.com/github/tanoManzo/mimic_trajectories/blob/dev/MIMIC_TRAJECTORY_embeddings_04_02_collect_data.ipynb\" target=\"_parent\"><img src=\"https://colab.research.google.com/assets/colab-badge.svg\" alt=\"Open In Colab\"/></a>"
      ]
    },
    {
      "cell_type": "markdown",
      "source": [
        "# Data Collection, Embeddings and Attitude"
      ],
      "metadata": {
        "id": "5CSBbeSkyRmq"
      }
    },
    {
      "cell_type": "code",
      "source": [
        "from google.colab import drive\n",
        "drive.mount('/content/drive')"
      ],
      "metadata": {
        "colab": {
          "base_uri": "https://localhost:8080/"
        },
        "id": "GKFaijaIsKBU",
        "outputId": "29fc8b8d-d61e-49f6-920e-da80b2d9f419"
      },
      "execution_count": 2,
      "outputs": [
        {
          "output_type": "stream",
          "name": "stdout",
          "text": [
            "Mounted at /content/drive\n"
          ]
        }
      ]
    },
    {
      "cell_type": "code",
      "execution_count": 3,
      "metadata": {
        "id": "35BpcyS4eWHw"
      },
      "outputs": [],
      "source": [
        "import numpy as np\n",
        "import pandas as pd\n",
        "import seaborn as sns\n",
        "notes_path = \"/content/drive/MyDrive/NIH/Data/\""
      ]
    },
    {
      "cell_type": "code",
      "source": [
        "file_name = \"ICUSTAYS.csv\"\n",
        "df_ward = pd.read_csv(notes_path+file_name)\n",
        "subject_id_tsicu = df_ward[(df_ward['FIRST_CAREUNIT']=='TSICU') & (df_ward['LAST_CAREUNIT']=='TSICU')].SUBJECT_ID.unique()\n",
        "print(f'Number of Subjects in TSICU: {len(subject_id_tsicu)}')\n",
        "hosp_stay_id_tsicu = df_ward[(df_ward['FIRST_CAREUNIT']=='TSICU') & (df_ward['LAST_CAREUNIT']=='TSICU')].HADM_ID.unique()\n",
        "print(f'Number of Hospital stays in TSICU: {len(hosp_stay_id_tsicu)}')"
      ],
      "metadata": {
        "id": "Ti0D5GvITEpa",
        "colab": {
          "base_uri": "https://localhost:8080/"
        },
        "outputId": "b282a2ee-5da3-4f46-a792-5c888b9e0adf"
      },
      "execution_count": 4,
      "outputs": [
        {
          "output_type": "stream",
          "name": "stdout",
          "text": [
            "Number of Subjects in TSICU: 5418\n",
            "Number of Hospital stays in TSICU: 5563\n"
          ]
        }
      ]
    },
    {
      "cell_type": "code",
      "source": [
        "file_name = \"DIAGNOSES_ICD.csv\"\n",
        "df_icd = pd.read_csv(notes_path+file_name)\n",
        "df_icd_first = df_icd[df_icd['SEQ_NUM']==1]\n",
        "df_icd_first_tsicu = df_icd_first[df_icd_first['SUBJECT_ID'].isin(subject_id_tsicu)]\n",
        "print(f'Number of unique ICD 9 first sequence from TCICU subject: {df_icd_first_tsicu.ICD9_CODE.nunique()}')\n",
        "icd_tsicu = df_icd_first_tsicu.ICD9_CODE.value_counts().nlargest(5)\n",
        "print('Top 5 Popular ICD9 in the TSICU population with duplicates:')\n",
        "print(\"code  #subjects\")\n",
        "icd_tsicu"
      ],
      "metadata": {
        "id": "PFLocK_T-w_x",
        "outputId": "b70ae386-ed12-43d7-fef7-dcfc1909415b",
        "colab": {
          "base_uri": "https://localhost:8080/"
        }
      },
      "execution_count": 5,
      "outputs": [
        {
          "output_type": "stream",
          "name": "stdout",
          "text": [
            "Number of unique ICD 9 first sequence from TCICU subject: 1387\n",
            "Top 5 Popular ICD9 in the TSICU population with duplicates:\n",
            "code  #subjects\n"
          ]
        },
        {
          "output_type": "execute_result",
          "data": {
            "text/plain": [
              "431      190\n",
              "0389     164\n",
              "85221    103\n",
              "51881     81\n",
              "430       79\n",
              "Name: ICD9_CODE, dtype: int64"
            ]
          },
          "metadata": {},
          "execution_count": 5
        }
      ]
    },
    {
      "cell_type": "code",
      "source": [
        "condition = []\n",
        "for item in df_icd['ICD9_CODE'].values:\n",
        "  \n",
        "  if str(item).isdigit():\n",
        "    item = float(item)\n",
        "    if (item>799 and item<1000):\n",
        "      condition.append(True)\n",
        "    else: \n",
        "      condition.append(False)\n",
        "  else:\n",
        "      condition.append(False)\n",
        "\n",
        "df_8xx = df_icd[condition]\n",
        "df_8xx_tsicu = df_8xx[df_8xx['SUBJECT_ID'].isin(subject_id_tsicu)]\n",
        "icd8xx_subjects_ids = df_8xx_tsicu['SUBJECT_ID'].unique()\n",
        "icd8xx_hosp_ids = df_8xx_tsicu['HADM_ID'].unique()\n",
        "print(f'Number of subjects with a first sequence ICD 9 code [800,900) : {len(icd8xx_subjects_ids)}')\n",
        "print(f'Number of hospital stays with a first sequence ICD 9 code [800,900) : {len(icd8xx_hosp_ids)}')"
      ],
      "metadata": {
        "colab": {
          "base_uri": "https://localhost:8080/"
        },
        "id": "6-NdyuwtOgIx",
        "outputId": "59b7a2ec-74d7-48c1-e943-bd224d2aa7b2"
      },
      "execution_count": 6,
      "outputs": [
        {
          "output_type": "stream",
          "name": "stdout",
          "text": [
            "Number of subjects with a first sequence ICD 9 code [800,900) : 272\n",
            "Number of hospital stays with a first sequence ICD 9 code [800,900) : 290\n"
          ]
        }
      ]
    },
    {
      "cell_type": "code",
      "source": [
        "print(df_8xx_tsicu['ICD9_CODE'].unique())"
      ],
      "metadata": {
        "colab": {
          "base_uri": "https://localhost:8080/"
        },
        "id": "XlKJEMGhI3VQ",
        "outputId": "8ba1f7f4-4091-402c-fd6c-b81404c4902a"
      },
      "execution_count": 7,
      "outputs": [
        {
          "output_type": "stream",
          "name": "stdout",
          "text": [
            "['920' '00845' '938' '936' '0940' '932' '0971' '0993' '937' '00841']\n"
          ]
        }
      ]
    },
    {
      "cell_type": "code",
      "source": [
        "patients = \"PATIENTS.csv\"\n",
        "df_patients = pd.read_csv(notes_path+patients)\n",
        "df_patients_icd8xx_tsicu = df_patients[df_patients['SUBJECT_ID'].isin(icd8xx_subjects_ids)]\n",
        "df_patients_icd8xx_tsicu.info()\n",
        "print('Subjects Expired (1), Alive (0): ')\n",
        "print(df_patients_icd8xx_tsicu['EXPIRE_FLAG'].value_counts())\n",
        "print(df_patients_icd8xx_tsicu['GENDER'].value_counts())"
      ],
      "metadata": {
        "id": "oz7EmtbWQC31",
        "colab": {
          "base_uri": "https://localhost:8080/"
        },
        "outputId": "f61873c7-9aed-487e-9fb9-a762c2f1cb9c"
      },
      "execution_count": 8,
      "outputs": [
        {
          "output_type": "stream",
          "name": "stdout",
          "text": [
            "<class 'pandas.core.frame.DataFrame'>\n",
            "Int64Index: 272 entries, 126 to 46370\n",
            "Data columns (total 8 columns):\n",
            " #   Column       Non-Null Count  Dtype \n",
            "---  ------       --------------  ----- \n",
            " 0   ROW_ID       272 non-null    int64 \n",
            " 1   SUBJECT_ID   272 non-null    int64 \n",
            " 2   GENDER       272 non-null    object\n",
            " 3   DOB          272 non-null    object\n",
            " 4   DOD          113 non-null    object\n",
            " 5   DOD_HOSP     65 non-null     object\n",
            " 6   DOD_SSN      96 non-null     object\n",
            " 7   EXPIRE_FLAG  272 non-null    int64 \n",
            "dtypes: int64(3), object(5)\n",
            "memory usage: 19.1+ KB\n",
            "Subjects Expired (1), Alive (0): \n",
            "0    159\n",
            "1    113\n",
            "Name: EXPIRE_FLAG, dtype: int64\n",
            "M    153\n",
            "F    119\n",
            "Name: GENDER, dtype: int64\n"
          ]
        }
      ]
    },
    {
      "cell_type": "code",
      "source": [
        "df_gcs_total_subjects = df_patients_icd8xx_tsicu[df_patients_icd8xx_tsicu['SUBJECT_ID'].isin(icd8xx_subjects_ids)]\n",
        "df_gcs_total_subjects['SUBJECT_ID'].nunique()"
      ],
      "metadata": {
        "colab": {
          "base_uri": "https://localhost:8080/"
        },
        "id": "q1aE_OgdyF2R",
        "outputId": "5871fd08-40ab-41c8-a5b7-a8c55ef34ad0"
      },
      "execution_count": 9,
      "outputs": [
        {
          "output_type": "execute_result",
          "data": {
            "text/plain": [
              "272"
            ]
          },
          "metadata": {},
          "execution_count": 9
        }
      ]
    },
    {
      "cell_type": "code",
      "source": [
        "note_events = \"NOTEEVENTS.csv\"\n",
        "df_note_events = pd.read_csv(notes_path+note_events)\n",
        "df_note_events.info()"
      ],
      "metadata": {
        "id": "-nA246kVYBs_",
        "outputId": "dd709696-ebff-4fbb-e936-18664a0d318a",
        "colab": {
          "base_uri": "https://localhost:8080/"
        }
      },
      "execution_count": 10,
      "outputs": [
        {
          "output_type": "stream",
          "name": "stderr",
          "text": [
            "<ipython-input-10-8fd00f55f791>:2: DtypeWarning: Columns (4,5) have mixed types. Specify dtype option on import or set low_memory=False.\n",
            "  df_note_events = pd.read_csv(notes_path+note_events)\n"
          ]
        },
        {
          "output_type": "stream",
          "name": "stdout",
          "text": [
            "<class 'pandas.core.frame.DataFrame'>\n",
            "RangeIndex: 2083180 entries, 0 to 2083179\n",
            "Data columns (total 11 columns):\n",
            " #   Column       Dtype  \n",
            "---  ------       -----  \n",
            " 0   ROW_ID       int64  \n",
            " 1   SUBJECT_ID   int64  \n",
            " 2   HADM_ID      float64\n",
            " 3   CHARTDATE    object \n",
            " 4   CHARTTIME    object \n",
            " 5   STORETIME    object \n",
            " 6   CATEGORY     object \n",
            " 7   DESCRIPTION  object \n",
            " 8   CGID         float64\n",
            " 9   ISERROR      float64\n",
            " 10  TEXT         object \n",
            "dtypes: float64(3), int64(2), object(6)\n",
            "memory usage: 174.8+ MB\n"
          ]
        }
      ]
    },
    {
      "cell_type": "code",
      "source": [
        "df_notes_total_hosp_stays = df_note_events[df_note_events['HADM_ID'].isin(hosp_stay_id_tsicu)] \n",
        "df_notes_total_hosp_stays.info()\n",
        "df_notes_total_hosp_stays.sort_values(by=['HADM_ID','CHARTTIME'])"
      ],
      "metadata": {
        "colab": {
          "base_uri": "https://localhost:8080/",
          "height": 416
        },
        "id": "tbNzgHw2JDkt",
        "outputId": "adcaa850-f015-4d39-fcbd-2d42b210adf0"
      },
      "execution_count": 11,
      "outputs": [
        {
          "output_type": "stream",
          "name": "stdout",
          "text": [
            "<class 'pandas.core.frame.DataFrame'>\n",
            "Int64Index: 166730 entries, 4 to 2066655\n",
            "Data columns (total 11 columns):\n",
            " #   Column       Non-Null Count   Dtype  \n",
            "---  ------       --------------   -----  \n",
            " 0   ROW_ID       166730 non-null  int64  \n",
            " 1   SUBJECT_ID   166730 non-null  int64  \n",
            " 2   HADM_ID      166730 non-null  float64\n",
            " 3   CHARTDATE    166730 non-null  object \n",
            " 4   CHARTTIME    150514 non-null  object \n",
            " 5   STORETIME    89105 non-null   object \n",
            " 6   CATEGORY     166730 non-null  object \n",
            " 7   DESCRIPTION  166730 non-null  object \n",
            " 8   CGID         89105 non-null   float64\n",
            " 9   ISERROR      71 non-null      float64\n",
            " 10  TEXT         166730 non-null  object \n",
            "dtypes: float64(3), int64(2), object(6)\n",
            "memory usage: 15.3+ MB\n"
          ]
        },
        {
          "output_type": "execute_result",
          "data": {
            "text/plain": [
              "          ROW_ID  SUBJECT_ID   HADM_ID   CHARTDATE            CHARTTIME  \\\n",
              "1125713  1146721       87977  100011.0  2177-08-29  2177-08-29 04:11:00   \n",
              "1125714  1146722       87977  100011.0  2177-08-29  2177-08-29 04:12:00   \n",
              "1125715  1146723       87977  100011.0  2177-08-29  2177-08-29 04:13:00   \n",
              "1125355  1146724       87977  100011.0  2177-08-29  2177-08-29 04:26:00   \n",
              "1125356  1146725       87977  100011.0  2177-08-29  2177-08-29 05:16:00   \n",
              "...          ...         ...       ...         ...                  ...   \n",
              "1014186  1018660       28549  199987.0  2175-05-27  2175-05-27 14:44:00   \n",
              "3812        3727       28549  199987.0  2175-05-28                  NaN   \n",
              "63666      63301       28549  199987.0  2175-05-22                  NaN   \n",
              "134685    127338       28549  199987.0  2175-05-24                  NaN   \n",
              "134686    127339       28549  199987.0  2175-05-19                  NaN   \n",
              "\n",
              "        STORETIME           CATEGORY                              DESCRIPTION  \\\n",
              "1125713       NaN          Radiology                     CT HEAD W/O CONTRAST   \n",
              "1125714       NaN          Radiology                  CT C-SPINE W/O CONTRAST   \n",
              "1125715       NaN          Radiology                     CT PELVIS W/CONTRAST   \n",
              "1125355       NaN          Radiology  P TRAUMA #2 (AP CXR & PELVIS PORT) PORT   \n",
              "1125356       NaN          Radiology                   R KNEE (2 VIEWS) RIGHT   \n",
              "...           ...                ...                                      ...   \n",
              "1014186       NaN          Radiology                         CHEST (PA & LAT)   \n",
              "3812          NaN  Discharge summary                                   Report   \n",
              "63666         NaN               Echo                                   Report   \n",
              "134685        NaN                ECG                                   Report   \n",
              "134686        NaN                ECG                                   Report   \n",
              "\n",
              "         CGID  ISERROR                                               TEXT  \n",
              "1125713   NaN      NaN  [**2177-8-29**] 4:11 AM\\n CT HEAD W/O CONTRAST...  \n",
              "1125714   NaN      NaN  [**2177-8-29**] 4:12 AM\\n CT C-SPINE W/O CONTR...  \n",
              "1125715   NaN      NaN  [**2177-8-29**] 4:13 AM\\n CT CHEST W/CONTRAST;...  \n",
              "1125355   NaN      NaN  [**2177-8-29**] 4:26 AM\\n TRAUMA #2 (AP CXR & ...  \n",
              "1125356   NaN      NaN  [**2177-8-29**] 5:16 AM\\n KNEE (2 VIEWS) RIGHT...  \n",
              "...       ...      ...                                                ...  \n",
              "1014186   NaN      NaN  [**2175-5-27**] 2:44 PM\\n CHEST (PA & LAT)    ...  \n",
              "3812      NaN      NaN  Admission Date:  [**2175-5-19**]              ...  \n",
              "63666     NaN      NaN  PATIENT/TEST INFORMATION:\\nIndication: Left ve...  \n",
              "134685    NaN      NaN  Sinus rhythm.  Compared to the previous tracin...  \n",
              "134686    NaN      NaN  Normal sinus rhythm. RSR' pattern in leads V1-...  \n",
              "\n",
              "[166730 rows x 11 columns]"
            ],
            "text/html": [
              "\n",
              "  <div id=\"df-2cf1c8f4-f479-45a9-a5d4-6e274c12f036\">\n",
              "    <div class=\"colab-df-container\">\n",
              "      <div>\n",
              "<style scoped>\n",
              "    .dataframe tbody tr th:only-of-type {\n",
              "        vertical-align: middle;\n",
              "    }\n",
              "\n",
              "    .dataframe tbody tr th {\n",
              "        vertical-align: top;\n",
              "    }\n",
              "\n",
              "    .dataframe thead th {\n",
              "        text-align: right;\n",
              "    }\n",
              "</style>\n",
              "<table border=\"1\" class=\"dataframe\">\n",
              "  <thead>\n",
              "    <tr style=\"text-align: right;\">\n",
              "      <th></th>\n",
              "      <th>ROW_ID</th>\n",
              "      <th>SUBJECT_ID</th>\n",
              "      <th>HADM_ID</th>\n",
              "      <th>CHARTDATE</th>\n",
              "      <th>CHARTTIME</th>\n",
              "      <th>STORETIME</th>\n",
              "      <th>CATEGORY</th>\n",
              "      <th>DESCRIPTION</th>\n",
              "      <th>CGID</th>\n",
              "      <th>ISERROR</th>\n",
              "      <th>TEXT</th>\n",
              "    </tr>\n",
              "  </thead>\n",
              "  <tbody>\n",
              "    <tr>\n",
              "      <th>1125713</th>\n",
              "      <td>1146721</td>\n",
              "      <td>87977</td>\n",
              "      <td>100011.0</td>\n",
              "      <td>2177-08-29</td>\n",
              "      <td>2177-08-29 04:11:00</td>\n",
              "      <td>NaN</td>\n",
              "      <td>Radiology</td>\n",
              "      <td>CT HEAD W/O CONTRAST</td>\n",
              "      <td>NaN</td>\n",
              "      <td>NaN</td>\n",
              "      <td>[**2177-8-29**] 4:11 AM\\n CT HEAD W/O CONTRAST...</td>\n",
              "    </tr>\n",
              "    <tr>\n",
              "      <th>1125714</th>\n",
              "      <td>1146722</td>\n",
              "      <td>87977</td>\n",
              "      <td>100011.0</td>\n",
              "      <td>2177-08-29</td>\n",
              "      <td>2177-08-29 04:12:00</td>\n",
              "      <td>NaN</td>\n",
              "      <td>Radiology</td>\n",
              "      <td>CT C-SPINE W/O CONTRAST</td>\n",
              "      <td>NaN</td>\n",
              "      <td>NaN</td>\n",
              "      <td>[**2177-8-29**] 4:12 AM\\n CT C-SPINE W/O CONTR...</td>\n",
              "    </tr>\n",
              "    <tr>\n",
              "      <th>1125715</th>\n",
              "      <td>1146723</td>\n",
              "      <td>87977</td>\n",
              "      <td>100011.0</td>\n",
              "      <td>2177-08-29</td>\n",
              "      <td>2177-08-29 04:13:00</td>\n",
              "      <td>NaN</td>\n",
              "      <td>Radiology</td>\n",
              "      <td>CT PELVIS W/CONTRAST</td>\n",
              "      <td>NaN</td>\n",
              "      <td>NaN</td>\n",
              "      <td>[**2177-8-29**] 4:13 AM\\n CT CHEST W/CONTRAST;...</td>\n",
              "    </tr>\n",
              "    <tr>\n",
              "      <th>1125355</th>\n",
              "      <td>1146724</td>\n",
              "      <td>87977</td>\n",
              "      <td>100011.0</td>\n",
              "      <td>2177-08-29</td>\n",
              "      <td>2177-08-29 04:26:00</td>\n",
              "      <td>NaN</td>\n",
              "      <td>Radiology</td>\n",
              "      <td>P TRAUMA #2 (AP CXR &amp; PELVIS PORT) PORT</td>\n",
              "      <td>NaN</td>\n",
              "      <td>NaN</td>\n",
              "      <td>[**2177-8-29**] 4:26 AM\\n TRAUMA #2 (AP CXR &amp; ...</td>\n",
              "    </tr>\n",
              "    <tr>\n",
              "      <th>1125356</th>\n",
              "      <td>1146725</td>\n",
              "      <td>87977</td>\n",
              "      <td>100011.0</td>\n",
              "      <td>2177-08-29</td>\n",
              "      <td>2177-08-29 05:16:00</td>\n",
              "      <td>NaN</td>\n",
              "      <td>Radiology</td>\n",
              "      <td>R KNEE (2 VIEWS) RIGHT</td>\n",
              "      <td>NaN</td>\n",
              "      <td>NaN</td>\n",
              "      <td>[**2177-8-29**] 5:16 AM\\n KNEE (2 VIEWS) RIGHT...</td>\n",
              "    </tr>\n",
              "    <tr>\n",
              "      <th>...</th>\n",
              "      <td>...</td>\n",
              "      <td>...</td>\n",
              "      <td>...</td>\n",
              "      <td>...</td>\n",
              "      <td>...</td>\n",
              "      <td>...</td>\n",
              "      <td>...</td>\n",
              "      <td>...</td>\n",
              "      <td>...</td>\n",
              "      <td>...</td>\n",
              "      <td>...</td>\n",
              "    </tr>\n",
              "    <tr>\n",
              "      <th>1014186</th>\n",
              "      <td>1018660</td>\n",
              "      <td>28549</td>\n",
              "      <td>199987.0</td>\n",
              "      <td>2175-05-27</td>\n",
              "      <td>2175-05-27 14:44:00</td>\n",
              "      <td>NaN</td>\n",
              "      <td>Radiology</td>\n",
              "      <td>CHEST (PA &amp; LAT)</td>\n",
              "      <td>NaN</td>\n",
              "      <td>NaN</td>\n",
              "      <td>[**2175-5-27**] 2:44 PM\\n CHEST (PA &amp; LAT)    ...</td>\n",
              "    </tr>\n",
              "    <tr>\n",
              "      <th>3812</th>\n",
              "      <td>3727</td>\n",
              "      <td>28549</td>\n",
              "      <td>199987.0</td>\n",
              "      <td>2175-05-28</td>\n",
              "      <td>NaN</td>\n",
              "      <td>NaN</td>\n",
              "      <td>Discharge summary</td>\n",
              "      <td>Report</td>\n",
              "      <td>NaN</td>\n",
              "      <td>NaN</td>\n",
              "      <td>Admission Date:  [**2175-5-19**]              ...</td>\n",
              "    </tr>\n",
              "    <tr>\n",
              "      <th>63666</th>\n",
              "      <td>63301</td>\n",
              "      <td>28549</td>\n",
              "      <td>199987.0</td>\n",
              "      <td>2175-05-22</td>\n",
              "      <td>NaN</td>\n",
              "      <td>NaN</td>\n",
              "      <td>Echo</td>\n",
              "      <td>Report</td>\n",
              "      <td>NaN</td>\n",
              "      <td>NaN</td>\n",
              "      <td>PATIENT/TEST INFORMATION:\\nIndication: Left ve...</td>\n",
              "    </tr>\n",
              "    <tr>\n",
              "      <th>134685</th>\n",
              "      <td>127338</td>\n",
              "      <td>28549</td>\n",
              "      <td>199987.0</td>\n",
              "      <td>2175-05-24</td>\n",
              "      <td>NaN</td>\n",
              "      <td>NaN</td>\n",
              "      <td>ECG</td>\n",
              "      <td>Report</td>\n",
              "      <td>NaN</td>\n",
              "      <td>NaN</td>\n",
              "      <td>Sinus rhythm.  Compared to the previous tracin...</td>\n",
              "    </tr>\n",
              "    <tr>\n",
              "      <th>134686</th>\n",
              "      <td>127339</td>\n",
              "      <td>28549</td>\n",
              "      <td>199987.0</td>\n",
              "      <td>2175-05-19</td>\n",
              "      <td>NaN</td>\n",
              "      <td>NaN</td>\n",
              "      <td>ECG</td>\n",
              "      <td>Report</td>\n",
              "      <td>NaN</td>\n",
              "      <td>NaN</td>\n",
              "      <td>Normal sinus rhythm. RSR' pattern in leads V1-...</td>\n",
              "    </tr>\n",
              "  </tbody>\n",
              "</table>\n",
              "<p>166730 rows × 11 columns</p>\n",
              "</div>\n",
              "      <button class=\"colab-df-convert\" onclick=\"convertToInteractive('df-2cf1c8f4-f479-45a9-a5d4-6e274c12f036')\"\n",
              "              title=\"Convert this dataframe to an interactive table.\"\n",
              "              style=\"display:none;\">\n",
              "        \n",
              "  <svg xmlns=\"http://www.w3.org/2000/svg\" height=\"24px\"viewBox=\"0 0 24 24\"\n",
              "       width=\"24px\">\n",
              "    <path d=\"M0 0h24v24H0V0z\" fill=\"none\"/>\n",
              "    <path d=\"M18.56 5.44l.94 2.06.94-2.06 2.06-.94-2.06-.94-.94-2.06-.94 2.06-2.06.94zm-11 1L8.5 8.5l.94-2.06 2.06-.94-2.06-.94L8.5 2.5l-.94 2.06-2.06.94zm10 10l.94 2.06.94-2.06 2.06-.94-2.06-.94-.94-2.06-.94 2.06-2.06.94z\"/><path d=\"M17.41 7.96l-1.37-1.37c-.4-.4-.92-.59-1.43-.59-.52 0-1.04.2-1.43.59L10.3 9.45l-7.72 7.72c-.78.78-.78 2.05 0 2.83L4 21.41c.39.39.9.59 1.41.59.51 0 1.02-.2 1.41-.59l7.78-7.78 2.81-2.81c.8-.78.8-2.07 0-2.86zM5.41 20L4 18.59l7.72-7.72 1.47 1.35L5.41 20z\"/>\n",
              "  </svg>\n",
              "      </button>\n",
              "      \n",
              "  <style>\n",
              "    .colab-df-container {\n",
              "      display:flex;\n",
              "      flex-wrap:wrap;\n",
              "      gap: 12px;\n",
              "    }\n",
              "\n",
              "    .colab-df-convert {\n",
              "      background-color: #E8F0FE;\n",
              "      border: none;\n",
              "      border-radius: 50%;\n",
              "      cursor: pointer;\n",
              "      display: none;\n",
              "      fill: #1967D2;\n",
              "      height: 32px;\n",
              "      padding: 0 0 0 0;\n",
              "      width: 32px;\n",
              "    }\n",
              "\n",
              "    .colab-df-convert:hover {\n",
              "      background-color: #E2EBFA;\n",
              "      box-shadow: 0px 1px 2px rgba(60, 64, 67, 0.3), 0px 1px 3px 1px rgba(60, 64, 67, 0.15);\n",
              "      fill: #174EA6;\n",
              "    }\n",
              "\n",
              "    [theme=dark] .colab-df-convert {\n",
              "      background-color: #3B4455;\n",
              "      fill: #D2E3FC;\n",
              "    }\n",
              "\n",
              "    [theme=dark] .colab-df-convert:hover {\n",
              "      background-color: #434B5C;\n",
              "      box-shadow: 0px 1px 3px 1px rgba(0, 0, 0, 0.15);\n",
              "      filter: drop-shadow(0px 1px 2px rgba(0, 0, 0, 0.3));\n",
              "      fill: #FFFFFF;\n",
              "    }\n",
              "  </style>\n",
              "\n",
              "      <script>\n",
              "        const buttonEl =\n",
              "          document.querySelector('#df-2cf1c8f4-f479-45a9-a5d4-6e274c12f036 button.colab-df-convert');\n",
              "        buttonEl.style.display =\n",
              "          google.colab.kernel.accessAllowed ? 'block' : 'none';\n",
              "\n",
              "        async function convertToInteractive(key) {\n",
              "          const element = document.querySelector('#df-2cf1c8f4-f479-45a9-a5d4-6e274c12f036');\n",
              "          const dataTable =\n",
              "            await google.colab.kernel.invokeFunction('convertToInteractive',\n",
              "                                                     [key], {});\n",
              "          if (!dataTable) return;\n",
              "\n",
              "          const docLinkHtml = 'Like what you see? Visit the ' +\n",
              "            '<a target=\"_blank\" href=https://colab.research.google.com/notebooks/data_table.ipynb>data table notebook</a>'\n",
              "            + ' to learn more about interactive tables.';\n",
              "          element.innerHTML = '';\n",
              "          dataTable['output_type'] = 'display_data';\n",
              "          await google.colab.output.renderOutput(dataTable, element);\n",
              "          const docLink = document.createElement('div');\n",
              "          docLink.innerHTML = docLinkHtml;\n",
              "          element.appendChild(docLink);\n",
              "        }\n",
              "      </script>\n",
              "    </div>\n",
              "  </div>\n",
              "  "
            ]
          },
          "metadata": {},
          "execution_count": 11
        },
        {
          "output_type": "stream",
          "name": "stdout",
          "text": [
            "Warning: total number of rows (166730) exceeds max_rows (20000). Limiting to first (20000) rows.\n",
            "Error: Runtime no longer has a reference to this dataframe, please re-run this cell and try again.\n",
            "Error: Runtime no longer has a reference to this dataframe, please re-run this cell and try again.\n"
          ]
        }
      ]
    },
    {
      "cell_type": "code",
      "source": [
        "print(df_note_events['CATEGORY'].unique())"
      ],
      "metadata": {
        "id": "QbSCiAMObBNm",
        "outputId": "c0d9bc7d-8ce6-4137-be3e-a87647d1c69f",
        "colab": {
          "base_uri": "https://localhost:8080/"
        }
      },
      "execution_count": 20,
      "outputs": [
        {
          "output_type": "stream",
          "name": "stdout",
          "text": [
            "['Discharge summary' 'Echo' 'ECG' 'Nursing' 'Physician ' 'Rehab Services'\n",
            " 'Case Management ' 'Respiratory ' 'Nutrition' 'General' 'Social Work'\n",
            " 'Pharmacy' 'Consult' 'Radiology' 'Nursing/other']\n"
          ]
        }
      ]
    },
    {
      "cell_type": "code",
      "source": [
        "import re\n",
        "df_notes_icd8xx_tsicu_social = df_notes_total_hosp_stays.merge(df_patients[['SUBJECT_ID', 'EXPIRE_FLAG']], on=['SUBJECT_ID'], how='inner')\n",
        "df_notes_icd8xx_tsicu_social = df_notes_icd8xx_tsicu_social.merge(df_8xx_tsicu[['SUBJECT_ID', 'ICD9_CODE','HADM_ID']], on=['SUBJECT_ID','HADM_ID'], how='inner')\n",
        "df_notes_icd8xx_tsicu_social = df_notes_icd8xx_tsicu_social[(df_notes_icd8xx_tsicu_social['CATEGORY']=='Nursing') | (df_notes_icd8xx_tsicu_social['CATEGORY']=='Nursing/other') | (df_notes_icd8xx_tsicu_social['CATEGORY']=='Social Work')]\n",
        "\n",
        "# regex pattern\n",
        "pattern = r'(?i)(social work note:|social work note-|social work note\\n\\n|social work note\\n|social work:|social work-|social work\\n\\n|social work\\n|social:|soc:|social-|social \\n|social\\n\\n|social\\n)(.*?)(?:\\n|$)'\n",
        "\n",
        "# grabs multiple results if the pattern shows more than once\n",
        "df_notes_icd8xx_tsicu_social['SOCIAL'] = df_notes_icd8xx_tsicu_social['TEXT'].apply(lambda x: ' '.join([match[1] for match in re.findall(pattern, x.lower(), flags=re.DOTALL)]) if re.findall(pattern, x.lower(), flags=re.DOTALL) else '')\n",
        "\n",
        "#df_notes_icd8xx_tsicu_social = df_notes_icd8xx_tsicu_social[df_notes_icd8xx_tsicu_social['TEXT'].str.lower().str.contains('social work', regex=True)] # grabs only \"social work\" examples\n",
        "#df_notes_icd8xx_tsicu_social['SOCIAL'] = df_notes_icd8xx_tsicu_social['TEXT'].str.lower().str.extract(pattern, flags=re.DOTALL)[1]  # grabs only the first result of regex pattern\n",
        "\n",
        "#df_notes_icd8xx_tsicu_social = df_notes_icd8xx_tsicu_social.sort_values(by=['HADM_ID','CHARTTIME']) # for testing\n",
        "#df_notes_icd8xx_tsicu_social = df_notes_icd8xx_tsicu_social[df_notes_icd8xx_tsicu_social['EXPIRE_FLAG'] == 1] # for testing\n",
        "#df_notes_icd8xx_tsicu_social = df_notes_icd8xx_tsicu_social[df_notes_icd8xx_tsicu_social['HADM_ID'] == 108474] # for testing\n",
        "\n",
        "df_notes_icd8xx_tsicu_social = df_notes_icd8xx_tsicu_social.sort_values(by='SOCIAL', key=lambda x: x.str.len(), ascending=False)\n",
        "df_notes_icd8xx_tsicu_social.info()\n",
        "df_notes_icd8xx_tsicu_social.head(200)"
      ],
      "metadata": {
        "colab": {
          "base_uri": "https://localhost:8080/",
          "height": 788
        },
        "id": "nqjCql5TjMlG",
        "outputId": "a309faf4-6095-4a25-d088-90815af79581"
      },
      "execution_count": 73,
      "outputs": [
        {
          "output_type": "stream",
          "name": "stdout",
          "text": [
            "<class 'pandas.core.frame.DataFrame'>\n",
            "Int64Index: 3698 entries, 4409 to 3828\n",
            "Data columns (total 14 columns):\n",
            " #   Column       Non-Null Count  Dtype  \n",
            "---  ------       --------------  -----  \n",
            " 0   ROW_ID       3698 non-null   int64  \n",
            " 1   SUBJECT_ID   3698 non-null   int64  \n",
            " 2   HADM_ID      3698 non-null   float64\n",
            " 3   CHARTDATE    3698 non-null   object \n",
            " 4   CHARTTIME    3698 non-null   object \n",
            " 5   STORETIME    3698 non-null   object \n",
            " 6   CATEGORY     3698 non-null   object \n",
            " 7   DESCRIPTION  3698 non-null   object \n",
            " 8   CGID         3698 non-null   float64\n",
            " 9   ISERROR      0 non-null      float64\n",
            " 10  TEXT         3698 non-null   object \n",
            " 11  EXPIRE_FLAG  3698 non-null   int64  \n",
            " 12  ICD9_CODE    3698 non-null   object \n",
            " 13  SOCIAL       3698 non-null   object \n",
            "dtypes: float64(3), int64(3), object(8)\n",
            "memory usage: 433.4+ KB\n"
          ]
        },
        {
          "output_type": "execute_result",
          "data": {
            "text/plain": [
              "       ROW_ID  SUBJECT_ID   HADM_ID   CHARTDATE            CHARTTIME  \\\n",
              "4409  1278472        1258  177293.0  2191-06-16  2191-06-16 20:34:00   \n",
              "4730  1538749       21068  138137.0  2158-01-24  2158-01-24 05:05:00   \n",
              "1598  1435366       13249  164729.0  2198-01-18  2198-01-18 21:14:00   \n",
              "3231  1321227        4579  114175.0  2193-06-19  2193-06-19 18:13:00   \n",
              "2234  1416235       11776  161707.0  2190-02-22  2190-02-22 14:07:00   \n",
              "...       ...         ...       ...         ...                  ...   \n",
              "1344  1387018        9437  155329.0  2132-09-15  2132-09-15 06:41:00   \n",
              "2985  1660491       31133  102634.0  2106-03-20  2106-03-20 18:09:00   \n",
              "2686  1636320       28744  108474.0  2120-10-01  2120-10-01 05:11:00   \n",
              "3459  1671473       32287  197432.0  2177-03-16  2177-03-16 17:39:00   \n",
              "3175  1432023       12943  101335.0  2123-05-31  2123-05-31 15:37:00   \n",
              "\n",
              "                STORETIME       CATEGORY DESCRIPTION     CGID  ISERROR  \\\n",
              "4409  2191-06-16 20:43:00  Nursing/other      Report  17159.0      NaN   \n",
              "4730  2158-01-24 05:30:00  Nursing/other      Report  14562.0      NaN   \n",
              "1598  2198-01-18 21:22:00  Nursing/other      Report  15225.0      NaN   \n",
              "3231  2193-06-19 18:26:00  Nursing/other      Report  17159.0      NaN   \n",
              "2234  2190-02-22 14:14:00  Nursing/other      Report  17665.0      NaN   \n",
              "...                   ...            ...         ...      ...      ...   \n",
              "1344  2132-09-15 07:09:00  Nursing/other      Report  21202.0      NaN   \n",
              "2985  2106-03-20 18:19:00  Nursing/other      Report  15217.0      NaN   \n",
              "2686  2120-10-01 05:27:00  Nursing/other      Report  14151.0      NaN   \n",
              "3459  2177-03-16 17:57:00  Nursing/other      Report  17435.0      NaN   \n",
              "3175  2123-05-31 15:49:00  Nursing/other      Report  20297.0      NaN   \n",
              "\n",
              "                                                   TEXT  EXPIRE_FLAG  \\\n",
              "4409  Social Work\\nSW met with pt's mother, [**Name ...            1   \n",
              "4730  NPN 1900-0700\\nNEURO: Pt alert and interactive...            0   \n",
              "1598  MICU NPN Addendum:\\nSocial: Pt's daughter [**N...            1   \n",
              "3231  Social Work\\nSW met with pt's wife today to in...            1   \n",
              "2234  SOCIAL WORK\\nSW met with pts brothers [**Name ...            0   \n",
              "...                                                 ...          ...   \n",
              "1344  Admission Note\\n28 y.o.m.   NKDA    Full Code ...            0   \n",
              "2985  NPN TSICU 0700-1900\\nReview of systems:\\n\\nneu...            1   \n",
              "2686  assessment as noted in carevue\\n\\nres: coarse,...            0   \n",
              "3459  Nursing Progress Note\\nNo significant events\\n...            0   \n",
              "3175  nsg NOTE\\nROS:\\n\\n     CV:POSITIONAL ART LINE ...            0   \n",
              "\n",
              "     ICD9_CODE                                             SOCIAL  \n",
              "4409       920  sw met with pt's mother, [**name (ni) **], in ...  \n",
              "4730     00845   [**name (ni) 15**] mother phoned in and expre...  \n",
              "1598     00845   pt's daughter [**name (ni) **] called this ev...  \n",
              "3231       920  sw met with pt's wife today to introduce sw, p...  \n",
              "2234     00845  sw met with pts brothers [**name (ni) 3057**] ...  \n",
              "...        ...                                                ...  \n",
              "1344       920   fiance w/ pt all night. parents flew in from ...  \n",
              "2985     00845   multiple family members into visit today. fam...  \n",
              "2686     00845   family wa sin last night and talked to s/[**i...  \n",
              "3459       920   [**name (ni) 4**] sons and brother called tod...  \n",
              "3175       920  [**last name (un) **] large family,lots visito...  \n",
              "\n",
              "[200 rows x 14 columns]"
            ],
            "text/html": [
              "\n",
              "  <div id=\"df-efedf38b-a07f-45c5-9869-0c861d143779\">\n",
              "    <div class=\"colab-df-container\">\n",
              "      <div>\n",
              "<style scoped>\n",
              "    .dataframe tbody tr th:only-of-type {\n",
              "        vertical-align: middle;\n",
              "    }\n",
              "\n",
              "    .dataframe tbody tr th {\n",
              "        vertical-align: top;\n",
              "    }\n",
              "\n",
              "    .dataframe thead th {\n",
              "        text-align: right;\n",
              "    }\n",
              "</style>\n",
              "<table border=\"1\" class=\"dataframe\">\n",
              "  <thead>\n",
              "    <tr style=\"text-align: right;\">\n",
              "      <th></th>\n",
              "      <th>ROW_ID</th>\n",
              "      <th>SUBJECT_ID</th>\n",
              "      <th>HADM_ID</th>\n",
              "      <th>CHARTDATE</th>\n",
              "      <th>CHARTTIME</th>\n",
              "      <th>STORETIME</th>\n",
              "      <th>CATEGORY</th>\n",
              "      <th>DESCRIPTION</th>\n",
              "      <th>CGID</th>\n",
              "      <th>ISERROR</th>\n",
              "      <th>TEXT</th>\n",
              "      <th>EXPIRE_FLAG</th>\n",
              "      <th>ICD9_CODE</th>\n",
              "      <th>SOCIAL</th>\n",
              "    </tr>\n",
              "  </thead>\n",
              "  <tbody>\n",
              "    <tr>\n",
              "      <th>4409</th>\n",
              "      <td>1278472</td>\n",
              "      <td>1258</td>\n",
              "      <td>177293.0</td>\n",
              "      <td>2191-06-16</td>\n",
              "      <td>2191-06-16 20:34:00</td>\n",
              "      <td>2191-06-16 20:43:00</td>\n",
              "      <td>Nursing/other</td>\n",
              "      <td>Report</td>\n",
              "      <td>17159.0</td>\n",
              "      <td>NaN</td>\n",
              "      <td>Social Work\\nSW met with pt's mother, [**Name ...</td>\n",
              "      <td>1</td>\n",
              "      <td>920</td>\n",
              "      <td>sw met with pt's mother, [**name (ni) **], in ...</td>\n",
              "    </tr>\n",
              "    <tr>\n",
              "      <th>4730</th>\n",
              "      <td>1538749</td>\n",
              "      <td>21068</td>\n",
              "      <td>138137.0</td>\n",
              "      <td>2158-01-24</td>\n",
              "      <td>2158-01-24 05:05:00</td>\n",
              "      <td>2158-01-24 05:30:00</td>\n",
              "      <td>Nursing/other</td>\n",
              "      <td>Report</td>\n",
              "      <td>14562.0</td>\n",
              "      <td>NaN</td>\n",
              "      <td>NPN 1900-0700\\nNEURO: Pt alert and interactive...</td>\n",
              "      <td>0</td>\n",
              "      <td>00845</td>\n",
              "      <td>[**name (ni) 15**] mother phoned in and expre...</td>\n",
              "    </tr>\n",
              "    <tr>\n",
              "      <th>1598</th>\n",
              "      <td>1435366</td>\n",
              "      <td>13249</td>\n",
              "      <td>164729.0</td>\n",
              "      <td>2198-01-18</td>\n",
              "      <td>2198-01-18 21:14:00</td>\n",
              "      <td>2198-01-18 21:22:00</td>\n",
              "      <td>Nursing/other</td>\n",
              "      <td>Report</td>\n",
              "      <td>15225.0</td>\n",
              "      <td>NaN</td>\n",
              "      <td>MICU NPN Addendum:\\nSocial: Pt's daughter [**N...</td>\n",
              "      <td>1</td>\n",
              "      <td>00845</td>\n",
              "      <td>pt's daughter [**name (ni) **] called this ev...</td>\n",
              "    </tr>\n",
              "    <tr>\n",
              "      <th>3231</th>\n",
              "      <td>1321227</td>\n",
              "      <td>4579</td>\n",
              "      <td>114175.0</td>\n",
              "      <td>2193-06-19</td>\n",
              "      <td>2193-06-19 18:13:00</td>\n",
              "      <td>2193-06-19 18:26:00</td>\n",
              "      <td>Nursing/other</td>\n",
              "      <td>Report</td>\n",
              "      <td>17159.0</td>\n",
              "      <td>NaN</td>\n",
              "      <td>Social Work\\nSW met with pt's wife today to in...</td>\n",
              "      <td>1</td>\n",
              "      <td>920</td>\n",
              "      <td>sw met with pt's wife today to introduce sw, p...</td>\n",
              "    </tr>\n",
              "    <tr>\n",
              "      <th>2234</th>\n",
              "      <td>1416235</td>\n",
              "      <td>11776</td>\n",
              "      <td>161707.0</td>\n",
              "      <td>2190-02-22</td>\n",
              "      <td>2190-02-22 14:07:00</td>\n",
              "      <td>2190-02-22 14:14:00</td>\n",
              "      <td>Nursing/other</td>\n",
              "      <td>Report</td>\n",
              "      <td>17665.0</td>\n",
              "      <td>NaN</td>\n",
              "      <td>SOCIAL WORK\\nSW met with pts brothers [**Name ...</td>\n",
              "      <td>0</td>\n",
              "      <td>00845</td>\n",
              "      <td>sw met with pts brothers [**name (ni) 3057**] ...</td>\n",
              "    </tr>\n",
              "    <tr>\n",
              "      <th>...</th>\n",
              "      <td>...</td>\n",
              "      <td>...</td>\n",
              "      <td>...</td>\n",
              "      <td>...</td>\n",
              "      <td>...</td>\n",
              "      <td>...</td>\n",
              "      <td>...</td>\n",
              "      <td>...</td>\n",
              "      <td>...</td>\n",
              "      <td>...</td>\n",
              "      <td>...</td>\n",
              "      <td>...</td>\n",
              "      <td>...</td>\n",
              "      <td>...</td>\n",
              "    </tr>\n",
              "    <tr>\n",
              "      <th>1344</th>\n",
              "      <td>1387018</td>\n",
              "      <td>9437</td>\n",
              "      <td>155329.0</td>\n",
              "      <td>2132-09-15</td>\n",
              "      <td>2132-09-15 06:41:00</td>\n",
              "      <td>2132-09-15 07:09:00</td>\n",
              "      <td>Nursing/other</td>\n",
              "      <td>Report</td>\n",
              "      <td>21202.0</td>\n",
              "      <td>NaN</td>\n",
              "      <td>Admission Note\\n28 y.o.m.   NKDA    Full Code ...</td>\n",
              "      <td>0</td>\n",
              "      <td>920</td>\n",
              "      <td>fiance w/ pt all night. parents flew in from ...</td>\n",
              "    </tr>\n",
              "    <tr>\n",
              "      <th>2985</th>\n",
              "      <td>1660491</td>\n",
              "      <td>31133</td>\n",
              "      <td>102634.0</td>\n",
              "      <td>2106-03-20</td>\n",
              "      <td>2106-03-20 18:09:00</td>\n",
              "      <td>2106-03-20 18:19:00</td>\n",
              "      <td>Nursing/other</td>\n",
              "      <td>Report</td>\n",
              "      <td>15217.0</td>\n",
              "      <td>NaN</td>\n",
              "      <td>NPN TSICU 0700-1900\\nReview of systems:\\n\\nneu...</td>\n",
              "      <td>1</td>\n",
              "      <td>00845</td>\n",
              "      <td>multiple family members into visit today. fam...</td>\n",
              "    </tr>\n",
              "    <tr>\n",
              "      <th>2686</th>\n",
              "      <td>1636320</td>\n",
              "      <td>28744</td>\n",
              "      <td>108474.0</td>\n",
              "      <td>2120-10-01</td>\n",
              "      <td>2120-10-01 05:11:00</td>\n",
              "      <td>2120-10-01 05:27:00</td>\n",
              "      <td>Nursing/other</td>\n",
              "      <td>Report</td>\n",
              "      <td>14151.0</td>\n",
              "      <td>NaN</td>\n",
              "      <td>assessment as noted in carevue\\n\\nres: coarse,...</td>\n",
              "      <td>0</td>\n",
              "      <td>00845</td>\n",
              "      <td>family wa sin last night and talked to s/[**i...</td>\n",
              "    </tr>\n",
              "    <tr>\n",
              "      <th>3459</th>\n",
              "      <td>1671473</td>\n",
              "      <td>32287</td>\n",
              "      <td>197432.0</td>\n",
              "      <td>2177-03-16</td>\n",
              "      <td>2177-03-16 17:39:00</td>\n",
              "      <td>2177-03-16 17:57:00</td>\n",
              "      <td>Nursing/other</td>\n",
              "      <td>Report</td>\n",
              "      <td>17435.0</td>\n",
              "      <td>NaN</td>\n",
              "      <td>Nursing Progress Note\\nNo significant events\\n...</td>\n",
              "      <td>0</td>\n",
              "      <td>920</td>\n",
              "      <td>[**name (ni) 4**] sons and brother called tod...</td>\n",
              "    </tr>\n",
              "    <tr>\n",
              "      <th>3175</th>\n",
              "      <td>1432023</td>\n",
              "      <td>12943</td>\n",
              "      <td>101335.0</td>\n",
              "      <td>2123-05-31</td>\n",
              "      <td>2123-05-31 15:37:00</td>\n",
              "      <td>2123-05-31 15:49:00</td>\n",
              "      <td>Nursing/other</td>\n",
              "      <td>Report</td>\n",
              "      <td>20297.0</td>\n",
              "      <td>NaN</td>\n",
              "      <td>nsg NOTE\\nROS:\\n\\n     CV:POSITIONAL ART LINE ...</td>\n",
              "      <td>0</td>\n",
              "      <td>920</td>\n",
              "      <td>[**last name (un) **] large family,lots visito...</td>\n",
              "    </tr>\n",
              "  </tbody>\n",
              "</table>\n",
              "<p>200 rows × 14 columns</p>\n",
              "</div>\n",
              "      <button class=\"colab-df-convert\" onclick=\"convertToInteractive('df-efedf38b-a07f-45c5-9869-0c861d143779')\"\n",
              "              title=\"Convert this dataframe to an interactive table.\"\n",
              "              style=\"display:none;\">\n",
              "        \n",
              "  <svg xmlns=\"http://www.w3.org/2000/svg\" height=\"24px\"viewBox=\"0 0 24 24\"\n",
              "       width=\"24px\">\n",
              "    <path d=\"M0 0h24v24H0V0z\" fill=\"none\"/>\n",
              "    <path d=\"M18.56 5.44l.94 2.06.94-2.06 2.06-.94-2.06-.94-.94-2.06-.94 2.06-2.06.94zm-11 1L8.5 8.5l.94-2.06 2.06-.94-2.06-.94L8.5 2.5l-.94 2.06-2.06.94zm10 10l.94 2.06.94-2.06 2.06-.94-2.06-.94-.94-2.06-.94 2.06-2.06.94z\"/><path d=\"M17.41 7.96l-1.37-1.37c-.4-.4-.92-.59-1.43-.59-.52 0-1.04.2-1.43.59L10.3 9.45l-7.72 7.72c-.78.78-.78 2.05 0 2.83L4 21.41c.39.39.9.59 1.41.59.51 0 1.02-.2 1.41-.59l7.78-7.78 2.81-2.81c.8-.78.8-2.07 0-2.86zM5.41 20L4 18.59l7.72-7.72 1.47 1.35L5.41 20z\"/>\n",
              "  </svg>\n",
              "      </button>\n",
              "      \n",
              "  <style>\n",
              "    .colab-df-container {\n",
              "      display:flex;\n",
              "      flex-wrap:wrap;\n",
              "      gap: 12px;\n",
              "    }\n",
              "\n",
              "    .colab-df-convert {\n",
              "      background-color: #E8F0FE;\n",
              "      border: none;\n",
              "      border-radius: 50%;\n",
              "      cursor: pointer;\n",
              "      display: none;\n",
              "      fill: #1967D2;\n",
              "      height: 32px;\n",
              "      padding: 0 0 0 0;\n",
              "      width: 32px;\n",
              "    }\n",
              "\n",
              "    .colab-df-convert:hover {\n",
              "      background-color: #E2EBFA;\n",
              "      box-shadow: 0px 1px 2px rgba(60, 64, 67, 0.3), 0px 1px 3px 1px rgba(60, 64, 67, 0.15);\n",
              "      fill: #174EA6;\n",
              "    }\n",
              "\n",
              "    [theme=dark] .colab-df-convert {\n",
              "      background-color: #3B4455;\n",
              "      fill: #D2E3FC;\n",
              "    }\n",
              "\n",
              "    [theme=dark] .colab-df-convert:hover {\n",
              "      background-color: #434B5C;\n",
              "      box-shadow: 0px 1px 3px 1px rgba(0, 0, 0, 0.15);\n",
              "      filter: drop-shadow(0px 1px 2px rgba(0, 0, 0, 0.3));\n",
              "      fill: #FFFFFF;\n",
              "    }\n",
              "  </style>\n",
              "\n",
              "      <script>\n",
              "        const buttonEl =\n",
              "          document.querySelector('#df-efedf38b-a07f-45c5-9869-0c861d143779 button.colab-df-convert');\n",
              "        buttonEl.style.display =\n",
              "          google.colab.kernel.accessAllowed ? 'block' : 'none';\n",
              "\n",
              "        async function convertToInteractive(key) {\n",
              "          const element = document.querySelector('#df-efedf38b-a07f-45c5-9869-0c861d143779');\n",
              "          const dataTable =\n",
              "            await google.colab.kernel.invokeFunction('convertToInteractive',\n",
              "                                                     [key], {});\n",
              "          if (!dataTable) return;\n",
              "\n",
              "          const docLinkHtml = 'Like what you see? Visit the ' +\n",
              "            '<a target=\"_blank\" href=https://colab.research.google.com/notebooks/data_table.ipynb>data table notebook</a>'\n",
              "            + ' to learn more about interactive tables.';\n",
              "          element.innerHTML = '';\n",
              "          dataTable['output_type'] = 'display_data';\n",
              "          await google.colab.output.renderOutput(dataTable, element);\n",
              "          const docLink = document.createElement('div');\n",
              "          docLink.innerHTML = docLinkHtml;\n",
              "          element.appendChild(docLink);\n",
              "        }\n",
              "      </script>\n",
              "    </div>\n",
              "  </div>\n",
              "  "
            ]
          },
          "metadata": {},
          "execution_count": 73
        }
      ]
    },
    {
      "cell_type": "code",
      "source": [
        "PATH_TO_SAVE = \"/content/drive/MyDrive/NIH/Data/\"\n",
        "name_file_to_save = 'NOTES_NURSING_TRAJECTORIES_TSICU_TEXT_ONLY.csv'\n",
        "df_notes_icd8xx_tsicu_social['TEXT'].to_csv(PATH_TO_SAVE+name_file_to_save,index=False)"
      ],
      "metadata": {
        "id": "fvcOecC4Syrg"
      },
      "execution_count": null,
      "outputs": []
    },
    {
      "cell_type": "code",
      "source": [
        "PATH_TO_SAVE = \"/content/drive/MyDrive/NIH/Data/\"\n",
        "name_file_to_save = 'NOTES_NURSING_TRAJECTORIES_TSICU_GCS_HADM.csv'\n",
        "#df_notes_icd8xx_tsicu_gcs_scores.to_csv(PATH_TO_SAVE+name_file_to_save,index=False)"
      ],
      "metadata": {
        "id": "598HF4ygze2B"
      },
      "execution_count": null,
      "outputs": []
    },
    {
      "cell_type": "code",
      "source": [
        "df_note_icd8xx_tsicu = df_note_events[df_note_events['SUBJECT_ID'].isin(icd8xx_subjects_ids)]\n",
        "print(f'Number of total notes: {len(df_note_icd8xx_tsicu)}')\n",
        "df_nursing_progress_note_icd8xx_tsicu = df_note_icd8xx_tsicu[df_note_icd8xx_tsicu['DESCRIPTION']=='Nursing Progress Note']\n",
        "print(f'Number of Nursing Progress Notes: {len(df_nursing_progress_note_icd8xx_tsicu)}')\n",
        "df_discharge_note_icd8xx_tsicu = df_note_icd8xx_tsicu[(df_note_icd8xx_tsicu['CATEGORY']=='Discharge summary') ]\n",
        "print(f'Number of Discharge summary: {len(df_discharge_note_icd8xx_tsicu)}')"
      ],
      "metadata": {
        "id": "DwwYQRkRlZtq"
      },
      "execution_count": null,
      "outputs": []
    },
    {
      "cell_type": "code",
      "source": [
        "cgid_icd8xx_tsicu = df_nursing_progress_note_icd8xx_tsicu['CGID'].unique()\n",
        "#print(f'Number of caregivers: {len(cgid_maxicu_tsicu)}')"
      ],
      "metadata": {
        "id": "2bUQdNjco_Ev"
      },
      "execution_count": null,
      "outputs": []
    },
    {
      "cell_type": "code",
      "source": [
        "caregivers = \"CAREGIVERS.csv\"\n",
        "df_caregivers = pd.read_csv(notes_path+caregivers)\n",
        "df_caregivers[df_caregivers['CGID'].isin(cgid_icd8xx_tsicu)].LABEL.value_counts()"
      ],
      "metadata": {
        "id": "nylbIdrdDKTn"
      },
      "execution_count": null,
      "outputs": []
    },
    {
      "cell_type": "code",
      "source": [
        "name_file= \"ADMISSIONS.csv\"\n",
        "df_adm = pd.read_csv(notes_path+name_file)\n",
        "df_adm_icd8xx_tsicu = df_adm[df_adm['SUBJECT_ID'].isin(cgid_icd8xx_tsicu)]\n",
        "df_adm_icd8xx_tsicu"
      ],
      "metadata": {
        "id": "0uSjIRb0Kf7D"
      },
      "execution_count": null,
      "outputs": []
    },
    {
      "cell_type": "markdown",
      "source": [
        "Report"
      ],
      "metadata": {
        "id": "0p7nLpc1Scta"
      }
    },
    {
      "cell_type": "markdown",
      "source": [],
      "metadata": {
        "id": "Rdyd3vHvScfx"
      }
    },
    {
      "cell_type": "code",
      "source": [
        "print(f'Number of Subjects in TSICU: {len(subject_id_tsicu)}')\n",
        "print(f'Number of subjects with a first sequence ICD 9 code [800,900) : {len(icd8xx_subjects_ids)}')\n",
        "print('')\n",
        "print('Subjects Expired (1), Alive (0): ')\n",
        "print(df_patients_icd8xx_tsicu['EXPIRE_FLAG'].value_counts())\n",
        "print('')\n",
        "print('Gender:')\n",
        "print(df_patients_icd8xx_tsicu['GENDER'].value_counts())\n",
        "print('')\n",
        "print(f'Number of total notes: {len(df_note_icd8xx_tsicu)}')\n",
        "print(f'Number of Nursing Progress Notes: {len(df_nursing_progress_note_icd8xx_tsicu)}')\n",
        "print(f'Number of Discharge summary: {len(df_discharge_note_icd8xx_tsicu)}')\n",
        "print(f'Number of caregivers: {len(cgid_icd8xx_tsicu)}')"
      ],
      "metadata": {
        "id": "c4Y-EhXOSb7f"
      },
      "execution_count": null,
      "outputs": []
    },
    {
      "cell_type": "markdown",
      "source": [
        "# END\n"
      ],
      "metadata": {
        "id": "hvh4aVTHpaKw"
      }
    },
    {
      "cell_type": "markdown",
      "source": [
        "## **Data Preprocessing**"
      ],
      "metadata": {
        "id": "qdVDhESt91i2"
      }
    },
    {
      "cell_type": "code",
      "source": [
        "df_note_events.info()"
      ],
      "metadata": {
        "id": "F9Ag0N5BK6KT"
      },
      "execution_count": null,
      "outputs": []
    },
    {
      "cell_type": "markdown",
      "source": [
        "Grab tsicu notes, merge with ward and patients tables"
      ],
      "metadata": {
        "id": "uLpw8TKsChMf"
      }
    },
    {
      "cell_type": "code",
      "source": [
        "# get new type of notes (TSICU)\n",
        "df_notes_TSICU = pd.DataFrame()\n",
        "#df_notes_TSICU = df_notes.merge(df_note_events[['ROW_ID', 'CATEGORY']], on='ROW_ID')\n",
        "df_notes_TSICU = df_note_events.merge(df_caregivers.drop('ROW_ID', axis=1), on='CGID')\n",
        "#df_notes_TSICU = df_notes_TSICU.merge(df_ward.drop('ROW_ID', axis=1), on='SUBJECT_ID')\n",
        "df_notes_TSICU = df_notes_TSICU.merge(df_patients.drop('ROW_ID', axis=1), on='SUBJECT_ID')\n",
        "#df_notes_TSICU = df_notes_TSICU[(df_notes_TSICU['first_careunit'] == 'TSICU') & (df_notes_TSICU['last_careunit'] == 'TSICU')].drop_duplicates()\n",
        "df_notes_TSICU.info()"
      ],
      "metadata": {
        "id": "RfRbbiU85KqG"
      },
      "execution_count": null,
      "outputs": []
    },
    {
      "cell_type": "code",
      "source": [
        "df_notes_TSICU.head(5)"
      ],
      "metadata": {
        "id": "40N9rfNLvz3h"
      },
      "execution_count": null,
      "outputs": []
    },
    {
      "cell_type": "markdown",
      "source": [
        "Join with ICD"
      ],
      "metadata": {
        "id": "bcq_LhnKvl9k"
      }
    },
    {
      "cell_type": "code",
      "source": [
        "icd = \"DIAGNOSES_ICD.csv\"\n",
        "df_icd = pd.read_csv(notes_path+icd)\n",
        "df_icd.columns = df_icd.columns.str.upper()\n",
        "df_icd = df_icd.dropna(subset=['SEQ_NUM'])\n",
        "df_icd['SEQ_NUM'] = df_icd['SEQ_NUM'].astype(int)\n",
        "unique_values = df_icd['SEQ_NUM'].unique()\n",
        "print(\"unique_values: \")\n",
        "print(unique_values)\n",
        "idx = df_icd.groupby(['HADM_ID', 'SUBJECT_ID'])['SEQ_NUM'].idxmin()\n",
        "df_icd = df_icd.loc[idx]\n",
        "df_icd.info()"
      ],
      "metadata": {
        "id": "H5IFwi_7Oe7F"
      },
      "execution_count": null,
      "outputs": []
    },
    {
      "cell_type": "code",
      "source": [
        "df_notes_TSICU = df_notes_TSICU.merge(df_icd[['HADM_ID','ICD9_CODE','SEQ_NUM', 'SUBJECT_ID']], on=['HADM_ID', 'SUBJECT_ID'])\n",
        "df_notes_TSICU.info()"
      ],
      "metadata": {
        "id": "gd1FsvDMvlWL"
      },
      "execution_count": null,
      "outputs": []
    },
    {
      "cell_type": "code",
      "source": [
        "df_notes_TSICU.head(20)"
      ],
      "metadata": {
        "id": "6w5kj2hgHgAY"
      },
      "execution_count": null,
      "outputs": []
    },
    {
      "cell_type": "code",
      "source": [
        "grouping = df_notes_TSICU.groupby(['CGID','SUBJECT_ID']).size()\n",
        "df_notes_TSICU['num_of_notes'] = df_notes_TSICU.set_index(['CGID','SUBJECT_ID']).index.map(grouping)\n",
        "df_notes_TSICU_filtered = df_notes_TSICU[df_notes_TSICU['num_of_notes'] > 1]\n",
        "df_notes_TSICU_filtered.info()"
      ],
      "metadata": {
        "id": "hHCpzCETihOj"
      },
      "execution_count": null,
      "outputs": []
    },
    {
      "cell_type": "code",
      "source": [
        "df_notes_TSICU_filtered.head(10)"
      ],
      "metadata": {
        "id": "eYAfKxm-4vN1"
      },
      "execution_count": null,
      "outputs": []
    },
    {
      "cell_type": "markdown",
      "source": [
        "Filter by number of notes"
      ],
      "metadata": {
        "id": "h3Ax8uzsUjXG"
      }
    },
    {
      "cell_type": "code",
      "source": [
        "gb_notes = df_notes_TSICU_filtered.groupby(['ICD9_CODE'])\n",
        "num_notes = gb_notes['TEXT'].count()\n",
        "\n",
        "print(f'number of notes: min={num_notes.min()}, max={num_notes.max()}, mean={num_notes.mean()},  median={num_notes.median()}')\n",
        "sns.boxplot(x=num_notes)\n",
        "sns.displot(num_notes[((num_notes>2) & (num_notes<100))])"
      ],
      "metadata": {
        "id": "M1zujhFnCzbO"
      },
      "execution_count": null,
      "outputs": []
    },
    {
      "cell_type": "code",
      "source": [
        "df_notes_TSICU_filtered.info()"
      ],
      "metadata": {
        "id": "utacZLLmUfqf"
      },
      "execution_count": null,
      "outputs": []
    },
    {
      "cell_type": "code",
      "source": [
        "icd9_grouping = df_notes_TSICU_filtered.groupby(['ICD9_CODE']).size()\n",
        "df_notes_TSICU_filtered['num_of_conditions'] = df_notes_TSICU_filtered.set_index(['ICD9_CODE']).index.map(icd9_grouping)\n",
        "#df_notes_TSICU_filtered = df_notes_TSICU_filtered[(df_notes_TSICU_filtered['num_of_conditions'] >= 15) & (df_notes_TSICU_filtered['num_of_conditions'] <= 1000)]\n",
        "#df_notes_TSICU_filtered = df_notes_TSICU_filtered[(df_notes_TSICU_filtered['num_of_conditions'] >= 15) & (df_notes_TSICU_filtered['num_of_conditions'] <= 100)]\n",
        "df_notes_TSICU_filtered.info()\n",
        "print(icd9_grouping)"
      ],
      "metadata": {
        "id": "VQtS_ZiRGeEF"
      },
      "execution_count": null,
      "outputs": []
    },
    {
      "cell_type": "code",
      "source": [
        "df_notes_TSICU_dropped_cols = df_notes_TSICU_filtered.drop(['STORETIME','CHARTDATE','CHARTTIME','DOB','DOD','DOD_HOSP','DOD_SSN'], axis=1)\n",
        "df_notes_TSICU_dropped_cols.columns"
      ],
      "metadata": {
        "id": "jfSkON07QFlQ"
      },
      "execution_count": null,
      "outputs": []
    },
    {
      "cell_type": "markdown",
      "source": [
        "select emotional words then filter rows that dont have a minimum number of them"
      ],
      "metadata": {
        "id": "IJasBc1JDJ7G"
      }
    },
    {
      "cell_type": "code",
      "source": [
        "def filter_for_emotional_words(df):\n",
        "  selected_words = ['pain', 'family', 'stable', 'care', 'well', 'social', 'support', 'able', 'decreased', 'warm', 'unable', 'strong', 'intact', 'good', 'times', 'aware', 'eyes', 'tolerated', 'denies', 'tolerating', 'please', 'palpable']\n",
        "  print(\"selected_words list length: \", len(selected_words))\n",
        "  pattern = '|'.join(selected_words)\n",
        "  new_df = df[df['TEXT'].str.contains(pattern, regex=True)].copy()\n",
        "  #filtered_data = df_notes_TSICU[df_notes_TSICU['TEXT'].str.contains(pattern, regex=True)].copy()\n",
        "  new_df['num_search_words'] = new_df['TEXT'].str.count(pattern)\n",
        "  #new_df = new_df[new_df['num_search_words'] >= 0]\n",
        "  new_df.info()\n",
        "  return new_df"
      ],
      "metadata": {
        "id": "io0fnZ6LDJje"
      },
      "execution_count": null,
      "outputs": []
    },
    {
      "cell_type": "code",
      "source": [
        "#filtered_data = filter_for_emotional_words(df_notes_TSICU_dropped_cols)\n",
        "filtered_data = df_notes_TSICU_dropped_cols"
      ],
      "metadata": {
        "id": "lPqYiPgCaw05"
      },
      "execution_count": null,
      "outputs": []
    },
    {
      "cell_type": "markdown",
      "source": [
        "Random selection from sample set"
      ],
      "metadata": {
        "id": "9zgLOVKMmC1c"
      }
    },
    {
      "cell_type": "code",
      "source": [
        "#random_filtered_data = filtered_data.sample(n=50000, random_state=42)\n",
        "random_filtered_data = filtered_data"
      ],
      "metadata": {
        "id": "A2g7uF3_mCja"
      },
      "execution_count": null,
      "outputs": []
    },
    {
      "cell_type": "markdown",
      "source": [
        "Remove similar sentences"
      ],
      "metadata": {
        "id": "T4IGl2_LhAjw"
      }
    },
    {
      "cell_type": "code",
      "source": [
        "from sklearn.feature_extraction.text import TfidfVectorizer\n",
        "from sklearn.metrics.pairwise import cosine_similarity\n",
        "\n",
        "def remove_similar_notes(df):\n",
        "  sentences = df['TEXT'].tolist()\n",
        "  vectorizer = TfidfVectorizer()\n",
        "  tfidf_matrix = vectorizer.fit_transform(sentences)\n",
        "  similarity_threshold = 0.8\n",
        "\n",
        "  similar_indices = []\n",
        "  for i, sentence in enumerate(sentences):  # needs to be max 1000 entries\n",
        "    if any(cosine_similarity(tfidf_matrix[i], tfidf_matrix[j])[0][0] > similarity_threshold for j in range(i)):  # very slow ~10 minutes for 1000 entries, exponential complexity (more than 5 hours if 6000 entries)\n",
        "      similar_indices.append(i)\n",
        "  index_labels = df.index[similar_indices]\n",
        "  df.drop(index_labels, inplace=True)\n",
        "  return df"
      ],
      "metadata": {
        "id": "y_7e8eEAg-8E"
      },
      "execution_count": null,
      "outputs": []
    },
    {
      "cell_type": "markdown",
      "source": [
        "Inverse Document Frequency"
      ],
      "metadata": {
        "id": "kSrdXBqOuXa0"
      }
    },
    {
      "cell_type": "code",
      "source": [
        "vectorizer = TfidfVectorizer(stop_words='english')\n",
        "tfidf_matrix = vectorizer.fit_transform(df_notes_icd8xx_tsicu_gcs_scores['TEXT'])\n",
        "\n",
        "feature_names = vectorizer.get_feature_names_out()\n",
        "tfidf_scores = tfidf_matrix.sum(axis=0).A1\n",
        "word_score_dict = dict(zip(feature_names, tfidf_scores))\n",
        "\n",
        "sorted_words = sorted(word_score_dict.items(), key=lambda x: x[1], reverse=True)\n",
        "\n",
        "top_words = sorted_words[:50]"
      ],
      "metadata": {
        "id": "mLycA6V9u2Bk"
      },
      "execution_count": null,
      "outputs": []
    },
    {
      "cell_type": "code",
      "source": [
        "print(\"Rank\\tWord\\t\\t\\tCount\")\n",
        "for rank, (word, score) in enumerate(top_words, start=1):\n",
        "  print(f\"{rank}\\t{word.ljust(20)}\\t{score}\")"
      ],
      "metadata": {
        "id": "CFYY-4Q9yltA"
      },
      "execution_count": null,
      "outputs": []
    },
    {
      "cell_type": "code",
      "source": [
        "#random_filtered_data = remove_similar_notes(random_filtered_data)\n",
        "random_filtered_data.info()"
      ],
      "metadata": {
        "id": "5hR3SznnlFAw"
      },
      "execution_count": null,
      "outputs": []
    },
    {
      "cell_type": "markdown",
      "source": [
        "Find matching conditions for both expired flags"
      ],
      "metadata": {
        "id": "hKqh8rDTZATB"
      }
    },
    {
      "cell_type": "code",
      "source": [
        "def split_set_half_expired(df):\n",
        "  df['EXPIRE_FLAG'] = df['EXPIRE_FLAG'].astype(int)\n",
        "  group_conditions = df.groupby(['ICD9_CODE', 'EXPIRE_FLAG'])\n",
        "  def balance_conditions(g1,g2,size):\n",
        "    size = min(len(g1), len(g2), size)\n",
        "    return g1.sample(n=size, random_state=1), g2.sample(n=size, random_state=1)\n",
        "\n",
        "  rows = []\n",
        "  size = 50000\n",
        "\n",
        "  for drg_desc, group in group_conditions:\n",
        "    icd9, expire = drg_desc\n",
        "    if (icd9, 1-expire) in group_conditions.groups:\n",
        "      paired_group = group_conditions.get_group((icd9, 1-expire))\n",
        "      group_sample1, group_sample2 = balance_conditions(group, paired_group, size)\n",
        "      rows.append(group_sample1)\n",
        "      rows.append(group_sample2)\n",
        "      size -= len(group_sample1)\n",
        "    if size <= 0:\n",
        "      break\n",
        "\n",
        "  new_df = pd.concat(rows)\n",
        "  new_df = new_df.drop_duplicates()\n",
        "\n",
        "  new_df.info()\n",
        "  #print(new_df[['ICD9_CODE', 'EXPIRE_FLAG']])\n",
        "  return new_df\n",
        "\n",
        "  #valid_groups = [key for key, group in group_conditions.groups.keys() if (key[0], key[1], 1 - key[2]) in group_conditions.groups]\n",
        "  #for key in valid_groups:\n",
        "    #pass"
      ],
      "metadata": {
        "id": "CTtgtgvONovy"
      },
      "execution_count": null,
      "outputs": []
    },
    {
      "cell_type": "code",
      "source": [
        "#balanced_data = split_set_half_expired(random_filtered_data)\n",
        "balanced_data = random_filtered_data"
      ],
      "metadata": {
        "id": "JJFzempDgOiy"
      },
      "execution_count": null,
      "outputs": []
    },
    {
      "cell_type": "markdown",
      "source": [
        "Display notes"
      ],
      "metadata": {
        "id": "lnai1UuJCedn"
      }
    },
    {
      "cell_type": "code",
      "source": [
        "pd.set_option('display.max_colwidth', 250)\n",
        "pd.set_option('display.max_rows', None)\n",
        "#print(balanced_data['TEXT'].head(200))\n",
        "pd.reset_option('display.max_colwidth')\n",
        "pd.reset_option('display.max_rows')"
      ],
      "metadata": {
        "id": "dZPZ-AGx-9NA"
      },
      "execution_count": null,
      "outputs": []
    },
    {
      "cell_type": "code",
      "source": [
        "print(balanced_data.columns)\n",
        "print('\\n'+\"Number of rows: \"+str(len(balanced_data)))"
      ],
      "metadata": {
        "id": "cemrUSU8wjMD"
      },
      "execution_count": null,
      "outputs": []
    },
    {
      "cell_type": "code",
      "source": [
        "balanced_data.info()"
      ],
      "metadata": {
        "id": "msI729kSJWJY"
      },
      "execution_count": null,
      "outputs": []
    },
    {
      "cell_type": "code",
      "source": [
        "no_duplicates = balanced_data.sort_values('ROW_ID').drop_duplicates(subset=['CGID', 'SUBJECT_ID'])  \n",
        "no_duplicates = no_duplicates.drop(['TEXT'], axis=1)  # removes text notes\n",
        "no_duplicates.info()"
      ],
      "metadata": {
        "id": "Bze40GhzJai3"
      },
      "execution_count": null,
      "outputs": []
    },
    {
      "cell_type": "markdown",
      "source": [
        "Save to CSV"
      ],
      "metadata": {
        "id": "6hGujs3Fn8Mb"
      }
    },
    {
      "cell_type": "code",
      "source": [
        "# path and name of the cvs file \n",
        "PATH_TO_SAVE = \"/content/drive/MyDrive/NIH/Data/\"\n",
        "name_file_to_save = 'NOTES_NURSING_TRAJECTORIES_TSICU_COUNTS.csv'\n",
        "#no_duplicates.to_csv(PATH_TO_SAVE+name_file_to_save,index=False)"
      ],
      "metadata": {
        "id": "metEeEnan7n0"
      },
      "execution_count": null,
      "outputs": []
    },
    {
      "cell_type": "markdown",
      "source": [
        "Gather- top ICD9, # of: patients, deceased, CGs, notes"
      ],
      "metadata": {
        "id": "kGId_c993xlm"
      }
    },
    {
      "cell_type": "code",
      "source": [
        "icd9_max_val = balanced_data['num_of_conditions'].max()\n",
        "icd9_max_df = balanced_data[balanced_data['num_of_conditions'] == icd9_max_val]\n",
        "\n",
        "print(\"Max ICD9 code: \" + icd9_max_df['ICD9_CODE'].unique())\n",
        "print(\"Number of patients: \" + str(icd9_max_df['SUBJECT_ID'].nunique()))\n",
        "print(\"Number of deceased patients: \" + str((icd9_max_df.drop_duplicates(subset='SUBJECT_ID')['EXPIRE_FLAG'] == 1).sum()))\n",
        "print(\"Number of caregivers: \" + str(icd9_max_df['CGID'].nunique()))\n",
        "unique_cgid = icd9_max_df['CGID'].unique()\n",
        "unique_cgid_df = icd9_max_df[icd9_max_df['CGID'].isin(unique_cgid)].drop_duplicates(subset=['CGID', 'LABEL'])\n",
        "unique_cgid_df['LABEL'] = unique_cgid_df['LABEL'].fillna('UNKNOWN')\n",
        "unique_cgid_df['LABEL'] = unique_cgid_df['LABEL'].str.upper()\n",
        "print(\"Caregiver labels: \" + '\\n' + str(unique_cgid_df['LABEL'].value_counts()))\n",
        "print(\"Number of caregivers: \" + str(icd9_max_df['CGID'].nunique()))\n",
        "print(\"Number of notes: \" + str(len(icd9_max_df)))"
      ],
      "metadata": {
        "id": "B5a2aeHR3xHM"
      },
      "execution_count": null,
      "outputs": []
    },
    {
      "cell_type": "markdown",
      "source": [
        "deceased patients for unfiltered set"
      ],
      "metadata": {
        "id": "uC6QUHDWvrvR"
      }
    },
    {
      "cell_type": "code",
      "source": [
        "len(df_notes_TSICU['SUBJECT_ID'].unique())\n",
        "deceased_TSICU = df_notes_TSICU[df_notes_TSICU['EXPIRE_FLAG'] == 1]\n",
        "deceased_TSICU.info()"
      ],
      "metadata": {
        "id": "4quXDt_aieZv"
      },
      "execution_count": null,
      "outputs": []
    },
    {
      "cell_type": "code",
      "source": [
        "sns.set()\n",
        "\n",
        "gb_notes = deceased_TSICU.groupby(['CGID','SUBJECT_ID'])\n",
        "num_notes = gb_notes['TEXT'].count()\n",
        "print(num_notes)\n",
        "print(f'number of notes: min={num_notes.min()}, max={num_notes.max()}, mean={num_notes.mean()},  median={num_notes.median()}')\n",
        "sns.boxplot(x=num_notes)\n",
        "sns.displot(num_notes[((num_notes>2) & (num_notes<15))])"
      ],
      "metadata": {
        "id": "RtIaEm23Ysfg"
      },
      "execution_count": null,
      "outputs": []
    },
    {
      "cell_type": "markdown",
      "source": [
        "Seperate deceased and living"
      ],
      "metadata": {
        "id": "9tJkPVZggBv_"
      }
    },
    {
      "cell_type": "code",
      "source": [
        "deceased_patients = balanced_data[balanced_data['EXPIRE_FLAG'] == 1]\n",
        "deceased_patients.info()"
      ],
      "metadata": {
        "id": "4cfpXZF4fnUG"
      },
      "execution_count": null,
      "outputs": []
    },
    {
      "cell_type": "code",
      "source": [
        "living_patients = balanced_data[balanced_data['EXPIRE_FLAG'] == 0]\n",
        "living_patients.info()"
      ],
      "metadata": {
        "id": "BfFfnIingFO3"
      },
      "execution_count": null,
      "outputs": []
    },
    {
      "cell_type": "markdown",
      "source": [
        "Tokenized words"
      ],
      "metadata": {
        "id": "UU8xrEkoGzNi"
      }
    },
    {
      "cell_type": "code",
      "source": [
        "#text = df_notes_TSICU['TEXT'].str.cat(sep=' ')\n",
        "#words = nltk.word_tokenize(text)  # very slow"
      ],
      "metadata": {
        "id": "YlONNwDeGy9a"
      },
      "execution_count": null,
      "outputs": []
    },
    {
      "cell_type": "markdown",
      "source": [
        "Count words in notes"
      ],
      "metadata": {
        "id": "gyFTOEALCbxX"
      }
    },
    {
      "cell_type": "code",
      "source": [
        "#stopwords = nltk.corpus.stopwords.words('english')\n",
        "#words = [word.lower() for word in words if word.lower() not in stopwords and re.match(r'\\b\\w+\\b', word)]  # also slow but only kinda slow\n",
        "#word_counts = Counter(words)\n",
        "#most_common_words = word_counts.most_common(300)"
      ],
      "metadata": {
        "id": "jtTWXQjy-_Fw"
      },
      "execution_count": null,
      "outputs": []
    },
    {
      "cell_type": "code",
      "source": [
        "#print(\"Rank\\tWord\\t\\t\\tCount\")\n",
        "#for rank, word_count in enumerate(most_common_words, start=1):\n",
        "  #word, count = word_count\n",
        "  #print(f\"{rank}\\t{word.ljust(20)}\\t{count}\")"
      ],
      "metadata": {
        "id": "vtPdb3_iB5T0"
      },
      "execution_count": null,
      "outputs": []
    },
    {
      "cell_type": "markdown",
      "source": [
        "Emotional words"
      ],
      "metadata": {
        "id": "2vLviAGyJmdQ"
      }
    },
    {
      "cell_type": "code",
      "source": [
        "#emotional_words = []\n",
        "#for word_count in most_common_words:\n",
        "  #word = word_count[0]\n",
        "  #synsets = wn.synsets(word)\n",
        "  #if synsets:\n",
        "    #senti_synset = swn.senti_synset(synsets[0].name())\n",
        "    #if senti_synset.pos_score() > 0.45 or senti_synset.neg_score() > 0.45:\n",
        "      #emotional_words.append(word)\n",
        "\n",
        "#emotional_words"
      ],
      "metadata": {
        "id": "4ATr_HSAJlpK"
      },
      "execution_count": null,
      "outputs": []
    },
    {
      "cell_type": "code",
      "source": [
        "#from textblob import TextBlob\n",
        "#emotional_words = []\n",
        "#for word_count in most_common_words:\n",
        "  #word = word_count[0]\n",
        "  #tb = TextBlob(word)\n",
        "  #sentiment = tb.sentiment.polarity\n",
        "  #if abs(sentiment) > 0.35:\n",
        "    #emotional_words.append(word)\n",
        "\n",
        "#emotional_words"
      ],
      "metadata": {
        "id": "ZFtCDPOyRPcq"
      },
      "execution_count": null,
      "outputs": []
    }
  ]
}