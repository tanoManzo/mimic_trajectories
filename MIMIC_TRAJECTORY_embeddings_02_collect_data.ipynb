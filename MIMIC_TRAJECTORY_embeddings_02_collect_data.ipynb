{
  "nbformat": 4,
  "nbformat_minor": 0,
  "metadata": {
    "colab": {
      "provenance": [],
      "include_colab_link": true
    },
    "kernelspec": {
      "name": "python3",
      "display_name": "Python 3"
    },
    "language_info": {
      "name": "python"
    },
    "widgets": {
      "application/vnd.jupyter.widget-state+json": {
        "6a300712ffd741adb116e1b8c88953bb": {
          "model_module": "@jupyter-widgets/controls",
          "model_name": "HBoxModel",
          "model_module_version": "1.5.0",
          "state": {
            "_dom_classes": [],
            "_model_module": "@jupyter-widgets/controls",
            "_model_module_version": "1.5.0",
            "_model_name": "HBoxModel",
            "_view_count": null,
            "_view_module": "@jupyter-widgets/controls",
            "_view_module_version": "1.5.0",
            "_view_name": "HBoxView",
            "box_style": "",
            "children": [
              "IPY_MODEL_f49d1d6143fe4de5b1f8049eed73d94b",
              "IPY_MODEL_3a44ddff02194bc1aefe0db25f6b94b8",
              "IPY_MODEL_199352e04dbb46ea9e0bbd6f02f91cd1"
            ],
            "layout": "IPY_MODEL_5af18478e85848ed9404b62335f4c80d"
          }
        },
        "f49d1d6143fe4de5b1f8049eed73d94b": {
          "model_module": "@jupyter-widgets/controls",
          "model_name": "HTMLModel",
          "model_module_version": "1.5.0",
          "state": {
            "_dom_classes": [],
            "_model_module": "@jupyter-widgets/controls",
            "_model_module_version": "1.5.0",
            "_model_name": "HTMLModel",
            "_view_count": null,
            "_view_module": "@jupyter-widgets/controls",
            "_view_module_version": "1.5.0",
            "_view_name": "HTMLView",
            "description": "",
            "description_tooltip": null,
            "layout": "IPY_MODEL_ee9b3f352aef4d14bff6da61e692b0c0",
            "placeholder": "​",
            "style": "IPY_MODEL_cccac72dcb894d7e8c5a4687128049e3",
            "value": "Downloading (…)okenizer_config.json: 100%"
          }
        },
        "3a44ddff02194bc1aefe0db25f6b94b8": {
          "model_module": "@jupyter-widgets/controls",
          "model_name": "FloatProgressModel",
          "model_module_version": "1.5.0",
          "state": {
            "_dom_classes": [],
            "_model_module": "@jupyter-widgets/controls",
            "_model_module_version": "1.5.0",
            "_model_name": "FloatProgressModel",
            "_view_count": null,
            "_view_module": "@jupyter-widgets/controls",
            "_view_module_version": "1.5.0",
            "_view_name": "ProgressView",
            "bar_style": "success",
            "description": "",
            "description_tooltip": null,
            "layout": "IPY_MODEL_39b7afbcd0ba48c6b0c6bfb3789150c7",
            "max": 350,
            "min": 0,
            "orientation": "horizontal",
            "style": "IPY_MODEL_bc783e4bd0b94fe8b59fc3d9df529696",
            "value": 350
          }
        },
        "199352e04dbb46ea9e0bbd6f02f91cd1": {
          "model_module": "@jupyter-widgets/controls",
          "model_name": "HTMLModel",
          "model_module_version": "1.5.0",
          "state": {
            "_dom_classes": [],
            "_model_module": "@jupyter-widgets/controls",
            "_model_module_version": "1.5.0",
            "_model_name": "HTMLModel",
            "_view_count": null,
            "_view_module": "@jupyter-widgets/controls",
            "_view_module_version": "1.5.0",
            "_view_name": "HTMLView",
            "description": "",
            "description_tooltip": null,
            "layout": "IPY_MODEL_4d34cfc370f44b43a10a94da28601ff1",
            "placeholder": "​",
            "style": "IPY_MODEL_76cf9c03ddc449dfa3fecb400ce45545",
            "value": " 350/350 [00:00&lt;00:00, 14.9kB/s]"
          }
        },
        "5af18478e85848ed9404b62335f4c80d": {
          "model_module": "@jupyter-widgets/base",
          "model_name": "LayoutModel",
          "model_module_version": "1.2.0",
          "state": {
            "_model_module": "@jupyter-widgets/base",
            "_model_module_version": "1.2.0",
            "_model_name": "LayoutModel",
            "_view_count": null,
            "_view_module": "@jupyter-widgets/base",
            "_view_module_version": "1.2.0",
            "_view_name": "LayoutView",
            "align_content": null,
            "align_items": null,
            "align_self": null,
            "border": null,
            "bottom": null,
            "display": null,
            "flex": null,
            "flex_flow": null,
            "grid_area": null,
            "grid_auto_columns": null,
            "grid_auto_flow": null,
            "grid_auto_rows": null,
            "grid_column": null,
            "grid_gap": null,
            "grid_row": null,
            "grid_template_areas": null,
            "grid_template_columns": null,
            "grid_template_rows": null,
            "height": null,
            "justify_content": null,
            "justify_items": null,
            "left": null,
            "margin": null,
            "max_height": null,
            "max_width": null,
            "min_height": null,
            "min_width": null,
            "object_fit": null,
            "object_position": null,
            "order": null,
            "overflow": null,
            "overflow_x": null,
            "overflow_y": null,
            "padding": null,
            "right": null,
            "top": null,
            "visibility": null,
            "width": null
          }
        },
        "ee9b3f352aef4d14bff6da61e692b0c0": {
          "model_module": "@jupyter-widgets/base",
          "model_name": "LayoutModel",
          "model_module_version": "1.2.0",
          "state": {
            "_model_module": "@jupyter-widgets/base",
            "_model_module_version": "1.2.0",
            "_model_name": "LayoutModel",
            "_view_count": null,
            "_view_module": "@jupyter-widgets/base",
            "_view_module_version": "1.2.0",
            "_view_name": "LayoutView",
            "align_content": null,
            "align_items": null,
            "align_self": null,
            "border": null,
            "bottom": null,
            "display": null,
            "flex": null,
            "flex_flow": null,
            "grid_area": null,
            "grid_auto_columns": null,
            "grid_auto_flow": null,
            "grid_auto_rows": null,
            "grid_column": null,
            "grid_gap": null,
            "grid_row": null,
            "grid_template_areas": null,
            "grid_template_columns": null,
            "grid_template_rows": null,
            "height": null,
            "justify_content": null,
            "justify_items": null,
            "left": null,
            "margin": null,
            "max_height": null,
            "max_width": null,
            "min_height": null,
            "min_width": null,
            "object_fit": null,
            "object_position": null,
            "order": null,
            "overflow": null,
            "overflow_x": null,
            "overflow_y": null,
            "padding": null,
            "right": null,
            "top": null,
            "visibility": null,
            "width": null
          }
        },
        "cccac72dcb894d7e8c5a4687128049e3": {
          "model_module": "@jupyter-widgets/controls",
          "model_name": "DescriptionStyleModel",
          "model_module_version": "1.5.0",
          "state": {
            "_model_module": "@jupyter-widgets/controls",
            "_model_module_version": "1.5.0",
            "_model_name": "DescriptionStyleModel",
            "_view_count": null,
            "_view_module": "@jupyter-widgets/base",
            "_view_module_version": "1.2.0",
            "_view_name": "StyleView",
            "description_width": ""
          }
        },
        "39b7afbcd0ba48c6b0c6bfb3789150c7": {
          "model_module": "@jupyter-widgets/base",
          "model_name": "LayoutModel",
          "model_module_version": "1.2.0",
          "state": {
            "_model_module": "@jupyter-widgets/base",
            "_model_module_version": "1.2.0",
            "_model_name": "LayoutModel",
            "_view_count": null,
            "_view_module": "@jupyter-widgets/base",
            "_view_module_version": "1.2.0",
            "_view_name": "LayoutView",
            "align_content": null,
            "align_items": null,
            "align_self": null,
            "border": null,
            "bottom": null,
            "display": null,
            "flex": null,
            "flex_flow": null,
            "grid_area": null,
            "grid_auto_columns": null,
            "grid_auto_flow": null,
            "grid_auto_rows": null,
            "grid_column": null,
            "grid_gap": null,
            "grid_row": null,
            "grid_template_areas": null,
            "grid_template_columns": null,
            "grid_template_rows": null,
            "height": null,
            "justify_content": null,
            "justify_items": null,
            "left": null,
            "margin": null,
            "max_height": null,
            "max_width": null,
            "min_height": null,
            "min_width": null,
            "object_fit": null,
            "object_position": null,
            "order": null,
            "overflow": null,
            "overflow_x": null,
            "overflow_y": null,
            "padding": null,
            "right": null,
            "top": null,
            "visibility": null,
            "width": null
          }
        },
        "bc783e4bd0b94fe8b59fc3d9df529696": {
          "model_module": "@jupyter-widgets/controls",
          "model_name": "ProgressStyleModel",
          "model_module_version": "1.5.0",
          "state": {
            "_model_module": "@jupyter-widgets/controls",
            "_model_module_version": "1.5.0",
            "_model_name": "ProgressStyleModel",
            "_view_count": null,
            "_view_module": "@jupyter-widgets/base",
            "_view_module_version": "1.2.0",
            "_view_name": "StyleView",
            "bar_color": null,
            "description_width": ""
          }
        },
        "4d34cfc370f44b43a10a94da28601ff1": {
          "model_module": "@jupyter-widgets/base",
          "model_name": "LayoutModel",
          "model_module_version": "1.2.0",
          "state": {
            "_model_module": "@jupyter-widgets/base",
            "_model_module_version": "1.2.0",
            "_model_name": "LayoutModel",
            "_view_count": null,
            "_view_module": "@jupyter-widgets/base",
            "_view_module_version": "1.2.0",
            "_view_name": "LayoutView",
            "align_content": null,
            "align_items": null,
            "align_self": null,
            "border": null,
            "bottom": null,
            "display": null,
            "flex": null,
            "flex_flow": null,
            "grid_area": null,
            "grid_auto_columns": null,
            "grid_auto_flow": null,
            "grid_auto_rows": null,
            "grid_column": null,
            "grid_gap": null,
            "grid_row": null,
            "grid_template_areas": null,
            "grid_template_columns": null,
            "grid_template_rows": null,
            "height": null,
            "justify_content": null,
            "justify_items": null,
            "left": null,
            "margin": null,
            "max_height": null,
            "max_width": null,
            "min_height": null,
            "min_width": null,
            "object_fit": null,
            "object_position": null,
            "order": null,
            "overflow": null,
            "overflow_x": null,
            "overflow_y": null,
            "padding": null,
            "right": null,
            "top": null,
            "visibility": null,
            "width": null
          }
        },
        "76cf9c03ddc449dfa3fecb400ce45545": {
          "model_module": "@jupyter-widgets/controls",
          "model_name": "DescriptionStyleModel",
          "model_module_version": "1.5.0",
          "state": {
            "_model_module": "@jupyter-widgets/controls",
            "_model_module_version": "1.5.0",
            "_model_name": "DescriptionStyleModel",
            "_view_count": null,
            "_view_module": "@jupyter-widgets/base",
            "_view_module_version": "1.2.0",
            "_view_name": "StyleView",
            "description_width": ""
          }
        },
        "48c75526f9994d6c92b0e7187f51f1c8": {
          "model_module": "@jupyter-widgets/controls",
          "model_name": "HBoxModel",
          "model_module_version": "1.5.0",
          "state": {
            "_dom_classes": [],
            "_model_module": "@jupyter-widgets/controls",
            "_model_module_version": "1.5.0",
            "_model_name": "HBoxModel",
            "_view_count": null,
            "_view_module": "@jupyter-widgets/controls",
            "_view_module_version": "1.5.0",
            "_view_name": "HBoxView",
            "box_style": "",
            "children": [
              "IPY_MODEL_a49f722c5db642d191747c94fce78ca9",
              "IPY_MODEL_509c8af760f94fa38e85f4c186e3999b",
              "IPY_MODEL_b1b011a9f3df48d995de4414897f90da"
            ],
            "layout": "IPY_MODEL_3e36e2f74f1e4292a97b3dac99bc7bae"
          }
        },
        "a49f722c5db642d191747c94fce78ca9": {
          "model_module": "@jupyter-widgets/controls",
          "model_name": "HTMLModel",
          "model_module_version": "1.5.0",
          "state": {
            "_dom_classes": [],
            "_model_module": "@jupyter-widgets/controls",
            "_model_module_version": "1.5.0",
            "_model_name": "HTMLModel",
            "_view_count": null,
            "_view_module": "@jupyter-widgets/controls",
            "_view_module_version": "1.5.0",
            "_view_name": "HTMLView",
            "description": "",
            "description_tooltip": null,
            "layout": "IPY_MODEL_8a0cc506913b4266bbff8b1dff9b8d30",
            "placeholder": "​",
            "style": "IPY_MODEL_61f0d0b2008c483fb0622ee2073d9c14",
            "value": "Downloading (…)solve/main/vocab.txt: 100%"
          }
        },
        "509c8af760f94fa38e85f4c186e3999b": {
          "model_module": "@jupyter-widgets/controls",
          "model_name": "FloatProgressModel",
          "model_module_version": "1.5.0",
          "state": {
            "_dom_classes": [],
            "_model_module": "@jupyter-widgets/controls",
            "_model_module_version": "1.5.0",
            "_model_name": "FloatProgressModel",
            "_view_count": null,
            "_view_module": "@jupyter-widgets/controls",
            "_view_module_version": "1.5.0",
            "_view_name": "ProgressView",
            "bar_style": "success",
            "description": "",
            "description_tooltip": null,
            "layout": "IPY_MODEL_98eec1b198ca4b2e9e44d9761bf3e7ed",
            "max": 231508,
            "min": 0,
            "orientation": "horizontal",
            "style": "IPY_MODEL_29db9cbf855740799f6f5349b6479008",
            "value": 231508
          }
        },
        "b1b011a9f3df48d995de4414897f90da": {
          "model_module": "@jupyter-widgets/controls",
          "model_name": "HTMLModel",
          "model_module_version": "1.5.0",
          "state": {
            "_dom_classes": [],
            "_model_module": "@jupyter-widgets/controls",
            "_model_module_version": "1.5.0",
            "_model_name": "HTMLModel",
            "_view_count": null,
            "_view_module": "@jupyter-widgets/controls",
            "_view_module_version": "1.5.0",
            "_view_name": "HTMLView",
            "description": "",
            "description_tooltip": null,
            "layout": "IPY_MODEL_2d90b24f6a834b6fb5233d65f7d26a36",
            "placeholder": "​",
            "style": "IPY_MODEL_3ac2585b4e3c496a8e63443eec06fb41",
            "value": " 232k/232k [00:00&lt;00:00, 9.17MB/s]"
          }
        },
        "3e36e2f74f1e4292a97b3dac99bc7bae": {
          "model_module": "@jupyter-widgets/base",
          "model_name": "LayoutModel",
          "model_module_version": "1.2.0",
          "state": {
            "_model_module": "@jupyter-widgets/base",
            "_model_module_version": "1.2.0",
            "_model_name": "LayoutModel",
            "_view_count": null,
            "_view_module": "@jupyter-widgets/base",
            "_view_module_version": "1.2.0",
            "_view_name": "LayoutView",
            "align_content": null,
            "align_items": null,
            "align_self": null,
            "border": null,
            "bottom": null,
            "display": null,
            "flex": null,
            "flex_flow": null,
            "grid_area": null,
            "grid_auto_columns": null,
            "grid_auto_flow": null,
            "grid_auto_rows": null,
            "grid_column": null,
            "grid_gap": null,
            "grid_row": null,
            "grid_template_areas": null,
            "grid_template_columns": null,
            "grid_template_rows": null,
            "height": null,
            "justify_content": null,
            "justify_items": null,
            "left": null,
            "margin": null,
            "max_height": null,
            "max_width": null,
            "min_height": null,
            "min_width": null,
            "object_fit": null,
            "object_position": null,
            "order": null,
            "overflow": null,
            "overflow_x": null,
            "overflow_y": null,
            "padding": null,
            "right": null,
            "top": null,
            "visibility": null,
            "width": null
          }
        },
        "8a0cc506913b4266bbff8b1dff9b8d30": {
          "model_module": "@jupyter-widgets/base",
          "model_name": "LayoutModel",
          "model_module_version": "1.2.0",
          "state": {
            "_model_module": "@jupyter-widgets/base",
            "_model_module_version": "1.2.0",
            "_model_name": "LayoutModel",
            "_view_count": null,
            "_view_module": "@jupyter-widgets/base",
            "_view_module_version": "1.2.0",
            "_view_name": "LayoutView",
            "align_content": null,
            "align_items": null,
            "align_self": null,
            "border": null,
            "bottom": null,
            "display": null,
            "flex": null,
            "flex_flow": null,
            "grid_area": null,
            "grid_auto_columns": null,
            "grid_auto_flow": null,
            "grid_auto_rows": null,
            "grid_column": null,
            "grid_gap": null,
            "grid_row": null,
            "grid_template_areas": null,
            "grid_template_columns": null,
            "grid_template_rows": null,
            "height": null,
            "justify_content": null,
            "justify_items": null,
            "left": null,
            "margin": null,
            "max_height": null,
            "max_width": null,
            "min_height": null,
            "min_width": null,
            "object_fit": null,
            "object_position": null,
            "order": null,
            "overflow": null,
            "overflow_x": null,
            "overflow_y": null,
            "padding": null,
            "right": null,
            "top": null,
            "visibility": null,
            "width": null
          }
        },
        "61f0d0b2008c483fb0622ee2073d9c14": {
          "model_module": "@jupyter-widgets/controls",
          "model_name": "DescriptionStyleModel",
          "model_module_version": "1.5.0",
          "state": {
            "_model_module": "@jupyter-widgets/controls",
            "_model_module_version": "1.5.0",
            "_model_name": "DescriptionStyleModel",
            "_view_count": null,
            "_view_module": "@jupyter-widgets/base",
            "_view_module_version": "1.2.0",
            "_view_name": "StyleView",
            "description_width": ""
          }
        },
        "98eec1b198ca4b2e9e44d9761bf3e7ed": {
          "model_module": "@jupyter-widgets/base",
          "model_name": "LayoutModel",
          "model_module_version": "1.2.0",
          "state": {
            "_model_module": "@jupyter-widgets/base",
            "_model_module_version": "1.2.0",
            "_model_name": "LayoutModel",
            "_view_count": null,
            "_view_module": "@jupyter-widgets/base",
            "_view_module_version": "1.2.0",
            "_view_name": "LayoutView",
            "align_content": null,
            "align_items": null,
            "align_self": null,
            "border": null,
            "bottom": null,
            "display": null,
            "flex": null,
            "flex_flow": null,
            "grid_area": null,
            "grid_auto_columns": null,
            "grid_auto_flow": null,
            "grid_auto_rows": null,
            "grid_column": null,
            "grid_gap": null,
            "grid_row": null,
            "grid_template_areas": null,
            "grid_template_columns": null,
            "grid_template_rows": null,
            "height": null,
            "justify_content": null,
            "justify_items": null,
            "left": null,
            "margin": null,
            "max_height": null,
            "max_width": null,
            "min_height": null,
            "min_width": null,
            "object_fit": null,
            "object_position": null,
            "order": null,
            "overflow": null,
            "overflow_x": null,
            "overflow_y": null,
            "padding": null,
            "right": null,
            "top": null,
            "visibility": null,
            "width": null
          }
        },
        "29db9cbf855740799f6f5349b6479008": {
          "model_module": "@jupyter-widgets/controls",
          "model_name": "ProgressStyleModel",
          "model_module_version": "1.5.0",
          "state": {
            "_model_module": "@jupyter-widgets/controls",
            "_model_module_version": "1.5.0",
            "_model_name": "ProgressStyleModel",
            "_view_count": null,
            "_view_module": "@jupyter-widgets/base",
            "_view_module_version": "1.2.0",
            "_view_name": "StyleView",
            "bar_color": null,
            "description_width": ""
          }
        },
        "2d90b24f6a834b6fb5233d65f7d26a36": {
          "model_module": "@jupyter-widgets/base",
          "model_name": "LayoutModel",
          "model_module_version": "1.2.0",
          "state": {
            "_model_module": "@jupyter-widgets/base",
            "_model_module_version": "1.2.0",
            "_model_name": "LayoutModel",
            "_view_count": null,
            "_view_module": "@jupyter-widgets/base",
            "_view_module_version": "1.2.0",
            "_view_name": "LayoutView",
            "align_content": null,
            "align_items": null,
            "align_self": null,
            "border": null,
            "bottom": null,
            "display": null,
            "flex": null,
            "flex_flow": null,
            "grid_area": null,
            "grid_auto_columns": null,
            "grid_auto_flow": null,
            "grid_auto_rows": null,
            "grid_column": null,
            "grid_gap": null,
            "grid_row": null,
            "grid_template_areas": null,
            "grid_template_columns": null,
            "grid_template_rows": null,
            "height": null,
            "justify_content": null,
            "justify_items": null,
            "left": null,
            "margin": null,
            "max_height": null,
            "max_width": null,
            "min_height": null,
            "min_width": null,
            "object_fit": null,
            "object_position": null,
            "order": null,
            "overflow": null,
            "overflow_x": null,
            "overflow_y": null,
            "padding": null,
            "right": null,
            "top": null,
            "visibility": null,
            "width": null
          }
        },
        "3ac2585b4e3c496a8e63443eec06fb41": {
          "model_module": "@jupyter-widgets/controls",
          "model_name": "DescriptionStyleModel",
          "model_module_version": "1.5.0",
          "state": {
            "_model_module": "@jupyter-widgets/controls",
            "_model_module_version": "1.5.0",
            "_model_name": "DescriptionStyleModel",
            "_view_count": null,
            "_view_module": "@jupyter-widgets/base",
            "_view_module_version": "1.2.0",
            "_view_name": "StyleView",
            "description_width": ""
          }
        },
        "15b8aef00e184eeebe8f46dcf041fff6": {
          "model_module": "@jupyter-widgets/controls",
          "model_name": "HBoxModel",
          "model_module_version": "1.5.0",
          "state": {
            "_dom_classes": [],
            "_model_module": "@jupyter-widgets/controls",
            "_model_module_version": "1.5.0",
            "_model_name": "HBoxModel",
            "_view_count": null,
            "_view_module": "@jupyter-widgets/controls",
            "_view_module_version": "1.5.0",
            "_view_name": "HBoxView",
            "box_style": "",
            "children": [
              "IPY_MODEL_82c49328894f46969e3b85f16ed21f82",
              "IPY_MODEL_2cbdeedc8d8a496da812c44a2ab889ca",
              "IPY_MODEL_913af01c3aec4c4088f37e2473988af8"
            ],
            "layout": "IPY_MODEL_1745e7d64eba48adbe0f2e5861969774"
          }
        },
        "82c49328894f46969e3b85f16ed21f82": {
          "model_module": "@jupyter-widgets/controls",
          "model_name": "HTMLModel",
          "model_module_version": "1.5.0",
          "state": {
            "_dom_classes": [],
            "_model_module": "@jupyter-widgets/controls",
            "_model_module_version": "1.5.0",
            "_model_name": "HTMLModel",
            "_view_count": null,
            "_view_module": "@jupyter-widgets/controls",
            "_view_module_version": "1.5.0",
            "_view_name": "HTMLView",
            "description": "",
            "description_tooltip": null,
            "layout": "IPY_MODEL_f36d0b626cf642d495bf77e516e306df",
            "placeholder": "​",
            "style": "IPY_MODEL_5afcbacbb876474dbac7250055346344",
            "value": "Downloading (…)/main/tokenizer.json: 100%"
          }
        },
        "2cbdeedc8d8a496da812c44a2ab889ca": {
          "model_module": "@jupyter-widgets/controls",
          "model_name": "FloatProgressModel",
          "model_module_version": "1.5.0",
          "state": {
            "_dom_classes": [],
            "_model_module": "@jupyter-widgets/controls",
            "_model_module_version": "1.5.0",
            "_model_name": "FloatProgressModel",
            "_view_count": null,
            "_view_module": "@jupyter-widgets/controls",
            "_view_module_version": "1.5.0",
            "_view_name": "ProgressView",
            "bar_style": "success",
            "description": "",
            "description_tooltip": null,
            "layout": "IPY_MODEL_0a9b0b98a9d24a76a02f1ed36211ad6d",
            "max": 466247,
            "min": 0,
            "orientation": "horizontal",
            "style": "IPY_MODEL_457b65b74fc94ab695f21be4cb7088a4",
            "value": 466247
          }
        },
        "913af01c3aec4c4088f37e2473988af8": {
          "model_module": "@jupyter-widgets/controls",
          "model_name": "HTMLModel",
          "model_module_version": "1.5.0",
          "state": {
            "_dom_classes": [],
            "_model_module": "@jupyter-widgets/controls",
            "_model_module_version": "1.5.0",
            "_model_name": "HTMLModel",
            "_view_count": null,
            "_view_module": "@jupyter-widgets/controls",
            "_view_module_version": "1.5.0",
            "_view_name": "HTMLView",
            "description": "",
            "description_tooltip": null,
            "layout": "IPY_MODEL_28e93810faff434fb2ebd47a6f5b1fe8",
            "placeholder": "​",
            "style": "IPY_MODEL_272a38c46d87452e922f20e77413c35a",
            "value": " 466k/466k [00:00&lt;00:00, 23.4MB/s]"
          }
        },
        "1745e7d64eba48adbe0f2e5861969774": {
          "model_module": "@jupyter-widgets/base",
          "model_name": "LayoutModel",
          "model_module_version": "1.2.0",
          "state": {
            "_model_module": "@jupyter-widgets/base",
            "_model_module_version": "1.2.0",
            "_model_name": "LayoutModel",
            "_view_count": null,
            "_view_module": "@jupyter-widgets/base",
            "_view_module_version": "1.2.0",
            "_view_name": "LayoutView",
            "align_content": null,
            "align_items": null,
            "align_self": null,
            "border": null,
            "bottom": null,
            "display": null,
            "flex": null,
            "flex_flow": null,
            "grid_area": null,
            "grid_auto_columns": null,
            "grid_auto_flow": null,
            "grid_auto_rows": null,
            "grid_column": null,
            "grid_gap": null,
            "grid_row": null,
            "grid_template_areas": null,
            "grid_template_columns": null,
            "grid_template_rows": null,
            "height": null,
            "justify_content": null,
            "justify_items": null,
            "left": null,
            "margin": null,
            "max_height": null,
            "max_width": null,
            "min_height": null,
            "min_width": null,
            "object_fit": null,
            "object_position": null,
            "order": null,
            "overflow": null,
            "overflow_x": null,
            "overflow_y": null,
            "padding": null,
            "right": null,
            "top": null,
            "visibility": null,
            "width": null
          }
        },
        "f36d0b626cf642d495bf77e516e306df": {
          "model_module": "@jupyter-widgets/base",
          "model_name": "LayoutModel",
          "model_module_version": "1.2.0",
          "state": {
            "_model_module": "@jupyter-widgets/base",
            "_model_module_version": "1.2.0",
            "_model_name": "LayoutModel",
            "_view_count": null,
            "_view_module": "@jupyter-widgets/base",
            "_view_module_version": "1.2.0",
            "_view_name": "LayoutView",
            "align_content": null,
            "align_items": null,
            "align_self": null,
            "border": null,
            "bottom": null,
            "display": null,
            "flex": null,
            "flex_flow": null,
            "grid_area": null,
            "grid_auto_columns": null,
            "grid_auto_flow": null,
            "grid_auto_rows": null,
            "grid_column": null,
            "grid_gap": null,
            "grid_row": null,
            "grid_template_areas": null,
            "grid_template_columns": null,
            "grid_template_rows": null,
            "height": null,
            "justify_content": null,
            "justify_items": null,
            "left": null,
            "margin": null,
            "max_height": null,
            "max_width": null,
            "min_height": null,
            "min_width": null,
            "object_fit": null,
            "object_position": null,
            "order": null,
            "overflow": null,
            "overflow_x": null,
            "overflow_y": null,
            "padding": null,
            "right": null,
            "top": null,
            "visibility": null,
            "width": null
          }
        },
        "5afcbacbb876474dbac7250055346344": {
          "model_module": "@jupyter-widgets/controls",
          "model_name": "DescriptionStyleModel",
          "model_module_version": "1.5.0",
          "state": {
            "_model_module": "@jupyter-widgets/controls",
            "_model_module_version": "1.5.0",
            "_model_name": "DescriptionStyleModel",
            "_view_count": null,
            "_view_module": "@jupyter-widgets/base",
            "_view_module_version": "1.2.0",
            "_view_name": "StyleView",
            "description_width": ""
          }
        },
        "0a9b0b98a9d24a76a02f1ed36211ad6d": {
          "model_module": "@jupyter-widgets/base",
          "model_name": "LayoutModel",
          "model_module_version": "1.2.0",
          "state": {
            "_model_module": "@jupyter-widgets/base",
            "_model_module_version": "1.2.0",
            "_model_name": "LayoutModel",
            "_view_count": null,
            "_view_module": "@jupyter-widgets/base",
            "_view_module_version": "1.2.0",
            "_view_name": "LayoutView",
            "align_content": null,
            "align_items": null,
            "align_self": null,
            "border": null,
            "bottom": null,
            "display": null,
            "flex": null,
            "flex_flow": null,
            "grid_area": null,
            "grid_auto_columns": null,
            "grid_auto_flow": null,
            "grid_auto_rows": null,
            "grid_column": null,
            "grid_gap": null,
            "grid_row": null,
            "grid_template_areas": null,
            "grid_template_columns": null,
            "grid_template_rows": null,
            "height": null,
            "justify_content": null,
            "justify_items": null,
            "left": null,
            "margin": null,
            "max_height": null,
            "max_width": null,
            "min_height": null,
            "min_width": null,
            "object_fit": null,
            "object_position": null,
            "order": null,
            "overflow": null,
            "overflow_x": null,
            "overflow_y": null,
            "padding": null,
            "right": null,
            "top": null,
            "visibility": null,
            "width": null
          }
        },
        "457b65b74fc94ab695f21be4cb7088a4": {
          "model_module": "@jupyter-widgets/controls",
          "model_name": "ProgressStyleModel",
          "model_module_version": "1.5.0",
          "state": {
            "_model_module": "@jupyter-widgets/controls",
            "_model_module_version": "1.5.0",
            "_model_name": "ProgressStyleModel",
            "_view_count": null,
            "_view_module": "@jupyter-widgets/base",
            "_view_module_version": "1.2.0",
            "_view_name": "StyleView",
            "bar_color": null,
            "description_width": ""
          }
        },
        "28e93810faff434fb2ebd47a6f5b1fe8": {
          "model_module": "@jupyter-widgets/base",
          "model_name": "LayoutModel",
          "model_module_version": "1.2.0",
          "state": {
            "_model_module": "@jupyter-widgets/base",
            "_model_module_version": "1.2.0",
            "_model_name": "LayoutModel",
            "_view_count": null,
            "_view_module": "@jupyter-widgets/base",
            "_view_module_version": "1.2.0",
            "_view_name": "LayoutView",
            "align_content": null,
            "align_items": null,
            "align_self": null,
            "border": null,
            "bottom": null,
            "display": null,
            "flex": null,
            "flex_flow": null,
            "grid_area": null,
            "grid_auto_columns": null,
            "grid_auto_flow": null,
            "grid_auto_rows": null,
            "grid_column": null,
            "grid_gap": null,
            "grid_row": null,
            "grid_template_areas": null,
            "grid_template_columns": null,
            "grid_template_rows": null,
            "height": null,
            "justify_content": null,
            "justify_items": null,
            "left": null,
            "margin": null,
            "max_height": null,
            "max_width": null,
            "min_height": null,
            "min_width": null,
            "object_fit": null,
            "object_position": null,
            "order": null,
            "overflow": null,
            "overflow_x": null,
            "overflow_y": null,
            "padding": null,
            "right": null,
            "top": null,
            "visibility": null,
            "width": null
          }
        },
        "272a38c46d87452e922f20e77413c35a": {
          "model_module": "@jupyter-widgets/controls",
          "model_name": "DescriptionStyleModel",
          "model_module_version": "1.5.0",
          "state": {
            "_model_module": "@jupyter-widgets/controls",
            "_model_module_version": "1.5.0",
            "_model_name": "DescriptionStyleModel",
            "_view_count": null,
            "_view_module": "@jupyter-widgets/base",
            "_view_module_version": "1.2.0",
            "_view_name": "StyleView",
            "description_width": ""
          }
        },
        "608e17e61c484692bba8272b4cfd51e5": {
          "model_module": "@jupyter-widgets/controls",
          "model_name": "HBoxModel",
          "model_module_version": "1.5.0",
          "state": {
            "_dom_classes": [],
            "_model_module": "@jupyter-widgets/controls",
            "_model_module_version": "1.5.0",
            "_model_name": "HBoxModel",
            "_view_count": null,
            "_view_module": "@jupyter-widgets/controls",
            "_view_module_version": "1.5.0",
            "_view_name": "HBoxView",
            "box_style": "",
            "children": [
              "IPY_MODEL_4529bf0d43564dd1adddc65021976aac",
              "IPY_MODEL_a00a28fa913944648346d16d4c33c739",
              "IPY_MODEL_d40b885227064a53bdc9935f45f2a998"
            ],
            "layout": "IPY_MODEL_8b52d7be6afc4309b2b07b3a800f9fd5"
          }
        },
        "4529bf0d43564dd1adddc65021976aac": {
          "model_module": "@jupyter-widgets/controls",
          "model_name": "HTMLModel",
          "model_module_version": "1.5.0",
          "state": {
            "_dom_classes": [],
            "_model_module": "@jupyter-widgets/controls",
            "_model_module_version": "1.5.0",
            "_model_name": "HTMLModel",
            "_view_count": null,
            "_view_module": "@jupyter-widgets/controls",
            "_view_module_version": "1.5.0",
            "_view_name": "HTMLView",
            "description": "",
            "description_tooltip": null,
            "layout": "IPY_MODEL_f82af0afcc7f4027aea9e1d751a0c2a4",
            "placeholder": "​",
            "style": "IPY_MODEL_6ede5da423e043b28ed407b9124e87f1",
            "value": "Downloading (…)cial_tokens_map.json: 100%"
          }
        },
        "a00a28fa913944648346d16d4c33c739": {
          "model_module": "@jupyter-widgets/controls",
          "model_name": "FloatProgressModel",
          "model_module_version": "1.5.0",
          "state": {
            "_dom_classes": [],
            "_model_module": "@jupyter-widgets/controls",
            "_model_module_version": "1.5.0",
            "_model_name": "FloatProgressModel",
            "_view_count": null,
            "_view_module": "@jupyter-widgets/controls",
            "_view_module_version": "1.5.0",
            "_view_name": "ProgressView",
            "bar_style": "success",
            "description": "",
            "description_tooltip": null,
            "layout": "IPY_MODEL_f66a543589cc40e0a48ce1288e8a2fe9",
            "max": 112,
            "min": 0,
            "orientation": "horizontal",
            "style": "IPY_MODEL_1ea477315f7b4f7d8eb16b8e8b53135b",
            "value": 112
          }
        },
        "d40b885227064a53bdc9935f45f2a998": {
          "model_module": "@jupyter-widgets/controls",
          "model_name": "HTMLModel",
          "model_module_version": "1.5.0",
          "state": {
            "_dom_classes": [],
            "_model_module": "@jupyter-widgets/controls",
            "_model_module_version": "1.5.0",
            "_model_name": "HTMLModel",
            "_view_count": null,
            "_view_module": "@jupyter-widgets/controls",
            "_view_module_version": "1.5.0",
            "_view_name": "HTMLView",
            "description": "",
            "description_tooltip": null,
            "layout": "IPY_MODEL_d60ffc18ecce48dbb45bdf8315d43033",
            "placeholder": "​",
            "style": "IPY_MODEL_7db4097f280d4108a69fe646618dfa89",
            "value": " 112/112 [00:00&lt;00:00, 5.02kB/s]"
          }
        },
        "8b52d7be6afc4309b2b07b3a800f9fd5": {
          "model_module": "@jupyter-widgets/base",
          "model_name": "LayoutModel",
          "model_module_version": "1.2.0",
          "state": {
            "_model_module": "@jupyter-widgets/base",
            "_model_module_version": "1.2.0",
            "_model_name": "LayoutModel",
            "_view_count": null,
            "_view_module": "@jupyter-widgets/base",
            "_view_module_version": "1.2.0",
            "_view_name": "LayoutView",
            "align_content": null,
            "align_items": null,
            "align_self": null,
            "border": null,
            "bottom": null,
            "display": null,
            "flex": null,
            "flex_flow": null,
            "grid_area": null,
            "grid_auto_columns": null,
            "grid_auto_flow": null,
            "grid_auto_rows": null,
            "grid_column": null,
            "grid_gap": null,
            "grid_row": null,
            "grid_template_areas": null,
            "grid_template_columns": null,
            "grid_template_rows": null,
            "height": null,
            "justify_content": null,
            "justify_items": null,
            "left": null,
            "margin": null,
            "max_height": null,
            "max_width": null,
            "min_height": null,
            "min_width": null,
            "object_fit": null,
            "object_position": null,
            "order": null,
            "overflow": null,
            "overflow_x": null,
            "overflow_y": null,
            "padding": null,
            "right": null,
            "top": null,
            "visibility": null,
            "width": null
          }
        },
        "f82af0afcc7f4027aea9e1d751a0c2a4": {
          "model_module": "@jupyter-widgets/base",
          "model_name": "LayoutModel",
          "model_module_version": "1.2.0",
          "state": {
            "_model_module": "@jupyter-widgets/base",
            "_model_module_version": "1.2.0",
            "_model_name": "LayoutModel",
            "_view_count": null,
            "_view_module": "@jupyter-widgets/base",
            "_view_module_version": "1.2.0",
            "_view_name": "LayoutView",
            "align_content": null,
            "align_items": null,
            "align_self": null,
            "border": null,
            "bottom": null,
            "display": null,
            "flex": null,
            "flex_flow": null,
            "grid_area": null,
            "grid_auto_columns": null,
            "grid_auto_flow": null,
            "grid_auto_rows": null,
            "grid_column": null,
            "grid_gap": null,
            "grid_row": null,
            "grid_template_areas": null,
            "grid_template_columns": null,
            "grid_template_rows": null,
            "height": null,
            "justify_content": null,
            "justify_items": null,
            "left": null,
            "margin": null,
            "max_height": null,
            "max_width": null,
            "min_height": null,
            "min_width": null,
            "object_fit": null,
            "object_position": null,
            "order": null,
            "overflow": null,
            "overflow_x": null,
            "overflow_y": null,
            "padding": null,
            "right": null,
            "top": null,
            "visibility": null,
            "width": null
          }
        },
        "6ede5da423e043b28ed407b9124e87f1": {
          "model_module": "@jupyter-widgets/controls",
          "model_name": "DescriptionStyleModel",
          "model_module_version": "1.5.0",
          "state": {
            "_model_module": "@jupyter-widgets/controls",
            "_model_module_version": "1.5.0",
            "_model_name": "DescriptionStyleModel",
            "_view_count": null,
            "_view_module": "@jupyter-widgets/base",
            "_view_module_version": "1.2.0",
            "_view_name": "StyleView",
            "description_width": ""
          }
        },
        "f66a543589cc40e0a48ce1288e8a2fe9": {
          "model_module": "@jupyter-widgets/base",
          "model_name": "LayoutModel",
          "model_module_version": "1.2.0",
          "state": {
            "_model_module": "@jupyter-widgets/base",
            "_model_module_version": "1.2.0",
            "_model_name": "LayoutModel",
            "_view_count": null,
            "_view_module": "@jupyter-widgets/base",
            "_view_module_version": "1.2.0",
            "_view_name": "LayoutView",
            "align_content": null,
            "align_items": null,
            "align_self": null,
            "border": null,
            "bottom": null,
            "display": null,
            "flex": null,
            "flex_flow": null,
            "grid_area": null,
            "grid_auto_columns": null,
            "grid_auto_flow": null,
            "grid_auto_rows": null,
            "grid_column": null,
            "grid_gap": null,
            "grid_row": null,
            "grid_template_areas": null,
            "grid_template_columns": null,
            "grid_template_rows": null,
            "height": null,
            "justify_content": null,
            "justify_items": null,
            "left": null,
            "margin": null,
            "max_height": null,
            "max_width": null,
            "min_height": null,
            "min_width": null,
            "object_fit": null,
            "object_position": null,
            "order": null,
            "overflow": null,
            "overflow_x": null,
            "overflow_y": null,
            "padding": null,
            "right": null,
            "top": null,
            "visibility": null,
            "width": null
          }
        },
        "1ea477315f7b4f7d8eb16b8e8b53135b": {
          "model_module": "@jupyter-widgets/controls",
          "model_name": "ProgressStyleModel",
          "model_module_version": "1.5.0",
          "state": {
            "_model_module": "@jupyter-widgets/controls",
            "_model_module_version": "1.5.0",
            "_model_name": "ProgressStyleModel",
            "_view_count": null,
            "_view_module": "@jupyter-widgets/base",
            "_view_module_version": "1.2.0",
            "_view_name": "StyleView",
            "bar_color": null,
            "description_width": ""
          }
        },
        "d60ffc18ecce48dbb45bdf8315d43033": {
          "model_module": "@jupyter-widgets/base",
          "model_name": "LayoutModel",
          "model_module_version": "1.2.0",
          "state": {
            "_model_module": "@jupyter-widgets/base",
            "_model_module_version": "1.2.0",
            "_model_name": "LayoutModel",
            "_view_count": null,
            "_view_module": "@jupyter-widgets/base",
            "_view_module_version": "1.2.0",
            "_view_name": "LayoutView",
            "align_content": null,
            "align_items": null,
            "align_self": null,
            "border": null,
            "bottom": null,
            "display": null,
            "flex": null,
            "flex_flow": null,
            "grid_area": null,
            "grid_auto_columns": null,
            "grid_auto_flow": null,
            "grid_auto_rows": null,
            "grid_column": null,
            "grid_gap": null,
            "grid_row": null,
            "grid_template_areas": null,
            "grid_template_columns": null,
            "grid_template_rows": null,
            "height": null,
            "justify_content": null,
            "justify_items": null,
            "left": null,
            "margin": null,
            "max_height": null,
            "max_width": null,
            "min_height": null,
            "min_width": null,
            "object_fit": null,
            "object_position": null,
            "order": null,
            "overflow": null,
            "overflow_x": null,
            "overflow_y": null,
            "padding": null,
            "right": null,
            "top": null,
            "visibility": null,
            "width": null
          }
        },
        "7db4097f280d4108a69fe646618dfa89": {
          "model_module": "@jupyter-widgets/controls",
          "model_name": "DescriptionStyleModel",
          "model_module_version": "1.5.0",
          "state": {
            "_model_module": "@jupyter-widgets/controls",
            "_model_module_version": "1.5.0",
            "_model_name": "DescriptionStyleModel",
            "_view_count": null,
            "_view_module": "@jupyter-widgets/base",
            "_view_module_version": "1.2.0",
            "_view_name": "StyleView",
            "description_width": ""
          }
        },
        "f13f139900f6472eafa651eb0907d982": {
          "model_module": "@jupyter-widgets/controls",
          "model_name": "HBoxModel",
          "model_module_version": "1.5.0",
          "state": {
            "_dom_classes": [],
            "_model_module": "@jupyter-widgets/controls",
            "_model_module_version": "1.5.0",
            "_model_name": "HBoxModel",
            "_view_count": null,
            "_view_module": "@jupyter-widgets/controls",
            "_view_module_version": "1.5.0",
            "_view_name": "HBoxView",
            "box_style": "",
            "children": [
              "IPY_MODEL_14fe8d68a93443cb8cf57d2cbcc86bd2",
              "IPY_MODEL_5edd7f27a5f34017b5d5496fd7ca9630",
              "IPY_MODEL_4591aa5ebced4c7eac08000682b9a9cd"
            ],
            "layout": "IPY_MODEL_645c9315cfbb4ca1924ef7846580e5ef"
          }
        },
        "14fe8d68a93443cb8cf57d2cbcc86bd2": {
          "model_module": "@jupyter-widgets/controls",
          "model_name": "HTMLModel",
          "model_module_version": "1.5.0",
          "state": {
            "_dom_classes": [],
            "_model_module": "@jupyter-widgets/controls",
            "_model_module_version": "1.5.0",
            "_model_name": "HTMLModel",
            "_view_count": null,
            "_view_module": "@jupyter-widgets/controls",
            "_view_module_version": "1.5.0",
            "_view_name": "HTMLView",
            "description": "",
            "description_tooltip": null,
            "layout": "IPY_MODEL_99a36f8125ea4581b49b06e54073cf29",
            "placeholder": "​",
            "style": "IPY_MODEL_8722cd63bf0c48feab7229560505be6c",
            "value": "Downloading (…)lve/main/config.json: 100%"
          }
        },
        "5edd7f27a5f34017b5d5496fd7ca9630": {
          "model_module": "@jupyter-widgets/controls",
          "model_name": "FloatProgressModel",
          "model_module_version": "1.5.0",
          "state": {
            "_dom_classes": [],
            "_model_module": "@jupyter-widgets/controls",
            "_model_module_version": "1.5.0",
            "_model_name": "FloatProgressModel",
            "_view_count": null,
            "_view_module": "@jupyter-widgets/controls",
            "_view_module_version": "1.5.0",
            "_view_name": "ProgressView",
            "bar_style": "success",
            "description": "",
            "description_tooltip": null,
            "layout": "IPY_MODEL_792a0eaa21274802bcea3643b7f25359",
            "max": 612,
            "min": 0,
            "orientation": "horizontal",
            "style": "IPY_MODEL_e664c9132d3e48adb7a9092eb98a8219",
            "value": 612
          }
        },
        "4591aa5ebced4c7eac08000682b9a9cd": {
          "model_module": "@jupyter-widgets/controls",
          "model_name": "HTMLModel",
          "model_module_version": "1.5.0",
          "state": {
            "_dom_classes": [],
            "_model_module": "@jupyter-widgets/controls",
            "_model_module_version": "1.5.0",
            "_model_name": "HTMLModel",
            "_view_count": null,
            "_view_module": "@jupyter-widgets/controls",
            "_view_module_version": "1.5.0",
            "_view_name": "HTMLView",
            "description": "",
            "description_tooltip": null,
            "layout": "IPY_MODEL_a50e82567c284540b897bf7bca053aa8",
            "placeholder": "​",
            "style": "IPY_MODEL_febb4a2ef2b54daaaaa8a7cd1ed819ca",
            "value": " 612/612 [00:00&lt;00:00, 30.9kB/s]"
          }
        },
        "645c9315cfbb4ca1924ef7846580e5ef": {
          "model_module": "@jupyter-widgets/base",
          "model_name": "LayoutModel",
          "model_module_version": "1.2.0",
          "state": {
            "_model_module": "@jupyter-widgets/base",
            "_model_module_version": "1.2.0",
            "_model_name": "LayoutModel",
            "_view_count": null,
            "_view_module": "@jupyter-widgets/base",
            "_view_module_version": "1.2.0",
            "_view_name": "LayoutView",
            "align_content": null,
            "align_items": null,
            "align_self": null,
            "border": null,
            "bottom": null,
            "display": null,
            "flex": null,
            "flex_flow": null,
            "grid_area": null,
            "grid_auto_columns": null,
            "grid_auto_flow": null,
            "grid_auto_rows": null,
            "grid_column": null,
            "grid_gap": null,
            "grid_row": null,
            "grid_template_areas": null,
            "grid_template_columns": null,
            "grid_template_rows": null,
            "height": null,
            "justify_content": null,
            "justify_items": null,
            "left": null,
            "margin": null,
            "max_height": null,
            "max_width": null,
            "min_height": null,
            "min_width": null,
            "object_fit": null,
            "object_position": null,
            "order": null,
            "overflow": null,
            "overflow_x": null,
            "overflow_y": null,
            "padding": null,
            "right": null,
            "top": null,
            "visibility": null,
            "width": null
          }
        },
        "99a36f8125ea4581b49b06e54073cf29": {
          "model_module": "@jupyter-widgets/base",
          "model_name": "LayoutModel",
          "model_module_version": "1.2.0",
          "state": {
            "_model_module": "@jupyter-widgets/base",
            "_model_module_version": "1.2.0",
            "_model_name": "LayoutModel",
            "_view_count": null,
            "_view_module": "@jupyter-widgets/base",
            "_view_module_version": "1.2.0",
            "_view_name": "LayoutView",
            "align_content": null,
            "align_items": null,
            "align_self": null,
            "border": null,
            "bottom": null,
            "display": null,
            "flex": null,
            "flex_flow": null,
            "grid_area": null,
            "grid_auto_columns": null,
            "grid_auto_flow": null,
            "grid_auto_rows": null,
            "grid_column": null,
            "grid_gap": null,
            "grid_row": null,
            "grid_template_areas": null,
            "grid_template_columns": null,
            "grid_template_rows": null,
            "height": null,
            "justify_content": null,
            "justify_items": null,
            "left": null,
            "margin": null,
            "max_height": null,
            "max_width": null,
            "min_height": null,
            "min_width": null,
            "object_fit": null,
            "object_position": null,
            "order": null,
            "overflow": null,
            "overflow_x": null,
            "overflow_y": null,
            "padding": null,
            "right": null,
            "top": null,
            "visibility": null,
            "width": null
          }
        },
        "8722cd63bf0c48feab7229560505be6c": {
          "model_module": "@jupyter-widgets/controls",
          "model_name": "DescriptionStyleModel",
          "model_module_version": "1.5.0",
          "state": {
            "_model_module": "@jupyter-widgets/controls",
            "_model_module_version": "1.5.0",
            "_model_name": "DescriptionStyleModel",
            "_view_count": null,
            "_view_module": "@jupyter-widgets/base",
            "_view_module_version": "1.2.0",
            "_view_name": "StyleView",
            "description_width": ""
          }
        },
        "792a0eaa21274802bcea3643b7f25359": {
          "model_module": "@jupyter-widgets/base",
          "model_name": "LayoutModel",
          "model_module_version": "1.2.0",
          "state": {
            "_model_module": "@jupyter-widgets/base",
            "_model_module_version": "1.2.0",
            "_model_name": "LayoutModel",
            "_view_count": null,
            "_view_module": "@jupyter-widgets/base",
            "_view_module_version": "1.2.0",
            "_view_name": "LayoutView",
            "align_content": null,
            "align_items": null,
            "align_self": null,
            "border": null,
            "bottom": null,
            "display": null,
            "flex": null,
            "flex_flow": null,
            "grid_area": null,
            "grid_auto_columns": null,
            "grid_auto_flow": null,
            "grid_auto_rows": null,
            "grid_column": null,
            "grid_gap": null,
            "grid_row": null,
            "grid_template_areas": null,
            "grid_template_columns": null,
            "grid_template_rows": null,
            "height": null,
            "justify_content": null,
            "justify_items": null,
            "left": null,
            "margin": null,
            "max_height": null,
            "max_width": null,
            "min_height": null,
            "min_width": null,
            "object_fit": null,
            "object_position": null,
            "order": null,
            "overflow": null,
            "overflow_x": null,
            "overflow_y": null,
            "padding": null,
            "right": null,
            "top": null,
            "visibility": null,
            "width": null
          }
        },
        "e664c9132d3e48adb7a9092eb98a8219": {
          "model_module": "@jupyter-widgets/controls",
          "model_name": "ProgressStyleModel",
          "model_module_version": "1.5.0",
          "state": {
            "_model_module": "@jupyter-widgets/controls",
            "_model_module_version": "1.5.0",
            "_model_name": "ProgressStyleModel",
            "_view_count": null,
            "_view_module": "@jupyter-widgets/base",
            "_view_module_version": "1.2.0",
            "_view_name": "StyleView",
            "bar_color": null,
            "description_width": ""
          }
        },
        "a50e82567c284540b897bf7bca053aa8": {
          "model_module": "@jupyter-widgets/base",
          "model_name": "LayoutModel",
          "model_module_version": "1.2.0",
          "state": {
            "_model_module": "@jupyter-widgets/base",
            "_model_module_version": "1.2.0",
            "_model_name": "LayoutModel",
            "_view_count": null,
            "_view_module": "@jupyter-widgets/base",
            "_view_module_version": "1.2.0",
            "_view_name": "LayoutView",
            "align_content": null,
            "align_items": null,
            "align_self": null,
            "border": null,
            "bottom": null,
            "display": null,
            "flex": null,
            "flex_flow": null,
            "grid_area": null,
            "grid_auto_columns": null,
            "grid_auto_flow": null,
            "grid_auto_rows": null,
            "grid_column": null,
            "grid_gap": null,
            "grid_row": null,
            "grid_template_areas": null,
            "grid_template_columns": null,
            "grid_template_rows": null,
            "height": null,
            "justify_content": null,
            "justify_items": null,
            "left": null,
            "margin": null,
            "max_height": null,
            "max_width": null,
            "min_height": null,
            "min_width": null,
            "object_fit": null,
            "object_position": null,
            "order": null,
            "overflow": null,
            "overflow_x": null,
            "overflow_y": null,
            "padding": null,
            "right": null,
            "top": null,
            "visibility": null,
            "width": null
          }
        },
        "febb4a2ef2b54daaaaa8a7cd1ed819ca": {
          "model_module": "@jupyter-widgets/controls",
          "model_name": "DescriptionStyleModel",
          "model_module_version": "1.5.0",
          "state": {
            "_model_module": "@jupyter-widgets/controls",
            "_model_module_version": "1.5.0",
            "_model_name": "DescriptionStyleModel",
            "_view_count": null,
            "_view_module": "@jupyter-widgets/base",
            "_view_module_version": "1.2.0",
            "_view_name": "StyleView",
            "description_width": ""
          }
        },
        "432f3a58223b4fdc8a9e4046ace09a14": {
          "model_module": "@jupyter-widgets/controls",
          "model_name": "HBoxModel",
          "model_module_version": "1.5.0",
          "state": {
            "_dom_classes": [],
            "_model_module": "@jupyter-widgets/controls",
            "_model_module_version": "1.5.0",
            "_model_name": "HBoxModel",
            "_view_count": null,
            "_view_module": "@jupyter-widgets/controls",
            "_view_module_version": "1.5.0",
            "_view_name": "HBoxView",
            "box_style": "",
            "children": [
              "IPY_MODEL_0241212ccb474f59af5db8654d4e708f",
              "IPY_MODEL_d3eda1b4626a459a9cb012140d6532f1",
              "IPY_MODEL_53e261bd1f674b6a8d67922328d6f73e"
            ],
            "layout": "IPY_MODEL_7d90331eadba49cbaccf2931b3c30637"
          }
        },
        "0241212ccb474f59af5db8654d4e708f": {
          "model_module": "@jupyter-widgets/controls",
          "model_name": "HTMLModel",
          "model_module_version": "1.5.0",
          "state": {
            "_dom_classes": [],
            "_model_module": "@jupyter-widgets/controls",
            "_model_module_version": "1.5.0",
            "_model_name": "HTMLModel",
            "_view_count": null,
            "_view_module": "@jupyter-widgets/controls",
            "_view_module_version": "1.5.0",
            "_view_name": "HTMLView",
            "description": "",
            "description_tooltip": null,
            "layout": "IPY_MODEL_937d13154137417e8a896d68f45bca58",
            "placeholder": "​",
            "style": "IPY_MODEL_d5d141b11aa44162b3bb2d28085701bf",
            "value": "Downloading pytorch_model.bin: 100%"
          }
        },
        "d3eda1b4626a459a9cb012140d6532f1": {
          "model_module": "@jupyter-widgets/controls",
          "model_name": "FloatProgressModel",
          "model_module_version": "1.5.0",
          "state": {
            "_dom_classes": [],
            "_model_module": "@jupyter-widgets/controls",
            "_model_module_version": "1.5.0",
            "_model_name": "FloatProgressModel",
            "_view_count": null,
            "_view_module": "@jupyter-widgets/controls",
            "_view_module_version": "1.5.0",
            "_view_name": "ProgressView",
            "bar_style": "success",
            "description": "",
            "description_tooltip": null,
            "layout": "IPY_MODEL_e7f8d93efb9d4960a421c1da8905de8f",
            "max": 90888945,
            "min": 0,
            "orientation": "horizontal",
            "style": "IPY_MODEL_fb0a5785ae57439488ab3a3bc14e0eee",
            "value": 90888945
          }
        },
        "53e261bd1f674b6a8d67922328d6f73e": {
          "model_module": "@jupyter-widgets/controls",
          "model_name": "HTMLModel",
          "model_module_version": "1.5.0",
          "state": {
            "_dom_classes": [],
            "_model_module": "@jupyter-widgets/controls",
            "_model_module_version": "1.5.0",
            "_model_name": "HTMLModel",
            "_view_count": null,
            "_view_module": "@jupyter-widgets/controls",
            "_view_module_version": "1.5.0",
            "_view_name": "HTMLView",
            "description": "",
            "description_tooltip": null,
            "layout": "IPY_MODEL_852cc5a8fc0d483399e98b13a8f12bb1",
            "placeholder": "​",
            "style": "IPY_MODEL_0de6d60134d3454ba81cacf37c1a4a76",
            "value": " 90.9M/90.9M [00:00&lt;00:00, 174MB/s]"
          }
        },
        "7d90331eadba49cbaccf2931b3c30637": {
          "model_module": "@jupyter-widgets/base",
          "model_name": "LayoutModel",
          "model_module_version": "1.2.0",
          "state": {
            "_model_module": "@jupyter-widgets/base",
            "_model_module_version": "1.2.0",
            "_model_name": "LayoutModel",
            "_view_count": null,
            "_view_module": "@jupyter-widgets/base",
            "_view_module_version": "1.2.0",
            "_view_name": "LayoutView",
            "align_content": null,
            "align_items": null,
            "align_self": null,
            "border": null,
            "bottom": null,
            "display": null,
            "flex": null,
            "flex_flow": null,
            "grid_area": null,
            "grid_auto_columns": null,
            "grid_auto_flow": null,
            "grid_auto_rows": null,
            "grid_column": null,
            "grid_gap": null,
            "grid_row": null,
            "grid_template_areas": null,
            "grid_template_columns": null,
            "grid_template_rows": null,
            "height": null,
            "justify_content": null,
            "justify_items": null,
            "left": null,
            "margin": null,
            "max_height": null,
            "max_width": null,
            "min_height": null,
            "min_width": null,
            "object_fit": null,
            "object_position": null,
            "order": null,
            "overflow": null,
            "overflow_x": null,
            "overflow_y": null,
            "padding": null,
            "right": null,
            "top": null,
            "visibility": null,
            "width": null
          }
        },
        "937d13154137417e8a896d68f45bca58": {
          "model_module": "@jupyter-widgets/base",
          "model_name": "LayoutModel",
          "model_module_version": "1.2.0",
          "state": {
            "_model_module": "@jupyter-widgets/base",
            "_model_module_version": "1.2.0",
            "_model_name": "LayoutModel",
            "_view_count": null,
            "_view_module": "@jupyter-widgets/base",
            "_view_module_version": "1.2.0",
            "_view_name": "LayoutView",
            "align_content": null,
            "align_items": null,
            "align_self": null,
            "border": null,
            "bottom": null,
            "display": null,
            "flex": null,
            "flex_flow": null,
            "grid_area": null,
            "grid_auto_columns": null,
            "grid_auto_flow": null,
            "grid_auto_rows": null,
            "grid_column": null,
            "grid_gap": null,
            "grid_row": null,
            "grid_template_areas": null,
            "grid_template_columns": null,
            "grid_template_rows": null,
            "height": null,
            "justify_content": null,
            "justify_items": null,
            "left": null,
            "margin": null,
            "max_height": null,
            "max_width": null,
            "min_height": null,
            "min_width": null,
            "object_fit": null,
            "object_position": null,
            "order": null,
            "overflow": null,
            "overflow_x": null,
            "overflow_y": null,
            "padding": null,
            "right": null,
            "top": null,
            "visibility": null,
            "width": null
          }
        },
        "d5d141b11aa44162b3bb2d28085701bf": {
          "model_module": "@jupyter-widgets/controls",
          "model_name": "DescriptionStyleModel",
          "model_module_version": "1.5.0",
          "state": {
            "_model_module": "@jupyter-widgets/controls",
            "_model_module_version": "1.5.0",
            "_model_name": "DescriptionStyleModel",
            "_view_count": null,
            "_view_module": "@jupyter-widgets/base",
            "_view_module_version": "1.2.0",
            "_view_name": "StyleView",
            "description_width": ""
          }
        },
        "e7f8d93efb9d4960a421c1da8905de8f": {
          "model_module": "@jupyter-widgets/base",
          "model_name": "LayoutModel",
          "model_module_version": "1.2.0",
          "state": {
            "_model_module": "@jupyter-widgets/base",
            "_model_module_version": "1.2.0",
            "_model_name": "LayoutModel",
            "_view_count": null,
            "_view_module": "@jupyter-widgets/base",
            "_view_module_version": "1.2.0",
            "_view_name": "LayoutView",
            "align_content": null,
            "align_items": null,
            "align_self": null,
            "border": null,
            "bottom": null,
            "display": null,
            "flex": null,
            "flex_flow": null,
            "grid_area": null,
            "grid_auto_columns": null,
            "grid_auto_flow": null,
            "grid_auto_rows": null,
            "grid_column": null,
            "grid_gap": null,
            "grid_row": null,
            "grid_template_areas": null,
            "grid_template_columns": null,
            "grid_template_rows": null,
            "height": null,
            "justify_content": null,
            "justify_items": null,
            "left": null,
            "margin": null,
            "max_height": null,
            "max_width": null,
            "min_height": null,
            "min_width": null,
            "object_fit": null,
            "object_position": null,
            "order": null,
            "overflow": null,
            "overflow_x": null,
            "overflow_y": null,
            "padding": null,
            "right": null,
            "top": null,
            "visibility": null,
            "width": null
          }
        },
        "fb0a5785ae57439488ab3a3bc14e0eee": {
          "model_module": "@jupyter-widgets/controls",
          "model_name": "ProgressStyleModel",
          "model_module_version": "1.5.0",
          "state": {
            "_model_module": "@jupyter-widgets/controls",
            "_model_module_version": "1.5.0",
            "_model_name": "ProgressStyleModel",
            "_view_count": null,
            "_view_module": "@jupyter-widgets/base",
            "_view_module_version": "1.2.0",
            "_view_name": "StyleView",
            "bar_color": null,
            "description_width": ""
          }
        },
        "852cc5a8fc0d483399e98b13a8f12bb1": {
          "model_module": "@jupyter-widgets/base",
          "model_name": "LayoutModel",
          "model_module_version": "1.2.0",
          "state": {
            "_model_module": "@jupyter-widgets/base",
            "_model_module_version": "1.2.0",
            "_model_name": "LayoutModel",
            "_view_count": null,
            "_view_module": "@jupyter-widgets/base",
            "_view_module_version": "1.2.0",
            "_view_name": "LayoutView",
            "align_content": null,
            "align_items": null,
            "align_self": null,
            "border": null,
            "bottom": null,
            "display": null,
            "flex": null,
            "flex_flow": null,
            "grid_area": null,
            "grid_auto_columns": null,
            "grid_auto_flow": null,
            "grid_auto_rows": null,
            "grid_column": null,
            "grid_gap": null,
            "grid_row": null,
            "grid_template_areas": null,
            "grid_template_columns": null,
            "grid_template_rows": null,
            "height": null,
            "justify_content": null,
            "justify_items": null,
            "left": null,
            "margin": null,
            "max_height": null,
            "max_width": null,
            "min_height": null,
            "min_width": null,
            "object_fit": null,
            "object_position": null,
            "order": null,
            "overflow": null,
            "overflow_x": null,
            "overflow_y": null,
            "padding": null,
            "right": null,
            "top": null,
            "visibility": null,
            "width": null
          }
        },
        "0de6d60134d3454ba81cacf37c1a4a76": {
          "model_module": "@jupyter-widgets/controls",
          "model_name": "DescriptionStyleModel",
          "model_module_version": "1.5.0",
          "state": {
            "_model_module": "@jupyter-widgets/controls",
            "_model_module_version": "1.5.0",
            "_model_name": "DescriptionStyleModel",
            "_view_count": null,
            "_view_module": "@jupyter-widgets/base",
            "_view_module_version": "1.2.0",
            "_view_name": "StyleView",
            "description_width": ""
          }
        }
      }
    }
  },
  "cells": [
    {
      "cell_type": "markdown",
      "metadata": {
        "id": "view-in-github",
        "colab_type": "text"
      },
      "source": [
        "<a href=\"https://colab.research.google.com/github/tanoManzo/mimic_trajectories/blob/dev/MIMIC_TRAJECTORY_embeddings_02_collect_data.ipynb\" target=\"_parent\"><img src=\"https://colab.research.google.com/assets/colab-badge.svg\" alt=\"Open In Colab\"/></a>"
      ]
    },
    {
      "cell_type": "markdown",
      "source": [
        "# Data Collection, Embeddings and Attitude"
      ],
      "metadata": {
        "id": "5CSBbeSkyRmq"
      }
    },
    {
      "cell_type": "code",
      "source": [
        "! pip install transformers -q"
      ],
      "metadata": {
        "id": "mcvHX_-AewgN",
        "colab": {
          "base_uri": "https://localhost:8080/"
        },
        "outputId": "b294886f-3ef7-4b76-c1e7-cfc9f35412de"
      },
      "execution_count": 1,
      "outputs": [
        {
          "output_type": "stream",
          "name": "stdout",
          "text": [
            "\u001b[2K     \u001b[90m━━━━━━━━━━━━━━━━━━━━━━━━━━━━━━━━━━━━━━━━\u001b[0m \u001b[32m7.0/7.0 MB\u001b[0m \u001b[31m34.4 MB/s\u001b[0m eta \u001b[36m0:00:00\u001b[0m\n",
            "\u001b[2K     \u001b[90m━━━━━━━━━━━━━━━━━━━━━━━━━━━━━━━━━━━━━━\u001b[0m \u001b[32m224.5/224.5 kB\u001b[0m \u001b[31m15.3 MB/s\u001b[0m eta \u001b[36m0:00:00\u001b[0m\n",
            "\u001b[2K     \u001b[90m━━━━━━━━━━━━━━━━━━━━━━━━━━━━━━━━━━━━━━━━\u001b[0m \u001b[32m7.8/7.8 MB\u001b[0m \u001b[31m21.1 MB/s\u001b[0m eta \u001b[36m0:00:00\u001b[0m\n",
            "\u001b[?25h"
          ]
        }
      ]
    },
    {
      "cell_type": "code",
      "execution_count": 2,
      "metadata": {
        "id": "35BpcyS4eWHw"
      },
      "outputs": [],
      "source": [
        "import numpy as np\n",
        "import pandas as pd\n",
        "import torch\n",
        "import torch.nn.functional as F\n",
        "from transformers import AutoTokenizer, AutoModel\n",
        "from transformers import AutoModelForSequenceClassification\n",
        "from sklearn.metrics.pairwise import cosine_similarity"
      ]
    },
    {
      "cell_type": "markdown",
      "source": [
        "load nursing notes subject-caregiver-chartdate"
      ],
      "metadata": {
        "id": "2YFjrsu1tkB2"
      }
    },
    {
      "cell_type": "code",
      "source": [
        "from google.colab import drive\n",
        "drive.mount('/content/drive')"
      ],
      "metadata": {
        "colab": {
          "base_uri": "https://localhost:8080/"
        },
        "id": "GKFaijaIsKBU",
        "outputId": "ec5c2851-32fd-4f8b-c515-85cdb39bb1b8"
      },
      "execution_count": 3,
      "outputs": [
        {
          "output_type": "stream",
          "name": "stdout",
          "text": [
            "Mounted at /content/drive\n"
          ]
        }
      ]
    },
    {
      "cell_type": "code",
      "source": [
        "notes_path = \"/content/drive/MyDrive/NIH/Data/\"\n",
        "notes_name = \"NOTES_NURSING_TRAJECTORIES_01.csv\"\n",
        "df_notes = pd.read_csv(notes_path+notes_name)\n",
        "df_notes.info()"
      ],
      "metadata": {
        "colab": {
          "base_uri": "https://localhost:8080/"
        },
        "id": "sSNmSwI5Ix2P",
        "outputId": "d256504b-1f25-4f0c-9d21-eafed46a9f57"
      },
      "execution_count": 4,
      "outputs": [
        {
          "output_type": "stream",
          "name": "stdout",
          "text": [
            "<class 'pandas.core.frame.DataFrame'>\n",
            "RangeIndex: 531675 entries, 0 to 531674\n",
            "Data columns (total 5 columns):\n",
            " #   Column      Non-Null Count   Dtype \n",
            "---  ------      --------------   ----- \n",
            " 0   ROW_ID      531675 non-null  int64 \n",
            " 1   SUBJECT_ID  531675 non-null  int64 \n",
            " 2   CGID        531675 non-null  int64 \n",
            " 3   CHARTDATE   531675 non-null  object\n",
            " 4   TEXT        531675 non-null  object\n",
            "dtypes: int64(3), object(2)\n",
            "memory usage: 20.3+ MB\n"
          ]
        }
      ]
    },
    {
      "cell_type": "markdown",
      "source": [
        "## **Data Preprocessing**"
      ],
      "metadata": {
        "id": "qdVDhESt91i2"
      }
    },
    {
      "cell_type": "markdown",
      "source": [
        "extract nicu notes"
      ],
      "metadata": {
        "id": "WPkdlidbtAAd"
      }
    },
    {
      "cell_type": "code",
      "source": [
        "def nicu_condition(x):\n",
        "  words = ['nicu', 'neonatal']\n",
        "  return any(word in x.lower() for word in words)\n",
        "\n",
        "# get list of subject in nicu    \n",
        "nicu_subject_ids = df_notes[df_notes['TEXT'].apply(lambda x: nicu_condition(x))]['SUBJECT_ID'].unique()\n",
        "\n",
        "# get nicu notes\n",
        "df_notes_nicu = df_notes[df_notes['SUBJECT_ID'].isin(nicu_subject_ids)]\n",
        "df_notes_nicu"
      ],
      "metadata": {
        "colab": {
          "base_uri": "https://localhost:8080/",
          "height": 423
        },
        "id": "PNKC9WAupA3x",
        "outputId": "3357b1d4-7823-43b8-d522-c403c63028e9"
      },
      "execution_count": 6,
      "outputs": [
        {
          "output_type": "execute_result",
          "data": {
            "text/plain": [
              "         ROW_ID  SUBJECT_ID   CGID   CHARTDATE  \\\n",
              "0       2019399       25397  14720  2187-02-16   \n",
              "5       1792738        7984  14489  2153-08-30   \n",
              "16      2019351       25397  14720  2187-02-08   \n",
              "46      2080962       32392  17603  2199-12-05   \n",
              "60      1740211        4578  14720  2152-08-09   \n",
              "...         ...         ...    ...         ...   \n",
              "531667  1900603       15772  16864  2103-07-04   \n",
              "531668  2034585       26106  19530  2191-05-13   \n",
              "531670  1974281       21464  20104  2189-03-18   \n",
              "531672  1735597        4205  16022  2163-06-11   \n",
              "531674  1916175       16803  14989  2150-07-01   \n",
              "\n",
              "                                                     TEXT  \n",
              "0       Social Work:\\nHad provider meeting this aftern...  \n",
              "5       NICU NURSING FAMILY MEETING AND PARENTING NOTE...  \n",
              "16      Social Work:\\n\\n [**First Name8 (NamePattern2)...  \n",
              "46      NPN DAYS\\nRECEIVED [**Doctor Last Name **] AT ...  \n",
              "60      Social Work:\\nFamily meeting held with mom, Dr...  \n",
              "...                                                   ...  \n",
              "531667  NPN 7a7p cont\\nAgree with the above not writte...  \n",
              "531668  Social Work:\\nPlease refer to note in baby a's...  \n",
              "531670  Procedure Note: UAC removal.\\n\\nUAC removed in...  \n",
              "531672  Addendum\\nAgree with above note and assessment...  \n",
              "531674  Agree with co workers note above, please read ...  \n",
              "\n",
              "[233955 rows x 5 columns]"
            ],
            "text/html": [
              "\n",
              "  <div id=\"df-af1f08a9-376d-4967-8a0e-a0dffcff8258\">\n",
              "    <div class=\"colab-df-container\">\n",
              "      <div>\n",
              "<style scoped>\n",
              "    .dataframe tbody tr th:only-of-type {\n",
              "        vertical-align: middle;\n",
              "    }\n",
              "\n",
              "    .dataframe tbody tr th {\n",
              "        vertical-align: top;\n",
              "    }\n",
              "\n",
              "    .dataframe thead th {\n",
              "        text-align: right;\n",
              "    }\n",
              "</style>\n",
              "<table border=\"1\" class=\"dataframe\">\n",
              "  <thead>\n",
              "    <tr style=\"text-align: right;\">\n",
              "      <th></th>\n",
              "      <th>ROW_ID</th>\n",
              "      <th>SUBJECT_ID</th>\n",
              "      <th>CGID</th>\n",
              "      <th>CHARTDATE</th>\n",
              "      <th>TEXT</th>\n",
              "    </tr>\n",
              "  </thead>\n",
              "  <tbody>\n",
              "    <tr>\n",
              "      <th>0</th>\n",
              "      <td>2019399</td>\n",
              "      <td>25397</td>\n",
              "      <td>14720</td>\n",
              "      <td>2187-02-16</td>\n",
              "      <td>Social Work:\\nHad provider meeting this aftern...</td>\n",
              "    </tr>\n",
              "    <tr>\n",
              "      <th>5</th>\n",
              "      <td>1792738</td>\n",
              "      <td>7984</td>\n",
              "      <td>14489</td>\n",
              "      <td>2153-08-30</td>\n",
              "      <td>NICU NURSING FAMILY MEETING AND PARENTING NOTE...</td>\n",
              "    </tr>\n",
              "    <tr>\n",
              "      <th>16</th>\n",
              "      <td>2019351</td>\n",
              "      <td>25397</td>\n",
              "      <td>14720</td>\n",
              "      <td>2187-02-08</td>\n",
              "      <td>Social Work:\\n\\n [**First Name8 (NamePattern2)...</td>\n",
              "    </tr>\n",
              "    <tr>\n",
              "      <th>46</th>\n",
              "      <td>2080962</td>\n",
              "      <td>32392</td>\n",
              "      <td>17603</td>\n",
              "      <td>2199-12-05</td>\n",
              "      <td>NPN DAYS\\nRECEIVED [**Doctor Last Name **] AT ...</td>\n",
              "    </tr>\n",
              "    <tr>\n",
              "      <th>60</th>\n",
              "      <td>1740211</td>\n",
              "      <td>4578</td>\n",
              "      <td>14720</td>\n",
              "      <td>2152-08-09</td>\n",
              "      <td>Social Work:\\nFamily meeting held with mom, Dr...</td>\n",
              "    </tr>\n",
              "    <tr>\n",
              "      <th>...</th>\n",
              "      <td>...</td>\n",
              "      <td>...</td>\n",
              "      <td>...</td>\n",
              "      <td>...</td>\n",
              "      <td>...</td>\n",
              "    </tr>\n",
              "    <tr>\n",
              "      <th>531667</th>\n",
              "      <td>1900603</td>\n",
              "      <td>15772</td>\n",
              "      <td>16864</td>\n",
              "      <td>2103-07-04</td>\n",
              "      <td>NPN 7a7p cont\\nAgree with the above not writte...</td>\n",
              "    </tr>\n",
              "    <tr>\n",
              "      <th>531668</th>\n",
              "      <td>2034585</td>\n",
              "      <td>26106</td>\n",
              "      <td>19530</td>\n",
              "      <td>2191-05-13</td>\n",
              "      <td>Social Work:\\nPlease refer to note in baby a's...</td>\n",
              "    </tr>\n",
              "    <tr>\n",
              "      <th>531670</th>\n",
              "      <td>1974281</td>\n",
              "      <td>21464</td>\n",
              "      <td>20104</td>\n",
              "      <td>2189-03-18</td>\n",
              "      <td>Procedure Note: UAC removal.\\n\\nUAC removed in...</td>\n",
              "    </tr>\n",
              "    <tr>\n",
              "      <th>531672</th>\n",
              "      <td>1735597</td>\n",
              "      <td>4205</td>\n",
              "      <td>16022</td>\n",
              "      <td>2163-06-11</td>\n",
              "      <td>Addendum\\nAgree with above note and assessment...</td>\n",
              "    </tr>\n",
              "    <tr>\n",
              "      <th>531674</th>\n",
              "      <td>1916175</td>\n",
              "      <td>16803</td>\n",
              "      <td>14989</td>\n",
              "      <td>2150-07-01</td>\n",
              "      <td>Agree with co workers note above, please read ...</td>\n",
              "    </tr>\n",
              "  </tbody>\n",
              "</table>\n",
              "<p>233955 rows × 5 columns</p>\n",
              "</div>\n",
              "      <button class=\"colab-df-convert\" onclick=\"convertToInteractive('df-af1f08a9-376d-4967-8a0e-a0dffcff8258')\"\n",
              "              title=\"Convert this dataframe to an interactive table.\"\n",
              "              style=\"display:none;\">\n",
              "        \n",
              "  <svg xmlns=\"http://www.w3.org/2000/svg\" height=\"24px\"viewBox=\"0 0 24 24\"\n",
              "       width=\"24px\">\n",
              "    <path d=\"M0 0h24v24H0V0z\" fill=\"none\"/>\n",
              "    <path d=\"M18.56 5.44l.94 2.06.94-2.06 2.06-.94-2.06-.94-.94-2.06-.94 2.06-2.06.94zm-11 1L8.5 8.5l.94-2.06 2.06-.94-2.06-.94L8.5 2.5l-.94 2.06-2.06.94zm10 10l.94 2.06.94-2.06 2.06-.94-2.06-.94-.94-2.06-.94 2.06-2.06.94z\"/><path d=\"M17.41 7.96l-1.37-1.37c-.4-.4-.92-.59-1.43-.59-.52 0-1.04.2-1.43.59L10.3 9.45l-7.72 7.72c-.78.78-.78 2.05 0 2.83L4 21.41c.39.39.9.59 1.41.59.51 0 1.02-.2 1.41-.59l7.78-7.78 2.81-2.81c.8-.78.8-2.07 0-2.86zM5.41 20L4 18.59l7.72-7.72 1.47 1.35L5.41 20z\"/>\n",
              "  </svg>\n",
              "      </button>\n",
              "      \n",
              "  <style>\n",
              "    .colab-df-container {\n",
              "      display:flex;\n",
              "      flex-wrap:wrap;\n",
              "      gap: 12px;\n",
              "    }\n",
              "\n",
              "    .colab-df-convert {\n",
              "      background-color: #E8F0FE;\n",
              "      border: none;\n",
              "      border-radius: 50%;\n",
              "      cursor: pointer;\n",
              "      display: none;\n",
              "      fill: #1967D2;\n",
              "      height: 32px;\n",
              "      padding: 0 0 0 0;\n",
              "      width: 32px;\n",
              "    }\n",
              "\n",
              "    .colab-df-convert:hover {\n",
              "      background-color: #E2EBFA;\n",
              "      box-shadow: 0px 1px 2px rgba(60, 64, 67, 0.3), 0px 1px 3px 1px rgba(60, 64, 67, 0.15);\n",
              "      fill: #174EA6;\n",
              "    }\n",
              "\n",
              "    [theme=dark] .colab-df-convert {\n",
              "      background-color: #3B4455;\n",
              "      fill: #D2E3FC;\n",
              "    }\n",
              "\n",
              "    [theme=dark] .colab-df-convert:hover {\n",
              "      background-color: #434B5C;\n",
              "      box-shadow: 0px 1px 3px 1px rgba(0, 0, 0, 0.15);\n",
              "      filter: drop-shadow(0px 1px 2px rgba(0, 0, 0, 0.3));\n",
              "      fill: #FFFFFF;\n",
              "    }\n",
              "  </style>\n",
              "\n",
              "      <script>\n",
              "        const buttonEl =\n",
              "          document.querySelector('#df-af1f08a9-376d-4967-8a0e-a0dffcff8258 button.colab-df-convert');\n",
              "        buttonEl.style.display =\n",
              "          google.colab.kernel.accessAllowed ? 'block' : 'none';\n",
              "\n",
              "        async function convertToInteractive(key) {\n",
              "          const element = document.querySelector('#df-af1f08a9-376d-4967-8a0e-a0dffcff8258');\n",
              "          const dataTable =\n",
              "            await google.colab.kernel.invokeFunction('convertToInteractive',\n",
              "                                                     [key], {});\n",
              "          if (!dataTable) return;\n",
              "\n",
              "          const docLinkHtml = 'Like what you see? Visit the ' +\n",
              "            '<a target=\"_blank\" href=https://colab.research.google.com/notebooks/data_table.ipynb>data table notebook</a>'\n",
              "            + ' to learn more about interactive tables.';\n",
              "          element.innerHTML = '';\n",
              "          dataTable['output_type'] = 'display_data';\n",
              "          await google.colab.output.renderOutput(dataTable, element);\n",
              "          const docLink = document.createElement('div');\n",
              "          docLink.innerHTML = docLinkHtml;\n",
              "          element.appendChild(docLink);\n",
              "        }\n",
              "      </script>\n",
              "    </div>\n",
              "  </div>\n",
              "  "
            ]
          },
          "metadata": {},
          "execution_count": 6
        }
      ]
    },
    {
      "cell_type": "markdown",
      "source": [
        "## Data exploration "
      ],
      "metadata": {
        "id": "TGpZTurgtr04"
      }
    },
    {
      "cell_type": "markdown",
      "source": [
        "check number of notes per patient/subject"
      ],
      "metadata": {
        "id": "zqNDhb8WKIXn"
      }
    },
    {
      "cell_type": "code",
      "source": [
        "import seaborn as sns\n",
        "sns.set()\n",
        "\n",
        "\n",
        "gb_notes = df_notes_nicu.groupby(['CGID','SUBJECT_ID'])\n",
        "num_notes = gb_notes['TEXT'].count()\n",
        "\n",
        "print(f'number of notes: min={num_notes.min()}, max={num_notes.max()}, mean={num_notes.mean()},  median={num_notes.median()}')\n",
        "sns.boxplot(x=num_notes)"
      ],
      "metadata": {
        "id": "S8E5fCVWtzkz"
      },
      "execution_count": null,
      "outputs": []
    },
    {
      "cell_type": "markdown",
      "source": [
        "check number of caregiver/subject that have between 4 and 15 notes"
      ],
      "metadata": {
        "id": "xML9IkR0KMAK"
      }
    },
    {
      "cell_type": "code",
      "source": [
        "sns.displot(num_notes[((num_notes>2) & (num_notes<15))])"
      ],
      "metadata": {
        "id": "2DRzgXE9zyNg"
      },
      "execution_count": null,
      "outputs": []
    },
    {
      "cell_type": "markdown",
      "source": [
        "## Embedding and Attitude"
      ],
      "metadata": {
        "id": "U7htBIVewxsv"
      }
    },
    {
      "cell_type": "markdown",
      "source": [
        "### Input data"
      ],
      "metadata": {
        "id": "jiE03maXRL9h"
      }
    },
    {
      "cell_type": "code",
      "source": [
        "cg_subjects_dict = {}\n",
        "caregivers_ids = df_notes_nicu['CGID'].unique()\n",
        "\n",
        "for cg_id in caregivers_ids:\n",
        "  cg_subjects_dict[cg_id] = df_notes_nicu[df_notes_nicu['CGID']==cg_id]['SUBJECT_ID'].unique().tolist()"
      ],
      "metadata": {
        "id": "zM5hKfRJxGci"
      },
      "execution_count": null,
      "outputs": []
    },
    {
      "cell_type": "code",
      "source": [
        "# loop through len(ids)\n",
        "def create_sentences(cgid=14098, subid=13155):\n",
        "  df_notes_nicu_selected = df_notes_nicu[(df_notes_nicu['CGID'] == cgid) & (df_notes_nicu['SUBJECT_ID'] == subid)].sort_values(by=['CHARTDATE'])\n",
        "  sentences = df_notes_nicu_selected['TEXT'].tolist()\n",
        "  return df_notes_nicu_selected, sentences\n",
        "\n",
        "df_notes_nicu_selected, sentences = create_sentences()"
      ],
      "metadata": {
        "id": "COE0AnxbRbCb"
      },
      "execution_count": null,
      "outputs": []
    },
    {
      "cell_type": "code",
      "source": [
        "df_notes_nicu_selected"
      ],
      "metadata": {
        "id": "jF4dSd6RsvWv",
        "colab": {
          "base_uri": "https://localhost:8080/",
          "height": 49
        },
        "outputId": "779cd5cd-ae2f-4962-985f-0a138609b690"
      },
      "execution_count": null,
      "outputs": [
        {
          "output_type": "execute_result",
          "data": {
            "text/plain": [
              "Empty DataFrame\n",
              "Columns: [ROW_ID_x, SUBJECT_ID, CGID, CHARTDATE, TEXT, ROW_ID_y, HADM_ID, ICUSTAY_ID, DBSOURCE, FIRST_CAREUNIT, LAST_CAREUNIT, FIRST_WARDID, LAST_WARDID, INTIME, OUTTIME, LOS]\n",
              "Index: []"
            ],
            "text/html": [
              "\n",
              "  <div id=\"df-0adfa035-a292-4946-a062-7d866759ffdc\">\n",
              "    <div class=\"colab-df-container\">\n",
              "      <div>\n",
              "<style scoped>\n",
              "    .dataframe tbody tr th:only-of-type {\n",
              "        vertical-align: middle;\n",
              "    }\n",
              "\n",
              "    .dataframe tbody tr th {\n",
              "        vertical-align: top;\n",
              "    }\n",
              "\n",
              "    .dataframe thead th {\n",
              "        text-align: right;\n",
              "    }\n",
              "</style>\n",
              "<table border=\"1\" class=\"dataframe\">\n",
              "  <thead>\n",
              "    <tr style=\"text-align: right;\">\n",
              "      <th></th>\n",
              "      <th>ROW_ID_x</th>\n",
              "      <th>SUBJECT_ID</th>\n",
              "      <th>CGID</th>\n",
              "      <th>CHARTDATE</th>\n",
              "      <th>TEXT</th>\n",
              "      <th>ROW_ID_y</th>\n",
              "      <th>HADM_ID</th>\n",
              "      <th>ICUSTAY_ID</th>\n",
              "      <th>DBSOURCE</th>\n",
              "      <th>FIRST_CAREUNIT</th>\n",
              "      <th>LAST_CAREUNIT</th>\n",
              "      <th>FIRST_WARDID</th>\n",
              "      <th>LAST_WARDID</th>\n",
              "      <th>INTIME</th>\n",
              "      <th>OUTTIME</th>\n",
              "      <th>LOS</th>\n",
              "    </tr>\n",
              "  </thead>\n",
              "  <tbody>\n",
              "  </tbody>\n",
              "</table>\n",
              "</div>\n",
              "      <button class=\"colab-df-convert\" onclick=\"convertToInteractive('df-0adfa035-a292-4946-a062-7d866759ffdc')\"\n",
              "              title=\"Convert this dataframe to an interactive table.\"\n",
              "              style=\"display:none;\">\n",
              "        \n",
              "  <svg xmlns=\"http://www.w3.org/2000/svg\" height=\"24px\"viewBox=\"0 0 24 24\"\n",
              "       width=\"24px\">\n",
              "    <path d=\"M0 0h24v24H0V0z\" fill=\"none\"/>\n",
              "    <path d=\"M18.56 5.44l.94 2.06.94-2.06 2.06-.94-2.06-.94-.94-2.06-.94 2.06-2.06.94zm-11 1L8.5 8.5l.94-2.06 2.06-.94-2.06-.94L8.5 2.5l-.94 2.06-2.06.94zm10 10l.94 2.06.94-2.06 2.06-.94-2.06-.94-.94-2.06-.94 2.06-2.06.94z\"/><path d=\"M17.41 7.96l-1.37-1.37c-.4-.4-.92-.59-1.43-.59-.52 0-1.04.2-1.43.59L10.3 9.45l-7.72 7.72c-.78.78-.78 2.05 0 2.83L4 21.41c.39.39.9.59 1.41.59.51 0 1.02-.2 1.41-.59l7.78-7.78 2.81-2.81c.8-.78.8-2.07 0-2.86zM5.41 20L4 18.59l7.72-7.72 1.47 1.35L5.41 20z\"/>\n",
              "  </svg>\n",
              "      </button>\n",
              "      \n",
              "  <style>\n",
              "    .colab-df-container {\n",
              "      display:flex;\n",
              "      flex-wrap:wrap;\n",
              "      gap: 12px;\n",
              "    }\n",
              "\n",
              "    .colab-df-convert {\n",
              "      background-color: #E8F0FE;\n",
              "      border: none;\n",
              "      border-radius: 50%;\n",
              "      cursor: pointer;\n",
              "      display: none;\n",
              "      fill: #1967D2;\n",
              "      height: 32px;\n",
              "      padding: 0 0 0 0;\n",
              "      width: 32px;\n",
              "    }\n",
              "\n",
              "    .colab-df-convert:hover {\n",
              "      background-color: #E2EBFA;\n",
              "      box-shadow: 0px 1px 2px rgba(60, 64, 67, 0.3), 0px 1px 3px 1px rgba(60, 64, 67, 0.15);\n",
              "      fill: #174EA6;\n",
              "    }\n",
              "\n",
              "    [theme=dark] .colab-df-convert {\n",
              "      background-color: #3B4455;\n",
              "      fill: #D2E3FC;\n",
              "    }\n",
              "\n",
              "    [theme=dark] .colab-df-convert:hover {\n",
              "      background-color: #434B5C;\n",
              "      box-shadow: 0px 1px 3px 1px rgba(0, 0, 0, 0.15);\n",
              "      filter: drop-shadow(0px 1px 2px rgba(0, 0, 0, 0.3));\n",
              "      fill: #FFFFFF;\n",
              "    }\n",
              "  </style>\n",
              "\n",
              "      <script>\n",
              "        const buttonEl =\n",
              "          document.querySelector('#df-0adfa035-a292-4946-a062-7d866759ffdc button.colab-df-convert');\n",
              "        buttonEl.style.display =\n",
              "          google.colab.kernel.accessAllowed ? 'block' : 'none';\n",
              "\n",
              "        async function convertToInteractive(key) {\n",
              "          const element = document.querySelector('#df-0adfa035-a292-4946-a062-7d866759ffdc');\n",
              "          const dataTable =\n",
              "            await google.colab.kernel.invokeFunction('convertToInteractive',\n",
              "                                                     [key], {});\n",
              "          if (!dataTable) return;\n",
              "\n",
              "          const docLinkHtml = 'Like what you see? Visit the ' +\n",
              "            '<a target=\"_blank\" href=https://colab.research.google.com/notebooks/data_table.ipynb>data table notebook</a>'\n",
              "            + ' to learn more about interactive tables.';\n",
              "          element.innerHTML = '';\n",
              "          dataTable['output_type'] = 'display_data';\n",
              "          await google.colab.output.renderOutput(dataTable, element);\n",
              "          const docLink = document.createElement('div');\n",
              "          docLink.innerHTML = docLinkHtml;\n",
              "          element.appendChild(docLink);\n",
              "        }\n",
              "      </script>\n",
              "    </div>\n",
              "  </div>\n",
              "  "
            ]
          },
          "metadata": {},
          "execution_count": 22
        }
      ]
    },
    {
      "cell_type": "markdown",
      "source": [
        "### Embeddings "
      ],
      "metadata": {
        "id": "fQeSSVtctxMI"
      }
    },
    {
      "cell_type": "markdown",
      "source": [
        "embedding model"
      ],
      "metadata": {
        "id": "7dBZ5qVKxlop"
      }
    },
    {
      "cell_type": "code",
      "source": [
        "model_ckpt = \"sentence-transformers/all-MiniLM-L6-v2\"\n",
        "tokenizer = AutoTokenizer.from_pretrained(model_ckpt)\n",
        "model = AutoModel.from_pretrained(model_ckpt)"
      ],
      "metadata": {
        "id": "snpP8en7jJPo",
        "colab": {
          "base_uri": "https://localhost:8080/",
          "height": 209,
          "referenced_widgets": [
            "6a300712ffd741adb116e1b8c88953bb",
            "f49d1d6143fe4de5b1f8049eed73d94b",
            "3a44ddff02194bc1aefe0db25f6b94b8",
            "199352e04dbb46ea9e0bbd6f02f91cd1",
            "5af18478e85848ed9404b62335f4c80d",
            "ee9b3f352aef4d14bff6da61e692b0c0",
            "cccac72dcb894d7e8c5a4687128049e3",
            "39b7afbcd0ba48c6b0c6bfb3789150c7",
            "bc783e4bd0b94fe8b59fc3d9df529696",
            "4d34cfc370f44b43a10a94da28601ff1",
            "76cf9c03ddc449dfa3fecb400ce45545",
            "48c75526f9994d6c92b0e7187f51f1c8",
            "a49f722c5db642d191747c94fce78ca9",
            "509c8af760f94fa38e85f4c186e3999b",
            "b1b011a9f3df48d995de4414897f90da",
            "3e36e2f74f1e4292a97b3dac99bc7bae",
            "8a0cc506913b4266bbff8b1dff9b8d30",
            "61f0d0b2008c483fb0622ee2073d9c14",
            "98eec1b198ca4b2e9e44d9761bf3e7ed",
            "29db9cbf855740799f6f5349b6479008",
            "2d90b24f6a834b6fb5233d65f7d26a36",
            "3ac2585b4e3c496a8e63443eec06fb41",
            "15b8aef00e184eeebe8f46dcf041fff6",
            "82c49328894f46969e3b85f16ed21f82",
            "2cbdeedc8d8a496da812c44a2ab889ca",
            "913af01c3aec4c4088f37e2473988af8",
            "1745e7d64eba48adbe0f2e5861969774",
            "f36d0b626cf642d495bf77e516e306df",
            "5afcbacbb876474dbac7250055346344",
            "0a9b0b98a9d24a76a02f1ed36211ad6d",
            "457b65b74fc94ab695f21be4cb7088a4",
            "28e93810faff434fb2ebd47a6f5b1fe8",
            "272a38c46d87452e922f20e77413c35a",
            "608e17e61c484692bba8272b4cfd51e5",
            "4529bf0d43564dd1adddc65021976aac",
            "a00a28fa913944648346d16d4c33c739",
            "d40b885227064a53bdc9935f45f2a998",
            "8b52d7be6afc4309b2b07b3a800f9fd5",
            "f82af0afcc7f4027aea9e1d751a0c2a4",
            "6ede5da423e043b28ed407b9124e87f1",
            "f66a543589cc40e0a48ce1288e8a2fe9",
            "1ea477315f7b4f7d8eb16b8e8b53135b",
            "d60ffc18ecce48dbb45bdf8315d43033",
            "7db4097f280d4108a69fe646618dfa89",
            "f13f139900f6472eafa651eb0907d982",
            "14fe8d68a93443cb8cf57d2cbcc86bd2",
            "5edd7f27a5f34017b5d5496fd7ca9630",
            "4591aa5ebced4c7eac08000682b9a9cd",
            "645c9315cfbb4ca1924ef7846580e5ef",
            "99a36f8125ea4581b49b06e54073cf29",
            "8722cd63bf0c48feab7229560505be6c",
            "792a0eaa21274802bcea3643b7f25359",
            "e664c9132d3e48adb7a9092eb98a8219",
            "a50e82567c284540b897bf7bca053aa8",
            "febb4a2ef2b54daaaaa8a7cd1ed819ca",
            "432f3a58223b4fdc8a9e4046ace09a14",
            "0241212ccb474f59af5db8654d4e708f",
            "d3eda1b4626a459a9cb012140d6532f1",
            "53e261bd1f674b6a8d67922328d6f73e",
            "7d90331eadba49cbaccf2931b3c30637",
            "937d13154137417e8a896d68f45bca58",
            "d5d141b11aa44162b3bb2d28085701bf",
            "e7f8d93efb9d4960a421c1da8905de8f",
            "fb0a5785ae57439488ab3a3bc14e0eee",
            "852cc5a8fc0d483399e98b13a8f12bb1",
            "0de6d60134d3454ba81cacf37c1a4a76"
          ]
        },
        "outputId": "855a1464-3fa0-4ee7-defb-df76aff8344e"
      },
      "execution_count": 7,
      "outputs": [
        {
          "output_type": "display_data",
          "data": {
            "text/plain": [
              "Downloading (…)okenizer_config.json:   0%|          | 0.00/350 [00:00<?, ?B/s]"
            ],
            "application/vnd.jupyter.widget-view+json": {
              "version_major": 2,
              "version_minor": 0,
              "model_id": "6a300712ffd741adb116e1b8c88953bb"
            }
          },
          "metadata": {}
        },
        {
          "output_type": "display_data",
          "data": {
            "text/plain": [
              "Downloading (…)solve/main/vocab.txt:   0%|          | 0.00/232k [00:00<?, ?B/s]"
            ],
            "application/vnd.jupyter.widget-view+json": {
              "version_major": 2,
              "version_minor": 0,
              "model_id": "48c75526f9994d6c92b0e7187f51f1c8"
            }
          },
          "metadata": {}
        },
        {
          "output_type": "display_data",
          "data": {
            "text/plain": [
              "Downloading (…)/main/tokenizer.json:   0%|          | 0.00/466k [00:00<?, ?B/s]"
            ],
            "application/vnd.jupyter.widget-view+json": {
              "version_major": 2,
              "version_minor": 0,
              "model_id": "15b8aef00e184eeebe8f46dcf041fff6"
            }
          },
          "metadata": {}
        },
        {
          "output_type": "display_data",
          "data": {
            "text/plain": [
              "Downloading (…)cial_tokens_map.json:   0%|          | 0.00/112 [00:00<?, ?B/s]"
            ],
            "application/vnd.jupyter.widget-view+json": {
              "version_major": 2,
              "version_minor": 0,
              "model_id": "608e17e61c484692bba8272b4cfd51e5"
            }
          },
          "metadata": {}
        },
        {
          "output_type": "display_data",
          "data": {
            "text/plain": [
              "Downloading (…)lve/main/config.json:   0%|          | 0.00/612 [00:00<?, ?B/s]"
            ],
            "application/vnd.jupyter.widget-view+json": {
              "version_major": 2,
              "version_minor": 0,
              "model_id": "f13f139900f6472eafa651eb0907d982"
            }
          },
          "metadata": {}
        },
        {
          "output_type": "display_data",
          "data": {
            "text/plain": [
              "Downloading pytorch_model.bin:   0%|          | 0.00/90.9M [00:00<?, ?B/s]"
            ],
            "application/vnd.jupyter.widget-view+json": {
              "version_major": 2,
              "version_minor": 0,
              "model_id": "432f3a58223b4fdc8a9e4046ace09a14"
            }
          },
          "metadata": {}
        }
      ]
    },
    {
      "cell_type": "markdown",
      "source": [
        "get embeddings"
      ],
      "metadata": {
        "id": "X4P8uBxzx5tE"
      }
    },
    {
      "cell_type": "code",
      "source": [
        "def create_dist_data(list_of_sentences):  \n",
        "  encoded_input = tokenizer(list_of_sentences, padding=True, truncation=True, return_tensors=\"pt\")\n",
        "  with torch.no_grad():\n",
        "    model_output = model(**encoded_input)\n",
        "  token_embeddings = model_output.last_hidden_state  \n",
        "\n",
        "  def mean_pooling(model_output, attention_mask):\n",
        "    token_embeddings = model_output.last_hidden_state\n",
        "    input_mask_expanded = attention_mask.unsqueeze(-1).expand(token_embeddings.size()).float()\n",
        "    return torch.sum(token_embeddings * input_mask_expanded, 1) / torch.clamp(input_mask_expanded.sum(1), min=1e-9)\n",
        "\n",
        "  # Perform pooling\n",
        "  sentence_embeddings = mean_pooling(model_output, encoded_input['attention_mask'])\n",
        "\n",
        "  # Normalize embeddings\n",
        "  sentence_embeddings = F.normalize(sentence_embeddings, p=2, dim=1)\n",
        "\n",
        "  sentence_embeddings_np = sentence_embeddings.detach().numpy()\n",
        "\n",
        "  scores = np.zeros((sentence_embeddings_np.shape[0],sentence_embeddings_np.shape[0]))\n",
        "  dist = []\n",
        "  for idx in range(sentence_embeddings_np.shape[0]):\n",
        "    scores[idx,:] = cosine_similarity([sentence_embeddings_np[idx]],sentence_embeddings_np)[0]            \n",
        "    if idx < len(sentence_embeddings_np)-1:\n",
        "      dist.append(scores[idx,idx+1])\n",
        "  return dist\n",
        "\n",
        "dist = create_dist_data(sentences)"
      ],
      "metadata": {
        "id": "pRX2x9TJi__Y"
      },
      "execution_count": null,
      "outputs": []
    },
    {
      "cell_type": "code",
      "source": [
        "dist"
      ],
      "metadata": {
        "id": "ydcWYJ9psIM3"
      },
      "execution_count": null,
      "outputs": []
    },
    {
      "cell_type": "markdown",
      "source": [
        "### Attitude "
      ],
      "metadata": {
        "id": "VO0vUgimVt70"
      }
    },
    {
      "cell_type": "markdown",
      "source": [
        "attitude models"
      ],
      "metadata": {
        "id": "fJ436WDDxnry"
      }
    },
    {
      "cell_type": "code",
      "source": [
        "# model name from huggingface.co/model name_id:model_name\n",
        "models_name = {\n",
        "  'roberta':'tanoManzo/roberta-attitude',\n",
        "#  'distilbert':'tanoManzo/distilbert-attitude',\n",
        "#  'minilm':'tanoManzo/minilm-attitude',\n",
        "#  'bloom':'tanoManzo/bloom-attitude'\n",
        "}\n",
        "\n",
        "# load tokenizer and model \n",
        "tokenizers = [AutoTokenizer.from_pretrained(model_name) for model_name in models_name.values()]\n",
        "models= [AutoModelForSequenceClassification.from_pretrained(model_name) for model_name in models_name.values()]"
      ],
      "metadata": {
        "id": "M5I5od_Y4eb0"
      },
      "execution_count": null,
      "outputs": []
    },
    {
      "cell_type": "code",
      "source": [
        "def create_sentiment_labels(df_notes_nicu_selected, list_of_sentences):\n",
        "  # select dataframe split\n",
        "  df_to_infer = df_notes_nicu_selected\n",
        "\n",
        "  # parameters to set \n",
        "  total_notes = len(df_to_infer)\n",
        "  batch_size = 1\n",
        "  iterations = int(len(df_to_infer)/batch_size)\n",
        "\n",
        "  # start label creation\n",
        "  l_scores = {k:[] for k in models_name.keys()} # dict Model: labels \n",
        "  l_labels = {k:[] for k in models_name.keys()} # dict Model: scoress\n",
        "  #print(iterations)\n",
        "  for iter in range(iterations):\n",
        "    \n",
        "\n",
        "    idx_start = batch_size*iter     # first window sentence idx in the dataframe\n",
        "    idx_end = batch_size*(iter+1)   # last window sentence idx in the dataframe\n",
        "    \n",
        "    # get row sentences for batch\n",
        "    list_of_sentences = list(df_to_infer['TEXT'].iloc[idx_start:idx_end].values)\n",
        "    #print(len(models_name))\n",
        "    for (index, (key, value)) in enumerate(models_name.items()):\n",
        "      \n",
        "      # tokenized input for the model \n",
        "      tokenizer = tokenizers[index]\n",
        "      batch = tokenizer(list_of_sentences, # list of sentence \n",
        "                      padding=True, # add if short \n",
        "                      truncation=True, # remove if long \n",
        "                      max_length=512, # sent length\n",
        "                      return_tensors=\"pt\" # to return pytorch tensor (NO for TF)\n",
        "                      )\n",
        "      #print(batch)        \n",
        "      model = models[index]\n",
        "      with torch.no_grad():\n",
        "        outputs = model(**batch)\n",
        "        predictions = F.softmax(outputs.logits, dim=1)\n",
        "        label_ids = torch.argmax(predictions, dim=1)\n",
        "\n",
        "        labels = [model.config.id2label[label_id] for label_id in label_ids.tolist()]\n",
        "        scores = [round(float(predictions[idx][label_id].item()),4) for idx, label_id in enumerate(label_ids.tolist())]\n",
        "        l_labels[key].extend(labels)\n",
        "        l_scores[key].extend(scores)\n",
        "      #print(l_labels)\n",
        "  return l_labels\n",
        "\n",
        "l_labels = create_sentiment_labels(df_notes_nicu_selected,sentences)"
      ],
      "metadata": {
        "id": "adOU0EN_LFXk"
      },
      "execution_count": null,
      "outputs": []
    },
    {
      "cell_type": "code",
      "source": [
        "l_labels"
      ],
      "metadata": {
        "id": "5MM2ih6CL_jT"
      },
      "execution_count": null,
      "outputs": []
    },
    {
      "cell_type": "code",
      "source": [
        "df_notes_nicu_selected"
      ],
      "metadata": {
        "id": "5KhsJZbKKO38"
      },
      "execution_count": null,
      "outputs": []
    },
    {
      "cell_type": "markdown",
      "source": [
        "# **Add more data**"
      ],
      "metadata": {
        "id": "iR1ljIw4Nkum"
      }
    },
    {
      "cell_type": "markdown",
      "source": [
        "Group data and count groupings"
      ],
      "metadata": {
        "id": "mMIbL8n7Dxbh"
      }
    },
    {
      "cell_type": "code",
      "source": [
        "#grouped_df = df_notes_nicu.groupby(['CGID','SUBJECT_ID']).size().reset_index(name='count')\n",
        "grouped_df = df_notes_nicu.groupby(['CGID']).size().reset_index(name='count')\n",
        "grouped_df.tail(3)\n",
        "#len(grouped_df['CGID'].unique())"
      ],
      "metadata": {
        "id": "_7l8u3kX6vDn"
      },
      "execution_count": null,
      "outputs": []
    },
    {
      "cell_type": "markdown",
      "source": [
        "Select samples within count ranges"
      ],
      "metadata": {
        "id": "m9DqA8GoD1uK"
      }
    },
    {
      "cell_type": "code",
      "source": [
        "percentiles_cgid_subid = [(0.8, 0.85),(0.85, 0.9),(0.9, 0.95),(0.95, 0.975),(0.975, 0.98)]\n",
        "percentiles_cgid_only = [(0.5, 0.6),(0.6, 0.7),(0.7, 0.75),(0.75, 0.8),(0.8, 0.85)]\n",
        "\n",
        "filtered_rows = []\n",
        "for min_pct, max_pct in percentiles_cgid_only:\n",
        "  min = grouped_df['count'].quantile(min_pct)\n",
        "  max = grouped_df['count'].quantile(max_pct)\n",
        "\n",
        "  range_df = grouped_df[(grouped_df['count'] >= min) & (grouped_df['count'] <= max)]\n",
        "\n",
        "  row = range_df.sample(n=12)\n",
        "  filtered_rows.append(row)\n",
        "  \n",
        "result = pd.concat(filtered_rows)\n",
        "\n",
        "print(result)\n",
        "print(list(result['CGID']))\n",
        "cgids = list(result['CGID'])"
      ],
      "metadata": {
        "id": "_Rjf7gGm7v38"
      },
      "execution_count": null,
      "outputs": []
    },
    {
      "cell_type": "code",
      "source": [
        "# write data to rows\n",
        "df_to_plot = pd.DataFrame(columns = ['CGID','SUBJECT_ID','emb_distance','attitudes'])\n",
        "#cgids = [14098]\n",
        "print(cgids)\n",
        "for cgid in cgids:\n",
        "  for subject_id in cg_subjects_dict[cgid]:\n",
        "    df_notes_nicu_selected, sentence = create_sentences(cgid=cgid, subid=subject_id)\n",
        "    dist = create_dist_data(sentence)\n",
        "    l_labels = create_sentiment_labels(df_notes_nicu_selected,sentence)\n",
        "    print([cgid, subject_id, dist, list(*l_labels.values())])\n",
        "    df_to_plot.loc[len(df_to_plot)] = [cgid, subject_id, dist, list(*l_labels.values())]"
      ],
      "metadata": {
        "id": "ee31TE4AkySL"
      },
      "execution_count": null,
      "outputs": []
    },
    {
      "cell_type": "code",
      "source": [
        "# path and name of the csv file \n",
        "PATH_TO_SAVE = \"/content/drive/MyDrive/NIH/Data/\"\n",
        "name_file_to_save = 'NOTES_NURSING_TRAJECTORIES_sixtyCGs.csv'\n",
        "#df_to_plot.to_csv(PATH_TO_SAVE+name_file_to_save,index=False)"
      ],
      "metadata": {
        "id": "RBhRYzc_MRSm"
      },
      "execution_count": null,
      "outputs": []
    },
    {
      "cell_type": "code",
      "source": [
        "df_to_plot"
      ],
      "metadata": {
        "id": "71I2l1ABarJK"
      },
      "execution_count": null,
      "outputs": []
    },
    {
      "cell_type": "markdown",
      "source": [
        "# END \n"
      ],
      "metadata": {
        "id": "TBxF7fIKdkh2"
      }
    },
    {
      "cell_type": "markdown",
      "source": [
        "# **Add labels to graph**"
      ],
      "metadata": {
        "id": "8qUKwL5oFefq"
      }
    },
    {
      "cell_type": "code",
      "source": [
        "import matplotlib.pyplot as plt\n",
        "from matplotlib.patches import Rectangle\n",
        "from matplotlib.ticker import MaxNLocator"
      ],
      "metadata": {
        "id": "kZU78_dTND92"
      },
      "execution_count": null,
      "outputs": []
    },
    {
      "cell_type": "code",
      "source": [
        "sns.scatterplot(dist)\n",
        "model_labels = l_labels['roberta']\n",
        "labels_dict = {'Overall Neutral Note': '0', 'Overall Negative Note': 'N', 'Overall Positive Note': 'P'}\n",
        "graph_labels = [labels_dict[label] for label in model_labels]\n",
        "\n",
        "# Add sentiment next to points\n",
        "for index, row in enumerate(dist):\n",
        "\n",
        "  x_position = index - 0.15\n",
        "  x2_position = index + 0.075\n",
        "  y_position = dist[index] - 0.0075\n",
        "  plt.text(x_position, y_position, graph_labels[index], fontsize=10, color='red')\n",
        "  plt.text(x2_position, y_position, graph_labels[index+1], fontsize=10, color='red')\n",
        "\n",
        "# Title and x/y axes\n",
        "plt.title(\"Sentence Comparison of Cosine Similarity and Sentiment\")\n",
        "plt.xlabel(\"Sentence Comparison\")\n",
        "plt.ylabel(\"Cosine Similarity\")\n",
        "\n",
        "# X-axis tick marks\n",
        "ax = plt.gca()\n",
        "ax.xaxis.set_major_locator(MaxNLocator(integer=True))\n",
        "new_ticks = [str(i) for i in range(len(graph_labels))]\n",
        "ax.set_xticklabels(new_ticks)\n",
        "\n",
        "# Legend\n",
        "legend_handles = [Rectangle((0, 0), 0, 0, alpha=0, label=f\"{short_label}: {original_label}\") \n",
        "                  for original_label, short_label in labels_dict.items()]\n",
        "#legend_handles = [Text(0, 0, label=f\"{short_label}: {original_label}\") for original_label, short_label in labels_dict.items()]\n",
        "\n",
        "# legend to right of graph\n",
        "#plt.legend(handles=legend_handles, loc='center left', bbox_to_anchor=(1, 0.5), title='Sentiment')\n",
        "\n",
        "# legend under graph\n",
        "plt.legend(handles=legend_handles, loc='upper center', bbox_to_anchor=(0.5, -0.15), ncol=len(labels_dict), title='Sentence Sentiment')\n",
        "\n",
        "plt.show()"
      ],
      "metadata": {
        "id": "9Z9DIHlyBB_Q"
      },
      "execution_count": null,
      "outputs": []
    },
    {
      "cell_type": "code",
      "source": [
        "sns.scatterplot(dist)\n",
        "model_labels = l_labels['roberta']\n",
        "labels_dict = {'Overall Neutral Note': '0', 'Overall Negative Note': 'N', 'Overall Positive Note': 'P'}\n",
        "graph_labels = [labels_dict[label] for label in model_labels]\n",
        "\n",
        "# Add sentiment next to points\n",
        "plt.text(-0.15, dist[0]-.0075, graph_labels[0], fontsize=10, color='red')\n",
        "for index, row in enumerate(dist):\n",
        "  if index == 0:\n",
        "    continue\n",
        "  x_position = index - 0.5\n",
        "  x2_position = index + 0.075\n",
        "  y_position = (dist[index] + dist[index-1] - 0.0075)/2\n",
        "  plt.text(x_position, y_position, graph_labels[index], fontsize=10, color='red')\n",
        "plt.text(len(dist)-1+0.075, dist[len(dist)-1]-0.0075, graph_labels[len(dist)], fontsize=10, color='red')\n",
        "\n",
        "# Title and x/y axes\n",
        "plt.title(\"Sentence Comparison of Cosine Similarity and Sentiment\")\n",
        "plt.xlabel(\"Sentence Comparison\")\n",
        "plt.ylabel(\"Cosine Similarity\")\n",
        "\n",
        "# X-axis tick marks\n",
        "ax = plt.gca()\n",
        "ax.xaxis.set_major_locator(MaxNLocator(integer=True))\n",
        "new_ticks = [str(i) for i in range(len(graph_labels))]\n",
        "ax.set_xticklabels(new_ticks)\n",
        "\n",
        "# Legend\n",
        "legend_handles = [Rectangle((0, 0), 0, 0, alpha=0, label=f\"{short_label}: {original_label}\") \n",
        "                  for original_label, short_label in labels_dict.items()]\n",
        "#legend_handles = [Text(0, 0, label=f\"{short_label}: {original_label}\") for original_label, short_label in labels_dict.items()]\n",
        "\n",
        "# legend to right of graph\n",
        "#plt.legend(handles=legend_handles, loc='center left', bbox_to_anchor=(1, 0.5), title='Sentiment')\n",
        "\n",
        "# legend under graph\n",
        "plt.legend(handles=legend_handles, loc='upper center', bbox_to_anchor=(0.5, -0.15), ncol=len(labels_dict), title='Sentence Sentiment')\n",
        "\n",
        "plt.show()"
      ],
      "metadata": {
        "id": "zusfEyYdNBuG"
      },
      "execution_count": null,
      "outputs": []
    },
    {
      "cell_type": "markdown",
      "source": [
        "## Clustering "
      ],
      "metadata": {
        "id": "_Sp2Zjlsrpb8"
      }
    },
    {
      "cell_type": "code",
      "source": [
        "import pandas as pd\n",
        "import numpy as np\n",
        "from sklearn.cluster import KMeans"
      ],
      "metadata": {
        "id": "BLITj_bchkU8"
      },
      "execution_count": null,
      "outputs": []
    },
    {
      "cell_type": "code",
      "source": [
        "clustering_model = KMeans(n_clusters=3)\n",
        "clustering_model.fit(sentence_embeddings_np)\n",
        "cluster_assignment = clustering_model.labels_\n",
        "print(cluster_assignment)"
      ],
      "metadata": {
        "id": "lYJw_xlwplLP"
      },
      "execution_count": null,
      "outputs": []
    },
    {
      "cell_type": "code",
      "source": [
        "clustered_sentences = {}\n",
        "for sentence_id, cluster_id in enumerate(cluster_assignment):\n",
        "    if cluster_id not in clustered_sentences:\n",
        "        clustered_sentences[cluster_id] = []\n",
        "\n",
        "    clustered_sentences[cluster_id].append(sentences[sentence_id])\n",
        "clustered_sentences"
      ],
      "metadata": {
        "id": "MK4a3n8hp0ix"
      },
      "execution_count": null,
      "outputs": []
    },
    {
      "cell_type": "code",
      "source": [
        "from scipy.spatial.distance import cdist\n",
        "\n",
        "distortions = []\n",
        "inertias = []\n",
        "mapping1 = {}\n",
        "mapping2 = {}\n",
        "K = range(1, 6)\n",
        "X = sentence_embeddings_np \n",
        "for k in K:\n",
        "    # Building and fitting the model\n",
        "    kmeanModel = KMeans(n_clusters=k).fit(X)\n",
        "    kmeanModel.fit(X)\n",
        "  \n",
        "    distortions.append(sum(np.min(cdist(X, kmeanModel.cluster_centers_,\n",
        "                                        'cosine'), axis=1)) / X.shape[0])\n",
        "    inertias.append(kmeanModel.inertia_)\n",
        "  \n",
        "    mapping1[k] = sum(np.min(cdist(X, kmeanModel.cluster_centers_,\n",
        "                                   'euclidean'), axis=1)) / X.shape[0]\n",
        "    mapping2[k] = kmeanModel.inertia_"
      ],
      "metadata": {
        "id": "91vBRnW5tRAN"
      },
      "execution_count": null,
      "outputs": []
    },
    {
      "cell_type": "code",
      "source": [
        "import matplotlib.pyplot as plt\n",
        "plt.plot(K, distortions, 'bx-')\n",
        "plt.xlabel('Values of K')\n",
        "plt.ylabel('Distortion')\n",
        "plt.title('The Elbow Method using Distortion')\n",
        "plt.show()"
      ],
      "metadata": {
        "id": "igGVOyMJtlD_"
      },
      "execution_count": null,
      "outputs": []
    }
  ]
}