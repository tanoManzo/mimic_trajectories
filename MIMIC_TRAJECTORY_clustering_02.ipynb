{
  "nbformat": 4,
  "nbformat_minor": 0,
  "metadata": {
    "colab": {
      "provenance": [],
      "include_colab_link": true
    },
    "kernelspec": {
      "name": "python3",
      "display_name": "Python 3"
    },
    "language_info": {
      "name": "python"
    }
  },
  "cells": [
    {
      "cell_type": "markdown",
      "metadata": {
        "id": "view-in-github",
        "colab_type": "text"
      },
      "source": [
        "<a href=\"https://colab.research.google.com/github/tanoManzo/mimic_trajectories/blob/dev/MIMIC_TRAJECTORY_clustering_02.ipynb\" target=\"_parent\"><img src=\"https://colab.research.google.com/assets/colab-badge.svg\" alt=\"Open In Colab\"/></a>"
      ]
    },
    {
      "cell_type": "code",
      "source": [
        "! pip install transformers -q"
      ],
      "metadata": {
        "id": "EVptx63cLr8R"
      },
      "execution_count": 1,
      "outputs": []
    },
    {
      "cell_type": "code",
      "source": [
        "import torch \n",
        "import torch.nn.functional as F\n",
        "from transformers import AutoTokenizer, AutoModel\n",
        "from transformers import AutoModelForSequenceClassification"
      ],
      "metadata": {
        "id": "ILpe3qCOMAsr"
      },
      "execution_count": 2,
      "outputs": []
    },
    {
      "cell_type": "code",
      "source": [
        "import numpy as np\n",
        "import pandas as pd"
      ],
      "metadata": {
        "id": "VnVsS_AY5K50"
      },
      "execution_count": 3,
      "outputs": []
    },
    {
      "cell_type": "code",
      "source": [
        "from google.colab import drive\n",
        "drive.mount('/content/drive')\n",
        "file_path = \"/content/drive/MyDrive/NIH/Data/\""
      ],
      "metadata": {
        "colab": {
          "base_uri": "https://localhost:8080/"
        },
        "id": "mnqlbFO4TwBH",
        "outputId": "18f3f2b4-4010-4876-cf7e-e5fc23808002"
      },
      "execution_count": 4,
      "outputs": [
        {
          "output_type": "stream",
          "name": "stdout",
          "text": [
            "Drive already mounted at /content/drive; to attempt to forcibly remount, call drive.mount(\"/content/drive\", force_remount=True).\n"
          ]
        }
      ]
    },
    {
      "cell_type": "markdown",
      "source": [
        "load file"
      ],
      "metadata": {
        "id": "776n_LWxG21p"
      }
    },
    {
      "cell_type": "code",
      "source": [
        "notes_name = 'NOTES_NURSING_TRAJECTORIES_sentimentchange_multipleCG_patient_data.csv'\n",
        "df_notes = pd.read_csv(file_path+notes_name)\n",
        "df_notes.info()"
      ],
      "metadata": {
        "id": "x4ec7KtJGLyi"
      },
      "execution_count": null,
      "outputs": []
    },
    {
      "cell_type": "markdown",
      "source": [
        "pre-processing"
      ],
      "metadata": {
        "id": "xOdOqq2VHGsR"
      }
    },
    {
      "cell_type": "code",
      "source": [
        "cgid = 17400\n",
        "df_cg = df_notes[df_notes['CGID']==cgid].drop(['MARITAL_STATUS','EDREGTIME','EDOUTTIME','HAS_CHARTEVENTS_DATA','DEATHTIME'],axis=1)\n",
        "df_cg.info()"
      ],
      "metadata": {
        "id": "mN5VNN7HHIYf"
      },
      "execution_count": null,
      "outputs": []
    },
    {
      "cell_type": "code",
      "source": [
        "df_cg"
      ],
      "metadata": {
        "id": "P_OGLgF6RDP7"
      },
      "execution_count": null,
      "outputs": []
    },
    {
      "cell_type": "code",
      "source": [
        "notes_name = \"NOTES_NURSING_TRAJECTORIES_01.csv\"\n",
        "df_notes_neonat = pd.read_csv(file_path+notes_name)"
      ],
      "metadata": {
        "id": "-uQXh9d4JEE4"
      },
      "execution_count": 8,
      "outputs": []
    },
    {
      "cell_type": "code",
      "source": [
        "model_ckpt = \"sentence-transformers/all-MiniLM-L6-v2\"\n",
        "tokenizer = AutoTokenizer.from_pretrained(model_ckpt)\n",
        "model = AutoModel.from_pretrained(model_ckpt)\n",
        "def create_embeddings(list_of_sentences):  \n",
        "  encoded_input = tokenizer(list_of_sentences, padding=True, truncation=True, return_tensors=\"pt\")\n",
        "  with torch.no_grad():\n",
        "    model_output = model(**encoded_input)\n",
        "  token_embeddings = model_output.last_hidden_state  \n",
        "\n",
        "  def mean_pooling(model_output, attention_mask):\n",
        "    token_embeddings = model_output.last_hidden_state\n",
        "    input_mask_expanded = attention_mask.unsqueeze(-1).expand(token_embeddings.size()).float()\n",
        "    return torch.sum(token_embeddings * input_mask_expanded, 1) / torch.clamp(input_mask_expanded.sum(1), min=1e-9)\n",
        "\n",
        "  # Perform pooling\n",
        "  sentence_embeddings = mean_pooling(model_output, encoded_input['attention_mask'])\n",
        "\n",
        "  # Normalize embeddings\n",
        "  sentence_embeddings = F.normalize(sentence_embeddings, p=2, dim=1)\n",
        "\n",
        "  sentence_embeddings_np = sentence_embeddings.detach().numpy()\n",
        "\n",
        "  return sentence_embeddings_np"
      ],
      "metadata": {
        "id": "ABGWtfASMPKy"
      },
      "execution_count": null,
      "outputs": []
    },
    {
      "cell_type": "code",
      "source": [
        "import json\n"
      ],
      "metadata": {
        "id": "yU5GtQsTSkAQ"
      },
      "execution_count": 14,
      "outputs": []
    },
    {
      "cell_type": "code",
      "source": [
        "sub_dic = {}\n",
        "subid = 7337\n",
        "df_cg['notes_embeddings']=None\n",
        "for subid in df_cg['SUBJECT_ID']:\n",
        "  condition = (df_notes_neonat['CGID'] == cgid) & (df_notes_neonat['SUBJECT_ID'] == subid)\n",
        "  sentences = df_notes_neonat[condition].sort_values(by='CHARTDATE')['TEXT'].tolist()\n",
        "  sub_dic[subid] = sentences"
      ],
      "metadata": {
        "id": "vG8J0rXdw71P"
      },
      "execution_count": 10,
      "outputs": []
    },
    {
      "cell_type": "code",
      "source": [
        "data = []\n",
        "data.extend([create_embeddings(item) for item in sub_dic.values()])"
      ],
      "metadata": {
        "id": "tZZXoEv69f4V"
      },
      "execution_count": 42,
      "outputs": []
    },
    {
      "cell_type": "code",
      "source": [
        "data"
      ],
      "metadata": {
        "id": "ObF7QX8Wu1fE"
      },
      "execution_count": null,
      "outputs": []
    },
    {
      "cell_type": "code",
      "source": [
        "all_embs_data = []\n",
        "for item in data: \n",
        "  for sub_item in item:\n",
        "    all_embs_data.append(sub_item)"
      ],
      "metadata": {
        "id": "Id5opdRcDMPC"
      },
      "execution_count": 12,
      "outputs": []
    },
    {
      "cell_type": "code",
      "source": [
        "def get_embeddings():\n",
        "  pass\n",
        "\n",
        "embeddings = np.array(all_embs_data)\n",
        "embeddings.shape"
      ],
      "metadata": {
        "colab": {
          "base_uri": "https://localhost:8080/"
        },
        "id": "yu2FGlQFFIb2",
        "outputId": "dee617f8-efa3-494b-b34e-f38ed1587c91"
      },
      "execution_count": 13,
      "outputs": [
        {
          "output_type": "execute_result",
          "data": {
            "text/plain": [
              "(88, 384)"
            ]
          },
          "metadata": {},
          "execution_count": 13
        }
      ]
    },
    {
      "cell_type": "code",
      "source": [
        "def get_sentiment():  \n",
        "  clrs = []\n",
        "  sent = []\n",
        "  dat = []\n",
        "  for k, v in sub_dic.items():\n",
        "    sub_row = df_cg[df_cg['SUBJECT_ID']==k]\n",
        "    l = json.loads(df_cg[df_cg['SUBJECT_ID']==k]['attitudes_char'].iloc[0])\n",
        "    for idx,_ in enumerate(v):\n",
        "      clrs.append(k)\n",
        "      dat.append(('ETHNICITY:'+sub_row['ETHNICITY'].values[0],'INSURANCE:'+sub_row['INSURANCE'].values[0], 'INSURANCE:'+sub_row['INSURANCE'].values[0], 'note:'+str(idx+1)+'/'+str(len(v))))\n",
        "    for s in l: \n",
        "      sent.append(s)\n",
        "  return clrs, sent, dat\n",
        "\n",
        "colors, sentiment, features = get_sentiment()  "
      ],
      "metadata": {
        "id": "rekBx6YaHN4U"
      },
      "execution_count": 45,
      "outputs": []
    },
    {
      "cell_type": "code",
      "source": [
        "sent_dic = {-1:70, 0:10, 1:70}"
      ],
      "metadata": {
        "id": "yOPjOFRFWHyT"
      },
      "execution_count": 17,
      "outputs": []
    },
    {
      "cell_type": "code",
      "source": [
        "sent_dic_lab = {-1:'neg', 0:'neu', 1:'pos'}"
      ],
      "metadata": {
        "id": "SRJc_72UMQ9h"
      },
      "execution_count": 18,
      "outputs": []
    },
    {
      "cell_type": "code",
      "source": [
        "from sklearn.manifold import TSNE\n",
        "import plotly.express as px\n",
        "from sklearn.decomposition import PCA\n",
        "\n",
        "# vars:\n",
        "# embeddings needs loop\n",
        "# sentiment needs loop\n",
        "# features needs loop\n",
        "# colors needs loop\n",
        "def plot_data(emb, sent, feats, clrs):\n",
        "\n",
        "  id_dic = {item:idx for idx,item in enumerate(set(clrs))}\n",
        "\n",
        "  reduced_data = PCA(n_components=2).fit_transform(emb)\n",
        "  tsne = TSNE(n_components=2, random_state=0)\n",
        "  projections = tsne.fit_transform(reduced_data)\n",
        "\n",
        "  fig = px.scatter(\n",
        "      projections, x=0,y =1,\n",
        "      size=[sent_dic[item] for item in sent],\n",
        "      color=[id_dic[item] for item in clrs],\n",
        "      hover_name=[\"subject \"+str(id_dic[item]) for item in clrs],\n",
        "      hover_data=[feats,],\n",
        "      symbol = [sent_dic_lab[item] for item in sent], labels={'color':'subject_id', 'symbol': 'sentiment'}\n",
        "  )\n",
        "\n",
        "  fig.update_layout(legend=dict(\n",
        "      yanchor=\"top\",\n",
        "      y=0.99,\n",
        "      xanchor=\"left\",\n",
        "      x=0.01\n",
        "  ))\n",
        "\n",
        "  fig.show()\n",
        "\n",
        "plot_data(embeddings, sentiment, features, colors)"
      ],
      "metadata": {
        "colab": {
          "base_uri": "https://localhost:8080/",
          "height": 542
        },
        "id": "E5z7FN6R8xSe",
        "outputId": "1a39a81e-c41f-4cf7-dd43-88f806e3948a"
      },
      "execution_count": 46,
      "outputs": [
        {
          "output_type": "display_data",
          "data": {
            "text/html": [
              "<html>\n",
              "<head><meta charset=\"utf-8\" /></head>\n",
              "<body>\n",
              "    <div>            <script src=\"https://cdnjs.cloudflare.com/ajax/libs/mathjax/2.7.5/MathJax.js?config=TeX-AMS-MML_SVG\"></script><script type=\"text/javascript\">if (window.MathJax && window.MathJax.Hub && window.MathJax.Hub.Config) {window.MathJax.Hub.Config({SVG: {font: \"STIX-Web\"}});}</script>                <script type=\"text/javascript\">window.PlotlyConfig = {MathJaxConfig: 'local'};</script>\n",
              "        <script src=\"https://cdn.plot.ly/plotly-2.18.2.min.js\"></script>                <div id=\"defafdd5-7d6e-40da-a121-c0f5a4e43ed4\" class=\"plotly-graph-div\" style=\"height:525px; width:100%;\"></div>            <script type=\"text/javascript\">                                    window.PLOTLYENV=window.PLOTLYENV || {};                                    if (document.getElementById(\"defafdd5-7d6e-40da-a121-c0f5a4e43ed4\")) {                    Plotly.newPlot(                        \"defafdd5-7d6e-40da-a121-c0f5a4e43ed4\",                        [{\"customdata\":[[[\"ETHNICITY:WHITE\",\"INSURANCE:Private\",\"INSURANCE:Private\",\"note:1/18\"]],[[\"ETHNICITY:WHITE\",\"INSURANCE:Private\",\"INSURANCE:Private\",\"note:2/18\"]],[[\"ETHNICITY:WHITE\",\"INSURANCE:Private\",\"INSURANCE:Private\",\"note:3/18\"]],[[\"ETHNICITY:WHITE\",\"INSURANCE:Private\",\"INSURANCE:Private\",\"note:4/18\"]],[[\"ETHNICITY:WHITE\",\"INSURANCE:Private\",\"INSURANCE:Private\",\"note:5/18\"]],[[\"ETHNICITY:WHITE\",\"INSURANCE:Private\",\"INSURANCE:Private\",\"note:6/18\"]],[[\"ETHNICITY:WHITE\",\"INSURANCE:Private\",\"INSURANCE:Private\",\"note:7/18\"]],[[\"ETHNICITY:WHITE\",\"INSURANCE:Private\",\"INSURANCE:Private\",\"note:8/18\"]],[[\"ETHNICITY:WHITE\",\"INSURANCE:Private\",\"INSURANCE:Private\",\"note:9/18\"]],[[\"ETHNICITY:WHITE\",\"INSURANCE:Private\",\"INSURANCE:Private\",\"note:12/18\"]],[[\"ETHNICITY:WHITE\",\"INSURANCE:Private\",\"INSURANCE:Private\",\"note:13/18\"]],[[\"ETHNICITY:WHITE\",\"INSURANCE:Private\",\"INSURANCE:Private\",\"note:14/18\"]],[[\"ETHNICITY:WHITE\",\"INSURANCE:Private\",\"INSURANCE:Private\",\"note:15/18\"]],[[\"ETHNICITY:WHITE\",\"INSURANCE:Private\",\"INSURANCE:Private\",\"note:16/18\"]],[[\"ETHNICITY:WHITE\",\"INSURANCE:Private\",\"INSURANCE:Private\",\"note:17/18\"]],[[\"ETHNICITY:WHITE\",\"INSURANCE:Private\",\"INSURANCE:Private\",\"note:18/18\"]],[[\"ETHNICITY:WHITE\",\"INSURANCE:Private\",\"INSURANCE:Private\",\"note:1/18\"]],[[\"ETHNICITY:WHITE\",\"INSURANCE:Private\",\"INSURANCE:Private\",\"note:2/18\"]],[[\"ETHNICITY:WHITE\",\"INSURANCE:Private\",\"INSURANCE:Private\",\"note:3/18\"]],[[\"ETHNICITY:WHITE\",\"INSURANCE:Private\",\"INSURANCE:Private\",\"note:4/18\"]],[[\"ETHNICITY:WHITE\",\"INSURANCE:Private\",\"INSURANCE:Private\",\"note:5/18\"]],[[\"ETHNICITY:WHITE\",\"INSURANCE:Private\",\"INSURANCE:Private\",\"note:6/18\"]],[[\"ETHNICITY:WHITE\",\"INSURANCE:Private\",\"INSURANCE:Private\",\"note:8/18\"]],[[\"ETHNICITY:WHITE\",\"INSURANCE:Private\",\"INSURANCE:Private\",\"note:9/18\"]],[[\"ETHNICITY:WHITE\",\"INSURANCE:Private\",\"INSURANCE:Private\",\"note:10/18\"]],[[\"ETHNICITY:WHITE\",\"INSURANCE:Private\",\"INSURANCE:Private\",\"note:11/18\"]],[[\"ETHNICITY:WHITE\",\"INSURANCE:Private\",\"INSURANCE:Private\",\"note:12/18\"]],[[\"ETHNICITY:WHITE\",\"INSURANCE:Private\",\"INSURANCE:Private\",\"note:13/18\"]],[[\"ETHNICITY:WHITE\",\"INSURANCE:Private\",\"INSURANCE:Private\",\"note:14/18\"]],[[\"ETHNICITY:WHITE\",\"INSURANCE:Private\",\"INSURANCE:Private\",\"note:15/18\"]],[[\"ETHNICITY:WHITE\",\"INSURANCE:Private\",\"INSURANCE:Private\",\"note:16/18\"]],[[\"ETHNICITY:WHITE\",\"INSURANCE:Private\",\"INSURANCE:Private\",\"note:17/18\"]],[[\"ETHNICITY:WHITE\",\"INSURANCE:Private\",\"INSURANCE:Private\",\"note:18/18\"]],[[\"ETHNICITY:WHITE\",\"INSURANCE:Private\",\"INSURANCE:Private\",\"note:1/18\"]],[[\"ETHNICITY:WHITE\",\"INSURANCE:Private\",\"INSURANCE:Private\",\"note:2/18\"]],[[\"ETHNICITY:WHITE\",\"INSURANCE:Private\",\"INSURANCE:Private\",\"note:3/18\"]],[[\"ETHNICITY:WHITE\",\"INSURANCE:Private\",\"INSURANCE:Private\",\"note:4/18\"]],[[\"ETHNICITY:WHITE\",\"INSURANCE:Private\",\"INSURANCE:Private\",\"note:5/18\"]],[[\"ETHNICITY:WHITE\",\"INSURANCE:Private\",\"INSURANCE:Private\",\"note:6/18\"]],[[\"ETHNICITY:WHITE\",\"INSURANCE:Private\",\"INSURANCE:Private\",\"note:7/18\"]],[[\"ETHNICITY:WHITE\",\"INSURANCE:Private\",\"INSURANCE:Private\",\"note:9/18\"]],[[\"ETHNICITY:WHITE\",\"INSURANCE:Private\",\"INSURANCE:Private\",\"note:10/18\"]],[[\"ETHNICITY:WHITE\",\"INSURANCE:Private\",\"INSURANCE:Private\",\"note:11/18\"]],[[\"ETHNICITY:WHITE\",\"INSURANCE:Private\",\"INSURANCE:Private\",\"note:12/18\"]],[[\"ETHNICITY:WHITE\",\"INSURANCE:Private\",\"INSURANCE:Private\",\"note:13/18\"]],[[\"ETHNICITY:WHITE\",\"INSURANCE:Private\",\"INSURANCE:Private\",\"note:14/18\"]],[[\"ETHNICITY:WHITE\",\"INSURANCE:Private\",\"INSURANCE:Private\",\"note:15/18\"]],[[\"ETHNICITY:WHITE\",\"INSURANCE:Private\",\"INSURANCE:Private\",\"note:16/18\"]],[[\"ETHNICITY:WHITE\",\"INSURANCE:Private\",\"INSURANCE:Private\",\"note:17/18\"]],[[\"ETHNICITY:WHITE\",\"INSURANCE:Private\",\"INSURANCE:Private\",\"note:18/18\"]],[[\"ETHNICITY:WHITE\",\"INSURANCE:Private\",\"INSURANCE:Private\",\"note:1/18\"]],[[\"ETHNICITY:WHITE\",\"INSURANCE:Private\",\"INSURANCE:Private\",\"note:2/18\"]],[[\"ETHNICITY:WHITE\",\"INSURANCE:Private\",\"INSURANCE:Private\",\"note:3/18\"]],[[\"ETHNICITY:WHITE\",\"INSURANCE:Private\",\"INSURANCE:Private\",\"note:4/18\"]],[[\"ETHNICITY:WHITE\",\"INSURANCE:Private\",\"INSURANCE:Private\",\"note:5/18\"]],[[\"ETHNICITY:WHITE\",\"INSURANCE:Private\",\"INSURANCE:Private\",\"note:6/18\"]],[[\"ETHNICITY:WHITE\",\"INSURANCE:Private\",\"INSURANCE:Private\",\"note:7/18\"]],[[\"ETHNICITY:WHITE\",\"INSURANCE:Private\",\"INSURANCE:Private\",\"note:8/18\"]],[[\"ETHNICITY:WHITE\",\"INSURANCE:Private\",\"INSURANCE:Private\",\"note:9/18\"]],[[\"ETHNICITY:WHITE\",\"INSURANCE:Private\",\"INSURANCE:Private\",\"note:10/18\"]],[[\"ETHNICITY:WHITE\",\"INSURANCE:Private\",\"INSURANCE:Private\",\"note:11/18\"]],[[\"ETHNICITY:WHITE\",\"INSURANCE:Private\",\"INSURANCE:Private\",\"note:12/18\"]],[[\"ETHNICITY:WHITE\",\"INSURANCE:Private\",\"INSURANCE:Private\",\"note:13/18\"]],[[\"ETHNICITY:WHITE\",\"INSURANCE:Private\",\"INSURANCE:Private\",\"note:14/18\"]],[[\"ETHNICITY:WHITE\",\"INSURANCE:Private\",\"INSURANCE:Private\",\"note:15/18\"]],[[\"ETHNICITY:WHITE\",\"INSURANCE:Private\",\"INSURANCE:Private\",\"note:16/18\"]],[[\"ETHNICITY:WHITE\",\"INSURANCE:Private\",\"INSURANCE:Private\",\"note:18/18\"]],[[\"ETHNICITY:WHITE\",\"INSURANCE:Private\",\"INSURANCE:Private\",\"note:1/9\"]],[[\"ETHNICITY:WHITE\",\"INSURANCE:Private\",\"INSURANCE:Private\",\"note:2/9\"]],[[\"ETHNICITY:WHITE\",\"INSURANCE:Private\",\"INSURANCE:Private\",\"note:3/9\"]],[[\"ETHNICITY:WHITE\",\"INSURANCE:Private\",\"INSURANCE:Private\",\"note:4/9\"]],[[\"ETHNICITY:WHITE\",\"INSURANCE:Private\",\"INSURANCE:Private\",\"note:5/9\"]],[[\"ETHNICITY:WHITE\",\"INSURANCE:Private\",\"INSURANCE:Private\",\"note:6/9\"]],[[\"ETHNICITY:WHITE\",\"INSURANCE:Private\",\"INSURANCE:Private\",\"note:8/9\"]],[[\"ETHNICITY:WHITE\",\"INSURANCE:Private\",\"INSURANCE:Private\",\"note:9/9\"]],[[\"ETHNICITY:UNKNOWN/NOT SPECIFIED\",\"INSURANCE:Medicaid\",\"INSURANCE:Medicaid\",\"note:1/7\"]],[[\"ETHNICITY:UNKNOWN/NOT SPECIFIED\",\"INSURANCE:Medicaid\",\"INSURANCE:Medicaid\",\"note:2/7\"]],[[\"ETHNICITY:UNKNOWN/NOT SPECIFIED\",\"INSURANCE:Medicaid\",\"INSURANCE:Medicaid\",\"note:3/7\"]],[[\"ETHNICITY:UNKNOWN/NOT SPECIFIED\",\"INSURANCE:Medicaid\",\"INSURANCE:Medicaid\",\"note:5/7\"]],[[\"ETHNICITY:UNKNOWN/NOT SPECIFIED\",\"INSURANCE:Medicaid\",\"INSURANCE:Medicaid\",\"note:6/7\"]],[[\"ETHNICITY:UNKNOWN/NOT SPECIFIED\",\"INSURANCE:Medicaid\",\"INSURANCE:Medicaid\",\"note:7/7\"]]],\"hovertemplate\":\"<b>%{hovertext}</b><br><br>sentiment=neu<br>0=%{x}<br>1=%{y}<br>size=%{marker.size}<br>hover_data_0=%{customdata[0]}<br>subject_id=%{marker.color}<extra></extra>\",\"hovertext\":[\"subject 0\",\"subject 0\",\"subject 0\",\"subject 0\",\"subject 0\",\"subject 0\",\"subject 0\",\"subject 0\",\"subject 0\",\"subject 0\",\"subject 0\",\"subject 0\",\"subject 0\",\"subject 0\",\"subject 0\",\"subject 0\",\"subject 1\",\"subject 1\",\"subject 1\",\"subject 1\",\"subject 1\",\"subject 1\",\"subject 1\",\"subject 1\",\"subject 1\",\"subject 1\",\"subject 1\",\"subject 1\",\"subject 1\",\"subject 1\",\"subject 1\",\"subject 1\",\"subject 1\",\"subject 3\",\"subject 3\",\"subject 3\",\"subject 3\",\"subject 3\",\"subject 3\",\"subject 3\",\"subject 3\",\"subject 3\",\"subject 3\",\"subject 3\",\"subject 3\",\"subject 3\",\"subject 3\",\"subject 3\",\"subject 3\",\"subject 3\",\"subject 5\",\"subject 5\",\"subject 5\",\"subject 5\",\"subject 5\",\"subject 5\",\"subject 5\",\"subject 5\",\"subject 5\",\"subject 5\",\"subject 5\",\"subject 5\",\"subject 5\",\"subject 5\",\"subject 5\",\"subject 5\",\"subject 5\",\"subject 2\",\"subject 2\",\"subject 2\",\"subject 2\",\"subject 2\",\"subject 2\",\"subject 2\",\"subject 2\",\"subject 4\",\"subject 4\",\"subject 4\",\"subject 4\",\"subject 4\",\"subject 4\"],\"legendgroup\":\"neu\",\"marker\":{\"color\":[0,0,0,0,0,0,0,0,0,0,0,0,0,0,0,0,1,1,1,1,1,1,1,1,1,1,1,1,1,1,1,1,1,3,3,3,3,3,3,3,3,3,3,3,3,3,3,3,3,3,5,5,5,5,5,5,5,5,5,5,5,5,5,5,5,5,5,2,2,2,2,2,2,2,2,4,4,4,4,4,4],\"coloraxis\":\"coloraxis\",\"size\":[10,10,10,10,10,10,10,10,10,10,10,10,10,10,10,10,10,10,10,10,10,10,10,10,10,10,10,10,10,10,10,10,10,10,10,10,10,10,10,10,10,10,10,10,10,10,10,10,10,10,10,10,10,10,10,10,10,10,10,10,10,10,10,10,10,10,10,10,10,10,10,10,10,10,10,10,10,10,10,10,10],\"sizemode\":\"area\",\"sizeref\":0.175,\"symbol\":\"circle\"},\"mode\":\"markers\",\"name\":\"neu\",\"orientation\":\"v\",\"showlegend\":true,\"x\":[-5.314516544342041,1.9886356592178345,0.0643654316663742,4.159652233123779,-4.396457195281982,-3.294550895690918,-3.3929338455200195,-4.08105993270874,-4.661892890930176,-4.045032501220703,-1.4900672435760498,-0.7544891238212585,0.475350558757782,0.09581225365400314,1.7592418193817139,0.4619732201099396,-4.062467098236084,-4.911959171295166,-1.8300693035125732,-1.1733429431915283,-0.08006562292575836,-2.7392241954803467,-3.096100330352783,1.7533459663391113,1.1262235641479492,-0.8338671922683716,0.49159160256385803,-5.709481239318848,-2.182692050933838,0.903215229511261,-0.11796952039003372,-4.843747138977051,-2.460462808609009,-5.107316493988037,3.933358669281006,1.5112940073013306,4.707701683044434,1.3564776182174683,-0.5696869492530823,3.1354541778564453,3.0983240604400635,4.014543533325195,-5.110053062438965,-2.745432138442993,-0.07169771939516068,2.3461334705352783,-1.1680268049240112,-3.9222264289855957,0.8568548560142517,2.908601999282837,-3.5340945720672607,-1.5947948694229126,-4.120601654052734,-3.022576093673706,0.6144729852676392,1.6213371753692627,1.8542004823684692,3.2992939949035645,3.188882827758789,3.581885814666748,1.8425012826919556,3.5423221588134766,4.783561706542969,2.8585779666900635,3.349688768386841,2.2868752479553223,3.210422992706299,1.311779499053955,3.946213483810425,-0.3560698330402374,-1.0273549556732178,4.617328643798828,5.2199602127075195,4.626591682434082,4.309521675109863,2.3635809421539307,4.145543098449707,2.8060452938079834,-4.838883876800537,2.8788764476776123,2.5159218311309814],\"xaxis\":\"x\",\"y\":[-0.4537847340106964,2.2489054203033447,2.4815196990966797,2.069301128387451,0.306744784116745,1.2688422203063965,2.000823736190796,-0.06479378789663315,0.7070057988166809,1.1708513498306274,2.1998512744903564,2.7640538215637207,2.8715016841888428,-1.995132327079773,-0.9990833401679993,-1.3162810802459717,-3.1771047115325928,-2.4318034648895264,-3.573216199874878,-3.0529046058654785,-3.7480885982513428,-1.7531949281692505,-3.2935235500335693,-4.038661479949951,-4.767553806304932,-4.412598609924316,-4.412296295166016,-1.4679369926452637,-3.485229969024658,-4.171108245849609,-4.455542087554932,-2.6832518577575684,-4.220575332641602,1.7825706005096436,1.0737005472183228,2.3548011779785156,-0.17717239260673523,3.53735613822937,2.3594114780426025,3.203521490097046,-0.2138083428144455,2.7395224571228027,2.2319886684417725,2.4424524307250977,3.0624263286590576,3.8447678089141846,2.621901512145996,1.3055570125579834,4.301558494567871,1.742851734161377,-1.1914933919906616,-2.1668505668640137,-1.8223872184753418,-2.2479608058929443,-1.6968038082122803,-0.0388200506567955,-1.5621267557144165,0.26931166648864746,0.8332036137580872,0.2859136760234833,1.4285988807678223,2.8204214572906494,0.5294383764266968,1.4991456270217896,-2.434544324874878,-0.3634258508682251,-1.6519265174865723,-1.0620590448379517,-2.059128522872925,2.0586678981781006,-0.4601272642612457,-1.0452880859375,-1.8727339506149292,-2.511026620864868,-2.52340030670166,2.597404956817627,-1.260521411895752,-0.8049570322036743,-0.8420751094818115,-2.568089723587036,-1.6361496448516846],\"yaxis\":\"y\",\"type\":\"scatter\"},{\"customdata\":[[[\"ETHNICITY:WHITE\",\"INSURANCE:Private\",\"INSURANCE:Private\",\"note:10/18\"]],[[\"ETHNICITY:WHITE\",\"INSURANCE:Private\",\"INSURANCE:Private\",\"note:11/18\"]]],\"hovertemplate\":\"<b>%{hovertext}</b><br><br>sentiment=pos<br>0=%{x}<br>1=%{y}<br>size=%{marker.size}<br>hover_data_0=%{customdata[0]}<br>subject_id=%{marker.color}<extra></extra>\",\"hovertext\":[\"subject 0\",\"subject 0\"],\"legendgroup\":\"pos\",\"marker\":{\"color\":[0,0],\"coloraxis\":\"coloraxis\",\"size\":[70,70],\"sizemode\":\"area\",\"sizeref\":0.175,\"symbol\":\"diamond\"},\"mode\":\"markers\",\"name\":\"pos\",\"orientation\":\"v\",\"showlegend\":true,\"x\":[-3.403371810913086,-4.391708850860596],\"xaxis\":\"x\",\"y\":[-0.543676495552063,1.7526029348373413],\"yaxis\":\"y\",\"type\":\"scatter\"},{\"customdata\":[[[\"ETHNICITY:WHITE\",\"INSURANCE:Private\",\"INSURANCE:Private\",\"note:7/18\"]],[[\"ETHNICITY:WHITE\",\"INSURANCE:Private\",\"INSURANCE:Private\",\"note:8/18\"]],[[\"ETHNICITY:WHITE\",\"INSURANCE:Private\",\"INSURANCE:Private\",\"note:17/18\"]],[[\"ETHNICITY:WHITE\",\"INSURANCE:Private\",\"INSURANCE:Private\",\"note:7/9\"]],[[\"ETHNICITY:UNKNOWN/NOT SPECIFIED\",\"INSURANCE:Medicaid\",\"INSURANCE:Medicaid\",\"note:4/7\"]]],\"hovertemplate\":\"<b>%{hovertext}</b><br><br>sentiment=neg<br>0=%{x}<br>1=%{y}<br>size=%{marker.size}<br>hover_data_0=%{customdata[0]}<br>subject_id=%{marker.color}<extra></extra>\",\"hovertext\":[\"subject 1\",\"subject 3\",\"subject 5\",\"subject 2\",\"subject 4\"],\"legendgroup\":\"neg\",\"marker\":{\"color\":[1,3,5,2,4],\"coloraxis\":\"coloraxis\",\"size\":[70,70,70,70,70],\"sizemode\":\"area\",\"sizeref\":0.175,\"symbol\":\"square\"},\"mode\":\"markers\",\"name\":\"neg\",\"orientation\":\"v\",\"showlegend\":true,\"x\":[-1.0402294397354126,-0.05460361763834953,-2.297436237335205,4.814569473266602,-5.573112964630127],\"xaxis\":\"x\",\"y\":[-3.6790127754211426,3.648519992828369,-0.4841918647289276,-1.4511325359344482,-2.1307826042175293],\"yaxis\":\"y\",\"type\":\"scatter\"}],                        {\"template\":{\"data\":{\"histogram2dcontour\":[{\"type\":\"histogram2dcontour\",\"colorbar\":{\"outlinewidth\":0,\"ticks\":\"\"},\"colorscale\":[[0.0,\"#0d0887\"],[0.1111111111111111,\"#46039f\"],[0.2222222222222222,\"#7201a8\"],[0.3333333333333333,\"#9c179e\"],[0.4444444444444444,\"#bd3786\"],[0.5555555555555556,\"#d8576b\"],[0.6666666666666666,\"#ed7953\"],[0.7777777777777778,\"#fb9f3a\"],[0.8888888888888888,\"#fdca26\"],[1.0,\"#f0f921\"]]}],\"choropleth\":[{\"type\":\"choropleth\",\"colorbar\":{\"outlinewidth\":0,\"ticks\":\"\"}}],\"histogram2d\":[{\"type\":\"histogram2d\",\"colorbar\":{\"outlinewidth\":0,\"ticks\":\"\"},\"colorscale\":[[0.0,\"#0d0887\"],[0.1111111111111111,\"#46039f\"],[0.2222222222222222,\"#7201a8\"],[0.3333333333333333,\"#9c179e\"],[0.4444444444444444,\"#bd3786\"],[0.5555555555555556,\"#d8576b\"],[0.6666666666666666,\"#ed7953\"],[0.7777777777777778,\"#fb9f3a\"],[0.8888888888888888,\"#fdca26\"],[1.0,\"#f0f921\"]]}],\"heatmap\":[{\"type\":\"heatmap\",\"colorbar\":{\"outlinewidth\":0,\"ticks\":\"\"},\"colorscale\":[[0.0,\"#0d0887\"],[0.1111111111111111,\"#46039f\"],[0.2222222222222222,\"#7201a8\"],[0.3333333333333333,\"#9c179e\"],[0.4444444444444444,\"#bd3786\"],[0.5555555555555556,\"#d8576b\"],[0.6666666666666666,\"#ed7953\"],[0.7777777777777778,\"#fb9f3a\"],[0.8888888888888888,\"#fdca26\"],[1.0,\"#f0f921\"]]}],\"heatmapgl\":[{\"type\":\"heatmapgl\",\"colorbar\":{\"outlinewidth\":0,\"ticks\":\"\"},\"colorscale\":[[0.0,\"#0d0887\"],[0.1111111111111111,\"#46039f\"],[0.2222222222222222,\"#7201a8\"],[0.3333333333333333,\"#9c179e\"],[0.4444444444444444,\"#bd3786\"],[0.5555555555555556,\"#d8576b\"],[0.6666666666666666,\"#ed7953\"],[0.7777777777777778,\"#fb9f3a\"],[0.8888888888888888,\"#fdca26\"],[1.0,\"#f0f921\"]]}],\"contourcarpet\":[{\"type\":\"contourcarpet\",\"colorbar\":{\"outlinewidth\":0,\"ticks\":\"\"}}],\"contour\":[{\"type\":\"contour\",\"colorbar\":{\"outlinewidth\":0,\"ticks\":\"\"},\"colorscale\":[[0.0,\"#0d0887\"],[0.1111111111111111,\"#46039f\"],[0.2222222222222222,\"#7201a8\"],[0.3333333333333333,\"#9c179e\"],[0.4444444444444444,\"#bd3786\"],[0.5555555555555556,\"#d8576b\"],[0.6666666666666666,\"#ed7953\"],[0.7777777777777778,\"#fb9f3a\"],[0.8888888888888888,\"#fdca26\"],[1.0,\"#f0f921\"]]}],\"surface\":[{\"type\":\"surface\",\"colorbar\":{\"outlinewidth\":0,\"ticks\":\"\"},\"colorscale\":[[0.0,\"#0d0887\"],[0.1111111111111111,\"#46039f\"],[0.2222222222222222,\"#7201a8\"],[0.3333333333333333,\"#9c179e\"],[0.4444444444444444,\"#bd3786\"],[0.5555555555555556,\"#d8576b\"],[0.6666666666666666,\"#ed7953\"],[0.7777777777777778,\"#fb9f3a\"],[0.8888888888888888,\"#fdca26\"],[1.0,\"#f0f921\"]]}],\"mesh3d\":[{\"type\":\"mesh3d\",\"colorbar\":{\"outlinewidth\":0,\"ticks\":\"\"}}],\"scatter\":[{\"fillpattern\":{\"fillmode\":\"overlay\",\"size\":10,\"solidity\":0.2},\"type\":\"scatter\"}],\"parcoords\":[{\"type\":\"parcoords\",\"line\":{\"colorbar\":{\"outlinewidth\":0,\"ticks\":\"\"}}}],\"scatterpolargl\":[{\"type\":\"scatterpolargl\",\"marker\":{\"colorbar\":{\"outlinewidth\":0,\"ticks\":\"\"}}}],\"bar\":[{\"error_x\":{\"color\":\"#2a3f5f\"},\"error_y\":{\"color\":\"#2a3f5f\"},\"marker\":{\"line\":{\"color\":\"#E5ECF6\",\"width\":0.5},\"pattern\":{\"fillmode\":\"overlay\",\"size\":10,\"solidity\":0.2}},\"type\":\"bar\"}],\"scattergeo\":[{\"type\":\"scattergeo\",\"marker\":{\"colorbar\":{\"outlinewidth\":0,\"ticks\":\"\"}}}],\"scatterpolar\":[{\"type\":\"scatterpolar\",\"marker\":{\"colorbar\":{\"outlinewidth\":0,\"ticks\":\"\"}}}],\"histogram\":[{\"marker\":{\"pattern\":{\"fillmode\":\"overlay\",\"size\":10,\"solidity\":0.2}},\"type\":\"histogram\"}],\"scattergl\":[{\"type\":\"scattergl\",\"marker\":{\"colorbar\":{\"outlinewidth\":0,\"ticks\":\"\"}}}],\"scatter3d\":[{\"type\":\"scatter3d\",\"line\":{\"colorbar\":{\"outlinewidth\":0,\"ticks\":\"\"}},\"marker\":{\"colorbar\":{\"outlinewidth\":0,\"ticks\":\"\"}}}],\"scattermapbox\":[{\"type\":\"scattermapbox\",\"marker\":{\"colorbar\":{\"outlinewidth\":0,\"ticks\":\"\"}}}],\"scatterternary\":[{\"type\":\"scatterternary\",\"marker\":{\"colorbar\":{\"outlinewidth\":0,\"ticks\":\"\"}}}],\"scattercarpet\":[{\"type\":\"scattercarpet\",\"marker\":{\"colorbar\":{\"outlinewidth\":0,\"ticks\":\"\"}}}],\"carpet\":[{\"aaxis\":{\"endlinecolor\":\"#2a3f5f\",\"gridcolor\":\"white\",\"linecolor\":\"white\",\"minorgridcolor\":\"white\",\"startlinecolor\":\"#2a3f5f\"},\"baxis\":{\"endlinecolor\":\"#2a3f5f\",\"gridcolor\":\"white\",\"linecolor\":\"white\",\"minorgridcolor\":\"white\",\"startlinecolor\":\"#2a3f5f\"},\"type\":\"carpet\"}],\"table\":[{\"cells\":{\"fill\":{\"color\":\"#EBF0F8\"},\"line\":{\"color\":\"white\"}},\"header\":{\"fill\":{\"color\":\"#C8D4E3\"},\"line\":{\"color\":\"white\"}},\"type\":\"table\"}],\"barpolar\":[{\"marker\":{\"line\":{\"color\":\"#E5ECF6\",\"width\":0.5},\"pattern\":{\"fillmode\":\"overlay\",\"size\":10,\"solidity\":0.2}},\"type\":\"barpolar\"}],\"pie\":[{\"automargin\":true,\"type\":\"pie\"}]},\"layout\":{\"autotypenumbers\":\"strict\",\"colorway\":[\"#636efa\",\"#EF553B\",\"#00cc96\",\"#ab63fa\",\"#FFA15A\",\"#19d3f3\",\"#FF6692\",\"#B6E880\",\"#FF97FF\",\"#FECB52\"],\"font\":{\"color\":\"#2a3f5f\"},\"hovermode\":\"closest\",\"hoverlabel\":{\"align\":\"left\"},\"paper_bgcolor\":\"white\",\"plot_bgcolor\":\"#E5ECF6\",\"polar\":{\"bgcolor\":\"#E5ECF6\",\"angularaxis\":{\"gridcolor\":\"white\",\"linecolor\":\"white\",\"ticks\":\"\"},\"radialaxis\":{\"gridcolor\":\"white\",\"linecolor\":\"white\",\"ticks\":\"\"}},\"ternary\":{\"bgcolor\":\"#E5ECF6\",\"aaxis\":{\"gridcolor\":\"white\",\"linecolor\":\"white\",\"ticks\":\"\"},\"baxis\":{\"gridcolor\":\"white\",\"linecolor\":\"white\",\"ticks\":\"\"},\"caxis\":{\"gridcolor\":\"white\",\"linecolor\":\"white\",\"ticks\":\"\"}},\"coloraxis\":{\"colorbar\":{\"outlinewidth\":0,\"ticks\":\"\"}},\"colorscale\":{\"sequential\":[[0.0,\"#0d0887\"],[0.1111111111111111,\"#46039f\"],[0.2222222222222222,\"#7201a8\"],[0.3333333333333333,\"#9c179e\"],[0.4444444444444444,\"#bd3786\"],[0.5555555555555556,\"#d8576b\"],[0.6666666666666666,\"#ed7953\"],[0.7777777777777778,\"#fb9f3a\"],[0.8888888888888888,\"#fdca26\"],[1.0,\"#f0f921\"]],\"sequentialminus\":[[0.0,\"#0d0887\"],[0.1111111111111111,\"#46039f\"],[0.2222222222222222,\"#7201a8\"],[0.3333333333333333,\"#9c179e\"],[0.4444444444444444,\"#bd3786\"],[0.5555555555555556,\"#d8576b\"],[0.6666666666666666,\"#ed7953\"],[0.7777777777777778,\"#fb9f3a\"],[0.8888888888888888,\"#fdca26\"],[1.0,\"#f0f921\"]],\"diverging\":[[0,\"#8e0152\"],[0.1,\"#c51b7d\"],[0.2,\"#de77ae\"],[0.3,\"#f1b6da\"],[0.4,\"#fde0ef\"],[0.5,\"#f7f7f7\"],[0.6,\"#e6f5d0\"],[0.7,\"#b8e186\"],[0.8,\"#7fbc41\"],[0.9,\"#4d9221\"],[1,\"#276419\"]]},\"xaxis\":{\"gridcolor\":\"white\",\"linecolor\":\"white\",\"ticks\":\"\",\"title\":{\"standoff\":15},\"zerolinecolor\":\"white\",\"automargin\":true,\"zerolinewidth\":2},\"yaxis\":{\"gridcolor\":\"white\",\"linecolor\":\"white\",\"ticks\":\"\",\"title\":{\"standoff\":15},\"zerolinecolor\":\"white\",\"automargin\":true,\"zerolinewidth\":2},\"scene\":{\"xaxis\":{\"backgroundcolor\":\"#E5ECF6\",\"gridcolor\":\"white\",\"linecolor\":\"white\",\"showbackground\":true,\"ticks\":\"\",\"zerolinecolor\":\"white\",\"gridwidth\":2},\"yaxis\":{\"backgroundcolor\":\"#E5ECF6\",\"gridcolor\":\"white\",\"linecolor\":\"white\",\"showbackground\":true,\"ticks\":\"\",\"zerolinecolor\":\"white\",\"gridwidth\":2},\"zaxis\":{\"backgroundcolor\":\"#E5ECF6\",\"gridcolor\":\"white\",\"linecolor\":\"white\",\"showbackground\":true,\"ticks\":\"\",\"zerolinecolor\":\"white\",\"gridwidth\":2}},\"shapedefaults\":{\"line\":{\"color\":\"#2a3f5f\"}},\"annotationdefaults\":{\"arrowcolor\":\"#2a3f5f\",\"arrowhead\":0,\"arrowwidth\":1},\"geo\":{\"bgcolor\":\"white\",\"landcolor\":\"#E5ECF6\",\"subunitcolor\":\"white\",\"showland\":true,\"showlakes\":true,\"lakecolor\":\"white\"},\"title\":{\"x\":0.05},\"mapbox\":{\"style\":\"light\"}}},\"xaxis\":{\"anchor\":\"y\",\"domain\":[0.0,1.0],\"title\":{\"text\":\"0\"}},\"yaxis\":{\"anchor\":\"x\",\"domain\":[0.0,1.0],\"title\":{\"text\":\"1\"}},\"coloraxis\":{\"colorbar\":{\"title\":{\"text\":\"subject_id\"}},\"colorscale\":[[0.0,\"#0d0887\"],[0.1111111111111111,\"#46039f\"],[0.2222222222222222,\"#7201a8\"],[0.3333333333333333,\"#9c179e\"],[0.4444444444444444,\"#bd3786\"],[0.5555555555555556,\"#d8576b\"],[0.6666666666666666,\"#ed7953\"],[0.7777777777777778,\"#fb9f3a\"],[0.8888888888888888,\"#fdca26\"],[1.0,\"#f0f921\"]]},\"legend\":{\"title\":{\"text\":\"sentiment\"},\"tracegroupgap\":0,\"itemsizing\":\"constant\",\"yanchor\":\"top\",\"y\":0.99,\"xanchor\":\"left\",\"x\":0.01},\"margin\":{\"t\":60}},                        {\"responsive\": true}                    ).then(function(){\n",
              "                            \n",
              "var gd = document.getElementById('defafdd5-7d6e-40da-a121-c0f5a4e43ed4');\n",
              "var x = new MutationObserver(function (mutations, observer) {{\n",
              "        var display = window.getComputedStyle(gd).display;\n",
              "        if (!display || display === 'none') {{\n",
              "            console.log([gd, 'removed!']);\n",
              "            Plotly.purge(gd);\n",
              "            observer.disconnect();\n",
              "        }}\n",
              "}});\n",
              "\n",
              "// Listen for the removal of the full notebook cells\n",
              "var notebookContainer = gd.closest('#notebook-container');\n",
              "if (notebookContainer) {{\n",
              "    x.observe(notebookContainer, {childList: true});\n",
              "}}\n",
              "\n",
              "// Listen for the clearing of the current output cell\n",
              "var outputEl = gd.closest('.output');\n",
              "if (outputEl) {{\n",
              "    x.observe(outputEl, {childList: true});\n",
              "}}\n",
              "\n",
              "                        })                };                            </script>        </div>\n",
              "</body>\n",
              "</html>"
            ]
          },
          "metadata": {}
        }
      ]
    },
    {
      "cell_type": "code",
      "source": [
        "import matplotlib.pyplot as plt\n",
        "from sklearn.cluster import KMeans\n",
        "from sklearn.decomposition import PCA\n",
        "\n",
        "\n",
        "kmeans = KMeans(init=\"k-means++\", n_clusters=4, n_init=4)\n",
        "kmeans.fit(reduced_data)\n",
        "\n",
        "# Step size of the mesh. Decrease to increase the quality of the VQ.\n",
        "h = 0.02  # point in the mesh [x_min, x_max]x[y_min, y_max].\n",
        "\n",
        "# Plot the decision boundary. For that, we will assign a color to each\n",
        "x_min, x_max = reduced_data[:, 0].min() - 1, reduced_data[:, 0].max() + 1\n",
        "y_min, y_max = reduced_data[:, 1].min() - 1, reduced_data[:, 1].max() + 1\n",
        "xx, yy = np.meshgrid(np.arange(x_min, x_max, h), np.arange(y_min, y_max, h))\n",
        "\n",
        "# Obtain labels for each point in mesh. Use last trained model.\n",
        "Z = kmeans.predict(np.c_[xx.ravel(), yy.ravel()].astype('float32'))\n",
        "\n",
        "# Put the result into a color plot\n",
        "Z = Z.reshape(xx.shape)\n",
        "plt.figure(1)\n",
        "plt.clf()\n",
        "plt.imshow(\n",
        "    Z,\n",
        "    interpolation=\"nearest\",\n",
        "    extent=(xx.min(), xx.max(), yy.min(), yy.max()),\n",
        "    cmap=plt.cm.Paired,\n",
        "    aspect=\"auto\",\n",
        "    origin=\"lower\",\n",
        ")\n",
        "\n",
        "plt.plot(reduced_data[:, 0], reduced_data[:, 1], \"k.\", markersize=5)\n",
        "# Plot the centroids as a white X\n",
        "centroids = kmeans.cluster_centers_\n",
        "plt.scatter(\n",
        "    centroids[:, 0],\n",
        "    centroids[:, 1],\n",
        "    marker=\"x\",\n",
        "    s=169,\n",
        "    linewidths=3,\n",
        "    color=\"w\",\n",
        "    zorder=10,\n",
        ")\n",
        "plt.title(\n",
        "    \"K-means clustering on the digits dataset (PCA-reduced data)\\n\"\n",
        "    \"Centroids are marked with white cross\"\n",
        ")\n",
        "plt.xlim(x_min, x_max)\n",
        "plt.ylim(y_min, y_max)\n",
        "plt.xticks(())\n",
        "plt.yticks(())\n",
        "plt.show()"
      ],
      "metadata": {
        "colab": {
          "base_uri": "https://localhost:8080/",
          "height": 449
        },
        "id": "sTbUVVpV1RhW",
        "outputId": "38f0936c-5035-457e-80c9-2942253cc33a"
      },
      "execution_count": 21,
      "outputs": [
        {
          "output_type": "display_data",
          "data": {
            "text/plain": [
              "<Figure size 640x480 with 1 Axes>"
            ],
            "image/png": "[encoded data removed]"
          },
          "metadata": {}
        }
      ]
    }
  ]
}